{
 "cells": [
  {
   "cell_type": "code",
   "execution_count": 2,
   "id": "1ed10d93-cde5-4e99-8287-162f6655974a",
   "metadata": {},
   "outputs": [],
   "source": [
    "# Standard packages\n",
    "import tempfile\n",
    "import warnings\n",
    "import urllib\n",
    "import shutil\n",
    "import os\n",
    "# Less standard, but still pip- or conda-installable\n",
    "import pandas as pd\n",
    "import numpy as np\n",
    "import matplotlib.pyplot as plt\n",
    "import matplotlib\n",
    "#import rasterio\n",
    "import re\n",
    "import rtree\n",
    "import shapely\n",
    "import pickle\n",
    "import data_eng.az_proc as ap\n",
    "import data_eng.form_calcs as fc\n",
    "\n",
    "#from cartopy import crs\n",
    "import collections\n",
    "import cv2\n",
    "import math\n",
    "from glob import glob\n",
    "from tqdm.notebook import tqdm_notebook"
   ]
  },
  {
   "cell_type": "markdown",
   "id": "ed1e9308-ef3f-42f9-bbbb-a499b202c2bc",
   "metadata": {},
   "source": [
    "# Load Data"
   ]
  },
  {
   "cell_type": "markdown",
   "id": "6769b11f-38a2-48e3-a486-b580a1cf538d",
   "metadata": {},
   "source": [
    "## Tile names and urls for all tiles apart of the dataset (complete array)"
   ]
  },
  {
   "cell_type": "code",
   "execution_count": 4,
   "id": "442f2e6c-54da-4800-97e2-3a52697f41e5",
   "metadata": {
    "jp-MarkdownHeadingCollapsed": true,
    "tags": []
   },
   "outputs": [
    {
     "name": "stdout",
     "output_type": "stream",
     "text": [
      "(2610, 4)\n",
      "unique formatted tile names (2540, 4)\n",
      "unique standard tile names (2439, 4)\n"
     ]
    }
   ],
   "source": [
    "Z:\\verified\\verified_sets\\verify_jaewon_poonacha_cleave_1\\chips_positive_xml"
   ]
  },
  {
   "cell_type": "markdown",
   "id": "9b12c95d-e663-40d7-be70-751cb7bf3e9f",
   "metadata": {
    "tags": []
   },
   "source": [
    "## Option 1. Multiple Tiles Cover Same Area With Different Years\n",
    "Duplicates that cover the same area\n",
    "\n",
    "- the area covers the same space\n",
    "- Taken at different times or by different agencies\n",
    "    - At different angles \n",
    "- tif have different sizes -> The the image chips are not identical "
   ]
  },
  {
   "cell_type": "code",
   "execution_count": 12,
   "id": "2dc1adce-fc45-45ff-9823-98bde4f55f93",
   "metadata": {},
   "outputs": [
    {
     "data": {
      "text/plain": [
       "99"
      ]
     },
     "execution_count": 12,
     "metadata": {},
     "output_type": "execute_result"
    }
   ],
   "source": [
    "u, c = np.unique(downloaded_tiles_info[:,3], return_counts=True)\n",
    "dup = u[c > 1]\n",
    "sum(np.isin(downloaded_tiles_info[:,3],dup))"
   ]
  },
  {
   "cell_type": "code",
   "execution_count": null,
   "id": "0b0f1175-fbc2-4295-8ffd-0497eb9c311f",
   "metadata": {},
   "outputs": [],
   "source": [
    "## Option 2. Multiple Annotaters were allocated the same tile\n",
    "\n",
    "identify tiles that were allocated multiple tiles\n"
   ]
  },
  {
   "cell_type": "code",
   "execution_count": 41,
   "id": "792aa517-9101-4d23-8938-d0f8724649b8",
   "metadata": {},
   "outputs": [],
   "source": [
    "u, i = np.unique(tile_img_annotation_annotator[:,[1,4,5,6,7]],axis=0, return_index=True)\n",
    "tile_img_annotation_annotator = tile_img_annotation_annotator[i,:]"
   ]
  },
  {
   "cell_type": "code",
   "execution_count": 44,
   "id": "5772fa3e-5a40-445c-b1aa-08af6e07f9b2",
   "metadata": {},
   "outputs": [],
   "source": [
    "np.save(\"outputs/tile_img_annotation_annotator.npy\", tile_img_annotation_annotator)\n",
    "\n",
    "column_names = [\"tile_name\", \"chip_name\", \"chip pathway\", \"xml annotation\", \n",
    "                \"annotator - draw\",\"annotator - verify coverage\",\n",
    "                \"annotator - verify quality\", \"annotator - verify classes\"]\n",
    "\n",
    "tile_img_annotation_annotator_df = pd.DataFrame(data = tile_img_annotation_annotator, \n",
    "                                               index = tile_img_annotation_annotator[:,1], \n",
    "                                               columns = column_names)\n",
    "\n",
    "tile_img_annotation_annotator_df.to_csv('outputs/tile_img_annotation_annotator_df.csv')"
   ]
  },
  {
   "cell_type": "code",
   "execution_count": 57,
   "id": "c3df4bb1-b9b8-4c4a-ac35-447fefee833e",
   "metadata": {},
   "outputs": [
    {
     "name": "stdout",
     "output_type": "stream",
     "text": [
      "2136\n",
      "2029\n"
     ]
    },
    {
     "data": {
      "text/plain": [
       "array([], shape=(0, 8), dtype='<U200')"
      ]
     },
     "execution_count": 57,
     "metadata": {},
     "output_type": "execute_result"
    }
   ],
   "source": [
    "#unique tiles and corresponding annotators\n",
    "unique_tiles_annotators = np.unique(tile_img_annotation_annotator[:,[0,4]], axis=0)\n",
    "print(len(unique_tiles_annotators))\n",
    "unique_tiles, c = np.unique(unique_tiles_annotators[:,0], axis=0, return_counts = True)\n",
    "print(len(unique_tiles))\n",
    "duplicate_annotated_tiles = unique_tiles[c > 1]"
   ]
  },
  {
   "cell_type": "code",
   "execution_count": 64,
   "id": "a81e7f9c-4fb5-43d0-b356-72398360710b",
   "metadata": {},
   "outputs": [],
   "source": [
    "sum(np.isin(tile_img_annotation_annotator[:,0],duplicate_annotated_tiles))\n",
    "possible_image_duplicates = tile_img_annotation_annotator[np.isin(tile_img_annotation_annotator[:,0],duplicate_annotated_tiles)]"
   ]
  },
  {
   "cell_type": "code",
   "execution_count": 82,
   "id": "73a22161-74c4-448a-bba6-45e946801da4",
   "metadata": {},
   "outputs": [],
   "source": [
    "len(np.unique(possible_image_duplicates[:,1]))\n",
    "\n",
    "unique_duplicate_images, c = np.unique(possible_image_duplicates[:,1], axis=0, return_counts = True)\n",
    "duplicate_annotated_images = unique_duplicate_images[c > 1]\n",
    "duplicate_annotated_images = tile_img_annotation_annotator[np.isin(tile_img_annotation_annotator[:,1],duplicate_annotated_images)]"
   ]
  },
  {
   "cell_type": "code",
   "execution_count": 96,
   "id": "5f2122d1-8140-4e1e-a83d-2c7939f6f535",
   "metadata": {},
   "outputs": [
    {
     "data": {
      "text/plain": [
       "array([], dtype='<U200')"
      ]
     },
     "execution_count": 96,
     "metadata": {},
     "output_type": "execute_result"
    }
   ],
   "source": [
    "np.unique(duplicate_annotated_images[(duplicate_annotated_images[:,5]=='Cleave') & \\\n",
    "                           (duplicate_annotated_images[:,6]=='Sunny') & \\\n",
    "                           (duplicate_annotated_images[:,7]=='Niculescu')][:,0])"
   ]
  },
  {
   "cell_type": "markdown",
   "id": "f4b12622-b65e-43e8-833f-d28844676cca",
   "metadata": {},
   "source": [
    "## Option 2. Overlaping state tiles\n",
    "Some tiles are included that have the same coverage, same dates, but were duplicated because multiple states border AND the standard tiles are the same\n",
    "identify tiles that were allocated multiple tiles\n",
    "\n",
    "Note: Should be fixed with chip rename"
   ]
  },
  {
   "cell_type": "code",
   "execution_count": null,
   "id": "f3d9b16b-e7b4-4b84-9687-76db11d9c622",
   "metadata": {},
   "outputs": [],
   "source": [
    "u, c = np.unique(tile_names_tile_urls_complete_array_unique_formatted_tile_names[:,2], return_counts = True)\n",
    "dup = u[c > 1]\n",
    "\n",
    "duplicate_standard_tile_names = tile_names_tile_urls_complete_array_unique_formatted_tile_names[np.isin(tile_names_tile_urls_complete_array_unique_formatted_tile_names[:,2],dup)]\n",
    "pd.DataFrame(duplicate_standard_tile_names).to_csv(\"duplicate_standard_tile_names.csv\")"
   ]
  },
  {
   "cell_type": "code",
   "execution_count": null,
   "id": "5ef4edc7-519f-40c8-8528-2240aa2abfca",
   "metadata": {},
   "outputs": [],
   "source": [
    "Duplicate Sizes"
   ]
  },
  {
   "cell_type": "code",
   "execution_count": null,
   "id": "fff49837-7e26-44d7-ac71-91ec69ada1fc",
   "metadata": {},
   "outputs": [],
   "source": [
    "size = os.path.getsize('f:/file.txt')"
   ]
  }
 ],
 "metadata": {
  "kernelspec": {
   "display_name": "Chip Allocate",
   "language": "python",
   "name": "chip_allocate"
  },
  "language_info": {
   "codemirror_mode": {
    "name": "ipython",
    "version": 3
   },
   "file_extension": ".py",
   "mimetype": "text/x-python",
   "name": "python",
   "nbconvert_exporter": "python",
   "pygments_lexer": "ipython3",
   "version": "3.9.7"
  }
 },
 "nbformat": 4,
 "nbformat_minor": 5
}
