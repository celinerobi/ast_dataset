{
 "cells": [
  {
   "cell_type": "code",
   "execution_count": 2,
   "id": "1ed10d93-cde5-4e99-8287-162f6655974a",
   "metadata": {},
   "outputs": [],
   "source": [
    "# Standard packages\n",
    "import tempfile\n",
    "import warnings\n",
    "import urllib\n",
    "import shutil\n",
    "import os\n",
    "# Less standard, but still pip- or conda-installable\n",
    "import pandas as pd\n",
    "import numpy as np\n",
    "import matplotlib.pyplot as plt\n",
    "import matplotlib\n",
    "#import rasterio\n",
    "import re\n",
    "import rtree\n",
    "import shapely\n",
    "import pickle\n",
    "import data_eng.az_proc as ap\n",
    "import data_eng.form_calcs as fc\n",
    "\n",
    "#from cartopy import crs\n",
    "import collections\n",
    "import cv2\n",
    "import math\n",
    "from glob import glob\n",
    "from tqdm.notebook import tqdm_notebook"
   ]
  },
  {
   "cell_type": "markdown",
   "id": "ed1e9308-ef3f-42f9-bbbb-a499b202c2bc",
   "metadata": {},
   "source": [
    "# Load Data"
   ]
  },
  {
   "cell_type": "markdown",
   "id": "6769b11f-38a2-48e3-a486-b580a1cf538d",
   "metadata": {},
   "source": [
    "## Tile names and urls for all tiles apart of the dataset (complete array)"
   ]
  },
  {
   "cell_type": "code",
   "execution_count": 4,
   "id": "442f2e6c-54da-4800-97e2-3a52697f41e5",
   "metadata": {
    "jp-MarkdownHeadingCollapsed": true,
    "tags": []
   },
   "outputs": [
    {
     "name": "stdout",
     "output_type": "stream",
     "text": [
      "(2610, 4)\n",
      "unique formatted tile names (2540, 4)\n",
      "unique standard tile names (2439, 4)\n"
     ]
    }
   ],
   "source": [
    "Z:\\verified\\verified_sets\\verify_jaewon_poonacha_cleave_1\\chips_positive_xml"
   ]
  },
  {
   "cell_type": "markdown",
   "id": "9b12c95d-e663-40d7-be70-751cb7bf3e9f",
   "metadata": {
    "tags": []
   },
   "source": [
    "## Option 1. Multiple Tiles Cover Same Area With Different Years\n",
    "Duplicates that cover the same area\n",
    "\n",
    "- the area covers the same space\n",
    "- Taken at different times or by different agencies\n",
    "    - At different angles \n",
    "- tif have different sizes -> The the image chips are not identical "
   ]
  },
  {
   "cell_type": "code",
   "execution_count": 12,
   "id": "2dc1adce-fc45-45ff-9823-98bde4f55f93",
   "metadata": {},
   "outputs": [
    {
     "data": {
      "text/plain": [
       "99"
      ]
     },
     "execution_count": 12,
     "metadata": {},
     "output_type": "execute_result"
    }
   ],
   "source": [
    "u, c = np.unique(downloaded_tiles_info[:,3], return_counts=True)\n",
    "dup = u[c > 1]\n",
    "sum(np.isin(downloaded_tiles_info[:,3],dup))"
   ]
  },
  {
   "cell_type": "code",
   "execution_count": null,
   "id": "0b0f1175-fbc2-4295-8ffd-0497eb9c311f",
   "metadata": {},
   "outputs": [],
   "source": [
    "## Option 2. Multiple Annotaters were allocated the same tile\n",
    "\n",
    "identify tiles that were allocated multiple tiles\n"
   ]
  },
  {
   "cell_type": "code",
   "execution_count": 41,
   "id": "792aa517-9101-4d23-8938-d0f8724649b8",
   "metadata": {},
   "outputs": [],
   "source": [
    "u, i = np.unique(tile_img_annotation_annotator[:,[1,4,5,6,7]],axis=0, return_index=True)\n",
    "tile_img_annotation_annotator = tile_img_annotation_annotator[i,:]"
   ]
  },
  {
   "cell_type": "code",
   "execution_count": 44,
   "id": "5772fa3e-5a40-445c-b1aa-08af6e07f9b2",
   "metadata": {},
   "outputs": [],
   "source": [
    "np.save(\"outputs/tile_img_annotation_annotator.npy\", tile_img_annotation_annotator)\n",
    "\n",
    "column_names = [\"tile_name\", \"chip_name\", \"chip pathway\", \"xml annotation\", \n",
    "                \"annotator - draw\",\"annotator - verify coverage\",\n",
    "                \"annotator - verify quality\", \"annotator - verify classes\"]\n",
    "\n",
    "tile_img_annotation_annotator_df = pd.DataFrame(data = tile_img_annotation_annotator, \n",
    "                                               index = tile_img_annotation_annotator[:,1], \n",
    "                                               columns = column_names)\n",
    "\n",
    "tile_img_annotation_annotator_df.to_csv('outputs/tile_img_annotation_annotator_df.csv')"
   ]
  },
  {
   "cell_type": "code",
   "execution_count": 57,
   "id": "c3df4bb1-b9b8-4c4a-ac35-447fefee833e",
   "metadata": {},
   "outputs": [
    {
     "name": "stdout",
     "output_type": "stream",
     "text": [
      "2136\n",
      "2029\n"
     ]
    },
    {
     "data": {
      "text/plain": [
       "array([], shape=(0, 8), dtype='<U200')"
      ]
     },
     "execution_count": 57,
     "metadata": {},
     "output_type": "execute_result"
    }
   ],
   "source": [
    "#unique tiles and corresponding annotators\n",
    "unique_tiles_annotators = np.unique(tile_img_annotation_annotator[:,[0,4]], axis=0)\n",
    "print(len(unique_tiles_annotators))\n",
    "unique_tiles, c = np.unique(unique_tiles_annotators[:,0], axis=0, return_counts = True)\n",
    "print(len(unique_tiles))\n",
    "duplicate_annotated_tiles = unique_tiles[c > 1]"
   ]
  },
  {
   "cell_type": "code",
   "execution_count": 64,
   "id": "a81e7f9c-4fb5-43d0-b356-72398360710b",
   "metadata": {},
   "outputs": [],
   "source": [
    "sum(np.isin(tile_img_annotation_annotator[:,0],duplicate_annotated_tiles))\n",
    "possible_image_duplicates = tile_img_annotation_annotator[np.isin(tile_img_annotation_annotator[:,0],duplicate_annotated_tiles)]"
   ]
  },
  {
   "cell_type": "code",
   "execution_count": 82,
   "id": "73a22161-74c4-448a-bba6-45e946801da4",
   "metadata": {},
   "outputs": [],
   "source": [
    "len(np.unique(possible_image_duplicates[:,1]))\n",
    "\n",
    "unique_duplicate_images, c = np.unique(possible_image_duplicates[:,1], axis=0, return_counts = True)\n",
    "duplicate_annotated_images = unique_duplicate_images[c > 1]\n",
    "duplicate_annotated_images = tile_img_annotation_annotator[np.isin(tile_img_annotation_annotator[:,1],duplicate_annotated_images)]"
   ]
  },
  {
   "cell_type": "code",
   "execution_count": 96,
   "id": "5f2122d1-8140-4e1e-a83d-2c7939f6f535",
   "metadata": {},
   "outputs": [
    {
     "data": {
      "text/plain": [
       "array([], dtype='<U200')"
      ]
     },
     "execution_count": 96,
     "metadata": {},
     "output_type": "execute_result"
    }
   ],
   "source": [
    "np.unique(duplicate_annotated_images[(duplicate_annotated_images[:,5]=='Cleave') & \\\n",
    "                           (duplicate_annotated_images[:,6]=='Sunny') & \\\n",
    "                           (duplicate_annotated_images[:,7]=='Niculescu')][:,0])"
   ]
  },
  {
   "cell_type": "markdown",
   "id": "f4b12622-b65e-43e8-833f-d28844676cca",
   "metadata": {},
   "source": [
    "## Option 2. Overlaping state tiles\n",
    "Some tiles are included that have the same coverage, same dates, but were duplicated because multiple states border AND the standard tiles are the same\n",
    "identify tiles that were allocated multiple tiles\n",
    "\n",
    "Note: Should be fixed with chip rename"
   ]
  },
  {
   "cell_type": "code",
   "execution_count": null,
   "id": "f3d9b16b-e7b4-4b84-9687-76db11d9c622",
   "metadata": {},
   "outputs": [],
   "source": [
    "u, c = np.unique(tile_names_tile_urls_complete_array_unique_formatted_tile_names[:,2], return_counts = True)\n",
    "dup = u[c > 1]\n",
    "\n",
    "duplicate_standard_tile_names = tile_names_tile_urls_complete_array_unique_formatted_tile_names[np.isin(tile_names_tile_urls_complete_array_unique_formatted_tile_names[:,2],dup)]\n",
    "pd.DataFrame(duplicate_standard_tile_names).to_csv(\"duplicate_standard_tile_names.csv\")"
   ]
  },
  {
   "cell_type": "code",
   "execution_count": null,
   "id": "d9998f3e-0083-481f-b99b-84ab58745589",
   "metadata": {},
   "outputs": [],
   "source": [
    "## Other Attempts"
   ]
  },
  {
   "cell_type": "markdown",
   "id": "3dfe6e20-38d8-4f41-bdf8-cb7c147802d8",
   "metadata": {},
   "source": [
    "http://www.learningaboutelectronics.com/Articles/How-to-match-an-image-embedded-in-another-image-Python-OpenCV.php\n",
    "https://www.quora.com/What-algorithms-can-detect-if-two-images-objects-are-similar-or-not\n",
    "https://docs.opencv.org/2.4/modules/nonfree/doc/feature_detection.html?highlight=surf#feature-detection-and-description\n",
    "https://docs.opencv.org/3.4/da/df5/tutorial_py_sift_intro.html\n",
    "https://docs.opencv.org/3.4/dc/dc3/tutorial_py_matcher.html\n",
    "https://docs.opencv.org/4.x/dc/dc3/tutorial_py_matcher.html\n",
    "https://www.analyticsvidhya.com/blog/2019/08/3-techniques-extract-features-from-image-data-machine-learning-python/"
   ]
  },
  {
   "cell_type": "markdown",
   "id": "9095d538-a38c-4126-ad2d-7e8d6e77d57a",
   "metadata": {},
   "source": [
    "Duplicate Sizes to identify duplicate images"
   ]
  },
  {
   "cell_type": "code",
   "execution_count": null,
   "id": "fff49837-7e26-44d7-ac71-91ec69ada1fc",
   "metadata": {},
   "outputs": [],
   "source": [
    "size = os.path.getsize('f:/file.txt')"
   ]
  },
  {
   "cell_type": "code",
   "execution_count": 26,
   "id": "438d9f5a-a084-4e8b-a8c8-4dcf2cb2e419",
   "metadata": {},
   "outputs": [],
   "source": [
    "gray= cv2.cvtColor(img,cv2.COLOR_BGR2GRAY)\n",
    "sift = cv2.SIFT_create()\n",
    "kp = sift.detect(gray,None)\n",
    "img=cv2.drawKeypoints(gray,kp,img)\n",
    "#cv.imwrite('sift_keypoints.jpg',img)"
   ]
  },
  {
   "cell_type": "code",
   "execution_count": null,
   "id": "bbcd89b0-2af1-4d98-91b0-f96cbd929386",
   "metadata": {},
   "outputs": [],
   "source": [
    "(score, diff) = compare_ssim(gray_image, gray_tile)\n",
    "diff = (diff * 255).astype(\"uint8\")"
   ]
  },
  {
   "cell_type": "code",
   "execution_count": null,
   "id": "52435b9f-1a3a-4442-a466-5c863eae3528",
   "metadata": {},
   "outputs": [],
   "source": [
    "import cv2\n",
    "img1 = cv2.imread('/content/det1.jpg', 0)\n",
    "img2 = cv2.imread('/content/88.jpg', 0)\n",
    "orb = cv2.ORB_create(nfeatures=500)\n",
    "kp1, des1 = orb.detectAndCompute(img1, None)\n",
    "kp2, des2 = orb.detectAndCompute(img2, None)\n",
    "bf = cv2.BFMatcher(cv2.NORM_HAMMING, crossCheck=True)\n",
    "matches = bf.match(des1, des2)\n",
    "matches = sorted(matches, key=lambda x: x.distance)\n",
    "match_img = cv2.drawMatches(img1, kp1, img2, kp2, matches[:50], None)\n",
    "cv2.imshow('original image', img1)\n",
    "cv2.imshow('test image', img2)\n",
    "cv2.imshow('Matches', match_img)\n",
    "cv2.waitKey()"
   ]
  },
  {
   "cell_type": "code",
   "execution_count": 58,
   "id": "6731e638-2517-41dc-b027-60115538fece",
   "metadata": {},
   "outputs": [],
   "source": [
    "image1 = cv2.imread(os.path.join(parent_directory,\n",
    "                \"unverified_images\\student_reviewed_unverified_images_set1\\Alex\\student_reviewed_images1\\chips_positive\",\n",
    "                \"al_60cm_2019_30088_m_3008808_sw_16_060_20191115_000126.jpg\"),cv2.IMREAD_GRAYSCALE) # queryImage (img1)\n",
    "image2 = cv2.imread(os.path.join(parent_directory,\n",
    "                \"unverified_images\\student_reviewed_unverified_images_set1\\Alex\\student_reviewed_images1\\chips_positive\",\n",
    "                \"al_60cm_2019_30088_m_3008808_sw_16_060_20191115_000444.jpg\"),cv2.IMREAD_GRAYSCALE) # queryImage (img1)\n",
    "#tile = cv2.imread('box_in_scene.png',gray_image) # trainImage(tile2)\n",
    "\n",
    "# Initiate SIFT detector\n",
    "sift = cv2.SIFT_create()\n",
    "\n",
    "# find the keypoints and descriptors with SIFT\n",
    "kp_image1, des_image1 = sift.detectAndCompute(image1, None)\n",
    "kp_image2, des_image2 = sift.detectAndCompute(image2, None)"
   ]
  },
  {
   "cell_type": "code",
   "execution_count": 59,
   "id": "409b3cc7-aecf-4b3e-9a40-e4b467d6bae6",
   "metadata": {},
   "outputs": [],
   "source": [
    "# BFMatcher with default params\n",
    "bf = cv2.BFMatcher()\n",
    "matches = bf.knnMatch(des_image1, des_image2,k=2)\n",
    "#bf = cv2.BFMatcher(cv2.NORM_HAMMING, crossCheck=True)\n",
    "matches = bf.match(des_image, des_tile)\n",
    "\n",
    "matches = sorted(matches, key=lambda x: x.distance)\n",
    "# Apply ratio test\n",
    "good = []\n",
    "for m,n in matches:\n",
    "    if m.distance < 0.75*n.distance:\n",
    "        good.append([m])\n",
    "# cv.drawMatchesKnn expects list of lists as matches.\n",
    "img3 = cv.drawMatchesKnn(des_image1, kp_image1, des_image2, kp_image1, good, None,flags=cv.DrawMatchesFlags_NOT_DRAW_SINGLE_POINTS)\n",
    "plt.imshow(img3)\n",
    "plt.show()"
   ]
  },
  {
   "cell_type": "code",
   "execution_count": 65,
   "id": "f5e94b10-9747-4c20-9d92-882ea17c669c",
   "metadata": {},
   "outputs": [
    {
     "name": "stderr",
     "output_type": "stream",
     "text": [
      "100%|██████████| 2690/2690 [01:20<00:00, 33.24it/s]\n"
     ]
    }
   ],
   "source": [
    "incorrect_labeled_chip_names_by_subfolder = pd.read_csv(\"incorrect_labeled_chip_names_by_subfolder.csv\")\n",
    "incorrect_labeled_chip_image_array = np.zeros((len(incorrect_labeled_chip_names_by_subfolder),512,512, 3), dtype='uint8')\n",
    "for num in tqdm.tqdm(range(len(incorrect_labeled_chip_names_by_subfolder))):    \n",
    "    labeled_chip_array = cv2.imread(incorrect_labeled_chip_names_by_subfolder[\"incorrect_chip_paths\"][num])  #open image\n",
    "    incorrect_labeled_chip_image_array[num,:,:,:] = labeled_chip_array\n",
    "\n",
    "\n",
    "### convert to incorrect_labeled_chip_image_array to gray scale\n",
    "gray_incorrect_labeled_chip_image_array = np.empty((len(incorrect_labeled_chip_image_array), 512, 512),dtype='uint8')\n",
    "\n",
    "for num in range(len(incorrect_labeled_chip_image_array)):\n",
    "    gray_incorrect_labeled_chip_image_array[num,:,:]  = cv2.cvtColor(incorrect_labeled_chip_image_array[num,:,:,:],\n",
    "                                                                     cv2.COLOR_BGR2GRAY)\n",
    "    \n",
    "gray_incorrect_labeled_chip_image_unique_array, gray_incorrect_labeled_chip_image_unique_indices = np.unique(gray_incorrect_labeled_chip_image_array, axis = 0, return_index=True)"
   ]
  },
  {
   "cell_type": "code",
   "execution_count": 80,
   "id": "ccee998c-a6a9-4a18-a81c-7b31b18925a4",
   "metadata": {},
   "outputs": [],
   "source": [
    "means = np.mean(gray_incorrect_labeled_chip_image_unique_array,axis=(1,2))"
   ]
  },
  {
   "cell_type": "code",
   "execution_count": null,
   "id": "31a88faf-4d8d-4b19-8896-aa331b8b95af",
   "metadata": {},
   "outputs": [],
   "source": [
    "# Weird things "
   ]
  },
  {
   "cell_type": "code",
   "execution_count": null,
   "id": "02ca9d82-6853-45f0-aebb-17c93f65f9df",
   "metadata": {},
   "outputs": [],
   "source": [
    "chips_positive_path = \"C:/chip_allocation/complete_dataset/chips_positive\"\n",
    "unique_chips_positive_path = \"C:/chip_allocation/complete_dataset/unique_chips_positive\"\n",
    "dups_chips_positive_path = \"C:/chip_allocation/complete_dataset/dups_chips_positive\"\n",
    "\n",
    "images, imgsr, imgsg, imgsb = fc.positive_images_to_array(chips_positive_path)\n",
    "unique_imgsr, duplicate_imgsr =fc.unique_by_first_dimension(imgsr, images)\n",
    "unique_imgsg, duplicate_imgsg = fc.unique_by_first_dimension(imgsg, images)\n",
    "unique_imgsb, duplicate_imgsb = fc.unique_by_first_dimension(imgsb, images)\n",
    "unique_images = fc.intersection_of_sets(unique_imgsr, unique_imgsg, unique_imgsb)\n",
    "duplicate_images = fc.intersection_of_sets(duplicate_imgsr, duplicate_imgsg, duplicate_imgsb)   "
   ]
  },
  {
   "cell_type": "code",
   "execution_count": null,
   "id": "04affce5-bca8-4880-98b9-9aa8f9f9399b",
   "metadata": {},
   "outputs": [],
   "source": [
    "fc.directory_tile_names(os.path.join(parent_directory,\"unverified_images/student_reviewed_unverified_images_set1/Qianyu/chips_positive\"),\n",
    "                       'Qianyu 1 tile names')\n",
    "\n",
    "fc.directory_tile_names(\"C:/chip_allocation/complete_dataset/dups_chips_positive\",\n",
    "                        'dup tile names')\n",
    "\n",
    "fc.identify_all_paths_to_duplicate_images(parent_directory, duplicate_images)\n",
    "\n",
    "pd.DataFrame(fc.sorted_list_of_files(dups_chips_positive_path), columns = ['chip_names']).to_csv('dups_chips_positive_path.csv') "
   ]
  },
  {
   "cell_type": "code",
   "execution_count": 70,
   "id": "c4f0f3b5-59bd-42b9-a558-5716b34c53b4",
   "metadata": {},
   "outputs": [],
   "source": [
    "for folder in folders:\n",
    "    fc.remove_thumbs(folder)\n",
    "    for jpg in os.listdir(folder):\n",
    "        temp_jpg = os.path.splitext(jpg)[0].rsplit(\"_\",1)[0]\n",
    "        chip_number = os.path.splitext(jpg)[0].rsplit(\"_\",1)[1]\n",
    "        if (temp_jpg == \"la_60cm_2019_29093_m_2909310_sw_15_060_20190726\") & (jpg in duplicate_images):\n",
    "            #pa_60cm_2019_39075_m_3907508_nw_18_060_20191015\n",
    "            old_tile_path = os.path.join(folder, jpg)\n",
    "            new_tile_path = os.path.join(folder, \"pa_60cm_2019_39075_m_3907508_nw_18_060_20191015_\" + chip_number+\".jpg\")\n",
    "            #la_60cm_2019_29093_m_2909310_sw_15_060_20190726\n",
    "            \n",
    "            if not os.path.exists(new_tile_path): \n",
    "                os.rename(old_tile_path, new_tile_path)\n",
    "            if os.path.exists(new_tile_path) and os.path.exists(old_tile_path): #If the new tile path already exists, delete the old tile path (if it still exists)\n",
    "                shutil.move(old_tile_path,\n",
    "                            \"//oit-nas-fe13dc.oit.duke.edu//data_commons-borsuk//duplicate_move/chips_positive/\"+\"pa_60cm_2019_39075_m_3907508_nw_18_060_20191015_\" + chip_number+\".jpg\")"
   ]
  },
  {
   "cell_type": "code",
   "execution_count": 5,
   "id": "3d82eae5-461a-4ead-9780-6bd6b431fa88",
   "metadata": {},
   "outputs": [
    {
     "name": "stdout",
     "output_type": "stream",
     "text": [
      "co_60cm_2019_39104_m_3910410_se_13_060_20190912\n"
     ]
    },
    {
     "ename": "NameError",
     "evalue": "name 'duplicate_images' is not defined",
     "output_type": "error",
     "traceback": [
      "\u001b[1;31m---------------------------------------------------------------------------\u001b[0m",
      "\u001b[1;31mNameError\u001b[0m                                 Traceback (most recent call last)",
      "\u001b[1;32mC:\\Users\\RAPIDU~1\\AppData\\Local\\Temp/ipykernel_6940/1574502203.py\u001b[0m in \u001b[0;36m<module>\u001b[1;34m\u001b[0m\n\u001b[0;32m      6\u001b[0m         \u001b[0mprint\u001b[0m\u001b[1;33m(\u001b[0m\u001b[0mtemp_xml\u001b[0m\u001b[1;33m)\u001b[0m\u001b[1;33m\u001b[0m\u001b[1;33m\u001b[0m\u001b[0m\n\u001b[0;32m      7\u001b[0m         \u001b[0mchip_number\u001b[0m \u001b[1;33m=\u001b[0m \u001b[0mos\u001b[0m\u001b[1;33m.\u001b[0m\u001b[0mpath\u001b[0m\u001b[1;33m.\u001b[0m\u001b[0msplitext\u001b[0m\u001b[1;33m(\u001b[0m\u001b[0mxml\u001b[0m\u001b[1;33m)\u001b[0m\u001b[1;33m[\u001b[0m\u001b[1;36m0\u001b[0m\u001b[1;33m]\u001b[0m\u001b[1;33m.\u001b[0m\u001b[0mrsplit\u001b[0m\u001b[1;33m(\u001b[0m\u001b[1;34m\"_\"\u001b[0m\u001b[1;33m,\u001b[0m\u001b[1;36m1\u001b[0m\u001b[1;33m)\u001b[0m\u001b[1;33m[\u001b[0m\u001b[1;36m1\u001b[0m\u001b[1;33m]\u001b[0m\u001b[1;33m\u001b[0m\u001b[1;33m\u001b[0m\u001b[0m\n\u001b[1;32m----> 8\u001b[1;33m         \u001b[1;32mif\u001b[0m \u001b[1;33m(\u001b[0m\u001b[0mtemp_xml\u001b[0m \u001b[1;33m==\u001b[0m \u001b[1;34m\"la_60cm_2019_29093_m_2909310_sw_15_060_20190726\"\u001b[0m\u001b[1;33m)\u001b[0m \u001b[1;33m&\u001b[0m \u001b[1;33m(\u001b[0m\u001b[0mxml\u001b[0m \u001b[1;32min\u001b[0m \u001b[0mduplicate_images\u001b[0m\u001b[1;33m)\u001b[0m\u001b[1;33m:\u001b[0m\u001b[1;33m\u001b[0m\u001b[1;33m\u001b[0m\u001b[0m\n\u001b[0m\u001b[0;32m      9\u001b[0m             \u001b[1;31m#pa_60cm_2019_39075_m_3907508_nw_18_060_20191015\u001b[0m\u001b[1;33m\u001b[0m\u001b[1;33m\u001b[0m\u001b[0m\n\u001b[0;32m     10\u001b[0m             \u001b[0mold_tile_path\u001b[0m \u001b[1;33m=\u001b[0m \u001b[0mos\u001b[0m\u001b[1;33m.\u001b[0m\u001b[0mpath\u001b[0m\u001b[1;33m.\u001b[0m\u001b[0mjoin\u001b[0m\u001b[1;33m(\u001b[0m\u001b[0mfolder\u001b[0m\u001b[1;33m,\u001b[0m \u001b[0mxml\u001b[0m\u001b[1;33m)\u001b[0m\u001b[1;33m\u001b[0m\u001b[1;33m\u001b[0m\u001b[0m\n",
      "\u001b[1;31mNameError\u001b[0m: name 'duplicate_images' is not defined"
     ]
    }
   ],
   "source": [
    "folders = [  \"//oit-nas-fe13dc.oit.duke.edu//data_commons-borsuk//unverified_images/student_reviewed_unverified_images_set1/complete_dataset/chips_positive_xml\",\n",
    "             \"//oit-nas-fe13dc.oit.duke.edu//data_commons-borsuk//unverified_images/student_reviewed_unverified_images_set1/Qianyu/chips_positive_xml\"]\n",
    "for folder in folders:\n",
    "    for xml in os.listdir(folder):\n",
    "        temp_xml = os.path.splitext(xml)[0].rsplit(\"_\",1)[0]\n",
    "        print(temp_xml)\n",
    "        chip_number = os.path.splitext(xml)[0].rsplit(\"_\",1)[1]\n",
    "        if (temp_xml == \"la_60cm_2019_29093_m_2909310_sw_15_060_20190726\") & (xml in duplicate_images):\n",
    "            #pa_60cm_2019_39075_m_3907508_nw_18_060_20191015\n",
    "            old_tile_path = os.path.join(folder, xml)\n",
    "            new_tile_path = os.path.join(folder, \"pa_60cm_2019_39075_m_3907508_nw_18_060_20191015_\" + chip_number+\".xml\")\n",
    "            #la_60cm_2019_29093_m_2909310_sw_15_060_20190726\n",
    "            \n",
    "            #if not os.path.exists(new_tile_path): \n",
    "                #os.rename(old_tile_path, new_tile_path)\n",
    "            #if os.path.exists(new_tile_path) and os.path.exists(old_tile_path): #If the new tile path already exists, delete the old tile path (if it still exists)\n",
    "                #shutil.move(old_tile_path_xml,\n",
    "                #            \"//oit-nas-fe13dc.oit.duke.edu//data_commons-borsuk//duplicate_move/chips_positive_xml/\"+\"pa_60cm_2019_39075_m_3907508_nw_18_060_20191015_\" + chip_number+\".xml\")"
   ]
  }
 ],
 "metadata": {
  "kernelspec": {
   "display_name": "Chip Allocate",
   "language": "python",
   "name": "chip_allocate"
  },
  "language_info": {
   "codemirror_mode": {
    "name": "ipython",
    "version": 3
   },
   "file_extension": ".py",
   "mimetype": "text/x-python",
   "name": "python",
   "nbconvert_exporter": "python",
   "pygments_lexer": "ipython3",
   "version": "3.9.7"
  }
 },
 "nbformat": 4,
 "nbformat_minor": 5
}
