{
 "cells": [
  {
   "cell_type": "code",
   "execution_count": 4,
   "id": "2db3efc0-67b7-4305-9b5b-45bc1cf1f33a",
   "metadata": {},
   "outputs": [],
   "source": [
    "import numpy as np\n",
    "import pandas as pd\n",
    "import os\n",
    "import os.path\n",
    "import urllib.request\n",
    "import progressbar # pip install progressbar2, not progressbar\n",
    "\n",
    "import os\n",
    "import shutil\n",
    "\n",
    "import tempfile\n",
    "import urllib\n",
    "import shutil\n",
    "import os\n",
    "import os.path\n",
    "import argparse\n",
    "\n",
    "import PIL\n",
    "from PIL import Image\n",
    "\n",
    "import math\n",
    "import numpy as np\n",
    "import pandas as pd\n",
    "import rtree\n",
    "import pickle\n",
    "\n",
    "import progressbar # pip install progressbar2, not progressbar\n",
    "\n",
    "from geopy.geocoders import Nominatim\n",
    "\n",
    "from contextlib import suppress\n",
    "\n",
    "import sys\n",
    "import matplotlib\n",
    "import matplotlib.pyplot as plt\n",
    "from matplotlib.patches import ConnectionPatch\n",
    "\n",
    "import warnings\n",
    "from zipfile import ZipFile\n",
    "\n",
    "import data_eng.az_proc as ap"
   ]
  },
  {
   "cell_type": "code",
   "execution_count": 2,
   "id": "8e6e16de-7f65-4dff-96d2-704fc16a63f7",
   "metadata": {},
   "outputs": [],
   "source": [
    "annotation_directory = \"unverified_images_not_reviewed_by_student10_Sunny\" \n",
    "parent_directory = \"C:\\Temp\""
   ]
  },
  {
   "cell_type": "code",
   "execution_count": 5,
   "id": "ded49366-aada-469a-9f9d-37aba97be36e",
   "metadata": {},
   "outputs": [
    {
     "name": "stdout",
     "output_type": "stream",
     "text": [
      "C:\\Temp/unverified_images_not_reviewed_by_student10_Sunny\\chips_positive\n",
      "it ran\n",
      "it finished\n",
      "it ran\n",
      "it finished\n"
     ]
    }
   ],
   "source": [
    "dist = ap.annotator(annotation_directory)\n",
    "dist.state_dcc_directory(parent_directory)\n",
    "dist.make_subdirectories()\n",
    "\n",
    "#check if positive directory is created)\n",
    "print(dist.chips_positive_dir)\n",
    "\n",
    "#seperate out positive and negative images\n",
    "dist.copy_positive_images()\n",
    "dist.copy_negative_images()\n"
   ]
  },
  {
   "cell_type": "code",
   "execution_count": 19,
   "id": "87a1d9d2-a18f-4d3b-b441-87f742836b28",
   "metadata": {},
   "outputs": [],
   "source": [
    "os.listdir(dist.chips_xml_dir)\n",
    "annotation_filenames = []\n",
    "images_moved = []\n",
    "images_not_moved = []\n",
    "all_image_filenames = []\n",
    "    \n",
    "for image in os.listdir(dist.chips_dir):\n",
    "    image_filename = os.path.splitext(image)[0]\n",
    "    all_image_filenames.append(image_filename)\n",
    "    \n",
    "for annotation in os.listdir(dist.chips_xml_dir): #iterate through the annotations\n",
    "    annotation_filename = os.path.splitext(annotation)[0]\n",
    "    annotation_filenames.append(annotation_filename)\n",
    "    \n",
    "    if annotation_filename in all_image_filenames:\n",
    "        images_moved.append(annotation_filename)\n",
    "    else:\n",
    "        images_not_moved.append(image_filename)\n",
    "        \n",
    "        #if image_filename == annotation_filename: \n",
    "        #    images_moved.append(image_filename)\n",
    "        #    os.remove(os.path.join(self.chips_negative_dir, image)) #delete positive images according to the .xml\n"
   ]
  },
  {
   "cell_type": "code",
   "execution_count": 21,
   "id": "987b9719-fd61-409e-9b4c-6056dc8f5aa7",
   "metadata": {},
   "outputs": [
    {
     "data": {
      "text/plain": [
       "171"
      ]
     },
     "execution_count": 21,
     "metadata": {},
     "output_type": "execute_result"
    }
   ],
   "source": [
    "len(images_moved)"
   ]
  },
  {
   "cell_type": "code",
   "execution_count": 23,
   "id": "70df0aaa-7802-4cf2-bd0f-65b2a62b80b9",
   "metadata": {},
   "outputs": [
    {
     "data": {
      "text/plain": [
       "['ut_060cm_2018_40109_m_4010961_se_12_060_20180913_000456',\n",
       " 'ut_060cm_2018_40109_m_4010961_se_12_060_20180913_000456',\n",
       " 'ut_060cm_2018_40109_m_4010961_se_12_060_20180913_000456',\n",
       " 'ut_060cm_2018_40109_m_4010961_se_12_060_20180913_000456',\n",
       " 'ut_060cm_2018_40109_m_4010961_se_12_060_20180913_000456',\n",
       " 'ut_060cm_2018_40109_m_4010961_se_12_060_20180913_000456',\n",
       " 'ut_060cm_2018_40109_m_4010961_se_12_060_20180913_000456',\n",
       " 'ut_060cm_2018_40109_m_4010961_se_12_060_20180913_000456',\n",
       " 'ut_060cm_2018_40109_m_4010961_se_12_060_20180913_000456',\n",
       " 'ut_060cm_2018_40109_m_4010961_se_12_060_20180913_000456',\n",
       " 'ut_060cm_2018_40109_m_4010961_se_12_060_20180913_000456',\n",
       " 'ut_060cm_2018_40109_m_4010961_se_12_060_20180913_000456',\n",
       " 'ut_060cm_2018_40109_m_4010961_se_12_060_20180913_000456',\n",
       " 'ut_060cm_2018_40109_m_4010961_se_12_060_20180913_000456',\n",
       " 'ut_060cm_2018_40109_m_4010961_se_12_060_20180913_000456',\n",
       " 'ut_060cm_2018_40109_m_4010961_se_12_060_20180913_000456',\n",
       " 'ut_060cm_2018_40109_m_4010961_se_12_060_20180913_000456',\n",
       " 'ut_060cm_2018_40109_m_4010961_se_12_060_20180913_000456',\n",
       " 'ut_060cm_2018_40109_m_4010961_se_12_060_20180913_000456',\n",
       " 'ut_060cm_2018_40109_m_4010961_se_12_060_20180913_000456',\n",
       " 'ut_060cm_2018_40109_m_4010961_se_12_060_20180913_000456',\n",
       " 'ut_060cm_2018_40109_m_4010961_se_12_060_20180913_000456',\n",
       " 'ut_060cm_2018_40109_m_4010961_se_12_060_20180913_000456',\n",
       " 'ut_060cm_2018_40109_m_4010961_se_12_060_20180913_000456',\n",
       " 'ut_060cm_2018_40109_m_4010961_se_12_060_20180913_000456',\n",
       " 'ut_060cm_2018_40109_m_4010961_se_12_060_20180913_000456',\n",
       " 'ut_060cm_2018_40109_m_4010961_se_12_060_20180913_000456',\n",
       " 'ut_060cm_2018_40109_m_4010961_se_12_060_20180913_000456',\n",
       " 'ut_060cm_2018_40109_m_4010961_se_12_060_20180913_000456',\n",
       " 'ut_060cm_2018_40109_m_4010961_se_12_060_20180913_000456',\n",
       " 'ut_060cm_2018_40109_m_4010961_se_12_060_20180913_000456',\n",
       " 'ut_060cm_2018_40109_m_4010961_se_12_060_20180913_000456',\n",
       " 'ut_060cm_2018_40109_m_4010961_se_12_060_20180913_000456',\n",
       " 'ut_060cm_2018_40109_m_4010961_se_12_060_20180913_000456',\n",
       " 'ut_060cm_2018_40109_m_4010961_se_12_060_20180913_000456',\n",
       " 'ut_060cm_2018_40109_m_4010961_se_12_060_20180913_000456',\n",
       " 'ut_060cm_2018_40109_m_4010961_se_12_060_20180913_000456',\n",
       " 'ut_060cm_2018_40109_m_4010961_se_12_060_20180913_000456',\n",
       " 'ut_060cm_2018_40109_m_4010961_se_12_060_20180913_000456',\n",
       " 'ut_060cm_2018_40109_m_4010961_se_12_060_20180913_000456',\n",
       " 'ut_060cm_2018_40109_m_4010961_se_12_060_20180913_000456',\n",
       " 'ut_060cm_2018_40109_m_4010961_se_12_060_20180913_000456',\n",
       " 'ut_060cm_2018_40109_m_4010961_se_12_060_20180913_000456',\n",
       " 'ut_060cm_2018_40109_m_4010961_se_12_060_20180913_000456',\n",
       " 'ut_060cm_2018_40109_m_4010961_se_12_060_20180913_000456',\n",
       " 'ut_060cm_2018_40109_m_4010961_se_12_060_20180913_000456',\n",
       " 'ut_060cm_2018_40109_m_4010961_se_12_060_20180913_000456',\n",
       " 'ut_060cm_2018_40109_m_4010961_se_12_060_20180913_000456',\n",
       " 'ut_060cm_2018_40109_m_4010961_se_12_060_20180913_000456',\n",
       " 'ut_060cm_2018_40109_m_4010961_se_12_060_20180913_000456',\n",
       " 'ut_060cm_2018_40109_m_4010961_se_12_060_20180913_000456',\n",
       " 'ut_060cm_2018_40109_m_4010961_se_12_060_20180913_000456',\n",
       " 'ut_060cm_2018_40109_m_4010961_se_12_060_20180913_000456',\n",
       " 'ut_060cm_2018_40109_m_4010961_se_12_060_20180913_000456',\n",
       " 'ut_060cm_2018_40109_m_4010961_se_12_060_20180913_000456',\n",
       " 'ut_060cm_2018_40109_m_4010961_se_12_060_20180913_000456',\n",
       " 'ut_060cm_2018_40109_m_4010961_se_12_060_20180913_000456',\n",
       " 'ut_060cm_2018_40109_m_4010961_se_12_060_20180913_000456',\n",
       " 'ut_060cm_2018_40109_m_4010961_se_12_060_20180913_000456',\n",
       " 'ut_060cm_2018_40109_m_4010961_se_12_060_20180913_000456',\n",
       " 'ut_060cm_2018_40109_m_4010961_se_12_060_20180913_000456',\n",
       " 'ut_060cm_2018_40109_m_4010961_se_12_060_20180913_000456',\n",
       " 'ut_060cm_2018_40109_m_4010961_se_12_060_20180913_000456',\n",
       " 'ut_060cm_2018_40109_m_4010961_se_12_060_20180913_000456',\n",
       " 'ut_060cm_2018_40109_m_4010961_se_12_060_20180913_000456',\n",
       " 'ut_060cm_2018_40109_m_4010961_se_12_060_20180913_000456',\n",
       " 'ut_060cm_2018_40109_m_4010961_se_12_060_20180913_000456',\n",
       " 'ut_060cm_2018_40109_m_4010961_se_12_060_20180913_000456',\n",
       " 'ut_060cm_2018_40109_m_4010961_se_12_060_20180913_000456',\n",
       " 'ut_060cm_2018_40109_m_4010961_se_12_060_20180913_000456',\n",
       " 'ut_060cm_2018_40109_m_4010961_se_12_060_20180913_000456',\n",
       " 'ut_060cm_2018_40109_m_4010961_se_12_060_20180913_000456',\n",
       " 'ut_060cm_2018_40109_m_4010961_se_12_060_20180913_000456',\n",
       " 'ut_060cm_2018_40109_m_4010961_se_12_060_20180913_000456',\n",
       " 'ut_060cm_2018_40109_m_4010961_se_12_060_20180913_000456',\n",
       " 'ut_060cm_2018_40109_m_4010961_se_12_060_20180913_000456',\n",
       " 'ut_060cm_2018_40109_m_4010961_se_12_060_20180913_000456',\n",
       " 'ut_060cm_2018_40109_m_4010961_se_12_060_20180913_000456',\n",
       " 'ut_060cm_2018_40109_m_4010961_se_12_060_20180913_000456',\n",
       " 'ut_060cm_2018_40109_m_4010961_se_12_060_20180913_000456',\n",
       " 'ut_060cm_2018_40109_m_4010961_se_12_060_20180913_000456',\n",
       " 'ut_060cm_2018_40109_m_4010961_se_12_060_20180913_000456',\n",
       " 'ut_060cm_2018_40109_m_4010961_se_12_060_20180913_000456',\n",
       " 'ut_060cm_2018_40109_m_4010961_se_12_060_20180913_000456',\n",
       " 'ut_060cm_2018_40109_m_4010961_se_12_060_20180913_000456',\n",
       " 'ut_060cm_2018_40109_m_4010961_se_12_060_20180913_000456',\n",
       " 'ut_060cm_2018_40109_m_4010961_se_12_060_20180913_000456',\n",
       " 'ut_060cm_2018_40109_m_4010961_se_12_060_20180913_000456']"
      ]
     },
     "execution_count": 23,
     "metadata": {},
     "output_type": "execute_result"
    }
   ],
   "source": [
    "images_not_moved"
   ]
  }
 ],
 "metadata": {
  "kernelspec": {
   "display_name": "Python 3",
   "language": "python",
   "name": "python3"
  },
  "language_info": {
   "codemirror_mode": {
    "name": "ipython",
    "version": 3
   },
   "file_extension": ".py",
   "mimetype": "text/x-python",
   "name": "python",
   "nbconvert_exporter": "python",
   "pygments_lexer": "ipython3",
   "version": "3.8.8"
  }
 },
 "nbformat": 4,
 "nbformat_minor": 5
}
