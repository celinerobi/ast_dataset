{
 "cells": [
  {
   "cell_type": "code",
   "execution_count": 2,
   "id": "1ed10d93-cde5-4e99-8287-162f6655974a",
   "metadata": {},
   "outputs": [],
   "source": [
    "# Standard packages\n",
    "import tempfile\n",
    "import warnings\n",
    "import urllib\n",
    "import shutil\n",
    "import os\n",
    "# Less standard, but still pip- or conda-installable\n",
    "import pandas as pd\n",
    "import numpy as np\n",
    "import matplotlib.pyplot as plt\n",
    "import matplotlib\n",
    "#import rasterio\n",
    "import re\n",
    "import rtree\n",
    "import shapely\n",
    "import pickle\n",
    "import data_eng.az_proc as ap\n",
    "import data_eng.form_calcs as fc\n",
    "\n",
    "#from cartopy import crs\n",
    "import collections\n",
    "import cv2\n",
    "import math\n",
    "from glob import glob\n",
    "from tqdm.notebook import tqdm_notebook"
   ]
  },
  {
   "cell_type": "markdown",
   "id": "ed1e9308-ef3f-42f9-bbbb-a499b202c2bc",
   "metadata": {},
   "source": [
    "# Load Data"
   ]
  },
  {
   "cell_type": "code",
   "execution_count": 3,
   "id": "98e40c5e-45c7-4cc4-bced-8cfe3cb89cd8",
   "metadata": {},
   "outputs": [],
   "source": [
    "parent_directory = \"//oit-nas-fe13dc.oit.duke.edu//data_commons-borsuk//\"\n",
    "\n",
    "tile_names_tile_urls_complete_array = np.load(\"image_download_azure/tile_name_tile_url_complete_array.npy\")\n",
    "\n",
    "tiles_labeled = \"tile_name_tile_url_labeled.npy\"\n",
    "tiles_labeled_from_complete_set = np.load(tiles_labeled)\n",
    "\n",
    "tracker_file_path = 'outputs/tile_img_annotation_annotator.npy'\n",
    "tile_img_annotation = np.load(tracker_file_path)\n",
    "\n",
    "tiles_errors = 'tile_name_tile_url_error_downloading.npy'\n",
    "tiles_errors = np.load(tiles_errors)\n",
    "\n",
    "#create folder to hold tiles in completed dataset\n",
    "path_to_complete_dataset = \"verified/complete_dataset\"\n",
    "path_to_tiles_folder_complete_dataset = os.path.join(parent_directory, path_to_complete_dataset,\"tiles\")\n",
    "path_positive_images_complete_dataset = os.path.join(parent_directory, path_to_complete_dataset,\"chips_positive\")\n",
    "path_to_verified_sets = os.path.join(parent_directory, path_to_complete_dataset,\"verified//verified_sets\")"
   ]
  },
  {
   "cell_type": "markdown",
   "id": "6769b11f-38a2-48e3-a486-b580a1cf538d",
   "metadata": {},
   "source": [
    "## Tile names and urls for all tiles apart of the dataset (complete array)"
   ]
  },
  {
   "cell_type": "code",
   "execution_count": 4,
   "id": "442f2e6c-54da-4800-97e2-3a52697f41e5",
   "metadata": {
    "jp-MarkdownHeadingCollapsed": true,
    "tags": []
   },
   "outputs": [
    {
     "name": "stdout",
     "output_type": "stream",
     "text": [
      "(2610, 4)\n",
      "unique formatted tile names (2540, 4)\n",
      "unique standard tile names (2439, 4)\n"
     ]
    }
   ],
   "source": [
    "tile_names_tile_urls_complete_array = fc.add_formatted_and_standard_tile_names_to_tile_names_time_urls(tile_names_tile_urls_complete_array)\n",
    "print(tile_names_tile_urls_complete_array.shape)\n",
    "\n",
    "tile_names_tile_urls_complete_array_unique_standard_tile_names, tile_names_tile_urls_complete_array_unique_formatted_tile_names = fc.unique_formatted_standard_tile_names(tile_names_tile_urls_complete_array)\n",
    "#Save unique standard tile names\n",
    "np.save(\"tile_names_tile_urls_complete_array_unique_standard_tile_names.npy\", tile_names_tile_urls_complete_array_unique_standard_tile_names)\n",
    "#pd.DataFrame(np.load(\"image_download_azure/tile_name_tile_url_complete_array.npy\")).to_csv(\"image_download_azure/tile_name_tile_url_complete_array.csv\")"
   ]
  },
  {
   "cell_type": "code",
   "execution_count": 5,
   "id": "738f0cb2-ba41-4613-a7c0-e761265fde5e",
   "metadata": {},
   "outputs": [
    {
     "name": "stdout",
     "output_type": "stream",
     "text": [
      "2293088\n"
     ]
    }
   ],
   "source": [
    "#The file paths of .jpgs in the entire storage space\n",
    "parent_directory = \"//oit-nas-fe13dc.oit.duke.edu//data_commons-borsuk//\"\n",
    "\n",
    "path_storage_space = os.path.join(parent_directory)\n",
    "jpgs_storage_space = glob(path_storage_space + \"/**/*.jpg\", recursive = True)\n",
    "print(len(jpgs_storage_space))\n",
    "\n",
    "tile_names_tile_urls_complete_array_unique_standard_tile_names = np.load(\"tile_names_tile_urls_complete_array_unique_standard_tile_names.npy\")\n",
    "\n",
    "#The file names (with and without extensions) for all jpgs in the storage space \n",
    "#jpgs_ext, jpgs_without_ext = fc.jpg_path_to_jpg_name_formatted(jpgs_storage_space)"
   ]
  },
  {
   "cell_type": "code",
   "execution_count": 6,
   "id": "56556396-ec20-4351-87e6-cd9eb7a64fd7",
   "metadata": {
    "tags": []
   },
   "outputs": [],
   "source": [
    "#Determine the corresponding tile names (formatted) for given paths of jpgs \n",
    "tile_names_formatted_storage_space = fc.jpg_path_to_tile_name_formatted(jpgs_storage_space)\n",
    "tile_names_formatted_storage_space = np.unique(tile_names_formatted_storage_space)\n",
    "tile_names_formatted_storage_space.shape\n",
    "\n",
    "#Deteremine the tile names (standard) for given paths of jpgs \n",
    "tile_names_standard_storage_space = []\n",
    "for tile_name_formatted_storage_space in tile_names_formatted_storage_space:\n",
    "    tile_names_standard_storage_space.append(tile_name_formatted_storage_space.split(\"_\",4)[4])\n",
    "    \n",
    "#Create a 2d array of the standard and formatted tile names of the jpgs given\n",
    "tile_names_in_storage_space_standard_formatted = np.hstack((np.array(tile_names_standard_storage_space)[:,None], tile_names_formatted_storage_space[:,None]))"
   ]
  },
  {
   "cell_type": "code",
   "execution_count": 4,
   "id": "425468f7-9b2e-4cf5-85c0-6830207ca1ac",
   "metadata": {},
   "outputs": [
    {
     "name": "stdout",
     "output_type": "stream",
     "text": [
      "0 2437 0\n"
     ]
    }
   ],
   "source": [
    "counter_0 = 0\n",
    "counter_1 = 0\n",
    "counter_gr1 = 0\n",
    "for tile_name_standard in tile_names_in_storage_space_standard_formatted[:,0]: #iterate over the tiles that have actually been annotated\n",
    "    strings_with_substring = [string for string in tile_names_tile_urls_complete_array_unique_standard_tile_names[:,2] if tile_name_standard in string] #check if a given tile is in the complete_array \n",
    "    if len(strings_with_substring) == 0:\n",
    "        counter_0 += 1\n",
    "        print(tile_name_standard)\n",
    "    if len(strings_with_substring) == 1:\n",
    "        counter_1 += 1\n",
    "    if len(strings_with_substring) > 1:\n",
    "        counter_gr1 += 1\n",
    "print(counter_0, counter_1, counter_gr1)"
   ]
  },
  {
   "cell_type": "code",
   "execution_count": 5,
   "id": "d7cb59d8-0759-4a6b-85fb-833eebe35479",
   "metadata": {},
   "outputs": [
    {
     "name": "stdout",
     "output_type": "stream",
     "text": [
      "48 2345 46\n"
     ]
    }
   ],
   "source": [
    "# Check which standard tile names that could be included in the dataset are missing + which tiles have been annotated in duplicate\n",
    "counter_0 = 0\n",
    "counter_1 = 0\n",
    "counter_gr1 = 0\n",
    "unlabeled_array = []\n",
    "duplicated_standard_tile_names = []\n",
    "for tile_name_standard_complete_array in tile_names_tile_urls_complete_array_unique_standard_tile_names: #iterate over the tiles that are meant to be in full set\n",
    "    standard_tile_names = [string for string in tile_names_in_storage_space_standard_formatted[:,0] if tile_name_standard_complete_array[2][0:27] in string] #check if a given tile has been annotated\n",
    "    if len(standard_tile_names) == 0:\n",
    "        counter_0 += 1\n",
    "        unlabeled_array.append(tile_name_standard_complete_array)\n",
    "    if len(standard_tile_names) == 1:\n",
    "        counter_1 += 1\n",
    "    if len(standard_tile_names) > 1:\n",
    "        counter_gr1 += 1\n",
    "        duplicated_standard_tile_names.append(tile_name_standard_complete_array)\n",
    "print(counter_0, counter_1, counter_gr1)\n",
    "unlabeled_array = np.array(unlabeled_array)\n",
    "\n",
    "for tile in tile_names_to_download:\n",
    "\n",
    "    ### download the tiles if they are not in the tiles folder \n",
    "    tile_name = tile.split(\"_\",4)[4] #+ \".tif\" #get the name of the tile that is to be downloaded\n",
    "    #check if the tile name is contained in the string of complete arrays\n",
    "    tile_name = [string for string in tile_names_tile_urls_complete_array[:,0] if tile_name in string]          \n",
    "    if len(tile_name) == 1: #A single tile name # get tile url from the first (only) entry\n",
    "        tile_url = tile_names_tile_urls_complete_array[tile_names_tile_urls_complete_array[:,0]==tile_name[0]][0][1] \n",
    "    elif len(np.unique(tile_name)) > 1: # Multiple (different tiles) possibly the same tiles in different states, possible different years\n",
    "        tile_url = tile_names_tile_urls_complete_array[tile_names_tile_urls_complete_array[:,0]==tile_name[0]][0][1]# get tile url\n",
    "    elif (len(tile_name) > 1): #Multiple different tile names that are the same, probably different naip storage locations\n",
    "        # get tile url from the second entry \n",
    "        tile_url = tile_names_tile_urls_complete_array[tile_names_tile_urls_complete_array[:,0]==tile_name[1]][1][1]\n",
    "        \n",
    "# Check whether unlabeled tiles are known to contain errors \n",
    "counter_0 = 0\n",
    "counter_geq1 = 0\n",
    "unlabeled_array_no_known_errors = []\n",
    "\n",
    "for tile_name in unlabeled_array: #iterate over the tiles that are meant to be in full set\n",
    "    standard_tile_names_included_in_error_array = [string for string in tiles_errors[:,0] if tile_name[2][0:27] in string] #check if a given tile has been annotated\n",
    "    if len(standard_tile_names_included_in_error_array) == 0:\n",
    "        counter_0 += 1\n",
    "        unlabeled_array_no_known_errors.append(tile_name)\n",
    "        \n",
    "    if len(standard_tile_names_included_in_error_array) >= 1:\n",
    "        counter_geq1 += 1\n",
    "print(counter_0, counter_geq1)\n",
    "\n",
    "unlabeled_array_no_known_errors = np.array(unlabeled_array_no_known_errors)\n",
    "np.save(\"unlabeled_tile_names_tile_urls.npy\", unlabeled_array_no_known_errors[:,[0,1]])"
   ]
  },
  {
   "cell_type": "code",
   "execution_count": null,
   "id": "4f7124a5-0237-4568-819a-3b585458ba39",
   "metadata": {},
   "outputs": [],
   "source": [
    "\"\"\"\n",
    "# Determine which tiles included in the complete dataset array have not been labeled (tile names formatted)\n",
    "counter_0 = 0\n",
    "counter_1 = 0\n",
    "counter_gr1 = 0\n",
    "for tile_names_formatted in tile_names_in_storage_space_standard_formatted[:,1]: #iterate over the tiles that have actually been annotated\n",
    "    strings_with_substring = [string for string in tile_names_tile_urls_complete_array_unique_formatted_tile_names[:,3] if tile_names_formatted in string] #check if a given tile is in the complete_array \n",
    "    if len(strings_with_substring) == 0:\n",
    "        counter_0 += 1\n",
    "    if len(strings_with_substring) == 1:\n",
    "        counter_1 += 1\n",
    "    if len(strings_with_substring) > 1:\n",
    "        counter_gr1 += 1\n",
    "print(counter_0, counter_1, counter_gr1)\n",
    "\n",
    "# Check which formatted tile names that could be included in the dataset are missing\n",
    "counter_0 = 0\n",
    "counter_1 = 0\n",
    "counter_gr1 = 0\n",
    "for tile_name_formatted_complete_array in tile_names_tile_urls_complete_array_unique_formatted_tile_names: #iterate over the tiles that are meant to be in full set\n",
    "    unlabeled = [string for string in tile_names_in_storage_space_standard_formatted[:,1] if tile_name_formatted_complete_array[3][0:46] in string] #check if a given tile has been annotated\n",
    "    if len(unlabeled) == 0:\n",
    "        counter_0 += 1\n",
    "    if len(unlabeled) == 1:\n",
    "        counter_1 += 1\n",
    "    if len(unlabeled) > 1:\n",
    "        counter_gr1 += 1\n",
    "print(counter_0, counter_1, counter_gr1)\n",
    "\"\"\"\n",
    "# Determine which tiles included in the complete dataset array have not been labeled (standard naming convention)\n",
    "## Use this to determine which tiles have not been annotated"
   ]
  },
  {
   "cell_type": "markdown",
   "id": "69de3e53-dcd8-4219-9a2c-241055be0e0d",
   "metadata": {},
   "source": [
    "# Determine the pixel location of the image within the tile"
   ]
  },
  {
   "cell_type": "code",
   "execution_count": null,
   "id": "9142f570-7ddc-4a99-9d7c-8927b8fd6ea2",
   "metadata": {},
   "outputs": [],
   "source": [
    "counter_correct_name = 0\n",
    "counter_incorrect_name = 0\n",
    "for jpg in jpgs_without_ext:\n",
    "    jpg_name_in_image_characteristics = [string for string in image_characteristics['six_digit_chip_name'] if jpg in string] #check if a given tile is in the complete_array \n",
    "    if len(jpg_name_in_image_characteristics) >= 1:\n",
    "        counter_correct_name += 1\n",
    "    else:\n",
    "        counter_incorrect_name += 1"
   ]
  },
  {
   "cell_type": "code",
   "execution_count": null,
   "id": "0e796207-bdc0-41c2-bdf4-0f1ef905056e",
   "metadata": {},
   "outputs": [],
   "source": [
    "#Identify folders containing positive images"
   ]
  },
  {
   "cell_type": "code",
   "execution_count": 7,
   "id": "ed91edba-f666-4f93-95a9-67b87650e286",
   "metadata": {},
   "outputs": [
    {
     "name": "stdout",
     "output_type": "stream",
     "text": [
      "(23441, 2)\n"
     ]
    },
    {
     "data": {
      "text/plain": [
       "array([['al_60cm_2019_30088_m_3008808_sw_16_060_20191115_000126.jpg',\n",
       "        '//oit-nas-fe13dc.oit.duke.edu//data_commons-borsuk//complete_dataset\\\\chips_positive\\\\al_60cm_2019_30088_m_3008808_sw_16_060_20191115_000126.jpg'],\n",
       "       ['al_60cm_2019_30088_m_3008808_sw_16_060_20191115_000444.jpg',\n",
       "        '//oit-nas-fe13dc.oit.duke.edu//data_commons-borsuk//complete_dataset\\\\chips_positive\\\\al_60cm_2019_30088_m_3008808_sw_16_060_20191115_000444.jpg'],\n",
       "       ['al_60cm_2019_30088_m_3008816_se_16_060_20191115_000051.jpg',\n",
       "        '//oit-nas-fe13dc.oit.duke.edu//data_commons-borsuk//complete_dataset\\\\chips_positive\\\\al_60cm_2019_30088_m_3008816_se_16_060_20191115_000051.jpg'],\n",
       "       ...,\n",
       "       ['wy_60cm_2019_44107_m_4410749_se_13_060_20190828_000460.jpg',\n",
       "        '//oit-nas-fe13dc.oit.duke.edu//data_commons-borsuk//complete_dataset\\\\chips_positive\\\\wy_60cm_2019_44107_m_4410749_se_13_060_20190828_000460.jpg'],\n",
       "       ['wy_60cm_2019_44108_m_4410801_ne_12_060_20190821_000041.jpg',\n",
       "        '//oit-nas-fe13dc.oit.duke.edu//data_commons-borsuk//complete_dataset\\\\chips_positive\\\\wy_60cm_2019_44108_m_4410801_ne_12_060_20190821_000041.jpg'],\n",
       "       ['wy_60cm_2019_44108_m_4410801_ne_12_060_20190821_000066.jpg',\n",
       "        '//oit-nas-fe13dc.oit.duke.edu//data_commons-borsuk//complete_dataset\\\\chips_positive\\\\wy_60cm_2019_44108_m_4410801_ne_12_060_20190821_000066.jpg']],\n",
       "      dtype='<U260')"
      ]
     },
     "execution_count": 7,
     "metadata": {},
     "output_type": "execute_result"
    }
   ],
   "source": [
    "fc.unique_positive_jpgs_from_parent_directory(parent_directory)"
   ]
  }
 ],
 "metadata": {
  "kernelspec": {
   "display_name": "Chip Allocate",
   "language": "python",
   "name": "chip_allocate"
  },
  "language_info": {
   "codemirror_mode": {
    "name": "ipython",
    "version": 3
   },
   "file_extension": ".py",
   "mimetype": "text/x-python",
   "name": "python",
   "nbconvert_exporter": "python",
   "pygments_lexer": "ipython3",
   "version": "3.9.7"
  }
 },
 "nbformat": 4,
 "nbformat_minor": 5
}
