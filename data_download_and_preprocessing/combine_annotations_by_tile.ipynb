{
 "cells": [
  {
   "cell_type": "code",
   "execution_count": 1,
   "id": "1ed10d93-cde5-4e99-8287-162f6655974a",
   "metadata": {},
   "outputs": [],
   "source": [
    "# Standard packages\n",
    "import tempfile\n",
    "import warnings\n",
    "import urllib\n",
    "import shutil\n",
    "import os\n",
    "# Less standard, but still pip- or conda-installable\n",
    "import pandas as pd\n",
    "import numpy as np\n",
    "import matplotlib.pyplot as plt\n",
    "import matplotlib\n",
    "#import rasterio\n",
    "import re\n",
    "import rtree\n",
    "import shapely\n",
    "import pickle\n",
    "import data_eng.az_proc as ap\n",
    "#from cartopy import crs\n",
    "import collections\n",
    "import cv2\n",
    "import math"
   ]
  },
  {
   "cell_type": "markdown",
   "id": "2b226ed3-e7dd-4205-8435-6f0d83bd2897",
   "metadata": {},
   "source": [
    "# Confirm Tiles Are Downloads (Or Download Tiles)"
   ]
  },
  {
   "cell_type": "code",
   "execution_count": 2,
   "id": "00416af1-adac-4872-a5cd-4b22d64a8f0f",
   "metadata": {},
   "outputs": [
    {
     "ename": "NameError",
     "evalue": "name 'sub_directories' is not defined",
     "output_type": "error",
     "traceback": [
      "\u001b[1;31m---------------------------------------------------------------------------\u001b[0m",
      "\u001b[1;31mNameError\u001b[0m                                 Traceback (most recent call last)",
      "\u001b[1;32mC:\\Users\\RAPIDU~1\\AppData\\Local\\Temp/ipykernel_6828/3206087846.py\u001b[0m in \u001b[0;36m<module>\u001b[1;34m\u001b[0m\n\u001b[1;32m----> 1\u001b[1;33m \u001b[0msub_directories\u001b[0m\u001b[1;33m\u001b[0m\u001b[1;33m\u001b[0m\u001b[0m\n\u001b[0m\u001b[0;32m      2\u001b[0m \u001b[0mimg_annotation_path\u001b[0m\u001b[1;33m\u001b[0m\u001b[1;33m\u001b[0m\u001b[0m\n\u001b[0;32m      3\u001b[0m \u001b[1;33m\u001b[0m\u001b[0m\n\u001b[0;32m      4\u001b[0m \u001b[1;31m#Identify the tiles that the images come from\u001b[0m\u001b[1;33m\u001b[0m\u001b[1;33m\u001b[0m\u001b[0m\n\u001b[0;32m      5\u001b[0m \u001b[0mtile_id\u001b[0m \u001b[1;33m=\u001b[0m \u001b[1;33m[\u001b[0m\u001b[1;33m]\u001b[0m\u001b[1;33m\u001b[0m\u001b[1;33m\u001b[0m\u001b[0m\n",
      "\u001b[1;31mNameError\u001b[0m: name 'sub_directories' is not defined"
     ]
    }
   ],
   "source": [
    "sub_directories\n",
    "img_annotation_path \n",
    "\n",
    "#Identify the tiles that the images come from\n",
    "tile_id = []\n",
    "for image in os.listdir(os.path.join(parent,annotation_directory,anno)): #iterate through the images\n",
    "    tile_id.append(image.rsplit(\"_\",1)[0])\n",
    "tile_id = np.unique(np.array(tile_id))\n",
    "#print(tile_id)\n",
    "\n",
    "#identify the tiles that are already downloaded\n",
    "downloaded_tiles = []\n",
    "for tiles in os.listdir(os.path.join(parent,annotation_directory,\"tiles\")): #iterate through the images\n",
    "    downloaded_tiles.append(tiles.split(\".\",1)[0])\n",
    "downloaded_tiles= np.unique(np.array([downloaded_tiles]))\n",
    "#print(downloaded_tiles)\n",
    "\n",
    "tiles_labeled = \"tile_name_tile_url_labeled.npy\"\n",
    "np_tiles_labeled = np.load(tiles_labeled)\n",
    "for labeled_image_tile_id in tile_id: # the tiles from images \n",
    "    if labeled_image_tile_id not in tiles: #the downloaded times \n",
    "        #print(labeled_image_tile_id)\n",
    "        #download the tiles if they are not in the tiles folder \n",
    "        for tile_name_url in np_tiles_labeled[:,]:\n",
    "            if labeled_image_tile_id == tile_name_url[0].split(\".\",1)[0]:\n",
    "                ###Download tile\n",
    "                ap.download_url(tile_name_url[1], os.path.join(parent,annotation_directory,\"tiles\"),\n",
    "                                                         progress_updater=ap.DownloadProgressBar())\n"
   ]
  },
  {
   "cell_type": "code",
   "execution_count": 4,
   "id": "a1723106-0ae4-4594-9be3-edc35092b22f",
   "metadata": {},
   "outputs": [],
   "source": [
    "parent_directory = \"C:\\chips_allocation\"\n",
    "annotation_directory = \"Check\"\n",
    "number_of_tiles =10\n",
    "tiles_remaining = \"tile_name_tile_url_remaining_expanded.npy\"\n",
    "tiles_labeled = \"tile_name_tile_url_labeled.npy\""
   ]
  },
  {
   "cell_type": "code",
   "execution_count": 5,
   "id": "fad6a64c-84ed-4d82-b9e6-943893e877b5",
   "metadata": {},
   "outputs": [
    {
     "name": "stdout",
     "output_type": "stream",
     "text": [
      "Unlabeled Tiles (801, 2)\n"
     ]
    }
   ],
   "source": []
  },
  {
   "cell_type": "code",
   "execution_count": null,
   "id": "e37088f0-039a-4ee7-aa55-201f3559b1ef",
   "metadata": {},
   "outputs": [],
   "source": [
    "dist.chip_tiles()"
   ]
  },
  {
   "cell_type": "code",
   "execution_count": 40,
   "id": "e303e87a-2689-4bab-9fab-2e35b3c3681d",
   "metadata": {},
   "outputs": [
    {
     "name": "stdout",
     "output_type": "stream",
     "text": [
      "function_opened\n",
      "ca_060cm_2018_38121_m_3812128_ne_10_060_20180714.tif\n",
      "12220 9770\n",
      "23 19\n",
      "24 20\n",
      "481\n",
      "ca_060cm_2018_38122_m_3812263_ne_10_060_20180723.tif\n",
      "12150 9750\n",
      "23 19\n",
      "24 20\n",
      "481\n",
      "ct_060cm_2018_42072_m_4207260_se_18_060_20180823.tif\n",
      "12817 9958\n",
      "25 19\n",
      "26 20\n",
      "521\n",
      "ky_060cm_2018_37087_m_3708712_nw_16_060_20180725.tif\n",
      "12523 10311\n",
      "24 20\n",
      "25 21\n",
      "526\n",
      "mi_060cm_2018_43083_m_4308317_sw_17_060_20180703.tif\n",
      "12965 9885\n",
      "25 19\n",
      "26 20\n",
      "521\n",
      "nm_060cm_2018_32103_m_3210330_nw_13_060_20180618.tif\n",
      "12210 10470\n",
      "23 20\n",
      "24 21\n",
      "505\n",
      "tx_060cm_2018_30101_m_3010109_ne_14_060_20190105.tif\n",
      "12320 10780\n",
      "24 21\n",
      "25 22\n",
      "551\n",
      "tx_060cm_2018_32095_m_3209516_se_15_060_20181120.tif\n",
      "12250 10490\n",
      "23 20\n",
      "24 21\n",
      "505\n",
      "ut_060cm_2018_40111_m_4011109_se_12_060_20180828.tif\n",
      "12160 9420\n",
      "23 18\n",
      "24 19\n",
      "457\n",
      "wi_060cm_2018_46092_m_4609224_ne_15_060_20181022.tif\n",
      "12674 9105\n",
      "24 17\n",
      "25 18\n",
      "451\n"
     ]
    }
   ],
   "source": []
  },
  {
   "cell_type": "code",
   "execution_count": 19,
   "id": "51026c5e-8e55-46bd-af4b-7df5fee7d210",
   "metadata": {},
   "outputs": [
    {
     "data": {
      "text/plain": [
       "12220"
      ]
     },
     "execution_count": 19,
     "metadata": {},
     "output_type": "execute_result"
    }
   ],
   "source": [
    "tile.shape[0] #Height\n"
   ]
  }
 ],
 "metadata": {
  "kernelspec": {
   "display_name": "Chip Allocate",
   "language": "python",
   "name": "chip_allocate"
  },
  "language_info": {
   "codemirror_mode": {
    "name": "ipython",
    "version": 3
   },
   "file_extension": ".py",
   "mimetype": "text/x-python",
   "name": "python",
   "nbconvert_exporter": "python",
   "pygments_lexer": "ipython3",
   "version": "3.9.7"
  }
 },
 "nbformat": 4,
 "nbformat_minor": 5
}
