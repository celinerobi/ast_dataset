{
 "cells": [
  {
   "cell_type": "code",
   "execution_count": 1,
   "id": "1ed10d93-cde5-4e99-8287-162f6655974a",
   "metadata": {},
   "outputs": [],
   "source": [
    "# Standard packages\n",
    "import tempfile\n",
    "import warnings\n",
    "import urllib\n",
    "import shutil\n",
    "import os\n",
    "# Less standard, but still pip- or conda-installable\n",
    "import pandas as pd\n",
    "import numpy as np\n",
    "import matplotlib.pyplot as plt\n",
    "import matplotlib\n",
    "#import rasterio\n",
    "import re\n",
    "import rtree\n",
    "import shapely\n",
    "import pickle\n",
    "import data_eng.az_proc as ap\n",
    "#from cartopy import crs\n",
    "import collections\n",
    "import cv2\n",
    "import math\n",
    "from glob import glob"
   ]
  },
  {
   "cell_type": "markdown",
   "id": "ed1e9308-ef3f-42f9-bbbb-a499b202c2bc",
   "metadata": {},
   "source": [
    "# Load Data"
   ]
  },
  {
   "cell_type": "code",
   "execution_count": 5,
   "id": "98e40c5e-45c7-4cc4-bced-8cfe3cb89cd8",
   "metadata": {},
   "outputs": [],
   "source": [
    "parent_directory = \"//oit-nas-fe13dc.oit.duke.edu//data_commons-borsuk//\"\n",
    "\n",
    "tile_names_tile_urls_complete_array = np.load(\"image_download_azure/tile_name_tile_url_complete_array.npy\")\n",
    "\n",
    "tiles_labeled = \"tile_name_tile_url_labeled.npy\"\n",
    "tiles_labeled_from_complete_set = np.load(tiles_labeled)\n",
    "\n",
    "tracker_file_path = 'outputs/tile_img_annotation_annotator.npy'\n",
    "tile_img_annotation = np.load(tracker_file_path)\n",
    "\n",
    "tiles_errors = 'tile_name_tile_url_error_downloading.npy'\n",
    "tiles_errors = np.load(tiles_errors)\n",
    "\n",
    "#create folder to hold tiles in completed dataset\n",
    "path_to_complete_dataset = \"verified/complete_dataset\"\n",
    "path_to_tiles_folder_complete_dataset = os.path.join(parent_directory, path_to_complete_dataset,\"tiles\")\n",
    "os.makedirs(path_to_tiles_folder_complete_dataset, exist_ok=True)"
   ]
  },
  {
   "cell_type": "markdown",
   "id": "926fe9c2-1ee9-456c-b027-4b9f851b9fa4",
   "metadata": {},
   "source": [
    "# Make Functions"
   ]
  },
  {
   "cell_type": "code",
   "execution_count": 3,
   "id": "d33f4997-e3f9-4c2a-8d1c-82dc49428764",
   "metadata": {},
   "outputs": [],
   "source": [
    "def add_formatted_and_standard_tile_names_to_tile_names_time_urls(tile_names_tile_urls):\n",
    "    #get a list of the formated tile names\n",
    "    tile_names = []\n",
    "    for tile_url in tile_names_tile_urls:\n",
    "        tile_url = tile_url[1].rsplit(\"/\",3)\n",
    "        #get the quad standard tile name \n",
    "        tile_name = tile_url[3]\n",
    "        tile_name = os.path.splitext(tile_name)[0] \n",
    "        #get the tile name formated (1/14/2022)\n",
    "        tile_name_formatted = tile_url[1] + \"_\" + tile_url[2] + \"_\" + tile_url[3]\n",
    "        tile_name_formatted = os.path.splitext(tile_name_formatted)[0] \n",
    "        tile_names.append([tile_name, tile_name_formatted])\n",
    "    \n",
    "    #create array that contains the formated tile_names and tile_names\n",
    "    tile_names_tile_urls_formatted_tile_names = np.hstack((tile_names_tile_urls, np.array(tile_names)))\n",
    "    \n",
    "    return(tile_names_tile_urls_formatted_tile_names)\n",
    "\n",
    "def jpg_path_to_tile_name_formatted(tile_paths):\n",
    "    tile_names = []\n",
    "    for tile_path in tile_paths:\n",
    "        base = os.path.basename(tile_path)\n",
    "        jpg = os.path.splitext(base)[0] #name of tif with the extension removed\n",
    "        tile_name_formated_name = jpg.rsplit(\"_\",1)[0] #name of tif with the extension removed\n",
    "        tile_names.append(tile_name_formated_name)\n",
    "    return(tile_names)"
   ]
  },
  {
   "cell_type": "markdown",
   "id": "d3946de5-7a5c-460c-9e54-552f4b658787",
   "metadata": {
    "tags": []
   },
   "source": [
    "# Tile names and urls for all tiles apart of the dataset (complete array)"
   ]
  },
  {
   "cell_type": "code",
   "execution_count": 4,
   "id": "1d609e02-695e-4b39-818b-3fd00efe0194",
   "metadata": {},
   "outputs": [
    {
     "name": "stdout",
     "output_type": "stream",
     "text": [
      "(2610, 4)\n",
      "(2540, 4)\n",
      "(2452, 4)\n"
     ]
    }
   ],
   "source": [
    "tile_names_tile_urls_complete_array = add_formatted_and_standard_tile_names_to_tile_names_time_urls(tile_names_tile_urls_complete_array)\n",
    "print(tile_names_tile_urls_complete_array.shape)\n",
    "\n",
    "unique_tile_name_formatted, indicies = np.unique(tile_names_tile_urls_complete_array[:,3], return_index = True)\n",
    "tile_names_tile_urls_complete_array_unique_formatted_tile_names = tile_names_tile_urls_complete_array[indicies,:]\n",
    "print(tile_names_tile_urls_complete_array_unique_formatted_tile_names.shape) \n",
    "\n",
    "unique_tile_name_standard, indicies = np.unique(tile_names_tile_urls_complete_array[:,2], return_index = True)\n",
    "tile_names_tile_urls_complete_array_unique_standard_tile_names = tile_names_tile_urls_complete_array[indicies,:]\n",
    "print(tile_names_tile_urls_complete_array_unique_standard_tile_names.shape) "
   ]
  },
  {
   "cell_type": "markdown",
   "id": "f4d17f2b-fe2a-4ea3-baaf-bc95f6659cbd",
   "metadata": {},
   "source": [
    "# Tile names and urls for all tiles apart of the dataset that have been recorded as labeled"
   ]
  },
  {
   "cell_type": "code",
   "execution_count": 5,
   "id": "50418a0e-f519-46e6-a805-8d2a8585b4e2",
   "metadata": {},
   "outputs": [
    {
     "name": "stdout",
     "output_type": "stream",
     "text": [
      "(2514, 4)\n",
      "(2473, 4)\n",
      "(2447, 4)\n"
     ]
    }
   ],
   "source": [
    "tiles_labeled_from_complete_set = add_formatted_and_standard_tile_names_to_tile_names_time_urls(tiles_labeled_from_complete_set)\n",
    "print(tiles_labeled_from_complete_set.shape)\n",
    "\n",
    "unique_tile_name_formatted, indicies = np.unique(tiles_labeled_from_complete_set[:,3], return_index = True)\n",
    "tile_names_tile_urls_complete_array_unique_formatted_tile_names = tiles_labeled_from_complete_set[indicies,:]\n",
    "print(tile_names_tile_urls_complete_array_unique_formatted_tile_names.shape) \n",
    "\n",
    "unique_tile_name_standard, indicies = np.unique(tiles_labeled_from_complete_set[:,2], return_index = True)\n",
    "tile_names_tile_urls_labeled_array_unique_standard_tile_names = tiles_labeled_from_complete_set[indicies,:]\n",
    "print(tile_names_tile_urls_labeled_array_unique_standard_tile_names.shape) "
   ]
  },
  {
   "cell_type": "markdown",
   "id": "3ed9a43a-6304-46f6-a4cf-c5b07615ae9e",
   "metadata": {},
   "source": [
    "# Identify specific file types from folders in the storge space"
   ]
  },
  {
   "cell_type": "code",
   "execution_count": 7,
   "id": "6837da81-f001-4f0e-8afe-3369af9c1612",
   "metadata": {},
   "outputs": [
    {
     "name": "stdout",
     "output_type": "stream",
     "text": [
      "2259453\n"
     ]
    },
    {
     "data": {
      "text/plain": [
       "(2382,)"
      ]
     },
     "execution_count": 7,
     "metadata": {},
     "output_type": "execute_result"
    }
   ],
   "source": [
    "#The entire storage space\n",
    "path_storage_space = os.path.join(parent_directory)\n",
    "jpgs_storage_space = glob(path_storage_space + \"/**/*.jpg\", recursive = True)\n",
    "print(len(jpgs_storage_space))\n",
    "\n",
    "tile_names_formatted_storage_space = jpg_path_to_tile_name_formatted(jpgs_storage_space)\n",
    "tile_names_formatted_storage_space = np.unique(tile_names_formatted_storage_space)\n",
    "tile_names_formatted_storage_space.shape"
   ]
  },
  {
   "cell_type": "code",
   "execution_count": 68,
   "id": "376c260d-9fec-4b99-98e6-42ccf9dd67a8",
   "metadata": {},
   "outputs": [],
   "source": [
    "tile_names_standard_storage_space = []\n",
    "for tile_name_formatted_storage_space in tile_names_formatted_storage_space:\n",
    "    tile_names_standard_storage_space.append(tile_name_formatted_storage_space.split(\"_\",4)[4])\n",
    "tile_names_in_storage_space_standard_formatted = np.hstack((np.array(tile_names_standard_storage_space)[:,None], tile_names_formatted_storage_space[:,None]))"
   ]
  },
  {
   "cell_type": "markdown",
   "id": "85aa9ec9-8d5c-4623-ae79-0127e6f8297d",
   "metadata": {},
   "source": [
    "# Determine which tiles included in the complete dataset array have not been labeled (tile names formatted)\n",
    "- use for inquiry "
   ]
  },
  {
   "cell_type": "code",
   "execution_count": 104,
   "id": "6658e9e8-91ca-497b-ae63-6f081b3afb10",
   "metadata": {},
   "outputs": [
    {
     "name": "stdout",
     "output_type": "stream",
     "text": [
      "22 2360 0\n"
     ]
    }
   ],
   "source": [
    "counter_0 = 0\n",
    "counter_1 = 0\n",
    "counter_gr1 = 0\n",
    "for tile_names_formatted in tile_names_in_storage_space_standard_formatted[:,1]: #iterate over the tiles that have actually been annotated\n",
    "    strings_with_substring = [string for string in tile_names_tile_urls_complete_array_unique_formatted_tile_names[:,3] if tile_names_formatted in string] #check if a given tile is in the complete_array \n",
    "    if len(strings_with_substring) == 0:\n",
    "        counter_0 += 1\n",
    "    if len(strings_with_substring) == 1:\n",
    "        counter_1 += 1\n",
    "    if len(strings_with_substring) > 1:\n",
    "        counter_gr1 += 1\n",
    "print(counter_0, counter_1, counter_gr1)"
   ]
  },
  {
   "cell_type": "code",
   "execution_count": 105,
   "id": "896b7694-a681-4cd3-9b78-0c0de8c89253",
   "metadata": {},
   "outputs": [
    {
     "name": "stdout",
     "output_type": "stream",
     "text": [
      "113 2360 0\n"
     ]
    }
   ],
   "source": [
    "#Check which formatted tile names that could be included in the dataset are missing\n",
    "counter_0 = 0\n",
    "counter_1 = 0\n",
    "counter_gr1 = 0\n",
    "for tile_name_formatted_complete_array in tile_names_tile_urls_complete_array_unique_formatted_tile_names: #iterate over the tiles that are meant to be in full set\n",
    "    unlabeled = [string for string in tile_names_in_storage_space_standard_formatted[:,1] if tile_name_formatted_complete_array[3][0:46] in string] #check if a given tile has been annotated\n",
    "    if len(unlabeled) == 0:\n",
    "        counter_0 += 1\n",
    "    if len(unlabeled) == 1:\n",
    "        counter_1 += 1\n",
    "    if len(unlabeled) > 1:\n",
    "        counter_gr1 += 1\n",
    "print(counter_0, counter_1, counter_gr1)"
   ]
  },
  {
   "cell_type": "markdown",
   "id": "3a4fa143-01cc-4393-930e-017406a9ecaa",
   "metadata": {},
   "source": [
    "# Determine which tiles included in the complete dataset array have not been labeled (standard naming convention)\n",
    "- Use this to determine which tiles have not been annotated"
   ]
  },
  {
   "cell_type": "code",
   "execution_count": 106,
   "id": "c388ee3b-19a8-4c56-a712-04dad10ef045",
   "metadata": {},
   "outputs": [
    {
     "name": "stdout",
     "output_type": "stream",
     "text": [
      "0 2356 26\n"
     ]
    }
   ],
   "source": [
    "counter_0 = 0\n",
    "counter_1 = 0\n",
    "counter_gr1 = 0\n",
    "for tile_name_standard in tile_names_in_storage_space_standard_formatted[:,0]: #iterate over the tiles that have actually been annotated\n",
    "    strings_with_substring = [string for string in tile_names_tile_urls_complete_array_unique_standard_tile_names[:,2] if tile_name_standard in string] #check if a given tile is in the complete_array \n",
    "    if len(strings_with_substring) == 0:\n",
    "        counter_0 += 1\n",
    "        print(tile_name_standard)\n",
    "    if len(strings_with_substring) == 1:\n",
    "        counter_1 += 1\n",
    "    if len(strings_with_substring) > 1:\n",
    "        counter_gr1 += 1\n",
    "print(counter_0, counter_1, counter_gr1)"
   ]
  },
  {
   "cell_type": "markdown",
   "id": "e572cce1-b68d-46af-bd85-30d337853ef2",
   "metadata": {},
   "source": [
    "#### Check which standard tile names that could be included in the dataset are missing + which tiles have been annotated in duplicate"
   ]
  },
  {
   "cell_type": "code",
   "execution_count": 107,
   "id": "005b4ced-490c-4be7-ae52-02a7846be8f3",
   "metadata": {},
   "outputs": [
    {
     "name": "stdout",
     "output_type": "stream",
     "text": [
      "103 2290 59\n"
     ]
    }
   ],
   "source": [
    "counter_0 = 0\n",
    "counter_1 = 0\n",
    "counter_gr1 = 0\n",
    "unlabeled_array = []\n",
    "duplicated_standard_tile_names = []\n",
    "for tile_name_standard_complete_array in tile_names_tile_urls_complete_array_unique_standard_tile_names: #iterate over the tiles that are meant to be in full set\n",
    "    standard_tile_names = [string for string in tile_names_in_storage_space_standard_formatted[:,0] if tile_name_standard_complete_array[2][0:27] in string] #check if a given tile has been annotated\n",
    "    if len(standard_tile_names) == 0:\n",
    "        counter_0 += 1\n",
    "        unlabeled_array.append(tile_name_standard_complete_array)\n",
    "    if len(standard_tile_names) == 1:\n",
    "        counter_1 += 1\n",
    "    if len(standard_tile_names) > 1:\n",
    "        counter_gr1 += 1\n",
    "        duplicated_standard_tile_names.append(tile_name_standard_complete_array)\n",
    "print(counter_0, counter_1, counter_gr1)\n",
    "unlabeled_array = np.array(unlabeled_array)"
   ]
  },
  {
   "cell_type": "markdown",
   "id": "41f22223-4d5e-46ba-9fa6-6ce7bb98c80d",
   "metadata": {},
   "source": [
    "#### Check whether unlabeled tiles are known to contain errors "
   ]
  },
  {
   "cell_type": "code",
   "execution_count": 141,
   "id": "0b59c4d7-526d-40fa-b3f8-f08645c94bee",
   "metadata": {},
   "outputs": [
    {
     "name": "stdout",
     "output_type": "stream",
     "text": [
      "56 47\n"
     ]
    }
   ],
   "source": [
    "counter_0 = 0\n",
    "counter_geq1 = 0\n",
    "unlabeled_array_no_known_errors = []\n",
    "\n",
    "for tile_name in unlabeled_array: #iterate over the tiles that are meant to be in full set\n",
    "    standard_tile_names_included_in_error_array = [string for string in tiles_errors[:,0] if tile_name[2][0:27] in string] #check if a given tile has been annotated\n",
    "    if len(standard_tile_names_included_in_error_array) == 0:\n",
    "        counter_0 += 1\n",
    "        unlabeled_array_no_known_errors.append(tile_name)\n",
    "        \n",
    "    if len(standard_tile_names_included_in_error_array) >= 1:\n",
    "        counter_geq1 += 1\n",
    "print(counter_0, counter_geq1)\n",
    "\n",
    "unlabeled_array_no_known_errors = np.array(unlabeled_array_no_known_errors)\n",
    "np.save(\"unlabeled_tile_names_tile_urls.npy\", unlabeled_array_no_known_errors[:,[0,1]])"
   ]
  },
  {
   "cell_type": "code",
   "execution_count": null,
   "id": "fc398b26-7126-47b8-8369-e5331424a497",
   "metadata": {},
   "outputs": [],
   "source": [
    "Deter"
   ]
  },
  {
   "cell_type": "markdown",
   "id": "450a7c6b-e380-47c9-bb75-530f42bba4ff",
   "metadata": {
    "tags": []
   },
   "source": [
    "# Move existing tiles"
   ]
  },
  {
   "cell_type": "code",
   "execution_count": null,
   "id": "90d71892-eb58-4be6-89d7-b8546222d302",
   "metadata": {},
   "outputs": [],
   "source": []
  },
  {
   "cell_type": "code",
   "execution_count": null,
   "id": "392d8884-e9bc-45da-a8d2-990c57e13214",
   "metadata": {},
   "outputs": [],
   "source": [
    "for tile_names in list_of_possible_tile_names:\n",
    "    print(tile_names)"
   ]
  },
  {
   "cell_type": "code",
   "execution_count": null,
   "id": "e3530cba-8011-4fb7-90f9-b38e762c7698",
   "metadata": {},
   "outputs": [],
   "source": [
    "counter = 0\n",
    "for tile_labeled in tiles_labeled_from_complete_set:\n",
    "    tile_labeled_name = os.path.splitext(tile_labeled[0])[0]\n",
    "    x = [string for string in tiles_recorded_as_labeled if tile_labeled_name in string]\n",
    "    if len(x) > 0:\n",
    "        counter += 1\n",
    "        #print(x)\n",
    "counter "
   ]
  },
  {
   "cell_type": "markdown",
   "id": "eb9e446f-23ba-4b17-bf1d-d0a971b41ab0",
   "metadata": {
    "tags": []
   },
   "source": [
    "# Add tiles to completed dataset"
   ]
  },
  {
   "cell_type": "code",
   "execution_count": null,
   "id": "29a62127-a485-48c0-a424-e36f0378e2f7",
   "metadata": {},
   "outputs": [],
   "source": [
    "#Move already downloaded tiles to completed dataset\n",
    "for path in downloaded_tiles_in_verification_sets:\n",
    "    base = os.path.basename(path)\n",
    "    tif = os.path.splitext(base)[0] #name of tif with the extension removed\n",
    "    #if tif in tile_img_annotation[:,0]:\n",
    "    #    shutil.move(path, os.path.join(path_to_tiles_folder_complete_dataset,base)) # copy images with matching .xml files in the \"chips_tank\" folder"
   ]
  },
  {
   "cell_type": "code",
   "execution_count": null,
   "id": "983fe8a5-9945-4389-a216-50cc4ea43f29",
   "metadata": {},
   "outputs": [],
   "source": [
    "#Make a list of the tiles moved to completed dataset\n",
    "tiles_downloaded = os.listdir(path_to_tiles_folder_complete_dataset)\n",
    "tiles_downloaded_temp = []\n",
    "for tile in tiles_downloaded:\n",
    "     tiles_downloaded_temp.append(os.path.splitext(tile)[0]) #name of tif with the extension removed\n",
    "tiles_downloaded = np.array(tiles_downloaded_temp)"
   ]
  },
  {
   "cell_type": "markdown",
   "id": "99c1fc65-14b4-4dce-91b9-40a571ae84aa",
   "metadata": {},
   "source": [
    "# Download remaining tiles that correspond to ONLY to verified images"
   ]
  },
  {
   "cell_type": "code",
   "execution_count": null,
   "id": "4389f580-0fc9-4681-bc23-96d58ffc27d7",
   "metadata": {},
   "outputs": [],
   "source": [
    "#Gather the locations of tiles that have already been downlaoded and verified \n",
    "path_positive_images_complete_dataset = \"//oit-nas-fe13dc.oit.duke.edu//data_commons-borsuk//verified/complete_dataset/chips_positive\"\n",
    "jpg_path_positive_images_complete_dataset = glob(path_positive_images_complete_dataset + \"/*.jpg\", recursive = True)\n",
    "print(len(jpg_path_positive_images_complete_dataset))\n",
    "\n",
    "tiles_to_be_downloaded = []\n",
    "for path in jpg_path_positive_images_complete_dataset:\n",
    "    base = os.path.basename(path)\n",
    "    img = os.path.splitext(base)[0] #name of tif with the extension removed\n",
    "    tiles_to_be_downloaded.append(img.rsplit(\"_\",1)[0])\n",
    "tiles_to_be_downloaded = np.array(tiles_to_be_downloaded)\n",
    "\n",
    "tiles_to_be_downloaded = np.unique(tiles_to_be_downloaded)"
   ]
  },
  {
   "cell_type": "code",
   "execution_count": null,
   "id": "f729bcb9-ac3d-4ffe-8899-a207554554a2",
   "metadata": {},
   "outputs": [],
   "source": [
    "#Identify tiles that have not already been downloaded\n",
    "tile_names_to_download = []\n",
    "for tile in tiles_to_be_downloaded: #index over the downloaded tiled\n",
    "    if tile not in tiles_downloaded: #index over the tiles that should be downloded\n",
    "        tile_names_to_download.append(tile)"
   ]
  },
  {
   "cell_type": "code",
   "execution_count": null,
   "id": "0268ffc5-86c7-48b6-a7c9-e7a37bd9b61f",
   "metadata": {},
   "outputs": [],
   "source": [
    "\n",
    "tiles_labeled_from_complete_set\n",
    "\n",
    "blob_root = 'https://naipblobs.blob.core.windows.net/naip'\n",
    "#blob_root = 'https://naipeuwest.blob.core.windows.net/naip'  \n",
    "tile_names = []\n",
    "tile_urls = []\n",
    "\n",
    "for tile in tile_names_to_download:\n",
    "    tile_name = tile.split(\"_\",4)[4] #+ \".tif\"\n",
    "    \n",
    "    tile_name = [string for string in tiles_labeled_from_complete_set[:,0] if tile_name in string]  #check if the tile_name is in the string contained in the array"
   ]
  },
  {
   "cell_type": "code",
   "execution_count": null,
   "id": "a78e87fd-b8a0-4bb4-8c9d-9cd6e6d8a221",
   "metadata": {},
   "outputs": [],
   "source": [
    "#Check how many border tiles there are \n",
    "counter = 0\n",
    "for tile in tiles_to_be_downloaded:\n",
    "    tile_name = tile.split(\"_\",4)[4] #+ \".tif\"\n",
    "    tile_name = [string for string in tiles_labeled_from_complete_set[:,0] if tile_name in string]  #check if the tile_name is in the string contained in the array\n",
    "    if len(tile_name) > 1:\n",
    "        print(tile_name)\n",
    "        counter += 1\n",
    "counter"
   ]
  },
  {
   "cell_type": "code",
   "execution_count": null,
   "id": "ea9b1c72-077e-4bb2-b6ec-5598430532e8",
   "metadata": {},
   "outputs": [],
   "source": [
    "tiles_labeled_from_complete_set[tiles_labeled_from_complete_set[:,0] == 'm_4108616_sw_16_060_20180707_20181211.tif']"
   ]
  },
  {
   "cell_type": "code",
   "execution_count": null,
   "id": "4d22a538-a3f0-4784-8689-bcc272cc94a6",
   "metadata": {},
   "outputs": [],
   "source": [
    "#https://www.kite.com/python/answers/how-to-check-if-a-list-contains-a-substring-in-python\n"
   ]
  },
  {
   "cell_type": "code",
   "execution_count": null,
   "id": "c382878d-8ef0-4f8b-9ea7-9a018865441d",
   "metadata": {},
   "outputs": [],
   "source": [
    "import pandas as pd\n",
    "pd.DataFrame(np.load(\"image_download_azure/tile_name_tile_url_complete_array.npy\")).to_csv(\"image_download_azure/tile_name_tile_url_complete_array.csv\")"
   ]
  },
  {
   "cell_type": "code",
   "execution_count": null,
   "id": "1be9281a-6072-41c5-a09b-677d6c5775a7",
   "metadata": {},
   "outputs": [],
   "source": [
    "\n",
    "#for tile in tiles_to_download:\n",
    "#    print(tile+\".tif\")\n",
    "    \n",
    "    #print(tiles_labeled_from_complete_set[tiles_labeled_from_complete_set[:,0] == tile+\".tif\"])\n",
    "            'https://naipblobs.blob.core.windows.net/naip/v002/va/2018/va_060cm_2018/36076/m_3607614_ne_18_060_20181001.tif'],"
   ]
  },
  {
   "cell_type": "code",
   "execution_count": null,
   "id": "dd6f1258-738c-422d-9145-e3c37c883636",
   "metadata": {},
   "outputs": [],
   "source": [
    "np.where(tiles_labeled_from_complete_set[:,0] == \"m_3211520_se_11_060_20190305.tif\")"
   ]
  },
  {
   "cell_type": "code",
   "execution_count": null,
   "id": "a0e0dc2a-7247-4e12-8ff6-4817fdda978f",
   "metadata": {},
   "outputs": [],
   "source": [
    "        #if not os.path.exists(os.path.join(path_to_tiles_folder_complete_dataset,base)): #skip over tiles that already exist in complete dataset"
   ]
  },
  {
   "cell_type": "code",
   "execution_count": null,
   "id": "d9686a1f-b14f-490d-a3ab-822a1a2ee88a",
   "metadata": {},
   "outputs": [],
   "source": [
    "#remove tiles / images with no annotations"
   ]
  },
  {
   "cell_type": "code",
   "execution_count": null,
   "id": "c1af3ed6-1c95-4d8c-86e8-7c5c911deb04",
   "metadata": {},
   "outputs": [],
   "source": [
    "#Download Tiles \n",
    "\n",
    "for labeled_image_tile_id in tile_id: # the tiles from images \n",
    "    if labeled_image_tile_id not in tiles: #the downloaded times \n",
    "        #print(labeled_image_tile_id)\n",
    "        #download the tiles if they are not in the tiles folder \n",
    "        for tile_name_url in tiles_labeled_from_complete_set[:,]:\n",
    "            if labeled_image_tile_id == tile_name_url[0].split(\".\",1)[0]:\n",
    "                ###Download tile\n",
    "                ap.download_url(tile_name_url[1], os.path.join(parent,annotation_directory,\"tiles\"),\n",
    "                                                         progress_updater=ap.DownloadProgressBar())"
   ]
  },
  {
   "cell_type": "code",
   "execution_count": null,
   "id": "bc228c15-e5af-4149-8204-8daca1b57eb5",
   "metadata": {},
   "outputs": [],
   "source": [
    "# Determine the pixel location of the image within the tile"
   ]
  },
  {
   "cell_type": "code",
   "execution_count": 6,
   "id": "3a903e88-8b52-4490-926f-e6918cedfedf",
   "metadata": {},
   "outputs": [],
   "source": [
    "path_to_verified_complete_dataset_tiles = os.path.join(parent_directory, path_to_complete_dataset, \"tiles\")"
   ]
  },
  {
   "cell_type": "code",
   "execution_count": 20,
   "id": "0fe52fe1-4623-4c1b-a5c2-4b0acc66d5f7",
   "metadata": {},
   "outputs": [
    {
     "data": {
      "text/plain": [
       "511"
      ]
     },
     "execution_count": 20,
     "metadata": {},
     "output_type": "execute_result"
    }
   ],
   "source": [
    "len(range(0,511))"
   ]
  },
  {
   "cell_type": "code",
   "execution_count": null,
   "id": "86256b78-d98d-4900-ac88-b589a0525386",
   "metadata": {},
   "outputs": [],
   "source": [
    "\n",
    "tiles_dir = path_to_verified_complete_dataset_tiles\n",
    "state = []\n",
    "resolution = []\n",
    "year = []\n",
    "capture_date  = []\n",
    "utm_zone  = []\n",
    "standard_tile_name = []\n",
    "\n",
    "six_digit_chip_name = []\n",
    "NW_coordinates = []\n",
    "SE_coordinates = []\n",
    "row_indicies = []\n",
    "col_indicies = []\n",
    "\n",
    "for tile_name in os.listdir(path_to_verified_complete_dataset_tiles): #index over the tiles in the tiles_dir \n",
    "    file_name, ext = os.path.splitext(tile_name) # File name\n",
    "    \n",
    "    item_dim = int(512)          \n",
    "    tile = cv2.imread(os.path.join(tiles_dir, tile_name)) \n",
    "    tile_height,  tile_width,  tile_channels = tile.shape #the size of the tile \n",
    "\n",
    "    #divide the tile into 512 by 512 chips (rounding up)\n",
    "    row_index = math.ceil(tile_height/512) \n",
    "    col_index = math.ceil(tile_width/512)\n",
    "\n",
    "    for x in range(0, col_index):\n",
    "        for y in range(0, row_index):\n",
    "            #image characteristics\n",
    "            six_digit_chip_name.append(file_name+ '_'+ str(count).zfill(6) + '.jpg') # The index is a six-digit number like '000023'.\n",
    "            NW_coordinates.append([x*item_dim, y*(item_dim)]) #NW (Top Left) \n",
    "            SE_coordinates.append([x*item_dim+item_dim-1, y*(item_dim)+item_dim-1]) #SE (Bottom right) \n",
    "            row_indicies.append(y)\n",
    "            col_indicies.append(x)\n",
    "            #tile characteristics\n",
    "            standard_tile_name.append(file_name.split(\"_\",4)[4]) #standard_tile_name\n",
    "            state.append(file_name.split(\"_\",9)[0]) #state\n",
    "            resolution.append(file_name.split(\"_\",9)[1]) #resolution\n",
    "            utm_zone.append(file_name.split(\"_\",9)[7]) #utm\n",
    "            year.append(file_name.split(\"_\",9)[2]) #year\n",
    "            capture_date.append(file_name.split(\"_\",9)[-1]) #capture date"
   ]
  }
 ],
 "metadata": {
  "kernelspec": {
   "display_name": "Chip Allocate",
   "language": "python",
   "name": "chip_allocate"
  },
  "language_info": {
   "codemirror_mode": {
    "name": "ipython",
    "version": 3
   },
   "file_extension": ".py",
   "mimetype": "text/x-python",
   "name": "python",
   "nbconvert_exporter": "python",
   "pygments_lexer": "ipython3",
   "version": "3.9.7"
  }
 },
 "nbformat": 4,
 "nbformat_minor": 5
}
