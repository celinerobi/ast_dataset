{
 "cells": [
  {
   "cell_type": "code",
   "execution_count": 1,
   "id": "1ed10d93-cde5-4e99-8287-162f6655974a",
   "metadata": {},
   "outputs": [],
   "source": [
    "# Standard packages\n",
    "import tempfile\n",
    "import warnings\n",
    "import urllib\n",
    "import shutil\n",
    "import os\n",
    "# Less standard, but still pip- or conda-installable\n",
    "import pandas as pd\n",
    "import numpy as np\n",
    "import matplotlib.pyplot as plt\n",
    "import matplotlib\n",
    "#import rasterio\n",
    "import re\n",
    "import rtree\n",
    "import shapely\n",
    "import pickle\n",
    "import data_eng.az_proc as ap\n",
    "import data_eng.form_calcs as fc\n",
    "\n",
    "#from cartopy import crs\n",
    "import collections\n",
    "import cv2\n",
    "import math\n",
    "from glob import glob\n",
    "from tqdm.notebook import tqdm_notebook"
   ]
  },
  {
   "cell_type": "markdown",
   "id": "ed1e9308-ef3f-42f9-bbbb-a499b202c2bc",
   "metadata": {},
   "source": [
    "# Load Data"
   ]
  },
  {
   "cell_type": "code",
   "execution_count": 2,
   "id": "98e40c5e-45c7-4cc4-bced-8cfe3cb89cd8",
   "metadata": {},
   "outputs": [],
   "source": [
    "parent_directory = \"//oit-nas-fe13dc.oit.duke.edu//data_commons-borsuk//\"\n",
    "\n",
    "tile_names_tile_urls_complete_array = np.load(\"image_download_azure/tile_name_tile_url_complete_array.npy\")\n",
    "\n",
    "tiles_labeled = \"tile_name_tile_url_labeled.npy\"\n",
    "tiles_labeled_from_complete_set = np.load(tiles_labeled)\n",
    "\n",
    "tracker_file_path = 'outputs/tile_img_annotation_annotator.npy'\n",
    "tile_img_annotation = np.load(tracker_file_path)\n",
    "\n",
    "tiles_errors = 'tile_name_tile_url_error_downloading.npy'\n",
    "tiles_errors = np.load(tiles_errors)\n",
    "\n",
    "#create folder to hold tiles in completed dataset\n",
    "path_to_complete_dataset = \"verified/complete_dataset\"\n",
    "path_to_tiles_folder_complete_dataset = os.path.join(parent_directory, path_to_complete_dataset,\"tiles\")\n",
    "os.makedirs(path_to_tiles_folder_complete_dataset, exist_ok=True)"
   ]
  },
  {
   "cell_type": "markdown",
   "id": "6769b11f-38a2-48e3-a486-b580a1cf538d",
   "metadata": {},
   "source": [
    "## Tile names and urls for all tiles apart of the dataset (complete array)"
   ]
  },
  {
   "cell_type": "code",
   "execution_count": 3,
   "id": "442f2e6c-54da-4800-97e2-3a52697f41e5",
   "metadata": {
    "jp-MarkdownHeadingCollapsed": true,
    "tags": []
   },
   "outputs": [
    {
     "name": "stdout",
     "output_type": "stream",
     "text": [
      "(2610, 4)\n",
      "unique formatted tile names (2540, 4)\n",
      "unique standard tile names (2439, 4)\n"
     ]
    }
   ],
   "source": [
    "tile_names_tile_urls_complete_array = fc.add_formatted_and_standard_tile_names_to_tile_names_time_urls(tile_names_tile_urls_complete_array)\n",
    "print(tile_names_tile_urls_complete_array.shape)\n",
    "\n",
    "tile_names_tile_urls_complete_array_unique_standard_tile_names, tile_names_tile_urls_complete_array_unique_formatted_tile_names = fc.unique_formatted_standard_tile_names(tile_names_tile_urls_complete_array)\n",
    "#Save unique standard tile names\n",
    "np.save(\"tile_names_tile_urls_complete_array_unique_standard_tile_names.npy\", tile_names_tile_urls_complete_array_unique_standard_tile_names)"
   ]
  },
  {
   "cell_type": "code",
   "execution_count": null,
   "id": "c382878d-8ef0-4f8b-9ea7-9a018865441d",
   "metadata": {},
   "outputs": [],
   "source": [
    "pd.DataFrame(np.load(\"image_download_azure/tile_name_tile_url_complete_array.npy\")).to_csv(\"image_download_azure/tile_name_tile_url_complete_array.csv\")"
   ]
  },
  {
   "cell_type": "code",
   "execution_count": null,
   "id": "1be9281a-6072-41c5-a09b-677d6c5775a7",
   "metadata": {},
   "outputs": [],
   "source": [
    "\n",
    "#for tile in tiles_to_download:\n",
    "#    print(tile+\".tif\")\n",
    "    \n",
    "    #print(tiles_labeled_from_complete_set[tiles_labeled_from_complete_set[:,0] == tile+\".tif\"])\n",
    "            'https://naipblobs.blob.core.windows.net/naip/v002/va/2018/va_060cm_2018/36076/m_3607614_ne_18_060_20181001.tif'],"
   ]
  },
  {
   "cell_type": "code",
   "execution_count": null,
   "id": "dd6f1258-738c-422d-9145-e3c37c883636",
   "metadata": {},
   "outputs": [],
   "source": [
    "np.where(tiles_labeled_from_complete_set[:,0] == \"m_3211520_se_11_060_20190305.tif\")"
   ]
  },
  {
   "cell_type": "code",
   "execution_count": null,
   "id": "a0e0dc2a-7247-4e12-8ff6-4817fdda978f",
   "metadata": {},
   "outputs": [],
   "source": [
    "        #if not os.path.exists(os.path.join(path_to_tiles_folder_complete_dataset,base)): #skip over tiles that already exist in complete dataset"
   ]
  },
  {
   "cell_type": "code",
   "execution_count": null,
   "id": "d9686a1f-b14f-490d-a3ab-822a1a2ee88a",
   "metadata": {},
   "outputs": [],
   "source": [
    "#remove tiles / images with no annotations"
   ]
  },
  {
   "cell_type": "markdown",
   "id": "69de3e53-dcd8-4219-9a2c-241055be0e0d",
   "metadata": {},
   "source": [
    "# Determine the pixel location of the image within the tile"
   ]
  },
  {
   "cell_type": "code",
   "execution_count": 36,
   "id": "2daf6016-7abe-45d5-b43a-7d6e81dffc5f",
   "metadata": {},
   "outputs": [
    {
     "name": "stdout",
     "output_type": "stream",
     "text": [
      "(23350, 2)\n"
     ]
    },
    {
     "ename": "NameError",
     "evalue": "name 'tqdm_notebook' is not defined",
     "output_type": "error",
     "traceback": [
      "\u001b[1;31m---------------------------------------------------------------------------\u001b[0m",
      "\u001b[1;31mNameError\u001b[0m                                 Traceback (most recent call last)",
      "\u001b[1;32mC:\\Users\\RAPIDU~1\\AppData\\Local\\Temp/ipykernel_2380/1243912178.py\u001b[0m in \u001b[0;36m<module>\u001b[1;34m\u001b[0m\n\u001b[0;32m      2\u001b[0m \u001b[0munique_positive_jpgs\u001b[0m \u001b[1;33m=\u001b[0m \u001b[0mfc\u001b[0m\u001b[1;33m.\u001b[0m\u001b[0munique_positive_jpgs_from_parent_directory\u001b[0m\u001b[1;33m(\u001b[0m\u001b[0mparent_directory\u001b[0m\u001b[1;33m)\u001b[0m\u001b[1;33m\u001b[0m\u001b[1;33m\u001b[0m\u001b[0m\n\u001b[0;32m      3\u001b[0m \u001b[1;33m\u001b[0m\u001b[0m\n\u001b[1;32m----> 4\u001b[1;33m \u001b[0mimage_characteristics\u001b[0m \u001b[1;33m=\u001b[0m \u001b[0mfc\u001b[0m\u001b[1;33m.\u001b[0m\u001b[0mimage_characteristics\u001b[0m\u001b[1;33m(\u001b[0m\u001b[0mpath_to_tiles_folder_complete_dataset\u001b[0m\u001b[1;33m,\u001b[0m\u001b[0munique_positive_jpgs\u001b[0m\u001b[1;33m)\u001b[0m\u001b[1;33m\u001b[0m\u001b[1;33m\u001b[0m\u001b[0m\n\u001b[0m\u001b[0;32m      5\u001b[0m \u001b[1;33m\u001b[0m\u001b[0m\n\u001b[0;32m      6\u001b[0m \u001b[0mimage_characteristics\u001b[0m\u001b[1;33m.\u001b[0m\u001b[0mto_csv\u001b[0m\u001b[1;33m(\u001b[0m\u001b[1;34m'image_characteristics.csv'\u001b[0m\u001b[1;33m)\u001b[0m\u001b[1;33m\u001b[0m\u001b[1;33m\u001b[0m\u001b[0m\n",
      "\u001b[1;32m~\\cred\\AST_dataset\\data_download_and_preprocessing\\data_eng\\form_calcs.py\u001b[0m in \u001b[0;36mimage_characteristics\u001b[1;34m(tiles_dir, unique_positive_jpgs)\u001b[0m\n\u001b[0;32m    130\u001b[0m     \u001b[0mcol_indicies\u001b[0m \u001b[1;33m=\u001b[0m \u001b[1;33m[\u001b[0m\u001b[1;33m]\u001b[0m\u001b[1;33m\u001b[0m\u001b[1;33m\u001b[0m\u001b[0m\n\u001b[0;32m    131\u001b[0m \u001b[1;33m\u001b[0m\u001b[0m\n\u001b[1;32m--> 132\u001b[1;33m     \u001b[1;32mfor\u001b[0m \u001b[0mtile_name\u001b[0m \u001b[1;32min\u001b[0m \u001b[0mtqdm_notebook\u001b[0m\u001b[1;33m(\u001b[0m\u001b[0mos\u001b[0m\u001b[1;33m.\u001b[0m\u001b[0mlistdir\u001b[0m\u001b[1;33m(\u001b[0m\u001b[0mtiles_dir\u001b[0m\u001b[1;33m)\u001b[0m\u001b[1;33m)\u001b[0m\u001b[1;33m:\u001b[0m \u001b[1;31m#index over the tiles in the tiles_dir\u001b[0m\u001b[1;33m\u001b[0m\u001b[1;33m\u001b[0m\u001b[0m\n\u001b[0m\u001b[0;32m    133\u001b[0m         \u001b[0mfile_name\u001b[0m\u001b[1;33m,\u001b[0m \u001b[0mext\u001b[0m \u001b[1;33m=\u001b[0m \u001b[0mos\u001b[0m\u001b[1;33m.\u001b[0m\u001b[0mpath\u001b[0m\u001b[1;33m.\u001b[0m\u001b[0msplitext\u001b[0m\u001b[1;33m(\u001b[0m\u001b[0mtile_name\u001b[0m\u001b[1;33m)\u001b[0m \u001b[1;31m# File name\u001b[0m\u001b[1;33m\u001b[0m\u001b[1;33m\u001b[0m\u001b[0m\n\u001b[0;32m    134\u001b[0m         \u001b[0mcount\u001b[0m \u001b[1;33m=\u001b[0m \u001b[1;36m1\u001b[0m\u001b[1;33m\u001b[0m\u001b[1;33m\u001b[0m\u001b[0m\n",
      "\u001b[1;31mNameError\u001b[0m: name 'tqdm_notebook' is not defined"
     ]
    }
   ],
   "source": [
    "#unique positive jpgs (file names with the file extension)\n",
    "unique_positive_jpgs = fc.unique_positive_jpgs_from_parent_directory(parent_directory)\n",
    "\n",
    "image_characteristics = fc.image_characteristics(path_to_tiles_folder_complete_dataset,unique_positive_jpgs)\n",
    "\n",
    "image_characteristics.to_csv('image_characteristics.csv')\n",
    "counterin = 0\n",
    "counternot = 0 \n",
    "\n",
    "for unique_jpg in unique_positive_jpgs[:,0]:\n",
    "    if image_characteristics['six_digit_chip_name'].isin([unique_jpg]).any():\n",
    "        counterin += 1\n",
    "    if not image_characteristics['six_digit_chip_name'].isin([unique_jpg]).any():\n",
    "        counternot += 1\n",
    "print(counterin, counternot)"
   ]
  },
  {
   "cell_type": "code",
   "execution_count": 33,
   "id": "cdc8048d-6819-4a21-8d2b-d628c4b8da80",
   "metadata": {},
   "outputs": [
    {
     "data": {
      "text/plain": [
       "array(['//oit-nas-fe13dc.oit.duke.edu//data_commons-borsuk//complete_dataset',\n",
       "       '//oit-nas-fe13dc.oit.duke.edu//data_commons-borsuk//labelwork',\n",
       "       '//oit-nas-fe13dc.oit.duke.edu//data_commons-borsuk//verification_set3',\n",
       "       '//oit-nas-fe13dc.oit.duke.edu//data_commons-borsuk//verification_set4'],\n",
       "      dtype='<U69')"
      ]
     },
     "execution_count": 33,
     "metadata": {},
     "output_type": "execute_result"
    }
   ],
   "source": [
    "path= []\n",
    "for unique in unique_positive_jpgs[:,1]:\n",
    "    path.append(unique.split(\"\\\\\",2)[0])\n",
    "np.unique(path)"
   ]
  },
  {
   "cell_type": "code",
   "execution_count": 35,
   "id": "7667de7d-ff3b-4d61-b444-992bf1756ebc",
   "metadata": {},
   "outputs": [
    {
     "data": {
      "text/plain": [
       "23350"
      ]
     },
     "execution_count": 35,
     "metadata": {},
     "output_type": "execute_result"
    }
   ],
   "source": [
    "len(unique_positive_jpgs)"
   ]
  },
  {
   "cell_type": "code",
   "execution_count": null,
   "id": "31011efd-c7d7-4e68-8489-db402f2cd001",
   "metadata": {},
   "outputs": [],
   "source": [
    "if [1566][3].count(\"_\")< 10:\n",
    "    print(tile_names_tile_urls_complete_array[1566][3].split(\"_\",9)[-1])#[9:]\n",
    "else:\n",
    "    capture_date = tile_names_tile_urls_complete_array[1566][3].split(\"_\",9)[-1]#[9:]\n",
    "    date_for_name = tile_names_tile_urls_complete_array[1566][3].split(\"_\",10)[-2]#[9:]\n",
    "    print(date_for_name)"
   ]
  },
  {
   "cell_type": "code",
   "execution_count": null,
   "id": "9142f570-7ddc-4a99-9d7c-8927b8fd6ea2",
   "metadata": {},
   "outputs": [],
   "source": [
    "counter_correct_name = 0\n",
    "counter_incorrect_name = 0\n",
    "for jpg in jpgs_without_ext:\n",
    "    jpg_name_in_image_characteristics = [string for string in image_characteristics['six_digit_chip_name'] if jpg in string] #check if a given tile is in the complete_array \n",
    "    if len(jpg_name_in_image_characteristics) >= 1:\n",
    "        counter_correct_name += 1\n",
    "    else:\n",
    "        counter_incorrect_name += 1"
   ]
  },
  {
   "cell_type": "code",
   "execution_count": null,
   "id": "0e796207-bdc0-41c2-bdf4-0f1ef905056e",
   "metadata": {},
   "outputs": [],
   "source": [
    "#Identify folders containing positive images"
   ]
  }
 ],
 "metadata": {
  "kernelspec": {
   "display_name": "Chip Allocate",
   "language": "python",
   "name": "chip_allocate"
  },
  "language_info": {
   "codemirror_mode": {
    "name": "ipython",
    "version": 3
   },
   "file_extension": ".py",
   "mimetype": "text/x-python",
   "name": "python",
   "nbconvert_exporter": "python",
   "pygments_lexer": "ipython3",
   "version": "3.9.7"
  }
 },
 "nbformat": 4,
 "nbformat_minor": 5
}
