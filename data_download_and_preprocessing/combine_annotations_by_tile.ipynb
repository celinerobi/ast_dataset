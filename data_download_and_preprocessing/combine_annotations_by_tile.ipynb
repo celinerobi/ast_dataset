{
 "cells": [
  {
   "cell_type": "code",
   "execution_count": 1,
   "id": "1ed10d93-cde5-4e99-8287-162f6655974a",
   "metadata": {},
   "outputs": [],
   "source": [
    "# Standard packages\n",
    "import tempfile\n",
    "import warnings\n",
    "import urllib\n",
    "import shutil\n",
    "import os\n",
    "# Less standard, but still pip- or conda-installable\n",
    "import pandas as pd\n",
    "import numpy as np\n",
    "import matplotlib.pyplot as plt\n",
    "import matplotlib\n",
    "#import rasterio\n",
    "import re\n",
    "import rtree\n",
    "import shapely\n",
    "import pickle\n",
    "import data_eng.az_proc as ap\n",
    "import data_eng.form_calcs as fc\n",
    "\n",
    "#from cartopy import crs\n",
    "import collections\n",
    "import cv2\n",
    "import math\n",
    "from glob import glob\n",
    "from tqdm.notebook import tqdm_notebook"
   ]
  },
  {
   "cell_type": "markdown",
   "id": "ed1e9308-ef3f-42f9-bbbb-a499b202c2bc",
   "metadata": {},
   "source": [
    "# Load Data"
   ]
  },
  {
   "cell_type": "code",
   "execution_count": 96,
   "id": "98e40c5e-45c7-4cc4-bced-8cfe3cb89cd8",
   "metadata": {},
   "outputs": [],
   "source": [
    "parent_directory = \"//oit-nas-fe13dc.oit.duke.edu//data_commons-borsuk//\"\n",
    "\n",
    "tile_names_tile_urls_complete_array = np.load(\"image_download_azure/tile_name_tile_url_complete_array.npy\")\n",
    "\n",
    "tiles_labeled = \"tile_name_tile_url_labeled.npy\"\n",
    "tiles_labeled_from_complete_set = np.load(tiles_labeled)\n",
    "\n",
    "tracker_file_path = 'outputs/tile_img_annotation_annotator.npy'\n",
    "tile_img_annotation = np.load(tracker_file_path)\n",
    "\n",
    "tiles_errors = 'tile_name_tile_url_error_downloading.npy'\n",
    "tiles_errors = np.load(tiles_errors)\n",
    "\n",
    "#create folder to hold tiles in completed dataset\n",
    "path_to_complete_dataset = \"verified/complete_dataset\"\n",
    "path_to_tiles_folder_complete_dataset = os.path.join(parent_directory, path_to_complete_dataset,\"tiles\")\n",
    "path_positive_images_complete_dataset = os.path.join(parent_directory, path_to_complete_dataset,\"chips_positive\")\n",
    "path_to_verified_sets = os.path.join(parent_directory, path_to_complete_dataset,\"verified//verified_sets\")"
   ]
  },
  {
   "cell_type": "markdown",
   "id": "6769b11f-38a2-48e3-a486-b580a1cf538d",
   "metadata": {},
   "source": [
    "## Tile names and urls for all tiles apart of the dataset (complete array)"
   ]
  },
  {
   "cell_type": "code",
   "execution_count": 3,
   "id": "442f2e6c-54da-4800-97e2-3a52697f41e5",
   "metadata": {
    "jp-MarkdownHeadingCollapsed": true,
    "tags": []
   },
   "outputs": [
    {
     "name": "stdout",
     "output_type": "stream",
     "text": [
      "(2610, 4)\n",
      "unique formatted tile names (2540, 4)\n",
      "unique standard tile names (2439, 4)\n"
     ]
    }
   ],
   "source": [
    "tile_names_tile_urls_complete_array = fc.add_formatted_and_standard_tile_names_to_tile_names_time_urls(tile_names_tile_urls_complete_array)\n",
    "print(tile_names_tile_urls_complete_array.shape)\n",
    "\n",
    "tile_names_tile_urls_complete_array_unique_standard_tile_names, tile_names_tile_urls_complete_array_unique_formatted_tile_names = fc.unique_formatted_standard_tile_names(tile_names_tile_urls_complete_array)\n",
    "#Save unique standard tile names\n",
    "np.save(\"tile_names_tile_urls_complete_array_unique_standard_tile_names.npy\", tile_names_tile_urls_complete_array_unique_standard_tile_names)\n",
    "#pd.DataFrame(np.load(\"image_download_azure/tile_name_tile_url_complete_array.npy\")).to_csv(\"image_download_azure/tile_name_tile_url_complete_array.csv\")"
   ]
  },
  {
   "cell_type": "code",
   "execution_count": 4,
   "id": "3cfcef5d-2420-4137-9615-6e000ade30c7",
   "metadata": {},
   "outputs": [
    {
     "name": "stdout",
     "output_type": "stream",
     "text": [
      "Number of tifs to be moved 0\n"
     ]
    }
   ],
   "source": [
    "#Move already downloaded tiles to completed dataset\n",
    "fc.move_tiles_of_verified_images_to_complete_dataset(tile_img_annotation, path_to_tiles_folder_complete_dataset, path_to_verified_sets)\n",
    "\n",
    "# Make a list of the tiles moved to completed dataset\n",
    "tiles_downloaded_with_ext_list, tiles_downloaded_without_ext_list = fc.tiles_in_complete_dataset(path_to_tiles_folder_complete_dataset)"
   ]
  },
  {
   "cell_type": "code",
   "execution_count": 6,
   "id": "237d1df4-8911-4b37-8c34-94656450ccb6",
   "metadata": {},
   "outputs": [
    {
     "data": {
      "text/plain": [
       "1044"
      ]
     },
     "execution_count": 6,
     "metadata": {},
     "output_type": "execute_result"
    }
   ],
   "source": [
    "fc.download_tiles_of_verified_images(path_positive_images_complete_dataset, tiles_downloaded, tile_names_tile_urls_complete_array)"
   ]
  },
  {
   "cell_type": "code",
   "execution_count": null,
   "id": "b7c2adf2-5b45-433f-8681-5ea7715fd5d2",
   "metadata": {},
   "outputs": [
    {
     "name": "stdout",
     "output_type": "stream",
     "text": [
      "['m_3008816_se_16_060_20191115.tif', 'm_3008816_se_16_060_20191115.tif']\n",
      "Bypassing download of already-downloaded file m_3008816_se_16_060_20191115.tif\n",
      "['m_3008824_ne_16_060_20191115.tif', 'm_3008824_ne_16_060_20191115.tif']\n",
      "Bypassing download of already-downloaded file m_3008824_ne_16_060_20191115.tif\n",
      "['m_3008832_sw_16_060_20191115.tif']\n",
      "Bypassing download of already-downloaded file m_3008832_sw_16_060_20191115.tif\n",
      "['m_3008839_se_16_060_20191115.tif']\n",
      "Bypassing download of already-downloaded file m_3008839_se_16_060_20191115.tif\n",
      "['m_3108641_se_16_060_20191102.tif']\n",
      "Bypassing download of already-downloaded file m_3108641_se_16_060_20191102.tif\n",
      "['m_3108642_ne_16_060_20190918.tif']\n",
      "Bypassing download of already-downloaded file m_3108642_ne_16_060_20190918.tif\n",
      "['m_3108737_ne_16_060_20191110.tif']\n",
      "Bypassing download of already-downloaded file m_3108737_ne_16_060_20191110.tif\n",
      "['m_3108737_se_16_060_20191110.tif']\n",
      "Bypassing download of already-downloaded file m_3108737_se_16_060_20191110.tif\n",
      "['m_3108738_ne_16_060_20191110.tif']\n",
      "Bypassing download of already-downloaded file m_3108738_ne_16_060_20191110.tif\n",
      "['m_3108738_nw_16_060_20191110.tif']\n",
      "Bypassing download of already-downloaded file m_3108738_nw_16_060_20191110.tif\n",
      "['m_3108753_se_16_060_20191110.tif']\n",
      "Bypassing download of already-downloaded file m_3108753_se_16_060_20191110.tif\n",
      "['m_3108762_nw_16_060_20191110.tif']\n",
      "Bypassing download of already-downloaded file m_3108762_nw_16_060_20191110.tif\n",
      "['m_3108805_sw_16_060_20191109.tif']\n",
      "Bypassing download of already-downloaded file m_3108805_sw_16_060_20191109.tif\n",
      "['m_3108837_ne_16_060_20191116.tif']\n",
      "Bypassing download of already-downloaded file m_3108837_ne_16_060_20191116.tif\n",
      "['m_3108864_se_16_060_20191115.tif']\n",
      "Bypassing download of already-downloaded file m_3108864_se_16_060_20191115.tif\n",
      "['m_3208433_nw_16_060_20191003.tif', 'm_3208433_nw_16_060_20191003.tif']\n",
      "Bypassing download of already-downloaded file m_3208433_nw_16_060_20191003.tif\n",
      "['m_3408711_sw_16_060_20190908.tif']\n",
      "Bypassing download of already-downloaded file m_3408711_sw_16_060_20190908.tif\n",
      "['m_3408719_nw_16_060_20190908.tif']\n",
      "Bypassing download of already-downloaded file m_3408719_nw_16_060_20190908.tif\n",
      "['m_3408807_nw_16_060_20191012.tif']\n",
      "Bypassing download of already-downloaded file m_3408807_nw_16_060_20191012.tif\n",
      "['m_3309251_ne_15_060_20190813.tif']\n",
      "Bypassing download of already-downloaded file m_3309251_ne_15_060_20190813.tif\n",
      "['m_3309354_sw_15_060_20190816.tif']\n",
      "Bypassing download of already-downloaded file m_3309354_sw_15_060_20190816.tif\n",
      "['m_3309355_ne_15_060_20190813.tif']\n",
      "Bypassing download of already-downloaded file m_3309355_ne_15_060_20190813.tif\n",
      "['m_3409028_sw_15_060_20190816.tif']\n",
      "Bypassing download of already-downloaded file m_3409028_sw_15_060_20190816.tif\n",
      "['m_3409141_sw_15_060_20190817.tif']\n",
      "Bypassing download of already-downloaded file m_3409141_sw_15_060_20190817.tif\n",
      "['m_3609057_se_15_060_20190829.tif']\n",
      "Bypassing download of already-downloaded file m_3609057_se_15_060_20190829.tif\n",
      "['m_3609057_sw_15_060_20190829.tif']\n",
      "Bypassing download of already-downloaded file m_3609057_sw_15_060_20190829.tif\n",
      "['m_3609058_ne_15_060_20190815.tif']\n",
      "Bypassing download of already-downloaded file m_3609058_ne_15_060_20190815.tif\n",
      "['m_3609058_se_15_060_20190815.tif']\n",
      "Bypassing download of already-downloaded file m_3609058_se_15_060_20190815.tif\n",
      "['m_3609059_nw_15_060_20190815.tif']\n",
      "Bypassing download of already-downloaded file m_3609059_nw_15_060_20190815.tif\n",
      "['m_3110936_nw_12_060_20190615.tif']\n",
      "Bypassing download of already-downloaded file m_3110936_nw_12_060_20190615.tif\n",
      "['m_3110944_ne_12_060_20190615.tif']\n",
      "Bypassing download of already-downloaded file m_3110944_ne_12_060_20190615.tif\n",
      "['m_3111034_sw_12_060_20190615.tif']\n",
      "Bypassing download of already-downloaded file m_3111034_sw_12_060_20190615.tif\n",
      "['m_3311133_nw_12_060_20190614.tif']\n",
      "Bypassing download of already-downloaded file m_3311133_nw_12_060_20190614.tif\n",
      "['m_3311230_sw_12_060_20190614.tif']\n",
      "Bypassing download of already-downloaded file m_3311230_sw_12_060_20190614.tif\n",
      "['m_3511151_ne_12_060_20190930.tif']\n",
      "Bypassing download of already-downloaded file m_3511151_ne_12_060_20190930.tif\n",
      "['m_3511153_ne_12_060_20190705.tif']\n",
      "Bypassing download of already-downloaded file m_3511153_ne_12_060_20190705.tif\n",
      "['m_3211520_se_11_060_20190305_20190412.tif']\n",
      "Bypassing download of already-downloaded file m_3211520_se_11_060_20190305_20190412.tif\n",
      "['m_3211723_ne_11_060_20190317_20190412.tif']\n",
      "Bypassing download of already-downloaded file m_3211723_ne_11_060_20190317_20190412.tif\n",
      "['m_3311710_nw_11_060_20180822_20190208.tif']\n",
      "Bypassing download of already-downloaded file m_3311710_nw_11_060_20180822_20190208.tif\n",
      "['m_3311823_nw_11_060_20180723_20190209.tif']\n",
      "Bypassing download of already-downloaded file m_3311823_nw_11_060_20180723_20190209.tif\n",
      "['m_3311824_ne_11_060_20180723_20190209.tif']\n",
      "Bypassing download of already-downloaded file m_3311824_ne_11_060_20180723_20190209.tif\n",
      "['m_3411730_nw_11_060_20180805_20190209.tif']\n",
      "Bypassing download of already-downloaded file m_3411730_nw_11_060_20180805_20190209.tif\n",
      "['m_3411761_nw_11_060_20180822_20190209.tif']\n",
      "Bypassing download of already-downloaded file m_3411761_nw_11_060_20180822_20190209.tif\n",
      "['m_3411864_sw_11_060_20180723_20190209.tif']\n",
      "Bypassing download of already-downloaded file m_3411864_sw_11_060_20180723_20190209.tif\n",
      "['m_3411946_se_11_060_20180724_20190209.tif']\n",
      "Bypassing download of already-downloaded file m_3411946_se_11_060_20180724_20190209.tif\n",
      "['m_3411956_nw_11_060_20180724_20190209.tif']\n",
      "Bypassing download of already-downloaded file m_3411956_nw_11_060_20180724_20190209.tif\n",
      "['m_3412021_ne_10_060_20180724_20190208.tif']\n",
      "Bypassing download of already-downloaded file m_3412021_ne_10_060_20180724_20190208.tif\n",
      "['m_3511926_se_11_060_20180714_20190209.tif']\n",
      "Bypassing download of already-downloaded file m_3511926_se_11_060_20180714_20190209.tif\n",
      "['m_3511935_nw_11_060_20180714_20190208.tif']\n",
      "Bypassing download of already-downloaded file m_3511935_nw_11_060_20180714_20190208.tif\n",
      "['m_3511935_se_11_060_20180714_20190208.tif']\n",
      "Bypassing download of already-downloaded file m_3511935_se_11_060_20180714_20190208.tif\n",
      "['m_3511939_se_11_060_20180713_20190209.tif']\n",
      "Bypassing download of already-downloaded file m_3511939_se_11_060_20180713_20190209.tif\n",
      "['m_3511945_sw_11_060_20180713_20190209.tif']\n",
      "Bypassing download of already-downloaded file m_3511945_sw_11_060_20180713_20190209.tif\n",
      "['m_3511946_se_11_060_20180713_20190208.tif']\n",
      "Bypassing download of already-downloaded file m_3511946_se_11_060_20180713_20190208.tif\n",
      "['m_3511953_sw_11_060_20180713_20190208.tif']\n",
      "Bypassing download of already-downloaded file m_3511953_sw_11_060_20180713_20190208.tif\n",
      "['m_3612054_sw_10_060_20180708_20190209.tif']\n",
      "Bypassing download of already-downloaded file m_3612054_sw_10_060_20180708_20190209.tif\n",
      "['m_3712133_sw_10_060_20180725_20190210.tif']\n",
      "Bypassing download of already-downloaded file m_3712133_sw_10_060_20180725_20190210.tif\n",
      "['m_3712223_nw_10_060_20180723_20190209.tif']\n",
      "Bypassing download of already-downloaded file m_3712223_nw_10_060_20180723_20190209.tif\n",
      "['m_3812120_nw_10_060_20180714_20190210.tif']\n",
      "Bypassing download of already-downloaded file m_3812120_nw_10_060_20180714_20190210.tif\n",
      "['m_3812130_nw_10_060_20180714_20190210.tif']\n",
      "Bypassing download of already-downloaded file m_3812130_nw_10_060_20180714_20190210.tif\n",
      "['m_3812262_se_10_060_20180723_20190210.tif']\n",
      "Bypassing download of already-downloaded file m_3812262_se_10_060_20180723_20190210.tif\n",
      "['m_3812263_se_10_060_20180723_20190210.tif']\n",
      "Bypassing download of already-downloaded file m_3812263_se_10_060_20180723_20190210.tif\n",
      "['m_3812263_sw_10_060_20180723_20190210.tif']\n",
      "Bypassing download of already-downloaded file m_3812263_sw_10_060_20180723_20190210.tif\n",
      "['m_3812264_se_10_060_20180715_20190210.tif']\n",
      "Bypassing download of already-downloaded file m_3812264_se_10_060_20180715_20190210.tif\n",
      "['m_3812264_sw_10_060_20180715_20190210.tif']\n",
      "Bypassing download of already-downloaded file m_3812264_sw_10_060_20180715_20190210.tif\n",
      "['m_4012415_sw_10_060_20180920_20190210.tif']\n",
      "Bypassing download of already-downloaded file m_4012415_sw_10_060_20180920_20190210.tif\n",
      "['m_3311805_se_11_060_20180723_20190209.tif']\n"
     ]
    }
   ],
   "source": [
    "destination_filenames = []\n",
    "for tile in tile_names_to_download:\n",
    "    ### download the tiles if they are not in the tiles folder \n",
    "    tile_name = tile.split(\"_\",4)[4] #+ \".tif\" #get the name of the tile that is to be downloaded\n",
    "    tile_name = [string for string in tile_names_tile_urls_complete_array[:,0] if tile_name in string]  #check if the tile name is contained in the string of complete arrays\n",
    "    tile_url = tile_names_tile_urls_complete_array[tile_names_tile_urls_complete_array[:,0]==tile_name[0]][0][1] # get tile url\n",
    "    print(tile_name)\n",
    "    ### Download tile\n",
    "    destination_filenames.append(ap.download_url(tile_url, path_to_tiles_folder_complete_dataset,\n",
    "                                                         progress_updater=ap.DownloadProgressBar()))\n",
    "\n",
    "# Rename Tiles \n",
    "for destination_filepath in destination_filenames: \n",
    "    tile_dir = destination_filepath.rsplit(\"\\\\\",1)[0]\n",
    "    tile_name = destination_filepath.rsplit(\"\\\\\",1)[1]\n",
    "    tile_name_split = tile_name.split('_')\n",
    "    new_tile_path = os.path.join(tile_dir, tile_name_split[6]+'_'+tile_name_split[7]+'_'+tile_name_split[8]+'_'+tile_name_split[9]+''+  \\\n",
    "                                            tile_name_split[10]+'_'+tile_name_split[11]+'_'+tile_name_split[12]+'_'+tile_name_split[13]+'_'+  \\\n",
    "                                            tile_name_split[14]+'_'+tile_name_split[15].split(\".\")[0]+\".tif\")\n",
    "    \n",
    "    if os.path.isfile(new_tile_path):\n",
    "        print('Bypassing download of already-downloaded file {}'.format(os.path.basename(new_tile_path)))\n",
    "\n",
    "    else:\n",
    "        os.rename(destination_filepath, new_tile_path)"
   ]
  },
  {
   "cell_type": "code",
   "execution_count": 112,
   "id": "ef04bde7-26d1-49ee-9ba2-e2b1aabc05de",
   "metadata": {},
   "outputs": [
    {
     "data": {
      "text/plain": [
       "array([['m_3311805_se_11_060_20180723_20190209.tif',\n",
       "        'https://naipblobs.blob.core.windows.net/naip/v002/ca/2018/ca_60cm_2018/33118/m_3311805_se_11_060_20180723_20190209.tif'],\n",
       "       ['m_3311805_se_11_060_20180723_20190209.tif',\n",
       "        'https://naipeuwest.blob.core.windows.net/naip/v002/ca/2018/ca_060cm_2018/33118/m_3311805_se_11_060_20180723_20190209.tif']],\n",
       "      dtype='<U120')"
      ]
     },
     "execution_count": 112,
     "metadata": {},
     "output_type": "execute_result"
    }
   ],
   "source": [
    "tile_name = 'm_3311805_se_11_060_20180723_20190209.tif'\n",
    "tile_name = [string for string in tile_names_tile_urls_complete_array[:,0] if tile_name in string]  #check if the tile name is contained in the string of complete arrays\n",
    "tile_names_tile_urls_complete_array[tile_names_tile_urls_complete_array[:,0]==tile_name[0]] # get tile url"
   ]
  },
  {
   "cell_type": "code",
   "execution_count": 113,
   "id": "7204aa6e-d6c5-4c6e-9a36-8d63c49ce430",
   "metadata": {},
   "outputs": [],
   "source": [
    "tile_names_tile_urls_complete_array = np.delete(tile_names_tile_urls_complete_array,\n",
    "                                                  np.where((tile_names_tile_urls_complete_array[:,0] == tile_name[0]))[0][0],\n",
    "                                                  axis=0)"
   ]
  },
  {
   "cell_type": "code",
   "execution_count": 98,
   "id": "6b0af66c-884e-4887-81be-5ecc7590dc34",
   "metadata": {},
   "outputs": [
    {
     "data": {
      "text/plain": [
       "(2609, 2)"
      ]
     },
     "execution_count": 98,
     "metadata": {},
     "output_type": "execute_result"
    }
   ],
   "source": [
    "tile_names_tile_urls_complete_array.shape"
   ]
  },
  {
   "cell_type": "code",
   "execution_count": 21,
   "id": "4854e3b8-f756-4dfd-8949-9d98408102a2",
   "metadata": {},
   "outputs": [
    {
     "data": {
      "text/plain": [
       "['m_3908010_sw_17_060_20180707.tif']"
      ]
     },
     "execution_count": 21,
     "metadata": {},
     "output_type": "execute_result"
    }
   ],
   "source": [
    "for labeled_image_tile_id in tile_id: # the tiles from images \n",
    "    if labeled_image_tile_id not in tiles: #the downloaded times \n",
    "        #print(labeled_image_tile_id)\n",
    "        for tile_name_url in tile_names_tile_urls_complete_array[:,]:\n",
    "            if labeled_image_tile_id == tile_name_url[0].split(\".\",1)[0]:\n"
   ]
  },
  {
   "cell_type": "markdown",
   "id": "69de3e53-dcd8-4219-9a2c-241055be0e0d",
   "metadata": {},
   "source": [
    "# Determine the pixel location of the image within the tile"
   ]
  },
  {
   "cell_type": "code",
   "execution_count": 4,
   "id": "2daf6016-7abe-45d5-b43a-7d6e81dffc5f",
   "metadata": {},
   "outputs": [
    {
     "name": "stdout",
     "output_type": "stream",
     "text": [
      "(23441, 2)\n"
     ]
    },
    {
     "ename": "ImportError",
     "evalue": "IProgress not found. Please update jupyter and ipywidgets. See https://ipywidgets.readthedocs.io/en/stable/user_install.html",
     "output_type": "error",
     "traceback": [
      "\u001b[1;31m---------------------------------------------------------------------------\u001b[0m",
      "\u001b[1;31mImportError\u001b[0m                               Traceback (most recent call last)",
      "\u001b[1;32mC:\\Users\\RAPIDU~1\\AppData\\Local\\Temp/ipykernel_12164/1243912178.py\u001b[0m in \u001b[0;36m<module>\u001b[1;34m\u001b[0m\n\u001b[0;32m      2\u001b[0m \u001b[0munique_positive_jpgs\u001b[0m \u001b[1;33m=\u001b[0m \u001b[0mfc\u001b[0m\u001b[1;33m.\u001b[0m\u001b[0munique_positive_jpgs_from_parent_directory\u001b[0m\u001b[1;33m(\u001b[0m\u001b[0mparent_directory\u001b[0m\u001b[1;33m)\u001b[0m\u001b[1;33m\u001b[0m\u001b[1;33m\u001b[0m\u001b[0m\n\u001b[0;32m      3\u001b[0m \u001b[1;33m\u001b[0m\u001b[0m\n\u001b[1;32m----> 4\u001b[1;33m \u001b[0mimage_characteristics\u001b[0m \u001b[1;33m=\u001b[0m \u001b[0mfc\u001b[0m\u001b[1;33m.\u001b[0m\u001b[0mimage_characteristics\u001b[0m\u001b[1;33m(\u001b[0m\u001b[0mpath_to_tiles_folder_complete_dataset\u001b[0m\u001b[1;33m,\u001b[0m\u001b[0munique_positive_jpgs\u001b[0m\u001b[1;33m)\u001b[0m\u001b[1;33m\u001b[0m\u001b[1;33m\u001b[0m\u001b[0m\n\u001b[0m\u001b[0;32m      5\u001b[0m \u001b[1;33m\u001b[0m\u001b[0m\n\u001b[0;32m      6\u001b[0m \u001b[0mimage_characteristics\u001b[0m\u001b[1;33m.\u001b[0m\u001b[0mto_csv\u001b[0m\u001b[1;33m(\u001b[0m\u001b[1;34m'image_characteristics.csv'\u001b[0m\u001b[1;33m)\u001b[0m\u001b[1;33m\u001b[0m\u001b[1;33m\u001b[0m\u001b[0m\n",
      "\u001b[1;32m~\\cred\\AST_dataset\\data_download_and_preprocessing\\data_eng\\form_calcs.py\u001b[0m in \u001b[0;36mimage_characteristics\u001b[1;34m(tiles_dir, unique_positive_jpgs)\u001b[0m\n\u001b[0;32m    132\u001b[0m     \u001b[0mArgs\u001b[0m\u001b[1;33m:\u001b[0m\u001b[1;33m\u001b[0m\u001b[1;33m\u001b[0m\u001b[0m\n\u001b[0;32m    133\u001b[0m     \u001b[0mtiles_dir\u001b[0m\u001b[1;33m(\u001b[0m\u001b[0mstr\u001b[0m\u001b[1;33m)\u001b[0m\u001b[1;33m:\u001b[0m \u001b[0mpath\u001b[0m \u001b[0mto\u001b[0m \u001b[0mthe\u001b[0m \u001b[0mdirectory\u001b[0m \u001b[0mcontaining\u001b[0m \u001b[0mtiles\u001b[0m\u001b[1;33m\u001b[0m\u001b[1;33m\u001b[0m\u001b[0m\n\u001b[1;32m--> 134\u001b[1;33m     \u001b[0mReturns\u001b[0m\u001b[1;33m:\u001b[0m\u001b[1;33m\u001b[0m\u001b[1;33m\u001b[0m\u001b[0m\n\u001b[0m\u001b[0;32m    135\u001b[0m     \u001b[0mimage_characteristics\u001b[0m\u001b[1;33m(\u001b[0m\u001b[0mpandadataframe\u001b[0m\u001b[1;33m)\u001b[0m\u001b[1;33m:\u001b[0m\u001b[0mcontaining\u001b[0m \u001b[0mimage\u001b[0m \u001b[0mcharacterisitcs\u001b[0m\u001b[1;33m\u001b[0m\u001b[1;33m\u001b[0m\u001b[0m\n\u001b[0;32m    136\u001b[0m     \"\"\"\n",
      "\u001b[1;32mC:\\ProgramData\\Anaconda3\\envs\\chip_allocate\\lib\\site-packages\\tqdm\\notebook.py\u001b[0m in \u001b[0;36m__init__\u001b[1;34m(self, *args, **kwargs)\u001b[0m\n\u001b[0;32m    240\u001b[0m         \u001b[0munit_scale\u001b[0m \u001b[1;33m=\u001b[0m \u001b[1;36m1\u001b[0m \u001b[1;32mif\u001b[0m \u001b[0mself\u001b[0m\u001b[1;33m.\u001b[0m\u001b[0munit_scale\u001b[0m \u001b[1;32mis\u001b[0m \u001b[1;32mTrue\u001b[0m \u001b[1;32melse\u001b[0m \u001b[0mself\u001b[0m\u001b[1;33m.\u001b[0m\u001b[0munit_scale\u001b[0m \u001b[1;32mor\u001b[0m \u001b[1;36m1\u001b[0m\u001b[1;33m\u001b[0m\u001b[1;33m\u001b[0m\u001b[0m\n\u001b[0;32m    241\u001b[0m         \u001b[0mtotal\u001b[0m \u001b[1;33m=\u001b[0m \u001b[0mself\u001b[0m\u001b[1;33m.\u001b[0m\u001b[0mtotal\u001b[0m \u001b[1;33m*\u001b[0m \u001b[0munit_scale\u001b[0m \u001b[1;32mif\u001b[0m \u001b[0mself\u001b[0m\u001b[1;33m.\u001b[0m\u001b[0mtotal\u001b[0m \u001b[1;32melse\u001b[0m \u001b[0mself\u001b[0m\u001b[1;33m.\u001b[0m\u001b[0mtotal\u001b[0m\u001b[1;33m\u001b[0m\u001b[1;33m\u001b[0m\u001b[0m\n\u001b[1;32m--> 242\u001b[1;33m         \u001b[0mself\u001b[0m\u001b[1;33m.\u001b[0m\u001b[0mcontainer\u001b[0m \u001b[1;33m=\u001b[0m \u001b[0mself\u001b[0m\u001b[1;33m.\u001b[0m\u001b[0mstatus_printer\u001b[0m\u001b[1;33m(\u001b[0m\u001b[0mself\u001b[0m\u001b[1;33m.\u001b[0m\u001b[0mfp\u001b[0m\u001b[1;33m,\u001b[0m \u001b[0mtotal\u001b[0m\u001b[1;33m,\u001b[0m \u001b[0mself\u001b[0m\u001b[1;33m.\u001b[0m\u001b[0mdesc\u001b[0m\u001b[1;33m,\u001b[0m \u001b[0mself\u001b[0m\u001b[1;33m.\u001b[0m\u001b[0mncols\u001b[0m\u001b[1;33m)\u001b[0m\u001b[1;33m\u001b[0m\u001b[1;33m\u001b[0m\u001b[0m\n\u001b[0m\u001b[0;32m    243\u001b[0m         \u001b[0mself\u001b[0m\u001b[1;33m.\u001b[0m\u001b[0mcontainer\u001b[0m\u001b[1;33m.\u001b[0m\u001b[0mpbar\u001b[0m \u001b[1;33m=\u001b[0m \u001b[0mproxy\u001b[0m\u001b[1;33m(\u001b[0m\u001b[0mself\u001b[0m\u001b[1;33m)\u001b[0m\u001b[1;33m\u001b[0m\u001b[1;33m\u001b[0m\u001b[0m\n\u001b[0;32m    244\u001b[0m         \u001b[0mself\u001b[0m\u001b[1;33m.\u001b[0m\u001b[0mdisplayed\u001b[0m \u001b[1;33m=\u001b[0m \u001b[1;32mFalse\u001b[0m\u001b[1;33m\u001b[0m\u001b[1;33m\u001b[0m\u001b[0m\n",
      "\u001b[1;32mC:\\ProgramData\\Anaconda3\\envs\\chip_allocate\\lib\\site-packages\\tqdm\\notebook.py\u001b[0m in \u001b[0;36mstatus_printer\u001b[1;34m(_, total, desc, ncols)\u001b[0m\n\u001b[0;32m    113\u001b[0m         \u001b[1;31m# Prepare IPython progress bar\u001b[0m\u001b[1;33m\u001b[0m\u001b[1;33m\u001b[0m\u001b[0m\n\u001b[0;32m    114\u001b[0m         \u001b[1;32mif\u001b[0m \u001b[0mIProgress\u001b[0m \u001b[1;32mis\u001b[0m \u001b[1;32mNone\u001b[0m\u001b[1;33m:\u001b[0m  \u001b[1;31m# #187 #451 #558 #872\u001b[0m\u001b[1;33m\u001b[0m\u001b[1;33m\u001b[0m\u001b[0m\n\u001b[1;32m--> 115\u001b[1;33m             raise ImportError(\n\u001b[0m\u001b[0;32m    116\u001b[0m                 \u001b[1;34m\"IProgress not found. Please update jupyter and ipywidgets.\"\u001b[0m\u001b[1;33m\u001b[0m\u001b[1;33m\u001b[0m\u001b[0m\n\u001b[0;32m    117\u001b[0m                 \u001b[1;34m\" See https://ipywidgets.readthedocs.io/en/stable\"\u001b[0m\u001b[1;33m\u001b[0m\u001b[1;33m\u001b[0m\u001b[0m\n",
      "\u001b[1;31mImportError\u001b[0m: IProgress not found. Please update jupyter and ipywidgets. See https://ipywidgets.readthedocs.io/en/stable/user_install.html"
     ]
    }
   ],
   "source": [
    "#unique positive jpgs (file names with the file extension)\n",
    "unique_positive_jpgs = fc.unique_positive_jpgs_from_parent_directory(parent_directory)\n",
    "\n",
    "image_characteristics = fc.image_characteristics(path_to_tiles_folder_complete_dataset,unique_positive_jpgs)\n",
    "\n",
    "image_characteristics.to_csv('image_characteristics.csv')\n",
    "counterin = 0\n",
    "counternot = 0 \n",
    "\n",
    "for unique_jpg in unique_positive_jpgs[:,0]:\n",
    "    if image_characteristics['six_digit_chip_name'].isin([unique_jpg]).any():\n",
    "        counterin += 1\n",
    "    if not image_characteristics['six_digit_chip_name'].isin([unique_jpg]).any():\n",
    "        counternot += 1\n",
    "print(counterin, counternot)"
   ]
  },
  {
   "cell_type": "code",
   "execution_count": null,
   "id": "9142f570-7ddc-4a99-9d7c-8927b8fd6ea2",
   "metadata": {},
   "outputs": [],
   "source": [
    "counter_correct_name = 0\n",
    "counter_incorrect_name = 0\n",
    "for jpg in jpgs_without_ext:\n",
    "    jpg_name_in_image_characteristics = [string for string in image_characteristics['six_digit_chip_name'] if jpg in string] #check if a given tile is in the complete_array \n",
    "    if len(jpg_name_in_image_characteristics) >= 1:\n",
    "        counter_correct_name += 1\n",
    "    else:\n",
    "        counter_incorrect_name += 1"
   ]
  },
  {
   "cell_type": "code",
   "execution_count": null,
   "id": "0e796207-bdc0-41c2-bdf4-0f1ef905056e",
   "metadata": {},
   "outputs": [],
   "source": [
    "#Identify folders containing positive images"
   ]
  }
 ],
 "metadata": {
  "kernelspec": {
   "display_name": "Chip Allocate",
   "language": "python",
   "name": "chip_allocate"
  },
  "language_info": {
   "codemirror_mode": {
    "name": "ipython",
    "version": 3
   },
   "file_extension": ".py",
   "mimetype": "text/x-python",
   "name": "python",
   "nbconvert_exporter": "python",
   "pygments_lexer": "ipython3",
   "version": "3.9.7"
  }
 },
 "nbformat": 4,
 "nbformat_minor": 5
}
