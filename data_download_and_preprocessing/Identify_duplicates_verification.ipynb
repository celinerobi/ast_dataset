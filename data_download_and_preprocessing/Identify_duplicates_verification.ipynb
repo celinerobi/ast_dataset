{
 "cells": [
  {
   "cell_type": "code",
   "execution_count": 1,
   "id": "cce50f02",
   "metadata": {},
   "outputs": [],
   "source": [
    "import data_eng.az_proc as ap\n",
    "import os\n",
    "import numpy as np"
   ]
  },
  {
   "cell_type": "code",
   "execution_count": 56,
   "id": "6bfa1304",
   "metadata": {},
   "outputs": [
    {
     "data": {
      "text/plain": [
       "11271"
      ]
     },
     "execution_count": 56,
     "metadata": {},
     "output_type": "execute_result"
    }
   ],
   "source": [
    "files_verified = []\n",
    "dirs =  ['D:/verification/verify_josh_james_amadu_1/chips',\n",
    "                    'D:/verification/verify_jaewon_james_josh_1/chips',\n",
    "                    'D:/verification/verify_jaewon_james_amadu_1/chips',\n",
    "                    'D:/verification/verify_josh_jaewon_amadu_1/chips']\n",
    "for dir in dirs:\n",
    "    files_verified.append(os.listdir(dir))\n",
    "\n",
    "files_verified = [ item for elem in files_verified for item in elem]\n",
    "len(files_verified)"
   ]
  },
  {
   "cell_type": "code",
   "execution_count": 59,
   "id": "fe59bb28",
   "metadata": {},
   "outputs": [
    {
     "data": {
      "text/plain": [
       "11046"
      ]
     },
     "execution_count": 59,
     "metadata": {},
     "output_type": "execute_result"
    }
   ],
   "source": [
    "len(np.unique(np.array(files_verified)))"
   ]
  },
  {
   "cell_type": "code",
   "execution_count": 34,
   "id": "2e5ad977",
   "metadata": {},
   "outputs": [
    {
     "data": {
      "text/plain": [
       "11510"
      ]
     },
     "execution_count": 34,
     "metadata": {},
     "output_type": "execute_result"
    }
   ],
   "source": [
    "files_to_be_verified = []\n",
    "for dir in ap.img_path_anno_path(ap.list_of_sub_directories('D:/verification/unverified_images/student_reviewed_unverified_images'))[:,0]:\n",
    "    files_to_be_verified.append(os.listdir(dir))\n",
    "\n",
    "files_to_be_verified = [ item for elem in files_to_be_verified for item in elem]\n",
    "len(files_to_be_verified)"
   ]
  },
  {
   "cell_type": "code",
   "execution_count": 58,
   "id": "5e85219f",
   "metadata": {},
   "outputs": [
    {
     "data": {
      "text/plain": [
       "11047"
      ]
     },
     "execution_count": 58,
     "metadata": {},
     "output_type": "execute_result"
    }
   ],
   "source": [
    "len(np.unique(np.array(files_to_be_verified)))"
   ]
  },
  {
   "cell_type": "code",
   "execution_count": 49,
   "id": "9bfbab43",
   "metadata": {},
   "outputs": [
    {
     "name": "stdout",
     "output_type": "stream",
     "text": [
      "Thumbs.db\n",
      "Thumbs.db\n"
     ]
    }
   ],
   "source": [
    "for uvfile in files_to_be_verified:\n",
    "    if files_verified.count(uvfile) == 0:\n",
    "        print(uvfile)"
   ]
  },
  {
   "cell_type": "code",
   "execution_count": 47,
   "id": "11d53de6",
   "metadata": {},
   "outputs": [
    {
     "data": {
      "text/plain": [
       "set()"
      ]
     },
     "execution_count": 47,
     "metadata": {},
     "output_type": "execute_result"
    }
   ],
   "source": [
    "missing = set(files_verified) - set(files_to_be_verified) \n",
    "missing"
   ]
  },
  {
   "cell_type": "code",
   "execution_count": 45,
   "id": "ff864f7f",
   "metadata": {},
   "outputs": [
    {
     "name": "stdout",
     "output_type": "stream",
     "text": [
      "[3859, 4602]\n"
     ]
    }
   ],
   "source": [
    "\n",
    "items = [x for x in files_to_be_verified if 'Thumbs.db' in x]\n",
    "indexes = [n for n, x in enumerate(files_to_be_verified) if'Thumbs.db' in x]\n",
    "\n",
    "print(indexes)"
   ]
  }
 ],
 "metadata": {
  "kernelspec": {
   "display_name": "Python 3",
   "language": "python",
   "name": "python3"
  },
  "language_info": {
   "codemirror_mode": {
    "name": "ipython",
    "version": 3
   },
   "file_extension": ".py",
   "mimetype": "text/x-python",
   "name": "python",
   "nbconvert_exporter": "python",
   "pygments_lexer": "ipython3",
   "version": "3.8.8"
  }
 },
 "nbformat": 4,
 "nbformat_minor": 5
}
