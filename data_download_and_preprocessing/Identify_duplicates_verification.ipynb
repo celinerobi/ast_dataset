{
 "cells": [
  {
   "cell_type": "code",
   "execution_count": 1,
   "id": "cce50f02",
   "metadata": {},
   "outputs": [],
   "source": [
    "import data_eng.az_proc as ap\n",
    "import os\n",
    "import numpy as np\n",
    "import pandas as pd"
   ]
  },
  {
   "cell_type": "code",
   "execution_count": 2,
   "id": "cd8f20d7-ca0f-4471-92e8-ad277efc3f29",
   "metadata": {},
   "outputs": [
    {
     "data": {
      "text/plain": [
       "'C:\\\\Users\\\\rapiduser\\\\cred\\\\AST_dataset\\\\data_download_and_preprocessing'"
      ]
     },
     "execution_count": 2,
     "metadata": {},
     "output_type": "execute_result"
    }
   ],
   "source": [
    "os.getcwd()"
   ]
  },
  {
   "cell_type": "code",
   "execution_count": 21,
   "id": "6ef1cf1e-cc98-4072-a296-6f2a68add728",
   "metadata": {},
   "outputs": [
    {
     "name": "stdout",
     "output_type": "stream",
     "text": [
      "True\n",
      "['Jaewon' 'James' 'Amadu']\n"
     ]
    }
   ],
   "source": [
    "i=3863\n",
    "print(np.array_equal(tile_img_annotation_annotator[i,5:8], target_array))\n",
    "print(tile_img_annotation_annotator[i,5:8])"
   ]
  },
  {
   "cell_type": "markdown",
   "id": "d48f59c3-6f89-4992-827a-db8d128cfbbe",
   "metadata": {},
   "source": [
    "## Correcting Verifiers in Tracking Numpy/DF"
   ]
  },
  {
   "cell_type": "code",
   "execution_count": null,
   "id": "8943e276-77f7-4edd-a11d-8e4f1d5526e7",
   "metadata": {},
   "outputs": [],
   "source": [
    "#load tracking numpy\n",
    "tile_img_annotation_annotator = np.load(\"outputs/tile_img_annotation_annotator.npy\")"
   ]
  },
  {
   "cell_type": "code",
   "execution_count": null,
   "id": "d71517ac-519a-403c-a15a-f89afcc8f96d",
   "metadata": {},
   "outputs": [],
   "source": [
    "#specify the verifier set to correct and specify the correction that should be made\n",
    "target_verifiers_1 = np.array(['Jaewon', 'James', 'Amadu'])\n",
    "correction_1 = ['Jaewon', 'James', 'Poonacha']\n",
    "\n",
    "target_verifiers_2 = np.array(['Jaewon', 'James', 'Josh'] )\n",
    "correction_2 = ['Jaewon', 'Poonacha', 'Cleave']\n",
    "\n",
    "target_verifiers_3 = np.array(['Josh', 'James','Amadu'])\n",
    "correction_3 = ['Josh', 'Poonacha','Sunny']"
   ]
  },
  {
   "cell_type": "code",
   "execution_count": 29,
   "id": "2927376d-94bb-4237-b696-a44e80d1f9f0",
   "metadata": {},
   "outputs": [],
   "source": [
    "for i in range(len(tile_img_annotation_annotator)):\n",
    "    if np.array_equal(tile_img_annotation_annotator[i,5:8], target_verifiers_1):\n",
    "        tile_img_annotation_annotator[i,5:8] = correction_1\n",
    "    elif np.array_equal(tile_img_annotation_annotator[i,5:8], target_verifiers_2):\n",
    "        tile_img_annotation_annotator[i,5:8] = correction_2\n",
    "    elif np.array_equal(tile_img_annotation_annotator[i,5:8], target_verifiers_3):\n",
    "        tile_img_annotation_annotator[i,5:8] = correction_3"
   ]
  },
  {
   "cell_type": "code",
   "execution_count": 28,
   "id": "53331890-15aa-4306-ada3-61a54fe9ee14",
   "metadata": {},
   "outputs": [
    {
     "name": "stdout",
     "output_type": "stream",
     "text": [
      "['pa_60cm_2019_39075_m_3907507_se_18_060_20191015'\n",
      " 'pa_60cm_2019_39075_m_3907507_se_18_060_20191015_000413.jpg'\n",
      " 'D:\\\\Unverified_images\\\\student_reviewed_unverified_images/Jackson/student_reviewed_images3/chips_positive\\\\pa_60cm_2019_39075_m_3907507_se_18_060_20191015_000413.jpg'\n",
      " 'pa_60cm_2019_39075_m_3907507_se_18_060_20191015_000413.xml' 'Jackson'\n",
      " 'Jaewon' 'James' 'Poonacha']\n"
     ]
    }
   ],
   "source": [
    "print(tile_img_annotation_annotator[3900])"
   ]
  },
  {
   "cell_type": "code",
   "execution_count": null,
   "id": "594f7b8d-7bfc-408d-a266-27d21273d74f",
   "metadata": {},
   "outputs": [],
   "source": [
    "\n",
    "df = pd.read_csv (r'outputs/tile_img_annotation_annotator_df.csv')\n",
    "print (df)\n",
    "#np.save('outputs/tile_img_annotation_annotator.npy', tile_img_annotation_annotator)\n",
    "    \n",
    "#column_names = [\"tile_name\", \"chip_name\", \"chip pathway\", \"xml annotation\", \n",
    "                    \"annotator - draw\",\"annotator - verify coverage\",\n",
    "                    \"annotator - verify quality\", \"annotator - verify classes\"]\n",
    "    tile_img_annotation_annotator_df = pd.DataFrame(data = tile_img_annotation_annotator, \n",
    "                                                   index = tile_img_annotation_annotator[:,1], \n",
    "                                                   columns = column_names)\n",
    "    tile_img_annotation_annotator_df.to_csv('outputs/tile_img_annotation_annotator_df.csv')"
   ]
  },
  {
   "cell_type": "code",
   "execution_count": 56,
   "id": "6bfa1304",
   "metadata": {},
   "outputs": [
    {
     "data": {
      "text/plain": [
       "11271"
      ]
     },
     "execution_count": 56,
     "metadata": {},
     "output_type": "execute_result"
    }
   ],
   "source": [
    "files_verified = []\n",
    "dirs =  ['D:/verification/verify_josh_james_amadu_1/chips',\n",
    "                    'D:/verification/verify_jaewon_james_josh_1/chips',\n",
    "                    'D:/verification/verify_jaewon_james_amadu_1/chips',\n",
    "                    'D:/verification/verify_josh_jaewon_amadu_1/chips']\n",
    "for dir in dirs:\n",
    "    files_verified.append(os.listdir(dir))\n",
    "\n",
    "files_verified = [ item for elem in files_verified for item in elem]\n",
    "len(files_verified)"
   ]
  },
  {
   "cell_type": "code",
   "execution_count": 59,
   "id": "fe59bb28",
   "metadata": {},
   "outputs": [
    {
     "data": {
      "text/plain": [
       "11046"
      ]
     },
     "execution_count": 59,
     "metadata": {},
     "output_type": "execute_result"
    }
   ],
   "source": [
    "len(np.unique(np.array(files_verified)))"
   ]
  },
  {
   "cell_type": "code",
   "execution_count": 34,
   "id": "2e5ad977",
   "metadata": {},
   "outputs": [
    {
     "data": {
      "text/plain": [
       "11510"
      ]
     },
     "execution_count": 34,
     "metadata": {},
     "output_type": "execute_result"
    }
   ],
   "source": [
    "files_to_be_verified = []\n",
    "for dir in ap.img_path_anno_path(ap.list_of_sub_directories('D:/verification/unverified_images/student_reviewed_unverified_images'))[:,0]:\n",
    "    files_to_be_verified.append(os.listdir(dir))\n",
    "\n",
    "files_to_be_verified = [ item for elem in files_to_be_verified for item in elem]\n",
    "len(files_to_be_verified)"
   ]
  },
  {
   "cell_type": "code",
   "execution_count": 58,
   "id": "5e85219f",
   "metadata": {},
   "outputs": [
    {
     "data": {
      "text/plain": [
       "11047"
      ]
     },
     "execution_count": 58,
     "metadata": {},
     "output_type": "execute_result"
    }
   ],
   "source": [
    "len(np.unique(np.array(files_to_be_verified)))"
   ]
  },
  {
   "cell_type": "code",
   "execution_count": 49,
   "id": "9bfbab43",
   "metadata": {},
   "outputs": [
    {
     "name": "stdout",
     "output_type": "stream",
     "text": [
      "Thumbs.db\n",
      "Thumbs.db\n"
     ]
    }
   ],
   "source": [
    "for uvfile in files_to_be_verified:\n",
    "    if files_verified.count(uvfile) == 0:\n",
    "        print(uvfile)"
   ]
  },
  {
   "cell_type": "code",
   "execution_count": 47,
   "id": "11d53de6",
   "metadata": {},
   "outputs": [
    {
     "data": {
      "text/plain": [
       "set()"
      ]
     },
     "execution_count": 47,
     "metadata": {},
     "output_type": "execute_result"
    }
   ],
   "source": [
    "missing = set(files_verified) - set(files_to_be_verified) \n",
    "missing"
   ]
  },
  {
   "cell_type": "code",
   "execution_count": 45,
   "id": "ff864f7f",
   "metadata": {},
   "outputs": [
    {
     "name": "stdout",
     "output_type": "stream",
     "text": [
      "[3859, 4602]\n"
     ]
    }
   ],
   "source": [
    "\n",
    "items = [x for x in files_to_be_verified if 'Thumbs.db' in x]\n",
    "indexes = [n for n, x in enumerate(files_to_be_verified) if'Thumbs.db' in x]\n",
    "\n",
    "print(indexes)"
   ]
  }
 ],
 "metadata": {
  "kernelspec": {
   "display_name": "Chip Allocate",
   "language": "python",
   "name": "chip_allocate"
  },
  "language_info": {
   "codemirror_mode": {
    "name": "ipython",
    "version": 3
   },
   "file_extension": ".py",
   "mimetype": "text/x-python",
   "name": "python",
   "nbconvert_exporter": "python",
   "pygments_lexer": "ipython3",
   "version": "3.9.7"
  }
 },
 "nbformat": 4,
 "nbformat_minor": 5
}
