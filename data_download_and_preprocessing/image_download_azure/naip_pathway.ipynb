{
 "cells": [
  {
   "cell_type": "markdown",
   "metadata": {},
   "source": [
    "This notebooks uses the Microsoft Planetary Computer STAC API to access the NAIP dataset and collect the tile names and urls for  file pathway identified using the EIA, HFID, and other datasources."
   ]
  },
  {
   "cell_type": "markdown",
   "metadata": {},
   "source": [
    "## Load Packages"
   ]
  },
  {
   "cell_type": "code",
   "execution_count": 1,
   "metadata": {},
   "outputs": [
    {
     "ename": "ModuleNotFoundError",
     "evalue": "No module named 'rasterio'",
     "output_type": "error",
     "traceback": [
      "\u001b[1;31m---------------------------------------------------------------------------\u001b[0m",
      "\u001b[1;31mModuleNotFoundError\u001b[0m                       Traceback (most recent call last)",
      "\u001b[1;32mC:\\Users\\RAPIDU~1\\AppData\\Local\\Temp/ipykernel_5488/2040852874.py\u001b[0m in \u001b[0;36m<module>\u001b[1;34m\u001b[0m\n\u001b[0;32m     10\u001b[0m \u001b[1;32mimport\u001b[0m \u001b[0mmatplotlib\u001b[0m\u001b[1;33m.\u001b[0m\u001b[0mpyplot\u001b[0m \u001b[1;32mas\u001b[0m \u001b[0mplt\u001b[0m\u001b[1;33m\u001b[0m\u001b[1;33m\u001b[0m\u001b[0m\n\u001b[0;32m     11\u001b[0m \u001b[1;32mimport\u001b[0m \u001b[0mmatplotlib\u001b[0m\u001b[1;33m\u001b[0m\u001b[1;33m\u001b[0m\u001b[0m\n\u001b[1;32m---> 12\u001b[1;33m \u001b[1;32mimport\u001b[0m \u001b[0mrasterio\u001b[0m\u001b[1;33m\u001b[0m\u001b[1;33m\u001b[0m\u001b[0m\n\u001b[0m\u001b[0;32m     13\u001b[0m \u001b[1;32mimport\u001b[0m \u001b[0mre\u001b[0m\u001b[1;33m\u001b[0m\u001b[1;33m\u001b[0m\u001b[0m\n\u001b[0;32m     14\u001b[0m \u001b[1;32mimport\u001b[0m \u001b[0mrtree\u001b[0m\u001b[1;33m\u001b[0m\u001b[1;33m\u001b[0m\u001b[0m\n",
      "\u001b[1;31mModuleNotFoundError\u001b[0m: No module named 'rasterio'"
     ]
    }
   ],
   "source": [
    "# Standard packages\n",
    "import tempfile\n",
    "import warnings\n",
    "import urllib\n",
    "import shutil\n",
    "import os\n",
    "# Less standard, but still pip- or conda-installable\n",
    "import pandas as pd\n",
    "import numpy as np\n",
    "import matplotlib.pyplot as plt\n",
    "import matplotlib\n",
    "import rasterio\n",
    "import re\n",
    "import rtree\n",
    "import shapely\n",
    "import pickle\n",
    "\n",
    "import progressbar # pip install progressbar2, not progressbar\n",
    "from geopy.geocoders import Nominatim\n",
    "from rasterio.windows import Window \n",
    "from tqdm import tqdm\n",
    "\n",
    "import data_eng.az_proc as ap\n",
    "# some_file.py\n",
    "import sys\n",
    "# insert at 1, 0 is the script path (or '' in REPL)\n",
    "sys.path.insert(1, '/path/to/application/app/folder')\n",
    "\n",
    "import file\n",
    "from application.app.folder.file import func_name"
   ]
  },
  {
   "cell_type": "markdown",
   "metadata": {},
   "source": [
    "## Define Microsoft Azure Blob Root"
   ]
  },
  {
   "cell_type": "code",
   "execution_count": null,
   "metadata": {},
   "outputs": [],
   "source": [
    "# The(preferred) copy of NAIP in the West Europe Azure region\n",
    "\n",
    "warnings.filterwarnings(\"ignore\")\n",
    "%matplotlib inline"
   ]
  },
  {
   "cell_type": "markdown",
   "metadata": {},
   "source": [
    "## Load the spatial index of NAIP tiles"
   ]
  },
  {
   "cell_type": "code",
   "execution_count": null,
   "metadata": {},
   "outputs": [],
   "source": [
    "# Spatial index that maps lat/lon to NAIP tiles; we'll load this when we first \n",
    "# need to access it.\n",
    "index = None\n",
    "\n",
    "if index is None:\n",
    "    index = ap.NAIPTileIndex()"
   ]
  },
  {
   "cell_type": "markdown",
   "metadata": {},
   "source": [
    "## EIA and HFID Petroleum Data Sources"
   ]
  },
  {
   "cell_type": "markdown",
   "metadata": {},
   "source": [
    "## Define filepathways to save data "
   ]
  },
  {
   "cell_type": "code",
   "execution_count": 17,
   "metadata": {},
   "outputs": [],
   "source": [
    "#set folder and specify destination\n",
    "natech_dir = os.path.join('/shared_space','natech') #use the shared_space folder as the base because there is ample storage capacilty \n",
    "os.makedirs(natech_dir,exist_ok=True)\n",
    "\n",
    "naip_dir = os.path.join(natech_dir,'naip') #directory for the naip data in the base (csr33) directory \n",
    "os.makedirs(naip_dir,exist_ok=True)\n",
    "\n",
    "naip_reshape_dir = os.path.join(natech_dir,'reshape') #directory to hold reshaped naip images\n",
    "os.makedirs(naip_reshape_dir,exist_ok=True)\n",
    "\n",
    "naip_chips_dir = os.path.join(natech_dir,'chips') #directory to hold reshaped naip images\n",
    "os.makedirs(naip_chips_dir,exist_ok=True)"
   ]
  },
  {
   "cell_type": "markdown",
   "metadata": {},
   "source": [
    "# EIA and HFID "
   ]
  },
  {
   "cell_type": "markdown",
   "metadata": {},
   "source": [
    "### Load Data"
   ]
  },
  {
   "cell_type": "markdown",
   "metadata": {},
   "source": [
    "Homeland Infrastructure Foundation-Level Data (HIFLD) - Petroleum Terminals\n",
    "\n",
    "https://hifld-geoplatform.opendata.arcgis.com/datasets/7841aba67178425cbf33995fc914e2fe_0/data"
   ]
  },
  {
   "cell_type": "code",
   "execution_count": 6,
   "metadata": {},
   "outputs": [],
   "source": [
    "hfid_petroleum_terminals = pd.read_csv(\"Petroleum_Terminals_HFID.csv\") #read in sheet of quadrangles\n",
    "hfid_lons = hfid_petroleum_terminals[\"X\"].tolist()\n",
    "hfid_lats = hfid_petroleum_terminals[\"Y\"].tolist()"
   ]
  },
  {
   "cell_type": "markdown",
   "metadata": {},
   "source": [
    "EIA - Strategic Petroleum Reserves\n",
    "\n",
    "https://atlas.eia.gov/datasets/strategic-petroleum-reserves?geometry=-159.521%2C0.792%2C-28.212%2C52.750"
   ]
  },
  {
   "cell_type": "code",
   "execution_count": 7,
   "metadata": {},
   "outputs": [],
   "source": [
    "eia_strategic_petroleum_reserves = pd.read_csv(\"Strategic_Petroleum_Reserves.csv\") #read in sheet of quadrangles\n",
    "eia_spr_lons = eia_strategic_petroleum_reserves[\"X\"].tolist()\n",
    "eia_spr_lats = eia_strategic_petroleum_reserves[\"Y\"].tolist()"
   ]
  },
  {
   "cell_type": "markdown",
   "metadata": {},
   "source": [
    "EIA - Petroleum Product Terminals\n",
    "\n",
    "https://atlas.eia.gov/datasets/petroleum-product-terminals "
   ]
  },
  {
   "cell_type": "code",
   "execution_count": 8,
   "metadata": {},
   "outputs": [],
   "source": [
    "eia_petroleum_product_terminals = pd.read_csv(\"Petroleum_Product_Terminals.csv\") #read in sheet of quadrangles\n",
    "eia_ppt_lons = eia_petroleum_product_terminals[\"X\"].tolist()\n",
    "eia_ppt_lats = eia_petroleum_product_terminals[\"Y\"].tolist()"
   ]
  },
  {
   "cell_type": "markdown",
   "metadata": {},
   "source": [
    "EIA - Northeast Petroleum Reserves\n",
    "\n",
    "https://atlas.eia.gov/datasets/northeast-petroleum-reserves "
   ]
  },
  {
   "cell_type": "code",
   "execution_count": 9,
   "metadata": {},
   "outputs": [],
   "source": [
    "eia_northeast_petroleum_reserves = pd.read_csv(\"Northeast_Petroleum_Reserves.csv\") #read in sheet of quadrangles\n",
    "eia_npr_lons = eia_northeast_petroleum_reserves[\"X\"].tolist()\n",
    "eia_npr_lats = eia_northeast_petroleum_reserves[\"Y\"].tolist()"
   ]
  },
  {
   "cell_type": "markdown",
   "metadata": {},
   "source": [
    "EIA - Petroleum Refineries\n",
    "\n",
    "https://atlas.eia.gov/datasets/petroleum-refineries?geometry=-13.914%2C-56.555%2C151.320%2C84.803"
   ]
  },
  {
   "cell_type": "code",
   "execution_count": 10,
   "metadata": {},
   "outputs": [],
   "source": [
    "eia_petroleum_refineries = pd.read_csv(\"Petroleum_Refineries.csv\") #read in sheet of quadrangles\n",
    "eia_pr_lons = eia_petroleum_refineries[\"X\"].tolist()\n",
    "eia_pr_lats = eia_petroleum_refineries[\"Y\"].tolist()"
   ]
  },
  {
   "cell_type": "markdown",
   "metadata": {},
   "source": [
    "EIA - Natural Gas Processing Plants\n",
    "\n",
    "https://atlas.eia.gov/datasets/natural-gas-processing-plants"
   ]
  },
  {
   "cell_type": "code",
   "execution_count": 11,
   "metadata": {},
   "outputs": [],
   "source": [
    "eia_natural_gas_processing_plants = pd.read_csv(\"Natural_Gas_Processing_Plants.csv\") #read in sheet of quadrangles\n",
    "eia_ngpp_lons = eia_natural_gas_processing_plants[\"X\"].tolist()\n",
    "eia_ngpp_lats = eia_natural_gas_processing_plants[\"Y\"].tolist()"
   ]
  },
  {
   "cell_type": "markdown",
   "metadata": {},
   "source": [
    "### Get the Filepathways, tile name, tile URL for EIA HFID Data"
   ]
  },
  {
   "cell_type": "code",
   "execution_count": 14,
   "metadata": {},
   "outputs": [
    {
     "name": "stderr",
     "output_type": "stream",
     "text": [
      "  9%|▊         | 199/2338 [00:00<00:02, 767.33it/s] "
     ]
    },
    {
     "name": "stdout",
     "output_type": "stream",
     "text": [
      "No tile intersections\n",
      "No tile intersections\n",
      "No tile intersections\n",
      "No tile intersections\n",
      "No tile intersections\n",
      "No tile intersections\n",
      "No tile intersections\n",
      "No tile intersections\n",
      "No tile intersections\n",
      "No tile intersections\n",
      "No tile intersections\n",
      "No tile intersections\n",
      "No tile intersections\n",
      "No tile intersections\n",
      "No tile intersections\n",
      "No tile intersections\n",
      "No tile intersections\n",
      "No tile intersections\n",
      "No tile intersections\n",
      "No tile intersections\n",
      "No tile intersections\n",
      "No tile intersections\n",
      "No tile intersections\n",
      "No tile intersections\n",
      "No tile intersections\n",
      "No tile intersections\n",
      "No tile intersections\n",
      "No tile intersections\n",
      "No tile intersections\n",
      "No tile intersections\n",
      "No tile intersections\n",
      "No tile intersections\n",
      "No tile intersections\n",
      "No tile intersections\n",
      "No tile intersections\n",
      "No tile intersections\n",
      "No tile intersections\n",
      "No tile intersections\n",
      "No tile intersections\n",
      "No tile intersections\n",
      "No tile intersections\n",
      "No tile intersections\n",
      "No tile intersections\n",
      "No tile intersections\n",
      "No tile intersections\n",
      "No tile intersections\n",
      "No tile intersections\n",
      "No tile intersections\n",
      "No tile intersections\n",
      "No tile intersections\n",
      "No tile intersections\n",
      "No tile intersections\n",
      "No tile intersections\n",
      "No tile intersections\n",
      "No tile intersections\n",
      "No tile intersections\n",
      "No tile intersections\n",
      "No tile intersections\n",
      "No tile intersections\n",
      "No tile intersections\n",
      "No tile intersections\n",
      "No tile intersections\n",
      "No tile intersections\n",
      "No tile intersections\n",
      "No tile intersections\n",
      "No tile intersections\n",
      "No tile intersections\n",
      "No tile intersections\n",
      "No tile intersections\n",
      "No tile intersections\n",
      "No tile intersections\n",
      "No tile intersections\n",
      "No tile intersections\n",
      "No tile intersections\n",
      "No tile intersections\n"
     ]
    },
    {
     "name": "stderr",
     "output_type": "stream",
     "text": [
      " 24%|██▍       | 570/2338 [00:02<00:11, 149.46it/s]"
     ]
    },
    {
     "name": "stdout",
     "output_type": "stream",
     "text": [
      "No tile intersections\n",
      "No tile intersections\n",
      "No tile intersections\n",
      "No tile intersections\n",
      "No tile intersections\n",
      "No tile intersections\n",
      "No tile intersections\n",
      "No tile intersections\n",
      "No tile intersections\n",
      "No tile intersections\n",
      "No tile intersections\n",
      "No tile intersections\n",
      "No tile intersections\n",
      "No tile intersections\n",
      "No tile intersections\n",
      "No tile intersections\n",
      "No tile intersections\n",
      "No tile intersections\n",
      "No tile intersections\n",
      "No tile intersections\n",
      "No tile intersections\n",
      "No tile intersections\n",
      "No tile intersections\n",
      "No tile intersections\n",
      "No tile intersections\n",
      "No tile intersections\n",
      "No tile intersections\n",
      "No tile intersections\n",
      "No tile intersections\n",
      "No tile intersections\n"
     ]
    },
    {
     "name": "stderr",
     "output_type": "stream",
     "text": [
      "100%|██████████| 2338/2338 [00:42<00:00, 55.27it/s]\n",
      "100%|██████████| 4/4 [00:00<00:00, 1214.60it/s]\n",
      "  8%|▊         | 112/1476 [00:00<00:01, 1105.08it/s]"
     ]
    },
    {
     "name": "stdout",
     "output_type": "stream",
     "text": [
      "No tile intersections\n",
      "No tile intersections\n",
      "No tile intersections\n",
      "No tile intersections\n",
      "No tile intersections\n",
      "No tile intersections\n",
      "No tile intersections\n",
      "No tile intersections\n",
      "No tile intersections\n"
     ]
    },
    {
     "name": "stderr",
     "output_type": "stream",
     "text": [
      " 16%|█▌        | 229/1476 [00:00<00:01, 746.44it/s] "
     ]
    },
    {
     "name": "stdout",
     "output_type": "stream",
     "text": [
      "No tile intersections\n",
      "No tile intersections\n",
      "No tile intersections\n",
      "No tile intersections\n",
      "No tile intersections\n",
      "No tile intersections\n",
      "No tile intersections\n",
      "No tile intersections\n",
      "No tile intersections\n",
      "No tile intersections\n"
     ]
    },
    {
     "name": "stderr",
     "output_type": "stream",
     "text": [
      " 27%|██▋       | 399/1476 [00:00<00:03, 352.25it/s]"
     ]
    },
    {
     "name": "stdout",
     "output_type": "stream",
     "text": [
      "No tile intersections\n"
     ]
    },
    {
     "name": "stderr",
     "output_type": "stream",
     "text": [
      " 32%|███▏      | 466/1476 [00:01<00:03, 302.37it/s]"
     ]
    },
    {
     "name": "stdout",
     "output_type": "stream",
     "text": [
      "No tile intersections\n",
      "No tile intersections\n",
      "No tile intersections\n",
      "No tile intersections\n",
      "No tile intersections\n",
      "No tile intersections\n",
      "No tile intersections\n",
      "No tile intersections\n",
      "No tile intersections\n",
      "No tile intersections\n",
      "No tile intersections\n"
     ]
    },
    {
     "name": "stderr",
     "output_type": "stream",
     "text": [
      " 38%|███▊      | 554/1476 [00:01<00:03, 257.54it/s]"
     ]
    },
    {
     "name": "stdout",
     "output_type": "stream",
     "text": [
      "No tile intersections\n",
      "No tile intersections\n",
      "No tile intersections\n",
      "No tile intersections\n",
      "No tile intersections\n",
      "No tile intersections\n"
     ]
    },
    {
     "name": "stderr",
     "output_type": "stream",
     "text": [
      " 48%|████▊     | 703/1476 [00:02<00:03, 211.35it/s]"
     ]
    },
    {
     "name": "stdout",
     "output_type": "stream",
     "text": [
      "No tile intersections\n",
      "No tile intersections\n",
      "No tile intersections\n",
      "No tile intersections\n",
      "No tile intersections\n",
      "No tile intersections\n",
      "No tile intersections\n",
      "No tile intersections\n",
      "No tile intersections\n",
      "No tile intersections\n",
      "No tile intersections\n"
     ]
    },
    {
     "name": "stderr",
     "output_type": "stream",
     "text": [
      " 52%|█████▏    | 766/1476 [00:02<00:03, 187.01it/s]"
     ]
    },
    {
     "name": "stdout",
     "output_type": "stream",
     "text": [
      "No tile intersections\n",
      "No tile intersections\n",
      "No tile intersections\n",
      "No tile intersections\n",
      "No tile intersections\n",
      "No tile intersections\n",
      "No tile intersections\n",
      "No tile intersections\n"
     ]
    },
    {
     "name": "stderr",
     "output_type": "stream",
     "text": [
      " 59%|█████▊    | 866/1476 [00:03<00:04, 143.64it/s]"
     ]
    },
    {
     "name": "stdout",
     "output_type": "stream",
     "text": [
      "No tile intersections\n",
      "No tile intersections\n",
      "No tile intersections\n",
      "No tile intersections\n",
      "No tile intersections\n",
      "No tile intersections\n",
      "No tile intersections\n"
     ]
    },
    {
     "name": "stderr",
     "output_type": "stream",
     "text": [
      " 71%|███████   | 1044/1476 [00:05<00:04, 92.66it/s]"
     ]
    },
    {
     "name": "stdout",
     "output_type": "stream",
     "text": [
      "No tile intersections\n",
      "No tile intersections\n",
      "No tile intersections\n",
      "No tile intersections\n"
     ]
    },
    {
     "name": "stderr",
     "output_type": "stream",
     "text": [
      " 74%|███████▍  | 1091/1476 [00:05<00:05, 73.34it/s]"
     ]
    },
    {
     "name": "stdout",
     "output_type": "stream",
     "text": [
      "No tile intersections\n"
     ]
    },
    {
     "name": "stderr",
     "output_type": "stream",
     "text": [
      " 80%|███████▉  | 1177/1476 [00:07<00:04, 71.51it/s]"
     ]
    },
    {
     "name": "stdout",
     "output_type": "stream",
     "text": [
      "No tile intersections\n",
      "No tile intersections\n",
      "No tile intersections\n",
      "No tile intersections\n",
      "No tile intersections\n",
      "No tile intersections\n"
     ]
    },
    {
     "name": "stderr",
     "output_type": "stream",
     "text": [
      " 84%|████████▍ | 1244/1476 [00:07<00:03, 71.90it/s]"
     ]
    },
    {
     "name": "stdout",
     "output_type": "stream",
     "text": [
      "No tile intersections\n",
      "No tile intersections\n"
     ]
    },
    {
     "name": "stderr",
     "output_type": "stream",
     "text": [
      " 87%|████████▋ | 1284/1476 [00:08<00:02, 70.69it/s]"
     ]
    },
    {
     "name": "stdout",
     "output_type": "stream",
     "text": [
      "No tile intersections\n",
      "No tile intersections\n",
      "No tile intersections\n",
      "No tile intersections\n",
      "No tile intersections\n"
     ]
    },
    {
     "name": "stderr",
     "output_type": "stream",
     "text": [
      " 89%|████████▉ | 1313/1476 [00:09<00:02, 56.82it/s]"
     ]
    },
    {
     "name": "stdout",
     "output_type": "stream",
     "text": [
      "No tile intersections\n",
      "No tile intersections\n"
     ]
    },
    {
     "name": "stderr",
     "output_type": "stream",
     "text": [
      " 90%|████████▉ | 1326/1476 [00:09<00:02, 50.99it/s]"
     ]
    },
    {
     "name": "stdout",
     "output_type": "stream",
     "text": [
      "No tile intersections\n"
     ]
    },
    {
     "name": "stderr",
     "output_type": "stream",
     "text": [
      " 91%|█████████ | 1345/1476 [00:09<00:02, 53.77it/s]"
     ]
    },
    {
     "name": "stdout",
     "output_type": "stream",
     "text": [
      "No tile intersections\n"
     ]
    },
    {
     "name": "stderr",
     "output_type": "stream",
     "text": [
      " 92%|█████████▏| 1359/1476 [00:09<00:01, 59.09it/s]"
     ]
    },
    {
     "name": "stdout",
     "output_type": "stream",
     "text": [
      "No tile intersections\n",
      "No tile intersections\n"
     ]
    },
    {
     "name": "stderr",
     "output_type": "stream",
     "text": [
      "100%|██████████| 1476/1476 [00:12<00:00, 115.88it/s]\n",
      "100%|██████████| 6/6 [00:00<00:00, 1394.00it/s]\n",
      "100%|██████████| 135/135 [00:00<00:00, 1204.73it/s]\n",
      "  0%|          | 0/478 [00:00<?, ?it/s]"
     ]
    },
    {
     "name": "stdout",
     "output_type": "stream",
     "text": [
      "No tile intersections\n",
      "No tile intersections\n",
      "No tile intersections\n",
      "No tile intersections\n",
      "No tile intersections\n",
      "No tile intersections\n",
      "No tile intersections\n"
     ]
    },
    {
     "name": "stderr",
     "output_type": "stream",
     "text": [
      "100%|██████████| 478/478 [00:00<00:00, 507.98it/s] \n"
     ]
    }
   ],
   "source": [
    "hfid_file_pathways = collected_quads_to_tile_name_tile_url(hfid_lons, hfid_lats)\n",
    "eia_spr_file_pathways = collected_quads_to_tile_name_tile_url(eia_spr_lons, eia_spr_lats)\n",
    "eia_ppt_file_pathways = collected_quads_to_tile_name_tile_url(eia_ppt_lons, eia_ppt_lats)\n",
    "eia_npr_file_pathways = collected_quads_to_tile_name_tile_url(eia_npr_lons, eia_npr_lats)\n",
    "eia_pr_file_pathways = collected_quads_to_tile_name_tile_url(eia_pr_lons, eia_pr_lats)\n",
    "eia_ngpp_file_pathways = collected_quads_to_tile_name_tile_url(eia_ngpp_lons, eia_ngpp_lats)\n",
    "\n",
    "#filepathways \n",
    "petrol_file_pathways = np.vstack((hfid_file_pathways, eia_spr_file_pathways, eia_ppt_file_pathways, eia_npr_file_pathways, eia_pr_file_pathways, eia_ngpp_file_pathways)) \n",
    "petrol_file_pathways = np.unique(petrol_file_pathways , axis=0)\n",
    "\n",
    "#tile names and urls \n",
    "tile_name_eia_hfid, tile_url_eia_hfid = filepaths_to_tile_name_tile_url(petrol_file_pathways)\n",
    "tile_name_tile_url_eia_hfid = np.column_stack((tile_name_eia_hfid, tile_url_eia_hfid))"
   ]
  },
  {
   "cell_type": "markdown",
   "metadata": {},
   "source": [
    "# Group Identified ASTs"
   ]
  },
  {
   "cell_type": "markdown",
   "metadata": {},
   "source": [
    "## Thirty Ports"
   ]
  },
  {
   "cell_type": "code",
   "execution_count": 16,
   "metadata": {},
   "outputs": [],
   "source": [
    "thirty_port_quads = pd.read_csv(\"Quadrangles_of_interest.csv\") #read in sheet of quadrangles\n",
    "\n",
    "tile_name_thirty_ports, tile_url_thirty_ports = collected_quads_to_tile_name_tile_url(thirty_port_quads) # identify filespaths/urls for quads of interest\n",
    "\n",
    "tile_name_tile_url_thirty_ports = np.column_stack((tile_name_thirty_ports, tile_url_thirty_ports))"
   ]
  },
  {
   "cell_type": "markdown",
   "metadata": {},
   "source": [
    "# Combine Filepaths from each source"
   ]
  },
  {
   "cell_type": "code",
   "execution_count": 17,
   "metadata": {},
   "outputs": [
    {
     "name": "stdout",
     "output_type": "stream",
     "text": [
      "(1459, 2)\n",
      "(1389, 2)\n"
     ]
    }
   ],
   "source": [
    "tile_name_tile_url_eia_hfid_thirty_ports = np.vstack((tile_name_tile_url_eia_hfid, tile_name_tile_url_thirty_ports))\n",
    "print(tile_name_tile_url_eia_hfid_thirty_ports.shape)\n",
    "tile_name_tile_url_eia_hfid_thirty_ports = np.unique(tile_name_tile_url_eia_hfid_thirty_ports, axis=0)\n",
    "print(tile_name_tile_url_eia_hfid_thirty_ports.shape)"
   ]
  },
  {
   "cell_type": "markdown",
   "metadata": {},
   "source": [
    "### Save tile name and url"
   ]
  },
  {
   "cell_type": "code",
   "execution_count": 18,
   "metadata": {},
   "outputs": [],
   "source": [
    "np.save(\"tile_name_tile_url_eia_hfid_thirty_ports\", tile_name_tile_url_eia_hfid_thirty_ports)"
   ]
  },
  {
   "cell_type": "code",
   "execution_count": 14,
   "metadata": {},
   "outputs": [
    {
     "data": {
      "text/plain": [
       "'C:\\\\Users\\\\Student\\\\AST\\\\data_download_and_preprocessing\\\\label_work'"
      ]
     },
     "execution_count": 14,
     "metadata": {},
     "output_type": "execute_result"
    }
   ],
   "source": [
    "os.getcwd()"
   ]
  },
  {
   "cell_type": "code",
   "execution_count": 10,
   "metadata": {},
   "outputs": [
    {
     "ename": "FileNotFoundError",
     "evalue": "[Errno 2] No such file or directory: 'identified_sites.csv'",
     "output_type": "error",
     "traceback": [
      "\u001b[1;31m---------------------------------------------------------------------------\u001b[0m",
      "\u001b[1;31mFileNotFoundError\u001b[0m                         Traceback (most recent call last)",
      "\u001b[1;32m<ipython-input-10-84637c422cce>\u001b[0m in \u001b[0;36m<module>\u001b[1;34m\u001b[0m\n\u001b[1;32m----> 1\u001b[1;33m \u001b[0mexpanded_sites\u001b[0m \u001b[1;33m=\u001b[0m \u001b[0mpd\u001b[0m\u001b[1;33m.\u001b[0m\u001b[0mread_csv\u001b[0m\u001b[1;33m(\u001b[0m\u001b[1;34m\"identified_sites.csv\"\u001b[0m\u001b[1;33m)\u001b[0m \u001b[1;31m#read in sheet of quadrangles\u001b[0m\u001b[1;33m\u001b[0m\u001b[1;33m\u001b[0m\u001b[0m\n\u001b[0m\u001b[0;32m      2\u001b[0m \u001b[0mexpanded_sites_lat\u001b[0m \u001b[1;33m=\u001b[0m \u001b[0mexpanded_sites\u001b[0m\u001b[1;33m[\u001b[0m\u001b[1;34m\"Lat\"\u001b[0m\u001b[1;33m]\u001b[0m\u001b[1;33m.\u001b[0m\u001b[0mtolist\u001b[0m\u001b[1;33m(\u001b[0m\u001b[1;33m)\u001b[0m\u001b[1;33m\u001b[0m\u001b[1;33m\u001b[0m\u001b[0m\n\u001b[0;32m      3\u001b[0m \u001b[0mexpanded_sites_lon\u001b[0m \u001b[1;33m=\u001b[0m \u001b[0meia_petroleum_refineries\u001b[0m\u001b[1;33m[\u001b[0m\u001b[1;34m\"Lon\"\u001b[0m\u001b[1;33m]\u001b[0m\u001b[1;33m.\u001b[0m\u001b[0mtolist\u001b[0m\u001b[1;33m(\u001b[0m\u001b[1;33m)\u001b[0m\u001b[1;33m\u001b[0m\u001b[1;33m\u001b[0m\u001b[0m\n",
      "\u001b[1;32m~\\anaconda3\\lib\\site-packages\\pandas\\io\\parsers.py\u001b[0m in \u001b[0;36mread_csv\u001b[1;34m(filepath_or_buffer, sep, delimiter, header, names, index_col, usecols, squeeze, prefix, mangle_dupe_cols, dtype, engine, converters, true_values, false_values, skipinitialspace, skiprows, skipfooter, nrows, na_values, keep_default_na, na_filter, verbose, skip_blank_lines, parse_dates, infer_datetime_format, keep_date_col, date_parser, dayfirst, cache_dates, iterator, chunksize, compression, thousands, decimal, lineterminator, quotechar, quoting, doublequote, escapechar, comment, encoding, dialect, error_bad_lines, warn_bad_lines, delim_whitespace, low_memory, memory_map, float_precision, storage_options)\u001b[0m\n\u001b[0;32m    608\u001b[0m     \u001b[0mkwds\u001b[0m\u001b[1;33m.\u001b[0m\u001b[0mupdate\u001b[0m\u001b[1;33m(\u001b[0m\u001b[0mkwds_defaults\u001b[0m\u001b[1;33m)\u001b[0m\u001b[1;33m\u001b[0m\u001b[1;33m\u001b[0m\u001b[0m\n\u001b[0;32m    609\u001b[0m \u001b[1;33m\u001b[0m\u001b[0m\n\u001b[1;32m--> 610\u001b[1;33m     \u001b[1;32mreturn\u001b[0m \u001b[0m_read\u001b[0m\u001b[1;33m(\u001b[0m\u001b[0mfilepath_or_buffer\u001b[0m\u001b[1;33m,\u001b[0m \u001b[0mkwds\u001b[0m\u001b[1;33m)\u001b[0m\u001b[1;33m\u001b[0m\u001b[1;33m\u001b[0m\u001b[0m\n\u001b[0m\u001b[0;32m    611\u001b[0m \u001b[1;33m\u001b[0m\u001b[0m\n\u001b[0;32m    612\u001b[0m \u001b[1;33m\u001b[0m\u001b[0m\n",
      "\u001b[1;32m~\\anaconda3\\lib\\site-packages\\pandas\\io\\parsers.py\u001b[0m in \u001b[0;36m_read\u001b[1;34m(filepath_or_buffer, kwds)\u001b[0m\n\u001b[0;32m    460\u001b[0m \u001b[1;33m\u001b[0m\u001b[0m\n\u001b[0;32m    461\u001b[0m     \u001b[1;31m# Create the parser.\u001b[0m\u001b[1;33m\u001b[0m\u001b[1;33m\u001b[0m\u001b[1;33m\u001b[0m\u001b[0m\n\u001b[1;32m--> 462\u001b[1;33m     \u001b[0mparser\u001b[0m \u001b[1;33m=\u001b[0m \u001b[0mTextFileReader\u001b[0m\u001b[1;33m(\u001b[0m\u001b[0mfilepath_or_buffer\u001b[0m\u001b[1;33m,\u001b[0m \u001b[1;33m**\u001b[0m\u001b[0mkwds\u001b[0m\u001b[1;33m)\u001b[0m\u001b[1;33m\u001b[0m\u001b[1;33m\u001b[0m\u001b[0m\n\u001b[0m\u001b[0;32m    463\u001b[0m \u001b[1;33m\u001b[0m\u001b[0m\n\u001b[0;32m    464\u001b[0m     \u001b[1;32mif\u001b[0m \u001b[0mchunksize\u001b[0m \u001b[1;32mor\u001b[0m \u001b[0miterator\u001b[0m\u001b[1;33m:\u001b[0m\u001b[1;33m\u001b[0m\u001b[1;33m\u001b[0m\u001b[0m\n",
      "\u001b[1;32m~\\anaconda3\\lib\\site-packages\\pandas\\io\\parsers.py\u001b[0m in \u001b[0;36m__init__\u001b[1;34m(self, f, engine, **kwds)\u001b[0m\n\u001b[0;32m    817\u001b[0m             \u001b[0mself\u001b[0m\u001b[1;33m.\u001b[0m\u001b[0moptions\u001b[0m\u001b[1;33m[\u001b[0m\u001b[1;34m\"has_index_names\"\u001b[0m\u001b[1;33m]\u001b[0m \u001b[1;33m=\u001b[0m \u001b[0mkwds\u001b[0m\u001b[1;33m[\u001b[0m\u001b[1;34m\"has_index_names\"\u001b[0m\u001b[1;33m]\u001b[0m\u001b[1;33m\u001b[0m\u001b[1;33m\u001b[0m\u001b[0m\n\u001b[0;32m    818\u001b[0m \u001b[1;33m\u001b[0m\u001b[0m\n\u001b[1;32m--> 819\u001b[1;33m         \u001b[0mself\u001b[0m\u001b[1;33m.\u001b[0m\u001b[0m_engine\u001b[0m \u001b[1;33m=\u001b[0m \u001b[0mself\u001b[0m\u001b[1;33m.\u001b[0m\u001b[0m_make_engine\u001b[0m\u001b[1;33m(\u001b[0m\u001b[0mself\u001b[0m\u001b[1;33m.\u001b[0m\u001b[0mengine\u001b[0m\u001b[1;33m)\u001b[0m\u001b[1;33m\u001b[0m\u001b[1;33m\u001b[0m\u001b[0m\n\u001b[0m\u001b[0;32m    820\u001b[0m \u001b[1;33m\u001b[0m\u001b[0m\n\u001b[0;32m    821\u001b[0m     \u001b[1;32mdef\u001b[0m \u001b[0mclose\u001b[0m\u001b[1;33m(\u001b[0m\u001b[0mself\u001b[0m\u001b[1;33m)\u001b[0m\u001b[1;33m:\u001b[0m\u001b[1;33m\u001b[0m\u001b[1;33m\u001b[0m\u001b[0m\n",
      "\u001b[1;32m~\\anaconda3\\lib\\site-packages\\pandas\\io\\parsers.py\u001b[0m in \u001b[0;36m_make_engine\u001b[1;34m(self, engine)\u001b[0m\n\u001b[0;32m   1048\u001b[0m             )\n\u001b[0;32m   1049\u001b[0m         \u001b[1;31m# error: Too many arguments for \"ParserBase\"\u001b[0m\u001b[1;33m\u001b[0m\u001b[1;33m\u001b[0m\u001b[1;33m\u001b[0m\u001b[0m\n\u001b[1;32m-> 1050\u001b[1;33m         \u001b[1;32mreturn\u001b[0m \u001b[0mmapping\u001b[0m\u001b[1;33m[\u001b[0m\u001b[0mengine\u001b[0m\u001b[1;33m]\u001b[0m\u001b[1;33m(\u001b[0m\u001b[0mself\u001b[0m\u001b[1;33m.\u001b[0m\u001b[0mf\u001b[0m\u001b[1;33m,\u001b[0m \u001b[1;33m**\u001b[0m\u001b[0mself\u001b[0m\u001b[1;33m.\u001b[0m\u001b[0moptions\u001b[0m\u001b[1;33m)\u001b[0m  \u001b[1;31m# type: ignore[call-arg]\u001b[0m\u001b[1;33m\u001b[0m\u001b[1;33m\u001b[0m\u001b[0m\n\u001b[0m\u001b[0;32m   1051\u001b[0m \u001b[1;33m\u001b[0m\u001b[0m\n\u001b[0;32m   1052\u001b[0m     \u001b[1;32mdef\u001b[0m \u001b[0m_failover_to_python\u001b[0m\u001b[1;33m(\u001b[0m\u001b[0mself\u001b[0m\u001b[1;33m)\u001b[0m\u001b[1;33m:\u001b[0m\u001b[1;33m\u001b[0m\u001b[1;33m\u001b[0m\u001b[0m\n",
      "\u001b[1;32m~\\anaconda3\\lib\\site-packages\\pandas\\io\\parsers.py\u001b[0m in \u001b[0;36m__init__\u001b[1;34m(self, src, **kwds)\u001b[0m\n\u001b[0;32m   1865\u001b[0m \u001b[1;33m\u001b[0m\u001b[0m\n\u001b[0;32m   1866\u001b[0m         \u001b[1;31m# open handles\u001b[0m\u001b[1;33m\u001b[0m\u001b[1;33m\u001b[0m\u001b[1;33m\u001b[0m\u001b[0m\n\u001b[1;32m-> 1867\u001b[1;33m         \u001b[0mself\u001b[0m\u001b[1;33m.\u001b[0m\u001b[0m_open_handles\u001b[0m\u001b[1;33m(\u001b[0m\u001b[0msrc\u001b[0m\u001b[1;33m,\u001b[0m \u001b[0mkwds\u001b[0m\u001b[1;33m)\u001b[0m\u001b[1;33m\u001b[0m\u001b[1;33m\u001b[0m\u001b[0m\n\u001b[0m\u001b[0;32m   1868\u001b[0m         \u001b[1;32massert\u001b[0m \u001b[0mself\u001b[0m\u001b[1;33m.\u001b[0m\u001b[0mhandles\u001b[0m \u001b[1;32mis\u001b[0m \u001b[1;32mnot\u001b[0m \u001b[1;32mNone\u001b[0m\u001b[1;33m\u001b[0m\u001b[1;33m\u001b[0m\u001b[0m\n\u001b[0;32m   1869\u001b[0m         \u001b[1;32mfor\u001b[0m \u001b[0mkey\u001b[0m \u001b[1;32min\u001b[0m \u001b[1;33m(\u001b[0m\u001b[1;34m\"storage_options\"\u001b[0m\u001b[1;33m,\u001b[0m \u001b[1;34m\"encoding\"\u001b[0m\u001b[1;33m,\u001b[0m \u001b[1;34m\"memory_map\"\u001b[0m\u001b[1;33m,\u001b[0m \u001b[1;34m\"compression\"\u001b[0m\u001b[1;33m)\u001b[0m\u001b[1;33m:\u001b[0m\u001b[1;33m\u001b[0m\u001b[1;33m\u001b[0m\u001b[0m\n",
      "\u001b[1;32m~\\anaconda3\\lib\\site-packages\\pandas\\io\\parsers.py\u001b[0m in \u001b[0;36m_open_handles\u001b[1;34m(self, src, kwds)\u001b[0m\n\u001b[0;32m   1360\u001b[0m         \u001b[0mLet\u001b[0m \u001b[0mthe\u001b[0m \u001b[0mreaders\u001b[0m \u001b[0mopen\u001b[0m \u001b[0mIOHanldes\u001b[0m \u001b[0mafter\u001b[0m \u001b[0mthey\u001b[0m \u001b[0mare\u001b[0m \u001b[0mdone\u001b[0m \u001b[1;32mwith\u001b[0m \u001b[0mtheir\u001b[0m \u001b[0mpotential\u001b[0m \u001b[0mraises\u001b[0m\u001b[1;33m.\u001b[0m\u001b[1;33m\u001b[0m\u001b[1;33m\u001b[0m\u001b[0m\n\u001b[0;32m   1361\u001b[0m         \"\"\"\n\u001b[1;32m-> 1362\u001b[1;33m         self.handles = get_handle(\n\u001b[0m\u001b[0;32m   1363\u001b[0m             \u001b[0msrc\u001b[0m\u001b[1;33m,\u001b[0m\u001b[1;33m\u001b[0m\u001b[1;33m\u001b[0m\u001b[0m\n\u001b[0;32m   1364\u001b[0m             \u001b[1;34m\"r\"\u001b[0m\u001b[1;33m,\u001b[0m\u001b[1;33m\u001b[0m\u001b[1;33m\u001b[0m\u001b[0m\n",
      "\u001b[1;32m~\\anaconda3\\lib\\site-packages\\pandas\\io\\common.py\u001b[0m in \u001b[0;36mget_handle\u001b[1;34m(path_or_buf, mode, encoding, compression, memory_map, is_text, errors, storage_options)\u001b[0m\n\u001b[0;32m    640\u001b[0m                 \u001b[0merrors\u001b[0m \u001b[1;33m=\u001b[0m \u001b[1;34m\"replace\"\u001b[0m\u001b[1;33m\u001b[0m\u001b[1;33m\u001b[0m\u001b[0m\n\u001b[0;32m    641\u001b[0m             \u001b[1;31m# Encoding\u001b[0m\u001b[1;33m\u001b[0m\u001b[1;33m\u001b[0m\u001b[1;33m\u001b[0m\u001b[0m\n\u001b[1;32m--> 642\u001b[1;33m             handle = open(\n\u001b[0m\u001b[0;32m    643\u001b[0m                 \u001b[0mhandle\u001b[0m\u001b[1;33m,\u001b[0m\u001b[1;33m\u001b[0m\u001b[1;33m\u001b[0m\u001b[0m\n\u001b[0;32m    644\u001b[0m                 \u001b[0mioargs\u001b[0m\u001b[1;33m.\u001b[0m\u001b[0mmode\u001b[0m\u001b[1;33m,\u001b[0m\u001b[1;33m\u001b[0m\u001b[1;33m\u001b[0m\u001b[0m\n",
      "\u001b[1;31mFileNotFoundError\u001b[0m: [Errno 2] No such file or directory: 'identified_sites.csv'"
     ]
    }
   ],
   "source": [
    "expanded_sites = pd.read_csv(\"identified_sites.csv\") #read in sheet of quadrangles\n",
    "expanded_sites_lat = expanded_sites[\"Lat\"].tolist()\n",
    "expanded_sites_lon = eia_petroleum_refineries[\"Lon\"].tolist()"
   ]
  }
 ],
 "metadata": {
  "kernelspec": {
   "display_name": "Chip Allocate",
   "language": "python",
   "name": "chip_allocate"
  },
  "language_info": {
   "codemirror_mode": {
    "name": "ipython",
    "version": 3
   },
   "file_extension": ".py",
   "mimetype": "text/x-python",
   "name": "python",
   "nbconvert_exporter": "python",
   "pygments_lexer": "ipython3",
   "version": "3.9.7"
  }
 },
 "nbformat": 4,
 "nbformat_minor": 4
}
