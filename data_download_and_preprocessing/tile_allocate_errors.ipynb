{
 "cells": [
  {
   "cell_type": "code",
   "execution_count": 1,
   "id": "9b5e1fab-0c21-4c81-83b7-d06f68c84a4b",
   "metadata": {},
   "outputs": [],
   "source": [
    "# Standard packages\n",
    "import tempfile\n",
    "import warnings\n",
    "import urllib\n",
    "import shutil\n",
    "import os\n",
    "# Less standard, but still pip- or conda-installable\n",
    "import pandas as pd\n",
    "import numpy as np\n",
    "import matplotlib.pyplot as plt\n",
    "import matplotlib\n",
    "import rasterio\n",
    "import re\n",
    "import rtree\n",
    "import shapely\n",
    "import pickle\n",
    "import data_eng.az_proc as ap"
   ]
  },
  {
   "cell_type": "code",
   "execution_count": 2,
   "id": "10730089-5376-41ce-83c5-2974c43d24e3",
   "metadata": {},
   "outputs": [
    {
     "name": "stdout",
     "output_type": "stream",
     "text": [
      "PIL 8.2.0\n"
     ]
    }
   ],
   "source": [
    "import PIL\n",
    "print('PIL',PIL.__version__)\n",
    "from PIL import Image\n",
    "Image.MAX_IMAGE_PIXELS = None"
   ]
  },
  {
   "cell_type": "code",
   "execution_count": 3,
   "id": "54d132f2-2a27-4bb2-b1dc-63eee48bbda0",
   "metadata": {},
   "outputs": [],
   "source": [
    "parent_directory = \"C:\\chip_allocation_temp\"\n",
    "annotation_directory = \"Jonathan\"\n",
    "number_of_tiles = 20\n",
    "tiles_remaining = \"tile_name_tile_url_remaining_expanded.npy\"\n",
    "tiles_labeled = \"tile_name_tile_url_labeled.npy\""
   ]
  },
  {
   "cell_type": "code",
   "execution_count": 4,
   "id": "a3760737-15b0-4a18-8a6d-44441fc4092f",
   "metadata": {},
   "outputs": [
    {
     "name": "stdout",
     "output_type": "stream",
     "text": [
      "Unlabeled Tiles (1128, 2)\n"
     ]
    }
   ],
   "source": [
    "dist = ap.annotator(annotation_directory) #create the processing class\n",
    "dist.state_dcc_directory(parent_directory)\n",
    "dist.number_of_tiles(number_of_tiles)\n",
    "dist.get_tile_urls(tiles_remaining)\n",
    "dist.make_subdirectories()"
   ]
  },
  {
   "cell_type": "code",
   "execution_count": 67,
   "id": "92741afb-3111-457b-96a4-6ea135dcb0b3",
   "metadata": {},
   "outputs": [
    {
     "data": {
      "text/plain": [
       "(1128, 2)"
      ]
     },
     "execution_count": 67,
     "metadata": {},
     "output_type": "execute_result"
    }
   ],
   "source": [
    "#np.load('tile_name_tile_url_remaining_expanded.npy').shape\n",
    "#row_to_remove = 2\n",
    "#error_downloading = np.concatenate((np.load('tile_name_tile_url_error_downloading.npy'), dist.tile_name_tile_url_tiles_for_annotators[row_to_remove]))\n",
    "#np.save('tile_name_tile_url_error_downloading.npy', error_downloading)\n",
    "# Remove the rows with errors\n",
    "#np.save('tile_name_tile_url_remaining_expanded',dist.tile_name_tile_url_unlabeled)\n",
    "#np.save('tile_name_tile_url_remaining_expanded',np.delete(np.load(tiles_remaining), row_to_remove, axis = 0))\n",
    "#np.load('tile_name_tile_url_remaining_expanded.npy').shape"
   ]
  },
  {
   "cell_type": "code",
   "execution_count": 70,
   "id": "27daf4d2-9f98-43f1-9dc5-152e3cfc4027",
   "metadata": {},
   "outputs": [
    {
     "name": "stdout",
     "output_type": "stream",
     "text": [
      "Bypassing download of already-downloaded file m_4108723_se_16_060_20180706_20181211.tif\n",
      "Bypassing download of already-downloaded file m_2909837_ne_14_060_20181102_20190518.tif\n"
     ]
    },
    {
     "name": "stderr",
     "output_type": "stream",
     "text": [
      "100% (586766746 of 586766746) |##########| Elapsed Time: 0:00:43 Time:  0:00:43\n"
     ]
    },
    {
     "name": "stdout",
     "output_type": "stream",
     "text": [
      "...done, 586766746 bytes.\n"
     ]
    },
    {
     "name": "stderr",
     "output_type": "stream",
     "text": [
      "100% (567348363 of 567348363) |##########| Elapsed Time: 0:00:44 Time:  0:00:44\n",
      "N/A% (0 of 611471072) |                  | Elapsed Time: 0:00:00 ETA:  --:--:--"
     ]
    },
    {
     "name": "stdout",
     "output_type": "stream",
     "text": [
      "...done, 567348363 bytes.\n"
     ]
    },
    {
     "name": "stderr",
     "output_type": "stream",
     "text": [
      "100% (611471072 of 611471072) |##########| Elapsed Time: 0:00:33 Time:  0:00:33\n"
     ]
    },
    {
     "name": "stdout",
     "output_type": "stream",
     "text": [
      "...done, 611471072 bytes.\n"
     ]
    },
    {
     "name": "stderr",
     "output_type": "stream",
     "text": [
      "100% (465763135 of 465763135) |##########| Elapsed Time: 0:00:20 Time:  0:00:20\n"
     ]
    },
    {
     "name": "stdout",
     "output_type": "stream",
     "text": [
      "...done, 465763135 bytes.\n"
     ]
    },
    {
     "name": "stderr",
     "output_type": "stream",
     "text": [
      "100% (558089494 of 558089494) |##########| Elapsed Time: 0:00:35 Time:  0:00:35\n"
     ]
    },
    {
     "name": "stdout",
     "output_type": "stream",
     "text": [
      "...done, 558089494 bytes.\n"
     ]
    },
    {
     "name": "stderr",
     "output_type": "stream",
     "text": [
      "100% (572261080 of 572261080) |##########| Elapsed Time: 0:00:26 Time:  0:00:26\n"
     ]
    },
    {
     "name": "stdout",
     "output_type": "stream",
     "text": [
      "...done, 572261080 bytes.\n"
     ]
    },
    {
     "name": "stderr",
     "output_type": "stream",
     "text": [
      "100% (599733487 of 599733487) |##########| Elapsed Time: 0:00:42 Time:  0:00:42\n"
     ]
    },
    {
     "name": "stdout",
     "output_type": "stream",
     "text": [
      "...done, 599733487 bytes.\n"
     ]
    },
    {
     "name": "stderr",
     "output_type": "stream",
     "text": [
      "100% (559390636 of 559390636) |##########| Elapsed Time: 0:00:37 Time:  0:00:37\n"
     ]
    },
    {
     "name": "stdout",
     "output_type": "stream",
     "text": [
      "...done, 559390636 bytes.\n"
     ]
    },
    {
     "name": "stderr",
     "output_type": "stream",
     "text": [
      "100% (510357757 of 510357757) |##########| Elapsed Time: 0:00:28 Time:  0:00:28\n"
     ]
    },
    {
     "name": "stdout",
     "output_type": "stream",
     "text": [
      "...done, 510357757 bytes.\n"
     ]
    },
    {
     "name": "stderr",
     "output_type": "stream",
     "text": [
      "100% (568977139 of 568977139) |##########| Elapsed Time: 0:00:30 Time:  0:00:30\n",
      "N/A% (0 of 609271344) |                  | Elapsed Time: 0:00:00 ETA:  --:--:--"
     ]
    },
    {
     "name": "stdout",
     "output_type": "stream",
     "text": [
      "...done, 568977139 bytes.\n"
     ]
    },
    {
     "name": "stderr",
     "output_type": "stream",
     "text": [
      "100% (609271344 of 609271344) |##########| Elapsed Time: 0:00:28 Time:  0:00:28\n"
     ]
    },
    {
     "name": "stdout",
     "output_type": "stream",
     "text": [
      "...done, 609271344 bytes.\n"
     ]
    },
    {
     "name": "stderr",
     "output_type": "stream",
     "text": [
      "100% (520416051 of 520416051) |##########| Elapsed Time: 0:00:15 Time:  0:00:15\n"
     ]
    },
    {
     "name": "stdout",
     "output_type": "stream",
     "text": [
      "...done, 520416051 bytes.\n"
     ]
    },
    {
     "name": "stderr",
     "output_type": "stream",
     "text": [
      "100% (528388595 of 528388595) |##########| Elapsed Time: 0:00:11 Time:  0:00:11\n",
      "N/A% (0 of 554741896) |                  | Elapsed Time: 0:00:00 ETA:  --:--:--"
     ]
    },
    {
     "name": "stdout",
     "output_type": "stream",
     "text": [
      "...done, 528388595 bytes.\n"
     ]
    },
    {
     "name": "stderr",
     "output_type": "stream",
     "text": [
      "100% (554741896 of 554741896) |##########| Elapsed Time: 0:00:21 Time:  0:00:21\n",
      "N/A% (0 of 451586817) |                  | Elapsed Time: 0:00:00 ETA:  --:--:--"
     ]
    },
    {
     "name": "stdout",
     "output_type": "stream",
     "text": [
      "...done, 554741896 bytes.\n"
     ]
    },
    {
     "name": "stderr",
     "output_type": "stream",
     "text": [
      "100% (451586817 of 451586817) |##########| Elapsed Time: 0:00:11 Time:  0:00:11\n"
     ]
    },
    {
     "name": "stdout",
     "output_type": "stream",
     "text": [
      "...done, 451586817 bytes.\n"
     ]
    },
    {
     "name": "stderr",
     "output_type": "stream",
     "text": [
      "100% (577002588 of 577002588) |##########| Elapsed Time: 0:00:21 Time:  0:00:21\n"
     ]
    },
    {
     "name": "stdout",
     "output_type": "stream",
     "text": [
      "...done, 577002588 bytes.\n"
     ]
    },
    {
     "name": "stderr",
     "output_type": "stream",
     "text": [
      "100% (577777440 of 577777440) |##########| Elapsed Time: 0:00:16 Time:  0:00:16\n"
     ]
    },
    {
     "name": "stdout",
     "output_type": "stream",
     "text": [
      "...done, 577777440 bytes.\n"
     ]
    },
    {
     "name": "stderr",
     "output_type": "stream",
     "text": [
      "100% (454456857 of 454456857) |##########| Elapsed Time: 0:00:17 Time:  0:00:17\n"
     ]
    },
    {
     "name": "stdout",
     "output_type": "stream",
     "text": [
      "...done, 454456857 bytes.\n"
     ]
    },
    {
     "data": {
      "text/plain": [
       "['C:\\\\chip_allocation_temp/Jonathan\\\\tiles\\\\https_naipblobs.blob.core.windows.net_naip_v002_in_2018_in_060cm_2018_41087_m_4108723_se_16_060_20180706_20181211.tif',\n",
       " 'C:\\\\chip_allocation_temp/Jonathan\\\\tiles\\\\https_naipblobs.blob.core.windows.net_naip_v002_tx_2018_tx_060cm_2018_29098_m_2909837_ne_14_060_20181102_20190518.tif',\n",
       " 'C:\\\\chip_allocation_temp/Jonathan\\\\tiles\\\\https_naipblobs.blob.core.windows.net_naip_v002_in_2018_in_060cm_2018_41086_m_4108615_sw_16_060_20180708_20181211.tif',\n",
       " 'C:\\\\chip_allocation_temp/Jonathan\\\\tiles\\\\https_naipblobs.blob.core.windows.net_naip_v002_tx_2018_tx_060cm_2018_30100_m_3010043_se_14_060_20180623_20190422.tif',\n",
       " 'C:\\\\chip_allocation_temp/Jonathan\\\\tiles\\\\https_naipblobs.blob.core.windows.net_naip_v002_tx_2018_tx_060cm_2018_26098_m_2609821_sw_14_060_20190105_20190517.tif',\n",
       " 'C:\\\\chip_allocation_temp/Jonathan\\\\tiles\\\\https_naipblobs.blob.core.windows.net_naip_v002_wi_2018_wi_060cm_2018_43091_m_4309114_ne_15_060_20180909.tif',\n",
       " 'C:\\\\chip_allocation_temp/Jonathan\\\\tiles\\\\https_naipblobs.blob.core.windows.net_naip_v002_tx_2018_tx_060cm_2018_31103_m_3110312_se_13_060_20180929_20190504.tif',\n",
       " 'C:\\\\chip_allocation_temp/Jonathan\\\\tiles\\\\https_naipblobs.blob.core.windows.net_naip_v002_nc_2018_nc_060cm_2018_35080_m_3508041_se_17_060_20181107_20190211.tif',\n",
       " 'C:\\\\chip_allocation_temp/Jonathan\\\\tiles\\\\https_naipblobs.blob.core.windows.net_naip_v002_in_2018_in_060cm_2018_38085_m_3808549_se_16_060_20180727_20190201.tif',\n",
       " 'C:\\\\chip_allocation_temp/Jonathan\\\\tiles\\\\https_naipblobs.blob.core.windows.net_naip_v002_mi_2018_mi_060cm_2018_42082_m_4208212_ne_17_060_20180706_20181214.tif',\n",
       " 'C:\\\\chip_allocation_temp/Jonathan\\\\tiles\\\\https_naipblobs.blob.core.windows.net_naip_v002_tx_2018_tx_060cm_2018_35100_m_3510033_nw_14_060_20180917.tif',\n",
       " 'C:\\\\chip_allocation_temp/Jonathan\\\\tiles\\\\https_naipblobs.blob.core.windows.net_naip_v002_in_2018_in_060cm_2018_41086_m_4108624_se_16_060_20180708_20181211.tif',\n",
       " 'C:\\\\chip_allocation_temp/Jonathan\\\\tiles\\\\https_naipblobs.blob.core.windows.net_naip_v002_ms_2018_ms_060cm_2018_30089_m_3008905_nw_16_060_20181103_20190207.tif',\n",
       " 'C:\\\\chip_allocation_temp/Jonathan\\\\tiles\\\\https_naipblobs.blob.core.windows.net_naip_v002_ut_2018_ut_060cm_2018_39110_m_3911020_sw_12_060_20180911.tif',\n",
       " 'C:\\\\chip_allocation_temp/Jonathan\\\\tiles\\\\https_naipblobs.blob.core.windows.net_naip_v002_ne_2018_ne_060cm_2018_41095_m_4109541_nw_15_060_20180702_20181210.tif',\n",
       " 'C:\\\\chip_allocation_temp/Jonathan\\\\tiles\\\\https_naipblobs.blob.core.windows.net_naip_v002_tx_2018_tx_060cm_2018_29094_m_2909415_sw_15_060_20181115_20190428.tif',\n",
       " 'C:\\\\chip_allocation_temp/Jonathan\\\\tiles\\\\https_naipblobs.blob.core.windows.net_naip_v002_ca_2018_ca_060cm_2018_35119_m_3511953_sw_11_060_20180713_20190208.tif',\n",
       " 'C:\\\\chip_allocation_temp/Jonathan\\\\tiles\\\\https_naipblobs.blob.core.windows.net_naip_v002_in_2018_in_060cm_2018_41086_m_4108614_se_16_060_20180708_20181211.tif',\n",
       " 'C:\\\\chip_allocation_temp/Jonathan\\\\tiles\\\\https_naipblobs.blob.core.windows.net_naip_v002_tx_2018_tx_060cm_2018_31096_m_3109613_se_14_060_20181114_20190301.tif',\n",
       " 'C:\\\\chip_allocation_temp/Jonathan\\\\tiles\\\\https_naipblobs.blob.core.windows.net_naip_v002_sd_2018_sd_060cm_2018_43098_m_4309816_sw_14_060_20180915_20181212.tif']"
      ]
     },
     "execution_count": 70,
     "metadata": {},
     "output_type": "execute_result"
    }
   ],
   "source": [
    "dist.download_images()\n",
    "dist.tile_rename()"
   ]
  },
  {
   "cell_type": "code",
   "execution_count": null,
   "id": "b72b6463-99e6-48ea-8ac9-00c5ded14d4e",
   "metadata": {},
   "outputs": [],
   "source": [
    "dist.chip_tiles()"
   ]
  },
  {
   "cell_type": "code",
   "execution_count": 4,
   "id": "b3c6e096-389f-4e42-842c-244375c44c3e",
   "metadata": {},
   "outputs": [],
   "source": [
    "tile_names = os.listdir(dist.tiles_dir) #get a list of all of the tiles in tiles directory"
   ]
  },
  {
   "cell_type": "code",
   "execution_count": 1,
   "id": "333fb92e-faea-461c-84d9-d80dc729ee6e",
   "metadata": {},
   "outputs": [
    {
     "ename": "NameError",
     "evalue": "name 'tile_names' is not defined",
     "output_type": "error",
     "traceback": [
      "\u001b[1;31m---------------------------------------------------------------------------\u001b[0m",
      "\u001b[1;31mNameError\u001b[0m                                 Traceback (most recent call last)",
      "\u001b[1;32m<ipython-input-1-f928cc551725>\u001b[0m in \u001b[0;36m<module>\u001b[1;34m\u001b[0m\n\u001b[1;32m----> 1\u001b[1;33m \u001b[1;32mfor\u001b[0m \u001b[0mtile_name\u001b[0m \u001b[1;32min\u001b[0m \u001b[0mtile_names\u001b[0m\u001b[1;33m:\u001b[0m \u001b[1;31m#index over the tiles in the tiles_dir\u001b[0m\u001b[1;33m\u001b[0m\u001b[1;33m\u001b[0m\u001b[0m\n\u001b[0m\u001b[0;32m      2\u001b[0m \u001b[1;33m\u001b[0m\u001b[0m\n\u001b[0;32m      3\u001b[0m     \u001b[0mfile_name\u001b[0m\u001b[1;33m,\u001b[0m \u001b[0mext\u001b[0m \u001b[1;33m=\u001b[0m \u001b[0mos\u001b[0m\u001b[1;33m.\u001b[0m\u001b[0mpath\u001b[0m\u001b[1;33m.\u001b[0m\u001b[0msplitext\u001b[0m\u001b[1;33m(\u001b[0m\u001b[0mtile_name\u001b[0m\u001b[1;33m)\u001b[0m \u001b[1;31m# File name\u001b[0m\u001b[1;33m\u001b[0m\u001b[1;33m\u001b[0m\u001b[0m\n\u001b[0;32m      4\u001b[0m     \u001b[0mprint\u001b[0m\u001b[1;33m(\u001b[0m\u001b[0mtile_name\u001b[0m\u001b[1;33m)\u001b[0m\u001b[1;33m\u001b[0m\u001b[1;33m\u001b[0m\u001b[0m\n\u001b[0;32m      5\u001b[0m     \u001b[0mtile\u001b[0m \u001b[1;33m=\u001b[0m \u001b[0mImage\u001b[0m\u001b[1;33m.\u001b[0m\u001b[0mopen\u001b[0m\u001b[1;33m(\u001b[0m\u001b[0mos\u001b[0m\u001b[1;33m.\u001b[0m\u001b[0mpath\u001b[0m\u001b[1;33m.\u001b[0m\u001b[0mjoin\u001b[0m\u001b[1;33m(\u001b[0m\u001b[0mdist\u001b[0m\u001b[1;33m.\u001b[0m\u001b[0mtiles_dir\u001b[0m\u001b[1;33m,\u001b[0m \u001b[0mtile_name\u001b[0m\u001b[1;33m)\u001b[0m\u001b[1;33m)\u001b[0m \u001b[1;31m#open image\u001b[0m\u001b[1;33m\u001b[0m\u001b[1;33m\u001b[0m\u001b[0m\n",
      "\u001b[1;31mNameError\u001b[0m: name 'tile_names' is not defined"
     ]
    }
   ],
   "source": [
    "for tile_name in tile_names: #index over the tiles in the tiles_dir \n",
    "\n",
    "    file_name, ext = os.path.splitext(tile_name) # File name\n",
    "    print(tile_name)\n",
    "    tile = Image.open(os.path.join(dist.tiles_dir, tile_name)) #open image\n",
    "    tile = tile.convert('RGB') #to file issues"
   ]
  },
  {
   "cell_type": "code",
   "execution_count": null,
   "id": "d1a3c561-4358-480e-b293-a980b55592f9",
   "metadata": {},
   "outputs": [],
   "source": [
    "        \n",
    "for tile_name in tile_names: #index over the tiles in the tiles_dir \n",
    "\n",
    "    file_name, ext = os.path.splitext(tile_name) # File name\n",
    "    print(tile_name)\n",
    "\n",
    "    tile = Image.open(os.path.join(self.tiles_dir, tile_name)) #open image\n",
    "    tile = tile.convert('RGB') #to file issues\n",
    "\n",
    "    width, height = tile.size\n",
    "    item_width = int(512)\n",
    "    col = int(width/512)+1\n",
    "    row = int(height/512)+1\n",
    "    box_list = []\n",
    "\n",
    "    count = 1\n",
    "    for j in range(0,col):\n",
    "        for i in range(0,row):\n",
    "            box = (i*item_width, j*item_width, (i+1)*item_width, (j+1)*item_width)\n",
    "\n",
    "            chips_save_path = os.path.join(self.chips_dir, file_name+ '_'+ \\\n",
    "                                           str(count).zfill(6) + '.jpg') \n",
    "                # The index is a six-digit number like '000023'. \n",
    "\n",
    "            #chip = tile.crop(box)\n",
    "            #chip = chip.save(chips_save_path)\n",
    "            chip = tile.crop(box).save(chips_save_path)\n",
    "            count += 1\n",
    "    print(count)"
   ]
  },
  {
   "cell_type": "code",
   "execution_count": 20,
   "id": "e6d8df62-0925-4f7a-b847-4b2d09550737",
   "metadata": {},
   "outputs": [],
   "source": [
    "dist.track_tile_annotations(tiles_labeled)\n",
    "np.save('tile_name_tile_url_remaining_expanded', dist.tile_name_tile_url_remaining)\n",
    "np.save('tile_name_tile_url_labeled', dist.tile_name_tile_url_labeled)"
   ]
  }
 ],
 "metadata": {
  "kernelspec": {
   "display_name": "Python (myenv)",
   "language": "python",
   "name": "myenv"
  },
  "language_info": {
   "codemirror_mode": {
    "name": "ipython",
    "version": 3
   },
   "file_extension": ".py",
   "mimetype": "text/x-python",
   "name": "python",
   "nbconvert_exporter": "python",
   "pygments_lexer": "ipython3",
   "version": "3.8.8"
  }
 },
 "nbformat": 4,
 "nbformat_minor": 5
}
