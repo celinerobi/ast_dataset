{
 "cells": [
  {
   "cell_type": "markdown",
   "id": "ccd0876d",
   "metadata": {},
   "source": [
    "# Script to alter the til tracking numpy arrays if an error has occurred"
   ]
  },
  {
   "cell_type": "code",
   "execution_count": 1,
   "id": "9c5486d4",
   "metadata": {},
   "outputs": [],
   "source": [
    "# Standard packages\n",
    "import tempfile\n",
    "import warnings\n",
    "import urllib\n",
    "import shutil\n",
    "import os\n",
    "# Less standard, but still pip- or conda-installable\n",
    "import pandas as pd\n",
    "import numpy as np\n",
    "import matplotlib.pyplot as plt\n",
    "import matplotlib\n",
    "#import rasterio\n",
    "import re\n",
    "import rtree\n",
    "import shapely\n",
    "import pickle\n",
    "import data_eng.az_proc as ap\n",
    "#from cartopy import crs\n",
    "import collections\n",
    "from glob import glob"
   ]
  },
  {
   "cell_type": "code",
   "execution_count": 2,
   "id": "3ba4adf2",
   "metadata": {},
   "outputs": [
    {
     "name": "stdout",
     "output_type": "stream",
     "text": [
      "PIL 8.4.0\n"
     ]
    }
   ],
   "source": [
    "import PIL\n",
    "print('PIL',PIL.__version__)\n",
    "from PIL import Image\n",
    "Image.MAX_IMAGE_PIXELS = 999999999999"
   ]
  },
  {
   "cell_type": "code",
   "execution_count": 38,
   "id": "6ba8a20d-b68d-4d6a-9d75-860c7d33d187",
   "metadata": {},
   "outputs": [],
   "source": [
    "# Specify the parameters to download images\n",
    "tiles_remaining = \"tile_name_tile_url_remaining_expanded.npy\"\n",
    "tiles_labeled = \"tile_name_tile_url_labeled.npy\"\n",
    "tiles_errors = \"tile_name_tile_url_error_downloading.npy\"\n",
    "\n",
    "tiles_remaining_array = np.load(tiles_remaining)\n",
    "tiles_labeled_array = np.load(tiles_labeled)\n",
    "tiles_errors_array = np.load(tiles_errors)\n",
    "tiles_errors_array.shape\n",
    "\n",
    "parent_directory = \"C:\\chips_allocation\"\n",
    "annotation_directory = \"Check\"\n",
    "number_of_tiles = 25"
   ]
  },
  {
   "cell_type": "code",
   "execution_count": 45,
   "id": "a48c5976-c8e8-4e33-b979-3c2e9f8f8287",
   "metadata": {},
   "outputs": [
    {
     "data": {
      "text/plain": [
       "'tile_name_tile_url_labeled.npy'"
      ]
     },
     "execution_count": 45,
     "metadata": {},
     "output_type": "execute_result"
    }
   ],
   "source": [
    "tiles_labeled"
   ]
  },
  {
   "cell_type": "code",
   "execution_count": 4,
   "id": "7f8feb3e-abca-4e1e-8ff9-398296eac67d",
   "metadata": {},
   "outputs": [],
   "source": [
    "# reshape errors array into 2d array\n",
    "#tiles_errors_array = np.reshape(tiles_errors_array, (int(tiles_errors_array.size/2),2))\n",
    "#np.save('tile_name_tile_url_error_downloading.npy', tiles_errors_array)"
   ]
  },
  {
   "cell_type": "markdown",
   "id": "276fc20c-9787-4c5d-b6e4-f58c126c616f",
   "metadata": {},
   "source": [
    "## Double check that remaining images have not been labeled "
   ]
  },
  {
   "cell_type": "code",
   "execution_count": 26,
   "id": "fe1da494-41d6-44ec-8038-833b0e65ba1e",
   "metadata": {},
   "outputs": [],
   "source": [
    "for i in range(len(tiles_remaining_array)):\n",
    "    if tiles_remaining_array[i] in tiles_labeled_array:\n",
    "        print(tiles_remaining_array[i])"
   ]
  },
  {
   "cell_type": "markdown",
   "id": "1acc94e3-72ff-47fa-84f7-09177d8610d6",
   "metadata": {},
   "source": [
    "## Confirm that all Tiles in tile error raise an error \n"
   ]
  },
  {
   "cell_type": "code",
   "execution_count": 117,
   "id": "6e168058-b0b1-4de8-a057-2f28f4f7d9bf",
   "metadata": {},
   "outputs": [
    {
     "name": "stdout",
     "output_type": "stream",
     "text": [
      "Unlabeled Tiles (0, 2)\n"
     ]
    },
    {
     "ename": "IndexError",
     "evalue": "index 0 is out of bounds for axis 0 with size 0",
     "output_type": "error",
     "traceback": [
      "\u001b[1;31m---------------------------------------------------------------------------\u001b[0m",
      "\u001b[1;31mIndexError\u001b[0m                                Traceback (most recent call last)",
      "\u001b[1;32mC:\\Users\\RAPIDU~1\\AppData\\Local\\Temp/ipykernel_10324/3927314547.py\u001b[0m in \u001b[0;36m<module>\u001b[1;34m\u001b[0m\n\u001b[0;32m      7\u001b[0m \u001b[0mdist\u001b[0m\u001b[1;33m.\u001b[0m\u001b[0mstate_dcc_directory\u001b[0m\u001b[1;33m(\u001b[0m\u001b[0mparent_directory\u001b[0m\u001b[1;33m)\u001b[0m\u001b[1;33m\u001b[0m\u001b[1;33m\u001b[0m\u001b[0m\n\u001b[0;32m      8\u001b[0m \u001b[0mdist\u001b[0m\u001b[1;33m.\u001b[0m\u001b[0mnumber_of_tiles\u001b[0m\u001b[1;33m(\u001b[0m\u001b[0mnumber_of_tiles\u001b[0m\u001b[1;33m)\u001b[0m\u001b[1;33m\u001b[0m\u001b[1;33m\u001b[0m\u001b[0m\n\u001b[1;32m----> 9\u001b[1;33m \u001b[0mdist\u001b[0m\u001b[1;33m.\u001b[0m\u001b[0mget_tile_urls\u001b[0m\u001b[1;33m(\u001b[0m\u001b[0mtemp_error\u001b[0m\u001b[1;33m)\u001b[0m\u001b[1;33m\u001b[0m\u001b[1;33m\u001b[0m\u001b[0m\n\u001b[0m\u001b[0;32m     10\u001b[0m \u001b[0mdist\u001b[0m\u001b[1;33m.\u001b[0m\u001b[0mmake_subdirectories\u001b[0m\u001b[1;33m(\u001b[0m\u001b[1;33m)\u001b[0m\u001b[1;33m\u001b[0m\u001b[1;33m\u001b[0m\u001b[0m\n\u001b[0;32m     11\u001b[0m \u001b[0mdist\u001b[0m\u001b[1;33m.\u001b[0m\u001b[0mdownload_images\u001b[0m\u001b[1;33m(\u001b[0m\u001b[1;33m)\u001b[0m\u001b[1;33m\u001b[0m\u001b[1;33m\u001b[0m\u001b[0m\n",
      "\u001b[1;32m~\\cred\\AST_dataset\\data_download_and_preprocessing\\data_eng\\az_proc.py\u001b[0m in \u001b[0;36mget_tile_urls\u001b[1;34m(self, tile_name_tile_url_unlabeled)\u001b[0m\n\u001b[0;32m    365\u001b[0m         \u001b[0mself\u001b[0m\u001b[1;33m.\u001b[0m\u001b[0mtile_name_tile_url_unlabeled\u001b[0m \u001b[1;33m=\u001b[0m \u001b[0mnp\u001b[0m\u001b[1;33m.\u001b[0m\u001b[0mload\u001b[0m\u001b[1;33m(\u001b[0m\u001b[0mtile_name_tile_url_unlabeled\u001b[0m\u001b[1;33m)\u001b[0m \u001b[1;31m#the tiles that have not yet been labeled to date\u001b[0m\u001b[1;33m\u001b[0m\u001b[1;33m\u001b[0m\u001b[0m\n\u001b[0;32m    366\u001b[0m         \u001b[0mprint\u001b[0m\u001b[1;33m(\u001b[0m\u001b[1;34m\"Unlabeled Tiles\"\u001b[0m\u001b[1;33m,\u001b[0m\u001b[0mself\u001b[0m\u001b[1;33m.\u001b[0m\u001b[0mtile_name_tile_url_unlabeled\u001b[0m\u001b[1;33m.\u001b[0m\u001b[0mshape\u001b[0m\u001b[1;33m)\u001b[0m\u001b[1;33m\u001b[0m\u001b[1;33m\u001b[0m\u001b[0m\n\u001b[1;32m--> 367\u001b[1;33m         \u001b[0mself\u001b[0m\u001b[1;33m.\u001b[0m\u001b[0mtile_name_tile_url_tiles_for_annotators\u001b[0m \u001b[1;33m=\u001b[0m \u001b[0mself\u001b[0m\u001b[1;33m.\u001b[0m\u001b[0mtile_name_tile_url_unlabeled\u001b[0m\u001b[1;33m[\u001b[0m\u001b[0mrange\u001b[0m\u001b[1;33m(\u001b[0m\u001b[0mself\u001b[0m\u001b[1;33m.\u001b[0m\u001b[0mnum_tiles\u001b[0m\u001b[1;33m)\u001b[0m\u001b[1;33m,\u001b[0m\u001b[1;33m:\u001b[0m\u001b[1;33m]\u001b[0m \u001b[1;31m#create an array of the tiles that will be allocated to this annotator\u001b[0m\u001b[1;33m\u001b[0m\u001b[1;33m\u001b[0m\u001b[0m\n\u001b[0m\u001b[0;32m    368\u001b[0m \u001b[1;33m\u001b[0m\u001b[0m\n\u001b[0;32m    369\u001b[0m         \u001b[0mself\u001b[0m\u001b[1;33m.\u001b[0m\u001b[0mtile_url\u001b[0m \u001b[1;33m=\u001b[0m \u001b[0mself\u001b[0m\u001b[1;33m.\u001b[0m\u001b[0mtile_name_tile_url_tiles_for_annotators\u001b[0m\u001b[1;33m[\u001b[0m\u001b[1;33m:\u001b[0m\u001b[1;33m,\u001b[0m\u001b[1;36m1\u001b[0m\u001b[1;33m]\u001b[0m \u001b[1;31m#get the urls of the tiles that will allocated to the annotator\u001b[0m\u001b[1;33m\u001b[0m\u001b[1;33m\u001b[0m\u001b[0m\n",
      "\u001b[1;31mIndexError\u001b[0m: index 0 is out of bounds for axis 0 with size 0"
     ]
    }
   ],
   "source": [
    "temp_error = tiles_errors_array[73:]\n",
    "np.save('temp_error.npy', temp_error)\n",
    "temp_error= 'temp_error.npy'\n",
    "temp_error_array = np.load('temp_error.npy')\n",
    "\n",
    "dist = ap.annotator(annotation_directory) #create the processing class\n",
    "dist.state_dcc_directory(parent_directory)\n",
    "dist.number_of_tiles(number_of_tiles)\n",
    "dist.get_tile_urls(temp_error)\n",
    "dist.make_subdirectories()\n",
    "dist.download_images()\n",
    "#dist.tile_rename()"
   ]
  },
  {
   "cell_type": "markdown",
   "id": "206f77f9-62cb-46a5-8a80-deddc48ee751",
   "metadata": {},
   "source": [
    "### Add tiles that do not raise an error to remaining array"
   ]
  },
  {
   "cell_type": "code",
   "execution_count": 43,
   "id": "8ba9019d-bb43-4deb-9f62-1967357bddc1",
   "metadata": {},
   "outputs": [],
   "source": [
    "#tiles_remaining_array.shape\n",
    "working_tiles = [3, 10, 11, 12, 13, 43]\n",
    "#tiles_remaining_array = np.concatenate((tiles_remaining_array, tiles_errors_array[working_tiles]))\n",
    "#Save updated remaining tiles array\n",
    "#np.save(tiles_remaining, tiles_remaining_array)\n",
    "\n",
    "#save updated errors array\n",
    "#tiles_errors_array = np.delete(tiles_errors_array,[3, 10, 11, 12, 13, 43], axis=0).shape\n",
    "#np.save(tiles_errors, tiles_errors_array)"
   ]
  },
  {
   "cell_type": "markdown",
   "id": "108a546d",
   "metadata": {},
   "source": [
    "Load the annotator class"
   ]
  },
  {
   "cell_type": "markdown",
   "id": "9be3a73e-c4cc-4a3b-ad8c-7911db37ff8e",
   "metadata": {},
   "source": [
    "## Find any tiles with errors"
   ]
  },
  {
   "cell_type": "code",
   "execution_count": 8,
   "id": "1fa44adb",
   "metadata": {
    "tags": []
   },
   "outputs": [
    {
     "name": "stdout",
     "output_type": "stream",
     "text": [
      "Unlabeled Tiles (25, 2)\n",
      "0\n",
      "Bypassing download of already-downloaded file m_3209934_nw_14_060_20181028.tif\n",
      "1\n",
      "Bypassing download of already-downloaded file m_3309753_se_14_060_20181120.tif\n",
      "2\n",
      "Bypassing download of already-downloaded file m_2609838_sw_14_060_20190105_20190517.tif\n",
      "3\n",
      "Bypassing download of already-downloaded file m_3310236_ne_13_060_20180928.tif\n",
      "4\n",
      "Bypassing download of already-downloaded file m_3108809_ne_16_060_20181028_20190208.tif\n",
      "5\n",
      "Bypassing download of already-downloaded file m_3108916_ne_16_060_20181028_20190208.tif\n",
      "6\n",
      "Bypassing download of already-downloaded file m_3108920_nw_16_060_20181103_20190208.tif\n",
      "7\n",
      "Bypassing download of already-downloaded file m_4709708_nw_14_060_20180901_20190211.tif\n",
      "8\n",
      "Bypassing download of already-downloaded file m_4009806_nw_14_060_20180710_20181210.tif\n",
      "9\n",
      "Bypassing download of already-downloaded file m_4710315_nw_13_060_20180901_20190222.tif\n",
      "10\n",
      "Bypassing download of already-downloaded file m_3508301_se_17_060_20181021.tif\n",
      "11\n",
      "Bypassing download of already-downloaded file m_3508301_sw_17_060_20181019.tif\n",
      "12\n",
      "Bypassing download of already-downloaded file m_3209454_se_15_060_20181122_20190222.tif\n",
      "13\n",
      "Bypassing download of already-downloaded file m_3508957_nw_16_060_20180803.tif\n",
      "14\n",
      "Bypassing download of already-downloaded file m_3511952_nw_11_060_20180714_20190208.tif\n",
      "15\n",
      "Bypassing download of already-downloaded file m_4010905_se_12_060_20180922.tif\n",
      "16\n",
      "Bypassing download of already-downloaded file m_4308856_ne_16_060_20180914.tif\n",
      "17\n",
      "Bypassing download of already-downloaded file m_3511964_sw_11_060_20180713_20190208.tif\n",
      "18\n",
      "Bypassing download of already-downloaded file m_3607606_sw_18_060_20181003.tif\n",
      "19\n",
      "Bypassing download of already-downloaded file m_2909521_se_15_060_20181204_20190503.tif\n",
      "20\n",
      "Bypassing download of already-downloaded file m_3409036_nw_15_060_20181205_20190208.tif\n",
      "21\n",
      "Bypassing download of already-downloaded file m_3409036_nw_15_060_20190816.tif\n",
      "22\n",
      "Bypassing download of already-downloaded file m_3907748_ne_18_060_20181211.tif\n",
      "23\n",
      "Bypassing download of already-downloaded file m_2909559_sw_15_060_20181210_20190503.tif\n",
      "24\n",
      "Bypassing download of already-downloaded file m_2909601_ne_14_060_20181116_20190426.tif\n"
     ]
    },
    {
     "data": {
      "text/plain": [
       "['C:\\\\chips_allocation/Check\\\\tiles\\\\https_naipeuwest.blob.core.windows.net_naip_v002_tx_2018_tx_060cm_2018_32099_m_3209934_nw_14_060_20181028.tif',\n",
       " 'C:\\\\chips_allocation/Check\\\\tiles\\\\https_naipeuwest.blob.core.windows.net_naip_v002_tx_2018_tx_060cm_2018_33097_m_3309753_se_14_060_20181120.tif',\n",
       " 'C:\\\\chips_allocation/Check\\\\tiles\\\\https_naipeuwest.blob.core.windows.net_naip_v002_tx_2018_tx_060cm_2018_26098_m_2609838_sw_14_060_20190105_20190517.tif',\n",
       " 'C:\\\\chips_allocation/Check\\\\tiles\\\\https_naipeuwest.blob.core.windows.net_naip_v002_tx_2018_tx_060cm_2018_33102_m_3310236_ne_13_060_20180928.tif',\n",
       " 'C:\\\\chips_allocation/Check\\\\tiles\\\\https_naipeuwest.blob.core.windows.net_naip_v002_ms_2018_ms_060cm_2018_31088_m_3108809_ne_16_060_20181028_20190208.tif',\n",
       " 'C:\\\\chips_allocation/Check\\\\tiles\\\\https_naipeuwest.blob.core.windows.net_naip_v002_ms_2018_ms_060cm_2018_31089_m_3108916_ne_16_060_20181028_20190208.tif',\n",
       " 'C:\\\\chips_allocation/Check\\\\tiles\\\\https_naipeuwest.blob.core.windows.net_naip_v002_ms_2018_ms_060cm_2018_31089_m_3108920_nw_16_060_20181103_20190208.tif',\n",
       " 'C:\\\\chips_allocation/Check\\\\tiles\\\\https_naipeuwest.blob.core.windows.net_naip_v002_nd_2018_nd_060cm_2018_47097_m_4709708_nw_14_060_20180901_20190211.tif',\n",
       " 'C:\\\\chips_allocation/Check\\\\tiles\\\\https_naipeuwest.blob.core.windows.net_naip_v002_ne_2018_ne_060cm_2018_40098_m_4009806_nw_14_060_20180710_20181210.tif',\n",
       " 'C:\\\\chips_allocation/Check\\\\tiles\\\\https_naipeuwest.blob.core.windows.net_naip_v002_nd_2018_nd_060cm_2018_47103_m_4710315_nw_13_060_20180901_20190222.tif',\n",
       " 'C:\\\\chips_allocation/Check\\\\tiles\\\\https_naipeuwest.blob.core.windows.net_naip_v002_tn_2018_tn_060cm_2018_35083_m_3508301_se_17_060_20181021.tif',\n",
       " 'C:\\\\chips_allocation/Check\\\\tiles\\\\https_naipeuwest.blob.core.windows.net_naip_v002_tn_2018_tn_060cm_2018_35083_m_3508301_sw_17_060_20181019.tif',\n",
       " 'C:\\\\chips_allocation/Check\\\\tiles\\\\https_naipeuwest.blob.core.windows.net_naip_v002_tx_2018_tx_060cm_2018_32094_m_3209454_se_15_060_20181122_20190222.tif',\n",
       " 'C:\\\\chips_allocation/Check\\\\tiles\\\\https_naipeuwest.blob.core.windows.net_naip_v002_tn_2018_tn_060cm_2018_35089_m_3508957_nw_16_060_20180803.tif',\n",
       " 'C:\\\\chips_allocation/Check\\\\tiles\\\\https_naipeuwest.blob.core.windows.net_naip_v002_ca_2018_ca_060cm_2018_35119_m_3511952_nw_11_060_20180714_20190208.tif',\n",
       " 'C:\\\\chips_allocation/Check\\\\tiles\\\\https_naipeuwest.blob.core.windows.net_naip_v002_ut_2018_ut_060cm_2018_40109_m_4010905_se_12_060_20180922.tif',\n",
       " 'C:\\\\chips_allocation/Check\\\\tiles\\\\https_naipeuwest.blob.core.windows.net_naip_v002_wi_2018_wi_060cm_2018_43088_m_4308856_ne_16_060_20180914.tif',\n",
       " 'C:\\\\chips_allocation/Check\\\\tiles\\\\https_naipeuwest.blob.core.windows.net_naip_v002_ca_2018_ca_060cm_2018_35119_m_3511964_sw_11_060_20180713_20190208.tif',\n",
       " 'C:\\\\chips_allocation/Check\\\\tiles\\\\https_naipeuwest.blob.core.windows.net_naip_v002_va_2018_va_060cm_2018_36076_m_3607606_sw_18_060_20181003.tif',\n",
       " 'C:\\\\chips_allocation/Check\\\\tiles\\\\https_naipeuwest.blob.core.windows.net_naip_v002_tx_2018_tx_060cm_2018_29095_m_2909521_se_15_060_20181204_20190503.tif',\n",
       " 'C:\\\\chips_allocation/Check\\\\tiles\\\\https_naipeuwest.blob.core.windows.net_naip_v002_ms_2018_ms_060cm_2018_34090_m_3409036_nw_15_060_20181205_20190208.tif',\n",
       " 'C:\\\\chips_allocation/Check\\\\tiles\\\\https_naipeuwest.blob.core.windows.net_naip_v002_ar_2019_ar_60cm_2019_34090_m_3409036_nw_15_060_20190816.tif',\n",
       " 'C:\\\\chips_allocation/Check\\\\tiles\\\\https_naipeuwest.blob.core.windows.net_naip_v002_md_2018_md_060cm_2018_39077_m_3907748_ne_18_060_20181211.tif',\n",
       " 'C:\\\\chips_allocation/Check\\\\tiles\\\\https_naipeuwest.blob.core.windows.net_naip_v002_tx_2018_tx_060cm_2018_29095_m_2909559_sw_15_060_20181210_20190503.tif',\n",
       " 'C:\\\\chips_allocation/Check\\\\tiles\\\\https_naipeuwest.blob.core.windows.net_naip_v002_tx_2018_tx_060cm_2018_29096_m_2909601_ne_14_060_20181116_20190426.tif']"
      ]
     },
     "execution_count": 8,
     "metadata": {},
     "output_type": "execute_result"
    }
   ],
   "source": [
    "dist = ap.annotator(annotation_directory) #create the processing class\n",
    "dist.state_dcc_directory(parent_directory)\n",
    "dist.number_of_tiles(number_of_tiles)\n",
    "dist.get_tile_urls(tiles_remaining)\n",
    "dist.make_subdirectories()\n",
    "dist.download_images()\n",
    "#dist.tile_rename()"
   ]
  },
  {
   "cell_type": "markdown",
   "id": "3db580ba-e78c-4230-a28f-d00cf1ed915e",
   "metadata": {},
   "source": [
    "## Fix Inproperly recorded tiles tiles that have been allocated but not yet labeled, and marked as remaining to be allocated"
   ]
  },
  {
   "cell_type": "code",
   "execution_count": 35,
   "id": "75dfdac9-6dcc-4cc0-9209-37a0e9456694",
   "metadata": {},
   "outputs": [
    {
     "data": {
      "text/plain": [
       "array([['m_2909601_ne_14_060_20181116_20190426.tif',\n",
       "        'https://naipeuwest.blob.core.windows.net/naip/v002/tx/2018/tx_060cm_2018/29096/m_2909601_ne_14_060_20181116_20190426.tif'],\n",
       "       ['m_2909601_ne_14_060_20181116_20190426.tif',\n",
       "        'https://naipeuwest.blob.core.windows.net/naip/v002/tx/2018/tx_060cm_2018/29096/m_2909601_ne_14_060_20181116_20190426.tif'],\n",
       "       ['m_2909601_ne_14_060_20181116_20190426.tif',\n",
       "        'https://naipeuwest.blob.core.windows.net/naip/v002/tx/2018/tx_060cm_2018/29096/m_2909601_ne_14_060_20181116_20190426.tif'],\n",
       "       ['m_2909601_ne_14_060_20181116_20190426.tif',\n",
       "        'https://naipeuwest.blob.core.windows.net/naip/v002/tx/2018/tx_060cm_2018/29096/m_2909601_ne_14_060_20181116_20190426.tif'],\n",
       "       ['m_2909601_ne_14_060_20181116_20190426.tif',\n",
       "        'https://naipeuwest.blob.core.windows.net/naip/v002/tx/2018/tx_060cm_2018/29096/m_2909601_ne_14_060_20181116_20190426.tif']],\n",
       "      dtype='<U120')"
      ]
     },
     "execution_count": 35,
     "metadata": {},
     "output_type": "execute_result"
    }
   ],
   "source": [
    "#Determine the tiles that have been allocated but not yet labeled\n",
    "tiles_allocated = []\n",
    "allocated_sets = \"//oit-nas-fe13dc.oit.duke.edu//data_commons-borsuk/uncomplete_sets\"\n",
    "\n",
    "for sub_directory in ap.list_of_sub_directories(allocated_sets):\n",
    "    tiles_allocated += glob(sub_directory+'/tiles/*.tif') #\n",
    "\n",
    "#Identify what tiles have been mistakenly recorded as needing to be labeled\n",
    "misrecorded_already_allocated_tiles = []\n",
    "misrecorded_already_allocated_tiles_index = []\n",
    "temp_remaining_array = tiles_remaining_array\n",
    "\n",
    "for tile in tiles_allocated:\n",
    "    tile_id_allocated = tile.rsplit(\"\\\\\")[1].split(\"_\",4)[4] #tile ids from allocated \n",
    "   \n",
    "    if tile_id_allocated in tiles_remaining_array[:,0]:\n",
    "        misrecorded_already_allocated_tiles.append(tiles_remaining_array[i])\n",
    "        temp_remaining_array = temp_remaining_array[(temp_remaining_array[:,0] != tile_id_allocated),:] \n",
    "\n",
    "#Update the array tracking the remaining arrays \n",
    "tiles_remaining_array = temp_remaining_array\n",
    "#np.save(tiles_remaining, tiles_remaining_array)\n",
    "\n",
    "#Update the array tracking labeled arrays \n",
    "misrecorded_already_allocated_tiles = np.array(misrecorded_already_allocated_tiles)\n",
    "misrecorded_already_allocated_tiles\n",
    "#tiles_labeled_array = np.concatenate((tiles_labeled_array, misrecorded_already_allocated_tiles))\n",
    "#np.save(tiles_labeled, tiles_labeled_array)"
   ]
  },
  {
   "cell_type": "markdown",
   "id": "6a8386bf",
   "metadata": {},
   "source": [
    "# Code to Fix arrays "
   ]
  },
  {
   "cell_type": "markdown",
   "id": "a73ead11",
   "metadata": {},
   "source": [
    "Fix arrays when a tile cannot be found (HTTP Error 404: The specified blob does not exist.)"
   ]
  },
  {
   "cell_type": "code",
   "execution_count": 16,
   "id": "6dd56307",
   "metadata": {},
   "outputs": [
    {
     "name": "stdout",
     "output_type": "stream",
     "text": [
      "(47, 2)\n",
      "(46, 2)\n"
     ]
    }
   ],
   "source": [
    "\"\"\"\n",
    "row_to_remove = 21\n",
    "\n",
    "#dist.tile_name_tile_url_tiles_for_annotators[row_to_remove]\n",
    "\n",
    "error_downloading = np.concatenate((np.load('tile_name_tile_url_error_downloading.npy'),\n",
    "                                    dist.tile_name_tile_url_tiles_for_annotators[row_to_remove]))\n",
    "np.save('tile_name_tile_url_error_downloading.npy', error_downloading)\n",
    "\n",
    "#Remove the rows with errors\n",
    "print(np.load('tile_name_tile_url_remaining_expanded.npy').shape)\n",
    "np.save('tile_name_tile_url_remaining_expanded',np.delete(np.load(tiles_remaining), row_to_remove, axis = 0))\n",
    "print(np.load('tile_name_tile_url_remaining_expanded.npy').shape)\n",
    "row_to_remove = np.nan\n",
    "\"\"\""
   ]
  },
  {
   "cell_type": "code",
   "execution_count": null,
   "id": "628467c0",
   "metadata": {},
   "outputs": [],
   "source": [
    "#recover the unlabeled images from the dist\n",
    "## np.save('tile_name_tile_url_remaining_expanded',dist.tile_name_tile_url_unlabeled)\n",
    "#dist.tile_name_tile_url_tiles_for_annotators"
   ]
  },
  {
   "cell_type": "code",
   "execution_count": null,
   "id": "da85f2aa",
   "metadata": {
    "tags": []
   },
   "outputs": [],
   "source": [
    "#dist.track_tile_annotations(tiles_labeled)\n",
    "#np.save('tile_name_tile_url_remaining_expanded', dist.tile_name_tile_url_remaining)\n",
    "#np.save('tile_name_tile_url_labeled', dist.tile_name_tile_url_labeled)v"
   ]
  },
  {
   "cell_type": "markdown",
   "id": "ab6874ff-f531-41ae-9efa-5aec165d6266",
   "metadata": {},
   "source": [
    "Fix arrays when tiles are not properly allocated"
   ]
  },
  {
   "cell_type": "code",
   "execution_count": 6,
   "id": "e6f5b545-cf6f-4f99-9249-fe1397a3569d",
   "metadata": {},
   "outputs": [],
   "source": [
    "\"\"\"\n",
    "N = #specify the number of tiles that were not properly allocated\n",
    "#load the array\n",
    "remaining = np.load('tile_name_tile_url_remaining_expanded.npy')\n",
    "labeled = np.load(\"tile_name_tile_url_labeled.npy\")\n",
    "#Save the ammended arrays\n",
    "#np.save('tile_name_tile_url_labeled',labeled[:-N])\n",
    "#np.save('tile_name_tile_url_remaining_expanded',np.concatenate((labeled[-N:], remaining)))\n",
    "\"\"\""
   ]
  },
  {
   "cell_type": "code",
   "execution_count": 58,
   "id": "1551e4dc-5dbc-4227-a24d-ff24f6138a36",
   "metadata": {},
   "outputs": [
    {
     "data": {
      "text/plain": [
       "(151, 2)"
      ]
     },
     "execution_count": 58,
     "metadata": {},
     "output_type": "execute_result"
    }
   ],
   "source": [
    "\"\"\"\n",
    "remaining = np.load('tile_name_tile_url_remaining_expanded.npy')\n",
    "labeled = np.load(\"tile_name_tile_url_labeled.npy\")\n",
    "remaining.shape\n",
    "remaining = remaining[-(137):]\n",
    "labeled = np.concatenate((labeled, remaining[:(151-137)]))\n",
    "#Save the ammended arrays\n",
    "np.save('tile_name_tile_url_labeled',labeled)\n",
    "np.save('tile_name_tile_url_remaining_expanded',remaining)\n",
    "\"\"\""
   ]
  },
  {
   "cell_type": "markdown",
   "id": "83525a20",
   "metadata": {
    "tags": []
   },
   "source": [
    "# FIX Crop Script"
   ]
  },
  {
   "cell_type": "code",
   "execution_count": null,
   "id": "aa44da7c",
   "metadata": {},
   "outputs": [],
   "source": [
    "from PIL import Image\n",
    "\n",
    "def crop(path, input, height, width, k, page, area):\n",
    "    im = Image.open(input)\n",
    "    imgwidth, imgheight = im.size\n",
    "    for i in range(0,imgheight,height):\n",
    "        for j in range(0,imgwidth,width):\n",
    "            box = (j, i, j+width, i+height)\n",
    "            a = im.crop(box)\n",
    "            try:\n",
    "                o = a.crop(area)\n",
    "                o.save(os.path.join(path,\"PNG\",\"%s\" % page,\"IMG-%s.png\" % k))\n",
    "            except:\n",
    "                pass\n",
    "            k +=1"
   ]
  },
  {
   "cell_type": "code",
   "execution_count": null,
   "id": "af1a9d79",
   "metadata": {},
   "outputs": [],
   "source": [
    "dist.tile_names = os.listdir(dist.tiles_dir) #get a list of all of the tiles in tiles directory\n",
    "for tile_name in dist.tile_names: #index over the tiles in the tiles_dir \n",
    "    file_name, ext = os.path.splitext(tile_name) # File name\n",
    "    print(tile_name)\n",
    "\n",
    "    print(count)"
   ]
  },
  {
   "cell_type": "markdown",
   "id": "60bf7660",
   "metadata": {},
   "source": [
    "### Pil"
   ]
  },
  {
   "cell_type": "code",
   "execution_count": null,
   "id": "8ff93c30",
   "metadata": {},
   "outputs": [],
   "source": [
    "from PIL import Image \n",
    " \n",
    "#img = Image.open(r\"C:\\Users\\rapiduser\\Downloads\\shutterstock_95235265.jpg\") \n",
    "img = Image.open(r\"C:\\chips_allocation\\Check\\tiles\\ca_060cm_2018_38121_m_3812128_ne_10_060_20180714.tif\")\n",
    "img.save('test.jpeg')\n",
    "img = Image.open(r\"C:\\chips_allocation\\Check\\tiles\\ca_060cm_2018_38121_m_3812128_ne_10_060_20180714.\")\n",
    "\n",
    "left = 0\n",
    "top = 50\n",
    "right = 510\n",
    "bottom = 292\n",
    " \n",
    "img_res = img.crop((left, top, right, bottom)) \n",
    " \n",
    "img_res.show() "
   ]
  },
  {
   "cell_type": "markdown",
   "id": "fb2cf658",
   "metadata": {},
   "source": [
    "### Open CV"
   ]
  },
  {
   "cell_type": "code",
   "execution_count": 14,
   "id": "9bfcfe6f",
   "metadata": {},
   "outputs": [
    {
     "name": "stdout",
     "output_type": "stream",
     "text": [
      "(12220, 9770, 3)\n"
     ]
    },
    {
     "data": {
      "text/plain": [
       "-1"
      ]
     },
     "execution_count": 14,
     "metadata": {},
     "output_type": "execute_result"
    }
   ],
   "source": [
    "import cv2\n",
    "import os\n",
    "image = cv2.imread(r\"C:/chips_allocation/Check/tiles/ca_060cm_2018_38121_m_3812128_ne_10_060_20180714.tif\") \n",
    "y=0\n",
    "x=512*19\n",
    "h=512\n",
    "w=512\n",
    "#cropped = image[x:w, y:h]\n",
    "cropped = image[y:y+h, x:x+w]\n",
    "print(image.shape)\n",
    "\n",
    "# Filename\n",
    "filename = 'test2.jpg'\n",
    "cv2.imwrite(os.path.join('C:/chips_allocation/Check/tiles',filename),cropped)\n",
    "cv2.imshow(\"Cropped\", cropped)\n",
    "cv2.waitKey(0)\n",
    "# Using cv2.imwrite() method\n",
    "# Saving the image\n",
    "#cv2.imwrite(filename, img)\n"
   ]
  },
  {
   "cell_type": "code",
   "execution_count": null,
   "id": "92a0557f",
   "metadata": {},
   "outputs": [],
   "source": [
    "from PIL import Image\n",
    "Image.MAX_IMAGE_PIXELS = 999999999999\n",
    "import os\n",
    "file_name = \"ca_060cm_2018_38121_m_3812128_ne_10_060_20180714\"\n",
    "#tile = Image.open(os.path.join(dist.tiles_dir, tile_name)) #open image\n",
    "with Image.open(r\"C:\\chips_allocation\\Check\\tiles\\ca_060cm_2018_38121_m_3812128_ne_10_060_20180714\") as tile:\n",
    "    width, height = tile.size\n",
    "    item_width = int(512)\n",
    "    col = int(width/512)+1\n",
    "    row = int(height/512)+1\n",
    "    count = 1\n",
    "    for j in range(0,col):\n",
    "        for i in range(0,row):\n",
    "            box = (i*item_width, j*item_width, (i+1)*item_width, (j+1)*item_width)\n",
    "            chips_save_path = os.path.join(self.chips_dir, file_name+ '_'+ \\\n",
    "                                           str(count).zfill(6) + '.jpg') \n",
    "            # The index is a six-digit number like '000023'. \n",
    "            #chip = tile.crop(box)\n",
    "            #chip = chip.save(chips_save_path)\n",
    "            chip = tile.crop(box).save(chips_save_path)\n",
    "            count += 1\n",
    "    print(count)"
   ]
  },
  {
   "cell_type": "code",
   "execution_count": 4,
   "id": "5596328b",
   "metadata": {},
   "outputs": [],
   "source": [
    "import numpy as np\n",
    "import cv2\n",
    "import os\n",
    "\n",
    "image = cv2.imread(r\"C:/chips_allocation/Check/tiles/ca_060cm_2018_38121_m_3812128_ne_10_060_20180714.tif\") \n",
    "y=0\n",
    "x=512*19\n",
    "h=512\n",
    "w=512\n",
    "#cropped = image[x:w, y:h]\n",
    "cropped = image[y:y+h, x:x+w]\n",
    "\n",
    "print(image.shape)\n",
    "\n",
    "# Filename\n",
    "filename = 'test2.jpg'\n",
    "cv2.imwrite(os.path.join('C:/chips_allocation/Check/tiles',filename),cropped)\n",
    "cv2.imshow(\"Cropped\", cropped)\n",
    "cv2.waitKey(0)\n",
    "# Using cv2.imwrite() method\n",
    "# Saving the image\n",
    "#cv2.imwrite(filename, img)\n",
    "\n",
    "#image = cv2.imread('C:/chips_allocation/Check/tiles/test2.jpg') \n",
    "print(chip_img.width)\n",
    "print(chip_img.height)\n",
    "\n",
    "#At the end of the image\n",
    "if chip_img.width != 512:\n",
    "    black_width = 512 - chip_img.width\n",
    "    black_height = 512\n",
    "    black_image = np.zeros((black_height,black_width,3), np.uint8)\n",
    "    print(\"Incorrect Width\")\n",
    "    print(black_img.width)\n",
    "    print(black_img.height)\n",
    "    chip_img = np.concatenate([chip_img, blank_image])\n",
    "    \n",
    "if chip_img.height != 512:\n",
    "    black_height = 512 - chip_img.height\n",
    "    black_width = 512\n",
    "    black_image = np.zeros((black_height,black_width,3), np.uint8)\n",
    "    print(\"Incorrect Height\")\n",
    "    print(black_img.width)\n",
    "    print(black_img.height)\n",
    "    chip_img = np.concatenate([chip_img, blank_image])"
   ]
  },
  {
   "cell_type": "code",
   "execution_count": 8,
   "id": "29505dd8",
   "metadata": {},
   "outputs": [
    {
     "name": "stdout",
     "output_type": "stream",
     "text": [
      "image shape:  (512, 470, 3)\n"
     ]
    }
   ],
   "source": [
    "#blank_image = np.zeros((512,512-42,3), np.uint8)\n",
    "cv2.imshow('3 Channel Window', 1)\n",
    "print(\"image shape: \", blank_image.shape)\n",
    "cv2.waitKey(0)\n",
    "cv2.destroyAllWindows()"
   ]
  },
  {
   "cell_type": "code",
   "execution_count": 35,
   "id": "abaa9bb4",
   "metadata": {},
   "outputs": [
    {
     "name": "stdout",
     "output_type": "stream",
     "text": [
      "42\n",
      "512\n"
     ]
    }
   ],
   "source": [
    "from PIL import Image\n",
    "\n",
    "\n",
    "#blackBox = Image.new(im.mode, (im.width, 50), '#000')\n",
    "#im.paste(blackBox, (0, im.height - blackBox.height))\n",
    "#for x in range(img.width):\n",
    "#    for y in range(img.height - 40, img.height):\n",
    "#        img.putpixel((x, y), (0, 0, 0))\n",
    "\n",
    "#img.save('test2_bb.png')"
   ]
  },
  {
   "cell_type": "code",
   "execution_count": 40,
   "id": "382d5ce2",
   "metadata": {},
   "outputs": [
    {
     "name": "stdout",
     "output_type": "stream",
     "text": [
      "42\n",
      "512\n",
      "Incorrect Width\n",
      "470\n",
      "512\n"
     ]
    },
    {
     "ename": "TypeError",
     "evalue": "unsupported operand type(s) for +: 'JpegImageFile' and 'Image'",
     "output_type": "error",
     "traceback": [
      "\u001b[1;31m---------------------------------------------------------------------------\u001b[0m",
      "\u001b[1;31mTypeError\u001b[0m                                 Traceback (most recent call last)",
      "\u001b[1;32mC:\\Users\\RAPIDU~1\\AppData\\Local\\Temp/ipykernel_6856/778010062.py\u001b[0m in \u001b[0;36m<module>\u001b[1;34m\u001b[0m\n\u001b[0;32m     11\u001b[0m     \u001b[0mprint\u001b[0m\u001b[1;33m(\u001b[0m\u001b[0mblack_img\u001b[0m\u001b[1;33m.\u001b[0m\u001b[0mwidth\u001b[0m\u001b[1;33m)\u001b[0m\u001b[1;33m\u001b[0m\u001b[1;33m\u001b[0m\u001b[0m\n\u001b[0;32m     12\u001b[0m     \u001b[0mprint\u001b[0m\u001b[1;33m(\u001b[0m\u001b[0mblack_img\u001b[0m\u001b[1;33m.\u001b[0m\u001b[0mheight\u001b[0m\u001b[1;33m)\u001b[0m\u001b[1;33m\u001b[0m\u001b[1;33m\u001b[0m\u001b[0m\n\u001b[1;32m---> 13\u001b[1;33m     \u001b[0mchip_img\u001b[0m\u001b[1;33m+\u001b[0m\u001b[0mblack_img\u001b[0m\u001b[1;33m\u001b[0m\u001b[1;33m\u001b[0m\u001b[0m\n\u001b[0m\u001b[0;32m     14\u001b[0m \u001b[1;33m\u001b[0m\u001b[0m\n\u001b[0;32m     15\u001b[0m \u001b[1;32mif\u001b[0m \u001b[0mchip_img\u001b[0m\u001b[1;33m.\u001b[0m\u001b[0mheight\u001b[0m \u001b[1;33m!=\u001b[0m \u001b[1;36m512\u001b[0m\u001b[1;33m:\u001b[0m\u001b[1;33m\u001b[0m\u001b[1;33m\u001b[0m\u001b[0m\n",
      "\u001b[1;31mTypeError\u001b[0m: unsupported operand type(s) for +: 'JpegImageFile' and 'Image'"
     ]
    }
   ],
   "source": [
    "from PIL import Image  \n",
    "chip_img = Image.open('C:/chips_allocation/Check/tiles/test2.jpg')\n",
    "print(chip_img.width)\n",
    "print(chip_img.height)\n",
    "\n",
    "if chip_img.width != 512:\n",
    "    black_width = 512 - chip_img.width\n",
    "    black_height = 512\n",
    "    black_img = Image.new(mode = \"RGB\", size = (black_width, black_height))\n",
    "    print(\"Incorrect Width\")\n",
    "    print(black_img.width)\n",
    "    print(black_img.height)\n",
    "    chip_img+black_img\n",
    "    \n",
    "if chip_img.height != 512:\n",
    "    black_height = 512 - chip_img.height\n",
    "    black_width = 512\n",
    "    blackimg = Image.new(mode = \"RGB\", size = (black_width, black_height))\n",
    "    print(\"Incorrect Height\")\n",
    "    print(black_img.width)\n",
    "    print(black_img.height)"
   ]
  },
  {
   "cell_type": "code",
   "execution_count": null,
   "id": "6c7c45bd",
   "metadata": {},
   "outputs": [],
   "source": [
    "import numpy as np\n",
    "import cv2\n",
    "\n",
    "image = cv2.imread('download.jpg')\n",
    "y=0\n",
    "x=0\n",
    "h=100\n",
    "w=200\n",
    "crop = image[y:y+h, x:x+w]\n",
    "cv2.imshow('Image', crop)\n",
    "cv2.waitKey(0) "
   ]
  },
  {
   "cell_type": "markdown",
   "id": "c396c1c1",
   "metadata": {},
   "source": [
    "### Wand"
   ]
  }
 ],
 "metadata": {
  "kernelspec": {
   "display_name": "Chip Allocate V2",
   "language": "python",
   "name": "chip_allocate"
  },
  "language_info": {
   "codemirror_mode": {
    "name": "ipython",
    "version": 3
   },
   "file_extension": ".py",
   "mimetype": "text/x-python",
   "name": "python",
   "nbconvert_exporter": "python",
   "pygments_lexer": "ipython3",
   "version": "3.8.8"
  },
  "toc-autonumbering": true,
  "toc-showmarkdowntxt": true
 },
 "nbformat": 4,
 "nbformat_minor": 5
}
