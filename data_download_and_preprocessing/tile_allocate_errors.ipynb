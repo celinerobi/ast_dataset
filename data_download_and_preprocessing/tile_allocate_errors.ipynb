{
 "cells": [
  {
   "cell_type": "markdown",
   "id": "ccd0876d",
   "metadata": {},
   "source": [
    "Script to alter the til tracking numpy arrays if an error has occurred"
   ]
  },
  {
   "cell_type": "code",
   "execution_count": 1,
   "id": "9c5486d4",
   "metadata": {},
   "outputs": [],
   "source": [
    "# Standard packages\n",
    "import tempfile\n",
    "import warnings\n",
    "import urllib\n",
    "import shutil\n",
    "import os\n",
    "# Less standard, but still pip- or conda-installable\n",
    "import pandas as pd\n",
    "import numpy as np\n",
    "import matplotlib.pyplot as plt\n",
    "import matplotlib\n",
    "#import rasterio\n",
    "import re\n",
    "import rtree\n",
    "import shapely\n",
    "import pickle\n",
    "import data_eng.az_proc as ap\n",
    "#from cartopy import crs\n",
    "import collections"
   ]
  },
  {
   "cell_type": "code",
   "execution_count": 2,
   "id": "3ba4adf2",
   "metadata": {},
   "outputs": [
    {
     "name": "stdout",
     "output_type": "stream",
     "text": [
      "PIL 8.3.1\n"
     ]
    }
   ],
   "source": [
    "import PIL\n",
    "print('PIL',PIL.__version__)\n",
    "from PIL import Image\n",
    "Image.MAX_IMAGE_PIXELS = 999999999999"
   ]
  },
  {
   "cell_type": "markdown",
   "id": "5233b12c",
   "metadata": {},
   "source": [
    "Specify the parameters to download images"
   ]
  },
  {
   "cell_type": "code",
   "execution_count": 13,
   "id": "0a3cef30",
   "metadata": {},
   "outputs": [],
   "source": [
    "parent_directory = \"C:\\chips_allocation\"\n",
    "annotation_directory = \"Check\"\n",
    "number_of_tiles = 100\n",
    "tiles_remaining = \"tile_name_tile_url_remaining_expanded.npy\"\n",
    "tiles_labeled = \"tile_name_tile_url_labeled.npy\""
   ]
  },
  {
   "cell_type": "markdown",
   "id": "108a546d",
   "metadata": {},
   "source": [
    "Load the annotator class"
   ]
  },
  {
   "cell_type": "code",
   "execution_count": 18,
   "id": "1fa44adb",
   "metadata": {
    "tags": []
   },
   "outputs": [
    {
     "name": "stdout",
     "output_type": "stream",
     "text": [
      "Unlabeled Tiles (205, 2)\n",
      "0\n",
      "Bypassing download of already-downloaded file m_3108961_se_16_060_20181103_20190207.tif\n",
      "1\n",
      "Bypassing download of already-downloaded file m_3907527_ne_18_060_20180810.tif\n",
      "2\n",
      "Bypassing download of already-downloaded file m_3509055_se_15_060_20180803.tif\n",
      "3\n",
      "Bypassing download of already-downloaded file m_3807730_se_18_060_20181025.tif\n",
      "4\n",
      "Bypassing download of already-downloaded file m_4308663_nw_16_060_20180707_20181211.tif\n",
      "5\n",
      "Bypassing download of already-downloaded file m_3311718_sw_11_060_20180822_20190209.tif\n",
      "6\n",
      "Bypassing download of already-downloaded file m_4108721_se_16_060_20180707_20190221.tif\n",
      "7\n",
      "Bypassing download of already-downloaded file m_3510132_se_14_060_20180917.tif\n",
      "8\n",
      "Bypassing download of already-downloaded file m_3809038_ne_15_060_20181121_20190206.tif\n",
      "9\n",
      "Bypassing download of already-downloaded file m_4406826_ne_19_060_20180720.tif\n",
      "10\n",
      "Bypassing download of already-downloaded file m_3310216_ne_13_060_20180923.tif\n",
      "11\n",
      "Bypassing download of already-downloaded file m_3009622_sw_14_060_20181114_20190422.tif\n",
      "12\n",
      "Bypassing download of already-downloaded file m_4207025_se_19_060_20181016.tif\n",
      "13\n",
      "Bypassing download of already-downloaded file m_3608650_nw_16_060_20180729.tif\n",
      "14\n",
      "Bypassing download of already-downloaded file m_4108540_sw_16_060_20180708_20190221.tif\n",
      "15\n",
      "Bypassing download of already-downloaded file m_3910956_nw_12_060_20180913.tif\n",
      "16\n",
      "Bypassing download of already-downloaded file m_2609763_nw_14_060_20181214_20190517.tif\n",
      "17\n",
      "Bypassing download of already-downloaded file m_4008028_nw_17_060_20180701.tif\n",
      "18\n",
      "Bypassing download of already-downloaded file m_3109415_se_15_060_20181201_20190222.tif\n",
      "19\n",
      "Bypassing download of already-downloaded file m_3607957_nw_17_060_20180709_20190210.tif\n",
      "20\n",
      "Bypassing download of already-downloaded file m_4410363_ne_13_060_20180810_20181212.tif\n",
      "21\n",
      "Bypassing download of already-downloaded file m_3507810_ne_17_060_20180827_20190210.tif\n",
      "22\n",
      "Bypassing download of already-downloaded file m_2909558_ne_15_060_20181215_20190503.tif\n",
      "23\n",
      "Bypassing download of already-downloaded file m_3809012_sw_15_060_20181020_20190206.tif\n",
      "24\n",
      "Bypassing download of already-downloaded file m_3712141_ne_10_060_20180725_20190210.tif\n",
      "25\n",
      "Bypassing download of already-downloaded file m_4208212_se_17_060_20180706_20181211.tif\n",
      "26\n",
      "Bypassing download of already-downloaded file m_4408928_sw_16_060_20180910.tif\n",
      "27\n",
      "Bypassing download of already-downloaded file m_3009743_nw_14_060_20181101_20190422.tif\n",
      "28\n",
      "Bypassing download of already-downloaded file m_3208843_nw_16_060_20181030_20190207.tif\n",
      "29\n",
      "Bypassing download of already-downloaded file m_3507830_sw_17_060_20181022_20190211.tif\n",
      "30\n",
      "Bypassing download of already-downloaded file m_3608231_nw_17_060_20181111.tif\n",
      "31\n",
      "Bypassing download of already-downloaded file m_4508421_sw_16_060_20180911_20181211.tif\n",
      "32\n",
      "Bypassing download of already-downloaded file m_4007303_ne_18_060_20180829.tif\n",
      "33\n",
      "Bypassing download of already-downloaded file m_3209835_ne_14_060_20181126.tif\n",
      "34\n",
      "Bypassing download of already-downloaded file m_4208355_sw_17_060_20180707_20181211.tif\n",
      "35\n",
      "Bypassing download of already-downloaded file m_4207252_sw_18_060_20181107.tif\n",
      "36\n",
      "Bypassing download of already-downloaded file m_3511964_ne_11_060_20180713_20190209.tif\n",
      "37\n",
      "Bypassing download of already-downloaded file m_2909756_se_14_060_20181126_20190426.tif\n",
      "38\n",
      "Bypassing download of already-downloaded file m_4606816_ne_19_060_20180811.tif\n",
      "39\n",
      "Bypassing download of already-downloaded file m_4810241_se_13_060_20180815.tif\n",
      "40\n",
      "Bypassing download of already-downloaded file m_3510037_ne_14_060_20180929.tif\n",
      "41\n",
      "Bypassing download of already-downloaded file m_3009729_nw_14_060_20181101_20190426.tif\n",
      "42\n",
      "Bypassing download of already-downloaded file m_3909460_nw_15_060_20180922.tif\n",
      "43\n",
      "Bypassing download of already-downloaded file m_4207026_sw_19_060_20180806.tif\n",
      "44\n",
      "Bypassing download of already-downloaded file m_4208337_nw_17_060_20180707_20181211.tif\n",
      "45\n",
      "Bypassing download of already-downloaded file m_2809839_nw_14_060_20181103_20190518.tif\n",
      "46\n",
      "Bypassing download of already-downloaded file m_3909344_ne_15_060_20181017.tif\n",
      "47\n",
      "Bypassing download of already-downloaded file m_2809938_se_14_060_20180526_20190518.tif\n",
      "48\n",
      "Bypassing download of already-downloaded file m_3909461_nw_15_060_20180922.tif\n",
      "49\n",
      "Bypassing download of already-downloaded file m_3607957_ne_17_060_20181110_20190210.tif\n",
      "50\n",
      "Bypassing download of already-downloaded file m_3808550_nw_16_060_20180727.tif\n",
      "51\n",
      "Bypassing download of already-downloaded file m_3908004_ne_17_060_20180701.tif\n",
      "52\n",
      "Bypassing download of already-downloaded file m_3209712_nw_14_060_20181128.tif\n",
      "53\n",
      "Bypassing download of already-downloaded file m_4308416_se_16_060_20180917_20181211.tif\n",
      "54\n",
      "Bypassing download of already-downloaded file m_3309753_se_14_060_20181120.tif\n",
      "55\n",
      "Bypassing download of already-downloaded file m_4710315_nw_13_060_20180901_20190222.tif\n",
      "56\n",
      "Bypassing download of already-downloaded file m_4009806_nw_14_060_20180710_20181210.tif\n",
      "57\n",
      "Bypassing download of already-downloaded file m_3108916_ne_16_060_20181028_20190208.tif\n",
      "58\n",
      "Bypassing download of already-downloaded file m_4010905_se_12_060_20180922.tif\n",
      "59\n",
      "Bypassing download of already-downloaded file m_3907748_ne_18_060_20181211.tif\n",
      "60\n",
      "Bypassing download of already-downloaded file m_2609838_sw_14_060_20190105_20190517.tif\n",
      "61\n",
      "Bypassing download of already-downloaded file m_4308856_ne_16_060_20180914.tif\n",
      "62\n",
      "Bypassing download of already-downloaded file m_3511952_nw_11_060_20180714_20190208.tif\n",
      "63\n",
      "Bypassing download of already-downloaded file m_4709708_nw_14_060_20180901_20190211.tif\n",
      "64\n",
      "Bypassing download of already-downloaded file m_3108920_nw_16_060_20181103_20190208.tif\n",
      "65\n",
      "Bypassing download of already-downloaded file m_3209934_nw_14_060_20181028.tif\n",
      "66\n",
      "Bypassing download of already-downloaded file m_3209454_se_15_060_20181122_20190222.tif\n",
      "67\n",
      "Bypassing download of already-downloaded file m_3108809_ne_16_060_20181028_20190208.tif\n",
      "68\n",
      "Bypassing download of already-downloaded file m_3907513_nw_18_060_20180815.tif\n",
      "69\n",
      "Bypassing download of already-downloaded file m_3209527_se_15_060_20181115_20190301.tif\n",
      "70\n",
      "Bypassing download of already-downloaded file m_2909845_sw_14_060_20181102_20190518.tif\n",
      "71\n",
      "Bypassing download of already-downloaded file m_3411759_se_11_060_20180822_20190208.tif\n",
      "72\n",
      "Bypassing download of already-downloaded file m_4710348_sw_13_060_20180830_20190211.tif\n",
      "73\n",
      "Bypassing download of already-downloaded file m_3908043_se_17_060_20180701.tif\n",
      "74\n",
      "Bypassing download of already-downloaded file m_4608445_sw_16_060_20180811_20181211.tif\n",
      "75\n",
      "Bypassing download of already-downloaded file m_3210413_ne_13_060_20180614_20190422.tif\n",
      "76\n",
      "Bypassing download of already-downloaded file m_3309663_sw_14_060_20181127.tif\n",
      "77\n",
      "Bypassing download of already-downloaded file m_3210849_nw_12_060_20180610_20190427.tif\n",
      "78\n",
      "Bypassing download of already-downloaded file m_3908137_se_17_060_20180707.tif\n",
      "79\n",
      "Bypassing download of already-downloaded file m_3510659_ne_13_060_20180528_20190427.tif\n",
      "80\n",
      "Bypassing download of already-downloaded file m_3508339_sw_17_060_20181029_20190210.tif\n",
      "81\n",
      "Bypassing download of already-downloaded file m_4809707_nw_14_060_20180901_20190301.tif\n",
      "82\n",
      "Bypassing download of already-downloaded file m_2909505_se_15_060_20181204_20190428.tif\n",
      "83\n",
      "Bypassing download of already-downloaded file m_3610064_sw_14_060_20180918.tif\n",
      "84\n",
      "Bypassing download of already-downloaded file m_3209513_nw_15_060_20181127_20190222.tif\n",
      "85\n",
      "Bypassing download of already-downloaded file m_4207049_nw_19_060_20181107.tif\n",
      "86\n",
      "Bypassing download of already-downloaded file m_3209834_ne_14_060_20181126.tif\n",
      "87\n",
      "Bypassing download of already-downloaded file m_3808154_nw_17_060_20181023.tif\n",
      "88\n",
      "Bypassing download of already-downloaded file m_3808007_se_17_060_20180708.tif\n",
      "89\n",
      "Bypassing download of already-downloaded file m_3210509_sw_13_060_20190119_20190422.tif\n",
      "90\n",
      "Bypassing download of already-downloaded file m_3209720_nw_14_060_20181128.tif\n",
      "91\n",
      "Bypassing download of already-downloaded file m_3508049_nw_17_060_20181103_20190210.tif\n",
      "92\n",
      "Bypassing download of already-downloaded file m_4308856_se_16_060_20180914.tif\n",
      "93\n",
      "Bypassing download of already-downloaded file m_4209761_se_14_060_20180709_20181210.tif\n",
      "94\n",
      "Bypassing download of already-downloaded file m_4109541_se_15_060_20180911_20181210.tif\n",
      "95\n"
     ]
    },
    {
     "name": "stderr",
     "output_type": "stream",
     "text": [
      "100% (580540980 of 580540980) |##########| Elapsed Time: 0:00:08 Time:  0:00:08\n"
     ]
    },
    {
     "name": "stdout",
     "output_type": "stream",
     "text": [
      "...done, 580540980 bytes.\n",
      "96\n"
     ]
    },
    {
     "name": "stderr",
     "output_type": "stream",
     "text": [
      "100% (598169372 of 598169372) |##########| Elapsed Time: 0:00:08 Time:  0:00:08\n"
     ]
    },
    {
     "name": "stdout",
     "output_type": "stream",
     "text": [
      "...done, 598169372 bytes.\n",
      "97\n"
     ]
    },
    {
     "name": "stderr",
     "output_type": "stream",
     "text": [
      "100% (633645838 of 633645838) |##########| Elapsed Time: 0:00:19 Time:  0:00:19\n"
     ]
    },
    {
     "name": "stdout",
     "output_type": "stream",
     "text": [
      "...done, 633645838 bytes.\n",
      "98\n"
     ]
    },
    {
     "name": "stderr",
     "output_type": "stream",
     "text": [
      "100% (579522759 of 579522759) |##########| Elapsed Time: 0:00:07 Time:  0:00:07\n"
     ]
    },
    {
     "name": "stdout",
     "output_type": "stream",
     "text": [
      "...done, 579522759 bytes.\n",
      "99\n"
     ]
    },
    {
     "name": "stderr",
     "output_type": "stream",
     "text": [
      "100% (587501609 of 587501609) |##########| Elapsed Time: 0:00:11 Time:  0:00:11\n"
     ]
    },
    {
     "name": "stdout",
     "output_type": "stream",
     "text": [
      "...done, 587501609 bytes.\n"
     ]
    },
    {
     "data": {
      "text/plain": [
       "['C:\\\\chips_allocation/Check\\\\tiles\\\\https_naipblobs.blob.core.windows.net_naip_v002_ms_2018_ms_060cm_2018_31089_m_3108961_se_16_060_20181103_20190207.tif',\n",
       " 'C:\\\\chips_allocation/Check\\\\tiles\\\\https_naipblobs.blob.core.windows.net_naip_v002_de_2018_de_060cm_2018_39075_m_3907527_ne_18_060_20180810.tif',\n",
       " 'C:\\\\chips_allocation/Check\\\\tiles\\\\https_naipblobs.blob.core.windows.net_naip_v002_tn_2018_tn_060cm_2018_35090_m_3509055_se_15_060_20180803.tif',\n",
       " 'C:\\\\chips_allocation/Check\\\\tiles\\\\https_naipblobs.blob.core.windows.net_naip_v002_va_2018_va_060cm_2018_38077_m_3807730_se_18_060_20181025.tif',\n",
       " 'C:\\\\chips_allocation/Check\\\\tiles\\\\https_naipblobs.blob.core.windows.net_naip_v002_mi_2018_mi_060cm_2018_43086_m_4308663_nw_16_060_20180707_20181211.tif',\n",
       " 'C:\\\\chips_allocation/Check\\\\tiles\\\\https_naipblobs.blob.core.windows.net_naip_v002_ca_2018_ca_060cm_2018_33117_m_3311718_sw_11_060_20180822_20190209.tif',\n",
       " 'C:\\\\chips_allocation/Check\\\\tiles\\\\https_naipblobs.blob.core.windows.net_naip_v002_in_2018_in_060cm_2018_41087_m_4108721_se_16_060_20180707_20190221.tif',\n",
       " 'C:\\\\chips_allocation/Check\\\\tiles\\\\https_naipblobs.blob.core.windows.net_naip_v002_tx_2018_tx_060cm_2018_35101_m_3510132_se_14_060_20180917.tif',\n",
       " 'C:\\\\chips_allocation/Check\\\\tiles\\\\https_naipblobs.blob.core.windows.net_naip_v002_mo_2018_mo_060cm_2018_38090_m_3809038_ne_15_060_20181121_20190206.tif',\n",
       " 'C:\\\\chips_allocation/Check\\\\tiles\\\\https_naipblobs.blob.core.windows.net_naip_v002_me_2018_me_060cm_2018_44068_m_4406826_ne_19_060_20180720.tif',\n",
       " 'C:\\\\chips_allocation/Check\\\\tiles\\\\https_naipblobs.blob.core.windows.net_naip_v002_tx_2018_tx_060cm_2018_33102_m_3310216_ne_13_060_20180923.tif',\n",
       " 'C:\\\\chips_allocation/Check\\\\tiles\\\\https_naipblobs.blob.core.windows.net_naip_v002_tx_2018_tx_060cm_2018_30096_m_3009622_sw_14_060_20181114_20190422.tif',\n",
       " 'C:\\\\chips_allocation/Check\\\\tiles\\\\https_naipblobs.blob.core.windows.net_naip_v002_ma_2018_ma_060cm_2018_42070_m_4207025_se_19_060_20181016.tif',\n",
       " 'C:\\\\chips_allocation/Check\\\\tiles\\\\https_naipblobs.blob.core.windows.net_naip_v002_tn_2018_tn_060cm_2018_36086_m_3608650_nw_16_060_20180729.tif',\n",
       " 'C:\\\\chips_allocation/Check\\\\tiles\\\\https_naipblobs.blob.core.windows.net_naip_v002_in_2018_in_060cm_2018_41085_m_4108540_sw_16_060_20180708_20190221.tif',\n",
       " 'C:\\\\chips_allocation/Check\\\\tiles\\\\https_naipblobs.blob.core.windows.net_naip_v002_ut_2018_ut_060cm_2018_39109_m_3910956_nw_12_060_20180913.tif',\n",
       " 'C:\\\\chips_allocation/Check\\\\tiles\\\\https_naipblobs.blob.core.windows.net_naip_v002_tx_2018_tx_060cm_2018_26097_m_2609763_nw_14_060_20181214_20190517.tif',\n",
       " 'C:\\\\chips_allocation/Check\\\\tiles\\\\https_naipblobs.blob.core.windows.net_naip_v002_wv_2018_wv_060cm_2018_40080_m_4008028_nw_17_060_20180701.tif',\n",
       " 'C:\\\\chips_allocation/Check\\\\tiles\\\\https_naipblobs.blob.core.windows.net_naip_v002_tx_2018_tx_060cm_2018_31094_m_3109415_se_15_060_20181201_20190222.tif',\n",
       " 'C:\\\\chips_allocation/Check\\\\tiles\\\\https_naipblobs.blob.core.windows.net_naip_v002_nc_2018_nc_060cm_2018_36079_m_3607957_nw_17_060_20180709_20190210.tif',\n",
       " 'C:\\\\chips_allocation/Check\\\\tiles\\\\https_naipblobs.blob.core.windows.net_naip_v002_sd_2018_sd_060cm_2018_44103_m_4410363_ne_13_060_20180810_20181212.tif',\n",
       " 'C:\\\\chips_allocation/Check\\\\tiles\\\\https_naipblobs.blob.core.windows.net_naip_v002_nc_2018_nc_060cm_2018_35078_m_3507810_ne_17_060_20180827_20190210.tif',\n",
       " 'C:\\\\chips_allocation/Check\\\\tiles\\\\https_naipblobs.blob.core.windows.net_naip_v002_tx_2018_tx_060cm_2018_29095_m_2909558_ne_15_060_20181215_20190503.tif',\n",
       " 'C:\\\\chips_allocation/Check\\\\tiles\\\\https_naipblobs.blob.core.windows.net_naip_v002_mo_2018_mo_060cm_2018_38090_m_3809012_sw_15_060_20181020_20190206.tif',\n",
       " 'C:\\\\chips_allocation/Check\\\\tiles\\\\https_naipblobs.blob.core.windows.net_naip_v002_ca_2018_ca_060cm_2018_37121_m_3712141_ne_10_060_20180725_20190210.tif',\n",
       " 'C:\\\\chips_allocation/Check\\\\tiles\\\\https_naipblobs.blob.core.windows.net_naip_v002_mi_2018_mi_060cm_2018_42082_m_4208212_se_17_060_20180706_20181211.tif',\n",
       " 'C:\\\\chips_allocation/Check\\\\tiles\\\\https_naipblobs.blob.core.windows.net_naip_v002_wi_2018_wi_060cm_2018_44089_m_4408928_sw_16_060_20180910.tif',\n",
       " 'C:\\\\chips_allocation/Check\\\\tiles\\\\https_naipblobs.blob.core.windows.net_naip_v002_tx_2018_tx_060cm_2018_30097_m_3009743_nw_14_060_20181101_20190422.tif',\n",
       " 'C:\\\\chips_allocation/Check\\\\tiles\\\\https_naipblobs.blob.core.windows.net_naip_v002_ms_2018_ms_060cm_2018_32088_m_3208843_nw_16_060_20181030_20190207.tif',\n",
       " 'C:\\\\chips_allocation/Check\\\\tiles\\\\https_naipblobs.blob.core.windows.net_naip_v002_nc_2018_nc_060cm_2018_35078_m_3507830_sw_17_060_20181022_20190211.tif',\n",
       " 'C:\\\\chips_allocation/Check\\\\tiles\\\\https_naipblobs.blob.core.windows.net_naip_v002_va_2018_va_060cm_2018_36082_m_3608231_nw_17_060_20181111.tif',\n",
       " 'C:\\\\chips_allocation/Check\\\\tiles\\\\https_naipblobs.blob.core.windows.net_naip_v002_mi_2018_mi_060cm_2018_45084_m_4508421_sw_16_060_20180911_20181211.tif',\n",
       " 'C:\\\\chips_allocation/Check\\\\tiles\\\\https_naipblobs.blob.core.windows.net_naip_v002_ct_2018_ct_060cm_2018_40073_m_4007303_ne_18_060_20180829.tif',\n",
       " 'C:\\\\chips_allocation/Check\\\\tiles\\\\https_naipblobs.blob.core.windows.net_naip_v002_tx_2018_tx_060cm_2018_32098_m_3209835_ne_14_060_20181126.tif',\n",
       " 'C:\\\\chips_allocation/Check\\\\tiles\\\\https_naipblobs.blob.core.windows.net_naip_v002_mi_2018_mi_060cm_2018_42083_m_4208355_sw_17_060_20180707_20181211.tif',\n",
       " 'C:\\\\chips_allocation/Check\\\\tiles\\\\https_naipblobs.blob.core.windows.net_naip_v002_ma_2018_ma_060cm_2018_42072_m_4207252_sw_18_060_20181107.tif',\n",
       " 'C:\\\\chips_allocation/Check\\\\tiles\\\\https_naipblobs.blob.core.windows.net_naip_v002_ca_2018_ca_060cm_2018_35119_m_3511964_ne_11_060_20180713_20190209.tif',\n",
       " 'C:\\\\chips_allocation/Check\\\\tiles\\\\https_naipblobs.blob.core.windows.net_naip_v002_tx_2018_tx_060cm_2018_29097_m_2909756_se_14_060_20181126_20190426.tif',\n",
       " 'C:\\\\chips_allocation/Check\\\\tiles\\\\https_naipblobs.blob.core.windows.net_naip_v002_me_2018_me_060cm_2018_46068_m_4606816_ne_19_060_20180811.tif',\n",
       " 'C:\\\\chips_allocation/Check\\\\tiles\\\\https_naipblobs.blob.core.windows.net_naip_v002_nd_2018_nd_060cm_2018_48102_m_4810241_se_13_060_20180815.tif',\n",
       " 'C:\\\\chips_allocation/Check\\\\tiles\\\\https_naipblobs.blob.core.windows.net_naip_v002_tx_2018_tx_060cm_2018_35100_m_3510037_ne_14_060_20180929.tif',\n",
       " 'C:\\\\chips_allocation/Check\\\\tiles\\\\https_naipblobs.blob.core.windows.net_naip_v002_tx_2018_tx_060cm_2018_30097_m_3009729_nw_14_060_20181101_20190426.tif',\n",
       " 'C:\\\\chips_allocation/Check\\\\tiles\\\\https_naipblobs.blob.core.windows.net_naip_v002_mo_2018_mo_060cm_2018_39094_m_3909460_nw_15_060_20180922.tif',\n",
       " 'C:\\\\chips_allocation/Check\\\\tiles\\\\https_naipblobs.blob.core.windows.net_naip_v002_ma_2018_ma_060cm_2018_42070_m_4207026_sw_19_060_20180806.tif',\n",
       " 'C:\\\\chips_allocation/Check\\\\tiles\\\\https_naipblobs.blob.core.windows.net_naip_v002_mi_2018_mi_060cm_2018_42083_m_4208337_nw_17_060_20180707_20181211.tif',\n",
       " 'C:\\\\chips_allocation/Check\\\\tiles\\\\https_naipblobs.blob.core.windows.net_naip_v002_tx_2018_tx_060cm_2018_28098_m_2809839_nw_14_060_20181103_20190518.tif',\n",
       " 'C:\\\\chips_allocation/Check\\\\tiles\\\\https_naipblobs.blob.core.windows.net_naip_v002_mo_2018_mo_060cm_2018_39093_m_3909344_ne_15_060_20181017.tif',\n",
       " 'C:\\\\chips_allocation/Check\\\\tiles\\\\https_naipblobs.blob.core.windows.net_naip_v002_tx_2018_tx_060cm_2018_28099_m_2809938_se_14_060_20180526_20190518.tif',\n",
       " 'C:\\\\chips_allocation/Check\\\\tiles\\\\https_naipblobs.blob.core.windows.net_naip_v002_mo_2018_mo_060cm_2018_39094_m_3909461_nw_15_060_20180922.tif',\n",
       " 'C:\\\\chips_allocation/Check\\\\tiles\\\\https_naipblobs.blob.core.windows.net_naip_v002_nc_2018_nc_060cm_2018_36079_m_3607957_ne_17_060_20181110_20190210.tif',\n",
       " 'C:\\\\chips_allocation/Check\\\\tiles\\\\https_naipblobs.blob.core.windows.net_naip_v002_ky_2018_ky_060cm_2018_38085_m_3808550_nw_16_060_20180727.tif',\n",
       " 'C:\\\\chips_allocation/Check\\\\tiles\\\\https_naipblobs.blob.core.windows.net_naip_v002_wv_2018_wv_060cm_2018_39080_m_3908004_ne_17_060_20180701.tif',\n",
       " 'C:\\\\chips_allocation/Check\\\\tiles\\\\https_naipblobs.blob.core.windows.net_naip_v002_tx_2018_tx_060cm_2018_32097_m_3209712_nw_14_060_20181128.tif',\n",
       " 'C:\\\\chips_allocation/Check\\\\tiles\\\\https_naipblobs.blob.core.windows.net_naip_v002_mi_2018_mi_060cm_2018_43084_m_4308416_se_16_060_20180917_20181211.tif',\n",
       " 'C:\\\\chips_allocation/Check\\\\tiles\\\\https_naipblobs.blob.core.windows.net_naip_v002_tx_2018_tx_060cm_2018_33097_m_3309753_se_14_060_20181120.tif',\n",
       " 'C:\\\\chips_allocation/Check\\\\tiles\\\\https_naipblobs.blob.core.windows.net_naip_v002_nd_2018_nd_060cm_2018_47103_m_4710315_nw_13_060_20180901_20190222.tif',\n",
       " 'C:\\\\chips_allocation/Check\\\\tiles\\\\https_naipblobs.blob.core.windows.net_naip_v002_ne_2018_ne_060cm_2018_40098_m_4009806_nw_14_060_20180710_20181210.tif',\n",
       " 'C:\\\\chips_allocation/Check\\\\tiles\\\\https_naipblobs.blob.core.windows.net_naip_v002_ms_2018_ms_060cm_2018_31089_m_3108916_ne_16_060_20181028_20190208.tif',\n",
       " 'C:\\\\chips_allocation/Check\\\\tiles\\\\https_naipblobs.blob.core.windows.net_naip_v002_ut_2018_ut_060cm_2018_40109_m_4010905_se_12_060_20180922.tif',\n",
       " 'C:\\\\chips_allocation/Check\\\\tiles\\\\https_naipblobs.blob.core.windows.net_naip_v002_md_2018_md_060cm_2018_39077_m_3907748_ne_18_060_20181211.tif',\n",
       " 'C:\\\\chips_allocation/Check\\\\tiles\\\\https_naipblobs.blob.core.windows.net_naip_v002_tx_2018_tx_060cm_2018_26098_m_2609838_sw_14_060_20190105_20190517.tif',\n",
       " 'C:\\\\chips_allocation/Check\\\\tiles\\\\https_naipblobs.blob.core.windows.net_naip_v002_wi_2018_wi_060cm_2018_43088_m_4308856_ne_16_060_20180914.tif',\n",
       " 'C:\\\\chips_allocation/Check\\\\tiles\\\\https_naipblobs.blob.core.windows.net_naip_v002_ca_2018_ca_060cm_2018_35119_m_3511952_nw_11_060_20180714_20190208.tif',\n",
       " 'C:\\\\chips_allocation/Check\\\\tiles\\\\https_naipblobs.blob.core.windows.net_naip_v002_nd_2018_nd_060cm_2018_47097_m_4709708_nw_14_060_20180901_20190211.tif',\n",
       " 'C:\\\\chips_allocation/Check\\\\tiles\\\\https_naipblobs.blob.core.windows.net_naip_v002_ms_2018_ms_060cm_2018_31089_m_3108920_nw_16_060_20181103_20190208.tif',\n",
       " 'C:\\\\chips_allocation/Check\\\\tiles\\\\https_naipblobs.blob.core.windows.net_naip_v002_tx_2018_tx_060cm_2018_32099_m_3209934_nw_14_060_20181028.tif',\n",
       " 'C:\\\\chips_allocation/Check\\\\tiles\\\\https_naipblobs.blob.core.windows.net_naip_v002_tx_2018_tx_060cm_2018_32094_m_3209454_se_15_060_20181122_20190222.tif',\n",
       " 'C:\\\\chips_allocation/Check\\\\tiles\\\\https_naipblobs.blob.core.windows.net_naip_v002_ms_2018_ms_060cm_2018_31088_m_3108809_ne_16_060_20181028_20190208.tif',\n",
       " 'C:\\\\chips_allocation/Check\\\\tiles\\\\https_naipblobs.blob.core.windows.net_naip_v002_de_2018_de_060cm_2018_39075_m_3907513_nw_18_060_20180815.tif',\n",
       " 'C:\\\\chips_allocation/Check\\\\tiles\\\\https_naipblobs.blob.core.windows.net_naip_v002_tx_2018_tx_060cm_2018_32095_m_3209527_se_15_060_20181115_20190301.tif',\n",
       " 'C:\\\\chips_allocation/Check\\\\tiles\\\\https_naipblobs.blob.core.windows.net_naip_v002_tx_2018_tx_060cm_2018_29098_m_2909845_sw_14_060_20181102_20190518.tif',\n",
       " 'C:\\\\chips_allocation/Check\\\\tiles\\\\https_naipblobs.blob.core.windows.net_naip_v002_ca_2018_ca_060cm_2018_34117_m_3411759_se_11_060_20180822_20190208.tif',\n",
       " 'C:\\\\chips_allocation/Check\\\\tiles\\\\https_naipblobs.blob.core.windows.net_naip_v002_nd_2018_nd_060cm_2018_47103_m_4710348_sw_13_060_20180830_20190211.tif',\n",
       " 'C:\\\\chips_allocation/Check\\\\tiles\\\\https_naipblobs.blob.core.windows.net_naip_v002_wv_2018_wv_060cm_2018_39080_m_3908043_se_17_060_20180701.tif',\n",
       " 'C:\\\\chips_allocation/Check\\\\tiles\\\\https_naipblobs.blob.core.windows.net_naip_v002_mi_2018_mi_060cm_2018_46084_m_4608445_sw_16_060_20180811_20181211.tif',\n",
       " 'C:\\\\chips_allocation/Check\\\\tiles\\\\https_naipblobs.blob.core.windows.net_naip_v002_nm_2018_nm_060cm_2018_32104_m_3210413_ne_13_060_20180614_20190422.tif',\n",
       " 'C:\\\\chips_allocation/Check\\\\tiles\\\\https_naipblobs.blob.core.windows.net_naip_v002_tx_2018_tx_060cm_2018_33096_m_3309663_sw_14_060_20181127.tif',\n",
       " 'C:\\\\chips_allocation/Check\\\\tiles\\\\https_naipblobs.blob.core.windows.net_naip_v002_nm_2018_nm_060cm_2018_32108_m_3210849_nw_12_060_20180610_20190427.tif',\n",
       " 'C:\\\\chips_allocation/Check\\\\tiles\\\\https_naipblobs.blob.core.windows.net_naip_v002_wv_2018_wv_060cm_2018_39081_m_3908137_se_17_060_20180707.tif',\n",
       " 'C:\\\\chips_allocation/Check\\\\tiles\\\\https_naipblobs.blob.core.windows.net_naip_v002_nm_2018_nm_060cm_2018_35106_m_3510659_ne_13_060_20180528_20190427.tif',\n",
       " 'C:\\\\chips_allocation/Check\\\\tiles\\\\https_naipblobs.blob.core.windows.net_naip_v002_nc_2018_nc_060cm_2018_35083_m_3508339_sw_17_060_20181029_20190210.tif',\n",
       " 'C:\\\\chips_allocation/Check\\\\tiles\\\\https_naipblobs.blob.core.windows.net_naip_v002_nd_2018_nd_060cm_2018_48097_m_4809707_nw_14_060_20180901_20190301.tif',\n",
       " 'C:\\\\chips_allocation/Check\\\\tiles\\\\https_naipblobs.blob.core.windows.net_naip_v002_tx_2018_tx_060cm_2018_29095_m_2909505_se_15_060_20181204_20190428.tif',\n",
       " 'C:\\\\chips_allocation/Check\\\\tiles\\\\https_naipblobs.blob.core.windows.net_naip_v002_tx_2018_tx_060cm_2018_36100_m_3610064_sw_14_060_20180918.tif',\n",
       " 'C:\\\\chips_allocation/Check\\\\tiles\\\\https_naipblobs.blob.core.windows.net_naip_v002_tx_2018_tx_060cm_2018_32095_m_3209513_nw_15_060_20181127_20190222.tif',\n",
       " 'C:\\\\chips_allocation/Check\\\\tiles\\\\https_naipblobs.blob.core.windows.net_naip_v002_ma_2018_ma_060cm_2018_42070_m_4207049_nw_19_060_20181107.tif',\n",
       " 'C:\\\\chips_allocation/Check\\\\tiles\\\\https_naipblobs.blob.core.windows.net_naip_v002_tx_2018_tx_060cm_2018_32098_m_3209834_ne_14_060_20181126.tif',\n",
       " 'C:\\\\chips_allocation/Check\\\\tiles\\\\https_naipblobs.blob.core.windows.net_naip_v002_wv_2018_wv_060cm_2018_38081_m_3808154_nw_17_060_20181023.tif',\n",
       " 'C:\\\\chips_allocation/Check\\\\tiles\\\\https_naipblobs.blob.core.windows.net_naip_v002_wv_2018_wv_060cm_2018_38080_m_3808007_se_17_060_20180708.tif',\n",
       " 'C:\\\\chips_allocation/Check\\\\tiles\\\\https_naipblobs.blob.core.windows.net_naip_v002_nm_2018_nm_060cm_2018_32105_m_3210509_sw_13_060_20190119_20190422.tif',\n",
       " 'C:\\\\chips_allocation/Check\\\\tiles\\\\https_naipblobs.blob.core.windows.net_naip_v002_tx_2018_tx_060cm_2018_32097_m_3209720_nw_14_060_20181128.tif',\n",
       " 'C:\\\\chips_allocation/Check\\\\tiles\\\\https_naipblobs.blob.core.windows.net_naip_v002_nc_2018_nc_060cm_2018_35080_m_3508049_nw_17_060_20181103_20190210.tif',\n",
       " 'C:\\\\chips_allocation/Check\\\\tiles\\\\https_naipblobs.blob.core.windows.net_naip_v002_wi_2018_wi_060cm_2018_43088_m_4308856_se_16_060_20180914.tif',\n",
       " 'C:\\\\chips_allocation/Check\\\\tiles\\\\https_naipblobs.blob.core.windows.net_naip_v002_ne_2018_ne_060cm_2018_42097_m_4209761_se_14_060_20180709_20181210.tif',\n",
       " 'C:\\\\chips_allocation/Check\\\\tiles\\\\https_naipblobs.blob.core.windows.net_naip_v002_ne_2018_ne_060cm_2018_41095_m_4109541_se_15_060_20180911_20181210.tif',\n",
       " 'C:\\\\chips_allocation/Check\\\\tiles\\\\https_naipblobs.blob.core.windows.net_naip_v002_tx_2018_tx_060cm_2018_32096_m_3209609_nw_14_060_20181120_20190301.tif',\n",
       " 'C:\\\\chips_allocation/Check\\\\tiles\\\\https_naipblobs.blob.core.windows.net_naip_v002_mi_2018_mi_060cm_2018_42082_m_4208205_sw_17_060_20180703_20181214.tif',\n",
       " 'C:\\\\chips_allocation/Check\\\\tiles\\\\https_naipblobs.blob.core.windows.net_naip_v002_tn_2018_tn_060cm_2018_36086_m_3608650_sw_16_060_20180729.tif',\n",
       " 'C:\\\\chips_allocation/Check\\\\tiles\\\\https_naipblobs.blob.core.windows.net_naip_v002_ca_2018_ca_060cm_2018_33118_m_3311807_sw_11_060_20180723_20190209.tif',\n",
       " 'C:\\\\chips_allocation/Check\\\\tiles\\\\https_naipblobs.blob.core.windows.net_naip_v002_ky_2018_ky_060cm_2018_36089_m_3608928_nw_16_060_20180802.tif']"
      ]
     },
     "execution_count": 18,
     "metadata": {},
     "output_type": "execute_result"
    }
   ],
   "source": [
    "dist = ap.annotator(annotation_directory) #create the processing class\n",
    "dist.state_dcc_directory(parent_directory)\n",
    "dist.number_of_tiles(number_of_tiles)\n",
    "dist.get_tile_urls(tiles_remaining)\n",
    "dist.make_subdirectories()\n",
    "dist.download_images()\n",
    "#dist.tile_rename()"
   ]
  },
  {
   "cell_type": "markdown",
   "id": "6a8386bf",
   "metadata": {},
   "source": [
    "## Code to Fix arrays "
   ]
  },
  {
   "cell_type": "markdown",
   "id": "a474074c",
   "metadata": {},
   "source": [
    "Fix arrays when tiles are not properly allocated"
   ]
  },
  {
   "cell_type": "code",
   "execution_count": null,
   "id": "e80122e3",
   "metadata": {},
   "outputs": [],
   "source": [
    "N =   #specify the number of tiles that were not properly allocated\n",
    "#load the array\n",
    "remaining = np.load('tile_name_tile_url_remaining_expanded.npy')\n",
    "labeled = np.load(\"tile_name_tile_url_labeled.npy\")\n",
    "#Save the ammended arrays\n",
    "np.save('tile_name_tile_url_labeled',labeled[:-N])\n",
    "np.save('tile_name_tile_url_remaining_expanded',np.concatenate((labeled[-N:], remaining)))"
   ]
  },
  {
   "cell_type": "markdown",
   "id": "a73ead11",
   "metadata": {},
   "source": [
    "Fix arrays when a tile cannot be found (HTTP Error 404: The specified blob does not exist.)"
   ]
  },
  {
   "cell_type": "code",
   "execution_count": 17,
   "id": "6dd56307",
   "metadata": {},
   "outputs": [
    {
     "name": "stdout",
     "output_type": "stream",
     "text": [
      "(206, 2)\n",
      "(205, 2)\n"
     ]
    }
   ],
   "source": [
    "row_to_remove = 95\n",
    "\n",
    "#dist.tile_name_tile_url_tiles_for_annotators[row_to_remove]\n",
    "\n",
    "error_downloading = np.concatenate((np.load('tile_name_tile_url_error_downloading.npy'),\n",
    "                                    dist.tile_name_tile_url_tiles_for_annotators[row_to_remove]))\n",
    "np.save('tile_name_tile_url_error_downloading.npy', error_downloading)\n",
    "\n",
    "#Remove the rows with errors\n",
    "print(np.load('tile_name_tile_url_remaining_expanded.npy').shape)\n",
    "np.save('tile_name_tile_url_remaining_expanded',np.delete(np.load(tiles_remaining), row_to_remove, axis = 0))\n",
    "print(np.load('tile_name_tile_url_remaining_expanded.npy').shape)\n",
    "row_to_remove = np.nan"
   ]
  },
  {
   "cell_type": "code",
   "execution_count": null,
   "id": "628467c0",
   "metadata": {},
   "outputs": [],
   "source": [
    "#recover the unlabeled images from the dist\n",
    "## np.save('tile_name_tile_url_remaining_expanded',dist.tile_name_tile_url_unlabeled)\n",
    "#dist.tile_name_tile_url_tiles_for_annotators"
   ]
  },
  {
   "cell_type": "code",
   "execution_count": null,
   "id": "da85f2aa",
   "metadata": {
    "tags": []
   },
   "outputs": [],
   "source": [
    "#dist.track_tile_annotations(tiles_labeled)\n",
    "#np.save('tile_name_tile_url_remaining_expanded', dist.tile_name_tile_url_remaining)\n",
    "#np.save('tile_name_tile_url_labeled', dist.tile_name_tile_url_labeled)"
   ]
  },
  {
   "cell_type": "markdown",
   "id": "83525a20",
   "metadata": {},
   "source": [
    "## FIX Crop Script"
   ]
  },
  {
   "cell_type": "code",
   "execution_count": null,
   "id": "aa44da7c",
   "metadata": {},
   "outputs": [],
   "source": [
    "from PIL import Image\n",
    "\n",
    "def crop(path, input, height, width, k, page, area):\n",
    "    im = Image.open(input)\n",
    "    imgwidth, imgheight = im.size\n",
    "    for i in range(0,imgheight,height):\n",
    "        for j in range(0,imgwidth,width):\n",
    "            box = (j, i, j+width, i+height)\n",
    "            a = im.crop(box)\n",
    "            try:\n",
    "                o = a.crop(area)\n",
    "                o.save(os.path.join(path,\"PNG\",\"%s\" % page,\"IMG-%s.png\" % k))\n",
    "            except:\n",
    "                pass\n",
    "            k +=1"
   ]
  },
  {
   "cell_type": "code",
   "execution_count": null,
   "id": "af1a9d79",
   "metadata": {},
   "outputs": [],
   "source": [
    "dist.tile_names = os.listdir(dist.tiles_dir) #get a list of all of the tiles in tiles directory\n",
    "for tile_name in dist.tile_names: #index over the tiles in the tiles_dir \n",
    "    file_name, ext = os.path.splitext(tile_name) # File name\n",
    "    print(tile_name)\n",
    "\n",
    "    print(count)"
   ]
  },
  {
   "cell_type": "markdown",
   "id": "60bf7660",
   "metadata": {},
   "source": [
    "### Pil"
   ]
  },
  {
   "cell_type": "code",
   "execution_count": null,
   "id": "8ff93c30",
   "metadata": {},
   "outputs": [],
   "source": [
    "from PIL import Image \n",
    " \n",
    "#img = Image.open(r\"C:\\Users\\rapiduser\\Downloads\\shutterstock_95235265.jpg\") \n",
    "img = Image.open(r\"C:\\chips_allocation\\Check\\tiles\\ca_060cm_2018_38121_m_3812128_ne_10_060_20180714.tif\")\n",
    "img.save('test.jpeg')\n",
    "img = Image.open(r\"C:\\chips_allocation\\Check\\tiles\\ca_060cm_2018_38121_m_3812128_ne_10_060_20180714.\")\n",
    "\n",
    "left = 0\n",
    "top = 50\n",
    "right = 510\n",
    "bottom = 292\n",
    " \n",
    "img_res = img.crop((left, top, right, bottom)) \n",
    " \n",
    "img_res.show() "
   ]
  },
  {
   "cell_type": "markdown",
   "id": "fb2cf658",
   "metadata": {},
   "source": [
    "### Open CV"
   ]
  },
  {
   "cell_type": "code",
   "execution_count": 14,
   "id": "9bfcfe6f",
   "metadata": {},
   "outputs": [
    {
     "name": "stdout",
     "output_type": "stream",
     "text": [
      "(12220, 9770, 3)\n"
     ]
    },
    {
     "data": {
      "text/plain": [
       "-1"
      ]
     },
     "execution_count": 14,
     "metadata": {},
     "output_type": "execute_result"
    }
   ],
   "source": [
    "import cv2\n",
    "import os\n",
    "image = cv2.imread(r\"C:/chips_allocation/Check/tiles/ca_060cm_2018_38121_m_3812128_ne_10_060_20180714.tif\") \n",
    "y=0\n",
    "x=512*19\n",
    "h=512\n",
    "w=512\n",
    "#cropped = image[x:w, y:h]\n",
    "cropped = image[y:y+h, x:x+w]\n",
    "print(image.shape)\n",
    "\n",
    "# Filename\n",
    "filename = 'test2.jpg'\n",
    "cv2.imwrite(os.path.join('C:/chips_allocation/Check/tiles',filename),cropped)\n",
    "cv2.imshow(\"Cropped\", cropped)\n",
    "cv2.waitKey(0)\n",
    "# Using cv2.imwrite() method\n",
    "# Saving the image\n",
    "#cv2.imwrite(filename, img)\n"
   ]
  },
  {
   "cell_type": "code",
   "execution_count": null,
   "id": "92a0557f",
   "metadata": {},
   "outputs": [],
   "source": [
    "from PIL import Image\n",
    "Image.MAX_IMAGE_PIXELS = 999999999999\n",
    "import os\n",
    "file_name = \"ca_060cm_2018_38121_m_3812128_ne_10_060_20180714\"\n",
    "#tile = Image.open(os.path.join(dist.tiles_dir, tile_name)) #open image\n",
    "with Image.open(r\"C:\\chips_allocation\\Check\\tiles\\ca_060cm_2018_38121_m_3812128_ne_10_060_20180714\") as tile:\n",
    "    width, height = tile.size\n",
    "    item_width = int(512)\n",
    "    col = int(width/512)+1\n",
    "    row = int(height/512)+1\n",
    "    count = 1\n",
    "    for j in range(0,col):\n",
    "        for i in range(0,row):\n",
    "            box = (i*item_width, j*item_width, (i+1)*item_width, (j+1)*item_width)\n",
    "            chips_save_path = os.path.join(self.chips_dir, file_name+ '_'+ \\\n",
    "                                           str(count).zfill(6) + '.jpg') \n",
    "            # The index is a six-digit number like '000023'. \n",
    "            #chip = tile.crop(box)\n",
    "            #chip = chip.save(chips_save_path)\n",
    "            chip = tile.crop(box).save(chips_save_path)\n",
    "            count += 1\n",
    "    print(count)"
   ]
  },
  {
   "cell_type": "code",
   "execution_count": 4,
   "id": "5596328b",
   "metadata": {},
   "outputs": [],
   "source": [
    "import numpy as np\n",
    "import cv2\n",
    "import os\n",
    "\n",
    "image = cv2.imread(r\"C:/chips_allocation/Check/tiles/ca_060cm_2018_38121_m_3812128_ne_10_060_20180714.tif\") \n",
    "y=0\n",
    "x=512*19\n",
    "h=512\n",
    "w=512\n",
    "#cropped = image[x:w, y:h]\n",
    "cropped = image[y:y+h, x:x+w]\n",
    "\n",
    "print(image.shape)\n",
    "\n",
    "# Filename\n",
    "filename = 'test2.jpg'\n",
    "cv2.imwrite(os.path.join('C:/chips_allocation/Check/tiles',filename),cropped)\n",
    "cv2.imshow(\"Cropped\", cropped)\n",
    "cv2.waitKey(0)\n",
    "# Using cv2.imwrite() method\n",
    "# Saving the image\n",
    "#cv2.imwrite(filename, img)\n",
    "\n",
    "#image = cv2.imread('C:/chips_allocation/Check/tiles/test2.jpg') \n",
    "print(chip_img.width)\n",
    "print(chip_img.height)\n",
    "\n",
    "#At the end of the image\n",
    "if chip_img.width != 512:\n",
    "    black_width = 512 - chip_img.width\n",
    "    black_height = 512\n",
    "    black_image = np.zeros((black_height,black_width,3), np.uint8)\n",
    "    print(\"Incorrect Width\")\n",
    "    print(black_img.width)\n",
    "    print(black_img.height)\n",
    "    chip_img = np.concatenate([chip_img, blank_image])\n",
    "    \n",
    "if chip_img.height != 512:\n",
    "    black_height = 512 - chip_img.height\n",
    "    black_width = 512\n",
    "    black_image = np.zeros((black_height,black_width,3), np.uint8)\n",
    "    print(\"Incorrect Height\")\n",
    "    print(black_img.width)\n",
    "    print(black_img.height)\n",
    "    chip_img = np.concatenate([chip_img, blank_image])"
   ]
  },
  {
   "cell_type": "code",
   "execution_count": 8,
   "id": "29505dd8",
   "metadata": {},
   "outputs": [
    {
     "name": "stdout",
     "output_type": "stream",
     "text": [
      "image shape:  (512, 470, 3)\n"
     ]
    }
   ],
   "source": [
    "#blank_image = np.zeros((512,512-42,3), np.uint8)\n",
    "cv2.imshow('3 Channel Window', 1)\n",
    "print(\"image shape: \", blank_image.shape)\n",
    "cv2.waitKey(0)\n",
    "cv2.destroyAllWindows()"
   ]
  },
  {
   "cell_type": "code",
   "execution_count": 35,
   "id": "abaa9bb4",
   "metadata": {},
   "outputs": [
    {
     "name": "stdout",
     "output_type": "stream",
     "text": [
      "42\n",
      "512\n"
     ]
    }
   ],
   "source": [
    "from PIL import Image\n",
    "\n",
    "\n",
    "#blackBox = Image.new(im.mode, (im.width, 50), '#000')\n",
    "#im.paste(blackBox, (0, im.height - blackBox.height))\n",
    "#for x in range(img.width):\n",
    "#    for y in range(img.height - 40, img.height):\n",
    "#        img.putpixel((x, y), (0, 0, 0))\n",
    "\n",
    "#img.save('test2_bb.png')"
   ]
  },
  {
   "cell_type": "code",
   "execution_count": 40,
   "id": "382d5ce2",
   "metadata": {},
   "outputs": [
    {
     "name": "stdout",
     "output_type": "stream",
     "text": [
      "42\n",
      "512\n",
      "Incorrect Width\n",
      "470\n",
      "512\n"
     ]
    },
    {
     "ename": "TypeError",
     "evalue": "unsupported operand type(s) for +: 'JpegImageFile' and 'Image'",
     "output_type": "error",
     "traceback": [
      "\u001b[1;31m---------------------------------------------------------------------------\u001b[0m",
      "\u001b[1;31mTypeError\u001b[0m                                 Traceback (most recent call last)",
      "\u001b[1;32mC:\\Users\\RAPIDU~1\\AppData\\Local\\Temp/ipykernel_6856/778010062.py\u001b[0m in \u001b[0;36m<module>\u001b[1;34m\u001b[0m\n\u001b[0;32m     11\u001b[0m     \u001b[0mprint\u001b[0m\u001b[1;33m(\u001b[0m\u001b[0mblack_img\u001b[0m\u001b[1;33m.\u001b[0m\u001b[0mwidth\u001b[0m\u001b[1;33m)\u001b[0m\u001b[1;33m\u001b[0m\u001b[1;33m\u001b[0m\u001b[0m\n\u001b[0;32m     12\u001b[0m     \u001b[0mprint\u001b[0m\u001b[1;33m(\u001b[0m\u001b[0mblack_img\u001b[0m\u001b[1;33m.\u001b[0m\u001b[0mheight\u001b[0m\u001b[1;33m)\u001b[0m\u001b[1;33m\u001b[0m\u001b[1;33m\u001b[0m\u001b[0m\n\u001b[1;32m---> 13\u001b[1;33m     \u001b[0mchip_img\u001b[0m\u001b[1;33m+\u001b[0m\u001b[0mblack_img\u001b[0m\u001b[1;33m\u001b[0m\u001b[1;33m\u001b[0m\u001b[0m\n\u001b[0m\u001b[0;32m     14\u001b[0m \u001b[1;33m\u001b[0m\u001b[0m\n\u001b[0;32m     15\u001b[0m \u001b[1;32mif\u001b[0m \u001b[0mchip_img\u001b[0m\u001b[1;33m.\u001b[0m\u001b[0mheight\u001b[0m \u001b[1;33m!=\u001b[0m \u001b[1;36m512\u001b[0m\u001b[1;33m:\u001b[0m\u001b[1;33m\u001b[0m\u001b[1;33m\u001b[0m\u001b[0m\n",
      "\u001b[1;31mTypeError\u001b[0m: unsupported operand type(s) for +: 'JpegImageFile' and 'Image'"
     ]
    }
   ],
   "source": [
    "from PIL import Image  \n",
    "chip_img = Image.open('C:/chips_allocation/Check/tiles/test2.jpg')\n",
    "print(chip_img.width)\n",
    "print(chip_img.height)\n",
    "\n",
    "if chip_img.width != 512:\n",
    "    black_width = 512 - chip_img.width\n",
    "    black_height = 512\n",
    "    black_img = Image.new(mode = \"RGB\", size = (black_width, black_height))\n",
    "    print(\"Incorrect Width\")\n",
    "    print(black_img.width)\n",
    "    print(black_img.height)\n",
    "    chip_img+black_img\n",
    "    \n",
    "if chip_img.height != 512:\n",
    "    black_height = 512 - chip_img.height\n",
    "    black_width = 512\n",
    "    blackimg = Image.new(mode = \"RGB\", size = (black_width, black_height))\n",
    "    print(\"Incorrect Height\")\n",
    "    print(black_img.width)\n",
    "    print(black_img.height)"
   ]
  },
  {
   "cell_type": "code",
   "execution_count": null,
   "id": "6c7c45bd",
   "metadata": {},
   "outputs": [],
   "source": [
    "import numpy as np\n",
    "import cv2\n",
    "\n",
    "image = cv2.imread('download.jpg')\n",
    "y=0\n",
    "x=0\n",
    "h=100\n",
    "w=200\n",
    "crop = image[y:y+h, x:x+w]\n",
    "cv2.imshow('Image', crop)\n",
    "cv2.waitKey(0) "
   ]
  },
  {
   "cell_type": "markdown",
   "id": "c396c1c1",
   "metadata": {},
   "source": [
    "### Wand"
   ]
  },
  {
   "cell_type": "code",
   "execution_count": 7,
   "id": "47580bdf",
   "metadata": {},
   "outputs": [
    {
     "name": "stdout",
     "output_type": "stream",
     "text": [
      "format = TIFF\n",
      "width = 306\n",
      "height = 382\n"
     ]
    }
   ],
   "source": [
    "from __future__ import print_function\n",
    "from wand.image import Image\n",
    "\n",
    "with Image(filename=r\"C:/chips_allocation/Check/tiles/ca_060cm_2018_38121_m_3812128_ne_10_060_20180714.tif\") as img:\n",
    "    print('format =', img.format)\n",
    "    print('width =', img.width)\n",
    "    print('height =', img.height)"
   ]
  }
 ],
 "metadata": {
  "kernelspec": {
   "display_name": "Chip Allocate",
   "language": "python",
   "name": "chip_allocate"
  },
  "language_info": {
   "codemirror_mode": {
    "name": "ipython",
    "version": 3
   },
   "file_extension": ".py",
   "mimetype": "text/x-python",
   "name": "python",
   "nbconvert_exporter": "python",
   "pygments_lexer": "ipython3",
   "version": "3.9.7"
  },
  "toc-autonumbering": true,
  "toc-showmarkdowntxt": true
 },
 "nbformat": 4,
 "nbformat_minor": 5
}
