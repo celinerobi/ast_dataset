{
 "cells": [
  {
   "cell_type": "markdown",
   "id": "b02079b5-e80c-4a92-a633-2ccbaa1c7397",
   "metadata": {},
   "source": [
    "Script to alter the til tracking numpy arrays if an error has occurred"
   ]
  },
  {
   "cell_type": "code",
   "execution_count": null,
   "id": "84dfb710",
   "metadata": {},
   "outputs": [],
   "source": [
    "# Standard packages\n",
    "import tempfile\n",
    "import warnings\n",
    "import urllib\n",
    "import shutil\n",
    "import os\n",
    "# Less standard, but still pip- or conda-installable\n",
    "import pandas as pd\n",
    "import numpy as np\n",
    "import matplotlib.pyplot as plt\n",
    "import matplotlib\n",
    "#import rasterio\n",
    "import re\n",
    "import rtree\n",
    "import shapely\n",
    "import pickle\n",
    "import data_eng.az_proc as ap\n",
    "#from cartopy import crs\n",
    "import collections"
   ]
  },
  {
   "cell_type": "code",
   "execution_count": 3,
   "id": "713bb328",
   "metadata": {},
   "outputs": [
    {
     "name": "stdout",
     "output_type": "stream",
     "text": [
      "PIL 8.2.0\n"
     ]
    }
   ],
   "source": [
    "import PIL\n",
    "print('PIL',PIL.__version__)\n",
    "from PIL import Image\n",
    "Image.MAX_IMAGE_PIXELS = 999999999999"
   ]
  },
  {
   "cell_type": "markdown",
   "id": "85a16512",
   "metadata": {},
   "source": [
    "Specify the parameters to download images"
   ]
  },
  {
   "cell_type": "code",
   "execution_count": null,
   "id": "16b32dce",
   "metadata": {},
   "outputs": [],
   "source": [
    "parent_directory = \"C:\\chips_allocation\"\n",
    "annotation_directory = \"Check\"\n",
    "number_of_tiles =10\n",
    "tiles_remaining = \"tile_name_tile_url_remaining_expanded.npy\"\n",
    "tiles_labeled = \"tile_name_tile_url_labeled.npy\""
   ]
  },
  {
   "cell_type": "markdown",
   "id": "1f19400e-2bf1-409f-8a6a-7adb0b266218",
   "metadata": {},
   "source": [
    "Load the annotator class"
   ]
  },
  {
   "cell_type": "code",
   "execution_count": null,
   "id": "8e43659b-b86c-4d36-8a40-ac1e6a6097ac",
   "metadata": {},
   "outputs": [],
   "source": [
    "dist = ap.annotator(annotation_directory) #create the processing class\n",
    "dist.state_dcc_directory(parent_directory)\n",
    "dist.number_of_tiles(number_of_tiles)\n",
    "dist.get_tile_urls(tiles_remaining)\n",
    "dist.make_subdirectories()\n",
    "dist.download_images()\n",
    "#dist.tile_rename()"
   ]
  },
  {
   "cell_type": "markdown",
   "id": "d4d9f72d-417a-4ac4-a499-e83cd6af141f",
   "metadata": {},
   "source": [
    "## Code to Fix arrays "
   ]
  },
  {
   "cell_type": "markdown",
   "id": "a35d81c6-6012-4140-856b-e9889a0e7c9c",
   "metadata": {},
   "source": [
    "Fix arrays when tiles are not properly allocated"
   ]
  },
  {
   "cell_type": "code",
   "execution_count": null,
   "id": "9ef90147-c961-4ee5-a167-b9c048bfb53d",
   "metadata": {},
   "outputs": [],
   "source": [
    "N = 10  #specify the number of tiles that were not properly allocated\n",
    "#load the array\n",
    "remaining = np.load('tile_name_tile_url_remaining_expanded.npy')\n",
    "labeled = np.load(\"tile_name_tile_url_labeled.npy\")\n",
    "#Save the ammended arrays\n",
    "np.save('tile_name_tile_url_labeled',labeled[:-N])\n",
    "np.save('tile_name_tile_url_remaining_expanded',np.concatenate((labeled[-N:], remaining)))"
   ]
  },
  {
   "cell_type": "markdown",
   "id": "52e239c9-aafe-41ff-8e40-698c93991cbf",
   "metadata": {},
   "source": [
    "Fix arrays when a tile cannot be found (HTTP Error 404: The specified blob does not exist.)"
   ]
  },
  {
   "cell_type": "code",
   "execution_count": null,
   "id": "f1b763aa-0a86-473f-bc91-0d49f63cc1b5",
   "metadata": {},
   "outputs": [],
   "source": [
    "row_to_remove = 6\n",
    "\n",
    "#dist.tile_name_tile_url_tiles_for_annotators[row_to_remove]\n",
    "\n",
    "error_downloading = np.concatenate((np.load('tile_name_tile_url_error_downloading.npy'),\n",
    "                                    dist.tile_name_tile_url_tiles_for_annotators[row_to_remove]))\n",
    "np.save('tile_name_tile_url_error_downloading.npy', error_downloading)\n",
    "\n",
    "#Remove the rows with errors\n",
    "print(np.load('tile_name_tile_url_remaining_expanded.npy').shape)\n",
    "np.save('tile_name_tile_url_remaining_expanded',np.delete(np.load(tiles_remaining), row_to_remove, axis = 0))\n",
    "print(np.load('tile_name_tile_url_remaining_expanded.npy').shape)\n",
    "row_to_remove = np.nan"
   ]
  },
  {
   "cell_type": "code",
   "execution_count": null,
   "id": "8c2a84e3-1638-41f2-9b7e-dd1611749027",
   "metadata": {},
   "outputs": [],
   "source": [
    "#recover the unlabeled images from the dist\n",
    "## np.save('tile_name_tile_url_remaining_expanded',dist.tile_name_tile_url_unlabeled)\n",
    "#dist.tile_name_tile_url_tiles_for_annotators"
   ]
  },
  {
   "cell_type": "code",
   "execution_count": null,
   "id": "28f878b8-9e68-473a-96c6-a4d37a8a02d0",
   "metadata": {
    "tags": []
   },
   "outputs": [],
   "source": [
    "#dist.track_tile_annotations(tiles_labeled)\n",
    "#np.save('tile_name_tile_url_remaining_expanded', dist.tile_name_tile_url_remaining)\n",
    "#np.save('tile_name_tile_url_labeled', dist.tile_name_tile_url_labeled)"
   ]
  },
  {
   "cell_type": "markdown",
   "id": "53c8f929-ebba-4f1f-8773-2403d205dcb5",
   "metadata": {},
   "source": [
    "## FIX Crop Script"
   ]
  },
  {
   "cell_type": "code",
   "execution_count": null,
   "id": "5f2fd7ac-515c-426d-a2b1-8b81bce9c400",
   "metadata": {},
   "outputs": [],
   "source": [
    "from PIL import Image\n",
    "\n",
    "def crop(path, input, height, width, k, page, area):\n",
    "    im = Image.open(input)\n",
    "    imgwidth, imgheight = im.size\n",
    "    for i in range(0,imgheight,height):\n",
    "        for j in range(0,imgwidth,width):\n",
    "            box = (j, i, j+width, i+height)\n",
    "            a = im.crop(box)\n",
    "            try:\n",
    "                o = a.crop(area)\n",
    "                o.save(os.path.join(path,\"PNG\",\"%s\" % page,\"IMG-%s.png\" % k))\n",
    "            except:\n",
    "                pass\n",
    "            k +=1"
   ]
  },
  {
   "cell_type": "code",
   "execution_count": null,
   "id": "4d1b11f8-1957-4209-8bdd-d3c6ae1f9657",
   "metadata": {},
   "outputs": [],
   "source": [
    "dist.tile_names = os.listdir(dist.tiles_dir) #get a list of all of the tiles in tiles directory\n",
    "for tile_name in dist.tile_names: #index over the tiles in the tiles_dir \n",
    "    file_name, ext = os.path.splitext(tile_name) # File name\n",
    "    print(tile_name)\n",
    "\n",
    "    print(count)"
   ]
  },
  {
   "cell_type": "markdown",
   "id": "f97d33d4-d71c-4958-b9d4-b48c4b2f60e7",
   "metadata": {},
   "source": [
    "### Pil"
   ]
  },
  {
   "cell_type": "code",
   "execution_count": null,
   "id": "43ef7526-2722-4d04-8b0c-d6065ed0c0fe",
   "metadata": {},
   "outputs": [],
   "source": [
    "from PIL import Image \n",
    " \n",
    "#img = Image.open(r\"C:\\Users\\rapiduser\\Downloads\\shutterstock_95235265.jpg\") \n",
    "img = Image.open(r\"C:\\chips_allocation\\Check\\tiles\\ca_060cm_2018_38121_m_3812128_ne_10_060_20180714.tif\")\n",
    "img.save('test.jpeg')\n",
    "img = Image.open(r\"C:\\chips_allocation\\Check\\tiles\\ca_060cm_2018_38121_m_3812128_ne_10_060_20180714.\")\n",
    "\n",
    "left = 0\n",
    "top = 50\n",
    "right = 510\n",
    "bottom = 292\n",
    " \n",
    "img_res = img.crop((left, top, right, bottom)) \n",
    " \n",
    "img_res.show() "
   ]
  },
  {
   "cell_type": "markdown",
   "id": "6628bc3d-72e1-42ed-b1b7-fc6c5717ab63",
   "metadata": {},
   "source": [
    "### Open CV"
   ]
  },
  {
   "cell_type": "code",
   "execution_count": 14,
   "id": "fa4d37aa-307c-407c-8f0d-ce51c881ba96",
   "metadata": {},
   "outputs": [
    {
     "name": "stdout",
     "output_type": "stream",
     "text": [
      "(12220, 9770, 3)\n"
     ]
    },
    {
     "data": {
      "text/plain": [
       "-1"
      ]
     },
     "execution_count": 14,
     "metadata": {},
     "output_type": "execute_result"
    }
   ],
   "source": [
    "import cv2\n",
    "import os\n",
    "image = cv2.imread(r\"C:/chips_allocation/Check/tiles/ca_060cm_2018_38121_m_3812128_ne_10_060_20180714.tif\") \n",
    "y=0\n",
    "x=512*19\n",
    "h=512\n",
    "w=512\n",
    "#cropped = image[x:w, y:h]\n",
    "cropped = image[y:y+h, x:x+w]\n",
    "print(image.shape)\n",
    "\n",
    "# Filename\n",
    "filename = 'test2.jpg'\n",
    "cv2.imwrite(os.path.join('C:/chips_allocation/Check/tiles',filename),cropped)\n",
    "cv2.imshow(\"Cropped\", cropped)\n",
    "cv2.waitKey(0)\n",
    "# Using cv2.imwrite() method\n",
    "# Saving the image\n",
    "#cv2.imwrite(filename, img)\n"
   ]
  },
  {
   "cell_type": "code",
   "execution_count": null,
   "id": "f3e39dfc-d9ef-4c2a-843e-e53f1f286785",
   "metadata": {},
   "outputs": [],
   "source": [
    "from PIL import Image\n",
    "Image.MAX_IMAGE_PIXELS = 999999999999\n",
    "import os\n",
    "file_name = \"ca_060cm_2018_38121_m_3812128_ne_10_060_20180714\"\n",
    "#tile = Image.open(os.path.join(dist.tiles_dir, tile_name)) #open image\n",
    "with Image.open(r\"C:\\chips_allocation\\Check\\tiles\\ca_060cm_2018_38121_m_3812128_ne_10_060_20180714\") as tile:\n",
    "    width, height = tile.size\n",
    "    item_width = int(512)\n",
    "    col = int(width/512)+1\n",
    "    row = int(height/512)+1\n",
    "    count = 1\n",
    "    for j in range(0,col):\n",
    "        for i in range(0,row):\n",
    "            box = (i*item_width, j*item_width, (i+1)*item_width, (j+1)*item_width)\n",
    "            chips_save_path = os.path.join(self.chips_dir, file_name+ '_'+ \\\n",
    "                                           str(count).zfill(6) + '.jpg') \n",
    "            # The index is a six-digit number like '000023'. \n",
    "            #chip = tile.crop(box)\n",
    "            #chip = chip.save(chips_save_path)\n",
    "            chip = tile.crop(box).save(chips_save_path)\n",
    "            count += 1\n",
    "    print(count)"
   ]
  },
  {
   "cell_type": "code",
   "execution_count": 4,
   "id": "75f98fb7-fb15-41f8-90fb-cbaa9f496616",
   "metadata": {},
   "outputs": [],
   "source": [
    "import numpy as np\n",
    "import cv2\n",
    "import os\n",
    "\n",
    "image = cv2.imread(r\"C:/chips_allocation/Check/tiles/ca_060cm_2018_38121_m_3812128_ne_10_060_20180714.tif\") \n",
    "y=0\n",
    "x=512*19\n",
    "h=512\n",
    "w=512\n",
    "#cropped = image[x:w, y:h]\n",
    "cropped = image[y:y+h, x:x+w]\n",
    "\n",
    "print(image.shape)\n",
    "\n",
    "# Filename\n",
    "filename = 'test2.jpg'\n",
    "cv2.imwrite(os.path.join('C:/chips_allocation/Check/tiles',filename),cropped)\n",
    "cv2.imshow(\"Cropped\", cropped)\n",
    "cv2.waitKey(0)\n",
    "# Using cv2.imwrite() method\n",
    "# Saving the image\n",
    "#cv2.imwrite(filename, img)\n",
    "\n",
    "#image = cv2.imread('C:/chips_allocation/Check/tiles/test2.jpg') \n",
    "print(chip_img.width)\n",
    "print(chip_img.height)\n",
    "\n",
    "#At the end of the image\n",
    "if chip_img.width != 512:\n",
    "    black_width = 512 - chip_img.width\n",
    "    black_height = 512\n",
    "    black_image = np.zeros((black_height,black_width,3), np.uint8)\n",
    "    print(\"Incorrect Width\")\n",
    "    print(black_img.width)\n",
    "    print(black_img.height)\n",
    "    chip_img = np.concatenate([chip_img, blank_image])\n",
    "    \n",
    "if chip_img.height != 512:\n",
    "    black_height = 512 - chip_img.height\n",
    "    black_width = 512\n",
    "    black_image = np.zeros((black_height,black_width,3), np.uint8)\n",
    "    print(\"Incorrect Height\")\n",
    "    print(black_img.width)\n",
    "    print(black_img.height)\n",
    "    chip_img = np.concatenate([chip_img, blank_image])"
   ]
  },
  {
   "cell_type": "code",
   "execution_count": 8,
   "id": "90e14a39-6542-4895-804f-a3e44606bb82",
   "metadata": {},
   "outputs": [
    {
     "name": "stdout",
     "output_type": "stream",
     "text": [
      "image shape:  (512, 470, 3)\n"
     ]
    }
   ],
   "source": [
    "#blank_image = np.zeros((512,512-42,3), np.uint8)\n",
    "cv2.imshow('3 Channel Window', 1)\n",
    "print(\"image shape: \", blank_image.shape)\n",
    "cv2.waitKey(0)\n",
    "cv2.destroyAllWindows()"
   ]
  },
  {
   "cell_type": "code",
   "execution_count": 35,
   "id": "af5bef11-400c-47c5-a304-59d4fdac2c86",
   "metadata": {},
   "outputs": [
    {
     "name": "stdout",
     "output_type": "stream",
     "text": [
      "42\n",
      "512\n"
     ]
    }
   ],
   "source": [
    "from PIL import Image\n",
    "\n",
    "\n",
    "#blackBox = Image.new(im.mode, (im.width, 50), '#000')\n",
    "#im.paste(blackBox, (0, im.height - blackBox.height))\n",
    "#for x in range(img.width):\n",
    "#    for y in range(img.height - 40, img.height):\n",
    "#        img.putpixel((x, y), (0, 0, 0))\n",
    "\n",
    "#img.save('test2_bb.png')"
   ]
  },
  {
   "cell_type": "code",
   "execution_count": 40,
   "id": "2f224090-566f-4a78-8b1a-b8fa296f3fc6",
   "metadata": {},
   "outputs": [
    {
     "name": "stdout",
     "output_type": "stream",
     "text": [
      "42\n",
      "512\n",
      "Incorrect Width\n",
      "470\n",
      "512\n"
     ]
    },
    {
     "ename": "TypeError",
     "evalue": "unsupported operand type(s) for +: 'JpegImageFile' and 'Image'",
     "output_type": "error",
     "traceback": [
      "\u001b[1;31m---------------------------------------------------------------------------\u001b[0m",
      "\u001b[1;31mTypeError\u001b[0m                                 Traceback (most recent call last)",
      "\u001b[1;32mC:\\Users\\RAPIDU~1\\AppData\\Local\\Temp/ipykernel_6856/778010062.py\u001b[0m in \u001b[0;36m<module>\u001b[1;34m\u001b[0m\n\u001b[0;32m     11\u001b[0m     \u001b[0mprint\u001b[0m\u001b[1;33m(\u001b[0m\u001b[0mblack_img\u001b[0m\u001b[1;33m.\u001b[0m\u001b[0mwidth\u001b[0m\u001b[1;33m)\u001b[0m\u001b[1;33m\u001b[0m\u001b[1;33m\u001b[0m\u001b[0m\n\u001b[0;32m     12\u001b[0m     \u001b[0mprint\u001b[0m\u001b[1;33m(\u001b[0m\u001b[0mblack_img\u001b[0m\u001b[1;33m.\u001b[0m\u001b[0mheight\u001b[0m\u001b[1;33m)\u001b[0m\u001b[1;33m\u001b[0m\u001b[1;33m\u001b[0m\u001b[0m\n\u001b[1;32m---> 13\u001b[1;33m     \u001b[0mchip_img\u001b[0m\u001b[1;33m+\u001b[0m\u001b[0mblack_img\u001b[0m\u001b[1;33m\u001b[0m\u001b[1;33m\u001b[0m\u001b[0m\n\u001b[0m\u001b[0;32m     14\u001b[0m \u001b[1;33m\u001b[0m\u001b[0m\n\u001b[0;32m     15\u001b[0m \u001b[1;32mif\u001b[0m \u001b[0mchip_img\u001b[0m\u001b[1;33m.\u001b[0m\u001b[0mheight\u001b[0m \u001b[1;33m!=\u001b[0m \u001b[1;36m512\u001b[0m\u001b[1;33m:\u001b[0m\u001b[1;33m\u001b[0m\u001b[1;33m\u001b[0m\u001b[0m\n",
      "\u001b[1;31mTypeError\u001b[0m: unsupported operand type(s) for +: 'JpegImageFile' and 'Image'"
     ]
    }
   ],
   "source": [
    "from PIL import Image  \n",
    "chip_img = Image.open('C:/chips_allocation/Check/tiles/test2.jpg')\n",
    "print(chip_img.width)\n",
    "print(chip_img.height)\n",
    "\n",
    "if chip_img.width != 512:\n",
    "    black_width = 512 - chip_img.width\n",
    "    black_height = 512\n",
    "    black_img = Image.new(mode = \"RGB\", size = (black_width, black_height))\n",
    "    print(\"Incorrect Width\")\n",
    "    print(black_img.width)\n",
    "    print(black_img.height)\n",
    "    chip_img+black_img\n",
    "    \n",
    "if chip_img.height != 512:\n",
    "    black_height = 512 - chip_img.height\n",
    "    black_width = 512\n",
    "    blackimg = Image.new(mode = \"RGB\", size = (black_width, black_height))\n",
    "    print(\"Incorrect Height\")\n",
    "    print(black_img.width)\n",
    "    print(black_img.height)"
   ]
  },
  {
   "cell_type": "code",
   "execution_count": null,
   "id": "87ceef53-eaa0-40e6-b6f0-aca06e1593a2",
   "metadata": {},
   "outputs": [],
   "source": [
    "import numpy as np\n",
    "import cv2\n",
    "\n",
    "image = cv2.imread('download.jpg')\n",
    "y=0\n",
    "x=0\n",
    "h=100\n",
    "w=200\n",
    "crop = image[y:y+h, x:x+w]\n",
    "cv2.imshow('Image', crop)\n",
    "cv2.waitKey(0) "
   ]
  },
  {
   "cell_type": "markdown",
   "id": "20b0dcc0-02f4-478d-a008-532596fe154f",
   "metadata": {},
   "source": [
    "### Wand"
   ]
  },
  {
   "cell_type": "code",
   "execution_count": 7,
   "id": "f59ef04e-c1cf-4f9f-870d-cdfa11d83e8f",
   "metadata": {},
   "outputs": [
    {
     "name": "stdout",
     "output_type": "stream",
     "text": [
      "format = TIFF\n",
      "width = 306\n",
      "height = 382\n"
     ]
    }
   ],
   "source": [
    "from __future__ import print_function\n",
    "from wand.image import Image\n",
    "\n",
    "with Image(filename=r\"C:/chips_allocation/Check/tiles/ca_060cm_2018_38121_m_3812128_ne_10_060_20180714.tif\") as img:\n",
    "    print('format =', img.format)\n",
    "    print('width =', img.width)\n",
    "    print('height =', img.height)"
   ]
  }
 ],
 "metadata": {
  "kernelspec": {
   "display_name": "Chip Allocate",
   "language": "python",
   "name": "chip_allocate"
  },
  "language_info": {
   "codemirror_mode": {
    "name": "ipython",
    "version": 3
   },
   "file_extension": ".py",
   "mimetype": "text/x-python",
   "name": "python",
   "nbconvert_exporter": "python",
   "pygments_lexer": "ipython3",
   "version": "3.9.7"
  },
  "toc-autonumbering": true,
  "toc-showmarkdowntxt": true
 },
 "nbformat": 4,
 "nbformat_minor": 5
}
