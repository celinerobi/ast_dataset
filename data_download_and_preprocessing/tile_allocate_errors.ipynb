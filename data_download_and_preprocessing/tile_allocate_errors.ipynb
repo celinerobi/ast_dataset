{
 "cells": [
  {
   "cell_type": "markdown",
   "id": "ccd0876d",
   "metadata": {},
   "source": [
    "# Script to alter the til tracking numpy arrays if an error has occurred"
   ]
  },
  {
   "cell_type": "code",
   "execution_count": 3,
   "id": "9c5486d4",
   "metadata": {
    "tags": []
   },
   "outputs": [],
   "source": [
    "# Standard packages\n",
    "import tempfile\n",
    "import warnings\n",
    "import urllib\n",
    "import shutil\n",
    "import os\n",
    "# Less standard, but still pip- or conda-installable\n",
    "import pandas as pd\n",
    "import numpy as np\n",
    "import matplotlib.pyplot as plt\n",
    "import matplotlib\n",
    "#import rasterio\n",
    "import re\n",
    "import rtree\n",
    "import shapely\n",
    "import pickle\n",
    "import data_eng.az_proc as ap\n",
    "#from cartopy import crs\n",
    "import collections\n",
    "from glob import glob"
   ]
  },
  {
   "cell_type": "code",
   "execution_count": 5,
   "id": "13cee431-a4ed-4f10-9de2-e9481035cce9",
   "metadata": {},
   "outputs": [
    {
     "ename": "NameError",
     "evalue": "name 'cv2' is not defined",
     "output_type": "error",
     "traceback": [
      "\u001b[1;31m---------------------------------------------------------------------------\u001b[0m",
      "\u001b[1;31mNameError\u001b[0m                                 Traceback (most recent call last)",
      "\u001b[1;32mC:\\Users\\RAPIDU~1\\AppData\\Local\\Temp/ipykernel_4316/1137346112.py\u001b[0m in \u001b[0;36m<module>\u001b[1;34m\u001b[0m\n\u001b[0;32m      5\u001b[0m \u001b[1;32mfor\u001b[0m \u001b[0mo\u001b[0m \u001b[1;32min\u001b[0m \u001b[0mrange\u001b[0m\u001b[1;33m(\u001b[0m\u001b[0mlen\u001b[0m\u001b[1;33m(\u001b[0m\u001b[0mo_images\u001b[0m\u001b[1;33m)\u001b[0m\u001b[1;33m)\u001b[0m\u001b[1;33m:\u001b[0m\u001b[1;33m\u001b[0m\u001b[1;33m\u001b[0m\u001b[0m\n\u001b[0;32m      6\u001b[0m     \u001b[0mo_image\u001b[0m \u001b[1;33m=\u001b[0m \u001b[0mo_images\u001b[0m\u001b[1;33m[\u001b[0m\u001b[0mo\u001b[0m\u001b[1;33m]\u001b[0m\u001b[1;33m\u001b[0m\u001b[1;33m\u001b[0m\u001b[0m\n\u001b[1;32m----> 7\u001b[1;33m     \u001b[0moriginal\u001b[0m \u001b[1;33m=\u001b[0m \u001b[0mcv2\u001b[0m\u001b[1;33m.\u001b[0m\u001b[0mimread\u001b[0m\u001b[1;33m(\u001b[0m\u001b[0mos\u001b[0m\u001b[1;33m.\u001b[0m\u001b[0mpath\u001b[0m\u001b[1;33m.\u001b[0m\u001b[0mjoin\u001b[0m\u001b[1;33m(\u001b[0m\u001b[0mo_images_dir_path\u001b[0m\u001b[1;33m,\u001b[0m \u001b[0mo_image\u001b[0m\u001b[1;33m)\u001b[0m\u001b[1;33m)\u001b[0m \u001b[1;31m#open image\u001b[0m\u001b[1;33m\u001b[0m\u001b[1;33m\u001b[0m\u001b[0m\n\u001b[0m\u001b[0;32m      8\u001b[0m \u001b[1;33m\u001b[0m\u001b[0m\n\u001b[0;32m      9\u001b[0m     \u001b[1;32mfor\u001b[0m \u001b[0md_image\u001b[0m \u001b[1;32min\u001b[0m \u001b[0md_images\u001b[0m\u001b[1;33m:\u001b[0m\u001b[1;33m\u001b[0m\u001b[1;33m\u001b[0m\u001b[0m\n",
      "\u001b[1;31mNameError\u001b[0m: name 'cv2' is not defined"
     ]
    }
   ],
   "source": []
  },
  {
   "cell_type": "code",
   "execution_count": 3,
   "id": "3ba4adf2",
   "metadata": {},
   "outputs": [
    {
     "name": "stdout",
     "output_type": "stream",
     "text": [
      "PIL 8.3.1\n"
     ]
    }
   ],
   "source": [
    "import PIL\n",
    "print('PIL',PIL.__version__)\n",
    "from PIL import Image\n",
    "Image.MAX_IMAGE_PIXELS = 999999999999"
   ]
  },
  {
   "cell_type": "code",
   "execution_count": 1,
   "id": "6ba8a20d-b68d-4d6a-9d75-860c7d33d187",
   "metadata": {},
   "outputs": [
    {
     "ename": "NameError",
     "evalue": "name 'np' is not defined",
     "output_type": "error",
     "traceback": [
      "\u001b[1;31m---------------------------------------------------------------------------\u001b[0m",
      "\u001b[1;31mNameError\u001b[0m                                 Traceback (most recent call last)",
      "\u001b[1;32mC:\\Users\\RAPIDU~1\\AppData\\Local\\Temp/ipykernel_8872/2317327612.py\u001b[0m in \u001b[0;36m<module>\u001b[1;34m\u001b[0m\n\u001b[0;32m      4\u001b[0m \u001b[0mtiles_errors\u001b[0m \u001b[1;33m=\u001b[0m \u001b[1;34m\"tile_name_tile_url_error_downloading.npy\"\u001b[0m\u001b[1;33m\u001b[0m\u001b[1;33m\u001b[0m\u001b[0m\n\u001b[0;32m      5\u001b[0m \u001b[1;33m\u001b[0m\u001b[0m\n\u001b[1;32m----> 6\u001b[1;33m \u001b[0mtiles_remaining_array\u001b[0m \u001b[1;33m=\u001b[0m \u001b[0mnp\u001b[0m\u001b[1;33m.\u001b[0m\u001b[0mload\u001b[0m\u001b[1;33m(\u001b[0m\u001b[0mtiles_remaining\u001b[0m\u001b[1;33m)\u001b[0m\u001b[1;33m\u001b[0m\u001b[1;33m\u001b[0m\u001b[0m\n\u001b[0m\u001b[0;32m      7\u001b[0m \u001b[0mtiles_labeled_array\u001b[0m \u001b[1;33m=\u001b[0m \u001b[0mnp\u001b[0m\u001b[1;33m.\u001b[0m\u001b[0mload\u001b[0m\u001b[1;33m(\u001b[0m\u001b[0mtiles_labeled\u001b[0m\u001b[1;33m)\u001b[0m\u001b[1;33m\u001b[0m\u001b[1;33m\u001b[0m\u001b[0m\n\u001b[0;32m      8\u001b[0m \u001b[0mtiles_errors_array\u001b[0m \u001b[1;33m=\u001b[0m \u001b[0mnp\u001b[0m\u001b[1;33m.\u001b[0m\u001b[0mload\u001b[0m\u001b[1;33m(\u001b[0m\u001b[0mtiles_errors\u001b[0m\u001b[1;33m)\u001b[0m\u001b[1;33m\u001b[0m\u001b[1;33m\u001b[0m\u001b[0m\n",
      "\u001b[1;31mNameError\u001b[0m: name 'np' is not defined"
     ]
    }
   ],
   "source": [
    "# Specify the parameters to download images\n",
    "tiles_remaining = \"tile_name_tile_url_remaining_expanded.npy\"\n",
    "tiles_labeled = \"tile_name_tile_url_labeled.npy\"\n",
    "tiles_errors = \"tile_name_tile_url_error_downloading.npy\"\n",
    "\n",
    "tiles_remaining_array = np.load(tiles_remaining)\n",
    "tiles_labeled_array = np.load(tiles_labeled)\n",
    "tiles_errors_array = np.load(tiles_errors)\n",
    "#reshape errors array into 2d array\n",
    "#tiles_errors_array = np.reshape(tiles_errors_array, (int(tiles_errors_array.size/2),2))\n",
    "#np.save('tile_name_tile_url_error_downloading.npy', tiles_errors_array)\n",
    "\n",
    "additional_unlabeled = \"unlabeled_tile_names_tile_urls.npy\"\n",
    "additional_unlabeled_array = np.load(additional_unlabeled)"
   ]
  },
  {
   "cell_type": "code",
   "execution_count": 5,
   "id": "296797bf-cbc7-4b56-826f-33e3d578e8a3",
   "metadata": {},
   "outputs": [
    {
     "data": {
      "text/plain": [
       "array([['m_4408431_sw_16_060_20180823_20181211.tif',\n",
       "        'https://naipeuwest.blob.core.windows.net/naip/v002/mi/2018/mi_060cm_2018/44084/m_4408431_sw_16_060_20180823_20181211.tif'],\n",
       "       ['m_4408523_nw_16_060_20180912_20181211.tif',\n",
       "        'https://naipeuwest.blob.core.windows.net/naip/v002/mi/2018/mi_060cm_2018/44085/m_4408523_nw_16_060_20180912_20181211.tif'],\n",
       "       ['m_4410055_nw_14_060_20180907_20181213.tif',\n",
       "        'https://naipeuwest.blob.core.windows.net/naip/v002/sd/2018/sd_060cm_2018/44100/m_4410055_nw_14_060_20180907_20181213.tif'],\n",
       "       ['m_4609602_sw_14_060_20181018_20181213.tif',\n",
       "        'https://naipeuwest.blob.core.windows.net/naip/v002/nd/2018/nd_060cm_2018/46096/m_4609602_sw_14_060_20181018_20181213.tif']],\n",
       "      dtype='<U120')"
      ]
     },
     "execution_count": 5,
     "metadata": {},
     "output_type": "execute_result"
    }
   ],
   "source": [
    "tiles_remaining_array"
   ]
  },
  {
   "cell_type": "markdown",
   "id": "276fc20c-9787-4c5d-b6e4-f58c126c616f",
   "metadata": {},
   "source": [
    "## Double check that remaining images have not been labeled "
   ]
  },
  {
   "cell_type": "code",
   "execution_count": 26,
   "id": "fe1da494-41d6-44ec-8038-833b0e65ba1e",
   "metadata": {},
   "outputs": [],
   "source": [
    "for i in range(len(tiles_remaining_array)):\n",
    "    if tiles_remaining_array[i] in tiles_labeled_array:\n",
    "        print(tiles_remaining_array[i])"
   ]
  },
  {
   "cell_type": "markdown",
   "id": "1acc94e3-72ff-47fa-84f7-09177d8610d6",
   "metadata": {},
   "source": [
    "## Confirm that all Tiles in tile error raise an error \n"
   ]
  },
  {
   "cell_type": "code",
   "execution_count": 117,
   "id": "6e168058-b0b1-4de8-a057-2f28f4f7d9bf",
   "metadata": {},
   "outputs": [
    {
     "name": "stdout",
     "output_type": "stream",
     "text": [
      "Unlabeled Tiles (0, 2)\n"
     ]
    },
    {
     "ename": "IndexError",
     "evalue": "index 0 is out of bounds for axis 0 with size 0",
     "output_type": "error",
     "traceback": [
      "\u001b[1;31m---------------------------------------------------------------------------\u001b[0m",
      "\u001b[1;31mIndexError\u001b[0m                                Traceback (most recent call last)",
      "\u001b[1;32mC:\\Users\\RAPIDU~1\\AppData\\Local\\Temp/ipykernel_10324/3927314547.py\u001b[0m in \u001b[0;36m<module>\u001b[1;34m\u001b[0m\n\u001b[0;32m      7\u001b[0m \u001b[0mdist\u001b[0m\u001b[1;33m.\u001b[0m\u001b[0mstate_dcc_directory\u001b[0m\u001b[1;33m(\u001b[0m\u001b[0mparent_directory\u001b[0m\u001b[1;33m)\u001b[0m\u001b[1;33m\u001b[0m\u001b[1;33m\u001b[0m\u001b[0m\n\u001b[0;32m      8\u001b[0m \u001b[0mdist\u001b[0m\u001b[1;33m.\u001b[0m\u001b[0mnumber_of_tiles\u001b[0m\u001b[1;33m(\u001b[0m\u001b[0mnumber_of_tiles\u001b[0m\u001b[1;33m)\u001b[0m\u001b[1;33m\u001b[0m\u001b[1;33m\u001b[0m\u001b[0m\n\u001b[1;32m----> 9\u001b[1;33m \u001b[0mdist\u001b[0m\u001b[1;33m.\u001b[0m\u001b[0mget_tile_urls\u001b[0m\u001b[1;33m(\u001b[0m\u001b[0mtemp_error\u001b[0m\u001b[1;33m)\u001b[0m\u001b[1;33m\u001b[0m\u001b[1;33m\u001b[0m\u001b[0m\n\u001b[0m\u001b[0;32m     10\u001b[0m \u001b[0mdist\u001b[0m\u001b[1;33m.\u001b[0m\u001b[0mmake_subdirectories\u001b[0m\u001b[1;33m(\u001b[0m\u001b[1;33m)\u001b[0m\u001b[1;33m\u001b[0m\u001b[1;33m\u001b[0m\u001b[0m\n\u001b[0;32m     11\u001b[0m \u001b[0mdist\u001b[0m\u001b[1;33m.\u001b[0m\u001b[0mdownload_images\u001b[0m\u001b[1;33m(\u001b[0m\u001b[1;33m)\u001b[0m\u001b[1;33m\u001b[0m\u001b[1;33m\u001b[0m\u001b[0m\n",
      "\u001b[1;32m~\\cred\\AST_dataset\\data_download_and_preprocessing\\data_eng\\az_proc.py\u001b[0m in \u001b[0;36mget_tile_urls\u001b[1;34m(self, tile_name_tile_url_unlabeled)\u001b[0m\n\u001b[0;32m    365\u001b[0m         \u001b[0mself\u001b[0m\u001b[1;33m.\u001b[0m\u001b[0mtile_name_tile_url_unlabeled\u001b[0m \u001b[1;33m=\u001b[0m \u001b[0mnp\u001b[0m\u001b[1;33m.\u001b[0m\u001b[0mload\u001b[0m\u001b[1;33m(\u001b[0m\u001b[0mtile_name_tile_url_unlabeled\u001b[0m\u001b[1;33m)\u001b[0m \u001b[1;31m#the tiles that have not yet been labeled to date\u001b[0m\u001b[1;33m\u001b[0m\u001b[1;33m\u001b[0m\u001b[0m\n\u001b[0;32m    366\u001b[0m         \u001b[0mprint\u001b[0m\u001b[1;33m(\u001b[0m\u001b[1;34m\"Unlabeled Tiles\"\u001b[0m\u001b[1;33m,\u001b[0m\u001b[0mself\u001b[0m\u001b[1;33m.\u001b[0m\u001b[0mtile_name_tile_url_unlabeled\u001b[0m\u001b[1;33m.\u001b[0m\u001b[0mshape\u001b[0m\u001b[1;33m)\u001b[0m\u001b[1;33m\u001b[0m\u001b[1;33m\u001b[0m\u001b[0m\n\u001b[1;32m--> 367\u001b[1;33m         \u001b[0mself\u001b[0m\u001b[1;33m.\u001b[0m\u001b[0mtile_name_tile_url_tiles_for_annotators\u001b[0m \u001b[1;33m=\u001b[0m \u001b[0mself\u001b[0m\u001b[1;33m.\u001b[0m\u001b[0mtile_name_tile_url_unlabeled\u001b[0m\u001b[1;33m[\u001b[0m\u001b[0mrange\u001b[0m\u001b[1;33m(\u001b[0m\u001b[0mself\u001b[0m\u001b[1;33m.\u001b[0m\u001b[0mnum_tiles\u001b[0m\u001b[1;33m)\u001b[0m\u001b[1;33m,\u001b[0m\u001b[1;33m:\u001b[0m\u001b[1;33m]\u001b[0m \u001b[1;31m#create an array of the tiles that will be allocated to this annotator\u001b[0m\u001b[1;33m\u001b[0m\u001b[1;33m\u001b[0m\u001b[0m\n\u001b[0m\u001b[0;32m    368\u001b[0m \u001b[1;33m\u001b[0m\u001b[0m\n\u001b[0;32m    369\u001b[0m         \u001b[0mself\u001b[0m\u001b[1;33m.\u001b[0m\u001b[0mtile_url\u001b[0m \u001b[1;33m=\u001b[0m \u001b[0mself\u001b[0m\u001b[1;33m.\u001b[0m\u001b[0mtile_name_tile_url_tiles_for_annotators\u001b[0m\u001b[1;33m[\u001b[0m\u001b[1;33m:\u001b[0m\u001b[1;33m,\u001b[0m\u001b[1;36m1\u001b[0m\u001b[1;33m]\u001b[0m \u001b[1;31m#get the urls of the tiles that will allocated to the annotator\u001b[0m\u001b[1;33m\u001b[0m\u001b[1;33m\u001b[0m\u001b[0m\n",
      "\u001b[1;31mIndexError\u001b[0m: index 0 is out of bounds for axis 0 with size 0"
     ]
    }
   ],
   "source": [
    "temp_error = tiles_errors_array[73:]\n",
    "np.save('temp_error.npy', temp_error)\n",
    "temp_error= 'temp_error.npy'\n",
    "temp_error_array = np.load('temp_error.npy')\n",
    "\n",
    "dist = ap.annotator(annotation_directory) #create the processing class\n",
    "dist.state_dcc_directory(parent_directory)\n",
    "dist.number_of_tiles(number_of_tiles)\n",
    "dist.get_tile_urls(temp_error)\n",
    "dist.make_subdirectories()\n",
    "dist.download_images()\n",
    "#dist.tile_rename()"
   ]
  },
  {
   "cell_type": "markdown",
   "id": "206f77f9-62cb-46a5-8a80-deddc48ee751",
   "metadata": {},
   "source": [
    "### Add tiles that do not raise an error to remaining array"
   ]
  },
  {
   "cell_type": "code",
   "execution_count": 4,
   "id": "8ba9019d-bb43-4deb-9f62-1967357bddc1",
   "metadata": {},
   "outputs": [],
   "source": [
    "#tiles_remaining_array.shape\n",
    "working_tiles = [3, 10, 11, 12, 13, 43]\n",
    "#tiles_remaining_array = np.concatenate((tiles_remaining_array, tiles_errors_array[working_tiles]))\n",
    "#Save updated remaining tiles array\n",
    "#np.save(tiles_remaining, tiles_remaining_array)\n",
    "\n",
    "#save updated errors array\n",
    "#tiles_errors_array = np.delete(tiles_errors_array,[3, 10, 11, 12, 13, 43], axis=0)\n",
    "#np.save(tiles_errors, tiles_errors_array)"
   ]
  },
  {
   "cell_type": "markdown",
   "id": "108a546d",
   "metadata": {},
   "source": [
    "Load the annotator class"
   ]
  },
  {
   "cell_type": "markdown",
   "id": "9be3a73e-c4cc-4a3b-ad8c-7911db37ff8e",
   "metadata": {},
   "source": [
    "## Find any tiles with errors"
   ]
  },
  {
   "cell_type": "code",
   "execution_count": 32,
   "id": "1d4fa485-a809-4579-8f37-c219c22a57ba",
   "metadata": {},
   "outputs": [
    {
     "data": {
      "text/plain": [
       "'unlabeled_tile_names_tile_urls.npy'"
      ]
     },
     "execution_count": 32,
     "metadata": {},
     "output_type": "execute_result"
    }
   ],
   "source": [
    "parent_directory = \"C:\\chips_allocation\"\n",
    "annotation_directory = \"Check\"\n",
    "number_of_tiles = 28\n",
    "additional_unlabeled"
   ]
  },
  {
   "cell_type": "code",
   "execution_count": 29,
   "id": "6e024a46-1ba6-4bcb-b747-baf5e775563c",
   "metadata": {},
   "outputs": [],
   "source": [
    "# Specify the parameters to download images\n",
    "tiles_remaining = \"tile_name_tile_url_remaining_expanded.npy\"\n",
    "tiles_labeled = \"tile_name_tile_url_labeled.npy\"\n",
    "tiles_errors = \"tile_name_tile_url_error_downloading.npy\"\n",
    "\n",
    "tiles_remaining_array = np.load(tiles_remaining)\n",
    "tiles_labeled_array = np.load(tiles_labeled)\n",
    "tiles_errors_array = np.load(tiles_errors)\n",
    "#reshape errors array into 2d array\n",
    "#tiles_errors_array = np.reshape(tiles_errors_array, (int(tiles_errors_array.size/2),2))\n",
    "#np.save('tile_name_tile_url_error_downloading.npy', tiles_errors_array)\n",
    "\n",
    "additional_unlabeled = \"unlabeled_tile_names_tile_urls.npy\"\n",
    "additional_unlabeled_array = np.load(additional_unlabeled)"
   ]
  },
  {
   "cell_type": "code",
   "execution_count": 21,
   "id": "4fbf805c-b707-4dcc-a62c-52286f4e55c6",
   "metadata": {},
   "outputs": [
    {
     "data": {
      "text/plain": [
       "(55, 2)"
      ]
     },
     "execution_count": 21,
     "metadata": {},
     "output_type": "execute_result"
    }
   ],
   "source": [
    "additional_unlabeled_array.shape"
   ]
  },
  {
   "cell_type": "code",
   "execution_count": 15,
   "id": "02eb01ff-937c-4e3c-94b8-cc1787d0c21b",
   "metadata": {},
   "outputs": [
    {
     "name": "stdout",
     "output_type": "stream",
     "text": [
      "(56, 2)\n",
      "(55, 2)\n"
     ]
    }
   ],
   "source": [
    "\"\"\"\n",
    "row_to_remove = 0\n",
    "\n",
    "#dist.tile_name_tile_url_tiles_for_annotators[row_to_remove]\n",
    "\n",
    "error_downloading = np.concatenate((np.load(tiles_errors),\n",
    "                                    dist.tile_name_tile_url_tiles_for_annotators[row_to_remove][None,:]))\n",
    "np.save(tiles_errors, error_downloading)\n",
    "\n",
    "#Remove the rows with errors\n",
    "print(np.load(additional_unlabeled).shape)\n",
    "np.save(additional_unlabeled, np.delete(np.load(additional_unlabeled), row_to_remove, axis = 0))\n",
    "print(np.load(additional_unlabeled).shape)\n",
    "row_to_remove = np.nan\n",
    "\"\"\""
   ]
  },
  {
   "cell_type": "code",
   "execution_count": 34,
   "id": "1fa44adb",
   "metadata": {
    "tags": []
   },
   "outputs": [
    {
     "name": "stdout",
     "output_type": "stream",
     "text": [
      "Unlabeled Tiles (28, 2)\n",
      "0\n",
      "Bypassing download of already-downloaded file m_3209219_se_15_060_20190901.tif\n",
      "1\n",
      "Bypassing download of already-downloaded file m_3209225_se_15_060_20190903.tif\n",
      "2\n",
      "Bypassing download of already-downloaded file m_3209226_nw_15_060_20190901.tif\n",
      "3\n",
      "Bypassing download of already-downloaded file m_3209227_ne_15_060_20190901.tif\n",
      "4\n",
      "Bypassing download of already-downloaded file m_3209610_se_14_060_20181126_20190301.tif\n",
      "5\n",
      "Bypassing download of already-downloaded file m_3209656_sw_14_060_20181115_20190222.tif\n",
      "6\n",
      "Bypassing download of already-downloaded file m_3209934_sw_14_060_20181028.tif\n",
      "7\n",
      "Bypassing download of already-downloaded file m_3210330_ne_13_060_20180618_20190427.tif\n",
      "8\n",
      "Bypassing download of already-downloaded file m_3210352_ne_13_060_20180506_20190427.tif\n",
      "9\n",
      "Bypassing download of already-downloaded file m_3211512_nw_11_060_20190305_20190412.tif\n",
      "10\n",
      "Bypassing download of already-downloaded file m_3309619_se_14_060_20181028.tif\n",
      "11\n",
      "Bypassing download of already-downloaded file m_3309805_sw_14_060_20181027.tif\n",
      "12\n",
      "Bypassing download of already-downloaded file m_3510101_ne_14_060_20180913.tif\n",
      "13\n",
      "Bypassing download of already-downloaded file m_3709446_se_15_060_20180721_20190206.tif\n",
      "14\n",
      "Bypassing download of already-downloaded file m_3807520_sw_18_060_20180815.tif\n",
      "15\n",
      "Bypassing download of already-downloaded file m_3908011_nw_17_060_20180701.tif\n",
      "16\n",
      "Bypassing download of already-downloaded file m_4011107_se_12_060_20180911.tif\n",
      "17\n"
     ]
    },
    {
     "name": "stderr",
     "output_type": "stream",
     "text": [
      "100% (384530201 of 384530201) |##########| Elapsed Time: 0:00:36 Time:  0:00:36\n"
     ]
    },
    {
     "name": "stdout",
     "output_type": "stream",
     "text": [
      "...done, 384530201 bytes.\n",
      "18\n"
     ]
    },
    {
     "name": "stderr",
     "output_type": "stream",
     "text": [
      "100% (478646831 of 478646831) |##########| Elapsed Time: 0:00:15 Time:  0:00:15\n"
     ]
    },
    {
     "name": "stdout",
     "output_type": "stream",
     "text": [
      "...done, 478646831 bytes.\n",
      "19\n"
     ]
    },
    {
     "name": "stderr",
     "output_type": "stream",
     "text": [
      "100% (522740474 of 522740474) |##########| Elapsed Time: 0:00:24 Time:  0:00:24\n"
     ]
    },
    {
     "name": "stdout",
     "output_type": "stream",
     "text": [
      "...done, 522740474 bytes.\n",
      "20\n"
     ]
    },
    {
     "name": "stderr",
     "output_type": "stream",
     "text": [
      "100% (411424594 of 411424594) |##########| Elapsed Time: 0:00:13 Time:  0:00:13\n"
     ]
    },
    {
     "name": "stdout",
     "output_type": "stream",
     "text": [
      "...done, 411424594 bytes.\n",
      "21\n"
     ]
    },
    {
     "name": "stderr",
     "output_type": "stream",
     "text": [
      "100% (497842110 of 497842110) |##########| Elapsed Time: 0:01:02 Time:  0:01:02\n"
     ]
    },
    {
     "name": "stdout",
     "output_type": "stream",
     "text": [
      "...done, 497842110 bytes.\n",
      "22\n"
     ]
    },
    {
     "name": "stderr",
     "output_type": "stream",
     "text": [
      "100% (495514561 of 495514561) |##########| Elapsed Time: 0:01:07 Time:  0:01:07\n"
     ]
    },
    {
     "name": "stdout",
     "output_type": "stream",
     "text": [
      "...done, 495514561 bytes.\n",
      "23\n"
     ]
    },
    {
     "name": "stderr",
     "output_type": "stream",
     "text": [
      "100% (388591888 of 388591888) |##########| Elapsed Time: 0:00:21 Time:  0:00:21\n"
     ]
    },
    {
     "name": "stdout",
     "output_type": "stream",
     "text": [
      "...done, 388591888 bytes.\n",
      "24\n"
     ]
    },
    {
     "name": "stderr",
     "output_type": "stream",
     "text": [
      "100% (547771170 of 547771170) |##########| Elapsed Time: 0:00:39 Time:  0:00:39\n"
     ]
    },
    {
     "name": "stdout",
     "output_type": "stream",
     "text": [
      "...done, 547771170 bytes.\n",
      "25\n"
     ]
    },
    {
     "name": "stderr",
     "output_type": "stream",
     "text": [
      "100% (513328615 of 513328615) |##########| Elapsed Time: 0:00:27 Time:  0:00:27\n"
     ]
    },
    {
     "name": "stdout",
     "output_type": "stream",
     "text": [
      "...done, 513328615 bytes.\n",
      "26\n"
     ]
    },
    {
     "name": "stderr",
     "output_type": "stream",
     "text": [
      "100% (312617159 of 312617159) |##########| Elapsed Time: 0:00:45 Time:  0:00:45\n"
     ]
    },
    {
     "name": "stdout",
     "output_type": "stream",
     "text": [
      "...done, 312617159 bytes.\n",
      "27\n"
     ]
    },
    {
     "name": "stderr",
     "output_type": "stream",
     "text": [
      "100% (361852820 of 361852820) |##########| Elapsed Time: 0:00:31 Time:  0:00:31\n"
     ]
    },
    {
     "name": "stdout",
     "output_type": "stream",
     "text": [
      "...done, 361852820 bytes.\n"
     ]
    },
    {
     "data": {
      "text/plain": [
       "['C:\\\\chips_allocation/Check\\\\tiles\\\\https_naipeuwest.blob.core.windows.net_naip_v002_la_2019_la_60cm_2019_32092_m_3209219_se_15_060_20190901.tif',\n",
       " 'C:\\\\chips_allocation/Check\\\\tiles\\\\https_naipeuwest.blob.core.windows.net_naip_v002_la_2019_la_60cm_2019_32092_m_3209225_se_15_060_20190903.tif',\n",
       " 'C:\\\\chips_allocation/Check\\\\tiles\\\\https_naipeuwest.blob.core.windows.net_naip_v002_la_2019_la_60cm_2019_32092_m_3209226_nw_15_060_20190901.tif',\n",
       " 'C:\\\\chips_allocation/Check\\\\tiles\\\\https_naipeuwest.blob.core.windows.net_naip_v002_la_2019_la_60cm_2019_32092_m_3209227_ne_15_060_20190901.tif',\n",
       " 'C:\\\\chips_allocation/Check\\\\tiles\\\\https_naipeuwest.blob.core.windows.net_naip_v002_tx_2018_tx_060cm_2018_32096_m_3209610_se_14_060_20181126_20190301.tif',\n",
       " 'C:\\\\chips_allocation/Check\\\\tiles\\\\https_naipeuwest.blob.core.windows.net_naip_v002_tx_2018_tx_060cm_2018_32096_m_3209656_sw_14_060_20181115_20190222.tif',\n",
       " 'C:\\\\chips_allocation/Check\\\\tiles\\\\https_naipeuwest.blob.core.windows.net_naip_v002_tx_2018_tx_060cm_2018_32099_m_3209934_sw_14_060_20181028.tif',\n",
       " 'C:\\\\chips_allocation/Check\\\\tiles\\\\https_naipeuwest.blob.core.windows.net_naip_v002_nm_2018_nm_060cm_2018_32103_m_3210330_ne_13_060_20180618_20190427.tif',\n",
       " 'C:\\\\chips_allocation/Check\\\\tiles\\\\https_naipeuwest.blob.core.windows.net_naip_v002_nm_2018_nm_060cm_2018_32103_m_3210352_ne_13_060_20180506_20190427.tif',\n",
       " 'C:\\\\chips_allocation/Check\\\\tiles\\\\https_naipeuwest.blob.core.windows.net_naip_v002_ca_2018_ca_060cm_2018_32115_m_3211512_nw_11_060_20190305_20190412.tif',\n",
       " 'C:\\\\chips_allocation/Check\\\\tiles\\\\https_naipeuwest.blob.core.windows.net_naip_v002_tx_2018_tx_060cm_2018_33096_m_3309619_se_14_060_20181028.tif',\n",
       " 'C:\\\\chips_allocation/Check\\\\tiles\\\\https_naipeuwest.blob.core.windows.net_naip_v002_tx_2018_tx_060cm_2018_33098_m_3309805_sw_14_060_20181027.tif',\n",
       " 'C:\\\\chips_allocation/Check\\\\tiles\\\\https_naipeuwest.blob.core.windows.net_naip_v002_tx_2018_tx_060cm_2018_35101_m_3510101_ne_14_060_20180913.tif',\n",
       " 'C:\\\\chips_allocation/Check\\\\tiles\\\\https_naipeuwest.blob.core.windows.net_naip_v002_mo_2018_mo_060cm_2018_37094_m_3709446_se_15_060_20180721_20190206.tif',\n",
       " 'C:\\\\chips_allocation/Check\\\\tiles\\\\https_naipeuwest.blob.core.windows.net_naip_v002_de_2018_de_060cm_2018_38075_m_3807520_sw_18_060_20180815.tif',\n",
       " 'C:\\\\chips_allocation/Check\\\\tiles\\\\https_naipeuwest.blob.core.windows.net_naip_v002_wv_2018_wv_060cm_2018_39080_m_3908011_nw_17_060_20180701.tif',\n",
       " 'C:\\\\chips_allocation/Check\\\\tiles\\\\https_naipeuwest.blob.core.windows.net_naip_v002_ut_2018_ut_060cm_2018_40111_m_4011107_se_12_060_20180911.tif',\n",
       " 'C:\\\\chips_allocation/Check\\\\tiles\\\\https_naipeuwest.blob.core.windows.net_naip_v002_ut_2018_ut_060cm_2018_40111_m_4011109_ne_12_060_20180828.tif',\n",
       " 'C:\\\\chips_allocation/Check\\\\tiles\\\\https_naipeuwest.blob.core.windows.net_naip_v002_in_2018_in_060cm_2018_41086_m_4108624_nw_16_060_20180708_20181211.tif',\n",
       " 'C:\\\\chips_allocation/Check\\\\tiles\\\\https_naipeuwest.blob.core.windows.net_naip_v002_in_2018_in_060cm_2018_41087_m_4108729_sw_16_060_20180707_20190221.tif',\n",
       " 'C:\\\\chips_allocation/Check\\\\tiles\\\\https_naipeuwest.blob.core.windows.net_naip_v002_ut_2018_ut_060cm_2018_41111_m_4111164_ne_12_060_20180815.tif',\n",
       " 'C:\\\\chips_allocation/Check\\\\tiles\\\\https_naipeuwest.blob.core.windows.net_naip_v002_me_2018_me_060cm_2018_43070_m_4307058_nw_19_060_20180827.tif',\n",
       " 'C:\\\\chips_allocation/Check\\\\tiles\\\\https_naipeuwest.blob.core.windows.net_naip_v002_mi_2018_mi_060cm_2018_43083_m_4308359_ne_17_060_20180703_20190315.tif',\n",
       " 'C:\\\\chips_allocation/Check\\\\tiles\\\\https_naipeuwest.blob.core.windows.net_naip_v002_wi_2018_wi_060cm_2018_43087_m_4308757_se_16_060_20180914.tif',\n",
       " 'C:\\\\chips_allocation/Check\\\\tiles\\\\https_naipeuwest.blob.core.windows.net_naip_v002_mi_2018_mi_060cm_2018_44084_m_4408431_sw_16_060_20180823_20181211.tif',\n",
       " 'C:\\\\chips_allocation/Check\\\\tiles\\\\https_naipeuwest.blob.core.windows.net_naip_v002_mi_2018_mi_060cm_2018_44085_m_4408523_nw_16_060_20180912_20181211.tif',\n",
       " 'C:\\\\chips_allocation/Check\\\\tiles\\\\https_naipeuwest.blob.core.windows.net_naip_v002_sd_2018_sd_060cm_2018_44100_m_4410055_nw_14_060_20180907_20181213.tif',\n",
       " 'C:\\\\chips_allocation/Check\\\\tiles\\\\https_naipeuwest.blob.core.windows.net_naip_v002_nd_2018_nd_060cm_2018_46096_m_4609602_sw_14_060_20181018_20181213.tif']"
      ]
     },
     "execution_count": 34,
     "metadata": {},
     "output_type": "execute_result"
    }
   ],
   "source": [
    "dist = ap.annotator(annotation_directory) #create the processing class\n",
    "dist.state_dcc_directory(parent_directory)\n",
    "dist.number_of_tiles(number_of_tiles)\n",
    "dist.get_tile_urls(tiles_remaining)\n",
    "dist.make_subdirectories()\n",
    "dist.download_images()\n",
    "#dist.tile_rename()"
   ]
  },
  {
   "cell_type": "markdown",
   "id": "3db580ba-e78c-4230-a28f-d00cf1ed915e",
   "metadata": {},
   "source": [
    "## Fix Inproperly recorded tiles tiles that have been allocated but not yet labeled, and marked as remaining to be allocated"
   ]
  },
  {
   "cell_type": "code",
   "execution_count": 50,
   "id": "75dfdac9-6dcc-4cc0-9209-37a0e9456694",
   "metadata": {},
   "outputs": [
    {
     "data": {
      "text/plain": [
       "array([], dtype=float64)"
      ]
     },
     "execution_count": 50,
     "metadata": {},
     "output_type": "execute_result"
    }
   ],
   "source": [
    "#Determine the tiles that have been allocated but not yet labeled\n",
    "tiles_allocated = []\n",
    "allocated_sets = \"//oit-nas-fe13dc.oit.duke.edu//data_commons-borsuk/uncomplete_sets\"\n",
    "\n",
    "for sub_directory in ap.list_of_sub_directories(allocated_sets):\n",
    "    tiles_allocated += glob(sub_directory+'/tiles/*.tif') #\n",
    "\n",
    "#Identify what tiles have been mistakenly recorded as needing to be labeled\n",
    "misrecorded_already_allocated_tiles = []\n",
    "misrecorded_already_allocated_tiles_index = []\n",
    "temp_remaining_array = tiles_remaining_array\n",
    "\n",
    "for tile in tiles_allocated:\n",
    "    tile_id_allocated = tile.rsplit(\"\\\\\")[1].split(\"_\",4)[4] #tile ids from allocated \n",
    "   \n",
    "    if tile_id_allocated in tiles_remaining_array[:,0]:\n",
    "        misrecorded_already_allocated_tiles.append(tiles_remaining_array[i])\n",
    "        temp_remaining_array = temp_remaining_array[(temp_remaining_array[:,0] != tile_id_allocated),:] \n",
    "\n",
    "        #Update the array tracking the remaining arrays \n",
    "#= temp_remaining_array\n",
    "#np.save(tiles_remaining, tiles_remaining_array)\n",
    "\n",
    "#Update the array tracking labeled arrays \n",
    "misrecorded_already_allocated_tiles = np.array(misrecorded_already_allocated_tiles)\n",
    "misrecorded_already_allocated_tiles\n",
    "#tiles_labeled_array = np.concatenate((tiles_labeled_array, misrecorded_already_allocated_tiles))\n",
    "#np.save(tiles_labeled, tiles_labeled_array)"
   ]
  },
  {
   "cell_type": "markdown",
   "id": "6a8386bf",
   "metadata": {},
   "source": [
    "# Code to Fix arrays "
   ]
  },
  {
   "cell_type": "markdown",
   "id": "a73ead11",
   "metadata": {},
   "source": [
    "Fix arrays when a tile cannot be found (HTTP Error 404: The specified blob does not exist.)"
   ]
  },
  {
   "cell_type": "code",
   "execution_count": 16,
   "id": "6dd56307",
   "metadata": {},
   "outputs": [
    {
     "name": "stdout",
     "output_type": "stream",
     "text": [
      "(47, 2)\n",
      "(46, 2)\n"
     ]
    }
   ],
   "source": [
    "\"\"\"\n",
    "row_to_remove = 21\n",
    "\n",
    "#dist.tile_name_tile_url_tiles_for_annotators[row_to_remove]\n",
    "\n",
    "error_downloading = np.concatenate((np.load('tile_name_tile_url_error_downloading.npy'),\n",
    "                                    dist.tile_name_tile_url_tiles_for_annotators[row_to_remove]))\n",
    "np.save('tile_name_tile_url_error_downloading.npy', error_downloading)\n",
    "\n",
    "#Remove the rows with errors\n",
    "print(np.load('tile_name_tile_url_remaining_expanded.npy').shape)\n",
    "np.save('tile_name_tile_url_remaining_expanded',np.delete(np.load(tiles_remaining), row_to_remove, axis = 0))\n",
    "print(np.load('tile_name_tile_url_remaining_expanded.npy').shape)\n",
    "row_to_remove = np.nan\n",
    "\"\"\""
   ]
  },
  {
   "cell_type": "code",
   "execution_count": null,
   "id": "628467c0",
   "metadata": {},
   "outputs": [],
   "source": [
    "#recover the unlabeled images from the dist\n",
    "## np.save('tile_name_tile_url_remaining_expanded',dist.tile_name_tile_url_unlabeled)\n",
    "#dist.tile_name_tile_url_tiles_for_annotators"
   ]
  },
  {
   "cell_type": "code",
   "execution_count": null,
   "id": "da85f2aa",
   "metadata": {
    "tags": []
   },
   "outputs": [],
   "source": [
    "#dist.track_tile_annotations(tiles_labeled)\n",
    "#np.save('tile_name_tile_url_remaining_expanded', dist.tile_name_tile_url_remaining)\n",
    "#np.save('tile_name_tile_url_labeled', dist.tile_name_tile_url_labeled)v"
   ]
  },
  {
   "cell_type": "markdown",
   "id": "ab6874ff-f531-41ae-9efa-5aec165d6266",
   "metadata": {},
   "source": [
    "Fix arrays when tiles are not properly allocated"
   ]
  },
  {
   "cell_type": "code",
   "execution_count": 6,
   "id": "e6f5b545-cf6f-4f99-9249-fe1397a3569d",
   "metadata": {},
   "outputs": [],
   "source": [
    "\"\"\"\n",
    "N = #specify the number of tiles that were not properly allocated\n",
    "#load the array\n",
    "remaining = np.load('tile_name_tile_url_remaining_expanded.npy')\n",
    "labeled = np.load(\"tile_name_tile_url_labeled.npy\")\n",
    "#Save the ammended arrays\n",
    "#np.save('tile_name_tile_url_labeled',labeled[:-N])\n",
    "#np.save('tile_name_tile_url_remaining_expanded',np.concatenate((labeled[-N:], remaining)))\n",
    "\"\"\""
   ]
  },
  {
   "cell_type": "code",
   "execution_count": 58,
   "id": "1551e4dc-5dbc-4227-a24d-ff24f6138a36",
   "metadata": {},
   "outputs": [
    {
     "data": {
      "text/plain": [
       "(151, 2)"
      ]
     },
     "execution_count": 58,
     "metadata": {},
     "output_type": "execute_result"
    }
   ],
   "source": [
    "\"\"\"\n",
    "remaining = np.load('tile_name_tile_url_remaining_expanded.npy')\n",
    "labeled = np.load(\"tile_name_tile_url_labeled.npy\")\n",
    "remaining.shape\n",
    "remaining = remaining[-(137):]\n",
    "labeled = np.concatenate((labeled, remaining[:(151-137)]))\n",
    "#Save the ammended arrays\n",
    "np.save('tile_name_tile_url_labeled',labeled)\n",
    "np.save('tile_name_tile_url_remaining_expanded',remaining)\n",
    "\"\"\""
   ]
  }
 ],
 "metadata": {
  "kernelspec": {
   "display_name": "Chip Allocate",
   "language": "python",
   "name": "chip_allocate"
  },
  "language_info": {
   "codemirror_mode": {
    "name": "ipython",
    "version": 3
   },
   "file_extension": ".py",
   "mimetype": "text/x-python",
   "name": "python",
   "nbconvert_exporter": "python",
   "pygments_lexer": "ipython3",
   "version": "3.9.7"
  },
  "toc-autonumbering": true,
  "toc-showmarkdowntxt": true
 },
 "nbformat": 4,
 "nbformat_minor": 5
}
