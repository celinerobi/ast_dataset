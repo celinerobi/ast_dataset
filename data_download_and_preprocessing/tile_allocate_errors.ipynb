{
 "cells": [
  {
   "cell_type": "code",
   "execution_count": 3,
   "id": "9b5e1fab-0c21-4c81-83b7-d06f68c84a4b",
   "metadata": {},
   "outputs": [],
   "source": [
    "# Standard packages\n",
    "import tempfile\n",
    "import warnings\n",
    "import urllib\n",
    "import shutil\n",
    "import os\n",
    "# Less standard, but still pip- or conda-installable\n",
    "import pandas as pd\n",
    "import numpy as np\n",
    "import matplotlib.pyplot as plt\n",
    "import matplotlib\n",
    "#import rasterio\n",
    "import re\n",
    "import rtree\n",
    "import shapely\n",
    "import pickle\n",
    "import data_eng.az_proc as ap"
   ]
  },
  {
   "cell_type": "code",
   "execution_count": 3,
   "id": "10730089-5376-41ce-83c5-2974c43d24e3",
   "metadata": {},
   "outputs": [
    {
     "name": "stdout",
     "output_type": "stream",
     "text": [
      "PIL 8.2.0\n"
     ]
    }
   ],
   "source": [
    "import PIL\n",
    "print('PIL',PIL.__version__)\n",
    "from PIL import Image\n",
    "Image.MAX_IMAGE_PIXELS = None"
   ]
  },
  {
   "cell_type": "code",
   "execution_count": 23,
   "id": "acf295f3-05d7-4660-b5e2-bc8ba38b69cc",
   "metadata": {},
   "outputs": [
    {
     "data": {
      "text/plain": [
       "array(['m_3607614_se_18_060_20181001.tif',\n",
       "       'https://naipblobs.blob.core.windows.net/naip/v002/va/2018/va_60cm_2018/36076/m_3607614_se_18_060_20181001.tif'],\n",
       "      dtype='<U119')"
      ]
     },
     "execution_count": 23,
     "metadata": {},
     "output_type": "execute_result"
    }
   ],
   "source": [
    "#dist.tile_name_tile_url_tiles_for_annotators[36]"
   ]
  },
  {
   "cell_type": "code",
   "execution_count": 4,
   "id": "46c169f0-1109-4f05-91a0-762fa2474899",
   "metadata": {},
   "outputs": [
    {
     "data": {
      "text/plain": [
       "(918, 2)"
      ]
     },
     "execution_count": 4,
     "metadata": {},
     "output_type": "execute_result"
    }
   ],
   "source": [
    "np.load('tile_name_tile_url_remaining_expanded.npy').shape"
   ]
  },
  {
   "cell_type": "code",
   "execution_count": 27,
   "id": "92741afb-3111-457b-96a4-6ea135dcb0b3",
   "metadata": {},
   "outputs": [
    {
     "data": {
      "text/plain": [
       "(912, 2)"
      ]
     },
     "execution_count": 27,
     "metadata": {},
     "output_type": "execute_result"
    }
   ],
   "source": [
    "row_to_remove = 73\n",
    "error_downloading = np.concatenate((np.load('tile_name_tile_url_error_downloading.npy'),\n",
    "                                    dist.tile_name_tile_url_tiles_for_annotators[row_to_remove]))\n",
    "np.save('tile_name_tile_url_error_downloading.npy', error_downloading)\n",
    "\n",
    "#Remove the rows with errors\n",
    "np.load('tile_name_tile_url_remaining_expanded.npy').shape\n",
    "np.save('tile_name_tile_url_remaining_expanded',np.delete(np.load(tiles_remaining), row_to_remove, axis = 0))\n",
    "np.load('tile_name_tile_url_remaining_expanded.npy').shape\n",
    "\n",
    "#recover the unlabeled images from the dist\n",
    "## np.save('tile_name_tile_url_remaining_expanded',dist.tile_name_tile_url_unlabeled)\n",
    "#dist.tile_name_tile_url_tiles_for_annotators"
   ]
  },
  {
   "cell_type": "code",
   "execution_count": 31,
   "id": "54d132f2-2a27-4bb2-b1dc-63eee48bbda0",
   "metadata": {},
   "outputs": [],
   "source": [
    "parent_directory = \"C:\\Temp\"\n",
    "annotation_directory = \"Errors\"\n",
    "number_of_tiles = 100\n",
    "tiles_remaining = \"tile_name_tile_url_remaining_expanded.npy\"\n",
    "tiles_labeled = \"tile_name_tile_url_labeled.npy\""
   ]
  },
  {
   "cell_type": "code",
   "execution_count": 29,
   "id": "a3760737-15b0-4a18-8a6d-44441fc4092f",
   "metadata": {},
   "outputs": [
    {
     "name": "stdout",
     "output_type": "stream",
     "text": [
      "Unlabeled Tiles (912, 2)\n"
     ]
    }
   ],
   "source": [
    "dist = ap.annotator(annotation_directory) #create the processing class\n",
    "dist.state_dcc_directory(parent_directory)\n",
    "dist.number_of_tiles(number_of_tiles)\n",
    "dist.get_tile_urls(tiles_remaining)\n",
    "dist.make_subdirectories()"
   ]
  },
  {
   "cell_type": "code",
   "execution_count": 30,
   "id": "27daf4d2-9f98-43f1-9dc5-152e3cfc4027",
   "metadata": {},
   "outputs": [
    {
     "name": "stdout",
     "output_type": "stream",
     "text": [
      "0\n",
      "Bypassing download of already-downloaded file m_3309744_se_14_060_20181127.tif\n",
      "1\n",
      "Bypassing download of already-downloaded file m_4709708_sw_14_060_20180901_20190222.tif\n",
      "2\n",
      "Bypassing download of already-downloaded file m_3310258_sw_13_060_20181010.tif\n",
      "3\n",
      "Bypassing download of already-downloaded file m_3211723_ne_11_060_20190317_20190412.tif\n",
      "4\n",
      "Bypassing download of already-downloaded file m_3209743_ne_14_060_20181102.tif\n",
      "5\n",
      "Bypassing download of already-downloaded file m_3210201_ne_13_060_20181010.tif\n",
      "6\n",
      "Bypassing download of already-downloaded file m_4609801_se_14_060_20180910_20181213.tif\n",
      "7\n",
      "Bypassing download of already-downloaded file m_4406810_ne_19_060_20180730.tif\n",
      "8\n",
      "Bypassing download of already-downloaded file m_4308647_nw_16_060_20180707_20190315.tif\n",
      "9\n",
      "Bypassing download of already-downloaded file m_4710315_ne_13_060_20180830_20190222.tif\n",
      "10\n",
      "Bypassing download of already-downloaded file m_3209822_se_14_060_20180821.tif\n",
      "11\n",
      "Bypassing download of already-downloaded file m_3511945_sw_11_060_20180713_20190209.tif\n",
      "12\n",
      "Bypassing download of already-downloaded file m_4008027_ne_17_060_20180701.tif\n",
      "13\n",
      "Bypassing download of already-downloaded file m_3909229_se_15_060_20181018.tif\n",
      "14\n",
      "Bypassing download of already-downloaded file m_3809016_sw_15_060_20181020_20190206.tif\n",
      "15\n",
      "Bypassing download of already-downloaded file m_4610359_ne_13_060_20180903_20181213.tif\n",
      "16\n",
      "Bypassing download of already-downloaded file m_3311823_nw_11_060_20180723_20190209.tif\n",
      "17\n",
      "Bypassing download of already-downloaded file m_3511926_se_11_060_20180714_20190209.tif\n",
      "18\n",
      "Bypassing download of already-downloaded file m_3210026_sw_14_060_20181113.tif\n",
      "19\n",
      "Bypassing download of already-downloaded file m_3410608_ne_13_060_20180525_20190427.tif\n",
      "20\n",
      "Bypassing download of already-downloaded file m_3807544_nw_18_060_20180815.tif\n",
      "21\n",
      "Bypassing download of already-downloaded file m_3909450_ne_15_060_20180923.tif\n",
      "22\n",
      "Bypassing download of already-downloaded file m_2709712_sw_14_060_20181210_20190517.tif\n",
      "23\n",
      "Bypassing download of already-downloaded file m_3210355_nw_13_060_20180618_20190422.tif\n",
      "24\n",
      "Bypassing download of already-downloaded file m_3509056_sw_15_060_20180803.tif\n",
      "25\n",
      "Bypassing download of already-downloaded file m_4309824_ne_14_060_20180915_20181212.tif\n",
      "26\n",
      "Bypassing download of already-downloaded file m_3110315_se_13_060_20181004_20190504.tif\n",
      "27\n",
      "Bypassing download of already-downloaded file m_3708701_ne_16_060_20180905_20190221.tif\n",
      "28\n",
      "Bypassing download of already-downloaded file m_3510013_se_14_060_20180922.tif\n",
      "29\n",
      "Bypassing download of already-downloaded file m_4409025_ne_15_060_20180910.tif\n",
      "30\n",
      "Bypassing download of already-downloaded file m_3310050_nw_14_060_20181102.tif\n",
      "31\n",
      "Bypassing download of already-downloaded file m_3010028_sw_14_060_20180623_20190422.tif\n",
      "32\n",
      "Bypassing download of already-downloaded file m_3311710_nw_11_060_20180822_20190208.tif\n",
      "33\n",
      "Bypassing download of already-downloaded file m_4009152_se_15_060_20180927.tif\n",
      "34\n",
      "Bypassing download of already-downloaded file m_3507857_ne_17_060_20181121_20190210.tif\n",
      "35\n",
      "Bypassing download of already-downloaded file m_3110037_ne_14_060_20181120_20190503.tif\n",
      "36\n",
      "Bypassing download of already-downloaded file m_3110215_sw_13_060_20181005_20190503.tif\n",
      "37\n",
      "Bypassing download of already-downloaded file m_2709716_ne_14_060_20180517_20190517.tif\n",
      "38\n",
      "Bypassing download of already-downloaded file m_3309741_ne_14_060_20181115.tif\n",
      "39\n",
      "Bypassing download of already-downloaded file m_3908043_sw_17_060_20180701.tif\n",
      "40\n",
      "Bypassing download of already-downloaded file m_3909438_sw_15_060_20180922.tif\n",
      "41\n",
      "Bypassing download of already-downloaded file m_4108534_sw_16_060_20180708_20190221.tif\n",
      "42\n",
      "Bypassing download of already-downloaded file m_4406810_se_19_060_20180720.tif\n",
      "43\n",
      "Bypassing download of already-downloaded file m_3009416_nw_15_060_20181201_20190503.tif\n",
      "44\n",
      "Bypassing download of already-downloaded file m_3807714_ne_18_060_20181025.tif\n",
      "45\n",
      "Bypassing download of already-downloaded file m_4107241_ne_18_060_20180810.tif\n",
      "46\n",
      "Bypassing download of already-downloaded file m_2709912_se_14_060_20190104_20190518.tif\n",
      "47\n",
      "Bypassing download of already-downloaded file m_4809941_nw_14_060_20180717_20190211.tif\n",
      "48\n",
      "Bypassing download of already-downloaded file m_4208406_ne_16_060_20180706_20190315.tif\n",
      "49\n",
      "Bypassing download of already-downloaded file m_4207260_nw_18_060_20181107.tif\n",
      "50\n",
      "Bypassing download of already-downloaded file m_4110242_nw_13_060_20180915_20181210.tif\n",
      "51\n",
      "Bypassing download of already-downloaded file m_4208923_ne_16_060_20181004.tif\n",
      "52\n",
      "Bypassing download of already-downloaded file m_3210017_nw_14_060_20181113.tif\n",
      "53\n",
      "Bypassing download of already-downloaded file m_3211520_se_11_060_20190305_20190412.tif\n",
      "54\n",
      "Bypassing download of already-downloaded file m_4408832_se_16_060_20180911.tif\n",
      "55\n",
      "Bypassing download of already-downloaded file m_2909522_se_15_060_20181126_20190503.tif\n",
      "56\n",
      "Bypassing download of already-downloaded file m_3812120_nw_10_060_20180714_20190210.tif\n",
      "57\n",
      "Bypassing download of already-downloaded file m_4208354_ne_17_060_20180707_20181211.tif\n",
      "58\n",
      "Bypassing download of already-downloaded file m_3110263_sw_13_060_20181202_20190428.tif\n",
      "59\n",
      "Bypassing download of already-downloaded file m_2809727_ne_14_060_20181202_20190518.tif\n",
      "60\n",
      "Bypassing download of already-downloaded file m_3309619_se_14_060_20181028.tif\n",
      "61\n",
      "Bypassing download of already-downloaded file m_4208233_sw_17_060_20180706_20181211.tif\n",
      "62\n",
      "Bypassing download of already-downloaded file m_3510101_ne_14_060_20180913.tif\n",
      "63\n",
      "Bypassing download of already-downloaded file m_3708860_se_16_060_20180929.tif\n",
      "64\n",
      "Bypassing download of already-downloaded file m_3411946_se_11_060_20180724_20190209.tif\n",
      "65\n",
      "Bypassing download of already-downloaded file m_3310360_sw_13_060_20180512_20190427.tif\n",
      "66\n",
      "Bypassing download of already-downloaded file m_2909309_sw_15_060_20181115_20190503.tif\n",
      "67\n",
      "Bypassing download of already-downloaded file m_3309805_sw_14_060_20181027.tif\n",
      "68\n",
      "Bypassing download of already-downloaded file m_2909719_se_14_060_20181101_20190426.tif\n",
      "69\n",
      "Bypassing download of already-downloaded file m_4009814_sw_14_060_20180710_20181210.tif\n",
      "70\n",
      "Bypassing download of already-downloaded file m_3608650_ne_16_060_20180729.tif\n",
      "71\n",
      "Bypassing download of already-downloaded file m_3909417_ne_15_060_20180923.tif\n",
      "72\n",
      "Bypassing download of already-downloaded file m_4008028_ne_17_060_20180701.tif\n",
      "73\n"
     ]
    },
    {
     "name": "stderr",
     "output_type": "stream",
     "text": [
      "100% (521860972 of 521860972) |##########| Elapsed Time: 0:00:15 Time:  0:00:15\n",
      "N/A% (0 of 643358548) |                  | Elapsed Time: 0:00:00 ETA:  --:--:--"
     ]
    },
    {
     "name": "stdout",
     "output_type": "stream",
     "text": [
      "...done, 521860972 bytes.\n",
      "74\n"
     ]
    },
    {
     "name": "stderr",
     "output_type": "stream",
     "text": [
      "100% (643358548 of 643358548) |##########| Elapsed Time: 0:00:18 Time:  0:00:18\n"
     ]
    },
    {
     "name": "stdout",
     "output_type": "stream",
     "text": [
      "...done, 643358548 bytes.\n",
      "75\n"
     ]
    },
    {
     "name": "stderr",
     "output_type": "stream",
     "text": [
      "100% (514925832 of 514925832) |##########| Elapsed Time: 0:00:20 Time:  0:00:20\n"
     ]
    },
    {
     "name": "stdout",
     "output_type": "stream",
     "text": [
      "...done, 514925832 bytes.\n",
      "76\n"
     ]
    },
    {
     "name": "stderr",
     "output_type": "stream",
     "text": [
      "100% (466492746 of 466492746) |##########| Elapsed Time: 0:00:13 Time:  0:00:13\n"
     ]
    },
    {
     "name": "stdout",
     "output_type": "stream",
     "text": [
      "...done, 466492746 bytes.\n",
      "77\n"
     ]
    },
    {
     "name": "stderr",
     "output_type": "stream",
     "text": [
      "100% (583639858 of 583639858) |##########| Elapsed Time: 0:00:11 Time:  0:00:11\n"
     ]
    },
    {
     "name": "stdout",
     "output_type": "stream",
     "text": [
      "...done, 583639858 bytes.\n",
      "78\n"
     ]
    },
    {
     "name": "stderr",
     "output_type": "stream",
     "text": [
      "100% (555891237 of 555891237) |##########| Elapsed Time: 0:00:19 Time:  0:00:19\n"
     ]
    },
    {
     "name": "stdout",
     "output_type": "stream",
     "text": [
      "...done, 555891237 bytes.\n",
      "79\n"
     ]
    },
    {
     "name": "stderr",
     "output_type": "stream",
     "text": [
      "100% (542748802 of 542748802) |##########| Elapsed Time: 0:00:11 Time:  0:00:11\n"
     ]
    },
    {
     "name": "stdout",
     "output_type": "stream",
     "text": [
      "...done, 542748802 bytes.\n",
      "80\n"
     ]
    },
    {
     "name": "stderr",
     "output_type": "stream",
     "text": [
      "100% (604434300 of 604434300) |##########| Elapsed Time: 0:00:20 Time:  0:00:20\n"
     ]
    },
    {
     "name": "stdout",
     "output_type": "stream",
     "text": [
      "...done, 604434300 bytes.\n",
      "81\n"
     ]
    },
    {
     "name": "stderr",
     "output_type": "stream",
     "text": [
      "100% (485674211 of 485674211) |##########| Elapsed Time: 0:00:11 Time:  0:00:11\n"
     ]
    },
    {
     "name": "stdout",
     "output_type": "stream",
     "text": [
      "...done, 485674211 bytes.\n",
      "82\n"
     ]
    },
    {
     "name": "stderr",
     "output_type": "stream",
     "text": [
      "100% (450125923 of 450125923) |##########| Elapsed Time: 0:00:11 Time:  0:00:11\n"
     ]
    },
    {
     "name": "stdout",
     "output_type": "stream",
     "text": [
      "...done, 450125923 bytes.\n",
      "83\n"
     ]
    },
    {
     "name": "stderr",
     "output_type": "stream",
     "text": [
      "100% (555716909 of 555716909) |##########| Elapsed Time: 0:00:12 Time:  0:00:12\n"
     ]
    },
    {
     "name": "stdout",
     "output_type": "stream",
     "text": [
      "...done, 555716909 bytes.\n",
      "84\n"
     ]
    },
    {
     "name": "stderr",
     "output_type": "stream",
     "text": [
      "100% (556446439 of 556446439) |##########| Elapsed Time: 0:00:15 Time:  0:00:15\n"
     ]
    },
    {
     "name": "stdout",
     "output_type": "stream",
     "text": [
      "...done, 556446439 bytes.\n",
      "85\n"
     ]
    },
    {
     "name": "stderr",
     "output_type": "stream",
     "text": [
      "100% (564284521 of 564284521) |##########| Elapsed Time: 0:00:18 Time:  0:00:18\n"
     ]
    },
    {
     "name": "stdout",
     "output_type": "stream",
     "text": [
      "...done, 564284521 bytes.\n",
      "86\n"
     ]
    },
    {
     "name": "stderr",
     "output_type": "stream",
     "text": [
      "100% (521549324 of 521549324) |##########| Elapsed Time: 0:00:15 Time:  0:00:15\n"
     ]
    },
    {
     "name": "stdout",
     "output_type": "stream",
     "text": [
      "...done, 521549324 bytes.\n",
      "87\n"
     ]
    },
    {
     "name": "stderr",
     "output_type": "stream",
     "text": [
      "100% (604559762 of 604559762) |##########| Elapsed Time: 0:00:18 Time:  0:00:18\n"
     ]
    },
    {
     "name": "stdout",
     "output_type": "stream",
     "text": [
      "...done, 604559762 bytes.\n",
      "88\n"
     ]
    },
    {
     "name": "stderr",
     "output_type": "stream",
     "text": [
      "100% (539372918 of 539372918) |##########| Elapsed Time: 0:00:15 Time:  0:00:15\n"
     ]
    },
    {
     "name": "stdout",
     "output_type": "stream",
     "text": [
      "...done, 539372918 bytes.\n",
      "89\n"
     ]
    },
    {
     "name": "stderr",
     "output_type": "stream",
     "text": [
      "100% (599634322 of 599634322) |##########| Elapsed Time: 0:00:13 Time:  0:00:13\n",
      "N/A% (0 of 565566657) |                  | Elapsed Time: 0:00:00 ETA:  --:--:--"
     ]
    },
    {
     "name": "stdout",
     "output_type": "stream",
     "text": [
      "...done, 599634322 bytes.\n",
      "90\n"
     ]
    },
    {
     "name": "stderr",
     "output_type": "stream",
     "text": [
      "100% (565566657 of 565566657) |##########| Elapsed Time: 0:00:13 Time:  0:00:13\n",
      "N/A% (0 of 578071341) |                  | Elapsed Time: 0:00:00 ETA:  --:--:--"
     ]
    },
    {
     "name": "stdout",
     "output_type": "stream",
     "text": [
      "...done, 565566657 bytes.\n",
      "91\n"
     ]
    },
    {
     "name": "stderr",
     "output_type": "stream",
     "text": [
      "100% (578071341 of 578071341) |##########| Elapsed Time: 0:00:16 Time:  0:00:16\n"
     ]
    },
    {
     "name": "stdout",
     "output_type": "stream",
     "text": [
      "...done, 578071341 bytes.\n",
      "92\n"
     ]
    },
    {
     "name": "stderr",
     "output_type": "stream",
     "text": [
      " 32% (193421312 of 602618011) |###       | Elapsed Time: 0:00:06 ETA:   0:00:14"
     ]
    },
    {
     "ename": "KeyboardInterrupt",
     "evalue": "",
     "output_type": "error",
     "traceback": [
      "\u001b[1;31m---------------------------------------------------------------------------\u001b[0m",
      "\u001b[1;31mKeyboardInterrupt\u001b[0m                         Traceback (most recent call last)",
      "\u001b[1;32m<ipython-input-30-02492690bc4e>\u001b[0m in \u001b[0;36m<module>\u001b[1;34m\u001b[0m\n\u001b[1;32m----> 1\u001b[1;33m \u001b[0mdist\u001b[0m\u001b[1;33m.\u001b[0m\u001b[0mdownload_images\u001b[0m\u001b[1;33m(\u001b[0m\u001b[1;33m)\u001b[0m\u001b[1;33m\u001b[0m\u001b[1;33m\u001b[0m\u001b[0m\n\u001b[0m\u001b[0;32m      2\u001b[0m \u001b[1;31m#dist.tile_rename()\u001b[0m\u001b[1;33m\u001b[0m\u001b[1;33m\u001b[0m\u001b[1;33m\u001b[0m\u001b[0m\n",
      "\u001b[1;32m~\\cred\\AST_dataset\\data_download_and_preprocessing\\data_eng\\az_proc.py\u001b[0m in \u001b[0;36mdownload_images\u001b[1;34m(self)\u001b[0m\n\u001b[0;32m    425\u001b[0m         \u001b[1;32mfor\u001b[0m \u001b[0mi\u001b[0m \u001b[1;32min\u001b[0m \u001b[0mrange\u001b[0m\u001b[1;33m(\u001b[0m\u001b[0mself\u001b[0m\u001b[1;33m.\u001b[0m\u001b[0mnum_tiles\u001b[0m\u001b[1;33m)\u001b[0m\u001b[1;33m:\u001b[0m\u001b[1;33m\u001b[0m\u001b[1;33m\u001b[0m\u001b[0m\n\u001b[0;32m    426\u001b[0m             \u001b[0mprint\u001b[0m\u001b[1;33m(\u001b[0m\u001b[0mi\u001b[0m\u001b[1;33m)\u001b[0m\u001b[1;33m\u001b[0m\u001b[1;33m\u001b[0m\u001b[0m\n\u001b[1;32m--> 427\u001b[1;33m             destination_of_filenames.append(download_url(self.tile_url[i], self.tiles_dir,\n\u001b[0m\u001b[0;32m    428\u001b[0m                                                          progress_updater=DownloadProgressBar()))\n\u001b[0;32m    429\u001b[0m         \u001b[1;32mreturn\u001b[0m \u001b[0mdestination_of_filenames\u001b[0m\u001b[1;33m\u001b[0m\u001b[1;33m\u001b[0m\u001b[0m\n",
      "\u001b[1;32m~\\cred\\AST_dataset\\data_download_and_preprocessing\\data_eng\\az_proc.py\u001b[0m in \u001b[0;36mdownload_url\u001b[1;34m(url, destination_folder, destination_filename, progress_updater, force_download)\u001b[0m\n\u001b[0;32m    176\u001b[0m         \u001b[1;32mreturn\u001b[0m \u001b[0mdestination_filename\u001b[0m\u001b[1;33m\u001b[0m\u001b[1;33m\u001b[0m\u001b[0m\n\u001b[0;32m    177\u001b[0m   \u001b[1;31m#  print('Downloading file {} to {}'.format(os.path.basename(url),destination_filename),end='')\u001b[0m\u001b[1;33m\u001b[0m\u001b[1;33m\u001b[0m\u001b[1;33m\u001b[0m\u001b[0m\n\u001b[1;32m--> 178\u001b[1;33m     \u001b[0murllib\u001b[0m\u001b[1;33m.\u001b[0m\u001b[0mrequest\u001b[0m\u001b[1;33m.\u001b[0m\u001b[0murlretrieve\u001b[0m\u001b[1;33m(\u001b[0m\u001b[0murl\u001b[0m\u001b[1;33m,\u001b[0m \u001b[0mdestination_filename\u001b[0m\u001b[1;33m,\u001b[0m \u001b[0mprogress_updater\u001b[0m\u001b[1;33m)\u001b[0m\u001b[1;33m\u001b[0m\u001b[1;33m\u001b[0m\u001b[0m\n\u001b[0m\u001b[0;32m    179\u001b[0m     \u001b[1;32massert\u001b[0m\u001b[1;33m(\u001b[0m\u001b[0mos\u001b[0m\u001b[1;33m.\u001b[0m\u001b[0mpath\u001b[0m\u001b[1;33m.\u001b[0m\u001b[0misfile\u001b[0m\u001b[1;33m(\u001b[0m\u001b[0mdestination_filename\u001b[0m\u001b[1;33m)\u001b[0m\u001b[1;33m)\u001b[0m\u001b[1;33m\u001b[0m\u001b[1;33m\u001b[0m\u001b[0m\n\u001b[0;32m    180\u001b[0m     \u001b[0mnBytes\u001b[0m \u001b[1;33m=\u001b[0m \u001b[0mos\u001b[0m\u001b[1;33m.\u001b[0m\u001b[0mpath\u001b[0m\u001b[1;33m.\u001b[0m\u001b[0mgetsize\u001b[0m\u001b[1;33m(\u001b[0m\u001b[0mdestination_filename\u001b[0m\u001b[1;33m)\u001b[0m\u001b[1;33m\u001b[0m\u001b[1;33m\u001b[0m\u001b[0m\n",
      "\u001b[1;32m~\\Anaconda3\\envs\\seperate\\lib\\urllib\\request.py\u001b[0m in \u001b[0;36murlretrieve\u001b[1;34m(url, filename, reporthook, data)\u001b[0m\n\u001b[0;32m    266\u001b[0m \u001b[1;33m\u001b[0m\u001b[0m\n\u001b[0;32m    267\u001b[0m             \u001b[1;32mwhile\u001b[0m \u001b[1;32mTrue\u001b[0m\u001b[1;33m:\u001b[0m\u001b[1;33m\u001b[0m\u001b[1;33m\u001b[0m\u001b[0m\n\u001b[1;32m--> 268\u001b[1;33m                 \u001b[0mblock\u001b[0m \u001b[1;33m=\u001b[0m \u001b[0mfp\u001b[0m\u001b[1;33m.\u001b[0m\u001b[0mread\u001b[0m\u001b[1;33m(\u001b[0m\u001b[0mbs\u001b[0m\u001b[1;33m)\u001b[0m\u001b[1;33m\u001b[0m\u001b[1;33m\u001b[0m\u001b[0m\n\u001b[0m\u001b[0;32m    269\u001b[0m                 \u001b[1;32mif\u001b[0m \u001b[1;32mnot\u001b[0m \u001b[0mblock\u001b[0m\u001b[1;33m:\u001b[0m\u001b[1;33m\u001b[0m\u001b[1;33m\u001b[0m\u001b[0m\n\u001b[0;32m    270\u001b[0m                     \u001b[1;32mbreak\u001b[0m\u001b[1;33m\u001b[0m\u001b[1;33m\u001b[0m\u001b[0m\n",
      "\u001b[1;32m~\\Anaconda3\\envs\\seperate\\lib\\http\\client.py\u001b[0m in \u001b[0;36mread\u001b[1;34m(self, amt)\u001b[0m\n\u001b[0;32m    457\u001b[0m             \u001b[1;31m# Amount is given, implement using readinto\u001b[0m\u001b[1;33m\u001b[0m\u001b[1;33m\u001b[0m\u001b[1;33m\u001b[0m\u001b[0m\n\u001b[0;32m    458\u001b[0m             \u001b[0mb\u001b[0m \u001b[1;33m=\u001b[0m \u001b[0mbytearray\u001b[0m\u001b[1;33m(\u001b[0m\u001b[0mamt\u001b[0m\u001b[1;33m)\u001b[0m\u001b[1;33m\u001b[0m\u001b[1;33m\u001b[0m\u001b[0m\n\u001b[1;32m--> 459\u001b[1;33m             \u001b[0mn\u001b[0m \u001b[1;33m=\u001b[0m \u001b[0mself\u001b[0m\u001b[1;33m.\u001b[0m\u001b[0mreadinto\u001b[0m\u001b[1;33m(\u001b[0m\u001b[0mb\u001b[0m\u001b[1;33m)\u001b[0m\u001b[1;33m\u001b[0m\u001b[1;33m\u001b[0m\u001b[0m\n\u001b[0m\u001b[0;32m    460\u001b[0m             \u001b[1;32mreturn\u001b[0m \u001b[0mmemoryview\u001b[0m\u001b[1;33m(\u001b[0m\u001b[0mb\u001b[0m\u001b[1;33m)\u001b[0m\u001b[1;33m[\u001b[0m\u001b[1;33m:\u001b[0m\u001b[0mn\u001b[0m\u001b[1;33m]\u001b[0m\u001b[1;33m.\u001b[0m\u001b[0mtobytes\u001b[0m\u001b[1;33m(\u001b[0m\u001b[1;33m)\u001b[0m\u001b[1;33m\u001b[0m\u001b[1;33m\u001b[0m\u001b[0m\n\u001b[0;32m    461\u001b[0m         \u001b[1;32melse\u001b[0m\u001b[1;33m:\u001b[0m\u001b[1;33m\u001b[0m\u001b[1;33m\u001b[0m\u001b[0m\n",
      "\u001b[1;32m~\\Anaconda3\\envs\\seperate\\lib\\http\\client.py\u001b[0m in \u001b[0;36mreadinto\u001b[1;34m(self, b)\u001b[0m\n\u001b[0;32m    501\u001b[0m         \u001b[1;31m# connection, and the user is reading more bytes than will be provided\u001b[0m\u001b[1;33m\u001b[0m\u001b[1;33m\u001b[0m\u001b[1;33m\u001b[0m\u001b[0m\n\u001b[0;32m    502\u001b[0m         \u001b[1;31m# (for example, reading in 1k chunks)\u001b[0m\u001b[1;33m\u001b[0m\u001b[1;33m\u001b[0m\u001b[1;33m\u001b[0m\u001b[0m\n\u001b[1;32m--> 503\u001b[1;33m         \u001b[0mn\u001b[0m \u001b[1;33m=\u001b[0m \u001b[0mself\u001b[0m\u001b[1;33m.\u001b[0m\u001b[0mfp\u001b[0m\u001b[1;33m.\u001b[0m\u001b[0mreadinto\u001b[0m\u001b[1;33m(\u001b[0m\u001b[0mb\u001b[0m\u001b[1;33m)\u001b[0m\u001b[1;33m\u001b[0m\u001b[1;33m\u001b[0m\u001b[0m\n\u001b[0m\u001b[0;32m    504\u001b[0m         \u001b[1;32mif\u001b[0m \u001b[1;32mnot\u001b[0m \u001b[0mn\u001b[0m \u001b[1;32mand\u001b[0m \u001b[0mb\u001b[0m\u001b[1;33m:\u001b[0m\u001b[1;33m\u001b[0m\u001b[1;33m\u001b[0m\u001b[0m\n\u001b[0;32m    505\u001b[0m             \u001b[1;31m# Ideally, we would raise IncompleteRead if the content-length\u001b[0m\u001b[1;33m\u001b[0m\u001b[1;33m\u001b[0m\u001b[1;33m\u001b[0m\u001b[0m\n",
      "\u001b[1;32m~\\Anaconda3\\envs\\seperate\\lib\\socket.py\u001b[0m in \u001b[0;36mreadinto\u001b[1;34m(self, b)\u001b[0m\n\u001b[0;32m    702\u001b[0m         \u001b[1;32mwhile\u001b[0m \u001b[1;32mTrue\u001b[0m\u001b[1;33m:\u001b[0m\u001b[1;33m\u001b[0m\u001b[1;33m\u001b[0m\u001b[0m\n\u001b[0;32m    703\u001b[0m             \u001b[1;32mtry\u001b[0m\u001b[1;33m:\u001b[0m\u001b[1;33m\u001b[0m\u001b[1;33m\u001b[0m\u001b[0m\n\u001b[1;32m--> 704\u001b[1;33m                 \u001b[1;32mreturn\u001b[0m \u001b[0mself\u001b[0m\u001b[1;33m.\u001b[0m\u001b[0m_sock\u001b[0m\u001b[1;33m.\u001b[0m\u001b[0mrecv_into\u001b[0m\u001b[1;33m(\u001b[0m\u001b[0mb\u001b[0m\u001b[1;33m)\u001b[0m\u001b[1;33m\u001b[0m\u001b[1;33m\u001b[0m\u001b[0m\n\u001b[0m\u001b[0;32m    705\u001b[0m             \u001b[1;32mexcept\u001b[0m \u001b[0mtimeout\u001b[0m\u001b[1;33m:\u001b[0m\u001b[1;33m\u001b[0m\u001b[1;33m\u001b[0m\u001b[0m\n\u001b[0;32m    706\u001b[0m                 \u001b[0mself\u001b[0m\u001b[1;33m.\u001b[0m\u001b[0m_timeout_occurred\u001b[0m \u001b[1;33m=\u001b[0m \u001b[1;32mTrue\u001b[0m\u001b[1;33m\u001b[0m\u001b[1;33m\u001b[0m\u001b[0m\n",
      "\u001b[1;32m~\\Anaconda3\\envs\\seperate\\lib\\ssl.py\u001b[0m in \u001b[0;36mrecv_into\u001b[1;34m(self, buffer, nbytes, flags)\u001b[0m\n\u001b[0;32m   1239\u001b[0m                   \u001b[1;34m\"non-zero flags not allowed in calls to recv_into() on %s\"\u001b[0m \u001b[1;33m%\u001b[0m\u001b[1;33m\u001b[0m\u001b[1;33m\u001b[0m\u001b[0m\n\u001b[0;32m   1240\u001b[0m                   self.__class__)\n\u001b[1;32m-> 1241\u001b[1;33m             \u001b[1;32mreturn\u001b[0m \u001b[0mself\u001b[0m\u001b[1;33m.\u001b[0m\u001b[0mread\u001b[0m\u001b[1;33m(\u001b[0m\u001b[0mnbytes\u001b[0m\u001b[1;33m,\u001b[0m \u001b[0mbuffer\u001b[0m\u001b[1;33m)\u001b[0m\u001b[1;33m\u001b[0m\u001b[1;33m\u001b[0m\u001b[0m\n\u001b[0m\u001b[0;32m   1242\u001b[0m         \u001b[1;32melse\u001b[0m\u001b[1;33m:\u001b[0m\u001b[1;33m\u001b[0m\u001b[1;33m\u001b[0m\u001b[0m\n\u001b[0;32m   1243\u001b[0m             \u001b[1;32mreturn\u001b[0m \u001b[0msuper\u001b[0m\u001b[1;33m(\u001b[0m\u001b[1;33m)\u001b[0m\u001b[1;33m.\u001b[0m\u001b[0mrecv_into\u001b[0m\u001b[1;33m(\u001b[0m\u001b[0mbuffer\u001b[0m\u001b[1;33m,\u001b[0m \u001b[0mnbytes\u001b[0m\u001b[1;33m,\u001b[0m \u001b[0mflags\u001b[0m\u001b[1;33m)\u001b[0m\u001b[1;33m\u001b[0m\u001b[1;33m\u001b[0m\u001b[0m\n",
      "\u001b[1;32m~\\Anaconda3\\envs\\seperate\\lib\\ssl.py\u001b[0m in \u001b[0;36mread\u001b[1;34m(self, len, buffer)\u001b[0m\n\u001b[0;32m   1097\u001b[0m         \u001b[1;32mtry\u001b[0m\u001b[1;33m:\u001b[0m\u001b[1;33m\u001b[0m\u001b[1;33m\u001b[0m\u001b[0m\n\u001b[0;32m   1098\u001b[0m             \u001b[1;32mif\u001b[0m \u001b[0mbuffer\u001b[0m \u001b[1;32mis\u001b[0m \u001b[1;32mnot\u001b[0m \u001b[1;32mNone\u001b[0m\u001b[1;33m:\u001b[0m\u001b[1;33m\u001b[0m\u001b[1;33m\u001b[0m\u001b[0m\n\u001b[1;32m-> 1099\u001b[1;33m                 \u001b[1;32mreturn\u001b[0m \u001b[0mself\u001b[0m\u001b[1;33m.\u001b[0m\u001b[0m_sslobj\u001b[0m\u001b[1;33m.\u001b[0m\u001b[0mread\u001b[0m\u001b[1;33m(\u001b[0m\u001b[0mlen\u001b[0m\u001b[1;33m,\u001b[0m \u001b[0mbuffer\u001b[0m\u001b[1;33m)\u001b[0m\u001b[1;33m\u001b[0m\u001b[1;33m\u001b[0m\u001b[0m\n\u001b[0m\u001b[0;32m   1100\u001b[0m             \u001b[1;32melse\u001b[0m\u001b[1;33m:\u001b[0m\u001b[1;33m\u001b[0m\u001b[1;33m\u001b[0m\u001b[0m\n\u001b[0;32m   1101\u001b[0m                 \u001b[1;32mreturn\u001b[0m \u001b[0mself\u001b[0m\u001b[1;33m.\u001b[0m\u001b[0m_sslobj\u001b[0m\u001b[1;33m.\u001b[0m\u001b[0mread\u001b[0m\u001b[1;33m(\u001b[0m\u001b[0mlen\u001b[0m\u001b[1;33m)\u001b[0m\u001b[1;33m\u001b[0m\u001b[1;33m\u001b[0m\u001b[0m\n",
      "\u001b[1;31mKeyboardInterrupt\u001b[0m: "
     ]
    }
   ],
   "source": [
    "dist.download_images()\n",
    "#dist.tile_rename()"
   ]
  },
  {
   "cell_type": "code",
   "execution_count": null,
   "id": "b72b6463-99e6-48ea-8ac9-00c5ded14d4e",
   "metadata": {},
   "outputs": [],
   "source": [
    "#dist.chip_tiles()"
   ]
  },
  {
   "cell_type": "code",
   "execution_count": 20,
   "id": "e6d8df62-0925-4f7a-b847-4b2d09550737",
   "metadata": {
    "jupyter": {
     "source_hidden": true
    },
    "tags": []
   },
   "outputs": [],
   "source": [
    "#dist.track_tile_annotations(tiles_labeled)\n",
    "#np.save('tile_name_tile_url_remaining_expanded', dist.tile_name_tile_url_remaining)\n",
    "#np.save('tile_name_tile_url_labeled', dist.tile_name_tile_url_labeled)"
   ]
  }
 ],
 "metadata": {
  "kernelspec": {
   "display_name": "seperate",
   "language": "python",
   "name": "seperate"
  },
  "language_info": {
   "codemirror_mode": {
    "name": "ipython",
    "version": 3
   },
   "file_extension": ".py",
   "mimetype": "text/x-python",
   "name": "python",
   "nbconvert_exporter": "python",
   "pygments_lexer": "ipython3",
   "version": "3.9.6"
  }
 },
 "nbformat": 4,
 "nbformat_minor": 5
}
