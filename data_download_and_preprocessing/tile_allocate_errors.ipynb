{
 "cells": [
  {
   "cell_type": "markdown",
   "id": "ccd0876d",
   "metadata": {},
   "source": [
    "Script to alter the til tracking numpy arrays if an error has occurred"
   ]
  },
  {
   "cell_type": "code",
   "execution_count": 1,
   "id": "9c5486d4",
   "metadata": {},
   "outputs": [],
   "source": [
    "# Standard packages\n",
    "import tempfile\n",
    "import warnings\n",
    "import urllib\n",
    "import shutil\n",
    "import os\n",
    "# Less standard, but still pip- or conda-installable\n",
    "import pandas as pd\n",
    "import numpy as np\n",
    "import matplotlib.pyplot as plt\n",
    "import matplotlib\n",
    "#import rasterio\n",
    "import re\n",
    "import rtree\n",
    "import shapely\n",
    "import pickle\n",
    "import data_eng.az_proc as ap\n",
    "#from cartopy import crs\n",
    "import collections"
   ]
  },
  {
   "cell_type": "code",
   "execution_count": 2,
   "id": "3ba4adf2",
   "metadata": {},
   "outputs": [
    {
     "name": "stdout",
     "output_type": "stream",
     "text": [
      "PIL 8.3.1\n"
     ]
    }
   ],
   "source": [
    "import PIL\n",
    "print('PIL',PIL.__version__)\n",
    "from PIL import Image\n",
    "Image.MAX_IMAGE_PIXELS = 999999999999"
   ]
  },
  {
   "cell_type": "markdown",
   "id": "5233b12c",
   "metadata": {},
   "source": [
    "Specify the parameters to download images"
   ]
  },
  {
   "cell_type": "code",
   "execution_count": 3,
   "id": "0a3cef30",
   "metadata": {},
   "outputs": [],
   "source": [
    "parent_directory = \"C:\\chips_allocation\"\n",
    "annotation_directory = \"Check\"\n",
    "number_of_tiles =60\n",
    "tiles_remaining = \"tile_name_tile_url_remaining_expanded.npy\"\n",
    "tiles_labeled = \"tile_name_tile_url_labeled.npy\""
   ]
  },
  {
   "cell_type": "markdown",
   "id": "108a546d",
   "metadata": {},
   "source": [
    "Load the annotator class"
   ]
  },
  {
   "cell_type": "code",
   "execution_count": 5,
   "id": "1fa44adb",
   "metadata": {
    "tags": []
   },
   "outputs": [
    {
     "name": "stdout",
     "output_type": "stream",
     "text": [
      "Unlabeled Tiles (571, 2)\n",
      "0\n",
      "Bypassing download of already-downloaded file m_2909636_nw_14_060_20181201_20190426.tif\n",
      "1\n"
     ]
    },
    {
     "name": "stderr",
     "output_type": "stream",
     "text": [
      "100% (539177490 of 539177490) |##########| Elapsed Time: 0:01:20 Time:  0:01:20\n"
     ]
    },
    {
     "name": "stdout",
     "output_type": "stream",
     "text": [
      "...done, 539177490 bytes.\n",
      "2\n"
     ]
    },
    {
     "name": "stderr",
     "output_type": "stream",
     "text": [
      "100% (613549436 of 613549436) |##########| Elapsed Time: 0:01:04 Time:  0:01:04\n"
     ]
    },
    {
     "name": "stdout",
     "output_type": "stream",
     "text": [
      "...done, 613549436 bytes.\n",
      "3\n"
     ]
    },
    {
     "name": "stderr",
     "output_type": "stream",
     "text": [
      "100% (518720020 of 518720020) |##########| Elapsed Time: 0:01:39 Time:  0:01:39\n"
     ]
    },
    {
     "name": "stdout",
     "output_type": "stream",
     "text": [
      "...done, 518720020 bytes.\n",
      "4\n"
     ]
    },
    {
     "name": "stderr",
     "output_type": "stream",
     "text": [
      "100% (592886951 of 592886951) |##########| Elapsed Time: 0:01:11 Time:  0:01:11\n"
     ]
    },
    {
     "name": "stdout",
     "output_type": "stream",
     "text": [
      "...done, 592886951 bytes.\n",
      "5\n"
     ]
    },
    {
     "name": "stderr",
     "output_type": "stream",
     "text": [
      "100% (592466651 of 592466651) |##########| Elapsed Time: 0:01:21 Time:  0:01:21\n"
     ]
    },
    {
     "name": "stdout",
     "output_type": "stream",
     "text": [
      "...done, 592466651 bytes.\n",
      "6\n"
     ]
    },
    {
     "name": "stderr",
     "output_type": "stream",
     "text": [
      "100% (472887819 of 472887819) |##########| Elapsed Time: 0:00:46 Time:  0:00:46\n"
     ]
    },
    {
     "name": "stdout",
     "output_type": "stream",
     "text": [
      "...done, 472887819 bytes.\n",
      "7\n"
     ]
    },
    {
     "name": "stderr",
     "output_type": "stream",
     "text": [
      "100% (517730627 of 517730627) |##########| Elapsed Time: 0:00:33 Time:  0:00:33\n"
     ]
    },
    {
     "name": "stdout",
     "output_type": "stream",
     "text": [
      "...done, 517730627 bytes.\n",
      "8\n"
     ]
    },
    {
     "name": "stderr",
     "output_type": "stream",
     "text": [
      "100% (598664739 of 598664739) |##########| Elapsed Time: 0:01:54 Time:  0:01:54\n"
     ]
    },
    {
     "name": "stdout",
     "output_type": "stream",
     "text": [
      "...done, 598664739 bytes.\n",
      "9\n"
     ]
    },
    {
     "name": "stderr",
     "output_type": "stream",
     "text": [
      "100% (428623269 of 428623269) |##########| Elapsed Time: 0:00:16 Time:  0:00:16\n"
     ]
    },
    {
     "name": "stdout",
     "output_type": "stream",
     "text": [
      "...done, 428623269 bytes.\n",
      "10\n"
     ]
    },
    {
     "name": "stderr",
     "output_type": "stream",
     "text": [
      "100% (621799797 of 621799797) |##########| Elapsed Time: 0:01:06 Time:  0:01:06\n"
     ]
    },
    {
     "name": "stdout",
     "output_type": "stream",
     "text": [
      "...done, 621799797 bytes.\n",
      "11\n"
     ]
    },
    {
     "name": "stderr",
     "output_type": "stream",
     "text": [
      "100% (438033760 of 438033760) |##########| Elapsed Time: 0:01:06 Time:  0:01:06\n"
     ]
    },
    {
     "name": "stdout",
     "output_type": "stream",
     "text": [
      "...done, 438033760 bytes.\n",
      "12\n"
     ]
    },
    {
     "name": "stderr",
     "output_type": "stream",
     "text": [
      "100% (475813115 of 475813115) |##########| Elapsed Time: 0:00:53 Time:  0:00:53\n"
     ]
    },
    {
     "name": "stdout",
     "output_type": "stream",
     "text": [
      "...done, 475813115 bytes.\n",
      "13\n"
     ]
    },
    {
     "name": "stderr",
     "output_type": "stream",
     "text": [
      "100% (593778864 of 593778864) |##########| Elapsed Time: 0:00:42 Time:  0:00:42\n"
     ]
    },
    {
     "name": "stdout",
     "output_type": "stream",
     "text": [
      "...done, 593778864 bytes.\n",
      "14\n"
     ]
    },
    {
     "name": "stderr",
     "output_type": "stream",
     "text": [
      "100% (633054698 of 633054698) |##########| Elapsed Time: 0:01:29 Time:  0:01:29\n"
     ]
    },
    {
     "name": "stdout",
     "output_type": "stream",
     "text": [
      "...done, 633054698 bytes.\n",
      "15\n"
     ]
    },
    {
     "name": "stderr",
     "output_type": "stream",
     "text": [
      "100% (527398320 of 527398320) |##########| Elapsed Time: 0:01:21 Time:  0:01:21\n"
     ]
    },
    {
     "name": "stdout",
     "output_type": "stream",
     "text": [
      "...done, 527398320 bytes.\n",
      "16\n"
     ]
    },
    {
     "name": "stderr",
     "output_type": "stream",
     "text": [
      "100% (518674697 of 518674697) |##########| Elapsed Time: 0:00:56 Time:  0:00:56\n"
     ]
    },
    {
     "name": "stdout",
     "output_type": "stream",
     "text": [
      "...done, 518674697 bytes.\n",
      "17\n"
     ]
    },
    {
     "name": "stderr",
     "output_type": "stream",
     "text": [
      "100% (585514213 of 585514213) |##########| Elapsed Time: 0:00:48 Time:  0:00:48\n"
     ]
    },
    {
     "name": "stdout",
     "output_type": "stream",
     "text": [
      "...done, 585514213 bytes.\n",
      "18\n"
     ]
    },
    {
     "name": "stderr",
     "output_type": "stream",
     "text": [
      "100% (559662736 of 559662736) |##########| Elapsed Time: 0:01:35 Time:  0:01:35\n"
     ]
    },
    {
     "name": "stdout",
     "output_type": "stream",
     "text": [
      "...done, 559662736 bytes.\n",
      "19\n"
     ]
    },
    {
     "name": "stderr",
     "output_type": "stream",
     "text": [
      "100% (576420628 of 576420628) |##########| Elapsed Time: 0:00:36 Time:  0:00:36\n"
     ]
    },
    {
     "name": "stdout",
     "output_type": "stream",
     "text": [
      "...done, 576420628 bytes.\n",
      "20\n"
     ]
    },
    {
     "name": "stderr",
     "output_type": "stream",
     "text": [
      "100% (587172670 of 587172670) |##########| Elapsed Time: 0:01:00 Time:  0:01:00\n"
     ]
    },
    {
     "name": "stdout",
     "output_type": "stream",
     "text": [
      "...done, 587172670 bytes.\n",
      "21\n"
     ]
    },
    {
     "name": "stderr",
     "output_type": "stream",
     "text": [
      "100% (509213267 of 509213267) |##########| Elapsed Time: 0:01:27 Time:  0:01:27\n"
     ]
    },
    {
     "name": "stdout",
     "output_type": "stream",
     "text": [
      "...done, 509213267 bytes.\n",
      "22\n"
     ]
    },
    {
     "name": "stderr",
     "output_type": "stream",
     "text": [
      "100% (519873399 of 519873399) |##########| Elapsed Time: 0:00:17 Time:  0:00:17\n"
     ]
    },
    {
     "name": "stdout",
     "output_type": "stream",
     "text": [
      "...done, 519873399 bytes.\n",
      "23\n"
     ]
    },
    {
     "name": "stderr",
     "output_type": "stream",
     "text": [
      "100% (661005846 of 661005846) |##########| Elapsed Time: 0:01:23 Time:  0:01:23\n"
     ]
    },
    {
     "name": "stdout",
     "output_type": "stream",
     "text": [
      "...done, 661005846 bytes.\n",
      "24\n"
     ]
    },
    {
     "name": "stderr",
     "output_type": "stream",
     "text": [
      "100% (588970092 of 588970092) |##########| Elapsed Time: 0:00:55 Time:  0:00:55\n"
     ]
    },
    {
     "name": "stdout",
     "output_type": "stream",
     "text": [
      "...done, 588970092 bytes.\n",
      "25\n"
     ]
    },
    {
     "name": "stderr",
     "output_type": "stream",
     "text": [
      "100% (555920178 of 555920178) |##########| Elapsed Time: 0:00:52 Time:  0:00:52\n"
     ]
    },
    {
     "name": "stdout",
     "output_type": "stream",
     "text": [
      "...done, 555920178 bytes.\n",
      "26\n"
     ]
    },
    {
     "name": "stderr",
     "output_type": "stream",
     "text": [
      "100% (501824629 of 501824629) |##########| Elapsed Time: 0:01:09 Time:  0:01:09\n"
     ]
    },
    {
     "name": "stdout",
     "output_type": "stream",
     "text": [
      "...done, 501824629 bytes.\n",
      "27\n"
     ]
    },
    {
     "name": "stderr",
     "output_type": "stream",
     "text": [
      "100% (493401345 of 493401345) |##########| Elapsed Time: 0:00:18 Time:  0:00:18\n"
     ]
    },
    {
     "name": "stdout",
     "output_type": "stream",
     "text": [
      "...done, 493401345 bytes.\n",
      "28\n"
     ]
    },
    {
     "name": "stderr",
     "output_type": "stream",
     "text": [
      "100% (476838637 of 476838637) |##########| Elapsed Time: 0:00:54 Time:  0:00:54\n"
     ]
    },
    {
     "name": "stdout",
     "output_type": "stream",
     "text": [
      "...done, 476838637 bytes.\n",
      "29\n"
     ]
    },
    {
     "name": "stderr",
     "output_type": "stream",
     "text": [
      "100% (504273590 of 504273590) |##########| Elapsed Time: 0:00:47 Time:  0:00:47\n"
     ]
    },
    {
     "name": "stdout",
     "output_type": "stream",
     "text": [
      "...done, 504273590 bytes.\n",
      "30\n"
     ]
    },
    {
     "name": "stderr",
     "output_type": "stream",
     "text": [
      "100% (537158203 of 537158203) |##########| Elapsed Time: 0:01:03 Time:  0:01:03\n"
     ]
    },
    {
     "name": "stdout",
     "output_type": "stream",
     "text": [
      "...done, 537158203 bytes.\n",
      "31\n"
     ]
    },
    {
     "name": "stderr",
     "output_type": "stream",
     "text": [
      "100% (524165119 of 524165119) |##########| Elapsed Time: 0:00:55 Time:  0:00:55\n"
     ]
    },
    {
     "name": "stdout",
     "output_type": "stream",
     "text": [
      "...done, 524165119 bytes.\n",
      "32\n"
     ]
    },
    {
     "name": "stderr",
     "output_type": "stream",
     "text": [
      "100% (604200131 of 604200131) |##########| Elapsed Time: 0:01:11 Time:  0:01:11\n"
     ]
    },
    {
     "name": "stdout",
     "output_type": "stream",
     "text": [
      "...done, 604200131 bytes.\n",
      "33\n"
     ]
    },
    {
     "name": "stderr",
     "output_type": "stream",
     "text": [
      "100% (449703847 of 449703847) |##########| Elapsed Time: 0:00:42 Time:  0:00:42\n"
     ]
    },
    {
     "name": "stdout",
     "output_type": "stream",
     "text": [
      "...done, 449703847 bytes.\n",
      "34\n"
     ]
    },
    {
     "name": "stderr",
     "output_type": "stream",
     "text": [
      "100% (545875287 of 545875287) |##########| Elapsed Time: 0:00:21 Time:  0:00:21\n"
     ]
    },
    {
     "name": "stdout",
     "output_type": "stream",
     "text": [
      "...done, 545875287 bytes.\n",
      "35\n"
     ]
    },
    {
     "name": "stderr",
     "output_type": "stream",
     "text": [
      "100% (534396419 of 534396419) |##########| Elapsed Time: 0:01:23 Time:  0:01:23\n"
     ]
    },
    {
     "name": "stdout",
     "output_type": "stream",
     "text": [
      "...done, 534396419 bytes.\n",
      "36\n"
     ]
    },
    {
     "name": "stderr",
     "output_type": "stream",
     "text": [
      "100% (595435274 of 595435274) |##########| Elapsed Time: 0:00:25 Time:  0:00:25\n"
     ]
    },
    {
     "name": "stdout",
     "output_type": "stream",
     "text": [
      "...done, 595435274 bytes.\n",
      "37\n"
     ]
    },
    {
     "ename": "HTTPError",
     "evalue": "HTTP Error 404: The specified blob does not exist.",
     "output_type": "error",
     "traceback": [
      "\u001b[1;31m---------------------------------------------------------------------------\u001b[0m",
      "\u001b[1;31mHTTPError\u001b[0m                                 Traceback (most recent call last)",
      "\u001b[1;32mC:\\Users\\RAPIDU~1\\AppData\\Local\\Temp/ipykernel_2508/3728188721.py\u001b[0m in \u001b[0;36m<module>\u001b[1;34m\u001b[0m\n\u001b[0;32m      4\u001b[0m \u001b[0mdist\u001b[0m\u001b[1;33m.\u001b[0m\u001b[0mget_tile_urls\u001b[0m\u001b[1;33m(\u001b[0m\u001b[0mtiles_remaining\u001b[0m\u001b[1;33m)\u001b[0m\u001b[1;33m\u001b[0m\u001b[1;33m\u001b[0m\u001b[0m\n\u001b[0;32m      5\u001b[0m \u001b[0mdist\u001b[0m\u001b[1;33m.\u001b[0m\u001b[0mmake_subdirectories\u001b[0m\u001b[1;33m(\u001b[0m\u001b[1;33m)\u001b[0m\u001b[1;33m\u001b[0m\u001b[1;33m\u001b[0m\u001b[0m\n\u001b[1;32m----> 6\u001b[1;33m \u001b[0mdist\u001b[0m\u001b[1;33m.\u001b[0m\u001b[0mdownload_images\u001b[0m\u001b[1;33m(\u001b[0m\u001b[1;33m)\u001b[0m\u001b[1;33m\u001b[0m\u001b[1;33m\u001b[0m\u001b[0m\n\u001b[0m\u001b[0;32m      7\u001b[0m \u001b[1;31m#dist.tile_rename()\u001b[0m\u001b[1;33m\u001b[0m\u001b[1;33m\u001b[0m\u001b[0m\n",
      "\u001b[1;32m~\\cred\\AST_dataset\\data_download_and_preprocessing\\data_eng\\az_proc.py\u001b[0m in \u001b[0;36mdownload_images\u001b[1;34m(self)\u001b[0m\n\u001b[0;32m    418\u001b[0m         \u001b[1;32mfor\u001b[0m \u001b[0mi\u001b[0m \u001b[1;32min\u001b[0m \u001b[0mrange\u001b[0m\u001b[1;33m(\u001b[0m\u001b[0mself\u001b[0m\u001b[1;33m.\u001b[0m\u001b[0mnum_tiles\u001b[0m\u001b[1;33m)\u001b[0m\u001b[1;33m:\u001b[0m\u001b[1;33m\u001b[0m\u001b[1;33m\u001b[0m\u001b[0m\n\u001b[0;32m    419\u001b[0m             \u001b[0mprint\u001b[0m\u001b[1;33m(\u001b[0m\u001b[0mi\u001b[0m\u001b[1;33m)\u001b[0m\u001b[1;33m\u001b[0m\u001b[1;33m\u001b[0m\u001b[0m\n\u001b[1;32m--> 420\u001b[1;33m             destination_of_filenames.append(download_url(self.tile_url[i], self.tiles_dir,\n\u001b[0m\u001b[0;32m    421\u001b[0m                                                          progress_updater=DownloadProgressBar()))\n\u001b[0;32m    422\u001b[0m         \u001b[1;32mreturn\u001b[0m \u001b[0mdestination_of_filenames\u001b[0m\u001b[1;33m\u001b[0m\u001b[1;33m\u001b[0m\u001b[0m\n",
      "\u001b[1;32m~\\cred\\AST_dataset\\data_download_and_preprocessing\\data_eng\\az_proc.py\u001b[0m in \u001b[0;36mdownload_url\u001b[1;34m(url, destination_folder, destination_filename, progress_updater, force_download)\u001b[0m\n\u001b[0;32m    174\u001b[0m         \u001b[1;32mreturn\u001b[0m \u001b[0mdestination_filename\u001b[0m\u001b[1;33m\u001b[0m\u001b[1;33m\u001b[0m\u001b[0m\n\u001b[0;32m    175\u001b[0m   \u001b[1;31m#  print('Downloading file {} to {}'.format(os.path.basename(url),destination_filename),end='')\u001b[0m\u001b[1;33m\u001b[0m\u001b[1;33m\u001b[0m\u001b[0m\n\u001b[1;32m--> 176\u001b[1;33m     \u001b[0murllib\u001b[0m\u001b[1;33m.\u001b[0m\u001b[0mrequest\u001b[0m\u001b[1;33m.\u001b[0m\u001b[0murlretrieve\u001b[0m\u001b[1;33m(\u001b[0m\u001b[0murl\u001b[0m\u001b[1;33m,\u001b[0m \u001b[0mdestination_filename\u001b[0m\u001b[1;33m,\u001b[0m \u001b[0mprogress_updater\u001b[0m\u001b[1;33m)\u001b[0m\u001b[1;33m\u001b[0m\u001b[1;33m\u001b[0m\u001b[0m\n\u001b[0m\u001b[0;32m    177\u001b[0m     \u001b[1;32massert\u001b[0m\u001b[1;33m(\u001b[0m\u001b[0mos\u001b[0m\u001b[1;33m.\u001b[0m\u001b[0mpath\u001b[0m\u001b[1;33m.\u001b[0m\u001b[0misfile\u001b[0m\u001b[1;33m(\u001b[0m\u001b[0mdestination_filename\u001b[0m\u001b[1;33m)\u001b[0m\u001b[1;33m)\u001b[0m\u001b[1;33m\u001b[0m\u001b[1;33m\u001b[0m\u001b[0m\n\u001b[0;32m    178\u001b[0m     \u001b[0mnBytes\u001b[0m \u001b[1;33m=\u001b[0m \u001b[0mos\u001b[0m\u001b[1;33m.\u001b[0m\u001b[0mpath\u001b[0m\u001b[1;33m.\u001b[0m\u001b[0mgetsize\u001b[0m\u001b[1;33m(\u001b[0m\u001b[0mdestination_filename\u001b[0m\u001b[1;33m)\u001b[0m\u001b[1;33m\u001b[0m\u001b[1;33m\u001b[0m\u001b[0m\n",
      "\u001b[1;32mC:\\ProgramData\\Anaconda3\\envs\\chip_allocate\\lib\\urllib\\request.py\u001b[0m in \u001b[0;36murlretrieve\u001b[1;34m(url, filename, reporthook, data)\u001b[0m\n\u001b[0;32m    237\u001b[0m     \u001b[0murl_type\u001b[0m\u001b[1;33m,\u001b[0m \u001b[0mpath\u001b[0m \u001b[1;33m=\u001b[0m \u001b[0m_splittype\u001b[0m\u001b[1;33m(\u001b[0m\u001b[0murl\u001b[0m\u001b[1;33m)\u001b[0m\u001b[1;33m\u001b[0m\u001b[1;33m\u001b[0m\u001b[0m\n\u001b[0;32m    238\u001b[0m \u001b[1;33m\u001b[0m\u001b[0m\n\u001b[1;32m--> 239\u001b[1;33m     \u001b[1;32mwith\u001b[0m \u001b[0mcontextlib\u001b[0m\u001b[1;33m.\u001b[0m\u001b[0mclosing\u001b[0m\u001b[1;33m(\u001b[0m\u001b[0murlopen\u001b[0m\u001b[1;33m(\u001b[0m\u001b[0murl\u001b[0m\u001b[1;33m,\u001b[0m \u001b[0mdata\u001b[0m\u001b[1;33m)\u001b[0m\u001b[1;33m)\u001b[0m \u001b[1;32mas\u001b[0m \u001b[0mfp\u001b[0m\u001b[1;33m:\u001b[0m\u001b[1;33m\u001b[0m\u001b[1;33m\u001b[0m\u001b[0m\n\u001b[0m\u001b[0;32m    240\u001b[0m         \u001b[0mheaders\u001b[0m \u001b[1;33m=\u001b[0m \u001b[0mfp\u001b[0m\u001b[1;33m.\u001b[0m\u001b[0minfo\u001b[0m\u001b[1;33m(\u001b[0m\u001b[1;33m)\u001b[0m\u001b[1;33m\u001b[0m\u001b[1;33m\u001b[0m\u001b[0m\n\u001b[0;32m    241\u001b[0m \u001b[1;33m\u001b[0m\u001b[0m\n",
      "\u001b[1;32mC:\\ProgramData\\Anaconda3\\envs\\chip_allocate\\lib\\urllib\\request.py\u001b[0m in \u001b[0;36murlopen\u001b[1;34m(url, data, timeout, cafile, capath, cadefault, context)\u001b[0m\n\u001b[0;32m    212\u001b[0m     \u001b[1;32melse\u001b[0m\u001b[1;33m:\u001b[0m\u001b[1;33m\u001b[0m\u001b[1;33m\u001b[0m\u001b[0m\n\u001b[0;32m    213\u001b[0m         \u001b[0mopener\u001b[0m \u001b[1;33m=\u001b[0m \u001b[0m_opener\u001b[0m\u001b[1;33m\u001b[0m\u001b[1;33m\u001b[0m\u001b[0m\n\u001b[1;32m--> 214\u001b[1;33m     \u001b[1;32mreturn\u001b[0m \u001b[0mopener\u001b[0m\u001b[1;33m.\u001b[0m\u001b[0mopen\u001b[0m\u001b[1;33m(\u001b[0m\u001b[0murl\u001b[0m\u001b[1;33m,\u001b[0m \u001b[0mdata\u001b[0m\u001b[1;33m,\u001b[0m \u001b[0mtimeout\u001b[0m\u001b[1;33m)\u001b[0m\u001b[1;33m\u001b[0m\u001b[1;33m\u001b[0m\u001b[0m\n\u001b[0m\u001b[0;32m    215\u001b[0m \u001b[1;33m\u001b[0m\u001b[0m\n\u001b[0;32m    216\u001b[0m \u001b[1;32mdef\u001b[0m \u001b[0minstall_opener\u001b[0m\u001b[1;33m(\u001b[0m\u001b[0mopener\u001b[0m\u001b[1;33m)\u001b[0m\u001b[1;33m:\u001b[0m\u001b[1;33m\u001b[0m\u001b[1;33m\u001b[0m\u001b[0m\n",
      "\u001b[1;32mC:\\ProgramData\\Anaconda3\\envs\\chip_allocate\\lib\\urllib\\request.py\u001b[0m in \u001b[0;36mopen\u001b[1;34m(self, fullurl, data, timeout)\u001b[0m\n\u001b[0;32m    521\u001b[0m         \u001b[1;32mfor\u001b[0m \u001b[0mprocessor\u001b[0m \u001b[1;32min\u001b[0m \u001b[0mself\u001b[0m\u001b[1;33m.\u001b[0m\u001b[0mprocess_response\u001b[0m\u001b[1;33m.\u001b[0m\u001b[0mget\u001b[0m\u001b[1;33m(\u001b[0m\u001b[0mprotocol\u001b[0m\u001b[1;33m,\u001b[0m \u001b[1;33m[\u001b[0m\u001b[1;33m]\u001b[0m\u001b[1;33m)\u001b[0m\u001b[1;33m:\u001b[0m\u001b[1;33m\u001b[0m\u001b[1;33m\u001b[0m\u001b[0m\n\u001b[0;32m    522\u001b[0m             \u001b[0mmeth\u001b[0m \u001b[1;33m=\u001b[0m \u001b[0mgetattr\u001b[0m\u001b[1;33m(\u001b[0m\u001b[0mprocessor\u001b[0m\u001b[1;33m,\u001b[0m \u001b[0mmeth_name\u001b[0m\u001b[1;33m)\u001b[0m\u001b[1;33m\u001b[0m\u001b[1;33m\u001b[0m\u001b[0m\n\u001b[1;32m--> 523\u001b[1;33m             \u001b[0mresponse\u001b[0m \u001b[1;33m=\u001b[0m \u001b[0mmeth\u001b[0m\u001b[1;33m(\u001b[0m\u001b[0mreq\u001b[0m\u001b[1;33m,\u001b[0m \u001b[0mresponse\u001b[0m\u001b[1;33m)\u001b[0m\u001b[1;33m\u001b[0m\u001b[1;33m\u001b[0m\u001b[0m\n\u001b[0m\u001b[0;32m    524\u001b[0m \u001b[1;33m\u001b[0m\u001b[0m\n\u001b[0;32m    525\u001b[0m         \u001b[1;32mreturn\u001b[0m \u001b[0mresponse\u001b[0m\u001b[1;33m\u001b[0m\u001b[1;33m\u001b[0m\u001b[0m\n",
      "\u001b[1;32mC:\\ProgramData\\Anaconda3\\envs\\chip_allocate\\lib\\urllib\\request.py\u001b[0m in \u001b[0;36mhttp_response\u001b[1;34m(self, request, response)\u001b[0m\n\u001b[0;32m    630\u001b[0m         \u001b[1;31m# request was successfully received, understood, and accepted.\u001b[0m\u001b[1;33m\u001b[0m\u001b[1;33m\u001b[0m\u001b[0m\n\u001b[0;32m    631\u001b[0m         \u001b[1;32mif\u001b[0m \u001b[1;32mnot\u001b[0m \u001b[1;33m(\u001b[0m\u001b[1;36m200\u001b[0m \u001b[1;33m<=\u001b[0m \u001b[0mcode\u001b[0m \u001b[1;33m<\u001b[0m \u001b[1;36m300\u001b[0m\u001b[1;33m)\u001b[0m\u001b[1;33m:\u001b[0m\u001b[1;33m\u001b[0m\u001b[1;33m\u001b[0m\u001b[0m\n\u001b[1;32m--> 632\u001b[1;33m             response = self.parent.error(\n\u001b[0m\u001b[0;32m    633\u001b[0m                 'http', request, response, code, msg, hdrs)\n\u001b[0;32m    634\u001b[0m \u001b[1;33m\u001b[0m\u001b[0m\n",
      "\u001b[1;32mC:\\ProgramData\\Anaconda3\\envs\\chip_allocate\\lib\\urllib\\request.py\u001b[0m in \u001b[0;36merror\u001b[1;34m(self, proto, *args)\u001b[0m\n\u001b[0;32m    559\u001b[0m         \u001b[1;32mif\u001b[0m \u001b[0mhttp_err\u001b[0m\u001b[1;33m:\u001b[0m\u001b[1;33m\u001b[0m\u001b[1;33m\u001b[0m\u001b[0m\n\u001b[0;32m    560\u001b[0m             \u001b[0margs\u001b[0m \u001b[1;33m=\u001b[0m \u001b[1;33m(\u001b[0m\u001b[0mdict\u001b[0m\u001b[1;33m,\u001b[0m \u001b[1;34m'default'\u001b[0m\u001b[1;33m,\u001b[0m \u001b[1;34m'http_error_default'\u001b[0m\u001b[1;33m)\u001b[0m \u001b[1;33m+\u001b[0m \u001b[0morig_args\u001b[0m\u001b[1;33m\u001b[0m\u001b[1;33m\u001b[0m\u001b[0m\n\u001b[1;32m--> 561\u001b[1;33m             \u001b[1;32mreturn\u001b[0m \u001b[0mself\u001b[0m\u001b[1;33m.\u001b[0m\u001b[0m_call_chain\u001b[0m\u001b[1;33m(\u001b[0m\u001b[1;33m*\u001b[0m\u001b[0margs\u001b[0m\u001b[1;33m)\u001b[0m\u001b[1;33m\u001b[0m\u001b[1;33m\u001b[0m\u001b[0m\n\u001b[0m\u001b[0;32m    562\u001b[0m \u001b[1;33m\u001b[0m\u001b[0m\n\u001b[0;32m    563\u001b[0m \u001b[1;31m# XXX probably also want an abstract factory that knows when it makes\u001b[0m\u001b[1;33m\u001b[0m\u001b[1;33m\u001b[0m\u001b[0m\n",
      "\u001b[1;32mC:\\ProgramData\\Anaconda3\\envs\\chip_allocate\\lib\\urllib\\request.py\u001b[0m in \u001b[0;36m_call_chain\u001b[1;34m(self, chain, kind, meth_name, *args)\u001b[0m\n\u001b[0;32m    492\u001b[0m         \u001b[1;32mfor\u001b[0m \u001b[0mhandler\u001b[0m \u001b[1;32min\u001b[0m \u001b[0mhandlers\u001b[0m\u001b[1;33m:\u001b[0m\u001b[1;33m\u001b[0m\u001b[1;33m\u001b[0m\u001b[0m\n\u001b[0;32m    493\u001b[0m             \u001b[0mfunc\u001b[0m \u001b[1;33m=\u001b[0m \u001b[0mgetattr\u001b[0m\u001b[1;33m(\u001b[0m\u001b[0mhandler\u001b[0m\u001b[1;33m,\u001b[0m \u001b[0mmeth_name\u001b[0m\u001b[1;33m)\u001b[0m\u001b[1;33m\u001b[0m\u001b[1;33m\u001b[0m\u001b[0m\n\u001b[1;32m--> 494\u001b[1;33m             \u001b[0mresult\u001b[0m \u001b[1;33m=\u001b[0m \u001b[0mfunc\u001b[0m\u001b[1;33m(\u001b[0m\u001b[1;33m*\u001b[0m\u001b[0margs\u001b[0m\u001b[1;33m)\u001b[0m\u001b[1;33m\u001b[0m\u001b[1;33m\u001b[0m\u001b[0m\n\u001b[0m\u001b[0;32m    495\u001b[0m             \u001b[1;32mif\u001b[0m \u001b[0mresult\u001b[0m \u001b[1;32mis\u001b[0m \u001b[1;32mnot\u001b[0m \u001b[1;32mNone\u001b[0m\u001b[1;33m:\u001b[0m\u001b[1;33m\u001b[0m\u001b[1;33m\u001b[0m\u001b[0m\n\u001b[0;32m    496\u001b[0m                 \u001b[1;32mreturn\u001b[0m \u001b[0mresult\u001b[0m\u001b[1;33m\u001b[0m\u001b[1;33m\u001b[0m\u001b[0m\n",
      "\u001b[1;32mC:\\ProgramData\\Anaconda3\\envs\\chip_allocate\\lib\\urllib\\request.py\u001b[0m in \u001b[0;36mhttp_error_default\u001b[1;34m(self, req, fp, code, msg, hdrs)\u001b[0m\n\u001b[0;32m    639\u001b[0m \u001b[1;32mclass\u001b[0m \u001b[0mHTTPDefaultErrorHandler\u001b[0m\u001b[1;33m(\u001b[0m\u001b[0mBaseHandler\u001b[0m\u001b[1;33m)\u001b[0m\u001b[1;33m:\u001b[0m\u001b[1;33m\u001b[0m\u001b[1;33m\u001b[0m\u001b[0m\n\u001b[0;32m    640\u001b[0m     \u001b[1;32mdef\u001b[0m \u001b[0mhttp_error_default\u001b[0m\u001b[1;33m(\u001b[0m\u001b[0mself\u001b[0m\u001b[1;33m,\u001b[0m \u001b[0mreq\u001b[0m\u001b[1;33m,\u001b[0m \u001b[0mfp\u001b[0m\u001b[1;33m,\u001b[0m \u001b[0mcode\u001b[0m\u001b[1;33m,\u001b[0m \u001b[0mmsg\u001b[0m\u001b[1;33m,\u001b[0m \u001b[0mhdrs\u001b[0m\u001b[1;33m)\u001b[0m\u001b[1;33m:\u001b[0m\u001b[1;33m\u001b[0m\u001b[1;33m\u001b[0m\u001b[0m\n\u001b[1;32m--> 641\u001b[1;33m         \u001b[1;32mraise\u001b[0m \u001b[0mHTTPError\u001b[0m\u001b[1;33m(\u001b[0m\u001b[0mreq\u001b[0m\u001b[1;33m.\u001b[0m\u001b[0mfull_url\u001b[0m\u001b[1;33m,\u001b[0m \u001b[0mcode\u001b[0m\u001b[1;33m,\u001b[0m \u001b[0mmsg\u001b[0m\u001b[1;33m,\u001b[0m \u001b[0mhdrs\u001b[0m\u001b[1;33m,\u001b[0m \u001b[0mfp\u001b[0m\u001b[1;33m)\u001b[0m\u001b[1;33m\u001b[0m\u001b[1;33m\u001b[0m\u001b[0m\n\u001b[0m\u001b[0;32m    642\u001b[0m \u001b[1;33m\u001b[0m\u001b[0m\n\u001b[0;32m    643\u001b[0m \u001b[1;32mclass\u001b[0m \u001b[0mHTTPRedirectHandler\u001b[0m\u001b[1;33m(\u001b[0m\u001b[0mBaseHandler\u001b[0m\u001b[1;33m)\u001b[0m\u001b[1;33m:\u001b[0m\u001b[1;33m\u001b[0m\u001b[1;33m\u001b[0m\u001b[0m\n",
      "\u001b[1;31mHTTPError\u001b[0m: HTTP Error 404: The specified blob does not exist."
     ]
    }
   ],
   "source": [
    "dist = ap.annotator(annotation_directory) #create the processing class\n",
    "dist.state_dcc_directory(parent_directory)\n",
    "dist.number_of_tiles(number_of_tiles)\n",
    "dist.get_tile_urls(tiles_remaining)\n",
    "dist.make_subdirectories()\n",
    "dist.download_images()\n",
    "#dist.tile_rename()"
   ]
  },
  {
   "cell_type": "markdown",
   "id": "6a8386bf",
   "metadata": {},
   "source": [
    "## Code to Fix arrays "
   ]
  },
  {
   "cell_type": "markdown",
   "id": "a474074c",
   "metadata": {},
   "source": [
    "Fix arrays when tiles are not properly allocated"
   ]
  },
  {
   "cell_type": "code",
   "execution_count": null,
   "id": "e80122e3",
   "metadata": {},
   "outputs": [],
   "source": [
    "N =   #specify the number of tiles that were not properly allocated\n",
    "#load the array\n",
    "remaining = np.load('tile_name_tile_url_remaining_expanded.npy')\n",
    "labeled = np.load(\"tile_name_tile_url_labeled.npy\")\n",
    "#Save the ammended arrays\n",
    "np.save('tile_name_tile_url_labeled',labeled[:-N])\n",
    "np.save('tile_name_tile_url_remaining_expanded',np.concatenate((labeled[-N:], remaining)))"
   ]
  },
  {
   "cell_type": "markdown",
   "id": "a73ead11",
   "metadata": {},
   "source": [
    "Fix arrays when a tile cannot be found (HTTP Error 404: The specified blob does not exist.)"
   ]
  },
  {
   "cell_type": "code",
   "execution_count": 16,
   "id": "6dd56307",
   "metadata": {},
   "outputs": [
    {
     "name": "stdout",
     "output_type": "stream",
     "text": [
      "(595, 2)\n",
      "(594, 2)\n"
     ]
    }
   ],
   "source": [
    "row_to_remove = 53\n",
    "\n",
    "#dist.tile_name_tile_url_tiles_for_annotators[row_to_remove]\n",
    "\n",
    "error_downloading = np.concatenate((np.load('tile_name_tile_url_error_downloading.npy'),\n",
    "                                    dist.tile_name_tile_url_tiles_for_annotators[row_to_remove]))\n",
    "np.save('tile_name_tile_url_error_downloading.npy', error_downloading)\n",
    "\n",
    "#Remove the rows with errors\n",
    "print(np.load('tile_name_tile_url_remaining_expanded.npy').shape)\n",
    "np.save('tile_name_tile_url_remaining_expanded',np.delete(np.load(tiles_remaining), row_to_remove, axis = 0))\n",
    "print(np.load('tile_name_tile_url_remaining_expanded.npy').shape)\n",
    "row_to_remove = np.nan"
   ]
  },
  {
   "cell_type": "code",
   "execution_count": null,
   "id": "628467c0",
   "metadata": {},
   "outputs": [],
   "source": [
    "#recover the unlabeled images from the dist\n",
    "## np.save('tile_name_tile_url_remaining_expanded',dist.tile_name_tile_url_unlabeled)\n",
    "#dist.tile_name_tile_url_tiles_for_annotators"
   ]
  },
  {
   "cell_type": "code",
   "execution_count": null,
   "id": "da85f2aa",
   "metadata": {
    "tags": []
   },
   "outputs": [],
   "source": [
    "#dist.track_tile_annotations(tiles_labeled)\n",
    "#np.save('tile_name_tile_url_remaining_expanded', dist.tile_name_tile_url_remaining)\n",
    "#np.save('tile_name_tile_url_labeled', dist.tile_name_tile_url_labeled)"
   ]
  },
  {
   "cell_type": "markdown",
   "id": "83525a20",
   "metadata": {},
   "source": [
    "## FIX Crop Script"
   ]
  },
  {
   "cell_type": "code",
   "execution_count": null,
   "id": "aa44da7c",
   "metadata": {},
   "outputs": [],
   "source": [
    "from PIL import Image\n",
    "\n",
    "def crop(path, input, height, width, k, page, area):\n",
    "    im = Image.open(input)\n",
    "    imgwidth, imgheight = im.size\n",
    "    for i in range(0,imgheight,height):\n",
    "        for j in range(0,imgwidth,width):\n",
    "            box = (j, i, j+width, i+height)\n",
    "            a = im.crop(box)\n",
    "            try:\n",
    "                o = a.crop(area)\n",
    "                o.save(os.path.join(path,\"PNG\",\"%s\" % page,\"IMG-%s.png\" % k))\n",
    "            except:\n",
    "                pass\n",
    "            k +=1"
   ]
  },
  {
   "cell_type": "code",
   "execution_count": null,
   "id": "af1a9d79",
   "metadata": {},
   "outputs": [],
   "source": [
    "dist.tile_names = os.listdir(dist.tiles_dir) #get a list of all of the tiles in tiles directory\n",
    "for tile_name in dist.tile_names: #index over the tiles in the tiles_dir \n",
    "    file_name, ext = os.path.splitext(tile_name) # File name\n",
    "    print(tile_name)\n",
    "\n",
    "    print(count)"
   ]
  },
  {
   "cell_type": "markdown",
   "id": "60bf7660",
   "metadata": {},
   "source": [
    "### Pil"
   ]
  },
  {
   "cell_type": "code",
   "execution_count": null,
   "id": "8ff93c30",
   "metadata": {},
   "outputs": [],
   "source": [
    "from PIL import Image \n",
    " \n",
    "#img = Image.open(r\"C:\\Users\\rapiduser\\Downloads\\shutterstock_95235265.jpg\") \n",
    "img = Image.open(r\"C:\\chips_allocation\\Check\\tiles\\ca_060cm_2018_38121_m_3812128_ne_10_060_20180714.tif\")\n",
    "img.save('test.jpeg')\n",
    "img = Image.open(r\"C:\\chips_allocation\\Check\\tiles\\ca_060cm_2018_38121_m_3812128_ne_10_060_20180714.\")\n",
    "\n",
    "left = 0\n",
    "top = 50\n",
    "right = 510\n",
    "bottom = 292\n",
    " \n",
    "img_res = img.crop((left, top, right, bottom)) \n",
    " \n",
    "img_res.show() "
   ]
  },
  {
   "cell_type": "markdown",
   "id": "fb2cf658",
   "metadata": {},
   "source": [
    "### Open CV"
   ]
  },
  {
   "cell_type": "code",
   "execution_count": 14,
   "id": "9bfcfe6f",
   "metadata": {},
   "outputs": [
    {
     "name": "stdout",
     "output_type": "stream",
     "text": [
      "(12220, 9770, 3)\n"
     ]
    },
    {
     "data": {
      "text/plain": [
       "-1"
      ]
     },
     "execution_count": 14,
     "metadata": {},
     "output_type": "execute_result"
    }
   ],
   "source": [
    "import cv2\n",
    "import os\n",
    "image = cv2.imread(r\"C:/chips_allocation/Check/tiles/ca_060cm_2018_38121_m_3812128_ne_10_060_20180714.tif\") \n",
    "y=0\n",
    "x=512*19\n",
    "h=512\n",
    "w=512\n",
    "#cropped = image[x:w, y:h]\n",
    "cropped = image[y:y+h, x:x+w]\n",
    "print(image.shape)\n",
    "\n",
    "# Filename\n",
    "filename = 'test2.jpg'\n",
    "cv2.imwrite(os.path.join('C:/chips_allocation/Check/tiles',filename),cropped)\n",
    "cv2.imshow(\"Cropped\", cropped)\n",
    "cv2.waitKey(0)\n",
    "# Using cv2.imwrite() method\n",
    "# Saving the image\n",
    "#cv2.imwrite(filename, img)\n"
   ]
  },
  {
   "cell_type": "code",
   "execution_count": null,
   "id": "92a0557f",
   "metadata": {},
   "outputs": [],
   "source": [
    "from PIL import Image\n",
    "Image.MAX_IMAGE_PIXELS = 999999999999\n",
    "import os\n",
    "file_name = \"ca_060cm_2018_38121_m_3812128_ne_10_060_20180714\"\n",
    "#tile = Image.open(os.path.join(dist.tiles_dir, tile_name)) #open image\n",
    "with Image.open(r\"C:\\chips_allocation\\Check\\tiles\\ca_060cm_2018_38121_m_3812128_ne_10_060_20180714\") as tile:\n",
    "    width, height = tile.size\n",
    "    item_width = int(512)\n",
    "    col = int(width/512)+1\n",
    "    row = int(height/512)+1\n",
    "    count = 1\n",
    "    for j in range(0,col):\n",
    "        for i in range(0,row):\n",
    "            box = (i*item_width, j*item_width, (i+1)*item_width, (j+1)*item_width)\n",
    "            chips_save_path = os.path.join(self.chips_dir, file_name+ '_'+ \\\n",
    "                                           str(count).zfill(6) + '.jpg') \n",
    "            # The index is a six-digit number like '000023'. \n",
    "            #chip = tile.crop(box)\n",
    "            #chip = chip.save(chips_save_path)\n",
    "            chip = tile.crop(box).save(chips_save_path)\n",
    "            count += 1\n",
    "    print(count)"
   ]
  },
  {
   "cell_type": "code",
   "execution_count": 4,
   "id": "5596328b",
   "metadata": {},
   "outputs": [],
   "source": [
    "import numpy as np\n",
    "import cv2\n",
    "import os\n",
    "\n",
    "image = cv2.imread(r\"C:/chips_allocation/Check/tiles/ca_060cm_2018_38121_m_3812128_ne_10_060_20180714.tif\") \n",
    "y=0\n",
    "x=512*19\n",
    "h=512\n",
    "w=512\n",
    "#cropped = image[x:w, y:h]\n",
    "cropped = image[y:y+h, x:x+w]\n",
    "\n",
    "print(image.shape)\n",
    "\n",
    "# Filename\n",
    "filename = 'test2.jpg'\n",
    "cv2.imwrite(os.path.join('C:/chips_allocation/Check/tiles',filename),cropped)\n",
    "cv2.imshow(\"Cropped\", cropped)\n",
    "cv2.waitKey(0)\n",
    "# Using cv2.imwrite() method\n",
    "# Saving the image\n",
    "#cv2.imwrite(filename, img)\n",
    "\n",
    "#image = cv2.imread('C:/chips_allocation/Check/tiles/test2.jpg') \n",
    "print(chip_img.width)\n",
    "print(chip_img.height)\n",
    "\n",
    "#At the end of the image\n",
    "if chip_img.width != 512:\n",
    "    black_width = 512 - chip_img.width\n",
    "    black_height = 512\n",
    "    black_image = np.zeros((black_height,black_width,3), np.uint8)\n",
    "    print(\"Incorrect Width\")\n",
    "    print(black_img.width)\n",
    "    print(black_img.height)\n",
    "    chip_img = np.concatenate([chip_img, blank_image])\n",
    "    \n",
    "if chip_img.height != 512:\n",
    "    black_height = 512 - chip_img.height\n",
    "    black_width = 512\n",
    "    black_image = np.zeros((black_height,black_width,3), np.uint8)\n",
    "    print(\"Incorrect Height\")\n",
    "    print(black_img.width)\n",
    "    print(black_img.height)\n",
    "    chip_img = np.concatenate([chip_img, blank_image])"
   ]
  },
  {
   "cell_type": "code",
   "execution_count": 8,
   "id": "29505dd8",
   "metadata": {},
   "outputs": [
    {
     "name": "stdout",
     "output_type": "stream",
     "text": [
      "image shape:  (512, 470, 3)\n"
     ]
    }
   ],
   "source": [
    "#blank_image = np.zeros((512,512-42,3), np.uint8)\n",
    "cv2.imshow('3 Channel Window', 1)\n",
    "print(\"image shape: \", blank_image.shape)\n",
    "cv2.waitKey(0)\n",
    "cv2.destroyAllWindows()"
   ]
  },
  {
   "cell_type": "code",
   "execution_count": 35,
   "id": "abaa9bb4",
   "metadata": {},
   "outputs": [
    {
     "name": "stdout",
     "output_type": "stream",
     "text": [
      "42\n",
      "512\n"
     ]
    }
   ],
   "source": [
    "from PIL import Image\n",
    "\n",
    "\n",
    "#blackBox = Image.new(im.mode, (im.width, 50), '#000')\n",
    "#im.paste(blackBox, (0, im.height - blackBox.height))\n",
    "#for x in range(img.width):\n",
    "#    for y in range(img.height - 40, img.height):\n",
    "#        img.putpixel((x, y), (0, 0, 0))\n",
    "\n",
    "#img.save('test2_bb.png')"
   ]
  },
  {
   "cell_type": "code",
   "execution_count": 40,
   "id": "382d5ce2",
   "metadata": {},
   "outputs": [
    {
     "name": "stdout",
     "output_type": "stream",
     "text": [
      "42\n",
      "512\n",
      "Incorrect Width\n",
      "470\n",
      "512\n"
     ]
    },
    {
     "ename": "TypeError",
     "evalue": "unsupported operand type(s) for +: 'JpegImageFile' and 'Image'",
     "output_type": "error",
     "traceback": [
      "\u001b[1;31m---------------------------------------------------------------------------\u001b[0m",
      "\u001b[1;31mTypeError\u001b[0m                                 Traceback (most recent call last)",
      "\u001b[1;32mC:\\Users\\RAPIDU~1\\AppData\\Local\\Temp/ipykernel_6856/778010062.py\u001b[0m in \u001b[0;36m<module>\u001b[1;34m\u001b[0m\n\u001b[0;32m     11\u001b[0m     \u001b[0mprint\u001b[0m\u001b[1;33m(\u001b[0m\u001b[0mblack_img\u001b[0m\u001b[1;33m.\u001b[0m\u001b[0mwidth\u001b[0m\u001b[1;33m)\u001b[0m\u001b[1;33m\u001b[0m\u001b[1;33m\u001b[0m\u001b[0m\n\u001b[0;32m     12\u001b[0m     \u001b[0mprint\u001b[0m\u001b[1;33m(\u001b[0m\u001b[0mblack_img\u001b[0m\u001b[1;33m.\u001b[0m\u001b[0mheight\u001b[0m\u001b[1;33m)\u001b[0m\u001b[1;33m\u001b[0m\u001b[1;33m\u001b[0m\u001b[0m\n\u001b[1;32m---> 13\u001b[1;33m     \u001b[0mchip_img\u001b[0m\u001b[1;33m+\u001b[0m\u001b[0mblack_img\u001b[0m\u001b[1;33m\u001b[0m\u001b[1;33m\u001b[0m\u001b[0m\n\u001b[0m\u001b[0;32m     14\u001b[0m \u001b[1;33m\u001b[0m\u001b[0m\n\u001b[0;32m     15\u001b[0m \u001b[1;32mif\u001b[0m \u001b[0mchip_img\u001b[0m\u001b[1;33m.\u001b[0m\u001b[0mheight\u001b[0m \u001b[1;33m!=\u001b[0m \u001b[1;36m512\u001b[0m\u001b[1;33m:\u001b[0m\u001b[1;33m\u001b[0m\u001b[1;33m\u001b[0m\u001b[0m\n",
      "\u001b[1;31mTypeError\u001b[0m: unsupported operand type(s) for +: 'JpegImageFile' and 'Image'"
     ]
    }
   ],
   "source": [
    "from PIL import Image  \n",
    "chip_img = Image.open('C:/chips_allocation/Check/tiles/test2.jpg')\n",
    "print(chip_img.width)\n",
    "print(chip_img.height)\n",
    "\n",
    "if chip_img.width != 512:\n",
    "    black_width = 512 - chip_img.width\n",
    "    black_height = 512\n",
    "    black_img = Image.new(mode = \"RGB\", size = (black_width, black_height))\n",
    "    print(\"Incorrect Width\")\n",
    "    print(black_img.width)\n",
    "    print(black_img.height)\n",
    "    chip_img+black_img\n",
    "    \n",
    "if chip_img.height != 512:\n",
    "    black_height = 512 - chip_img.height\n",
    "    black_width = 512\n",
    "    blackimg = Image.new(mode = \"RGB\", size = (black_width, black_height))\n",
    "    print(\"Incorrect Height\")\n",
    "    print(black_img.width)\n",
    "    print(black_img.height)"
   ]
  },
  {
   "cell_type": "code",
   "execution_count": null,
   "id": "6c7c45bd",
   "metadata": {},
   "outputs": [],
   "source": [
    "import numpy as np\n",
    "import cv2\n",
    "\n",
    "image = cv2.imread('download.jpg')\n",
    "y=0\n",
    "x=0\n",
    "h=100\n",
    "w=200\n",
    "crop = image[y:y+h, x:x+w]\n",
    "cv2.imshow('Image', crop)\n",
    "cv2.waitKey(0) "
   ]
  },
  {
   "cell_type": "markdown",
   "id": "c396c1c1",
   "metadata": {},
   "source": [
    "### Wand"
   ]
  },
  {
   "cell_type": "code",
   "execution_count": 7,
   "id": "47580bdf",
   "metadata": {},
   "outputs": [
    {
     "name": "stdout",
     "output_type": "stream",
     "text": [
      "format = TIFF\n",
      "width = 306\n",
      "height = 382\n"
     ]
    }
   ],
   "source": [
    "from __future__ import print_function\n",
    "from wand.image import Image\n",
    "\n",
    "with Image(filename=r\"C:/chips_allocation/Check/tiles/ca_060cm_2018_38121_m_3812128_ne_10_060_20180714.tif\") as img:\n",
    "    print('format =', img.format)\n",
    "    print('width =', img.width)\n",
    "    print('height =', img.height)"
   ]
  }
 ],
 "metadata": {
  "kernelspec": {
   "display_name": "Chip Allocate",
   "language": "python",
   "name": "chip_allocate"
  },
  "language_info": {
   "codemirror_mode": {
    "name": "ipython",
    "version": 3
   },
   "file_extension": ".py",
   "mimetype": "text/x-python",
   "name": "python",
   "nbconvert_exporter": "python",
   "pygments_lexer": "ipython3",
   "version": "3.9.7"
  },
  "toc-autonumbering": true,
  "toc-showmarkdowntxt": true
 },
 "nbformat": 4,
 "nbformat_minor": 5
}
