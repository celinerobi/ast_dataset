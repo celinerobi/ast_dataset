{
 "cells": [
  {
   "cell_type": "code",
   "execution_count": 1,
   "id": "9b5e1fab-0c21-4c81-83b7-d06f68c84a4b",
   "metadata": {},
   "outputs": [],
   "source": [
    "# Standard packages\n",
    "import tempfile\n",
    "import warnings\n",
    "import urllib\n",
    "import shutil\n",
    "import os\n",
    "# Less standard, but still pip- or conda-installable\n",
    "import pandas as pd\n",
    "import numpy as np\n",
    "import matplotlib.pyplot as plt\n",
    "import matplotlib\n",
    "import rasterio\n",
    "import re\n",
    "import rtree\n",
    "import shapely\n",
    "import pickle\n",
    "import data_eng.az_proc as ap"
   ]
  },
  {
   "cell_type": "code",
   "execution_count": 2,
   "id": "10730089-5376-41ce-83c5-2974c43d24e3",
   "metadata": {},
   "outputs": [
    {
     "name": "stdout",
     "output_type": "stream",
     "text": [
      "PIL 8.2.0\n"
     ]
    }
   ],
   "source": [
    "import PIL\n",
    "print('PIL',PIL.__version__)\n",
    "from PIL import Image\n",
    "Image.MAX_IMAGE_PIXELS = None"
   ]
  },
  {
   "cell_type": "code",
   "execution_count": 23,
   "id": "acf295f3-05d7-4660-b5e2-bc8ba38b69cc",
   "metadata": {},
   "outputs": [
    {
     "data": {
      "text/plain": [
       "array(['m_3607614_se_18_060_20181001.tif',\n",
       "       'https://naipblobs.blob.core.windows.net/naip/v002/va/2018/va_60cm_2018/36076/m_3607614_se_18_060_20181001.tif'],\n",
       "      dtype='<U119')"
      ]
     },
     "execution_count": 23,
     "metadata": {},
     "output_type": "execute_result"
    }
   ],
   "source": [
    "dist.tile_name_tile_url_tiles_for_annotators[36]"
   ]
  },
  {
   "cell_type": "code",
   "execution_count": 24,
   "id": "92741afb-3111-457b-96a4-6ea135dcb0b3",
   "metadata": {},
   "outputs": [
    {
     "data": {
      "text/plain": [
       "(1009, 2)"
      ]
     },
     "execution_count": 24,
     "metadata": {},
     "output_type": "execute_result"
    }
   ],
   "source": [
    "#row_to_remove = 36\n",
    "#error_downloading = np.concatenate((np.load('tile_name_tile_url_error_downloading.npy'),\n",
    "#                                    dist.tile_name_tile_url_tiles_for_annotators[row_to_remove]))\n",
    "#np.save('tile_name_tile_url_error_downloading.npy', error_downloading)\n",
    "\n",
    "#Remove the rows with errors\n",
    "#np.load('tile_name_tile_url_remaining_expanded.npy').shape\n",
    "#np.save('tile_name_tile_url_remaining_expanded',np.delete(np.load(tiles_remaining), row_to_remove, axis = 0))\n",
    "#np.load('tile_name_tile_url_remaining_expanded.npy').shape\n",
    "\n",
    "#recover the unlabeled images from the dist\n",
    "## np.save('tile_name_tile_url_remaining_expanded',dist.tile_name_tile_url_unlabeled)\n",
    "#dist.tile_name_tile_url_tiles_for_annotators"
   ]
  },
  {
   "cell_type": "code",
   "execution_count": 25,
   "id": "54d132f2-2a27-4bb2-b1dc-63eee48bbda0",
   "metadata": {},
   "outputs": [],
   "source": [
    "parent_directory = \"C:\\chip_allocation_temp\"\n",
    "annotation_directory = \"Errors\"\n",
    "number_of_tiles = 50\n",
    "tiles_remaining = \"tile_name_tile_url_remaining_expanded.npy\"\n",
    "tiles_labeled = \"tile_name_tile_url_labeled.npy\""
   ]
  },
  {
   "cell_type": "code",
   "execution_count": 26,
   "id": "a3760737-15b0-4a18-8a6d-44441fc4092f",
   "metadata": {},
   "outputs": [
    {
     "name": "stdout",
     "output_type": "stream",
     "text": [
      "Unlabeled Tiles (1009, 2)\n"
     ]
    }
   ],
   "source": [
    "dist = ap.annotator(annotation_directory) #create the processing class\n",
    "dist.state_dcc_directory(parent_directory)\n",
    "dist.number_of_tiles(number_of_tiles)\n",
    "dist.get_tile_urls(tiles_remaining)\n",
    "dist.make_subdirectories()"
   ]
  },
  {
   "cell_type": "code",
   "execution_count": 27,
   "id": "27daf4d2-9f98-43f1-9dc5-152e3cfc4027",
   "metadata": {},
   "outputs": [
    {
     "name": "stdout",
     "output_type": "stream",
     "text": [
      "0\n",
      "Bypassing download of already-downloaded file m_3210202_nw_13_060_20181010.tif\n",
      "1\n",
      "Bypassing download of already-downloaded file m_3511946_se_11_060_20180713_20190208.tif\n",
      "2\n",
      "Bypassing download of already-downloaded file m_4108540_nw_16_060_20180708_20190221.tif\n",
      "3\n",
      "Bypassing download of already-downloaded file m_4107113_ne_19_060_20180930.tif\n",
      "4\n",
      "Bypassing download of already-downloaded file m_3209531_ne_15_060_20181120_20190222.tif\n",
      "5\n",
      "Bypassing download of already-downloaded file m_4408561_ne_16_060_20180912_20181211.tif\n",
      "6\n",
      "Bypassing download of already-downloaded file m_4208411_se_16_060_20180706_20190315.tif\n",
      "7\n",
      "Bypassing download of already-downloaded file m_3907652_nw_18_060_20181121.tif\n",
      "8\n",
      "Bypassing download of already-downloaded file m_3311824_ne_11_060_20180723_20190209.tif\n",
      "9\n",
      "Bypassing download of already-downloaded file m_4408431_se_16_060_20180823_20181211.tif\n",
      "10\n",
      "Bypassing download of already-downloaded file m_3210162_se_14_060_20181127.tif\n",
      "11\n",
      "Bypassing download of already-downloaded file m_3711315_sw_12_060_20180809.tif\n",
      "12\n",
      "Bypassing download of already-downloaded file m_4107048_sw_19_060_20180827.tif\n",
      "13\n",
      "Bypassing download of already-downloaded file m_3407619_nw_18_060_20181012_20190210.tif\n",
      "14\n",
      "Bypassing download of already-downloaded file m_3110613_se_13_060_20190226_20190504.tif\n",
      "15\n",
      "Bypassing download of already-downloaded file m_3209714_nw_14_060_20181120.tif\n",
      "16\n",
      "Bypassing download of already-downloaded file m_4309717_ne_14_060_20180915_20181211.tif\n",
      "17\n",
      "Bypassing download of already-downloaded file m_4609224_sw_15_060_20181022.tif\n",
      "18\n",
      "Bypassing download of already-downloaded file m_3108928_ne_16_060_20181103_20190208.tif\n",
      "19\n",
      "Bypassing download of already-downloaded file m_3809031_ne_15_060_20181020_20190206.tif\n",
      "20\n",
      "Bypassing download of already-downloaded file m_4109739_nw_14_060_20180702_20181210.tif\n",
      "21\n",
      "Bypassing download of already-downloaded file m_3510129_se_14_060_20180917.tif\n",
      "22\n",
      "Bypassing download of already-downloaded file m_4810154_ne_14_060_20181019.tif\n",
      "23\n",
      "Bypassing download of already-downloaded file m_3108805_sw_16_060_20181029_20190208.tif\n",
      "24\n",
      "Bypassing download of already-downloaded file m_4208303_nw_17_060_20180703_20181214.tif\n",
      "25\n",
      "Bypassing download of already-downloaded file m_3709358_nw_15_060_20180827_20190205.tif\n",
      "26\n",
      "Bypassing download of already-downloaded file m_4810103_ne_14_060_20181020.tif\n",
      "27\n",
      "Bypassing download of already-downloaded file m_2909524_se_15_060_20181120_20190428.tif\n",
      "28\n",
      "Bypassing download of already-downloaded file m_4610315_nw_13_060_20180904_20181213.tif\n",
      "29\n",
      "Bypassing download of already-downloaded file m_3211716_sw_11_060_20190317_20190412.tif\n",
      "30\n",
      "Bypassing download of already-downloaded file m_3311710_sw_11_060_20180822_20190208.tif\n",
      "31\n",
      "Bypassing download of already-downloaded file m_3209033_se_15_060_20181127_20190207.tif\n",
      "32\n",
      "Bypassing download of already-downloaded file m_4307222_sw_18_060_20190102_20190227.tif\n",
      "33\n",
      "Bypassing download of already-downloaded file m_3109357_sw_15_060_20181122_20190503.tif\n",
      "34\n",
      "Bypassing download of already-downloaded file m_2809805_nw_14_060_20180517_20190518.tif\n",
      "35\n",
      "Bypassing download of already-downloaded file m_3707737_ne_18_060_20180826.tif\n",
      "36\n"
     ]
    },
    {
     "name": "stderr",
     "output_type": "stream",
     "text": [
      "100% (424369264 of 424369264) |##########| Elapsed Time: 0:00:40 Time:  0:00:40\n"
     ]
    },
    {
     "name": "stdout",
     "output_type": "stream",
     "text": [
      "...done, 424369264 bytes.\n",
      "37\n"
     ]
    },
    {
     "name": "stderr",
     "output_type": "stream",
     "text": [
      "100% (611807231 of 611807231) |##########| Elapsed Time: 0:00:51 Time:  0:00:51\n"
     ]
    },
    {
     "name": "stdout",
     "output_type": "stream",
     "text": [
      "...done, 611807231 bytes.\n",
      "38\n"
     ]
    },
    {
     "name": "stderr",
     "output_type": "stream",
     "text": [
      "100% (524083145 of 524083145) |##########| Elapsed Time: 0:00:14 Time:  0:00:14\n",
      "N/A% (0 of 542685004) |                  | Elapsed Time: 0:00:00 ETA:  --:--:--"
     ]
    },
    {
     "name": "stdout",
     "output_type": "stream",
     "text": [
      "...done, 524083145 bytes.\n",
      "39\n"
     ]
    },
    {
     "name": "stderr",
     "output_type": "stream",
     "text": [
      "100% (542685004 of 542685004) |##########| Elapsed Time: 0:00:28 Time:  0:00:28\n"
     ]
    },
    {
     "name": "stdout",
     "output_type": "stream",
     "text": [
      "...done, 542685004 bytes.\n",
      "40\n"
     ]
    },
    {
     "name": "stderr",
     "output_type": "stream",
     "text": [
      "100% (608933663 of 608933663) |##########| Elapsed Time: 0:00:43 Time:  0:00:43\n"
     ]
    },
    {
     "name": "stdout",
     "output_type": "stream",
     "text": [
      "...done, 608933663 bytes.\n",
      "41\n"
     ]
    },
    {
     "name": "stderr",
     "output_type": "stream",
     "text": [
      "100% (520712033 of 520712033) |##########| Elapsed Time: 0:00:42 Time:  0:00:42\n",
      "N/A% (0 of 511534210) |                  | Elapsed Time: 0:00:00 ETA:  --:--:--"
     ]
    },
    {
     "name": "stdout",
     "output_type": "stream",
     "text": [
      "...done, 520712033 bytes.\n",
      "42\n"
     ]
    },
    {
     "name": "stderr",
     "output_type": "stream",
     "text": [
      "100% (511534210 of 511534210) |##########| Elapsed Time: 0:00:29 Time:  0:00:29\n"
     ]
    },
    {
     "name": "stdout",
     "output_type": "stream",
     "text": [
      "...done, 511534210 bytes.\n",
      "43\n"
     ]
    },
    {
     "name": "stderr",
     "output_type": "stream",
     "text": [
      "100% (499114617 of 499114617) |##########| Elapsed Time: 0:00:34 Time:  0:00:34\n"
     ]
    },
    {
     "name": "stdout",
     "output_type": "stream",
     "text": [
      "...done, 499114617 bytes.\n",
      "44\n"
     ]
    },
    {
     "name": "stderr",
     "output_type": "stream",
     "text": [
      "100% (562341248 of 562341248) |##########| Elapsed Time: 0:00:53 Time:  0:00:53\n"
     ]
    },
    {
     "name": "stdout",
     "output_type": "stream",
     "text": [
      "...done, 562341248 bytes.\n",
      "45\n"
     ]
    },
    {
     "name": "stderr",
     "output_type": "stream",
     "text": [
      "100% (631089041 of 631089041) |##########| Elapsed Time: 0:00:43 Time:  0:00:43\n"
     ]
    },
    {
     "name": "stdout",
     "output_type": "stream",
     "text": [
      "...done, 631089041 bytes.\n",
      "46\n"
     ]
    },
    {
     "name": "stderr",
     "output_type": "stream",
     "text": [
      "100% (496725548 of 496725548) |##########| Elapsed Time: 0:00:20 Time:  0:00:20\n"
     ]
    },
    {
     "name": "stdout",
     "output_type": "stream",
     "text": [
      "...done, 496725548 bytes.\n",
      "47\n"
     ]
    },
    {
     "name": "stderr",
     "output_type": "stream",
     "text": [
      "100% (441846674 of 441846674) |##########| Elapsed Time: 0:00:37 Time:  0:00:37\n",
      "N/A% (0 of 501693656) |                  | Elapsed Time: 0:00:00 ETA:  --:--:--"
     ]
    },
    {
     "name": "stdout",
     "output_type": "stream",
     "text": [
      "...done, 441846674 bytes.\n",
      "48\n"
     ]
    },
    {
     "name": "stderr",
     "output_type": "stream",
     "text": [
      "100% (501693656 of 501693656) |##########| Elapsed Time: 0:00:18 Time:  0:00:18\n",
      "N/A% (0 of 563982401) |                  | Elapsed Time: 0:00:00 ETA:  --:--:--"
     ]
    },
    {
     "name": "stdout",
     "output_type": "stream",
     "text": [
      "...done, 501693656 bytes.\n",
      "49\n"
     ]
    },
    {
     "name": "stderr",
     "output_type": "stream",
     "text": [
      "100% (563982401 of 563982401) |##########| Elapsed Time: 0:00:57 Time:  0:00:57\n"
     ]
    },
    {
     "name": "stdout",
     "output_type": "stream",
     "text": [
      "...done, 563982401 bytes.\n",
      "['https_naipblobs.blob.core.windows.net_naip_v002_ca_2018_ca_060cm_2018_32117_m_3211716_sw_11_060_20190317_20190412.tif', 'https_naipblobs.blob.core.windows.net_naip_v002_ca_2018_ca_060cm_2018_33117_m_3311710_sw_11_060_20180822_20190208.tif', 'https_naipblobs.blob.core.windows.net_naip_v002_ca_2018_ca_060cm_2018_33118_m_3311824_ne_11_060_20180723_20190209.tif', 'https_naipblobs.blob.core.windows.net_naip_v002_ca_2018_ca_060cm_2018_35119_m_3511946_se_11_060_20180713_20190208.tif', 'https_naipblobs.blob.core.windows.net_naip_v002_in_2018_in_060cm_2018_41085_m_4108540_nw_16_060_20180708_20190221.tif', 'https_naipblobs.blob.core.windows.net_naip_v002_ma_2018_ma_060cm_2018_41070_m_4107048_sw_19_060_20180827.tif', 'https_naipblobs.blob.core.windows.net_naip_v002_md_2018_md_060cm_2018_39076_m_3907652_nw_18_060_20181121.tif', 'https_naipblobs.blob.core.windows.net_naip_v002_mi_2018_mi_060cm_2018_42083_m_4208302_ne_17_060_20180703_20181214.tif', 'https_naipblobs.blob.core.windows.net_naip_v002_mi_2018_mi_060cm_2018_42083_m_4208303_nw_17_060_20180703_20181214.tif', 'https_naipblobs.blob.core.windows.net_naip_v002_mi_2018_mi_060cm_2018_42083_m_4208346_sw_17_060_20180707_20181211.tif', 'https_naipblobs.blob.core.windows.net_naip_v002_mi_2018_mi_060cm_2018_42084_m_4208411_se_16_060_20180706_20190315.tif', 'https_naipblobs.blob.core.windows.net_naip_v002_mi_2018_mi_060cm_2018_44084_m_4408431_se_16_060_20180823_20181211.tif', 'https_naipblobs.blob.core.windows.net_naip_v002_mi_2018_mi_060cm_2018_44085_m_4408561_ne_16_060_20180912_20181211.tif', 'https_naipblobs.blob.core.windows.net_naip_v002_mo_2018_mo_060cm_2018_37089_m_3708952_ne_16_060_20180917_20190205.tif', 'https_naipblobs.blob.core.windows.net_naip_v002_mo_2018_mo_060cm_2018_37093_m_3709358_nw_15_060_20180827_20190205.tif', 'https_naipblobs.blob.core.windows.net_naip_v002_mo_2018_mo_060cm_2018_38090_m_3809031_ne_15_060_20181020_20190206.tif', 'https_naipblobs.blob.core.windows.net_naip_v002_ms_2018_ms_060cm_2018_31088_m_3108805_sw_16_060_20181029_20190208.tif', 'https_naipblobs.blob.core.windows.net_naip_v002_ms_2018_ms_060cm_2018_31089_m_3108928_ne_16_060_20181103_20190208.tif', 'https_naipblobs.blob.core.windows.net_naip_v002_ms_2018_ms_060cm_2018_32090_m_3209033_se_15_060_20181127_20190207.tif', 'https_naipblobs.blob.core.windows.net_naip_v002_nc_2018_nc_060cm_2018_34076_m_3407619_nw_18_060_20181012_20190210.tif', 'https_naipblobs.blob.core.windows.net_naip_v002_nd_2018_nd_060cm_2018_46103_m_4610315_nw_13_060_20180904_20181213.tif', 'https_naipblobs.blob.core.windows.net_naip_v002_nd_2018_nd_060cm_2018_48101_m_4810103_ne_14_060_20181020.tif', 'https_naipblobs.blob.core.windows.net_naip_v002_nd_2018_nd_060cm_2018_48101_m_4810154_ne_14_060_20181019.tif', 'https_naipblobs.blob.core.windows.net_naip_v002_ne_2018_ne_060cm_2018_41097_m_4109739_nw_14_060_20180702_20181210.tif', 'https_naipblobs.blob.core.windows.net_naip_v002_ne_2018_ne_060cm_2018_41100_m_4110059_nw_14_060_20180913_20181210.tif', 'https_naipblobs.blob.core.windows.net_naip_v002_nh_2018_nh_060cm_2018_43072_m_4307222_sw_18_060_20190102_20190227.tif', 'https_naipblobs.blob.core.windows.net_naip_v002_nm_2018_nm_060cm_2018_32103_m_3210318_sw_13_060_20180506_20190422.tif', 'https_naipblobs.blob.core.windows.net_naip_v002_ri_2018_ri_060cm_2018_41071_m_4107113_ne_19_060_20180930.tif', 'https_naipblobs.blob.core.windows.net_naip_v002_sd_2018_sd_060cm_2018_43097_m_4309717_ne_14_060_20180915_20181211.tif', 'https_naipblobs.blob.core.windows.net_naip_v002_sd_2018_sd_060cm_2018_45098_m_4509836_ne_14_060_20180917.tif', 'https_naipblobs.blob.core.windows.net_naip_v002_tn_2018_tn_060cm_2018_36083_m_3608348_ne_17_060_20181024.tif', 'https_naipblobs.blob.core.windows.net_naip_v002_tx_2018_tx_060cm_2018_27097_m_2709718_sw_14_060_20181209_20190517.tif', 'https_naipblobs.blob.core.windows.net_naip_v002_tx_2018_tx_060cm_2018_28098_m_2809805_nw_14_060_20180517_20190518.tif', 'https_naipblobs.blob.core.windows.net_naip_v002_tx_2018_tx_060cm_2018_29095_m_2909505_ne_15_060_20181204_20190503.tif', 'https_naipblobs.blob.core.windows.net_naip_v002_tx_2018_tx_060cm_2018_29095_m_2909524_se_15_060_20181120_20190428.tif', 'https_naipblobs.blob.core.windows.net_naip_v002_tx_2018_tx_060cm_2018_31093_m_3109357_sw_15_060_20181122_20190503.tif', 'https_naipblobs.blob.core.windows.net_naip_v002_tx_2018_tx_060cm_2018_31106_m_3110613_se_13_060_20190226_20190504.tif', 'https_naipblobs.blob.core.windows.net_naip_v002_tx_2018_tx_060cm_2018_32095_m_3209531_ne_15_060_20181120_20190222.tif', 'https_naipblobs.blob.core.windows.net_naip_v002_tx_2018_tx_060cm_2018_32097_m_3209714_nw_14_060_20181120.tif', 'https_naipblobs.blob.core.windows.net_naip_v002_tx_2018_tx_060cm_2018_32098_m_3209822_sw_14_060_20180821.tif', 'https_naipblobs.blob.core.windows.net_naip_v002_tx_2018_tx_060cm_2018_32101_m_3210162_se_14_060_20181127.tif', 'https_naipblobs.blob.core.windows.net_naip_v002_tx_2018_tx_060cm_2018_32102_m_3210202_nw_13_060_20181010.tif', 'https_naipblobs.blob.core.windows.net_naip_v002_tx_2018_tx_060cm_2018_32103_m_3210356_se_13_060_20181026.tif', 'https_naipblobs.blob.core.windows.net_naip_v002_tx_2018_tx_060cm_2018_35101_m_3510129_se_14_060_20180917.tif', 'https_naipblobs.blob.core.windows.net_naip_v002_ut_2018_ut_060cm_2018_37113_m_3711315_sw_12_060_20180809.tif', 'https_naipblobs.blob.core.windows.net_naip_v002_ut_2018_ut_060cm_2018_40110_m_4011062_se_12_060_20180909.tif', 'https_naipblobs.blob.core.windows.net_naip_v002_ut_2018_ut_060cm_2018_41112_m_4111264_ne_12_060_20180829.tif', 'https_naipblobs.blob.core.windows.net_naip_v002_va_2018_va_060cm_2018_37077_m_3707737_ne_18_060_20180826.tif', 'https_naipblobs.blob.core.windows.net_naip_v002_wi_2018_wi_060cm_2018_45089_m_4508921_se_16_060_20180812.tif', 'https_naipblobs.blob.core.windows.net_naip_v002_wi_2018_wi_060cm_2018_46092_m_4609224_sw_15_060_20181022.tif']\n"
     ]
    }
   ],
   "source": [
    "dist.download_images()\n",
    "dist.tile_rename()"
   ]
  },
  {
   "cell_type": "code",
   "execution_count": null,
   "id": "b72b6463-99e6-48ea-8ac9-00c5ded14d4e",
   "metadata": {},
   "outputs": [],
   "source": [
    "#dist.chip_tiles()"
   ]
  },
  {
   "cell_type": "code",
   "execution_count": 20,
   "id": "e6d8df62-0925-4f7a-b847-4b2d09550737",
   "metadata": {
    "jupyter": {
     "source_hidden": true
    },
    "tags": []
   },
   "outputs": [],
   "source": [
    "#dist.track_tile_annotations(tiles_labeled)\n",
    "#np.save('tile_name_tile_url_remaining_expanded', dist.tile_name_tile_url_remaining)\n",
    "#np.save('tile_name_tile_url_labeled', dist.tile_name_tile_url_labeled)"
   ]
  }
 ],
 "metadata": {
  "kernelspec": {
   "display_name": "Python (myenv)",
   "language": "python",
   "name": "myenv"
  },
  "language_info": {
   "codemirror_mode": {
    "name": "ipython",
    "version": 3
   },
   "file_extension": ".py",
   "mimetype": "text/x-python",
   "name": "python",
   "nbconvert_exporter": "python",
   "pygments_lexer": "ipython3",
   "version": "3.8.8"
  }
 },
 "nbformat": 4,
 "nbformat_minor": 5
}
