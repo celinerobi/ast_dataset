{
 "cells": [
  {
   "cell_type": "code",
   "execution_count": null,
   "id": "9b5e1fab-0c21-4c81-83b7-d06f68c84a4b",
   "metadata": {},
   "outputs": [],
   "source": [
    "# Standard packages\n",
    "import tempfile\n",
    "import warnings\n",
    "import urllib\n",
    "import shutil\n",
    "import os\n",
    "# Less standard, but still pip- or conda-installable\n",
    "import pandas as pd\n",
    "import numpy as np\n",
    "import matplotlib.pyplot as plt\n",
    "import matplotlib\n",
    "import rasterio\n",
    "import re\n",
    "import rtree\n",
    "import shapely\n",
    "import pickle\n",
    "import data_eng.az_proc as ap"
   ]
  },
  {
   "cell_type": "code",
   "execution_count": 2,
   "id": "10730089-5376-41ce-83c5-2974c43d24e3",
   "metadata": {},
   "outputs": [
    {
     "name": "stdout",
     "output_type": "stream",
     "text": [
      "PIL 8.2.0\n"
     ]
    }
   ],
   "source": [
    "import PIL\n",
    "print('PIL',PIL.__version__)\n",
    "from PIL import Image\n",
    "Image.MAX_IMAGE_PIXELS = None"
   ]
  },
  {
   "cell_type": "code",
   "execution_count": 24,
   "id": "92741afb-3111-457b-96a4-6ea135dcb0b3",
   "metadata": {},
   "outputs": [
    {
     "data": {
      "text/plain": [
       "(1053, 2)"
      ]
     },
     "execution_count": 24,
     "metadata": {},
     "output_type": "execute_result"
    }
   ],
   "source": [
    "#row_to_remove = 44\n",
    "#error_downloading = np.concatenate((np.load('tile_name_tile_url_error_downloading.npy'),\n",
    "#                                    dist.tile_name_tile_url_tiles_for_annotators[row_to_remove]))\n",
    "#np.save('tile_name_tile_url_error_downloading.npy', error_downloading)\n",
    "\n",
    "#Remove the rows with errors\n",
    "#np.load('tile_name_tile_url_remaining_expanded.npy').shape\n",
    "#np.save('tile_name_tile_url_remaining_expanded',np.delete(np.load(tiles_remaining), row_to_remove, axis = 0))\n",
    "#np.load('tile_name_tile_url_remaining_expanded.npy').shape\n",
    "\n",
    "#recover the unlabeled images from the dist\n",
    "## np.save('tile_name_tile_url_remaining_expanded',dist.tile_name_tile_url_unlabeled)\n",
    "#dist.tile_name_tile_url_tiles_for_annotators"
   ]
  },
  {
   "cell_type": "code",
   "execution_count": 29,
   "id": "54d132f2-2a27-4bb2-b1dc-63eee48bbda0",
   "metadata": {},
   "outputs": [],
   "source": [
    "parent_directory = \"C:\\chip_allocation_temp\"\n",
    "annotation_directory = \"Errors\"\n",
    "number_of_tiles = 1000\n",
    "tiles_remaining = \"tile_name_tile_url_remaining_expanded.npy\"\n",
    "tiles_labeled = \"tile_name_tile_url_labeled.npy\""
   ]
  },
  {
   "cell_type": "code",
   "execution_count": 30,
   "id": "a3760737-15b0-4a18-8a6d-44441fc4092f",
   "metadata": {},
   "outputs": [
    {
     "name": "stdout",
     "output_type": "stream",
     "text": [
      "Unlabeled Tiles (1053, 2)\n"
     ]
    }
   ],
   "source": [
    "dist = ap.annotator(annotation_directory) #create the processing class\n",
    "dist.state_dcc_directory(parent_directory)\n",
    "dist.number_of_tiles(number_of_tiles)\n",
    "dist.get_tile_urls(tiles_remaining)\n",
    "dist.make_subdirectories()"
   ]
  },
  {
   "cell_type": "code",
   "execution_count": 31,
   "id": "27daf4d2-9f98-43f1-9dc5-152e3cfc4027",
   "metadata": {},
   "outputs": [
    {
     "name": "stdout",
     "output_type": "stream",
     "text": [
      "0\n",
      "Bypassing download of already-downloaded file m_4810262_nw_13_060_20180815.tif\n",
      "1\n",
      "Bypassing download of already-downloaded file m_3510122_nw_14_060_20180917.tif\n",
      "2\n",
      "Bypassing download of already-downloaded file m_3110227_se_13_060_20180924_20190504.tif\n",
      "3\n",
      "Bypassing download of already-downloaded file m_4208445_se_16_060_20180707_20190315.tif\n",
      "4\n",
      "Bypassing download of already-downloaded file m_3808209_se_17_060_20181019.tif\n",
      "5\n",
      "Bypassing download of already-downloaded file m_3808543_ne_16_060_20180904_20190202.tif\n",
      "6\n",
      "Bypassing download of already-downloaded file m_3808460_se_16_060_20181023.tif\n",
      "7\n",
      "Bypassing download of already-downloaded file m_3908614_nw_16_060_20180812_20190221.tif\n",
      "8\n",
      "Bypassing download of already-downloaded file m_3008905_ne_16_060_20181103_20190207.tif\n",
      "9\n",
      "Bypassing download of already-downloaded file m_2709847_se_14_060_20181209_20190517.tif\n",
      "10\n",
      "Bypassing download of already-downloaded file m_2809837_nw_14_060_20180517_20190518.tif\n",
      "11\n",
      "Bypassing download of already-downloaded file m_3808135_se_17_060_20180709.tif\n",
      "12\n",
      "Bypassing download of already-downloaded file m_3409857_sw_14_060_20181028.tif\n",
      "13\n",
      "Bypassing download of already-downloaded file m_4110051_sw_14_060_20180913_20181210.tif\n",
      "14\n",
      "Bypassing download of already-downloaded file m_3411761_nw_11_060_20180822_20190209.tif\n",
      "15\n",
      "Bypassing download of already-downloaded file m_3808745_ne_16_060_20180804_20190221.tif\n",
      "16\n",
      "Bypassing download of already-downloaded file m_3807610_sw_18_060_20181019.tif\n",
      "17\n",
      "Bypassing download of already-downloaded file m_4308462_se_16_060_20180706_20181211.tif\n",
      "18\n",
      "Bypassing download of already-downloaded file m_3908459_ne_16_060_20180630.tif\n",
      "19\n",
      "Bypassing download of already-downloaded file m_3809023_ne_15_060_20181020_20190206.tif\n",
      "20\n",
      "Bypassing download of already-downloaded file m_3309845_ne_14_060_20181027.tif\n",
      "21\n",
      "Bypassing download of already-downloaded file m_3907644_se_18_060_20180828.tif\n",
      "22\n",
      "Bypassing download of already-downloaded file m_4109541_ne_15_060_20180911_20181210.tif\n",
      "23\n",
      "Bypassing download of already-downloaded file m_3209610_nw_14_060_20181120_20190301.tif\n",
      "24\n",
      "Bypassing download of already-downloaded file m_3908558_sw_16_060_20180713_20190221.tif\n",
      "25\n",
      "Bypassing download of already-downloaded file m_4110249_se_13_060_20180915_20181210.tif\n",
      "26\n",
      "Bypassing download of already-downloaded file m_3110103_sw_14_060_20181113_20190504.tif\n",
      "27\n",
      "Bypassing download of already-downloaded file m_3912024_se_10_060_20180917_20190210.tif\n",
      "28\n",
      "Bypassing download of already-downloaded file m_4307058_ne_19_060_20180806_20190325.tif\n",
      "29\n",
      "Bypassing download of already-downloaded file m_4012415_sw_10_060_20180920_20190210.tif\n",
      "30\n",
      "Bypassing download of already-downloaded file m_3008836_se_16_060_20181204_20190207.tif\n",
      "31\n",
      "Bypassing download of already-downloaded file m_3808745_se_16_060_20180804_20190221.tif\n",
      "32\n",
      "Bypassing download of already-downloaded file m_3209546_ne_15_060_20181120_20190222.tif\n",
      "33\n",
      "Bypassing download of already-downloaded file m_3110308_se_13_060_20181026_20190504.tif\n",
      "34\n",
      "Bypassing download of already-downloaded file m_3509063_ne_15_060_20180803.tif\n",
      "35\n",
      "Bypassing download of already-downloaded file m_4107204_se_18_060_20180816.tif\n",
      "36\n",
      "Bypassing download of already-downloaded file m_3511939_se_11_060_20180713_20190209.tif\n",
      "37\n",
      "Bypassing download of already-downloaded file m_4107219_se_18_060_20180930.tif\n",
      "38\n",
      "Bypassing download of already-downloaded file m_4108729_ne_16_060_20180707_20190221.tif\n",
      "39\n",
      "Bypassing download of already-downloaded file m_3110237_se_13_060_20180924_20190504.tif\n",
      "40\n",
      "Bypassing download of already-downloaded file m_3210202_nw_13_060_20181010.tif\n",
      "41\n",
      "Bypassing download of already-downloaded file m_3511946_se_11_060_20180713_20190208.tif\n",
      "42\n",
      "Bypassing download of already-downloaded file m_4108540_nw_16_060_20180708_20190221.tif\n",
      "43\n",
      "Bypassing download of already-downloaded file m_4107113_ne_19_060_20180930.tif\n",
      "44\n",
      "Bypassing download of already-downloaded file m_3209531_ne_15_060_20181120_20190222.tif\n",
      "45\n",
      "Bypassing download of already-downloaded file m_4408561_ne_16_060_20180912_20181211.tif\n",
      "46\n",
      "Bypassing download of already-downloaded file m_4208411_se_16_060_20180706_20190315.tif\n",
      "47\n",
      "Bypassing download of already-downloaded file m_3907652_nw_18_060_20181121.tif\n",
      "48\n",
      "Bypassing download of already-downloaded file m_3311824_ne_11_060_20180723_20190209.tif\n",
      "49\n",
      "Bypassing download of already-downloaded file m_4408431_se_16_060_20180823_20181211.tif\n",
      "50\n"
     ]
    },
    {
     "name": "stderr",
     "output_type": "stream",
     "text": [
      "100% (570488568 of 570488568) |##########| Elapsed Time: 0:00:28 Time:  0:00:28\n"
     ]
    },
    {
     "name": "stdout",
     "output_type": "stream",
     "text": [
      "...done, 570488568 bytes.\n",
      "51\n"
     ]
    },
    {
     "name": "stderr",
     "output_type": "stream",
     "text": [
      "100% (491515983 of 491515983) |##########| Elapsed Time: 0:00:59 Time:  0:00:59\n"
     ]
    },
    {
     "name": "stdout",
     "output_type": "stream",
     "text": [
      "...done, 491515983 bytes.\n",
      "52\n"
     ]
    },
    {
     "name": "stderr",
     "output_type": "stream",
     "text": [
      "100% (483109227 of 483109227) |##########| Elapsed Time: 0:00:48 Time:  0:00:48\n"
     ]
    },
    {
     "name": "stdout",
     "output_type": "stream",
     "text": [
      "...done, 483109227 bytes.\n",
      "53\n"
     ]
    },
    {
     "name": "stderr",
     "output_type": "stream",
     "text": [
      " 25% (102604800 of 398761668) |##        | Elapsed Time: 0:00:05 ETA:   0:00:23"
     ]
    },
    {
     "ename": "OSError",
     "evalue": "[Errno 28] No space left on device",
     "output_type": "error",
     "traceback": [
      "\u001b[1;31m---------------------------------------------------------------------------\u001b[0m",
      "\u001b[1;31mOSError\u001b[0m                                   Traceback (most recent call last)",
      "\u001b[1;32m~\\Anaconda3\\lib\\urllib\\request.py\u001b[0m in \u001b[0;36murlretrieve\u001b[1;34m(url, filename, reporthook, data)\u001b[0m\n\u001b[0;32m    279\u001b[0m                 \u001b[0mread\u001b[0m \u001b[1;33m+=\u001b[0m \u001b[0mlen\u001b[0m\u001b[1;33m(\u001b[0m\u001b[0mblock\u001b[0m\u001b[1;33m)\u001b[0m\u001b[1;33m\u001b[0m\u001b[1;33m\u001b[0m\u001b[0m\n\u001b[1;32m--> 280\u001b[1;33m                 \u001b[0mtfp\u001b[0m\u001b[1;33m.\u001b[0m\u001b[0mwrite\u001b[0m\u001b[1;33m(\u001b[0m\u001b[0mblock\u001b[0m\u001b[1;33m)\u001b[0m\u001b[1;33m\u001b[0m\u001b[1;33m\u001b[0m\u001b[0m\n\u001b[0m\u001b[0;32m    281\u001b[0m                 \u001b[0mblocknum\u001b[0m \u001b[1;33m+=\u001b[0m \u001b[1;36m1\u001b[0m\u001b[1;33m\u001b[0m\u001b[1;33m\u001b[0m\u001b[0m\n",
      "\u001b[1;31mOSError\u001b[0m: [Errno 28] No space left on device",
      "\nDuring handling of the above exception, another exception occurred:\n",
      "\u001b[1;31mOSError\u001b[0m                                   Traceback (most recent call last)",
      "\u001b[1;32m<ipython-input-31-1da2a8944578>\u001b[0m in \u001b[0;36m<module>\u001b[1;34m\u001b[0m\n\u001b[1;32m----> 1\u001b[1;33m \u001b[0mdist\u001b[0m\u001b[1;33m.\u001b[0m\u001b[0mdownload_images\u001b[0m\u001b[1;33m(\u001b[0m\u001b[1;33m)\u001b[0m\u001b[1;33m\u001b[0m\u001b[1;33m\u001b[0m\u001b[0m\n\u001b[0m\u001b[0;32m      2\u001b[0m \u001b[0mdist\u001b[0m\u001b[1;33m.\u001b[0m\u001b[0mtile_rename\u001b[0m\u001b[1;33m(\u001b[0m\u001b[1;33m)\u001b[0m\u001b[1;33m\u001b[0m\u001b[1;33m\u001b[0m\u001b[0m\n",
      "\u001b[1;32m~\\cred\\AST_dataset\\data_download_and_preprocessing\\data_eng\\az_proc.py\u001b[0m in \u001b[0;36mdownload_images\u001b[1;34m(self)\u001b[0m\n\u001b[0;32m    425\u001b[0m         \u001b[1;32mfor\u001b[0m \u001b[0mi\u001b[0m \u001b[1;32min\u001b[0m \u001b[0mrange\u001b[0m\u001b[1;33m(\u001b[0m\u001b[0mself\u001b[0m\u001b[1;33m.\u001b[0m\u001b[0mnum_tiles\u001b[0m\u001b[1;33m)\u001b[0m\u001b[1;33m:\u001b[0m\u001b[1;33m\u001b[0m\u001b[1;33m\u001b[0m\u001b[0m\n\u001b[0;32m    426\u001b[0m             \u001b[0mprint\u001b[0m\u001b[1;33m(\u001b[0m\u001b[0mi\u001b[0m\u001b[1;33m)\u001b[0m\u001b[1;33m\u001b[0m\u001b[1;33m\u001b[0m\u001b[0m\n\u001b[1;32m--> 427\u001b[1;33m             destination_of_filenames.append(download_url(self.tile_url[i], self.tiles_dir,\n\u001b[0m\u001b[0;32m    428\u001b[0m                                                          progress_updater=DownloadProgressBar()))\n\u001b[0;32m    429\u001b[0m         \u001b[1;32mreturn\u001b[0m \u001b[0mdestination_of_filenames\u001b[0m\u001b[1;33m\u001b[0m\u001b[1;33m\u001b[0m\u001b[0m\n",
      "\u001b[1;32m~\\cred\\AST_dataset\\data_download_and_preprocessing\\data_eng\\az_proc.py\u001b[0m in \u001b[0;36mdownload_url\u001b[1;34m(url, destination_folder, destination_filename, progress_updater, force_download)\u001b[0m\n\u001b[0;32m    176\u001b[0m         \u001b[1;32mreturn\u001b[0m \u001b[0mdestination_filename\u001b[0m\u001b[1;33m\u001b[0m\u001b[1;33m\u001b[0m\u001b[0m\n\u001b[0;32m    177\u001b[0m   \u001b[1;31m#  print('Downloading file {} to {}'.format(os.path.basename(url),destination_filename),end='')\u001b[0m\u001b[1;33m\u001b[0m\u001b[1;33m\u001b[0m\u001b[1;33m\u001b[0m\u001b[0m\n\u001b[1;32m--> 178\u001b[1;33m     \u001b[0murllib\u001b[0m\u001b[1;33m.\u001b[0m\u001b[0mrequest\u001b[0m\u001b[1;33m.\u001b[0m\u001b[0murlretrieve\u001b[0m\u001b[1;33m(\u001b[0m\u001b[0murl\u001b[0m\u001b[1;33m,\u001b[0m \u001b[0mdestination_filename\u001b[0m\u001b[1;33m,\u001b[0m \u001b[0mprogress_updater\u001b[0m\u001b[1;33m)\u001b[0m\u001b[1;33m\u001b[0m\u001b[1;33m\u001b[0m\u001b[0m\n\u001b[0m\u001b[0;32m    179\u001b[0m     \u001b[1;32massert\u001b[0m\u001b[1;33m(\u001b[0m\u001b[0mos\u001b[0m\u001b[1;33m.\u001b[0m\u001b[0mpath\u001b[0m\u001b[1;33m.\u001b[0m\u001b[0misfile\u001b[0m\u001b[1;33m(\u001b[0m\u001b[0mdestination_filename\u001b[0m\u001b[1;33m)\u001b[0m\u001b[1;33m)\u001b[0m\u001b[1;33m\u001b[0m\u001b[1;33m\u001b[0m\u001b[0m\n\u001b[0;32m    180\u001b[0m     \u001b[0mnBytes\u001b[0m \u001b[1;33m=\u001b[0m \u001b[0mos\u001b[0m\u001b[1;33m.\u001b[0m\u001b[0mpath\u001b[0m\u001b[1;33m.\u001b[0m\u001b[0mgetsize\u001b[0m\u001b[1;33m(\u001b[0m\u001b[0mdestination_filename\u001b[0m\u001b[1;33m)\u001b[0m\u001b[1;33m\u001b[0m\u001b[1;33m\u001b[0m\u001b[0m\n",
      "\u001b[1;32m~\\Anaconda3\\lib\\urllib\\request.py\u001b[0m in \u001b[0;36murlretrieve\u001b[1;34m(url, filename, reporthook, data)\u001b[0m\n\u001b[0;32m    281\u001b[0m                 \u001b[0mblocknum\u001b[0m \u001b[1;33m+=\u001b[0m \u001b[1;36m1\u001b[0m\u001b[1;33m\u001b[0m\u001b[1;33m\u001b[0m\u001b[0m\n\u001b[0;32m    282\u001b[0m                 \u001b[1;32mif\u001b[0m \u001b[0mreporthook\u001b[0m\u001b[1;33m:\u001b[0m\u001b[1;33m\u001b[0m\u001b[1;33m\u001b[0m\u001b[0m\n\u001b[1;32m--> 283\u001b[1;33m                     \u001b[0mreporthook\u001b[0m\u001b[1;33m(\u001b[0m\u001b[0mblocknum\u001b[0m\u001b[1;33m,\u001b[0m \u001b[0mbs\u001b[0m\u001b[1;33m,\u001b[0m \u001b[0msize\u001b[0m\u001b[1;33m)\u001b[0m\u001b[1;33m\u001b[0m\u001b[1;33m\u001b[0m\u001b[0m\n\u001b[0m\u001b[0;32m    284\u001b[0m \u001b[1;33m\u001b[0m\u001b[0m\n\u001b[0;32m    285\u001b[0m     \u001b[1;32mif\u001b[0m \u001b[0msize\u001b[0m \u001b[1;33m>=\u001b[0m \u001b[1;36m0\u001b[0m \u001b[1;32mand\u001b[0m \u001b[0mread\u001b[0m \u001b[1;33m<\u001b[0m \u001b[0msize\u001b[0m\u001b[1;33m:\u001b[0m\u001b[1;33m\u001b[0m\u001b[1;33m\u001b[0m\u001b[0m\n",
      "\u001b[1;31mOSError\u001b[0m: [Errno 28] No space left on device"
     ]
    }
   ],
   "source": [
    "dist.download_images()\n",
    "dist.tile_rename()"
   ]
  },
  {
   "cell_type": "code",
   "execution_count": null,
   "id": "b72b6463-99e6-48ea-8ac9-00c5ded14d4e",
   "metadata": {},
   "outputs": [],
   "source": [
    "#dist.chip_tiles()"
   ]
  },
  {
   "cell_type": "code",
   "execution_count": 20,
   "id": "e6d8df62-0925-4f7a-b847-4b2d09550737",
   "metadata": {},
   "outputs": [],
   "source": [
    "#dist.track_tile_annotations(tiles_labeled)\n",
    "#np.save('tile_name_tile_url_remaining_expanded', dist.tile_name_tile_url_remaining)\n",
    "#np.save('tile_name_tile_url_labeled', dist.tile_name_tile_url_labeled)"
   ]
  }
 ],
 "metadata": {
  "kernelspec": {
   "display_name": "Python (myenv)",
   "language": "python",
   "name": "myenv"
  },
  "language_info": {
   "codemirror_mode": {
    "name": "ipython",
    "version": 3
   },
   "file_extension": ".py",
   "mimetype": "text/x-python",
   "name": "python",
   "nbconvert_exporter": "python",
   "pygments_lexer": "ipython3",
   "version": "3.8.8"
  }
 },
 "nbformat": 4,
 "nbformat_minor": 5
}
