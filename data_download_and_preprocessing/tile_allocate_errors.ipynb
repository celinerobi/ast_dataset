{
 "cells": [
  {
   "cell_type": "code",
   "execution_count": 1,
   "id": "9b5e1fab-0c21-4c81-83b7-d06f68c84a4b",
   "metadata": {},
   "outputs": [],
   "source": [
    "# Standard packages\n",
    "import tempfile\n",
    "import warnings\n",
    "import urllib\n",
    "import shutil\n",
    "import os\n",
    "# Less standard, but still pip- or conda-installable\n",
    "import pandas as pd\n",
    "import numpy as np\n",
    "import matplotlib.pyplot as plt\n",
    "import matplotlib\n",
    "import rasterio\n",
    "import re\n",
    "import rtree\n",
    "import shapely\n",
    "import pickle\n",
    "import data_eng.az_proc as ap"
   ]
  },
  {
   "cell_type": "code",
   "execution_count": 2,
   "id": "10730089-5376-41ce-83c5-2974c43d24e3",
   "metadata": {},
   "outputs": [
    {
     "name": "stdout",
     "output_type": "stream",
     "text": [
      "PIL 8.2.0\n"
     ]
    }
   ],
   "source": [
    "import PIL\n",
    "print('PIL',PIL.__version__)\n",
    "from PIL import Image\n",
    "Image.MAX_IMAGE_PIXELS = None"
   ]
  },
  {
   "cell_type": "code",
   "execution_count": 14,
   "id": "54d132f2-2a27-4bb2-b1dc-63eee48bbda0",
   "metadata": {},
   "outputs": [],
   "source": [
    "parent_directory = \"C:\\chip_allocation_temp\"\n",
    "annotation_directory = \"Sunny\"\n",
    "number_of_tiles = 20\n",
    "tiles_remaining = \"tile_name_tile_url_remaining_expanded.npy\"\n",
    "tiles_labeled = \"tile_name_tile_url_labeled.npy\""
   ]
  },
  {
   "cell_type": "code",
   "execution_count": 24,
   "id": "a3760737-15b0-4a18-8a6d-44441fc4092f",
   "metadata": {},
   "outputs": [
    {
     "name": "stdout",
     "output_type": "stream",
     "text": [
      "Unlabeled Tiles (1106, 2)\n"
     ]
    }
   ],
   "source": [
    "dist = ap.annotator(annotation_directory) #create the processing class\n",
    "dist.state_dcc_directory(parent_directory)\n",
    "dist.number_of_tiles(number_of_tiles)\n",
    "dist.get_tile_urls(tiles_remaining)\n",
    "dist.make_subdirectories()"
   ]
  },
  {
   "cell_type": "code",
   "execution_count": 22,
   "id": "27f188d8-fbb7-439f-a922-12b99f0c000c",
   "metadata": {},
   "outputs": [],
   "source": [
    "row_to_remove = 8\n",
    "error_downloading = np.concatenate((np.load('tile_name_tile_url_error_downloading.npy'), dist.tile_name_tile_url_tiles_for_annotators[row_to_remove]))\n",
    "np.save('tile_name_tile_url_error_downloading.npy', error_downloading)"
   ]
  },
  {
   "cell_type": "code",
   "execution_count": 23,
   "id": "92741afb-3111-457b-96a4-6ea135dcb0b3",
   "metadata": {},
   "outputs": [
    {
     "data": {
      "text/plain": [
       "(1106, 2)"
      ]
     },
     "execution_count": 23,
     "metadata": {},
     "output_type": "execute_result"
    }
   ],
   "source": [
    "# Remove the rows with errors\n",
    "np.load('tile_name_tile_url_remaining_expanded.npy').shape\n",
    "np.save('tile_name_tile_url_remaining_expanded',np.delete(np.load(tiles_remaining), row_to_remove, axis = 0))\n",
    "np.load('tile_name_tile_url_remaining_expanded.npy').shape\n",
    "\n",
    "#recover the unlabeled images from the dist\n",
    "## np.save('tile_name_tile_url_remaining_expanded',dist.tile_name_tile_url_unlabeled)\n",
    "#dist.tile_name_tile_url_tiles_for_annotators"
   ]
  },
  {
   "cell_type": "code",
   "execution_count": 25,
   "id": "27daf4d2-9f98-43f1-9dc5-152e3cfc4027",
   "metadata": {},
   "outputs": [
    {
     "name": "stdout",
     "output_type": "stream",
     "text": [
      "Bypassing download of already-downloaded file m_3309805_se_14_060_20181027.tif\n",
      "Bypassing download of already-downloaded file m_3010201_nw_13_060_20181029_20190503.tif\n",
      "Bypassing download of already-downloaded file m_3210254_sw_13_060_20181026.tif\n",
      "Bypassing download of already-downloaded file m_3209426_sw_15_060_20181120_20190222.tif\n",
      "Bypassing download of already-downloaded file m_3508408_ne_16_060_20181024.tif\n",
      "Bypassing download of already-downloaded file m_3110615_sw_13_060_20190126_20190504.tif\n",
      "Bypassing download of already-downloaded file m_3009531_nw_15_060_20181126_20190503.tif\n",
      "Bypassing download of already-downloaded file m_4109752_se_14_060_20180709_20181210.tif\n"
     ]
    },
    {
     "name": "stderr",
     "output_type": "stream",
     "text": [
      "100% (511992171 of 511992171) |##########| Elapsed Time: 0:00:16 Time:  0:00:16\n"
     ]
    },
    {
     "name": "stdout",
     "output_type": "stream",
     "text": [
      "...done, 511992171 bytes.\n"
     ]
    },
    {
     "name": "stderr",
     "output_type": "stream",
     "text": [
      "100% (557620388 of 557620388) |##########| Elapsed Time: 0:00:14 Time:  0:00:14\n"
     ]
    },
    {
     "name": "stdout",
     "output_type": "stream",
     "text": [
      "...done, 557620388 bytes.\n"
     ]
    },
    {
     "name": "stderr",
     "output_type": "stream",
     "text": [
      "100% (526844841 of 526844841) |##########| Elapsed Time: 0:00:13 Time:  0:00:13\n"
     ]
    },
    {
     "name": "stdout",
     "output_type": "stream",
     "text": [
      "...done, 526844841 bytes.\n"
     ]
    },
    {
     "name": "stderr",
     "output_type": "stream",
     "text": [
      "100% (555397993 of 555397993) |##########| Elapsed Time: 0:00:15 Time:  0:00:15\n"
     ]
    },
    {
     "name": "stdout",
     "output_type": "stream",
     "text": [
      "...done, 555397993 bytes.\n"
     ]
    },
    {
     "name": "stderr",
     "output_type": "stream",
     "text": [
      "100% (577398177 of 577398177) |##########| Elapsed Time: 0:00:22 Time:  0:00:22\n"
     ]
    },
    {
     "name": "stdout",
     "output_type": "stream",
     "text": [
      "...done, 577398177 bytes.\n"
     ]
    },
    {
     "name": "stderr",
     "output_type": "stream",
     "text": [
      "100% (483735560 of 483735560) |##########| Elapsed Time: 0:00:14 Time:  0:00:14\n",
      "N/A% (0 of 394657141) |                  | Elapsed Time: 0:00:00 ETA:  --:--:--"
     ]
    },
    {
     "name": "stdout",
     "output_type": "stream",
     "text": [
      "...done, 483735560 bytes.\n"
     ]
    },
    {
     "name": "stderr",
     "output_type": "stream",
     "text": [
      "100% (394657141 of 394657141) |##########| Elapsed Time: 0:00:11 Time:  0:00:11\n",
      "N/A% (0 of 573137339) |                  | Elapsed Time: 0:00:00 ETA:  --:--:--"
     ]
    },
    {
     "name": "stdout",
     "output_type": "stream",
     "text": [
      "...done, 394657141 bytes.\n"
     ]
    },
    {
     "name": "stderr",
     "output_type": "stream",
     "text": [
      "100% (573137339 of 573137339) |##########| Elapsed Time: 0:00:21 Time:  0:00:21\n"
     ]
    },
    {
     "name": "stdout",
     "output_type": "stream",
     "text": [
      "...done, 573137339 bytes.\n"
     ]
    },
    {
     "name": "stderr",
     "output_type": "stream",
     "text": [
      "100% (356984836 of 356984836) |##########| Elapsed Time: 0:00:06 Time:  0:00:06\n"
     ]
    },
    {
     "name": "stdout",
     "output_type": "stream",
     "text": [
      "...done, 356984836 bytes.\n"
     ]
    },
    {
     "name": "stderr",
     "output_type": "stream",
     "text": [
      "100% (455449831 of 455449831) |##########| Elapsed Time: 0:00:12 Time:  0:00:12\n"
     ]
    },
    {
     "name": "stdout",
     "output_type": "stream",
     "text": [
      "...done, 455449831 bytes.\n"
     ]
    },
    {
     "name": "stderr",
     "output_type": "stream",
     "text": [
      "100% (573955570 of 573955570) |##########| Elapsed Time: 0:00:16 Time:  0:00:16\n"
     ]
    },
    {
     "name": "stdout",
     "output_type": "stream",
     "text": [
      "...done, 573955570 bytes.\n"
     ]
    },
    {
     "name": "stderr",
     "output_type": "stream",
     "text": [
      "100% (447335902 of 447335902) |##########| Elapsed Time: 0:00:14 Time:  0:00:14\n"
     ]
    },
    {
     "name": "stdout",
     "output_type": "stream",
     "text": [
      "...done, 447335902 bytes.\n",
      "['https_naipblobs.blob.core.windows.net_naip_v002_ca_2018_ca_060cm_2018_34117_m_3411730_nw_11_060_20180805_20190209.tif', 'https_naipblobs.blob.core.windows.net_naip_v002_ca_2018_ca_060cm_2018_34119_m_3411956_nw_11_060_20180724_20190209.tif', 'https_naipblobs.blob.core.windows.net_naip_v002_ca_2018_ca_060cm_2018_35119_m_3511935_se_11_060_20180714_20190208.tif', 'https_naipblobs.blob.core.windows.net_naip_v002_ca_2018_ca_060cm_2018_38121_m_3812130_nw_10_060_20180714_20190210.tif', 'https_naipblobs.blob.core.windows.net_naip_v002_in_2018_in_060cm_2018_40086_m_4008661_sw_16_060_20180903_20181211.tif', 'https_naipblobs.blob.core.windows.net_naip_v002_in_2018_in_060cm_2018_41087_m_4108720_se_16_060_20180707_20190221.tif', 'https_naipblobs.blob.core.windows.net_naip_v002_ma_2018_ma_060cm_2018_42070_m_4207041_sw_19_060_20181107.tif', 'https_naipblobs.blob.core.windows.net_naip_v002_mi_2018_mi_060cm_2018_42084_m_4208445_ne_16_060_20180707_20181211.tif', 'https_naipblobs.blob.core.windows.net_naip_v002_mo_2018_mo_060cm_2018_38090_m_3809023_se_15_060_20181020_20190206.tif', 'https_naipblobs.blob.core.windows.net_naip_v002_ne_2018_ne_060cm_2018_41097_m_4109752_se_14_060_20180709_20181210.tif', 'https_naipblobs.blob.core.windows.net_naip_v002_sd_2018_sd_060cm_2018_44098_m_4409837_sw_14_060_20180907_20181213.tif', 'https_naipblobs.blob.core.windows.net_naip_v002_tn_2018_tn_060cm_2018_35084_m_3508408_ne_16_060_20181024.tif', 'https_naipblobs.blob.core.windows.net_naip_v002_tx_2018_tx_060cm_2018_30095_m_3009531_nw_15_060_20181126_20190503.tif', 'https_naipblobs.blob.core.windows.net_naip_v002_tx_2018_tx_060cm_2018_30102_m_3010201_nw_13_060_20181029_20190503.tif', 'https_naipblobs.blob.core.windows.net_naip_v002_tx_2018_tx_060cm_2018_31102_m_3110244_ne_13_060_20180924_20190504.tif', 'https_naipblobs.blob.core.windows.net_naip_v002_tx_2018_tx_060cm_2018_31106_m_3110615_sw_13_060_20190126_20190504.tif', 'https_naipblobs.blob.core.windows.net_naip_v002_tx_2018_tx_060cm_2018_32094_m_3209426_sw_15_060_20181120_20190222.tif', 'https_naipblobs.blob.core.windows.net_naip_v002_tx_2018_tx_060cm_2018_32102_m_3210254_sw_13_060_20181026.tif', 'https_naipblobs.blob.core.windows.net_naip_v002_tx_2018_tx_060cm_2018_33098_m_3309805_se_14_060_20181027.tif', 'https_naipblobs.blob.core.windows.net_naip_v002_ut_2018_ut_060cm_2018_40109_m_4010961_se_12_060_20180913.tif', 'mt_60cm_2019_47104_m_4710432_ne_13_060_20190725.tif', 'mt_60cm_2019_47104_m_4710458_ne_13_060_20190713.tif', 'mt_60cm_2019_47104_m_4710459_nw_13_060_20190713.tif', 'mt_60cm_2019_47111_m_4711130_se_12_060_20190727.tif', 'mt_60cm_2019_47111_m_4711131_sw_12_060_20190727.tif', 'nd_60cm_2019_46102_m_4610209_ne_13_060_20190729.tif', 'nd_60cm_2019_46103_m_4610306_se_13_060_20190814.tif', 'nd_60cm_2019_46103_m_4610315_nw_13_060_20190814.tif', 'nd_60cm_2019_47104_m_4710432_ne_13_060_20190725.tif', 'wa_60cm_2019_47117_m_4711720_se_11_060_20190726.tif', 'wa_60cm_2019_47117_m_4711722_nw_11_060_20190726.tif', 'wa_60cm_2019_47117_m_4711722_sw_11_060_20190726.tif', 'wa_60cm_2019_47119_m_4711954_ne_11_060_20190730.tif', 'wa_60cm_2019_47119_m_4711954_se_11_060_20190730.tif', 'wa_60cm_2019_47119_m_4711954_sw_11_060_20190730.tif', 'wa_60cm_2019_47122_m_4712230_nw_10_060_20191011.tif', 'wa_60cm_2019_47122_m_4712230_se_10_060_20191011.tif', 'wa_60cm_2019_47122_m_4712230_sw_10_060_20191011.tif', 'wa_60cm_2019_47122_m_4712238_se_10_060_20191011.tif']\n"
     ]
    },
    {
     "ename": "IndexError",
     "evalue": "list index out of range",
     "output_type": "error",
     "traceback": [
      "\u001b[1;31m---------------------------------------------------------------------------\u001b[0m",
      "\u001b[1;31mIndexError\u001b[0m                                Traceback (most recent call last)",
      "\u001b[1;32m<ipython-input-25-1da2a8944578>\u001b[0m in \u001b[0;36m<module>\u001b[1;34m\u001b[0m\n\u001b[0;32m      1\u001b[0m \u001b[0mdist\u001b[0m\u001b[1;33m.\u001b[0m\u001b[0mdownload_images\u001b[0m\u001b[1;33m(\u001b[0m\u001b[1;33m)\u001b[0m\u001b[1;33m\u001b[0m\u001b[1;33m\u001b[0m\u001b[0m\n\u001b[1;32m----> 2\u001b[1;33m \u001b[0mdist\u001b[0m\u001b[1;33m.\u001b[0m\u001b[0mtile_rename\u001b[0m\u001b[1;33m(\u001b[0m\u001b[1;33m)\u001b[0m\u001b[1;33m\u001b[0m\u001b[1;33m\u001b[0m\u001b[0m\n\u001b[0m",
      "\u001b[1;32m~\\cred\\AST_dataset\\data_download_and_preprocessing\\data_eng\\az_proc.py\u001b[0m in \u001b[0;36mtile_rename\u001b[1;34m(self)\u001b[0m\n\u001b[0;32m    439\u001b[0m             \u001b[0mold_tile_path\u001b[0m \u001b[1;33m=\u001b[0m \u001b[0mos\u001b[0m\u001b[1;33m.\u001b[0m\u001b[0mpath\u001b[0m\u001b[1;33m.\u001b[0m\u001b[0mjoin\u001b[0m\u001b[1;33m(\u001b[0m\u001b[0mself\u001b[0m\u001b[1;33m.\u001b[0m\u001b[0mtiles_dir\u001b[0m\u001b[1;33m,\u001b[0m \u001b[0mtile_name\u001b[0m\u001b[1;33m)\u001b[0m\u001b[1;33m\u001b[0m\u001b[1;33m\u001b[0m\u001b[0m\n\u001b[0;32m    440\u001b[0m             new_tile_path = os.path.join(self.tiles_dir, tile_name_split[6]+'_'+tile_name_split[7]+'_'+tile_name_split[8]+'_'+tile_name_split[9]+'_'+  \\\n\u001b[1;32m--> 441\u001b[1;33m                                                     \u001b[0mtile_name_split\u001b[0m\u001b[1;33m[\u001b[0m\u001b[1;36m10\u001b[0m\u001b[1;33m]\u001b[0m\u001b[1;33m+\u001b[0m\u001b[1;34m'_'\u001b[0m\u001b[1;33m+\u001b[0m\u001b[0mtile_name_split\u001b[0m\u001b[1;33m[\u001b[0m\u001b[1;36m11\u001b[0m\u001b[1;33m]\u001b[0m\u001b[1;33m+\u001b[0m\u001b[1;34m'_'\u001b[0m\u001b[1;33m+\u001b[0m\u001b[0mtile_name_split\u001b[0m\u001b[1;33m[\u001b[0m\u001b[1;36m12\u001b[0m\u001b[1;33m]\u001b[0m\u001b[1;33m+\u001b[0m\u001b[1;34m'_'\u001b[0m\u001b[1;33m+\u001b[0m\u001b[0mtile_name_split\u001b[0m\u001b[1;33m[\u001b[0m\u001b[1;36m13\u001b[0m\u001b[1;33m]\u001b[0m\u001b[1;33m+\u001b[0m\u001b[1;34m'_'\u001b[0m\u001b[1;33m+\u001b[0m\u001b[0;31m \u001b[0m\u001b[0;31m \u001b[0m\u001b[0;31m\\\u001b[0m\u001b[1;33m\u001b[0m\u001b[1;33m\u001b[0m\u001b[0m\n\u001b[0m\u001b[0;32m    442\u001b[0m                                                     tile_name_split[14]+'_'+tile_name_split[15])\n\u001b[0;32m    443\u001b[0m \u001b[1;33m\u001b[0m\u001b[0m\n",
      "\u001b[1;31mIndexError\u001b[0m: list index out of range"
     ]
    }
   ],
   "source": [
    "dist.download_images()\n",
    "dist.tile_rename()"
   ]
  },
  {
   "cell_type": "code",
   "execution_count": null,
   "id": "b72b6463-99e6-48ea-8ac9-00c5ded14d4e",
   "metadata": {},
   "outputs": [],
   "source": [
    "dist.chip_tiles()"
   ]
  },
  {
   "cell_type": "code",
   "execution_count": 4,
   "id": "b3c6e096-389f-4e42-842c-244375c44c3e",
   "metadata": {},
   "outputs": [],
   "source": [
    "tile_names = os.listdir(dist.tiles_dir) #get a list of all of the tiles in tiles directory"
   ]
  },
  {
   "cell_type": "code",
   "execution_count": 1,
   "id": "333fb92e-faea-461c-84d9-d80dc729ee6e",
   "metadata": {},
   "outputs": [
    {
     "ename": "NameError",
     "evalue": "name 'tile_names' is not defined",
     "output_type": "error",
     "traceback": [
      "\u001b[1;31m---------------------------------------------------------------------------\u001b[0m",
      "\u001b[1;31mNameError\u001b[0m                                 Traceback (most recent call last)",
      "\u001b[1;32m<ipython-input-1-f928cc551725>\u001b[0m in \u001b[0;36m<module>\u001b[1;34m\u001b[0m\n\u001b[1;32m----> 1\u001b[1;33m \u001b[1;32mfor\u001b[0m \u001b[0mtile_name\u001b[0m \u001b[1;32min\u001b[0m \u001b[0mtile_names\u001b[0m\u001b[1;33m:\u001b[0m \u001b[1;31m#index over the tiles in the tiles_dir\u001b[0m\u001b[1;33m\u001b[0m\u001b[1;33m\u001b[0m\u001b[0m\n\u001b[0m\u001b[0;32m      2\u001b[0m \u001b[1;33m\u001b[0m\u001b[0m\n\u001b[0;32m      3\u001b[0m     \u001b[0mfile_name\u001b[0m\u001b[1;33m,\u001b[0m \u001b[0mext\u001b[0m \u001b[1;33m=\u001b[0m \u001b[0mos\u001b[0m\u001b[1;33m.\u001b[0m\u001b[0mpath\u001b[0m\u001b[1;33m.\u001b[0m\u001b[0msplitext\u001b[0m\u001b[1;33m(\u001b[0m\u001b[0mtile_name\u001b[0m\u001b[1;33m)\u001b[0m \u001b[1;31m# File name\u001b[0m\u001b[1;33m\u001b[0m\u001b[1;33m\u001b[0m\u001b[0m\n\u001b[0;32m      4\u001b[0m     \u001b[0mprint\u001b[0m\u001b[1;33m(\u001b[0m\u001b[0mtile_name\u001b[0m\u001b[1;33m)\u001b[0m\u001b[1;33m\u001b[0m\u001b[1;33m\u001b[0m\u001b[0m\n\u001b[0;32m      5\u001b[0m     \u001b[0mtile\u001b[0m \u001b[1;33m=\u001b[0m \u001b[0mImage\u001b[0m\u001b[1;33m.\u001b[0m\u001b[0mopen\u001b[0m\u001b[1;33m(\u001b[0m\u001b[0mos\u001b[0m\u001b[1;33m.\u001b[0m\u001b[0mpath\u001b[0m\u001b[1;33m.\u001b[0m\u001b[0mjoin\u001b[0m\u001b[1;33m(\u001b[0m\u001b[0mdist\u001b[0m\u001b[1;33m.\u001b[0m\u001b[0mtiles_dir\u001b[0m\u001b[1;33m,\u001b[0m \u001b[0mtile_name\u001b[0m\u001b[1;33m)\u001b[0m\u001b[1;33m)\u001b[0m \u001b[1;31m#open image\u001b[0m\u001b[1;33m\u001b[0m\u001b[1;33m\u001b[0m\u001b[0m\n",
      "\u001b[1;31mNameError\u001b[0m: name 'tile_names' is not defined"
     ]
    }
   ],
   "source": [
    "for tile_name in tile_names: #index over the tiles in the tiles_dir \n",
    "\n",
    "    file_name, ext = os.path.splitext(tile_name) # File name\n",
    "    print(tile_name)\n",
    "    tile = Image.open(os.path.join(dist.tiles_dir, tile_name)) #open image\n",
    "    tile = tile.convert('RGB') #to file issues"
   ]
  },
  {
   "cell_type": "code",
   "execution_count": null,
   "id": "d1a3c561-4358-480e-b293-a980b55592f9",
   "metadata": {},
   "outputs": [],
   "source": [
    "        \n",
    "for tile_name in tile_names: #index over the tiles in the tiles_dir \n",
    "\n",
    "    file_name, ext = os.path.splitext(tile_name) # File name\n",
    "    print(tile_name)\n",
    "\n",
    "    tile = Image.open(os.path.join(self.tiles_dir, tile_name)) #open image\n",
    "    tile = tile.convert('RGB') #to file issues\n",
    "\n",
    "    width, height = tile.size\n",
    "    item_width = int(512)\n",
    "    col = int(width/512)+1\n",
    "    row = int(height/512)+1\n",
    "    box_list = []\n",
    "\n",
    "    count = 1\n",
    "    for j in range(0,col):\n",
    "        for i in range(0,row):\n",
    "            box = (i*item_width, j*item_width, (i+1)*item_width, (j+1)*item_width)\n",
    "\n",
    "            chips_save_path = os.path.join(self.chips_dir, file_name+ '_'+ \\\n",
    "                                           str(count).zfill(6) + '.jpg') \n",
    "                # The index is a six-digit number like '000023'. \n",
    "\n",
    "            #chip = tile.crop(box)\n",
    "            #chip = chip.save(chips_save_path)\n",
    "            chip = tile.crop(box).save(chips_save_path)\n",
    "            count += 1\n",
    "    print(count)"
   ]
  },
  {
   "cell_type": "code",
   "execution_count": 20,
   "id": "e6d8df62-0925-4f7a-b847-4b2d09550737",
   "metadata": {},
   "outputs": [],
   "source": [
    "dist.track_tile_annotations(tiles_labeled)\n",
    "np.save('tile_name_tile_url_remaining_expanded', dist.tile_name_tile_url_remaining)\n",
    "np.save('tile_name_tile_url_labeled', dist.tile_name_tile_url_labeled)"
   ]
  }
 ],
 "metadata": {
  "kernelspec": {
   "display_name": "Python (myenv)",
   "language": "python",
   "name": "myenv"
  },
  "language_info": {
   "codemirror_mode": {
    "name": "ipython",
    "version": 3
   },
   "file_extension": ".py",
   "mimetype": "text/x-python",
   "name": "python",
   "nbconvert_exporter": "python",
   "pygments_lexer": "ipython3",
   "version": "3.8.8"
  }
 },
 "nbformat": 4,
 "nbformat_minor": 5
}
