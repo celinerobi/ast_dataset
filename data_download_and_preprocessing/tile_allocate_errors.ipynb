{
 "cells": [
  {
   "cell_type": "markdown",
   "id": "ccd0876d",
   "metadata": {},
   "source": [
    "Script to alter the til tracking numpy arrays if an error has occurred"
   ]
  },
  {
   "cell_type": "code",
   "execution_count": 1,
   "id": "9c5486d4",
   "metadata": {},
   "outputs": [],
   "source": [
    "# Standard packages\n",
    "import tempfile\n",
    "import warnings\n",
    "import urllib\n",
    "import shutil\n",
    "import os\n",
    "# Less standard, but still pip- or conda-installable\n",
    "import pandas as pd\n",
    "import numpy as np\n",
    "import matplotlib.pyplot as plt\n",
    "import matplotlib\n",
    "#import rasterio\n",
    "import re\n",
    "import rtree\n",
    "import shapely\n",
    "import pickle\n",
    "import data_eng.az_proc as ap\n",
    "#from cartopy import crs\n",
    "import collections"
   ]
  },
  {
   "cell_type": "code",
   "execution_count": 2,
   "id": "3ba4adf2",
   "metadata": {},
   "outputs": [
    {
     "name": "stdout",
     "output_type": "stream",
     "text": [
      "PIL 8.3.1\n"
     ]
    }
   ],
   "source": [
    "import PIL\n",
    "print('PIL',PIL.__version__)\n",
    "from PIL import Image\n",
    "Image.MAX_IMAGE_PIXELS = 999999999999"
   ]
  },
  {
   "cell_type": "markdown",
   "id": "5233b12c",
   "metadata": {},
   "source": [
    "Specify the parameters to download images"
   ]
  },
  {
   "cell_type": "code",
   "execution_count": 3,
   "id": "0a3cef30",
   "metadata": {},
   "outputs": [],
   "source": [
    "parent_directory = \"C:\\chips_allocation\"\n",
    "annotation_directory = \"Check\"\n",
    "number_of_tiles =40\n",
    "tiles_remaining = \"tile_name_tile_url_remaining_expanded.npy\"\n",
    "tiles_labeled = \"tile_name_tile_url_labeled.npy\""
   ]
  },
  {
   "cell_type": "markdown",
   "id": "108a546d",
   "metadata": {},
   "source": [
    "Load the annotator class"
   ]
  },
  {
   "cell_type": "code",
   "execution_count": 6,
   "id": "1fa44adb",
   "metadata": {},
   "outputs": [
    {
     "name": "stdout",
     "output_type": "stream",
     "text": [
      "Unlabeled Tiles (726, 2)\n",
      "0\n",
      "Bypassing download of already-downloaded file m_3511946_sw_11_060_20180713_20190208.tif\n",
      "1\n",
      "Bypassing download of already-downloaded file m_4107360_se_18_060_20180829.tif\n",
      "2\n",
      "Bypassing download of already-downloaded file m_3808460_ne_16_060_20180930.tif\n",
      "3\n",
      "Bypassing download of already-downloaded file m_3110343_ne_13_060_20180929_20190503.tif\n",
      "4\n",
      "Bypassing download of already-downloaded file m_3507953_sw_17_060_20181121_20190210.tif\n",
      "5\n",
      "Bypassing download of already-downloaded file m_3209716_nw_14_060_20181120.tif\n",
      "6\n",
      "Bypassing download of already-downloaded file m_2809754_se_14_060_20181202_20190518.tif\n",
      "7\n",
      "Bypassing download of already-downloaded file m_4710303_ne_13_060_20180902_20190301.tif\n",
      "8\n",
      "Bypassing download of already-downloaded file m_3110217_nw_13_060_20180924_20190504.tif\n",
      "9\n",
      "Bypassing download of already-downloaded file m_4408927_nw_16_060_20180910.tif\n",
      "10\n",
      "Bypassing download of already-downloaded file m_4209706_sw_14_060_20180912_20181211.tif\n",
      "11\n",
      "Bypassing download of already-downloaded file m_4011046_nw_12_060_20180909.tif\n",
      "12\n",
      "Bypassing download of already-downloaded file m_3309856_sw_14_060_20181115.tif\n",
      "13\n",
      "Bypassing download of already-downloaded file m_3909112_ne_15_060_20180927_20190206.tif\n",
      "14\n",
      "Bypassing download of already-downloaded file m_3110105_nw_14_060_20181113_20190503.tif\n",
      "15\n",
      "Bypassing download of already-downloaded file m_3508301_ne_17_060_20181019.tif\n",
      "16\n",
      "Bypassing download of already-downloaded file m_3210517_nw_13_060_20181104_20190422.tif\n",
      "17\n",
      "Bypassing download of already-downloaded file m_3909443_nw_15_060_20180923.tif\n",
      "18\n",
      "Bypassing download of already-downloaded file m_3510008_nw_14_060_20180918.tif\n",
      "19\n",
      "Bypassing download of already-downloaded file m_3510651_se_13_060_20180528_20190427.tif\n",
      "20\n",
      "Bypassing download of already-downloaded file m_3708704_sw_16_060_20180725.tif\n",
      "21\n",
      "Bypassing download of already-downloaded file m_3511917_sw_11_060_20180714_20190208.tif\n",
      "22\n",
      "Bypassing download of already-downloaded file m_4009605_nw_14_060_20180702_20181210.tif\n",
      "23\n",
      "Bypassing download of already-downloaded file m_4409708_sw_14_060_20181015_20181212.tif\n",
      "24\n",
      "Bypassing download of already-downloaded file m_4209761_ne_14_060_20180829_20181210.tif\n",
      "25\n"
     ]
    },
    {
     "name": "stderr",
     "output_type": "stream",
     "text": [
      "100% (645244462 of 645244462) |##########| Elapsed Time: 0:00:12 Time:  0:00:12\n"
     ]
    },
    {
     "name": "stdout",
     "output_type": "stream",
     "text": [
      "...done, 645244462 bytes.\n",
      "26\n"
     ]
    },
    {
     "name": "stderr",
     "output_type": "stream",
     "text": [
      "100% (612151608 of 612151608) |##########| Elapsed Time: 0:00:11 Time:  0:00:11\n"
     ]
    },
    {
     "name": "stdout",
     "output_type": "stream",
     "text": [
      "...done, 612151608 bytes.\n",
      "27\n"
     ]
    },
    {
     "name": "stderr",
     "output_type": "stream",
     "text": [
      "100% (600786320 of 600786320) |##########| Elapsed Time: 0:00:08 Time:  0:00:08\n"
     ]
    },
    {
     "name": "stdout",
     "output_type": "stream",
     "text": [
      "...done, 600786320 bytes.\n",
      "28\n"
     ]
    },
    {
     "name": "stderr",
     "output_type": "stream",
     "text": [
      "100% (533885233 of 533885233) |##########| Elapsed Time: 0:00:12 Time:  0:00:12\n"
     ]
    },
    {
     "name": "stdout",
     "output_type": "stream",
     "text": [
      "...done, 533885233 bytes.\n",
      "29\n"
     ]
    },
    {
     "name": "stderr",
     "output_type": "stream",
     "text": [
      "100% (677914840 of 677914840) |##########| Elapsed Time: 0:00:12 Time:  0:00:12\n"
     ]
    },
    {
     "name": "stdout",
     "output_type": "stream",
     "text": [
      "...done, 677914840 bytes.\n",
      "30\n"
     ]
    },
    {
     "name": "stderr",
     "output_type": "stream",
     "text": [
      "100% (462833552 of 462833552) |##########| Elapsed Time: 0:00:13 Time:  0:00:13\n"
     ]
    },
    {
     "name": "stdout",
     "output_type": "stream",
     "text": [
      "...done, 462833552 bytes.\n",
      "31\n"
     ]
    },
    {
     "name": "stderr",
     "output_type": "stream",
     "text": [
      "100% (511413028 of 511413028) |##########| Elapsed Time: 0:00:05 Time:  0:00:05\n"
     ]
    },
    {
     "name": "stdout",
     "output_type": "stream",
     "text": [
      "...done, 511413028 bytes.\n",
      "32\n"
     ]
    },
    {
     "name": "stderr",
     "output_type": "stream",
     "text": [
      "100% (595170603 of 595170603) |##########| Elapsed Time: 0:00:19 Time:  0:00:19\n"
     ]
    },
    {
     "name": "stdout",
     "output_type": "stream",
     "text": [
      "...done, 595170603 bytes.\n",
      "33\n"
     ]
    },
    {
     "name": "stderr",
     "output_type": "stream",
     "text": [
      "100% (591121919 of 591121919) |##########| Elapsed Time: 0:00:08 Time:  0:00:08\n"
     ]
    },
    {
     "name": "stdout",
     "output_type": "stream",
     "text": [
      "...done, 591121919 bytes.\n",
      "34\n"
     ]
    },
    {
     "name": "stderr",
     "output_type": "stream",
     "text": [
      "100% (490156526 of 490156526) |##########| Elapsed Time: 0:00:11 Time:  0:00:11\n"
     ]
    },
    {
     "name": "stdout",
     "output_type": "stream",
     "text": [
      "...done, 490156526 bytes.\n",
      "35\n"
     ]
    },
    {
     "name": "stderr",
     "output_type": "stream",
     "text": [
      "100% (406123145 of 406123145) |##########| Elapsed Time: 0:00:11 Time:  0:00:11\n"
     ]
    },
    {
     "name": "stdout",
     "output_type": "stream",
     "text": [
      "...done, 406123145 bytes.\n",
      "36\n"
     ]
    },
    {
     "name": "stderr",
     "output_type": "stream",
     "text": [
      "100% (515396558 of 515396558) |##########| Elapsed Time: 0:00:07 Time:  0:00:07\n"
     ]
    },
    {
     "name": "stdout",
     "output_type": "stream",
     "text": [
      "...done, 515396558 bytes.\n",
      "37\n"
     ]
    },
    {
     "name": "stderr",
     "output_type": "stream",
     "text": [
      "100% (656184887 of 656184887) |##########| Elapsed Time: 0:00:23 Time:  0:00:23\n"
     ]
    },
    {
     "name": "stdout",
     "output_type": "stream",
     "text": [
      "...done, 656184887 bytes.\n",
      "38\n"
     ]
    },
    {
     "name": "stderr",
     "output_type": "stream",
     "text": [
      "100% (610020095 of 610020095) |##########| Elapsed Time: 0:00:25 Time:  0:00:25\n",
      "  0% (0 of 565614723) |                  | Elapsed Time: 0:00:00 ETA:  --:--:--"
     ]
    },
    {
     "name": "stdout",
     "output_type": "stream",
     "text": [
      "...done, 610020095 bytes.\n",
      "39\n"
     ]
    },
    {
     "name": "stderr",
     "output_type": "stream",
     "text": [
      "100% (565614723 of 565614723) |##########| Elapsed Time: 0:00:10 Time:  0:00:10\n"
     ]
    },
    {
     "name": "stdout",
     "output_type": "stream",
     "text": [
      "...done, 565614723 bytes.\n"
     ]
    },
    {
     "data": {
      "text/plain": [
       "['C:\\\\chips_allocation/Check\\\\tiles\\\\https_naipblobs.blob.core.windows.net_naip_v002_ca_2018_ca_060cm_2018_35119_m_3511946_sw_11_060_20180713_20190208.tif',\n",
       " 'C:\\\\chips_allocation/Check\\\\tiles\\\\https_naipblobs.blob.core.windows.net_naip_v002_ct_2018_ct_060cm_2018_41073_m_4107360_se_18_060_20180829.tif',\n",
       " 'C:\\\\chips_allocation/Check\\\\tiles\\\\https_naipblobs.blob.core.windows.net_naip_v002_ky_2018_ky_060cm_2018_38084_m_3808460_ne_16_060_20180930.tif',\n",
       " 'C:\\\\chips_allocation/Check\\\\tiles\\\\https_naipblobs.blob.core.windows.net_naip_v002_tx_2018_tx_060cm_2018_31103_m_3110343_ne_13_060_20180929_20190503.tif',\n",
       " 'C:\\\\chips_allocation/Check\\\\tiles\\\\https_naipblobs.blob.core.windows.net_naip_v002_nc_2018_nc_060cm_2018_35079_m_3507953_sw_17_060_20181121_20190210.tif',\n",
       " 'C:\\\\chips_allocation/Check\\\\tiles\\\\https_naipblobs.blob.core.windows.net_naip_v002_tx_2018_tx_060cm_2018_32097_m_3209716_nw_14_060_20181120.tif',\n",
       " 'C:\\\\chips_allocation/Check\\\\tiles\\\\https_naipblobs.blob.core.windows.net_naip_v002_tx_2018_tx_060cm_2018_28097_m_2809754_se_14_060_20181202_20190518.tif',\n",
       " 'C:\\\\chips_allocation/Check\\\\tiles\\\\https_naipblobs.blob.core.windows.net_naip_v002_nd_2018_nd_060cm_2018_47103_m_4710303_ne_13_060_20180902_20190301.tif',\n",
       " 'C:\\\\chips_allocation/Check\\\\tiles\\\\https_naipblobs.blob.core.windows.net_naip_v002_tx_2018_tx_060cm_2018_31102_m_3110217_nw_13_060_20180924_20190504.tif',\n",
       " 'C:\\\\chips_allocation/Check\\\\tiles\\\\https_naipblobs.blob.core.windows.net_naip_v002_wi_2018_wi_060cm_2018_44089_m_4408927_nw_16_060_20180910.tif',\n",
       " 'C:\\\\chips_allocation/Check\\\\tiles\\\\https_naipblobs.blob.core.windows.net_naip_v002_sd_2018_sd_060cm_2018_42097_m_4209706_sw_14_060_20180912_20181211.tif',\n",
       " 'C:\\\\chips_allocation/Check\\\\tiles\\\\https_naipblobs.blob.core.windows.net_naip_v002_ut_2018_ut_060cm_2018_40110_m_4011046_nw_12_060_20180909.tif',\n",
       " 'C:\\\\chips_allocation/Check\\\\tiles\\\\https_naipblobs.blob.core.windows.net_naip_v002_tx_2018_tx_060cm_2018_33098_m_3309856_sw_14_060_20181115.tif',\n",
       " 'C:\\\\chips_allocation/Check\\\\tiles\\\\https_naipblobs.blob.core.windows.net_naip_v002_mo_2018_mo_060cm_2018_39091_m_3909112_ne_15_060_20180927_20190206.tif',\n",
       " 'C:\\\\chips_allocation/Check\\\\tiles\\\\https_naipblobs.blob.core.windows.net_naip_v002_tx_2018_tx_060cm_2018_31101_m_3110105_nw_14_060_20181113_20190503.tif',\n",
       " 'C:\\\\chips_allocation/Check\\\\tiles\\\\https_naipblobs.blob.core.windows.net_naip_v002_tn_2018_tn_060cm_2018_35083_m_3508301_ne_17_060_20181019.tif',\n",
       " 'C:\\\\chips_allocation/Check\\\\tiles\\\\https_naipblobs.blob.core.windows.net_naip_v002_nm_2018_nm_060cm_2018_32105_m_3210517_nw_13_060_20181104_20190422.tif',\n",
       " 'C:\\\\chips_allocation/Check\\\\tiles\\\\https_naipblobs.blob.core.windows.net_naip_v002_mo_2018_mo_060cm_2018_39094_m_3909443_nw_15_060_20180923.tif',\n",
       " 'C:\\\\chips_allocation/Check\\\\tiles\\\\https_naipblobs.blob.core.windows.net_naip_v002_tx_2018_tx_060cm_2018_35100_m_3510008_nw_14_060_20180918.tif',\n",
       " 'C:\\\\chips_allocation/Check\\\\tiles\\\\https_naipblobs.blob.core.windows.net_naip_v002_nm_2018_nm_060cm_2018_35106_m_3510651_se_13_060_20180528_20190427.tif',\n",
       " 'C:\\\\chips_allocation/Check\\\\tiles\\\\https_naipblobs.blob.core.windows.net_naip_v002_ky_2018_ky_060cm_2018_37087_m_3708704_sw_16_060_20180725.tif',\n",
       " 'C:\\\\chips_allocation/Check\\\\tiles\\\\https_naipblobs.blob.core.windows.net_naip_v002_ca_2018_ca_060cm_2018_35119_m_3511917_sw_11_060_20180714_20190208.tif',\n",
       " 'C:\\\\chips_allocation/Check\\\\tiles\\\\https_naipblobs.blob.core.windows.net_naip_v002_ne_2018_ne_060cm_2018_40096_m_4009605_nw_14_060_20180702_20181210.tif',\n",
       " 'C:\\\\chips_allocation/Check\\\\tiles\\\\https_naipblobs.blob.core.windows.net_naip_v002_sd_2018_sd_060cm_2018_44097_m_4409708_sw_14_060_20181015_20181212.tif',\n",
       " 'C:\\\\chips_allocation/Check\\\\tiles\\\\https_naipblobs.blob.core.windows.net_naip_v002_ne_2018_ne_060cm_2018_42097_m_4209761_ne_14_060_20180829_20181210.tif',\n",
       " 'C:\\\\chips_allocation/Check\\\\tiles\\\\https_naipblobs.blob.core.windows.net_naip_v002_tx_2018_tx_060cm_2018_29095_m_2909559_ne_15_060_20181210_20190503.tif',\n",
       " 'C:\\\\chips_allocation/Check\\\\tiles\\\\https_naipblobs.blob.core.windows.net_naip_v002_tx_2018_tx_060cm_2018_30096_m_3009657_se_14_060_20181116_20190426.tif',\n",
       " 'C:\\\\chips_allocation/Check\\\\tiles\\\\https_naipblobs.blob.core.windows.net_naip_v002_tx_2018_tx_060cm_2018_30095_m_3009512_nw_15_060_20181202_20190428.tif',\n",
       " 'C:\\\\chips_allocation/Check\\\\tiles\\\\https_naipblobs.blob.core.windows.net_naip_v002_ca_2018_ca_060cm_2018_34118_m_3411834_se_11_060_20180722_20190209.tif',\n",
       " 'C:\\\\chips_allocation/Check\\\\tiles\\\\https_naipblobs.blob.core.windows.net_naip_v002_tn_2018_tn_060cm_2018_35083_m_3508301_nw_17_060_20181019.tif',\n",
       " 'C:\\\\chips_allocation/Check\\\\tiles\\\\https_naipblobs.blob.core.windows.net_naip_v002_nd_2018_nd_060cm_2018_46100_m_4610010_nw_14_060_20180906_20181213.tif',\n",
       " 'C:\\\\chips_allocation/Check\\\\tiles\\\\https_naipblobs.blob.core.windows.net_naip_v002_tx_2018_tx_060cm_2018_33098_m_3309813_sw_14_060_20181027.tif',\n",
       " 'C:\\\\chips_allocation/Check\\\\tiles\\\\https_naipblobs.blob.core.windows.net_naip_v002_ky_2018_ky_060cm_2018_38085_m_3808549_se_16_060_20180727.tif',\n",
       " 'C:\\\\chips_allocation/Check\\\\tiles\\\\https_naipblobs.blob.core.windows.net_naip_v002_ca_2018_ca_060cm_2018_34118_m_3411853_nw_11_060_20180722_20190208.tif',\n",
       " 'C:\\\\chips_allocation/Check\\\\tiles\\\\https_naipblobs.blob.core.windows.net_naip_v002_ut_2018_ut_060cm_2018_41112_m_4111256_ne_12_060_20180829.tif',\n",
       " 'C:\\\\chips_allocation/Check\\\\tiles\\\\https_naipblobs.blob.core.windows.net_naip_v002_nd_2018_nd_060cm_2018_48102_m_4810233_se_13_060_20180815.tif',\n",
       " 'C:\\\\chips_allocation/Check\\\\tiles\\\\https_naipblobs.blob.core.windows.net_naip_v002_tx_2018_tx_060cm_2018_33098_m_3309805_nw_14_060_20181027.tif',\n",
       " 'C:\\\\chips_allocation/Check\\\\tiles\\\\https_naipblobs.blob.core.windows.net_naip_v002_tn_2018_tn_060cm_2018_35083_m_3508302_nw_17_060_20181019.tif',\n",
       " 'C:\\\\chips_allocation/Check\\\\tiles\\\\https_naipblobs.blob.core.windows.net_naip_v002_tx_2018_tx_060cm_2018_30096_m_3009621_se_14_060_20181114_20190426.tif',\n",
       " 'C:\\\\chips_allocation/Check\\\\tiles\\\\https_naipblobs.blob.core.windows.net_naip_v002_tx_2018_tx_060cm_2018_32097_m_3209708_sw_14_060_20181120.tif']"
      ]
     },
     "execution_count": 6,
     "metadata": {},
     "output_type": "execute_result"
    }
   ],
   "source": [
    "dist = ap.annotator(annotation_directory) #create the processing class\n",
    "dist.state_dcc_directory(parent_directory)\n",
    "dist.number_of_tiles(number_of_tiles)\n",
    "dist.get_tile_urls(tiles_remaining)\n",
    "dist.make_subdirectories()\n",
    "dist.download_images()\n",
    "#dist.tile_rename()"
   ]
  },
  {
   "cell_type": "markdown",
   "id": "6a8386bf",
   "metadata": {},
   "source": [
    "## Code to Fix arrays "
   ]
  },
  {
   "cell_type": "markdown",
   "id": "a474074c",
   "metadata": {},
   "source": [
    "Fix arrays when tiles are not properly allocated"
   ]
  },
  {
   "cell_type": "code",
   "execution_count": null,
   "id": "e80122e3",
   "metadata": {},
   "outputs": [],
   "source": [
    "N = 10  #specify the number of tiles that were not properly allocated\n",
    "#load the array\n",
    "remaining = np.load('tile_name_tile_url_remaining_expanded.npy')\n",
    "labeled = np.load(\"tile_name_tile_url_labeled.npy\")\n",
    "#Save the ammended arrays\n",
    "np.save('tile_name_tile_url_labeled',labeled[:-N])\n",
    "np.save('tile_name_tile_url_remaining_expanded',np.concatenate((labeled[-N:], remaining)))"
   ]
  },
  {
   "cell_type": "markdown",
   "id": "a73ead11",
   "metadata": {},
   "source": [
    "Fix arrays when a tile cannot be found (HTTP Error 404: The specified blob does not exist.)"
   ]
  },
  {
   "cell_type": "code",
   "execution_count": 5,
   "id": "6dd56307",
   "metadata": {},
   "outputs": [
    {
     "name": "stdout",
     "output_type": "stream",
     "text": [
      "(727, 2)\n",
      "(726, 2)\n"
     ]
    }
   ],
   "source": [
    "row_to_remove = 25\n",
    "\n",
    "#dist.tile_name_tile_url_tiles_for_annotators[row_to_remove]\n",
    "\n",
    "error_downloading = np.concatenate((np.load('tile_name_tile_url_error_downloading.npy'),\n",
    "                                    dist.tile_name_tile_url_tiles_for_annotators[row_to_remove]))\n",
    "np.save('tile_name_tile_url_error_downloading.npy', error_downloading)\n",
    "\n",
    "#Remove the rows with errors\n",
    "print(np.load('tile_name_tile_url_remaining_expanded.npy').shape)\n",
    "np.save('tile_name_tile_url_remaining_expanded',np.delete(np.load(tiles_remaining), row_to_remove, axis = 0))\n",
    "print(np.load('tile_name_tile_url_remaining_expanded.npy').shape)\n",
    "row_to_remove = np.nan"
   ]
  },
  {
   "cell_type": "code",
   "execution_count": null,
   "id": "628467c0",
   "metadata": {},
   "outputs": [],
   "source": [
    "#recover the unlabeled images from the dist\n",
    "## np.save('tile_name_tile_url_remaining_expanded',dist.tile_name_tile_url_unlabeled)\n",
    "#dist.tile_name_tile_url_tiles_for_annotators"
   ]
  },
  {
   "cell_type": "code",
   "execution_count": null,
   "id": "da85f2aa",
   "metadata": {
    "tags": []
   },
   "outputs": [],
   "source": [
    "#dist.track_tile_annotations(tiles_labeled)\n",
    "#np.save('tile_name_tile_url_remaining_expanded', dist.tile_name_tile_url_remaining)\n",
    "#np.save('tile_name_tile_url_labeled', dist.tile_name_tile_url_labeled)"
   ]
  },
  {
   "cell_type": "markdown",
   "id": "83525a20",
   "metadata": {},
   "source": [
    "## FIX Crop Script"
   ]
  },
  {
   "cell_type": "code",
   "execution_count": null,
   "id": "aa44da7c",
   "metadata": {},
   "outputs": [],
   "source": [
    "from PIL import Image\n",
    "\n",
    "def crop(path, input, height, width, k, page, area):\n",
    "    im = Image.open(input)\n",
    "    imgwidth, imgheight = im.size\n",
    "    for i in range(0,imgheight,height):\n",
    "        for j in range(0,imgwidth,width):\n",
    "            box = (j, i, j+width, i+height)\n",
    "            a = im.crop(box)\n",
    "            try:\n",
    "                o = a.crop(area)\n",
    "                o.save(os.path.join(path,\"PNG\",\"%s\" % page,\"IMG-%s.png\" % k))\n",
    "            except:\n",
    "                pass\n",
    "            k +=1"
   ]
  },
  {
   "cell_type": "code",
   "execution_count": null,
   "id": "af1a9d79",
   "metadata": {},
   "outputs": [],
   "source": [
    "dist.tile_names = os.listdir(dist.tiles_dir) #get a list of all of the tiles in tiles directory\n",
    "for tile_name in dist.tile_names: #index over the tiles in the tiles_dir \n",
    "    file_name, ext = os.path.splitext(tile_name) # File name\n",
    "    print(tile_name)\n",
    "\n",
    "    print(count)"
   ]
  },
  {
   "cell_type": "markdown",
   "id": "60bf7660",
   "metadata": {},
   "source": [
    "### Pil"
   ]
  },
  {
   "cell_type": "code",
   "execution_count": null,
   "id": "8ff93c30",
   "metadata": {},
   "outputs": [],
   "source": [
    "from PIL import Image \n",
    " \n",
    "#img = Image.open(r\"C:\\Users\\rapiduser\\Downloads\\shutterstock_95235265.jpg\") \n",
    "img = Image.open(r\"C:\\chips_allocation\\Check\\tiles\\ca_060cm_2018_38121_m_3812128_ne_10_060_20180714.tif\")\n",
    "img.save('test.jpeg')\n",
    "img = Image.open(r\"C:\\chips_allocation\\Check\\tiles\\ca_060cm_2018_38121_m_3812128_ne_10_060_20180714.\")\n",
    "\n",
    "left = 0\n",
    "top = 50\n",
    "right = 510\n",
    "bottom = 292\n",
    " \n",
    "img_res = img.crop((left, top, right, bottom)) \n",
    " \n",
    "img_res.show() "
   ]
  },
  {
   "cell_type": "markdown",
   "id": "fb2cf658",
   "metadata": {},
   "source": [
    "### Open CV"
   ]
  },
  {
   "cell_type": "code",
   "execution_count": 14,
   "id": "9bfcfe6f",
   "metadata": {},
   "outputs": [
    {
     "name": "stdout",
     "output_type": "stream",
     "text": [
      "(12220, 9770, 3)\n"
     ]
    },
    {
     "data": {
      "text/plain": [
       "-1"
      ]
     },
     "execution_count": 14,
     "metadata": {},
     "output_type": "execute_result"
    }
   ],
   "source": [
    "import cv2\n",
    "import os\n",
    "image = cv2.imread(r\"C:/chips_allocation/Check/tiles/ca_060cm_2018_38121_m_3812128_ne_10_060_20180714.tif\") \n",
    "y=0\n",
    "x=512*19\n",
    "h=512\n",
    "w=512\n",
    "#cropped = image[x:w, y:h]\n",
    "cropped = image[y:y+h, x:x+w]\n",
    "print(image.shape)\n",
    "\n",
    "# Filename\n",
    "filename = 'test2.jpg'\n",
    "cv2.imwrite(os.path.join('C:/chips_allocation/Check/tiles',filename),cropped)\n",
    "cv2.imshow(\"Cropped\", cropped)\n",
    "cv2.waitKey(0)\n",
    "# Using cv2.imwrite() method\n",
    "# Saving the image\n",
    "#cv2.imwrite(filename, img)\n"
   ]
  },
  {
   "cell_type": "code",
   "execution_count": null,
   "id": "92a0557f",
   "metadata": {},
   "outputs": [],
   "source": [
    "from PIL import Image\n",
    "Image.MAX_IMAGE_PIXELS = 999999999999\n",
    "import os\n",
    "file_name = \"ca_060cm_2018_38121_m_3812128_ne_10_060_20180714\"\n",
    "#tile = Image.open(os.path.join(dist.tiles_dir, tile_name)) #open image\n",
    "with Image.open(r\"C:\\chips_allocation\\Check\\tiles\\ca_060cm_2018_38121_m_3812128_ne_10_060_20180714\") as tile:\n",
    "    width, height = tile.size\n",
    "    item_width = int(512)\n",
    "    col = int(width/512)+1\n",
    "    row = int(height/512)+1\n",
    "    count = 1\n",
    "    for j in range(0,col):\n",
    "        for i in range(0,row):\n",
    "            box = (i*item_width, j*item_width, (i+1)*item_width, (j+1)*item_width)\n",
    "            chips_save_path = os.path.join(self.chips_dir, file_name+ '_'+ \\\n",
    "                                           str(count).zfill(6) + '.jpg') \n",
    "            # The index is a six-digit number like '000023'. \n",
    "            #chip = tile.crop(box)\n",
    "            #chip = chip.save(chips_save_path)\n",
    "            chip = tile.crop(box).save(chips_save_path)\n",
    "            count += 1\n",
    "    print(count)"
   ]
  },
  {
   "cell_type": "code",
   "execution_count": 4,
   "id": "5596328b",
   "metadata": {},
   "outputs": [],
   "source": [
    "import numpy as np\n",
    "import cv2\n",
    "import os\n",
    "\n",
    "image = cv2.imread(r\"C:/chips_allocation/Check/tiles/ca_060cm_2018_38121_m_3812128_ne_10_060_20180714.tif\") \n",
    "y=0\n",
    "x=512*19\n",
    "h=512\n",
    "w=512\n",
    "#cropped = image[x:w, y:h]\n",
    "cropped = image[y:y+h, x:x+w]\n",
    "\n",
    "print(image.shape)\n",
    "\n",
    "# Filename\n",
    "filename = 'test2.jpg'\n",
    "cv2.imwrite(os.path.join('C:/chips_allocation/Check/tiles',filename),cropped)\n",
    "cv2.imshow(\"Cropped\", cropped)\n",
    "cv2.waitKey(0)\n",
    "# Using cv2.imwrite() method\n",
    "# Saving the image\n",
    "#cv2.imwrite(filename, img)\n",
    "\n",
    "#image = cv2.imread('C:/chips_allocation/Check/tiles/test2.jpg') \n",
    "print(chip_img.width)\n",
    "print(chip_img.height)\n",
    "\n",
    "#At the end of the image\n",
    "if chip_img.width != 512:\n",
    "    black_width = 512 - chip_img.width\n",
    "    black_height = 512\n",
    "    black_image = np.zeros((black_height,black_width,3), np.uint8)\n",
    "    print(\"Incorrect Width\")\n",
    "    print(black_img.width)\n",
    "    print(black_img.height)\n",
    "    chip_img = np.concatenate([chip_img, blank_image])\n",
    "    \n",
    "if chip_img.height != 512:\n",
    "    black_height = 512 - chip_img.height\n",
    "    black_width = 512\n",
    "    black_image = np.zeros((black_height,black_width,3), np.uint8)\n",
    "    print(\"Incorrect Height\")\n",
    "    print(black_img.width)\n",
    "    print(black_img.height)\n",
    "    chip_img = np.concatenate([chip_img, blank_image])"
   ]
  },
  {
   "cell_type": "code",
   "execution_count": 8,
   "id": "29505dd8",
   "metadata": {},
   "outputs": [
    {
     "name": "stdout",
     "output_type": "stream",
     "text": [
      "image shape:  (512, 470, 3)\n"
     ]
    }
   ],
   "source": [
    "#blank_image = np.zeros((512,512-42,3), np.uint8)\n",
    "cv2.imshow('3 Channel Window', 1)\n",
    "print(\"image shape: \", blank_image.shape)\n",
    "cv2.waitKey(0)\n",
    "cv2.destroyAllWindows()"
   ]
  },
  {
   "cell_type": "code",
   "execution_count": 35,
   "id": "abaa9bb4",
   "metadata": {},
   "outputs": [
    {
     "name": "stdout",
     "output_type": "stream",
     "text": [
      "42\n",
      "512\n"
     ]
    }
   ],
   "source": [
    "from PIL import Image\n",
    "\n",
    "\n",
    "#blackBox = Image.new(im.mode, (im.width, 50), '#000')\n",
    "#im.paste(blackBox, (0, im.height - blackBox.height))\n",
    "#for x in range(img.width):\n",
    "#    for y in range(img.height - 40, img.height):\n",
    "#        img.putpixel((x, y), (0, 0, 0))\n",
    "\n",
    "#img.save('test2_bb.png')"
   ]
  },
  {
   "cell_type": "code",
   "execution_count": 40,
   "id": "382d5ce2",
   "metadata": {},
   "outputs": [
    {
     "name": "stdout",
     "output_type": "stream",
     "text": [
      "42\n",
      "512\n",
      "Incorrect Width\n",
      "470\n",
      "512\n"
     ]
    },
    {
     "ename": "TypeError",
     "evalue": "unsupported operand type(s) for +: 'JpegImageFile' and 'Image'",
     "output_type": "error",
     "traceback": [
      "\u001b[1;31m---------------------------------------------------------------------------\u001b[0m",
      "\u001b[1;31mTypeError\u001b[0m                                 Traceback (most recent call last)",
      "\u001b[1;32mC:\\Users\\RAPIDU~1\\AppData\\Local\\Temp/ipykernel_6856/778010062.py\u001b[0m in \u001b[0;36m<module>\u001b[1;34m\u001b[0m\n\u001b[0;32m     11\u001b[0m     \u001b[0mprint\u001b[0m\u001b[1;33m(\u001b[0m\u001b[0mblack_img\u001b[0m\u001b[1;33m.\u001b[0m\u001b[0mwidth\u001b[0m\u001b[1;33m)\u001b[0m\u001b[1;33m\u001b[0m\u001b[1;33m\u001b[0m\u001b[0m\n\u001b[0;32m     12\u001b[0m     \u001b[0mprint\u001b[0m\u001b[1;33m(\u001b[0m\u001b[0mblack_img\u001b[0m\u001b[1;33m.\u001b[0m\u001b[0mheight\u001b[0m\u001b[1;33m)\u001b[0m\u001b[1;33m\u001b[0m\u001b[1;33m\u001b[0m\u001b[0m\n\u001b[1;32m---> 13\u001b[1;33m     \u001b[0mchip_img\u001b[0m\u001b[1;33m+\u001b[0m\u001b[0mblack_img\u001b[0m\u001b[1;33m\u001b[0m\u001b[1;33m\u001b[0m\u001b[0m\n\u001b[0m\u001b[0;32m     14\u001b[0m \u001b[1;33m\u001b[0m\u001b[0m\n\u001b[0;32m     15\u001b[0m \u001b[1;32mif\u001b[0m \u001b[0mchip_img\u001b[0m\u001b[1;33m.\u001b[0m\u001b[0mheight\u001b[0m \u001b[1;33m!=\u001b[0m \u001b[1;36m512\u001b[0m\u001b[1;33m:\u001b[0m\u001b[1;33m\u001b[0m\u001b[1;33m\u001b[0m\u001b[0m\n",
      "\u001b[1;31mTypeError\u001b[0m: unsupported operand type(s) for +: 'JpegImageFile' and 'Image'"
     ]
    }
   ],
   "source": [
    "from PIL import Image  \n",
    "chip_img = Image.open('C:/chips_allocation/Check/tiles/test2.jpg')\n",
    "print(chip_img.width)\n",
    "print(chip_img.height)\n",
    "\n",
    "if chip_img.width != 512:\n",
    "    black_width = 512 - chip_img.width\n",
    "    black_height = 512\n",
    "    black_img = Image.new(mode = \"RGB\", size = (black_width, black_height))\n",
    "    print(\"Incorrect Width\")\n",
    "    print(black_img.width)\n",
    "    print(black_img.height)\n",
    "    chip_img+black_img\n",
    "    \n",
    "if chip_img.height != 512:\n",
    "    black_height = 512 - chip_img.height\n",
    "    black_width = 512\n",
    "    blackimg = Image.new(mode = \"RGB\", size = (black_width, black_height))\n",
    "    print(\"Incorrect Height\")\n",
    "    print(black_img.width)\n",
    "    print(black_img.height)"
   ]
  },
  {
   "cell_type": "code",
   "execution_count": null,
   "id": "6c7c45bd",
   "metadata": {},
   "outputs": [],
   "source": [
    "import numpy as np\n",
    "import cv2\n",
    "\n",
    "image = cv2.imread('download.jpg')\n",
    "y=0\n",
    "x=0\n",
    "h=100\n",
    "w=200\n",
    "crop = image[y:y+h, x:x+w]\n",
    "cv2.imshow('Image', crop)\n",
    "cv2.waitKey(0) "
   ]
  },
  {
   "cell_type": "markdown",
   "id": "c396c1c1",
   "metadata": {},
   "source": [
    "### Wand"
   ]
  },
  {
   "cell_type": "code",
   "execution_count": 7,
   "id": "47580bdf",
   "metadata": {},
   "outputs": [
    {
     "name": "stdout",
     "output_type": "stream",
     "text": [
      "format = TIFF\n",
      "width = 306\n",
      "height = 382\n"
     ]
    }
   ],
   "source": [
    "from __future__ import print_function\n",
    "from wand.image import Image\n",
    "\n",
    "with Image(filename=r\"C:/chips_allocation/Check/tiles/ca_060cm_2018_38121_m_3812128_ne_10_060_20180714.tif\") as img:\n",
    "    print('format =', img.format)\n",
    "    print('width =', img.width)\n",
    "    print('height =', img.height)"
   ]
  }
 ],
 "metadata": {
  "kernelspec": {
   "display_name": "Chip Allocate",
   "language": "python",
   "name": "chip_allocate"
  },
  "language_info": {
   "codemirror_mode": {
    "name": "ipython",
    "version": 3
   },
   "file_extension": ".py",
   "mimetype": "text/x-python",
   "name": "python",
   "nbconvert_exporter": "python",
   "pygments_lexer": "ipython3",
   "version": "3.9.7"
  },
  "toc-autonumbering": true,
  "toc-showmarkdowntxt": true
 },
 "nbformat": 4,
 "nbformat_minor": 5
}
