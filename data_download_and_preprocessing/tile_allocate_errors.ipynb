{
 "cells": [
  {
   "cell_type": "code",
   "execution_count": 26,
   "id": "9b5e1fab-0c21-4c81-83b7-d06f68c84a4b",
   "metadata": {},
   "outputs": [],
   "source": [
    "# Standard packages\n",
    "import tempfile\n",
    "import warnings\n",
    "import urllib\n",
    "import shutil\n",
    "import os\n",
    "# Less standard, but still pip- or conda-installable\n",
    "import pandas as pd\n",
    "import numpy as np\n",
    "import matplotlib.pyplot as plt\n",
    "import matplotlib\n",
    "import rasterio\n",
    "import re\n",
    "import rtree\n",
    "import shapely\n",
    "import pickle\n",
    "import data_eng.az_proc as ap"
   ]
  },
  {
   "cell_type": "code",
   "execution_count": 27,
   "id": "10730089-5376-41ce-83c5-2974c43d24e3",
   "metadata": {},
   "outputs": [
    {
     "name": "stdout",
     "output_type": "stream",
     "text": [
      "PIL 8.2.0\n"
     ]
    }
   ],
   "source": [
    "import PIL\n",
    "print('PIL',PIL.__version__)\n",
    "from PIL import Image\n",
    "Image.MAX_IMAGE_PIXELS = None"
   ]
  },
  {
   "cell_type": "code",
   "execution_count": 48,
   "id": "54d132f2-2a27-4bb2-b1dc-63eee48bbda0",
   "metadata": {},
   "outputs": [],
   "source": [
    "parent_directory = \"C:\\chip_allocation_temp\"\n",
    "annotation_directory = \"Amadu\"\n",
    "number_of_tiles = 20\n",
    "tiles_remaining = \"tile_name_tile_url_remaining_expanded.npy\"\n",
    "tiles_labeled = \"tile_name_tile_url_labeled.npy\""
   ]
  },
  {
   "cell_type": "code",
   "execution_count": 49,
   "id": "a3760737-15b0-4a18-8a6d-44441fc4092f",
   "metadata": {},
   "outputs": [
    {
     "name": "stdout",
     "output_type": "stream",
     "text": [
      "Unlabeled Tiles (1084, 2)\n"
     ]
    }
   ],
   "source": [
    "dist = ap.annotator(annotation_directory) #create the processing class\n",
    "dist.state_dcc_directory(parent_directory)\n",
    "dist.number_of_tiles(number_of_tiles)\n",
    "dist.get_tile_urls(tiles_remaining)\n",
    "dist.make_subdirectories()"
   ]
  },
  {
   "cell_type": "code",
   "execution_count": 47,
   "id": "92741afb-3111-457b-96a4-6ea135dcb0b3",
   "metadata": {},
   "outputs": [
    {
     "data": {
      "text/plain": [
       "(1084, 2)"
      ]
     },
     "execution_count": 47,
     "metadata": {},
     "output_type": "execute_result"
    }
   ],
   "source": [
    "row_to_remove = 14\n",
    "#error_downloading = np.concatenate((np.load('tile_name_tile_url_error_downloading.npy'), dist.tile_name_tile_url_tiles_for_annotators[row_to_remove]))\n",
    "#np.save('tile_name_tile_url_error_downloading.npy', error_downloading)\n",
    "\n",
    "# Remove the rows with errors\n",
    "#np.load('tile_name_tile_url_remaining_expanded.npy').shape\n",
    "#np.save('tile_name_tile_url_remaining_expanded',np.delete(np.load(tiles_remaining), row_to_remove, axis = 0))\n",
    "#np.load('tile_name_tile_url_remaining_expanded.npy').shape\n",
    "\n",
    "#recover the unlabeled images from the dist\n",
    "## np.save('tile_name_tile_url_remaining_expanded',dist.tile_name_tile_url_unlabeled)\n",
    "#dist.tile_name_tile_url_tiles_for_annotators"
   ]
  },
  {
   "cell_type": "code",
   "execution_count": 50,
   "id": "27daf4d2-9f98-43f1-9dc5-152e3cfc4027",
   "metadata": {},
   "outputs": [
    {
     "name": "stdout",
     "output_type": "stream",
     "text": [
      "Bypassing download of already-downloaded file m_3412021_ne_10_060_20180724_20190208.tif\n",
      "Bypassing download of already-downloaded file m_3809016_nw_15_060_20181020_20190206.tif\n",
      "Bypassing download of already-downloaded file m_3009759_se_14_060_20181101_20190426.tif\n",
      "Bypassing download of already-downloaded file m_3309846_nw_14_060_20181115.tif\n",
      "Bypassing download of already-downloaded file m_3110308_ne_13_060_20181026_20190504.tif\n",
      "Bypassing download of already-downloaded file m_3510039_se_14_060_20180930.tif\n",
      "Bypassing download of already-downloaded file m_3510121_se_14_060_20180913.tif\n",
      "Bypassing download of already-downloaded file m_3109129_se_15_060_20181115_20190207.tif\n",
      "Bypassing download of already-downloaded file m_3009612_ne_14_060_20181102_20190228.tif\n",
      "Bypassing download of already-downloaded file m_4308647_se_16_060_20180707_20190315.tif\n",
      "Bypassing download of already-downloaded file m_3411864_sw_11_060_20180723_20190209.tif\n",
      "Bypassing download of already-downloaded file m_3210318_se_13_060_20180506_20190422.tif\n",
      "Bypassing download of already-downloaded file m_2809839_ne_14_060_20181103_20190518.tif\n",
      "Bypassing download of already-downloaded file m_3908460_ne_16_060_20180930.tif\n"
     ]
    },
    {
     "name": "stderr",
     "output_type": "stream",
     "text": [
      "100% (640891323 of 640891323) |##########| Elapsed Time: 0:00:27 Time:  0:00:27\n",
      "N/A% (0 of 521449489) |                  | Elapsed Time: 0:00:00 ETA:  --:--:--"
     ]
    },
    {
     "name": "stdout",
     "output_type": "stream",
     "text": [
      "...done, 640891323 bytes.\n"
     ]
    },
    {
     "name": "stderr",
     "output_type": "stream",
     "text": [
      "100% (521449489 of 521449489) |##########| Elapsed Time: 0:00:17 Time:  0:00:17\n"
     ]
    },
    {
     "name": "stdout",
     "output_type": "stream",
     "text": [
      "...done, 521449489 bytes.\n"
     ]
    },
    {
     "name": "stderr",
     "output_type": "stream",
     "text": [
      "100% (488182493 of 488182493) |##########| Elapsed Time: 0:00:12 Time:  0:00:12\n",
      "N/A% (0 of 545123320) |                  | Elapsed Time: 0:00:00 ETA:  --:--:--"
     ]
    },
    {
     "name": "stdout",
     "output_type": "stream",
     "text": [
      "...done, 488182493 bytes.\n"
     ]
    },
    {
     "name": "stderr",
     "output_type": "stream",
     "text": [
      "100% (545123320 of 545123320) |##########| Elapsed Time: 0:00:15 Time:  0:00:15\n",
      "N/A% (0 of 600014533) |                  | Elapsed Time: 0:00:00 ETA:  --:--:--"
     ]
    },
    {
     "name": "stdout",
     "output_type": "stream",
     "text": [
      "...done, 545123320 bytes.\n"
     ]
    },
    {
     "name": "stderr",
     "output_type": "stream",
     "text": [
      "100% (600014533 of 600014533) |##########| Elapsed Time: 0:00:20 Time:  0:00:20\n"
     ]
    },
    {
     "name": "stdout",
     "output_type": "stream",
     "text": [
      "...done, 600014533 bytes.\n"
     ]
    },
    {
     "name": "stderr",
     "output_type": "stream",
     "text": [
      "100% (575505551 of 575505551) |##########| Elapsed Time: 0:00:26 Time:  0:00:26\n"
     ]
    },
    {
     "name": "stdout",
     "output_type": "stream",
     "text": [
      "...done, 575505551 bytes.\n",
      "['https_naipblobs.blob.core.windows.net_naip_v002_ca_2018_ca_060cm_2018_34118_m_3411864_sw_11_060_20180723_20190209.tif', 'https_naipblobs.blob.core.windows.net_naip_v002_ca_2018_ca_060cm_2018_34120_m_3412021_ne_10_060_20180724_20190208.tif', 'https_naipblobs.blob.core.windows.net_naip_v002_in_2018_in_060cm_2018_40086_m_4008616_sw_16_060_20180713_20190221.tif', 'https_naipblobs.blob.core.windows.net_naip_v002_ky_2018_ky_060cm_2018_39084_m_3908458_ne_16_060_20180630.tif', 'https_naipblobs.blob.core.windows.net_naip_v002_ky_2018_ky_060cm_2018_39084_m_3908460_ne_16_060_20180930.tif', 'https_naipblobs.blob.core.windows.net_naip_v002_mi_2018_mi_060cm_2018_43086_m_4308647_se_16_060_20180707_20190315.tif', 'https_naipblobs.blob.core.windows.net_naip_v002_mo_2018_mo_060cm_2018_38090_m_3809016_nw_15_060_20181020_20190206.tif', 'https_naipblobs.blob.core.windows.net_naip_v002_mo_2018_mo_060cm_2018_38090_m_3809031_sw_15_060_20181121_20190206.tif', 'https_naipblobs.blob.core.windows.net_naip_v002_ms_2018_ms_060cm_2018_31091_m_3109129_se_15_060_20181115_20190207.tif', 'https_naipblobs.blob.core.windows.net_naip_v002_nm_2018_nm_060cm_2018_32103_m_3210318_se_13_060_20180506_20190422.tif', 'https_naipblobs.blob.core.windows.net_naip_v002_tn_2018_tn_060cm_2018_34089_m_3408903_ne_16_060_20180804.tif', 'https_naipblobs.blob.core.windows.net_naip_v002_tx_2018_tx_060cm_2018_28098_m_2809839_ne_14_060_20181103_20190518.tif', 'https_naipblobs.blob.core.windows.net_naip_v002_tx_2018_tx_060cm_2018_30096_m_3009612_ne_14_060_20181102_20190228.tif', 'https_naipblobs.blob.core.windows.net_naip_v002_tx_2018_tx_060cm_2018_30097_m_3009759_se_14_060_20181101_20190426.tif', 'https_naipblobs.blob.core.windows.net_naip_v002_tx_2018_tx_060cm_2018_31103_m_3110308_ne_13_060_20181026_20190504.tif', 'https_naipblobs.blob.core.windows.net_naip_v002_tx_2018_tx_060cm_2018_33098_m_3309846_nw_14_060_20181115.tif', 'https_naipblobs.blob.core.windows.net_naip_v002_tx_2018_tx_060cm_2018_35100_m_3510039_se_14_060_20180930.tif', 'https_naipblobs.blob.core.windows.net_naip_v002_tx_2018_tx_060cm_2018_35101_m_3510121_se_14_060_20180913.tif', 'https_naipblobs.blob.core.windows.net_naip_v002_wa_2019_wa_60cm_2019_47122_m_4712257_se_10_060_20191010.tif', 'https_naipblobs.blob.core.windows.net_naip_v002_wv_2018_wv_060cm_2018_39081_m_3908137_sw_17_060_20180707.tif']\n"
     ]
    }
   ],
   "source": [
    "dist.download_images()\n",
    "dist.tile_rename()"
   ]
  },
  {
   "cell_type": "code",
   "execution_count": null,
   "id": "b72b6463-99e6-48ea-8ac9-00c5ded14d4e",
   "metadata": {},
   "outputs": [],
   "source": [
    "dist.chip_tiles()"
   ]
  },
  {
   "cell_type": "code",
   "execution_count": 4,
   "id": "b3c6e096-389f-4e42-842c-244375c44c3e",
   "metadata": {},
   "outputs": [],
   "source": [
    "tile_names = os.listdir(dist.tiles_dir) #get a list of all of the tiles in tiles directory"
   ]
  },
  {
   "cell_type": "code",
   "execution_count": 1,
   "id": "333fb92e-faea-461c-84d9-d80dc729ee6e",
   "metadata": {},
   "outputs": [
    {
     "ename": "NameError",
     "evalue": "name 'tile_names' is not defined",
     "output_type": "error",
     "traceback": [
      "\u001b[1;31m---------------------------------------------------------------------------\u001b[0m",
      "\u001b[1;31mNameError\u001b[0m                                 Traceback (most recent call last)",
      "\u001b[1;32m<ipython-input-1-f928cc551725>\u001b[0m in \u001b[0;36m<module>\u001b[1;34m\u001b[0m\n\u001b[1;32m----> 1\u001b[1;33m \u001b[1;32mfor\u001b[0m \u001b[0mtile_name\u001b[0m \u001b[1;32min\u001b[0m \u001b[0mtile_names\u001b[0m\u001b[1;33m:\u001b[0m \u001b[1;31m#index over the tiles in the tiles_dir\u001b[0m\u001b[1;33m\u001b[0m\u001b[1;33m\u001b[0m\u001b[0m\n\u001b[0m\u001b[0;32m      2\u001b[0m \u001b[1;33m\u001b[0m\u001b[0m\n\u001b[0;32m      3\u001b[0m     \u001b[0mfile_name\u001b[0m\u001b[1;33m,\u001b[0m \u001b[0mext\u001b[0m \u001b[1;33m=\u001b[0m \u001b[0mos\u001b[0m\u001b[1;33m.\u001b[0m\u001b[0mpath\u001b[0m\u001b[1;33m.\u001b[0m\u001b[0msplitext\u001b[0m\u001b[1;33m(\u001b[0m\u001b[0mtile_name\u001b[0m\u001b[1;33m)\u001b[0m \u001b[1;31m# File name\u001b[0m\u001b[1;33m\u001b[0m\u001b[1;33m\u001b[0m\u001b[0m\n\u001b[0;32m      4\u001b[0m     \u001b[0mprint\u001b[0m\u001b[1;33m(\u001b[0m\u001b[0mtile_name\u001b[0m\u001b[1;33m)\u001b[0m\u001b[1;33m\u001b[0m\u001b[1;33m\u001b[0m\u001b[0m\n\u001b[0;32m      5\u001b[0m     \u001b[0mtile\u001b[0m \u001b[1;33m=\u001b[0m \u001b[0mImage\u001b[0m\u001b[1;33m.\u001b[0m\u001b[0mopen\u001b[0m\u001b[1;33m(\u001b[0m\u001b[0mos\u001b[0m\u001b[1;33m.\u001b[0m\u001b[0mpath\u001b[0m\u001b[1;33m.\u001b[0m\u001b[0mjoin\u001b[0m\u001b[1;33m(\u001b[0m\u001b[0mdist\u001b[0m\u001b[1;33m.\u001b[0m\u001b[0mtiles_dir\u001b[0m\u001b[1;33m,\u001b[0m \u001b[0mtile_name\u001b[0m\u001b[1;33m)\u001b[0m\u001b[1;33m)\u001b[0m \u001b[1;31m#open image\u001b[0m\u001b[1;33m\u001b[0m\u001b[1;33m\u001b[0m\u001b[0m\n",
      "\u001b[1;31mNameError\u001b[0m: name 'tile_names' is not defined"
     ]
    }
   ],
   "source": [
    "for tile_name in tile_names: #index over the tiles in the tiles_dir \n",
    "\n",
    "    file_name, ext = os.path.splitext(tile_name) # File name\n",
    "    print(tile_name)\n",
    "    tile = Image.open(os.path.join(dist.tiles_dir, tile_name)) #open image\n",
    "    tile = tile.convert('RGB') #to file issues"
   ]
  },
  {
   "cell_type": "code",
   "execution_count": null,
   "id": "d1a3c561-4358-480e-b293-a980b55592f9",
   "metadata": {},
   "outputs": [],
   "source": [
    "        \n",
    "for tile_name in tile_names: #index over the tiles in the tiles_dir \n",
    "\n",
    "    file_name, ext = os.path.splitext(tile_name) # File name\n",
    "    print(tile_name)\n",
    "\n",
    "    tile = Image.open(os.path.join(self.tiles_dir, tile_name)) #open image\n",
    "    tile = tile.convert('RGB') #to file issues\n",
    "\n",
    "    width, height = tile.size\n",
    "    item_width = int(512)\n",
    "    col = int(width/512)+1\n",
    "    row = int(height/512)+1\n",
    "    box_list = []\n",
    "\n",
    "    count = 1\n",
    "    for j in range(0,col):\n",
    "        for i in range(0,row):\n",
    "            box = (i*item_width, j*item_width, (i+1)*item_width, (j+1)*item_width)\n",
    "\n",
    "            chips_save_path = os.path.join(self.chips_dir, file_name+ '_'+ \\\n",
    "                                           str(count).zfill(6) + '.jpg') \n",
    "                # The index is a six-digit number like '000023'. \n",
    "\n",
    "            #chip = tile.crop(box)\n",
    "            #chip = chip.save(chips_save_path)\n",
    "            chip = tile.crop(box).save(chips_save_path)\n",
    "            count += 1\n",
    "    print(count)"
   ]
  },
  {
   "cell_type": "code",
   "execution_count": 20,
   "id": "e6d8df62-0925-4f7a-b847-4b2d09550737",
   "metadata": {},
   "outputs": [],
   "source": [
    "dist.track_tile_annotations(tiles_labeled)\n",
    "np.save('tile_name_tile_url_remaining_expanded', dist.tile_name_tile_url_remaining)\n",
    "np.save('tile_name_tile_url_labeled', dist.tile_name_tile_url_labeled)"
   ]
  }
 ],
 "metadata": {
  "kernelspec": {
   "display_name": "Python (myenv)",
   "language": "python",
   "name": "myenv"
  },
  "language_info": {
   "codemirror_mode": {
    "name": "ipython",
    "version": 3
   },
   "file_extension": ".py",
   "mimetype": "text/x-python",
   "name": "python",
   "nbconvert_exporter": "python",
   "pygments_lexer": "ipython3",
   "version": "3.8.8"
  }
 },
 "nbformat": 4,
 "nbformat_minor": 5
}
