{
 "cells": [
  {
   "cell_type": "code",
   "execution_count": null,
   "id": "1657b33f-76a0-48c4-b1d5-f57cff2f9847",
   "metadata": {},
   "outputs": [],
   "source": [
    "#Parsing/Modifying XML\n",
    "from lxml.etree import Element,SubElement,tostring\n",
    "import xml.dom.minidom\n",
    "from xml.dom.minidom import parseString\n",
    "import xml.etree.ElementTree as et\n",
    "from xml.dom import minidom"
   ]
  },
  {
   "cell_type": "markdown",
   "id": "ff67d878-38dd-4dc6-93cf-31e3c3c933de",
   "metadata": {},
   "source": [
    "## Parse throught XML"
   ]
  },
  {
   "cell_type": "code",
   "execution_count": 223,
   "id": "e7de873f-66dc-40f1-b228-cca77382a5d5",
   "metadata": {},
   "outputs": [
    {
     "name": "stdout",
     "output_type": "stream",
     "text": [
      "2019\n",
      "60cm\n"
     ]
    }
   ],
   "source": [
    "tree = et.parse(os.path.join(\"C:/chip_allocation/temp/correct_tiles/chips_positive_xmls\", correct_xml_name))\n",
    "#chip_name_incorrectly_chip_names[index[0]]\n",
    "root = tree.getroot() \n",
    "\n",
    "for year in root.iter('year'):    \n",
    "    print(year.text)\n",
    "for resolution in root.iter('resolution'):    \n",
    "    print(resolution.text)\n",
    "    \n",
    "for elem in root:\n",
    "    for subelem in elem.findall('source'):\n",
    "        # if we don't need to know the name of the attribute(s), get the dict\n",
    "        print(subelem.attrib)      \n",
    "    \n",
    "        # if we know the name of the attribute, access it directly\n",
    "        print(subelem.get('database').text)\n",
    "        \n",
    "for source in root.find('size'):\n",
    "    if source.tag == \"width\":\n",
    "        print(source.text)"
   ]
  }
 ],
 "metadata": {
  "kernelspec": {
   "display_name": "Python 3 (ipykernel)",
   "language": "python",
   "name": "python3"
  },
  "language_info": {
   "codemirror_mode": {
    "name": "ipython",
    "version": 3
   },
   "file_extension": ".py",
   "mimetype": "text/x-python",
   "name": "python",
   "nbconvert_exporter": "python",
   "pygments_lexer": "ipython3",
   "version": "3.8.8"
  }
 },
 "nbformat": 4,
 "nbformat_minor": 5
}
