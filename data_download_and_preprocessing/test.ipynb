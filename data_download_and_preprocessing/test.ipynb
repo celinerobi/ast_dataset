{
 "cells": [
  {
   "cell_type": "markdown",
   "source": [],
   "metadata": {
    "collapsed": false
   }
  },
  {
   "cell_type": "code",
   "execution_count": 1,
   "metadata": {
    "collapsed": true
   },
   "outputs": [
    {
     "name": "stdout",
     "output_type": "stream",
     "text": [
      "\n",
      "Please wait a moment while I gather a list of all available modules...\n",
      "\n"
     ]
    },
    {
     "name": "stderr",
     "output_type": "stream",
     "text": [
      "C:\\Program Files\\WindowsApps\\PythonSoftwareFoundation.Python.3.10_3.10.2544.0_x64__qbz5n2kfra8p0\\lib\\pkgutil.py:92: UserWarning: The numpy.array_api submodule is still experimental. See NEP 47.\n",
      "  __import__(info.name)\n",
      "C:\\Users\\cscro\\.virtualenvs\\AST_dataset\\lib\\site-packages\\_distutils_hack\\__init__.py:33: UserWarning: Setuptools is replacing distutils.\n",
      "  warnings.warn(\"Setuptools is replacing distutils.\")\n"
     ]
    },
    {
     "name": "stdout",
     "output_type": "stream",
     "text": [
      "IPython             click_plugins       mmapfile            ssl\n",
      "PIL                 cligj               mmsystem            sspi\n",
      "__future__          cmath               modulefinder        sspicon\n",
      "_abc                cmd                 move_download_tiles stack_data\n",
      "_aix_support        code                msilib              stat\n",
      "_argon2_cffi_bindings codecs              msvcrt              statistics\n",
      "_ast                codeop              multiprocessing     string\n",
      "_asyncio            collections         munch               stringprep\n",
      "_bisect             colorama            nbclassic           struct\n",
      "_blake2             colorsys            nbclient            subprocess\n",
      "_bootsubprocess     commctrl            nbconvert           sunau\n",
      "_bz2                compare_imgs_by_tile nbformat            symtable\n",
      "_cffi_backend       compileall          nest_asyncio        sys\n",
      "_codecs             concurrent          netbios             sysconfig\n",
      "_codecs_cn          configparser        netrc               tabnanny\n",
      "_codecs_hk          contextlib          networkx            tarfile\n",
      "_codecs_iso2022     contextvars         nntplib             telnetlib\n",
      "_codecs_jp          contourpy           notebook            tempfile\n",
      "_codecs_kr          copy                notebook_shim       terminado\n",
      "_codecs_tw          copyreg             nt                  textwrap\n",
      "_collections        correct_incon_labels ntpath              this\n",
      "_collections_abc    crypt               ntsecuritycon       threading\n",
      "_compat_pickle      csv                 nturl2path          tifffile\n",
      "_compression        ctypes              numbers             tile_level_annotation\n",
      "_contextvars        curses              numpy               time\n",
      "_csv                cv2                 odbc                timeit\n",
      "_ctypes             cycler              opcode              timer\n",
      "_datetime           data_clean_descrip  operator            tinycss2\n",
      "_decimal            data_eng            optparse            tkinter\n",
      "_distutils_hack     dataclasses         os                  token\n",
      "_elementtree        datetime            osgeo               tokenize\n",
      "_functools          dateutil            osgeo_utils         tornado\n",
      "_hashlib            dbi                 packaging           tqdm\n",
      "_heapq              dbm                 pandas              trace\n",
      "_imp                dde                 pandocfilters       traceback\n",
      "_io                 debugpy             parso               tracemalloc\n",
      "_json               decimal             pathlib             track_annotator_draw\n",
      "_locale             decorator           pdb                 traitlets\n",
      "_lsprof             defusedxml          perfmon             tty\n",
      "_lzma               difflib             pickle              turtle\n",
      "_markupbase         dis                 pickleshare         turtledemo\n",
      "_md5                distutils           pickletools         types\n",
      "_msi                doctest             pip                 typing\n",
      "_multibytecodec     download_distribution pipes               unicodedata\n",
      "_multiprocessing    email               pkg_resources       unittest\n",
      "_opcode             encodings           pkgutil             urllib\n",
      "_operator           ensurepip           platform            uu\n",
      "_osx_support        entrypoints         plistlib            uuid\n",
      "_overlapped         enum                poplib              venv\n",
      "_pickle             errno               posixpath           verification_and_tracking\n",
      "_py_abc             executing           pprint              warnings\n",
      "_pydecimal          fastjsonschema      profile             wave\n",
      "_pyio               faulthandler        progressbar         wcwidth\n",
      "_pyrsistent_version filecmp             prometheus_client   weakref\n",
      "_queue              fileinput           prompt_toolkit      webbrowser\n",
      "_random             fiona               pstats              webencodings\n",
      "_sha1               fnmatch             psutil              websocket\n",
      "_sha256             fontTools           pty                 wheel\n",
      "_sha3               fractions           pure_eval           widgetsnbextension\n",
      "_sha512             ftplib              pvectorc            win2kras\n",
      "_signal             functools           py_compile          win32api\n",
      "_sitebuiltins       gc                  pyclbr              win32clipboard\n",
      "_socket             genericpath         pycparser           win32com\n",
      "_sqlite3            geographiclib       pydoc               win32con\n",
      "_sre                geopandas           pydoc_data          win32console\n",
      "_ssl                geopy               pyexpat             win32cred\n",
      "_stat               getopt              pygments            win32crypt\n",
      "_statistics         getpass             pylab               win32cryptcon\n",
      "_string             gettext             pyparsing           win32event\n",
      "_strptime           glob                pyproj              win32evtlog\n",
      "_struct             graphlib            pyrsistent          win32evtlogutil\n",
      "_symtable           gzip                python_utils        win32file\n",
      "_thread             hashlib             pythoncom           win32gui\n",
      "_threading_local    heapq               pytz                win32gui_struct\n",
      "_tkinter            hmac                pywin               win32help\n",
      "_tracemalloc        html                pywin32_bootstrap   win32inet\n",
      "_uuid               http                pywin32_testutil    win32inetcon\n",
      "_virtualenv         idlelib             pywintypes          win32job\n",
      "_warnings           idna                pywt                win32lz\n",
      "_weakref            imageio             qtconsole           win32net\n",
      "_weakrefset         imaplib             qtpy                win32netcon\n",
      "_win32sysloader     imghdr              queue               win32pdh\n",
      "_winapi             imp                 quopri              win32pdhquery\n",
      "_winxptheme         importlib           random              win32pdhutil\n",
      "_xxsubinterpreters  inspect             rasterio            win32pipe\n",
      "_zoneinfo           io                  rasutil             win32print\n",
      "abc                 ipaddress           re                  win32process\n",
      "adodbapi            ipykernel           regcheck            win32profile\n",
      "affine              ipykernel_launcher  regutil             win32ras\n",
      "afxres              ipython_genutils    reprlib             win32rcparser\n",
      "aifc                ipywidgets          rioxarray           win32security\n",
      "antigravity         isapi               rlcompleter         win32service\n",
      "anyio               itertools           rtree               win32serviceutil\n",
      "argon2              jedi                runpy               win32timezone\n",
      "argparse            jinja2              sched               win32trace\n",
      "array               json                scipy               win32traceutil\n",
      "ast                 jsonschema          secrets             win32transaction\n",
      "asttokens           jupyter             select              win32ts\n",
      "asynchat            jupyter_client      selectors           win32ui\n",
      "asyncio             jupyter_console     send2trash          win32uiole\n",
      "asyncore            jupyter_core        seperate_positive_negative_images win32verstamp\n",
      "atexit              jupyter_server      servicemanager      win32wnet\n",
      "attr                jupyterlab_pygments setuptools          winerror\n",
      "attrs               jupyterlab_widgets  shapely             winioctlcon\n",
      "audioop             keyword             shelve              winnt\n",
      "backcall            kiwisolver          shlex               winperf\n",
      "base64              lib2to3             shutil              winpty\n",
      "bdb                 linecache           signal              winreg\n",
      "binascii            locale              site                winsound\n",
      "binhex              logging             six                 winxpgui\n",
      "bisect              lxml                skimage             winxptheme\n",
      "bleach              lzma                smtpd               wsgiref\n",
      "bs4                 mailbox             smtplib             xarray\n",
      "builtins            mailcap             sndhdr              xdrlib\n",
      "bz2                 make_complete_dataset sniffio             xml\n",
      "cProfile            markupsafe          snuggs              xmlrpc\n",
      "calendar            marshal             socket              xxsubtype\n",
      "certifi             math                socketserver        zipapp\n",
      "cffi                matplotlib          soupsieve           zipfile\n",
      "cgi                 matplotlib_inline   sqlite3             zipimport\n",
      "cgitb               mimetypes           sre_compile         zlib\n",
      "chunk               mistune             sre_constants       zmq\n",
      "click               mmap                sre_parse           zoneinfo\n",
      "\n",
      "Enter any module name to get more help.  Or, type \"modules spam\" to search\n",
      "for modules whose name or summary contain the string \"spam\".\n",
      "\n",
      "None\n"
     ]
    },
    {
     "name": "stderr",
     "output_type": "stream",
     "text": [
      "C:\\Program Files\\WindowsApps\\PythonSoftwareFoundation.Python.3.10_3.10.2544.0_x64__qbz5n2kfra8p0\\lib\\pkgutil.py:92: UserWarning: viewer requires Qt\n",
      "  __import__(info.name)\n",
      "C:\\Program Files\\WindowsApps\\PythonSoftwareFoundation.Python.3.10_3.10.2544.0_x64__qbz5n2kfra8p0\\lib\\pkgutil.py:107: VisibleDeprecationWarning: zmq.eventloop.minitornado is deprecated in pyzmq 14.0 and will be removed.\n",
      "    Install tornado itself to use zmq with the tornado IOLoop.\n",
      "    \n",
      "  yield from walk_packages(path, info.name+'.', onerror)\n"
     ]
    }
   ],
   "source": [
    "from data_eng import az_proc\n",
    "import os\n",
    "from data_eng import form_calcs as fc"
   ]
  },
  {
   "cell_type": "code",
   "execution_count": 2,
   "outputs": [
    {
     "ename": "NameError",
     "evalue": "name 'np' is not defined",
     "output_type": "error",
     "traceback": [
      "\u001B[1;31m---------------------------------------------------------------------------\u001B[0m",
      "\u001B[1;31mNameError\u001B[0m                                 Traceback (most recent call last)",
      "Cell \u001B[1;32mIn [2], line 1\u001B[0m\n\u001B[1;32m----> 1\u001B[0m \u001B[43mnp\u001B[49m\u001B[38;5;241m.\u001B[39mlinspace(\u001B[38;5;241m1\u001B[39m,\u001B[38;5;241m512\u001B[39m,\u001B[38;5;241m512\u001B[39m)\n",
      "\u001B[1;31mNameError\u001B[0m: name 'np' is not defined"
     ]
    }
   ],
   "source": [],
   "metadata": {
    "collapsed": false
   }
  },
  {
   "cell_type": "code",
   "execution_count": 15,
   "outputs": [
    {
     "data": {
      "text/plain": "'\\\\oit-nas-fe13dc.oit.duke.edu\\\\data_commons-borsuk\\\\verified\\x0berified_sets'"
     },
     "execution_count": 15,
     "metadata": {},
     "output_type": "execute_result"
    }
   ],
   "source": [
    "#complete_dir.rsplit(\"\\\\\",1)\n",
    "os.path.dirname(complete_dir)"
   ],
   "metadata": {
    "collapsed": false
   }
  },
  {
   "cell_type": "code",
   "execution_count": 9,
   "outputs": [],
   "source": [
    "complete_dir = \"\\\\oit-nas-fe13dc.oit.duke.edu\\\\data_commons-borsuk\\\\verified\\verified_sets\\complete_dataset\""
   ],
   "metadata": {
    "collapsed": false
   }
  },
  {
   "cell_type": "code",
   "execution_count": 3,
   "outputs": [
    {
     "name": "stdout",
     "output_type": "stream",
     "text": [
      "True 0\n",
      "True 1\n",
      "True 2\n",
      "True 3\n",
      "True 4\n",
      "True 5\n",
      "True 6\n",
      "True 7\n",
      "True 8\n",
      "True 9\n",
      "False 10\n"
     ]
    }
   ],
   "source": [
    "retry = True\n",
    "counter = 0\n",
    "while retry == True:\n",
    "    if counter == 10:\n",
    "        retry = False\n",
    "    print(retry,counter )\n",
    "    counter += 1"
   ],
   "metadata": {
    "collapsed": false
   }
  }
 ],
 "metadata": {
  "kernelspec": {
   "name": "ast_dataset",
   "language": "python",
   "display_name": "ast_dataset"
  },
  "language_info": {
   "codemirror_mode": {
    "name": "ipython",
    "version": 2
   },
   "file_extension": ".py",
   "mimetype": "text/x-python",
   "name": "python",
   "nbconvert_exporter": "python",
   "pygments_lexer": "ipython2",
   "version": "2.7.6"
  }
 },
 "nbformat": 4,
 "nbformat_minor": 0
}
