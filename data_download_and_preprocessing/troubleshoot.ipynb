{
 "cells": [
  {
   "cell_type": "code",
   "execution_count": 2,
   "id": "cbd50c73-4b04-4aed-9d29-dbeab27a4b0c",
   "metadata": {},
   "outputs": [],
   "source": [
    "import data_eng.az_proc as ap\n",
    "from glob import glob\n",
    "import os\n",
    "import xml.etree.ElementTree as et\n",
    "import numpy as np\n",
    "import pandas as pd"
   ]
  },
  {
   "cell_type": "code",
   "execution_count": 41,
   "id": "dfd79f57-83a3-43fb-b88b-4c0a92d32fd7",
   "metadata": {},
   "outputs": [],
   "source": [
    "set_number = '3'\n",
    "home_directory = \"//oit-nas-fe13dc.oit.duke.edu//data_commons-borsuk\"\n",
    "storage_space = \"//oit-nas-fe13dc.oit.duke.edu/data_commons-borsuk\"\n",
    "verification_dir = os.path.join(storage_space,\"verification_set\"+set_number,\"unverified_images/student_reviewed_unverified_images\")\n",
    "folder_names = [\"Niculescu_Sunny_Poonacha\"]                            \n",
    "annotator_allocation = ['Mia','Tang']\n",
    "tracker_file_path = 'outputs/tile_img_annotation_annotator.npy'"
   ]
  },
  {
   "cell_type": "markdown",
   "id": "10162451-a0e3-4834-bbcf-5fa2eeead42f",
   "metadata": {},
   "source": [
    "## Determine the number of images labeled by each annotator for the verification seperation"
   ]
  },
  {
   "cell_type": "code",
   "execution_count": 42,
   "id": "fc2f5514-f9a1-4a36-9f52-74e62b7301b1",
   "metadata": {},
   "outputs": [],
   "source": [
    "img_anno = ap.img_path_anno_path(ap.list_of_sub_directories(verification_dir))"
   ]
  },
  {
   "cell_type": "code",
   "execution_count": 56,
   "id": "9f1d1c18-8f91-4241-a797-77bc2517c156",
   "metadata": {},
   "outputs": [
    {
     "ename": "AttributeError",
     "evalue": "'numpy.ndarray' object has no attribute 'rsplit'",
     "output_type": "error",
     "traceback": [
      "\u001b[1;31m---------------------------------------------------------------------------\u001b[0m",
      "\u001b[1;31mAttributeError\u001b[0m                            Traceback (most recent call last)",
      "\u001b[1;32mC:\\Users\\RAPIDU~1\\AppData\\Local\\Temp/ipykernel_10412/2317562771.py\u001b[0m in \u001b[0;36m<module>\u001b[1;34m\u001b[0m\n\u001b[1;32m----> 1\u001b[1;33m \u001b[0mimg_anno\u001b[0m\u001b[1;33m[\u001b[0m\u001b[1;33m:\u001b[0m\u001b[1;33m,\u001b[0m\u001b[1;36m1\u001b[0m\u001b[1;33m]\u001b[0m\u001b[1;33m.\u001b[0m\u001b[0mrsplit\u001b[0m\u001b[1;33m(\u001b[0m\u001b[1;34m\"/\"\u001b[0m\u001b[1;33m)\u001b[0m\u001b[1;33m[\u001b[0m\u001b[1;36m5\u001b[0m\u001b[1;33m]\u001b[0m\u001b[1;33m\u001b[0m\u001b[1;33m\u001b[0m\u001b[0m\n\u001b[0m",
      "\u001b[1;31mAttributeError\u001b[0m: 'numpy.ndarray' object has no attribute 'rsplit'"
     ]
    }
   ],
   "source": [
    "img_anno[:,1].rsplit(\"/\")[5]"
   ]
  },
  {
   "cell_type": "code",
   "execution_count": 93,
   "id": "a8f604a1-c676-4b15-9f53-b826a5b79aed",
   "metadata": {},
   "outputs": [
    {
     "name": "stdout",
     "output_type": "stream",
     "text": [
      "Annotator: Alvarez ; images: 101\n",
      "Annotator: Cleave ; images: 280\n",
      "Annotator: Cleave ; images: 292\n",
      "Annotator: Jaewon ; images: 92\n",
      "Annotator: Jaewon ; images: 135\n",
      "Annotator: Josh ; images: 349\n",
      "Annotator: Josh ; images: 176\n",
      "Annotator: Kang ; images: 247\n",
      "Annotator: Kang ; images: 166\n",
      "Annotator: Katpally ; images: 158\n",
      "Annotator: Nayak ; images: 141\n",
      "Annotator: Niculescu ; images: 44\n",
      "Annotator: Poonacha ; images: 93\n",
      "Annotator: Poonacha ; images: 80\n",
      "Annotator: Poonacha ; images: 351\n",
      "Annotator: Shen ; images: 97\n",
      "Annotator: Shen ; images: 76\n",
      "Annotator: Shen ; images: 103\n",
      "Annotator: Shen ; images: 108\n",
      "Annotator: Sunny ; images: 68\n",
      "Annotator: Tang ; images: 159\n",
      "Annotator: Tang ; images: 101\n",
      "[['Alvarez' '101']\n",
      " ['Cleave' '572']\n",
      " ['Jaewon' '227']\n",
      " ['Josh' '525']\n",
      " ['Kang' '413']\n",
      " ['Katpally' '158']\n",
      " ['Nayak' '141']\n",
      " ['Niculescu' '44']\n",
      " ['Poonacha' '524']\n",
      " ['Shen' '384']\n",
      " ['Sunny' '68']\n",
      " ['Tang' '260']]\n"
     ]
    }
   ],
   "source": [
    "annotators = []\n",
    "num_images_annotated = []\n",
    "\n",
    "#the total number of images in each allocated set for each annotator\n",
    "for i in range(len(img_anno)):\n",
    "    print(\"Annotator:\", img_anno[i,1].rsplit(\"/\")[5],\"; images:\", len(glob(img_anno[i,1]+'/*')))\n",
    "    annotators.append(img_anno[i,1].rsplit(\"/\")[5])\n",
    "    num_images_annotated.append(len(glob(img_anno[i,1]+'/*')))\n",
    "annotated_images_by_allocation = np.array((annotators, num_images_annotated)).T\n",
    "\n",
    "#the total number of images by each annotator\n",
    "unique_annotators = []\n",
    "total_num_images_annotated = []\n",
    "for i in np.unique(annotators):\n",
    "    unique_annotators.append(i)\n",
    "    total_num_images_annotated.append(sum(annotated_images_by_allocation[annotated_images_by_allocation[:,0] == i][:,1].astype(int))) #determine the total number of images for each annotator \n",
    "total_num_of_images_by_annotator = np.array((unique_annotators, total_num_images_annotated)).T\n",
    "print(total_num_of_images_by_annotator)"
   ]
  },
  {
   "cell_type": "code",
   "execution_count": 103,
   "id": "735b40cb-cb9a-42eb-8fbb-20f95d398ae2",
   "metadata": {},
   "outputs": [
    {
     "name": "stdout",
     "output_type": "stream",
     "text": [
      "Cleave\n"
     ]
    },
    {
     "data": {
      "text/plain": [
       "572"
      ]
     },
     "execution_count": 103,
     "metadata": {},
     "output_type": "execute_result"
    }
   ],
   "source": [
    "print(Poonacha)\n",
    "total_num_of_images_by_annotator[0] #determine the total number of images for each annotator \n"
   ]
  },
  {
   "cell_type": "code",
   "execution_count": 71,
   "id": "04152509-8a16-4721-91a3-a7cbcf8f0795",
   "metadata": {},
   "outputs": [
    {
     "data": {
      "text/plain": [
       "array([['Alvarez', '101'],\n",
       "       ['Cleave', '280'],\n",
       "       ['Cleave', '292'],\n",
       "       ['Jaewon', '92'],\n",
       "       ['Jaewon', '135'],\n",
       "       ['Josh', '349'],\n",
       "       ['Josh', '176'],\n",
       "       ['Kang', '247'],\n",
       "       ['Kang', '166'],\n",
       "       ['Katpally', '158'],\n",
       "       ['Nayak', '141'],\n",
       "       ['Niculescu', '44'],\n",
       "       ['Poonacha', '93'],\n",
       "       ['Poonacha', '80'],\n",
       "       ['Poonacha', '351'],\n",
       "       ['Shen', '97'],\n",
       "       ['Shen', '76'],\n",
       "       ['Shen', '103'],\n",
       "       ['Shen', '108'],\n",
       "       ['Sunny', '68'],\n",
       "       ['Tang', '159'],\n",
       "       ['Tang', '101']], dtype='<U11')"
      ]
     },
     "execution_count": 71,
     "metadata": {},
     "output_type": "execute_result"
    }
   ],
   "source": [
    "poonacha\n",
    "sunny\n",
    "Dominic Van Cleave-Schottland\n",
    "Alex Niculescu\n",
    "\n",
    "Ryan Feinberg\n",
    "Joshua Kang\n",
    "Arnav Nayak"
   ]
  },
  {
   "cell_type": "markdown",
   "id": "c7085256-b6c3-41c6-8fa2-ba6e934548a1",
   "metadata": {},
   "source": [
    "## test tracking array"
   ]
  },
  {
   "cell_type": "code",
   "execution_count": null,
   "id": "a8838585-618a-464b-becb-7ff16d993529",
   "metadata": {},
   "outputs": [],
   "source": [
    "img_anno = ap.img_path_anno_path(ap.list_of_sub_directories(verification_dir))"
   ]
  },
  {
   "cell_type": "code",
   "execution_count": 104,
   "id": "cd969e9b-14e7-44bb-81d6-79f830c8a623",
   "metadata": {},
   "outputs": [
    {
     "name": "stdout",
     "output_type": "stream",
     "text": [
      "Initializing annotation tracking array; add new annotations to tracking array\n"
     ]
    },
    {
     "ename": "ValueError",
     "evalue": "all the input array dimensions for the concatenation axis must match exactly, but along dimension 0, the array at index 0 has size 80 and the array at index 3 has size 108",
     "output_type": "error",
     "traceback": [
      "\u001b[1;31m---------------------------------------------------------------------------\u001b[0m",
      "\u001b[1;31mValueError\u001b[0m                                Traceback (most recent call last)",
      "\u001b[1;32mC:\\Users\\RAPIDU~1\\AppData\\Local\\Temp/ipykernel_10412/499196735.py\u001b[0m in \u001b[0;36m<module>\u001b[1;34m\u001b[0m\n\u001b[1;32m----> 1\u001b[1;33m \u001b[0mtracking_array\u001b[0m \u001b[1;33m=\u001b[0m \u001b[0map\u001b[0m\u001b[1;33m.\u001b[0m\u001b[0mreference_image_annotation_file_with_annotator\u001b[0m\u001b[1;33m(\u001b[0m\u001b[0mimg_anno\u001b[0m\u001b[1;33m,\u001b[0m \u001b[0mtracker_file_path\u001b[0m\u001b[1;33m)\u001b[0m \u001b[1;31m#load existing and update\u001b[0m\u001b[1;33m\u001b[0m\u001b[1;33m\u001b[0m\u001b[0m\n\u001b[0m\u001b[0;32m      2\u001b[0m \u001b[0mtracking_array\u001b[0m\u001b[1;33m[\u001b[0m\u001b[1;33m-\u001b[0m\u001b[1;36m1\u001b[0m\u001b[1;33m]\u001b[0m\u001b[1;33m\u001b[0m\u001b[1;33m\u001b[0m\u001b[0m\n",
      "\u001b[1;32m~\\cred\\AST_dataset\\data_download_and_preprocessing\\data_eng\\az_proc.py\u001b[0m in \u001b[0;36mreference_image_annotation_file_with_annotator\u001b[1;34m(img_annotation_path, tracker_file_path)\u001b[0m\n\u001b[0;32m    745\u001b[0m \u001b[1;33m\u001b[0m\u001b[0m\n\u001b[0;32m    746\u001b[0m         tile_img_annotation_annotator = np.vstack((tile_img_annotation_annotator, \n\u001b[1;32m--> 747\u001b[1;33m                                                    np.column_stack([tiles, img_files, img_file_pathways, anno_files,annotator_list,\n\u001b[0m\u001b[0;32m    748\u001b[0m                                                                     \u001b[0mannotator_verify_coverage\u001b[0m\u001b[1;33m,\u001b[0m \u001b[0mannotator_verify_quality\u001b[0m\u001b[1;33m,\u001b[0m\u001b[1;33m\u001b[0m\u001b[1;33m\u001b[0m\u001b[0m\n\u001b[0;32m    749\u001b[0m                                                                     annotator_verify_classes]) ))  \n",
      "\u001b[1;32m<__array_function__ internals>\u001b[0m in \u001b[0;36mcolumn_stack\u001b[1;34m(*args, **kwargs)\u001b[0m\n",
      "\u001b[1;32mC:\\ProgramData\\Anaconda3\\envs\\chip_allocate\\lib\\site-packages\\numpy\\lib\\shape_base.py\u001b[0m in \u001b[0;36mcolumn_stack\u001b[1;34m(tup)\u001b[0m\n\u001b[0;32m    654\u001b[0m             \u001b[0marr\u001b[0m \u001b[1;33m=\u001b[0m \u001b[0marray\u001b[0m\u001b[1;33m(\u001b[0m\u001b[0marr\u001b[0m\u001b[1;33m,\u001b[0m \u001b[0mcopy\u001b[0m\u001b[1;33m=\u001b[0m\u001b[1;32mFalse\u001b[0m\u001b[1;33m,\u001b[0m \u001b[0msubok\u001b[0m\u001b[1;33m=\u001b[0m\u001b[1;32mTrue\u001b[0m\u001b[1;33m,\u001b[0m \u001b[0mndmin\u001b[0m\u001b[1;33m=\u001b[0m\u001b[1;36m2\u001b[0m\u001b[1;33m)\u001b[0m\u001b[1;33m.\u001b[0m\u001b[0mT\u001b[0m\u001b[1;33m\u001b[0m\u001b[1;33m\u001b[0m\u001b[0m\n\u001b[0;32m    655\u001b[0m         \u001b[0marrays\u001b[0m\u001b[1;33m.\u001b[0m\u001b[0mappend\u001b[0m\u001b[1;33m(\u001b[0m\u001b[0marr\u001b[0m\u001b[1;33m)\u001b[0m\u001b[1;33m\u001b[0m\u001b[1;33m\u001b[0m\u001b[0m\n\u001b[1;32m--> 656\u001b[1;33m     \u001b[1;32mreturn\u001b[0m \u001b[0m_nx\u001b[0m\u001b[1;33m.\u001b[0m\u001b[0mconcatenate\u001b[0m\u001b[1;33m(\u001b[0m\u001b[0marrays\u001b[0m\u001b[1;33m,\u001b[0m \u001b[1;36m1\u001b[0m\u001b[1;33m)\u001b[0m\u001b[1;33m\u001b[0m\u001b[1;33m\u001b[0m\u001b[0m\n\u001b[0m\u001b[0;32m    657\u001b[0m \u001b[1;33m\u001b[0m\u001b[0m\n\u001b[0;32m    658\u001b[0m \u001b[1;33m\u001b[0m\u001b[0m\n",
      "\u001b[1;32m<__array_function__ internals>\u001b[0m in \u001b[0;36mconcatenate\u001b[1;34m(*args, **kwargs)\u001b[0m\n",
      "\u001b[1;31mValueError\u001b[0m: all the input array dimensions for the concatenation axis must match exactly, but along dimension 0, the array at index 0 has size 80 and the array at index 3 has size 108"
     ]
    }
   ],
   "source": [
    "tracking_array = ap.reference_image_annotation_file_with_annotator(img_anno, tracker_file_path) #load existing and update \n",
    "tracking_array[-1]"
   ]
  },
  {
   "cell_type": "code",
   "execution_count": 10,
   "id": "593d279e-5d7b-46b5-99df-be046cc9a74f",
   "metadata": {},
   "outputs": [
    {
     "name": "stdout",
     "output_type": "stream",
     "text": [
      "Niculescu_Sunny_Poonacha\n",
      "folder Niculescu_Sunny_Poonacha\n",
      "annotator Mia\n",
      "annotator Tang\n",
      "0\n"
     ]
    }
   ],
   "source": [
    "if os.path.exists(tracker_file_path):\n",
    "    verfication_set = os.path.join(home_directory, \"verification_set\" + set_number, \"unverified_images\")\n",
    "    tile_img_annotation_annotator = ap.update_path(verfication_set, tracker_file_path)\n",
    "\n",
    "folder_annotator_list, verification_dir = ap.verification_folders(home_directory,folder_names, annotator_allocation, set_number)\n",
    "tile_img_annotation_annotator = ap.seperate_images_for_verification_update_tracking(folder_annotator_list, verification_dir, \n",
    "                                                                                    set_number, tile_img_annotation_annotator)"
   ]
  },
  {
   "cell_type": "markdown",
   "id": "b508e5f6-194b-4389-9dfe-b8bfbb33bba4",
   "metadata": {},
   "source": [
    "## Issues with correct inncorrect labels scipt\n",
    "identify the issue with the annotation and correct in labelImg if needed"
   ]
  },
  {
   "cell_type": "code",
   "execution_count": 18,
   "id": "4f2207ab-a953-4712-88b1-9fd78a397675",
   "metadata": {},
   "outputs": [
    {
     "name": "stdout",
     "output_type": "stream",
     "text": [
      "mn_60cm_2019_47096_m_4709624_nw_14_060_20190723_000203.xml\n",
      "<xml.etree.ElementTree.ElementTree object at 0x0000013A0BF113A0>\n",
      "<Element 'annotation' at 0x0000013A0BF0CE00>\n",
      "\n",
      "\t\t\n",
      "narrow_closed_roof_tank\n",
      "\n",
      "\t\t\n",
      "narrow_closed_roof_tank\n",
      "\n",
      "\t\t\n",
      "narrow_closed_roof_tank\n",
      "\n",
      "\t\t\n",
      "narrow_closed_roof_tank\n",
      "\n",
      "\t\t\n",
      "narrow_closed_roof_tank\n",
      "\n",
      "\t\t\n",
      "narrow_closed_roof_tank\n",
      "\n",
      "\t\t\n",
      "undefined_object\n",
      "\n",
      "\t\t\n",
      "undefined_object\n",
      "\n",
      "\t\t\n",
      "undefined_object\n",
      "\n",
      "\t\t\n",
      "undefined_object\n",
      "\n",
      "\t\t\n",
      "undefined_object\n",
      "\n",
      "\t\t\n",
      "'\n"
     ]
    }
   ],
   "source": [
    "w = 15505 #the last annotation to be converted + 1\n",
    "\n",
    "print(dist.chips_positive_list[w])\n",
    "print(len(dist.chips_positive_list))\n",
    "print(dist.chips_xml_list[w])\n",
    "print(len(dist.chips_xml_list))\n",
    "\n",
    "xml_file = dist.chips_xml_list[w]\n",
    "print(xml_file)\n",
    "# use the parse() function to load and parse an XML file\n",
    "tree = et.parse(os.path.join(dist.chips_xml_dir, xml_file))\n",
    "print(tree)\n",
    "root = tree.getroot() \n",
    "print(root)\n",
    "for obj in root.iter('object'):\n",
    "    print(obj.text)\n",
    "    for name in obj.findall('name'):\n",
    "        print(name.text)"
   ]
  },
  {
   "cell_type": "code",
   "execution_count": null,
   "id": "e24dac31-1460-4167-9244-2c48941021e9",
   "metadata": {
    "tags": []
   },
   "outputs": [],
   "source": [
    "positive_xml = os.listdir(\"//oit-nas-fe13dc.oit.duke.edu/data_commons-borsuk/complete_dataset/chips_positive_xml\")\n",
    "for i in range(len(positive_xml)):\n",
    "    positive_xml[i] = positive_xml[i].split(\".\")[0]\n",
    "    \n",
    "positive = os.listdir(\"//oit-nas-fe13dc.oit.duke.edu/data_commons-borsuk/complete_dataset/chips_positive\")\n",
    "for i in range(len(positive)):\n",
    "    positive[i] = positive[i].split(\".\")[0]\n",
    "main_list = list(set(positive_xml) - set(positive))\n",
    "\n",
    "positive = os.listdir(\"//oit-nas-fe13dc.oit.duke.edu/data_commons-borsuk/complete_dataset/chips_positive\")\n",
    "positive_recorded = list(np.load(tracker_file_path)[:,1])\n",
    "main_list = list(set(positive_recorded) - set(positive))\n",
    "len(main_list)"
   ]
  },
  {
   "cell_type": "code",
   "execution_count": null,
   "id": "c9e51aba-0859-4f3c-be2c-45455a41ccd5",
   "metadata": {},
   "outputs": [],
   "source": [
    "#set3\n",
    "#folder_names_set3 = [\"anyone\",  ]       # Tang#2         Poonacha#2   Sunny#2                         \n",
    "#annotator_allocation_set3 = [['Josh','Jaewon',\"Shen\",'Katpally']]"
   ]
  },
  {
   "cell_type": "code",
   "execution_count": 1,
   "id": "d413a8f4-0225-4092-9f0c-14ea9b740515",
   "metadata": {},
   "outputs": [],
   "source": [
    "import data_eng.az_proc as ap\n",
    "import os\n",
    "import numpy as np\n",
    "import pandas as pd"
   ]
  },
  {
   "cell_type": "code",
   "execution_count": null,
   "id": "2af635d4-9451-442c-9d74-686dbc4deaf1",
   "metadata": {},
   "outputs": [],
   "source": [
    "Make Corrections to Verification/Tracking "
   ]
  },
  {
   "cell_type": "markdown",
   "id": "cdd6273d-feaf-475b-9927-005cb8ec52a5",
   "metadata": {},
   "source": [
    "## Correcting Verifiers in Tracking Numpy/DF"
   ]
  },
  {
   "cell_type": "code",
   "execution_count": null,
   "id": "4d18f77d-260f-484f-a5cf-575c36453e31",
   "metadata": {},
   "outputs": [],
   "source": [
    "#load tracking numpy\n",
    "tile_img_annotation_annotator = np.load(\"outputs/tile_img_annotation_annotator.npy\")"
   ]
  },
  {
   "cell_type": "code",
   "execution_count": 34,
   "id": "10085698-2276-49c6-a99b-e2b330f47f4a",
   "metadata": {},
   "outputs": [],
   "source": [
    "#specify the verifier set to correct and specify the correction that should be made\n",
    "target_verifiers_1 = np.array(['Jaewon', 'James', 'Amadu'])\n",
    "correction_1 = ['Jaewon', 'James', 'Poonacha']\n",
    "\n",
    "target_verifiers_2 = np.array(['Jaewon', 'James', 'Josh'] )\n",
    "correction_2 = ['Jaewon', 'Poonacha', 'Cleave']\n",
    "\n",
    "target_verifiers_3 = np.array(['Josh', 'James','Amadu'])\n",
    "correction_3 = ['Josh', 'Poonacha','Sunny']\n",
    "\n",
    "target_verifiers_4 = np.array(['Cleave','Alvarez','Tang'])\n",
    "correction_4 = ['Cleave','Tang','Poonacha']\n",
    "\n",
    "target_verifiers_5 = np.array(['Sunny','Cleave','Alvarez'])\n",
    "correction_5 = ['Sunny','Cleave','Poonacha']"
   ]
  },
  {
   "cell_type": "code",
   "execution_count": 35,
   "id": "8b250428-fabe-4097-a54f-558d82b33600",
   "metadata": {},
   "outputs": [],
   "source": [
    "#make corrections\n",
    "for i in range(len(tile_img_annotation_annotator)):\n",
    "    if np.array_equal(tile_img_annotation_annotator[i,5:8], target_verifiers_4):\n",
    "        tile_img_annotation_annotator[i,5:8] = correction_4\n",
    "    elif np.array_equal(tile_img_annotation_annotator[i,5:8], target_verifiers_5):\n",
    "        tile_img_annotation_annotator[i,5:8] = correction_5"
   ]
  },
  {
   "cell_type": "code",
   "execution_count": 36,
   "id": "526def7e-28b3-46aa-b237-79f87a2d5923",
   "metadata": {},
   "outputs": [],
   "source": [
    "#save updated \n",
    "np.save('outputs/tile_img_annotation_annotator.npy', tile_img_annotation_annotator)\n",
    "column_names = [\"tile_name\", \"chip_name\", \"chip pathway\", \"xml annotation\", \n",
    "                    \"annotator - draw\",\"annotator - verify coverage\",\n",
    "                    \"annotator - verify quality\", \"annotator - verify classes\"]\n",
    "tile_img_annotation_annotator_df = pd.DataFrame(data = tile_img_annotation_annotator, \n",
    "                                                index = tile_img_annotation_annotator[:,1], \n",
    "                                                columns = column_names)\n",
    "tile_img_annotation_annotator_df.to_csv('outputs/tile_img_annotation_annotator_df.csv')"
   ]
  },
  {
   "cell_type": "markdown",
   "id": "b868f422-0ba4-4ba8-938f-cfaf179c4506",
   "metadata": {},
   "source": [
    "## Count the Number of Images/Annotatiosn"
   ]
  },
  {
   "cell_type": "code",
   "execution_count": 56,
   "id": "2611b83f-eff6-43a1-8974-ce76b22e31d7",
   "metadata": {},
   "outputs": [
    {
     "data": {
      "text/plain": [
       "11271"
      ]
     },
     "execution_count": 56,
     "metadata": {},
     "output_type": "execute_result"
    }
   ],
   "source": [
    "files_verified = []\n",
    "dirs =  ['D:/verification/verify_josh_james_amadu_1/chips',\n",
    "                    'D:/verification/verify_jaewon_james_josh_1/chips',\n",
    "                    'D:/verification/verify_jaewon_james_amadu_1/chips',\n",
    "                    'D:/verification/verify_josh_jaewon_amadu_1/chips']\n",
    "for dir in dirs:\n",
    "    files_verified.append(os.listdir(dir))\n",
    "\n",
    "files_verified = [ item for elem in files_verified for item in elem]\n",
    "len(files_verified)\n",
    "len(np.unique(np.array(files_verified)))\n"
   ]
  },
  {
   "cell_type": "code",
   "execution_count": 34,
   "id": "149a85da-67f8-4bab-a4cc-87d3a086da51",
   "metadata": {},
   "outputs": [
    {
     "data": {
      "text/plain": [
       "11510"
      ]
     },
     "execution_count": 34,
     "metadata": {},
     "output_type": "execute_result"
    }
   ],
   "source": [
    "files_to_be_verified = []\n",
    "for dir in ap.img_path_anno_path(ap.list_of_sub_directories('D:/verification/unverified_images/student_reviewed_unverified_images'))[:,0]:\n",
    "    files_to_be_verified.append(os.listdir(dir))\n",
    "\n",
    "files_to_be_verified = [ item for elem in files_to_be_verified for item in elem]\n",
    "len(files_to_be_verified)\n",
    "len(np.unique(np.array(files_to_be_verified)))"
   ]
  },
  {
   "cell_type": "code",
   "execution_count": 49,
   "id": "430d5cb1-6b40-4c5f-9010-84cd30089164",
   "metadata": {},
   "outputs": [
    {
     "name": "stdout",
     "output_type": "stream",
     "text": [
      "Thumbs.db\n",
      "Thumbs.db\n"
     ]
    }
   ],
   "source": [
    "for uvfile in files_to_be_verified:\n",
    "    if files_verified.count(uvfile) == 0:\n",
    "        print(uvfile)\n",
    "        \n",
    "#Identify the position of missing files\n",
    "items = [x for x in files_to_be_verified if 'Thumbs.db' in x]\n",
    "indexes = [n for n, x in enumerate(files_to_be_verified) if'Thumbs.db' in x]\n",
    "\n",
    "print(indexes)"
   ]
  },
  {
   "cell_type": "code",
   "execution_count": 47,
   "id": "f3ee1026-bfd4-4047-a046-36cb4ce89a2f",
   "metadata": {},
   "outputs": [
    {
     "data": {
      "text/plain": [
       "set()"
      ]
     },
     "execution_count": 47,
     "metadata": {},
     "output_type": "execute_result"
    }
   ],
   "source": [
    "#Identify Missing Files\n",
    "missing = set(files_verified) - set(files_to_be_verified) \n",
    "missing"
   ]
  }
 ],
 "metadata": {
  "kernelspec": {
   "display_name": "Chip Allocate",
   "language": "python",
   "name": "chip_allocate"
  },
  "language_info": {
   "codemirror_mode": {
    "name": "ipython",
    "version": 3
   },
   "file_extension": ".py",
   "mimetype": "text/x-python",
   "name": "python",
   "nbconvert_exporter": "python",
   "pygments_lexer": "ipython3",
   "version": "3.9.7"
  }
 },
 "nbformat": 4,
 "nbformat_minor": 5
}
