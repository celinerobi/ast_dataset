{
 "cells": [
  {
   "cell_type": "code",
   "execution_count": 55,
   "id": "acb92e9a-d85c-4ac7-8316-6118fff27f5a",
   "metadata": {},
   "outputs": [],
   "source": [
    "import json\n",
    "import os\n",
    "import numpy as np\n",
    "import data_eng.form_calcs as fc\n",
    "import cv2\n",
    "import math"
   ]
  },
  {
   "cell_type": "code",
   "execution_count": 49,
   "id": "e30e22cd-6815-465d-a906-ce783033a916",
   "metadata": {},
   "outputs": [],
   "source": [
    "parent_dir = \"//oit-nas-fe13dc.oit.duke.edu//data_commons-borsuk//\"\n",
    "new_image_dir = os.path.join(parent_dir, \"temp/rechip/complete_dataset/chips_positive_png\")\n",
    "os.makedirs(new_image_dir, exist_ok = True)\n",
    "image_dir = os.path.join(parent_dir, \"temp/rechip/complete_dataset/chips_positive\")\n",
    "tiles_dir = os.path.join(parent_dir,\"complete_dataset/tiles\")"
   ]
  },
  {
   "cell_type": "code",
   "execution_count": 40,
   "id": "e8598240-1956-4c80-9e9d-043e62fb4461",
   "metadata": {},
   "outputs": [],
   "source": [
    "#images = json.load(open(os.path.join(path,'train_images.json')))"
   ]
  },
  {
   "cell_type": "code",
   "execution_count": 56,
   "id": "3476d5f1-58fc-408d-b8c6-5a31ef5a0a0c",
   "metadata": {},
   "outputs": [],
   "source": [
    "fc.png4jpg(image_dir,new_image_dir, tiles_dir)"
   ]
  }
 ],
 "metadata": {
  "kernelspec": {
   "display_name": "Chip Allocate",
   "language": "python",
   "name": "chip_allocate"
  },
  "language_info": {
   "codemirror_mode": {
    "name": "ipython",
    "version": 3
   },
   "file_extension": ".py",
   "mimetype": "text/x-python",
   "name": "python",
   "nbconvert_exporter": "python",
   "pygments_lexer": "ipython3",
   "version": "3.9.7"
  }
 },
 "nbformat": 4,
 "nbformat_minor": 5
}
