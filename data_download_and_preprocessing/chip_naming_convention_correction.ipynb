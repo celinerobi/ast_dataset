{
 "cells": [
  {
   "cell_type": "markdown",
   "id": "b24caa63-2b5c-44fc-afc7-a934582ba019",
   "metadata": {
    "tags": []
   },
   "source": [
    "# Load Packages"
   ]
  },
  {
   "cell_type": "code",
   "execution_count": 1,
   "id": "80e2c6ed-a317-4b22-9be8-56cfafc24c7b",
   "metadata": {
    "tags": []
   },
   "outputs": [],
   "source": [
    "import os\n",
    "import cv2\n",
    "import math\n",
    "import numpy as np\n",
    "import matplotlib \n",
    "import matplotlib.pyplot as plt\n",
    "from glob import glob\n",
    "import tqdm\n",
    "from skimage.metrics import structural_similarity as compare_ssim\n",
    "import shutil\n",
    "#Parsing/Modifying XML\n",
    "from lxml.etree import Element,SubElement,tostring\n",
    "import xml.dom.minidom\n",
    "from xml.dom.minidom import parseString\n",
    "import xml.etree.ElementTree as et\n",
    "from xml.dom import minidom\n",
    "\n",
    "import data_eng.az_proc as ap\n",
    "import data_eng.form_calcs as fc"
   ]
  },
  {
   "cell_type": "markdown",
   "id": "73a71030-a326-4d44-8877-e66eca73783d",
   "metadata": {
    "tags": []
   },
   "source": [
    "# File Paths"
   ]
  },
  {
   "cell_type": "code",
   "execution_count": 2,
   "id": "1ca0bb52-b5c1-4e36-b034-c4a30aad988a",
   "metadata": {
    "tags": []
   },
   "outputs": [],
   "source": [
    "parent_directory = \"//oit-nas-fe13dc.oit.duke.edu//data_commons-borsuk//\"\n",
    "tile_names_tile_urls_complete_array = np.load(\"image_download_azure/tile_name_tile_url_complete_array.npy\")\n",
    "tiles_complete_dataset_path = os.path.join(parent_directory,\"complete_dataset\",\"tiles\")\n",
    "#https://stackoverflow.com/questions/5953373/how-to-split-image-into-multiple-pieces-in-python\n",
    "correct_directory = os.path.join(parent_directory,\"temp/rechip\")\n",
    "incorrectly_chipped_images_path = os.path.join(parent_directory,\"temp/incorrectly_chipped_images\")\n",
    "remaining_chips_path =  os.path.join(parent_directory,\"temp/remaining_chips\")\n",
    "remaining_sets_path =  os.path.join(parent_directory,\"temp/remaining_sets\")\n",
    "\n"
   ]
  },
  {
   "cell_type": "markdown",
   "id": "15cf339a-a625-4455-b0d2-8bf07fe9c467",
   "metadata": {
    "jp-MarkdownHeadingCollapsed": true,
    "tags": []
   },
   "source": [
    "# If Necessary: Download Additional Tiles \n",
    "\n",
    "If necessary, download additional tiles\n",
    "Note: Reform into function, to call above."
   ]
  },
  {
   "cell_type": "markdown",
   "id": "9b455eb7-b5ba-4643-8f23-6b40367b9391",
   "metadata": {
    "jp-MarkdownHeadingCollapsed": true,
    "tags": []
   },
   "source": [
    "## Set 3"
   ]
  },
  {
   "cell_type": "code",
   "execution_count": 35,
   "id": "201db17a-5f4c-496f-a920-68dc1b18c918",
   "metadata": {
    "collapsed": true,
    "jupyter": {
     "outputs_hidden": true
    },
    "tags": []
   },
   "outputs": [
    {
     "name": "stdout",
     "output_type": "stream",
     "text": [
      "m_3411762_sw_11_060_20180822.tif\n"
     ]
    },
    {
     "name": "stderr",
     "output_type": "stream",
     "text": [
      "100% (408585536 of 408585536) |##########| Elapsed Time: 0:00:42 Time:  0:00:42\n"
     ]
    },
    {
     "name": "stdout",
     "output_type": "stream",
     "text": [
      "...done, 408585536 bytes.\n",
      "m_3009612_nw_14_060_20181102.tif\n"
     ]
    },
    {
     "name": "stderr",
     "output_type": "stream",
     "text": [
      "100% (438599822 of 438599822) |##########| Elapsed Time: 0:00:43 Time:  0:00:43\n"
     ]
    },
    {
     "name": "stdout",
     "output_type": "stream",
     "text": [
      "...done, 438599822 bytes.\n",
      "m_3809031_nw_15_060_20181121.tif\n"
     ]
    },
    {
     "name": "stderr",
     "output_type": "stream",
     "text": [
      "100% (432344764 of 432344764) |##########| Elapsed Time: 0:00:58 Time:  0:00:58\n"
     ]
    },
    {
     "name": "stdout",
     "output_type": "stream",
     "text": [
      "...done, 432344764 bytes.\n",
      "m_3209714_se_14_060_20181120.tif\n"
     ]
    },
    {
     "name": "stderr",
     "output_type": "stream",
     "text": [
      "100% (467719571 of 467719571) |##########| Elapsed Time: 0:00:47 Time:  0:00:47\n"
     ]
    },
    {
     "name": "stdout",
     "output_type": "stream",
     "text": [
      "...done, 467719571 bytes.\n",
      "m_4107355_se_18_060_20180810.tif\n"
     ]
    },
    {
     "name": "stderr",
     "output_type": "stream",
     "text": [
      "100% (393583845 of 393583845) |##########| Elapsed Time: 0:00:34 Time:  0:00:34\n"
     ]
    },
    {
     "name": "stdout",
     "output_type": "stream",
     "text": [
      "...done, 393583845 bytes.\n",
      "m_3908764_se_16_060_20180727.tif\n"
     ]
    },
    {
     "name": "stderr",
     "output_type": "stream",
     "text": [
      "100% (483325024 of 483325024) |##########| Elapsed Time: 0:01:13 Time:  0:01:13\n"
     ]
    },
    {
     "name": "stdout",
     "output_type": "stream",
     "text": [
      "...done, 483325024 bytes.\n",
      "m_4810204_se_13_060_20180815.tif\n"
     ]
    },
    {
     "name": "stderr",
     "output_type": "stream",
     "text": [
      "100% (308935875 of 308935875) |##########| Elapsed Time: 0:00:40 Time:  0:00:40\n"
     ]
    },
    {
     "name": "stdout",
     "output_type": "stream",
     "text": [
      "...done, 308935875 bytes.\n",
      "m_3510031_ne_14_060_20180930.tif\n"
     ]
    },
    {
     "name": "stderr",
     "output_type": "stream",
     "text": [
      "100% (395363767 of 395363767) |##########| Elapsed Time: 0:00:34 Time:  0:00:34\n"
     ]
    },
    {
     "name": "stdout",
     "output_type": "stream",
     "text": [
      "...done, 395363767 bytes.\n",
      "m_3210312_se_13_060_20180506.tif\n"
     ]
    },
    {
     "name": "stderr",
     "output_type": "stream",
     "text": [
      "100% (410144203 of 410144203) |##########| Elapsed Time: 0:00:35 Time:  0:00:35\n"
     ]
    },
    {
     "name": "stdout",
     "output_type": "stream",
     "text": [
      "...done, 410144203 bytes.\n",
      "m_2709723_ne_14_060_20180517.tif\n"
     ]
    },
    {
     "name": "stderr",
     "output_type": "stream",
     "text": [
      "100% (430038519 of 430038519) |##########| Elapsed Time: 0:01:12 Time:  0:01:12\n"
     ]
    },
    {
     "name": "stdout",
     "output_type": "stream",
     "text": [
      "...done, 430038519 bytes.\n",
      "m_4208337_nw_17_060_20180707.tif\n"
     ]
    },
    {
     "name": "stderr",
     "output_type": "stream",
     "text": [
      "100% (512353047 of 512353047) |##########| Elapsed Time: 0:00:58 Time:  0:00:58\n"
     ]
    },
    {
     "name": "stdout",
     "output_type": "stream",
     "text": [
      "...done, 512353047 bytes.\n",
      "m_2809506_se_15_060_20181210.tif\n"
     ]
    },
    {
     "name": "stderr",
     "output_type": "stream",
     "text": [
      "100% (329170961 of 329170961) |##########| Elapsed Time: 0:00:28 Time:  0:00:28\n"
     ]
    },
    {
     "name": "stdout",
     "output_type": "stream",
     "text": [
      "...done, 329170961 bytes.\n",
      "m_3707823_sw_17_060_20180827.tif\n"
     ]
    },
    {
     "name": "stderr",
     "output_type": "stream",
     "text": [
      "100% (606895144 of 606895144) |##########| Elapsed Time: 0:00:52 Time:  0:00:52\n"
     ]
    },
    {
     "name": "stdout",
     "output_type": "stream",
     "text": [
      "...done, 606895144 bytes.\n",
      "m_3608951_nw_16_060_20180920.tif\n"
     ]
    },
    {
     "name": "stderr",
     "output_type": "stream",
     "text": [
      "100% (405895689 of 405895689) |##########| Elapsed Time: 0:00:34 Time:  0:00:34\n"
     ]
    },
    {
     "name": "stdout",
     "output_type": "stream",
     "text": [
      "...done, 405895689 bytes.\n",
      "m_3607957_ne_17_060_20181110.tif\n"
     ]
    },
    {
     "name": "stderr",
     "output_type": "stream",
     "text": [
      "100% (446442062 of 446442062) |##########| Elapsed Time: 0:00:44 Time:  0:00:44\n"
     ]
    },
    {
     "name": "stdout",
     "output_type": "stream",
     "text": [
      "...done, 446442062 bytes.\n",
      "m_4207253_sw_18_060_20181019.tif\n"
     ]
    },
    {
     "name": "stderr",
     "output_type": "stream",
     "text": [
      "100% (481899337 of 481899337) |##########| Elapsed Time: 0:01:10 Time:  0:01:10\n"
     ]
    },
    {
     "name": "stdout",
     "output_type": "stream",
     "text": [
      "...done, 481899337 bytes.\n",
      "m_4008663_sw_16_060_20180713.tif\n"
     ]
    },
    {
     "name": "stderr",
     "output_type": "stream",
     "text": [
      "100% (485232168 of 485232168) |##########| Elapsed Time: 0:00:42 Time:  0:00:42\n"
     ]
    },
    {
     "name": "stdout",
     "output_type": "stream",
     "text": [
      "...done, 485232168 bytes.\n",
      "m_2609839_se_14_060_20190105.tif\n"
     ]
    },
    {
     "name": "stderr",
     "output_type": "stream",
     "text": [
      "100% (480512246 of 480512246) |##########| Elapsed Time: 0:00:58 Time:  0:00:58\n"
     ]
    },
    {
     "name": "stdout",
     "output_type": "stream",
     "text": [
      "...done, 480512246 bytes.\n",
      "m_3707941_sw_17_060_20180824.tif\n"
     ]
    },
    {
     "name": "stderr",
     "output_type": "stream",
     "text": [
      "100% (580899238 of 580899238) |##########| Elapsed Time: 0:00:50 Time:  0:00:50\n"
     ]
    },
    {
     "name": "stdout",
     "output_type": "stream",
     "text": [
      "...done, 580899238 bytes.\n",
      "m_2809726_nw_14_060_20181209.tif\n"
     ]
    },
    {
     "name": "stderr",
     "output_type": "stream",
     "text": [
      "100% (483209690 of 483209690) |##########| Elapsed Time: 0:00:51 Time:  0:00:51\n"
     ]
    },
    {
     "name": "stdout",
     "output_type": "stream",
     "text": [
      "...done, 483209690 bytes.\n",
      "m_3712106_nw_10_060_20180714.tif\n"
     ]
    },
    {
     "name": "stderr",
     "output_type": "stream",
     "text": [
      "100% (429098656 of 429098656) |##########| Elapsed Time: 0:01:01 Time:  0:01:01\n"
     ]
    },
    {
     "name": "stdout",
     "output_type": "stream",
     "text": [
      "...done, 429098656 bytes.\n",
      "m_3610840_nw_12_060_20180510.tif\n"
     ]
    },
    {
     "name": "stderr",
     "output_type": "stream",
     "text": [
      "100% (415040905 of 415040905) |##########| Elapsed Time: 0:00:43 Time:  0:00:43\n"
     ]
    },
    {
     "name": "stdout",
     "output_type": "stream",
     "text": [
      "...done, 415040905 bytes.\n",
      "m_2909837_nw_14_060_20181102.tif\n"
     ]
    },
    {
     "name": "stderr",
     "output_type": "stream",
     "text": [
      "100% (479134755 of 479134755) |##########| Elapsed Time: 0:00:47 Time:  0:00:47\n"
     ]
    },
    {
     "name": "stdout",
     "output_type": "stream",
     "text": [
      "...done, 479134755 bytes.\n",
      "m_4308962_se_16_060_20181004.tif\n"
     ]
    },
    {
     "name": "stderr",
     "output_type": "stream",
     "text": [
      "100% (410073297 of 410073297) |##########| Elapsed Time: 0:00:34 Time:  0:00:34\n"
     ]
    },
    {
     "name": "stdout",
     "output_type": "stream",
     "text": [
      "...done, 410073297 bytes.\n",
      "m_3411759_se_11_060_20180822.tif\n"
     ]
    },
    {
     "name": "stderr",
     "output_type": "stream",
     "text": [
      "100% (437102802 of 437102802) |##########| Elapsed Time: 0:00:38 Time:  0:00:38\n"
     ]
    },
    {
     "name": "stdout",
     "output_type": "stream",
     "text": [
      "...done, 437102802 bytes.\n",
      "m_3310125_ne_14_060_20180923.tif\n"
     ]
    },
    {
     "name": "stderr",
     "output_type": "stream",
     "text": [
      "100% (479953141 of 479953141) |##########| Elapsed Time: 0:00:53 Time:  0:00:53\n"
     ]
    },
    {
     "name": "stdout",
     "output_type": "stream",
     "text": [
      "...done, 479953141 bytes.\n",
      "m_3908137_se_17_060_20180707.tif\n"
     ]
    },
    {
     "name": "stderr",
     "output_type": "stream",
     "text": [
      "100% (436193494 of 436193494) |##########| Elapsed Time: 0:00:57 Time:  0:00:57\n"
     ]
    },
    {
     "name": "stdout",
     "output_type": "stream",
     "text": [
      "...done, 436193494 bytes.\n",
      "m_4107219_ne_18_060_20180930.tif\n"
     ]
    },
    {
     "name": "stderr",
     "output_type": "stream",
     "text": [
      "100% (455553336 of 455553336) |##########| Elapsed Time: 0:00:38 Time:  0:00:38\n"
     ]
    },
    {
     "name": "stdout",
     "output_type": "stream",
     "text": [
      "...done, 455553336 bytes.\n",
      "m_4208431_sw_16_060_20180707.tif\n"
     ]
    },
    {
     "name": "stderr",
     "output_type": "stream",
     "text": [
      "100% (501858388 of 501858388) |##########| Elapsed Time: 0:00:58 Time:  0:00:58\n"
     ]
    },
    {
     "name": "stdout",
     "output_type": "stream",
     "text": [
      "...done, 501858388 bytes.\n",
      "m_3310110_nw_14_060_20180924.tif\n"
     ]
    },
    {
     "name": "stderr",
     "output_type": "stream",
     "text": [
      "100% (407874147 of 407874147) |##########| Elapsed Time: 0:00:43 Time:  0:00:43\n"
     ]
    },
    {
     "name": "stdout",
     "output_type": "stream",
     "text": [
      "...done, 407874147 bytes.\n",
      "m_4710348_sw_13_060_20180830.tif\n"
     ]
    },
    {
     "name": "stderr",
     "output_type": "stream",
     "text": [
      "100% (334151018 of 334151018) |##########| Elapsed Time: 0:00:27 Time:  0:00:27\n"
     ]
    },
    {
     "name": "stdout",
     "output_type": "stream",
     "text": [
      "...done, 334151018 bytes.\n",
      "m_3907513_ne_18_060_20180827.tif\n"
     ]
    },
    {
     "name": "stderr",
     "output_type": "stream",
     "text": [
      "100% (511935132 of 511935132) |##########| Elapsed Time: 0:00:45 Time:  0:00:45\n"
     ]
    },
    {
     "name": "stdout",
     "output_type": "stream",
     "text": [
      "...done, 511935132 bytes.\n",
      "m_3411863_sw_11_060_20180723.tif\n"
     ]
    },
    {
     "name": "stderr",
     "output_type": "stream",
     "text": [
      "100% (459247953 of 459247953) |##########| Elapsed Time: 0:00:39 Time:  0:00:39\n"
     ]
    },
    {
     "name": "stdout",
     "output_type": "stream",
     "text": [
      "...done, 459247953 bytes.\n",
      "m_4810123_nw_14_060_20181020.tif\n"
     ]
    },
    {
     "name": "stderr",
     "output_type": "stream",
     "text": [
      "100% (347726314 of 347726314) |##########| Elapsed Time: 0:00:30 Time:  0:00:30\n"
     ]
    },
    {
     "name": "stdout",
     "output_type": "stream",
     "text": [
      "...done, 347726314 bytes.\n",
      "m_4308819_sw_16_060_20180923.tif\n"
     ]
    },
    {
     "name": "stderr",
     "output_type": "stream",
     "text": [
      "100% (414481358 of 414481358) |##########| Elapsed Time: 0:00:47 Time:  0:00:47\n"
     ]
    },
    {
     "name": "stdout",
     "output_type": "stream",
     "text": [
      "...done, 414481358 bytes.\n",
      "m_3907652_ne_18_060_20180828.tif\n"
     ]
    },
    {
     "name": "stderr",
     "output_type": "stream",
     "text": [
      "100% (472586250 of 472586250) |##########| Elapsed Time: 0:00:40 Time:  0:00:40\n"
     ]
    },
    {
     "name": "stdout",
     "output_type": "stream",
     "text": [
      "...done, 472586250 bytes.\n",
      "m_3709350_se_15_060_20180827.tif\n"
     ]
    },
    {
     "name": "stderr",
     "output_type": "stream",
     "text": [
      "100% (409420184 of 409420184) |##########| Elapsed Time: 0:00:38 Time:  0:00:38\n"
     ]
    },
    {
     "name": "stdout",
     "output_type": "stream",
     "text": [
      "...done, 409420184 bytes.\n",
      "m_3608909_se_16_060_20180918.tif\n"
     ]
    },
    {
     "name": "stderr",
     "output_type": "stream",
     "text": [
      "100% (402943545 of 402943545) |##########| Elapsed Time: 0:00:36 Time:  0:00:36\n"
     ]
    },
    {
     "name": "stdout",
     "output_type": "stream",
     "text": [
      "...done, 402943545 bytes.\n",
      "m_3009743_ne_14_060_20181101.tif\n"
     ]
    },
    {
     "name": "stderr",
     "output_type": "stream",
     "text": [
      "100% (482788216 of 482788216) |##########| Elapsed Time: 0:00:40 Time:  0:00:40\n"
     ]
    },
    {
     "name": "stdout",
     "output_type": "stream",
     "text": [
      "...done, 482788216 bytes.\n",
      "m_3511833_sw_11_060_20180818.tif\n"
     ]
    },
    {
     "name": "stderr",
     "output_type": "stream",
     "text": [
      "100% (446634659 of 446634659) |##########| Elapsed Time: 0:01:09 Time:  0:01:09\n"
     ]
    },
    {
     "name": "stdout",
     "output_type": "stream",
     "text": [
      "...done, 446634659 bytes.\n",
      "m_2909532_sw_15_060_20181210.tif\n"
     ]
    },
    {
     "name": "stderr",
     "output_type": "stream",
     "text": [
      "100% (495597946 of 495597946) |##########| Elapsed Time: 0:00:43 Time:  0:00:43\n"
     ]
    },
    {
     "name": "stdout",
     "output_type": "stream",
     "text": [
      "...done, 495597946 bytes.\n",
      "m_3909344_ne_15_060_20181017.tif\n"
     ]
    },
    {
     "name": "stderr",
     "output_type": "stream",
     "text": [
      "100% (399437662 of 399437662) |##########| Elapsed Time: 0:00:35 Time:  0:00:35\n"
     ]
    },
    {
     "name": "stdout",
     "output_type": "stream",
     "text": [
      "...done, 399437662 bytes.\n",
      "m_3411762_nw_11_060_20180822.tif\n"
     ]
    },
    {
     "name": "stderr",
     "output_type": "stream",
     "text": [
      "100% (426969410 of 426969410) |##########| Elapsed Time: 0:00:37 Time:  0:00:37\n"
     ]
    },
    {
     "name": "stdout",
     "output_type": "stream",
     "text": [
      "...done, 426969410 bytes.\n",
      "m_4307030_ne_19_060_20180927.tif\n"
     ]
    },
    {
     "name": "stderr",
     "output_type": "stream",
     "text": [
      "100% (525986496 of 525986496) |##########| Elapsed Time: 0:00:46 Time:  0:00:46\n"
     ]
    },
    {
     "name": "stdout",
     "output_type": "stream",
     "text": [
      "...done, 525986496 bytes.\n",
      "m_3708944_se_16_060_20180917.tif\n"
     ]
    },
    {
     "name": "stderr",
     "output_type": "stream",
     "text": [
      "100% (400010878 of 400010878) |##########| Elapsed Time: 0:00:38 Time:  0:00:38\n"
     ]
    },
    {
     "name": "stdout",
     "output_type": "stream",
     "text": [
      "...done, 400010878 bytes.\n",
      "m_4209027_se_15_060_20181017.tif\n"
     ]
    },
    {
     "name": "stderr",
     "output_type": "stream",
     "text": [
      "100% (414530977 of 414530977) |##########| Elapsed Time: 0:00:36 Time:  0:00:36\n"
     ]
    },
    {
     "name": "stdout",
     "output_type": "stream",
     "text": [
      "...done, 414530977 bytes.\n",
      "m_4406826_ne_19_060_20180720.tif\n"
     ]
    },
    {
     "name": "stderr",
     "output_type": "stream",
     "text": [
      "100% (498139983 of 498139983) |##########| Elapsed Time: 0:00:44 Time:  0:00:44\n"
     ]
    },
    {
     "name": "stdout",
     "output_type": "stream",
     "text": [
      "...done, 498139983 bytes.\n",
      "m_4809707_nw_14_060_20180901.tif\n"
     ]
    },
    {
     "name": "stderr",
     "output_type": "stream",
     "text": [
      "100% (339204943 of 339204943) |##########| Elapsed Time: 0:00:30 Time:  0:00:30\n"
     ]
    },
    {
     "name": "stdout",
     "output_type": "stream",
     "text": [
      "...done, 339204943 bytes.\n",
      "m_3108938_se_16_060_20181028.tif\n"
     ]
    },
    {
     "name": "stderr",
     "output_type": "stream",
     "text": [
      "100% (490506117 of 490506117) |##########| Elapsed Time: 0:00:42 Time:  0:00:42\n"
     ]
    },
    {
     "name": "stdout",
     "output_type": "stream",
     "text": [
      "...done, 490506117 bytes.\n",
      "m_2609763_nw_14_060_20181214.tif\n"
     ]
    },
    {
     "name": "stderr",
     "output_type": "stream",
     "text": [
      "100% (102093943 of 102093943) |##########| Elapsed Time: 0:00:09 Time:  0:00:09\n"
     ]
    },
    {
     "name": "stdout",
     "output_type": "stream",
     "text": [
      "...done, 102093943 bytes.\n",
      "m_4008505_sw_16_060_20180708.tif\n"
     ]
    },
    {
     "name": "stderr",
     "output_type": "stream",
     "text": [
      "100% (488279824 of 488279824) |##########| Elapsed Time: 0:00:41 Time:  0:00:41\n"
     ]
    },
    {
     "name": "stdout",
     "output_type": "stream",
     "text": [
      "...done, 488279824 bytes.\n",
      "m_3809012_sw_15_060_20181020.tif\n"
     ]
    },
    {
     "name": "stderr",
     "output_type": "stream",
     "text": [
      "100% (438687445 of 438687445) |##########| Elapsed Time: 0:00:40 Time:  0:00:40\n"
     ]
    },
    {
     "name": "stdout",
     "output_type": "stream",
     "text": [
      "...done, 438687445 bytes.\n",
      "m_4008028_nw_17_060_20180701.tif\n"
     ]
    },
    {
     "name": "stderr",
     "output_type": "stream",
     "text": [
      "100% (433402595 of 433402595) |##########| Elapsed Time: 0:00:48 Time:  0:00:48\n"
     ]
    },
    {
     "name": "stdout",
     "output_type": "stream",
     "text": [
      "...done, 433402595 bytes.\n",
      "m_3607614_sw_18_060_20181003.tif\n"
     ]
    },
    {
     "name": "stderr",
     "output_type": "stream",
     "text": [
      "100% (558967860 of 558967860) |##########| Elapsed Time: 0:00:56 Time:  0:00:56\n"
     ]
    },
    {
     "name": "stdout",
     "output_type": "stream",
     "text": [
      "...done, 558967860 bytes.\n",
      "m_2709840_ne_14_060_20181209.tif\n"
     ]
    },
    {
     "name": "stderr",
     "output_type": "stream",
     "text": [
      "100% (485691154 of 485691154) |##########| Elapsed Time: 0:00:43 Time:  0:00:43\n"
     ]
    },
    {
     "name": "stdout",
     "output_type": "stream",
     "text": [
      "...done, 485691154 bytes.\n",
      "m_4409845_nw_14_060_20180907.tif\n"
     ]
    },
    {
     "name": "stderr",
     "output_type": "stream",
     "text": [
      "100% (343548679 of 343548679) |##########| Elapsed Time: 0:00:31 Time:  0:00:31\n"
     ]
    },
    {
     "name": "stdout",
     "output_type": "stream",
     "text": [
      "...done, 343548679 bytes.\n",
      "m_3309663_sw_14_060_20181127.tif\n"
     ]
    },
    {
     "name": "stderr",
     "output_type": "stream",
     "text": [
      "100% (453797250 of 453797250) |##########| Elapsed Time: 0:00:40 Time:  0:00:40\n"
     ]
    },
    {
     "name": "stdout",
     "output_type": "stream",
     "text": [
      "...done, 453797250 bytes.\n",
      "m_4810245_se_13_060_20180815.tif\n"
     ]
    },
    {
     "name": "stderr",
     "output_type": "stream",
     "text": [
      "100% (314883838 of 314883838) |##########| Elapsed Time: 0:00:29 Time:  0:00:29\n"
     ]
    },
    {
     "name": "stdout",
     "output_type": "stream",
     "text": [
      "...done, 314883838 bytes.\n",
      "m_3009622_sw_14_060_20181114.tif\n"
     ]
    },
    {
     "name": "stderr",
     "output_type": "stream",
     "text": [
      "100% (510782274 of 510782274) |##########| Elapsed Time: 0:00:57 Time:  0:00:57\n"
     ]
    },
    {
     "name": "stdout",
     "output_type": "stream",
     "text": [
      "...done, 510782274 bytes.\n",
      "m_3411760_nw_11_060_20180822.tif\n"
     ]
    },
    {
     "name": "stderr",
     "output_type": "stream",
     "text": [
      "100% (436545422 of 436545422) |##########| Elapsed Time: 0:00:47 Time:  0:00:47\n"
     ]
    },
    {
     "name": "stdout",
     "output_type": "stream",
     "text": [
      "...done, 436545422 bytes.\n",
      "m_4207148_ne_19_060_20181016.tif\n"
     ]
    },
    {
     "name": "stderr",
     "output_type": "stream",
     "text": [
      "100% (382073596 of 382073596) |##########| Elapsed Time: 0:00:42 Time:  0:00:42\n"
     ]
    },
    {
     "name": "stdout",
     "output_type": "stream",
     "text": [
      "...done, 382073596 bytes.\n",
      "m_3209540_sw_15_060_20181120.tif\n"
     ]
    },
    {
     "name": "stderr",
     "output_type": "stream",
     "text": [
      "100% (469087423 of 469087423) |##########| Elapsed Time: 0:00:43 Time:  0:00:43\n"
     ]
    },
    {
     "name": "stdout",
     "output_type": "stream",
     "text": [
      "...done, 469087423 bytes.\n",
      "m_3510052_ne_14_060_20180924.tif\n"
     ]
    },
    {
     "name": "stderr",
     "output_type": "stream",
     "text": [
      "100% (412446674 of 412446674) |##########| Elapsed Time: 0:00:43 Time:  0:00:43\n"
     ]
    },
    {
     "name": "stdout",
     "output_type": "stream",
     "text": [
      "...done, 412446674 bytes.\n",
      "m_4408511_se_16_060_20180912.tif\n"
     ]
    },
    {
     "name": "stderr",
     "output_type": "stream",
     "text": [
      "100% (502363784 of 502363784) |##########| Elapsed Time: 0:00:44 Time:  0:00:44\n"
     ]
    },
    {
     "name": "stdout",
     "output_type": "stream",
     "text": [
      "...done, 502363784 bytes.\n",
      "m_3209658_nw_14_060_20181114.tif\n"
     ]
    },
    {
     "name": "stderr",
     "output_type": "stream",
     "text": [
      "100% (421322884 of 421322884) |##########| Elapsed Time: 0:00:37 Time:  0:00:37\n"
     ]
    },
    {
     "name": "stdout",
     "output_type": "stream",
     "text": [
      "...done, 421322884 bytes.\n",
      "m_3110162_nw_14_060_20181201.tif\n"
     ]
    },
    {
     "name": "stderr",
     "output_type": "stream",
     "text": [
      "100% (472233021 of 472233021) |##########| Elapsed Time: 0:00:42 Time:  0:00:42\n"
     ]
    },
    {
     "name": "stdout",
     "output_type": "stream",
     "text": [
      "...done, 472233021 bytes.\n",
      "m_4610306_se_13_060_20181018.tif\n"
     ]
    },
    {
     "name": "stderr",
     "output_type": "stream",
     "text": [
      "100% (326692731 of 326692731) |##########| Elapsed Time: 0:00:32 Time:  0:00:32\n"
     ]
    },
    {
     "name": "stdout",
     "output_type": "stream",
     "text": [
      "...done, 326692731 bytes.\n",
      "m_3110302_se_13_060_20180929.tif\n"
     ]
    },
    {
     "name": "stderr",
     "output_type": "stream",
     "text": [
      "100% (508105636 of 508105636) |##########| Elapsed Time: 0:00:44 Time:  0:00:44\n"
     ]
    },
    {
     "name": "stdout",
     "output_type": "stream",
     "text": [
      "...done, 508105636 bytes.\n",
      "m_3508057_ne_17_060_20181107.tif\n"
     ]
    },
    {
     "name": "stderr",
     "output_type": "stream",
     "text": [
      "100% (445281987 of 445281987) |##########| Elapsed Time: 0:00:41 Time:  0:00:41\n"
     ]
    },
    {
     "name": "stdout",
     "output_type": "stream",
     "text": [
      "...done, 445281987 bytes.\n",
      "m_3909451_se_15_060_20180923.tif\n"
     ]
    },
    {
     "name": "stderr",
     "output_type": "stream",
     "text": [
      "100% (421702554 of 421702554) |##########| Elapsed Time: 0:00:36 Time:  0:00:36\n"
     ]
    },
    {
     "name": "stdout",
     "output_type": "stream",
     "text": [
      "...done, 421702554 bytes.\n"
     ]
    }
   ],
   "source": [
    "unverified_set3_subfolders_path = os.path.join(parent_directory,\"unverified_images\\student_reviewed_unverified_images_set3\")\n",
    "unverified_set3_subfolders_paths = ap.img_path_anno_path(ap.list_of_sub_directories(unverified_set3_subfolders_path))\n",
    "\n",
    "\n",
    "## Get a list of the tiles in the subfolder\n",
    "tiles = []\n",
    "for directory in tqdm.tqdm(unverified_set3_subfolders_paths):\n",
    "    #get all the image and xml paths in directory of annotated images\n",
    "    #print(directory)\n",
    "    fc.remove_thumbs(directory[0])\n",
    "    image_paths = glob(directory[0] + \"/*.jpg\", recursive = True)\n",
    "    xml_paths = glob(directory[1] + \"/*.xml\", recursive = True)\n",
    "    #print(len(image_paths),len(xml_paths))\n",
    "\n",
    "    #identify tiles in each folder\n",
    "    for image in image_paths:\n",
    "        image_name = os.path.splitext(os.path.basename(image))[0]\n",
    "        tile_name = image_name.split(\"_\",4)[-1].rsplit(\"_\",1)[0]\n",
    "        tiles.append(tile_name)\n",
    "tiles = np.unique(tiles)\n",
    "\n",
    "## Get a list of the tiles downloaded (without the extension)\n",
    "tiles_downloaded =  os.listdir(tiles_complete_dataset_path)\n",
    "tiles_downloaded_wo_ext = []\n",
    "for tile_downloaded in tiles_downloaded:\n",
    "    tiles_downloaded_wo_ext.append(os.path.splitext(tile_downloaded)[0])\n",
    "print(len(tiles_downloaded_wo_ext))\n",
    "\n",
    "## Get a list of the the tiles that need to be downloaded\n",
    "tiles_to_download = list(set(tiles.tolist()) - set(tiles_downloaded_wo_ext)) \n",
    "\n",
    "## Download Tiles\n",
    "tile_names = []\n",
    "tile_urls = []\n",
    "file_names = []\n",
    "for tile in tiles_to_download:   \n",
    "    ### download the tiles if they are not in the tiles folder \n",
    "    #check if the tile name is contained in the string of complete arrays\n",
    "    tile_name = [string for string in tile_names_tile_urls_complete_array[:,0] if tile in string]          \n",
    "    if len(tile_name) == 1: #A single tile name # get tile url from the first (only) entry\n",
    "        tile_url = tile_names_tile_urls_complete_array[tile_names_tile_urls_complete_array[:,0]==tile_name[0]][0][1] \n",
    "        tile_names.append(tile_name[0])\n",
    "        tile_urls.append(tile_url)\n",
    "    elif len(np.unique(tile_name)) > 1: # Multiple (different tiles) possibly the same tiles in different states, possible different years\n",
    "        tile_url = tile_names_tile_urls_complete_array[tile_names_tile_urls_complete_array[:,0]==tile_name[0]][0][1]# get tile url\n",
    "        tile_names.append(tile_name[0])\n",
    "        tile_urls.append(tile_url)\n",
    "    elif (len(tile_name) > 1): #Multiple different tile names that are the same, probably different naip storage locations\n",
    "        # get tile url from the second entry \n",
    "        tile_url = tile_names_tile_urls_complete_array[tile_names_tile_urls_complete_array[:,0]==tile_name[1]][1][1] \n",
    "        tile_names.append(tile_name[1])\n",
    "        tile_urls.append(tile_url)\n",
    "\n",
    "    #get file name\n",
    "    file_name = tile_name[0]\n",
    "    if tile_name[0].count(\"_\") > 5:\n",
    "        tile_name = tile_name[0].rsplit(\"_\",1)[0]\n",
    "        file_name = tile_name + \".tif\"\n",
    "    print(file_name)\n",
    "    ### Download tile\n",
    "    file_names.append(ap.download_url(tile_url, tiles_complete_dataset_path,\n",
    "                                                 destination_filename = file_name,       \n",
    "                                                         progress_updater=ap.DownloadProgressBar()))"
   ]
  },
  {
   "cell_type": "markdown",
   "id": "8f2470b3-c9a4-4de7-bc71-afc7e1272611",
   "metadata": {
    "jp-MarkdownHeadingCollapsed": true,
    "tags": []
   },
   "source": [
    "## Set 4"
   ]
  },
  {
   "cell_type": "code",
   "execution_count": 42,
   "id": "d8b44134-194b-4558-adde-45396db8d9df",
   "metadata": {
    "tags": []
   },
   "outputs": [
    {
     "name": "stderr",
     "output_type": "stream",
     "text": [
      "100%|██████████| 14/14 [00:00<00:00, 36.00it/s]\n"
     ]
    },
    {
     "name": "stdout",
     "output_type": "stream",
     "text": [
      "2021\n",
      "118\n",
      "m_4208355_sw_17_060_20180707.tif\n"
     ]
    },
    {
     "name": "stderr",
     "output_type": "stream",
     "text": [
      "100% (512753778 of 512753778) |##########| Elapsed Time: 0:00:55 Time:  0:00:55\n"
     ]
    },
    {
     "name": "stdout",
     "output_type": "stream",
     "text": [
      "...done, 512753778 bytes.\n",
      "m_3110238_sw_13_060_20180924.tif\n"
     ]
    },
    {
     "name": "stderr",
     "output_type": "stream",
     "text": [
      "100% (495216713 of 495216713) |##########| Elapsed Time: 0:00:42 Time:  0:00:42\n"
     ]
    },
    {
     "name": "stdout",
     "output_type": "stream",
     "text": [
      "...done, 495216713 bytes.\n",
      "m_3908011_nw_17_060_20180701.tif\n"
     ]
    },
    {
     "name": "stderr",
     "output_type": "stream",
     "text": [
      "100% (431921123 of 431921123) |##########| Elapsed Time: 0:00:53 Time:  0:00:53\n"
     ]
    },
    {
     "name": "stdout",
     "output_type": "stream",
     "text": [
      "...done, 431921123 bytes.\n",
      "m_3208646_sw_16_060_20190918.tif\n"
     ]
    },
    {
     "name": "stderr",
     "output_type": "stream",
     "text": [
      "100% (428880952 of 428880952) |##########| Elapsed Time: 0:00:34 Time:  0:00:34\n"
     ]
    },
    {
     "name": "stdout",
     "output_type": "stream",
     "text": [
      "...done, 428880952 bytes.\n",
      "m_2809504_ne_15_060_20181210.tif\n"
     ]
    },
    {
     "name": "stderr",
     "output_type": "stream",
     "text": [
      "100% (485983112 of 485983112) |##########| Elapsed Time: 0:00:40 Time:  0:00:40\n"
     ]
    },
    {
     "name": "stdout",
     "output_type": "stream",
     "text": [
      "...done, 485983112 bytes.\n",
      "m_3109544_se_15_060_20181202.tif\n"
     ]
    },
    {
     "name": "stderr",
     "output_type": "stream",
     "text": [
      "100% (454493187 of 454493187) |##########| Elapsed Time: 0:00:40 Time:  0:00:40\n"
     ]
    },
    {
     "name": "stdout",
     "output_type": "stream",
     "text": [
      "...done, 454493187 bytes.\n",
      "m_3208816_se_16_060_20191109.tif\n"
     ]
    },
    {
     "name": "stderr",
     "output_type": "stream",
     "text": [
      "100% (487734117 of 487734117) |##########| Elapsed Time: 0:00:56 Time:  0:00:56\n"
     ]
    },
    {
     "name": "stdout",
     "output_type": "stream",
     "text": [
      "...done, 487734117 bytes.\n",
      "m_4408928_sw_16_060_20180910.tif\n"
     ]
    },
    {
     "name": "stderr",
     "output_type": "stream",
     "text": [
      "100% (420565181 of 420565181) |##########| Elapsed Time: 0:00:37 Time:  0:00:37\n"
     ]
    },
    {
     "name": "stdout",
     "output_type": "stream",
     "text": [
      "...done, 420565181 bytes.\n",
      "m_2909121_nw_15_060_20190706.tif\n"
     ]
    },
    {
     "name": "stderr",
     "output_type": "stream",
     "text": [
      "100% (491106488 of 491106488) |##########| Elapsed Time: 0:01:22 Time:  0:01:22\n"
     ]
    },
    {
     "name": "stdout",
     "output_type": "stream",
     "text": [
      "...done, 491106488 bytes.\n",
      "m_3510037_ne_14_060_20180929.tif\n"
     ]
    },
    {
     "name": "stderr",
     "output_type": "stream",
     "text": [
      "100% (428449782 of 428449782) |##########| Elapsed Time: 0:00:35 Time:  0:00:35\n"
     ]
    },
    {
     "name": "stdout",
     "output_type": "stream",
     "text": [
      "...done, 428449782 bytes.\n",
      "m_4110241_ne_13_060_20180915.tif\n"
     ]
    },
    {
     "name": "stderr",
     "output_type": "stream",
     "text": [
      "100% (338196405 of 338196405) |##########| Elapsed Time: 0:00:32 Time:  0:00:32\n"
     ]
    },
    {
     "name": "stdout",
     "output_type": "stream",
     "text": [
      "...done, 338196405 bytes.\n",
      "m_3209934_nw_14_060_20181028.tif\n"
     ]
    },
    {
     "name": "stderr",
     "output_type": "stream",
     "text": [
      "100% (451611838 of 451611838) |##########| Elapsed Time: 0:00:38 Time:  0:00:38\n"
     ]
    },
    {
     "name": "stdout",
     "output_type": "stream",
     "text": [
      "...done, 451611838 bytes.\n",
      "m_4606816_ne_19_060_20180811.tif\n"
     ]
    },
    {
     "name": "stderr",
     "output_type": "stream",
     "text": [
      "100% (465766780 of 465766780) |##########| Elapsed Time: 0:00:39 Time:  0:00:39\n"
     ]
    },
    {
     "name": "stdout",
     "output_type": "stream",
     "text": [
      "...done, 465766780 bytes.\n",
      "m_2909845_sw_14_060_20181102.tif\n"
     ]
    },
    {
     "name": "stderr",
     "output_type": "stream",
     "text": [
      "100% (446576703 of 446576703) |##########| Elapsed Time: 0:00:42 Time:  0:00:42\n"
     ]
    },
    {
     "name": "stdout",
     "output_type": "stream",
     "text": [
      "...done, 446576703 bytes.\n",
      "m_2909112_ne_15_060_20190706.tif\n"
     ]
    },
    {
     "name": "stderr",
     "output_type": "stream",
     "text": [
      "100% (455895104 of 455895104) |##########| Elapsed Time: 0:00:46 Time:  0:00:46\n"
     ]
    },
    {
     "name": "stdout",
     "output_type": "stream",
     "text": [
      "...done, 455895104 bytes.\n",
      "m_4208212_se_17_060_20180706.tif\n"
     ]
    },
    {
     "name": "stderr",
     "output_type": "stream",
     "text": [
      "100% (466045554 of 466045554) |##########| Elapsed Time: 0:01:03 Time:  0:01:03\n"
     ]
    },
    {
     "name": "stdout",
     "output_type": "stream",
     "text": [
      "...done, 466045554 bytes.\n",
      "m_3510101_ne_14_060_20180913.tif\n"
     ]
    },
    {
     "name": "stderr",
     "output_type": "stream",
     "text": [
      "100% (410264095 of 410264095) |##########| Elapsed Time: 0:00:33 Time:  0:00:33\n"
     ]
    },
    {
     "name": "stdout",
     "output_type": "stream",
     "text": [
      "...done, 410264095 bytes.\n",
      "m_3208726_se_16_060_20191109.tif\n"
     ]
    },
    {
     "name": "stderr",
     "output_type": "stream",
     "text": [
      "100% (462312509 of 462312509) |##########| Elapsed Time: 0:00:39 Time:  0:00:39\n"
     ]
    },
    {
     "name": "stdout",
     "output_type": "stream",
     "text": [
      "...done, 462312509 bytes.\n",
      "m_3908004_sw_17_060_20180701.tif\n"
     ]
    },
    {
     "name": "stderr",
     "output_type": "stream",
     "text": [
      "100% (435624485 of 435624485) |##########| Elapsed Time: 0:01:10 Time:  0:01:10\n"
     ]
    },
    {
     "name": "stdout",
     "output_type": "stream",
     "text": [
      "...done, 435624485 bytes.\n",
      "m_3108961_sw_16_060_20181103.tif\n"
     ]
    },
    {
     "name": "stderr",
     "output_type": "stream",
     "text": [
      "100% (500686984 of 500686984) |##########| Elapsed Time: 0:00:41 Time:  0:00:41\n"
     ]
    },
    {
     "name": "stdout",
     "output_type": "stream",
     "text": [
      "...done, 500686984 bytes.\n",
      "m_3311815_se_11_060_20180723.tif\n"
     ]
    },
    {
     "name": "stderr",
     "output_type": "stream",
     "text": [
      "100% (465801799 of 465801799) |##########| Elapsed Time: 0:00:36 Time:  0:00:36\n"
     ]
    },
    {
     "name": "stdout",
     "output_type": "stream",
     "text": [
      "...done, 465801799 bytes.\n",
      "m_2909123_nw_15_060_20190707.tif\n"
     ]
    },
    {
     "name": "stderr",
     "output_type": "stream",
     "text": [
      "100% (462549939 of 462549939) |##########| Elapsed Time: 0:00:46 Time:  0:00:46\n"
     ]
    },
    {
     "name": "stdout",
     "output_type": "stream",
     "text": [
      "...done, 462549939 bytes.\n",
      "m_4007303_ne_18_060_20180829.tif\n"
     ]
    },
    {
     "name": "stderr",
     "output_type": "stream",
     "text": [
      "100% (371175241 of 371175241) |##########| Elapsed Time: 0:00:31 Time:  0:00:31\n"
     ]
    },
    {
     "name": "stdout",
     "output_type": "stream",
     "text": [
      "...done, 371175241 bytes.\n",
      "m_4010905_se_12_060_20180922.tif\n"
     ]
    },
    {
     "name": "stderr",
     "output_type": "stream",
     "text": [
      "100% (430713950 of 430713950) |##########| Elapsed Time: 0:01:34 Time:  0:01:34\n"
     ]
    },
    {
     "name": "stdout",
     "output_type": "stream",
     "text": [
      "...done, 430713950 bytes.\n",
      "m_3409036_nw_15_060_20181205.tif\n"
     ]
    },
    {
     "name": "stderr",
     "output_type": "stream",
     "text": [
      "100% (423331541 of 423331541) |##########| Elapsed Time: 0:00:34 Time:  0:00:34\n"
     ]
    },
    {
     "name": "stdout",
     "output_type": "stream",
     "text": [
      "...done, 423331541 bytes.\n",
      "m_3009531_ne_15_060_20181126.tif\n"
     ]
    },
    {
     "name": "stderr",
     "output_type": "stream",
     "text": [
      "100% (499420465 of 499420465) |##########| Elapsed Time: 0:01:00 Time:  0:01:00\n"
     ]
    },
    {
     "name": "stdout",
     "output_type": "stream",
     "text": [
      "...done, 499420465 bytes.\n",
      "m_2909559_sw_15_060_20181210.tif\n"
     ]
    },
    {
     "name": "stderr",
     "output_type": "stream",
     "text": [
      "100% (527408280 of 527408280) |##########| Elapsed Time: 0:00:58 Time:  0:00:58\n"
     ]
    },
    {
     "name": "stdout",
     "output_type": "stream",
     "text": [
      "...done, 527408280 bytes.\n",
      "m_2909756_se_14_060_20181126.tif\n"
     ]
    },
    {
     "name": "stderr",
     "output_type": "stream",
     "text": [
      "100% (465721451 of 465721451) |##########| Elapsed Time: 0:00:55 Time:  0:00:55\n"
     ]
    },
    {
     "name": "stdout",
     "output_type": "stream",
     "text": [
      "...done, 465721451 bytes.\n",
      "m_4011109_ne_12_060_20180828.tif\n"
     ]
    },
    {
     "name": "stderr",
     "output_type": "stream",
     "text": [
      "100% (384530201 of 384530201) |##########| Elapsed Time: 0:00:31 Time:  0:00:31\n"
     ]
    },
    {
     "name": "stdout",
     "output_type": "stream",
     "text": [
      "...done, 384530201 bytes.\n",
      "m_3110302_sw_13_060_20180929.tif\n"
     ]
    },
    {
     "name": "stderr",
     "output_type": "stream",
     "text": [
      "100% (498806173 of 498806173) |##########| Elapsed Time: 0:00:51 Time:  0:00:51\n"
     ]
    },
    {
     "name": "stdout",
     "output_type": "stream",
     "text": [
      "...done, 498806173 bytes.\n",
      "m_3411836_sw_11_060_20180722.tif\n"
     ]
    },
    {
     "name": "stderr",
     "output_type": "stream",
     "text": [
      "100% (471445214 of 471445214) |##########| Elapsed Time: 0:00:39 Time:  0:00:39\n"
     ]
    },
    {
     "name": "stdout",
     "output_type": "stream",
     "text": [
      "...done, 471445214 bytes.\n",
      "m_3410502_ne_13_060_20180509.tif\n"
     ]
    },
    {
     "name": "stderr",
     "output_type": "stream",
     "text": [
      "100% (384443109 of 384443109) |##########| Elapsed Time: 0:00:32 Time:  0:00:32\n"
     ]
    },
    {
     "name": "stdout",
     "output_type": "stream",
     "text": [
      "...done, 384443109 bytes.\n",
      "m_3208462_se_16_060_20191109.tif\n"
     ]
    },
    {
     "name": "stderr",
     "output_type": "stream",
     "text": [
      "100% (498097193 of 498097193) |##########| Elapsed Time: 0:00:41 Time:  0:00:41\n"
     ]
    },
    {
     "name": "stdout",
     "output_type": "stream",
     "text": [
      "...done, 498097193 bytes.\n",
      "m_2909559_se_15_060_20181210.tif\n"
     ]
    },
    {
     "name": "stderr",
     "output_type": "stream",
     "text": [
      "100% (514101392 of 514101392) |##########| Elapsed Time: 0:00:42 Time:  0:00:42\n"
     ]
    },
    {
     "name": "stdout",
     "output_type": "stream",
     "text": [
      "...done, 514101392 bytes.\n",
      "m_3510002_sw_14_060_20180917.tif\n"
     ]
    },
    {
     "name": "stderr",
     "output_type": "stream",
     "text": [
      "100% (437012427 of 437012427) |##########| Elapsed Time: 0:00:38 Time:  0:00:38\n"
     ]
    },
    {
     "name": "stdout",
     "output_type": "stream",
     "text": [
      "...done, 437012427 bytes.\n",
      "m_4108624_nw_16_060_20180708.tif\n"
     ]
    },
    {
     "name": "stderr",
     "output_type": "stream",
     "text": [
      "100% (478646831 of 478646831) |##########| Elapsed Time: 0:00:55 Time:  0:00:55\n"
     ]
    },
    {
     "name": "stdout",
     "output_type": "stream",
     "text": [
      "...done, 478646831 bytes.\n",
      "m_3108920_nw_16_060_20181103.tif\n"
     ]
    },
    {
     "name": "stderr",
     "output_type": "stream",
     "text": [
      "100% (495545646 of 495545646) |##########| Elapsed Time: 0:00:56 Time:  0:00:56\n"
     ]
    },
    {
     "name": "stdout",
     "output_type": "stream",
     "text": [
      "...done, 495545646 bytes.\n",
      "m_4207252_sw_18_060_20181107.tif\n"
     ]
    },
    {
     "name": "stderr",
     "output_type": "stream",
     "text": [
      "100% (471899422 of 471899422) |##########| Elapsed Time: 0:00:54 Time:  0:00:54\n"
     ]
    },
    {
     "name": "stdout",
     "output_type": "stream",
     "text": [
      "...done, 471899422 bytes.\n",
      "m_3009735_sw_14_060_20181101.tif\n"
     ]
    },
    {
     "name": "stderr",
     "output_type": "stream",
     "text": [
      "100% (496214185 of 496214185) |##########| Elapsed Time: 0:00:44 Time:  0:00:44\n"
     ]
    },
    {
     "name": "stdout",
     "output_type": "stream",
     "text": [
      "...done, 496214185 bytes.\n",
      "m_3208843_nw_16_060_20181030.tif\n"
     ]
    },
    {
     "name": "stderr",
     "output_type": "stream",
     "text": [
      "100% (478592608 of 478592608) |##########| Elapsed Time: 0:00:42 Time:  0:00:42\n"
     ]
    },
    {
     "name": "stdout",
     "output_type": "stream",
     "text": [
      "...done, 478592608 bytes.\n",
      "m_3209513_nw_15_060_20181127.tif\n"
     ]
    },
    {
     "name": "stderr",
     "output_type": "stream",
     "text": [
      "100% (477716150 of 477716150) |##########| Elapsed Time: 0:00:39 Time:  0:00:39\n"
     ]
    },
    {
     "name": "stdout",
     "output_type": "stream",
     "text": [
      "...done, 477716150 bytes.\n",
      "m_3907748_ne_18_060_20181211.tif\n"
     ]
    },
    {
     "name": "stderr",
     "output_type": "stream",
     "text": [
      "100% (524864668 of 524864668) |##########| Elapsed Time: 0:00:44 Time:  0:00:44\n"
     ]
    },
    {
     "name": "stdout",
     "output_type": "stream",
     "text": [
      "...done, 524864668 bytes.\n",
      "m_3607606_sw_18_060_20181003.tif\n"
     ]
    },
    {
     "name": "stderr",
     "output_type": "stream",
     "text": [
      "100% (490329465 of 490329465) |##########| Elapsed Time: 0:01:11 Time:  0:01:11\n"
     ]
    },
    {
     "name": "stdout",
     "output_type": "stream",
     "text": [
      "...done, 490329465 bytes.\n",
      "m_2609838_sw_14_060_20190105.tif\n"
     ]
    },
    {
     "name": "stderr",
     "output_type": "stream",
     "text": [
      "100% (430002853 of 430002853) |##########| Elapsed Time: 0:00:35 Time:  0:00:35\n"
     ]
    },
    {
     "name": "stdout",
     "output_type": "stream",
     "text": [
      "...done, 430002853 bytes.\n",
      "m_2909123_se_15_060_20190707.tif\n"
     ]
    },
    {
     "name": "stderr",
     "output_type": "stream",
     "text": [
      "100% (451835007 of 451835007) |##########| Elapsed Time: 0:00:38 Time:  0:00:38\n"
     ]
    },
    {
     "name": "stdout",
     "output_type": "stream",
     "text": [
      "...done, 451835007 bytes.\n",
      "m_3009729_nw_14_060_20181101.tif\n"
     ]
    },
    {
     "name": "stderr",
     "output_type": "stream",
     "text": [
      "100% (441087399 of 441087399) |##########| Elapsed Time: 0:00:36 Time:  0:00:36\n"
     ]
    },
    {
     "name": "stdout",
     "output_type": "stream",
     "text": [
      "...done, 441087399 bytes.\n",
      "m_3209219_se_15_060_20190901.tif\n"
     ]
    },
    {
     "name": "stderr",
     "output_type": "stream",
     "text": [
      "100% (502079690 of 502079690) |##########| Elapsed Time: 0:00:43 Time:  0:00:43\n"
     ]
    },
    {
     "name": "stdout",
     "output_type": "stream",
     "text": [
      "...done, 502079690 bytes.\n",
      "m_3209225_se_15_060_20190903.tif\n"
     ]
    },
    {
     "name": "stderr",
     "output_type": "stream",
     "text": [
      "100% (501484821 of 501484821) |##########| Elapsed Time: 0:00:41 Time:  0:00:41\n"
     ]
    },
    {
     "name": "stdout",
     "output_type": "stream",
     "text": [
      "...done, 501484821 bytes.\n",
      "m_3210322_ne_13_060_20180618.tif\n"
     ]
    },
    {
     "name": "stderr",
     "output_type": "stream",
     "text": [
      "100% (436178333 of 436178333) |##########| Elapsed Time: 0:00:50 Time:  0:00:50\n"
     ]
    },
    {
     "name": "stdout",
     "output_type": "stream",
     "text": [
      "...done, 436178333 bytes.\n",
      "m_3707935_sw_17_060_20181018.tif\n"
     ]
    },
    {
     "name": "stderr",
     "output_type": "stream",
     "text": [
      "100% (579588710 of 579588710) |##########| Elapsed Time: 0:00:47 Time:  0:00:47\n"
     ]
    },
    {
     "name": "stdout",
     "output_type": "stream",
     "text": [
      "...done, 579588710 bytes.\n",
      "m_4308856_ne_16_060_20180914.tif\n"
     ]
    },
    {
     "name": "stderr",
     "output_type": "stream",
     "text": [
      "100% (407712488 of 407712488) |##########| Elapsed Time: 0:00:50 Time:  0:00:50\n"
     ]
    },
    {
     "name": "stdout",
     "output_type": "stream",
     "text": [
      "...done, 407712488 bytes.\n",
      "m_4307058_nw_19_060_20180827.tif\n"
     ]
    },
    {
     "name": "stderr",
     "output_type": "stream",
     "text": [
      "100% (497842110 of 497842110) |##########| Elapsed Time: 0:00:49 Time:  0:00:49\n"
     ]
    },
    {
     "name": "stdout",
     "output_type": "stream",
     "text": [
      "...done, 497842110 bytes.\n",
      "m_3511964_sw_11_060_20180713.tif\n"
     ]
    },
    {
     "name": "stderr",
     "output_type": "stream",
     "text": [
      "100% (454060434 of 454060434) |##########| Elapsed Time: 0:00:37 Time:  0:00:37\n"
     ]
    },
    {
     "name": "stdout",
     "output_type": "stream",
     "text": [
      "...done, 454060434 bytes.\n",
      "m_3210330_ne_13_060_20180618.tif\n"
     ]
    },
    {
     "name": "stderr",
     "output_type": "stream",
     "text": [
      "100% (478559245 of 478559245) |##########| Elapsed Time: 0:00:42 Time:  0:00:42\n"
     ]
    },
    {
     "name": "stdout",
     "output_type": "stream",
     "text": [
      "...done, 478559245 bytes.\n",
      "m_3908053_sw_17_060_20180707.tif\n"
     ]
    },
    {
     "name": "stderr",
     "output_type": "stream",
     "text": [
      "100% (469077376 of 469077376) |##########| Elapsed Time: 0:00:40 Time:  0:00:40\n"
     ]
    },
    {
     "name": "stdout",
     "output_type": "stream",
     "text": [
      "...done, 469077376 bytes.\n",
      "m_4609601_se_14_060_20181018.tif\n"
     ]
    },
    {
     "name": "stderr",
     "output_type": "stream",
     "text": [
      "100% (361928384 of 361928384) |##########| Elapsed Time: 0:00:35 Time:  0:00:35\n"
     ]
    },
    {
     "name": "stdout",
     "output_type": "stream",
     "text": [
      "...done, 361928384 bytes.\n",
      "m_3209830_sw_14_060_20180821.tif\n"
     ]
    },
    {
     "name": "stderr",
     "output_type": "stream",
     "text": [
      "100% (455877746 of 455877746) |##########| Elapsed Time: 0:00:38 Time:  0:00:38\n"
     ]
    },
    {
     "name": "stdout",
     "output_type": "stream",
     "text": [
      "...done, 455877746 bytes.\n",
      "m_2809839_nw_14_060_20181103.tif\n"
     ]
    },
    {
     "name": "stderr",
     "output_type": "stream",
     "text": [
      "100% (448215639 of 448215639) |##########| Elapsed Time: 0:00:36 Time:  0:00:36\n"
     ]
    },
    {
     "name": "stdout",
     "output_type": "stream",
     "text": [
      "...done, 448215639 bytes.\n",
      "m_3209454_se_15_060_20181122.tif\n"
     ]
    },
    {
     "name": "stderr",
     "output_type": "stream",
     "text": [
      "100% (473029332 of 473029332) |##########| Elapsed Time: 0:00:44 Time:  0:00:44\n"
     ]
    },
    {
     "name": "stdout",
     "output_type": "stream",
     "text": [
      "...done, 473029332 bytes.\n",
      "m_3210352_ne_13_060_20180506.tif\n"
     ]
    },
    {
     "name": "stderr",
     "output_type": "stream",
     "text": [
      "100% (433732285 of 433732285) |##########| Elapsed Time: 0:00:46 Time:  0:00:46\n"
     ]
    },
    {
     "name": "stdout",
     "output_type": "stream",
     "text": [
      "...done, 433732285 bytes.\n",
      "m_4309626_se_14_060_20180912.tif\n"
     ]
    },
    {
     "name": "stderr",
     "output_type": "stream",
     "text": [
      "100% (402164148 of 402164148) |##########| Elapsed Time: 0:00:45 Time:  0:00:45\n"
     ]
    },
    {
     "name": "stdout",
     "output_type": "stream",
     "text": [
      "...done, 402164148 bytes.\n",
      "m_3508301_se_17_060_20181021.tif\n"
     ]
    },
    {
     "name": "stderr",
     "output_type": "stream",
     "text": [
      "100% (572457655 of 572457655) |##########| Elapsed Time: 0:00:47 Time:  0:00:47\n"
     ]
    },
    {
     "name": "stdout",
     "output_type": "stream",
     "text": [
      "...done, 572457655 bytes.\n",
      "m_2909521_se_15_060_20181204.tif\n"
     ]
    },
    {
     "name": "stderr",
     "output_type": "stream",
     "text": [
      "100% (497846234 of 497846234) |##########| Elapsed Time: 0:00:48 Time:  0:00:48\n"
     ]
    },
    {
     "name": "stdout",
     "output_type": "stream",
     "text": [
      "...done, 497846234 bytes.\n",
      "m_3108811_sw_16_060_20181103.tif\n"
     ]
    },
    {
     "name": "stderr",
     "output_type": "stream",
     "text": [
      "100% (495095273 of 495095273) |##########| Elapsed Time: 0:00:41 Time:  0:00:41\n"
     ]
    },
    {
     "name": "stdout",
     "output_type": "stream",
     "text": [
      "...done, 495095273 bytes.\n",
      "m_4009501_ne_15_060_20180911.tif\n"
     ]
    },
    {
     "name": "stderr",
     "output_type": "stream",
     "text": [
      "100% (418093497 of 418093497) |##########| Elapsed Time: 0:00:34 Time:  0:00:34\n"
     ]
    },
    {
     "name": "stdout",
     "output_type": "stream",
     "text": [
      "...done, 418093497 bytes.\n",
      "m_3310236_ne_13_060_20180928.tif\n"
     ]
    },
    {
     "name": "stderr",
     "output_type": "stream",
     "text": [
      "100% (447645532 of 447645532) |##########| Elapsed Time: 0:00:47 Time:  0:00:47\n"
     ]
    },
    {
     "name": "stdout",
     "output_type": "stream",
     "text": [
      "...done, 447645532 bytes.\n",
      "m_3511940_se_11_060_20180713.tif\n"
     ]
    },
    {
     "name": "stderr",
     "output_type": "stream",
     "text": [
      "100% (441263153 of 441263153) |##########| Elapsed Time: 0:00:56 Time:  0:00:56\n"
     ]
    },
    {
     "name": "stdout",
     "output_type": "stream",
     "text": [
      "...done, 441263153 bytes.\n",
      "m_4709708_nw_14_060_20180901.tif\n"
     ]
    },
    {
     "name": "stderr",
     "output_type": "stream",
     "text": [
      "100% (358593098 of 358593098) |##########| Elapsed Time: 0:00:39 Time:  0:00:39\n"
     ]
    },
    {
     "name": "stdout",
     "output_type": "stream",
     "text": [
      "...done, 358593098 bytes.\n",
      "m_3208645_ne_16_060_20190918.tif\n"
     ]
    },
    {
     "name": "stderr",
     "output_type": "stream",
     "text": [
      "100% (463408675 of 463408675) |##########| Elapsed Time: 0:00:48 Time:  0:00:48\n"
     ]
    },
    {
     "name": "stdout",
     "output_type": "stream",
     "text": [
      "...done, 463408675 bytes.\n",
      "m_3409036_nw_15_060_20190816.tif\n"
     ]
    },
    {
     "name": "stderr",
     "output_type": "stream",
     "text": [
      "100% (458449789 of 458449789) |##########| Elapsed Time: 0:01:33 Time:  0:01:33\n"
     ]
    },
    {
     "name": "stdout",
     "output_type": "stream",
     "text": [
      "...done, 458449789 bytes.\n",
      "m_3209610_se_14_060_20181126.tif\n"
     ]
    },
    {
     "name": "stderr",
     "output_type": "stream",
     "text": [
      "100% (484184780 of 484184780) |##########| Elapsed Time: 0:00:40 Time:  0:00:40\n"
     ]
    },
    {
     "name": "stdout",
     "output_type": "stream",
     "text": [
      "...done, 484184780 bytes.\n",
      "m_4011107_se_12_060_20180911.tif\n"
     ]
    },
    {
     "name": "stderr",
     "output_type": "stream",
     "text": [
      "100% (407565311 of 407565311) |##########| Elapsed Time: 0:00:33 Time:  0:00:33\n"
     ]
    },
    {
     "name": "stdout",
     "output_type": "stream",
     "text": [
      "...done, 407565311 bytes.\n",
      "m_2909505_se_15_060_20181204.tif\n"
     ]
    },
    {
     "name": "stderr",
     "output_type": "stream",
     "text": [
      "100% (502616557 of 502616557) |##########| Elapsed Time: 0:01:25 Time:  0:01:25\n"
     ]
    },
    {
     "name": "stdout",
     "output_type": "stream",
     "text": [
      "...done, 502616557 bytes.\n",
      "m_3310216_nw_13_060_20180923.tif\n"
     ]
    },
    {
     "name": "stderr",
     "output_type": "stream",
     "text": [
      "100% (422194281 of 422194281) |##########| Elapsed Time: 0:00:41 Time:  0:00:41\n"
     ]
    },
    {
     "name": "stdout",
     "output_type": "stream",
     "text": [
      "...done, 422194281 bytes.\n",
      "m_4009806_nw_14_060_20180710.tif\n"
     ]
    },
    {
     "name": "stderr",
     "output_type": "stream",
     "text": [
      "100% (398651766 of 398651766) |##########| Elapsed Time: 0:00:33 Time:  0:00:33\n"
     ]
    },
    {
     "name": "stdout",
     "output_type": "stream",
     "text": [
      "...done, 398651766 bytes.\n",
      "m_3812115_sw_10_060_20180714.tif\n"
     ]
    },
    {
     "name": "stderr",
     "output_type": "stream",
     "text": [
      "100% (450286060 of 450286060) |##########| Elapsed Time: 0:00:49 Time:  0:00:49\n"
     ]
    },
    {
     "name": "stdout",
     "output_type": "stream",
     "text": [
      "...done, 450286060 bytes.\n",
      "m_3209041_se_15_060_20190901.tif\n"
     ]
    },
    {
     "name": "stderr",
     "output_type": "stream",
     "text": [
      "100% (509717098 of 509717098) |##########| Elapsed Time: 0:00:43 Time:  0:00:43\n"
     ]
    },
    {
     "name": "stdout",
     "output_type": "stream",
     "text": [
      "...done, 509717098 bytes.\n",
      "m_3210059_se_14_060_20181113.tif\n"
     ]
    },
    {
     "name": "stderr",
     "output_type": "stream",
     "text": [
      "100% (495806522 of 495806522) |##########| Elapsed Time: 0:00:47 Time:  0:00:47\n"
     ]
    },
    {
     "name": "stdout",
     "output_type": "stream",
     "text": [
      "...done, 495806522 bytes.\n",
      "m_3909443_sw_15_060_20180923.tif\n"
     ]
    },
    {
     "name": "stderr",
     "output_type": "stream",
     "text": [
      "100% (419360472 of 419360472) |##########| Elapsed Time: 0:00:36 Time:  0:00:36\n"
     ]
    },
    {
     "name": "stdout",
     "output_type": "stream",
     "text": [
      "...done, 419360472 bytes.\n",
      "m_3707941_se_17_060_20181018.tif\n"
     ]
    },
    {
     "name": "stderr",
     "output_type": "stream",
     "text": [
      "100% (567607763 of 567607763) |##########| Elapsed Time: 0:00:46 Time:  0:00:46\n"
     ]
    },
    {
     "name": "stdout",
     "output_type": "stream",
     "text": [
      "...done, 567607763 bytes.\n",
      "m_3208638_sw_16_060_20190918.tif\n"
     ]
    },
    {
     "name": "stderr",
     "output_type": "stream",
     "text": [
      "100% (440734121 of 440734121) |##########| Elapsed Time: 0:00:37 Time:  0:00:37\n"
     ]
    },
    {
     "name": "stdout",
     "output_type": "stream",
     "text": [
      "...done, 440734121 bytes.\n",
      "m_4308359_ne_17_060_20180703.tif\n"
     ]
    },
    {
     "name": "stderr",
     "output_type": "stream",
     "text": [
      "100% (495514561 of 495514561) |##########| Elapsed Time: 0:01:32 Time:  0:01:32\n"
     ]
    },
    {
     "name": "stdout",
     "output_type": "stream",
     "text": [
      "...done, 495514561 bytes.\n",
      "m_3209041_se_15_060_20181127.tif\n"
     ]
    },
    {
     "name": "stderr",
     "output_type": "stream",
     "text": [
      "100% (464807109 of 464807109) |##########| Elapsed Time: 0:00:44 Time:  0:00:44\n"
     ]
    },
    {
     "name": "stdout",
     "output_type": "stream",
     "text": [
      "...done, 464807109 bytes.\n",
      "m_3508057_nw_17_060_20181103.tif\n"
     ]
    },
    {
     "name": "stderr",
     "output_type": "stream",
     "text": [
      "100% (455887123 of 455887123) |##########| Elapsed Time: 0:00:38 Time:  0:00:38\n"
     ]
    },
    {
     "name": "stdout",
     "output_type": "stream",
     "text": [
      "...done, 455887123 bytes.\n",
      "m_4208513_ne_16_060_20180706.tif\n"
     ]
    },
    {
     "name": "stderr",
     "output_type": "stream",
     "text": [
      "100% (485549812 of 485549812) |##########| Elapsed Time: 0:00:41 Time:  0:00:41\n"
     ]
    },
    {
     "name": "stdout",
     "output_type": "stream",
     "text": [
      "...done, 485549812 bytes.\n",
      "m_2809938_se_14_060_20180526.tif\n"
     ]
    },
    {
     "name": "stderr",
     "output_type": "stream",
     "text": [
      "100% (477021509 of 477021509) |##########| Elapsed Time: 0:00:39 Time:  0:00:39\n"
     ]
    },
    {
     "name": "stdout",
     "output_type": "stream",
     "text": [
      "...done, 477021509 bytes.\n",
      "m_4408431_sw_16_060_20180823.tif\n"
     ]
    },
    {
     "name": "stderr",
     "output_type": "stream",
     "text": [
      "100% (547771170 of 547771170) |##########| Elapsed Time: 0:00:49 Time:  0:00:49\n"
     ]
    },
    {
     "name": "stdout",
     "output_type": "stream",
     "text": [
      "...done, 547771170 bytes.\n",
      "m_3808138_nw_17_060_20181023.tif\n"
     ]
    },
    {
     "name": "stderr",
     "output_type": "stream",
     "text": [
      "100% (509050537 of 509050537) |##########| Elapsed Time: 0:00:42 Time:  0:00:42\n"
     ]
    },
    {
     "name": "stdout",
     "output_type": "stream",
     "text": [
      "...done, 509050537 bytes.\n",
      "m_4108729_sw_16_060_20180707.tif\n"
     ]
    },
    {
     "name": "stderr",
     "output_type": "stream",
     "text": [
      "100% (522740474 of 522740474) |##########| Elapsed Time: 0:00:53 Time:  0:00:53\n"
     ]
    },
    {
     "name": "stdout",
     "output_type": "stream",
     "text": [
      "...done, 522740474 bytes.\n",
      "m_4207041_sw_19_060_20181107.tif\n"
     ]
    },
    {
     "name": "stderr",
     "output_type": "stream",
     "text": [
      "100% (325690129 of 325690129) |##########| Elapsed Time: 0:00:28 Time:  0:00:28\n"
     ]
    },
    {
     "name": "stdout",
     "output_type": "stream",
     "text": [
      "...done, 325690129 bytes.\n",
      "m_3209227_ne_15_060_20190901.tif\n"
     ]
    },
    {
     "name": "stderr",
     "output_type": "stream",
     "text": [
      "100% (493202871 of 493202871) |##########| Elapsed Time: 0:00:50 Time:  0:00:50\n"
     ]
    },
    {
     "name": "stdout",
     "output_type": "stream",
     "text": [
      "...done, 493202871 bytes.\n",
      "m_4508421_sw_16_060_20180911.tif\n"
     ]
    },
    {
     "name": "stderr",
     "output_type": "stream",
     "text": [
      "100% (467632455 of 467632455) |##########| Elapsed Time: 0:00:41 Time:  0:00:41\n"
     ]
    },
    {
     "name": "stdout",
     "output_type": "stream",
     "text": [
      "...done, 467632455 bytes.\n",
      "m_3009743_nw_14_060_20181101.tif\n"
     ]
    },
    {
     "name": "stderr",
     "output_type": "stream",
     "text": [
      "100% (505024122 of 505024122) |##########| Elapsed Time: 0:00:41 Time:  0:00:41\n"
     ]
    },
    {
     "name": "stdout",
     "output_type": "stream",
     "text": [
      "...done, 505024122 bytes.\n",
      "m_3209656_sw_14_060_20181115.tif\n"
     ]
    },
    {
     "name": "stderr",
     "output_type": "stream",
     "text": [
      "100% (441947365 of 441947365) |##########| Elapsed Time: 0:00:43 Time:  0:00:43\n"
     ]
    },
    {
     "name": "stdout",
     "output_type": "stream",
     "text": [
      "...done, 441947365 bytes.\n",
      "m_3108916_ne_16_060_20181028.tif\n"
     ]
    },
    {
     "name": "stderr",
     "output_type": "stream",
     "text": [
      "100% (480813504 of 480813504) |##########| Elapsed Time: 0:01:02 Time:  0:01:02\n"
     ]
    },
    {
     "name": "stdout",
     "output_type": "stream",
     "text": [
      "...done, 480813504 bytes.\n",
      "m_3408807_nw_16_060_20181012.tif\n"
     ]
    },
    {
     "name": "stderr",
     "output_type": "stream",
     "text": [
      "100% (532460691 of 532460691) |##########| Elapsed Time: 0:00:55 Time:  0:00:55\n"
     ]
    },
    {
     "name": "stdout",
     "output_type": "stream",
     "text": [
      "...done, 532460691 bytes.\n",
      "m_3110107_nw_14_060_20181127.tif\n"
     ]
    },
    {
     "name": "stderr",
     "output_type": "stream",
     "text": [
      "100% (454837554 of 454837554) |##########| Elapsed Time: 0:00:39 Time:  0:00:39\n"
     ]
    },
    {
     "name": "stdout",
     "output_type": "stream",
     "text": [
      "...done, 454837554 bytes.\n",
      "m_3211512_nw_11_060_20190305.tif\n"
     ]
    },
    {
     "name": "stderr",
     "output_type": "stream",
     "text": [
      "100% (377028065 of 377028065) |##########| Elapsed Time: 0:00:38 Time:  0:00:38\n"
     ]
    },
    {
     "name": "stdout",
     "output_type": "stream",
     "text": [
      "...done, 377028065 bytes.\n",
      "m_2609752_nw_14_060_20181214.tif\n"
     ]
    },
    {
     "name": "stderr",
     "output_type": "stream",
     "text": [
      "100% (440382862 of 440382862) |##########| Elapsed Time: 0:00:37 Time:  0:00:37\n"
     ]
    },
    {
     "name": "stdout",
     "output_type": "stream",
     "text": [
      "...done, 440382862 bytes.\n",
      "m_3209835_ne_14_060_20181126.tif\n"
     ]
    },
    {
     "name": "stderr",
     "output_type": "stream",
     "text": [
      "100% (457488436 of 457488436) |##########| Elapsed Time: 0:00:37 Time:  0:00:37\n"
     ]
    },
    {
     "name": "stdout",
     "output_type": "stream",
     "text": [
      "...done, 457488436 bytes.\n",
      "m_3712141_ne_10_060_20180725.tif\n"
     ]
    },
    {
     "name": "stderr",
     "output_type": "stream",
     "text": [
      "100% (459669360 of 459669360) |##########| Elapsed Time: 0:00:56 Time:  0:00:56\n"
     ]
    },
    {
     "name": "stdout",
     "output_type": "stream",
     "text": [
      "...done, 459669360 bytes.\n",
      "m_2909837_se_14_060_20181102.tif\n"
     ]
    },
    {
     "name": "stderr",
     "output_type": "stream",
     "text": [
      "100% (467016308 of 467016308) |##########| Elapsed Time: 0:00:38 Time:  0:00:38\n"
     ]
    },
    {
     "name": "stdout",
     "output_type": "stream",
     "text": [
      "...done, 467016308 bytes.\n",
      "m_3209934_sw_14_060_20181028.tif\n"
     ]
    },
    {
     "name": "stderr",
     "output_type": "stream",
     "text": [
      "100% (440776834 of 440776834) |##########| Elapsed Time: 0:00:58 Time:  0:00:58\n"
     ]
    },
    {
     "name": "stdout",
     "output_type": "stream",
     "text": [
      "...done, 440776834 bytes.\n",
      "m_4207026_sw_19_060_20180806.tif\n"
     ]
    },
    {
     "name": "stderr",
     "output_type": "stream",
     "text": [
      "100% (361358732 of 361358732) |##########| Elapsed Time: 0:00:31 Time:  0:00:31\n"
     ]
    },
    {
     "name": "stdout",
     "output_type": "stream",
     "text": [
      "...done, 361358732 bytes.\n",
      "m_3608231_nw_17_060_20181111.tif\n"
     ]
    },
    {
     "name": "stderr",
     "output_type": "stream",
     "text": [
      "100% (579280421 of 579280421) |##########| Elapsed Time: 0:00:47 Time:  0:00:47\n"
     ]
    },
    {
     "name": "stdout",
     "output_type": "stream",
     "text": [
      "...done, 579280421 bytes.\n",
      "m_4308757_se_16_060_20180914.tif\n"
     ]
    },
    {
     "name": "stderr",
     "output_type": "stream",
     "text": [
      "100% (388591888 of 388591888) |##########| Elapsed Time: 0:00:33 Time:  0:00:33\n"
     ]
    },
    {
     "name": "stdout",
     "output_type": "stream",
     "text": [
      "...done, 388591888 bytes.\n",
      "m_4609602_sw_14_060_20181018.tif\n"
     ]
    },
    {
     "name": "stderr",
     "output_type": "stream",
     "text": [
      "100% (361852820 of 361852820) |##########| Elapsed Time: 0:00:32 Time:  0:00:32\n"
     ]
    },
    {
     "name": "stdout",
     "output_type": "stream",
     "text": [
      "...done, 361852820 bytes.\n",
      "m_3208816_sw_16_060_20191109.tif\n"
     ]
    },
    {
     "name": "stderr",
     "output_type": "stream",
     "text": [
      "100% (498579037 of 498579037) |##########| Elapsed Time: 0:00:40 Time:  0:00:40\n"
     ]
    },
    {
     "name": "stdout",
     "output_type": "stream",
     "text": [
      "...done, 498579037 bytes.\n",
      "m_3309619_se_14_060_20181028.tif\n"
     ]
    },
    {
     "name": "stderr",
     "output_type": "stream",
     "text": [
      "100% (449514951 of 449514951) |##########| Elapsed Time: 0:00:46 Time:  0:00:46\n"
     ]
    },
    {
     "name": "stdout",
     "output_type": "stream",
     "text": [
      "...done, 449514951 bytes.\n",
      "m_3209041_ne_15_060_20190901.tif\n"
     ]
    },
    {
     "name": "stderr",
     "output_type": "stream",
     "text": [
      "100% (477875785 of 477875785) |##########| Elapsed Time: 0:00:50 Time:  0:00:50\n"
     ]
    },
    {
     "name": "stdout",
     "output_type": "stream",
     "text": [
      "...done, 477875785 bytes.\n",
      "m_3108809_ne_16_060_20181028.tif\n"
     ]
    },
    {
     "name": "stderr",
     "output_type": "stream",
     "text": [
      "100% (488282554 of 488282554) |##########| Elapsed Time: 0:00:44 Time:  0:00:44\n"
     ]
    },
    {
     "name": "stdout",
     "output_type": "stream",
     "text": [
      "...done, 488282554 bytes.\n",
      "m_3508957_nw_16_060_20180803.tif\n"
     ]
    },
    {
     "name": "stderr",
     "output_type": "stream",
     "text": [
      "100% (559551126 of 559551126) |##########| Elapsed Time: 0:00:48 Time:  0:00:48\n"
     ]
    },
    {
     "name": "stdout",
     "output_type": "stream",
     "text": [
      "...done, 559551126 bytes.\n",
      "m_3909461_ne_15_060_20180922.tif\n"
     ]
    },
    {
     "name": "stderr",
     "output_type": "stream",
     "text": [
      "100% (449644860 of 449644860) |##########| Elapsed Time: 0:00:53 Time:  0:00:53\n"
     ]
    },
    {
     "name": "stdout",
     "output_type": "stream",
     "text": [
      "...done, 449644860 bytes.\n",
      "m_3909460_nw_15_060_20180922.tif\n"
     ]
    },
    {
     "name": "stderr",
     "output_type": "stream",
     "text": [
      "100% (426087062 of 426087062) |##########| Elapsed Time: 0:00:40 Time:  0:00:40\n"
     ]
    },
    {
     "name": "stdout",
     "output_type": "stream",
     "text": [
      "...done, 426087062 bytes.\n",
      "m_3209219_ne_15_060_20190901.tif\n"
     ]
    },
    {
     "name": "stderr",
     "output_type": "stream",
     "text": [
      "100% (497866769 of 497866769) |##########| Elapsed Time: 0:00:42 Time:  0:00:42\n"
     ]
    },
    {
     "name": "stdout",
     "output_type": "stream",
     "text": [
      "...done, 497866769 bytes.\n",
      "m_3711314_se_12_060_20180809.tif\n"
     ]
    },
    {
     "name": "stderr",
     "output_type": "stream",
     "text": [
      "100% (381201842 of 381201842) |##########| Elapsed Time: 0:00:31 Time:  0:00:31\n"
     ]
    },
    {
     "name": "stdout",
     "output_type": "stream",
     "text": [
      "...done, 381201842 bytes.\n",
      "m_4408523_nw_16_060_20180912.tif\n"
     ]
    },
    {
     "name": "stderr",
     "output_type": "stream",
     "text": [
      "100% (513328615 of 513328615) |##########| Elapsed Time: 0:01:07 Time:  0:01:07\n"
     ]
    },
    {
     "name": "stdout",
     "output_type": "stream",
     "text": [
      "...done, 513328615 bytes.\n",
      "m_3908004_ne_17_060_20180701.tif\n"
     ]
    },
    {
     "name": "stderr",
     "output_type": "stream",
     "text": [
      "100% (448611597 of 448611597) |##########| Elapsed Time: 0:01:09 Time:  0:01:09\n"
     ]
    },
    {
     "name": "stdout",
     "output_type": "stream",
     "text": [
      "...done, 448611597 bytes.\n"
     ]
    }
   ],
   "source": [
    "## Get a list of the tiles in the subfolder\n",
    "unverified_set4_subfolders_path = os.path.join(parent_directory,\"unverified_images\\student_reviewed_unverified_images_set4\")\n",
    "unverified_set4_subfolders_paths = ap.img_path_anno_path(ap.list_of_sub_directories(unverified_set4_subfolders_path))\n",
    "\n",
    "tiles = []\n",
    "for directory in tqdm.tqdm(unverified_set4_subfolders_paths):\n",
    "    #get all the image and xml paths in directory of annotated images\n",
    "    #print(directory)\n",
    "    fc.remove_thumbs(directory[0])\n",
    "    image_paths = glob(directory[0] + \"/*.jpg\", recursive = True)\n",
    "    xml_paths = glob(directory[1] + \"/*.xml\", recursive = True)\n",
    "    #print(len(image_paths),len(xml_paths))\n",
    "\n",
    "    #identify tiles in each folder\n",
    "    for image in image_paths:\n",
    "        image_name = os.path.splitext(os.path.basename(image))[0]\n",
    "        tile_name = image_name.split(\"_\",4)[-1].rsplit(\"_\",1)[0]\n",
    "        tiles.append(tile_name)\n",
    "tiles = np.unique(tiles)\n",
    "\n",
    "## Get a list of the tiles downloaded (without the extension)\n",
    "tiles_downloaded =  os.listdir(tiles_complete_dataset_path)\n",
    "tiles_downloaded_wo_ext = []\n",
    "for tile_downloaded in tiles_downloaded:\n",
    "    tiles_downloaded_wo_ext.append(os.path.splitext(tile_downloaded)[0])\n",
    "print(\"number of tiles downloaded\", len(tiles_downloaded_wo_ext))\n",
    "\n",
    "## Get a list of the the tiles that need to be downloaded\n",
    "tiles_to_download = list(set(tiles.tolist()) - set(tiles_downloaded_wo_ext)) \n",
    "\n",
    "## Download Tiles\n",
    "tile_names = []\n",
    "tile_urls = []\n",
    "file_names = []\n",
    "print(\"number of tiles that need to be downloaded\", len(tiles_to_download))\n",
    "for tile in tiles_to_download:   \n",
    "    ### download the tiles if they are not in the tiles folder \n",
    "    #check if the tile name is contained in the string of complete arrays\n",
    "    tile_name = [string for string in tile_names_tile_urls_complete_array[:,0] if tile in string]          \n",
    "    if len(tile_name) == 1: #A single tile name # get tile url from the first (only) entry\n",
    "        tile_url = tile_names_tile_urls_complete_array[tile_names_tile_urls_complete_array[:,0]==tile_name[0]][0][1] \n",
    "        tile_names.append(tile_name[0])\n",
    "        tile_urls.append(tile_url)\n",
    "    elif len(np.unique(tile_name)) > 1: # Multiple (different tiles) possibly the same tiles in different states, possible different years\n",
    "        tile_url = tile_names_tile_urls_complete_array[tile_names_tile_urls_complete_array[:,0]==tile_name[0]][0][1]# get tile url\n",
    "        tile_names.append(tile_name[0])\n",
    "        tile_urls.append(tile_url)\n",
    "    elif (len(tile_name) > 1): #Multiple different tile names that are the same, probably different naip storage locations\n",
    "        # get tile url from the second entry \n",
    "        tile_url = tile_names_tile_urls_complete_array[tile_names_tile_urls_complete_array[:,0]==tile_name[1]][1][1] \n",
    "        tile_names.append(tile_name[1])\n",
    "        tile_urls.append(tile_url)\n",
    "\n",
    "    #get file name\n",
    "    file_name = tile_name[0]\n",
    "    if tile_name[0].count(\"_\") > 5:\n",
    "        tile_name = tile_name[0].rsplit(\"_\",1)[0]\n",
    "        file_name = tile_name + \".tif\"\n",
    "    print(file_name)\n",
    "    ### Download tile\n",
    "    file_names.append(ap.download_url(tile_url, tiles_complete_dataset_path,\n",
    "                                                 destination_filename = file_name,       \n",
    "                                                         progress_updater=ap.DownloadProgressBar()))"
   ]
  },
  {
   "cell_type": "markdown",
   "id": "252ce389-814a-4faa-a3e7-92e52fb8e4cb",
   "metadata": {
    "tags": []
   },
   "source": [
    "# Identify Remaining Images, and Rename Labeled Images/XMLs that match correct Images"
   ]
  },
  {
   "cell_type": "markdown",
   "id": "a76ad024-b227-439b-a5cc-5ea66df444ee",
   "metadata": {},
   "source": [
    "## Unverified sets"
   ]
  },
  {
   "cell_type": "markdown",
   "id": "ac424892-7abc-4975-80cc-0a3cb0615a26",
   "metadata": {},
   "source": [
    "### Set 1"
   ]
  },
  {
   "cell_type": "code",
   "execution_count": 3,
   "id": "40e4f2f6-ec8f-40c1-bef7-e2c2f66d96cc",
   "metadata": {
    "collapsed": true,
    "jupyter": {
     "outputs_hidden": true
    },
    "tags": []
   },
   "outputs": [
    {
     "name": "stderr",
     "output_type": "stream",
     "text": [
      "  0%|          | 0/8 [00:00<?, ?it/s]"
     ]
    },
    {
     "name": "stdout",
     "output_type": "stream",
     "text": [
      "['//oit-nas-fe13dc.oit.duke.edu//data_commons-borsuk//unverified_images\\\\student_reviewed_unverified_images_set1/Qianyu/chips_positive'\n",
      " '//oit-nas-fe13dc.oit.duke.edu//data_commons-borsuk//unverified_images\\\\student_reviewed_unverified_images_set1/Qianyu/chips_positive_xml']\n",
      "24 22\n",
      "remaining images 62692\n",
      "24 22\n",
      "remaining images 62692\n",
      "25 22\n",
      "remaining images 62692\n",
      "25 22\n",
      "remaining images 62692\n",
      "25 22\n",
      "remaining images 62692\n",
      "25 22\n",
      "remaining images 62692\n",
      "25 22\n",
      "remaining images 62692\n",
      "25 23\n",
      "remaining images 62692\n",
      "26 23\n",
      "remaining images 62692\n",
      "26 23\n",
      "remaining images 62692\n",
      "25 23\n",
      "remaining images 62692\n",
      "25 23\n",
      "remaining images 62692\n",
      "26 23\n",
      "remaining images 62692\n",
      "25 23\n",
      "remaining images 62692\n",
      "25 23\n",
      "remaining images 62692\n",
      "26 23\n",
      "remaining images 62692\n",
      "25 23\n",
      "remaining images 62692\n",
      "26 23\n",
      "remaining images 62692\n",
      "26 23\n",
      "remaining images 62692\n",
      "26 23\n",
      "remaining images 62692\n",
      "26 23\n",
      "remaining images 62692\n",
      "25 23\n",
      "remaining images 62692\n",
      "26 23\n",
      "remaining images 62692\n",
      "26 23\n",
      "remaining images 62692\n",
      "26 23\n",
      "remaining images 62692\n",
      "25 22\n",
      "remaining images 62692\n",
      "25 22\n",
      "remaining images 62692\n",
      "25 23\n",
      "remaining images 62692\n",
      "25 23\n",
      "remaining images 62692\n",
      "26 23\n",
      "remaining images 62692\n",
      "25 23\n",
      "remaining images 62692\n",
      "26 23\n",
      "remaining images 62692\n",
      "25 23\n",
      "remaining images 62692\n",
      "25 23\n",
      "remaining images 62692\n",
      "26 23\n",
      "remaining images 62692\n",
      "25 23\n",
      "remaining images 62692\n",
      "25 22\n",
      "remaining images 62692\n",
      "24 21\n",
      "remaining images 62692\n",
      "24 21\n",
      "remaining images 62692\n",
      "24 21\n",
      "remaining images 62692\n",
      "24 21\n",
      "remaining images 62692\n",
      "24 21\n",
      "remaining images 62692\n",
      "25 21\n",
      "remaining images 62692\n",
      "25 21\n",
      "remaining images 62692\n",
      "26 23\n",
      "remaining images 62692\n",
      "25 22\n",
      "remaining images 62692\n",
      "26 22\n",
      "remaining images 62692\n",
      "25 23\n",
      "remaining images 62692\n",
      "26 23\n",
      "remaining images 62692\n",
      "26 22\n",
      "remaining images 62692\n",
      "25 22\n",
      "remaining images 62692\n",
      "25 22\n",
      "remaining images 62692\n",
      "25 22\n",
      "remaining images 62692\n",
      "24 21\n",
      "remaining images 62692\n",
      "24 21\n",
      "remaining images 62692\n",
      "24 21\n",
      "remaining images 62692\n",
      "24 21\n",
      "remaining images 62692\n",
      "24 21\n",
      "remaining images 62692\n",
      "24 21\n",
      "remaining images 62692\n",
      "24 21\n",
      "remaining images 62692\n",
      "24 21\n",
      "remaining images 62692\n",
      "24 20\n",
      "remaining images 62692\n",
      "24 20\n",
      "remaining images 62692\n",
      "24 20\n",
      "remaining images 62692\n",
      "24 20\n",
      "remaining images 62692\n",
      "24 20\n",
      "remaining images 62692\n",
      "24 20\n",
      "remaining images 62692\n",
      "24 20\n",
      "remaining images 62692\n",
      "25 20\n",
      "remaining images 62692\n",
      "25 20\n",
      "remaining images 62792\n"
     ]
    },
    {
     "name": "stderr",
     "output_type": "stream",
     "text": [
      " 12%|█▎        | 1/8 [24:43<2:53:05, 1483.59s/it]"
     ]
    },
    {
     "name": "stdout",
     "output_type": "stream",
     "text": [
      "['//oit-nas-fe13dc.oit.duke.edu//data_commons-borsuk//unverified_images\\\\student_reviewed_unverified_images_set1/Sunny/student_reviewed_images1/chips_positive'\n",
      " '//oit-nas-fe13dc.oit.duke.edu//data_commons-borsuk//unverified_images\\\\student_reviewed_unverified_images_set1/Sunny/student_reviewed_images1/chips_positive_xml']\n",
      "25 17\n",
      "remaining images 62928\n",
      "25 17\n",
      "remaining images 63064\n",
      "25 17\n",
      "remaining images 63200\n",
      "25 17\n",
      "remaining images 63200\n",
      "25 18\n",
      "remaining images 63200\n",
      "25 17\n",
      "remaining images 63336\n",
      "25 18\n",
      "remaining images 63336\n",
      "25 17\n",
      "remaining images 63472\n",
      "25 17\n",
      "remaining images 63608\n",
      "25 17\n",
      "remaining images 63744\n",
      "25 17\n",
      "remaining images 63880\n",
      "25 18\n",
      "remaining images 64006\n",
      "25 18\n",
      "remaining images 64132\n",
      "25 18\n",
      "remaining images 64258\n",
      "25 18\n",
      "remaining images 64384\n",
      "25 17\n",
      "remaining images 64520\n",
      "25 17\n",
      "remaining images 64656\n",
      "25 17\n",
      "remaining images 64792\n",
      "25 17\n",
      "remaining images 64928\n",
      "25 17\n",
      "remaining images 65064\n",
      "25 18\n",
      "remaining images 65190\n",
      "25 18\n",
      "remaining images 65316\n",
      "25 18\n",
      "remaining images 65442\n",
      "25 18\n",
      "remaining images 65568\n",
      "25 18\n",
      "remaining images 65694\n",
      "25 17\n",
      "remaining images 65830\n",
      "25 17\n",
      "remaining images 65966\n",
      "25 17\n",
      "remaining images 66102\n",
      "25 17\n",
      "remaining images 66238\n",
      "25 17\n",
      "remaining images 66374\n",
      "25 17\n",
      "remaining images 66510\n",
      "25 17\n",
      "remaining images 66510\n",
      "25 17\n",
      "remaining images 66510\n",
      "25 17\n",
      "remaining images 66510\n",
      "25 17\n",
      "remaining images 66510\n",
      "25 17\n",
      "remaining images 66646\n",
      "25 17\n",
      "remaining images 66782\n",
      "25 17\n",
      "remaining images 66918\n",
      "25 17\n",
      "remaining images 67054\n",
      "24 17\n",
      "remaining images 67173\n",
      "25 17\n",
      "remaining images 67309\n",
      "24 17\n",
      "remaining images 67428\n",
      "25 17\n",
      "remaining images 67564\n",
      "25 17\n",
      "remaining images 67700\n",
      "25 17\n",
      "remaining images 67836\n",
      "24 17\n",
      "remaining images 67955\n",
      "25 17\n",
      "remaining images 68091\n",
      "24 17\n",
      "remaining images 68210\n"
     ]
    },
    {
     "name": "stderr",
     "output_type": "stream",
     "text": [
      " 25%|██▌       | 2/8 [1:03:54<3:19:24, 1994.05s/it]"
     ]
    },
    {
     "name": "stdout",
     "output_type": "stream",
     "text": [
      "['//oit-nas-fe13dc.oit.duke.edu//data_commons-borsuk//unverified_images\\\\student_reviewed_unverified_images_set1/Sunny/student_reviewed_images2/chips_positive'\n",
      " '//oit-nas-fe13dc.oit.duke.edu//data_commons-borsuk//unverified_images\\\\student_reviewed_unverified_images_set1/Sunny/student_reviewed_images2/chips_positive_xml']\n",
      "25 22\n",
      "remaining images 68276\n",
      "25 22\n",
      "remaining images 68342\n",
      "25 22\n",
      "remaining images 68408\n",
      "25 21\n",
      "remaining images 68492\n",
      "25 21\n",
      "remaining images 68576\n",
      "25 22\n",
      "remaining images 68642\n",
      "25 22\n",
      "remaining images 68708\n",
      "25 22\n",
      "remaining images 68774\n",
      "25 22\n",
      "remaining images 68840\n",
      "25 22\n",
      "remaining images 68906\n",
      "25 21\n",
      "remaining images 68990\n",
      "25 22\n",
      "remaining images 69056\n",
      "25 22\n",
      "remaining images 69122\n",
      "25 22\n",
      "remaining images 69188\n",
      "25 22\n",
      "remaining images 69254\n",
      "25 22\n",
      "remaining images 69320\n",
      "25 22\n",
      "remaining images 69386\n",
      "25 22\n",
      "remaining images 69452\n",
      "25 22\n",
      "remaining images 69518\n",
      "25 22\n",
      "remaining images 69584\n",
      "25 22\n",
      "remaining images 69650\n",
      "25 22\n",
      "remaining images 69716\n",
      "25 21\n",
      "remaining images 69800\n",
      "26 22\n",
      "remaining images 69888\n",
      "25 21\n",
      "remaining images 69972\n",
      "25 21\n",
      "remaining images 70056\n",
      "25 22\n",
      "remaining images 70122\n",
      "25 22\n",
      "remaining images 70188\n",
      "25 21\n",
      "remaining images 70272\n",
      "25 22\n",
      "remaining images 70338\n",
      "25 21\n",
      "remaining images 70422\n",
      "25 21\n",
      "remaining images 70506\n",
      "25 21\n",
      "remaining images 70590\n",
      "25 21\n",
      "remaining images 70674\n",
      "25 21\n",
      "remaining images 70758\n",
      "25 21\n",
      "remaining images 70842\n",
      "25 21\n",
      "remaining images 70926\n",
      "25 21\n",
      "remaining images 71010\n",
      "25 21\n",
      "remaining images 71094\n",
      "25 21\n",
      "remaining images 71178\n",
      "25 21\n",
      "remaining images 71262\n",
      "25 21\n",
      "remaining images 71346\n",
      "25 21\n",
      "remaining images 71430\n",
      "25 21\n",
      "remaining images 71514\n",
      "25 21\n",
      "remaining images 71598\n",
      "24 21\n",
      "remaining images 71661\n",
      "24 21\n",
      "remaining images 71724\n",
      "24 21\n",
      "remaining images 71787\n"
     ]
    },
    {
     "name": "stderr",
     "output_type": "stream",
     "text": [
      " 38%|███▊      | 3/8 [1:36:42<2:45:10, 1982.09s/it]"
     ]
    },
    {
     "name": "stdout",
     "output_type": "stream",
     "text": [
      "['//oit-nas-fe13dc.oit.duke.edu//data_commons-borsuk//unverified_images\\\\student_reviewed_unverified_images_set1/Sunny/student_reviewed_images3/chips_positive'\n",
      " '//oit-nas-fe13dc.oit.duke.edu//data_commons-borsuk//unverified_images\\\\student_reviewed_unverified_images_set1/Sunny/student_reviewed_images3/chips_positive_xml']\n",
      "25 20\n",
      "remaining images 71887\n",
      "25 20\n",
      "remaining images 71987\n",
      "25 20\n",
      "remaining images 72087\n",
      "25 20\n",
      "remaining images 72187\n",
      "25 20\n",
      "remaining images 72287\n",
      "25 20\n",
      "remaining images 72387\n",
      "25 20\n",
      "remaining images 72487\n",
      "25 20\n",
      "remaining images 72587\n",
      "25 20\n",
      "remaining images 72687\n",
      "25 20\n",
      "remaining images 72787\n",
      "25 20\n",
      "remaining images 72887\n",
      "26 20\n",
      "remaining images 73007\n",
      "25 20\n",
      "remaining images 73107\n",
      "26 20\n",
      "remaining images 73227\n",
      "26 21\n",
      "remaining images 73332\n",
      "25 21\n",
      "remaining images 73416\n",
      "25 21\n",
      "remaining images 73500\n",
      "26 20\n",
      "remaining images 73620\n",
      "26 21\n",
      "remaining images 73725\n",
      "25 20\n",
      "remaining images 73825\n",
      "25 20\n",
      "remaining images 73925\n",
      "25 21\n",
      "remaining images 74009\n",
      "26 20\n",
      "remaining images 74129\n",
      "26 21\n",
      "remaining images 74234\n",
      "25 20\n",
      "remaining images 74334\n",
      "25 21\n",
      "remaining images 74418\n",
      "25 20\n",
      "remaining images 74518\n",
      "25 21\n",
      "remaining images 74602\n",
      "25 20\n",
      "remaining images 74702\n",
      "25 20\n",
      "remaining images 74802\n",
      "25 20\n",
      "remaining images 74902\n",
      "25 20\n",
      "remaining images 75002\n",
      "25 20\n",
      "remaining images 75102\n",
      "25 20\n",
      "remaining images 75202\n",
      "24 19\n",
      "remaining images 75297\n",
      "24 19\n",
      "remaining images 75392\n",
      "24 19\n",
      "remaining images 75487\n",
      "24 19\n",
      "remaining images 75582\n",
      "24 19\n",
      "remaining images 75677\n",
      "24 19\n",
      "remaining images 75772\n",
      "24 19\n",
      "remaining images 75867\n",
      "24 19\n",
      "remaining images 75962\n",
      "25 20\n",
      "remaining images 76062\n",
      "25 20\n",
      "remaining images 76162\n",
      "25 20\n",
      "remaining images 76262\n",
      "25 20\n",
      "remaining images 76362\n"
     ]
    },
    {
     "name": "stderr",
     "output_type": "stream",
     "text": [
      " 50%|█████     | 4/8 [2:07:02<2:07:51, 1917.90s/it]"
     ]
    },
    {
     "name": "stdout",
     "output_type": "stream",
     "text": [
      "['//oit-nas-fe13dc.oit.duke.edu//data_commons-borsuk//unverified_images\\\\student_reviewed_unverified_images_set1/Sunny/student_reviewed_images4/chips_positive'\n",
      " '//oit-nas-fe13dc.oit.duke.edu//data_commons-borsuk//unverified_images\\\\student_reviewed_unverified_images_set1/Sunny/student_reviewed_images4/chips_positive_xml']\n",
      "25 19\n",
      "remaining images 76476\n",
      "25 19\n",
      "remaining images 76590\n",
      "25 19\n",
      "remaining images 76704\n",
      "25 19\n",
      "remaining images 76818\n",
      "25 19\n",
      "remaining images 76932\n",
      "25 19\n",
      "remaining images 77046\n",
      "24 19\n",
      "remaining images 77141\n",
      "24 19\n",
      "remaining images 77236\n",
      "25 20\n",
      "remaining images 77336\n",
      "24 19\n",
      "remaining images 77431\n",
      "25 20\n",
      "remaining images 77531\n",
      "24 19\n",
      "remaining images 77626\n",
      "25 20\n",
      "remaining images 77726\n",
      "24 19\n",
      "remaining images 77821\n",
      "24 19\n",
      "remaining images 77916\n",
      "25 20\n",
      "remaining images 78016\n",
      "24 19\n",
      "remaining images 78111\n",
      "25 20\n",
      "remaining images 78211\n",
      "25 20\n",
      "remaining images 78311\n",
      "24 19\n",
      "remaining images 78406\n",
      "25 20\n",
      "remaining images 78506\n",
      "25 20\n",
      "remaining images 78606\n",
      "25 20\n",
      "remaining images 78706\n",
      "25 20\n",
      "remaining images 78806\n",
      "25 20\n",
      "remaining images 78906\n",
      "25 20\n",
      "remaining images 79006\n",
      "25 20\n",
      "remaining images 79106\n",
      "25 20\n",
      "remaining images 79206\n",
      "25 20\n",
      "remaining images 79306\n",
      "25 20\n",
      "remaining images 79406\n",
      "25 20\n",
      "remaining images 79506\n",
      "25 20\n",
      "remaining images 79606\n",
      "25 20\n",
      "remaining images 79706\n",
      "25 20\n",
      "remaining images 79806\n",
      "26 20\n",
      "remaining images 79926\n",
      "26 20\n",
      "remaining images 80046\n",
      "26 20\n",
      "remaining images 80166\n",
      "26 20\n",
      "remaining images 80286\n",
      "25 20\n",
      "remaining images 80386\n",
      "25 20\n",
      "remaining images 80486\n",
      "25 20\n",
      "remaining images 80586\n",
      "25 20\n",
      "remaining images 80686\n",
      "25 20\n",
      "remaining images 80786\n",
      "25 20\n",
      "remaining images 80886\n",
      "25 20\n",
      "remaining images 80986\n"
     ]
    },
    {
     "name": "stderr",
     "output_type": "stream",
     "text": [
      " 62%|██████▎   | 5/8 [2:38:54<1:35:47, 1915.82s/it]"
     ]
    },
    {
     "name": "stdout",
     "output_type": "stream",
     "text": [
      "['//oit-nas-fe13dc.oit.duke.edu//data_commons-borsuk//unverified_images\\\\student_reviewed_unverified_images_set1/Sunny/student_reviewed_images5/chips_positive'\n",
      " '//oit-nas-fe13dc.oit.duke.edu//data_commons-borsuk//unverified_images\\\\student_reviewed_unverified_images_set1/Sunny/student_reviewed_images5/chips_positive_xml']\n",
      "25 21\n",
      "remaining images 81070\n",
      "25 21\n",
      "remaining images 81154\n",
      "25 21\n",
      "remaining images 81238\n",
      "25 21\n",
      "remaining images 81322\n",
      "25 21\n",
      "remaining images 81406\n",
      "25 21\n",
      "remaining images 81490\n",
      "25 21\n",
      "remaining images 81574\n",
      "25 21\n",
      "remaining images 81574\n",
      "25 21\n",
      "remaining images 81658\n",
      "26 21\n",
      "remaining images 81763\n",
      "26 21\n",
      "remaining images 81868\n"
     ]
    },
    {
     "name": "stderr",
     "output_type": "stream",
     "text": [
      " 75%|███████▌  | 6/8 [2:45:38<46:43, 1401.77s/it]  "
     ]
    },
    {
     "name": "stdout",
     "output_type": "stream",
     "text": [
      "['//oit-nas-fe13dc.oit.duke.edu//data_commons-borsuk//unverified_images\\\\student_reviewed_unverified_images_set1/Sunny/student_reviewed_images6/chips_positive'\n",
      " '//oit-nas-fe13dc.oit.duke.edu//data_commons-borsuk//unverified_images\\\\student_reviewed_unverified_images_set1/Sunny/student_reviewed_images6/chips_positive_xml']\n",
      "25 20\n",
      "remaining images 81868\n",
      "25 20\n",
      "remaining images 81868\n",
      "25 20\n",
      "remaining images 81968\n",
      "25 20\n",
      "remaining images 81968\n",
      "25 19\n",
      "remaining images 81968\n",
      "25 19\n",
      "remaining images 82082\n",
      "25 19\n",
      "remaining images 82196\n",
      "25 19\n",
      "remaining images 82196\n",
      "25 19\n",
      "remaining images 82196\n",
      "25 19\n",
      "remaining images 82310\n",
      "25 19\n",
      "remaining images 82310\n",
      "24 19\n",
      "remaining images 82310\n",
      "24 19\n",
      "remaining images 82310\n",
      "24 19\n",
      "remaining images 82310\n",
      "24 19\n",
      "remaining images 82310\n",
      "24 19\n",
      "remaining images 82310\n",
      "24 19\n",
      "remaining images 82310\n",
      "24 19\n",
      "remaining images 82405\n",
      "24 19\n",
      "remaining images 82500\n",
      "25 19\n",
      "remaining images 82614\n",
      "25 20\n",
      "remaining images 82714\n",
      "25 20\n",
      "remaining images 82814\n",
      "25 20\n",
      "remaining images 82914\n",
      "25 20\n",
      "remaining images 83014\n",
      "26 20\n",
      "remaining images 83014\n",
      "25 20\n",
      "remaining images 83014\n",
      "25 20\n",
      "remaining images 83014\n",
      "26 20\n",
      "remaining images 83014\n",
      "25 20\n",
      "remaining images 83014\n",
      "25 20\n",
      "remaining images 83014\n",
      "25 20\n",
      "remaining images 83014\n",
      "25 20\n",
      "remaining images 83014\n",
      "25 20\n",
      "remaining images 83014\n",
      "25 19\n",
      "remaining images 83014\n",
      "25 20\n",
      "remaining images 83014\n",
      "25 19\n",
      "remaining images 83014\n",
      "25 20\n",
      "remaining images 83014\n",
      "25 20\n",
      "remaining images 83014\n",
      "25 20\n",
      "remaining images 83014\n",
      "26 20\n",
      "remaining images 83014\n",
      "25 20\n",
      "remaining images 83014\n"
     ]
    },
    {
     "name": "stderr",
     "output_type": "stream",
     "text": [
      " 88%|████████▊ | 7/8 [2:59:01<20:06, 1206.13s/it]"
     ]
    },
    {
     "name": "stdout",
     "output_type": "stream",
     "text": [
      "['//oit-nas-fe13dc.oit.duke.edu//data_commons-borsuk//unverified_images\\\\student_reviewed_unverified_images_set1/Sunny/student_reviewed_images7/chips_positive'\n",
      " '//oit-nas-fe13dc.oit.duke.edu//data_commons-borsuk//unverified_images\\\\student_reviewed_unverified_images_set1/Sunny/student_reviewed_images7/chips_positive_xml']\n",
      "26 20\n",
      "remaining images 83134\n",
      "25 20\n",
      "remaining images 83234\n",
      "25 20\n",
      "remaining images 83334\n",
      "25 21\n",
      "remaining images 83418\n",
      "26 20\n",
      "remaining images 83538\n",
      "25 20\n",
      "remaining images 83638\n",
      "26 21\n",
      "remaining images 83743\n",
      "26 21\n",
      "remaining images 83848\n",
      "25 20\n",
      "remaining images 83948\n",
      "25 20\n",
      "remaining images 83948\n"
     ]
    },
    {
     "name": "stderr",
     "output_type": "stream",
     "text": [
      "100%|██████████| 8/8 [3:05:39<00:00, 1392.48s/it]\n"
     ]
    }
   ],
   "source": [
    "unverified_set1_subfolders_path = os.path.join(parent_directory,\"unverified_images\\student_reviewed_unverified_images_set1\")\n",
    "unverified_set1_subfolders_paths = ap.img_path_anno_path(ap.list_of_sub_directories(unverified_set1_subfolders_path))\n",
    "fc.img_anno_paths_to_corrected_names_for_labeled_images_and_remaining_images(unverified_set1_subfolders_paths[32:], correct_directory, incorrectly_chipped_images_path, \n",
    "                                                                              remaining_chips_path, tiles_complete_dataset_path)"
   ]
  },
  {
   "cell_type": "markdown",
   "id": "f1c31428-9003-4c08-bb22-2dd8859ba813",
   "metadata": {},
   "source": [
    "### Set 2"
   ]
  },
  {
   "cell_type": "code",
   "execution_count": 4,
   "id": "0f2e5007-005d-4e97-987e-a0bad98dd475",
   "metadata": {
    "collapsed": true,
    "jupyter": {
     "outputs_hidden": true
    },
    "tags": []
   },
   "outputs": [
    {
     "name": "stderr",
     "output_type": "stream",
     "text": [
      "  0%|          | 0/11 [00:00<?, ?it/s]"
     ]
    },
    {
     "name": "stdout",
     "output_type": "stream",
     "text": [
      "['//oit-nas-fe13dc.oit.duke.edu//data_commons-borsuk//unverified_images\\\\student_reviewed_unverified_images_set2/Sunny/student_reviewed_images12_Sunny/chips_positive'\n",
      " '//oit-nas-fe13dc.oit.duke.edu//data_commons-borsuk//unverified_images\\\\student_reviewed_unverified_images_set2/Sunny/student_reviewed_images12_Sunny/chips_positive_xml']\n"
     ]
    },
    {
     "name": "stderr",
     "output_type": "stream",
     "text": [
      "  9%|▉         | 1/11 [04:09<41:30, 249.09s/it]"
     ]
    },
    {
     "name": "stdout",
     "output_type": "stream",
     "text": [
      "remaining images 133271\n",
      "['//oit-nas-fe13dc.oit.duke.edu//data_commons-borsuk//unverified_images\\\\student_reviewed_unverified_images_set2/Sunny/student_reviewed_images13_Sunny/chips_positive'\n",
      " '//oit-nas-fe13dc.oit.duke.edu//data_commons-borsuk//unverified_images\\\\student_reviewed_unverified_images_set2/Sunny/student_reviewed_images13_Sunny/chips_positive_xml']\n"
     ]
    },
    {
     "name": "stderr",
     "output_type": "stream",
     "text": [
      " 18%|█▊        | 2/11 [10:56<51:18, 342.05s/it]"
     ]
    },
    {
     "name": "stdout",
     "output_type": "stream",
     "text": [
      "remaining images 133922\n",
      "['//oit-nas-fe13dc.oit.duke.edu//data_commons-borsuk//unverified_images\\\\student_reviewed_unverified_images_set2/Sunny/student_reviewed_images14_Sunny/chips_positive'\n",
      " '//oit-nas-fe13dc.oit.duke.edu//data_commons-borsuk//unverified_images\\\\student_reviewed_unverified_images_set2/Sunny/student_reviewed_images14_Sunny/chips_positive_xml']\n"
     ]
    },
    {
     "name": "stderr",
     "output_type": "stream",
     "text": [
      " 27%|██▋       | 3/11 [17:29<48:43, 365.38s/it]"
     ]
    },
    {
     "name": "stdout",
     "output_type": "stream",
     "text": [
      "remaining images 134905\n",
      "['//oit-nas-fe13dc.oit.duke.edu//data_commons-borsuk//unverified_images\\\\student_reviewed_unverified_images_set2/Sunny/student_reviewed_images8_Sunny/chips_positive'\n",
      " '//oit-nas-fe13dc.oit.duke.edu//data_commons-borsuk//unverified_images\\\\student_reviewed_unverified_images_set2/Sunny/student_reviewed_images8_Sunny/chips_positive_xml']\n"
     ]
    },
    {
     "name": "stderr",
     "output_type": "stream",
     "text": [
      " 36%|███▋      | 4/11 [22:20<39:11, 335.97s/it]"
     ]
    },
    {
     "name": "stdout",
     "output_type": "stream",
     "text": [
      "remaining images 135898\n",
      "['//oit-nas-fe13dc.oit.duke.edu//data_commons-borsuk//unverified_images\\\\student_reviewed_unverified_images_set2/Sunny/student_reviewed_images9_Sunny/chips_positive'\n",
      " '//oit-nas-fe13dc.oit.duke.edu//data_commons-borsuk//unverified_images\\\\student_reviewed_unverified_images_set2/Sunny/student_reviewed_images9_Sunny/chips_positive_xml']\n"
     ]
    },
    {
     "name": "stderr",
     "output_type": "stream",
     "text": [
      " 45%|████▌     | 5/11 [29:24<36:46, 367.78s/it]"
     ]
    },
    {
     "name": "stdout",
     "output_type": "stream",
     "text": [
      "remaining images 138048\n",
      "['//oit-nas-fe13dc.oit.duke.edu//data_commons-borsuk//unverified_images\\\\student_reviewed_unverified_images_set2/Tang/student_reviewed_images1_Tang/chips_positive'\n",
      " '//oit-nas-fe13dc.oit.duke.edu//data_commons-borsuk//unverified_images\\\\student_reviewed_unverified_images_set2/Tang/student_reviewed_images1_Tang/chips_positive_xml']\n"
     ]
    },
    {
     "name": "stderr",
     "output_type": "stream",
     "text": [
      " 55%|█████▍    | 6/11 [35:10<30:01, 360.30s/it]"
     ]
    },
    {
     "name": "stdout",
     "output_type": "stream",
     "text": [
      "remaining images 139069\n",
      "['//oit-nas-fe13dc.oit.duke.edu//data_commons-borsuk//unverified_images\\\\student_reviewed_unverified_images_set2/Tang/student_reviewed_images2_Tang/chips_positive'\n",
      " '//oit-nas-fe13dc.oit.duke.edu//data_commons-borsuk//unverified_images\\\\student_reviewed_unverified_images_set2/Tang/student_reviewed_images2_Tang/chips_positive_xml']\n"
     ]
    },
    {
     "name": "stderr",
     "output_type": "stream",
     "text": [
      " 64%|██████▎   | 7/11 [40:50<23:34, 353.70s/it]"
     ]
    },
    {
     "name": "stdout",
     "output_type": "stream",
     "text": [
      "remaining images 139951\n",
      "['//oit-nas-fe13dc.oit.duke.edu//data_commons-borsuk//unverified_images\\\\student_reviewed_unverified_images_set2/Tang/student_reviewed_images3_Tang/chips_positive'\n",
      " '//oit-nas-fe13dc.oit.duke.edu//data_commons-borsuk//unverified_images\\\\student_reviewed_unverified_images_set2/Tang/student_reviewed_images3_Tang/chips_positive_xml']\n"
     ]
    },
    {
     "name": "stderr",
     "output_type": "stream",
     "text": [
      " 73%|███████▎  | 8/11 [45:41<16:41, 333.85s/it]"
     ]
    },
    {
     "name": "stdout",
     "output_type": "stream",
     "text": [
      "remaining images 140794\n",
      "['//oit-nas-fe13dc.oit.duke.edu//data_commons-borsuk//unverified_images\\\\student_reviewed_unverified_images_set2/Tang/student_reviewed_images4_Tang/chips_positive'\n",
      " '//oit-nas-fe13dc.oit.duke.edu//data_commons-borsuk//unverified_images\\\\student_reviewed_unverified_images_set2/Tang/student_reviewed_images4_Tang/chips_positive_xml']\n"
     ]
    },
    {
     "name": "stderr",
     "output_type": "stream",
     "text": [
      " 82%|████████▏ | 9/11 [52:23<11:50, 355.05s/it]"
     ]
    },
    {
     "name": "stdout",
     "output_type": "stream",
     "text": [
      "remaining images 141837\n",
      "['//oit-nas-fe13dc.oit.duke.edu//data_commons-borsuk//unverified_images\\\\student_reviewed_unverified_images_set2/Tang/student_reviewed_images5_Tang/chips_positive'\n",
      " '//oit-nas-fe13dc.oit.duke.edu//data_commons-borsuk//unverified_images\\\\student_reviewed_unverified_images_set2/Tang/student_reviewed_images5_Tang/chips_positive_xml']\n"
     ]
    },
    {
     "name": "stderr",
     "output_type": "stream",
     "text": [
      " 91%|█████████ | 10/11 [57:54<05:47, 347.61s/it]"
     ]
    },
    {
     "name": "stdout",
     "output_type": "stream",
     "text": [
      "remaining images 142804\n",
      "['//oit-nas-fe13dc.oit.duke.edu//data_commons-borsuk//unverified_images\\\\student_reviewed_unverified_images_set2/Tang/student_reviewed_images6_Tang/chips_positive'\n",
      " '//oit-nas-fe13dc.oit.duke.edu//data_commons-borsuk//unverified_images\\\\student_reviewed_unverified_images_set2/Tang/student_reviewed_images6_Tang/chips_positive_xml']\n"
     ]
    },
    {
     "name": "stderr",
     "output_type": "stream",
     "text": [
      "100%|██████████| 11/11 [1:03:15<00:00, 345.01s/it]"
     ]
    },
    {
     "name": "stdout",
     "output_type": "stream",
     "text": [
      "remaining images 143605\n"
     ]
    },
    {
     "name": "stderr",
     "output_type": "stream",
     "text": [
      "\n"
     ]
    }
   ],
   "source": [
    "unverified_set2_subfolders_path = os.path.join(parent_directory,\"unverified_images\\student_reviewed_unverified_images_set2\")\n",
    "unverified_set2_subfolders_paths = ap.img_path_anno_path(ap.list_of_sub_directories(unverified_set2_subfolders_path))\n",
    "\n",
    "fc.img_anno_paths_to_corrected_names_for_labeled_images_and_remaining_images(unverified_set2_subfolders_paths[45:], correct_directory, incorrectly_chipped_images_path, \n",
    "                                                                              remaining_chips_path, tiles_complete_dataset_path)"
   ]
  },
  {
   "cell_type": "markdown",
   "id": "21bbea24-925c-4c00-a74a-4d84d3d4c8e5",
   "metadata": {},
   "source": [
    "### Set 3"
   ]
  },
  {
   "cell_type": "code",
   "execution_count": 36,
   "id": "eaf52f5e-1456-420e-93e5-4a99d83daaf2",
   "metadata": {
    "collapsed": true,
    "jupyter": {
     "outputs_hidden": true
    },
    "tags": []
   },
   "outputs": [
    {
     "name": "stderr",
     "output_type": "stream",
     "text": [
      "  0%|          | 0/31 [00:00<?, ?it/s]"
     ]
    },
    {
     "name": "stdout",
     "output_type": "stream",
     "text": [
      "['//oit-nas-fe13dc.oit.duke.edu//data_commons-borsuk//unverified_images\\\\student_reviewed_unverified_images_set3/Alvarez/student_reviewed_images4_Alvarez/chips_positive'\n",
      " '//oit-nas-fe13dc.oit.duke.edu//data_commons-borsuk//unverified_images\\\\student_reviewed_unverified_images_set3/Alvarez/student_reviewed_images4_Alvarez/chips_positive_xml']\n"
     ]
    },
    {
     "name": "stderr",
     "output_type": "stream",
     "text": [
      "  3%|▎         | 1/31 [08:06<4:03:24, 486.80s/it]"
     ]
    },
    {
     "name": "stdout",
     "output_type": "stream",
     "text": [
      "remaining images 144679\n",
      "['//oit-nas-fe13dc.oit.duke.edu//data_commons-borsuk//unverified_images\\\\student_reviewed_unverified_images_set3/Alvarez/unverified_images_not_reviewed_by_student5_Alvarez/chips_positive'\n",
      " '//oit-nas-fe13dc.oit.duke.edu//data_commons-borsuk//unverified_images\\\\student_reviewed_unverified_images_set3/Alvarez/unverified_images_not_reviewed_by_student5_Alvarez/chips_positive_xml']\n"
     ]
    },
    {
     "name": "stderr",
     "output_type": "stream",
     "text": [
      "  6%|▋         | 2/31 [14:18<3:22:25, 418.81s/it]"
     ]
    },
    {
     "name": "stdout",
     "output_type": "stream",
     "text": [
      "remaining images 145600\n",
      "['//oit-nas-fe13dc.oit.duke.edu//data_commons-borsuk//unverified_images\\\\student_reviewed_unverified_images_set3/Alvarez/unverified_images_not_reviewed_by_student6_Alvarez/chips_positive'\n",
      " '//oit-nas-fe13dc.oit.duke.edu//data_commons-borsuk//unverified_images\\\\student_reviewed_unverified_images_set3/Alvarez/unverified_images_not_reviewed_by_student6_Alvarez/chips_positive_xml']\n"
     ]
    },
    {
     "name": "stderr",
     "output_type": "stream",
     "text": [
      " 10%|▉         | 3/31 [17:37<2:28:37, 318.48s/it]"
     ]
    },
    {
     "name": "stdout",
     "output_type": "stream",
     "text": [
      "remaining images 146053\n",
      "['//oit-nas-fe13dc.oit.duke.edu//data_commons-borsuk//unverified_images\\\\student_reviewed_unverified_images_set3/Celine/Celine_2/chips_positive'\n",
      " '//oit-nas-fe13dc.oit.duke.edu//data_commons-borsuk//unverified_images\\\\student_reviewed_unverified_images_set3/Celine/Celine_2/chips_positive_xml']\n"
     ]
    },
    {
     "name": "stderr",
     "output_type": "stream",
     "text": [
      " 13%|█▎        | 4/31 [20:30<1:57:33, 261.23s/it]"
     ]
    },
    {
     "name": "stdout",
     "output_type": "stream",
     "text": [
      "remaining images 146557\n",
      "['//oit-nas-fe13dc.oit.duke.edu//data_commons-borsuk//unverified_images\\\\student_reviewed_unverified_images_set3/Cleave/student_reviewed_images8_Cleave/chips_positive'\n",
      " '//oit-nas-fe13dc.oit.duke.edu//data_commons-borsuk//unverified_images\\\\student_reviewed_unverified_images_set3/Cleave/student_reviewed_images8_Cleave/chips_positive_xml']\n"
     ]
    },
    {
     "name": "stderr",
     "output_type": "stream",
     "text": [
      " 16%|█▌        | 5/31 [27:10<2:14:53, 311.29s/it]"
     ]
    },
    {
     "name": "stdout",
     "output_type": "stream",
     "text": [
      "remaining images 147549\n",
      "['//oit-nas-fe13dc.oit.duke.edu//data_commons-borsuk//unverified_images\\\\student_reviewed_unverified_images_set3/Cleave/student_reviewed_images9_Cleave/chips_positive'\n",
      " '//oit-nas-fe13dc.oit.duke.edu//data_commons-borsuk//unverified_images\\\\student_reviewed_unverified_images_set3/Cleave/student_reviewed_images9_Cleave/chips_positive_xml']\n"
     ]
    },
    {
     "name": "stderr",
     "output_type": "stream",
     "text": [
      " 19%|█▉        | 6/31 [33:20<2:17:59, 331.19s/it]"
     ]
    },
    {
     "name": "stdout",
     "output_type": "stream",
     "text": [
      "remaining images 148608\n",
      "['//oit-nas-fe13dc.oit.duke.edu//data_commons-borsuk//unverified_images\\\\student_reviewed_unverified_images_set3/Feinberg/unverified_images_not_reviewed_by_student6_Feinberg/chips_positive'\n",
      " '//oit-nas-fe13dc.oit.duke.edu//data_commons-borsuk//unverified_images\\\\student_reviewed_unverified_images_set3/Feinberg/unverified_images_not_reviewed_by_student6_Feinberg/chips_positive_xml']\n"
     ]
    },
    {
     "name": "stderr",
     "output_type": "stream",
     "text": [
      " 23%|██▎       | 7/31 [38:16<2:07:54, 319.79s/it]"
     ]
    },
    {
     "name": "stdout",
     "output_type": "stream",
     "text": [
      "remaining images 149408\n",
      "['//oit-nas-fe13dc.oit.duke.edu//data_commons-borsuk//unverified_images\\\\student_reviewed_unverified_images_set3/Jaewon/student_reviewed_images8_Jaewon/chips_positive'\n",
      " '//oit-nas-fe13dc.oit.duke.edu//data_commons-borsuk//unverified_images\\\\student_reviewed_unverified_images_set3/Jaewon/student_reviewed_images8_Jaewon/chips_positive_xml']\n"
     ]
    },
    {
     "name": "stderr",
     "output_type": "stream",
     "text": [
      " 26%|██▌       | 8/31 [49:00<2:42:06, 422.88s/it]"
     ]
    },
    {
     "name": "stdout",
     "output_type": "stream",
     "text": [
      "remaining images 152323\n",
      "['//oit-nas-fe13dc.oit.duke.edu//data_commons-borsuk//unverified_images\\\\student_reviewed_unverified_images_set3/Jaewon/unverified_images_not_reviewed_by_student9_Jaewon/chips_positive'\n",
      " '//oit-nas-fe13dc.oit.duke.edu//data_commons-borsuk//unverified_images\\\\student_reviewed_unverified_images_set3/Jaewon/unverified_images_not_reviewed_by_student9_Jaewon/chips_positive_xml']\n"
     ]
    },
    {
     "name": "stderr",
     "output_type": "stream",
     "text": [
      " 29%|██▉       | 9/31 [1:02:32<3:19:37, 544.44s/it]"
     ]
    },
    {
     "name": "stdout",
     "output_type": "stream",
     "text": [
      "remaining images 154628\n",
      "['//oit-nas-fe13dc.oit.duke.edu//data_commons-borsuk//unverified_images\\\\student_reviewed_unverified_images_set3/Josh/student_reviewed_images3_Josh/chips_positive'\n",
      " '//oit-nas-fe13dc.oit.duke.edu//data_commons-borsuk//unverified_images\\\\student_reviewed_unverified_images_set3/Josh/student_reviewed_images3_Josh/chips_positive_xml']\n"
     ]
    },
    {
     "name": "stderr",
     "output_type": "stream",
     "text": [
      " 32%|███▏      | 10/31 [1:16:23<3:41:32, 632.98s/it]"
     ]
    },
    {
     "name": "stdout",
     "output_type": "stream",
     "text": [
      "remaining images 158423\n",
      "['//oit-nas-fe13dc.oit.duke.edu//data_commons-borsuk//unverified_images\\\\student_reviewed_unverified_images_set3/Josh/unverified_images_not_reviewed_by_student4_Josh/chips_positive'\n",
      " '//oit-nas-fe13dc.oit.duke.edu//data_commons-borsuk//unverified_images\\\\student_reviewed_unverified_images_set3/Josh/unverified_images_not_reviewed_by_student4_Josh/chips_positive_xml']\n"
     ]
    },
    {
     "name": "stderr",
     "output_type": "stream",
     "text": [
      " 35%|███▌      | 11/31 [1:29:15<3:45:13, 675.65s/it]"
     ]
    },
    {
     "name": "stdout",
     "output_type": "stream",
     "text": [
      "remaining images 162500\n",
      "['//oit-nas-fe13dc.oit.duke.edu//data_commons-borsuk//unverified_images\\\\student_reviewed_unverified_images_set3/Kang/student_reviewed_images7_Kang/chips_positive'\n",
      " '//oit-nas-fe13dc.oit.duke.edu//data_commons-borsuk//unverified_images\\\\student_reviewed_unverified_images_set3/Kang/student_reviewed_images7_Kang/chips_positive_xml']\n"
     ]
    },
    {
     "name": "stderr",
     "output_type": "stream",
     "text": [
      " 39%|███▊      | 12/31 [1:36:14<3:09:12, 597.52s/it]"
     ]
    },
    {
     "name": "stdout",
     "output_type": "stream",
     "text": [
      "remaining images 163523\n",
      "['//oit-nas-fe13dc.oit.duke.edu//data_commons-borsuk//unverified_images\\\\student_reviewed_unverified_images_set3/Kang/student_reviewed_images8_Kang/chips_positive'\n",
      " '//oit-nas-fe13dc.oit.duke.edu//data_commons-borsuk//unverified_images\\\\student_reviewed_unverified_images_set3/Kang/student_reviewed_images8_Kang/chips_positive_xml']\n"
     ]
    },
    {
     "name": "stderr",
     "output_type": "stream",
     "text": [
      " 42%|████▏     | 13/31 [1:42:37<2:39:47, 532.65s/it]"
     ]
    },
    {
     "name": "stdout",
     "output_type": "stream",
     "text": [
      "remaining images 164354\n",
      "['//oit-nas-fe13dc.oit.duke.edu//data_commons-borsuk//unverified_images\\\\student_reviewed_unverified_images_set3/Kang/unverified_images_not_reviewed_by_student9_Kang/chips_positive'\n",
      " '//oit-nas-fe13dc.oit.duke.edu//data_commons-borsuk//unverified_images\\\\student_reviewed_unverified_images_set3/Kang/unverified_images_not_reviewed_by_student9_Kang/chips_positive_xml']\n"
     ]
    },
    {
     "name": "stderr",
     "output_type": "stream",
     "text": [
      " 45%|████▌     | 14/31 [1:50:27<2:25:30, 513.55s/it]"
     ]
    },
    {
     "name": "stdout",
     "output_type": "stream",
     "text": [
      "remaining images 165521\n",
      "['//oit-nas-fe13dc.oit.duke.edu//data_commons-borsuk//unverified_images\\\\student_reviewed_unverified_images_set3/Katpally/unverified_images_not_reviewed_by_student1_Katpally/chips_positive'\n",
      " '//oit-nas-fe13dc.oit.duke.edu//data_commons-borsuk//unverified_images\\\\student_reviewed_unverified_images_set3/Katpally/unverified_images_not_reviewed_by_student1_Katpally/chips_positive_xml']\n"
     ]
    },
    {
     "name": "stderr",
     "output_type": "stream",
     "text": [
      " 48%|████▊     | 15/31 [1:55:17<1:59:00, 446.27s/it]"
     ]
    },
    {
     "name": "stdout",
     "output_type": "stream",
     "text": [
      "remaining images 166250\n",
      "['//oit-nas-fe13dc.oit.duke.edu//data_commons-borsuk//unverified_images\\\\student_reviewed_unverified_images_set3/Nayak/unverified_images_not_reviewed_by_student2_Nayak/chips_positive'\n",
      " '//oit-nas-fe13dc.oit.duke.edu//data_commons-borsuk//unverified_images\\\\student_reviewed_unverified_images_set3/Nayak/unverified_images_not_reviewed_by_student2_Nayak/chips_positive_xml']\n"
     ]
    },
    {
     "name": "stderr",
     "output_type": "stream",
     "text": [
      " 52%|█████▏    | 16/31 [2:00:22<1:40:54, 403.61s/it]"
     ]
    },
    {
     "name": "stdout",
     "output_type": "stream",
     "text": [
      "remaining images 166973\n",
      "['//oit-nas-fe13dc.oit.duke.edu//data_commons-borsuk//unverified_images\\\\student_reviewed_unverified_images_set3/Niculescu/student_reviewed_images8_Niculescu/chips_positive'\n",
      " '//oit-nas-fe13dc.oit.duke.edu//data_commons-borsuk//unverified_images\\\\student_reviewed_unverified_images_set3/Niculescu/student_reviewed_images8_Niculescu/chips_positive_xml']\n"
     ]
    },
    {
     "name": "stderr",
     "output_type": "stream",
     "text": [
      " 55%|█████▍    | 17/31 [2:04:07<1:21:38, 349.91s/it]"
     ]
    },
    {
     "name": "stdout",
     "output_type": "stream",
     "text": [
      "remaining images 167613\n",
      "['//oit-nas-fe13dc.oit.duke.edu//data_commons-borsuk//unverified_images\\\\student_reviewed_unverified_images_set3/Niculescu/unverified_images_not_reviewed_by_student9_Niculescu/chips_positive'\n",
      " '//oit-nas-fe13dc.oit.duke.edu//data_commons-borsuk//unverified_images\\\\student_reviewed_unverified_images_set3/Niculescu/unverified_images_not_reviewed_by_student9_Niculescu/chips_positive_xml']\n"
     ]
    },
    {
     "name": "stderr",
     "output_type": "stream",
     "text": [
      " 58%|█████▊    | 18/31 [2:06:54<1:03:54, 294.98s/it]"
     ]
    },
    {
     "name": "stdout",
     "output_type": "stream",
     "text": [
      "remaining images 168104\n",
      "['//oit-nas-fe13dc.oit.duke.edu//data_commons-borsuk//unverified_images\\\\student_reviewed_unverified_images_set3/Poonacha/student_reviewed_images10_Poonacha/chips_positive'\n",
      " '//oit-nas-fe13dc.oit.duke.edu//data_commons-borsuk//unverified_images\\\\student_reviewed_unverified_images_set3/Poonacha/student_reviewed_images10_Poonacha/chips_positive_xml']\n"
     ]
    },
    {
     "name": "stderr",
     "output_type": "stream",
     "text": [
      " 61%|██████▏   | 19/31 [2:21:23<1:33:29, 467.49s/it]"
     ]
    },
    {
     "name": "stdout",
     "output_type": "stream",
     "text": [
      "remaining images 170711\n",
      "['//oit-nas-fe13dc.oit.duke.edu//data_commons-borsuk//unverified_images\\\\student_reviewed_unverified_images_set3/Poonacha/student_reviewed_images7_Poonacha/chips_positive'\n",
      " '//oit-nas-fe13dc.oit.duke.edu//data_commons-borsuk//unverified_images\\\\student_reviewed_unverified_images_set3/Poonacha/student_reviewed_images7_Poonacha/chips_positive_xml']\n"
     ]
    },
    {
     "name": "stderr",
     "output_type": "stream",
     "text": [
      " 65%|██████▍   | 20/31 [2:27:01<1:18:34, 428.56s/it]"
     ]
    },
    {
     "name": "stdout",
     "output_type": "stream",
     "text": [
      "remaining images 171572\n",
      "['//oit-nas-fe13dc.oit.duke.edu//data_commons-borsuk//unverified_images\\\\student_reviewed_unverified_images_set3/Poonacha/student_reviewed_images8_Poonacha/chips_positive'\n",
      " '//oit-nas-fe13dc.oit.duke.edu//data_commons-borsuk//unverified_images\\\\student_reviewed_unverified_images_set3/Poonacha/student_reviewed_images8_Poonacha/chips_positive_xml']\n"
     ]
    },
    {
     "name": "stderr",
     "output_type": "stream",
     "text": [
      " 68%|██████▊   | 21/31 [2:31:08<1:02:20, 374.04s/it]"
     ]
    },
    {
     "name": "stdout",
     "output_type": "stream",
     "text": [
      "remaining images 172248\n",
      "['//oit-nas-fe13dc.oit.duke.edu//data_commons-borsuk//unverified_images\\\\student_reviewed_unverified_images_set3/Poonacha/student_reviewed_images9_Poonacha/chips_positive'\n",
      " '//oit-nas-fe13dc.oit.duke.edu//data_commons-borsuk//unverified_images\\\\student_reviewed_unverified_images_set3/Poonacha/student_reviewed_images9_Poonacha/chips_positive_xml']\n"
     ]
    },
    {
     "name": "stderr",
     "output_type": "stream",
     "text": [
      " 71%|███████   | 22/31 [2:51:03<1:33:02, 620.32s/it]"
     ]
    },
    {
     "name": "stdout",
     "output_type": "stream",
     "text": [
      "remaining images 175858\n",
      "['//oit-nas-fe13dc.oit.duke.edu//data_commons-borsuk//unverified_images\\\\student_reviewed_unverified_images_set3/Shen/student_reviewed_images1_Shen/chips_positive'\n",
      " '//oit-nas-fe13dc.oit.duke.edu//data_commons-borsuk//unverified_images\\\\student_reviewed_unverified_images_set3/Shen/student_reviewed_images1_Shen/chips_positive_xml']\n"
     ]
    },
    {
     "name": "stderr",
     "output_type": "stream",
     "text": [
      " 74%|███████▍  | 23/31 [2:54:51<1:07:01, 502.69s/it]"
     ]
    },
    {
     "name": "stdout",
     "output_type": "stream",
     "text": [
      "remaining images 176387\n",
      "['//oit-nas-fe13dc.oit.duke.edu//data_commons-borsuk//unverified_images\\\\student_reviewed_unverified_images_set3/Shen/student_reviewed_images2_Shen/chips_positive'\n",
      " '//oit-nas-fe13dc.oit.duke.edu//data_commons-borsuk//unverified_images\\\\student_reviewed_unverified_images_set3/Shen/student_reviewed_images2_Shen/chips_positive_xml']\n"
     ]
    },
    {
     "name": "stderr",
     "output_type": "stream",
     "text": [
      " 77%|███████▋  | 24/31 [2:56:52<45:17, 388.25s/it]  "
     ]
    },
    {
     "name": "stdout",
     "output_type": "stream",
     "text": [
      "remaining images 176387\n",
      "['//oit-nas-fe13dc.oit.duke.edu//data_commons-borsuk//unverified_images\\\\student_reviewed_unverified_images_set3/Shen/student_reviewed_images3_Shen/chips_positive'\n",
      " '//oit-nas-fe13dc.oit.duke.edu//data_commons-borsuk//unverified_images\\\\student_reviewed_unverified_images_set3/Shen/student_reviewed_images3_Shen/chips_positive_xml']\n"
     ]
    },
    {
     "name": "stderr",
     "output_type": "stream",
     "text": [
      " 81%|████████  | 25/31 [3:02:20<37:00, 370.05s/it]"
     ]
    },
    {
     "name": "stdout",
     "output_type": "stream",
     "text": [
      "remaining images 177332\n",
      "['//oit-nas-fe13dc.oit.duke.edu//data_commons-borsuk//unverified_images\\\\student_reviewed_unverified_images_set3/Shen/unverified_images_not_reviewed_by_student4_Shen/chips_positive'\n",
      " '//oit-nas-fe13dc.oit.duke.edu//data_commons-borsuk//unverified_images\\\\student_reviewed_unverified_images_set3/Shen/unverified_images_not_reviewed_by_student4_Shen/chips_positive_xml']\n"
     ]
    },
    {
     "name": "stderr",
     "output_type": "stream",
     "text": [
      " 84%|████████▍ | 26/31 [3:06:17<27:31, 330.26s/it]"
     ]
    },
    {
     "name": "stdout",
     "output_type": "stream",
     "text": [
      "remaining images 178127\n",
      "['//oit-nas-fe13dc.oit.duke.edu//data_commons-borsuk//unverified_images\\\\student_reviewed_unverified_images_set3/Shen/unverified_images_not_reviewed_by_student5_Shen/chips_positive'\n",
      " '//oit-nas-fe13dc.oit.duke.edu//data_commons-borsuk//unverified_images\\\\student_reviewed_unverified_images_set3/Shen/unverified_images_not_reviewed_by_student5_Shen/chips_positive_xml']\n"
     ]
    },
    {
     "name": "stderr",
     "output_type": "stream",
     "text": [
      " 87%|████████▋ | 27/31 [3:06:41<15:52, 238.25s/it]"
     ]
    },
    {
     "name": "stdout",
     "output_type": "stream",
     "text": [
      "remaining images 178127\n",
      "['//oit-nas-fe13dc.oit.duke.edu//data_commons-borsuk//unverified_images\\\\student_reviewed_unverified_images_set3/Sunny/student_reviewed_images15_Sunny/chips_positive'\n",
      " '//oit-nas-fe13dc.oit.duke.edu//data_commons-borsuk//unverified_images\\\\student_reviewed_unverified_images_set3/Sunny/student_reviewed_images15_Sunny/chips_positive_xml']\n"
     ]
    },
    {
     "name": "stderr",
     "output_type": "stream",
     "text": [
      " 90%|█████████ | 28/31 [3:11:51<12:59, 259.70s/it]"
     ]
    },
    {
     "name": "stdout",
     "output_type": "stream",
     "text": [
      "remaining images 179227\n",
      "['//oit-nas-fe13dc.oit.duke.edu//data_commons-borsuk//unverified_images\\\\student_reviewed_unverified_images_set3/Sunny/unverified_images_not_reviewed_by_student16_Sunny/chips_positive'\n",
      " '//oit-nas-fe13dc.oit.duke.edu//data_commons-borsuk//unverified_images\\\\student_reviewed_unverified_images_set3/Sunny/unverified_images_not_reviewed_by_student16_Sunny/chips_positive_xml']\n"
     ]
    },
    {
     "name": "stderr",
     "output_type": "stream",
     "text": [
      " 94%|█████████▎| 29/31 [3:17:30<09:27, 283.66s/it]"
     ]
    },
    {
     "name": "stdout",
     "output_type": "stream",
     "text": [
      "remaining images 180235\n",
      "['//oit-nas-fe13dc.oit.duke.edu//data_commons-borsuk//unverified_images\\\\student_reviewed_unverified_images_set3/Tang/student_reviewed_images7_Tang/chips_positive'\n",
      " '//oit-nas-fe13dc.oit.duke.edu//data_commons-borsuk//unverified_images\\\\student_reviewed_unverified_images_set3/Tang/student_reviewed_images7_Tang/chips_positive_xml']\n"
     ]
    },
    {
     "name": "stderr",
     "output_type": "stream",
     "text": [
      " 97%|█████████▋| 30/31 [3:23:30<05:06, 306.52s/it]"
     ]
    },
    {
     "name": "stdout",
     "output_type": "stream",
     "text": [
      "remaining images 181082\n",
      "['//oit-nas-fe13dc.oit.duke.edu//data_commons-borsuk//unverified_images\\\\student_reviewed_unverified_images_set3/Tang/student_reviewed_images8_Tang/chips_positive'\n",
      " '//oit-nas-fe13dc.oit.duke.edu//data_commons-borsuk//unverified_images\\\\student_reviewed_unverified_images_set3/Tang/student_reviewed_images8_Tang/chips_positive_xml']\n"
     ]
    },
    {
     "name": "stderr",
     "output_type": "stream",
     "text": [
      "100%|██████████| 31/31 [3:28:27<00:00, 403.46s/it]"
     ]
    },
    {
     "name": "stdout",
     "output_type": "stream",
     "text": [
      "remaining images 181987\n"
     ]
    },
    {
     "name": "stderr",
     "output_type": "stream",
     "text": [
      "\n"
     ]
    }
   ],
   "source": [
    "unverified_set3_subfolders_path = os.path.join(parent_directory,\"unverified_images\\student_reviewed_unverified_images_set3\")\n",
    "unverified_set3_subfolders_paths = ap.img_path_anno_path(ap.list_of_sub_directories(unverified_set3_subfolders_path))\n",
    "fc.img_anno_paths_to_corrected_names_for_labeled_images_and_remaining_images(unverified_set3_subfolders_paths, correct_directory, incorrectly_chipped_images_path, \n",
    "                                                                              remaining_chips_path, tiles_complete_dataset_path)"
   ]
  },
  {
   "cell_type": "markdown",
   "id": "f4d4c8ca-1984-4036-a7b8-6cabaa291239",
   "metadata": {},
   "source": [
    "### Set 4"
   ]
  },
  {
   "cell_type": "code",
   "execution_count": 43,
   "id": "a7ae9893-6d11-4704-ad82-bc812f4351fc",
   "metadata": {
    "collapsed": true,
    "jupyter": {
     "outputs_hidden": true
    },
    "tags": []
   },
   "outputs": [
    {
     "name": "stderr",
     "output_type": "stream",
     "text": [
      "  0%|          | 0/14 [00:00<?, ?it/s]"
     ]
    },
    {
     "name": "stdout",
     "output_type": "stream",
     "text": [
      "['//oit-nas-fe13dc.oit.duke.edu//data_commons-borsuk//unverified_images\\\\student_reviewed_unverified_images_set4/Feinberg/student_reviewed_images7_Feinberg/chips_positive'\n",
      " '//oit-nas-fe13dc.oit.duke.edu//data_commons-borsuk//unverified_images\\\\student_reviewed_unverified_images_set4/Feinberg/student_reviewed_images7_Feinberg/chips_positive_xml']\n"
     ]
    },
    {
     "name": "stderr",
     "output_type": "stream",
     "text": [
      "  7%|▋         | 1/14 [10:27<2:15:52, 627.11s/it]"
     ]
    },
    {
     "name": "stdout",
     "output_type": "stream",
     "text": [
      "remaining images 183267\n",
      "['//oit-nas-fe13dc.oit.duke.edu//data_commons-borsuk//unverified_images\\\\student_reviewed_unverified_images_set4/Feinberg/student_reviewed_images8_Feinberg/chips_positive'\n",
      " '//oit-nas-fe13dc.oit.duke.edu//data_commons-borsuk//unverified_images\\\\student_reviewed_unverified_images_set4/Feinberg/student_reviewed_images8_Feinberg/chips_positive_xml']\n"
     ]
    },
    {
     "name": "stderr",
     "output_type": "stream",
     "text": [
      " 14%|█▍        | 2/14 [24:29<2:30:41, 753.47s/it]"
     ]
    },
    {
     "name": "stdout",
     "output_type": "stream",
     "text": [
      "remaining images 184190\n",
      "['//oit-nas-fe13dc.oit.duke.edu//data_commons-borsuk//unverified_images\\\\student_reviewed_unverified_images_set4/Feinberg/student_reviewed_images9_Feinberg/chips_positive'\n",
      " '//oit-nas-fe13dc.oit.duke.edu//data_commons-borsuk//unverified_images\\\\student_reviewed_unverified_images_set4/Feinberg/student_reviewed_images9_Feinberg/chips_positive_xml']\n"
     ]
    },
    {
     "name": "stderr",
     "output_type": "stream",
     "text": [
      " 21%|██▏       | 3/14 [30:57<1:47:34, 586.75s/it]"
     ]
    },
    {
     "name": "stdout",
     "output_type": "stream",
     "text": [
      "remaining images 185116\n",
      "['//oit-nas-fe13dc.oit.duke.edu//data_commons-borsuk//unverified_images\\\\student_reviewed_unverified_images_set4/Kang/student_reviewed_images10_Kang/chips_positive'\n",
      " '//oit-nas-fe13dc.oit.duke.edu//data_commons-borsuk//unverified_images\\\\student_reviewed_unverified_images_set4/Kang/student_reviewed_images10_Kang/chips_positive_xml']\n"
     ]
    },
    {
     "name": "stderr",
     "output_type": "stream",
     "text": [
      " 29%|██▊       | 4/14 [35:29<1:17:07, 462.73s/it]"
     ]
    },
    {
     "name": "stdout",
     "output_type": "stream",
     "text": [
      "remaining images 186087\n",
      "['//oit-nas-fe13dc.oit.duke.edu//data_commons-borsuk//unverified_images\\\\student_reviewed_unverified_images_set4/Kang/student_reviewed_images11_Kang/chips_positive'\n",
      " '//oit-nas-fe13dc.oit.duke.edu//data_commons-borsuk//unverified_images\\\\student_reviewed_unverified_images_set4/Kang/student_reviewed_images11_Kang/chips_positive_xml']\n"
     ]
    },
    {
     "name": "stderr",
     "output_type": "stream",
     "text": [
      " 36%|███▌      | 5/14 [38:49<55:11, 367.94s/it]  "
     ]
    },
    {
     "name": "stdout",
     "output_type": "stream",
     "text": [
      "remaining images 186736\n",
      "['//oit-nas-fe13dc.oit.duke.edu//data_commons-borsuk//unverified_images\\\\student_reviewed_unverified_images_set4/Kang/unverified_images_not_reviewed_by_student12_Kang/chips_positive'\n",
      " '//oit-nas-fe13dc.oit.duke.edu//data_commons-borsuk//unverified_images\\\\student_reviewed_unverified_images_set4/Kang/unverified_images_not_reviewed_by_student12_Kang/chips_positive_xml']\n"
     ]
    },
    {
     "name": "stderr",
     "output_type": "stream",
     "text": [
      " 43%|████▎     | 6/14 [45:13<49:46, 373.33s/it]"
     ]
    },
    {
     "name": "stdout",
     "output_type": "stream",
     "text": [
      "remaining images 187729\n",
      "['//oit-nas-fe13dc.oit.duke.edu//data_commons-borsuk//unverified_images\\\\student_reviewed_unverified_images_set4/Kang/unverified_images_not_reviewed_by_student13_Kang/chips_positive'\n",
      " '//oit-nas-fe13dc.oit.duke.edu//data_commons-borsuk//unverified_images\\\\student_reviewed_unverified_images_set4/Kang/unverified_images_not_reviewed_by_student13_Kang/chips_positive_xml']\n"
     ]
    },
    {
     "name": "stderr",
     "output_type": "stream",
     "text": [
      " 50%|█████     | 7/14 [52:41<46:24, 397.77s/it]"
     ]
    },
    {
     "name": "stdout",
     "output_type": "stream",
     "text": [
      "remaining images 189056\n",
      "['//oit-nas-fe13dc.oit.duke.edu//data_commons-borsuk//unverified_images\\\\student_reviewed_unverified_images_set4/Nayak/unverified_images_not_reviewed_by_student3_Nayak/chips_positive'\n",
      " '//oit-nas-fe13dc.oit.duke.edu//data_commons-borsuk//unverified_images\\\\student_reviewed_unverified_images_set4/Nayak/unverified_images_not_reviewed_by_student3_Nayak/chips_positive_xml']\n"
     ]
    },
    {
     "name": "stderr",
     "output_type": "stream",
     "text": [
      " 57%|█████▋    | 8/14 [58:46<38:43, 387.31s/it]"
     ]
    },
    {
     "name": "stdout",
     "output_type": "stream",
     "text": [
      "remaining images 189708\n",
      "['//oit-nas-fe13dc.oit.duke.edu//data_commons-borsuk//unverified_images\\\\student_reviewed_unverified_images_set4/Poonacha/student_reviewed_images11_Poonacha/chips_positive'\n",
      " '//oit-nas-fe13dc.oit.duke.edu//data_commons-borsuk//unverified_images\\\\student_reviewed_unverified_images_set4/Poonacha/student_reviewed_images11_Poonacha/chips_positive_xml']\n"
     ]
    },
    {
     "name": "stderr",
     "output_type": "stream",
     "text": [
      " 64%|██████▍   | 9/14 [1:02:09<27:28, 329.68s/it]"
     ]
    },
    {
     "name": "stdout",
     "output_type": "stream",
     "text": [
      "remaining images 190227\n",
      "['//oit-nas-fe13dc.oit.duke.edu//data_commons-borsuk//unverified_images\\\\student_reviewed_unverified_images_set4/Poonacha/student_reviewed_images12_Poonacha/chips_positive'\n",
      " '//oit-nas-fe13dc.oit.duke.edu//data_commons-borsuk//unverified_images\\\\student_reviewed_unverified_images_set4/Poonacha/student_reviewed_images12_Poonacha/chips_positive_xml']\n"
     ]
    },
    {
     "name": "stderr",
     "output_type": "stream",
     "text": [
      " 71%|███████▏  | 10/14 [1:06:17<20:17, 304.41s/it]"
     ]
    },
    {
     "name": "stdout",
     "output_type": "stream",
     "text": [
      "remaining images 190678\n",
      "['//oit-nas-fe13dc.oit.duke.edu//data_commons-borsuk//unverified_images\\\\student_reviewed_unverified_images_set4/Poonacha/student_reviewed_images13_Poonacha/chips_positive'\n",
      " '//oit-nas-fe13dc.oit.duke.edu//data_commons-borsuk//unverified_images\\\\student_reviewed_unverified_images_set4/Poonacha/student_reviewed_images13_Poonacha/chips_positive_xml']\n"
     ]
    },
    {
     "name": "stderr",
     "output_type": "stream",
     "text": [
      " 79%|███████▊  | 11/14 [1:10:20<14:16, 285.50s/it]"
     ]
    },
    {
     "name": "stdout",
     "output_type": "stream",
     "text": [
      "remaining images 191205\n",
      "['//oit-nas-fe13dc.oit.duke.edu//data_commons-borsuk//unverified_images\\\\student_reviewed_unverified_images_set4/Poonacha/student_reviewed_images14_Poonacha/chips_positive'\n",
      " '//oit-nas-fe13dc.oit.duke.edu//data_commons-borsuk//unverified_images\\\\student_reviewed_unverified_images_set4/Poonacha/student_reviewed_images14_Poonacha/chips_positive_xml']\n"
     ]
    },
    {
     "name": "stderr",
     "output_type": "stream",
     "text": [
      " 86%|████████▌ | 12/14 [1:18:53<11:49, 354.95s/it]"
     ]
    },
    {
     "name": "stdout",
     "output_type": "stream",
     "text": [
      "remaining images 192403\n",
      "['//oit-nas-fe13dc.oit.duke.edu//data_commons-borsuk//unverified_images\\\\student_reviewed_unverified_images_set4/Poonacha/unverified_images_not_reviewed_by_student15_Poonacha/chips_positive'\n",
      " '//oit-nas-fe13dc.oit.duke.edu//data_commons-borsuk//unverified_images\\\\student_reviewed_unverified_images_set4/Poonacha/unverified_images_not_reviewed_by_student15_Poonacha/chips_positive_xml']\n"
     ]
    },
    {
     "name": "stderr",
     "output_type": "stream",
     "text": [
      " 93%|█████████▎| 13/14 [1:24:40<05:52, 352.38s/it]"
     ]
    },
    {
     "name": "stdout",
     "output_type": "stream",
     "text": [
      "remaining images 193292\n",
      "['//oit-nas-fe13dc.oit.duke.edu//data_commons-borsuk//unverified_images\\\\student_reviewed_unverified_images_set4/Poonacha/unverified_images_not_reviewed_by_student16_Poonacha/chips_positive'\n",
      " '//oit-nas-fe13dc.oit.duke.edu//data_commons-borsuk//unverified_images\\\\student_reviewed_unverified_images_set4/Poonacha/unverified_images_not_reviewed_by_student16_Poonacha/chips_positive_xml']\n"
     ]
    },
    {
     "name": "stderr",
     "output_type": "stream",
     "text": [
      "100%|██████████| 14/14 [1:28:37<00:00, 379.80s/it]"
     ]
    },
    {
     "name": "stdout",
     "output_type": "stream",
     "text": [
      "remaining images 193991\n"
     ]
    },
    {
     "name": "stderr",
     "output_type": "stream",
     "text": [
      "\n"
     ]
    }
   ],
   "source": [
    "unverified_set4_subfolders_path = os.path.join(parent_directory,\"unverified_images\\student_reviewed_unverified_images_set4\")\n",
    "unverified_set4_subfolders_paths = ap.img_path_anno_path(ap.list_of_sub_directories(unverified_set4_subfolders_path))\n",
    "\n",
    "fc.img_anno_paths_to_corrected_names_for_labeled_images_and_remaining_images(unverified_set4_subfolders_paths, correct_directory, incorrectly_chipped_images_path, \n",
    "                                                                              remaining_chips_path, tiles_complete_dataset_path)"
   ]
  },
  {
   "cell_type": "markdown",
   "id": "626b1329-1b82-412b-b9fe-555ab0a26701",
   "metadata": {
    "tags": []
   },
   "source": [
    "## Verified Sets,\n",
    "Once all images of interest have been labeled, "
   ]
  },
  {
   "cell_type": "code",
   "execution_count": null,
   "id": "536e52e6-e6ec-46ee-940f-6c34d1f8ae4c",
   "metadata": {},
   "outputs": [],
   "source": [
    "# Create "
   ]
  }
 ],
 "metadata": {
  "kernelspec": {
   "display_name": "Chip Allocate",
   "language": "python",
   "name": "chip_allocate"
  },
  "language_info": {
   "codemirror_mode": {
    "name": "ipython",
    "version": 3
   },
   "file_extension": ".py",
   "mimetype": "text/x-python",
   "name": "python",
   "nbconvert_exporter": "python",
   "pygments_lexer": "ipython3",
   "version": "3.9.7"
  }
 },
 "nbformat": 4,
 "nbformat_minor": 5
}
