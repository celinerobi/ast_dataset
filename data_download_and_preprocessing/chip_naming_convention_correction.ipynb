{
 "cells": [
  {
   "cell_type": "markdown",
   "id": "b24caa63-2b5c-44fc-afc7-a934582ba019",
   "metadata": {
    "tags": []
   },
   "source": [
    "# Load Packages"
   ]
  },
  {
   "cell_type": "code",
   "execution_count": 51,
   "id": "80e2c6ed-a317-4b22-9be8-56cfafc24c7b",
   "metadata": {
    "tags": []
   },
   "outputs": [],
   "source": [
    "import os\n",
    "import cv2\n",
    "import copy\n",
    "\n",
    "import math\n",
    "import numpy as np\n",
    "import matplotlib \n",
    "import matplotlib.pyplot as plt\n",
    "from matplotlib.patches import Rectangle\n",
    "from glob import glob\n",
    "import tqdm\n",
    "from skimage.metrics import structural_similarity as compare_ssim\n",
    "import shutil\n",
    "#Parsing/Modifying XML\n",
    "from lxml.etree import Element,SubElement,tostring\n",
    "import xml.dom.minidom\n",
    "from xml.dom.minidom import parseString\n",
    "import xml.etree.ElementTree as et\n",
    "from xml.dom import minidom\n",
    "\n",
    "import data_eng.az_proc as ap\n",
    "import data_eng.form_calcs as fc\n"
   ]
  },
  {
   "cell_type": "markdown",
   "id": "73a71030-a326-4d44-8877-e66eca73783d",
   "metadata": {
    "tags": []
   },
   "source": [
    "# File Paths"
   ]
  },
  {
   "cell_type": "code",
   "execution_count": 2,
   "id": "1ca0bb52-b5c1-4e36-b034-c4a30aad988a",
   "metadata": {
    "tags": []
   },
   "outputs": [],
   "source": [
    "parent_directory = \"//oit-nas-fe13dc.oit.duke.edu//data_commons-borsuk//\"\n",
    "tile_names_tile_urls_complete_array = np.load(\"image_download_azure/tile_name_tile_url_complete_array.npy\")\n",
    "tile_dir_path = os.path.join(parent_directory,\"complete_dataset\",\"tiles\")\n",
    "#https://stackoverflow.com/questions/5953373/how-to-split-image-into-multiple-pieces-in-python\n",
    "img_anno_directory = os.path.join(parent_directory,\"temp/rechip\")\n",
    "remaining_chips_path =  os.path.join(parent_directory,\"temp/remaining_chips\")\n",
    "remaining_sets_path =  os.path.join(parent_directory,\"temp/remaining_sets\")\n",
    "\n",
    "verified_standard_quad_image_name_format = os.path.join(parent_directory,\"verified/verified_standard_quad_image_name_format\")\n",
    "incorrectly_chipped_images_path = os.path.join(parent_directory,\"temp/incorrectly_chipped_images\")\n",
    "incorrect_named_correctly_chipped_dir = os.path.join(parent_directory,\"temp/incorrectly_named_correct_chipped_images\")"
   ]
  },
  {
   "cell_type": "code",
   "execution_count": 22,
   "id": "12ab2008-2777-466e-9ad6-dff26f4f3cfb",
   "metadata": {},
   "outputs": [],
   "source": [
    "compiled_by_tile_dir = os.path.join(parent_directory,\"compiled_dataset/compile_by_tile\")\n",
    "images_do_not_match_names_dir = os.path.join(parent_directory,\"compiled_dataset/images_do_not_match_names_state_year\")\n",
    "correctly_chipped_incorrect_dir = os.path.join(parent_directory,\"compiled_dataset/correctly_chipped_incorrect_data\")"
   ]
  },
  {
   "cell_type": "markdown",
   "id": "15cf339a-a625-4455-b0d2-8bf07fe9c467",
   "metadata": {
    "jp-MarkdownHeadingCollapsed": true,
    "tags": []
   },
   "source": [
    "# Download Additional Tiles \n",
    "\n",
    "If necessary, download additional tiles\n",
    "Note: Reform into function, to call above."
   ]
  },
  {
   "cell_type": "markdown",
   "id": "9b455eb7-b5ba-4643-8f23-6b40367b9391",
   "metadata": {
    "tags": []
   },
   "source": [
    "## Set 3"
   ]
  },
  {
   "cell_type": "code",
   "execution_count": 35,
   "id": "201db17a-5f4c-496f-a920-68dc1b18c918",
   "metadata": {
    "collapsed": true,
    "jupyter": {
     "outputs_hidden": true
    },
    "tags": []
   },
   "outputs": [
    {
     "name": "stdout",
     "output_type": "stream",
     "text": [
      "m_3411762_sw_11_060_20180822.tif\n"
     ]
    },
    {
     "name": "stderr",
     "output_type": "stream",
     "text": [
      "100% (408585536 of 408585536) |##########| Elapsed Time: 0:00:42 Time:  0:00:42\n"
     ]
    },
    {
     "name": "stdout",
     "output_type": "stream",
     "text": [
      "...done, 408585536 bytes.\n",
      "m_3009612_nw_14_060_20181102.tif\n"
     ]
    },
    {
     "name": "stderr",
     "output_type": "stream",
     "text": [
      "100% (438599822 of 438599822) |##########| Elapsed Time: 0:00:43 Time:  0:00:43\n"
     ]
    },
    {
     "name": "stdout",
     "output_type": "stream",
     "text": [
      "...done, 438599822 bytes.\n",
      "m_3809031_nw_15_060_20181121.tif\n"
     ]
    },
    {
     "name": "stderr",
     "output_type": "stream",
     "text": [
      "100% (432344764 of 432344764) |##########| Elapsed Time: 0:00:58 Time:  0:00:58\n"
     ]
    },
    {
     "name": "stdout",
     "output_type": "stream",
     "text": [
      "...done, 432344764 bytes.\n",
      "m_3209714_se_14_060_20181120.tif\n"
     ]
    },
    {
     "name": "stderr",
     "output_type": "stream",
     "text": [
      "100% (467719571 of 467719571) |##########| Elapsed Time: 0:00:47 Time:  0:00:47\n"
     ]
    },
    {
     "name": "stdout",
     "output_type": "stream",
     "text": [
      "...done, 467719571 bytes.\n",
      "m_4107355_se_18_060_20180810.tif\n"
     ]
    },
    {
     "name": "stderr",
     "output_type": "stream",
     "text": [
      "100% (393583845 of 393583845) |##########| Elapsed Time: 0:00:34 Time:  0:00:34\n"
     ]
    },
    {
     "name": "stdout",
     "output_type": "stream",
     "text": [
      "...done, 393583845 bytes.\n",
      "m_3908764_se_16_060_20180727.tif\n"
     ]
    },
    {
     "name": "stderr",
     "output_type": "stream",
     "text": [
      "100% (483325024 of 483325024) |##########| Elapsed Time: 0:01:13 Time:  0:01:13\n"
     ]
    },
    {
     "name": "stdout",
     "output_type": "stream",
     "text": [
      "...done, 483325024 bytes.\n",
      "m_4810204_se_13_060_20180815.tif\n"
     ]
    },
    {
     "name": "stderr",
     "output_type": "stream",
     "text": [
      "100% (308935875 of 308935875) |##########| Elapsed Time: 0:00:40 Time:  0:00:40\n"
     ]
    },
    {
     "name": "stdout",
     "output_type": "stream",
     "text": [
      "...done, 308935875 bytes.\n",
      "m_3510031_ne_14_060_20180930.tif\n"
     ]
    },
    {
     "name": "stderr",
     "output_type": "stream",
     "text": [
      "100% (395363767 of 395363767) |##########| Elapsed Time: 0:00:34 Time:  0:00:34\n"
     ]
    },
    {
     "name": "stdout",
     "output_type": "stream",
     "text": [
      "...done, 395363767 bytes.\n",
      "m_3210312_se_13_060_20180506.tif\n"
     ]
    },
    {
     "name": "stderr",
     "output_type": "stream",
     "text": [
      "100% (410144203 of 410144203) |##########| Elapsed Time: 0:00:35 Time:  0:00:35\n"
     ]
    },
    {
     "name": "stdout",
     "output_type": "stream",
     "text": [
      "...done, 410144203 bytes.\n",
      "m_2709723_ne_14_060_20180517.tif\n"
     ]
    },
    {
     "name": "stderr",
     "output_type": "stream",
     "text": [
      "100% (430038519 of 430038519) |##########| Elapsed Time: 0:01:12 Time:  0:01:12\n"
     ]
    },
    {
     "name": "stdout",
     "output_type": "stream",
     "text": [
      "...done, 430038519 bytes.\n",
      "m_4208337_nw_17_060_20180707.tif\n"
     ]
    },
    {
     "name": "stderr",
     "output_type": "stream",
     "text": [
      "100% (512353047 of 512353047) |##########| Elapsed Time: 0:00:58 Time:  0:00:58\n"
     ]
    },
    {
     "name": "stdout",
     "output_type": "stream",
     "text": [
      "...done, 512353047 bytes.\n",
      "m_2809506_se_15_060_20181210.tif\n"
     ]
    },
    {
     "name": "stderr",
     "output_type": "stream",
     "text": [
      "100% (329170961 of 329170961) |##########| Elapsed Time: 0:00:28 Time:  0:00:28\n"
     ]
    },
    {
     "name": "stdout",
     "output_type": "stream",
     "text": [
      "...done, 329170961 bytes.\n",
      "m_3707823_sw_17_060_20180827.tif\n"
     ]
    },
    {
     "name": "stderr",
     "output_type": "stream",
     "text": [
      "100% (606895144 of 606895144) |##########| Elapsed Time: 0:00:52 Time:  0:00:52\n"
     ]
    },
    {
     "name": "stdout",
     "output_type": "stream",
     "text": [
      "...done, 606895144 bytes.\n",
      "m_3608951_nw_16_060_20180920.tif\n"
     ]
    },
    {
     "name": "stderr",
     "output_type": "stream",
     "text": [
      "100% (405895689 of 405895689) |##########| Elapsed Time: 0:00:34 Time:  0:00:34\n"
     ]
    },
    {
     "name": "stdout",
     "output_type": "stream",
     "text": [
      "...done, 405895689 bytes.\n",
      "m_3607957_ne_17_060_20181110.tif\n"
     ]
    },
    {
     "name": "stderr",
     "output_type": "stream",
     "text": [
      "100% (446442062 of 446442062) |##########| Elapsed Time: 0:00:44 Time:  0:00:44\n"
     ]
    },
    {
     "name": "stdout",
     "output_type": "stream",
     "text": [
      "...done, 446442062 bytes.\n",
      "m_4207253_sw_18_060_20181019.tif\n"
     ]
    },
    {
     "name": "stderr",
     "output_type": "stream",
     "text": [
      "100% (481899337 of 481899337) |##########| Elapsed Time: 0:01:10 Time:  0:01:10\n"
     ]
    },
    {
     "name": "stdout",
     "output_type": "stream",
     "text": [
      "...done, 481899337 bytes.\n",
      "m_4008663_sw_16_060_20180713.tif\n"
     ]
    },
    {
     "name": "stderr",
     "output_type": "stream",
     "text": [
      "100% (485232168 of 485232168) |##########| Elapsed Time: 0:00:42 Time:  0:00:42\n"
     ]
    },
    {
     "name": "stdout",
     "output_type": "stream",
     "text": [
      "...done, 485232168 bytes.\n",
      "m_2609839_se_14_060_20190105.tif\n"
     ]
    },
    {
     "name": "stderr",
     "output_type": "stream",
     "text": [
      "100% (480512246 of 480512246) |##########| Elapsed Time: 0:00:58 Time:  0:00:58\n"
     ]
    },
    {
     "name": "stdout",
     "output_type": "stream",
     "text": [
      "...done, 480512246 bytes.\n",
      "m_3707941_sw_17_060_20180824.tif\n"
     ]
    },
    {
     "name": "stderr",
     "output_type": "stream",
     "text": [
      "100% (580899238 of 580899238) |##########| Elapsed Time: 0:00:50 Time:  0:00:50\n"
     ]
    },
    {
     "name": "stdout",
     "output_type": "stream",
     "text": [
      "...done, 580899238 bytes.\n",
      "m_2809726_nw_14_060_20181209.tif\n"
     ]
    },
    {
     "name": "stderr",
     "output_type": "stream",
     "text": [
      "100% (483209690 of 483209690) |##########| Elapsed Time: 0:00:51 Time:  0:00:51\n"
     ]
    },
    {
     "name": "stdout",
     "output_type": "stream",
     "text": [
      "...done, 483209690 bytes.\n",
      "m_3712106_nw_10_060_20180714.tif\n"
     ]
    },
    {
     "name": "stderr",
     "output_type": "stream",
     "text": [
      "100% (429098656 of 429098656) |##########| Elapsed Time: 0:01:01 Time:  0:01:01\n"
     ]
    },
    {
     "name": "stdout",
     "output_type": "stream",
     "text": [
      "...done, 429098656 bytes.\n",
      "m_3610840_nw_12_060_20180510.tif\n"
     ]
    },
    {
     "name": "stderr",
     "output_type": "stream",
     "text": [
      "100% (415040905 of 415040905) |##########| Elapsed Time: 0:00:43 Time:  0:00:43\n"
     ]
    },
    {
     "name": "stdout",
     "output_type": "stream",
     "text": [
      "...done, 415040905 bytes.\n",
      "m_2909837_nw_14_060_20181102.tif\n"
     ]
    },
    {
     "name": "stderr",
     "output_type": "stream",
     "text": [
      "100% (479134755 of 479134755) |##########| Elapsed Time: 0:00:47 Time:  0:00:47\n"
     ]
    },
    {
     "name": "stdout",
     "output_type": "stream",
     "text": [
      "...done, 479134755 bytes.\n",
      "m_4308962_se_16_060_20181004.tif\n"
     ]
    },
    {
     "name": "stderr",
     "output_type": "stream",
     "text": [
      "100% (410073297 of 410073297) |##########| Elapsed Time: 0:00:34 Time:  0:00:34\n"
     ]
    },
    {
     "name": "stdout",
     "output_type": "stream",
     "text": [
      "...done, 410073297 bytes.\n",
      "m_3411759_se_11_060_20180822.tif\n"
     ]
    },
    {
     "name": "stderr",
     "output_type": "stream",
     "text": [
      "100% (437102802 of 437102802) |##########| Elapsed Time: 0:00:38 Time:  0:00:38\n"
     ]
    },
    {
     "name": "stdout",
     "output_type": "stream",
     "text": [
      "...done, 437102802 bytes.\n",
      "m_3310125_ne_14_060_20180923.tif\n"
     ]
    },
    {
     "name": "stderr",
     "output_type": "stream",
     "text": [
      "100% (479953141 of 479953141) |##########| Elapsed Time: 0:00:53 Time:  0:00:53\n"
     ]
    },
    {
     "name": "stdout",
     "output_type": "stream",
     "text": [
      "...done, 479953141 bytes.\n",
      "m_3908137_se_17_060_20180707.tif\n"
     ]
    },
    {
     "name": "stderr",
     "output_type": "stream",
     "text": [
      "100% (436193494 of 436193494) |##########| Elapsed Time: 0:00:57 Time:  0:00:57\n"
     ]
    },
    {
     "name": "stdout",
     "output_type": "stream",
     "text": [
      "...done, 436193494 bytes.\n",
      "m_4107219_ne_18_060_20180930.tif\n"
     ]
    },
    {
     "name": "stderr",
     "output_type": "stream",
     "text": [
      "100% (455553336 of 455553336) |##########| Elapsed Time: 0:00:38 Time:  0:00:38\n"
     ]
    },
    {
     "name": "stdout",
     "output_type": "stream",
     "text": [
      "...done, 455553336 bytes.\n",
      "m_4208431_sw_16_060_20180707.tif\n"
     ]
    },
    {
     "name": "stderr",
     "output_type": "stream",
     "text": [
      "100% (501858388 of 501858388) |##########| Elapsed Time: 0:00:58 Time:  0:00:58\n"
     ]
    },
    {
     "name": "stdout",
     "output_type": "stream",
     "text": [
      "...done, 501858388 bytes.\n",
      "m_3310110_nw_14_060_20180924.tif\n"
     ]
    },
    {
     "name": "stderr",
     "output_type": "stream",
     "text": [
      "100% (407874147 of 407874147) |##########| Elapsed Time: 0:00:43 Time:  0:00:43\n"
     ]
    },
    {
     "name": "stdout",
     "output_type": "stream",
     "text": [
      "...done, 407874147 bytes.\n",
      "m_4710348_sw_13_060_20180830.tif\n"
     ]
    },
    {
     "name": "stderr",
     "output_type": "stream",
     "text": [
      "100% (334151018 of 334151018) |##########| Elapsed Time: 0:00:27 Time:  0:00:27\n"
     ]
    },
    {
     "name": "stdout",
     "output_type": "stream",
     "text": [
      "...done, 334151018 bytes.\n",
      "m_3907513_ne_18_060_20180827.tif\n"
     ]
    },
    {
     "name": "stderr",
     "output_type": "stream",
     "text": [
      "100% (511935132 of 511935132) |##########| Elapsed Time: 0:00:45 Time:  0:00:45\n"
     ]
    },
    {
     "name": "stdout",
     "output_type": "stream",
     "text": [
      "...done, 511935132 bytes.\n",
      "m_3411863_sw_11_060_20180723.tif\n"
     ]
    },
    {
     "name": "stderr",
     "output_type": "stream",
     "text": [
      "100% (459247953 of 459247953) |##########| Elapsed Time: 0:00:39 Time:  0:00:39\n"
     ]
    },
    {
     "name": "stdout",
     "output_type": "stream",
     "text": [
      "...done, 459247953 bytes.\n",
      "m_4810123_nw_14_060_20181020.tif\n"
     ]
    },
    {
     "name": "stderr",
     "output_type": "stream",
     "text": [
      "100% (347726314 of 347726314) |##########| Elapsed Time: 0:00:30 Time:  0:00:30\n"
     ]
    },
    {
     "name": "stdout",
     "output_type": "stream",
     "text": [
      "...done, 347726314 bytes.\n",
      "m_4308819_sw_16_060_20180923.tif\n"
     ]
    },
    {
     "name": "stderr",
     "output_type": "stream",
     "text": [
      "100% (414481358 of 414481358) |##########| Elapsed Time: 0:00:47 Time:  0:00:47\n"
     ]
    },
    {
     "name": "stdout",
     "output_type": "stream",
     "text": [
      "...done, 414481358 bytes.\n",
      "m_3907652_ne_18_060_20180828.tif\n"
     ]
    },
    {
     "name": "stderr",
     "output_type": "stream",
     "text": [
      "100% (472586250 of 472586250) |##########| Elapsed Time: 0:00:40 Time:  0:00:40\n"
     ]
    },
    {
     "name": "stdout",
     "output_type": "stream",
     "text": [
      "...done, 472586250 bytes.\n",
      "m_3709350_se_15_060_20180827.tif\n"
     ]
    },
    {
     "name": "stderr",
     "output_type": "stream",
     "text": [
      "100% (409420184 of 409420184) |##########| Elapsed Time: 0:00:38 Time:  0:00:38\n"
     ]
    },
    {
     "name": "stdout",
     "output_type": "stream",
     "text": [
      "...done, 409420184 bytes.\n",
      "m_3608909_se_16_060_20180918.tif\n"
     ]
    },
    {
     "name": "stderr",
     "output_type": "stream",
     "text": [
      "100% (402943545 of 402943545) |##########| Elapsed Time: 0:00:36 Time:  0:00:36\n"
     ]
    },
    {
     "name": "stdout",
     "output_type": "stream",
     "text": [
      "...done, 402943545 bytes.\n",
      "m_3009743_ne_14_060_20181101.tif\n"
     ]
    },
    {
     "name": "stderr",
     "output_type": "stream",
     "text": [
      "100% (482788216 of 482788216) |##########| Elapsed Time: 0:00:40 Time:  0:00:40\n"
     ]
    },
    {
     "name": "stdout",
     "output_type": "stream",
     "text": [
      "...done, 482788216 bytes.\n",
      "m_3511833_sw_11_060_20180818.tif\n"
     ]
    },
    {
     "name": "stderr",
     "output_type": "stream",
     "text": [
      "100% (446634659 of 446634659) |##########| Elapsed Time: 0:01:09 Time:  0:01:09\n"
     ]
    },
    {
     "name": "stdout",
     "output_type": "stream",
     "text": [
      "...done, 446634659 bytes.\n",
      "m_2909532_sw_15_060_20181210.tif\n"
     ]
    },
    {
     "name": "stderr",
     "output_type": "stream",
     "text": [
      "100% (495597946 of 495597946) |##########| Elapsed Time: 0:00:43 Time:  0:00:43\n"
     ]
    },
    {
     "name": "stdout",
     "output_type": "stream",
     "text": [
      "...done, 495597946 bytes.\n",
      "m_3909344_ne_15_060_20181017.tif\n"
     ]
    },
    {
     "name": "stderr",
     "output_type": "stream",
     "text": [
      "100% (399437662 of 399437662) |##########| Elapsed Time: 0:00:35 Time:  0:00:35\n"
     ]
    },
    {
     "name": "stdout",
     "output_type": "stream",
     "text": [
      "...done, 399437662 bytes.\n",
      "m_3411762_nw_11_060_20180822.tif\n"
     ]
    },
    {
     "name": "stderr",
     "output_type": "stream",
     "text": [
      "100% (426969410 of 426969410) |##########| Elapsed Time: 0:00:37 Time:  0:00:37\n"
     ]
    },
    {
     "name": "stdout",
     "output_type": "stream",
     "text": [
      "...done, 426969410 bytes.\n",
      "m_4307030_ne_19_060_20180927.tif\n"
     ]
    },
    {
     "name": "stderr",
     "output_type": "stream",
     "text": [
      "100% (525986496 of 525986496) |##########| Elapsed Time: 0:00:46 Time:  0:00:46\n"
     ]
    },
    {
     "name": "stdout",
     "output_type": "stream",
     "text": [
      "...done, 525986496 bytes.\n",
      "m_3708944_se_16_060_20180917.tif\n"
     ]
    },
    {
     "name": "stderr",
     "output_type": "stream",
     "text": [
      "100% (400010878 of 400010878) |##########| Elapsed Time: 0:00:38 Time:  0:00:38\n"
     ]
    },
    {
     "name": "stdout",
     "output_type": "stream",
     "text": [
      "...done, 400010878 bytes.\n",
      "m_4209027_se_15_060_20181017.tif\n"
     ]
    },
    {
     "name": "stderr",
     "output_type": "stream",
     "text": [
      "100% (414530977 of 414530977) |##########| Elapsed Time: 0:00:36 Time:  0:00:36\n"
     ]
    },
    {
     "name": "stdout",
     "output_type": "stream",
     "text": [
      "...done, 414530977 bytes.\n",
      "m_4406826_ne_19_060_20180720.tif\n"
     ]
    },
    {
     "name": "stderr",
     "output_type": "stream",
     "text": [
      "100% (498139983 of 498139983) |##########| Elapsed Time: 0:00:44 Time:  0:00:44\n"
     ]
    },
    {
     "name": "stdout",
     "output_type": "stream",
     "text": [
      "...done, 498139983 bytes.\n",
      "m_4809707_nw_14_060_20180901.tif\n"
     ]
    },
    {
     "name": "stderr",
     "output_type": "stream",
     "text": [
      "100% (339204943 of 339204943) |##########| Elapsed Time: 0:00:30 Time:  0:00:30\n"
     ]
    },
    {
     "name": "stdout",
     "output_type": "stream",
     "text": [
      "...done, 339204943 bytes.\n",
      "m_3108938_se_16_060_20181028.tif\n"
     ]
    },
    {
     "name": "stderr",
     "output_type": "stream",
     "text": [
      "100% (490506117 of 490506117) |##########| Elapsed Time: 0:00:42 Time:  0:00:42\n"
     ]
    },
    {
     "name": "stdout",
     "output_type": "stream",
     "text": [
      "...done, 490506117 bytes.\n",
      "m_2609763_nw_14_060_20181214.tif\n"
     ]
    },
    {
     "name": "stderr",
     "output_type": "stream",
     "text": [
      "100% (102093943 of 102093943) |##########| Elapsed Time: 0:00:09 Time:  0:00:09\n"
     ]
    },
    {
     "name": "stdout",
     "output_type": "stream",
     "text": [
      "...done, 102093943 bytes.\n",
      "m_4008505_sw_16_060_20180708.tif\n"
     ]
    },
    {
     "name": "stderr",
     "output_type": "stream",
     "text": [
      "100% (488279824 of 488279824) |##########| Elapsed Time: 0:00:41 Time:  0:00:41\n"
     ]
    },
    {
     "name": "stdout",
     "output_type": "stream",
     "text": [
      "...done, 488279824 bytes.\n",
      "m_3809012_sw_15_060_20181020.tif\n"
     ]
    },
    {
     "name": "stderr",
     "output_type": "stream",
     "text": [
      "100% (438687445 of 438687445) |##########| Elapsed Time: 0:00:40 Time:  0:00:40\n"
     ]
    },
    {
     "name": "stdout",
     "output_type": "stream",
     "text": [
      "...done, 438687445 bytes.\n",
      "m_4008028_nw_17_060_20180701.tif\n"
     ]
    },
    {
     "name": "stderr",
     "output_type": "stream",
     "text": [
      "100% (433402595 of 433402595) |##########| Elapsed Time: 0:00:48 Time:  0:00:48\n"
     ]
    },
    {
     "name": "stdout",
     "output_type": "stream",
     "text": [
      "...done, 433402595 bytes.\n",
      "m_3607614_sw_18_060_20181003.tif\n"
     ]
    },
    {
     "name": "stderr",
     "output_type": "stream",
     "text": [
      "100% (558967860 of 558967860) |##########| Elapsed Time: 0:00:56 Time:  0:00:56\n"
     ]
    },
    {
     "name": "stdout",
     "output_type": "stream",
     "text": [
      "...done, 558967860 bytes.\n",
      "m_2709840_ne_14_060_20181209.tif\n"
     ]
    },
    {
     "name": "stderr",
     "output_type": "stream",
     "text": [
      "100% (485691154 of 485691154) |##########| Elapsed Time: 0:00:43 Time:  0:00:43\n"
     ]
    },
    {
     "name": "stdout",
     "output_type": "stream",
     "text": [
      "...done, 485691154 bytes.\n",
      "m_4409845_nw_14_060_20180907.tif\n"
     ]
    },
    {
     "name": "stderr",
     "output_type": "stream",
     "text": [
      "100% (343548679 of 343548679) |##########| Elapsed Time: 0:00:31 Time:  0:00:31\n"
     ]
    },
    {
     "name": "stdout",
     "output_type": "stream",
     "text": [
      "...done, 343548679 bytes.\n",
      "m_3309663_sw_14_060_20181127.tif\n"
     ]
    },
    {
     "name": "stderr",
     "output_type": "stream",
     "text": [
      "100% (453797250 of 453797250) |##########| Elapsed Time: 0:00:40 Time:  0:00:40\n"
     ]
    },
    {
     "name": "stdout",
     "output_type": "stream",
     "text": [
      "...done, 453797250 bytes.\n",
      "m_4810245_se_13_060_20180815.tif\n"
     ]
    },
    {
     "name": "stderr",
     "output_type": "stream",
     "text": [
      "100% (314883838 of 314883838) |##########| Elapsed Time: 0:00:29 Time:  0:00:29\n"
     ]
    },
    {
     "name": "stdout",
     "output_type": "stream",
     "text": [
      "...done, 314883838 bytes.\n",
      "m_3009622_sw_14_060_20181114.tif\n"
     ]
    },
    {
     "name": "stderr",
     "output_type": "stream",
     "text": [
      "100% (510782274 of 510782274) |##########| Elapsed Time: 0:00:57 Time:  0:00:57\n"
     ]
    },
    {
     "name": "stdout",
     "output_type": "stream",
     "text": [
      "...done, 510782274 bytes.\n",
      "m_3411760_nw_11_060_20180822.tif\n"
     ]
    },
    {
     "name": "stderr",
     "output_type": "stream",
     "text": [
      "100% (436545422 of 436545422) |##########| Elapsed Time: 0:00:47 Time:  0:00:47\n"
     ]
    },
    {
     "name": "stdout",
     "output_type": "stream",
     "text": [
      "...done, 436545422 bytes.\n",
      "m_4207148_ne_19_060_20181016.tif\n"
     ]
    },
    {
     "name": "stderr",
     "output_type": "stream",
     "text": [
      "100% (382073596 of 382073596) |##########| Elapsed Time: 0:00:42 Time:  0:00:42\n"
     ]
    },
    {
     "name": "stdout",
     "output_type": "stream",
     "text": [
      "...done, 382073596 bytes.\n",
      "m_3209540_sw_15_060_20181120.tif\n"
     ]
    },
    {
     "name": "stderr",
     "output_type": "stream",
     "text": [
      "100% (469087423 of 469087423) |##########| Elapsed Time: 0:00:43 Time:  0:00:43\n"
     ]
    },
    {
     "name": "stdout",
     "output_type": "stream",
     "text": [
      "...done, 469087423 bytes.\n",
      "m_3510052_ne_14_060_20180924.tif\n"
     ]
    },
    {
     "name": "stderr",
     "output_type": "stream",
     "text": [
      "100% (412446674 of 412446674) |##########| Elapsed Time: 0:00:43 Time:  0:00:43\n"
     ]
    },
    {
     "name": "stdout",
     "output_type": "stream",
     "text": [
      "...done, 412446674 bytes.\n",
      "m_4408511_se_16_060_20180912.tif\n"
     ]
    },
    {
     "name": "stderr",
     "output_type": "stream",
     "text": [
      "100% (502363784 of 502363784) |##########| Elapsed Time: 0:00:44 Time:  0:00:44\n"
     ]
    },
    {
     "name": "stdout",
     "output_type": "stream",
     "text": [
      "...done, 502363784 bytes.\n",
      "m_3209658_nw_14_060_20181114.tif\n"
     ]
    },
    {
     "name": "stderr",
     "output_type": "stream",
     "text": [
      "100% (421322884 of 421322884) |##########| Elapsed Time: 0:00:37 Time:  0:00:37\n"
     ]
    },
    {
     "name": "stdout",
     "output_type": "stream",
     "text": [
      "...done, 421322884 bytes.\n",
      "m_3110162_nw_14_060_20181201.tif\n"
     ]
    },
    {
     "name": "stderr",
     "output_type": "stream",
     "text": [
      "100% (472233021 of 472233021) |##########| Elapsed Time: 0:00:42 Time:  0:00:42\n"
     ]
    },
    {
     "name": "stdout",
     "output_type": "stream",
     "text": [
      "...done, 472233021 bytes.\n",
      "m_4610306_se_13_060_20181018.tif\n"
     ]
    },
    {
     "name": "stderr",
     "output_type": "stream",
     "text": [
      "100% (326692731 of 326692731) |##########| Elapsed Time: 0:00:32 Time:  0:00:32\n"
     ]
    },
    {
     "name": "stdout",
     "output_type": "stream",
     "text": [
      "...done, 326692731 bytes.\n",
      "m_3110302_se_13_060_20180929.tif\n"
     ]
    },
    {
     "name": "stderr",
     "output_type": "stream",
     "text": [
      "100% (508105636 of 508105636) |##########| Elapsed Time: 0:00:44 Time:  0:00:44\n"
     ]
    },
    {
     "name": "stdout",
     "output_type": "stream",
     "text": [
      "...done, 508105636 bytes.\n",
      "m_3508057_ne_17_060_20181107.tif\n"
     ]
    },
    {
     "name": "stderr",
     "output_type": "stream",
     "text": [
      "100% (445281987 of 445281987) |##########| Elapsed Time: 0:00:41 Time:  0:00:41\n"
     ]
    },
    {
     "name": "stdout",
     "output_type": "stream",
     "text": [
      "...done, 445281987 bytes.\n",
      "m_3909451_se_15_060_20180923.tif\n"
     ]
    },
    {
     "name": "stderr",
     "output_type": "stream",
     "text": [
      "100% (421702554 of 421702554) |##########| Elapsed Time: 0:00:36 Time:  0:00:36\n"
     ]
    },
    {
     "name": "stdout",
     "output_type": "stream",
     "text": [
      "...done, 421702554 bytes.\n"
     ]
    }
   ],
   "source": [
    "unverified_set3_subfolders_path = os.path.join(parent_directory,\"unverified_images\\student_reviewed_unverified_images_set3\")\n",
    "unverified_set3_subfolders_paths = ap.img_path_anno_path(ap.list_of_sub_directories(unverified_set3_subfolders_path))\n",
    "\n",
    "\n",
    "## Get a list of the tiles in the subfolder\n",
    "tiles = []\n",
    "for directory in tqdm.tqdm(unverified_set3_subfolders_paths):\n",
    "    #get all the image and xml paths in directory of annotated images\n",
    "    #print(directory)\n",
    "    fc.remove_thumbs(directory[0])\n",
    "    image_paths = glob(directory[0] + \"/*.jpg\", recursive = True)\n",
    "    xml_paths = glob(directory[1] + \"/*.xml\", recursive = True)\n",
    "    #print(len(image_paths),len(xml_paths))\n",
    "\n",
    "    #identify tiles in each folder\n",
    "    for image in image_paths:\n",
    "        image_name = os.path.splitext(os.path.basename(image))[0]\n",
    "        tile_name = image_name.split(\"_\",4)[-1].rsplit(\"_\",1)[0]\n",
    "        tiles.append(tile_name)\n",
    "tiles = np.unique(tiles)\n",
    "\n",
    "## Get a list of the tiles downloaded (without the extension)\n",
    "tiles_downloaded =  os.listdir(tile_dir_path)\n",
    "tiles_downloaded_wo_ext = []\n",
    "for tile_downloaded in tiles_downloaded:\n",
    "    tiles_downloaded_wo_ext.append(os.path.splitext(tile_downloaded)[0])\n",
    "print(len(tiles_downloaded_wo_ext))\n",
    "\n",
    "## Get a list of the the tiles that need to be downloaded\n",
    "tiles_to_download = list(set(tiles.tolist()) - set(tiles_downloaded_wo_ext)) \n",
    "\n",
    "## Download Tiles\n",
    "tile_names = []\n",
    "tile_urls = []\n",
    "file_names = []\n",
    "for tile in tiles_to_download:   \n",
    "    ### download the tiles if they are not in the tiles folder \n",
    "    #check if the tile name is contained in the string of complete arrays\n",
    "    tile_name = [string for string in tile_names_tile_urls_complete_array[:,0] if tile in string]          \n",
    "    if len(tile_name) == 1: #A single tile name # get tile url from the first (only) entry\n",
    "        tile_url = tile_names_tile_urls_complete_array[tile_names_tile_urls_complete_array[:,0]==tile_name[0]][0][1] \n",
    "        tile_names.append(tile_name[0])\n",
    "        tile_urls.append(tile_url)\n",
    "    elif len(np.unique(tile_name)) > 1: # Multiple (different tiles) possibly the same tiles in different states, possible different years\n",
    "        tile_url = tile_names_tile_urls_complete_array[tile_names_tile_urls_complete_array[:,0]==tile_name[0]][0][1]# get tile url\n",
    "        tile_names.append(tile_name[0])\n",
    "        tile_urls.append(tile_url)\n",
    "    elif (len(tile_name) > 1): #Multiple different tile names that are the same, probably different naip storage locations\n",
    "        # get tile url from the second entry \n",
    "        tile_url = tile_names_tile_urls_complete_array[tile_names_tile_urls_complete_array[:,0]==tile_name[1]][1][1] \n",
    "        tile_names.append(tile_name[1])\n",
    "        tile_urls.append(tile_url)\n",
    "\n",
    "    #get file name\n",
    "    file_name = tile_name[0]\n",
    "    if tile_name[0].count(\"_\") > 5:\n",
    "        tile_name = tile_name[0].rsplit(\"_\",1)[0]\n",
    "        file_name = tile_name + \".tif\"\n",
    "    print(file_name)\n",
    "    ### Download tile\n",
    "    file_names.append(ap.download_url(tile_url, tiles_complete_dataset_path,\n",
    "                                                 destination_filename = file_name,       \n",
    "                                                         progress_updater=ap.DownloadProgressBar()))"
   ]
  },
  {
   "cell_type": "markdown",
   "id": "8f2470b3-c9a4-4de7-bc71-afc7e1272611",
   "metadata": {
    "tags": []
   },
   "source": [
    "## Set 4"
   ]
  },
  {
   "cell_type": "code",
   "execution_count": 42,
   "id": "d8b44134-194b-4558-adde-45396db8d9df",
   "metadata": {
    "collapsed": true,
    "jupyter": {
     "outputs_hidden": true
    },
    "tags": []
   },
   "outputs": [
    {
     "name": "stderr",
     "output_type": "stream",
     "text": [
      "100%|██████████| 14/14 [00:00<00:00, 36.00it/s]\n"
     ]
    },
    {
     "name": "stdout",
     "output_type": "stream",
     "text": [
      "2021\n",
      "118\n",
      "m_4208355_sw_17_060_20180707.tif\n"
     ]
    },
    {
     "name": "stderr",
     "output_type": "stream",
     "text": [
      "100% (512753778 of 512753778) |##########| Elapsed Time: 0:00:55 Time:  0:00:55\n"
     ]
    },
    {
     "name": "stdout",
     "output_type": "stream",
     "text": [
      "...done, 512753778 bytes.\n",
      "m_3110238_sw_13_060_20180924.tif\n"
     ]
    },
    {
     "name": "stderr",
     "output_type": "stream",
     "text": [
      "100% (495216713 of 495216713) |##########| Elapsed Time: 0:00:42 Time:  0:00:42\n"
     ]
    },
    {
     "name": "stdout",
     "output_type": "stream",
     "text": [
      "...done, 495216713 bytes.\n",
      "m_3908011_nw_17_060_20180701.tif\n"
     ]
    },
    {
     "name": "stderr",
     "output_type": "stream",
     "text": [
      "100% (431921123 of 431921123) |##########| Elapsed Time: 0:00:53 Time:  0:00:53\n"
     ]
    },
    {
     "name": "stdout",
     "output_type": "stream",
     "text": [
      "...done, 431921123 bytes.\n",
      "m_3208646_sw_16_060_20190918.tif\n"
     ]
    },
    {
     "name": "stderr",
     "output_type": "stream",
     "text": [
      "100% (428880952 of 428880952) |##########| Elapsed Time: 0:00:34 Time:  0:00:34\n"
     ]
    },
    {
     "name": "stdout",
     "output_type": "stream",
     "text": [
      "...done, 428880952 bytes.\n",
      "m_2809504_ne_15_060_20181210.tif\n"
     ]
    },
    {
     "name": "stderr",
     "output_type": "stream",
     "text": [
      "100% (485983112 of 485983112) |##########| Elapsed Time: 0:00:40 Time:  0:00:40\n"
     ]
    },
    {
     "name": "stdout",
     "output_type": "stream",
     "text": [
      "...done, 485983112 bytes.\n",
      "m_3109544_se_15_060_20181202.tif\n"
     ]
    },
    {
     "name": "stderr",
     "output_type": "stream",
     "text": [
      "100% (454493187 of 454493187) |##########| Elapsed Time: 0:00:40 Time:  0:00:40\n"
     ]
    },
    {
     "name": "stdout",
     "output_type": "stream",
     "text": [
      "...done, 454493187 bytes.\n",
      "m_3208816_se_16_060_20191109.tif\n"
     ]
    },
    {
     "name": "stderr",
     "output_type": "stream",
     "text": [
      "100% (487734117 of 487734117) |##########| Elapsed Time: 0:00:56 Time:  0:00:56\n"
     ]
    },
    {
     "name": "stdout",
     "output_type": "stream",
     "text": [
      "...done, 487734117 bytes.\n",
      "m_4408928_sw_16_060_20180910.tif\n"
     ]
    },
    {
     "name": "stderr",
     "output_type": "stream",
     "text": [
      "100% (420565181 of 420565181) |##########| Elapsed Time: 0:00:37 Time:  0:00:37\n"
     ]
    },
    {
     "name": "stdout",
     "output_type": "stream",
     "text": [
      "...done, 420565181 bytes.\n",
      "m_2909121_nw_15_060_20190706.tif\n"
     ]
    },
    {
     "name": "stderr",
     "output_type": "stream",
     "text": [
      "100% (491106488 of 491106488) |##########| Elapsed Time: 0:01:22 Time:  0:01:22\n"
     ]
    },
    {
     "name": "stdout",
     "output_type": "stream",
     "text": [
      "...done, 491106488 bytes.\n",
      "m_3510037_ne_14_060_20180929.tif\n"
     ]
    },
    {
     "name": "stderr",
     "output_type": "stream",
     "text": [
      "100% (428449782 of 428449782) |##########| Elapsed Time: 0:00:35 Time:  0:00:35\n"
     ]
    },
    {
     "name": "stdout",
     "output_type": "stream",
     "text": [
      "...done, 428449782 bytes.\n",
      "m_4110241_ne_13_060_20180915.tif\n"
     ]
    },
    {
     "name": "stderr",
     "output_type": "stream",
     "text": [
      "100% (338196405 of 338196405) |##########| Elapsed Time: 0:00:32 Time:  0:00:32\n"
     ]
    },
    {
     "name": "stdout",
     "output_type": "stream",
     "text": [
      "...done, 338196405 bytes.\n",
      "m_3209934_nw_14_060_20181028.tif\n"
     ]
    },
    {
     "name": "stderr",
     "output_type": "stream",
     "text": [
      "100% (451611838 of 451611838) |##########| Elapsed Time: 0:00:38 Time:  0:00:38\n"
     ]
    },
    {
     "name": "stdout",
     "output_type": "stream",
     "text": [
      "...done, 451611838 bytes.\n",
      "m_4606816_ne_19_060_20180811.tif\n"
     ]
    },
    {
     "name": "stderr",
     "output_type": "stream",
     "text": [
      "100% (465766780 of 465766780) |##########| Elapsed Time: 0:00:39 Time:  0:00:39\n"
     ]
    },
    {
     "name": "stdout",
     "output_type": "stream",
     "text": [
      "...done, 465766780 bytes.\n",
      "m_2909845_sw_14_060_20181102.tif\n"
     ]
    },
    {
     "name": "stderr",
     "output_type": "stream",
     "text": [
      "100% (446576703 of 446576703) |##########| Elapsed Time: 0:00:42 Time:  0:00:42\n"
     ]
    },
    {
     "name": "stdout",
     "output_type": "stream",
     "text": [
      "...done, 446576703 bytes.\n",
      "m_2909112_ne_15_060_20190706.tif\n"
     ]
    },
    {
     "name": "stderr",
     "output_type": "stream",
     "text": [
      "100% (455895104 of 455895104) |##########| Elapsed Time: 0:00:46 Time:  0:00:46\n"
     ]
    },
    {
     "name": "stdout",
     "output_type": "stream",
     "text": [
      "...done, 455895104 bytes.\n",
      "m_4208212_se_17_060_20180706.tif\n"
     ]
    },
    {
     "name": "stderr",
     "output_type": "stream",
     "text": [
      "100% (466045554 of 466045554) |##########| Elapsed Time: 0:01:03 Time:  0:01:03\n"
     ]
    },
    {
     "name": "stdout",
     "output_type": "stream",
     "text": [
      "...done, 466045554 bytes.\n",
      "m_3510101_ne_14_060_20180913.tif\n"
     ]
    },
    {
     "name": "stderr",
     "output_type": "stream",
     "text": [
      "100% (410264095 of 410264095) |##########| Elapsed Time: 0:00:33 Time:  0:00:33\n"
     ]
    },
    {
     "name": "stdout",
     "output_type": "stream",
     "text": [
      "...done, 410264095 bytes.\n",
      "m_3208726_se_16_060_20191109.tif\n"
     ]
    },
    {
     "name": "stderr",
     "output_type": "stream",
     "text": [
      "100% (462312509 of 462312509) |##########| Elapsed Time: 0:00:39 Time:  0:00:39\n"
     ]
    },
    {
     "name": "stdout",
     "output_type": "stream",
     "text": [
      "...done, 462312509 bytes.\n",
      "m_3908004_sw_17_060_20180701.tif\n"
     ]
    },
    {
     "name": "stderr",
     "output_type": "stream",
     "text": [
      "100% (435624485 of 435624485) |##########| Elapsed Time: 0:01:10 Time:  0:01:10\n"
     ]
    },
    {
     "name": "stdout",
     "output_type": "stream",
     "text": [
      "...done, 435624485 bytes.\n",
      "m_3108961_sw_16_060_20181103.tif\n"
     ]
    },
    {
     "name": "stderr",
     "output_type": "stream",
     "text": [
      "100% (500686984 of 500686984) |##########| Elapsed Time: 0:00:41 Time:  0:00:41\n"
     ]
    },
    {
     "name": "stdout",
     "output_type": "stream",
     "text": [
      "...done, 500686984 bytes.\n",
      "m_3311815_se_11_060_20180723.tif\n"
     ]
    },
    {
     "name": "stderr",
     "output_type": "stream",
     "text": [
      "100% (465801799 of 465801799) |##########| Elapsed Time: 0:00:36 Time:  0:00:36\n"
     ]
    },
    {
     "name": "stdout",
     "output_type": "stream",
     "text": [
      "...done, 465801799 bytes.\n",
      "m_2909123_nw_15_060_20190707.tif\n"
     ]
    },
    {
     "name": "stderr",
     "output_type": "stream",
     "text": [
      "100% (462549939 of 462549939) |##########| Elapsed Time: 0:00:46 Time:  0:00:46\n"
     ]
    },
    {
     "name": "stdout",
     "output_type": "stream",
     "text": [
      "...done, 462549939 bytes.\n",
      "m_4007303_ne_18_060_20180829.tif\n"
     ]
    },
    {
     "name": "stderr",
     "output_type": "stream",
     "text": [
      "100% (371175241 of 371175241) |##########| Elapsed Time: 0:00:31 Time:  0:00:31\n"
     ]
    },
    {
     "name": "stdout",
     "output_type": "stream",
     "text": [
      "...done, 371175241 bytes.\n",
      "m_4010905_se_12_060_20180922.tif\n"
     ]
    },
    {
     "name": "stderr",
     "output_type": "stream",
     "text": [
      "100% (430713950 of 430713950) |##########| Elapsed Time: 0:01:34 Time:  0:01:34\n"
     ]
    },
    {
     "name": "stdout",
     "output_type": "stream",
     "text": [
      "...done, 430713950 bytes.\n",
      "m_3409036_nw_15_060_20181205.tif\n"
     ]
    },
    {
     "name": "stderr",
     "output_type": "stream",
     "text": [
      "100% (423331541 of 423331541) |##########| Elapsed Time: 0:00:34 Time:  0:00:34\n"
     ]
    },
    {
     "name": "stdout",
     "output_type": "stream",
     "text": [
      "...done, 423331541 bytes.\n",
      "m_3009531_ne_15_060_20181126.tif\n"
     ]
    },
    {
     "name": "stderr",
     "output_type": "stream",
     "text": [
      "100% (499420465 of 499420465) |##########| Elapsed Time: 0:01:00 Time:  0:01:00\n"
     ]
    },
    {
     "name": "stdout",
     "output_type": "stream",
     "text": [
      "...done, 499420465 bytes.\n",
      "m_2909559_sw_15_060_20181210.tif\n"
     ]
    },
    {
     "name": "stderr",
     "output_type": "stream",
     "text": [
      "100% (527408280 of 527408280) |##########| Elapsed Time: 0:00:58 Time:  0:00:58\n"
     ]
    },
    {
     "name": "stdout",
     "output_type": "stream",
     "text": [
      "...done, 527408280 bytes.\n",
      "m_2909756_se_14_060_20181126.tif\n"
     ]
    },
    {
     "name": "stderr",
     "output_type": "stream",
     "text": [
      "100% (465721451 of 465721451) |##########| Elapsed Time: 0:00:55 Time:  0:00:55\n"
     ]
    },
    {
     "name": "stdout",
     "output_type": "stream",
     "text": [
      "...done, 465721451 bytes.\n",
      "m_4011109_ne_12_060_20180828.tif\n"
     ]
    },
    {
     "name": "stderr",
     "output_type": "stream",
     "text": [
      "100% (384530201 of 384530201) |##########| Elapsed Time: 0:00:31 Time:  0:00:31\n"
     ]
    },
    {
     "name": "stdout",
     "output_type": "stream",
     "text": [
      "...done, 384530201 bytes.\n",
      "m_3110302_sw_13_060_20180929.tif\n"
     ]
    },
    {
     "name": "stderr",
     "output_type": "stream",
     "text": [
      "100% (498806173 of 498806173) |##########| Elapsed Time: 0:00:51 Time:  0:00:51\n"
     ]
    },
    {
     "name": "stdout",
     "output_type": "stream",
     "text": [
      "...done, 498806173 bytes.\n",
      "m_3411836_sw_11_060_20180722.tif\n"
     ]
    },
    {
     "name": "stderr",
     "output_type": "stream",
     "text": [
      "100% (471445214 of 471445214) |##########| Elapsed Time: 0:00:39 Time:  0:00:39\n"
     ]
    },
    {
     "name": "stdout",
     "output_type": "stream",
     "text": [
      "...done, 471445214 bytes.\n",
      "m_3410502_ne_13_060_20180509.tif\n"
     ]
    },
    {
     "name": "stderr",
     "output_type": "stream",
     "text": [
      "100% (384443109 of 384443109) |##########| Elapsed Time: 0:00:32 Time:  0:00:32\n"
     ]
    },
    {
     "name": "stdout",
     "output_type": "stream",
     "text": [
      "...done, 384443109 bytes.\n",
      "m_3208462_se_16_060_20191109.tif\n"
     ]
    },
    {
     "name": "stderr",
     "output_type": "stream",
     "text": [
      "100% (498097193 of 498097193) |##########| Elapsed Time: 0:00:41 Time:  0:00:41\n"
     ]
    },
    {
     "name": "stdout",
     "output_type": "stream",
     "text": [
      "...done, 498097193 bytes.\n",
      "m_2909559_se_15_060_20181210.tif\n"
     ]
    },
    {
     "name": "stderr",
     "output_type": "stream",
     "text": [
      "100% (514101392 of 514101392) |##########| Elapsed Time: 0:00:42 Time:  0:00:42\n"
     ]
    },
    {
     "name": "stdout",
     "output_type": "stream",
     "text": [
      "...done, 514101392 bytes.\n",
      "m_3510002_sw_14_060_20180917.tif\n"
     ]
    },
    {
     "name": "stderr",
     "output_type": "stream",
     "text": [
      "100% (437012427 of 437012427) |##########| Elapsed Time: 0:00:38 Time:  0:00:38\n"
     ]
    },
    {
     "name": "stdout",
     "output_type": "stream",
     "text": [
      "...done, 437012427 bytes.\n",
      "m_4108624_nw_16_060_20180708.tif\n"
     ]
    },
    {
     "name": "stderr",
     "output_type": "stream",
     "text": [
      "100% (478646831 of 478646831) |##########| Elapsed Time: 0:00:55 Time:  0:00:55\n"
     ]
    },
    {
     "name": "stdout",
     "output_type": "stream",
     "text": [
      "...done, 478646831 bytes.\n",
      "m_3108920_nw_16_060_20181103.tif\n"
     ]
    },
    {
     "name": "stderr",
     "output_type": "stream",
     "text": [
      "100% (495545646 of 495545646) |##########| Elapsed Time: 0:00:56 Time:  0:00:56\n"
     ]
    },
    {
     "name": "stdout",
     "output_type": "stream",
     "text": [
      "...done, 495545646 bytes.\n",
      "m_4207252_sw_18_060_20181107.tif\n"
     ]
    },
    {
     "name": "stderr",
     "output_type": "stream",
     "text": [
      "100% (471899422 of 471899422) |##########| Elapsed Time: 0:00:54 Time:  0:00:54\n"
     ]
    },
    {
     "name": "stdout",
     "output_type": "stream",
     "text": [
      "...done, 471899422 bytes.\n",
      "m_3009735_sw_14_060_20181101.tif\n"
     ]
    },
    {
     "name": "stderr",
     "output_type": "stream",
     "text": [
      "100% (496214185 of 496214185) |##########| Elapsed Time: 0:00:44 Time:  0:00:44\n"
     ]
    },
    {
     "name": "stdout",
     "output_type": "stream",
     "text": [
      "...done, 496214185 bytes.\n",
      "m_3208843_nw_16_060_20181030.tif\n"
     ]
    },
    {
     "name": "stderr",
     "output_type": "stream",
     "text": [
      "100% (478592608 of 478592608) |##########| Elapsed Time: 0:00:42 Time:  0:00:42\n"
     ]
    },
    {
     "name": "stdout",
     "output_type": "stream",
     "text": [
      "...done, 478592608 bytes.\n",
      "m_3209513_nw_15_060_20181127.tif\n"
     ]
    },
    {
     "name": "stderr",
     "output_type": "stream",
     "text": [
      "100% (477716150 of 477716150) |##########| Elapsed Time: 0:00:39 Time:  0:00:39\n"
     ]
    },
    {
     "name": "stdout",
     "output_type": "stream",
     "text": [
      "...done, 477716150 bytes.\n",
      "m_3907748_ne_18_060_20181211.tif\n"
     ]
    },
    {
     "name": "stderr",
     "output_type": "stream",
     "text": [
      "100% (524864668 of 524864668) |##########| Elapsed Time: 0:00:44 Time:  0:00:44\n"
     ]
    },
    {
     "name": "stdout",
     "output_type": "stream",
     "text": [
      "...done, 524864668 bytes.\n",
      "m_3607606_sw_18_060_20181003.tif\n"
     ]
    },
    {
     "name": "stderr",
     "output_type": "stream",
     "text": [
      "100% (490329465 of 490329465) |##########| Elapsed Time: 0:01:11 Time:  0:01:11\n"
     ]
    },
    {
     "name": "stdout",
     "output_type": "stream",
     "text": [
      "...done, 490329465 bytes.\n",
      "m_2609838_sw_14_060_20190105.tif\n"
     ]
    },
    {
     "name": "stderr",
     "output_type": "stream",
     "text": [
      "100% (430002853 of 430002853) |##########| Elapsed Time: 0:00:35 Time:  0:00:35\n"
     ]
    },
    {
     "name": "stdout",
     "output_type": "stream",
     "text": [
      "...done, 430002853 bytes.\n",
      "m_2909123_se_15_060_20190707.tif\n"
     ]
    },
    {
     "name": "stderr",
     "output_type": "stream",
     "text": [
      "100% (451835007 of 451835007) |##########| Elapsed Time: 0:00:38 Time:  0:00:38\n"
     ]
    },
    {
     "name": "stdout",
     "output_type": "stream",
     "text": [
      "...done, 451835007 bytes.\n",
      "m_3009729_nw_14_060_20181101.tif\n"
     ]
    },
    {
     "name": "stderr",
     "output_type": "stream",
     "text": [
      "100% (441087399 of 441087399) |##########| Elapsed Time: 0:00:36 Time:  0:00:36\n"
     ]
    },
    {
     "name": "stdout",
     "output_type": "stream",
     "text": [
      "...done, 441087399 bytes.\n",
      "m_3209219_se_15_060_20190901.tif\n"
     ]
    },
    {
     "name": "stderr",
     "output_type": "stream",
     "text": [
      "100% (502079690 of 502079690) |##########| Elapsed Time: 0:00:43 Time:  0:00:43\n"
     ]
    },
    {
     "name": "stdout",
     "output_type": "stream",
     "text": [
      "...done, 502079690 bytes.\n",
      "m_3209225_se_15_060_20190903.tif\n"
     ]
    },
    {
     "name": "stderr",
     "output_type": "stream",
     "text": [
      "100% (501484821 of 501484821) |##########| Elapsed Time: 0:00:41 Time:  0:00:41\n"
     ]
    },
    {
     "name": "stdout",
     "output_type": "stream",
     "text": [
      "...done, 501484821 bytes.\n",
      "m_3210322_ne_13_060_20180618.tif\n"
     ]
    },
    {
     "name": "stderr",
     "output_type": "stream",
     "text": [
      "100% (436178333 of 436178333) |##########| Elapsed Time: 0:00:50 Time:  0:00:50\n"
     ]
    },
    {
     "name": "stdout",
     "output_type": "stream",
     "text": [
      "...done, 436178333 bytes.\n",
      "m_3707935_sw_17_060_20181018.tif\n"
     ]
    },
    {
     "name": "stderr",
     "output_type": "stream",
     "text": [
      "100% (579588710 of 579588710) |##########| Elapsed Time: 0:00:47 Time:  0:00:47\n"
     ]
    },
    {
     "name": "stdout",
     "output_type": "stream",
     "text": [
      "...done, 579588710 bytes.\n",
      "m_4308856_ne_16_060_20180914.tif\n"
     ]
    },
    {
     "name": "stderr",
     "output_type": "stream",
     "text": [
      "100% (407712488 of 407712488) |##########| Elapsed Time: 0:00:50 Time:  0:00:50\n"
     ]
    },
    {
     "name": "stdout",
     "output_type": "stream",
     "text": [
      "...done, 407712488 bytes.\n",
      "m_4307058_nw_19_060_20180827.tif\n"
     ]
    },
    {
     "name": "stderr",
     "output_type": "stream",
     "text": [
      "100% (497842110 of 497842110) |##########| Elapsed Time: 0:00:49 Time:  0:00:49\n"
     ]
    },
    {
     "name": "stdout",
     "output_type": "stream",
     "text": [
      "...done, 497842110 bytes.\n",
      "m_3511964_sw_11_060_20180713.tif\n"
     ]
    },
    {
     "name": "stderr",
     "output_type": "stream",
     "text": [
      "100% (454060434 of 454060434) |##########| Elapsed Time: 0:00:37 Time:  0:00:37\n"
     ]
    },
    {
     "name": "stdout",
     "output_type": "stream",
     "text": [
      "...done, 454060434 bytes.\n",
      "m_3210330_ne_13_060_20180618.tif\n"
     ]
    },
    {
     "name": "stderr",
     "output_type": "stream",
     "text": [
      "100% (478559245 of 478559245) |##########| Elapsed Time: 0:00:42 Time:  0:00:42\n"
     ]
    },
    {
     "name": "stdout",
     "output_type": "stream",
     "text": [
      "...done, 478559245 bytes.\n",
      "m_3908053_sw_17_060_20180707.tif\n"
     ]
    },
    {
     "name": "stderr",
     "output_type": "stream",
     "text": [
      "100% (469077376 of 469077376) |##########| Elapsed Time: 0:00:40 Time:  0:00:40\n"
     ]
    },
    {
     "name": "stdout",
     "output_type": "stream",
     "text": [
      "...done, 469077376 bytes.\n",
      "m_4609601_se_14_060_20181018.tif\n"
     ]
    },
    {
     "name": "stderr",
     "output_type": "stream",
     "text": [
      "100% (361928384 of 361928384) |##########| Elapsed Time: 0:00:35 Time:  0:00:35\n"
     ]
    },
    {
     "name": "stdout",
     "output_type": "stream",
     "text": [
      "...done, 361928384 bytes.\n",
      "m_3209830_sw_14_060_20180821.tif\n"
     ]
    },
    {
     "name": "stderr",
     "output_type": "stream",
     "text": [
      "100% (455877746 of 455877746) |##########| Elapsed Time: 0:00:38 Time:  0:00:38\n"
     ]
    },
    {
     "name": "stdout",
     "output_type": "stream",
     "text": [
      "...done, 455877746 bytes.\n",
      "m_2809839_nw_14_060_20181103.tif\n"
     ]
    },
    {
     "name": "stderr",
     "output_type": "stream",
     "text": [
      "100% (448215639 of 448215639) |##########| Elapsed Time: 0:00:36 Time:  0:00:36\n"
     ]
    },
    {
     "name": "stdout",
     "output_type": "stream",
     "text": [
      "...done, 448215639 bytes.\n",
      "m_3209454_se_15_060_20181122.tif\n"
     ]
    },
    {
     "name": "stderr",
     "output_type": "stream",
     "text": [
      "100% (473029332 of 473029332) |##########| Elapsed Time: 0:00:44 Time:  0:00:44\n"
     ]
    },
    {
     "name": "stdout",
     "output_type": "stream",
     "text": [
      "...done, 473029332 bytes.\n",
      "m_3210352_ne_13_060_20180506.tif\n"
     ]
    },
    {
     "name": "stderr",
     "output_type": "stream",
     "text": [
      "100% (433732285 of 433732285) |##########| Elapsed Time: 0:00:46 Time:  0:00:46\n"
     ]
    },
    {
     "name": "stdout",
     "output_type": "stream",
     "text": [
      "...done, 433732285 bytes.\n",
      "m_4309626_se_14_060_20180912.tif\n"
     ]
    },
    {
     "name": "stderr",
     "output_type": "stream",
     "text": [
      "100% (402164148 of 402164148) |##########| Elapsed Time: 0:00:45 Time:  0:00:45\n"
     ]
    },
    {
     "name": "stdout",
     "output_type": "stream",
     "text": [
      "...done, 402164148 bytes.\n",
      "m_3508301_se_17_060_20181021.tif\n"
     ]
    },
    {
     "name": "stderr",
     "output_type": "stream",
     "text": [
      "100% (572457655 of 572457655) |##########| Elapsed Time: 0:00:47 Time:  0:00:47\n"
     ]
    },
    {
     "name": "stdout",
     "output_type": "stream",
     "text": [
      "...done, 572457655 bytes.\n",
      "m_2909521_se_15_060_20181204.tif\n"
     ]
    },
    {
     "name": "stderr",
     "output_type": "stream",
     "text": [
      "100% (497846234 of 497846234) |##########| Elapsed Time: 0:00:48 Time:  0:00:48\n"
     ]
    },
    {
     "name": "stdout",
     "output_type": "stream",
     "text": [
      "...done, 497846234 bytes.\n",
      "m_3108811_sw_16_060_20181103.tif\n"
     ]
    },
    {
     "name": "stderr",
     "output_type": "stream",
     "text": [
      "100% (495095273 of 495095273) |##########| Elapsed Time: 0:00:41 Time:  0:00:41\n"
     ]
    },
    {
     "name": "stdout",
     "output_type": "stream",
     "text": [
      "...done, 495095273 bytes.\n",
      "m_4009501_ne_15_060_20180911.tif\n"
     ]
    },
    {
     "name": "stderr",
     "output_type": "stream",
     "text": [
      "100% (418093497 of 418093497) |##########| Elapsed Time: 0:00:34 Time:  0:00:34\n"
     ]
    },
    {
     "name": "stdout",
     "output_type": "stream",
     "text": [
      "...done, 418093497 bytes.\n",
      "m_3310236_ne_13_060_20180928.tif\n"
     ]
    },
    {
     "name": "stderr",
     "output_type": "stream",
     "text": [
      "100% (447645532 of 447645532) |##########| Elapsed Time: 0:00:47 Time:  0:00:47\n"
     ]
    },
    {
     "name": "stdout",
     "output_type": "stream",
     "text": [
      "...done, 447645532 bytes.\n",
      "m_3511940_se_11_060_20180713.tif\n"
     ]
    },
    {
     "name": "stderr",
     "output_type": "stream",
     "text": [
      "100% (441263153 of 441263153) |##########| Elapsed Time: 0:00:56 Time:  0:00:56\n"
     ]
    },
    {
     "name": "stdout",
     "output_type": "stream",
     "text": [
      "...done, 441263153 bytes.\n",
      "m_4709708_nw_14_060_20180901.tif\n"
     ]
    },
    {
     "name": "stderr",
     "output_type": "stream",
     "text": [
      "100% (358593098 of 358593098) |##########| Elapsed Time: 0:00:39 Time:  0:00:39\n"
     ]
    },
    {
     "name": "stdout",
     "output_type": "stream",
     "text": [
      "...done, 358593098 bytes.\n",
      "m_3208645_ne_16_060_20190918.tif\n"
     ]
    },
    {
     "name": "stderr",
     "output_type": "stream",
     "text": [
      "100% (463408675 of 463408675) |##########| Elapsed Time: 0:00:48 Time:  0:00:48\n"
     ]
    },
    {
     "name": "stdout",
     "output_type": "stream",
     "text": [
      "...done, 463408675 bytes.\n",
      "m_3409036_nw_15_060_20190816.tif\n"
     ]
    },
    {
     "name": "stderr",
     "output_type": "stream",
     "text": [
      "100% (458449789 of 458449789) |##########| Elapsed Time: 0:01:33 Time:  0:01:33\n"
     ]
    },
    {
     "name": "stdout",
     "output_type": "stream",
     "text": [
      "...done, 458449789 bytes.\n",
      "m_3209610_se_14_060_20181126.tif\n"
     ]
    },
    {
     "name": "stderr",
     "output_type": "stream",
     "text": [
      "100% (484184780 of 484184780) |##########| Elapsed Time: 0:00:40 Time:  0:00:40\n"
     ]
    },
    {
     "name": "stdout",
     "output_type": "stream",
     "text": [
      "...done, 484184780 bytes.\n",
      "m_4011107_se_12_060_20180911.tif\n"
     ]
    },
    {
     "name": "stderr",
     "output_type": "stream",
     "text": [
      "100% (407565311 of 407565311) |##########| Elapsed Time: 0:00:33 Time:  0:00:33\n"
     ]
    },
    {
     "name": "stdout",
     "output_type": "stream",
     "text": [
      "...done, 407565311 bytes.\n",
      "m_2909505_se_15_060_20181204.tif\n"
     ]
    },
    {
     "name": "stderr",
     "output_type": "stream",
     "text": [
      "100% (502616557 of 502616557) |##########| Elapsed Time: 0:01:25 Time:  0:01:25\n"
     ]
    },
    {
     "name": "stdout",
     "output_type": "stream",
     "text": [
      "...done, 502616557 bytes.\n",
      "m_3310216_nw_13_060_20180923.tif\n"
     ]
    },
    {
     "name": "stderr",
     "output_type": "stream",
     "text": [
      "100% (422194281 of 422194281) |##########| Elapsed Time: 0:00:41 Time:  0:00:41\n"
     ]
    },
    {
     "name": "stdout",
     "output_type": "stream",
     "text": [
      "...done, 422194281 bytes.\n",
      "m_4009806_nw_14_060_20180710.tif\n"
     ]
    },
    {
     "name": "stderr",
     "output_type": "stream",
     "text": [
      "100% (398651766 of 398651766) |##########| Elapsed Time: 0:00:33 Time:  0:00:33\n"
     ]
    },
    {
     "name": "stdout",
     "output_type": "stream",
     "text": [
      "...done, 398651766 bytes.\n",
      "m_3812115_sw_10_060_20180714.tif\n"
     ]
    },
    {
     "name": "stderr",
     "output_type": "stream",
     "text": [
      "100% (450286060 of 450286060) |##########| Elapsed Time: 0:00:49 Time:  0:00:49\n"
     ]
    },
    {
     "name": "stdout",
     "output_type": "stream",
     "text": [
      "...done, 450286060 bytes.\n",
      "m_3209041_se_15_060_20190901.tif\n"
     ]
    },
    {
     "name": "stderr",
     "output_type": "stream",
     "text": [
      "100% (509717098 of 509717098) |##########| Elapsed Time: 0:00:43 Time:  0:00:43\n"
     ]
    },
    {
     "name": "stdout",
     "output_type": "stream",
     "text": [
      "...done, 509717098 bytes.\n",
      "m_3210059_se_14_060_20181113.tif\n"
     ]
    },
    {
     "name": "stderr",
     "output_type": "stream",
     "text": [
      "100% (495806522 of 495806522) |##########| Elapsed Time: 0:00:47 Time:  0:00:47\n"
     ]
    },
    {
     "name": "stdout",
     "output_type": "stream",
     "text": [
      "...done, 495806522 bytes.\n",
      "m_3909443_sw_15_060_20180923.tif\n"
     ]
    },
    {
     "name": "stderr",
     "output_type": "stream",
     "text": [
      "100% (419360472 of 419360472) |##########| Elapsed Time: 0:00:36 Time:  0:00:36\n"
     ]
    },
    {
     "name": "stdout",
     "output_type": "stream",
     "text": [
      "...done, 419360472 bytes.\n",
      "m_3707941_se_17_060_20181018.tif\n"
     ]
    },
    {
     "name": "stderr",
     "output_type": "stream",
     "text": [
      "100% (567607763 of 567607763) |##########| Elapsed Time: 0:00:46 Time:  0:00:46\n"
     ]
    },
    {
     "name": "stdout",
     "output_type": "stream",
     "text": [
      "...done, 567607763 bytes.\n",
      "m_3208638_sw_16_060_20190918.tif\n"
     ]
    },
    {
     "name": "stderr",
     "output_type": "stream",
     "text": [
      "100% (440734121 of 440734121) |##########| Elapsed Time: 0:00:37 Time:  0:00:37\n"
     ]
    },
    {
     "name": "stdout",
     "output_type": "stream",
     "text": [
      "...done, 440734121 bytes.\n",
      "m_4308359_ne_17_060_20180703.tif\n"
     ]
    },
    {
     "name": "stderr",
     "output_type": "stream",
     "text": [
      "100% (495514561 of 495514561) |##########| Elapsed Time: 0:01:32 Time:  0:01:32\n"
     ]
    },
    {
     "name": "stdout",
     "output_type": "stream",
     "text": [
      "...done, 495514561 bytes.\n",
      "m_3209041_se_15_060_20181127.tif\n"
     ]
    },
    {
     "name": "stderr",
     "output_type": "stream",
     "text": [
      "100% (464807109 of 464807109) |##########| Elapsed Time: 0:00:44 Time:  0:00:44\n"
     ]
    },
    {
     "name": "stdout",
     "output_type": "stream",
     "text": [
      "...done, 464807109 bytes.\n",
      "m_3508057_nw_17_060_20181103.tif\n"
     ]
    },
    {
     "name": "stderr",
     "output_type": "stream",
     "text": [
      "100% (455887123 of 455887123) |##########| Elapsed Time: 0:00:38 Time:  0:00:38\n"
     ]
    },
    {
     "name": "stdout",
     "output_type": "stream",
     "text": [
      "...done, 455887123 bytes.\n",
      "m_4208513_ne_16_060_20180706.tif\n"
     ]
    },
    {
     "name": "stderr",
     "output_type": "stream",
     "text": [
      "100% (485549812 of 485549812) |##########| Elapsed Time: 0:00:41 Time:  0:00:41\n"
     ]
    },
    {
     "name": "stdout",
     "output_type": "stream",
     "text": [
      "...done, 485549812 bytes.\n",
      "m_2809938_se_14_060_20180526.tif\n"
     ]
    },
    {
     "name": "stderr",
     "output_type": "stream",
     "text": [
      "100% (477021509 of 477021509) |##########| Elapsed Time: 0:00:39 Time:  0:00:39\n"
     ]
    },
    {
     "name": "stdout",
     "output_type": "stream",
     "text": [
      "...done, 477021509 bytes.\n",
      "m_4408431_sw_16_060_20180823.tif\n"
     ]
    },
    {
     "name": "stderr",
     "output_type": "stream",
     "text": [
      "100% (547771170 of 547771170) |##########| Elapsed Time: 0:00:49 Time:  0:00:49\n"
     ]
    },
    {
     "name": "stdout",
     "output_type": "stream",
     "text": [
      "...done, 547771170 bytes.\n",
      "m_3808138_nw_17_060_20181023.tif\n"
     ]
    },
    {
     "name": "stderr",
     "output_type": "stream",
     "text": [
      "100% (509050537 of 509050537) |##########| Elapsed Time: 0:00:42 Time:  0:00:42\n"
     ]
    },
    {
     "name": "stdout",
     "output_type": "stream",
     "text": [
      "...done, 509050537 bytes.\n",
      "m_4108729_sw_16_060_20180707.tif\n"
     ]
    },
    {
     "name": "stderr",
     "output_type": "stream",
     "text": [
      "100% (522740474 of 522740474) |##########| Elapsed Time: 0:00:53 Time:  0:00:53\n"
     ]
    },
    {
     "name": "stdout",
     "output_type": "stream",
     "text": [
      "...done, 522740474 bytes.\n",
      "m_4207041_sw_19_060_20181107.tif\n"
     ]
    },
    {
     "name": "stderr",
     "output_type": "stream",
     "text": [
      "100% (325690129 of 325690129) |##########| Elapsed Time: 0:00:28 Time:  0:00:28\n"
     ]
    },
    {
     "name": "stdout",
     "output_type": "stream",
     "text": [
      "...done, 325690129 bytes.\n",
      "m_3209227_ne_15_060_20190901.tif\n"
     ]
    },
    {
     "name": "stderr",
     "output_type": "stream",
     "text": [
      "100% (493202871 of 493202871) |##########| Elapsed Time: 0:00:50 Time:  0:00:50\n"
     ]
    },
    {
     "name": "stdout",
     "output_type": "stream",
     "text": [
      "...done, 493202871 bytes.\n",
      "m_4508421_sw_16_060_20180911.tif\n"
     ]
    },
    {
     "name": "stderr",
     "output_type": "stream",
     "text": [
      "100% (467632455 of 467632455) |##########| Elapsed Time: 0:00:41 Time:  0:00:41\n"
     ]
    },
    {
     "name": "stdout",
     "output_type": "stream",
     "text": [
      "...done, 467632455 bytes.\n",
      "m_3009743_nw_14_060_20181101.tif\n"
     ]
    },
    {
     "name": "stderr",
     "output_type": "stream",
     "text": [
      "100% (505024122 of 505024122) |##########| Elapsed Time: 0:00:41 Time:  0:00:41\n"
     ]
    },
    {
     "name": "stdout",
     "output_type": "stream",
     "text": [
      "...done, 505024122 bytes.\n",
      "m_3209656_sw_14_060_20181115.tif\n"
     ]
    },
    {
     "name": "stderr",
     "output_type": "stream",
     "text": [
      "100% (441947365 of 441947365) |##########| Elapsed Time: 0:00:43 Time:  0:00:43\n"
     ]
    },
    {
     "name": "stdout",
     "output_type": "stream",
     "text": [
      "...done, 441947365 bytes.\n",
      "m_3108916_ne_16_060_20181028.tif\n"
     ]
    },
    {
     "name": "stderr",
     "output_type": "stream",
     "text": [
      "100% (480813504 of 480813504) |##########| Elapsed Time: 0:01:02 Time:  0:01:02\n"
     ]
    },
    {
     "name": "stdout",
     "output_type": "stream",
     "text": [
      "...done, 480813504 bytes.\n",
      "m_3408807_nw_16_060_20181012.tif\n"
     ]
    },
    {
     "name": "stderr",
     "output_type": "stream",
     "text": [
      "100% (532460691 of 532460691) |##########| Elapsed Time: 0:00:55 Time:  0:00:55\n"
     ]
    },
    {
     "name": "stdout",
     "output_type": "stream",
     "text": [
      "...done, 532460691 bytes.\n",
      "m_3110107_nw_14_060_20181127.tif\n"
     ]
    },
    {
     "name": "stderr",
     "output_type": "stream",
     "text": [
      "100% (454837554 of 454837554) |##########| Elapsed Time: 0:00:39 Time:  0:00:39\n"
     ]
    },
    {
     "name": "stdout",
     "output_type": "stream",
     "text": [
      "...done, 454837554 bytes.\n",
      "m_3211512_nw_11_060_20190305.tif\n"
     ]
    },
    {
     "name": "stderr",
     "output_type": "stream",
     "text": [
      "100% (377028065 of 377028065) |##########| Elapsed Time: 0:00:38 Time:  0:00:38\n"
     ]
    },
    {
     "name": "stdout",
     "output_type": "stream",
     "text": [
      "...done, 377028065 bytes.\n",
      "m_2609752_nw_14_060_20181214.tif\n"
     ]
    },
    {
     "name": "stderr",
     "output_type": "stream",
     "text": [
      "100% (440382862 of 440382862) |##########| Elapsed Time: 0:00:37 Time:  0:00:37\n"
     ]
    },
    {
     "name": "stdout",
     "output_type": "stream",
     "text": [
      "...done, 440382862 bytes.\n",
      "m_3209835_ne_14_060_20181126.tif\n"
     ]
    },
    {
     "name": "stderr",
     "output_type": "stream",
     "text": [
      "100% (457488436 of 457488436) |##########| Elapsed Time: 0:00:37 Time:  0:00:37\n"
     ]
    },
    {
     "name": "stdout",
     "output_type": "stream",
     "text": [
      "...done, 457488436 bytes.\n",
      "m_3712141_ne_10_060_20180725.tif\n"
     ]
    },
    {
     "name": "stderr",
     "output_type": "stream",
     "text": [
      "100% (459669360 of 459669360) |##########| Elapsed Time: 0:00:56 Time:  0:00:56\n"
     ]
    },
    {
     "name": "stdout",
     "output_type": "stream",
     "text": [
      "...done, 459669360 bytes.\n",
      "m_2909837_se_14_060_20181102.tif\n"
     ]
    },
    {
     "name": "stderr",
     "output_type": "stream",
     "text": [
      "100% (467016308 of 467016308) |##########| Elapsed Time: 0:00:38 Time:  0:00:38\n"
     ]
    },
    {
     "name": "stdout",
     "output_type": "stream",
     "text": [
      "...done, 467016308 bytes.\n",
      "m_3209934_sw_14_060_20181028.tif\n"
     ]
    },
    {
     "name": "stderr",
     "output_type": "stream",
     "text": [
      "100% (440776834 of 440776834) |##########| Elapsed Time: 0:00:58 Time:  0:00:58\n"
     ]
    },
    {
     "name": "stdout",
     "output_type": "stream",
     "text": [
      "...done, 440776834 bytes.\n",
      "m_4207026_sw_19_060_20180806.tif\n"
     ]
    },
    {
     "name": "stderr",
     "output_type": "stream",
     "text": [
      "100% (361358732 of 361358732) |##########| Elapsed Time: 0:00:31 Time:  0:00:31\n"
     ]
    },
    {
     "name": "stdout",
     "output_type": "stream",
     "text": [
      "...done, 361358732 bytes.\n",
      "m_3608231_nw_17_060_20181111.tif\n"
     ]
    },
    {
     "name": "stderr",
     "output_type": "stream",
     "text": [
      "100% (579280421 of 579280421) |##########| Elapsed Time: 0:00:47 Time:  0:00:47\n"
     ]
    },
    {
     "name": "stdout",
     "output_type": "stream",
     "text": [
      "...done, 579280421 bytes.\n",
      "m_4308757_se_16_060_20180914.tif\n"
     ]
    },
    {
     "name": "stderr",
     "output_type": "stream",
     "text": [
      "100% (388591888 of 388591888) |##########| Elapsed Time: 0:00:33 Time:  0:00:33\n"
     ]
    },
    {
     "name": "stdout",
     "output_type": "stream",
     "text": [
      "...done, 388591888 bytes.\n",
      "m_4609602_sw_14_060_20181018.tif\n"
     ]
    },
    {
     "name": "stderr",
     "output_type": "stream",
     "text": [
      "100% (361852820 of 361852820) |##########| Elapsed Time: 0:00:32 Time:  0:00:32\n"
     ]
    },
    {
     "name": "stdout",
     "output_type": "stream",
     "text": [
      "...done, 361852820 bytes.\n",
      "m_3208816_sw_16_060_20191109.tif\n"
     ]
    },
    {
     "name": "stderr",
     "output_type": "stream",
     "text": [
      "100% (498579037 of 498579037) |##########| Elapsed Time: 0:00:40 Time:  0:00:40\n"
     ]
    },
    {
     "name": "stdout",
     "output_type": "stream",
     "text": [
      "...done, 498579037 bytes.\n",
      "m_3309619_se_14_060_20181028.tif\n"
     ]
    },
    {
     "name": "stderr",
     "output_type": "stream",
     "text": [
      "100% (449514951 of 449514951) |##########| Elapsed Time: 0:00:46 Time:  0:00:46\n"
     ]
    },
    {
     "name": "stdout",
     "output_type": "stream",
     "text": [
      "...done, 449514951 bytes.\n",
      "m_3209041_ne_15_060_20190901.tif\n"
     ]
    },
    {
     "name": "stderr",
     "output_type": "stream",
     "text": [
      "100% (477875785 of 477875785) |##########| Elapsed Time: 0:00:50 Time:  0:00:50\n"
     ]
    },
    {
     "name": "stdout",
     "output_type": "stream",
     "text": [
      "...done, 477875785 bytes.\n",
      "m_3108809_ne_16_060_20181028.tif\n"
     ]
    },
    {
     "name": "stderr",
     "output_type": "stream",
     "text": [
      "100% (488282554 of 488282554) |##########| Elapsed Time: 0:00:44 Time:  0:00:44\n"
     ]
    },
    {
     "name": "stdout",
     "output_type": "stream",
     "text": [
      "...done, 488282554 bytes.\n",
      "m_3508957_nw_16_060_20180803.tif\n"
     ]
    },
    {
     "name": "stderr",
     "output_type": "stream",
     "text": [
      "100% (559551126 of 559551126) |##########| Elapsed Time: 0:00:48 Time:  0:00:48\n"
     ]
    },
    {
     "name": "stdout",
     "output_type": "stream",
     "text": [
      "...done, 559551126 bytes.\n",
      "m_3909461_ne_15_060_20180922.tif\n"
     ]
    },
    {
     "name": "stderr",
     "output_type": "stream",
     "text": [
      "100% (449644860 of 449644860) |##########| Elapsed Time: 0:00:53 Time:  0:00:53\n"
     ]
    },
    {
     "name": "stdout",
     "output_type": "stream",
     "text": [
      "...done, 449644860 bytes.\n",
      "m_3909460_nw_15_060_20180922.tif\n"
     ]
    },
    {
     "name": "stderr",
     "output_type": "stream",
     "text": [
      "100% (426087062 of 426087062) |##########| Elapsed Time: 0:00:40 Time:  0:00:40\n"
     ]
    },
    {
     "name": "stdout",
     "output_type": "stream",
     "text": [
      "...done, 426087062 bytes.\n",
      "m_3209219_ne_15_060_20190901.tif\n"
     ]
    },
    {
     "name": "stderr",
     "output_type": "stream",
     "text": [
      "100% (497866769 of 497866769) |##########| Elapsed Time: 0:00:42 Time:  0:00:42\n"
     ]
    },
    {
     "name": "stdout",
     "output_type": "stream",
     "text": [
      "...done, 497866769 bytes.\n",
      "m_3711314_se_12_060_20180809.tif\n"
     ]
    },
    {
     "name": "stderr",
     "output_type": "stream",
     "text": [
      "100% (381201842 of 381201842) |##########| Elapsed Time: 0:00:31 Time:  0:00:31\n"
     ]
    },
    {
     "name": "stdout",
     "output_type": "stream",
     "text": [
      "...done, 381201842 bytes.\n",
      "m_4408523_nw_16_060_20180912.tif\n"
     ]
    },
    {
     "name": "stderr",
     "output_type": "stream",
     "text": [
      "100% (513328615 of 513328615) |##########| Elapsed Time: 0:01:07 Time:  0:01:07\n"
     ]
    },
    {
     "name": "stdout",
     "output_type": "stream",
     "text": [
      "...done, 513328615 bytes.\n",
      "m_3908004_ne_17_060_20180701.tif\n"
     ]
    },
    {
     "name": "stderr",
     "output_type": "stream",
     "text": [
      "100% (448611597 of 448611597) |##########| Elapsed Time: 0:01:09 Time:  0:01:09\n"
     ]
    },
    {
     "name": "stdout",
     "output_type": "stream",
     "text": [
      "...done, 448611597 bytes.\n"
     ]
    }
   ],
   "source": [
    "## Get a list of the tiles in the subfolder\n",
    "unverified_set4_subfolders_path = os.path.join(parent_directory,\"unverified_images\\student_reviewed_unverified_images_set4\")\n",
    "unverified_set4_subfolders_paths = ap.img_path_anno_path(ap.list_of_sub_directories(unverified_set4_subfolders_path))\n",
    "\n",
    "\n",
    "tiles = []\n",
    "for directory in tqdm.tqdm(unverified_set4_subfolders_paths):\n",
    "    #get all the image and xml paths in directory of annotated images\n",
    "    #print(directory)\n",
    "    fc.remove_thumbs(directory[0])\n",
    "    image_paths = glob(directory[0] + \"/*.jpg\", recursive = True)\n",
    "    xml_paths = glob(directory[1] + \"/*.xml\", recursive = True)\n",
    "    #print(len(image_paths),len(xml_paths))\n",
    "\n",
    "    #identify tiles in each folder\n",
    "    for image in image_paths:\n",
    "        image_name = os.path.splitext(os.path.basename(image))[0]\n",
    "        tile_name = image_name.split(\"_\",4)[-1].rsplit(\"_\",1)[0]\n",
    "        tiles.append(tile_name)\n",
    "tiles = np.unique(tiles)\n",
    "\n",
    "## Get a list of the tiles downloaded (without the extension)\n",
    "tiles_downloaded =  os.listdir(tiles_complete_dataset_path)\n",
    "tiles_downloaded_wo_ext = []\n",
    "for tile_downloaded in tiles_downloaded:\n",
    "    tiles_downloaded_wo_ext.append(os.path.splitext(tile_downloaded)[0])\n",
    "print(\"number of tiles downloaded\", len(tiles_downloaded_wo_ext))\n",
    "\n",
    "## Get a list of the the tiles that need to be downloaded\n",
    "tiles_to_download = list(set(tiles.tolist()) - set(tiles_downloaded_wo_ext)) \n",
    "\n",
    "## Download Tiles\n",
    "tile_names = []\n",
    "tile_urls = []\n",
    "file_names = []\n",
    "print(\"number of tiles that need to be downloaded\", len(tiles_to_download))\n",
    "for tile in tiles_to_download:   \n",
    "    ### download the tiles if they are not in the tiles folder \n",
    "    #check if the tile name is contained in the string of complete arrays\n",
    "    tile_name = [string for string in tile_names_tile_urls_complete_array[:,0] if tile in string]          \n",
    "    if len(tile_name) == 1: #A single tile name # get tile url from the first (only) entry\n",
    "        tile_url = tile_names_tile_urls_complete_array[tile_names_tile_urls_complete_array[:,0]==tile_name[0]][0][1] \n",
    "        tile_names.append(tile_name[0])\n",
    "        tile_urls.append(tile_url)\n",
    "    elif len(np.unique(tile_name)) > 1: # Multiple (different tiles) possibly the same tiles in different states, possible different years\n",
    "        tile_url = tile_names_tile_urls_complete_array[tile_names_tile_urls_complete_array[:,0]==tile_name[0]][0][1]# get tile url\n",
    "        tile_names.append(tile_name[0])\n",
    "        tile_urls.append(tile_url)\n",
    "    elif (len(tile_name) > 1): #Multiple different tile names that are the same, probably different naip storage locations\n",
    "        # get tile url from the second entry \n",
    "        tile_url = tile_names_tile_urls_complete_array[tile_names_tile_urls_complete_array[:,0]==tile_name[1]][1][1] \n",
    "        tile_names.append(tile_name[1])\n",
    "        tile_urls.append(tile_url)\n",
    "\n",
    "    #get file name\n",
    "    file_name = tile_name[0]\n",
    "    if tile_name[0].count(\"_\") > 5:\n",
    "        tile_name = tile_name[0].rsplit(\"_\",1)[0]\n",
    "        file_name = tile_name + \".tif\"\n",
    "    print(file_name)\n",
    "    ### Download tile\n",
    "    file_names.append(ap.download_url(tile_url, tiles_complete_dataset_path,\n",
    "                                                 destination_filename = file_name,       \n",
    "                                                         progress_updater=ap.DownloadProgressBar()))"
   ]
  },
  {
   "cell_type": "markdown",
   "id": "252ce389-814a-4faa-a3e7-92e52fb8e4cb",
   "metadata": {
    "tags": []
   },
   "source": [
    "# Images with state/year naming format\n",
    "- Confirm that the name correctly matches the content (the name and tile/position match_\n",
    "- Identify remaining images\n",
    "- Rename labeled images/xmls "
   ]
  },
  {
   "cell_type": "markdown",
   "id": "a76ad024-b227-439b-a5cc-5ea66df444ee",
   "metadata": {
    "tags": []
   },
   "source": [
    "## Unverified sets"
   ]
  },
  {
   "cell_type": "markdown",
   "id": "ac424892-7abc-4975-80cc-0a3cb0615a26",
   "metadata": {
    "tags": []
   },
   "source": [
    "### Set 1"
   ]
  },
  {
   "cell_type": "markdown",
   "id": "a706d6dc-37f3-4fec-9699-f09702bf3b66",
   "metadata": {},
   "source": [
    "# TESTING"
   ]
  },
  {
   "cell_type": "code",
   "execution_count": 3,
   "id": "e83dba53-1239-41e9-bd81-1d1d45bca76b",
   "metadata": {},
   "outputs": [],
   "source": [
    "def get_unique_tile_names(paths):\n",
    "    tile_names = []\n",
    "    file_names = []\n",
    "    for image in paths:\n",
    "        image_name = os.path.splitext(os.path.basename(image))[0]\n",
    "        if image_name.count(\"_\") > 9:\n",
    "            tile_name = image_name.split(\"_\",4)[-1].rsplit(\"_\",1)[0] #state-year included in image name\n",
    "        else:\n",
    "            tile_name = image_name.rsplit(\"_\",2)[0] #tile name formated image name\n",
    "        file_names.append(image_name)\n",
    "        tile_names.append(tile_name)\n",
    "    tile_names = sorted(np.unique(tile_names))\n",
    "    file_names = sorted(np.unique(file_names))\n",
    "\n",
    "    return(file_names, tile_names)\n",
    "\n",
    "def make_by_tile_dirs(home_dir, tile_name):\n",
    "    #create folder to store corrected chips/xmls\n",
    "    tile_dir = os.path.join(home_dir, tile_name) #sub folder for each tile \n",
    "    chips_positive_path = os.path.join(tile_dir,\"chips_positive\") #images path\n",
    "    chips_positive_xml_path = os.path.join(tile_dir,\"chips_positive_xml\") #xmls paths\n",
    "    os.makedirs(tile_dir, exist_ok=True)\n",
    "    os.makedirs(chips_positive_path, exist_ok=True)\n",
    "    os.makedirs(chips_positive_xml_path, exist_ok=True)\n",
    "    return(tile_dir)\n",
    "\n",
    "def read_tile(tile_path, item_dim = int(512)):\n",
    "    tile = cv2.imread(tile_path, cv2.IMREAD_UNCHANGED) \n",
    "    tile_height,  tile_width,  tile_channels = tile.shape #the size of the tile \n",
    "    row_index = math.ceil(tile_height/item_dim) #y\n",
    "    col_index = math.ceil(tile_width/item_dim) #x\n",
    "    return(tile, row_index, col_index)\n",
    "\n",
    "def compare_images(t_2_chip, labeled_img):  \n",
    "    gray_t_2_chip = cv2.cvtColor(t_2_chip.astype(np.uint8), cv2.COLOR_BGR2GRAY) # make gray\n",
    "    gray_labeled_image = cv2.cvtColor(labeled_img.astype(np.uint8), cv2.COLOR_BGR2GRAY) #image that has been chipped from tile\n",
    "    (score, diff) = compare_ssim(gray_t_2_chip, gray_labeled_image, full=True)\n",
    "    if score >= 0.95: #If the labeled image is correct\n",
    "        #chip_name_incorrectly_chip_names[index]\n",
    "        return(True)\n",
    "    else: #if it is incorrect\n",
    "        ## move incorrectly named image if it one of the same name has not already been moved\n",
    "        return(False)\n",
    "\n",
    "def copy_images_xml(img_name, img_path, xml_path, copy_dir):                  \n",
    "    ####    \n",
    "    new_img_path = os.path.join(copy_dir, \"chips_positive\", img_name + \".jpg\")\n",
    "    if not os.path.exists(new_img_path):\n",
    "        shutil.copy(img_path, new_img_path)\n",
    "        \n",
    "    new_xml_path = os.path.join(copy_dir, \"chips_positive_xml\", img_name + \".xml\")\n",
    "    if not os.path.exists(new_xml_path):\n",
    "        shutil.copy(xml_path, new_xml_path) #destination\n",
    "        \n",
    "def copy_and_replace_images_xml(img_name, img_path, xml_path, copy_dir):                  \n",
    "    ####    \n",
    "    new_img_path = os.path.join(copy_dir, \"chips_positive\", img_name + \".jpg\")\n",
    "    shutil.copy(img_path, new_img_path)\n",
    "        \n",
    "    new_xml_path = os.path.join(copy_dir, \"chips_positive_xml\", img_name + \".xml\")\n",
    "    shutil.copy(xml_path, new_xml_path) #destination\n",
    "        \n",
    "def copy_remaining_images(y, col_index, img, img_name, remaining_img_dir):    \n",
    "    remaining_img_path = os.path.join(remaining_img_dir, img_name)\n",
    "    if (y >= col_index): #y: we started at 0 here and 1 before? (save the remaining rows) #x:do not include extraneous black images\n",
    "        if not os.path.exists(remaining_img_path):\n",
    "            cv2.imwrite(remaining_img_path, img)   \n",
    "            \n",
    "def compile_unverified_dataset(img_paths_anno_paths, tile_dir_path, compiled_by_tile_dir, images_do_not_match_names_dir, correctly_chipped_incorrect_data_dir):\n",
    "    for directory in tqdm.tqdm(img_paths_anno_paths):\n",
    "        #get all the image and xml paths in directory of annotated images\n",
    "        fc.remove_thumbs(directory[0])\n",
    "        image_paths = sorted(glob(directory[0] + \"/*.jpg\", recursive = True))\n",
    "        xml_paths = sorted(glob(directory[1] + \"/*.xml\", recursive = True))\n",
    "\n",
    "        #identify tiles in each folder\n",
    "        file_names, tile_names = get_unique_tile_names(image_paths)\n",
    "        for tile_name in tile_names:\n",
    "            compile_tile_dir = make_by_tile_dirs(compiled_by_tile_dir, tile_name)\n",
    "\n",
    "            img_in_tile_paths = [string for string in image_paths if tile_name in string] \n",
    "            xml_in_tile_paths = [string for string in xml_paths if tile_name in string]\n",
    "            img_in_tile_names = [string for string in file_names if tile_name in string]          \n",
    "            assert len(img_in_tile_paths) == len(xml_in_tile_paths) == len(img_in_tile_names), \"The same number of images and xmls\"\n",
    "\n",
    "            tile, row_index, col_index = read_tile(os.path.join(tile_dir_path, tile_name + \".tif\")) #read in tile\n",
    "\n",
    "            count = 1\n",
    "            for y in range(0, row_index): #rows\n",
    "                for x in range(0, col_index): #cols\n",
    "                    t_2_chip = fc.tile_to_chip_array(tile, x, y, int(512)) #get correct chip from tile\n",
    "\n",
    "                    #compare image names to standard quad names \n",
    "                    standard_quad_img_name_wo_ext = tile_name + '_' + f\"{y:02}\"  + '_' + f\"{x:02}\" # row_col\n",
    "                    standard_quad_index, = np.where(np.array(img_in_tile_names) == standard_quad_img_name_wo_ext) \n",
    "                    if len(standard_quad_index) > 0: \n",
    "                        index = [standard_quad_index][0][0] # only pull the first, they can only be the same values \n",
    "                        img_path = img_in_tile_paths[index]\n",
    "                        xml_path = xml_in_tile_paths[index]\n",
    "                        img_name = img_in_tile_names[index]\n",
    "                        if compare_images(t_2_chip, cv2.imread(img_path)):\n",
    "                            copy_images_xml(standard_quad_img_name_wo_ext, img_path, xml_path, compile_tile_dir)\n",
    "                        else: \n",
    "                            copy_images_xml(standard_quad_img_name_wo_ext, img_path, xml_path, correctly_chipped_incorrect_data_dir)\n",
    "\n",
    "                    #compare image names to state year names\n",
    "                    tile_six_digit_img_name_wo_ext = tile_name + '_'+ str(count).zfill(6) #specify the chip names\n",
    "                    state_year_img_name_wo_ext = [string for string in img_in_tile_names if tile_six_digit_img_name_wo_ext in string]  \n",
    "                    if len(state_year_img_name_wo_ext) > 0: \n",
    "                        state_year_index, = np.where(np.array(img_in_tile_names) == state_year_img_name_wo_ext[0]) \n",
    "                        index = [state_year_index][0][0]\n",
    "                        img_path = img_in_tile_paths[index]\n",
    "                        xml_path = xml_in_tile_paths[index]\n",
    "                        img_name = img_in_tile_names[index]\n",
    "                        if compare_images(t_2_chip, cv2.imread(img_path)):\n",
    "                            copy_images_xml(standard_quad_img_name_wo_ext, img_path, xml_path, compile_tile_dir) #use standard name and copy to compiled directory\n",
    "                        else:\n",
    "                            copy_images_xml(img_name, img_path, xml_path, images_do_not_match_names_dir) #move to incorrect directory\n",
    "\n",
    "                    #counter for image pathway\n",
    "                    count += 1\n",
    "\n",
    "\n",
    "def compile_verified_standard_dataset(img_paths_anno_paths, tile_dir_path, compiled_by_tile_dir, images_do_not_match_names_dir, correctly_chipped_incorrect_data_dir):\n",
    "    for directory in tqdm.tqdm(img_paths_anno_paths):\n",
    "        #get all the image and xml paths in directory of annotated images\n",
    "        fc.remove_thumbs(directory[0])\n",
    "        image_paths = sorted(glob(directory[0] + \"/*.jpg\", recursive = True))\n",
    "        xml_paths = sorted(glob(directory[1] + \"/*.xml\", recursive = True))\n",
    "\n",
    "        #identify tiles in each folder\n",
    "        file_names, tile_names = get_unique_tile_names(image_paths)\n",
    "        for tile_name in tile_names:\n",
    "            compile_tile_dir = make_by_tile_dirs(compiled_by_tile_dir, tile_name)\n",
    "\n",
    "            img_in_tile_paths = [string for string in image_paths if tile_name in string] \n",
    "            xml_in_tile_paths = [string for string in xml_paths if tile_name in string]\n",
    "            img_in_tile_names = [string for string in file_names if tile_name in string]          \n",
    "            assert len(img_in_tile_paths) == len(xml_in_tile_paths) == len(img_in_tile_names), \"The same number of images and xmls\"\n",
    "\n",
    "            tile, row_index, col_index = read_tile(os.path.join(tile_dir_path, tile_name + \".tif\")) #read in tile\n",
    "\n",
    "            for y in range(0, row_index): #rows\n",
    "                for x in range(0, col_index): #cols\n",
    "                    t_2_chip = fc.tile_to_chip_array(tile, x, y, int(512)) #get correct chip from tile\n",
    "\n",
    "                    #compare image names to standard quad names \n",
    "                    standard_quad_img_name_wo_ext = tile_name + '_' + f\"{y:02}\"  + '_' + f\"{x:02}\" # row_col\n",
    "                    standard_quad_index, = np.where(np.array(img_in_tile_names) == standard_quad_img_name_wo_ext) \n",
    "                    if len(standard_quad_index) > 0: \n",
    "                        index = [standard_quad_index][0][0] # only pull the first, they can only be the same values \n",
    "                        img_path = img_in_tile_paths[index]\n",
    "                        xml_path = xml_in_tile_paths[index]\n",
    "                        img_name = img_in_tile_names[index]\n",
    "                        if compare_images(t_2_chip, cv2.imread(img_path)):\n",
    "                            copy_and_replace_images_xml(standard_quad_img_name_wo_ext, img_path, xml_path, compile_tile_dir)\n",
    "                        else: \n",
    "                            copy_and_replace_images_xml(standard_quad_img_name_wo_ext, img_path, xml_path, correctly_chipped_incorrect_data_dir)\n",
    "def compile_verified_state_year_dataset(img_paths_anno_paths, tile_dir_path, compiled_by_tile_dir, images_do_not_match_names_dir, correctly_chipped_incorrect_data_dir):\n",
    "    for directory in tqdm.tqdm(img_paths_anno_paths):\n",
    "        #get all the image and xml paths in directory of annotated images\n",
    "        fc.remove_thumbs(directory[0])\n",
    "        image_paths = sorted(glob(directory[0] + \"/*.jpg\", recursive = True))\n",
    "        xml_paths = sorted(glob(directory[1] + \"/*.xml\", recursive = True))\n",
    "\n",
    "        #identify tiles in each folder\n",
    "        file_names, tile_names = get_unique_tile_names(image_paths)\n",
    "        for tile_name in tile_names:\n",
    "            compile_tile_dir = make_by_tile_dirs(compiled_by_tile_dir, tile_name)\n",
    "\n",
    "            img_in_tile_paths = [string for string in image_paths if tile_name in string] \n",
    "            xml_in_tile_paths = [string for string in xml_paths if tile_name in string]\n",
    "            img_in_tile_names = [string for string in file_names if tile_name in string]          \n",
    "            assert len(img_in_tile_paths) == len(xml_in_tile_paths) == len(img_in_tile_names), \"The same number of images and xmls\"\n",
    "\n",
    "            tile, row_index, col_index = read_tile(os.path.join(tile_dir_path, tile_name + \".tif\")) #read in tile\n",
    "\n",
    "            count = 1\n",
    "            for y in range(0, row_index): #rows\n",
    "                for x in range(0, col_index): #cols\n",
    "                    t_2_chip = fc.tile_to_chip_array(tile, x, y, int(512)) #get correct chip from tile\n",
    "                    #compare image names to state year names\n",
    "                    standard_quad_img_name_wo_ext = tile_name + '_' + f\"{y:02}\"  + '_' + f\"{x:02}\" # row_col\n",
    "                    tile_six_digit_img_name_wo_ext = tile_name + '_'+ str(count).zfill(6) #specify the chip names\n",
    "                    state_year_img_name_wo_ext = [string for string in img_in_tile_names if tile_six_digit_img_name_wo_ext in string]  \n",
    "                    if len(state_year_img_name_wo_ext) > 0: \n",
    "                        state_year_index, = np.where(np.array(img_in_tile_names) == state_year_img_name_wo_ext[0]) \n",
    "                        index = [state_year_index][0][0]\n",
    "                        img_path = img_in_tile_paths[index]\n",
    "                        xml_path = xml_in_tile_paths[index]\n",
    "                        img_name = img_in_tile_names[index]\n",
    "                        if compare_images(t_2_chip, cv2.imread(img_path)):\n",
    "                            copy_and_replace_images_xml(standard_quad_img_name_wo_ext, img_path, xml_path, compile_tile_dir) #use standard name and copy to compiled directory\n",
    "                        else:\n",
    "                            copy_and_replace_images_xml(img_name, img_path, xml_path, images_do_not_match_names_dir) #move to incorrect directory\n",
    "                    #counter for image pathway\n",
    "                    count += 1\n",
    "def compile_verified_state_year_dataset(img_paths_anno_paths, tile_dir_path, compiled_by_tile_dir, images_do_not_match_names_dir, correctly_chipped_incorrect_data_dir):\n",
    "    img_count = 0\n",
    "    image_paths = []\n",
    "    xml_paths = []\n",
    "    for directory in all_verified_state_year_subfolders_path:\n",
    "        #get all the image and xml paths in directory of annotated images\n",
    "        fc.remove_thumbs(directory[0])\n",
    "        image_paths += sorted(glob(directory[0] + \"/*.jpg\", recursive = True))\n",
    "        xml_paths += sorted(glob(directory[1] + \"/*.xml\", recursive = True))\n",
    "    #identify tiles in each folder\n",
    "    file_names, tile_names = get_unique_tile_names(image_paths)\n",
    "        \n",
    "    for tile_name in tqdm.tqdm(tile_names):\n",
    "        compile_tile_dir = make_by_tile_dirs(compiled_by_tile_dir, tile_name)\n",
    "\n",
    "        img_in_tile_paths = [string for string in image_paths if tile_name in string] \n",
    "        xml_in_tile_paths = [string for string in xml_paths if tile_name in string]\n",
    "        img_in_tile_names = [string for string in file_names if tile_name in string]          \n",
    "        assert len(img_in_tile_paths) == len(xml_in_tile_paths) == len(img_in_tile_names), \"The same number of images and xmls\"\n",
    "\n",
    "        tile, row_index, col_index = read_tile(os.path.join(tile_dir_path, tile_name + \".tif\")) #read in tile\n",
    "\n",
    "        count = 1\n",
    "        for y in range(0, row_index): #rows\n",
    "            for x in range(0, col_index): #cols\n",
    "                t_2_chip = fc.tile_to_chip_array(tile, x, y, int(512)) #get correct chip from tile\n",
    "                #compare image names to state year names\n",
    "                standard_quad_img_name_wo_ext = tile_name + '_' + f\"{y:02}\"  + '_' + f\"{x:02}\" # row_col\n",
    "                tile_six_digit_img_name_wo_ext = tile_name + '_'+ str(count).zfill(6) #specify the chip names\n",
    "                state_year_img_name_wo_ext = [string for string in img_in_tile_names if tile_six_digit_img_name_wo_ext in string]\n",
    "                state_year_index, = np.where(np.array(img_in_tile_names) == state_year_img_name_wo_ext) \n",
    "\n",
    "                if len(state_year_index) >= 1: \n",
    "                    #print(state_year_index[0])\n",
    "                    index = state_year_index[0]\n",
    "                    img_path = img_in_tile_paths[index]\n",
    "                    xml_path = xml_in_tile_paths[index]\n",
    "                    img_name = img_in_tile_names[index]\n",
    "                    if compare_images(t_2_chip, cv2.imread(img_path)):\n",
    "                        img_count += 1\n",
    "                        copy_and_replace_images_xml(standard_quad_img_name_wo_ext, img_path, xml_path, compile_tile_dir) #use standard name and copy to compiled directory\n",
    "                    else:\n",
    "                        copy_and_replace_images_xml(img_name, img_path, xml_path, images_do_not_match_names_dir) #move to incorrect directory\n",
    "                #counter for image pathway\n",
    "                count += 1\n",
    "    print(img_count)\n"
   ]
  },
  {
   "cell_type": "code",
   "execution_count": 4,
   "id": "026fb1a3-5411-48b3-8549-00f41729bf50",
   "metadata": {},
   "outputs": [],
   "source": [
    "verified_state_year_subfolders_path = os.path.join(parent_directory,\"verified/verified_state_year_image_name_formating\")\n",
    "all_verified_state_year_subfolders_path = ap.img_path_anno_path(ap.list_of_sub_directories(verified_state_year_subfolders_path)) "
   ]
  },
  {
   "cell_type": "code",
   "execution_count": 49,
   "id": "534be16b-a26a-41c5-b9f1-35bb9aaed4bf",
   "metadata": {},
   "outputs": [],
   "source": [
    "def get_tile_names(paths):\n",
    "    tile_names = []\n",
    "    img_names = []\n",
    "    for path in paths:\n",
    "        img_name = os.path.splitext(os.path.basename(path))[0]\n",
    "        if img_name.count(\"_\") > 9:\n",
    "            tile_name = img_name.split(\"_\",4)[-1].rsplit(\"_\",1)[0] #state-year included in image name\n",
    "        else:\n",
    "            tile_name = img_name.rsplit(\"_\",2)[0] #tile name formated image name\n",
    "        img_names.append(img_name)\n",
    "        tile_names.append(tile_name)\n",
    "    tile_names = sorted(tile_names)\n",
    "    img_names = sorted(img_names)\n",
    "    return(tile_names, img_names)\n",
    "\n",
    "#compare image names to state year names\n",
    "def copy_and_replace_images_xml(img_name, img_path, xml_path, copy_dir):                  \n",
    "    ####    \n",
    "    new_img_path = os.path.join(copy_dir, \"chips_positive\", img_name + \".jpg\")\n",
    "    shutil.copy(img_path, new_img_path)\n",
    "        \n",
    "    new_xml_path = os.path.join(copy_dir, \"chips_positive_xml\", img_name + \".xml\")\n",
    "    shutil.copy(xml_path, new_xml_path) #destination\n",
    "def compare_move_images_state_years(x, y, tile_name, img_in_tile_names, count, count_dif, img_count):\n",
    "    standard_quad_img_name_wo_ext = tile_name + '_' + f\"{y:02}\"  + '_' + f\"{x:02}\" # row_col\n",
    "    img_name_wo_ext = tile_name + '_'+ str(count + count_dif).zfill(6) #specify the chip names\n",
    "    state_year_img_name_wo_ext = [string for string in img_in_tile_names if img_name_wo_ext in string]\n",
    "\n",
    "    assert len(set(state_year_img_name_wo_ext)) <= 1, \"to many names\"\n",
    "    state_year_img_name_wo_ext = list(set(state_year_img_name_wo_ext))\n",
    "    state_year_index, = np.where(np.array(img_in_tile_names) == state_year_img_name_wo_ext) \n",
    "    \n",
    "    if len(state_year_index) >= 1: \n",
    "        for index in state_year_index:\n",
    "\n",
    "            img_path = img_in_tile_paths[index]\n",
    "            xml_path = xml_in_tile_paths[index]\n",
    "            img_name = img_in_tile_names[index]\n",
    "            \n",
    "            if compare_images(t_2_chip, cv2.imread(img_path)):\n",
    "                print(img_name_wo_ext, state_year_img_name_wo_ext)\n",
    "                print(x,y, count_dif, img_path)\n",
    "                img_count += 1\n",
    "                copy_and_replace_images_xml(standard_quad_img_name_wo_ext, img_path, xml_path, compile_tile_dir) #use standard name and copy to compiled directory\n",
    "            else:\n",
    "                copy_and_replace_images_xml(img_name, img_path, xml_path, images_do_not_match_names_dir) #move to incorrect directory\n",
    "    return(img_count)\n",
    "        #counter for image pathway"
   ]
  },
  {
   "cell_type": "code",
   "execution_count": 50,
   "id": "bad2faa2-efbc-4713-a09d-1fdffaf8e0a0",
   "metadata": {
    "tags": []
   },
   "outputs": [
    {
     "name": "stderr",
     "output_type": "stream",
     "text": [
      "  0%|          | 0/1 [00:00<?, ?it/s]"
     ]
    },
    {
     "name": "stdout",
     "output_type": "stream",
     "text": [
      "24 23\n",
      "['//oit-nas-fe13dc.oit.duke.edu//data_commons-borsuk//verified/verified_state_year_image_name_formating/verify_1_josh_jaewon_amadu/chips_positive\\\\fl_60cm_2019_24081_m_2408126_ne_17_060_20191128_000044.jpg', '//oit-nas-fe13dc.oit.duke.edu//data_commons-borsuk//verified/verified_state_year_image_name_formating/verify_1_josh_jaewon_amadu/chips_positive\\\\fl_60cm_2019_24081_m_2408126_ne_17_060_20191128_000319.jpg', '//oit-nas-fe13dc.oit.duke.edu//data_commons-borsuk//verified/verified_state_year_image_name_formating/verify_1_josh_jaewon_amadu/chips_positive\\\\fl_60cm_2019_24081_m_2408126_ne_17_060_20191128_000439.jpg', '//oit-nas-fe13dc.oit.duke.edu//data_commons-borsuk//verified/verified_state_year_image_name_formating/verify_1_josh_jaewon_amadu/chips_positive\\\\fl_60cm_2019_24081_m_2408126_ne_17_060_20191128_000454.jpg', '//oit-nas-fe13dc.oit.duke.edu//data_commons-borsuk//verified/verified_state_year_image_name_formating/verify_1_josh_jaewon_amadu/chips_positive\\\\fl_60cm_2019_24081_m_2408126_ne_17_060_20191128_000486.jpg', '//oit-nas-fe13dc.oit.duke.edu//data_commons-borsuk//verified/verified_state_year_image_name_formating/verify_1_josh_jaewon_amadu/chips_positive\\\\fl_60cm_2019_24081_m_2408126_ne_17_060_20191128_000495.jpg', '//oit-nas-fe13dc.oit.duke.edu//data_commons-borsuk//verified/verified_state_year_image_name_formating/verify_1_josh_jaewon_amadu/chips_positive\\\\fl_60cm_2019_24081_m_2408126_ne_17_060_20191128_000510.jpg', '//oit-nas-fe13dc.oit.duke.edu//data_commons-borsuk//verified/verified_state_year_image_name_formating/verify_1_josh_jaewon_amadu/chips_positive\\\\fl_60cm_2019_24081_m_2408126_ne_17_060_20191128_000511.jpg', '//oit-nas-fe13dc.oit.duke.edu//data_commons-borsuk//verified/verified_state_year_image_name_formating/verify_1_josh_jaewon_amadu/chips_positive\\\\fl_60cm_2019_24081_m_2408126_ne_17_060_20191128_000535.jpg', '//oit-nas-fe13dc.oit.duke.edu//data_commons-borsuk//verified/verified_state_year_image_name_formating/verify_1_josh_jaewon_amadu/chips_positive\\\\fl_60cm_2019_24081_m_2408126_ne_17_060_20191128_000536.jpg']\n",
      "m_2408126_ne_17_060_20191128_000044 ['fl_60cm_2019_24081_m_2408126_ne_17_060_20191128_000044']\n",
      "19 1 2 //oit-nas-fe13dc.oit.duke.edu//data_commons-borsuk//verified/verified_state_year_image_name_formating/verify_1_josh_jaewon_amadu/chips_positive\\fl_60cm_2019_24081_m_2408126_ne_17_060_20191128_000044.jpg\n"
     ]
    },
    {
     "name": "stderr",
     "output_type": "stream",
     "text": [
      "C:\\Users\\RAPIDU~1\\AppData\\Local\\Temp/ipykernel_7456/725189633.py:24: FutureWarning: elementwise comparison failed; returning scalar instead, but in the future will perform elementwise comparison\n",
      "  state_year_index, = np.where(np.array(img_in_tile_names) == state_year_img_name_wo_ext)\n",
      "100%|██████████| 1/1 [00:21<00:00, 21.51s/it]"
     ]
    },
    {
     "name": "stdout",
     "output_type": "stream",
     "text": [
      "1\n"
     ]
    },
    {
     "name": "stderr",
     "output_type": "stream",
     "text": [
      "\n"
     ]
    }
   ],
   "source": [
    "img_count = 0\n",
    "for tile_name in tqdm.tqdm([tile_names[0]]):\n",
    "    compile_tile_dir = make_by_tile_dirs(compiled_by_tile_dir, tile_name)\n",
    "\n",
    "    img_in_tile_paths = [string for string in image_paths if tile_name in string] \n",
    "    xml_in_tile_paths = [string for string in xml_paths if tile_name in string]\n",
    "    img_in_tile_names = [string for string in img_names if tile_name in string]          \n",
    "    assert len(img_in_tile_paths) == len(xml_in_tile_paths) == len(img_in_tile_names), \"The same number of images and xmls\"\n",
    "    \n",
    "    tile, row_index, col_index = read_tile(os.path.join(tile_dir_path, tile_name + \".tif\")) #read in tile\n",
    "    print(row_index, col_index)\n",
    "    print(img_in_tile_paths)\n",
    "    count = 0\n",
    "    for y in range(0, row_index): #rows\n",
    "        for x in range(0, col_index): #cols\n",
    "            t_2_chip = fc.tile_to_chip_array(tile, x, y, int(512)) #get correct chip from tile\n",
    "            img_count = compare__move_images_state_years(x, y, tile_name, img_in_tile_names, count, -2, img_count)\n",
    "            img_count = compare__move_images_state_years(x, y, tile_name, img_in_tile_names, count, -1, img_count)\n",
    "            img_count = compare__move_images_state_years(x, y, tile_name, img_in_tile_names, count, 0, img_count)\n",
    "            img_count = compare__move_images_state_years(x, y, tile_name, img_in_tile_names, count, 1, img_count)\n",
    "            img_count = compare__move_images_state_years(x, y, tile_name, img_in_tile_names, count, 2, img_count)\n",
    "\n",
    "            count += 1\n",
    "    print(img_count)"
   ]
  },
  {
   "cell_type": "code",
   "execution_count": 48,
   "id": "713c546b-46f5-4eb0-a60d-f23ac5c55401",
   "metadata": {},
   "outputs": [],
   "source": []
  },
  {
   "cell_type": "code",
   "execution_count": 19,
   "id": "20911491-5751-4227-a018-7a6062b6d3c1",
   "metadata": {},
   "outputs": [
    {
     "data": {
      "text/plain": [
       "array([], dtype=int64)"
      ]
     },
     "execution_count": 19,
     "metadata": {},
     "output_type": "execute_result"
    }
   ],
   "source": [
    "            #compare image names to state year names\n",
    "            standard_quad_img_name_wo_ext = tile_name + '_' + f\"{y:02}\"  + '_' + f\"{x:02}\" # row_col\n",
    "            \n",
    "            six_digit_zero_count_img_name_wo_ext = tile_name + '_'+ str(count).zfill(6) #specify the chip names\n",
    "            state_year_zero_count_img_name_wo_ext = [string for string in img_in_tile_names if six_digit_zero_count_img_name_wo_ext in string]\n",
    "            \n",
    "            assert len(set(state_year_zero_count_img_name_wo_ext)) <= 1, \"to many names\"\n",
    "            state_year_zero_count_img_name_wo_ext = list(set(state_year_zero_count_img_name_wo_ext))\n",
    "            state_year_zero_count_index, = np.where(np.array(img_in_tile_names) == state_year_zero_count_img_name_wo_ext) \n",
    "\n",
    "\n",
    "            if len(state_year_index) >= 1: \n",
    "                for index in state_year_index:\n",
    "                    img_path = img_in_tile_paths[index]\n",
    "                    xml_path = xml_in_tile_paths[index]\n",
    "                    img_name = img_in_tile_names[index]\n",
    "                    if compare_images(t_2_chip, cv2.imread(img_path)):\n",
    "                        img_count += 1\n",
    "                        copy_and_replace_images_xml(standard_quad_img_name_wo_ext, img_path, xml_path, compile_tile_dir) #use standard name and copy to compiled directory\n",
    "                    else:\n",
    "                        copy_and_replace_images_xml(img_name, img_path, xml_path, images_do_not_match_names_dir) #move to incorrect directory\n",
    "                #counter for image pathway\n",
    "            \n",
    "            six_digit_one_count_img_name_wo_ext = tile_name + '_'+ str(count + 1).zfill(6) #specify the chip names\n",
    "            state_year_one_count_img_name_wo_ext = [string for string in img_in_tile_names if six_digit_one_count_img_name_wo_ext in string]\n",
    "            \n",
    "            assert len(set(state_year_one_count_img_name_wo_ext)) <= 1, \"to many names\"\n",
    "            state_year_one_count_img_name_wo_ext = list(set(state_year_one_count_img_name_wo_ext))\n",
    "            state_year_one_count_index, = np.where(np.array(img_in_tile_names) == state_year_one_count_img_name_wo_ext) \n",
    "\n",
    "            if len(state_year_index) >= 1: \n",
    "                for index in state_year_index:\n",
    "                    img_path = img_in_tile_paths[index]\n",
    "                    xml_path = xml_in_tile_paths[index]\n",
    "                    img_name = img_in_tile_names[index]\n",
    "                    if compare_images(t_2_chip, cv2.imread(img_path)):\n",
    "                        img_count += 1\n",
    "                        copy_and_replace_images_xml(standard_quad_img_name_wo_ext, img_path, xml_path, compile_tile_dir) #use standard name and copy to compiled directory\n",
    "                    else:\n",
    "                        copy_and_replace_images_xml(img_name, img_path, xml_path, images_do_not_match_names_dir) #move to incorrect directory\n",
    "                #counter for image pathway"
   ]
  },
  {
   "cell_type": "code",
   "execution_count": null,
   "id": "47815fda-e7e4-445b-aab9-d4f48e55cf50",
   "metadata": {},
   "outputs": [],
   "source": [
    "unverified_subfolders_path = os.path.join(parent_directory,\"unverified_images\")\n",
    "\n",
    "all_unverified_subfolders_path = []\n",
    "for dir_ in (ap.list_of_sub_directories(unverified_subfolders_path)):\n",
    "    img_path_by_unverified_set = ap.img_path_anno_path(ap.list_of_sub_directories(dir_))\n",
    "    for paths in img_path_by_unverified_set:\n",
    "        all_unverified_subfolders_path.append(paths)\n",
    "        \n",
    "compile_unverified_dataset(all_unverified_subfolders_path[18:], tile_dir_path, compiled_by_tile_dir, images_do_not_match_names_dir, correctly_chipped_incorrect_data_dir)"
   ]
  },
  {
   "cell_type": "code",
   "execution_count": 126,
   "id": "5b3a4854-c036-433d-a335-8cdf640deb15",
   "metadata": {},
   "outputs": [],
   "source": []
  },
  {
   "cell_type": "code",
   "execution_count": 111,
   "id": "7cecd5ee-307e-494b-ac1f-dbefb3fcd23a",
   "metadata": {},
   "outputs": [
    {
     "name": "stderr",
     "output_type": "stream",
     "text": [
      "  0%|          | 0/2139 [00:00<?, ?it/s]C:\\Users\\RAPIDU~1\\AppData\\Local\\Temp/ipykernel_10100/3046656880.py:228: FutureWarning: elementwise comparison failed; returning scalar instead, but in the future will perform elementwise comparison\n",
      "  state_year_index, = np.where(np.array(img_in_tile_names) == state_year_img_name_wo_ext)\n",
      "  1%|          | 16/2139 [02:28<5:27:52,  9.27s/it]\n"
     ]
    },
    {
     "ename": "AssertionError",
     "evalue": "The same number of images and xmls",
     "output_type": "error",
     "traceback": [
      "\u001b[1;31m---------------------------------------------------------------------------\u001b[0m",
      "\u001b[1;31mAssertionError\u001b[0m                            Traceback (most recent call last)",
      "\u001b[1;32mC:\\Users\\RAPIDU~1\\AppData\\Local\\Temp/ipykernel_10100/1801843796.py\u001b[0m in \u001b[0;36m<module>\u001b[1;34m\u001b[0m\n\u001b[0;32m      2\u001b[0m \u001b[0mall_verified_state_year_subfolders_path\u001b[0m \u001b[1;33m=\u001b[0m \u001b[0map\u001b[0m\u001b[1;33m.\u001b[0m\u001b[0mimg_path_anno_path\u001b[0m\u001b[1;33m(\u001b[0m\u001b[0map\u001b[0m\u001b[1;33m.\u001b[0m\u001b[0mlist_of_sub_directories\u001b[0m\u001b[1;33m(\u001b[0m\u001b[0mverified_state_year_subfolders_path\u001b[0m\u001b[1;33m)\u001b[0m\u001b[1;33m)\u001b[0m\u001b[1;33m\u001b[0m\u001b[1;33m\u001b[0m\u001b[0m\n\u001b[0;32m      3\u001b[0m \u001b[1;33m\u001b[0m\u001b[0m\n\u001b[1;32m----> 4\u001b[1;33m compile_verified_state_year_dataset(all_verified_state_year_subfolders_path, tile_dir_path, compiled_by_tile_dir, \n\u001b[0m\u001b[0;32m      5\u001b[0m                  images_do_not_match_names_dir, correctly_chipped_incorrect_data_dir)\n",
      "\u001b[1;32mC:\\Users\\RAPIDU~1\\AppData\\Local\\Temp/ipykernel_10100/3046656880.py\u001b[0m in \u001b[0;36mcompile_verified_state_year_dataset\u001b[1;34m(img_paths_anno_paths, tile_dir_path, compiled_by_tile_dir, images_do_not_match_names_dir, correctly_chipped_incorrect_data_dir)\u001b[0m\n\u001b[0;32m    214\u001b[0m         \u001b[0mxml_in_tile_paths\u001b[0m \u001b[1;33m=\u001b[0m \u001b[1;33m[\u001b[0m\u001b[0mstring\u001b[0m \u001b[1;32mfor\u001b[0m \u001b[0mstring\u001b[0m \u001b[1;32min\u001b[0m \u001b[0mxml_paths\u001b[0m \u001b[1;32mif\u001b[0m \u001b[0mtile_name\u001b[0m \u001b[1;32min\u001b[0m \u001b[0mstring\u001b[0m\u001b[1;33m]\u001b[0m\u001b[1;33m\u001b[0m\u001b[1;33m\u001b[0m\u001b[0m\n\u001b[0;32m    215\u001b[0m         \u001b[0mimg_in_tile_names\u001b[0m \u001b[1;33m=\u001b[0m \u001b[1;33m[\u001b[0m\u001b[0mstring\u001b[0m \u001b[1;32mfor\u001b[0m \u001b[0mstring\u001b[0m \u001b[1;32min\u001b[0m \u001b[0mfile_names\u001b[0m \u001b[1;32mif\u001b[0m \u001b[0mtile_name\u001b[0m \u001b[1;32min\u001b[0m \u001b[0mstring\u001b[0m\u001b[1;33m]\u001b[0m\u001b[1;33m\u001b[0m\u001b[1;33m\u001b[0m\u001b[0m\n\u001b[1;32m--> 216\u001b[1;33m         \u001b[1;32massert\u001b[0m \u001b[0mlen\u001b[0m\u001b[1;33m(\u001b[0m\u001b[0mimg_in_tile_paths\u001b[0m\u001b[1;33m)\u001b[0m \u001b[1;33m==\u001b[0m \u001b[0mlen\u001b[0m\u001b[1;33m(\u001b[0m\u001b[0mxml_in_tile_paths\u001b[0m\u001b[1;33m)\u001b[0m \u001b[1;33m==\u001b[0m \u001b[0mlen\u001b[0m\u001b[1;33m(\u001b[0m\u001b[0mimg_in_tile_names\u001b[0m\u001b[1;33m)\u001b[0m\u001b[1;33m,\u001b[0m \u001b[1;34m\"The same number of images and xmls\"\u001b[0m\u001b[1;33m\u001b[0m\u001b[1;33m\u001b[0m\u001b[0m\n\u001b[0m\u001b[0;32m    217\u001b[0m \u001b[1;33m\u001b[0m\u001b[0m\n\u001b[0;32m    218\u001b[0m         \u001b[0mtile\u001b[0m\u001b[1;33m,\u001b[0m \u001b[0mrow_index\u001b[0m\u001b[1;33m,\u001b[0m \u001b[0mcol_index\u001b[0m \u001b[1;33m=\u001b[0m \u001b[0mread_tile\u001b[0m\u001b[1;33m(\u001b[0m\u001b[0mos\u001b[0m\u001b[1;33m.\u001b[0m\u001b[0mpath\u001b[0m\u001b[1;33m.\u001b[0m\u001b[0mjoin\u001b[0m\u001b[1;33m(\u001b[0m\u001b[0mtile_dir_path\u001b[0m\u001b[1;33m,\u001b[0m \u001b[0mtile_name\u001b[0m \u001b[1;33m+\u001b[0m \u001b[1;34m\".tif\"\u001b[0m\u001b[1;33m)\u001b[0m\u001b[1;33m)\u001b[0m \u001b[1;31m#read in tile\u001b[0m\u001b[1;33m\u001b[0m\u001b[1;33m\u001b[0m\u001b[0m\n",
      "\u001b[1;31mAssertionError\u001b[0m: The same number of images and xmls"
     ]
    }
   ],
   "source": [
    "verified_state_year_subfolders_path = os.path.join(parent_directory,\"verified/verified_state_year_image_name_formating\")\n",
    "all_verified_state_year_subfolders_path = ap.img_path_anno_path(ap.list_of_sub_directories(verified_state_year_subfolders_path)) \n",
    "\n",
    "compile_verified_state_year_dataset(all_verified_state_year_subfolders_path, tile_dir_path, compiled_by_tile_dir, \n",
    "                 images_do_not_match_names_dir, correctly_chipped_incorrect_data_dir)"
   ]
  },
  {
   "cell_type": "code",
   "execution_count": 22,
   "id": "8356f7a7-cf7d-4d0b-9a9f-387fb0167fde",
   "metadata": {},
   "outputs": [
    {
     "name": "stderr",
     "output_type": "stream",
     "text": [
      "100%|██████████| 7/7 [2:56:14<00:00, 1510.70s/it]  \n"
     ]
    }
   ],
   "source": [
    "verified_standard_quad_subfolders_path = os.path.join(parent_directory,\"verified/verified_standard_quad_image_name_format\")\n",
    "\n",
    "all_verified_standard_quad_subfolders_path =  ap.img_path_anno_path(ap.list_of_sub_directories(verified_standard_quad_subfolders_path))\n",
    "compile_verified_standard_dataset(all_verified_standard_quad_subfolders_path, tile_dir_path, compiled_by_tile_dir, images_do_not_match_names_dir, correctly_chipped_incorrect_data_dir)"
   ]
  },
  {
   "cell_type": "code",
   "execution_count": null,
   "id": "ec446e96-ff62-46ab-a8e7-f8dacee91de8",
   "metadata": {},
   "outputs": [],
   "source": [
    "#create renamed xml for all xmls in dataset\n",
    "reformat_xmls_for_rechipped_images(xml_directory, image_in_tile, correct_xml_name, correct_jpg_name, chips_positive_xml_dir_path)"
   ]
  },
  {
   "cell_type": "code",
   "execution_count": 59,
   "id": "50d3db57-d3c9-4503-9bef-32181c6a46b1",
   "metadata": {},
   "outputs": [],
   "source": []
  },
  {
   "cell_type": "code",
   "execution_count": null,
   "id": "4dee25a0-feb6-48bb-9df5-b702b1906d8c",
   "metadata": {},
   "outputs": [],
   "source": []
  },
  {
   "cell_type": "code",
   "execution_count": 64,
   "id": "73f5a04f-4296-4bc7-a523-736cc50f5344",
   "metadata": {},
   "outputs": [
    {
     "name": "stderr",
     "output_type": "stream",
     "text": [
      "  0%|          | 0/2154 [1:04:10<?, ?it/s]\n"
     ]
    },
    {
     "ename": "KeyboardInterrupt",
     "evalue": "",
     "output_type": "error",
     "traceback": [
      "\u001b[1;31m---------------------------------------------------------------------------\u001b[0m",
      "\u001b[1;31mKeyboardInterrupt\u001b[0m                         Traceback (most recent call last)",
      "\u001b[1;32mC:\\Users\\RAPIDU~1\\AppData\\Local\\Temp/ipykernel_10100/1891852104.py\u001b[0m in \u001b[0;36m<module>\u001b[1;34m\u001b[0m\n\u001b[0;32m     10\u001b[0m                 \u001b[0mimg_path\u001b[0m \u001b[1;33m=\u001b[0m \u001b[0mos\u001b[0m\u001b[1;33m.\u001b[0m\u001b[0mpath\u001b[0m\u001b[1;33m.\u001b[0m\u001b[0mjoin\u001b[0m\u001b[1;33m(\u001b[0m\u001b[0mimages_do_not_match_names_dir\u001b[0m\u001b[1;33m,\u001b[0m\u001b[1;34m\"chips_positive\"\u001b[0m\u001b[1;33m,\u001b[0m \u001b[0mimg_name\u001b[0m\u001b[1;33m+\u001b[0m\u001b[1;34m\".jpg\"\u001b[0m\u001b[1;33m)\u001b[0m\u001b[1;33m\u001b[0m\u001b[1;33m\u001b[0m\u001b[0m\n\u001b[0;32m     11\u001b[0m                 \u001b[0mxml_path\u001b[0m \u001b[1;33m=\u001b[0m \u001b[0mos\u001b[0m\u001b[1;33m.\u001b[0m\u001b[0mpath\u001b[0m\u001b[1;33m.\u001b[0m\u001b[0mjoin\u001b[0m\u001b[1;33m(\u001b[0m\u001b[0mimages_do_not_match_names_dir\u001b[0m\u001b[1;33m,\u001b[0m\u001b[1;34m\"chips_positive_xml\"\u001b[0m\u001b[1;33m,\u001b[0m \u001b[0mimg_name\u001b[0m\u001b[1;33m+\u001b[0m\u001b[1;34m\".xml\"\u001b[0m\u001b[1;33m)\u001b[0m\u001b[1;33m\u001b[0m\u001b[1;33m\u001b[0m\u001b[0m\n\u001b[1;32m---> 12\u001b[1;33m                 \u001b[1;32mif\u001b[0m \u001b[0mcompare_images\u001b[0m\u001b[1;33m(\u001b[0m\u001b[0mt_2_chip\u001b[0m\u001b[1;33m,\u001b[0m \u001b[0mcv2\u001b[0m\u001b[1;33m.\u001b[0m\u001b[0mimread\u001b[0m\u001b[1;33m(\u001b[0m\u001b[0mimg_path\u001b[0m\u001b[1;33m)\u001b[0m\u001b[1;33m)\u001b[0m\u001b[1;33m:\u001b[0m\u001b[1;33m\u001b[0m\u001b[1;33m\u001b[0m\u001b[0m\n\u001b[0m\u001b[0;32m     13\u001b[0m                     \u001b[0mstandard_quad_img_name_wo_ext\u001b[0m \u001b[1;33m=\u001b[0m \u001b[0mtile_name\u001b[0m \u001b[1;33m+\u001b[0m \u001b[1;34m'_'\u001b[0m \u001b[1;33m+\u001b[0m \u001b[1;34mf\"{y:02}\"\u001b[0m  \u001b[1;33m+\u001b[0m \u001b[1;34m'_'\u001b[0m \u001b[1;33m+\u001b[0m \u001b[1;34mf\"{x:02}\"\u001b[0m \u001b[1;31m# row_col\u001b[0m\u001b[1;33m\u001b[0m\u001b[1;33m\u001b[0m\u001b[0m\n\u001b[0;32m     14\u001b[0m                     copy_and_replace_images_xml(standard_quad_img_name_wo_ext, img_path, xml_path, \n",
      "\u001b[1;31mKeyboardInterrupt\u001b[0m: "
     ]
    }
   ],
   "source": [
    "tile_paths = glob(tile_dir_path + \"/*.tif\", recursive = True)\n",
    "tile_names, _ = get_unique_tile_names(tile_paths)\n",
    "\n",
    "incorrect_img_paths = sorted(glob(os.path.join(images_do_not_match_names_dir,\"chips_positive\") + \"/*.jpg\", recursive = True))\n",
    "incorrect_img_names = []\n",
    "for img_path in incorrect_img_paths:\n",
    "    img_name = os.path.splitext(os.path.basename(img_path))[0]\n",
    "    incorrect_img_names.append(img_name)\n",
    "    \n",
    "for tile_name in tqdm.tqdm(tile_names):\n",
    "    tile, row_index, col_index = read_tile(os.path.join(tile_dir_path, tile_name + \".tif\")) #read in tile\n",
    "    count = 1\n",
    "    for y in range(0, row_index): #rows\n",
    "        for x in range(0, col_index): #cols\n",
    "            t_2_chip = fc.tile_to_chip_array(tile, x, y, int(512)) #get correct chip from tile\n",
    "            \n",
    "            incorrect_img_names_copy = copy.copy(incorrect_img_names)\n",
    "            for img_name in incorrect_img_names_copy:\n",
    "                img_path = os.path.join(images_do_not_match_names_dir,\"chips_positive\", img_name+\".jpg\")\n",
    "                xml_path = os.path.join(images_do_not_match_names_dir,\"chips_positive_xml\", img_name+\".xml\")\n",
    "                if compare_images(t_2_chip, cv2.imread(img_path)):\n",
    "                    \n",
    "                    standard_quad_img_name_wo_ext = tile_name + '_' + f\"{y:02}\"  + '_' + f\"{x:02}\" # row_col\n",
    "                    copy_and_replace_images_xml(standard_quad_img_name_wo_ext, img_path, xml_path, \n",
    "                                                os.path.join(images_do_not_match_names_dir,\"chips_positive\"))\n",
    "                    print(img_name, standard_quad_img_name_wo_ext)\n",
    "                    incorrect_img_names_copy.remove(img_name)\n",
    "                    \n",
    "            incorrect_img_paths = copy.copy(incorrect_img_names_copy)\n",
    "            count += 1"
   ]
  },
  {
   "cell_type": "code",
   "execution_count": null,
   "id": "67e27ee6-e8ee-4c11-a0e4-c84a76fd4c9b",
   "metadata": {},
   "outputs": [],
   "source": [
    "count = 1\n",
    "for y in range(0, col_index): #rows\n",
    "    for x in range(0, col_index): #cols\n",
    "        t_2_chip = fc.tile_to_chip_array(tile, x, y, int(512)) #get correct chip from tile\n",
    "        #compare image names to state year names\n",
    "        standard_quad_img_name_wo_ext = tile_name + '_' + f\"{y:02}\"  + '_' + f\"{x:02}\" # row_col\n",
    "        tile_six_digit_img_name_wo_ext = tile_name + '_'+ str(count).zfill(6) #specify the chip names\n",
    "        state_year_img_name_wo_ext = [string for string in img_in_tile_names if tile_six_digit_img_name_wo_ext in string]  \n",
    "        if len(state_year_img_name_wo_ext) > 0: \n",
    "            state_year_index, = np.where(np.array(img_in_tile_names) == state_year_img_name_wo_ext[0]) \n",
    "            index = [state_year_index][0][0]\n",
    "            img_path = img_in_tile_paths[index]\n",
    "            xml_path = xml_in_tile_paths[index]\n",
    "            img_name = img_in_tile_names[index]\n",
    "            if compare_images(t_2_chip, cv2.imread(img_path)):\n",
    "                copy_and_replace_images_xml(standard_quad_img_name_wo_ext, img_path, xml_path, compile_tile_dir) #use standard name and copy to compiled directory\n",
    "            else:\n",
    "                copy_and_replace_images_xml(img_name, img_path, xml_path, images_do_not_match_names_dir) #move to incorrect directory\n",
    "        #counter for image pathway\n",
    "        count += 1"
   ]
  },
  {
   "cell_type": "code",
   "execution_count": null,
   "id": "0a030759-e0ce-45f6-ac70-bdacea491aac",
   "metadata": {},
   "outputs": [],
   "source": [
    "def img_anno_paths_to_corrected_names_for_labeled_images_and_remaining_images(img_paths_anno_paths, correct_directory, incorrectly_chipped_images_path, \n",
    "                                                                              remaining_chips_path, tiles_complete_dataset_path):\n",
    "    \"\"\" iterate over all the image and xml paths in directory of annotated images; identify tiles and the corresonding images/xmls in each folder;\n",
    "    match name of previous naming convention and row/col naming convention;for labeled images and xmls, create folder to store, \n",
    "    identify correct images, copy, and rename; identify and save remaining images; \n",
    "    Args: \n",
    "    img_paths_anno_paths(np array): n x 2 array of jpg and xml paths\n",
    "    correct_directory(str): path to directory containing xmls and images with correct names\n",
    "    incorrectly_chipped_images_path(str): path to folder that will contain all of the incorrect named, images chipped from times\n",
    "    remaining_chips_path(str): path to folder that will contain all of the remaining images that have not been labeled and correspond to tiles that have labeled images\n",
    "    tiles_complete_dataset_path(str): path to folder containing tiles\n",
    "    \n",
    "    Returns:\n",
    "    multiple_annotations_images: list of images with multiple annotations in a given folder\n",
    "    black_images_with_annotations: list of black images with annotations\n",
    "    \"\"\"\n",
    "    multiple_annotations_images = []\n",
    "    black_images_with_annotations = []\n",
    "    for directory in tqdm.tqdm(img_paths_anno_paths):\n",
    "        #get all the image and xml paths in directory of annotated images\n",
    "        print(directory)\n",
    "        remove_thumbs(directory[0])\n",
    "        image_paths = sorted(glob(directory[0] + \"/*.jpg\", recursive = True))\n",
    "        xml_paths = sorted(glob(directory[1] + \"/*.xml\", recursive = True))\n",
    "        #print(len(image_paths),len(xml_paths))\n",
    "\n",
    "        #identify tiles in each folder\n",
    "        tiles = []\n",
    "        for image in image_paths:\n",
    "            image_name = os.path.splitext(os.path.basename(image))[0]\n",
    "            if image_name.count(\"_\") > 9:\n",
    "                tile_name = image_name.split(\"_\",4)[-1].rsplit(\"_\",1)[0] #state included in image name\n",
    "            else:\n",
    "                tile_name = image_name.rsplit(\"_\",2)[0] #tile name formated image name\n",
    "            \n",
    "            tiles.append(tile_name)\n",
    "        tiles = sorted(np.unique(tiles))\n",
    "\n",
    "        #identify the images/xmls that correspond with each tile in folder\n",
    "        for tile_name in tiles:        \n",
    "            images_in_tile = [string for string in image_paths if tile_name in string]          \n",
    "            xmls_in_tile = [string for string in xml_paths if tile_name in string]  \n",
    "            assert len(images_in_tile) == len(xmls_in_tile), \"The same number of images and xmls\"\n",
    "            #print(tile_name, len(images_in_tile))\n",
    "\n",
    "            #create folder to store corrected chips/xmls\n",
    "            tile_dir_path = os.path.join(correct_directory, tile_name) #sub folder for each tile \n",
    "            chips_positive_dir_path = os.path.join(tile_dir_path,\"chips_positive\") #images path\n",
    "            chips_positive_xml_dir_path = os.path.join(tile_dir_path,\"chips_positive_xml\") #xmls paths\n",
    "\n",
    "            tile_dir = os.makedirs(tile_dir_path, exist_ok=True)\n",
    "            chips_positive_dir = os.makedirs(chips_positive_dir_path, exist_ok=True)\n",
    "            chips_positive_xml_dir = os.makedirs(chips_positive_xml_dir_path, exist_ok=True)\n",
    "\n",
    "            #identify and save remaining images; match name of previous naming convention and row/col naming convention\n",
    "            ys, xs, chip_name_incorrectly_chip_names, chip_name_correct_chip_names =  incorrectly_chipped_image_and_correctly_chipped_names(incorrectly_chipped_images_path, remaining_chips_path,                                                                                        tiles_complete_dataset_path, tile_name)\n",
    "\n",
    "            #identify labeled images that are correct; copy and rename correct images and xmls\n",
    "            multiple_annotations_images, black_images_with_annotations = copy_rename_labeled_images_xmls(directory[1], images_in_tile, incorrectly_chipped_images_path,\n",
    "                                                                                                            chips_positive_dir_path, chips_positive_xml_dir_path,\n",
    "                                                                                                            chip_name_incorrectly_chip_names, chip_name_correct_chip_names,\n",
    "                                                                                                            multiple_annotations_images, black_images_with_annotations)\n",
    "        #remaining images\n",
    "        print(\"remaining images\", len(os.listdir(remaining_chips_path)))\n",
    "        "
   ]
  },
  {
   "cell_type": "markdown",
   "id": "9d5c7475-ba48-4021-ad22-f9c20483223e",
   "metadata": {
    "tags": []
   },
   "source": [
    "# End Testing"
   ]
  },
  {
   "cell_type": "code",
   "execution_count": 3,
   "id": "40e4f2f6-ec8f-40c1-bef7-e2c2f66d96cc",
   "metadata": {
    "collapsed": true,
    "jupyter": {
     "outputs_hidden": true
    },
    "tags": []
   },
   "outputs": [
    {
     "name": "stderr",
     "output_type": "stream",
     "text": [
      "  0%|          | 0/8 [00:00<?, ?it/s]"
     ]
    },
    {
     "name": "stdout",
     "output_type": "stream",
     "text": [
      "['//oit-nas-fe13dc.oit.duke.edu//data_commons-borsuk//unverified_images\\\\student_reviewed_unverified_images_set1/Qianyu/chips_positive'\n",
      " '//oit-nas-fe13dc.oit.duke.edu//data_commons-borsuk//unverified_images\\\\student_reviewed_unverified_images_set1/Qianyu/chips_positive_xml']\n",
      "24 22\n",
      "remaining images 62692\n",
      "24 22\n",
      "remaining images 62692\n",
      "25 22\n",
      "remaining images 62692\n",
      "25 22\n",
      "remaining images 62692\n",
      "25 22\n",
      "remaining images 62692\n",
      "25 22\n",
      "remaining images 62692\n",
      "25 22\n",
      "remaining images 62692\n",
      "25 23\n",
      "remaining images 62692\n",
      "26 23\n",
      "remaining images 62692\n",
      "26 23\n",
      "remaining images 62692\n",
      "25 23\n",
      "remaining images 62692\n",
      "25 23\n",
      "remaining images 62692\n",
      "26 23\n",
      "remaining images 62692\n",
      "25 23\n",
      "remaining images 62692\n",
      "25 23\n",
      "remaining images 62692\n",
      "26 23\n",
      "remaining images 62692\n",
      "25 23\n",
      "remaining images 62692\n",
      "26 23\n",
      "remaining images 62692\n",
      "26 23\n",
      "remaining images 62692\n",
      "26 23\n",
      "remaining images 62692\n",
      "26 23\n",
      "remaining images 62692\n",
      "25 23\n",
      "remaining images 62692\n",
      "26 23\n",
      "remaining images 62692\n",
      "26 23\n",
      "remaining images 62692\n",
      "26 23\n",
      "remaining images 62692\n",
      "25 22\n",
      "remaining images 62692\n",
      "25 22\n",
      "remaining images 62692\n",
      "25 23\n",
      "remaining images 62692\n",
      "25 23\n",
      "remaining images 62692\n",
      "26 23\n",
      "remaining images 62692\n",
      "25 23\n",
      "remaining images 62692\n",
      "26 23\n",
      "remaining images 62692\n",
      "25 23\n",
      "remaining images 62692\n",
      "25 23\n",
      "remaining images 62692\n",
      "26 23\n",
      "remaining images 62692\n",
      "25 23\n",
      "remaining images 62692\n",
      "25 22\n",
      "remaining images 62692\n",
      "24 21\n",
      "remaining images 62692\n",
      "24 21\n",
      "remaining images 62692\n",
      "24 21\n",
      "remaining images 62692\n",
      "24 21\n",
      "remaining images 62692\n",
      "24 21\n",
      "remaining images 62692\n",
      "25 21\n",
      "remaining images 62692\n",
      "25 21\n",
      "remaining images 62692\n",
      "26 23\n",
      "remaining images 62692\n",
      "25 22\n",
      "remaining images 62692\n",
      "26 22\n",
      "remaining images 62692\n",
      "25 23\n",
      "remaining images 62692\n",
      "26 23\n",
      "remaining images 62692\n",
      "26 22\n",
      "remaining images 62692\n",
      "25 22\n",
      "remaining images 62692\n",
      "25 22\n",
      "remaining images 62692\n",
      "25 22\n",
      "remaining images 62692\n",
      "24 21\n",
      "remaining images 62692\n",
      "24 21\n",
      "remaining images 62692\n",
      "24 21\n",
      "remaining images 62692\n",
      "24 21\n",
      "remaining images 62692\n",
      "24 21\n",
      "remaining images 62692\n",
      "24 21\n",
      "remaining images 62692\n",
      "24 21\n",
      "remaining images 62692\n",
      "24 21\n",
      "remaining images 62692\n",
      "24 20\n",
      "remaining images 62692\n",
      "24 20\n",
      "remaining images 62692\n",
      "24 20\n",
      "remaining images 62692\n",
      "24 20\n",
      "remaining images 62692\n",
      "24 20\n",
      "remaining images 62692\n",
      "24 20\n",
      "remaining images 62692\n",
      "24 20\n",
      "remaining images 62692\n",
      "25 20\n",
      "remaining images 62692\n",
      "25 20\n",
      "remaining images 62792\n"
     ]
    },
    {
     "name": "stderr",
     "output_type": "stream",
     "text": [
      " 12%|█▎        | 1/8 [24:43<2:53:05, 1483.59s/it]"
     ]
    },
    {
     "name": "stdout",
     "output_type": "stream",
     "text": [
      "['//oit-nas-fe13dc.oit.duke.edu//data_commons-borsuk//unverified_images\\\\student_reviewed_unverified_images_set1/Sunny/student_reviewed_images1/chips_positive'\n",
      " '//oit-nas-fe13dc.oit.duke.edu//data_commons-borsuk//unverified_images\\\\student_reviewed_unverified_images_set1/Sunny/student_reviewed_images1/chips_positive_xml']\n",
      "25 17\n",
      "remaining images 62928\n",
      "25 17\n",
      "remaining images 63064\n",
      "25 17\n",
      "remaining images 63200\n",
      "25 17\n",
      "remaining images 63200\n",
      "25 18\n",
      "remaining images 63200\n",
      "25 17\n",
      "remaining images 63336\n",
      "25 18\n",
      "remaining images 63336\n",
      "25 17\n",
      "remaining images 63472\n",
      "25 17\n",
      "remaining images 63608\n",
      "25 17\n",
      "remaining images 63744\n",
      "25 17\n",
      "remaining images 63880\n",
      "25 18\n",
      "remaining images 64006\n",
      "25 18\n",
      "remaining images 64132\n",
      "25 18\n",
      "remaining images 64258\n",
      "25 18\n",
      "remaining images 64384\n",
      "25 17\n",
      "remaining images 64520\n",
      "25 17\n",
      "remaining images 64656\n",
      "25 17\n",
      "remaining images 64792\n",
      "25 17\n",
      "remaining images 64928\n",
      "25 17\n",
      "remaining images 65064\n",
      "25 18\n",
      "remaining images 65190\n",
      "25 18\n",
      "remaining images 65316\n",
      "25 18\n",
      "remaining images 65442\n",
      "25 18\n",
      "remaining images 65568\n",
      "25 18\n",
      "remaining images 65694\n",
      "25 17\n",
      "remaining images 65830\n",
      "25 17\n",
      "remaining images 65966\n",
      "25 17\n",
      "remaining images 66102\n",
      "25 17\n",
      "remaining images 66238\n",
      "25 17\n",
      "remaining images 66374\n",
      "25 17\n",
      "remaining images 66510\n",
      "25 17\n",
      "remaining images 66510\n",
      "25 17\n",
      "remaining images 66510\n",
      "25 17\n",
      "remaining images 66510\n",
      "25 17\n",
      "remaining images 66510\n",
      "25 17\n",
      "remaining images 66646\n",
      "25 17\n",
      "remaining images 66782\n",
      "25 17\n",
      "remaining images 66918\n",
      "25 17\n",
      "remaining images 67054\n",
      "24 17\n",
      "remaining images 67173\n",
      "25 17\n",
      "remaining images 67309\n",
      "24 17\n",
      "remaining images 67428\n",
      "25 17\n",
      "remaining images 67564\n",
      "25 17\n",
      "remaining images 67700\n",
      "25 17\n",
      "remaining images 67836\n",
      "24 17\n",
      "remaining images 67955\n",
      "25 17\n",
      "remaining images 68091\n",
      "24 17\n",
      "remaining images 68210\n"
     ]
    },
    {
     "name": "stderr",
     "output_type": "stream",
     "text": [
      " 25%|██▌       | 2/8 [1:03:54<3:19:24, 1994.05s/it]"
     ]
    },
    {
     "name": "stdout",
     "output_type": "stream",
     "text": [
      "['//oit-nas-fe13dc.oit.duke.edu//data_commons-borsuk//unverified_images\\\\student_reviewed_unverified_images_set1/Sunny/student_reviewed_images2/chips_positive'\n",
      " '//oit-nas-fe13dc.oit.duke.edu//data_commons-borsuk//unverified_images\\\\student_reviewed_unverified_images_set1/Sunny/student_reviewed_images2/chips_positive_xml']\n",
      "25 22\n",
      "remaining images 68276\n",
      "25 22\n",
      "remaining images 68342\n",
      "25 22\n",
      "remaining images 68408\n",
      "25 21\n",
      "remaining images 68492\n",
      "25 21\n",
      "remaining images 68576\n",
      "25 22\n",
      "remaining images 68642\n",
      "25 22\n",
      "remaining images 68708\n",
      "25 22\n",
      "remaining images 68774\n",
      "25 22\n",
      "remaining images 68840\n",
      "25 22\n",
      "remaining images 68906\n",
      "25 21\n",
      "remaining images 68990\n",
      "25 22\n",
      "remaining images 69056\n",
      "25 22\n",
      "remaining images 69122\n",
      "25 22\n",
      "remaining images 69188\n",
      "25 22\n",
      "remaining images 69254\n",
      "25 22\n",
      "remaining images 69320\n",
      "25 22\n",
      "remaining images 69386\n",
      "25 22\n",
      "remaining images 69452\n",
      "25 22\n",
      "remaining images 69518\n",
      "25 22\n",
      "remaining images 69584\n",
      "25 22\n",
      "remaining images 69650\n",
      "25 22\n",
      "remaining images 69716\n",
      "25 21\n",
      "remaining images 69800\n",
      "26 22\n",
      "remaining images 69888\n",
      "25 21\n",
      "remaining images 69972\n",
      "25 21\n",
      "remaining images 70056\n",
      "25 22\n",
      "remaining images 70122\n",
      "25 22\n",
      "remaining images 70188\n",
      "25 21\n",
      "remaining images 70272\n",
      "25 22\n",
      "remaining images 70338\n",
      "25 21\n",
      "remaining images 70422\n",
      "25 21\n",
      "remaining images 70506\n",
      "25 21\n",
      "remaining images 70590\n",
      "25 21\n",
      "remaining images 70674\n",
      "25 21\n",
      "remaining images 70758\n",
      "25 21\n",
      "remaining images 70842\n",
      "25 21\n",
      "remaining images 70926\n",
      "25 21\n",
      "remaining images 71010\n",
      "25 21\n",
      "remaining images 71094\n",
      "25 21\n",
      "remaining images 71178\n",
      "25 21\n",
      "remaining images 71262\n",
      "25 21\n",
      "remaining images 71346\n",
      "25 21\n",
      "remaining images 71430\n",
      "25 21\n",
      "remaining images 71514\n",
      "25 21\n",
      "remaining images 71598\n",
      "24 21\n",
      "remaining images 71661\n",
      "24 21\n",
      "remaining images 71724\n",
      "24 21\n",
      "remaining images 71787\n"
     ]
    },
    {
     "name": "stderr",
     "output_type": "stream",
     "text": [
      " 38%|███▊      | 3/8 [1:36:42<2:45:10, 1982.09s/it]"
     ]
    },
    {
     "name": "stdout",
     "output_type": "stream",
     "text": [
      "['//oit-nas-fe13dc.oit.duke.edu//data_commons-borsuk//unverified_images\\\\student_reviewed_unverified_images_set1/Sunny/student_reviewed_images3/chips_positive'\n",
      " '//oit-nas-fe13dc.oit.duke.edu//data_commons-borsuk//unverified_images\\\\student_reviewed_unverified_images_set1/Sunny/student_reviewed_images3/chips_positive_xml']\n",
      "25 20\n",
      "remaining images 71887\n",
      "25 20\n",
      "remaining images 71987\n",
      "25 20\n",
      "remaining images 72087\n",
      "25 20\n",
      "remaining images 72187\n",
      "25 20\n",
      "remaining images 72287\n",
      "25 20\n",
      "remaining images 72387\n",
      "25 20\n",
      "remaining images 72487\n",
      "25 20\n",
      "remaining images 72587\n",
      "25 20\n",
      "remaining images 72687\n",
      "25 20\n",
      "remaining images 72787\n",
      "25 20\n",
      "remaining images 72887\n",
      "26 20\n",
      "remaining images 73007\n",
      "25 20\n",
      "remaining images 73107\n",
      "26 20\n",
      "remaining images 73227\n",
      "26 21\n",
      "remaining images 73332\n",
      "25 21\n",
      "remaining images 73416\n",
      "25 21\n",
      "remaining images 73500\n",
      "26 20\n",
      "remaining images 73620\n",
      "26 21\n",
      "remaining images 73725\n",
      "25 20\n",
      "remaining images 73825\n",
      "25 20\n",
      "remaining images 73925\n",
      "25 21\n",
      "remaining images 74009\n",
      "26 20\n",
      "remaining images 74129\n",
      "26 21\n",
      "remaining images 74234\n",
      "25 20\n",
      "remaining images 74334\n",
      "25 21\n",
      "remaining images 74418\n",
      "25 20\n",
      "remaining images 74518\n",
      "25 21\n",
      "remaining images 74602\n",
      "25 20\n",
      "remaining images 74702\n",
      "25 20\n",
      "remaining images 74802\n",
      "25 20\n",
      "remaining images 74902\n",
      "25 20\n",
      "remaining images 75002\n",
      "25 20\n",
      "remaining images 75102\n",
      "25 20\n",
      "remaining images 75202\n",
      "24 19\n",
      "remaining images 75297\n",
      "24 19\n",
      "remaining images 75392\n",
      "24 19\n",
      "remaining images 75487\n",
      "24 19\n",
      "remaining images 75582\n",
      "24 19\n",
      "remaining images 75677\n",
      "24 19\n",
      "remaining images 75772\n",
      "24 19\n",
      "remaining images 75867\n",
      "24 19\n",
      "remaining images 75962\n",
      "25 20\n",
      "remaining images 76062\n",
      "25 20\n",
      "remaining images 76162\n",
      "25 20\n",
      "remaining images 76262\n",
      "25 20\n",
      "remaining images 76362\n"
     ]
    },
    {
     "name": "stderr",
     "output_type": "stream",
     "text": [
      " 50%|█████     | 4/8 [2:07:02<2:07:51, 1917.90s/it]"
     ]
    },
    {
     "name": "stdout",
     "output_type": "stream",
     "text": [
      "['//oit-nas-fe13dc.oit.duke.edu//data_commons-borsuk//unverified_images\\\\student_reviewed_unverified_images_set1/Sunny/student_reviewed_images4/chips_positive'\n",
      " '//oit-nas-fe13dc.oit.duke.edu//data_commons-borsuk//unverified_images\\\\student_reviewed_unverified_images_set1/Sunny/student_reviewed_images4/chips_positive_xml']\n",
      "25 19\n",
      "remaining images 76476\n",
      "25 19\n",
      "remaining images 76590\n",
      "25 19\n",
      "remaining images 76704\n",
      "25 19\n",
      "remaining images 76818\n",
      "25 19\n",
      "remaining images 76932\n",
      "25 19\n",
      "remaining images 77046\n",
      "24 19\n",
      "remaining images 77141\n",
      "24 19\n",
      "remaining images 77236\n",
      "25 20\n",
      "remaining images 77336\n",
      "24 19\n",
      "remaining images 77431\n",
      "25 20\n",
      "remaining images 77531\n",
      "24 19\n",
      "remaining images 77626\n",
      "25 20\n",
      "remaining images 77726\n",
      "24 19\n",
      "remaining images 77821\n",
      "24 19\n",
      "remaining images 77916\n",
      "25 20\n",
      "remaining images 78016\n",
      "24 19\n",
      "remaining images 78111\n",
      "25 20\n",
      "remaining images 78211\n",
      "25 20\n",
      "remaining images 78311\n",
      "24 19\n",
      "remaining images 78406\n",
      "25 20\n",
      "remaining images 78506\n",
      "25 20\n",
      "remaining images 78606\n",
      "25 20\n",
      "remaining images 78706\n",
      "25 20\n",
      "remaining images 78806\n",
      "25 20\n",
      "remaining images 78906\n",
      "25 20\n",
      "remaining images 79006\n",
      "25 20\n",
      "remaining images 79106\n",
      "25 20\n",
      "remaining images 79206\n",
      "25 20\n",
      "remaining images 79306\n",
      "25 20\n",
      "remaining images 79406\n",
      "25 20\n",
      "remaining images 79506\n",
      "25 20\n",
      "remaining images 79606\n",
      "25 20\n",
      "remaining images 79706\n",
      "25 20\n",
      "remaining images 79806\n",
      "26 20\n",
      "remaining images 79926\n",
      "26 20\n",
      "remaining images 80046\n",
      "26 20\n",
      "remaining images 80166\n",
      "26 20\n",
      "remaining images 80286\n",
      "25 20\n",
      "remaining images 80386\n",
      "25 20\n",
      "remaining images 80486\n",
      "25 20\n",
      "remaining images 80586\n",
      "25 20\n",
      "remaining images 80686\n",
      "25 20\n",
      "remaining images 80786\n",
      "25 20\n",
      "remaining images 80886\n",
      "25 20\n",
      "remaining images 80986\n"
     ]
    },
    {
     "name": "stderr",
     "output_type": "stream",
     "text": [
      " 62%|██████▎   | 5/8 [2:38:54<1:35:47, 1915.82s/it]"
     ]
    },
    {
     "name": "stdout",
     "output_type": "stream",
     "text": [
      "['//oit-nas-fe13dc.oit.duke.edu//data_commons-borsuk//unverified_images\\\\student_reviewed_unverified_images_set1/Sunny/student_reviewed_images5/chips_positive'\n",
      " '//oit-nas-fe13dc.oit.duke.edu//data_commons-borsuk//unverified_images\\\\student_reviewed_unverified_images_set1/Sunny/student_reviewed_images5/chips_positive_xml']\n",
      "25 21\n",
      "remaining images 81070\n",
      "25 21\n",
      "remaining images 81154\n",
      "25 21\n",
      "remaining images 81238\n",
      "25 21\n",
      "remaining images 81322\n",
      "25 21\n",
      "remaining images 81406\n",
      "25 21\n",
      "remaining images 81490\n",
      "25 21\n",
      "remaining images 81574\n",
      "25 21\n",
      "remaining images 81574\n",
      "25 21\n",
      "remaining images 81658\n",
      "26 21\n",
      "remaining images 81763\n",
      "26 21\n",
      "remaining images 81868\n"
     ]
    },
    {
     "name": "stderr",
     "output_type": "stream",
     "text": [
      " 75%|███████▌  | 6/8 [2:45:38<46:43, 1401.77s/it]  "
     ]
    },
    {
     "name": "stdout",
     "output_type": "stream",
     "text": [
      "['//oit-nas-fe13dc.oit.duke.edu//data_commons-borsuk//unverified_images\\\\student_reviewed_unverified_images_set1/Sunny/student_reviewed_images6/chips_positive'\n",
      " '//oit-nas-fe13dc.oit.duke.edu//data_commons-borsuk//unverified_images\\\\student_reviewed_unverified_images_set1/Sunny/student_reviewed_images6/chips_positive_xml']\n",
      "25 20\n",
      "remaining images 81868\n",
      "25 20\n",
      "remaining images 81868\n",
      "25 20\n",
      "remaining images 81968\n",
      "25 20\n",
      "remaining images 81968\n",
      "25 19\n",
      "remaining images 81968\n",
      "25 19\n",
      "remaining images 82082\n",
      "25 19\n",
      "remaining images 82196\n",
      "25 19\n",
      "remaining images 82196\n",
      "25 19\n",
      "remaining images 82196\n",
      "25 19\n",
      "remaining images 82310\n",
      "25 19\n",
      "remaining images 82310\n",
      "24 19\n",
      "remaining images 82310\n",
      "24 19\n",
      "remaining images 82310\n",
      "24 19\n",
      "remaining images 82310\n",
      "24 19\n",
      "remaining images 82310\n",
      "24 19\n",
      "remaining images 82310\n",
      "24 19\n",
      "remaining images 82310\n",
      "24 19\n",
      "remaining images 82405\n",
      "24 19\n",
      "remaining images 82500\n",
      "25 19\n",
      "remaining images 82614\n",
      "25 20\n",
      "remaining images 82714\n",
      "25 20\n",
      "remaining images 82814\n",
      "25 20\n",
      "remaining images 82914\n",
      "25 20\n",
      "remaining images 83014\n",
      "26 20\n",
      "remaining images 83014\n",
      "25 20\n",
      "remaining images 83014\n",
      "25 20\n",
      "remaining images 83014\n",
      "26 20\n",
      "remaining images 83014\n",
      "25 20\n",
      "remaining images 83014\n",
      "25 20\n",
      "remaining images 83014\n",
      "25 20\n",
      "remaining images 83014\n",
      "25 20\n",
      "remaining images 83014\n",
      "25 20\n",
      "remaining images 83014\n",
      "25 19\n",
      "remaining images 83014\n",
      "25 20\n",
      "remaining images 83014\n",
      "25 19\n",
      "remaining images 83014\n",
      "25 20\n",
      "remaining images 83014\n",
      "25 20\n",
      "remaining images 83014\n",
      "25 20\n",
      "remaining images 83014\n",
      "26 20\n",
      "remaining images 83014\n",
      "25 20\n",
      "remaining images 83014\n"
     ]
    },
    {
     "name": "stderr",
     "output_type": "stream",
     "text": [
      " 88%|████████▊ | 7/8 [2:59:01<20:06, 1206.13s/it]"
     ]
    },
    {
     "name": "stdout",
     "output_type": "stream",
     "text": [
      "['//oit-nas-fe13dc.oit.duke.edu//data_commons-borsuk//unverified_images\\\\student_reviewed_unverified_images_set1/Sunny/student_reviewed_images7/chips_positive'\n",
      " '//oit-nas-fe13dc.oit.duke.edu//data_commons-borsuk//unverified_images\\\\student_reviewed_unverified_images_set1/Sunny/student_reviewed_images7/chips_positive_xml']\n",
      "26 20\n",
      "remaining images 83134\n",
      "25 20\n",
      "remaining images 83234\n",
      "25 20\n",
      "remaining images 83334\n",
      "25 21\n",
      "remaining images 83418\n",
      "26 20\n",
      "remaining images 83538\n",
      "25 20\n",
      "remaining images 83638\n",
      "26 21\n",
      "remaining images 83743\n",
      "26 21\n",
      "remaining images 83848\n",
      "25 20\n",
      "remaining images 83948\n",
      "25 20\n",
      "remaining images 83948\n"
     ]
    },
    {
     "name": "stderr",
     "output_type": "stream",
     "text": [
      "100%|██████████| 8/8 [3:05:39<00:00, 1392.48s/it]\n"
     ]
    }
   ],
   "source": [
    "unverified_set1_subfolders_path = os.path.join(parent_directory,\"unverified_images\\student_reviewed_unverified_images_set1\")\n",
    "unverified_set1_subfolders_paths = ap.img_path_anno_path(ap.list_of_sub_directories(unverified_set1_subfolders_path))\n",
    "fc.img_anno_paths_to_corrected_names_for_labeled_images_and_remaining_images(unverified_set1_subfolders_paths[32:], correct_directory, incorrectly_chipped_images_path, \n",
    "                                                                              remaining_chips_path, tiles_complete_dataset_path)"
   ]
  },
  {
   "cell_type": "markdown",
   "id": "f1c31428-9003-4c08-bb22-2dd8859ba813",
   "metadata": {
    "tags": []
   },
   "source": [
    "### Set 2"
   ]
  },
  {
   "cell_type": "code",
   "execution_count": 4,
   "id": "0f2e5007-005d-4e97-987e-a0bad98dd475",
   "metadata": {
    "collapsed": true,
    "jupyter": {
     "outputs_hidden": true
    },
    "tags": []
   },
   "outputs": [
    {
     "name": "stderr",
     "output_type": "stream",
     "text": [
      "  0%|          | 0/11 [00:00<?, ?it/s]"
     ]
    },
    {
     "name": "stdout",
     "output_type": "stream",
     "text": [
      "['//oit-nas-fe13dc.oit.duke.edu//data_commons-borsuk//unverified_images\\\\student_reviewed_unverified_images_set2/Sunny/student_reviewed_images12_Sunny/chips_positive'\n",
      " '//oit-nas-fe13dc.oit.duke.edu//data_commons-borsuk//unverified_images\\\\student_reviewed_unverified_images_set2/Sunny/student_reviewed_images12_Sunny/chips_positive_xml']\n"
     ]
    },
    {
     "name": "stderr",
     "output_type": "stream",
     "text": [
      "  9%|▉         | 1/11 [04:09<41:30, 249.09s/it]"
     ]
    },
    {
     "name": "stdout",
     "output_type": "stream",
     "text": [
      "remaining images 133271\n",
      "['//oit-nas-fe13dc.oit.duke.edu//data_commons-borsuk//unverified_images\\\\student_reviewed_unverified_images_set2/Sunny/student_reviewed_images13_Sunny/chips_positive'\n",
      " '//oit-nas-fe13dc.oit.duke.edu//data_commons-borsuk//unverified_images\\\\student_reviewed_unverified_images_set2/Sunny/student_reviewed_images13_Sunny/chips_positive_xml']\n"
     ]
    },
    {
     "name": "stderr",
     "output_type": "stream",
     "text": [
      " 18%|█▊        | 2/11 [10:56<51:18, 342.05s/it]"
     ]
    },
    {
     "name": "stdout",
     "output_type": "stream",
     "text": [
      "remaining images 133922\n",
      "['//oit-nas-fe13dc.oit.duke.edu//data_commons-borsuk//unverified_images\\\\student_reviewed_unverified_images_set2/Sunny/student_reviewed_images14_Sunny/chips_positive'\n",
      " '//oit-nas-fe13dc.oit.duke.edu//data_commons-borsuk//unverified_images\\\\student_reviewed_unverified_images_set2/Sunny/student_reviewed_images14_Sunny/chips_positive_xml']\n"
     ]
    },
    {
     "name": "stderr",
     "output_type": "stream",
     "text": [
      " 27%|██▋       | 3/11 [17:29<48:43, 365.38s/it]"
     ]
    },
    {
     "name": "stdout",
     "output_type": "stream",
     "text": [
      "remaining images 134905\n",
      "['//oit-nas-fe13dc.oit.duke.edu//data_commons-borsuk//unverified_images\\\\student_reviewed_unverified_images_set2/Sunny/student_reviewed_images8_Sunny/chips_positive'\n",
      " '//oit-nas-fe13dc.oit.duke.edu//data_commons-borsuk//unverified_images\\\\student_reviewed_unverified_images_set2/Sunny/student_reviewed_images8_Sunny/chips_positive_xml']\n"
     ]
    },
    {
     "name": "stderr",
     "output_type": "stream",
     "text": [
      " 36%|███▋      | 4/11 [22:20<39:11, 335.97s/it]"
     ]
    },
    {
     "name": "stdout",
     "output_type": "stream",
     "text": [
      "remaining images 135898\n",
      "['//oit-nas-fe13dc.oit.duke.edu//data_commons-borsuk//unverified_images\\\\student_reviewed_unverified_images_set2/Sunny/student_reviewed_images9_Sunny/chips_positive'\n",
      " '//oit-nas-fe13dc.oit.duke.edu//data_commons-borsuk//unverified_images\\\\student_reviewed_unverified_images_set2/Sunny/student_reviewed_images9_Sunny/chips_positive_xml']\n"
     ]
    },
    {
     "name": "stderr",
     "output_type": "stream",
     "text": [
      " 45%|████▌     | 5/11 [29:24<36:46, 367.78s/it]"
     ]
    },
    {
     "name": "stdout",
     "output_type": "stream",
     "text": [
      "remaining images 138048\n",
      "['//oit-nas-fe13dc.oit.duke.edu//data_commons-borsuk//unverified_images\\\\student_reviewed_unverified_images_set2/Tang/student_reviewed_images1_Tang/chips_positive'\n",
      " '//oit-nas-fe13dc.oit.duke.edu//data_commons-borsuk//unverified_images\\\\student_reviewed_unverified_images_set2/Tang/student_reviewed_images1_Tang/chips_positive_xml']\n"
     ]
    },
    {
     "name": "stderr",
     "output_type": "stream",
     "text": [
      " 55%|█████▍    | 6/11 [35:10<30:01, 360.30s/it]"
     ]
    },
    {
     "name": "stdout",
     "output_type": "stream",
     "text": [
      "remaining images 139069\n",
      "['//oit-nas-fe13dc.oit.duke.edu//data_commons-borsuk//unverified_images\\\\student_reviewed_unverified_images_set2/Tang/student_reviewed_images2_Tang/chips_positive'\n",
      " '//oit-nas-fe13dc.oit.duke.edu//data_commons-borsuk//unverified_images\\\\student_reviewed_unverified_images_set2/Tang/student_reviewed_images2_Tang/chips_positive_xml']\n"
     ]
    },
    {
     "name": "stderr",
     "output_type": "stream",
     "text": [
      " 64%|██████▎   | 7/11 [40:50<23:34, 353.70s/it]"
     ]
    },
    {
     "name": "stdout",
     "output_type": "stream",
     "text": [
      "remaining images 139951\n",
      "['//oit-nas-fe13dc.oit.duke.edu//data_commons-borsuk//unverified_images\\\\student_reviewed_unverified_images_set2/Tang/student_reviewed_images3_Tang/chips_positive'\n",
      " '//oit-nas-fe13dc.oit.duke.edu//data_commons-borsuk//unverified_images\\\\student_reviewed_unverified_images_set2/Tang/student_reviewed_images3_Tang/chips_positive_xml']\n"
     ]
    },
    {
     "name": "stderr",
     "output_type": "stream",
     "text": [
      " 73%|███████▎  | 8/11 [45:41<16:41, 333.85s/it]"
     ]
    },
    {
     "name": "stdout",
     "output_type": "stream",
     "text": [
      "remaining images 140794\n",
      "['//oit-nas-fe13dc.oit.duke.edu//data_commons-borsuk//unverified_images\\\\student_reviewed_unverified_images_set2/Tang/student_reviewed_images4_Tang/chips_positive'\n",
      " '//oit-nas-fe13dc.oit.duke.edu//data_commons-borsuk//unverified_images\\\\student_reviewed_unverified_images_set2/Tang/student_reviewed_images4_Tang/chips_positive_xml']\n"
     ]
    },
    {
     "name": "stderr",
     "output_type": "stream",
     "text": [
      " 82%|████████▏ | 9/11 [52:23<11:50, 355.05s/it]"
     ]
    },
    {
     "name": "stdout",
     "output_type": "stream",
     "text": [
      "remaining images 141837\n",
      "['//oit-nas-fe13dc.oit.duke.edu//data_commons-borsuk//unverified_images\\\\student_reviewed_unverified_images_set2/Tang/student_reviewed_images5_Tang/chips_positive'\n",
      " '//oit-nas-fe13dc.oit.duke.edu//data_commons-borsuk//unverified_images\\\\student_reviewed_unverified_images_set2/Tang/student_reviewed_images5_Tang/chips_positive_xml']\n"
     ]
    },
    {
     "name": "stderr",
     "output_type": "stream",
     "text": [
      " 91%|█████████ | 10/11 [57:54<05:47, 347.61s/it]"
     ]
    },
    {
     "name": "stdout",
     "output_type": "stream",
     "text": [
      "remaining images 142804\n",
      "['//oit-nas-fe13dc.oit.duke.edu//data_commons-borsuk//unverified_images\\\\student_reviewed_unverified_images_set2/Tang/student_reviewed_images6_Tang/chips_positive'\n",
      " '//oit-nas-fe13dc.oit.duke.edu//data_commons-borsuk//unverified_images\\\\student_reviewed_unverified_images_set2/Tang/student_reviewed_images6_Tang/chips_positive_xml']\n"
     ]
    },
    {
     "name": "stderr",
     "output_type": "stream",
     "text": [
      "100%|██████████| 11/11 [1:03:15<00:00, 345.01s/it]"
     ]
    },
    {
     "name": "stdout",
     "output_type": "stream",
     "text": [
      "remaining images 143605\n"
     ]
    },
    {
     "name": "stderr",
     "output_type": "stream",
     "text": [
      "\n"
     ]
    }
   ],
   "source": [
    "unverified_set2_subfolders_path = os.path.join(parent_directory,\"unverified_images\\student_reviewed_unverified_images_set2\")\n",
    "unverified_set2_subfolders_paths = ap.img_path_anno_path(ap.list_of_sub_directories(unverified_set2_subfolders_path))\n",
    "\n",
    "fc.img_anno_paths_to_corrected_names_for_labeled_images_and_remaining_images(unverified_set2_subfolders_paths[45:], correct_directory, incorrectly_chipped_images_path, \n",
    "                                                                              remaining_chips_path, tiles_complete_dataset_path)"
   ]
  },
  {
   "cell_type": "markdown",
   "id": "21bbea24-925c-4c00-a74a-4d84d3d4c8e5",
   "metadata": {
    "tags": []
   },
   "source": [
    "### Set 3"
   ]
  },
  {
   "cell_type": "code",
   "execution_count": 36,
   "id": "eaf52f5e-1456-420e-93e5-4a99d83daaf2",
   "metadata": {
    "collapsed": true,
    "jupyter": {
     "outputs_hidden": true
    },
    "tags": []
   },
   "outputs": [
    {
     "name": "stderr",
     "output_type": "stream",
     "text": [
      "  0%|          | 0/31 [00:00<?, ?it/s]"
     ]
    },
    {
     "name": "stdout",
     "output_type": "stream",
     "text": [
      "['//oit-nas-fe13dc.oit.duke.edu//data_commons-borsuk//unverified_images\\\\student_reviewed_unverified_images_set3/Alvarez/student_reviewed_images4_Alvarez/chips_positive'\n",
      " '//oit-nas-fe13dc.oit.duke.edu//data_commons-borsuk//unverified_images\\\\student_reviewed_unverified_images_set3/Alvarez/student_reviewed_images4_Alvarez/chips_positive_xml']\n"
     ]
    },
    {
     "name": "stderr",
     "output_type": "stream",
     "text": [
      "  3%|▎         | 1/31 [08:06<4:03:24, 486.80s/it]"
     ]
    },
    {
     "name": "stdout",
     "output_type": "stream",
     "text": [
      "remaining images 144679\n",
      "['//oit-nas-fe13dc.oit.duke.edu//data_commons-borsuk//unverified_images\\\\student_reviewed_unverified_images_set3/Alvarez/unverified_images_not_reviewed_by_student5_Alvarez/chips_positive'\n",
      " '//oit-nas-fe13dc.oit.duke.edu//data_commons-borsuk//unverified_images\\\\student_reviewed_unverified_images_set3/Alvarez/unverified_images_not_reviewed_by_student5_Alvarez/chips_positive_xml']\n"
     ]
    },
    {
     "name": "stderr",
     "output_type": "stream",
     "text": [
      "  6%|▋         | 2/31 [14:18<3:22:25, 418.81s/it]"
     ]
    },
    {
     "name": "stdout",
     "output_type": "stream",
     "text": [
      "remaining images 145600\n",
      "['//oit-nas-fe13dc.oit.duke.edu//data_commons-borsuk//unverified_images\\\\student_reviewed_unverified_images_set3/Alvarez/unverified_images_not_reviewed_by_student6_Alvarez/chips_positive'\n",
      " '//oit-nas-fe13dc.oit.duke.edu//data_commons-borsuk//unverified_images\\\\student_reviewed_unverified_images_set3/Alvarez/unverified_images_not_reviewed_by_student6_Alvarez/chips_positive_xml']\n"
     ]
    },
    {
     "name": "stderr",
     "output_type": "stream",
     "text": [
      " 10%|▉         | 3/31 [17:37<2:28:37, 318.48s/it]"
     ]
    },
    {
     "name": "stdout",
     "output_type": "stream",
     "text": [
      "remaining images 146053\n",
      "['//oit-nas-fe13dc.oit.duke.edu//data_commons-borsuk//unverified_images\\\\student_reviewed_unverified_images_set3/Celine/Celine_2/chips_positive'\n",
      " '//oit-nas-fe13dc.oit.duke.edu//data_commons-borsuk//unverified_images\\\\student_reviewed_unverified_images_set3/Celine/Celine_2/chips_positive_xml']\n"
     ]
    },
    {
     "name": "stderr",
     "output_type": "stream",
     "text": [
      " 13%|█▎        | 4/31 [20:30<1:57:33, 261.23s/it]"
     ]
    },
    {
     "name": "stdout",
     "output_type": "stream",
     "text": [
      "remaining images 146557\n",
      "['//oit-nas-fe13dc.oit.duke.edu//data_commons-borsuk//unverified_images\\\\student_reviewed_unverified_images_set3/Cleave/student_reviewed_images8_Cleave/chips_positive'\n",
      " '//oit-nas-fe13dc.oit.duke.edu//data_commons-borsuk//unverified_images\\\\student_reviewed_unverified_images_set3/Cleave/student_reviewed_images8_Cleave/chips_positive_xml']\n"
     ]
    },
    {
     "name": "stderr",
     "output_type": "stream",
     "text": [
      " 16%|█▌        | 5/31 [27:10<2:14:53, 311.29s/it]"
     ]
    },
    {
     "name": "stdout",
     "output_type": "stream",
     "text": [
      "remaining images 147549\n",
      "['//oit-nas-fe13dc.oit.duke.edu//data_commons-borsuk//unverified_images\\\\student_reviewed_unverified_images_set3/Cleave/student_reviewed_images9_Cleave/chips_positive'\n",
      " '//oit-nas-fe13dc.oit.duke.edu//data_commons-borsuk//unverified_images\\\\student_reviewed_unverified_images_set3/Cleave/student_reviewed_images9_Cleave/chips_positive_xml']\n"
     ]
    },
    {
     "name": "stderr",
     "output_type": "stream",
     "text": [
      " 19%|█▉        | 6/31 [33:20<2:17:59, 331.19s/it]"
     ]
    },
    {
     "name": "stdout",
     "output_type": "stream",
     "text": [
      "remaining images 148608\n",
      "['//oit-nas-fe13dc.oit.duke.edu//data_commons-borsuk//unverified_images\\\\student_reviewed_unverified_images_set3/Feinberg/unverified_images_not_reviewed_by_student6_Feinberg/chips_positive'\n",
      " '//oit-nas-fe13dc.oit.duke.edu//data_commons-borsuk//unverified_images\\\\student_reviewed_unverified_images_set3/Feinberg/unverified_images_not_reviewed_by_student6_Feinberg/chips_positive_xml']\n"
     ]
    },
    {
     "name": "stderr",
     "output_type": "stream",
     "text": [
      " 23%|██▎       | 7/31 [38:16<2:07:54, 319.79s/it]"
     ]
    },
    {
     "name": "stdout",
     "output_type": "stream",
     "text": [
      "remaining images 149408\n",
      "['//oit-nas-fe13dc.oit.duke.edu//data_commons-borsuk//unverified_images\\\\student_reviewed_unverified_images_set3/Jaewon/student_reviewed_images8_Jaewon/chips_positive'\n",
      " '//oit-nas-fe13dc.oit.duke.edu//data_commons-borsuk//unverified_images\\\\student_reviewed_unverified_images_set3/Jaewon/student_reviewed_images8_Jaewon/chips_positive_xml']\n"
     ]
    },
    {
     "name": "stderr",
     "output_type": "stream",
     "text": [
      " 26%|██▌       | 8/31 [49:00<2:42:06, 422.88s/it]"
     ]
    },
    {
     "name": "stdout",
     "output_type": "stream",
     "text": [
      "remaining images 152323\n",
      "['//oit-nas-fe13dc.oit.duke.edu//data_commons-borsuk//unverified_images\\\\student_reviewed_unverified_images_set3/Jaewon/unverified_images_not_reviewed_by_student9_Jaewon/chips_positive'\n",
      " '//oit-nas-fe13dc.oit.duke.edu//data_commons-borsuk//unverified_images\\\\student_reviewed_unverified_images_set3/Jaewon/unverified_images_not_reviewed_by_student9_Jaewon/chips_positive_xml']\n"
     ]
    },
    {
     "name": "stderr",
     "output_type": "stream",
     "text": [
      " 29%|██▉       | 9/31 [1:02:32<3:19:37, 544.44s/it]"
     ]
    },
    {
     "name": "stdout",
     "output_type": "stream",
     "text": [
      "remaining images 154628\n",
      "['//oit-nas-fe13dc.oit.duke.edu//data_commons-borsuk//unverified_images\\\\student_reviewed_unverified_images_set3/Josh/student_reviewed_images3_Josh/chips_positive'\n",
      " '//oit-nas-fe13dc.oit.duke.edu//data_commons-borsuk//unverified_images\\\\student_reviewed_unverified_images_set3/Josh/student_reviewed_images3_Josh/chips_positive_xml']\n"
     ]
    },
    {
     "name": "stderr",
     "output_type": "stream",
     "text": [
      " 32%|███▏      | 10/31 [1:16:23<3:41:32, 632.98s/it]"
     ]
    },
    {
     "name": "stdout",
     "output_type": "stream",
     "text": [
      "remaining images 158423\n",
      "['//oit-nas-fe13dc.oit.duke.edu//data_commons-borsuk//unverified_images\\\\student_reviewed_unverified_images_set3/Josh/unverified_images_not_reviewed_by_student4_Josh/chips_positive'\n",
      " '//oit-nas-fe13dc.oit.duke.edu//data_commons-borsuk//unverified_images\\\\student_reviewed_unverified_images_set3/Josh/unverified_images_not_reviewed_by_student4_Josh/chips_positive_xml']\n"
     ]
    },
    {
     "name": "stderr",
     "output_type": "stream",
     "text": [
      " 35%|███▌      | 11/31 [1:29:15<3:45:13, 675.65s/it]"
     ]
    },
    {
     "name": "stdout",
     "output_type": "stream",
     "text": [
      "remaining images 162500\n",
      "['//oit-nas-fe13dc.oit.duke.edu//data_commons-borsuk//unverified_images\\\\student_reviewed_unverified_images_set3/Kang/student_reviewed_images7_Kang/chips_positive'\n",
      " '//oit-nas-fe13dc.oit.duke.edu//data_commons-borsuk//unverified_images\\\\student_reviewed_unverified_images_set3/Kang/student_reviewed_images7_Kang/chips_positive_xml']\n"
     ]
    },
    {
     "name": "stderr",
     "output_type": "stream",
     "text": [
      " 39%|███▊      | 12/31 [1:36:14<3:09:12, 597.52s/it]"
     ]
    },
    {
     "name": "stdout",
     "output_type": "stream",
     "text": [
      "remaining images 163523\n",
      "['//oit-nas-fe13dc.oit.duke.edu//data_commons-borsuk//unverified_images\\\\student_reviewed_unverified_images_set3/Kang/student_reviewed_images8_Kang/chips_positive'\n",
      " '//oit-nas-fe13dc.oit.duke.edu//data_commons-borsuk//unverified_images\\\\student_reviewed_unverified_images_set3/Kang/student_reviewed_images8_Kang/chips_positive_xml']\n"
     ]
    },
    {
     "name": "stderr",
     "output_type": "stream",
     "text": [
      " 42%|████▏     | 13/31 [1:42:37<2:39:47, 532.65s/it]"
     ]
    },
    {
     "name": "stdout",
     "output_type": "stream",
     "text": [
      "remaining images 164354\n",
      "['//oit-nas-fe13dc.oit.duke.edu//data_commons-borsuk//unverified_images\\\\student_reviewed_unverified_images_set3/Kang/unverified_images_not_reviewed_by_student9_Kang/chips_positive'\n",
      " '//oit-nas-fe13dc.oit.duke.edu//data_commons-borsuk//unverified_images\\\\student_reviewed_unverified_images_set3/Kang/unverified_images_not_reviewed_by_student9_Kang/chips_positive_xml']\n"
     ]
    },
    {
     "name": "stderr",
     "output_type": "stream",
     "text": [
      " 45%|████▌     | 14/31 [1:50:27<2:25:30, 513.55s/it]"
     ]
    },
    {
     "name": "stdout",
     "output_type": "stream",
     "text": [
      "remaining images 165521\n",
      "['//oit-nas-fe13dc.oit.duke.edu//data_commons-borsuk//unverified_images\\\\student_reviewed_unverified_images_set3/Katpally/unverified_images_not_reviewed_by_student1_Katpally/chips_positive'\n",
      " '//oit-nas-fe13dc.oit.duke.edu//data_commons-borsuk//unverified_images\\\\student_reviewed_unverified_images_set3/Katpally/unverified_images_not_reviewed_by_student1_Katpally/chips_positive_xml']\n"
     ]
    },
    {
     "name": "stderr",
     "output_type": "stream",
     "text": [
      " 48%|████▊     | 15/31 [1:55:17<1:59:00, 446.27s/it]"
     ]
    },
    {
     "name": "stdout",
     "output_type": "stream",
     "text": [
      "remaining images 166250\n",
      "['//oit-nas-fe13dc.oit.duke.edu//data_commons-borsuk//unverified_images\\\\student_reviewed_unverified_images_set3/Nayak/unverified_images_not_reviewed_by_student2_Nayak/chips_positive'\n",
      " '//oit-nas-fe13dc.oit.duke.edu//data_commons-borsuk//unverified_images\\\\student_reviewed_unverified_images_set3/Nayak/unverified_images_not_reviewed_by_student2_Nayak/chips_positive_xml']\n"
     ]
    },
    {
     "name": "stderr",
     "output_type": "stream",
     "text": [
      " 52%|█████▏    | 16/31 [2:00:22<1:40:54, 403.61s/it]"
     ]
    },
    {
     "name": "stdout",
     "output_type": "stream",
     "text": [
      "remaining images 166973\n",
      "['//oit-nas-fe13dc.oit.duke.edu//data_commons-borsuk//unverified_images\\\\student_reviewed_unverified_images_set3/Niculescu/student_reviewed_images8_Niculescu/chips_positive'\n",
      " '//oit-nas-fe13dc.oit.duke.edu//data_commons-borsuk//unverified_images\\\\student_reviewed_unverified_images_set3/Niculescu/student_reviewed_images8_Niculescu/chips_positive_xml']\n"
     ]
    },
    {
     "name": "stderr",
     "output_type": "stream",
     "text": [
      " 55%|█████▍    | 17/31 [2:04:07<1:21:38, 349.91s/it]"
     ]
    },
    {
     "name": "stdout",
     "output_type": "stream",
     "text": [
      "remaining images 167613\n",
      "['//oit-nas-fe13dc.oit.duke.edu//data_commons-borsuk//unverified_images\\\\student_reviewed_unverified_images_set3/Niculescu/unverified_images_not_reviewed_by_student9_Niculescu/chips_positive'\n",
      " '//oit-nas-fe13dc.oit.duke.edu//data_commons-borsuk//unverified_images\\\\student_reviewed_unverified_images_set3/Niculescu/unverified_images_not_reviewed_by_student9_Niculescu/chips_positive_xml']\n"
     ]
    },
    {
     "name": "stderr",
     "output_type": "stream",
     "text": [
      " 58%|█████▊    | 18/31 [2:06:54<1:03:54, 294.98s/it]"
     ]
    },
    {
     "name": "stdout",
     "output_type": "stream",
     "text": [
      "remaining images 168104\n",
      "['//oit-nas-fe13dc.oit.duke.edu//data_commons-borsuk//unverified_images\\\\student_reviewed_unverified_images_set3/Poonacha/student_reviewed_images10_Poonacha/chips_positive'\n",
      " '//oit-nas-fe13dc.oit.duke.edu//data_commons-borsuk//unverified_images\\\\student_reviewed_unverified_images_set3/Poonacha/student_reviewed_images10_Poonacha/chips_positive_xml']\n"
     ]
    },
    {
     "name": "stderr",
     "output_type": "stream",
     "text": [
      " 61%|██████▏   | 19/31 [2:21:23<1:33:29, 467.49s/it]"
     ]
    },
    {
     "name": "stdout",
     "output_type": "stream",
     "text": [
      "remaining images 170711\n",
      "['//oit-nas-fe13dc.oit.duke.edu//data_commons-borsuk//unverified_images\\\\student_reviewed_unverified_images_set3/Poonacha/student_reviewed_images7_Poonacha/chips_positive'\n",
      " '//oit-nas-fe13dc.oit.duke.edu//data_commons-borsuk//unverified_images\\\\student_reviewed_unverified_images_set3/Poonacha/student_reviewed_images7_Poonacha/chips_positive_xml']\n"
     ]
    },
    {
     "name": "stderr",
     "output_type": "stream",
     "text": [
      " 65%|██████▍   | 20/31 [2:27:01<1:18:34, 428.56s/it]"
     ]
    },
    {
     "name": "stdout",
     "output_type": "stream",
     "text": [
      "remaining images 171572\n",
      "['//oit-nas-fe13dc.oit.duke.edu//data_commons-borsuk//unverified_images\\\\student_reviewed_unverified_images_set3/Poonacha/student_reviewed_images8_Poonacha/chips_positive'\n",
      " '//oit-nas-fe13dc.oit.duke.edu//data_commons-borsuk//unverified_images\\\\student_reviewed_unverified_images_set3/Poonacha/student_reviewed_images8_Poonacha/chips_positive_xml']\n"
     ]
    },
    {
     "name": "stderr",
     "output_type": "stream",
     "text": [
      " 68%|██████▊   | 21/31 [2:31:08<1:02:20, 374.04s/it]"
     ]
    },
    {
     "name": "stdout",
     "output_type": "stream",
     "text": [
      "remaining images 172248\n",
      "['//oit-nas-fe13dc.oit.duke.edu//data_commons-borsuk//unverified_images\\\\student_reviewed_unverified_images_set3/Poonacha/student_reviewed_images9_Poonacha/chips_positive'\n",
      " '//oit-nas-fe13dc.oit.duke.edu//data_commons-borsuk//unverified_images\\\\student_reviewed_unverified_images_set3/Poonacha/student_reviewed_images9_Poonacha/chips_positive_xml']\n"
     ]
    },
    {
     "name": "stderr",
     "output_type": "stream",
     "text": [
      " 71%|███████   | 22/31 [2:51:03<1:33:02, 620.32s/it]"
     ]
    },
    {
     "name": "stdout",
     "output_type": "stream",
     "text": [
      "remaining images 175858\n",
      "['//oit-nas-fe13dc.oit.duke.edu//data_commons-borsuk//unverified_images\\\\student_reviewed_unverified_images_set3/Shen/student_reviewed_images1_Shen/chips_positive'\n",
      " '//oit-nas-fe13dc.oit.duke.edu//data_commons-borsuk//unverified_images\\\\student_reviewed_unverified_images_set3/Shen/student_reviewed_images1_Shen/chips_positive_xml']\n"
     ]
    },
    {
     "name": "stderr",
     "output_type": "stream",
     "text": [
      " 74%|███████▍  | 23/31 [2:54:51<1:07:01, 502.69s/it]"
     ]
    },
    {
     "name": "stdout",
     "output_type": "stream",
     "text": [
      "remaining images 176387\n",
      "['//oit-nas-fe13dc.oit.duke.edu//data_commons-borsuk//unverified_images\\\\student_reviewed_unverified_images_set3/Shen/student_reviewed_images2_Shen/chips_positive'\n",
      " '//oit-nas-fe13dc.oit.duke.edu//data_commons-borsuk//unverified_images\\\\student_reviewed_unverified_images_set3/Shen/student_reviewed_images2_Shen/chips_positive_xml']\n"
     ]
    },
    {
     "name": "stderr",
     "output_type": "stream",
     "text": [
      " 77%|███████▋  | 24/31 [2:56:52<45:17, 388.25s/it]  "
     ]
    },
    {
     "name": "stdout",
     "output_type": "stream",
     "text": [
      "remaining images 176387\n",
      "['//oit-nas-fe13dc.oit.duke.edu//data_commons-borsuk//unverified_images\\\\student_reviewed_unverified_images_set3/Shen/student_reviewed_images3_Shen/chips_positive'\n",
      " '//oit-nas-fe13dc.oit.duke.edu//data_commons-borsuk//unverified_images\\\\student_reviewed_unverified_images_set3/Shen/student_reviewed_images3_Shen/chips_positive_xml']\n"
     ]
    },
    {
     "name": "stderr",
     "output_type": "stream",
     "text": [
      " 81%|████████  | 25/31 [3:02:20<37:00, 370.05s/it]"
     ]
    },
    {
     "name": "stdout",
     "output_type": "stream",
     "text": [
      "remaining images 177332\n",
      "['//oit-nas-fe13dc.oit.duke.edu//data_commons-borsuk//unverified_images\\\\student_reviewed_unverified_images_set3/Shen/unverified_images_not_reviewed_by_student4_Shen/chips_positive'\n",
      " '//oit-nas-fe13dc.oit.duke.edu//data_commons-borsuk//unverified_images\\\\student_reviewed_unverified_images_set3/Shen/unverified_images_not_reviewed_by_student4_Shen/chips_positive_xml']\n"
     ]
    },
    {
     "name": "stderr",
     "output_type": "stream",
     "text": [
      " 84%|████████▍ | 26/31 [3:06:17<27:31, 330.26s/it]"
     ]
    },
    {
     "name": "stdout",
     "output_type": "stream",
     "text": [
      "remaining images 178127\n",
      "['//oit-nas-fe13dc.oit.duke.edu//data_commons-borsuk//unverified_images\\\\student_reviewed_unverified_images_set3/Shen/unverified_images_not_reviewed_by_student5_Shen/chips_positive'\n",
      " '//oit-nas-fe13dc.oit.duke.edu//data_commons-borsuk//unverified_images\\\\student_reviewed_unverified_images_set3/Shen/unverified_images_not_reviewed_by_student5_Shen/chips_positive_xml']\n"
     ]
    },
    {
     "name": "stderr",
     "output_type": "stream",
     "text": [
      " 87%|████████▋ | 27/31 [3:06:41<15:52, 238.25s/it]"
     ]
    },
    {
     "name": "stdout",
     "output_type": "stream",
     "text": [
      "remaining images 178127\n",
      "['//oit-nas-fe13dc.oit.duke.edu//data_commons-borsuk//unverified_images\\\\student_reviewed_unverified_images_set3/Sunny/student_reviewed_images15_Sunny/chips_positive'\n",
      " '//oit-nas-fe13dc.oit.duke.edu//data_commons-borsuk//unverified_images\\\\student_reviewed_unverified_images_set3/Sunny/student_reviewed_images15_Sunny/chips_positive_xml']\n"
     ]
    },
    {
     "name": "stderr",
     "output_type": "stream",
     "text": [
      " 90%|█████████ | 28/31 [3:11:51<12:59, 259.70s/it]"
     ]
    },
    {
     "name": "stdout",
     "output_type": "stream",
     "text": [
      "remaining images 179227\n",
      "['//oit-nas-fe13dc.oit.duke.edu//data_commons-borsuk//unverified_images\\\\student_reviewed_unverified_images_set3/Sunny/unverified_images_not_reviewed_by_student16_Sunny/chips_positive'\n",
      " '//oit-nas-fe13dc.oit.duke.edu//data_commons-borsuk//unverified_images\\\\student_reviewed_unverified_images_set3/Sunny/unverified_images_not_reviewed_by_student16_Sunny/chips_positive_xml']\n"
     ]
    },
    {
     "name": "stderr",
     "output_type": "stream",
     "text": [
      " 94%|█████████▎| 29/31 [3:17:30<09:27, 283.66s/it]"
     ]
    },
    {
     "name": "stdout",
     "output_type": "stream",
     "text": [
      "remaining images 180235\n",
      "['//oit-nas-fe13dc.oit.duke.edu//data_commons-borsuk//unverified_images\\\\student_reviewed_unverified_images_set3/Tang/student_reviewed_images7_Tang/chips_positive'\n",
      " '//oit-nas-fe13dc.oit.duke.edu//data_commons-borsuk//unverified_images\\\\student_reviewed_unverified_images_set3/Tang/student_reviewed_images7_Tang/chips_positive_xml']\n"
     ]
    },
    {
     "name": "stderr",
     "output_type": "stream",
     "text": [
      " 97%|█████████▋| 30/31 [3:23:30<05:06, 306.52s/it]"
     ]
    },
    {
     "name": "stdout",
     "output_type": "stream",
     "text": [
      "remaining images 181082\n",
      "['//oit-nas-fe13dc.oit.duke.edu//data_commons-borsuk//unverified_images\\\\student_reviewed_unverified_images_set3/Tang/student_reviewed_images8_Tang/chips_positive'\n",
      " '//oit-nas-fe13dc.oit.duke.edu//data_commons-borsuk//unverified_images\\\\student_reviewed_unverified_images_set3/Tang/student_reviewed_images8_Tang/chips_positive_xml']\n"
     ]
    },
    {
     "name": "stderr",
     "output_type": "stream",
     "text": [
      "100%|██████████| 31/31 [3:28:27<00:00, 403.46s/it]"
     ]
    },
    {
     "name": "stdout",
     "output_type": "stream",
     "text": [
      "remaining images 181987\n"
     ]
    },
    {
     "name": "stderr",
     "output_type": "stream",
     "text": [
      "\n"
     ]
    }
   ],
   "source": [
    "unverified_set3_subfolders_path = os.path.join(parent_directory,\"unverified_images\\student_reviewed_unverified_images_set3\")\n",
    "unverified_set3_subfolders_paths = ap.img_path_anno_path(ap.list_of_sub_directories(unverified_set3_subfolders_path))\n",
    "fc.img_anno_paths_to_corrected_names_for_labeled_images_and_remaining_images(unverified_set3_subfolders_paths, correct_directory, incorrectly_chipped_images_path, \n",
    "                                                                              remaining_chips_path, tiles_complete_dataset_path)"
   ]
  },
  {
   "cell_type": "markdown",
   "id": "f4d4c8ca-1984-4036-a7b8-6cabaa291239",
   "metadata": {
    "tags": []
   },
   "source": [
    "### Set 4"
   ]
  },
  {
   "cell_type": "code",
   "execution_count": 43,
   "id": "a7ae9893-6d11-4704-ad82-bc812f4351fc",
   "metadata": {
    "collapsed": true,
    "jupyter": {
     "outputs_hidden": true
    },
    "tags": []
   },
   "outputs": [
    {
     "name": "stderr",
     "output_type": "stream",
     "text": [
      "  0%|          | 0/14 [00:00<?, ?it/s]"
     ]
    },
    {
     "name": "stdout",
     "output_type": "stream",
     "text": [
      "['//oit-nas-fe13dc.oit.duke.edu//data_commons-borsuk//unverified_images\\\\student_reviewed_unverified_images_set4/Feinberg/student_reviewed_images7_Feinberg/chips_positive'\n",
      " '//oit-nas-fe13dc.oit.duke.edu//data_commons-borsuk//unverified_images\\\\student_reviewed_unverified_images_set4/Feinberg/student_reviewed_images7_Feinberg/chips_positive_xml']\n"
     ]
    },
    {
     "name": "stderr",
     "output_type": "stream",
     "text": [
      "  7%|▋         | 1/14 [10:27<2:15:52, 627.11s/it]"
     ]
    },
    {
     "name": "stdout",
     "output_type": "stream",
     "text": [
      "remaining images 183267\n",
      "['//oit-nas-fe13dc.oit.duke.edu//data_commons-borsuk//unverified_images\\\\student_reviewed_unverified_images_set4/Feinberg/student_reviewed_images8_Feinberg/chips_positive'\n",
      " '//oit-nas-fe13dc.oit.duke.edu//data_commons-borsuk//unverified_images\\\\student_reviewed_unverified_images_set4/Feinberg/student_reviewed_images8_Feinberg/chips_positive_xml']\n"
     ]
    },
    {
     "name": "stderr",
     "output_type": "stream",
     "text": [
      " 14%|█▍        | 2/14 [24:29<2:30:41, 753.47s/it]"
     ]
    },
    {
     "name": "stdout",
     "output_type": "stream",
     "text": [
      "remaining images 184190\n",
      "['//oit-nas-fe13dc.oit.duke.edu//data_commons-borsuk//unverified_images\\\\student_reviewed_unverified_images_set4/Feinberg/student_reviewed_images9_Feinberg/chips_positive'\n",
      " '//oit-nas-fe13dc.oit.duke.edu//data_commons-borsuk//unverified_images\\\\student_reviewed_unverified_images_set4/Feinberg/student_reviewed_images9_Feinberg/chips_positive_xml']\n"
     ]
    },
    {
     "name": "stderr",
     "output_type": "stream",
     "text": [
      " 21%|██▏       | 3/14 [30:57<1:47:34, 586.75s/it]"
     ]
    },
    {
     "name": "stdout",
     "output_type": "stream",
     "text": [
      "remaining images 185116\n",
      "['//oit-nas-fe13dc.oit.duke.edu//data_commons-borsuk//unverified_images\\\\student_reviewed_unverified_images_set4/Kang/student_reviewed_images10_Kang/chips_positive'\n",
      " '//oit-nas-fe13dc.oit.duke.edu//data_commons-borsuk//unverified_images\\\\student_reviewed_unverified_images_set4/Kang/student_reviewed_images10_Kang/chips_positive_xml']\n"
     ]
    },
    {
     "name": "stderr",
     "output_type": "stream",
     "text": [
      " 29%|██▊       | 4/14 [35:29<1:17:07, 462.73s/it]"
     ]
    },
    {
     "name": "stdout",
     "output_type": "stream",
     "text": [
      "remaining images 186087\n",
      "['//oit-nas-fe13dc.oit.duke.edu//data_commons-borsuk//unverified_images\\\\student_reviewed_unverified_images_set4/Kang/student_reviewed_images11_Kang/chips_positive'\n",
      " '//oit-nas-fe13dc.oit.duke.edu//data_commons-borsuk//unverified_images\\\\student_reviewed_unverified_images_set4/Kang/student_reviewed_images11_Kang/chips_positive_xml']\n"
     ]
    },
    {
     "name": "stderr",
     "output_type": "stream",
     "text": [
      " 36%|███▌      | 5/14 [38:49<55:11, 367.94s/it]  "
     ]
    },
    {
     "name": "stdout",
     "output_type": "stream",
     "text": [
      "remaining images 186736\n",
      "['//oit-nas-fe13dc.oit.duke.edu//data_commons-borsuk//unverified_images\\\\student_reviewed_unverified_images_set4/Kang/unverified_images_not_reviewed_by_student12_Kang/chips_positive'\n",
      " '//oit-nas-fe13dc.oit.duke.edu//data_commons-borsuk//unverified_images\\\\student_reviewed_unverified_images_set4/Kang/unverified_images_not_reviewed_by_student12_Kang/chips_positive_xml']\n"
     ]
    },
    {
     "name": "stderr",
     "output_type": "stream",
     "text": [
      " 43%|████▎     | 6/14 [45:13<49:46, 373.33s/it]"
     ]
    },
    {
     "name": "stdout",
     "output_type": "stream",
     "text": [
      "remaining images 187729\n",
      "['//oit-nas-fe13dc.oit.duke.edu//data_commons-borsuk//unverified_images\\\\student_reviewed_unverified_images_set4/Kang/unverified_images_not_reviewed_by_student13_Kang/chips_positive'\n",
      " '//oit-nas-fe13dc.oit.duke.edu//data_commons-borsuk//unverified_images\\\\student_reviewed_unverified_images_set4/Kang/unverified_images_not_reviewed_by_student13_Kang/chips_positive_xml']\n"
     ]
    },
    {
     "name": "stderr",
     "output_type": "stream",
     "text": [
      " 50%|█████     | 7/14 [52:41<46:24, 397.77s/it]"
     ]
    },
    {
     "name": "stdout",
     "output_type": "stream",
     "text": [
      "remaining images 189056\n",
      "['//oit-nas-fe13dc.oit.duke.edu//data_commons-borsuk//unverified_images\\\\student_reviewed_unverified_images_set4/Nayak/unverified_images_not_reviewed_by_student3_Nayak/chips_positive'\n",
      " '//oit-nas-fe13dc.oit.duke.edu//data_commons-borsuk//unverified_images\\\\student_reviewed_unverified_images_set4/Nayak/unverified_images_not_reviewed_by_student3_Nayak/chips_positive_xml']\n"
     ]
    },
    {
     "name": "stderr",
     "output_type": "stream",
     "text": [
      " 57%|█████▋    | 8/14 [58:46<38:43, 387.31s/it]"
     ]
    },
    {
     "name": "stdout",
     "output_type": "stream",
     "text": [
      "remaining images 189708\n",
      "['//oit-nas-fe13dc.oit.duke.edu//data_commons-borsuk//unverified_images\\\\student_reviewed_unverified_images_set4/Poonacha/student_reviewed_images11_Poonacha/chips_positive'\n",
      " '//oit-nas-fe13dc.oit.duke.edu//data_commons-borsuk//unverified_images\\\\student_reviewed_unverified_images_set4/Poonacha/student_reviewed_images11_Poonacha/chips_positive_xml']\n"
     ]
    },
    {
     "name": "stderr",
     "output_type": "stream",
     "text": [
      " 64%|██████▍   | 9/14 [1:02:09<27:28, 329.68s/it]"
     ]
    },
    {
     "name": "stdout",
     "output_type": "stream",
     "text": [
      "remaining images 190227\n",
      "['//oit-nas-fe13dc.oit.duke.edu//data_commons-borsuk//unverified_images\\\\student_reviewed_unverified_images_set4/Poonacha/student_reviewed_images12_Poonacha/chips_positive'\n",
      " '//oit-nas-fe13dc.oit.duke.edu//data_commons-borsuk//unverified_images\\\\student_reviewed_unverified_images_set4/Poonacha/student_reviewed_images12_Poonacha/chips_positive_xml']\n"
     ]
    },
    {
     "name": "stderr",
     "output_type": "stream",
     "text": [
      " 71%|███████▏  | 10/14 [1:06:17<20:17, 304.41s/it]"
     ]
    },
    {
     "name": "stdout",
     "output_type": "stream",
     "text": [
      "remaining images 190678\n",
      "['//oit-nas-fe13dc.oit.duke.edu//data_commons-borsuk//unverified_images\\\\student_reviewed_unverified_images_set4/Poonacha/student_reviewed_images13_Poonacha/chips_positive'\n",
      " '//oit-nas-fe13dc.oit.duke.edu//data_commons-borsuk//unverified_images\\\\student_reviewed_unverified_images_set4/Poonacha/student_reviewed_images13_Poonacha/chips_positive_xml']\n"
     ]
    },
    {
     "name": "stderr",
     "output_type": "stream",
     "text": [
      " 79%|███████▊  | 11/14 [1:10:20<14:16, 285.50s/it]"
     ]
    },
    {
     "name": "stdout",
     "output_type": "stream",
     "text": [
      "remaining images 191205\n",
      "['//oit-nas-fe13dc.oit.duke.edu//data_commons-borsuk//unverified_images\\\\student_reviewed_unverified_images_set4/Poonacha/student_reviewed_images14_Poonacha/chips_positive'\n",
      " '//oit-nas-fe13dc.oit.duke.edu//data_commons-borsuk//unverified_images\\\\student_reviewed_unverified_images_set4/Poonacha/student_reviewed_images14_Poonacha/chips_positive_xml']\n"
     ]
    },
    {
     "name": "stderr",
     "output_type": "stream",
     "text": [
      " 86%|████████▌ | 12/14 [1:18:53<11:49, 354.95s/it]"
     ]
    },
    {
     "name": "stdout",
     "output_type": "stream",
     "text": [
      "remaining images 192403\n",
      "['//oit-nas-fe13dc.oit.duke.edu//data_commons-borsuk//unverified_images\\\\student_reviewed_unverified_images_set4/Poonacha/unverified_images_not_reviewed_by_student15_Poonacha/chips_positive'\n",
      " '//oit-nas-fe13dc.oit.duke.edu//data_commons-borsuk//unverified_images\\\\student_reviewed_unverified_images_set4/Poonacha/unverified_images_not_reviewed_by_student15_Poonacha/chips_positive_xml']\n"
     ]
    },
    {
     "name": "stderr",
     "output_type": "stream",
     "text": [
      " 93%|█████████▎| 13/14 [1:24:40<05:52, 352.38s/it]"
     ]
    },
    {
     "name": "stdout",
     "output_type": "stream",
     "text": [
      "remaining images 193292\n",
      "['//oit-nas-fe13dc.oit.duke.edu//data_commons-borsuk//unverified_images\\\\student_reviewed_unverified_images_set4/Poonacha/unverified_images_not_reviewed_by_student16_Poonacha/chips_positive'\n",
      " '//oit-nas-fe13dc.oit.duke.edu//data_commons-borsuk//unverified_images\\\\student_reviewed_unverified_images_set4/Poonacha/unverified_images_not_reviewed_by_student16_Poonacha/chips_positive_xml']\n"
     ]
    },
    {
     "name": "stderr",
     "output_type": "stream",
     "text": [
      "100%|██████████| 14/14 [1:28:37<00:00, 379.80s/it]"
     ]
    },
    {
     "name": "stdout",
     "output_type": "stream",
     "text": [
      "remaining images 193991\n"
     ]
    },
    {
     "name": "stderr",
     "output_type": "stream",
     "text": [
      "\n"
     ]
    }
   ],
   "source": [
    "unverified_set4_subfolders_path = os.path.join(parent_directory,\"unverified_images\\student_reviewed_unverified_images_set4\")\n",
    "unverified_set4_subfolders_paths = ap.img_path_anno_path(ap.list_of_sub_directories(unverified_set4_subfolders_path))\n",
    "\n",
    "fc.img_anno_paths_to_corrected_names_for_labeled_images_and_remaining_images(unverified_set4_subfolders_paths, correct_directory, incorrectly_chipped_images_path, \n",
    "                                                                              remaining_chips_path, tiles_complete_dataset_path)"
   ]
  },
  {
   "cell_type": "markdown",
   "id": "626b1329-1b82-412b-b9fe-555ab0a26701",
   "metadata": {
    "tags": []
   },
   "source": [
    "## Verified Sets "
   ]
  },
  {
   "cell_type": "code",
   "execution_count": 116,
   "id": "f572e85d-07e4-449f-bf68-452898a3646a",
   "metadata": {
    "collapsed": true,
    "jupyter": {
     "outputs_hidden": true
    },
    "tags": []
   },
   "outputs": [
    {
     "name": "stderr",
     "output_type": "stream",
     "text": [
      "  0%|                                                                                           | 0/23 [00:00<?, ?it/s]"
     ]
    },
    {
     "name": "stdout",
     "output_type": "stream",
     "text": [
      "['//oit-nas-fe13dc.oit.duke.edu//data_commons-borsuk//verified/verification_set6/verify_Cleave_Sunny_Robinson_6/chips_positive'\n",
      " '//oit-nas-fe13dc.oit.duke.edu//data_commons-borsuk//verified/verification_set6/verify_Cleave_Sunny_Robinson_6/chips_positive_xml']\n"
     ]
    },
    {
     "name": "stderr",
     "output_type": "stream",
     "text": [
      "  0%|                                                                                           | 0/23 [00:13<?, ?it/s]\n"
     ]
    },
    {
     "ename": "KeyboardInterrupt",
     "evalue": "",
     "output_type": "error",
     "traceback": [
      "\u001b[1;31m---------------------------------------------------------------------------\u001b[0m",
      "\u001b[1;31mKeyboardInterrupt\u001b[0m                         Traceback (most recent call last)",
      "\u001b[1;32mC:\\Users\\RAPIDU~1\\AppData\\Local\\Temp/ipykernel_12004/3176906926.py\u001b[0m in \u001b[0;36m<module>\u001b[1;34m\u001b[0m\n\u001b[0;32m      1\u001b[0m \u001b[0mverified_set_path\u001b[0m \u001b[1;33m=\u001b[0m \u001b[0mos\u001b[0m\u001b[1;33m.\u001b[0m\u001b[0mpath\u001b[0m\u001b[1;33m.\u001b[0m\u001b[0mjoin\u001b[0m\u001b[1;33m(\u001b[0m\u001b[0mparent_directory\u001b[0m\u001b[1;33m,\u001b[0m\u001b[1;34m\"verified\"\u001b[0m\u001b[1;33m)\u001b[0m\u001b[1;33m\u001b[0m\u001b[1;33m\u001b[0m\u001b[0m\n\u001b[0;32m      2\u001b[0m \u001b[0mverified_set_paths\u001b[0m \u001b[1;33m=\u001b[0m \u001b[0map\u001b[0m\u001b[1;33m.\u001b[0m\u001b[0mimg_path_anno_path\u001b[0m\u001b[1;33m(\u001b[0m\u001b[0map\u001b[0m\u001b[1;33m.\u001b[0m\u001b[0mlist_of_sub_directories\u001b[0m\u001b[1;33m(\u001b[0m\u001b[0mverified_set_path\u001b[0m\u001b[1;33m)\u001b[0m\u001b[1;33m)\u001b[0m\u001b[1;33m\u001b[0m\u001b[1;33m\u001b[0m\u001b[0m\n\u001b[1;32m----> 3\u001b[1;33m fc.img_anno_paths_to_corrected_names_for_labeled_images_and_remaining_images(verified_set_paths, correct_directory, incorrectly_chipped_images_path, \n\u001b[0m\u001b[0;32m      4\u001b[0m                                                                               remaining_chips_path, tiles_complete_dataset_path)\n",
      "\u001b[1;32m~\\cred\\AST_dataset\\data_download_and_preprocessing\\data_eng\\form_calcs.py\u001b[0m in \u001b[0;36mimg_anno_paths_to_corrected_names_for_labeled_images_and_remaining_images\u001b[1;34m(img_paths_anno_paths, correct_directory, incorrectly_chipped_images_path, remaining_chips_path, tiles_complete_dataset_path)\u001b[0m\n\u001b[0;32m   1343\u001b[0m \u001b[1;33m\u001b[0m\u001b[0m\n\u001b[0;32m   1344\u001b[0m             \u001b[1;31m#identify and save remaining images; match name of previous naming convention and row/col naming convention\u001b[0m\u001b[1;33m\u001b[0m\u001b[1;33m\u001b[0m\u001b[0m\n\u001b[1;32m-> 1345\u001b[1;33m             \u001b[0mys\u001b[0m\u001b[1;33m,\u001b[0m \u001b[0mxs\u001b[0m\u001b[1;33m,\u001b[0m \u001b[0mchip_name_incorrectly_chip_names\u001b[0m\u001b[1;33m,\u001b[0m \u001b[0mchip_name_correct_chip_names\u001b[0m \u001b[1;33m=\u001b[0m  \u001b[0mincorrectly_chipped_image_and_correctly_chipped_names\u001b[0m\u001b[1;33m(\u001b[0m\u001b[0mincorrectly_chipped_images_path\u001b[0m\u001b[1;33m,\u001b[0m \u001b[0mremaining_chips_path\u001b[0m\u001b[1;33m,\u001b[0m                                                                                        \u001b[0mtiles_complete_dataset_path\u001b[0m\u001b[1;33m,\u001b[0m \u001b[0mtile_name\u001b[0m\u001b[1;33m)\u001b[0m\u001b[1;33m\u001b[0m\u001b[1;33m\u001b[0m\u001b[0m\n\u001b[0m\u001b[0;32m   1346\u001b[0m \u001b[1;33m\u001b[0m\u001b[0m\n\u001b[0;32m   1347\u001b[0m             \u001b[1;31m#identify labeled images that are correct; copy and rename correct images and xmls\u001b[0m\u001b[1;33m\u001b[0m\u001b[1;33m\u001b[0m\u001b[0m\n",
      "\u001b[1;32m~\\cred\\AST_dataset\\data_download_and_preprocessing\\data_eng\\form_calcs.py\u001b[0m in \u001b[0;36mincorrectly_chipped_image_and_correctly_chipped_names\u001b[1;34m(incorrectly_chipped_images_path, remaining_chips_path, tiles_complete_dataset_path, tile_name)\u001b[0m\n\u001b[0;32m   1159\u001b[0m     \"\"\"\n\u001b[0;32m   1160\u001b[0m     \u001b[0mitem_dim\u001b[0m \u001b[1;33m=\u001b[0m \u001b[0mint\u001b[0m\u001b[1;33m(\u001b[0m\u001b[1;36m512\u001b[0m\u001b[1;33m)\u001b[0m\u001b[1;33m\u001b[0m\u001b[1;33m\u001b[0m\u001b[0m\n\u001b[1;32m-> 1161\u001b[1;33m     \u001b[0mtile\u001b[0m \u001b[1;33m=\u001b[0m \u001b[0mcv2\u001b[0m\u001b[1;33m.\u001b[0m\u001b[0mimread\u001b[0m\u001b[1;33m(\u001b[0m\u001b[0mos\u001b[0m\u001b[1;33m.\u001b[0m\u001b[0mpath\u001b[0m\u001b[1;33m.\u001b[0m\u001b[0mjoin\u001b[0m\u001b[1;33m(\u001b[0m\u001b[0mtiles_complete_dataset_path\u001b[0m\u001b[1;33m,\u001b[0m \u001b[0mtile_name\u001b[0m \u001b[1;33m+\u001b[0m \u001b[1;34m\".tif\"\u001b[0m\u001b[1;33m)\u001b[0m\u001b[1;33m,\u001b[0m \u001b[0mcv2\u001b[0m\u001b[1;33m.\u001b[0m\u001b[0mIMREAD_UNCHANGED\u001b[0m\u001b[1;33m)\u001b[0m\u001b[1;33m\u001b[0m\u001b[1;33m\u001b[0m\u001b[0m\n\u001b[0m\u001b[0;32m   1162\u001b[0m     \u001b[0mtile_height\u001b[0m\u001b[1;33m,\u001b[0m  \u001b[0mtile_width\u001b[0m\u001b[1;33m,\u001b[0m  \u001b[0mtile_channels\u001b[0m \u001b[1;33m=\u001b[0m \u001b[0mtile\u001b[0m\u001b[1;33m.\u001b[0m\u001b[0mshape\u001b[0m \u001b[1;31m#the size of the tile\u001b[0m\u001b[1;33m\u001b[0m\u001b[1;33m\u001b[0m\u001b[0m\n\u001b[0;32m   1163\u001b[0m     \u001b[0mrow_index\u001b[0m \u001b[1;33m=\u001b[0m \u001b[0mmath\u001b[0m\u001b[1;33m.\u001b[0m\u001b[0mceil\u001b[0m\u001b[1;33m(\u001b[0m\u001b[0mtile_height\u001b[0m\u001b[1;33m/\u001b[0m\u001b[1;36m512\u001b[0m\u001b[1;33m)\u001b[0m\u001b[1;33m\u001b[0m\u001b[1;33m\u001b[0m\u001b[0m\n",
      "\u001b[1;31mKeyboardInterrupt\u001b[0m: "
     ]
    }
   ],
   "source": [
    "verified_set_path = os.path.join(parent_directory,\"verified/verified_state_year_image_name_format\")\n",
    "verified_set_paths = ap.img_path_anno_path(ap.list_of_sub_directories(verified_set_path))\n",
    "fc.img_anno_paths_to_corrected_names_for_labeled_images_and_remaining_images(verified_set_paths, correct_directory, incorrectly_chipped_images_path, \n",
    "                                                                              remaining_chips_path, tiles_complete_dataset_path)"
   ]
  },
  {
   "cell_type": "markdown",
   "id": "034bc386-a4ea-4452-826b-4ad7195e7e18",
   "metadata": {
    "tags": []
   },
   "source": [
    "# Images with standard quadrangle naming format\n",
    "- Confirm that the name correctly matches the content (the name and tile/position match)"
   ]
  },
  {
   "cell_type": "code",
   "execution_count": null,
   "id": "5906d622-6e90-4256-9925-301963259b8b",
   "metadata": {},
   "outputs": [],
   "source": [
    "# add chips to rechipped folder\n",
    "for tile_name in tqdm.tqdm(folders_of_images_xmls_by_tile):\n",
    "    add_chips_to_chip_folders(img_anno_directory, tile_name)"
   ]
  },
  {
   "cell_type": "code",
   "execution_count": 73,
   "id": "a46fd7cd-6de2-4849-beb5-f69e5dec7dbb",
   "metadata": {
    "collapsed": true,
    "jupyter": {
     "outputs_hidden": true
    },
    "tags": []
   },
   "outputs": [
    {
     "name": "stderr",
     "output_type": "stream",
     "text": [
      "  0%|                                                                                            | 0/7 [00:00<?, ?it/s]\n",
      "  0%|                                                                                          | 0/113 [00:00<?, ?it/s]\u001b[A\n",
      "  1%|▋                                                                                 | 1/113 [00:12<22:55, 12.28s/it]\u001b[A\n",
      "  2%|█▍                                                                                | 2/113 [00:20<18:02,  9.76s/it]\u001b[A\n",
      "  3%|██▏                                                                               | 3/113 [00:33<21:05, 11.50s/it]\u001b[A\n",
      "  4%|██▉                                                                               | 4/113 [00:49<24:00, 13.22s/it]\u001b[A\n",
      "  4%|███▋                                                                              | 5/113 [01:15<31:59, 17.77s/it]\u001b[A\n",
      "  5%|████▎                                                                             | 6/113 [01:45<39:17, 22.04s/it]\u001b[A\n",
      "  6%|█████                                                                             | 7/113 [02:05<37:38, 21.31s/it]\u001b[A\n",
      "  7%|█████▊                                                                            | 8/113 [02:30<39:06, 22.35s/it]\u001b[A\n",
      "  8%|██████▌                                                                           | 9/113 [02:39<31:42, 18.29s/it]\u001b[A\n",
      "  9%|███████▏                                                                         | 10/113 [02:46<25:32, 14.88s/it]\u001b[A\n",
      " 10%|███████▉                                                                         | 11/113 [02:59<24:12, 14.25s/it]\u001b[A\n",
      " 11%|████████▌                                                                        | 12/113 [03:09<21:53, 13.01s/it]\u001b[A\n",
      " 12%|█████████▎                                                                       | 13/113 [03:27<24:16, 14.57s/it]\u001b[A\n",
      " 12%|██████████                                                                       | 14/113 [03:39<22:27, 13.61s/it]\u001b[A\n",
      " 13%|██████████▊                                                                      | 15/113 [03:48<19:47, 12.12s/it]\u001b[A\n",
      " 14%|███████████▍                                                                     | 16/113 [03:56<17:43, 10.96s/it]\u001b[A\n",
      " 15%|████████████▏                                                                    | 17/113 [04:04<16:03, 10.03s/it]\u001b[A\n",
      " 16%|████████████▉                                                                    | 18/113 [04:11<14:39,  9.26s/it]\u001b[A\n",
      " 17%|█████████████▌                                                                   | 19/113 [04:19<13:56,  8.90s/it]\u001b[A\n",
      " 18%|██████████████▎                                                                  | 20/113 [04:29<14:06,  9.10s/it]\u001b[A\n",
      " 19%|███████████████                                                                  | 21/113 [04:37<13:29,  8.80s/it]\u001b[A\n",
      " 19%|███████████████▊                                                                 | 22/113 [04:48<14:25,  9.51s/it]\u001b[A\n",
      " 20%|████████████████▍                                                                | 23/113 [04:57<13:48,  9.21s/it]\u001b[A\n",
      " 21%|█████████████████▏                                                               | 24/113 [05:06<13:35,  9.17s/it]\u001b[A\n",
      " 22%|█████████████████▉                                                               | 25/113 [05:14<13:10,  8.99s/it]\u001b[A\n",
      " 23%|██████████████████▋                                                              | 26/113 [05:22<12:29,  8.61s/it]\u001b[A\n",
      " 24%|███████████████████▎                                                             | 27/113 [05:29<11:50,  8.26s/it]\u001b[A\n",
      " 25%|████████████████████                                                             | 28/113 [05:37<11:33,  8.16s/it]\u001b[A\n",
      " 26%|████████████████████▊                                                            | 29/113 [05:46<11:39,  8.33s/it]\u001b[A\n",
      " 27%|█████████████████████▌                                                           | 30/113 [05:54<11:24,  8.25s/it]\u001b[A\n",
      " 27%|██████████████████████▏                                                          | 31/113 [06:02<11:12,  8.20s/it]\u001b[A\n",
      " 28%|██████████████████████▉                                                          | 32/113 [06:10<10:50,  8.03s/it]\u001b[A\n",
      " 29%|███████████████████████▋                                                         | 33/113 [06:18<10:34,  7.93s/it]\u001b[A\n",
      " 30%|████████████████████████▎                                                        | 34/113 [06:26<10:32,  8.01s/it]\u001b[A\n",
      " 31%|█████████████████████████                                                        | 35/113 [06:34<10:39,  8.20s/it]\u001b[A\n",
      " 32%|█████████████████████████▊                                                       | 36/113 [06:44<11:07,  8.67s/it]\u001b[A\n",
      " 33%|██████████████████████████▌                                                      | 37/113 [06:52<10:36,  8.37s/it]\u001b[A\n",
      " 34%|███████████████████████████▏                                                     | 38/113 [07:00<10:34,  8.46s/it]\u001b[A\n",
      " 35%|███████████████████████████▉                                                     | 39/113 [07:08<10:11,  8.26s/it]\u001b[A\n",
      " 35%|████████████████████████████▋                                                    | 40/113 [07:19<10:57,  9.01s/it]\u001b[A\n",
      " 36%|█████████████████████████████▍                                                   | 41/113 [07:27<10:17,  8.58s/it]\u001b[A\n",
      " 37%|██████████████████████████████                                                   | 42/113 [07:36<10:26,  8.82s/it]\u001b[A\n",
      " 38%|██████████████████████████████▊                                                  | 43/113 [07:45<10:28,  8.98s/it]\u001b[A\n",
      " 39%|███████████████████████████████▌                                                 | 44/113 [07:54<10:12,  8.87s/it]\u001b[A\n",
      " 40%|████████████████████████████████▎                                                | 45/113 [08:03<10:12,  9.01s/it]\u001b[A\n",
      " 41%|████████████████████████████████▉                                                | 46/113 [08:12<09:49,  8.79s/it]\u001b[A\n",
      " 42%|█████████████████████████████████▋                                               | 47/113 [08:20<09:35,  8.72s/it]\u001b[A\n",
      " 42%|██████████████████████████████████▍                                              | 48/113 [08:28<09:11,  8.48s/it]\u001b[A\n",
      " 43%|███████████████████████████████████                                              | 49/113 [08:37<09:02,  8.48s/it]\u001b[A\n",
      " 44%|███████████████████████████████████▊                                             | 50/113 [08:45<08:57,  8.53s/it]\u001b[A\n",
      " 45%|████████████████████████████████████▌                                            | 51/113 [08:55<09:06,  8.82s/it]\u001b[A\n",
      " 46%|█████████████████████████████████████▎                                           | 52/113 [09:05<09:29,  9.34s/it]\u001b[A\n",
      " 47%|█████████████████████████████████████▉                                           | 53/113 [09:15<09:28,  9.48s/it]\u001b[A\n",
      " 48%|██████████████████████████████████████▋                                          | 54/113 [09:23<09:00,  9.16s/it]\u001b[A\n",
      " 49%|███████████████████████████████████████▍                                         | 55/113 [09:32<08:36,  8.90s/it]\u001b[A\n",
      " 50%|████████████████████████████████████████▏                                        | 56/113 [09:40<08:09,  8.59s/it]\u001b[A\n",
      " 50%|████████████████████████████████████████▊                                        | 57/113 [09:47<07:46,  8.34s/it]\u001b[A\n",
      " 51%|█████████████████████████████████████████▌                                       | 58/113 [09:55<07:25,  8.09s/it]\u001b[A\n",
      " 52%|██████████████████████████████████████████▎                                      | 59/113 [10:02<07:00,  7.79s/it]\u001b[A\n",
      " 53%|███████████████████████████████████████████                                      | 60/113 [10:10<06:57,  7.88s/it]\u001b[A\n",
      " 54%|███████████████████████████████████████████▋                                     | 61/113 [10:19<07:06,  8.19s/it]\u001b[A\n",
      " 55%|████████████████████████████████████████████▍                                    | 62/113 [10:27<06:51,  8.06s/it]\u001b[A\n",
      " 56%|█████████████████████████████████████████████▏                                   | 63/113 [10:34<06:36,  7.93s/it]\u001b[A\n",
      " 57%|█████████████████████████████████████████████▉                                   | 64/113 [10:43<06:32,  8.01s/it]\u001b[A\n",
      " 58%|██████████████████████████████████████████████▌                                  | 65/113 [10:52<06:39,  8.31s/it]\u001b[A\n",
      " 58%|███████████████████████████████████████████████▎                                 | 66/113 [11:01<06:41,  8.55s/it]\u001b[A\n",
      " 59%|████████████████████████████████████████████████                                 | 67/113 [11:11<06:55,  9.02s/it]\u001b[A\n",
      " 60%|████████████████████████████████████████████████▋                                | 68/113 [11:21<07:00,  9.35s/it]\u001b[A\n",
      " 61%|█████████████████████████████████████████████████▍                               | 69/113 [11:29<06:35,  8.98s/it]\u001b[A\n",
      " 62%|██████████████████████████████████████████████████▏                              | 70/113 [11:38<06:24,  8.95s/it]\u001b[A\n",
      " 63%|██████████████████████████████████████████████████▉                              | 71/113 [11:45<05:51,  8.37s/it]\u001b[A\n",
      " 64%|███████████████████████████████████████████████████▌                             | 72/113 [11:52<05:22,  7.86s/it]\u001b[A\n",
      " 65%|████████████████████████████████████████████████████▎                            | 73/113 [11:58<04:56,  7.41s/it]\u001b[A\n",
      " 65%|█████████████████████████████████████████████████████                            | 74/113 [12:05<04:40,  7.20s/it]\u001b[A\n",
      " 66%|█████████████████████████████████████████████████████▊                           | 75/113 [12:11<04:28,  7.06s/it]\u001b[A\n",
      " 67%|██████████████████████████████████████████████████████▍                          | 76/113 [12:18<04:19,  7.02s/it]\u001b[A\n",
      " 68%|███████████████████████████████████████████████████████▏                         | 77/113 [12:25<04:13,  7.04s/it]\u001b[A\n",
      " 69%|███████████████████████████████████████████████████████▉                         | 78/113 [12:32<04:06,  7.03s/it]\u001b[A\n",
      " 70%|████████████████████████████████████████████████████████▋                        | 79/113 [12:41<04:10,  7.35s/it]\u001b[A\n",
      " 71%|█████████████████████████████████████████████████████████▎                       | 80/113 [12:48<04:08,  7.54s/it]\u001b[A\n",
      " 72%|██████████████████████████████████████████████████████████                       | 81/113 [12:55<03:54,  7.32s/it]\u001b[A\n",
      " 73%|██████████████████████████████████████████████████████████▊                      | 82/113 [13:04<03:58,  7.71s/it]\u001b[A\n",
      " 73%|███████████████████████████████████████████████████████████▍                     | 83/113 [13:12<03:52,  7.74s/it]\u001b[A\n",
      " 74%|████████████████████████████████████████████████████████████▏                    | 84/113 [13:19<03:43,  7.71s/it]\u001b[A\n",
      " 75%|████████████████████████████████████████████████████████████▉                    | 85/113 [13:27<03:34,  7.66s/it]\u001b[A\n",
      " 76%|█████████████████████████████████████████████████████████████▋                   | 86/113 [13:34<03:22,  7.50s/it]\u001b[A\n",
      " 77%|██████████████████████████████████████████████████████████████▎                  | 87/113 [13:41<03:13,  7.46s/it]\u001b[A\n",
      " 78%|███████████████████████████████████████████████████████████████                  | 88/113 [13:50<03:13,  7.76s/it]\u001b[A\n",
      " 79%|███████████████████████████████████████████████████████████████▊                 | 89/113 [13:59<03:16,  8.19s/it]\u001b[A\n",
      " 80%|████████████████████████████████████████████████████████████████▌                | 90/113 [14:05<02:55,  7.63s/it]\u001b[A\n",
      " 81%|█████████████████████████████████████████████████████████████████▏               | 91/113 [14:12<02:41,  7.32s/it]\u001b[A\n",
      " 81%|█████████████████████████████████████████████████████████████████▉               | 92/113 [14:19<02:30,  7.18s/it]\u001b[A\n",
      " 82%|██████████████████████████████████████████████████████████████████▋              | 93/113 [14:26<02:24,  7.22s/it]\u001b[A\n",
      " 83%|███████████████████████████████████████████████████████████████████▍             | 94/113 [14:33<02:17,  7.26s/it]\u001b[A\n",
      " 84%|████████████████████████████████████████████████████████████████████             | 95/113 [14:41<02:10,  7.25s/it]\u001b[A\n",
      " 85%|████████████████████████████████████████████████████████████████████▊            | 96/113 [14:47<01:58,  6.95s/it]\u001b[A\n",
      " 86%|█████████████████████████████████████████████████████████████████████▌           | 97/113 [14:54<01:51,  6.99s/it]\u001b[A\n",
      " 87%|██████████████████████████████████████████████████████████████████████▏          | 98/113 [15:01<01:44,  6.96s/it]\u001b[A\n",
      " 88%|██████████████████████████████████████████████████████████████████████▉          | 99/113 [15:08<01:37,  6.96s/it]\u001b[A\n",
      " 88%|██████████████████████████████████████████████████████████████████████▊         | 100/113 [15:15<01:31,  7.02s/it]\u001b[A\n",
      " 89%|███████████████████████████████████████████████████████████████████████▌        | 101/113 [15:22<01:25,  7.08s/it]\u001b[A\n",
      " 90%|████████████████████████████████████████████████████████████████████████▏       | 102/113 [15:30<01:19,  7.23s/it]\u001b[A\n",
      " 91%|████████████████████████████████████████████████████████████████████████▉       | 103/113 [15:37<01:11,  7.16s/it]\u001b[A\n",
      " 92%|█████████████████████████████████████████████████████████████████████████▋      | 104/113 [15:46<01:08,  7.62s/it]\u001b[A\n",
      " 93%|██████████████████████████████████████████████████████████████████████████▎     | 105/113 [15:52<00:57,  7.23s/it]\u001b[A\n",
      " 94%|███████████████████████████████████████████████████████████████████████████     | 106/113 [15:59<00:49,  7.10s/it]\u001b[A\n",
      " 95%|███████████████████████████████████████████████████████████████████████████▊    | 107/113 [16:05<00:41,  6.87s/it]\u001b[A\n",
      " 96%|████████████████████████████████████████████████████████████████████████████▍   | 108/113 [16:12<00:34,  6.87s/it]\u001b[A\n",
      " 96%|█████████████████████████████████████████████████████████████████████████████▏  | 109/113 [16:19<00:27,  6.91s/it]\u001b[A\n",
      " 97%|█████████████████████████████████████████████████████████████████████████████▉  | 110/113 [16:26<00:20,  6.96s/it]\u001b[A\n",
      " 98%|██████████████████████████████████████████████████████████████████████████████▌ | 111/113 [16:32<00:13,  6.83s/it]\u001b[A\n",
      " 99%|███████████████████████████████████████████████████████████████████████████████▎| 112/113 [16:39<00:06,  6.86s/it]\u001b[A\n",
      "100%|████████████████████████████████████████████████████████████████████████████████| 113/113 [16:48<00:00,  8.92s/it]\u001b[A\n",
      " 14%|███████████▍                                                                    | 1/7 [16:48<1:40:50, 1008.36s/it]\n",
      "  0%|                                                                                          | 0/262 [00:00<?, ?it/s]\u001b[A\n",
      "  0%|▎                                                                                 | 1/262 [00:07<33:32,  7.71s/it]\u001b[A\n",
      "  1%|▋                                                                                 | 2/262 [00:15<32:53,  7.59s/it]\u001b[A\n",
      "  1%|▉                                                                                 | 3/262 [00:23<33:28,  7.76s/it]\u001b[A\n",
      "  2%|█▎                                                                                | 4/262 [00:31<34:23,  8.00s/it]\u001b[A\n",
      "  2%|█▌                                                                                | 5/262 [00:40<35:30,  8.29s/it]\u001b[A\n",
      "  2%|█▉                                                                                | 6/262 [00:48<35:02,  8.21s/it]\u001b[A\n",
      "  3%|██▏                                                                               | 7/262 [00:57<36:00,  8.47s/it]\u001b[A\n",
      "  3%|██▌                                                                               | 8/262 [01:05<35:12,  8.32s/it]\u001b[A\n",
      "  3%|██▊                                                                               | 9/262 [01:13<34:34,  8.20s/it]\u001b[A\n",
      "  4%|███                                                                              | 10/262 [01:21<33:54,  8.07s/it]\u001b[A\n",
      "  4%|███▍                                                                             | 11/262 [01:29<33:54,  8.10s/it]\u001b[A\n",
      "  5%|███▋                                                                             | 12/262 [01:37<33:34,  8.06s/it]\u001b[A\n",
      "  5%|████                                                                             | 13/262 [01:45<34:17,  8.26s/it]\u001b[A\n",
      "  5%|████▎                                                                            | 14/262 [01:55<36:01,  8.72s/it]\u001b[A\n",
      "  6%|████▋                                                                            | 15/262 [02:04<35:58,  8.74s/it]\u001b[A\n",
      "  6%|████▉                                                                            | 16/262 [02:13<35:28,  8.65s/it]\u001b[A\n",
      "  6%|█████▎                                                                           | 17/262 [02:21<34:34,  8.47s/it]\u001b[A\n",
      "  7%|█████▌                                                                           | 18/262 [02:29<34:31,  8.49s/it]\u001b[A\n",
      "  7%|█████▊                                                                           | 19/262 [02:38<35:13,  8.70s/it]\u001b[A\n",
      "  8%|██████▏                                                                          | 20/262 [02:47<35:08,  8.71s/it]\u001b[A\n",
      "  8%|██████▍                                                                          | 21/262 [02:56<35:15,  8.78s/it]\u001b[A\n",
      "  8%|██████▊                                                                          | 22/262 [03:05<35:41,  8.92s/it]\u001b[A\n",
      "  9%|███████                                                                          | 23/262 [03:14<35:00,  8.79s/it]\u001b[A\n",
      "  9%|███████▍                                                                         | 24/262 [03:22<34:33,  8.71s/it]\u001b[A\n",
      " 10%|███████▋                                                                         | 25/262 [03:31<34:08,  8.64s/it]\u001b[A\n",
      " 10%|████████                                                                         | 26/262 [03:40<34:24,  8.75s/it]\u001b[A\n",
      " 10%|████████▎                                                                        | 27/262 [03:48<34:09,  8.72s/it]\u001b[A\n",
      " 11%|████████▋                                                                        | 28/262 [03:56<33:14,  8.52s/it]\u001b[A\n",
      " 11%|████████▉                                                                        | 29/262 [04:05<32:50,  8.46s/it]\u001b[A\n",
      " 11%|█████████▎                                                                       | 30/262 [04:13<32:07,  8.31s/it]\u001b[A\n",
      " 12%|█████████▌                                                                       | 31/262 [04:21<32:17,  8.39s/it]\u001b[A\n",
      " 12%|█████████▉                                                                       | 32/262 [04:31<33:44,  8.80s/it]\u001b[A\n",
      " 13%|██████████▏                                                                      | 33/262 [04:40<33:28,  8.77s/it]\u001b[A\n",
      " 13%|██████████▌                                                                      | 34/262 [04:48<33:13,  8.74s/it]\u001b[A\n",
      " 13%|██████████▊                                                                      | 35/262 [04:58<33:41,  8.91s/it]\u001b[A\n",
      " 14%|███████████▏                                                                     | 36/262 [05:07<34:08,  9.07s/it]\u001b[A\n",
      " 14%|███████████▍                                                                     | 37/262 [05:16<33:23,  8.91s/it]\u001b[A\n",
      " 15%|███████████▋                                                                     | 38/262 [05:25<33:12,  8.90s/it]\u001b[A\n",
      " 15%|████████████                                                                     | 39/262 [05:33<32:56,  8.86s/it]\u001b[A\n",
      " 15%|████████████▎                                                                    | 40/262 [05:44<34:31,  9.33s/it]\u001b[A\n",
      " 16%|████████████▋                                                                    | 41/262 [05:52<32:51,  8.92s/it]\u001b[A\n",
      " 16%|████████████▉                                                                    | 42/262 [06:00<32:00,  8.73s/it]\u001b[A\n",
      " 16%|█████████████▎                                                                   | 43/262 [06:09<32:25,  8.88s/it]\u001b[A\n",
      " 17%|█████████████▌                                                                   | 44/262 [06:18<32:16,  8.88s/it]\u001b[A\n",
      " 17%|█████████████▉                                                                   | 45/262 [06:27<32:02,  8.86s/it]\u001b[A\n",
      " 18%|██████████████▏                                                                  | 46/262 [06:35<31:08,  8.65s/it]\u001b[A\n",
      " 18%|██████████████▌                                                                  | 47/262 [06:44<31:05,  8.68s/it]\u001b[A\n",
      " 18%|██████████████▊                                                                  | 48/262 [06:52<30:47,  8.63s/it]\u001b[A\n",
      " 19%|███████████████▏                                                                 | 49/262 [07:00<29:43,  8.37s/it]\u001b[A\n",
      " 19%|███████████████▍                                                                 | 50/262 [07:08<29:23,  8.32s/it]\u001b[A\n",
      " 19%|███████████████▊                                                                 | 51/262 [07:17<29:16,  8.33s/it]\u001b[A\n",
      " 20%|████████████████                                                                 | 52/262 [07:25<28:55,  8.27s/it]\u001b[A\n",
      " 20%|████████████████▍                                                                | 53/262 [07:33<28:17,  8.12s/it]\u001b[A\n",
      " 21%|████████████████▋                                                                | 54/262 [07:42<29:49,  8.60s/it]\u001b[A\n",
      " 21%|█████████████████                                                                | 55/262 [07:50<28:53,  8.38s/it]\u001b[A\n",
      " 21%|█████████████████▎                                                               | 56/262 [07:58<28:36,  8.33s/it]\u001b[A\n",
      " 22%|█████████████████▌                                                               | 57/262 [08:07<28:50,  8.44s/it]\u001b[A\n",
      " 22%|█████████████████▉                                                               | 58/262 [08:15<28:40,  8.43s/it]\u001b[A\n",
      " 23%|██████████████████▏                                                              | 59/262 [08:25<29:36,  8.75s/it]\u001b[A\n",
      " 23%|██████████████████▌                                                              | 60/262 [08:33<29:02,  8.62s/it]\u001b[A\n",
      " 23%|██████████████████▊                                                              | 61/262 [08:43<29:34,  8.83s/it]\u001b[A\n",
      " 24%|███████████████████▏                                                             | 62/262 [08:54<31:30,  9.45s/it]\u001b[A\n",
      " 24%|███████████████████▍                                                             | 63/262 [09:03<31:47,  9.59s/it]\u001b[A\n",
      " 24%|███████████████████▊                                                             | 64/262 [09:14<32:21,  9.81s/it]\u001b[A\n",
      " 25%|████████████████████                                                             | 65/262 [09:24<32:31,  9.91s/it]\u001b[A\n",
      " 25%|████████████████████▍                                                            | 66/262 [09:35<33:54, 10.38s/it]\u001b[A\n",
      " 26%|████████████████████▋                                                            | 67/262 [09:46<33:34, 10.33s/it]\u001b[A\n",
      " 26%|█████████████████████                                                            | 68/262 [09:55<32:46, 10.14s/it]\u001b[A\n",
      " 26%|█████████████████████▎                                                           | 69/262 [10:05<32:15, 10.03s/it]\u001b[A\n",
      " 27%|█████████████████████▋                                                           | 70/262 [10:14<30:35,  9.56s/it]\u001b[A\n",
      " 27%|█████████████████████▉                                                           | 71/262 [10:23<30:27,  9.57s/it]\u001b[A\n",
      " 27%|██████████████████████▎                                                          | 72/262 [10:33<31:04,  9.82s/it]\u001b[A\n",
      " 28%|██████████████████████▌                                                          | 73/262 [10:44<31:09,  9.89s/it]\u001b[A\n",
      " 28%|██████████████████████▉                                                          | 74/262 [10:52<29:42,  9.48s/it]\u001b[A\n",
      " 29%|███████████████████████▏                                                         | 75/262 [11:03<31:13, 10.02s/it]\u001b[A\n",
      " 29%|███████████████████████▍                                                         | 76/262 [11:12<29:37,  9.55s/it]\u001b[A\n",
      " 29%|███████████████████████▊                                                         | 77/262 [11:22<30:21,  9.84s/it]\u001b[A\n",
      " 30%|████████████████████████                                                         | 78/262 [11:31<28:55,  9.43s/it]\u001b[A\n",
      " 30%|████████████████████████▍                                                        | 79/262 [11:39<27:41,  9.08s/it]\u001b[A\n",
      " 31%|████████████████████████▋                                                        | 80/262 [11:48<27:13,  8.97s/it]\u001b[A\n",
      " 31%|█████████████████████████                                                        | 81/262 [11:57<26:53,  8.91s/it]\u001b[A\n",
      " 31%|█████████████████████████▎                                                       | 82/262 [12:05<26:24,  8.80s/it]\u001b[A\n",
      " 32%|█████████████████████████▋                                                       | 83/262 [12:13<25:20,  8.50s/it]\u001b[A\n",
      " 32%|█████████████████████████▉                                                       | 84/262 [12:21<24:53,  8.39s/it]\u001b[A\n",
      " 32%|██████████████████████████▎                                                      | 85/262 [12:29<24:33,  8.32s/it]\u001b[A\n",
      " 33%|██████████████████████████▌                                                      | 86/262 [12:37<24:02,  8.19s/it]\u001b[A\n",
      " 33%|██████████████████████████▉                                                      | 87/262 [12:45<23:32,  8.07s/it]\u001b[A\n",
      " 34%|███████████████████████████▏                                                     | 88/262 [12:52<22:38,  7.81s/it]\u001b[A\n",
      " 34%|███████████████████████████▌                                                     | 89/262 [12:59<21:53,  7.59s/it]\u001b[A\n",
      " 34%|███████████████████████████▊                                                     | 90/262 [13:07<22:00,  7.68s/it]\u001b[A\n",
      " 35%|████████████████████████████▏                                                    | 91/262 [13:16<22:34,  7.92s/it]\u001b[A\n",
      " 35%|████████████████████████████▍                                                    | 92/262 [13:24<23:09,  8.18s/it]\u001b[A\n",
      " 35%|████████████████████████████▊                                                    | 93/262 [13:32<22:39,  8.05s/it]\u001b[A\n",
      " 36%|█████████████████████████████                                                    | 94/262 [13:40<22:35,  8.07s/it]\u001b[A\n",
      " 36%|█████████████████████████████▎                                                   | 95/262 [13:48<22:16,  8.00s/it]\u001b[A\n",
      " 37%|█████████████████████████████▋                                                   | 96/262 [13:56<22:02,  7.97s/it]\u001b[A\n",
      " 37%|█████████████████████████████▉                                                   | 97/262 [14:04<22:09,  8.06s/it]\u001b[A\n",
      " 37%|██████████████████████████████▎                                                  | 98/262 [14:12<21:48,  7.98s/it]\u001b[A\n",
      " 38%|██████████████████████████████▌                                                  | 99/262 [14:20<21:42,  7.99s/it]\u001b[A\n",
      " 38%|██████████████████████████████▌                                                 | 100/262 [14:28<21:27,  7.95s/it]\u001b[A\n",
      " 39%|██████████████████████████████▊                                                 | 101/262 [14:36<21:26,  7.99s/it]\u001b[A\n",
      " 39%|███████████████████████████████▏                                                | 102/262 [14:44<21:17,  7.98s/it]\u001b[A\n",
      " 39%|███████████████████████████████▍                                                | 103/262 [14:52<20:57,  7.91s/it]\u001b[A\n",
      " 40%|███████████████████████████████▊                                                | 104/262 [14:59<20:38,  7.84s/it]\u001b[A\n",
      " 40%|████████████████████████████████                                                | 105/262 [15:07<20:31,  7.84s/it]\u001b[A\n",
      " 40%|████████████████████████████████▎                                               | 106/262 [15:16<21:00,  8.08s/it]\u001b[A\n",
      " 41%|████████████████████████████████▋                                               | 107/262 [15:25<21:28,  8.31s/it]\u001b[A\n",
      " 41%|████████████████████████████████▉                                               | 108/262 [15:33<21:10,  8.25s/it]\u001b[A\n",
      " 42%|█████████████████████████████████▎                                              | 109/262 [15:42<21:37,  8.48s/it]\u001b[A\n",
      " 42%|█████████████████████████████████▌                                              | 110/262 [15:50<21:39,  8.55s/it]\u001b[A\n",
      " 42%|█████████████████████████████████▉                                              | 111/262 [16:00<22:07,  8.79s/it]\u001b[A\n",
      " 43%|██████████████████████████████████▏                                             | 112/262 [16:08<21:28,  8.59s/it]\u001b[A\n",
      " 43%|██████████████████████████████████▌                                             | 113/262 [16:16<21:03,  8.48s/it]\u001b[A\n",
      " 44%|██████████████████████████████████▊                                             | 114/262 [16:25<21:10,  8.59s/it]\u001b[A\n",
      " 44%|███████████████████████████████████                                             | 115/262 [16:33<20:32,  8.38s/it]\u001b[A\n",
      " 44%|███████████████████████████████████▍                                            | 116/262 [16:41<20:25,  8.39s/it]\u001b[A\n",
      " 45%|███████████████████████████████████▋                                            | 117/262 [16:50<20:12,  8.36s/it]\u001b[A\n",
      " 45%|████████████████████████████████████                                            | 118/262 [16:58<20:00,  8.34s/it]\u001b[A\n",
      " 45%|████████████████████████████████████▎                                           | 119/262 [17:06<19:36,  8.22s/it]\u001b[A\n",
      " 46%|████████████████████████████████████▋                                           | 120/262 [17:14<19:13,  8.12s/it]\u001b[A\n",
      " 46%|████████████████████████████████████▉                                           | 121/262 [17:23<19:49,  8.43s/it]\u001b[A\n",
      " 47%|█████████████████████████████████████▎                                          | 122/262 [17:30<18:55,  8.11s/it]\u001b[A\n",
      " 47%|█████████████████████████████████████▌                                          | 123/262 [17:38<18:45,  8.10s/it]\u001b[A\n",
      " 47%|█████████████████████████████████████▊                                          | 124/262 [17:46<18:24,  8.01s/it]\u001b[A\n",
      " 48%|██████████████████████████████████████▏                                         | 125/262 [17:55<18:55,  8.29s/it]\u001b[A\n",
      " 48%|██████████████████████████████████████▍                                         | 126/262 [18:03<18:37,  8.21s/it]\u001b[A\n",
      " 48%|██████████████████████████████████████▊                                         | 127/262 [18:11<17:59,  8.00s/it]\u001b[A\n",
      " 49%|███████████████████████████████████████                                         | 128/262 [18:19<18:06,  8.11s/it]\u001b[A\n",
      " 49%|███████████████████████████████████████▍                                        | 129/262 [18:27<18:08,  8.18s/it]\u001b[A\n",
      " 50%|███████████████████████████████████████▋                                        | 130/262 [18:35<17:40,  8.04s/it]\u001b[A\n",
      " 50%|████████████████████████████████████████                                        | 131/262 [18:44<18:11,  8.34s/it]\u001b[A\n",
      " 50%|████████████████████████████████████████▎                                       | 132/262 [18:53<18:13,  8.41s/it]\u001b[A\n",
      " 51%|████████████████████████████████████████▌                                       | 133/262 [19:01<18:19,  8.52s/it]\u001b[A\n",
      " 51%|████████████████████████████████████████▉                                       | 134/262 [19:11<18:48,  8.82s/it]\u001b[A\n",
      " 52%|█████████████████████████████████████████▏                                      | 135/262 [19:21<19:13,  9.08s/it]\u001b[A\n",
      " 52%|█████████████████████████████████████████▌                                      | 136/262 [19:29<18:55,  9.01s/it]\u001b[A\n",
      " 52%|█████████████████████████████████████████▊                                      | 137/262 [19:39<18:53,  9.07s/it]\u001b[A\n",
      " 53%|██████████████████████████████████████████▏                                     | 138/262 [19:46<17:41,  8.56s/it]\u001b[A\n",
      " 53%|██████████████████████████████████████████▍                                     | 139/262 [19:56<18:17,  8.93s/it]\u001b[A\n",
      " 53%|██████████████████████████████████████████▋                                     | 140/262 [20:05<18:13,  8.96s/it]\u001b[A\n",
      " 54%|███████████████████████████████████████████                                     | 141/262 [20:14<18:12,  9.03s/it]\u001b[A\n",
      " 54%|███████████████████████████████████████████▎                                    | 142/262 [20:24<18:22,  9.19s/it]\u001b[A\n",
      " 55%|███████████████████████████████████████████▋                                    | 143/262 [20:32<17:29,  8.82s/it]\u001b[A\n",
      " 55%|███████████████████████████████████████████▉                                    | 144/262 [20:42<18:01,  9.16s/it]\u001b[A\n",
      " 55%|████████████████████████████████████████████▎                                   | 145/262 [20:50<17:25,  8.94s/it]\u001b[A\n",
      " 56%|████████████████████████████████████████████▌                                   | 146/262 [20:59<17:19,  8.96s/it]\u001b[A\n",
      " 56%|████████████████████████████████████████████▉                                   | 147/262 [21:07<16:38,  8.69s/it]\u001b[A\n",
      " 56%|█████████████████████████████████████████████▏                                  | 148/262 [21:16<16:43,  8.80s/it]\u001b[A\n",
      " 57%|█████████████████████████████████████████████▍                                  | 149/262 [21:24<15:53,  8.44s/it]\u001b[A\n",
      " 57%|█████████████████████████████████████████████▊                                  | 150/262 [21:32<15:28,  8.29s/it]\u001b[A\n",
      " 58%|██████████████████████████████████████████████                                  | 151/262 [21:39<14:53,  8.05s/it]\u001b[A\n",
      " 58%|██████████████████████████████████████████████▍                                 | 152/262 [21:47<14:38,  7.99s/it]\u001b[A\n",
      " 58%|██████████████████████████████████████████████▋                                 | 153/262 [21:55<14:18,  7.88s/it]\u001b[A\n",
      " 59%|███████████████████████████████████████████████                                 | 154/262 [22:02<13:45,  7.65s/it]\u001b[A\n",
      " 59%|███████████████████████████████████████████████▎                                | 155/262 [22:10<13:56,  7.81s/it]\u001b[A\n",
      " 60%|███████████████████████████████████████████████▋                                | 156/262 [22:17<13:39,  7.73s/it]\u001b[A\n",
      " 60%|███████████████████████████████████████████████▉                                | 157/262 [22:25<13:31,  7.73s/it]\u001b[A\n",
      " 60%|████████████████████████████████████████████████▏                               | 158/262 [22:34<14:10,  8.18s/it]\u001b[A\n",
      " 61%|████████████████████████████████████████████████▌                               | 159/262 [22:43<14:02,  8.18s/it]\u001b[A\n",
      " 61%|████████████████████████████████████████████████▊                               | 160/262 [22:50<13:23,  7.88s/it]\u001b[A\n",
      " 61%|█████████████████████████████████████████████████▏                              | 161/262 [22:57<13:11,  7.84s/it]\u001b[A\n",
      " 62%|█████████████████████████████████████████████████▍                              | 162/262 [23:06<13:10,  7.90s/it]\u001b[A\n",
      " 62%|█████████████████████████████████████████████████▊                              | 163/262 [23:13<12:49,  7.77s/it]\u001b[A\n",
      " 63%|██████████████████████████████████████████████████                              | 164/262 [23:21<12:35,  7.71s/it]\u001b[A\n",
      " 63%|██████████████████████████████████████████████████▍                             | 165/262 [23:28<12:16,  7.60s/it]\u001b[A\n",
      " 63%|██████████████████████████████████████████████████▋                             | 166/262 [23:36<12:34,  7.86s/it]\u001b[A\n",
      " 64%|██████████████████████████████████████████████████▉                             | 167/262 [23:44<12:20,  7.80s/it]\u001b[A\n",
      " 64%|███████████████████████████████████████████████████▎                            | 168/262 [23:51<12:03,  7.69s/it]\u001b[A\n",
      " 65%|███████████████████████████████████████████████████▌                            | 169/262 [23:59<11:54,  7.68s/it]\u001b[A\n",
      " 65%|███████████████████████████████████████████████████▉                            | 170/262 [24:07<11:40,  7.61s/it]\u001b[A\n",
      " 65%|████████████████████████████████████████████████████▏                           | 171/262 [24:14<11:39,  7.69s/it]\u001b[A\n",
      " 66%|████████████████████████████████████████████████████▌                           | 172/262 [24:23<11:43,  7.81s/it]\u001b[A\n",
      " 66%|████████████████████████████████████████████████████▊                           | 173/262 [24:30<11:33,  7.79s/it]\u001b[A\n",
      " 66%|█████████████████████████████████████████████████████▏                          | 174/262 [24:39<11:41,  7.98s/it]\u001b[A\n",
      " 67%|█████████████████████████████████████████████████████▍                          | 175/262 [24:47<11:44,  8.09s/it]\u001b[A\n",
      " 67%|█████████████████████████████████████████████████████▋                          | 176/262 [24:55<11:29,  8.02s/it]\u001b[A\n",
      " 68%|██████████████████████████████████████████████████████                          | 177/262 [25:02<10:55,  7.72s/it]\u001b[A\n",
      " 68%|██████████████████████████████████████████████████████▎                         | 178/262 [25:10<10:47,  7.71s/it]\u001b[A\n",
      " 68%|██████████████████████████████████████████████████████▋                         | 179/262 [25:16<10:18,  7.45s/it]\u001b[A\n",
      " 69%|██████████████████████████████████████████████████████▉                         | 180/262 [25:26<10:51,  7.95s/it]\u001b[A\n",
      " 69%|███████████████████████████████████████████████████████▎                        | 181/262 [25:35<11:24,  8.46s/it]\u001b[A\n",
      " 69%|███████████████████████████████████████████████████████▌                        | 182/262 [25:44<11:36,  8.71s/it]\u001b[A\n",
      " 70%|███████████████████████████████████████████████████████▉                        | 183/262 [25:54<11:54,  9.04s/it]\u001b[A\n",
      " 70%|████████████████████████████████████████████████████████▏                       | 184/262 [26:04<11:49,  9.09s/it]\u001b[A\n",
      " 71%|████████████████████████████████████████████████████████▍                       | 185/262 [26:13<11:44,  9.14s/it]\u001b[A\n",
      " 71%|████████████████████████████████████████████████████████▊                       | 186/262 [26:23<12:05,  9.55s/it]\u001b[A\n",
      " 71%|█████████████████████████████████████████████████████████                       | 187/262 [26:32<11:42,  9.37s/it]\u001b[A\n",
      " 72%|█████████████████████████████████████████████████████████▍                      | 188/262 [26:41<11:28,  9.30s/it]\u001b[A\n",
      " 72%|█████████████████████████████████████████████████████████▋                      | 189/262 [26:50<11:07,  9.14s/it]\u001b[A\n",
      " 73%|██████████████████████████████████████████████████████████                      | 190/262 [27:00<11:20,  9.45s/it]\u001b[A\n",
      " 73%|██████████████████████████████████████████████████████████▎                     | 191/262 [27:09<11:02,  9.33s/it]\u001b[A\n",
      " 73%|██████████████████████████████████████████████████████████▋                     | 192/262 [27:18<10:45,  9.22s/it]\u001b[A\n",
      " 74%|██████████████████████████████████████████████████████████▉                     | 193/262 [27:28<10:53,  9.47s/it]\u001b[A\n",
      " 74%|███████████████████████████████████████████████████████████▏                    | 194/262 [27:37<10:19,  9.12s/it]\u001b[A\n",
      " 74%|███████████████████████████████████████████████████████████▌                    | 195/262 [27:45<10:04,  9.03s/it]\u001b[A\n",
      " 75%|███████████████████████████████████████████████████████████▊                    | 196/262 [27:54<09:42,  8.83s/it]\u001b[A\n",
      " 75%|████████████████████████████████████████████████████████████▏                   | 197/262 [28:02<09:22,  8.65s/it]\u001b[A\n",
      " 76%|████████████████████████████████████████████████████████████▍                   | 198/262 [28:10<08:58,  8.42s/it]\u001b[A\n",
      " 76%|████████████████████████████████████████████████████████████▊                   | 199/262 [28:18<08:50,  8.42s/it]\u001b[A\n",
      " 76%|█████████████████████████████████████████████████████████████                   | 200/262 [28:27<08:39,  8.38s/it]\u001b[A\n",
      " 77%|█████████████████████████████████████████████████████████████▎                  | 201/262 [28:34<08:19,  8.19s/it]\u001b[A\n",
      " 77%|█████████████████████████████████████████████████████████████▋                  | 202/262 [28:43<08:26,  8.44s/it]\u001b[A\n",
      " 77%|█████████████████████████████████████████████████████████████▉                  | 203/262 [28:51<08:06,  8.25s/it]\u001b[A\n",
      " 78%|██████████████████████████████████████████████████████████████▎                 | 204/262 [28:59<07:58,  8.25s/it]\u001b[A\n",
      " 78%|██████████████████████████████████████████████████████████████▌                 | 205/262 [29:07<07:41,  8.10s/it]\u001b[A\n",
      " 79%|██████████████████████████████████████████████████████████████▉                 | 206/262 [29:15<07:29,  8.02s/it]\u001b[A\n",
      " 79%|███████████████████████████████████████████████████████████████▏                | 207/262 [29:22<07:11,  7.84s/it]\u001b[A\n",
      " 79%|███████████████████████████████████████████████████████████████▌                | 208/262 [29:30<07:02,  7.83s/it]\u001b[A\n",
      " 80%|███████████████████████████████████████████████████████████████▊                | 209/262 [29:38<06:50,  7.74s/it]\u001b[A\n",
      " 80%|████████████████████████████████████████████████████████████████                | 210/262 [29:46<06:41,  7.72s/it]\u001b[A\n",
      " 81%|████████████████████████████████████████████████████████████████▍               | 211/262 [29:53<06:35,  7.75s/it]\u001b[A\n",
      " 81%|████████████████████████████████████████████████████████████████▋               | 212/262 [30:01<06:25,  7.71s/it]\u001b[A\n",
      " 81%|█████████████████████████████████████████████████████████████████               | 213/262 [30:09<06:27,  7.91s/it]\u001b[A\n",
      " 82%|█████████████████████████████████████████████████████████████████▎              | 214/262 [30:17<06:20,  7.92s/it]\u001b[A\n",
      " 82%|█████████████████████████████████████████████████████████████████▋              | 215/262 [30:25<06:10,  7.88s/it]\u001b[A\n",
      " 82%|█████████████████████████████████████████████████████████████████▉              | 216/262 [30:38<07:14,  9.44s/it]\u001b[A\n",
      " 83%|██████████████████████████████████████████████████████████████████▎             | 217/262 [30:51<07:57, 10.61s/it]\u001b[A\n",
      " 83%|██████████████████████████████████████████████████████████████████▌             | 218/262 [31:01<07:28, 10.20s/it]\u001b[A\n",
      " 84%|██████████████████████████████████████████████████████████████████▊             | 219/262 [31:10<07:03,  9.86s/it]\u001b[A\n",
      " 84%|███████████████████████████████████████████████████████████████████▏            | 220/262 [31:18<06:29,  9.28s/it]\u001b[A\n",
      " 84%|███████████████████████████████████████████████████████████████████▍            | 221/262 [31:25<05:55,  8.67s/it]\u001b[A\n",
      " 85%|███████████████████████████████████████████████████████████████████▊            | 222/262 [31:33<05:34,  8.35s/it]\u001b[A\n",
      " 85%|████████████████████████████████████████████████████████████████████            | 223/262 [31:40<05:18,  8.16s/it]\u001b[A\n",
      " 85%|████████████████████████████████████████████████████████████████████▍           | 224/262 [31:48<05:07,  8.10s/it]\u001b[A\n",
      " 86%|████████████████████████████████████████████████████████████████████▋           | 225/262 [31:56<04:57,  8.04s/it]\u001b[A\n",
      " 86%|█████████████████████████████████████████████████████████████████████           | 226/262 [32:04<04:51,  8.09s/it]\u001b[A\n",
      " 87%|█████████████████████████████████████████████████████████████████████▎          | 227/262 [32:12<04:33,  7.82s/it]\u001b[A\n",
      " 87%|█████████████████████████████████████████████████████████████████████▌          | 228/262 [32:19<04:25,  7.82s/it]\u001b[A\n",
      " 87%|█████████████████████████████████████████████████████████████████████▉          | 229/262 [32:28<04:23,  7.99s/it]\u001b[A\n",
      " 88%|██████████████████████████████████████████████████████████████████████▏         | 230/262 [32:37<04:26,  8.32s/it]\u001b[A\n",
      " 88%|██████████████████████████████████████████████████████████████████████▌         | 231/262 [32:46<04:22,  8.47s/it]\u001b[A\n",
      " 89%|██████████████████████████████████████████████████████████████████████▊         | 232/262 [32:54<04:14,  8.47s/it]\u001b[A\n",
      " 89%|███████████████████████████████████████████████████████████████████████▏        | 233/262 [33:02<04:03,  8.39s/it]\u001b[A\n",
      " 89%|███████████████████████████████████████████████████████████████████████▍        | 234/262 [33:12<04:04,  8.72s/it]\u001b[A\n",
      " 90%|███████████████████████████████████████████████████████████████████████▊        | 235/262 [33:21<04:00,  8.90s/it]\u001b[A\n",
      " 90%|████████████████████████████████████████████████████████████████████████        | 236/262 [33:31<04:00,  9.24s/it]\u001b[A\n",
      " 90%|████████████████████████████████████████████████████████████████████████▎       | 237/262 [33:40<03:47,  9.09s/it]\u001b[A\n",
      " 91%|████████████████████████████████████████████████████████████████████████▋       | 238/262 [33:48<03:33,  8.90s/it]\u001b[A\n",
      " 91%|████████████████████████████████████████████████████████████████████████▉       | 239/262 [33:56<03:18,  8.61s/it]\u001b[A\n",
      " 92%|█████████████████████████████████████████████████████████████████████████▎      | 240/262 [34:04<03:03,  8.36s/it]\u001b[A\n",
      " 92%|█████████████████████████████████████████████████████████████████████████▌      | 241/262 [34:12<02:55,  8.37s/it]\u001b[A\n",
      " 92%|█████████████████████████████████████████████████████████████████████████▉      | 242/262 [34:20<02:44,  8.25s/it]\u001b[A\n",
      " 93%|██████████████████████████████████████████████████████████████████████████▏     | 243/262 [34:29<02:40,  8.47s/it]\u001b[A\n",
      " 93%|██████████████████████████████████████████████████████████████████████████▌     | 244/262 [34:37<02:29,  8.32s/it]\u001b[A\n",
      " 94%|██████████████████████████████████████████████████████████████████████████▊     | 245/262 [34:46<02:20,  8.26s/it]\u001b[A\n",
      " 94%|███████████████████████████████████████████████████████████████████████████     | 246/262 [34:54<02:11,  8.20s/it]\u001b[A\n",
      " 94%|███████████████████████████████████████████████████████████████████████████▍    | 247/262 [35:01<01:59,  7.99s/it]\u001b[A\n",
      " 95%|███████████████████████████████████████████████████████████████████████████▋    | 248/262 [35:09<01:52,  8.04s/it]\u001b[A\n",
      " 95%|████████████████████████████████████████████████████████████████████████████    | 249/262 [35:17<01:44,  8.03s/it]\u001b[A\n",
      " 95%|████████████████████████████████████████████████████████████████████████████▎   | 250/262 [35:25<01:34,  7.91s/it]\u001b[A\n",
      " 96%|████████████████████████████████████████████████████████████████████████████▋   | 251/262 [35:32<01:26,  7.83s/it]\u001b[A\n",
      " 96%|████████████████████████████████████████████████████████████████████████████▉   | 252/262 [35:41<01:20,  8.05s/it]\u001b[A\n",
      " 97%|█████████████████████████████████████████████████████████████████████████████▎  | 253/262 [35:50<01:14,  8.27s/it]\u001b[A\n",
      " 97%|█████████████████████████████████████████████████████████████████████████████▌  | 254/262 [35:59<01:09,  8.64s/it]\u001b[A\n",
      " 97%|█████████████████████████████████████████████████████████████████████████████▊  | 255/262 [36:08<00:59,  8.52s/it]\u001b[A\n",
      " 98%|██████████████████████████████████████████████████████████████████████████████▏ | 256/262 [36:17<00:52,  8.70s/it]\u001b[A\n",
      " 98%|██████████████████████████████████████████████████████████████████████████████▍ | 257/262 [36:26<00:44,  8.95s/it]\u001b[A\n",
      " 98%|██████████████████████████████████████████████████████████████████████████████▊ | 258/262 [36:35<00:35,  8.94s/it]\u001b[A\n",
      " 99%|███████████████████████████████████████████████████████████████████████████████ | 259/262 [36:44<00:27,  9.03s/it]\u001b[A\n",
      " 99%|███████████████████████████████████████████████████████████████████████████████▍| 260/262 [36:55<00:19,  9.56s/it]\u001b[A\n",
      "100%|███████████████████████████████████████████████████████████████████████████████▋| 261/262 [37:04<00:09,  9.22s/it]\u001b[A\n",
      "100%|████████████████████████████████████████████████████████████████████████████████| 262/262 [37:12<00:00,  8.52s/it]\u001b[A\n",
      " 29%|██████████████████████▊                                                         | 2/7 [54:00<2:24:01, 1728.35s/it]\n",
      "  0%|                                                                                          | 0/344 [00:00<?, ?it/s]\u001b[A\n",
      "  0%|▏                                                                                 | 1/344 [00:08<50:39,  8.86s/it]\u001b[A\n",
      "  1%|▍                                                                                 | 2/344 [00:16<45:39,  8.01s/it]\u001b[A\n",
      "  1%|▋                                                                                 | 3/344 [00:24<46:07,  8.12s/it]\u001b[A\n",
      "  1%|▉                                                                                 | 4/344 [00:32<46:04,  8.13s/it]\u001b[A\n",
      "  1%|█▏                                                                                | 5/344 [00:41<47:36,  8.42s/it]\u001b[A\n",
      "  2%|█▍                                                                                | 6/344 [00:50<48:55,  8.69s/it]\u001b[A\n",
      "  2%|█▋                                                                                | 7/344 [00:59<49:14,  8.77s/it]\u001b[A\n",
      "  2%|█▉                                                                                | 8/344 [01:08<48:49,  8.72s/it]\u001b[A\n",
      "  3%|██▏                                                                               | 9/344 [01:16<47:48,  8.56s/it]\u001b[A\n",
      "  3%|██▎                                                                              | 10/344 [01:25<48:36,  8.73s/it]\u001b[A\n",
      "  3%|██▌                                                                              | 11/344 [01:34<48:37,  8.76s/it]\u001b[A\n",
      "  3%|██▊                                                                              | 12/344 [01:42<47:44,  8.63s/it]\u001b[A\n",
      "  4%|███                                                                              | 13/344 [01:51<47:20,  8.58s/it]\u001b[A\n",
      "  4%|███▎                                                                             | 14/344 [01:59<46:30,  8.46s/it]\u001b[A\n",
      "  4%|███▌                                                                             | 15/344 [02:07<45:09,  8.23s/it]\u001b[A\n",
      "  5%|███▊                                                                             | 16/344 [02:15<45:20,  8.30s/it]\u001b[A\n",
      "  5%|████                                                                             | 17/344 [02:24<45:22,  8.33s/it]\u001b[A\n",
      "  5%|████▏                                                                            | 18/344 [02:32<46:10,  8.50s/it]\u001b[A\n",
      "  6%|████▍                                                                            | 19/344 [02:40<45:07,  8.33s/it]\u001b[A\n",
      "  6%|████▋                                                                            | 20/344 [02:48<44:20,  8.21s/it]\u001b[A\n",
      "  6%|████▉                                                                            | 21/344 [02:57<44:19,  8.23s/it]\u001b[A\n",
      "  6%|█████▏                                                                           | 22/344 [03:05<44:21,  8.27s/it]\u001b[A\n",
      "  7%|█████▍                                                                           | 23/344 [03:13<43:29,  8.13s/it]\u001b[A\n",
      "  7%|█████▋                                                                           | 24/344 [03:21<43:16,  8.11s/it]\u001b[A\n",
      "  7%|█████▉                                                                           | 25/344 [03:28<42:23,  7.97s/it]\u001b[A\n",
      "  8%|██████                                                                           | 26/344 [03:36<41:30,  7.83s/it]\u001b[A\n",
      "  8%|██████▎                                                                          | 27/344 [03:44<41:54,  7.93s/it]\u001b[A\n",
      "  8%|██████▌                                                                          | 28/344 [03:52<40:58,  7.78s/it]\u001b[A\n",
      "  8%|██████▊                                                                          | 29/344 [03:59<40:23,  7.69s/it]\u001b[A\n",
      "  9%|███████                                                                          | 30/344 [04:07<40:34,  7.75s/it]\u001b[A\n",
      "  9%|███████▎                                                                         | 31/344 [04:16<42:20,  8.12s/it]\u001b[A\n",
      "  9%|███████▌                                                                         | 32/344 [04:25<44:02,  8.47s/it]\u001b[A\n",
      " 10%|███████▊                                                                         | 33/344 [04:34<43:38,  8.42s/it]\u001b[A\n",
      " 10%|████████                                                                         | 34/344 [04:42<44:04,  8.53s/it]\u001b[A\n",
      " 10%|████████▏                                                                        | 35/344 [04:52<45:36,  8.86s/it]\u001b[A\n",
      " 10%|████████▍                                                                        | 36/344 [05:00<43:42,  8.51s/it]\u001b[A\n",
      " 11%|████████▋                                                                        | 37/344 [05:07<41:57,  8.20s/it]\u001b[A\n",
      " 11%|████████▉                                                                        | 38/344 [05:16<42:49,  8.40s/it]\u001b[A\n",
      " 11%|█████████▏                                                                       | 39/344 [05:24<42:53,  8.44s/it]\u001b[A\n",
      " 12%|█████████▍                                                                       | 40/344 [05:32<42:03,  8.30s/it]\u001b[A\n",
      " 12%|█████████▋                                                                       | 41/344 [05:41<42:19,  8.38s/it]\u001b[A\n",
      " 12%|█████████▉                                                                       | 42/344 [05:50<42:39,  8.48s/it]\u001b[A\n",
      " 12%|██████████▏                                                                      | 43/344 [05:59<43:50,  8.74s/it]\u001b[A\n",
      " 13%|██████████▎                                                                      | 44/344 [06:07<42:37,  8.53s/it]\u001b[A\n",
      " 13%|██████████▌                                                                      | 45/344 [06:23<53:35, 10.75s/it]\u001b[A\n",
      " 13%|██████████▊                                                                      | 46/344 [06:31<49:01,  9.87s/it]\u001b[A\n",
      " 14%|███████████                                                                      | 47/344 [06:40<47:00,  9.50s/it]\u001b[A\n",
      " 14%|███████████▎                                                                     | 48/344 [06:48<44:39,  9.05s/it]\u001b[A\n",
      " 14%|███████████▌                                                                     | 49/344 [06:56<43:36,  8.87s/it]\u001b[A\n",
      " 15%|███████████▊                                                                     | 50/344 [07:04<42:03,  8.58s/it]\u001b[A\n",
      " 15%|████████████                                                                     | 51/344 [07:14<44:21,  9.09s/it]\u001b[A\n",
      " 15%|████████████▏                                                                    | 52/344 [07:22<41:49,  8.60s/it]\u001b[A\n",
      " 15%|████████████▍                                                                    | 53/344 [07:29<40:39,  8.38s/it]\u001b[A\n",
      " 16%|████████████▋                                                                    | 54/344 [07:38<41:08,  8.51s/it]\u001b[A\n",
      " 16%|████████████▉                                                                    | 55/344 [07:46<39:57,  8.30s/it]\u001b[A\n",
      " 16%|█████████████▏                                                                   | 56/344 [07:54<39:46,  8.29s/it]\u001b[A\n",
      " 17%|█████████████▍                                                                   | 57/344 [08:03<40:13,  8.41s/it]\u001b[A\n",
      " 17%|█████████████▋                                                                   | 58/344 [08:11<39:40,  8.32s/it]\u001b[A\n",
      " 17%|█████████████▉                                                                   | 59/344 [08:19<39:09,  8.24s/it]\u001b[A\n",
      " 17%|██████████████▏                                                                  | 60/344 [08:27<38:21,  8.11s/it]\u001b[A\n",
      " 18%|██████████████▎                                                                  | 61/344 [08:35<38:23,  8.14s/it]\u001b[A\n",
      " 18%|██████████████▌                                                                  | 62/344 [08:44<39:21,  8.37s/it]\u001b[A\n",
      " 18%|██████████████▊                                                                  | 63/344 [08:52<39:08,  8.36s/it]\u001b[A\n",
      " 19%|███████████████                                                                  | 64/344 [09:01<38:56,  8.34s/it]\u001b[A\n",
      " 19%|███████████████▎                                                                 | 65/344 [09:09<38:07,  8.20s/it]\u001b[A\n",
      " 19%|███████████████▌                                                                 | 66/344 [09:17<38:00,  8.20s/it]\u001b[A\n",
      " 19%|███████████████▊                                                                 | 67/344 [09:24<36:55,  8.00s/it]\u001b[A\n",
      " 20%|████████████████                                                                 | 68/344 [09:32<36:19,  7.90s/it]\u001b[A\n",
      " 20%|████████████████▏                                                                | 69/344 [09:43<40:35,  8.86s/it]\u001b[A\n",
      " 20%|████████████████▍                                                                | 70/344 [09:54<42:55,  9.40s/it]\u001b[A\n",
      " 21%|████████████████▋                                                                | 71/344 [10:02<41:39,  9.15s/it]\u001b[A\n",
      " 21%|████████████████▉                                                                | 72/344 [10:14<44:40,  9.85s/it]\u001b[A\n",
      " 21%|█████████████████▏                                                               | 73/344 [10:22<41:56,  9.29s/it]\u001b[A\n",
      " 22%|█████████████████▍                                                               | 74/344 [10:29<39:30,  8.78s/it]\u001b[A\n",
      " 22%|█████████████████▋                                                               | 75/344 [10:38<38:46,  8.65s/it]\u001b[A\n",
      " 22%|█████████████████▉                                                               | 76/344 [10:46<38:09,  8.54s/it]\u001b[A\n",
      " 22%|██████████████████▏                                                              | 77/344 [10:54<37:06,  8.34s/it]\u001b[A\n",
      " 23%|██████████████████▎                                                              | 78/344 [11:02<36:12,  8.17s/it]\u001b[A\n",
      " 23%|██████████████████▌                                                              | 79/344 [11:09<35:16,  7.99s/it]\u001b[A\n",
      " 23%|██████████████████▊                                                              | 80/344 [11:17<34:34,  7.86s/it]\u001b[A\n",
      " 24%|███████████████████                                                              | 81/344 [11:25<34:56,  7.97s/it]\u001b[A\n",
      " 24%|███████████████████▎                                                             | 82/344 [11:32<33:55,  7.77s/it]\u001b[A\n",
      " 24%|███████████████████▌                                                             | 83/344 [11:39<32:29,  7.47s/it]\u001b[A\n",
      " 24%|███████████████████▊                                                             | 84/344 [11:46<31:58,  7.38s/it]\u001b[A\n",
      " 25%|████████████████████                                                             | 85/344 [11:54<32:03,  7.43s/it]\u001b[A\n",
      " 25%|████████████████████▎                                                            | 86/344 [12:01<32:12,  7.49s/it]\u001b[A\n",
      " 25%|████████████████████▍                                                            | 87/344 [12:11<34:52,  8.14s/it]\u001b[A\n",
      " 26%|████████████████████▋                                                            | 88/344 [12:20<35:16,  8.27s/it]\u001b[A\n",
      " 26%|████████████████████▉                                                            | 89/344 [12:28<35:47,  8.42s/it]\u001b[A\n",
      " 26%|█████████████████████▏                                                           | 90/344 [12:36<35:02,  8.28s/it]\u001b[A\n",
      " 26%|█████████████████████▍                                                           | 91/344 [12:44<33:39,  7.98s/it]\u001b[A\n",
      " 27%|█████████████████████▋                                                           | 92/344 [12:51<33:10,  7.90s/it]\u001b[A\n",
      " 27%|█████████████████████▉                                                           | 93/344 [12:59<32:56,  7.87s/it]\u001b[A\n",
      " 27%|██████████████████████▏                                                          | 94/344 [13:07<33:12,  7.97s/it]\u001b[A\n",
      " 28%|██████████████████████▎                                                          | 95/344 [13:15<33:02,  7.96s/it]\u001b[A\n",
      " 28%|██████████████████████▌                                                          | 96/344 [13:24<33:22,  8.07s/it]\u001b[A\n",
      " 28%|██████████████████████▊                                                          | 97/344 [13:31<32:17,  7.84s/it]\u001b[A\n",
      " 28%|███████████████████████                                                          | 98/344 [13:39<32:07,  7.84s/it]\u001b[A\n",
      " 29%|███████████████████████▎                                                         | 99/344 [13:46<31:33,  7.73s/it]\u001b[A\n",
      " 29%|███████████████████████▎                                                        | 100/344 [13:54<31:23,  7.72s/it]\u001b[A\n",
      " 29%|███████████████████████▍                                                        | 101/344 [14:03<32:42,  8.07s/it]\u001b[A\n",
      " 30%|███████████████████████▋                                                        | 102/344 [14:11<32:28,  8.05s/it]\u001b[A\n",
      " 30%|███████████████████████▉                                                        | 103/344 [14:19<31:58,  7.96s/it]\u001b[A\n",
      " 30%|████████████████████████▏                                                       | 104/344 [14:27<32:10,  8.04s/it]\u001b[A\n",
      " 31%|████████████████████████▍                                                       | 105/344 [14:36<33:52,  8.50s/it]\u001b[A\n",
      " 31%|████████████████████████▋                                                       | 106/344 [14:45<33:30,  8.45s/it]\u001b[A\n",
      " 31%|████████████████████████▉                                                       | 107/344 [14:53<32:42,  8.28s/it]\u001b[A\n",
      " 31%|█████████████████████████                                                       | 108/344 [15:00<31:41,  8.06s/it]\u001b[A\n",
      " 32%|█████████████████████████▎                                                      | 109/344 [15:08<31:08,  7.95s/it]\u001b[A\n",
      " 32%|█████████████████████████▌                                                      | 110/344 [15:16<31:24,  8.05s/it]\u001b[A\n",
      " 32%|█████████████████████████▊                                                      | 111/344 [15:25<32:04,  8.26s/it]\u001b[A\n",
      " 33%|██████████████████████████                                                      | 112/344 [15:33<32:07,  8.31s/it]\u001b[A\n",
      " 33%|██████████████████████████▎                                                     | 113/344 [15:43<32:59,  8.57s/it]\u001b[A\n",
      " 33%|██████████████████████████▌                                                     | 114/344 [15:50<31:58,  8.34s/it]\u001b[A\n",
      " 33%|██████████████████████████▋                                                     | 115/344 [15:58<31:10,  8.17s/it]\u001b[A\n",
      " 34%|██████████████████████████▉                                                     | 116/344 [16:06<31:12,  8.21s/it]\u001b[A\n",
      " 34%|███████████████████████████▏                                                    | 117/344 [16:14<30:43,  8.12s/it]\u001b[A\n",
      " 34%|███████████████████████████▍                                                    | 118/344 [16:21<28:59,  7.70s/it]\u001b[A\n",
      " 35%|███████████████████████████▋                                                    | 119/344 [16:29<28:39,  7.64s/it]\u001b[A\n",
      " 35%|███████████████████████████▉                                                    | 120/344 [16:37<28:55,  7.75s/it]\u001b[A\n",
      " 35%|████████████████████████████▏                                                   | 121/344 [16:45<29:14,  7.87s/it]\u001b[A\n",
      " 35%|████████████████████████████▎                                                   | 122/344 [16:53<29:23,  7.94s/it]\u001b[A\n",
      " 36%|████████████████████████████▌                                                   | 123/344 [17:01<29:38,  8.05s/it]\u001b[A\n",
      " 36%|████████████████████████████▊                                                   | 124/344 [17:09<29:51,  8.14s/it]\u001b[A\n",
      " 36%|█████████████████████████████                                                   | 125/344 [17:18<30:11,  8.27s/it]\u001b[A\n",
      " 37%|█████████████████████████████▎                                                  | 126/344 [17:27<30:28,  8.39s/it]\u001b[A\n",
      " 37%|█████████████████████████████▌                                                  | 127/344 [17:36<31:10,  8.62s/it]\u001b[A\n",
      " 37%|█████████████████████████████▊                                                  | 128/344 [17:44<30:49,  8.56s/it]\u001b[A\n",
      " 38%|██████████████████████████████                                                  | 129/344 [17:52<29:58,  8.37s/it]\u001b[A\n",
      " 38%|██████████████████████████████▏                                                 | 130/344 [18:00<29:06,  8.16s/it]\u001b[A\n",
      " 38%|██████████████████████████████▍                                                 | 131/344 [18:09<30:02,  8.46s/it]\u001b[A\n",
      " 38%|██████████████████████████████▋                                                 | 132/344 [18:17<29:45,  8.42s/it]\u001b[A\n",
      " 39%|██████████████████████████████▉                                                 | 133/344 [18:26<30:04,  8.55s/it]\u001b[A\n",
      " 39%|███████████████████████████████▏                                                | 134/344 [18:35<30:16,  8.65s/it]\u001b[A\n",
      " 39%|███████████████████████████████▍                                                | 135/344 [18:44<30:04,  8.63s/it]\u001b[A\n",
      " 40%|███████████████████████████████▋                                                | 136/344 [18:52<29:50,  8.61s/it]\u001b[A\n",
      " 40%|███████████████████████████████▊                                                | 137/344 [19:01<29:41,  8.61s/it]\u001b[A\n",
      " 40%|████████████████████████████████                                                | 138/344 [19:10<29:58,  8.73s/it]\u001b[A\n",
      " 40%|████████████████████████████████▎                                               | 139/344 [19:18<28:50,  8.44s/it]\u001b[A\n",
      " 41%|████████████████████████████████▌                                               | 140/344 [19:26<28:12,  8.30s/it]\u001b[A\n",
      " 41%|████████████████████████████████▊                                               | 141/344 [19:34<28:22,  8.38s/it]\u001b[A\n",
      " 41%|█████████████████████████████████                                               | 142/344 [19:43<28:31,  8.47s/it]\u001b[A\n",
      " 42%|█████████████████████████████████▎                                              | 143/344 [19:51<27:44,  8.28s/it]\u001b[A\n",
      " 42%|█████████████████████████████████▍                                              | 144/344 [19:59<27:39,  8.30s/it]\u001b[A\n",
      " 42%|█████████████████████████████████▋                                              | 145/344 [20:07<27:27,  8.28s/it]\u001b[A\n",
      " 42%|█████████████████████████████████▉                                              | 146/344 [20:16<27:31,  8.34s/it]\u001b[A\n",
      " 43%|██████████████████████████████████▏                                             | 147/344 [20:24<27:35,  8.41s/it]\u001b[A\n",
      " 43%|██████████████████████████████████▍                                             | 148/344 [20:33<27:21,  8.37s/it]\u001b[A\n",
      " 43%|██████████████████████████████████▋                                             | 149/344 [20:40<26:35,  8.18s/it]\u001b[A\n",
      " 44%|██████████████████████████████████▉                                             | 150/344 [20:48<25:59,  8.04s/it]\u001b[A\n",
      " 44%|███████████████████████████████████                                             | 151/344 [20:56<25:30,  7.93s/it]\u001b[A\n",
      " 44%|███████████████████████████████████▎                                            | 152/344 [21:04<25:39,  8.02s/it]\u001b[A\n",
      " 44%|███████████████████████████████████▌                                            | 153/344 [21:12<25:37,  8.05s/it]\u001b[A\n",
      " 45%|███████████████████████████████████▊                                            | 154/344 [21:18<23:45,  7.50s/it]\u001b[A\n",
      " 45%|████████████████████████████████████                                            | 155/344 [21:27<25:03,  7.96s/it]\u001b[A\n",
      " 45%|████████████████████████████████████▎                                           | 156/344 [21:36<25:59,  8.29s/it]\u001b[A\n",
      " 46%|████████████████████████████████████▌                                           | 157/344 [21:46<26:51,  8.62s/it]\u001b[A\n",
      " 46%|████████████████████████████████████▋                                           | 158/344 [21:54<26:41,  8.61s/it]\u001b[A\n",
      " 46%|████████████████████████████████████▉                                           | 159/344 [22:05<27:59,  9.08s/it]\u001b[A\n",
      " 47%|█████████████████████████████████████▏                                          | 160/344 [22:13<27:32,  8.98s/it]\u001b[A\n",
      " 47%|█████████████████████████████████████▍                                          | 161/344 [22:21<26:16,  8.61s/it]\u001b[A\n",
      " 47%|█████████████████████████████████████▋                                          | 162/344 [22:29<25:12,  8.31s/it]\u001b[A\n",
      " 47%|█████████████████████████████████████▉                                          | 163/344 [22:36<24:30,  8.12s/it]\u001b[A\n",
      " 48%|██████████████████████████████████████▏                                         | 164/344 [22:44<24:04,  8.03s/it]\u001b[A\n",
      " 48%|██████████████████████████████████████▎                                         | 165/344 [22:53<24:35,  8.24s/it]\u001b[A\n",
      " 48%|██████████████████████████████████████▌                                         | 166/344 [23:08<30:41, 10.35s/it]\u001b[A\n",
      " 49%|██████████████████████████████████████▊                                         | 167/344 [23:16<28:41,  9.73s/it]\u001b[A\n",
      " 49%|███████████████████████████████████████                                         | 168/344 [23:24<26:58,  9.20s/it]\u001b[A\n",
      " 49%|███████████████████████████████████████▎                                        | 169/344 [23:33<26:16,  9.01s/it]\u001b[A\n",
      " 49%|███████████████████████████████████████▌                                        | 170/344 [23:40<24:26,  8.43s/it]\u001b[A\n",
      " 50%|███████████████████████████████████████▊                                        | 171/344 [23:47<23:18,  8.09s/it]\u001b[A\n",
      " 50%|████████████████████████████████████████                                        | 172/344 [23:54<22:04,  7.70s/it]\u001b[A\n",
      " 50%|████████████████████████████████████████▏                                       | 173/344 [24:02<21:52,  7.68s/it]\u001b[A\n",
      " 51%|████████████████████████████████████████▍                                       | 174/344 [24:10<22:30,  7.94s/it]\u001b[A\n",
      " 51%|████████████████████████████████████████▋                                       | 175/344 [24:18<22:07,  7.86s/it]\u001b[A\n",
      " 51%|████████████████████████████████████████▉                                       | 176/344 [24:27<23:21,  8.35s/it]\u001b[A\n",
      " 51%|█████████████████████████████████████████▏                                      | 177/344 [24:36<23:09,  8.32s/it]\u001b[A\n",
      " 52%|█████████████████████████████████████████▍                                      | 178/344 [24:44<23:22,  8.45s/it]\u001b[A\n",
      " 52%|█████████████████████████████████████████▋                                      | 179/344 [24:53<23:19,  8.48s/it]\u001b[A\n",
      " 52%|█████████████████████████████████████████▊                                      | 180/344 [25:01<22:47,  8.34s/it]\u001b[A\n",
      " 53%|██████████████████████████████████████████                                      | 181/344 [25:09<22:39,  8.34s/it]\u001b[A\n",
      " 53%|██████████████████████████████████████████▎                                     | 182/344 [25:19<23:12,  8.60s/it]\u001b[A\n",
      " 53%|██████████████████████████████████████████▌                                     | 183/344 [25:26<22:29,  8.38s/it]\u001b[A\n",
      " 53%|██████████████████████████████████████████▊                                     | 184/344 [25:35<22:16,  8.35s/it]\u001b[A\n",
      " 54%|███████████████████████████████████████████                                     | 185/344 [25:43<22:11,  8.37s/it]\u001b[A\n",
      " 54%|███████████████████████████████████████████▎                                    | 186/344 [25:51<21:56,  8.33s/it]\u001b[A\n",
      " 54%|███████████████████████████████████████████▍                                    | 187/344 [26:00<22:12,  8.49s/it]\u001b[A\n",
      " 55%|███████████████████████████████████████████▋                                    | 188/344 [26:08<21:16,  8.19s/it]\u001b[A\n",
      " 55%|███████████████████████████████████████████▉                                    | 189/344 [26:16<21:10,  8.19s/it]\u001b[A\n",
      " 55%|████████████████████████████████████████████▏                                   | 190/344 [26:25<21:23,  8.33s/it]\u001b[A\n",
      " 56%|████████████████████████████████████████████▍                                   | 191/344 [26:34<22:07,  8.68s/it]\u001b[A\n",
      " 56%|████████████████████████████████████████████▋                                   | 192/344 [26:43<22:10,  8.75s/it]\u001b[A\n",
      " 56%|████████████████████████████████████████████▉                                   | 193/344 [26:52<22:13,  8.83s/it]\u001b[A\n",
      " 56%|█████████████████████████████████████████████                                   | 194/344 [27:00<21:06,  8.45s/it]\u001b[A\n",
      " 57%|█████████████████████████████████████████████▎                                  | 195/344 [27:08<20:53,  8.41s/it]\u001b[A\n",
      " 57%|█████████████████████████████████████████████▌                                  | 196/344 [27:16<20:12,  8.19s/it]\u001b[A\n",
      " 57%|█████████████████████████████████████████████▊                                  | 197/344 [27:23<19:43,  8.05s/it]\u001b[A\n",
      " 58%|██████████████████████████████████████████████                                  | 198/344 [27:31<19:29,  8.01s/it]\u001b[A\n",
      " 58%|██████████████████████████████████████████████▎                                 | 199/344 [27:39<19:23,  8.03s/it]\u001b[A\n",
      " 58%|██████████████████████████████████████████████▌                                 | 200/344 [27:47<19:18,  8.04s/it]\u001b[A\n",
      " 58%|██████████████████████████████████████████████▋                                 | 201/344 [27:55<19:09,  8.04s/it]\u001b[A\n",
      " 59%|██████████████████████████████████████████████▉                                 | 202/344 [28:04<19:17,  8.15s/it]\u001b[A\n",
      " 59%|███████████████████████████████████████████████▏                                | 203/344 [28:13<20:03,  8.53s/it]\u001b[A\n",
      " 59%|███████████████████████████████████████████████▍                                | 204/344 [28:21<19:13,  8.24s/it]\u001b[A\n",
      " 60%|███████████████████████████████████████████████▋                                | 205/344 [28:28<18:43,  8.09s/it]\u001b[A\n",
      " 60%|███████████████████████████████████████████████▉                                | 206/344 [28:36<17:54,  7.79s/it]\u001b[A\n",
      " 60%|████████████████████████████████████████████████▏                               | 207/344 [28:44<18:09,  7.95s/it]\u001b[A\n",
      " 60%|████████████████████████████████████████████████▎                               | 208/344 [28:51<17:39,  7.79s/it]\u001b[A\n",
      " 61%|████████████████████████████████████████████████▌                               | 209/344 [29:02<19:29,  8.66s/it]\u001b[A\n",
      " 61%|████████████████████████████████████████████████▊                               | 210/344 [29:11<19:48,  8.87s/it]\u001b[A\n",
      " 61%|█████████████████████████████████████████████████                               | 211/344 [29:19<19:04,  8.61s/it]\u001b[A\n",
      " 62%|█████████████████████████████████████████████████▎                              | 212/344 [29:27<18:27,  8.39s/it]\u001b[A\n",
      " 62%|█████████████████████████████████████████████████▌                              | 213/344 [29:35<18:00,  8.25s/it]\u001b[A\n",
      " 62%|█████████████████████████████████████████████████▊                              | 214/344 [29:43<17:33,  8.10s/it]\u001b[A\n",
      " 62%|██████████████████████████████████████████████████                              | 215/344 [29:52<17:44,  8.25s/it]\u001b[A\n",
      " 63%|██████████████████████████████████████████████████▏                             | 216/344 [30:00<17:30,  8.21s/it]\u001b[A\n",
      " 63%|██████████████████████████████████████████████████▍                             | 217/344 [30:09<17:54,  8.46s/it]\u001b[A\n",
      " 63%|██████████████████████████████████████████████████▋                             | 218/344 [30:18<18:08,  8.64s/it]\u001b[A\n",
      " 64%|██████████████████████████████████████████████████▉                             | 219/344 [30:26<17:40,  8.48s/it]\u001b[A\n",
      " 64%|███████████████████████████████████████████████████▏                            | 220/344 [30:34<17:25,  8.43s/it]\u001b[A\n",
      " 64%|███████████████████████████████████████████████████▍                            | 221/344 [30:42<17:12,  8.39s/it]\u001b[A\n",
      " 65%|███████████████████████████████████████████████████▋                            | 222/344 [30:52<17:37,  8.67s/it]\u001b[A\n",
      " 65%|███████████████████████████████████████████████████▊                            | 223/344 [31:01<17:32,  8.69s/it]\u001b[A\n",
      " 65%|████████████████████████████████████████████████████                            | 224/344 [31:09<17:21,  8.68s/it]\u001b[A\n",
      " 65%|████████████████████████████████████████████████████▎                           | 225/344 [31:17<16:51,  8.50s/it]\u001b[A\n",
      " 66%|████████████████████████████████████████████████████▌                           | 226/344 [31:26<16:35,  8.44s/it]\u001b[A\n",
      " 66%|████████████████████████████████████████████████████▊                           | 227/344 [31:36<17:53,  9.17s/it]\u001b[A\n",
      " 66%|█████████████████████████████████████████████████████                           | 228/344 [31:45<17:22,  8.99s/it]\u001b[A\n",
      " 67%|█████████████████████████████████████████████████████▎                          | 229/344 [31:55<18:04,  9.43s/it]\u001b[A\n",
      " 67%|█████████████████████████████████████████████████████▍                          | 230/344 [32:04<17:20,  9.12s/it]\u001b[A\n",
      " 67%|█████████████████████████████████████████████████████▋                          | 231/344 [32:13<17:11,  9.13s/it]\u001b[A\n",
      " 67%|█████████████████████████████████████████████████████▉                          | 232/344 [32:22<16:42,  8.96s/it]\u001b[A\n",
      " 68%|██████████████████████████████████████████████████████▏                         | 233/344 [32:31<16:36,  8.98s/it]\u001b[A\n",
      " 68%|██████████████████████████████████████████████████████▍                         | 234/344 [32:42<17:31,  9.56s/it]\u001b[A\n",
      " 68%|██████████████████████████████████████████████████████▋                         | 235/344 [32:51<17:07,  9.42s/it]\u001b[A\n",
      " 69%|██████████████████████████████████████████████████████▉                         | 236/344 [32:59<16:23,  9.11s/it]\u001b[A\n",
      " 69%|███████████████████████████████████████████████████████                         | 237/344 [33:08<16:05,  9.03s/it]\u001b[A\n",
      " 69%|███████████████████████████████████████████████████████▎                        | 238/344 [33:16<15:42,  8.89s/it]\u001b[A\n",
      " 69%|███████████████████████████████████████████████████████▌                        | 239/344 [33:27<16:23,  9.37s/it]\u001b[A\n",
      " 70%|███████████████████████████████████████████████████████▊                        | 240/344 [33:35<15:42,  9.06s/it]\u001b[A\n",
      " 70%|████████████████████████████████████████████████████████                        | 241/344 [33:43<15:02,  8.76s/it]\u001b[A\n",
      " 70%|████████████████████████████████████████████████████████▎                       | 242/344 [33:51<14:28,  8.52s/it]\u001b[A\n",
      " 71%|████████████████████████████████████████████████████████▌                       | 243/344 [33:59<14:08,  8.41s/it]\u001b[A\n",
      " 71%|████████████████████████████████████████████████████████▋                       | 244/344 [34:07<13:28,  8.08s/it]\u001b[A\n",
      " 71%|████████████████████████████████████████████████████████▉                       | 245/344 [34:17<14:38,  8.88s/it]\u001b[A\n",
      " 72%|█████████████████████████████████████████████████████████▏                      | 246/344 [34:25<13:53,  8.51s/it]\u001b[A\n",
      " 72%|█████████████████████████████████████████████████████████▍                      | 247/344 [34:33<13:27,  8.33s/it]\u001b[A\n",
      " 72%|█████████████████████████████████████████████████████████▋                      | 248/344 [34:43<13:59,  8.74s/it]\u001b[A\n",
      " 72%|█████████████████████████████████████████████████████████▉                      | 249/344 [34:51<13:27,  8.50s/it]\u001b[A\n",
      " 73%|██████████████████████████████████████████████████████████▏                     | 250/344 [34:59<13:08,  8.39s/it]\u001b[A\n",
      " 73%|██████████████████████████████████████████████████████████▎                     | 251/344 [35:07<12:48,  8.26s/it]\u001b[A\n",
      " 73%|██████████████████████████████████████████████████████████▌                     | 252/344 [35:16<13:06,  8.55s/it]\u001b[A\n",
      " 74%|██████████████████████████████████████████████████████████▊                     | 253/344 [35:25<12:59,  8.56s/it]\u001b[A\n",
      " 74%|███████████████████████████████████████████████████████████                     | 254/344 [35:34<13:27,  8.97s/it]\u001b[A\n",
      " 74%|███████████████████████████████████████████████████████████▎                    | 255/344 [35:43<13:00,  8.77s/it]\u001b[A\n",
      " 74%|███████████████████████████████████████████████████████████▌                    | 256/344 [35:51<12:46,  8.71s/it]\u001b[A\n",
      " 75%|███████████████████████████████████████████████████████████▊                    | 257/344 [36:00<12:34,  8.68s/it]\u001b[A\n",
      " 75%|████████████████████████████████████████████████████████████                    | 258/344 [36:09<12:33,  8.76s/it]\u001b[A\n",
      " 75%|████████████████████████████████████████████████████████████▏                   | 259/344 [36:20<13:17,  9.38s/it]\u001b[A\n",
      " 76%|████████████████████████████████████████████████████████████▍                   | 260/344 [36:28<12:49,  9.16s/it]\u001b[A\n",
      " 76%|████████████████████████████████████████████████████████████▋                   | 261/344 [36:38<12:44,  9.21s/it]\u001b[A\n",
      " 76%|████████████████████████████████████████████████████████████▉                   | 262/344 [36:46<12:14,  8.96s/it]\u001b[A\n",
      " 76%|█████████████████████████████████████████████████████████████▏                  | 263/344 [36:56<12:19,  9.13s/it]\u001b[A\n",
      " 77%|█████████████████████████████████████████████████████████████▍                  | 264/344 [37:04<11:48,  8.85s/it]\u001b[A\n",
      " 77%|█████████████████████████████████████████████████████████████▋                  | 265/344 [37:13<11:39,  8.85s/it]\u001b[A\n",
      " 77%|█████████████████████████████████████████████████████████████▊                  | 266/344 [37:22<11:49,  9.09s/it]\u001b[A\n",
      " 78%|██████████████████████████████████████████████████████████████                  | 267/344 [37:32<11:47,  9.19s/it]\u001b[A\n",
      " 78%|██████████████████████████████████████████████████████████████▎                 | 268/344 [37:39<10:52,  8.58s/it]\u001b[A\n",
      " 78%|██████████████████████████████████████████████████████████████▌                 | 269/344 [37:47<10:30,  8.41s/it]\u001b[A\n",
      " 78%|██████████████████████████████████████████████████████████████▊                 | 270/344 [37:55<10:23,  8.43s/it]\u001b[A\n",
      " 79%|███████████████████████████████████████████████████████████████                 | 271/344 [38:04<10:27,  8.60s/it]\u001b[A\n",
      " 79%|███████████████████████████████████████████████████████████████▎                | 272/344 [38:14<10:35,  8.83s/it]\u001b[A\n",
      " 79%|███████████████████████████████████████████████████████████████▍                | 273/344 [38:22<10:17,  8.69s/it]\u001b[A\n",
      " 80%|███████████████████████████████████████████████████████████████▋                | 274/344 [38:31<10:09,  8.71s/it]\u001b[A\n",
      " 80%|███████████████████████████████████████████████████████████████▉                | 275/344 [38:39<09:45,  8.49s/it]\u001b[A\n",
      " 80%|████████████████████████████████████████████████████████████████▏               | 276/344 [38:47<09:37,  8.49s/it]\u001b[A\n",
      " 81%|████████████████████████████████████████████████████████████████▍               | 277/344 [38:55<09:03,  8.11s/it]\u001b[A\n",
      " 81%|████████████████████████████████████████████████████████████████▋               | 278/344 [39:03<09:06,  8.27s/it]\u001b[A\n",
      " 81%|████████████████████████████████████████████████████████████████▉               | 279/344 [39:11<08:53,  8.21s/it]\u001b[A\n",
      " 81%|█████████████████████████████████████████████████████████████████               | 280/344 [39:20<08:49,  8.28s/it]\u001b[A\n",
      " 82%|█████████████████████████████████████████████████████████████████▎              | 281/344 [39:27<08:21,  7.95s/it]\u001b[A\n",
      " 82%|█████████████████████████████████████████████████████████████████▌              | 282/344 [39:35<08:18,  8.04s/it]\u001b[A\n",
      " 82%|█████████████████████████████████████████████████████████████████▊              | 283/344 [39:44<08:21,  8.22s/it]\u001b[A\n",
      " 83%|██████████████████████████████████████████████████████████████████              | 284/344 [39:52<08:09,  8.16s/it]\u001b[A\n",
      " 83%|██████████████████████████████████████████████████████████████████▎             | 285/344 [40:00<08:08,  8.27s/it]\u001b[A\n",
      " 83%|██████████████████████████████████████████████████████████████████▌             | 286/344 [40:08<07:52,  8.14s/it]\u001b[A\n",
      " 83%|██████████████████████████████████████████████████████████████████▋             | 287/344 [40:17<07:55,  8.34s/it]\u001b[A\n",
      " 84%|██████████████████████████████████████████████████████████████████▉             | 288/344 [40:26<07:58,  8.55s/it]\u001b[A\n",
      " 84%|███████████████████████████████████████████████████████████████████▏            | 289/344 [40:33<07:31,  8.22s/it]\u001b[A\n",
      " 84%|███████████████████████████████████████████████████████████████████▍            | 290/344 [40:43<07:46,  8.64s/it]\u001b[A\n",
      " 85%|███████████████████████████████████████████████████████████████████▋            | 291/344 [40:52<07:35,  8.59s/it]\u001b[A\n",
      " 85%|███████████████████████████████████████████████████████████████████▉            | 292/344 [40:59<07:08,  8.25s/it]\u001b[A\n",
      " 85%|████████████████████████████████████████████████████████████████████▏           | 293/344 [41:06<06:39,  7.83s/it]\u001b[A\n",
      " 85%|████████████████████████████████████████████████████████████████████▎           | 294/344 [41:13<06:26,  7.73s/it]\u001b[A\n",
      " 86%|████████████████████████████████████████████████████████████████████▌           | 295/344 [41:21<06:13,  7.62s/it]\u001b[A\n",
      " 86%|████████████████████████████████████████████████████████████████████▊           | 296/344 [41:28<06:06,  7.63s/it]\u001b[A\n",
      " 86%|█████████████████████████████████████████████████████████████████████           | 297/344 [41:37<06:07,  7.83s/it]\u001b[A\n",
      " 87%|█████████████████████████████████████████████████████████████████████▎          | 298/344 [41:47<06:38,  8.65s/it]\u001b[A\n",
      " 87%|█████████████████████████████████████████████████████████████████████▌          | 299/344 [41:56<06:25,  8.56s/it]\u001b[A\n",
      " 87%|█████████████████████████████████████████████████████████████████████▊          | 300/344 [42:03<05:59,  8.18s/it]\u001b[A\n",
      " 88%|██████████████████████████████████████████████████████████████████████          | 301/344 [42:11<05:50,  8.16s/it]\u001b[A\n",
      " 88%|██████████████████████████████████████████████████████████████████████▏         | 302/344 [42:19<05:40,  8.11s/it]\u001b[A\n",
      " 88%|██████████████████████████████████████████████████████████████████████▍         | 303/344 [42:28<05:45,  8.44s/it]\u001b[A\n",
      " 88%|██████████████████████████████████████████████████████████████████████▋         | 304/344 [42:37<05:39,  8.48s/it]\u001b[A\n",
      " 89%|██████████████████████████████████████████████████████████████████████▉         | 305/344 [42:45<05:27,  8.40s/it]\u001b[A\n",
      " 89%|███████████████████████████████████████████████████████████████████████▏        | 306/344 [42:53<05:13,  8.25s/it]\u001b[A\n",
      " 89%|███████████████████████████████████████████████████████████████████████▍        | 307/344 [43:01<05:05,  8.24s/it]\u001b[A\n",
      " 90%|███████████████████████████████████████████████████████████████████████▋        | 308/344 [43:09<04:58,  8.28s/it]\u001b[A\n",
      " 90%|███████████████████████████████████████████████████████████████████████▊        | 309/344 [43:18<04:51,  8.33s/it]\u001b[A\n",
      " 90%|████████████████████████████████████████████████████████████████████████        | 310/344 [43:26<04:41,  8.29s/it]\u001b[A\n",
      " 90%|████████████████████████████████████████████████████████████████████████▎       | 311/344 [43:34<04:29,  8.16s/it]\u001b[A\n",
      " 91%|████████████████████████████████████████████████████████████████████████▌       | 312/344 [43:42<04:18,  8.09s/it]\u001b[A\n",
      " 91%|████████████████████████████████████████████████████████████████████████▊       | 313/344 [43:52<04:30,  8.73s/it]\u001b[A\n",
      " 91%|█████████████████████████████████████████████████████████████████████████       | 314/344 [44:00<04:12,  8.43s/it]\u001b[A\n",
      " 92%|█████████████████████████████████████████████████████████████████████████▎      | 315/344 [44:08<04:00,  8.30s/it]\u001b[A\n",
      " 92%|█████████████████████████████████████████████████████████████████████████▍      | 316/344 [44:16<03:52,  8.31s/it]\u001b[A\n",
      " 92%|█████████████████████████████████████████████████████████████████████████▋      | 317/344 [44:24<03:40,  8.18s/it]\u001b[A\n",
      " 92%|█████████████████████████████████████████████████████████████████████████▉      | 318/344 [44:32<03:29,  8.04s/it]\u001b[A\n",
      " 93%|██████████████████████████████████████████████████████████████████████████▏     | 319/344 [44:41<03:28,  8.33s/it]\u001b[A\n",
      " 93%|██████████████████████████████████████████████████████████████████████████▍     | 320/344 [44:47<03:06,  7.77s/it]\u001b[A\n",
      " 93%|██████████████████████████████████████████████████████████████████████████▋     | 321/344 [44:54<02:49,  7.36s/it]\u001b[A\n",
      " 94%|██████████████████████████████████████████████████████████████████████████▉     | 322/344 [45:00<02:37,  7.14s/it]\u001b[A\n",
      " 94%|███████████████████████████████████████████████████████████████████████████     | 323/344 [45:07<02:30,  7.16s/it]\u001b[A\n",
      " 94%|███████████████████████████████████████████████████████████████████████████▎    | 324/344 [45:15<02:23,  7.18s/it]\u001b[A\n",
      " 94%|███████████████████████████████████████████████████████████████████████████▌    | 325/344 [45:23<02:22,  7.51s/it]\u001b[A\n",
      " 95%|███████████████████████████████████████████████████████████████████████████▊    | 326/344 [45:30<02:12,  7.36s/it]\u001b[A\n",
      " 95%|████████████████████████████████████████████████████████████████████████████    | 327/344 [45:36<01:59,  7.05s/it]\u001b[A\n",
      " 95%|████████████████████████████████████████████████████████████████████████████▎   | 328/344 [45:44<01:55,  7.22s/it]\u001b[A\n",
      " 96%|████████████████████████████████████████████████████████████████████████████▌   | 329/344 [45:50<01:45,  7.01s/it]\u001b[A\n",
      " 96%|████████████████████████████████████████████████████████████████████████████▋   | 330/344 [45:59<01:42,  7.32s/it]\u001b[A\n",
      " 96%|████████████████████████████████████████████████████████████████████████████▉   | 331/344 [46:05<01:32,  7.08s/it]\u001b[A\n",
      " 97%|█████████████████████████████████████████████████████████████████████████████▏  | 332/344 [46:12<01:26,  7.17s/it]\u001b[A\n",
      " 97%|█████████████████████████████████████████████████████████████████████████████▍  | 333/344 [46:20<01:19,  7.20s/it]\u001b[A\n",
      " 97%|█████████████████████████████████████████████████████████████████████████████▋  | 334/344 [46:27<01:11,  7.18s/it]\u001b[A\n",
      " 97%|█████████████████████████████████████████████████████████████████████████████▉  | 335/344 [46:34<01:03,  7.09s/it]\u001b[A\n",
      " 98%|██████████████████████████████████████████████████████████████████████████████▏ | 336/344 [46:40<00:55,  6.98s/it]\u001b[A\n",
      " 98%|██████████████████████████████████████████████████████████████████████████████▎ | 337/344 [46:48<00:49,  7.02s/it]\u001b[A\n",
      " 98%|██████████████████████████████████████████████████████████████████████████████▌ | 338/344 [46:55<00:42,  7.08s/it]\u001b[A\n",
      " 99%|██████████████████████████████████████████████████████████████████████████████▊ | 339/344 [47:01<00:34,  6.89s/it]\u001b[A\n",
      " 99%|███████████████████████████████████████████████████████████████████████████████ | 340/344 [47:07<00:26,  6.70s/it]\u001b[A\n",
      " 99%|███████████████████████████████████████████████████████████████████████████████▎| 341/344 [47:18<00:23,  7.75s/it]\u001b[A\n",
      " 99%|███████████████████████████████████████████████████████████████████████████████▌| 342/344 [47:26<00:15,  7.92s/it]\u001b[A\n",
      "100%|███████████████████████████████████████████████████████████████████████████████▊| 343/344 [47:36<00:08,  8.47s/it]\u001b[A\n",
      "100%|████████████████████████████████████████████████████████████████████████████████| 344/344 [47:43<00:00,  8.33s/it]\u001b[A\n",
      " 43%|█████████████████████████████████▍                                            | 3/7 [1:41:45<2:29:49, 2247.36s/it]\n",
      "  0%|                                                                                           | 0/31 [00:00<?, ?it/s]\u001b[A\n",
      "  3%|██▋                                                                                | 1/31 [00:11<05:40, 11.34s/it]\u001b[A\n",
      "  6%|█████▎                                                                             | 2/31 [00:19<04:41,  9.70s/it]\u001b[A\n",
      " 10%|████████                                                                           | 3/31 [00:28<04:22,  9.39s/it]\u001b[A\n",
      " 13%|██████████▋                                                                        | 4/31 [00:36<03:58,  8.83s/it]\u001b[A\n",
      " 16%|█████████████▍                                                                     | 5/31 [00:44<03:41,  8.51s/it]\u001b[A\n",
      " 19%|████████████████                                                                   | 6/31 [00:53<03:35,  8.62s/it]\u001b[A\n",
      " 23%|██████████████████▋                                                                | 7/31 [01:01<03:24,  8.50s/it]\u001b[A\n",
      " 26%|█████████████████████▍                                                             | 8/31 [01:09<03:08,  8.21s/it]\u001b[A\n",
      " 29%|████████████████████████                                                           | 9/31 [01:17<02:58,  8.11s/it]\u001b[A\n",
      " 32%|██████████████████████████▍                                                       | 10/31 [01:26<02:56,  8.42s/it]\u001b[A\n",
      " 35%|█████████████████████████████                                                     | 11/31 [01:34<02:45,  8.26s/it]\u001b[A\n",
      " 39%|███████████████████████████████▋                                                  | 12/31 [01:41<02:32,  8.01s/it]\u001b[A\n",
      " 42%|██████████████████████████████████▍                                               | 13/31 [01:49<02:21,  7.89s/it]\u001b[A\n",
      " 45%|█████████████████████████████████████                                             | 14/31 [01:59<02:23,  8.43s/it]\u001b[A\n",
      " 48%|███████████████████████████████████████▋                                          | 15/31 [02:06<02:11,  8.23s/it]\u001b[A\n",
      " 52%|██████████████████████████████████████████▎                                       | 16/31 [02:17<02:13,  8.91s/it]\u001b[A\n",
      " 55%|████████████████████████████████████████████▉                                     | 17/31 [02:24<01:58,  8.50s/it]\u001b[A\n",
      " 58%|███████████████████████████████████████████████▌                                  | 18/31 [02:33<01:50,  8.50s/it]\u001b[A\n",
      " 61%|██████████████████████████████████████████████████▎                               | 19/31 [02:41<01:40,  8.38s/it]\u001b[A\n",
      " 65%|████████████████████████████████████████████████████▉                             | 20/31 [02:49<01:29,  8.14s/it]\u001b[A\n",
      " 68%|███████████████████████████████████████████████████████▌                          | 21/31 [02:58<01:24,  8.44s/it]\u001b[A\n",
      " 71%|██████████████████████████████████████████████████████████▏                       | 22/31 [03:06<01:15,  8.35s/it]\u001b[A\n",
      " 74%|████████████████████████████████████████████████████████████▊                     | 23/31 [03:14<01:05,  8.19s/it]\u001b[A\n",
      " 77%|███████████████████████████████████████████████████████████████▍                  | 24/31 [03:22<00:57,  8.19s/it]\u001b[A\n",
      " 81%|██████████████████████████████████████████████████████████████████▏               | 25/31 [03:32<00:52,  8.74s/it]\u001b[A\n",
      " 84%|████████████████████████████████████████████████████████████████████▊             | 26/31 [03:40<00:43,  8.66s/it]\u001b[A\n",
      " 87%|███████████████████████████████████████████████████████████████████████▍          | 27/31 [03:50<00:35,  8.83s/it]\u001b[A\n",
      " 90%|██████████████████████████████████████████████████████████████████████████        | 28/31 [03:59<00:26,  8.97s/it]\u001b[A\n",
      " 94%|████████████████████████████████████████████████████████████████████████████▋     | 29/31 [04:07<00:17,  8.75s/it]\u001b[A\n",
      " 97%|███████████████████████████████████████████████████████████████████████████████▎  | 30/31 [04:17<00:09,  9.07s/it]\u001b[A\n",
      "100%|██████████████████████████████████████████████████████████████████████████████████| 31/31 [04:26<00:00,  8.61s/it]\u001b[A\n",
      " 57%|████████████████████████████████████████████▌                                 | 4/7 [1:46:12<1:13:16, 1465.50s/it]\n",
      "  0%|                                                                                           | 0/43 [00:00<?, ?it/s]\u001b[A\n",
      "  2%|█▉                                                                                 | 1/43 [00:09<06:30,  9.30s/it]\u001b[A\n",
      "  5%|███▊                                                                               | 2/43 [00:18<06:11,  9.06s/it]\u001b[A\n",
      "  7%|█████▊                                                                             | 3/43 [00:27<06:03,  9.10s/it]\u001b[A\n",
      "  9%|███████▋                                                                           | 4/43 [00:35<05:45,  8.85s/it]\u001b[A\n",
      " 12%|█████████▋                                                                         | 5/43 [00:44<05:29,  8.68s/it]\u001b[A\n",
      " 14%|███████████▌                                                                       | 6/43 [00:53<05:25,  8.81s/it]\u001b[A\n",
      " 16%|█████████████▌                                                                     | 7/43 [01:03<05:39,  9.43s/it]\u001b[A\n",
      " 19%|███████████████▍                                                                   | 8/43 [01:11<05:14,  8.98s/it]\u001b[A\n",
      " 21%|█████████████████▎                                                                 | 9/43 [01:20<05:00,  8.84s/it]\u001b[A\n",
      " 23%|███████████████████                                                               | 10/43 [01:30<05:01,  9.13s/it]\u001b[A\n",
      " 26%|████████████████████▉                                                             | 11/43 [01:38<04:43,  8.87s/it]\u001b[A\n",
      " 28%|██████████████████████▉                                                           | 12/43 [01:46<04:29,  8.71s/it]\u001b[A\n",
      " 30%|████████████████████████▊                                                         | 13/43 [01:54<04:15,  8.52s/it]\u001b[A\n",
      " 33%|██████████████████████████▋                                                       | 14/43 [02:04<04:11,  8.69s/it]\u001b[A\n",
      " 35%|████████████████████████████▌                                                     | 15/43 [02:12<04:00,  8.59s/it]\u001b[A\n",
      " 37%|██████████████████████████████▌                                                   | 16/43 [02:20<03:48,  8.46s/it]\u001b[A\n",
      " 40%|████████████████████████████████▍                                                 | 17/43 [02:30<03:52,  8.96s/it]\u001b[A\n",
      " 42%|██████████████████████████████████▎                                               | 18/43 [02:40<03:47,  9.10s/it]\u001b[A\n",
      " 44%|████████████████████████████████████▏                                             | 19/43 [02:48<03:35,  9.00s/it]\u001b[A\n",
      " 47%|██████████████████████████████████████▏                                           | 20/43 [02:57<03:22,  8.78s/it]\u001b[A\n",
      " 49%|████████████████████████████████████████                                          | 21/43 [03:05<03:13,  8.79s/it]\u001b[A\n",
      " 51%|█████████████████████████████████████████▉                                        | 22/43 [03:15<03:11,  9.10s/it]\u001b[A\n",
      " 53%|███████████████████████████████████████████▊                                      | 23/43 [03:24<02:58,  8.94s/it]\u001b[A\n",
      " 56%|█████████████████████████████████████████████▊                                    | 24/43 [03:33<02:52,  9.10s/it]\u001b[A\n",
      " 58%|███████████████████████████████████████████████▋                                  | 25/43 [03:41<02:36,  8.72s/it]\u001b[A\n",
      " 60%|█████████████████████████████████████████████████▌                                | 26/43 [03:49<02:23,  8.45s/it]\u001b[A\n",
      " 63%|███████████████████████████████████████████████████▍                              | 27/43 [03:58<02:16,  8.51s/it]\u001b[A\n",
      " 65%|█████████████████████████████████████████████████████▍                            | 28/43 [04:05<02:04,  8.30s/it]\u001b[A\n",
      " 67%|███████████████████████████████████████████████████████▎                          | 29/43 [04:14<01:59,  8.52s/it]\u001b[A\n",
      " 70%|█████████████████████████████████████████████████████████▏                        | 30/43 [04:22<01:48,  8.34s/it]\u001b[A\n",
      " 72%|███████████████████████████████████████████████████████████                       | 31/43 [04:30<01:38,  8.20s/it]\u001b[A\n",
      " 74%|█████████████████████████████████████████████████████████████                     | 32/43 [04:39<01:31,  8.33s/it]\u001b[A\n",
      " 77%|██████████████████████████████████████████████████████████████▉                   | 33/43 [04:47<01:23,  8.32s/it]\u001b[A\n",
      " 79%|████████████████████████████████████████████████████████████████▊                 | 34/43 [04:55<01:14,  8.27s/it]\u001b[A\n",
      " 81%|██████████████████████████████████████████████████████████████████▋               | 35/43 [05:05<01:08,  8.53s/it]\u001b[A\n",
      " 84%|████████████████████████████████████████████████████████████████████▋             | 36/43 [05:13<01:00,  8.66s/it]\u001b[A\n",
      " 86%|██████████████████████████████████████████████████████████████████████▌           | 37/43 [05:22<00:51,  8.54s/it]\u001b[A\n",
      " 88%|████████████████████████████████████████████████████████████████████████▍         | 38/43 [05:31<00:44,  8.83s/it]\u001b[A\n",
      " 91%|██████████████████████████████████████████████████████████████████████████▎       | 39/43 [05:40<00:35,  8.81s/it]\u001b[A\n",
      " 93%|████████████████████████████████████████████████████████████████████████████▎     | 40/43 [05:49<00:26,  8.76s/it]\u001b[A\n",
      " 95%|██████████████████████████████████████████████████████████████████████████████▏   | 41/43 [05:57<00:17,  8.73s/it]\u001b[A\n",
      " 98%|████████████████████████████████████████████████████████████████████████████████  | 42/43 [06:06<00:08,  8.64s/it]\u001b[A\n",
      "100%|██████████████████████████████████████████████████████████████████████████████████| 43/43 [06:16<00:00,  8.75s/it]\u001b[A\n",
      " 71%|█████████████████████████████████████████████████████████▏                      | 5/7 [1:52:28<35:45, 1072.71s/it]\n",
      "  0%|                                                                                          | 0/192 [00:00<?, ?it/s]\u001b[A\n",
      "  1%|▍                                                                                 | 1/192 [00:09<31:32,  9.91s/it]\u001b[A\n",
      "  1%|▊                                                                                 | 2/192 [00:20<32:18, 10.20s/it]\u001b[A\n",
      "  2%|█▎                                                                                | 3/192 [00:28<29:53,  9.49s/it]\u001b[A\n",
      "  2%|█▋                                                                                | 4/192 [00:37<28:31,  9.10s/it]\u001b[A\n",
      "  3%|██▏                                                                               | 5/192 [00:46<28:04,  9.01s/it]\u001b[A\n",
      "  3%|██▌                                                                               | 6/192 [00:56<28:44,  9.27s/it]\u001b[A\n",
      "  4%|██▉                                                                               | 7/192 [01:04<27:46,  9.01s/it]\u001b[A\n",
      "  4%|███▍                                                                              | 8/192 [01:13<27:38,  9.01s/it]\u001b[A\n",
      "  5%|███▊                                                                              | 9/192 [01:21<26:52,  8.81s/it]\u001b[A\n",
      "  5%|████▏                                                                            | 10/192 [01:31<27:22,  9.02s/it]\u001b[A\n",
      "  6%|████▋                                                                            | 11/192 [01:39<26:25,  8.76s/it]\u001b[A\n",
      "  6%|█████                                                                            | 12/192 [01:48<26:05,  8.69s/it]\u001b[A\n",
      "  7%|█████▍                                                                           | 13/192 [01:55<25:07,  8.42s/it]\u001b[A\n",
      "  7%|█████▉                                                                           | 14/192 [02:05<25:57,  8.75s/it]\u001b[A\n",
      "  8%|██████▎                                                                          | 15/192 [02:15<26:36,  9.02s/it]\u001b[A\n",
      "  8%|██████▊                                                                          | 16/192 [02:23<25:36,  8.73s/it]\u001b[A\n",
      "  9%|███████▏                                                                         | 17/192 [02:31<25:14,  8.65s/it]\u001b[A\n",
      "  9%|███████▌                                                                         | 18/192 [02:40<24:50,  8.57s/it]\u001b[A\n",
      " 10%|████████                                                                         | 19/192 [02:53<29:06, 10.10s/it]\u001b[A\n",
      " 10%|████████▍                                                                        | 20/192 [03:03<28:47, 10.04s/it]\u001b[A\n",
      " 11%|████████▊                                                                        | 21/192 [03:12<27:37,  9.69s/it]\u001b[A\n",
      " 11%|█████████▎                                                                       | 22/192 [03:27<32:22, 11.43s/it]\u001b[A\n",
      " 12%|█████████▋                                                                       | 23/192 [03:37<30:40, 10.89s/it]\u001b[A\n",
      " 12%|██████████▏                                                                      | 24/192 [03:46<28:39, 10.24s/it]\u001b[A\n",
      " 13%|██████████▌                                                                      | 25/192 [03:55<27:42,  9.96s/it]\u001b[A\n",
      " 14%|██████████▉                                                                      | 26/192 [04:04<26:17,  9.50s/it]\u001b[A\n",
      " 14%|███████████▍                                                                     | 27/192 [04:12<25:39,  9.33s/it]\u001b[A\n",
      " 15%|███████████▊                                                                     | 28/192 [04:22<25:53,  9.47s/it]\u001b[A\n",
      " 15%|████████████▏                                                                    | 29/192 [04:31<25:04,  9.23s/it]\u001b[A\n",
      " 16%|████████████▋                                                                    | 30/192 [04:41<25:32,  9.46s/it]\u001b[A\n",
      " 16%|█████████████                                                                    | 31/192 [04:52<26:40,  9.94s/it]\u001b[A\n",
      " 17%|█████████████▌                                                                   | 32/192 [05:02<26:29,  9.94s/it]\u001b[A\n",
      " 17%|█████████████▉                                                                   | 33/192 [05:13<26:51, 10.13s/it]\u001b[A\n",
      " 18%|██████████████▎                                                                  | 34/192 [05:22<25:51,  9.82s/it]\u001b[A\n",
      " 18%|██████████████▊                                                                  | 35/192 [05:32<26:22, 10.08s/it]\u001b[A\n",
      " 19%|███████████████▏                                                                 | 36/192 [05:41<25:30,  9.81s/it]\u001b[A\n",
      " 19%|███████████████▌                                                                 | 37/192 [05:50<24:43,  9.57s/it]\u001b[A\n",
      " 20%|████████████████                                                                 | 38/192 [06:01<25:23,  9.89s/it]\u001b[A\n",
      " 20%|████████████████▍                                                                | 39/192 [06:11<25:07,  9.85s/it]\u001b[A\n",
      " 21%|████████████████▉                                                                | 40/192 [06:20<24:13,  9.57s/it]\u001b[A\n",
      " 21%|█████████████████▎                                                               | 41/192 [06:28<23:12,  9.22s/it]\u001b[A\n",
      " 22%|█████████████████▋                                                               | 42/192 [06:38<23:17,  9.32s/it]\u001b[A\n",
      " 22%|██████████████████▏                                                              | 43/192 [06:46<22:40,  9.13s/it]\u001b[A\n",
      " 23%|██████████████████▌                                                              | 44/192 [06:56<22:30,  9.13s/it]\u001b[A\n",
      " 23%|██████████████████▉                                                              | 45/192 [07:05<22:27,  9.17s/it]\u001b[A\n",
      " 24%|███████████████████▍                                                             | 46/192 [07:14<22:27,  9.23s/it]\u001b[A\n",
      " 24%|███████████████████▊                                                             | 47/192 [07:23<21:57,  9.09s/it]\u001b[A\n",
      " 25%|████████████████████▎                                                            | 48/192 [07:32<21:26,  8.94s/it]\u001b[A\n",
      " 26%|████████████████████▋                                                            | 49/192 [07:40<21:07,  8.87s/it]\u001b[A\n",
      " 26%|█████████████████████                                                            | 50/192 [07:49<20:47,  8.78s/it]\u001b[A\n",
      " 27%|█████████████████████▌                                                           | 51/192 [08:00<22:27,  9.55s/it]\u001b[A\n",
      " 27%|█████████████████████▉                                                           | 52/192 [08:10<22:47,  9.77s/it]\u001b[A\n",
      " 28%|██████████████████████▎                                                          | 53/192 [08:20<22:21,  9.65s/it]\u001b[A\n",
      " 28%|██████████████████████▊                                                          | 54/192 [08:28<21:29,  9.35s/it]\u001b[A\n",
      " 29%|███████████████████████▏                                                         | 55/192 [08:42<24:16, 10.63s/it]\u001b[A\n",
      " 29%|███████████████████████▋                                                         | 56/192 [08:51<22:43, 10.03s/it]\u001b[A\n",
      " 30%|████████████████████████                                                         | 57/192 [09:00<22:05,  9.82s/it]\u001b[A\n",
      " 30%|████████████████████████▍                                                        | 58/192 [09:10<22:11,  9.94s/it]\u001b[A\n",
      " 31%|████████████████████████▉                                                        | 59/192 [09:21<22:47, 10.28s/it]\u001b[A\n",
      " 31%|█████████████████████████▎                                                       | 60/192 [09:30<21:26,  9.75s/it]\u001b[A\n",
      " 32%|█████████████████████████▋                                                       | 61/192 [09:38<20:17,  9.29s/it]\u001b[A\n",
      " 32%|██████████████████████████▏                                                      | 62/192 [09:47<19:44,  9.11s/it]\u001b[A\n",
      " 33%|██████████████████████████▌                                                      | 63/192 [09:58<20:58,  9.76s/it]\u001b[A\n",
      " 33%|███████████████████████████                                                      | 64/192 [10:07<20:01,  9.38s/it]\u001b[A\n",
      " 34%|███████████████████████████▍                                                     | 65/192 [10:15<19:10,  9.06s/it]\u001b[A\n",
      " 34%|███████████████████████████▊                                                     | 66/192 [10:24<19:16,  9.17s/it]\u001b[A\n",
      " 35%|████████████████████████████▎                                                    | 67/192 [10:33<18:41,  8.97s/it]\u001b[A\n",
      " 35%|████████████████████████████▋                                                    | 68/192 [10:42<18:50,  9.12s/it]\u001b[A\n",
      " 36%|█████████████████████████████                                                    | 69/192 [10:51<18:16,  8.92s/it]\u001b[A\n",
      " 36%|█████████████████████████████▌                                                   | 70/192 [11:00<18:21,  9.03s/it]\u001b[A\n",
      " 37%|█████████████████████████████▉                                                   | 71/192 [11:08<17:31,  8.69s/it]\u001b[A\n",
      " 38%|██████████████████████████████▍                                                  | 72/192 [11:17<17:30,  8.76s/it]\u001b[A\n",
      " 38%|██████████████████████████████▊                                                  | 73/192 [11:26<17:28,  8.81s/it]\u001b[A\n",
      " 39%|███████████████████████████████▏                                                 | 74/192 [11:35<17:31,  8.91s/it]\u001b[A\n",
      " 39%|███████████████████████████████▋                                                 | 75/192 [11:44<17:37,  9.04s/it]\u001b[A\n",
      " 40%|████████████████████████████████                                                 | 76/192 [11:52<16:48,  8.70s/it]\u001b[A\n",
      " 40%|████████████████████████████████▍                                                | 77/192 [12:01<16:59,  8.87s/it]\u001b[A\n",
      " 41%|████████████████████████████████▉                                                | 78/192 [12:11<17:06,  9.00s/it]\u001b[A\n",
      " 41%|█████████████████████████████████▎                                               | 79/192 [12:21<17:48,  9.45s/it]\u001b[A\n",
      " 42%|█████████████████████████████████▊                                               | 80/192 [12:29<16:53,  9.05s/it]\u001b[A\n",
      " 42%|██████████████████████████████████▏                                              | 81/192 [12:38<16:37,  8.99s/it]\u001b[A\n",
      " 43%|██████████████████████████████████▌                                              | 82/192 [12:47<16:28,  8.98s/it]\u001b[A\n",
      " 43%|███████████████████████████████████                                              | 83/192 [12:56<16:26,  9.05s/it]\u001b[A\n",
      " 44%|███████████████████████████████████▍                                             | 84/192 [13:06<16:24,  9.11s/it]\u001b[A\n",
      " 44%|███████████████████████████████████▊                                             | 85/192 [13:15<16:14,  9.10s/it]\u001b[A\n",
      " 45%|████████████████████████████████████▎                                            | 86/192 [13:23<15:37,  8.85s/it]\u001b[A\n",
      " 45%|████████████████████████████████████▋                                            | 87/192 [13:32<15:31,  8.87s/it]\u001b[A\n",
      " 46%|█████████████████████████████████████▏                                           | 88/192 [13:42<15:55,  9.19s/it]\u001b[A\n",
      " 46%|█████████████████████████████████████▌                                           | 89/192 [13:51<15:57,  9.30s/it]\u001b[A\n",
      " 47%|█████████████████████████████████████▉                                           | 90/192 [14:00<15:20,  9.03s/it]\u001b[A\n",
      " 47%|██████████████████████████████████████▍                                          | 91/192 [14:09<15:07,  8.99s/it]\u001b[A\n",
      " 48%|██████████████████████████████████████▊                                          | 92/192 [14:18<15:02,  9.02s/it]\u001b[A\n",
      " 48%|███████████████████████████████████████▏                                         | 93/192 [14:27<14:47,  8.97s/it]\u001b[A\n",
      " 49%|███████████████████████████████████████▋                                         | 94/192 [14:36<14:54,  9.13s/it]\u001b[A\n",
      " 49%|████████████████████████████████████████                                         | 95/192 [14:45<14:37,  9.04s/it]\u001b[A\n",
      " 50%|████████████████████████████████████████▌                                        | 96/192 [14:53<14:09,  8.85s/it]\u001b[A\n",
      " 51%|████████████████████████████████████████▉                                        | 97/192 [15:04<15:04,  9.53s/it]\u001b[A\n",
      " 51%|█████████████████████████████████████████▎                                       | 98/192 [15:13<14:30,  9.26s/it]\u001b[A\n",
      " 52%|█████████████████████████████████████████▊                                       | 99/192 [15:22<14:04,  9.08s/it]\u001b[A\n",
      " 52%|█████████████████████████████████████████▋                                      | 100/192 [15:30<13:46,  8.98s/it]\u001b[A\n",
      " 53%|██████████████████████████████████████████                                      | 101/192 [15:40<13:39,  9.01s/it]\u001b[A\n",
      " 53%|██████████████████████████████████████████▌                                     | 102/192 [15:49<13:42,  9.14s/it]\u001b[A\n",
      " 54%|██████████████████████████████████████████▉                                     | 103/192 [16:03<15:45, 10.62s/it]\u001b[A\n",
      " 54%|███████████████████████████████████████████▎                                    | 104/192 [16:12<14:55, 10.17s/it]\u001b[A\n",
      " 55%|███████████████████████████████████████████▊                                    | 105/192 [16:21<14:06,  9.73s/it]\u001b[A\n",
      " 55%|████████████████████████████████████████████▏                                   | 106/192 [16:31<14:03,  9.81s/it]\u001b[A\n",
      " 56%|████████████████████████████████████████████▌                                   | 107/192 [16:39<13:21,  9.43s/it]\u001b[A\n",
      " 56%|█████████████████████████████████████████████                                   | 108/192 [16:52<14:22, 10.27s/it]\u001b[A\n",
      " 57%|█████████████████████████████████████████████▍                                  | 109/192 [17:01<13:52, 10.03s/it]\u001b[A\n",
      " 57%|█████████████████████████████████████████████▊                                  | 110/192 [17:15<15:27, 11.31s/it]\u001b[A\n",
      " 58%|██████████████████████████████████████████████▎                                 | 111/192 [17:26<15:05, 11.18s/it]\u001b[A\n",
      " 58%|██████████████████████████████████████████████▋                                 | 112/192 [17:37<14:49, 11.11s/it]\u001b[A\n",
      " 59%|███████████████████████████████████████████████                                 | 113/192 [17:47<14:15, 10.83s/it]\u001b[A\n",
      " 59%|███████████████████████████████████████████████▌                                | 114/192 [17:56<13:22, 10.28s/it]\u001b[A\n",
      " 60%|███████████████████████████████████████████████▉                                | 115/192 [18:06<12:49, 10.00s/it]\u001b[A\n",
      " 60%|████████████████████████████████████████████████▎                               | 116/192 [18:15<12:30,  9.88s/it]\u001b[A\n",
      " 61%|████████████████████████████████████████████████▊                               | 117/192 [18:25<12:09,  9.73s/it]\u001b[A\n",
      " 61%|█████████████████████████████████████████████████▏                              | 118/192 [18:35<12:17,  9.97s/it]\u001b[A\n",
      " 62%|█████████████████████████████████████████████████▌                              | 119/192 [18:45<12:01,  9.89s/it]\u001b[A\n",
      " 62%|██████████████████████████████████████████████████                              | 120/192 [18:54<11:24,  9.50s/it]\u001b[A\n",
      " 63%|██████████████████████████████████████████████████▍                             | 121/192 [19:02<10:56,  9.25s/it]\u001b[A\n",
      " 64%|██████████████████████████████████████████████████▊                             | 122/192 [19:11<10:40,  9.15s/it]\u001b[A\n",
      " 64%|███████████████████████████████████████████████████▎                            | 123/192 [19:20<10:19,  8.98s/it]\u001b[A\n",
      " 65%|███████████████████████████████████████████████████▋                            | 124/192 [19:28<09:56,  8.77s/it]\u001b[A\n",
      " 65%|████████████████████████████████████████████████████                            | 125/192 [19:38<10:21,  9.28s/it]\u001b[A\n",
      " 66%|████████████████████████████████████████████████████▌                           | 126/192 [19:47<10:02,  9.13s/it]\u001b[A\n",
      " 66%|████████████████████████████████████████████████████▉                           | 127/192 [19:57<10:02,  9.27s/it]\u001b[A\n",
      " 67%|█████████████████████████████████████████████████████▎                          | 128/192 [20:06<09:46,  9.17s/it]\u001b[A\n",
      " 67%|█████████████████████████████████████████████████████▊                          | 129/192 [20:16<09:49,  9.36s/it]\u001b[A\n",
      " 68%|██████████████████████████████████████████████████████▏                         | 130/192 [20:24<09:28,  9.16s/it]\u001b[A\n",
      " 68%|██████████████████████████████████████████████████████▌                         | 131/192 [20:33<09:13,  9.07s/it]\u001b[A\n",
      " 69%|███████████████████████████████████████████████████████                         | 132/192 [20:42<09:02,  9.04s/it]\u001b[A\n",
      " 69%|███████████████████████████████████████████████████████▍                        | 133/192 [20:51<08:44,  8.89s/it]\u001b[A\n",
      " 70%|███████████████████████████████████████████████████████▊                        | 134/192 [20:59<08:22,  8.67s/it]\u001b[A\n",
      " 70%|████████████████████████████████████████████████████████▎                       | 135/192 [21:07<08:10,  8.61s/it]\u001b[A\n",
      " 71%|████████████████████████████████████████████████████████▋                       | 136/192 [21:16<07:58,  8.55s/it]\u001b[A\n",
      " 71%|█████████████████████████████████████████████████████████                       | 137/192 [21:26<08:25,  9.20s/it]\u001b[A\n",
      " 72%|█████████████████████████████████████████████████████████▌                      | 138/192 [21:35<08:04,  8.97s/it]\u001b[A\n",
      " 72%|█████████████████████████████████████████████████████████▉                      | 139/192 [21:43<07:47,  8.83s/it]\u001b[A\n",
      " 73%|██████████████████████████████████████████████████████████▎                     | 140/192 [21:53<07:49,  9.02s/it]\u001b[A\n",
      " 73%|██████████████████████████████████████████████████████████▊                     | 141/192 [22:00<07:19,  8.61s/it]\u001b[A\n",
      " 74%|███████████████████████████████████████████████████████████▏                    | 142/192 [22:10<07:26,  8.94s/it]\u001b[A\n",
      " 74%|███████████████████████████████████████████████████████████▌                    | 143/192 [22:19<07:16,  8.91s/it]\u001b[A\n",
      " 75%|████████████████████████████████████████████████████████████                    | 144/192 [22:27<06:53,  8.61s/it]\u001b[A\n",
      " 76%|████████████████████████████████████████████████████████████▍                   | 145/192 [22:36<06:56,  8.86s/it]\u001b[A\n",
      " 76%|████████████████████████████████████████████████████████████▊                   | 146/192 [22:45<06:51,  8.94s/it]\u001b[A\n",
      " 77%|█████████████████████████████████████████████████████████████▎                  | 147/192 [22:55<06:49,  9.09s/it]\u001b[A\n",
      " 77%|█████████████████████████████████████████████████████████████▋                  | 148/192 [23:03<06:31,  8.90s/it]\u001b[A\n",
      " 78%|██████████████████████████████████████████████████████████████                  | 149/192 [23:12<06:17,  8.78s/it]\u001b[A\n",
      " 78%|██████████████████████████████████████████████████████████████▌                 | 150/192 [23:22<06:26,  9.21s/it]\u001b[A\n",
      " 79%|██████████████████████████████████████████████████████████████▉                 | 151/192 [23:30<06:08,  8.98s/it]\u001b[A\n",
      " 79%|███████████████████████████████████████████████████████████████▎                | 152/192 [23:40<06:05,  9.15s/it]\u001b[A\n",
      " 80%|███████████████████████████████████████████████████████████████▊                | 153/192 [23:49<05:54,  9.08s/it]\u001b[A\n",
      " 80%|████████████████████████████████████████████████████████████████▏               | 154/192 [23:58<05:42,  9.01s/it]\u001b[A\n",
      " 81%|████████████████████████████████████████████████████████████████▌               | 155/192 [24:07<05:31,  8.96s/it]\u001b[A\n",
      " 81%|█████████████████████████████████████████████████████████████████               | 156/192 [24:15<05:11,  8.66s/it]\u001b[A\n",
      " 82%|█████████████████████████████████████████████████████████████████▍              | 157/192 [24:23<04:56,  8.47s/it]\u001b[A\n",
      " 82%|█████████████████████████████████████████████████████████████████▊              | 158/192 [24:31<04:49,  8.52s/it]\u001b[A\n",
      " 83%|██████████████████████████████████████████████████████████████████▎             | 159/192 [24:39<04:36,  8.37s/it]\u001b[A\n",
      " 83%|██████████████████████████████████████████████████████████████████▋             | 160/192 [24:48<04:27,  8.37s/it]\u001b[A\n",
      " 84%|███████████████████████████████████████████████████████████████████             | 161/192 [24:56<04:17,  8.30s/it]\u001b[A\n",
      " 84%|███████████████████████████████████████████████████████████████████▌            | 162/192 [25:05<04:15,  8.52s/it]\u001b[A\n",
      " 85%|███████████████████████████████████████████████████████████████████▉            | 163/192 [25:13<04:05,  8.47s/it]\u001b[A\n",
      " 85%|████████████████████████████████████████████████████████████████████▎           | 164/192 [25:22<03:59,  8.56s/it]\u001b[A\n",
      " 86%|████████████████████████████████████████████████████████████████████▊           | 165/192 [25:30<03:46,  8.39s/it]\u001b[A\n",
      " 86%|█████████████████████████████████████████████████████████████████████▏          | 166/192 [25:38<03:37,  8.38s/it]\u001b[A\n",
      " 87%|█████████████████████████████████████████████████████████████████████▌          | 167/192 [25:47<03:29,  8.37s/it]\u001b[A\n",
      " 88%|██████████████████████████████████████████████████████████████████████          | 168/192 [25:56<03:27,  8.65s/it]\u001b[A\n",
      " 88%|██████████████████████████████████████████████████████████████████████▍         | 169/192 [26:04<03:15,  8.49s/it]\u001b[A\n",
      " 89%|██████████████████████████████████████████████████████████████████████▊         | 170/192 [26:13<03:10,  8.64s/it]\u001b[A\n",
      " 89%|███████████████████████████████████████████████████████████████████████▎        | 171/192 [26:22<03:06,  8.87s/it]\u001b[A\n",
      " 90%|███████████████████████████████████████████████████████████████████████▋        | 172/192 [26:31<02:52,  8.62s/it]\u001b[A\n",
      " 90%|████████████████████████████████████████████████████████████████████████        | 173/192 [26:40<02:49,  8.91s/it]\u001b[A\n",
      " 91%|████████████████████████████████████████████████████████████████████████▌       | 174/192 [26:49<02:39,  8.84s/it]\u001b[A\n",
      " 91%|████████████████████████████████████████████████████████████████████████▉       | 175/192 [26:57<02:28,  8.76s/it]\u001b[A\n",
      " 92%|█████████████████████████████████████████████████████████████████████████▎      | 176/192 [27:07<02:23,  8.97s/it]\u001b[A\n",
      " 92%|█████████████████████████████████████████████████████████████████████████▊      | 177/192 [27:16<02:13,  8.92s/it]\u001b[A\n",
      " 93%|██████████████████████████████████████████████████████████████████████████▏     | 178/192 [27:24<02:03,  8.84s/it]\u001b[A\n",
      " 93%|██████████████████████████████████████████████████████████████████████████▌     | 179/192 [27:38<02:12, 10.18s/it]\u001b[A\n",
      " 94%|███████████████████████████████████████████████████████████████████████████     | 180/192 [27:47<02:00, 10.05s/it]\u001b[A\n",
      " 94%|███████████████████████████████████████████████████████████████████████████▍    | 181/192 [27:56<01:45,  9.55s/it]\u001b[A\n",
      " 95%|███████████████████████████████████████████████████████████████████████████▊    | 182/192 [28:04<01:30,  9.08s/it]\u001b[A\n",
      " 95%|████████████████████████████████████████████████████████████████████████████▎   | 183/192 [28:14<01:24,  9.35s/it]\u001b[A\n",
      " 96%|████████████████████████████████████████████████████████████████████████████▋   | 184/192 [28:23<01:13,  9.23s/it]\u001b[A\n",
      " 96%|█████████████████████████████████████████████████████████████████████████████   | 185/192 [28:33<01:08,  9.72s/it]\u001b[A\n",
      " 97%|█████████████████████████████████████████████████████████████████████████████▌  | 186/192 [28:42<00:56,  9.45s/it]\u001b[A\n",
      " 97%|█████████████████████████████████████████████████████████████████████████████▉  | 187/192 [28:53<00:48,  9.76s/it]\u001b[A\n",
      " 98%|██████████████████████████████████████████████████████████████████████████████▎ | 188/192 [29:01<00:36,  9.22s/it]\u001b[A\n",
      " 98%|██████████████████████████████████████████████████████████████████████████████▊ | 189/192 [29:10<00:27,  9.23s/it]\u001b[A\n",
      " 99%|███████████████████████████████████████████████████████████████████████████████▏| 190/192 [29:19<00:18,  9.29s/it]\u001b[A\n",
      " 99%|███████████████████████████████████████████████████████████████████████████████▌| 191/192 [29:29<00:09,  9.30s/it]\u001b[A\n",
      "100%|████████████████████████████████████████████████████████████████████████████████| 192/192 [29:38<00:00,  9.26s/it]\u001b[A\n",
      " 86%|████████████████████████████████████████████████████████████████████▌           | 6/7 [2:22:07<21:52, 1312.87s/it]\n",
      "  0%|                                                                                          | 0/198 [00:00<?, ?it/s]\u001b[A\n",
      "  1%|▍                                                                                 | 1/198 [00:07<25:29,  7.77s/it]\u001b[A\n",
      "  1%|▊                                                                                 | 2/198 [00:16<27:01,  8.27s/it]\u001b[A\n",
      "  2%|█▏                                                                                | 3/198 [00:24<26:45,  8.23s/it]\u001b[A\n",
      "  2%|█▋                                                                                | 4/198 [00:32<26:27,  8.18s/it]\u001b[A\n",
      "  3%|██                                                                                | 5/198 [00:41<26:44,  8.32s/it]\u001b[A\n",
      "  3%|██▍                                                                               | 6/198 [00:54<32:05, 10.03s/it]\u001b[A\n",
      "  4%|██▉                                                                               | 7/198 [01:02<29:43,  9.34s/it]\u001b[A\n",
      "  4%|███▎                                                                              | 8/198 [01:10<27:43,  8.75s/it]\u001b[A\n",
      "  5%|███▋                                                                              | 9/198 [01:17<26:43,  8.49s/it]\u001b[A\n",
      "  5%|████                                                                             | 10/198 [01:26<26:22,  8.42s/it]\u001b[A\n",
      "  6%|████▌                                                                            | 11/198 [01:34<25:44,  8.26s/it]\u001b[A\n",
      "  6%|████▉                                                                            | 12/198 [01:43<26:27,  8.53s/it]\u001b[A\n",
      "  7%|█████▎                                                                           | 13/198 [01:51<25:42,  8.34s/it]\u001b[A\n",
      "  7%|█████▋                                                                           | 14/198 [01:59<25:50,  8.43s/it]\u001b[A\n",
      "  8%|██████▏                                                                          | 15/198 [02:08<26:14,  8.60s/it]\u001b[A\n",
      "  8%|██████▌                                                                          | 16/198 [02:16<25:01,  8.25s/it]\u001b[A\n",
      "  9%|██████▉                                                                          | 17/198 [02:24<25:20,  8.40s/it]\u001b[A\n",
      "  9%|███████▎                                                                         | 18/198 [02:34<26:27,  8.82s/it]\u001b[A\n",
      " 10%|███████▊                                                                         | 19/198 [02:42<25:41,  8.61s/it]\u001b[A\n",
      " 10%|████████▏                                                                        | 20/198 [02:51<25:36,  8.63s/it]\u001b[A\n",
      " 11%|████████▌                                                                        | 21/198 [03:00<25:19,  8.58s/it]\u001b[A\n",
      " 11%|█████████                                                                        | 22/198 [03:07<24:14,  8.26s/it]\u001b[A\n",
      " 12%|█████████▍                                                                       | 23/198 [03:15<24:12,  8.30s/it]\u001b[A\n",
      " 12%|█████████▊                                                                       | 24/198 [03:24<24:22,  8.40s/it]\u001b[A\n",
      " 13%|██████████▏                                                                      | 25/198 [03:33<24:36,  8.54s/it]\u001b[A\n",
      " 13%|██████████▋                                                                      | 26/198 [03:42<24:38,  8.60s/it]\u001b[A\n",
      " 14%|███████████                                                                      | 27/198 [03:50<24:07,  8.46s/it]\u001b[A\n",
      " 14%|███████████▍                                                                     | 28/198 [03:58<23:57,  8.46s/it]\u001b[A\n",
      " 15%|███████████▊                                                                     | 29/198 [04:06<23:27,  8.33s/it]\u001b[A\n",
      " 15%|████████████▎                                                                    | 30/198 [04:16<24:15,  8.66s/it]\u001b[A\n",
      " 16%|████████████▋                                                                    | 31/198 [04:26<25:25,  9.13s/it]\u001b[A\n",
      " 16%|█████████████                                                                    | 32/198 [04:36<25:40,  9.28s/it]\u001b[A\n",
      " 17%|█████████████▌                                                                   | 33/198 [04:45<25:27,  9.26s/it]\u001b[A\n",
      " 17%|█████████████▉                                                                   | 34/198 [04:53<24:05,  8.82s/it]\u001b[A\n",
      " 18%|██████████████▎                                                                  | 35/198 [05:02<24:09,  8.89s/it]\u001b[A\n",
      " 18%|██████████████▋                                                                  | 36/198 [05:10<23:44,  8.79s/it]\u001b[A\n",
      " 19%|███████████████▏                                                                 | 37/198 [05:18<23:05,  8.60s/it]\u001b[A\n",
      " 19%|███████████████▌                                                                 | 38/198 [05:28<23:23,  8.77s/it]\u001b[A\n",
      " 20%|███████████████▉                                                                 | 39/198 [05:38<24:17,  9.17s/it]\u001b[A\n",
      " 20%|████████████████▎                                                                | 40/198 [05:46<23:47,  9.03s/it]\u001b[A\n",
      " 21%|████████████████▊                                                                | 41/198 [05:55<23:17,  8.90s/it]\u001b[A\n",
      " 21%|█████████████████▏                                                               | 42/198 [06:04<23:19,  8.97s/it]\u001b[A\n",
      " 22%|█████████████████▌                                                               | 43/198 [06:14<23:33,  9.12s/it]\u001b[A\n",
      " 22%|██████████████████                                                               | 44/198 [06:22<22:45,  8.86s/it]\u001b[A\n",
      " 23%|██████████████████▍                                                              | 45/198 [06:31<23:00,  9.02s/it]\u001b[A\n",
      " 23%|██████████████████▊                                                              | 46/198 [06:40<22:34,  8.91s/it]\u001b[A\n",
      " 24%|███████████████████▏                                                             | 47/198 [06:48<22:02,  8.76s/it]\u001b[A\n",
      " 24%|███████████████████▋                                                             | 48/198 [06:57<21:42,  8.68s/it]\u001b[A\n",
      " 25%|████████████████████                                                             | 49/198 [07:06<22:18,  8.98s/it]\u001b[A\n",
      " 25%|████████████████████▍                                                            | 50/198 [07:16<22:24,  9.09s/it]\u001b[A\n",
      " 26%|████████████████████▊                                                            | 51/198 [07:24<21:58,  8.97s/it]\u001b[A\n",
      " 26%|█████████████████████▎                                                           | 52/198 [07:32<21:00,  8.63s/it]\u001b[A\n",
      " 27%|█████████████████████▋                                                           | 53/198 [07:41<20:50,  8.63s/it]\u001b[A\n",
      " 27%|██████████████████████                                                           | 54/198 [07:50<20:59,  8.74s/it]\u001b[A\n",
      " 28%|██████████████████████▌                                                          | 55/198 [07:59<20:58,  8.80s/it]\u001b[A\n",
      " 28%|██████████████████████▉                                                          | 56/198 [08:08<21:07,  8.93s/it]\u001b[A\n",
      " 29%|███████████████████████▎                                                         | 57/198 [08:17<21:02,  8.95s/it]\u001b[A\n",
      " 29%|███████████████████████▋                                                         | 58/198 [08:26<20:33,  8.81s/it]\u001b[A\n",
      " 30%|████████████████████████▏                                                        | 59/198 [08:34<20:08,  8.70s/it]\u001b[A\n",
      " 30%|████████████████████████▌                                                        | 60/198 [08:43<20:09,  8.76s/it]\u001b[A\n",
      " 31%|████████████████████████▉                                                        | 61/198 [08:51<19:51,  8.69s/it]\u001b[A\n",
      " 31%|█████████████████████████▎                                                       | 62/198 [09:00<19:24,  8.56s/it]\u001b[A\n",
      " 32%|█████████████████████████▊                                                       | 63/198 [09:09<19:51,  8.82s/it]\u001b[A\n",
      " 32%|██████████████████████████▏                                                      | 64/198 [09:17<19:20,  8.66s/it]\u001b[A\n",
      " 33%|██████████████████████████▌                                                      | 65/198 [09:26<19:10,  8.65s/it]\u001b[A\n",
      " 33%|███████████████████████████                                                      | 66/198 [09:35<18:56,  8.61s/it]\u001b[A\n",
      " 34%|███████████████████████████▍                                                     | 67/198 [09:45<19:42,  9.02s/it]\u001b[A\n",
      " 34%|███████████████████████████▊                                                     | 68/198 [09:55<20:34,  9.50s/it]\u001b[A\n",
      " 35%|████████████████████████████▏                                                    | 69/198 [10:04<19:53,  9.25s/it]\u001b[A\n",
      " 35%|████████████████████████████▋                                                    | 70/198 [10:12<19:14,  9.02s/it]\u001b[A\n",
      " 36%|█████████████████████████████                                                    | 71/198 [10:21<18:38,  8.81s/it]\u001b[A\n",
      " 36%|█████████████████████████████▍                                                   | 72/198 [10:29<18:13,  8.67s/it]\u001b[A\n",
      " 37%|█████████████████████████████▊                                                   | 73/198 [10:38<18:01,  8.65s/it]\u001b[A\n",
      " 37%|██████████████████████████████▎                                                  | 74/198 [10:46<17:46,  8.60s/it]\u001b[A\n",
      " 38%|██████████████████████████████▋                                                  | 75/198 [10:55<17:34,  8.57s/it]\u001b[A\n",
      " 38%|███████████████████████████████                                                  | 76/198 [11:03<17:10,  8.45s/it]\u001b[A\n",
      " 39%|███████████████████████████████▌                                                 | 77/198 [11:13<17:57,  8.91s/it]\u001b[A\n",
      " 39%|███████████████████████████████▉                                                 | 78/198 [11:20<17:07,  8.56s/it]\u001b[A\n",
      " 40%|████████████████████████████████▎                                                | 79/198 [11:29<16:44,  8.44s/it]\u001b[A\n",
      " 40%|████████████████████████████████▋                                                | 80/198 [11:40<18:02,  9.17s/it]\u001b[A\n",
      " 41%|█████████████████████████████████▏                                               | 81/198 [11:49<17:59,  9.23s/it]\u001b[A\n",
      " 41%|█████████████████████████████████▌                                               | 82/198 [11:58<17:54,  9.26s/it]\u001b[A\n",
      " 42%|█████████████████████████████████▉                                               | 83/198 [12:07<17:21,  9.06s/it]\u001b[A\n",
      " 42%|██████████████████████████████████▎                                              | 84/198 [12:18<18:13,  9.59s/it]\u001b[A\n",
      " 43%|██████████████████████████████████▊                                              | 85/198 [12:26<17:28,  9.28s/it]\u001b[A\n",
      " 43%|███████████████████████████████████▏                                             | 86/198 [12:36<17:29,  9.37s/it]\u001b[A\n",
      " 44%|███████████████████████████████████▌                                             | 87/198 [12:43<16:10,  8.75s/it]\u001b[A\n",
      " 44%|████████████████████████████████████                                             | 88/198 [12:52<15:55,  8.69s/it]\u001b[A\n",
      " 45%|████████████████████████████████████▍                                            | 89/198 [13:01<16:09,  8.90s/it]\u001b[A\n",
      " 45%|████████████████████████████████████▊                                            | 90/198 [13:10<15:49,  8.79s/it]\u001b[A\n",
      " 46%|█████████████████████████████████████▏                                           | 91/198 [13:22<17:53, 10.03s/it]\u001b[A\n",
      " 46%|█████████████████████████████████████▋                                           | 92/198 [13:30<16:30,  9.35s/it]\u001b[A\n",
      " 47%|██████████████████████████████████████                                           | 93/198 [13:38<15:22,  8.79s/it]\u001b[A\n",
      " 47%|██████████████████████████████████████▍                                          | 94/198 [13:46<14:53,  8.59s/it]\u001b[A\n",
      " 48%|██████████████████████████████████████▊                                          | 95/198 [13:55<14:56,  8.70s/it]\u001b[A\n",
      " 48%|███████████████████████████████████████▎                                         | 96/198 [14:02<14:15,  8.38s/it]\u001b[A\n",
      " 49%|███████████████████████████████████████▋                                         | 97/198 [14:11<13:58,  8.31s/it]\u001b[A\n",
      " 49%|████████████████████████████████████████                                         | 98/198 [14:19<13:44,  8.25s/it]\u001b[A\n",
      " 50%|████████████████████████████████████████▌                                        | 99/198 [14:27<13:42,  8.31s/it]\u001b[A\n",
      " 51%|████████████████████████████████████████▍                                       | 100/198 [14:38<14:37,  8.95s/it]\u001b[A\n",
      " 51%|████████████████████████████████████████▊                                       | 101/198 [14:46<14:13,  8.80s/it]\u001b[A\n",
      " 52%|█████████████████████████████████████████▏                                      | 102/198 [14:55<14:05,  8.81s/it]\u001b[A\n",
      " 52%|█████████████████████████████████████████▌                                      | 103/198 [15:02<13:20,  8.42s/it]\u001b[A\n",
      " 53%|██████████████████████████████████████████                                      | 104/198 [15:10<12:52,  8.22s/it]\u001b[A\n",
      " 53%|██████████████████████████████████████████▍                                     | 105/198 [15:18<12:39,  8.17s/it]\u001b[A\n",
      " 54%|██████████████████████████████████████████▊                                     | 106/198 [15:28<13:08,  8.57s/it]\u001b[A\n",
      " 54%|███████████████████████████████████████████▏                                    | 107/198 [15:35<12:22,  8.16s/it]\u001b[A\n",
      " 55%|███████████████████████████████████████████▋                                    | 108/198 [15:43<12:06,  8.07s/it]\u001b[A\n",
      " 55%|████████████████████████████████████████████                                    | 109/198 [15:51<11:56,  8.05s/it]\u001b[A\n",
      " 56%|████████████████████████████████████████████▍                                   | 110/198 [15:58<11:25,  7.79s/it]\u001b[A\n",
      " 56%|████████████████████████████████████████████▊                                   | 111/198 [16:05<11:03,  7.63s/it]\u001b[A\n",
      " 57%|█████████████████████████████████████████████▎                                  | 112/198 [16:13<10:55,  7.62s/it]\u001b[A\n",
      " 57%|█████████████████████████████████████████████▋                                  | 113/198 [16:20<10:45,  7.59s/it]\u001b[A\n",
      " 58%|██████████████████████████████████████████████                                  | 114/198 [16:30<11:21,  8.11s/it]\u001b[A\n",
      " 58%|██████████████████████████████████████████████▍                                 | 115/198 [16:38<11:13,  8.11s/it]\u001b[A\n",
      " 59%|██████████████████████████████████████████████▊                                 | 116/198 [16:45<10:38,  7.78s/it]\u001b[A\n",
      " 59%|███████████████████████████████████████████████▎                                | 117/198 [16:52<10:20,  7.66s/it]\u001b[A\n",
      " 60%|███████████████████████████████████████████████▋                                | 118/198 [16:59<10:02,  7.53s/it]\u001b[A\n",
      " 60%|████████████████████████████████████████████████                                | 119/198 [17:09<10:44,  8.16s/it]\u001b[A\n",
      " 61%|████████████████████████████████████████████████▍                               | 120/198 [17:16<10:10,  7.83s/it]\u001b[A\n",
      " 61%|████████████████████████████████████████████████▉                               | 121/198 [17:24<10:07,  7.88s/it]\u001b[A\n",
      " 62%|█████████████████████████████████████████████████▎                              | 122/198 [17:32<10:07,  7.99s/it]\u001b[A\n",
      " 62%|█████████████████████████████████████████████████▋                              | 123/198 [17:40<09:42,  7.77s/it]\u001b[A\n",
      " 63%|██████████████████████████████████████████████████                              | 124/198 [17:47<09:31,  7.72s/it]\u001b[A\n",
      " 63%|██████████████████████████████████████████████████▌                             | 125/198 [17:56<09:46,  8.03s/it]\u001b[A\n",
      " 64%|██████████████████████████████████████████████████▉                             | 126/198 [18:03<09:13,  7.69s/it]\u001b[A\n",
      " 64%|███████████████████████████████████████████████████▎                            | 127/198 [18:12<09:40,  8.18s/it]\u001b[A\n",
      " 65%|███████████████████████████████████████████████████▋                            | 128/198 [18:20<09:26,  8.09s/it]\u001b[A\n",
      " 65%|████████████████████████████████████████████████████                            | 129/198 [18:29<09:28,  8.24s/it]\u001b[A\n",
      " 66%|████████████████████████████████████████████████████▌                           | 130/198 [18:37<09:25,  8.32s/it]\u001b[A\n",
      " 66%|████████████████████████████████████████████████████▉                           | 131/198 [18:46<09:27,  8.47s/it]\u001b[A\n",
      " 67%|█████████████████████████████████████████████████████▎                          | 132/198 [18:55<09:22,  8.52s/it]\u001b[A\n",
      " 67%|█████████████████████████████████████████████████████▋                          | 133/198 [19:03<09:09,  8.46s/it]\u001b[A\n",
      " 68%|██████████████████████████████████████████████████████▏                         | 134/198 [19:11<08:56,  8.38s/it]\u001b[A\n",
      " 68%|██████████████████████████████████████████████████████▌                         | 135/198 [19:19<08:46,  8.35s/it]\u001b[A\n",
      " 69%|██████████████████████████████████████████████████████▉                         | 136/198 [19:29<09:10,  8.88s/it]\u001b[A\n",
      " 69%|███████████████████████████████████████████████████████▎                        | 137/198 [19:39<09:17,  9.14s/it]\u001b[A\n",
      " 70%|███████████████████████████████████████████████████████▊                        | 138/198 [19:48<08:56,  8.94s/it]\u001b[A\n",
      " 70%|████████████████████████████████████████████████████████▏                       | 139/198 [19:56<08:38,  8.78s/it]\u001b[A\n",
      " 71%|████████████████████████████████████████████████████████▌                       | 140/198 [20:05<08:23,  8.68s/it]\u001b[A\n",
      " 71%|████████████████████████████████████████████████████████▉                       | 141/198 [20:12<07:52,  8.28s/it]\u001b[A\n",
      " 72%|█████████████████████████████████████████████████████████▎                      | 142/198 [20:20<07:32,  8.09s/it]\u001b[A\n",
      " 72%|█████████████████████████████████████████████████████████▊                      | 143/198 [20:27<07:20,  8.01s/it]\u001b[A\n",
      " 73%|██████████████████████████████████████████████████████████▏                     | 144/198 [20:35<07:11,  7.98s/it]\u001b[A\n",
      " 73%|██████████████████████████████████████████████████████████▌                     | 145/198 [20:42<06:49,  7.72s/it]\u001b[A\n",
      " 74%|██████████████████████████████████████████████████████████▉                     | 146/198 [20:51<06:51,  7.92s/it]\u001b[A\n",
      " 74%|███████████████████████████████████████████████████████████▍                    | 147/198 [21:00<07:03,  8.30s/it]\u001b[A\n",
      " 75%|███████████████████████████████████████████████████████████▊                    | 148/198 [21:12<07:57,  9.55s/it]\u001b[A\n",
      " 75%|████████████████████████████████████████████████████████████▏                   | 149/198 [21:20<07:17,  8.93s/it]\u001b[A\n",
      " 76%|████████████████████████████████████████████████████████████▌                   | 150/198 [21:29<07:04,  8.85s/it]\u001b[A\n",
      " 76%|█████████████████████████████████████████████████████████████                   | 151/198 [21:37<06:48,  8.68s/it]\u001b[A\n",
      " 77%|█████████████████████████████████████████████████████████████▍                  | 152/198 [21:44<06:17,  8.21s/it]\u001b[A\n",
      " 77%|█████████████████████████████████████████████████████████████▊                  | 153/198 [21:52<06:05,  8.12s/it]\u001b[A\n",
      " 78%|██████████████████████████████████████████████████████████████▏                 | 154/198 [22:00<05:53,  8.03s/it]\u001b[A\n",
      " 78%|██████████████████████████████████████████████████████████████▋                 | 155/198 [22:07<05:40,  7.91s/it]\u001b[A\n",
      " 79%|███████████████████████████████████████████████████████████████                 | 156/198 [22:16<05:43,  8.17s/it]\u001b[A\n",
      " 79%|███████████████████████████████████████████████████████████████▍                | 157/198 [22:24<05:31,  8.08s/it]\u001b[A\n",
      " 80%|███████████████████████████████████████████████████████████████▊                | 158/198 [22:32<05:20,  8.02s/it]\u001b[A\n",
      " 80%|████████████████████████████████████████████████████████████████▏               | 159/198 [22:40<05:12,  8.02s/it]\u001b[A\n",
      " 81%|████████████████████████████████████████████████████████████████▋               | 160/198 [22:48<05:05,  8.05s/it]\u001b[A\n",
      " 81%|█████████████████████████████████████████████████████████████████               | 161/198 [22:56<04:56,  8.02s/it]\u001b[A\n",
      " 82%|█████████████████████████████████████████████████████████████████▍              | 162/198 [23:04<04:49,  8.04s/it]\u001b[A\n",
      " 82%|█████████████████████████████████████████████████████████████████▊              | 163/198 [23:12<04:39,  7.99s/it]\u001b[A\n",
      " 83%|██████████████████████████████████████████████████████████████████▎             | 164/198 [23:20<04:34,  8.07s/it]\u001b[A\n",
      " 83%|██████████████████████████████████████████████████████████████████▋             | 165/198 [23:28<04:28,  8.14s/it]\u001b[A\n",
      " 84%|███████████████████████████████████████████████████████████████████             | 166/198 [23:37<04:23,  8.24s/it]\u001b[A\n",
      " 84%|███████████████████████████████████████████████████████████████████▍            | 167/198 [23:45<04:13,  8.17s/it]\u001b[A\n",
      " 85%|███████████████████████████████████████████████████████████████████▉            | 168/198 [23:53<04:07,  8.25s/it]\u001b[A\n",
      " 85%|████████████████████████████████████████████████████████████████████▎           | 169/198 [24:02<04:03,  8.39s/it]\u001b[A\n",
      " 86%|████████████████████████████████████████████████████████████████████▋           | 170/198 [24:13<04:16,  9.15s/it]\u001b[A\n",
      " 86%|█████████████████████████████████████████████████████████████████████           | 171/198 [24:22<04:02,  8.96s/it]\u001b[A\n",
      " 87%|█████████████████████████████████████████████████████████████████████▍          | 172/198 [24:30<03:46,  8.71s/it]\u001b[A\n",
      " 87%|█████████████████████████████████████████████████████████████████████▉          | 173/198 [24:38<03:35,  8.61s/it]\u001b[A\n",
      " 88%|██████████████████████████████████████████████████████████████████████▎         | 174/198 [24:46<03:24,  8.53s/it]\u001b[A\n",
      " 88%|██████████████████████████████████████████████████████████████████████▋         | 175/198 [24:55<03:15,  8.49s/it]\u001b[A\n",
      " 89%|███████████████████████████████████████████████████████████████████████         | 176/198 [25:04<03:12,  8.75s/it]\u001b[A\n",
      " 89%|███████████████████████████████████████████████████████████████████████▌        | 177/198 [25:13<03:02,  8.67s/it]\u001b[A\n",
      " 90%|███████████████████████████████████████████████████████████████████████▉        | 178/198 [25:21<02:51,  8.55s/it]\u001b[A\n",
      " 90%|████████████████████████████████████████████████████████████████████████▎       | 179/198 [25:29<02:38,  8.32s/it]\u001b[A\n",
      " 91%|████████████████████████████████████████████████████████████████████████▋       | 180/198 [25:37<02:29,  8.33s/it]\u001b[A\n",
      " 91%|█████████████████████████████████████████████████████████████████████████▏      | 181/198 [25:45<02:20,  8.29s/it]\u001b[A\n",
      " 92%|█████████████████████████████████████████████████████████████████████████▌      | 182/198 [25:54<02:13,  8.35s/it]\u001b[A\n",
      " 92%|█████████████████████████████████████████████████████████████████████████▉      | 183/198 [26:01<02:01,  8.11s/it]\u001b[A\n",
      " 93%|██████████████████████████████████████████████████████████████████████████▎     | 184/198 [26:10<01:54,  8.15s/it]\u001b[A\n",
      " 93%|██████████████████████████████████████████████████████████████████████████▋     | 185/198 [26:17<01:43,  7.99s/it]\u001b[A\n",
      " 94%|███████████████████████████████████████████████████████████████████████████▏    | 186/198 [26:26<01:39,  8.25s/it]\u001b[A\n",
      " 94%|███████████████████████████████████████████████████████████████████████████▌    | 187/198 [26:34<01:29,  8.12s/it]\u001b[A\n",
      " 95%|███████████████████████████████████████████████████████████████████████████▉    | 188/198 [26:43<01:22,  8.30s/it]\u001b[A\n",
      " 95%|████████████████████████████████████████████████████████████████████████████▎   | 189/198 [26:53<01:21,  9.00s/it]\u001b[A\n",
      " 96%|████████████████████████████████████████████████████████████████████████████▊   | 190/198 [27:03<01:12,  9.11s/it]\u001b[A\n",
      " 96%|█████████████████████████████████████████████████████████████████████████████▏  | 191/198 [27:11<01:02,  8.96s/it]\u001b[A\n",
      " 97%|█████████████████████████████████████████████████████████████████████████████▌  | 192/198 [27:21<00:54,  9.09s/it]\u001b[A\n",
      " 97%|█████████████████████████████████████████████████████████████████████████████▉  | 193/198 [27:30<00:45,  9.09s/it]\u001b[A\n",
      " 98%|██████████████████████████████████████████████████████████████████████████████▍ | 194/198 [27:39<00:36,  9.07s/it]\u001b[A\n",
      " 98%|██████████████████████████████████████████████████████████████████████████████▊ | 195/198 [27:48<00:27,  9.17s/it]\u001b[A\n",
      " 99%|███████████████████████████████████████████████████████████████████████████████▏| 196/198 [27:56<00:17,  8.77s/it]\u001b[A\n",
      " 99%|███████████████████████████████████████████████████████████████████████████████▌| 197/198 [28:05<00:08,  8.82s/it]\u001b[A\n",
      "100%|████████████████████████████████████████████████████████████████████████████████| 198/198 [28:13<00:00,  8.56s/it]\u001b[A\n",
      "100%|████████████████████████████████████████████████████████████████████████████████| 7/7 [2:50:22<00:00, 1460.35s/it]\n"
     ]
    }
   ],
   "source": [
    "fc.standard_name_verified_images_to_img_anno_by_tile_dir(verified_set_paths, img_anno_directory, incorrect_named_correctly_chipped_dir, tile_dir_path)"
   ]
  },
  {
   "cell_type": "code",
   "execution_count": null,
   "id": "8f422b1b-c1fa-41dd-99f3-9a0b7cb83d7c",
   "metadata": {},
   "outputs": [],
   "source": [
    "fc.relocate_incorrect_image_content_and_naming(img_anno_directory, incorrect_named_correctly_chipped_dir, tile_dir_path)"
   ]
  },
  {
   "cell_type": "code",
   "execution_count": 5,
   "id": "13f9d36a-8eca-49ce-9166-51339bc6027f",
   "metadata": {},
   "outputs": [
    {
     "data": {
      "text/plain": [
       "[]"
      ]
     },
     "execution_count": 5,
     "metadata": {},
     "output_type": "execute_result"
    }
   ],
   "source": [
    "(glob(incorrect_named_correctly_chipped_dir + \"/*.jpg\", recursive = True))"
   ]
  },
  {
   "cell_type": "code",
   "execution_count": 4,
   "id": "4b237f57-f4d7-42f3-ade7-f3b8de832f0b",
   "metadata": {
    "tags": []
   },
   "outputs": [
    {
     "name": "stderr",
     "output_type": "stream",
     "text": [
      "  2%|█▊                                                                             | 28/1184 [00:00<00:04, 275.83it/s]"
     ]
    },
    {
     "name": "stdout",
     "output_type": "stream",
     "text": [
      "m_2408126_ne_17_060_20191128\n",
      "m_2508015_se_17_060_20191120\n",
      "m_2708203_sw_17_060_20191111\n",
      "m_2708220_se_17_060_20191129\n",
      "m_2709841_se_14_060_20180526\n",
      "m_2709847_se_14_060_20181209\n",
      "m_2709912_ne_14_060_20190104\n",
      "m_2709921_sw_14_060_20190104\n",
      "m_2709929_sw_14_060_20190104\n",
      "m_2808138_sw_17_060_20191130\n",
      "m_2809726_sw_14_060_20181209\n",
      "m_2809839_se_14_060_20181103\n",
      "m_2908901_ne_16_060_20190707\n",
      "m_2908901_nw_16_060_20190707\n",
      "m_2908917_nw_16_060_20190707\n",
      "m_2908946_sw_16_060_20190906\n",
      "m_2909006_ne_15_060_20190707\n",
      "m_2909006_nw_15_060_20190707\n",
      "m_2909008_se_15_060_20190707\n",
      "m_2909008_sw_15_060_20190707\n",
      "m_2909016_ne_15_060_20190707\n",
      "m_2909019_sw_15_060_20190707\n",
      "m_2909027_ne_15_060_20190906\n",
      "m_2909027_nw_15_060_20190906\n",
      "m_2909038_se_15_060_20190707\n",
      "m_2909055_sw_15_060_20190830\n",
      "m_2909121_nw_15_060_20190706\n",
      "m_2909122_nw_15_060_20190707\n",
      "m_2909123_nw_15_060_20190707\n",
      "m_2909123_sw_15_060_20190707\n",
      "m_2909208_sw_15_060_20190706\n",
      "m_2909309_se_15_060_20190726\n",
      "m_2909310_sw_15_060_20190726\n",
      "m_2909406_se_15_060_20181204\n",
      "m_2909409_ne_15_060_20181120\n",
      "m_2909505_ne_15_060_20181204\n",
      "m_2909506_nw_15_060_20181204\n",
      "m_2909513_ne_15_060_20181204\n",
      "m_2909514_sw_15_060_20181204\n",
      "m_2909515_se_15_060_20201130\n"
     ]
    },
    {
     "name": "stderr",
     "output_type": "stream",
     "text": [
      "  7%|█████▋                                                                         | 85/1184 [00:00<00:04, 249.30it/s]"
     ]
    },
    {
     "name": "stdout",
     "output_type": "stream",
     "text": [
      "m_2909515_sw_15_060_20201130\n",
      "m_2909516_sw_15_060_20201118\n",
      "m_2909521_se_15_060_20181204\n",
      "m_2909522_ne_15_060_20201130\n",
      "m_2909523_ne_15_060_20201130\n",
      "m_2909523_nw_15_060_20201130\n",
      "m_2909524_ne_15_060_20201118\n",
      "m_2909524_nw_15_060_20201118\n",
      "m_2909524_se_15_060_20181120\n",
      "m_2909524_se_15_060_20201118\n",
      "m_2909524_sw_15_060_20201118\n",
      "m_2909532_ne_15_060_20181120\n",
      "m_2909532_sw_15_060_20181210\n",
      "m_2909558_ne_15_060_20181215\n",
      "m_2909559_ne_15_060_20181210\n",
      "m_2909559_nw_15_060_20181210\n",
      "m_2909601_ne_14_060_20181116\n",
      "m_2909636_nw_14_060_20181201\n",
      "m_2909643_ne_14_060_20181201\n",
      "m_2909742_se_14_060_20181101\n",
      "m_2909829_sw_14_060_20181102\n",
      "m_2909836_ne_14_060_20181102\n",
      "m_2909837_ne_14_060_20181102\n",
      "m_2909837_nw_14_060_20181102\n",
      "m_3008135_se_17_060_20191119\n",
      "m_3008136_sw_17_060_20191119\n",
      "m_3008143_ne_17_060_20191119\n",
      "m_3008251_ne_17_060_20191110\n",
      "m_3008816_se_16_060_20191115\n",
      "m_3008816_sw_16_060_20191115\n",
      "m_3008824_ne_16_060_20191115\n",
      "m_3008837_sw_16_060_20181204\n",
      "m_3009049_nw_15_060_20190906\n",
      "m_3009058_sw_15_060_20190831\n",
      "m_3009059_ne_15_060_20190831\n",
      "m_3009060_nw_15_060_20190831\n",
      "m_3009061_se_15_060_20190831\n",
      "m_3009131_se_15_060_20190726\n",
      "m_3009131_sw_15_060_20190726\n",
      "m_3009139_nw_15_060_20190726\n",
      "m_3009146_ne_15_060_20190726\n",
      "m_3009147_se_15_060_20190906\n",
      "m_3009148_sw_15_060_20190906\n",
      "m_3009156_ne_15_060_20190906\n",
      "m_3009252_nw_15_060_20190905\n",
      "m_3009346_se_15_060_20190901\n",
      "m_3009354_ne_15_060_20190905\n",
      "m_3009354_nw_15_060_20190905\n",
      "m_3009622_sw_14_060_20181114\n",
      "m_3009729_nw_14_060_20181101\n",
      "m_3108153_sw_17_060_20191110\n"
     ]
    },
    {
     "name": "stderr",
     "output_type": "stream",
     "text": [
      " 12%|█████████▍                                                                    | 143/1184 [00:00<00:04, 259.78it/s]"
     ]
    },
    {
     "name": "stdout",
     "output_type": "stream",
     "text": [
      "m_3108811_sw_16_060_20181103\n",
      "m_3108864_se_16_060_20191115\n",
      "m_3108916_ne_16_060_20181028\n",
      "m_3108920_se_16_060_20181103\n",
      "m_3108928_ne_16_060_20181103\n",
      "m_3108938_se_16_060_20181028\n",
      "m_3108946_ne_16_060_20181028\n",
      "m_3108953_ne_16_060_20181103\n",
      "m_3108953_se_16_060_20181103\n",
      "m_3108961_sw_16_060_20181103\n",
      "m_3109125_nw_15_060_20190902\n",
      "m_3109129_se_15_060_20190725\n",
      "m_3109129_sw_15_060_20190725\n",
      "m_3109235_se_15_060_20190901\n",
      "m_3109243_ne_15_060_20190901\n",
      "m_3109245_nw_15_060_20190901\n",
      "m_3109357_nw_15_060_20181122\n",
      "m_3109415_se_15_060_20181201\n",
      "m_3109422_nw_15_060_20181201\n",
      "m_3109544_se_15_060_20181202\n",
      "m_3109623_sw_14_060_20181114\n",
      "m_3109630_ne_14_060_20181114\n",
      "m_3109637_ne_14_060_20181102\n",
      "m_3109638_ne_14_060_20181103\n",
      "m_3109732_nw_14_060_20181102\n",
      "m_3109732_sw_14_060_20181101\n",
      "m_3110037_ne_14_060_20181120\n",
      "m_3110038_nw_14_060_20181120\n",
      "m_3110103_sw_14_060_20181113\n",
      "m_3110105_nw_14_060_20181113\n",
      "m_3110107_nw_14_060_20181127\n",
      "m_3110110_ne_14_060_20181113\n",
      "m_3110118_se_14_060_20190105\n",
      "m_3110142_ne_14_060_20190105\n",
      "m_3110162_nw_14_060_20181201\n",
      "m_3110203_ne_13_060_20181026\n",
      "m_3110214_nw_13_060_20181026\n",
      "m_3110215_sw_13_060_20181005\n",
      "m_3110217_nw_13_060_20180924\n",
      "m_3110223_se_13_060_20180924\n",
      "m_3110223_sw_13_060_20180924\n",
      "m_3110227_se_13_060_20180924\n",
      "m_3110235_ne_13_060_20180924\n",
      "m_3110237_nw_13_060_20180924\n",
      "m_3110239_se_13_060_20180924\n",
      "m_3110244_nw_13_060_20180924\n",
      "m_3110249_nw_13_060_20180924\n",
      "m_3110255_sw_13_060_20180924\n",
      "m_3110263_sw_13_060_20181202\n",
      "m_3110302_se_13_060_20180929\n",
      "m_3110302_sw_13_060_20180929\n",
      "m_3110306_sw_13_060_20181106\n"
     ]
    },
    {
     "name": "stderr",
     "output_type": "stream",
     "text": [
      " 14%|███████████▏                                                                  | 170/1184 [00:00<00:03, 261.77it/s]"
     ]
    },
    {
     "name": "stdout",
     "output_type": "stream",
     "text": [
      "m_3110308_ne_13_060_20181026\n",
      "m_3110308_se_13_060_20181026\n",
      "m_3110309_ne_13_060_20180929\n",
      "m_3110309_se_13_060_20180929\n",
      "m_3110312_se_13_060_20180929\n",
      "m_3110315_se_13_060_20181004\n",
      "m_3110316_se_13_060_20181026\n",
      "m_3110316_sw_13_060_20181106\n",
      "m_3110320_ne_13_060_20180929\n",
      "m_3110328_se_13_060_20181106\n",
      "m_3110329_sw_13_060_20181106\n",
      "m_3110336_ne_13_060_20181106\n",
      "m_3110337_ne_13_060_20181106\n",
      "m_3110337_sw_13_060_20181106\n",
      "m_3110343_ne_13_060_20180929\n",
      "m_3110347_ne_13_060_20181004\n",
      "m_3110348_sw_13_060_20180924\n",
      "m_3110613_se_13_060_20190226\n",
      "m_3110614_ne_13_060_20190126\n",
      "m_3110615_nw_13_060_20190126\n",
      "m_3110615_sw_13_060_20190126\n",
      "m_3110936_nw_12_060_20190615\n",
      "m_3111034_sw_12_060_20190615\n",
      "m_3207901_sw_17_060_20190701\n",
      "m_3208163_ne_17_060_20191023\n",
      "m_3208164_ne_17_060_20190829\n",
      "m_3208164_nw_17_060_20190829\n",
      "m_3208319_ne_17_060_20191102\n",
      "m_3208334_ne_17_060_20191110\n",
      "m_3208425_se_16_060_20190912\n",
      "m_3208433_nw_16_060_20191003\n",
      "m_3208530_nw_16_060_20191023\n",
      "m_3208637_se_16_060_20190918\n",
      "m_3208638_sw_16_060_20190918\n",
      "m_3208645_ne_16_060_20190918\n",
      "m_3208703_ne_16_060_20191002\n",
      "m_3208726_sw_16_060_20191109\n",
      "m_3208843_nw_16_060_20181030\n",
      "m_3209021_nw_15_060_20181127\n",
      "m_3209041_se_15_060_20181127\n",
      "m_3209041_se_15_060_20190901\n",
      "m_3209219_ne_15_060_20190901\n",
      "m_3209219_se_15_060_20190901\n",
      "m_3209227_ne_15_060_20190901\n",
      "m_3209227_nw_15_060_20190901\n",
      "m_3209240_sw_15_060_20190903\n",
      "m_3209309_nw_15_060_20190813\n",
      "m_3209313_se_15_060_20190901\n"
     ]
    },
    {
     "name": "stderr",
     "output_type": "stream",
     "text": [
      " 19%|██████████████▊                                                               | 224/1184 [00:00<00:03, 256.26it/s]"
     ]
    },
    {
     "name": "stdout",
     "output_type": "stream",
     "text": [
      "m_3209327_se_15_060_20190813\n",
      "m_3209327_sw_15_060_20190813\n",
      "m_3209328_ne_15_060_20190813\n",
      "m_3209328_se_15_060_20190813\n",
      "m_3209331_se_15_060_20190901\n",
      "m_3209331_sw_15_060_20190901\n",
      "m_3209334_ne_15_060_20190813\n",
      "m_3209343_ne_15_060_20190813\n",
      "m_3209344_ne_15_060_20190813\n",
      "m_3209344_nw_15_060_20190813\n",
      "m_3209351_ne_15_060_20190813\n",
      "m_3209426_sw_15_060_20181120\n",
      "m_3209434_nw_15_060_20181120\n",
      "m_3209435_nw_15_060_20181127\n",
      "m_3209438_ne_15_060_20181122\n",
      "m_3209438_se_15_060_20181122\n",
      "m_3209440_nw_15_060_20181102\n",
      "m_3209449_nw_15_060_20181120\n",
      "m_3209449_se_15_060_20181120\n",
      "m_3209454_ne_15_060_20181122\n",
      "m_3209454_se_15_060_20181122\n",
      "m_3209456_se_15_060_20181102\n",
      "m_3209456_se_15_060_20190907\n",
      "m_3209457_nw_15_060_20181120\n",
      "m_3209458_nw_15_060_20181120\n",
      "m_3209513_nw_15_060_20181127\n",
      "m_3209516_se_15_060_20181120\n",
      "m_3209516_sw_15_060_20181120\n",
      "m_3209524_se_15_060_20181120\n",
      "m_3209527_sw_15_060_20181115\n",
      "m_3209537_se_15_060_20181127\n",
      "m_3209540_sw_15_060_20181120\n",
      "m_3209546_ne_15_060_20181120\n",
      "m_3209609_ne_14_060_20181120\n",
      "m_3209609_nw_14_060_20181120\n",
      "m_3209609_se_14_060_20181120\n",
      "m_3209610_nw_14_060_20181120\n",
      "m_3209610_se_14_060_20181126\n",
      "m_3209656_sw_14_060_20181115\n",
      "m_3209657_se_14_060_20181114\n",
      "m_3209658_nw_14_060_20181114\n",
      "m_3209661_nw_14_060_20181114\n",
      "m_3209703_ne_14_060_20181128\n",
      "m_3209707_se_14_060_20181120\n",
      "m_3209708_ne_14_060_20181120\n",
      "m_3209708_sw_14_060_20181120\n",
      "m_3209711_se_14_060_20181128\n"
     ]
    },
    {
     "name": "stderr",
     "output_type": "stream",
     "text": [
      " 24%|██████████████████▍                                                           | 280/1184 [00:01<00:03, 257.92it/s]"
     ]
    },
    {
     "name": "stdout",
     "output_type": "stream",
     "text": [
      "m_3209712_nw_14_060_20181128\n",
      "m_3209714_nw_14_060_20181120\n",
      "m_3209714_se_14_060_20181120\n",
      "m_3209714_sw_14_060_20181120\n",
      "m_3209716_nw_14_060_20181120\n",
      "m_3209717_ne_14_060_20180821\n",
      "m_3209719_ne_14_060_20181128\n",
      "m_3209720_nw_14_060_20181128\n",
      "m_3209728_ne_14_060_20181127\n",
      "m_3209736_ne_14_060_20181102\n",
      "m_3209743_ne_14_060_20181102\n",
      "m_3209822_se_14_060_20180821\n",
      "m_3209834_ne_14_060_20181126\n",
      "m_3209926_se_14_060_20181028\n",
      "m_3209933_se_14_060_20181028\n",
      "m_3209934_nw_14_060_20181028\n",
      "m_3209934_sw_14_060_20181028\n",
      "m_3209947_se_14_060_20181028\n",
      "m_3210009_sw_14_060_20181113\n",
      "m_3210017_nw_14_060_20181113\n",
      "m_3210059_se_14_060_20181113\n",
      "m_3210124_se_14_060_20181113\n",
      "m_3210133_se_14_060_20181113\n",
      "m_3210138_nw_14_060_20181113\n",
      "m_3210145_se_14_060_20181113\n",
      "m_3210149_ne_14_060_20181113\n",
      "m_3210149_nw_14_060_20181113\n",
      "m_3210201_sw_13_060_20181010\n",
      "m_3210202_sw_13_060_20181010\n",
      "m_3210211_se_13_060_20180928\n",
      "m_3210219_ne_13_060_20181026\n",
      "m_3210219_se_13_060_20181026\n",
      "m_3210255_sw_13_060_20181005\n",
      "m_3210264_se_13_060_20181005\n",
      "m_3210310_ne_13_060_20180512\n",
      "m_3210312_se_13_060_20180506\n",
      "m_3210313_sw_13_060_20180506\n",
      "m_3210318_se_13_060_20180506\n",
      "m_3210322_ne_13_060_20180618\n",
      "m_3210330_ne_13_060_20180618\n",
      "m_3210330_nw_13_060_20180618\n",
      "m_3210339_se_13_060_20180618\n",
      "m_3210350_sw_13_060_20180506\n",
      "m_3210352_ne_13_060_20180506\n",
      "m_3210355_nw_13_060_20180618\n",
      "m_3210355_se_13_060_20180618\n",
      "m_3210356_se_13_060_20181026\n",
      "m_3210415_sw_13_060_20180614\n"
     ]
    },
    {
     "name": "stderr",
     "output_type": "stream",
     "text": [
      " 28%|█████████████████████▉                                                        | 333/1184 [00:01<00:03, 260.53it/s]"
     ]
    },
    {
     "name": "stdout",
     "output_type": "stream",
     "text": [
      "m_3210447_se_13_060_20180506\n",
      "m_3210509_nw_13_060_20190119\n",
      "m_3211049_sw_12_060_20190616\n",
      "m_3211057_nw_12_060_20190616\n",
      "m_3211420_sw_11_060_20190704\n",
      "m_3211512_nw_11_060_20190305\n",
      "m_3211723_ne_11_060_20190317\n",
      "m_3308125_ne_17_060_20190830\n",
      "m_3308133_nw_17_060_20190830\n",
      "m_3308133_nw_17_060_20191023\n",
      "m_3308133_sw_17_060_20190830\n",
      "m_3308133_sw_17_060_20191023\n",
      "m_3308411_ne_16_060_20190911\n",
      "m_3308421_se_16_060_20190910\n",
      "m_3308424_nw_16_060_20190910\n",
      "m_3308446_se_16_060_20191004\n",
      "m_3308634_nw_16_060_20190909\n",
      "m_3308642_se_16_060_20190930\n",
      "m_3308642_sw_16_060_20190917\n",
      "m_3308715_se_16_060_20191017\n",
      "m_3308732_nw_16_060_20190908\n",
      "m_3308752_nw_16_060_20191023\n",
      "m_3308812_ne_16_060_20181128\n",
      "m_3309140_se_15_060_20181121\n",
      "m_3309140_sw_15_060_20181121\n",
      "m_3309140_sw_15_060_20190903\n",
      "m_3309243_se_15_060_20190813\n",
      "m_3309251_ne_15_060_20190813\n",
      "m_3309709_nw_14_060_20181027\n",
      "m_3309741_se_14_060_20181115\n",
      "m_3309753_se_14_060_20181120\n",
      "m_3310102_sw_14_060_20180924\n",
      "m_3310125_ne_14_060_20180923\n",
      "m_3310126_nw_14_060_20180923\n",
      "m_3310216_ne_13_060_20180923\n",
      "m_3310236_ne_13_060_20180928\n",
      "m_3310258_se_13_060_20181010\n",
      "m_3310258_sw_13_060_20181010\n",
      "m_3310444_ne_13_060_20180624\n",
      "m_3311133_nw_12_060_20190614\n",
      "m_3311230_sw_12_060_20190614\n",
      "m_3311239_ne_12_060_20190614\n",
      "m_3311239_se_12_060_20190614\n",
      "m_3311710_nw_11_060_20180822\n",
      "m_3311717_nw_11_060_20180723\n",
      "m_3311805_ne_11_060_20180723\n",
      "m_3311814_ne_11_060_20180723\n",
      "m_3311814_se_11_060_20180723\n",
      "m_3311814_sw_11_060_20180723\n"
     ]
    },
    {
     "name": "stderr",
     "output_type": "stream",
     "text": [
      " 30%|███████████████████████▋                                                      | 360/1184 [00:01<00:03, 257.22it/s]"
     ]
    },
    {
     "name": "stdout",
     "output_type": "stream",
     "text": [
      "m_3311815_ne_11_060_20180723\n",
      "m_3311815_nw_11_060_20180723\n",
      "m_3311815_se_11_060_20180723\n",
      "m_3311815_sw_11_060_20180723\n",
      "m_3407749_nw_18_060_20181024\n",
      "m_3408111_se_17_060_20190724\n",
      "m_3408564_se_16_060_20190909\n",
      "m_3408711_sw_16_060_20190908\n",
      "m_3408807_nw_16_060_20181012\n",
      "m_3408807_nw_16_060_20181122\n",
      "m_3408807_nw_16_060_20191012\n",
      "m_3409028_sw_15_060_20181205\n",
      "m_3409028_sw_15_060_20190816\n",
      "m_3409141_sw_15_060_20190817\n",
      "m_3409215_se_15_060_20190817\n",
      "m_3409215_sw_15_060_20190817\n",
      "m_3409605_se_14_060_20190811\n",
      "m_3410603_ne_13_060_20180528\n",
      "m_3411601_se_11_060_20180818\n",
      "m_3411729_ne_11_060_20180805\n",
      "m_3411730_nw_11_060_20180805\n",
      "m_3411759_ne_11_060_20180822\n",
      "m_3411759_se_11_060_20180822\n",
      "m_3411760_nw_11_060_20180822\n",
      "m_3411760_sw_11_060_20180822\n",
      "m_3411761_nw_11_060_20180822\n",
      "m_3411762_nw_11_060_20180822\n",
      "m_3411834_se_11_060_20180722\n",
      "m_3411836_sw_11_060_20180722\n",
      "m_3411863_se_11_060_20180723\n",
      "m_3411863_sw_11_060_20180723\n",
      "m_3411864_sw_11_060_20180723\n",
      "m_3411946_ne_11_060_20180724\n",
      "m_3411955_ne_11_060_20180724\n",
      "m_3507818_nw_17_060_20181121\n",
      "m_3507830_sw_17_060_20181022\n",
      "m_3508020_ne_17_060_20181103\n",
      "m_3508020_se_17_060_20181103\n",
      "m_3508049_sw_17_060_20181103\n",
      "m_3508057_ne_17_060_20181107\n",
      "m_3508057_nw_17_060_20181103\n",
      "m_3508301_ne_17_060_20181019\n",
      "m_3508302_nw_17_060_20181019\n",
      "m_3508339_sw_17_060_20181029\n",
      "m_3508562_nw_16_060_20181110\n",
      "m_3508562_sw_16_060_20181121\n",
      "m_3508563_ne_16_060_20181110\n",
      "m_3508957_nw_16_060_20180803\n"
     ]
    },
    {
     "name": "stderr",
     "output_type": "stream",
     "text": [
      " 35%|███████████████████████████▏                                                  | 412/1184 [00:01<00:03, 254.97it/s]"
     ]
    },
    {
     "name": "stdout",
     "output_type": "stream",
     "text": [
      "m_3509002_nw_15_060_20190820\n",
      "m_3509055_se_15_060_20180803\n",
      "m_3509055_se_15_060_20190815\n",
      "m_3509056_ne_15_060_20180803\n",
      "m_3509056_sw_15_060_20180803\n",
      "m_3509056_sw_15_060_20190815\n",
      "m_3509063_ne_15_060_20180803\n",
      "m_3509063_ne_15_060_20190815\n",
      "m_3509150_se_15_060_20190815\n",
      "m_3509151_sw_15_060_20190815\n",
      "m_3509602_ne_14_060_20190812\n",
      "m_3509602_se_14_060_20190812\n",
      "m_3509603_nw_14_060_20190812\n",
      "m_3509603_sw_14_060_20190812\n",
      "m_3509643_se_14_060_20190811\n",
      "m_3509719_ne_14_060_20190624\n",
      "m_3509737_ne_14_060_20190711\n",
      "m_3509823_se_14_060_20190626\n",
      "m_3509913_nw_14_060_20190627\n",
      "m_3509922_se_14_060_20190627\n",
      "m_3509924_se_14_060_20190627\n",
      "m_3509928_se_14_060_20190625\n",
      "m_3509942_nw_14_060_20190626\n",
      "m_3510012_sw_14_060_20180922\n",
      "m_3510121_ne_14_060_20180913\n",
      "m_3510121_se_14_060_20180913\n",
      "m_3510122_nw_14_060_20180917\n",
      "m_3510122_sw_14_060_20180917\n",
      "m_3510132_se_14_060_20180917\n",
      "m_3510651_se_13_060_20180528\n",
      "m_3510659_se_13_060_20180528\n",
      "m_3510827_sw_12_060_20180510\n",
      "m_3511841_se_11_060_20180715\n",
      "m_3511863_se_11_060_20180805\n",
      "m_3511926_se_11_060_20180714\n",
      "m_3511934_ne_11_060_20180714\n",
      "m_3511935_ne_11_060_20180714\n",
      "m_3511935_nw_11_060_20180714\n",
      "m_3511939_se_11_060_20180713\n",
      "m_3511940_ne_11_060_20180713\n",
      "m_3511940_se_11_060_20180713\n",
      "m_3511940_sw_11_060_20180713\n",
      "m_3511943_ne_11_060_20180714\n",
      "m_3511946_se_11_060_20180713\n",
      "m_3511952_ne_11_060_20180713\n",
      "m_3511952_nw_11_060_20180714\n",
      "m_3511953_sw_11_060_20180713\n",
      "m_3511964_se_11_060_20180713\n"
     ]
    },
    {
     "name": "stderr",
     "output_type": "stream",
     "text": [
      " 39%|██████████████████████████████▋                                               | 465/1184 [00:01<00:02, 256.73it/s]"
     ]
    },
    {
     "name": "stdout",
     "output_type": "stream",
     "text": [
      "m_3511964_sw_11_060_20180713\n",
      "m_3512060_sw_10_060_20180913\n",
      "m_3607606_sw_18_060_20181003\n",
      "m_3607624_nw_18_060_20181001\n",
      "m_3607957_ne_17_060_20181110\n",
      "m_3607957_nw_17_060_20180709\n",
      "m_3607957_se_17_060_20180709\n",
      "m_3608650_ne_16_060_20180729\n",
      "m_3608650_nw_16_060_20180729\n",
      "m_3608651_se_16_060_20181011\n",
      "m_3609057_sw_15_060_20190829\n",
      "m_3609058_ne_15_060_20190815\n",
      "m_3609058_se_15_060_20190815\n",
      "m_3609059_nw_15_060_20190815\n",
      "m_3609549_sw_15_060_20190904\n",
      "m_3609557_sw_15_060_20190904\n",
      "m_3609656_se_14_060_20190812\n",
      "m_3609658_se_14_060_20190812\n",
      "m_3609659_sw_14_060_20190812\n",
      "m_3609734_se_14_060_20190624\n",
      "m_3609734_sw_14_060_20190624\n",
      "m_3609832_nw_14_060_20190711\n",
      "m_3609839_sw_14_060_20190711\n",
      "m_3609846_ne_14_060_20190626\n",
      "m_3609849_nw_14_060_20190627\n",
      "m_3609849_sw_14_060_20190627\n",
      "m_3609856_se_14_060_20190626\n",
      "m_3609937_nw_14_060_20190627\n",
      "m_3609939_se_14_060_20190627\n",
      "m_3610001_se_14_060_20190627\n",
      "m_3610002_sw_14_060_20190627\n",
      "m_3610025_sw_14_060_20190621\n",
      "m_3610717_ne_13_060_20180508\n",
      "m_3610717_nw_13_060_20180508\n",
      "m_3610814_sw_12_060_20180514\n",
      "m_3611204_ne_12_060_20190621\n",
      "m_3611433_se_11_060_20190706\n",
      "m_3611548_se_11_060_20190706\n",
      "m_3611556_ne_11_060_20190706\n",
      "m_3612054_nw_10_060_20180708\n",
      "m_3612054_sw_10_060_20180708\n",
      "m_3707729_se_18_060_20180826\n",
      "m_3707729_sw_18_060_20180826\n",
      "m_3707737_ne_18_060_20180826\n",
      "m_3707737_nw_18_060_20180826\n",
      "m_3707746_ne_18_060_20180826\n",
      "m_3707746_se_18_060_20180826\n",
      "m_3707935_sw_17_060_20181018"
     ]
    },
    {
     "name": "stderr",
     "output_type": "stream",
     "text": [
      " 44%|██████████████████████████████████                                            | 517/1184 [00:02<00:02, 240.71it/s]"
     ]
    },
    {
     "name": "stdout",
     "output_type": "stream",
     "text": [
      "\n",
      "m_3707941_se_17_060_20181018\n",
      "m_3708226_se_17_060_20181030\n",
      "m_3708460_nw_16_060_20181023\n",
      "m_3708701_ne_16_060_20180905\n",
      "m_3708701_sw_16_060_20180905\n",
      "m_3708704_sw_16_060_20180725\n",
      "m_3708711_ne_16_060_20180725\n",
      "m_3708711_se_16_060_20180725\n",
      "m_3708712_nw_16_060_20180725\n",
      "m_3708716_se_16_060_20180919\n",
      "m_3708716_sw_16_060_20180929\n",
      "m_3708801_ne_16_060_20190912\n",
      "m_3708805_se_16_060_20190914\n",
      "m_3708806_ne_16_060_20190912\n",
      "m_3708806_nw_16_060_20190912\n",
      "m_3708860_nw_16_060_20180929\n",
      "m_3708860_nw_16_060_20190918\n",
      "m_3708944_se_16_060_20190916\n",
      "m_3708953_nw_16_060_20180920\n",
      "m_3708953_nw_16_060_20190916\n",
      "m_3709358_nw_15_060_20180827\n",
      "m_3709446_ne_15_060_20180721\n",
      "m_3709446_se_15_060_20180721\n",
      "m_3709560_nw_15_060_20190718\n",
      "m_3709560_sw_15_060_20190718\n",
      "m_3709610_nw_14_060_20190712\n",
      "m_3709610_sw_14_060_20190718\n",
      "m_3709714_nw_14_060_20190712\n",
      "m_3709714_se_14_060_20190712\n",
      "m_3709718_sw_14_060_20190712\n",
      "m_3709809_se_14_060_20190712\n",
      "m_3709909_sw_14_060_20190712\n",
      "m_3710017_sw_14_060_20190704\n",
      "m_3710034_se_14_060_20190704\n",
      "m_3710124_ne_14_060_20190704\n",
      "m_3711314_se_12_060_20180809\n",
      "m_3711324_se_12_060_20180808\n",
      "m_3712106_ne_10_060_20180714\n",
      "m_3712106_nw_10_060_20180714\n",
      "m_3712114_sw_10_060_20180714\n",
      "m_3712133_se_10_060_20180725\n"
     ]
    },
    {
     "name": "stderr",
     "output_type": "stream",
     "text": [
      " 46%|███████████████████████████████████▋                                          | 542/1184 [00:02<00:02, 228.28it/s]"
     ]
    },
    {
     "name": "stdout",
     "output_type": "stream",
     "text": [
      "m_3712133_sw_10_060_20180725\n",
      "m_3712205_ne_10_060_20180723\n",
      "m_3712221_ne_10_060_20180804\n",
      "m_3807520_sw_18_060_20180815\n",
      "m_3807713_sw_18_060_20181111\n",
      "m_3807723_ne_18_060_20181025\n",
      "m_3807745_sw_18_060_20181111\n",
      "m_3808135_se_17_060_20180709\n",
      "m_3808209_se_17_060_20181019\n",
      "m_3808209_se_17_060_20190811\n",
      "m_3808227_se_17_060_20181022\n",
      "m_3808227_se_17_060_20190811\n",
      "m_3808236_sw_17_060_20180701\n",
      "m_3808236_sw_17_060_20181022\n",
      "m_3808236_sw_17_060_20190915\n",
      "m_3808460_ne_16_060_20180930\n",
      "m_3808543_ne_16_060_20180904\n",
      "m_3808823_nw_16_060_20190918\n",
      "m_3808916_se_16_060_20190713\n",
      "m_3808916_sw_16_060_20190713\n",
      "m_3809012_sw_15_060_20181020\n",
      "m_3809016_nw_15_060_20181020\n",
      "m_3809016_nw_15_060_20190923\n",
      "m_3809023_ne_15_060_20181020\n",
      "m_3809023_ne_15_060_20190923\n",
      "m_3809023_se_15_060_20181020\n",
      "m_3809023_se_15_060_20190923\n",
      "m_3809023_sw_15_060_20181121\n",
      "m_3809023_sw_15_060_20190828\n",
      "m_3809030_se_15_060_20181121\n",
      "m_3809030_se_15_060_20190828\n",
      "m_3809031_ne_15_060_20181020\n",
      "m_3809031_sw_15_060_20181121\n",
      "m_3809031_sw_15_060_20190828\n",
      "m_3809038_ne_15_060_20181121\n",
      "m_3809038_ne_15_060_20190828\n",
      "m_3809402_se_15_060_20190714\n",
      "m_3809403_sw_15_060_20190719\n",
      "m_3809425_se_15_060_20190628\n",
      "m_3809426_sw_15_060_20190628\n"
     ]
    },
    {
     "name": "stderr",
     "output_type": "stream",
     "text": [
      " 50%|██████████████████████████████████████▊                                       | 589/1184 [00:02<00:02, 222.71it/s]"
     ]
    },
    {
     "name": "stdout",
     "output_type": "stream",
     "text": [
      "m_3809712_nw_14_060_20190713\n",
      "m_3809734_sw_14_060_20190712\n",
      "m_3809757_se_14_060_20190712\n",
      "m_3809760_se_14_060_20190712\n",
      "m_3809842_nw_14_060_20190712\n",
      "m_3810411_se_13_060_20190908\n",
      "m_3810419_sw_13_060_20190908\n",
      "m_3810444_sw_13_060_20190921\n",
      "m_3812128_ne_10_060_20180714\n",
      "m_3812130_nw_10_060_20180714\n",
      "m_3812138_sw_10_060_20180714\n",
      "m_3812263_ne_10_060_20180723\n",
      "m_3812263_se_10_060_20180723\n",
      "m_3812263_sw_10_060_20180723\n",
      "m_3812264_se_10_060_20180715\n",
      "m_3812264_sw_10_060_20180715\n",
      "m_3907401_ne_18_060_20190730\n",
      "m_3907507_nw_18_060_20191019\n",
      "m_3907507_se_18_060_20190726\n",
      "m_3907507_se_18_060_20191015\n",
      "m_3907507_sw_18_060_20191019\n",
      "m_3907513_ne_18_060_20180827\n",
      "m_3907513_ne_18_060_20190726\n",
      "m_3907513_ne_18_060_20191019\n",
      "m_3907513_nw_18_060_20180815\n",
      "m_3907513_nw_18_060_20191019\n",
      "m_3907513_se_18_060_20191019\n",
      "m_3907514_ne_18_060_20190726\n",
      "m_3907514_ne_18_060_20191019\n",
      "m_3907515_ne_18_060_20190726\n",
      "m_3907515_nw_18_060_20190726\n",
      "m_3907515_nw_18_060_20191019\n",
      "m_3907520_ne_18_060_20180815\n",
      "m_3907520_ne_18_060_20190726\n",
      "m_3907553_se_18_060_20180827\n",
      "m_3907629_ne_18_060_20180930\n",
      "m_3907630_sw_18_060_20180826\n",
      "m_3907651_ne_18_060_20181025\n",
      "m_3907652_ne_18_060_20180828\n",
      "m_3907652_nw_18_060_20181121\n",
      "m_3907652_se_18_060_20180828\n",
      "m_3907748_ne_18_060_20181211\n"
     ]
    },
    {
     "name": "stderr",
     "output_type": "stream",
     "text": [
      " 54%|██████████████████████████████████████████▏                                   | 641/1184 [00:02<00:02, 233.86it/s]"
     ]
    },
    {
     "name": "stdout",
     "output_type": "stream",
     "text": [
      "m_3907840_se_17_060_20181108\n",
      "m_3908010_sw_17_060_20180707\n",
      "m_3908010_sw_17_060_20190812\n",
      "m_3908011_nw_17_060_20180701\n",
      "m_3908137_se_17_060_20190812\n",
      "m_3908137_sw_17_060_20180707\n",
      "m_3908137_sw_17_060_20190812\n",
      "m_3908138_se_17_060_20180707\n",
      "m_3908139_sw_17_060_20180707\n",
      "m_3908139_sw_17_060_20190812\n",
      "m_3908145_ne_17_060_20180707\n",
      "m_3908145_ne_17_060_20190812\n",
      "m_3908308_nw_17_060_20191013\n",
      "m_3908416_ne_16_060_20191012\n",
      "m_3908437_ne_16_060_20191013\n",
      "m_3908439_nw_16_060_20191012\n",
      "m_3908450_se_16_060_20180630\n",
      "m_3908450_se_16_060_20191012\n",
      "m_3908459_ne_16_060_20180630\n",
      "m_3908459_ne_16_060_20191012\n",
      "m_3908460_nw_16_060_20180930\n",
      "m_3908460_se_16_060_20180930\n",
      "m_3908558_sw_16_060_20180713\n",
      "m_3908614_nw_16_060_20180812\n",
      "m_3908759_sw_16_060_20190805\n",
      "m_3908764_sw_16_060_20180804\n",
      "m_3908801_nw_16_060_20191001\n",
      "m_3908814_sw_16_060_20190918\n",
      "m_3908852_se_16_060_20190713\n",
      "m_3908858_sw_16_060_20190713\n",
      "m_3908916_nw_16_060_20190731\n",
      "m_3909012_nw_15_060_20190728\n",
      "m_3909104_se_15_060_20180927\n",
      "m_3909112_ne_15_060_20180927\n",
      "m_3909229_se_15_060_20181018\n",
      "m_3909229_sw_15_060_20181017\n",
      "m_3909344_ne_15_060_20181017\n",
      "m_3909345_nw_15_060_20180713\n",
      "m_3909409_se_15_060_20180825\n",
      "m_3909409_se_15_060_20190714\n",
      "m_3909409_sw_15_060_20190714\n",
      "m_3909417_ne_15_060_20180923\n",
      "m_3909417_ne_15_060_20190714\n",
      "m_3909438_sw_15_060_20180922\n"
     ]
    },
    {
     "name": "stderr",
     "output_type": "stream",
     "text": [
      " 58%|█████████████████████████████████████████████▍                                | 690/1184 [00:02<00:02, 233.04it/s]"
     ]
    },
    {
     "name": "stdout",
     "output_type": "stream",
     "text": [
      "m_3909443_nw_15_060_20180923\n",
      "m_3909450_ne_15_060_20180923\n",
      "m_3909450_ne_15_060_20190714\n",
      "m_3909450_nw_15_060_20180923\n",
      "m_3909451_se_15_060_20180923\n",
      "m_3909451_se_15_060_20190719\n",
      "m_3909452_sw_15_060_20180922\n",
      "m_3909452_sw_15_060_20190719\n",
      "m_3909453_se_15_060_20180922\n",
      "m_3909453_sw_15_060_20180922\n",
      "m_3909459_ne_15_060_20190712\n",
      "m_3909460_nw_15_060_20180922\n",
      "m_3909460_nw_15_060_20190712\n",
      "m_3909461_ne_15_060_20180922\n",
      "m_3909739_ne_14_060_20190718\n",
      "m_3909742_se_14_060_20190710\n",
      "m_3909743_ne_14_060_20190710\n",
      "m_3909744_nw_14_060_20190710\n",
      "m_3909914_sw_14_060_20190711\n",
      "m_3909948_se_14_060_20190709\n",
      "m_3910403_se_13_060_20190912\n",
      "m_3910409_ne_13_060_20190803\n",
      "m_3910410_se_13_060_20190912\n",
      "m_3910410_sw_13_060_20190803\n",
      "m_3910726_sw_13_060_20190913\n",
      "m_3910815_nw_12_060_20190827\n",
      "m_3910840_nw_12_060_20190828\n",
      "m_3910847_nw_12_060_20190828\n",
      "m_3910851_ne_12_060_20190828\n",
      "m_3910859_ne_12_060_20190828\n",
      "m_3911228_sw_12_060_20180826\n",
      "m_3911926_se_11_060_20190814\n",
      "m_3911927_sw_11_060_20190814\n",
      "m_3912118_nw_10_060_20180716\n",
      "m_4007203_ne_18_060_20190811\n",
      "m_4007311_ne_18_060_20190809\n",
      "m_4007311_se_18_060_20190809\n",
      "m_4007316_ne_18_060_20190809\n",
      "m_4007316_nw_18_060_20190809\n",
      "m_4007317_nw_18_060_20190830\n",
      "m_4007319_sw_18_060_20190809\n",
      "m_4007413_se_18_060_20190830\n",
      "m_4007416_ne_18_060_20190917\n",
      "m_4007423_ne_18_060_20190830\n"
     ]
    },
    {
     "name": "stderr",
     "output_type": "stream",
     "text": [
      " 60%|███████████████████████████████████████████████                               | 714/1184 [00:02<00:02, 233.91it/s]"
     ]
    },
    {
     "name": "stdout",
     "output_type": "stream",
     "text": [
      "m_4007423_sw_18_060_20190917\n",
      "m_4007424_nw_18_060_20190830\n",
      "m_4007424_sw_18_060_20190830\n",
      "m_4007429_se_18_060_20190830\n",
      "m_4007430_ne_18_060_20190830\n",
      "m_4007430_se_18_060_20190830\n",
      "m_4007431_nw_18_060_20190917\n",
      "m_4007434_nw_18_060_20190917\n",
      "m_4007450_ne_18_060_20190917\n",
      "m_4007450_ne_18_060_20191014\n",
      "m_4007450_se_18_060_20191014\n",
      "m_4007450_sw_18_060_20190917\n",
      "m_4007450_sw_18_060_20191014\n",
      "m_4007451_nw_18_060_20190730\n",
      "m_4007451_sw_18_060_20190730\n",
      "m_4007451_sw_18_060_20191014\n",
      "m_4007458_se_18_060_20190917\n",
      "m_4007509_nw_18_060_20191005\n",
      "m_4007509_sw_18_060_20191005\n",
      "m_4007515_se_18_060_20190917\n",
      "m_4007515_se_18_060_20191019\n",
      "m_4007521_se_18_060_20191019\n",
      "m_4007521_sw_18_060_20191019\n",
      "m_4007528_se_18_060_20191019\n",
      "m_4007529_sw_18_060_20191019\n",
      "m_4007533_se_18_060_20191019\n",
      "m_4007533_sw_18_060_20191019\n",
      "m_4007536_ne_18_060_20191019\n",
      "m_4007536_se_18_060_20191019\n",
      "m_4007541_ne_18_060_20191005\n",
      "m_4007556_sw_18_060_20191015\n",
      "m_4007560_se_18_060_20191019\n",
      "m_4007560_sw_18_060_20191019\n",
      "m_4007564_sw_18_060_20191015\n",
      "m_4007602_se_18_060_20190805\n",
      "m_4007603_sw_18_060_20190805\n",
      "m_4007641_se_18_060_20190927\n",
      "m_4007642_se_18_060_20190927\n",
      "m_4007646_se_18_060_20191011\n",
      "m_4007648_ne_18_060_20191019\n",
      "m_4007648_se_18_060_20191019\n",
      "m_4007649_nw_18_060_20190927\n",
      "m_4007650_ne_18_060_20190927\n",
      "m_4007662_nw_18_060_20191011\n",
      "m_4007756_ne_18_060_20190927\n",
      "m_4007829_se_17_060_20190922\n",
      "m_4007837_ne_17_060_20190922\n"
     ]
    },
    {
     "name": "stderr",
     "output_type": "stream",
     "text": [
      " 65%|██████████████████████████████████████████████████▌                           | 767/1184 [00:03<00:01, 247.98it/s]"
     ]
    },
    {
     "name": "stdout",
     "output_type": "stream",
     "text": [
      "m_4007909_nw_17_060_20190918\n",
      "m_4007909_sw_17_060_20190918\n",
      "m_4007926_nw_17_060_20190918\n",
      "m_4007926_se_17_060_20190918\n",
      "m_4007926_sw_17_060_20190918\n",
      "m_4007933_nw_17_060_20190918\n",
      "m_4007934_nw_17_060_20190918\n",
      "m_4007936_se_17_060_20190918\n",
      "m_4007936_sw_17_060_20190918\n",
      "m_4007941_ne_17_060_20190918\n",
      "m_4007941_se_17_060_20190918\n",
      "m_4007944_sw_17_060_20190918\n",
      "m_4007949_se_17_060_20190918\n",
      "m_4007950_sw_17_060_20190918\n",
      "m_4007957_ne_17_060_20190918\n",
      "m_4007958_nw_17_060_20190918\n",
      "m_4008004_ne_17_060_20190825\n",
      "m_4008020_se_17_060_20180701\n",
      "m_4008020_se_17_060_20191103\n",
      "m_4008020_sw_17_060_20180701\n",
      "m_4008021_se_17_060_20190825\n",
      "m_4008021_sw_17_060_20190825\n",
      "m_4008022_ne_17_060_20190825\n",
      "m_4008027_ne_17_060_20191010\n",
      "m_4008028_ne_17_060_20191010\n",
      "m_4008031_sw_17_060_20190918\n",
      "m_4008035_se_17_060_20180701\n",
      "m_4008035_se_17_060_20191010\n",
      "m_4008036_sw_17_060_20180701\n",
      "m_4008036_sw_17_060_20191010\n",
      "m_4008039_nw_17_060_20190825\n",
      "m_4008040_ne_17_060_20190918\n",
      "m_4008114_sw_17_060_20191012\n",
      "m_4008148_se_17_060_20191014\n",
      "m_4008150_nw_17_060_20190824\n",
      "m_4008364_ne_17_060_20191013\n",
      "m_4008423_ne_16_060_20191009\n",
      "m_4008424_nw_16_060_20191009\n",
      "m_4008502_nw_16_060_20180708\n",
      "m_4008505_sw_16_060_20180708\n",
      "m_4008616_sw_16_060_20180713\n",
      "m_4008624_nw_16_060_20180713\n",
      "m_4008661_sw_16_060_20180903\n",
      "m_4008862_ne_16_060_20190919\n",
      "m_4008905_sw_16_060_20190802\n",
      "m_4008917_nw_16_060_20190801\n",
      "m_4008920_sw_16_060_20190809\n",
      "m_4008927_ne_16_060_20190801\n",
      "m_4008958_sw_16_060_20190713\n"
     ]
    },
    {
     "name": "stderr",
     "output_type": "stream",
     "text": [
      " 69%|██████████████████████████████████████████████████████                        | 820/1184 [00:03<00:01, 250.54it/s]"
     ]
    },
    {
     "name": "stdout",
     "output_type": "stream",
     "text": [
      "m_4008959_sw_16_060_20190713\n",
      "m_4009024_ne_15_060_20190801\n",
      "m_4009152_se_15_060_20180927\n",
      "m_4009152_se_15_060_20190728\n",
      "m_4009207_ne_15_060_20190804\n",
      "m_4009224_sw_15_060_20190804\n",
      "m_4009501_ne_15_060_20180911\n",
      "m_4009517_ne_15_060_20180712\n",
      "m_4009517_ne_15_060_20190729\n",
      "m_4009560_nw_15_060_20180803\n",
      "m_4009605_nw_14_060_20180702\n",
      "m_4009619_nw_14_060_20180703\n",
      "m_4009728_sw_14_060_20180708\n",
      "m_4009813_se_14_060_20180710\n",
      "m_4009814_sw_14_060_20180710\n",
      "m_4009821_ne_14_060_20180710\n",
      "m_4009822_nw_14_060_20180710\n",
      "m_4010002_ne_14_060_20180913\n",
      "m_4010358_ne_13_060_20190913\n",
      "m_4010405_ne_13_060_20190919\n",
      "m_4010426_se_13_060_20190803\n",
      "m_4010435_ne_13_060_20190912\n",
      "m_4010442_se_13_060_20190803\n",
      "m_4010443_nw_13_060_20190803\n",
      "m_4010443_sw_13_060_20190803\n",
      "m_4010444_nw_13_060_20190912\n",
      "m_4010450_ne_13_060_20190803\n",
      "m_4010450_se_13_060_20190803\n",
      "m_4010457_ne_13_060_20190803\n",
      "m_4010461_ne_13_060_20190912\n",
      "m_4010737_nw_13_060_20190922\n",
      "m_4010806_ne_12_060_20190827\n",
      "m_4010961_se_12_060_20180913\n",
      "m_4011046_nw_12_060_20180909\n",
      "m_4011101_se_12_060_20180828\n",
      "m_4011109_ne_12_060_20180828\n",
      "m_4011109_sw_12_060_20180828\n",
      "m_4011230_sw_12_060_20180909\n",
      "m_4012415_sw_10_060_20180920\n",
      "m_4107012_se_19_060_20180929\n",
      "m_4107017_se_19_060_20180930\n",
      "m_4107048_sw_19_060_20180827\n",
      "m_4107113_ne_19_060_20180930\n",
      "m_4107114_sw_19_060_20180827\n",
      "m_4107204_ne_18_060_20180816\n",
      "m_4107211_se_18_060_20180930\n",
      "m_4107219_ne_18_060_20180930\n"
     ]
    },
    {
     "name": "stderr",
     "output_type": "stream",
     "text": [
      " 74%|█████████████████████████████████████████████████████████▋                    | 875/1184 [00:03<00:01, 257.92it/s]"
     ]
    },
    {
     "name": "stdout",
     "output_type": "stream",
     "text": [
      "m_4107219_se_18_060_20180930\n",
      "m_4107227_ne_18_060_20180930\n",
      "m_4107248_nw_18_060_20180930\n",
      "m_4107301_sw_18_060_20190830\n",
      "m_4107317_ne_18_060_20190830\n",
      "m_4107317_nw_18_060_20190830\n",
      "m_4107325_nw_18_060_20190830\n",
      "m_4107325_sw_18_060_20190917\n",
      "m_4107355_sw_18_060_20180829\n",
      "m_4107541_se_18_060_20190921\n",
      "m_4107543_nw_18_060_20190921\n",
      "m_4107641_se_18_060_20190921\n",
      "m_4107641_sw_18_060_20190921\n",
      "m_4107649_ne_18_060_20190921\n",
      "m_4107803_ne_17_060_20191005\n",
      "m_4107916_nw_17_060_20190917\n",
      "m_4108051_nw_17_060_20191013\n",
      "m_4108059_nw_17_060_20191013\n",
      "m_4108059_se_17_060_20191013\n",
      "m_4108135_ne_17_060_20191012\n",
      "m_4108146_sw_17_060_20191012\n",
      "m_4108149_se_17_060_20191009\n",
      "m_4108153_ne_17_060_20191012\n",
      "m_4108161_ne_17_060_20191012\n",
      "m_4108161_nw_17_060_20191012\n",
      "m_4108161_sw_17_060_20191012\n",
      "m_4108242_ne_17_060_20190825\n",
      "m_4108242_se_17_060_20190825\n",
      "m_4108250_ne_17_060_20190825\n",
      "m_4108320_se_17_060_20190825\n",
      "m_4108321_sw_17_060_20190825\n",
      "m_4108351_ne_17_060_20191008\n",
      "m_4108353_sw_17_060_20191008\n",
      "m_4108363_ne_17_060_20191008\n",
      "m_4108534_sw_16_060_20180708\n",
      "m_4108540_ne_16_060_20180708\n",
      "m_4108540_nw_16_060_20180708\n",
      "m_4108550_nw_16_060_20180708\n",
      "m_4108564_nw_16_060_20180708\n",
      "m_4108615_sw_16_060_20180708\n",
      "m_4108616_sw_16_060_20180707\n",
      "m_4108622_se_16_060_20180708\n",
      "m_4108624_se_16_060_20180708\n",
      "m_4108630_ne_16_060_20180708\n",
      "m_4108701_ne_16_060_20190809\n",
      "m_4108701_se_16_060_20190809\n",
      "m_4108710_se_16_060_20190807\n",
      "m_4108711_nw_16_060_20190802\n",
      "m_4108711_sw_16_060_20190802\n",
      "m_4108717_nw_16_060_20190809\n",
      "m_4108719_sw_16_060_20190802\n"
     ]
    },
    {
     "name": "stderr",
     "output_type": "stream",
     "text": [
      " 78%|█████████████████████████████████████████████████████████████                 | 927/1184 [00:03<00:01, 252.91it/s]"
     ]
    },
    {
     "name": "stdout",
     "output_type": "stream",
     "text": [
      "m_4108720_se_16_060_20180707\n",
      "m_4108720_se_16_060_20190802\n",
      "m_4108721_se_16_060_20180707\n",
      "m_4108721_sw_16_060_20180707\n",
      "m_4108723_se_16_060_20180706\n",
      "m_4108728_ne_16_060_20180707\n",
      "m_4108728_ne_16_060_20190802\n",
      "m_4108729_nw_16_060_20180707\n",
      "m_4108729_sw_16_060_20180707\n",
      "m_4108733_sw_16_060_20190809\n",
      "m_4108734_ne_16_060_20190807\n",
      "m_4108743_sw_16_060_20190802\n",
      "m_4108749_se_16_060_20190809\n",
      "m_4108757_ne_16_060_20190809\n",
      "m_4108758_nw_16_060_20190809\n",
      "m_4108824_se_16_060_20190809\n",
      "m_4108832_ne_16_060_20190809\n",
      "m_4108838_sw_16_060_20190914\n",
      "m_4108839_se_16_060_20190914\n",
      "m_4108839_sw_16_060_20190809\n",
      "m_4108840_nw_16_060_20190809\n",
      "m_4108840_se_16_060_20190809\n",
      "m_4108908_se_16_060_20190809\n",
      "m_4108913_se_16_060_20190802\n",
      "m_4108926_ne_16_060_20190801\n",
      "m_4109029_sw_15_060_20190802\n",
      "m_4109035_ne_15_060_20190801\n",
      "m_4109111_se_15_060_20190731\n",
      "m_4109120_se_15_060_20190708\n",
      "m_4109120_sw_15_060_20190708\n",
      "m_4109129_ne_15_060_20190708\n",
      "m_4109261_sw_15_060_20190827\n",
      "m_4109263_se_15_060_20190804\n",
      "m_4109327_nw_15_060_20190730\n",
      "m_4109328_ne_15_060_20190822\n",
      "m_4109328_nw_15_060_20190730\n",
      "m_4109328_se_15_060_20190822\n",
      "m_4109329_sw_15_060_20190822\n",
      "m_4109541_ne_15_060_20180911\n",
      "m_4109541_ne_15_060_20190729\n",
      "m_4109541_nw_15_060_20180702\n",
      "m_4109541_nw_15_060_20190729\n",
      "m_4109541_se_15_060_20180911\n",
      "m_4109541_se_15_060_20190729\n",
      "m_4109550_nw_15_060_20190729\n"
     ]
    },
    {
     "name": "stderr",
     "output_type": "stream",
     "text": [
      " 80%|██████████████████████████████████████████████████████████████▊               | 953/1184 [00:03<00:00, 253.54it/s]"
     ]
    },
    {
     "name": "stdout",
     "output_type": "stream",
     "text": [
      "m_4109557_ne_15_060_20180911\n",
      "m_4109557_ne_15_060_20190729\n",
      "m_4109739_ne_14_060_20180702\n",
      "m_4109739_sw_14_060_20180702\n",
      "m_4109752_ne_14_060_20180709\n",
      "m_4109752_se_14_060_20180709\n",
      "m_4110050_sw_14_060_20180913\n",
      "m_4110051_sw_14_060_20180913\n",
      "m_4110059_nw_14_060_20180913\n",
      "m_4110241_ne_13_060_20180915\n",
      "m_4110242_nw_13_060_20180915\n",
      "m_4110444_sw_13_060_20190913\n",
      "m_4110450_se_13_060_20190824\n",
      "m_4110450_sw_13_060_20190824\n",
      "m_4110458_ne_13_060_20190824\n",
      "m_4110716_sw_13_060_20190723\n",
      "m_4110858_se_12_060_20190827\n",
      "m_4111025_ne_12_060_20190728\n",
      "m_4111157_nw_12_060_20180829\n",
      "m_4111256_ne_12_060_20180829\n",
      "m_4207025_se_19_060_20181016\n",
      "m_4207026_sw_19_060_20180806\n",
      "m_4207041_sw_19_060_20181107\n",
      "m_4207140_se_19_060_20181016\n",
      "m_4207148_ne_19_060_20181016\n",
      "m_4207252_ne_18_060_20180823\n",
      "m_4207252_se_18_060_20180823\n",
      "m_4207252_sw_18_060_20181107\n",
      "m_4207260_nw_18_060_20181107\n",
      "m_4207260_se_18_060_20180823\n",
      "m_4207310_se_18_060_20190805\n",
      "m_4207310_sw_18_060_20190805\n",
      "m_4207318_ne_18_060_20190805\n",
      "m_4207318_nw_18_060_20190805\n",
      "m_4207318_se_18_060_20190805\n",
      "m_4207319_sw_18_060_20190805\n",
      "m_4207342_se_18_060_20190805\n",
      "m_4207540_nw_18_060_20190805\n",
      "m_4207557_nw_18_060_20190918\n",
      "m_4207609_ne_18_060_20190918\n",
      "m_4207649_sw_18_060_20190918\n",
      "m_4207664_ne_18_060_20190918\n",
      "m_4207801_ne_17_060_20190906\n",
      "m_4207810_nw_17_060_20191005\n",
      "m_4208205_sw_17_060_20180703\n",
      "m_4208212_ne_17_060_20180706\n",
      "m_4208213_sw_17_060_20180703\n",
      "m_4208302_ne_17_060_20180703\n",
      "m_4208303_nw_17_060_20180703\n",
      "m_4208340_se_17_060_20180706\n",
      "m_4208346_se_17_060_20180707\n"
     ]
    },
    {
     "name": "stderr",
     "output_type": "stream",
     "text": [
      " 85%|█████████████████████████████████████████████████████████████████▋           | 1010/1184 [00:04<00:00, 266.94it/s]"
     ]
    },
    {
     "name": "stdout",
     "output_type": "stream",
     "text": [
      "m_4208355_sw_17_060_20180707\n",
      "m_4208411_se_16_060_20180706\n",
      "m_4208431_sw_16_060_20180707\n",
      "m_4208441_sw_16_060_20180707\n",
      "m_4208445_se_16_060_20180707\n",
      "m_4208514_nw_16_060_20180706\n",
      "m_4208616_sw_16_060_20180706\n",
      "m_4208757_se_16_060_20190809\n",
      "m_4208757_sw_16_060_20190809\n",
      "m_4208817_se_16_060_20180924\n",
      "m_4208947_se_16_060_20190802\n",
      "m_4209027_se_15_060_20181017\n",
      "m_4209027_se_15_060_20190801\n",
      "m_4209035_sw_15_060_20190801\n",
      "m_4209043_nw_15_060_20190801\n",
      "m_4209064_se_15_060_20190802\n",
      "m_4209237_ne_15_060_20190827\n",
      "m_4209237_se_15_060_20190827\n",
      "m_4209333_nw_15_060_20191007\n",
      "m_4209432_se_15_060_20190806\n",
      "m_4209607_se_14_060_20190711\n",
      "m_4209615_sw_14_060_20190711\n",
      "m_4209637_se_14_060_20180706\n",
      "m_4209637_se_14_060_20190827\n",
      "m_4209663_ne_14_060_20190828\n",
      "m_4209706_sw_14_060_20180912\n",
      "m_4209761_ne_14_060_20180829\n",
      "m_4209761_se_14_060_20180709\n",
      "m_4210451_ne_13_060_20190913\n",
      "m_4210451_nw_13_060_20190914\n",
      "m_4210514_sw_13_060_20190710\n",
      "m_4210521_nw_13_060_20190710\n",
      "m_4210613_ne_13_060_20190711\n",
      "m_4210614_ne_13_060_20190711\n",
      "m_4210615_nw_13_060_20190719\n",
      "m_4211204_se_12_060_20190718\n",
      "m_4211205_sw_12_060_20190718\n",
      "m_4211327_sw_12_060_20190718\n",
      "m_4307022_se_19_060_20180927\n",
      "m_4307058_ne_19_060_20180806\n",
      "m_4307058_ne_19_060_20180827\n",
      "m_4307058_nw_19_060_20180827\n",
      "m_4307058_nw_19_060_20181016\n",
      "m_4307222_sw_18_060_20190102\n",
      "m_4307225_nw_18_060_20181005\n",
      "m_4307552_sw_18_060_20190826\n",
      "m_4307554_se_18_060_20190805\n",
      "m_4307555_sw_18_060_20190805\n",
      "m_4307560_nw_18_060_20190826\n",
      "m_4307563_nw_18_060_20190805\n"
     ]
    },
    {
     "name": "stderr",
     "output_type": "stream",
     "text": [
      " 90%|█████████████████████████████████████████████████████████████████████▎       | 1065/1184 [00:04<00:00, 267.15it/s]"
     ]
    },
    {
     "name": "stdout",
     "output_type": "stream",
     "text": [
      "m_4307608_ne_18_060_20190801\n",
      "m_4307636_ne_18_060_20190918\n",
      "m_4307654_se_18_060_20190802\n",
      "m_4307655_ne_18_060_20190802\n",
      "m_4307655_sw_18_060_20190802\n",
      "m_4307662_ne_18_060_20190802\n",
      "m_4307751_se_18_060_20191005\n",
      "m_4307759_ne_18_060_20191005\n",
      "m_4307857_se_17_060_20190906\n",
      "m_4308317_sw_17_060_20180703\n",
      "m_4308318_sw_17_060_20180703\n",
      "m_4308325_nw_17_060_20180703\n",
      "m_4308359_ne_17_060_20180703\n",
      "m_4308359_se_17_060_20180703\n",
      "m_4308416_se_16_060_20180917\n",
      "m_4308462_se_16_060_20180706\n",
      "m_4308463_sw_16_060_20180706\n",
      "m_4308647_sw_16_060_20180707\n",
      "m_4308663_nw_16_060_20180707\n",
      "m_4308757_se_16_060_20180914\n",
      "m_4308819_ne_16_060_20180922\n",
      "m_4308819_sw_16_060_20180923\n",
      "m_4308856_ne_16_060_20180914\n",
      "m_4308856_se_16_060_20180914\n",
      "m_4309114_ne_15_060_20190827\n",
      "m_4309115_nw_15_060_20180911\n",
      "m_4309206_ne_15_060_20190820\n",
      "m_4309207_nw_15_060_20190820\n",
      "m_4309222_sw_15_060_20190820\n",
      "m_4309262_nw_15_060_20190820\n",
      "m_4309347_nw_15_060_20190727\n",
      "m_4309347_sw_15_060_20190727\n",
      "m_4309354_sw_15_060_20190828\n",
      "m_4309425_nw_15_060_20190806\n",
      "m_4309463_nw_15_060_20190806\n",
      "m_4309547_ne_15_060_20190806\n",
      "m_4309547_se_15_060_20190806\n",
      "m_4309551_se_15_060_20190711\n",
      "m_4309552_sw_15_060_20190711\n",
      "m_4309627_sw_14_060_20180825\n",
      "m_4309638_se_14_060_20190711\n",
      "m_4309638_sw_14_060_20190828\n",
      "m_4309639_sw_14_060_20190711\n",
      "m_4309717_ne_14_060_20180915\n",
      "m_4309717_nw_14_060_20180915\n",
      "m_4309824_ne_14_060_20180915\n",
      "m_4310514_nw_13_060_20190710\n",
      "m_4311631_nw_11_060_20190714\n",
      "m_4311631_se_11_060_20190714\n",
      "m_4406810_ne_19_060_20180730\n"
     ]
    },
    {
     "name": "stderr",
     "output_type": "stream",
     "text": [
      " 95%|████████████████████████████████████████████████████████████████████████▊    | 1120/1184 [00:04<00:00, 265.67it/s]"
     ]
    },
    {
     "name": "stdout",
     "output_type": "stream",
     "text": [
      "m_4406810_se_19_060_20180720\n",
      "m_4406826_ne_19_060_20180720\n",
      "m_4407339_nw_18_060_20180914\n",
      "m_4408511_se_16_060_20180912\n",
      "m_4408523_nw_16_060_20180912\n",
      "m_4408832_se_16_060_20180911\n",
      "m_4408928_sw_16_060_20180910\n",
      "m_4409105_se_15_060_20180908\n",
      "m_4409107_sw_15_060_20181016\n",
      "m_4409209_nw_15_060_20190731\n",
      "m_4409261_sw_15_060_20190820\n",
      "m_4409262_se_15_060_20190820\n",
      "m_4409308_se_15_060_20190731\n",
      "m_4409314_sw_15_060_20190727\n",
      "m_4409316_ne_15_060_20190731\n",
      "m_4409316_se_15_060_20190731\n",
      "m_4409323_ne_15_060_20190727\n",
      "m_4409456_sw_15_060_20190806\n",
      "m_4409463_se_15_060_20190806\n",
      "m_4409534_ne_15_060_20190808\n",
      "m_4409534_nw_15_060_20190808\n",
      "m_4409708_sw_14_060_20181015\n",
      "m_4409837_sw_14_060_20180907\n",
      "m_4509543_ne_15_060_20190808\n",
      "m_4509543_se_15_060_20190808\n",
      "m_4509828_se_14_060_20180917\n",
      "m_4512219_sw_10_060_20190826\n",
      "m_4512227_nw_10_060_20190826\n",
      "m_4606750_se_19_060_20180720\n",
      "m_4609216_sw_15_060_20190928\n",
      "m_4609221_se_15_060_20190731\n",
      "m_4609224_ne_15_060_20181022\n",
      "m_4609224_ne_15_060_20190928\n",
      "m_4609224_nw_15_060_20181022\n",
      "m_4609224_nw_15_060_20190928\n",
      "m_4609601_se_14_060_20181018\n",
      "m_4609601_se_14_060_20190702\n",
      "m_4609602_se_14_060_20181018\n",
      "m_4609602_sw_14_060_20181018\n",
      "m_4609803_sw_14_060_20180910\n",
      "m_4609803_sw_14_060_20190702\n",
      "m_4610009_ne_14_060_20180906\n",
      "m_4610009_ne_14_060_20190819\n",
      "m_4610306_se_13_060_20190814\n",
      "m_4610437_sw_13_060_20190713\n",
      "m_4610910_ne_12_060_20190903\n",
      "m_4611408_se_11_060_20190915\n",
      "m_4611956_ne_11_060_20190730\n",
      "m_4709521_ne_15_060_20190723\n",
      "m_4709611_se_14_060_20190723\n",
      "m_4709612_sw_14_060_20190723\n"
     ]
    },
    {
     "name": "stderr",
     "output_type": "stream",
     "text": [
      "100%|████████████████████████████████████████████████████████████████████████████▊| 1181/1184 [00:04<00:00, 275.72it/s]"
     ]
    },
    {
     "name": "stdout",
     "output_type": "stream",
     "text": [
      "m_4709624_nw_14_060_20190723\n",
      "m_4709707_ne_14_060_20190714\n",
      "m_4709708_nw_14_060_20180901\n",
      "m_4709708_nw_14_060_20190714\n",
      "m_4709708_nw_14_060_20190723\n",
      "m_4709833_ne_14_060_20180723\n",
      "m_4709833_ne_14_060_20190727\n",
      "m_4710312_se_13_060_20190718\n",
      "m_4710322_ne_13_060_20190718\n",
      "m_4710414_se_13_060_20190713\n",
      "m_4710458_ne_13_060_20190713\n",
      "m_4711131_sw_12_060_20190727\n",
      "m_4711722_nw_11_060_20190726\n",
      "m_4711722_sw_11_060_20190726\n",
      "m_4711954_ne_11_060_20190730\n",
      "m_4711954_se_11_060_20190730\n",
      "m_4712230_nw_10_060_20191011\n",
      "m_4712238_se_10_060_20191011\n",
      "m_4712239_nw_10_060_20191011\n",
      "m_4712245_se_10_060_20191011\n",
      "m_4809707_nw_14_060_20180901\n",
      "m_4809707_nw_14_060_20190707\n",
      "m_4809707_nw_14_060_20190723\n",
      "m_4810123_nw_14_060_20181020\n",
      "m_4810123_nw_14_060_20190714\n",
      "m_4810131_sw_14_060_20181020\n",
      "m_4810131_sw_14_060_20190714\n",
      "m_4810146_se_14_060_20181020\n",
      "m_4810146_se_14_060_20190714\n",
      "m_4810204_se_13_060_20180815\n",
      "m_4810204_se_13_060_20190720\n",
      "m_4810233_se_13_060_20180815\n",
      "m_4810233_se_13_060_20190705\n",
      "m_4810241_se_13_060_20180815\n",
      "m_4810241_se_13_060_20190705\n",
      "m_4810245_se_13_060_20180815\n",
      "m_4810245_se_13_060_20190715\n",
      "m_4810246_sw_13_060_20180815\n",
      "m_4810246_sw_13_060_20190715\n",
      "m_4810262_nw_13_060_20180815\n",
      "m_4810262_nw_13_060_20190715\n",
      "m_4810325_nw_13_060_20190725\n",
      "m_4810348_ne_13_060_20190705\n",
      "m_4810351_se_13_060_20190720\n",
      "m_4810358_ne_13_060_20190818\n",
      "m_4810429_nw_13_060_20190710\n",
      "m_4811222_sw_12_060_20190730\n",
      "m_4811230_nw_12_060_20190730\n",
      "m_4811231_nw_12_060_20190730\n",
      "m_4812203_sw_10_060_20191027\n",
      "m_4812211_ne_10_060_20191010\n",
      "m_4812211_nw_10_060_20191010\n",
      "m_4812236_nw_10_060_20191010\n"
     ]
    },
    {
     "name": "stderr",
     "output_type": "stream",
     "text": [
      "100%|█████████████████████████████████████████████████████████████████████████████| 1184/1184 [00:04<00:00, 252.79it/s]\n"
     ]
    }
   ],
   "source": [
    "#fc.identify_correct_name_incorrectly_named_chipped_images(img_anno_directory, incorrect_named_correctly_chipped_dir, tile_dir_path)"
   ]
  }
 ],
 "metadata": {
  "kernelspec": {
   "display_name": "Chip Allocate",
   "language": "python",
   "name": "chip_allocate"
  },
  "language_info": {
   "codemirror_mode": {
    "name": "ipython",
    "version": 3
   },
   "file_extension": ".py",
   "mimetype": "text/x-python",
   "name": "python",
   "nbconvert_exporter": "python",
   "pygments_lexer": "ipython3",
   "version": "3.9.7"
  }
 },
 "nbformat": 4,
 "nbformat_minor": 5
}
