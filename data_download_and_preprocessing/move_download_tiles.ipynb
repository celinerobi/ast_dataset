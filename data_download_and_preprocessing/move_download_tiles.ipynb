{
 "cells": [
  {
   "cell_type": "code",
   "execution_count": null,
   "id": "79829a71-ecc4-4bae-b75f-247db7dc0b77",
   "metadata": {},
   "outputs": [],
   "source": [
    "import os \n",
    "\n",
    "#from cartopy import crs\n",
    "import math\n",
    "from glob import glob\n",
    "from tqdm.notebook import tqdm_notebook\n",
    "\n",
    "# Less standard, but still pip- or conda-installable\n",
    "import pandas as pd\n",
    "import numpy as np"
   ]
  },
  {
   "cell_type": "markdown",
   "id": "483210db-7519-4f4a-940a-96281ecbf099",
   "metadata": {
    "tags": []
   },
   "source": [
    "# Move existing tiles"
   ]
  },
  {
   "cell_type": "code",
   "execution_count": null,
   "id": "38365039-78cf-4e56-94ca-fe9fbed198db",
   "metadata": {},
   "outputs": [],
   "source": [
    "for tile_names in list_of_possible_tile_names:\n",
    "    print(tile_names)"
   ]
  },
  {
   "cell_type": "code",
   "execution_count": null,
   "id": "87538ab3-f395-4b41-a31e-1ea1dc549f22",
   "metadata": {},
   "outputs": [],
   "source": [
    "counter = 0\n",
    "for tile_labeled in tiles_labeled_from_complete_set:\n",
    "    tile_labeled_name = os.path.splitext(tile_labeled[0])[0]\n",
    "    x = [string for string in tiles_recorded_as_labeled if tile_labeled_name in string]\n",
    "    if len(x) > 0:\n",
    "        counter += 1\n",
    "        #print(x)\n",
    "counter "
   ]
  },
  {
   "cell_type": "code",
   "execution_count": null,
   "id": "a01d6133-93a0-4c41-9593-346739afe60a",
   "metadata": {},
   "outputs": [],
   "source": []
  },
  {
   "cell_type": "code",
   "execution_count": null,
   "id": "967374c8-484b-46b4-a07c-84eee1d4ad7b",
   "metadata": {},
   "outputs": [],
   "source": [
    "#Check how many border tiles there are \n",
    "counter = 0\n",
    "for tile in tiles_to_be_downloaded:\n",
    "    tile_name = tile.split(\"_\",4)[4] #+ \".tif\"\n",
    "    tile_name = [string for string in tiles_labeled_from_complete_set[:,0] if tile_name in string]  #check if the tile_name is in the string contained in the array\n",
    "    if len(tile_name) > 1:\n",
    "        print(tile_name)\n",
    "        counter += 1\n",
    "counter"
   ]
  },
  {
   "cell_type": "code",
   "execution_count": null,
   "id": "f1b33560-96a4-4a75-92fc-fa8fb42293f6",
   "metadata": {},
   "outputs": [],
   "source": [
    "#https://www.kite.com/python/answers/how-to-check-if-a-list-contains-a-substring-in-python\n"
   ]
  }
 ],
 "metadata": {
  "kernelspec": {
   "display_name": "Chip Allocate",
   "language": "python",
   "name": "chip_allocate"
  },
  "language_info": {
   "codemirror_mode": {
    "name": "ipython",
    "version": 3
   },
   "file_extension": ".py",
   "mimetype": "text/x-python",
   "name": "python",
   "nbconvert_exporter": "python",
   "pygments_lexer": "ipython3",
   "version": "3.9.7"
  }
 },
 "nbformat": 4,
 "nbformat_minor": 5
}
