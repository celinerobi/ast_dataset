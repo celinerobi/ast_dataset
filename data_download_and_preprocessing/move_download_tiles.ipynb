{
 "cells": [
  {
   "cell_type": "markdown",
   "id": "483210db-7519-4f4a-940a-96281ecbf099",
   "metadata": {
    "tags": []
   },
   "source": [
    "# Move existing tiles"
   ]
  },
  {
   "cell_type": "code",
   "execution_count": null,
   "id": "38365039-78cf-4e56-94ca-fe9fbed198db",
   "metadata": {},
   "outputs": [],
   "source": [
    "for tile_names in list_of_possible_tile_names:\n",
    "    print(tile_names)"
   ]
  },
  {
   "cell_type": "code",
   "execution_count": null,
   "id": "87538ab3-f395-4b41-a31e-1ea1dc549f22",
   "metadata": {},
   "outputs": [],
   "source": [
    "counter = 0\n",
    "for tile_labeled in tiles_labeled_from_complete_set:\n",
    "    tile_labeled_name = os.path.splitext(tile_labeled[0])[0]\n",
    "    x = [string for string in tiles_recorded_as_labeled if tile_labeled_name in string]\n",
    "    if len(x) > 0:\n",
    "        counter += 1\n",
    "        #print(x)\n",
    "counter "
   ]
  },
  {
   "cell_type": "markdown",
   "id": "9001c215-2720-466f-9e32-699a4f026fde",
   "metadata": {
    "tags": []
   },
   "source": [
    "# Add tiles to completed dataset"
   ]
  },
  {
   "cell_type": "code",
   "execution_count": null,
   "id": "a090494a-8706-481c-8086-0bbf5f9333da",
   "metadata": {},
   "outputs": [],
   "source": [
    "#Move already downloaded tiles to completed dataset\n",
    "for path in downloaded_tiles_in_verification_sets:\n",
    "    base = os.path.basename(path)\n",
    "    tif = os.path.splitext(base)[0] #name of tif with the extension removed\n",
    "    #if tif in tile_img_annotation[:,0]:\n",
    "    #    shutil.move(path, os.path.join(path_to_tiles_folder_complete_dataset,base)) # copy images with matching .xml files in the \"chips_tank\" folder"
   ]
  },
  {
   "cell_type": "code",
   "execution_count": null,
   "id": "e843407b-206b-4771-83d8-546125def941",
   "metadata": {},
   "outputs": [],
   "source": [
    "#Make a list of the tiles moved to completed dataset\n",
    "tiles_downloaded = os.listdir(path_to_tiles_folder_complete_dataset)\n",
    "tiles_downloaded_temp = []\n",
    "for tile in tiles_downloaded:\n",
    "     tiles_downloaded_temp.append(os.path.splitext(tile)[0]) #name of tif with the extension removed\n",
    "tiles_downloaded = np.array(tiles_downloaded_temp)"
   ]
  },
  {
   "cell_type": "markdown",
   "id": "0aa36657-1b87-4c95-9522-b96788d5fff7",
   "metadata": {},
   "source": [
    "# Download remaining tiles that correspond to ONLY to verified images"
   ]
  },
  {
   "cell_type": "code",
   "execution_count": null,
   "id": "3cef7ef8-a274-49bd-92f7-1575beae236a",
   "metadata": {},
   "outputs": [],
   "source": [
    "#Gather the locations of tiles that have already been downlaoded and verified \n",
    "path_positive_images_complete_dataset = \"//oit-nas-fe13dc.oit.duke.edu//data_commons-borsuk//verified/complete_dataset/chips_positive\"\n",
    "jpg_path_positive_images_complete_dataset = glob(path_positive_images_complete_dataset + \"/*.jpg\", recursive = True)\n",
    "print(len(jpg_path_positive_images_complete_dataset))\n",
    "\n",
    "tiles_to_be_downloaded = []\n",
    "for path in jpg_path_positive_images_complete_dataset:\n",
    "    base = os.path.basename(path)\n",
    "    img = os.path.splitext(base)[0] #name of tif with the extension removed\n",
    "    tiles_to_be_downloaded.append(img.rsplit(\"_\",1)[0])\n",
    "tiles_to_be_downloaded = np.array(tiles_to_be_downloaded)\n",
    "\n",
    "tiles_to_be_downloaded = np.unique(tiles_to_be_downloaded)"
   ]
  },
  {
   "cell_type": "code",
   "execution_count": null,
   "id": "8aa8d915-a480-4c86-ab9c-3c4110dcc328",
   "metadata": {},
   "outputs": [],
   "source": [
    "#Identify tiles that have not already been downloaded\n",
    "tile_names_to_download = []\n",
    "for tile in tiles_to_be_downloaded: #index over the downloaded tiled\n",
    "    if tile not in tiles_downloaded: #index over the tiles that should be downloded\n",
    "        tile_names_to_download.append(tile)"
   ]
  },
  {
   "cell_type": "code",
   "execution_count": null,
   "id": "a01d6133-93a0-4c41-9593-346739afe60a",
   "metadata": {},
   "outputs": [],
   "source": [
    "\n",
    "tiles_labeled_from_complete_set\n",
    "\n",
    "blob_root = 'https://naipblobs.blob.core.windows.net/naip'\n",
    "#blob_root = 'https://naipeuwest.blob.core.windows.net/naip'  \n",
    "tile_names = []\n",
    "tile_urls = []\n",
    "\n",
    "for tile in tile_names_to_download:\n",
    "    tile_name = tile.split(\"_\",4)[4] #+ \".tif\"\n",
    "    \n",
    "    tile_name = [string for string in tiles_labeled_from_complete_set[:,0] if tile_name in string]  #check if the tile_name is in the string contained in the array"
   ]
  },
  {
   "cell_type": "code",
   "execution_count": null,
   "id": "967374c8-484b-46b4-a07c-84eee1d4ad7b",
   "metadata": {},
   "outputs": [],
   "source": [
    "#Check how many border tiles there are \n",
    "counter = 0\n",
    "for tile in tiles_to_be_downloaded:\n",
    "    tile_name = tile.split(\"_\",4)[4] #+ \".tif\"\n",
    "    tile_name = [string for string in tiles_labeled_from_complete_set[:,0] if tile_name in string]  #check if the tile_name is in the string contained in the array\n",
    "    if len(tile_name) > 1:\n",
    "        print(tile_name)\n",
    "        counter += 1\n",
    "counter"
   ]
  },
  {
   "cell_type": "code",
   "execution_count": null,
   "id": "f1b33560-96a4-4a75-92fc-fa8fb42293f6",
   "metadata": {},
   "outputs": [],
   "source": [
    "#https://www.kite.com/python/answers/how-to-check-if-a-list-contains-a-substring-in-python\n"
   ]
  }
 ],
 "metadata": {
  "kernelspec": {
   "display_name": "Chip Allocate",
   "language": "python",
   "name": "chip_allocate"
  },
  "language_info": {
   "codemirror_mode": {
    "name": "ipython",
    "version": 3
   },
   "file_extension": ".py",
   "mimetype": "text/x-python",
   "name": "python",
   "nbconvert_exporter": "python",
   "pygments_lexer": "ipython3",
   "version": "3.9.7"
  }
 },
 "nbformat": 4,
 "nbformat_minor": 5
}
