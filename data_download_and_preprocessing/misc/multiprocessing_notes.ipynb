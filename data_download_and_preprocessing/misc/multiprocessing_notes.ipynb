{
 "cells": [
  {
   "cell_type": "code",
   "execution_count": 22,
   "id": "63a8fee3-d9b7-462e-b585-a483587e3d60",
   "metadata": {},
   "outputs": [],
   "source": [
    "from multiprocessing import Pool\n",
    "import multiprocessing as mp\n",
    "\n",
    "num_cores = mp.cpu_count()\n",
    "pool = Pool(processes=num_cores)\n",
    "pool.map_async(fc.multi_iterate_over_tile_compare_move_state_year_by_six_digit_index, args)\n",
    "pool.close()\n",
    "pool.join()\n",
    "## -- End pasted text --"
   ]
  },
  {
   "cell_type": "code",
   "execution_count": 12,
   "id": "db1ffa01-c6b5-43ef-81b3-a375506f61e6",
   "metadata": {},
   "outputs": [
    {
     "data": {
      "text/plain": [
       "3"
      ]
     },
     "execution_count": 12,
     "metadata": {},
     "output_type": "execute_result"
    }
   ],
   "source": [
    "num_cores"
   ]
  },
  {
   "cell_type": "code",
   "execution_count": 3,
   "id": "627271fa-1489-490e-8247-fc86cdfd97b9",
   "metadata": {},
   "outputs": [
    {
     "data": {
      "text/plain": [
       "functools.partial(<class 'int'>, base=2)"
      ]
     },
     "execution_count": 3,
     "metadata": {},
     "output_type": "execute_result"
    }
   ],
   "source": [
    "    ys,xs = fc.get_x_y_index(standard_img_paths) \n",
    "    all_tile_names = tqdm.tqdm(all_tile_names)\n",
    "\n",
    "    args = ((tile_name, compile_by_tile_state_year_dir, tile_dir_path, \n",
    "            state_year_img_paths, state_year_xml_paths, six_digit_index_list) for tile_name in all_tile_names)\n",
    "    num_cores = mp.cpu_count()\n",
    "    pool = Pool(processes=num_cores)\n",
    "    pool.map_async(fc.multi_iterate_over_tile_compare_move_state_year_by_six_digit_index, args)\n",
    "    pool.close()\n",
    "    pool.join()"
   ]
  },
  {
   "cell_type": "code",
   "execution_count": null,
   "id": "e15a0504-457d-443c-b8c7-c5628a588a70",
   "metadata": {},
   "outputs": [],
   "source": [
    "#compile_by_tile_state_year using six digit indicies "
   ]
  },
  {
   "cell_type": "code",
   "execution_count": null,
   "id": "b6d3cff1-992d-4852-b18e-ab6b740a8835",
   "metadata": {},
   "outputs": [
    {
     "name": "stderr",
     "output_type": "stream",
     "text": [
      "  0%|          | 0/2153 [00:00<?, ?it/s]"
     ]
    }
   ],
   "source": [
    "import multiprocessing as mp\n",
    "\n",
    "\n",
    "# Step 1: Init multiprocessing.Pool()\n",
    "pool = mp.Pool(mp.cpu_count())\n",
    "all_tile_names = \n",
    "# Step 2: `pool.apply` the `howmany_within_range()`\n",
    "results = [pool.apply(multi_iterate_over_tile_compare_move_state_year_by_six_digit_index, \n",
    "                      args=(tile_name, compile_by_tile_state_year_dir, tile_dir_path, \n",
    "                            state_year_img_paths, state_year_xml_paths, six_digit_index_list)) for tile_name in all_tile_names]\n",
    "\n",
    "# Step 3: Don't forget to close\n",
    "pool.close()    "
   ]
  }
 ],
 "metadata": {
  "kernelspec": {
   "display_name": "Python 3 (ipykernel)",
   "language": "python",
   "name": "python3"
  },
  "language_info": {
   "codemirror_mode": {
    "name": "ipython",
    "version": 3
   },
   "file_extension": ".py",
   "mimetype": "text/x-python",
   "name": "python",
   "nbconvert_exporter": "python",
   "pygments_lexer": "ipython3",
   "version": "3.8.13"
  }
 },
 "nbformat": 4,
 "nbformat_minor": 5
}
