{
 "cells": [
  {
   "cell_type": "code",
   "execution_count": 11,
   "id": "cbd50c73-4b04-4aed-9d29-dbeab27a4b0c",
   "metadata": {},
   "outputs": [],
   "source": [
    "import data_eng.az_proc as ap\n",
    "import data_eng.form_calcs as fc\n",
    "\n",
    "from glob import glob\n",
    "import os\n",
    "import xml.etree.ElementTree as et\n",
    "import numpy as np\n",
    "import pandas as pd"
   ]
  },
  {
   "cell_type": "code",
   "execution_count": 3,
   "id": "dfd79f57-83a3-43fb-b88b-4c0a92d32fd7",
   "metadata": {},
   "outputs": [],
   "source": [
    "set_number = '5'\n",
    "parent_directory = \"//oit-nas-fe13dc.oit.duke.edu//data_commons-borsuk\"\n",
    "verification_dir_set5 = os.path.join(parent_directory,\"unverified_images/student_reviewed_unverified_images_set7\")\n",
    "#verification_dir = os.path.join(parent_directory,\"verification_set\"+set_number)\n",
    "#folder_names = [\"Niculescu_Sunny_Poonacha\"]                            \n",
    "#annotator_allocation = ['Mia','Tang']\n",
    "#tracker_file_path = 'outputs/tile_img_annotation_annotator.npy'"
   ]
  },
  {
   "cell_type": "code",
   "execution_count": 4,
   "id": "693865cd-7b4a-4f2a-b2cd-95c1d820b00f",
   "metadata": {},
   "outputs": [
    {
     "data": {
      "text/plain": [
       "['Cleave', 'Niculescu', 'Poonacha', 'Sunny']"
      ]
     },
     "execution_count": 4,
     "metadata": {},
     "output_type": "execute_result"
    }
   ],
   "source": [
    "os.listdir(verification_dir_set5)"
   ]
  },
  {
   "cell_type": "markdown",
   "id": "10162451-a0e3-4834-bbcf-5fa2eeead42f",
   "metadata": {},
   "source": [
    "## Determine the number of images labeled by each annotator for the verification seperation"
   ]
  },
  {
   "cell_type": "code",
   "execution_count": 7,
   "id": "e05eeb39-b617-40af-a836-5c2444b3e1cf",
   "metadata": {},
   "outputs": [],
   "source": [
    "img_anno=ap.img_path_anno_path(ap.list_of_sub_directories(verification_dir_set5))"
   ]
  },
  {
   "cell_type": "code",
   "execution_count": 16,
   "id": "a8f604a1-c676-4b15-9f53-b826a5b79aed",
   "metadata": {},
   "outputs": [
    {
     "name": "stdout",
     "output_type": "stream",
     "text": [
      "[['Cleave' '960']\n",
      " ['Niculescu' '139']\n",
      " ['Poonacha' '1308']\n",
      " ['Sunny' '134']]\n"
     ]
    }
   ],
   "source": [
    "annotators = []\n",
    "num_images_annotated = []\n",
    "\n",
    "#the total number of images in each allocated set for each annotator\n",
    "for i in range(len(img_anno)):\n",
    "    #print(\"Annotator:\", img_anno[i,1].rsplit(\"/\")[5],\"; images:\", len(glob(img_anno[i,1]+'/*')))\n",
    "    annotators.append(img_anno[i,1].rsplit(\"/\")[-3])\n",
    "    num_images_annotated.append(len(glob(img_anno[i,1]+'/*')))\n",
    "    fc.remove_thumbs(img_anno[i,0])\n",
    "annotated_images_by_allocation = np.array((annotators, num_images_annotated)).T\n",
    "\n",
    "#the total number of images by each annotator\n",
    "unique_annotators = []\n",
    "total_num_images_annotated = []\n",
    "for i in np.unique(annotators):\n",
    "    unique_annotators.append(i)\n",
    "    total_num_images_annotated.append(sum(annotated_images_by_allocation[annotated_images_by_allocation[:,0] == i][:,1].astype(int))) #determine the total number of images for each annotator \n",
    "total_num_of_images_by_annotator = np.array((unique_annotators, total_num_images_annotated)).T\n",
    "print(total_num_of_images_by_annotator)"
   ]
  },
  {
   "cell_type": "code",
   "execution_count": 20,
   "id": "e3ed25dc-51ac-476e-9c91-09effdbad4cc",
   "metadata": {},
   "outputs": [
    {
     "data": {
      "text/plain": [
       "array([['Cleave', '405'],\n",
       "       ['Cleave', '528'],\n",
       "       ['Desbans', '153'],\n",
       "       ['Niculescu', '190'],\n",
       "       ['Poonacha', '121'],\n",
       "       ['Poonacha', '93'],\n",
       "       ['Poonacha', '97'],\n",
       "       ['Poonacha', '204']], dtype='<U11')"
      ]
     },
     "execution_count": 20,
     "metadata": {},
     "output_type": "execute_result"
    }
   ],
   "source": [
    "annotated_images_by_allocation"
   ]
  },
  {
   "cell_type": "code",
   "execution_count": 13,
   "id": "735b40cb-cb9a-42eb-8fbb-20f95d398ae2",
   "metadata": {},
   "outputs": [
    {
     "name": "stdout",
     "output_type": "stream",
     "text": [
      "['Poonacha_Niculescu_Sunny'] 1191 ['Cleave', 'Kang']\n",
      "['Cleave_Sunny_Poonacha'] 985 ['Niculescu', 'Alvarez', 'Katpally', 'Nayak', 'Tang', 'Celine']\n",
      "['Poonacha_Niculescu_Cleave'] 1140 ['Sunny', 'Jaewon', 'Josh', 'Feinberg']\n",
      "['Niculescu_Cleave_Sunny'] 1104 ['Poonacha', 'Shen']\n"
     ]
    }
   ],
   "source": [
    "#print(Poonacha)\n",
    "#total_num_of_images_by_annotator[0] #determine the total number of images for each annotator \n",
    "num_images1 = 0\n",
    "verify_set_1 = [\"Poonacha_Niculescu_Sunny\"]\n",
    "annotator_allocation_set_1 = [\"Cleave\", \"Kang\"]\n",
    "\n",
    "num_images2 = 0\n",
    "verify_set_2 = [\"Cleave_Sunny_Poonacha\"]\n",
    "annotator_allocation_set_2 = [\"Niculescu\", \"Alvarez\", \"Katpally\", \"Nayak\", \"Tang\",'Celine']\n",
    "\n",
    "num_images3 = 0\n",
    "verify_set_3 = [\"Poonacha_Niculescu_Cleave\"] #went to Niculescu_Poonacha_Cleave\n",
    "annotator_allocation_set_3 = [\"Sunny\",\"Jaewon\", \"Josh\",'Feinberg']\n",
    "\n",
    "num_images4 = 0\n",
    "verify_set_4 = [\"Niculescu_Cleave_Sunny\"]\n",
    "annotator_allocation_set_4 = [\"Poonacha\", \"Shen\"]\n",
    "\n",
    "for i in range(len(total_num_of_images_by_annotator)):\n",
    "    \n",
    "    if total_num_of_images_by_annotator[i,0] in annotator_allocation_set_1:\n",
    "        num_images1 += total_num_of_images_by_annotator[i,1].astype(int)\n",
    "\n",
    "    if total_num_of_images_by_annotator[i,0] in annotator_allocation_set_2:\n",
    "        num_images2 += total_num_of_images_by_annotator[i,1].astype(int)\n",
    "\n",
    "    if total_num_of_images_by_annotator[i,0] in annotator_allocation_set_3:\n",
    "        num_images3 += total_num_of_images_by_annotator[i,1].astype(int)\n",
    "        \n",
    "    if total_num_of_images_by_annotator[i,0] in annotator_allocation_set_4:\n",
    "        num_images4 += total_num_of_images_by_annotator[i,1].astype(int)\n",
    "        \n",
    "print(verify_set_1, num_images1, annotator_allocation_set_1)\n",
    "print(verify_set_2, num_images2, annotator_allocation_set_2)\n",
    "print(verify_set_3, num_images3, annotator_allocation_set_3)\n",
    "print(verify_set_4, num_images4, annotator_allocation_set_4)"
   ]
  },
  {
   "cell_type": "markdown",
   "id": "c7085256-b6c3-41c6-8fa2-ba6e934548a1",
   "metadata": {},
   "source": [
    "## test tracking array"
   ]
  },
  {
   "cell_type": "code",
   "execution_count": 14,
   "id": "a8838585-618a-464b-becb-7ff16d993529",
   "metadata": {},
   "outputs": [],
   "source": [
    "img_anno = ap.img_path_anno_path(ap.list_of_sub_directories(verification_dir))"
   ]
  },
  {
   "cell_type": "code",
   "execution_count": 11,
   "id": "cd969e9b-14e7-44bb-81d6-79f830c8a623",
   "metadata": {},
   "outputs": [],
   "source": [
    "#tracking_array = ap.reference_image_annotation_file_with_annotator(img_anno, tracker_file_path) #load existing and update "
   ]
  },
  {
   "cell_type": "code",
   "execution_count": 15,
   "id": "593d279e-5d7b-46b5-99df-be046cc9a74f",
   "metadata": {},
   "outputs": [
    {
     "name": "stdout",
     "output_type": "stream",
     "text": [
      "Poonacha_Niculescu_Sunny\n",
      "folder Poonacha_Niculescu_Sunny\n",
      "annotator Cleave\n",
      "annotator Kang\n",
      "1191\n"
     ]
    }
   ],
   "source": [
    "if os.path.exists(tracker_file_path):\n",
    "    verfication_set = os.path.join(parent_directory, \"verification_set\" + set_number, \"unverified_images\")\n",
    "    tile_img_annotation_annotator = ap.update_path(verfication_set, tracker_file_path)\n",
    "\n",
    "folder_annotator_list, verification_dir = ap.verification_folders(parent_directory, verify_set_1, annotator_allocation_set_1, set_number)\n",
    "tile_img_annotation_annotator = ap.seperate_images_for_verification_update_tracking(folder_annotator_list, verification_dir, \n",
    "                                                                                    set_number, tile_img_annotation_annotator)"
   ]
  },
  {
   "cell_type": "code",
   "execution_count": 16,
   "id": "8f4fa3bb-b5a6-4809-bcd9-706ffc7bad3d",
   "metadata": {},
   "outputs": [],
   "source": [
    "np.save('outputs/tile_img_annotation_annotator.npy', tile_img_annotation_annotator)\n",
    "\n",
    "column_names = [\"tile_name\", \"chip_name\", \"chip pathway\", \"xml annotation\", \n",
    "                \"annotator - draw\",\"annotator - verify coverage\",\n",
    "                \"annotator - verify quality\", \"annotator - verify classes\"]\n",
    "tile_img_annotation_annotator_df = pd.DataFrame(data = tile_img_annotation_annotator, \n",
    "                                               index = tile_img_annotation_annotator[:,1], \n",
    "                                               columns = column_names)\n",
    "tile_img_annotation_annotator_df.to_csv('outputs/tile_img_annotation_annotator_df.csv')"
   ]
  },
  {
   "cell_type": "markdown",
   "id": "b508e5f6-194b-4389-9dfe-b8bfbb33bba4",
   "metadata": {},
   "source": [
    "## Issues with correct inncorrect labels scipt\n",
    "identify the issue with the annotation and correct in labelImg if needed"
   ]
  },
  {
   "cell_type": "code",
   "execution_count": 18,
   "id": "4f2207ab-a953-4712-88b1-9fd78a397675",
   "metadata": {},
   "outputs": [
    {
     "name": "stdout",
     "output_type": "stream",
     "text": [
      "mn_60cm_2019_47096_m_4709624_nw_14_060_20190723_000203.xml\n",
      "<xml.etree.ElementTree.ElementTree object at 0x0000013A0BF113A0>\n",
      "<Element 'annotation' at 0x0000013A0BF0CE00>\n",
      "\n",
      "\t\t\n",
      "narrow_closed_roof_tank\n",
      "\n",
      "\t\t\n",
      "narrow_closed_roof_tank\n",
      "\n",
      "\t\t\n",
      "narrow_closed_roof_tank\n",
      "\n",
      "\t\t\n",
      "narrow_closed_roof_tank\n",
      "\n",
      "\t\t\n",
      "narrow_closed_roof_tank\n",
      "\n",
      "\t\t\n",
      "narrow_closed_roof_tank\n",
      "\n",
      "\t\t\n",
      "undefined_object\n",
      "\n",
      "\t\t\n",
      "undefined_object\n",
      "\n",
      "\t\t\n",
      "undefined_object\n",
      "\n",
      "\t\t\n",
      "undefined_object\n",
      "\n",
      "\t\t\n",
      "undefined_object\n",
      "\n",
      "\t\t\n",
      "'\n"
     ]
    }
   ],
   "source": [
    "w = 15505 #the last annotation to be converted + 1\n",
    "\n",
    "print(dist.chips_positive_list[w])\n",
    "print(len(dist.chips_positive_list))\n",
    "print(dist.chips_xml_list[w])\n",
    "print(len(dist.chips_xml_list))\n",
    "\n",
    "xml_file = dist.chips_xml_list[w]\n",
    "print(xml_file)\n",
    "# use the parse() function to load and parse an XML file\n",
    "tree = et.parse(os.path.join(dist.chips_xml_dir, xml_file))\n",
    "print(tree)\n",
    "root = tree.getroot() \n",
    "print(root)\n",
    "for obj in root.iter('object'):\n",
    "    print(obj.text)\n",
    "    for name in obj.findall('name'):\n",
    "        print(name.text)"
   ]
  },
  {
   "cell_type": "code",
   "execution_count": null,
   "id": "e24dac31-1460-4167-9244-2c48941021e9",
   "metadata": {
    "tags": []
   },
   "outputs": [],
   "source": [
    "positive_xml = os.listdir(\"//oit-nas-fe13dc.oit.duke.edu/data_commons-borsuk/complete_dataset/chips_positive_xml\")\n",
    "for i in range(len(positive_xml)):\n",
    "    positive_xml[i] = positive_xml[i].split(\".\")[0]\n",
    "    \n",
    "positive = os.listdir(\"//oit-nas-fe13dc.oit.duke.edu/data_commons-borsuk/complete_dataset/chips_positive\")\n",
    "for i in range(len(positive)):\n",
    "    positive[i] = positive[i].split(\".\")[0]\n",
    "main_list = list(set(positive_xml) - set(positive))\n",
    "\n",
    "positive = os.listdir(\"//oit-nas-fe13dc.oit.duke.edu/data_commons-borsuk/complete_dataset/chips_positive\")\n",
    "positive_recorded = list(np.load(tracker_file_path)[:,1])\n",
    "main_list = list(set(positive_recorded) - set(positive))\n",
    "len(main_list)"
   ]
  },
  {
   "cell_type": "code",
   "execution_count": null,
   "id": "c9e51aba-0859-4f3c-be2c-45455a41ccd5",
   "metadata": {},
   "outputs": [],
   "source": [
    "#set3\n",
    "#folder_names_set3 = [\"anyone\",  ]       # Tang#2         Poonacha#2   Sunny#2                         \n",
    "#annotator_allocation_set3 = [['Josh','Jaewon',\"Shen\",'Katpally']]"
   ]
  },
  {
   "cell_type": "code",
   "execution_count": 1,
   "id": "d413a8f4-0225-4092-9f0c-14ea9b740515",
   "metadata": {},
   "outputs": [],
   "source": [
    "import data_eng.az_proc as ap\n",
    "import os\n",
    "import numpy as np\n",
    "import pandas as pd"
   ]
  },
  {
   "cell_type": "code",
   "execution_count": null,
   "id": "2af635d4-9451-442c-9d74-686dbc4deaf1",
   "metadata": {},
   "outputs": [],
   "source": [
    "Make Corrections to Verification/Tracking "
   ]
  },
  {
   "cell_type": "markdown",
   "id": "cdd6273d-feaf-475b-9927-005cb8ec52a5",
   "metadata": {},
   "source": [
    "## Correcting Verifiers in Tracking Numpy/DF"
   ]
  },
  {
   "cell_type": "code",
   "execution_count": null,
   "id": "4d18f77d-260f-484f-a5cf-575c36453e31",
   "metadata": {},
   "outputs": [],
   "source": [
    "#load tracking numpy\n",
    "tile_img_annotation_annotator = np.load(\"outputs/tile_img_annotation_annotator.npy\")"
   ]
  },
  {
   "cell_type": "code",
   "execution_count": 34,
   "id": "10085698-2276-49c6-a99b-e2b330f47f4a",
   "metadata": {},
   "outputs": [],
   "source": [
    "#specify the verifier set to correct and specify the correction that should be made\n",
    "target_verifiers_1 = np.array(['Jaewon', 'James', 'Amadu'])\n",
    "correction_1 = ['Jaewon', 'James', 'Poonacha']\n",
    "\n",
    "target_verifiers_2 = np.array(['Jaewon', 'James', 'Josh'] )\n",
    "correction_2 = ['Jaewon', 'Poonacha', 'Cleave']\n",
    "\n",
    "target_verifiers_3 = np.array(['Josh', 'James','Amadu'])\n",
    "correction_3 = ['Josh', 'Poonacha','Sunny']\n",
    "\n",
    "target_verifiers_4 = np.array(['Cleave','Alvarez','Tang'])\n",
    "correction_4 = ['Cleave','Tang','Poonacha']\n",
    "\n",
    "target_verifiers_5 = np.array(['Sunny','Cleave','Alvarez'])\n",
    "correction_5 = ['Sunny','Cleave','Poonacha']"
   ]
  },
  {
   "cell_type": "code",
   "execution_count": 35,
   "id": "8b250428-fabe-4097-a54f-558d82b33600",
   "metadata": {},
   "outputs": [],
   "source": [
    "#make corrections\n",
    "for i in range(len(tile_img_annotation_annotator)):\n",
    "    if np.array_equal(tile_img_annotation_annotator[i,5:8], target_verifiers_4):\n",
    "        tile_img_annotation_annotator[i,5:8] = correction_4\n",
    "    elif np.array_equal(tile_img_annotation_annotator[i,5:8], target_verifiers_5):\n",
    "        tile_img_annotation_annotator[i,5:8] = correction_5"
   ]
  },
  {
   "cell_type": "code",
   "execution_count": 36,
   "id": "526def7e-28b3-46aa-b237-79f87a2d5923",
   "metadata": {},
   "outputs": [],
   "source": [
    "#save updated \n",
    "np.save('outputs/tile_img_annotation_annotator.npy', tile_img_annotation_annotator)\n",
    "column_names = [\"tile_name\", \"chip_name\", \"chip pathway\", \"xml annotation\", \n",
    "                    \"annotator - draw\",\"annotator - verify coverage\",\n",
    "                    \"annotator - verify quality\", \"annotator - verify classes\"]\n",
    "tile_img_annotation_annotator_df = pd.DataFrame(data = tile_img_annotation_annotator, \n",
    "                                                index = tile_img_annotation_annotator[:,1], \n",
    "                                                columns = column_names)\n",
    "tile_img_annotation_annotator_df.to_csv('outputs/tile_img_annotation_annotator_df.csv')"
   ]
  },
  {
   "cell_type": "markdown",
   "id": "b868f422-0ba4-4ba8-938f-cfaf179c4506",
   "metadata": {},
   "source": [
    "## Count the Number of Images/Annotatiosn"
   ]
  },
  {
   "cell_type": "code",
   "execution_count": 56,
   "id": "2611b83f-eff6-43a1-8974-ce76b22e31d7",
   "metadata": {},
   "outputs": [
    {
     "data": {
      "text/plain": [
       "11271"
      ]
     },
     "execution_count": 56,
     "metadata": {},
     "output_type": "execute_result"
    }
   ],
   "source": [
    "files_verified = []\n",
    "dirs =  ['D:/verification/verify_josh_james_amadu_1/chips',\n",
    "                    'D:/verification/verify_jaewon_james_josh_1/chips',\n",
    "                    'D:/verification/verify_jaewon_james_amadu_1/chips',\n",
    "                    'D:/verification/verify_josh_jaewon_amadu_1/chips']\n",
    "for dir in dirs:\n",
    "    files_verified.append(os.listdir(dir))\n",
    "\n",
    "files_verified = [ item for elem in files_verified for item in elem]\n",
    "len(files_verified)\n",
    "len(np.unique(np.array(files_verified)))\n"
   ]
  },
  {
   "cell_type": "code",
   "execution_count": 34,
   "id": "149a85da-67f8-4bab-a4cc-87d3a086da51",
   "metadata": {},
   "outputs": [
    {
     "data": {
      "text/plain": [
       "11510"
      ]
     },
     "execution_count": 34,
     "metadata": {},
     "output_type": "execute_result"
    }
   ],
   "source": [
    "files_to_be_verified = []\n",
    "for dir in ap.img_path_anno_path(ap.list_of_sub_directories('D:/verification/unverified_images/student_reviewed_unverified_images'))[:,0]:\n",
    "    files_to_be_verified.append(os.listdir(dir))\n",
    "\n",
    "files_to_be_verified = [ item for elem in files_to_be_verified for item in elem]\n",
    "len(files_to_be_verified)\n",
    "len(np.unique(np.array(files_to_be_verified)))"
   ]
  },
  {
   "cell_type": "code",
   "execution_count": 49,
   "id": "430d5cb1-6b40-4c5f-9010-84cd30089164",
   "metadata": {},
   "outputs": [
    {
     "name": "stdout",
     "output_type": "stream",
     "text": [
      "Thumbs.db\n",
      "Thumbs.db\n"
     ]
    }
   ],
   "source": [
    "for uvfile in files_to_be_verified:\n",
    "    if files_verified.count(uvfile) == 0:\n",
    "        print(uvfile)\n",
    "        \n",
    "#Identify the position of missing files\n",
    "items = [x for x in files_to_be_verified if 'Thumbs.db' in x]\n",
    "indexes = [n for n, x in enumerate(files_to_be_verified) if'Thumbs.db' in x]\n",
    "\n",
    "print(indexes)"
   ]
  },
  {
   "cell_type": "code",
   "execution_count": 47,
   "id": "f3ee1026-bfd4-4047-a046-36cb4ce89a2f",
   "metadata": {},
   "outputs": [
    {
     "data": {
      "text/plain": [
       "set()"
      ]
     },
     "execution_count": 47,
     "metadata": {},
     "output_type": "execute_result"
    }
   ],
   "source": [
    "#Identify Missing Files\n",
    "missing = set(files_verified) - set(files_to_be_verified) \n",
    "missing"
   ]
  },
  {
   "cell_type": "code",
   "execution_count": 3,
   "id": "20ca96f5-11af-42ff-9c50-3d23d206d830",
   "metadata": {},
   "outputs": [
    {
     "data": {
      "text/plain": [
       "array([['ny_60cm_2019_41073_m_4107341_sw_18_060_20190917',\n",
       "        'ny_60cm_2019_41073_m_4107341_sw_18_060_20190917_000166.jpg',\n",
       "        'D:\\\\Unverified_images\\\\student_reviewed_unverified_images/Aidan/unverified_images_not_reviewed_by_student1_Aidan/chips_positive\\\\ny_60cm_2019_41073_m_4107341_sw_18_060_20190917_000166.jpg',\n",
       "        ..., 'Jaewon', 'Poonacha', 'Cleave'],\n",
       "       ['ny_60cm_2019_41073_m_4107341_sw_18_060_20190917',\n",
       "        'ny_60cm_2019_41073_m_4107341_sw_18_060_20190917_000342.jpg',\n",
       "        'D:\\\\Unverified_images\\\\student_reviewed_unverified_images/Aidan/unverified_images_not_reviewed_by_student1_Aidan/chips_positive\\\\ny_60cm_2019_41073_m_4107341_sw_18_060_20190917_000342.jpg',\n",
       "        ..., 'Jaewon', 'Poonacha', 'Cleave'],\n",
       "       ['ny_60cm_2019_41073_m_4107341_sw_18_060_20190917',\n",
       "        'ny_60cm_2019_41073_m_4107341_sw_18_060_20190917_000389.jpg',\n",
       "        'D:\\\\Unverified_images\\\\student_reviewed_unverified_images/Aidan/unverified_images_not_reviewed_by_student1_Aidan/chips_positive\\\\ny_60cm_2019_41073_m_4107341_sw_18_060_20190917_000389.jpg',\n",
       "        ..., 'Jaewon', 'Poonacha', 'Cleave'],\n",
       "       ...,\n",
       "       ['tx_060cm_2018_33101_m_3310110_nw_14_060_20180924',\n",
       "        'tx_060cm_2018_33101_m_3310110_nw_14_060_20180924_000137.jpg',\n",
       "        '//oit-nas-fe13dc.oit.duke.edu/data_commons-borsuk\\\\verification_set3\\\\unverified_images/student_reviewed_unverified_images/Tang/student_reviewed_images8_Tang',\n",
       "        ..., '', '', ''],\n",
       "       ['tx_060cm_2018_33101_m_3310110_nw_14_060_20180924',\n",
       "        'tx_060cm_2018_33101_m_3310110_nw_14_060_20180924_000412.jpg',\n",
       "        '//oit-nas-fe13dc.oit.duke.edu/data_commons-borsuk\\\\verification_set3\\\\unverified_images/student_reviewed_unverified_images/Tang/student_reviewed_images8_Tang',\n",
       "        ..., '', '', ''],\n",
       "       ['tx_060cm_2018_33101_m_3310110_nw_14_060_20180924',\n",
       "        'tx_060cm_2018_33101_m_3310110_nw_14_060_20180924_000434.jpg',\n",
       "        '//oit-nas-fe13dc.oit.duke.edu/data_commons-borsuk\\\\verification_set3\\\\unverified_images/student_reviewed_unverified_images/Tang/student_reviewed_images8_Tang',\n",
       "        ..., '', '', '']], dtype='<U200')"
      ]
     },
     "execution_count": 3,
     "metadata": {},
     "output_type": "execute_result"
    }
   ],
   "source": [
    "ap.update_path(verification_dir, tracker_file_path)"
   ]
  }
 ],
 "metadata": {
  "kernelspec": {
   "display_name": "Chip Allocate",
   "language": "python",
   "name": "chip_allocate"
  },
  "language_info": {
   "codemirror_mode": {
    "name": "ipython",
    "version": 3
   },
   "file_extension": ".py",
   "mimetype": "text/x-python",
   "name": "python",
   "nbconvert_exporter": "python",
   "pygments_lexer": "ipython3",
   "version": "3.9.7"
  }
 },
 "nbformat": 4,
 "nbformat_minor": 5
}
