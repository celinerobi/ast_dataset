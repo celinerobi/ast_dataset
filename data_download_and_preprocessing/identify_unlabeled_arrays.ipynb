{
 "cells": [
  {
   "cell_type": "code",
   "execution_count": 1,
   "id": "9f0a63aa-b797-40f8-a691-14fd04c3877c",
   "metadata": {},
   "outputs": [],
   "source": [
    "# Standard packages\n",
    "import tempfile\n",
    "import warnings\n",
    "import urllib\n",
    "import shutil\n",
    "import os\n",
    "# Less standard, but still pip- or conda-installable\n",
    "import pandas as pd\n",
    "import numpy as np\n",
    "import matplotlib.pyplot as plt\n",
    "import matplotlib\n",
    "#import rasterio\n",
    "import re\n",
    "import rtree\n",
    "import shapely\n",
    "import pickle\n",
    "import data_eng.az_proc as ap\n",
    "import data_eng.form_calcs as fc\n",
    "\n",
    "#from cartopy import crs\n",
    "import collections\n",
    "import cv2\n",
    "import math\n",
    "from glob import glob\n",
    "from tqdm.notebook import tqdm_notebook"
   ]
  },
  {
   "cell_type": "code",
   "execution_count": 2,
   "id": "b0baaf95-6d9a-4ea1-b47f-fb9c217e8e10",
   "metadata": {},
   "outputs": [
    {
     "name": "stdout",
     "output_type": "stream",
     "text": [
      "2293088\n"
     ]
    }
   ],
   "source": [
    "#The file paths of .jpgs in the entire storage space\n",
    "parent_directory = \"//oit-nas-fe13dc.oit.duke.edu//data_commons-borsuk//\"\n",
    "\n",
    "path_storage_space = os.path.join(parent_directory)\n",
    "jpgs_storage_space = glob(path_storage_space + \"/**/*.jpg\", recursive = True)\n",
    "print(len(jpgs_storage_space))\n",
    "\n",
    "tile_names_tile_urls_complete_array_unique_standard_tile_names = np.load(\"tile_names_tile_urls_complete_array_unique_standard_tile_names.npy\")\n",
    "\n",
    "#The file names (with and without extensions) for all jpgs in the storage space \n",
    "#jpgs_ext, jpgs_without_ext = fc.jpg_path_to_jpg_name_formatted(jpgs_storage_space)"
   ]
  },
  {
   "cell_type": "code",
   "execution_count": 3,
   "id": "cc20d285-44c7-4217-a119-399d7e44288f",
   "metadata": {
    "tags": []
   },
   "outputs": [],
   "source": [
    "#Determine the corresponding tile names (formatted) for given paths of jpgs \n",
    "tile_names_formatted_storage_space = fc.jpg_path_to_tile_name_formatted(jpgs_storage_space)\n",
    "tile_names_formatted_storage_space = np.unique(tile_names_formatted_storage_space)\n",
    "tile_names_formatted_storage_space.shape\n",
    "\n",
    "#Deteremine the tile names (standard) for given paths of jpgs \n",
    "tile_names_standard_storage_space = []\n",
    "for tile_name_formatted_storage_space in tile_names_formatted_storage_space:\n",
    "    tile_names_standard_storage_space.append(tile_name_formatted_storage_space.split(\"_\",4)[4])\n",
    "    \n",
    "#Create a 2d array of the standard and formatted tile names of the jpgs given\n",
    "tile_names_in_storage_space_standard_formatted = np.hstack((np.array(tile_names_standard_storage_space)[:,None], tile_names_formatted_storage_space[:,None]))"
   ]
  },
  {
   "cell_type": "code",
   "execution_count": 4,
   "id": "fb06cd8c-bf1a-4ead-8a60-48b408fbd41b",
   "metadata": {},
   "outputs": [
    {
     "name": "stdout",
     "output_type": "stream",
     "text": [
      "0 2437 0\n"
     ]
    }
   ],
   "source": [
    "counter_0 = 0\n",
    "counter_1 = 0\n",
    "counter_gr1 = 0\n",
    "for tile_name_standard in tile_names_in_storage_space_standard_formatted[:,0]: #iterate over the tiles that have actually been annotated\n",
    "    strings_with_substring = [string for string in tile_names_tile_urls_complete_array_unique_standard_tile_names[:,2] if tile_name_standard in string] #check if a given tile is in the complete_array \n",
    "    if len(strings_with_substring) == 0:\n",
    "        counter_0 += 1\n",
    "        print(tile_name_standard)\n",
    "    if len(strings_with_substring) == 1:\n",
    "        counter_1 += 1\n",
    "    if len(strings_with_substring) > 1:\n",
    "        counter_gr1 += 1\n",
    "print(counter_0, counter_1, counter_gr1)"
   ]
  },
  {
   "cell_type": "code",
   "execution_count": null,
   "id": "fbfcac12-0963-4909-ac69-91120aa7edd1",
   "metadata": {},
   "outputs": [],
   "source": [
    "# Check which standard tile names that could be included in the dataset are missing + which tiles have been annotated in duplicate"
   ]
  },
  {
   "cell_type": "code",
   "execution_count": 5,
   "id": "ba8632c0-8cbb-4ebb-9578-25076e13d6de",
   "metadata": {},
   "outputs": [
    {
     "name": "stdout",
     "output_type": "stream",
     "text": [
      "48 2345 46\n"
     ]
    }
   ],
   "source": [
    "counter_0 = 0\n",
    "counter_1 = 0\n",
    "counter_gr1 = 0\n",
    "unlabeled_array = []\n",
    "duplicated_standard_tile_names = []\n",
    "for tile_name_standard_complete_array in tile_names_tile_urls_complete_array_unique_standard_tile_names: #iterate over the tiles that are meant to be in full set\n",
    "    standard_tile_names = [string for string in tile_names_in_storage_space_standard_formatted[:,0] if tile_name_standard_complete_array[2][0:27] in string] #check if a given tile has been annotated\n",
    "    if len(standard_tile_names) == 0:\n",
    "        counter_0 += 1\n",
    "        unlabeled_array.append(tile_name_standard_complete_array)\n",
    "    if len(standard_tile_names) == 1:\n",
    "        counter_1 += 1\n",
    "    if len(standard_tile_names) > 1:\n",
    "        counter_gr1 += 1\n",
    "        duplicated_standard_tile_names.append(tile_name_standard_complete_array)\n",
    "print(counter_0, counter_1, counter_gr1)\n",
    "unlabeled_array = np.array(unlabeled_array)"
   ]
  },
  {
   "cell_type": "code",
   "execution_count": null,
   "id": "6c0cf371-8e37-452b-8ecb-512098499fb6",
   "metadata": {},
   "outputs": [],
   "source": [
    "duplicated_standard_tile_names"
   ]
  },
  {
   "cell_type": "code",
   "execution_count": null,
   "id": "87701bf7-75b6-4f7c-a7ba-f4d988d5b2c4",
   "metadata": {},
   "outputs": [],
   "source": [
    "# Check whether unlabeled tiles are known to contain errors "
   ]
  },
  {
   "cell_type": "code",
   "execution_count": null,
   "id": "d7c1c1e6-732b-4ea2-9179-6c28825f76c8",
   "metadata": {},
   "outputs": [],
   "source": [
    "counter_0 = 0\n",
    "counter_geq1 = 0\n",
    "unlabeled_array_no_known_errors = []\n",
    "\n",
    "for tile_name in unlabeled_array: #iterate over the tiles that are meant to be in full set\n",
    "    standard_tile_names_included_in_error_array = [string for string in tiles_errors[:,0] if tile_name[2][0:27] in string] #check if a given tile has been annotated\n",
    "    if len(standard_tile_names_included_in_error_array) == 0:\n",
    "        counter_0 += 1\n",
    "        unlabeled_array_no_known_errors.append(tile_name)\n",
    "        \n",
    "    if len(standard_tile_names_included_in_error_array) >= 1:\n",
    "        counter_geq1 += 1\n",
    "print(counter_0, counter_geq1)\n",
    "\n",
    "unlabeled_array_no_known_errors = np.array(unlabeled_array_no_known_errors)\n",
    "np.save(\"unlabeled_tile_names_tile_urls.npy\", unlabeled_array_no_known_errors[:,[0,1]])"
   ]
  },
  {
   "cell_type": "code",
   "execution_count": null,
   "id": "05c012f5-64ce-4735-a4cc-0ddf93681692",
   "metadata": {},
   "outputs": [],
   "source": [
    "\"\"\"\n",
    "# Determine which tiles included in the complete dataset array have not been labeled (tile names formatted)\n",
    "counter_0 = 0\n",
    "counter_1 = 0\n",
    "counter_gr1 = 0\n",
    "for tile_names_formatted in tile_names_in_storage_space_standard_formatted[:,1]: #iterate over the tiles that have actually been annotated\n",
    "    strings_with_substring = [string for string in tile_names_tile_urls_complete_array_unique_formatted_tile_names[:,3] if tile_names_formatted in string] #check if a given tile is in the complete_array \n",
    "    if len(strings_with_substring) == 0:\n",
    "        counter_0 += 1\n",
    "    if len(strings_with_substring) == 1:\n",
    "        counter_1 += 1\n",
    "    if len(strings_with_substring) > 1:\n",
    "        counter_gr1 += 1\n",
    "print(counter_0, counter_1, counter_gr1)\n",
    "\n",
    "# Check which formatted tile names that could be included in the dataset are missing\n",
    "counter_0 = 0\n",
    "counter_1 = 0\n",
    "counter_gr1 = 0\n",
    "for tile_name_formatted_complete_array in tile_names_tile_urls_complete_array_unique_formatted_tile_names: #iterate over the tiles that are meant to be in full set\n",
    "    unlabeled = [string for string in tile_names_in_storage_space_standard_formatted[:,1] if tile_name_formatted_complete_array[3][0:46] in string] #check if a given tile has been annotated\n",
    "    if len(unlabeled) == 0:\n",
    "        counter_0 += 1\n",
    "    if len(unlabeled) == 1:\n",
    "        counter_1 += 1\n",
    "    if len(unlabeled) > 1:\n",
    "        counter_gr1 += 1\n",
    "print(counter_0, counter_1, counter_gr1)\n",
    "\"\"\"\n",
    "# Determine which tiles included in the complete dataset array have not been labeled (standard naming convention)\n",
    "## Use this to determine which tiles have not been annotated"
   ]
  },
  {
   "cell_type": "markdown",
   "id": "f84a5ea6-452f-4d32-b146-9b41ead97463",
   "metadata": {},
   "source": [
    "# Download Tiles "
   ]
  },
  {
   "cell_type": "code",
   "execution_count": null,
   "id": "f02d8599-4a54-45a1-94b9-d5803cd7ef10",
   "metadata": {},
   "outputs": [],
   "source": []
  }
 ],
 "metadata": {
  "kernelspec": {
   "display_name": "Chip Allocate",
   "language": "python",
   "name": "chip_allocate"
  },
  "language_info": {
   "codemirror_mode": {
    "name": "ipython",
    "version": 3
   },
   "file_extension": ".py",
   "mimetype": "text/x-python",
   "name": "python",
   "nbconvert_exporter": "python",
   "pygments_lexer": "ipython3",
   "version": "3.9.7"
  }
 },
 "nbformat": 4,
 "nbformat_minor": 5
}
