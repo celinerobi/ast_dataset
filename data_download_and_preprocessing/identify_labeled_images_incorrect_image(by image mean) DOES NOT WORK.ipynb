{
 "cells": [
  {
   "cell_type": "markdown",
   "id": "50c028f3-f39f-4b35-a28c-5ea5d2af0577",
   "metadata": {},
   "source": [
    "Identify duplicates by image mean\n",
    "does not work :("
   ]
  },
  {
   "cell_type": "code",
   "execution_count": 90,
   "id": "83c0b12f-7bad-4bdf-8650-a76545f54ea6",
   "metadata": {},
   "outputs": [],
   "source": [
    "import os \n",
    "\n",
    "import fiona #must be import before geopandas\n",
    "import geopandas as gpd\n",
    "import rasterio\n",
    "import xarray as xr\n",
    "import re\n",
    "import rtree\n",
    "import shapely\n",
    "import pickle\n",
    "\n",
    "#from cartopy import crs\n",
    "import collections\n",
    "import cv2\n",
    "import math\n",
    "from glob import glob\n",
    "from tqdm.notebook import tqdm_notebook\n",
    "\n",
    "# Standard packages\n",
    "import tempfile\n",
    "import warnings\n",
    "import urllib\n",
    "import shutil\n",
    "\n",
    "# Less standard, but still pip- or conda-installable\n",
    "import pandas as pd\n",
    "import numpy as np\n",
    "import matplotlib\n",
    "import matplotlib.pyplot as plt\n",
    "from matplotlib.patches import Rectangle\n",
    "\n",
    "import data_eng.az_proc as ap\n",
    "import data_eng.form_calcs as fc\n",
    "\n",
    "from lxml.etree import Element,SubElement,tostring\n",
    "import xml.dom.minidom\n",
    "from xml.dom.minidom import parseString\n",
    "import xml.etree.ElementTree as et\n",
    "from xml.dom import minidom\n",
    "\n",
    "#import requests\n",
    "from PIL import Image\n",
    "from io import BytesIO\n",
    "import tqdm\n",
    "from skimage.metrics import structural_similarity as compare_ssim\n",
    "import imutils\n",
    "\n",
    "import psutil"
   ]
  },
  {
   "cell_type": "code",
   "execution_count": 151,
   "id": "8c8bdbd7-af52-4e8c-ac81-258381e553aa",
   "metadata": {},
   "outputs": [],
   "source": [
    "parent_directory = \"//oit-nas-fe13dc.oit.duke.edu//data_commons-borsuk//\"\n",
    "\n",
    "tile_names_tile_urls_complete_array = np.load(\"image_download_azure/tile_name_tile_url_complete_array.npy\")\n",
    "\n",
    "tiles_labeled = \"tile_name_tile_url_labeled.npy\"\n",
    "tiles_labeled_from_complete_set = np.load(tiles_labeled)\n",
    "\n",
    "tracker_file_path = 'outputs/tile_img_annotation_annotator.npy'\n",
    "tile_img_annotation = np.load(tracker_file_path)\n",
    "tile_img_annotation_annotator = np.load(\"outputs/tile_img_annotation_annotator.npy\")\n",
    "\n",
    "tiles_errors = 'tile_name_tile_url_error_downloading.npy'\n",
    "tiles_errors = np.load(tiles_errors)\n",
    "\n",
    "#create folder to hold tiles in completed dataset\n",
    "\n",
    "tiles_complete_dataset_path = os.path.join(parent_directory,\"complete_dataset\",\"tiles\")\n",
    "tiles_xml_complete_dataset_path = os.path.join(parent_directory,\"complete_dataset\",\"tiles_xml\")\n",
    "os.makedirs(tiles_complete_dataset_path, exist_ok=True)\n",
    "\n",
    "tile_names_tile_urls_complete_array_unique_standard_tile_names = np.load(\"tile_names_tile_urls_complete_array_unique_standard_tile_names.npy\")\n",
    "image_characteristics = pd.read_csv(\"image_characteristics.csv\")\n",
    "tile_names_tile_urls_complete_array_unique_standard_tile_names = np.load(\"tile_names_tile_urls_complete_array_unique_standard_tile_names.npy\")\n",
    "\n",
    "#NAIP quad map\n",
    "quad_indicies_path = \"C:/Users/rapiduser/Box/EPA STAR 2019 (Community Resistance to Environmental Disasters)/Data/AST Datasets/MapIndices_National_GDB/MapIndices_National_GDB.gdb\"\n",
    "#fiona.listlayers(quad_indicies_path)\n",
    "\n",
    "correct_images_for_incorrect_labeled_chip_names_identified_from_confirmed_correct_positive_chips = pd.read_csv(\"correct_images_for_incorrect_labeled_chip_names_identified_from_confirmed_correct_positive_chips.csv\")"
   ]
  },
  {
   "cell_type": "code",
   "execution_count": null,
   "id": "7f65cde8-4e58-4e66-899d-126371db7f31",
   "metadata": {},
   "outputs": [],
   "source": [
    "## identify correct images by mean"
   ]
  },
  {
   "cell_type": "code",
   "execution_count": 299,
   "id": "64a48bdc-3cfe-40cb-9b6d-8fcb8929380c",
   "metadata": {},
   "outputs": [
    {
     "name": "stderr",
     "output_type": "stream",
     "text": [
      "100%|██████████| 1922/1922 [4:31:47<00:00,  8.48s/it]  \n"
     ]
    }
   ],
   "source": [
    "correct_xs = []\n",
    "correct_ys = []\n",
    "correct_chip_names = []\n",
    "correct_chip_means = []\n",
    "\n",
    "for tile_in_dir in tqdm.tqdm(os.listdir(tiles_complete_dataset_path)):\n",
    "    tile = cv2.imread(os.path.join(tiles_complete_dataset_path, tile_in_dir))\n",
    "    file_name, ext = os.path.splitext(tile_in_dir) # File name\n",
    "        \n",
    "    #get tile shape\n",
    "    item_dim = int(512)          \n",
    "    tile_height,  tile_width,  tile_channels = tile.shape #the size of the tile #determine tile dimensions\n",
    "    row_index = math.ceil(tile_height/512) #divide the tile into 512 by 512 chips (rounding up)\n",
    "    col_index = math.ceil(tile_width/512)\n",
    "    #print(row_index, col_index)\n",
    "    count = 1  \n",
    "    for y in range(0, col_index):\n",
    "        for x in range(0, row_index):\n",
    "            correct_chip_name = file_name+ '_' + str(count).zfill(6) + '.jpg'\n",
    "            correct_chip_names.append(correct_chip_name)\n",
    "            correct_xs.append(x)\n",
    "            correct_ys.append(y)\n",
    "            \n",
    "            #create a numpy array of each correctly chipped images \n",
    "            correct_image = fc.tile_to_chip_array(tile, x, y, item_dim)\n",
    "            correct_chip_means.append(np.mean(correct_image))\n",
    "            \n",
    "            count += 1\n",
    "            if (np.mean(correct_image) == 0) and (np.sum(correct_image) != 0):\n",
    "                fig = plt.figure()\n",
    "                plt.imshow(correct_image)\n",
    "                print(x,y)                            \n",
    "                plt.title(file_name+ '_' + str(count).zfill(6) + '.jpg')\n",
    "                plt.show() \n",
    "correct_chip_means = np.array(correct_chip_means)"
   ]
  },
  {
   "cell_type": "code",
   "execution_count": 321,
   "id": "d851ec2f-4507-4042-8ffc-c9dd1cf994cd",
   "metadata": {},
   "outputs": [
    {
     "name": "stderr",
     "output_type": "stream",
     "text": [
      "  0%|          | 0/801 [01:18<?, ?it/s]\n"
     ]
    },
    {
     "ename": "KeyboardInterrupt",
     "evalue": "",
     "output_type": "error",
     "traceback": [
      "\u001b[1;31m---------------------------------------------------------------------------\u001b[0m",
      "\u001b[1;31mKeyboardInterrupt\u001b[0m                         Traceback (most recent call last)",
      "\u001b[1;32mC:\\Users\\RAPIDU~1\\AppData\\Local\\Temp/ipykernel_9240/3577665982.py\u001b[0m in \u001b[0;36m<module>\u001b[1;34m\u001b[0m\n\u001b[0;32m     15\u001b[0m \u001b[1;33m\u001b[0m\u001b[0m\n\u001b[0;32m     16\u001b[0m     \u001b[1;32mfor\u001b[0m \u001b[0mcorrect_chip_mean\u001b[0m \u001b[1;32min\u001b[0m \u001b[0mcorrect_chip_means\u001b[0m\u001b[1;33m:\u001b[0m\u001b[1;33m\u001b[0m\u001b[1;33m\u001b[0m\u001b[0m\n\u001b[1;32m---> 17\u001b[1;33m         \u001b[0mpercent_errors\u001b[0m\u001b[1;33m.\u001b[0m\u001b[0mappend\u001b[0m\u001b[1;33m(\u001b[0m\u001b[0mabs\u001b[0m\u001b[1;33m(\u001b[0m\u001b[1;33m(\u001b[0m\u001b[0mcorrect_chip_mean\u001b[0m \u001b[1;33m-\u001b[0m \u001b[0mincorrect_labeled_chip_means_remaining\u001b[0m\u001b[1;33m[\u001b[0m\u001b[0mnum\u001b[0m\u001b[1;33m]\u001b[0m\u001b[1;33m)\u001b[0m\u001b[1;33m/\u001b[0m\u001b[1;33m(\u001b[0m\u001b[0mcorrect_chip_means\u001b[0m\u001b[1;33m+\u001b[0m\u001b[0mnp\u001b[0m\u001b[1;33m.\u001b[0m\u001b[0mfinfo\u001b[0m\u001b[1;33m(\u001b[0m\u001b[0mfloat\u001b[0m\u001b[1;33m)\u001b[0m\u001b[1;33m.\u001b[0m\u001b[0meps\u001b[0m\u001b[1;33m)\u001b[0m\u001b[1;33m)\u001b[0m \u001b[1;33m*\u001b[0m \u001b[1;36m100\u001b[0m \u001b[1;33m)\u001b[0m\u001b[1;33m\u001b[0m\u001b[1;33m\u001b[0m\u001b[0m\n\u001b[0m\u001b[0;32m     18\u001b[0m \u001b[1;33m\u001b[0m\u001b[0m\n\u001b[0;32m     19\u001b[0m \u001b[1;33m\u001b[0m\u001b[0m\n",
      "\u001b[1;31mKeyboardInterrupt\u001b[0m: "
     ]
    }
   ],
   "source": [
    "###read in incorrect images\n",
    "incorrect_labeled_chip_names_by_subfolder = pd.read_csv(\"incorrect_labeled_chip_names_by_subfolder.csv\")\n",
    "indicies_of_incorrect_labeled_chip_image_remaining  = pd.read_csv(\"indicies_of_incorrect_labeled_chip_image_remaining.csv\")\n",
    "indicies_of_incorrect_labeled_chip_image_remaining = indicies_of_incorrect_labeled_chip_image_remaining[\"indicies_of_incorrect_labeled_chip_image_remaining\"].tolist()\n",
    "\n",
    "incorrect_labeled_chip_image_array_remaining = np.zeros((len(incorrect_labeled_chip_names_by_subfolder),512,512, 3), dtype='uint8')\n",
    "incorrect_labeled_chip_means_remaining = np.empty((len(incorrect_labeled_chip_names_by_subfolder)))\n",
    "\n",
    "for num in tqdm.tqdm(indicies_of_incorrect_labeled_chip_image_remaining):    \n",
    "    incorrect_chip_array_remaining = cv2.imread(incorrect_labeled_chip_names_by_subfolder[\"incorrect_chip_paths\"][num])  #open image\n",
    "    incorrect_labeled_chip_image_array_remaining[num,:,:,:] = incorrect_chip_array_remaining\n",
    "    incorrect_labeled_chip_means_remaining[num] = np.mean(incorrect_chip_array_remaining)\n",
    "\n",
    "    percent_errors = []\n",
    "   \n",
    "    for correct_chip_mean in correct_chip_means:\n",
    "        dividend = np.absolute(correct_chip_means - incorrect_labeled_chip_means_remaining[num])\n",
    "        divisor = correct_chip_means + np.finfo(float).eps\n",
    "        percent_errors = (np.divide(dividend, divisor) * 100)\n",
    "        print(np.min(percent_errors),np.max(percent_errors))        \n",
    "    percent_errors = []"
   ]
  },
  {
   "cell_type": "code",
   "execution_count": 311,
   "id": "83801d80-a725-4d3f-bc05-88be88b60f8f",
   "metadata": {},
   "outputs": [
    {
     "name": "stderr",
     "output_type": "stream",
     "text": [
      " 30%|███       | 241/801 [01:22<03:23,  2.75it/s]C:\\Users\\RAPIDU~1\\AppData\\Local\\Temp/ipykernel_9240/691543178.py:17: RuntimeWarning: divide by zero encountered in double_scalars\n",
      "  percent_errors.append( abs((correct_chip_means[index] - corrected_incorrect_image_mean)/correct_chip_means[index]) * 100 )\n",
      "100%|██████████| 801/801 [04:32<00:00,  2.94it/s]\n"
     ]
    }
   ],
   "source": [
    "#confirm that np.mean is a reliable metric for assessing the similarity between images\n",
    "#images in storage space have been compressed/chipped previously (are known to be correct)\n",
    "incorrect_labeled_image_names = []\n",
    "percent_errors = []\n",
    "correct_images_for_incorrect_labeled_chip_names_identified_from_confirmed_correct_positive_chips_index = []\n",
    "\n",
    "for num in tqdm.tqdm(indicies_of_incorrect_labeled_chip_image_remaining):\n",
    "    corrected_incorrect_image = cv.imread(correct_incorrect_image)\n",
    "    corrected_incorrect_image_mean = np.mean(corrected_incorrect_image)\n",
    "    corrected_incorrect_image_means.append(corrected_incorrect_image_mean)\n",
    "    \n",
    "    correct_incorrect_standard_image_name = incorrect_labeled_chip_names_by_subfolder[\"incorrect_chip_names\"][num].split(\"_\",4)[-1]\n",
    "    correct_incorrect_standard_image_names.append(correct_incorrect_standard_image_name)\n",
    "    \n",
    "    index = np.where(np.array(correct_chip_names) == correct_incorrect_standard_image_name)[0][0]\n",
    "    correct_images_for_incorrect_labeled_chip_names_identified_from_confirmed_correct_positive_chips_index.append(index)\n",
    "    percent_errors.append( abs((correct_chip_means[index] - corrected_incorrect_image_mean)/correct_chip_means[index]) * 100 )"
   ]
  },
  {
   "cell_type": "code",
   "execution_count": 294,
   "id": "4f2ba713-e35f-47cb-8987-5d08ed255d75",
   "metadata": {},
   "outputs": [
    {
     "name": "stderr",
     "output_type": "stream",
     "text": [
      "100%|██████████| 549/549 [03:21<00:00,  2.72it/s]\n"
     ]
    }
   ],
   "source": [
    "#confirm that np.mean is a reliable metric for assessing the similarity between images\n",
    "#images in storage space have been compressed/chipped previously (are known to be correct)\n",
    "corrected_incorrect_image_means = []\n",
    "correct_incorrect_standard_image_names = []\n",
    "percent_errors = []\n",
    "correct_images_for_incorrect_labeled_chip_names_identified_from_confirmed_correct_positive_chips_index = []\n",
    "\n",
    "for correct_incorrect_image in tqdm.tqdm(correct_images_for_incorrect_labeled_chip_names_identified_from_confirmed_correct_positive_chips[\"correct_image_paths\"]):\n",
    "    corrected_incorrect_image = cv.imread(correct_incorrect_image)\n",
    "    corrected_incorrect_image_mean = np.mean(corrected_incorrect_image)\n",
    "    corrected_incorrect_image_means.append(corrected_incorrect_image_mean)\n",
    "    \n",
    "    correct_incorrect_image_name = correct_incorrect_image.split(\"\\\\\")[-1]\n",
    "    correct_incorrect_standard_image_name = correct_incorrect_image_name.split(\"_\",4)[-1]\n",
    "    correct_incorrect_standard_image_names.append(correct_incorrect_standard_image_name)\n",
    "    \n",
    "    index = np.where(np.array(correct_chip_names) == correct_incorrect_standard_image_name)[0][0]\n",
    "    correct_images_for_incorrect_labeled_chip_names_identified_from_confirmed_correct_positive_chips_index.append(index)\n",
    "    percent_errors.append( abs((correct_chip_means[index] - corrected_incorrect_image_mean)/correct_chip_means[index]) * 100 )"
   ]
  },
  {
   "cell_type": "code",
   "execution_count": 298,
   "id": "da31029e-4a37-42f4-937a-8f566f1a8570",
   "metadata": {},
   "outputs": [
    {
     "name": "stdout",
     "output_type": "stream",
     "text": [
      "57 0.07699870757074227\n",
      "m_3008135_se_17_060_20191119_000380.jpg\n",
      "85 0.0659614601407446\n",
      "m_2708205_sw_17_060_20191129_000195.jpg\n",
      "89 0.05522360157848654\n",
      "m_2708205_nw_17_060_20191129_000495.jpg\n",
      "90 0.051763068265803076\n",
      "m_2708205_nw_17_060_20191129_000520.jpg\n",
      "91 0.06130410518456201\n",
      "m_2608064_nw_17_060_20191120_000265.jpg\n",
      "101 0.08530277334966058\n",
      "m_2909002_nw_15_060_20190707_000055.jpg\n",
      "126 0.0650390624601024\n",
      "m_2608064_nw_17_060_20191120_000289.jpg\n",
      "141 0.08193209432087858\n",
      "m_2708205_nw_17_060_20191129_000470.jpg\n",
      "143 0.0647004741674657\n",
      "m_2608064_nw_17_060_20191120_000361.jpg\n",
      "158 0.06817002894536185\n",
      "m_3008845_nw_16_060_20181204_000320.jpg\n",
      "173 0.05917165288773231\n",
      "m_3009058_sw_15_060_20190831_000269.jpg\n",
      "186 0.06409701335989597\n",
      "m_3009058_sw_15_060_20190831_000451.jpg\n",
      "207 0.06438676200696698\n",
      "m_3009058_sw_15_060_20190831_000372.jpg\n",
      "215 0.059979154485006916\n",
      "m_3008845_nw_16_060_20181204_000271.jpg\n",
      "234 0.06106161090156692\n",
      "m_3812264_sw_10_060_20180715_000254.jpg\n",
      "248 0.2890173185302233\n",
      "m_3907508_nw_18_060_20191015_000240.jpg\n",
      "249 0.19859383862370736\n",
      "m_3907508_nw_18_060_20191015_000217.jpg\n",
      "329 0.10770673544752704\n",
      "m_3907507_sw_18_060_20191019_000415.jpg\n",
      "398 0.17454180807037306\n",
      "m_4007424_nw_18_060_20190830_000128.jpg\n",
      "400 0.11758645296991196\n",
      "m_4007424_nw_18_060_20190830_000135.jpg\n",
      "403 0.10306083745338032\n",
      "m_4007424_nw_18_060_20190830_000302.jpg\n",
      "413 0.08909593898735194\n",
      "m_4007424_nw_18_060_20190830_000252.jpg\n",
      "419 0.05493071371064863\n",
      "m_3712206_sw_10_060_20180723_000146.jpg\n",
      "432 0.10904368995730937\n",
      "m_3712206_sw_10_060_20180723_000196.jpg\n",
      "434 0.050164568612672475\n",
      "m_3712206_sw_10_060_20180723_000171.jpg\n",
      "488 0.11093817665130572\n",
      "m_4007424_sw_18_060_20190830_000357.jpg\n",
      "538 0.06256678052612588\n",
      "m_2708205_sw_17_060_20191129_000069.jpg\n"
     ]
    }
   ],
   "source": [
    "#Percent error is not a reliable method to identify similar images\n",
    "\"\"\"\n",
    "for idx, percent_error in enumerate(percent_errors):\n",
    "    if percent_error > 0.05:\n",
    "        print(idx, percent_error)\n",
    "        print(correct_incorrect_standard_image_names[idx])\n",
    "        #print(correct_incorrect_standard_image_names[idx])\n",
    "        #fig, (ax1, ax2) = plt.subplots(1, 2)\n",
    "        #ax1.set_title('correct_image')\n",
    "        #ax1.imshow(fc.tile_to_chip_array(cv.imread(os.path.join(tiles_complete_dataset_path,\"m_3008824_ne_16_060_20191115.tif\")), 20, 13, 512))\n",
    "        #ax2.set_title('labeled_chip_array')\n",
    "        #ax2.imshow(cv.imread([string for string in correct_images_for_incorrect_labeled_chip_names_identified_from_confirmed_correct_positive_chips[\"correct_image_paths\"] if correct_chip_names[index] in string][0]))\n",
    "        #plt.show() \n",
    "\"\"\""
   ]
  },
  {
   "cell_type": "code",
   "execution_count": null,
   "id": "f4667851-e4f3-4c7e-bfa9-2859e3711d27",
   "metadata": {},
   "outputs": [],
   "source": [
    "#for num in tqdm.tqdm(np.sort(indicies_of_incorrect_labeled_chip_image_remaining)):    \n",
    "    #fig = plt.figure()\n",
    "    #plt.imshow(cv.imread(incorrect_labeled_chip_names_by_subfolder[\"incorrect_chip_paths\"][num]))\n",
    "    #print(incorrect_labeled_chip_names_by_subfolder[\"incorrect_chip_paths\"][num])\n",
    "    #plt.show() \n",
    "    \n",
    "index = np.where(np.array(percent_errors) == np.sort(percent_errors)[10])[0][0]\n",
    "fc.tile_to_chip_array(tile, x, y, item_dim)\n",
    "fig = plt.figure()\n",
    "plt.imshow(cv.imread(incorrect_labeled_chip_names_by_subfolder[\"incorrect_chip_paths\"][num]))\n",
    "print(incorrect_labeled_chip_names_by_subfolder[\"incorrect_chip_paths\"][num])\n",
    "plt.show() \n",
    "\n",
    "fig, (ax1,ax2) = plt.subplots(figsize=(20, 20))\n",
    "    \n",
    "plt.imshow(cv.imread(os.path.join(tiles_complete_dataset_path,\"m_4007424_nw_18_060_20190830.tif\")))#, correct_xs[index], correct_ys[index], 512))\n",
    "#ax2.set_title('labeled_chip_array')\n",
    "#ax2.imshow(cv.imread(incorrect_labeled_chip_names_by_subfolder[\"incorrect_chip_paths\"][num]))\n",
    "plt.show() \n",
    "\n",
    "#sorted(correct_chip_means)\n",
    "#sortecorrect_chip_names[index]\n",
    "\n",
    "index = np.where(np.array(percent_errors) == 0.2890173185302233)[0][0]\n",
    "correct_incorrect_standard_image_names[index]"
   ]
  },
  {
   "cell_type": "code",
   "execution_count": 223,
   "id": "854f093f-5387-4a8a-bc25-c469a0e55987",
   "metadata": {},
   "outputs": [
    {
     "data": {
      "text/plain": [
       "81.86643600463867"
      ]
     },
     "execution_count": 223,
     "metadata": {},
     "output_type": "execute_result"
    }
   ],
   "source": [
    "correct_chip_means[index]\n",
    "#corrected_incorrect_image_means[index]\n",
    "np.mean(cv.imread('//oit-nas-fe13dc.oit.duke.edu//data_commons-borsuk//unverified_images\\\\student_reviewed_unverified_images_set1/Jackson/student_reviewed_images3/chips_positive\\\\pa_60cm_2019_39075_m_3907508_nw_18_060_20191015_000240.jpg'))"
   ]
  },
  {
   "cell_type": "code",
   "execution_count": 220,
   "id": "74d13a07-d3f5-45ac-b66d-abd33b340d2c",
   "metadata": {},
   "outputs": [
    {
     "data": {
      "text/plain": [
       "81.63050969441731"
      ]
     },
     "execution_count": 220,
     "metadata": {},
     "output_type": "execute_result"
    }
   ],
   "source": [
    "np.mean(fc.tile_to_chip_array(cv.imread(os.path.join(tiles_complete_dataset_path,\"m_3907508_nw_18_060_20191015.tif\")), 14, 9, 512))"
   ]
  },
  {
   "cell_type": "code",
   "execution_count": null,
   "id": "c3173e61-1bf0-410c-bc22-72577e246965",
   "metadata": {},
   "outputs": [],
   "source": [
    "correct_chip_name = correct_chip_names[0]\n",
    "            incorrect_image_indicies = [ind for ind, string in enumerate(correct_images_for_incorrect_labeled_chip_names_identified_from_confirmed_correct_positive_chips[\"correct_image_paths\"]) if correct_chip_name in string]\n",
    "            if len(incorrect_images_indicies) > 0:\n",
    "                for incorrect_image_index in incorrect_image_indicies:\n",
    "                    index = np.where(np.array(percent_errors) == 0.2890173185302233)[0][0]\n",
    "                    correct_incorrect_standard_image_names[index]\n",
    "                    incorrect_image = cv.imread(correct_images_for_incorrect_labeled_chip_names_identified_from_confirmed_correct_positive_chips[\"correct_image_paths\"][incorrect_image_index])\n",
    "                    corrected_incorrect_image_mean = np.mean(incorrect_image)\n",
    "                    corrected_incorrect_image_means[incorrect_image_index] = corrected_incorrect_image_mean"
   ]
  },
  {
   "cell_type": "code",
   "execution_count": 485,
   "id": "78f9485d-fd78-45f1-ac67-2a2ca8b5a1c2",
   "metadata": {},
   "outputs": [
    {
     "data": {
      "text/plain": [
       "'//oit-nas-fe13dc.oit.duke.edu//data_commons-borsuk//unverified_images\\\\student_reviewed_unverified_images_set1/Alex/student_reviewed_images1/chips_positive\\\\fl_60cm_2019_30081_m_3008135_se_17_060_20191119_000355.jpg'"
      ]
     },
     "execution_count": 485,
     "metadata": {},
     "output_type": "execute_result"
    }
   ],
   "source": [
    "correct_images_for_incorrect_labeled_chip_names_identified_from_confirmed_correct_positive_chips[\"correct_image_paths\"][1]"
   ]
  }
 ],
 "metadata": {
  "kernelspec": {
   "display_name": "Chip Allocate",
   "language": "python",
   "name": "chip_allocate"
  },
  "language_info": {
   "codemirror_mode": {
    "name": "ipython",
    "version": 3
   },
   "file_extension": ".py",
   "mimetype": "text/x-python",
   "name": "python",
   "nbconvert_exporter": "python",
   "pygments_lexer": "ipython3",
   "version": "3.9.7"
  }
 },
 "nbformat": 4,
 "nbformat_minor": 5
}
