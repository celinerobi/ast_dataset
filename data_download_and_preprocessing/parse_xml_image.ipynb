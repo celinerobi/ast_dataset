{
 "cells": [
  {
   "cell_type": "code",
   "execution_count": null,
   "id": "e8043562-311f-46a3-b577-ec2439508b5c",
   "metadata": {},
   "outputs": [],
   "source": [
    "## Parse throught XML"
   ]
  },
  {
   "cell_type": "code",
   "execution_count": null,
   "id": "8150fd08-6f98-4f7a-b570-160ef1851ce2",
   "metadata": {},
   "outputs": [],
   "source": [
    "tree = et.parse(os.path.join(\"C:/chip_allocation/temp/correct_tiles/chips_positive_xmls\", correct_xml_name))\n",
    "#chip_name_incorrectly_chip_names[index[0]]\n",
    "root = tree.getroot() \n",
    "\n",
    "for year in root.iter('year'):    \n",
    "    print(year.text)\n",
    "for resolution in root.iter('resolution'):    \n",
    "    print(resolution.text)\n",
    "    \n",
    "for elem in root:\n",
    "    for subelem in elem.findall('source'):\n",
    "        # if we don't need to know the name of the attribute(s), get the dict\n",
    "        print(subelem.attrib)      \n",
    "    \n",
    "        # if we know the name of the attribute, access it directly\n",
    "        print(subelem.get('database').text)\n",
    "        \n",
    "for source in root.find('size'):\n",
    "    if source.tag == \"width\":\n",
    "        print(source.text)"
   ]
  }
 ],
 "metadata": {
  "kernelspec": {
   "display_name": "Python 3 (ipykernel)",
   "language": "python",
   "name": "python3"
  },
  "language_info": {
   "codemirror_mode": {
    "name": "ipython",
    "version": 3
   },
   "file_extension": ".py",
   "mimetype": "text/x-python",
   "name": "python",
   "nbconvert_exporter": "python",
   "pygments_lexer": "ipython3",
   "version": "3.8.8"
  }
 },
 "nbformat": 4,
 "nbformat_minor": 5
}
