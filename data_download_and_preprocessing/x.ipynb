{
 "cells": [
  {
   "cell_type": "markdown",
   "id": "00f9ac84-0bf3-43c4-b644-0f18fd77cab8",
   "metadata": {
    "tags": []
   },
   "source": [
    "# Read Packages"
   ]
  },
  {
   "cell_type": "code",
   "execution_count": 1,
   "id": "d618d5c6-7b88-48e8-a2be-30f3d8483752",
   "metadata": {
    "tags": []
   },
   "outputs": [],
   "source": [
    "import os\n",
    "import cv2\n",
    "import copy\n",
    "\n",
    "import math\n",
    "import numpy as np\n",
    "import matplotlib \n",
    "import matplotlib.pyplot as plt\n",
    "from matplotlib.patches import Rectangle\n",
    "from glob import glob\n",
    "import tqdm\n",
    "from skimage.metrics import structural_similarity as compare_ssim\n",
    "import shutil\n",
    "#Parsing/Modifying XML\n",
    "from lxml.etree import Element,SubElement,tostring\n",
    "import xml.dom.minidom\n",
    "from xml.dom.minidom import parseString\n",
    "import xml.etree.ElementTree as et\n",
    "from xml.dom import minidom\n",
    "\n",
    "import data_eng.az_proc as ap\n",
    "import data_eng.form_calcs as fc"
   ]
  },
  {
   "cell_type": "markdown",
   "id": "194823cc-96cf-48c3-a670-5fc3dc51e427",
   "metadata": {
    "tags": []
   },
   "source": [
    "# Read in Files "
   ]
  },
  {
   "cell_type": "code",
   "execution_count": 2,
   "id": "3c71f28d-95cb-4b86-aed3-1f506e436c07",
   "metadata": {},
   "outputs": [],
   "source": [
    "parent_directory = \"//oit-nas-fe13dc.oit.duke.edu//data_commons-borsuk//\"\n",
    "tile_names_tile_urls_complete_array = np.load(\"image_download_azure/tile_name_tile_url_complete_array.npy\")\n",
    "tile_dir_path = os.path.join(parent_directory,\"complete_dataset\",\"tiles\")\n",
    "#https://stackoverflow.com/questions/5953373/how-to-split-image-into-multiple-pieces-in-python\n",
    "img_anno_directory = os.path.join(parent_directory,\"temp/rechip\")\n",
    "remaining_chips_path =  os.path.join(parent_directory,\"temp/remaining_chips\")\n",
    "remaining_sets_path =  os.path.join(parent_directory,\"temp/remaining_sets\")\n",
    "\n",
    "incorrectly_chipped_images_path = os.path.join(parent_directory,\"temp/incorrectly_chipped_images\")\n",
    "incorrect_named_correctly_chipped_dir = os.path.join(parent_directory,\"temp/incorrectly_named_correct_chipped_images\")"
   ]
  },
  {
   "cell_type": "code",
   "execution_count": 3,
   "id": "0c61d2cb-cb3f-4ad0-83da-c8db5a94935b",
   "metadata": {},
   "outputs": [],
   "source": [
    "verified_standard_quad_image_name_format = os.path.join(parent_directory,\"verified/verified_standard_quad_image_name_format\")\n",
    "all_verified_standard_quad_subfolders_path = ap.img_path_anno_path(ap.list_of_sub_directories(verified_standard_quad_image_name_format)) \n",
    "verified_state_year_subfolders_path = os.path.join(parent_directory,\"verified/verified_state_year_image_name_formating\")\n",
    "all_verified_state_year_subfolders_path = ap.img_path_anno_path(ap.list_of_sub_directories(verified_state_year_subfolders_path)) "
   ]
  },
  {
   "cell_type": "code",
   "execution_count": 4,
   "id": "f648d67c-7581-4ba4-929b-3504a75182fd",
   "metadata": {},
   "outputs": [],
   "source": [
    "compiled_by_tile_dir = os.path.join(parent_directory,\"compiled_dataset/compile_by_tile\")\n",
    "compile_by_tile_state_year_dir = os.path.join(parent_directory,\"compiled_dataset/compile_by_tile_state_year\")\n",
    "images_do_not_match_names_dir = os.path.join(parent_directory,\"compiled_dataset/images_do_not_match_names_state_year\")\n",
    "correctly_chipped_incorrect_dir = os.path.join(parent_directory,\"compiled_dataset/correctly_chipped_incorrect_data\")"
   ]
  },
  {
   "cell_type": "markdown",
   "id": "13445e93-da03-4fd1-9d96-e162569dac20",
   "metadata": {
    "tags": []
   },
   "source": [
    "# Functions"
   ]
  },
  {
   "cell_type": "markdown",
   "id": "115c886f-c62f-4ca5-bc79-4e3e56822226",
   "metadata": {},
   "source": [
    "# "
   ]
  },
  {
   "cell_type": "code",
   "execution_count": 11,
   "id": "f7d4933e-b47e-4e80-b932-0de7d97167da",
   "metadata": {},
   "outputs": [
    {
     "name": "stderr",
     "output_type": "stream",
     "text": [
      "100%|██████████████████████████████████████████████████████████████████████████████████| 23/23 [00:19<00:00,  1.16it/s]\n",
      "100%|██████████████████████████████████████████████████████████████████████████████████| 16/16 [00:09<00:00,  1.61it/s]\n",
      "100%|████████████████████████████████████████████████████████████████████████████████████| 7/7 [00:01<00:00,  4.21it/s]\n"
     ]
    }
   ],
   "source": [
    "all_verified_paths = np.concatenate((all_verified_state_year_subfolders_path, all_verified_standard_quad_subfolders_path))\n",
    "all_img_paths, all_xml_paths = fc.get_img_xml_paths(all_verified_paths)\n",
    "all_tile_names, all_img_names = fc.get_tile_names(all_img_paths) #identify tiles in each folder\n",
    "all_tile_names = np.unique(all_tile_names)\n",
    "\n",
    "state_year_img_paths, state_year_xml_paths = fc.get_img_xml_paths(all_verified_state_year_subfolders_path)\n",
    "standard_img_paths, standard_xml_paths = fc.get_img_xml_paths(all_verified_standard_quad_subfolders_path)"
   ]
  },
  {
   "cell_type": "code",
   "execution_count": 12,
   "id": "8f6c24a6-ab55-4f96-8870-ae51b2da3272",
   "metadata": {},
   "outputs": [],
   "source": [
    "six_digit_index_list = fc.get_six_digit_index(state_year_img_paths)\n",
    "ys,xs = fc.get_x_y_index(standard_img_paths)"
   ]
  },
  {
   "cell_type": "code",
   "execution_count": 3,
   "id": "e4722582-4e65-48fa-8e04-e7920d74acb2",
   "metadata": {},
   "outputs": [
    {
     "data": {
      "text/plain": [
       "functools.partial(<class 'int'>, base=2)"
      ]
     },
     "execution_count": 3,
     "metadata": {},
     "output_type": "execute_result"
    }
   ],
   "source": [
    "    ys,xs = fc.get_x_y_index(standard_img_paths) \n",
    "    all_tile_names = tqdm.tqdm(all_tile_names)\n",
    "\n",
    "    args = ((tile_name, compile_by_tile_state_year_dir, tile_dir_path, \n",
    "            state_year_img_paths, state_year_xml_paths, six_digit_index_list) for tile_name in all_tile_names)\n",
    "    num_cores = mp.cpu_count()\n",
    "    pool = Pool(processes=num_cores)\n",
    "    pool.map_async(fc.multi_iterate_over_tile_compare_move_state_year_by_six_digit_index, args)\n",
    "    pool.close()\n",
    "    pool.join()"
   ]
  },
  {
   "cell_type": "code",
   "execution_count": null,
   "id": "2342cb83-91e0-4ef8-aa78-0fd83bca37eb",
   "metadata": {},
   "outputs": [],
   "source": [
    "#compile_by_tile_state_year using six digit indicies "
   ]
  },
  {
   "cell_type": "code",
   "execution_count": null,
   "id": "ba26dd44-88e5-4b01-a71c-536a10c8811a",
   "metadata": {},
   "outputs": [
    {
     "name": "stderr",
     "output_type": "stream",
     "text": [
      "  0%|          | 0/2153 [00:00<?, ?it/s]"
     ]
    }
   ],
   "source": [
    "import multiprocessing as mp\n",
    "\n",
    "\n",
    "# Step 1: Init multiprocessing.Pool()\n",
    "pool = mp.Pool(mp.cpu_count())\n",
    "all_tile_names = tqdm.tqdm(all_tile_names)\n",
    "# Step 2: `pool.apply` the `howmany_within_range()`\n",
    "results = [pool.apply(multi_iterate_over_tile_compare_move_state_year_by_six_digit_index, \n",
    "                      args=(tile_name, compile_by_tile_state_year_dir, tile_dir_path, \n",
    "                            state_year_img_paths, state_year_xml_paths, six_digit_index_list)) for tile_name in all_tile_names]\n",
    "\n",
    "# Step 3: Don't forget to close\n",
    "pool.close()    "
   ]
  },
  {
   "cell_type": "code",
   "execution_count": 21,
   "id": "02dc1fb7-ea5e-4481-ac0b-d16b057e157e",
   "metadata": {},
   "outputs": [],
   "source": [
    "num_tiles = len(all_tile_names)\n",
    "args = list(zip(all_tile_names, [compile_by_tile_state_year_dir]*num_tiles, [tile_dir_path]*num_tiles,\n",
    "                [state_year_img_paths]*num_tiles, [state_year_xml_paths]*num_tiles, [six_digit_index_list]*num_tiles))"
   ]
  },
  {
   "cell_type": "code",
   "execution_count": null,
   "id": "a37c6a35-5eed-4b1c-9ce7-bd5790a7c7ab",
   "metadata": {},
   "outputs": [],
   "source": [
    "args"
   ]
  },
  {
   "cell_type": "code",
   "execution_count": 22,
   "id": "eb82090d-3fcc-48c7-9d4a-807706ecb35e",
   "metadata": {},
   "outputs": [],
   "source": [
    "from multiprocessing import Pool\n",
    "import multiprocessing as mp\n",
    "\n",
    "num_cores = mp.cpu_count()\n",
    "pool = Pool(processes=num_cores)\n",
    "pool.map_async(fc.multi_iterate_over_tile_compare_move_state_year_by_six_digit_index, args)\n",
    "pool.close()\n",
    "pool.join()\n",
    "## -- End pasted text --"
   ]
  },
  {
   "cell_type": "code",
   "execution_count": 12,
   "id": "c1b7a99c-2bbc-4db6-b18c-1b74b1f16ba6",
   "metadata": {},
   "outputs": [
    {
     "data": {
      "text/plain": [
       "3"
      ]
     },
     "execution_count": 12,
     "metadata": {},
     "output_type": "execute_result"
    }
   ],
   "source": [
    "num_cores"
   ]
  },
  {
   "cell_type": "code",
   "execution_count": 61,
   "id": "3e120e0d-486b-46ee-9772-6f24297eb061",
   "metadata": {
    "tags": []
   },
   "outputs": [
    {
     "name": "stderr",
     "output_type": "stream",
     "text": [
      "  0%|          | 9/2153 [04:39<15:00:05, 25.19s/it]"
     ]
    },
    {
     "name": "stdout",
     "output_type": "stream",
     "text": [
      "fl_60cm_2019_26080_m_2608063_ne_17_060_20191120_000037 /n m_2608063_ne_17_060_20191120_01_12 //oit-nas-fe13dc.oit.duke.edu//data_commons-borsuk//verified/verified_state_year_image_name_formating/verify_1_josh_jaewon_amadu/chips_positive\\fl_60cm_2019_26080_m_2608063_ne_17_060_20191120_000037.jpg\n",
      "fl_60cm_2019_26080_m_2608063_ne_17_060_20191120_000038 /n m_2608063_ne_17_060_20191120_01_13 //oit-nas-fe13dc.oit.duke.edu//data_commons-borsuk//verified/verified_state_year_image_name_formating/verify_1_josh_jaewon_amadu/chips_positive\\fl_60cm_2019_26080_m_2608063_ne_17_060_20191120_000038.jpg\n",
      "fl_60cm_2019_26080_m_2608063_ne_17_060_20191120_000039 /n m_2608063_ne_17_060_20191120_01_14 //oit-nas-fe13dc.oit.duke.edu//data_commons-borsuk//verified/verified_state_year_image_name_formating/verify_1_josh_jaewon_amadu/chips_positive\\fl_60cm_2019_26080_m_2608063_ne_17_060_20191120_000039.jpg\n",
      "fl_60cm_2019_26080_m_2608063_ne_17_060_20191120_000062 /n m_2608063_ne_17_060_20191120_02_13 //oit-nas-fe13dc.oit.duke.edu//data_commons-borsuk//verified/verified_state_year_image_name_formating/verify_1_josh_jaewon_amadu/chips_positive\\fl_60cm_2019_26080_m_2608063_ne_17_060_20191120_000062.jpg\n",
      "fl_60cm_2019_26080_m_2608063_ne_17_060_20191120_000063 /n m_2608063_ne_17_060_20191120_02_14 //oit-nas-fe13dc.oit.duke.edu//data_commons-borsuk//verified/verified_state_year_image_name_formating/verify_1_josh_jaewon_amadu/chips_positive\\fl_60cm_2019_26080_m_2608063_ne_17_060_20191120_000063.jpg\n"
     ]
    },
    {
     "name": "stderr",
     "output_type": "stream",
     "text": [
      "  1%|          | 11/2153 [05:19<13:18:33, 22.37s/it]"
     ]
    },
    {
     "name": "stdout",
     "output_type": "stream",
     "text": [
      "fl_60cm_2019_26080_m_2608064_nw_17_060_20191120_000001 /n m_2608064_nw_17_060_20191120_00_00 //oit-nas-fe13dc.oit.duke.edu//data_commons-borsuk//verified/verified_state_year_image_name_formating/verify_1_josh_jaewon_amadu/chips_positive\\fl_60cm_2019_26080_m_2608064_nw_17_060_20191120_000001.jpg\n",
      "fl_60cm_2019_26080_m_2608064_nw_17_060_20191120_000002 /n m_2608064_nw_17_060_20191120_00_01 //oit-nas-fe13dc.oit.duke.edu//data_commons-borsuk//verified/verified_state_year_image_name_formating/verify_1_josh_jaewon_amadu/chips_positive\\fl_60cm_2019_26080_m_2608064_nw_17_060_20191120_000002.jpg\n",
      "fl_60cm_2019_26080_m_2608064_nw_17_060_20191120_000027 /n m_2608064_nw_17_060_20191120_01_02 //oit-nas-fe13dc.oit.duke.edu//data_commons-borsuk//verified/verified_state_year_image_name_formating/verify_1_josh_jaewon_amadu/chips_positive\\fl_60cm_2019_26080_m_2608064_nw_17_060_20191120_000027.jpg\n",
      "fl_60cm_2019_26080_m_2608064_nw_17_060_20191120_000030 /n m_2608064_nw_17_060_20191120_01_05 //oit-nas-fe13dc.oit.duke.edu//data_commons-borsuk//verified/verified_state_year_image_name_formating/verify_1_josh_jaewon_amadu/chips_positive\\fl_60cm_2019_26080_m_2608064_nw_17_060_20191120_000030.jpg\n",
      "fl_60cm_2019_26080_m_2608064_nw_17_060_20191120_000031 /n m_2608064_nw_17_060_20191120_01_06 //oit-nas-fe13dc.oit.duke.edu//data_commons-borsuk//verified/verified_state_year_image_name_formating/verify_1_josh_jaewon_amadu/chips_positive\\fl_60cm_2019_26080_m_2608064_nw_17_060_20191120_000031.jpg\n",
      "fl_60cm_2019_26080_m_2608064_nw_17_060_20191120_000033 /n m_2608064_nw_17_060_20191120_01_08 //oit-nas-fe13dc.oit.duke.edu//data_commons-borsuk//verified/verified_state_year_image_name_formating/verify_1_josh_jaewon_amadu/chips_positive\\fl_60cm_2019_26080_m_2608064_nw_17_060_20191120_000033.jpg\n",
      "fl_60cm_2019_26080_m_2608064_nw_17_060_20191120_000034 /n m_2608064_nw_17_060_20191120_01_09 //oit-nas-fe13dc.oit.duke.edu//data_commons-borsuk//verified/verified_state_year_image_name_formating/verify_1_josh_jaewon_amadu/chips_positive\\fl_60cm_2019_26080_m_2608064_nw_17_060_20191120_000034.jpg\n",
      "fl_60cm_2019_26080_m_2608064_nw_17_060_20191120_000050 /n m_2608064_nw_17_060_20191120_02_01 //oit-nas-fe13dc.oit.duke.edu//data_commons-borsuk//verified/verified_state_year_image_name_formating/verify_1_josh_jaewon_amadu/chips_positive\\fl_60cm_2019_26080_m_2608064_nw_17_060_20191120_000050.jpg\n",
      "fl_60cm_2019_26080_m_2608064_nw_17_060_20191120_000054 /n m_2608064_nw_17_060_20191120_02_05 //oit-nas-fe13dc.oit.duke.edu//data_commons-borsuk//verified/verified_state_year_image_name_formating/verify_1_josh_jaewon_amadu/chips_positive\\fl_60cm_2019_26080_m_2608064_nw_17_060_20191120_000054.jpg\n",
      "fl_60cm_2019_26080_m_2608064_nw_17_060_20191120_000057 /n m_2608064_nw_17_060_20191120_02_08 //oit-nas-fe13dc.oit.duke.edu//data_commons-borsuk//verified/verified_state_year_image_name_formating/verify_1_josh_jaewon_amadu/chips_positive\\fl_60cm_2019_26080_m_2608064_nw_17_060_20191120_000057.jpg\n",
      "fl_60cm_2019_26080_m_2608064_nw_17_060_20191120_000058 /n m_2608064_nw_17_060_20191120_02_09 //oit-nas-fe13dc.oit.duke.edu//data_commons-borsuk//verified/verified_state_year_image_name_formating/verify_1_josh_jaewon_amadu/chips_positive\\fl_60cm_2019_26080_m_2608064_nw_17_060_20191120_000058.jpg\n",
      "fl_60cm_2019_26080_m_2608064_nw_17_060_20191120_000181 /n m_2608064_nw_17_060_20191120_07_12 //oit-nas-fe13dc.oit.duke.edu//data_commons-borsuk//verified/verified_state_year_image_name_formating/verify_1_josh_jaewon_amadu/chips_positive\\fl_60cm_2019_26080_m_2608064_nw_17_060_20191120_000181.jpg\n",
      "fl_60cm_2019_26080_m_2608064_nw_17_060_20191120_000222 /n m_2608064_nw_17_060_20191120_09_05 //oit-nas-fe13dc.oit.duke.edu//data_commons-borsuk//verified/verified_state_year_image_name_formating/verify_1_josh_jaewon_amadu/chips_positive\\fl_60cm_2019_26080_m_2608064_nw_17_060_20191120_000222.jpg\n",
      "fl_60cm_2019_26080_m_2608064_nw_17_060_20191120_000245 /n m_2608064_nw_17_060_20191120_10_04 //oit-nas-fe13dc.oit.duke.edu//data_commons-borsuk//verified/verified_state_year_image_name_formating/verify_1_josh_jaewon_amadu/chips_positive\\fl_60cm_2019_26080_m_2608064_nw_17_060_20191120_000245.jpg\n",
      "fl_60cm_2019_26080_m_2608064_nw_17_060_20191120_000246 /n m_2608064_nw_17_060_20191120_10_05 //oit-nas-fe13dc.oit.duke.edu//data_commons-borsuk//verified/verified_state_year_image_name_formating/verify_1_josh_jaewon_amadu/chips_positive\\fl_60cm_2019_26080_m_2608064_nw_17_060_20191120_000246.jpg\n",
      "fl_60cm_2019_26080_m_2608064_nw_17_060_20191120_000247 /n m_2608064_nw_17_060_20191120_10_06 //oit-nas-fe13dc.oit.duke.edu//data_commons-borsuk//verified/verified_state_year_image_name_formating/verify_1_josh_jaewon_amadu/chips_positive\\fl_60cm_2019_26080_m_2608064_nw_17_060_20191120_000247.jpg\n",
      "fl_60cm_2019_26080_m_2608064_nw_17_060_20191120_000248 /n m_2608064_nw_17_060_20191120_10_07 //oit-nas-fe13dc.oit.duke.edu//data_commons-borsuk//verified/verified_state_year_image_name_formating/verify_1_josh_jaewon_amadu/chips_positive\\fl_60cm_2019_26080_m_2608064_nw_17_060_20191120_000248.jpg\n",
      "fl_60cm_2019_26080_m_2608064_nw_17_060_20191120_000270 /n m_2608064_nw_17_060_20191120_11_05 //oit-nas-fe13dc.oit.duke.edu//data_commons-borsuk//verified/verified_state_year_image_name_formating/verify_1_josh_jaewon_amadu/chips_positive\\fl_60cm_2019_26080_m_2608064_nw_17_060_20191120_000270.jpg\n",
      "fl_60cm_2019_26080_m_2608064_nw_17_060_20191120_000271 /n m_2608064_nw_17_060_20191120_11_06 //oit-nas-fe13dc.oit.duke.edu//data_commons-borsuk//verified/verified_state_year_image_name_formating/verify_1_josh_jaewon_amadu/chips_positive\\fl_60cm_2019_26080_m_2608064_nw_17_060_20191120_000271.jpg\n",
      "fl_60cm_2019_26080_m_2608064_nw_17_060_20191120_000272 /n m_2608064_nw_17_060_20191120_11_07 //oit-nas-fe13dc.oit.duke.edu//data_commons-borsuk//verified/verified_state_year_image_name_formating/verify_1_josh_jaewon_amadu/chips_positive\\fl_60cm_2019_26080_m_2608064_nw_17_060_20191120_000272.jpg\n",
      "fl_60cm_2019_26080_m_2608064_nw_17_060_20191120_000273 /n m_2608064_nw_17_060_20191120_11_08 //oit-nas-fe13dc.oit.duke.edu//data_commons-borsuk//verified/verified_state_year_image_name_formating/verify_1_josh_jaewon_amadu/chips_positive\\fl_60cm_2019_26080_m_2608064_nw_17_060_20191120_000273.jpg\n",
      "fl_60cm_2019_26080_m_2608064_nw_17_060_20191120_000295 /n m_2608064_nw_17_060_20191120_12_06 //oit-nas-fe13dc.oit.duke.edu//data_commons-borsuk//verified/verified_state_year_image_name_formating/verify_1_josh_jaewon_amadu/chips_positive\\fl_60cm_2019_26080_m_2608064_nw_17_060_20191120_000295.jpg\n",
      "fl_60cm_2019_26080_m_2608064_nw_17_060_20191120_000296 /n m_2608064_nw_17_060_20191120_12_07 //oit-nas-fe13dc.oit.duke.edu//data_commons-borsuk//verified/verified_state_year_image_name_formating/verify_1_josh_jaewon_amadu/chips_positive\\fl_60cm_2019_26080_m_2608064_nw_17_060_20191120_000296.jpg\n",
      "fl_60cm_2019_26080_m_2608064_nw_17_060_20191120_000314 /n m_2608064_nw_17_060_20191120_13_01 //oit-nas-fe13dc.oit.duke.edu//data_commons-borsuk//verified/verified_state_year_image_name_formating/verify_1_josh_jaewon_amadu/chips_positive\\fl_60cm_2019_26080_m_2608064_nw_17_060_20191120_000314.jpg\n",
      "fl_60cm_2019_26080_m_2608064_nw_17_060_20191120_000319 /n m_2608064_nw_17_060_20191120_13_06 //oit-nas-fe13dc.oit.duke.edu//data_commons-borsuk//verified/verified_state_year_image_name_formating/verify_1_josh_jaewon_amadu/chips_positive\\fl_60cm_2019_26080_m_2608064_nw_17_060_20191120_000319.jpg\n",
      "fl_60cm_2019_26080_m_2608064_nw_17_060_20191120_000320 /n m_2608064_nw_17_060_20191120_13_07 //oit-nas-fe13dc.oit.duke.edu//data_commons-borsuk//verified/verified_state_year_image_name_formating/verify_1_josh_jaewon_amadu/chips_positive\\fl_60cm_2019_26080_m_2608064_nw_17_060_20191120_000320.jpg\n",
      "fl_60cm_2019_26080_m_2608064_nw_17_060_20191120_000343 /n m_2608064_nw_17_060_20191120_14_06 //oit-nas-fe13dc.oit.duke.edu//data_commons-borsuk//verified/verified_state_year_image_name_formating/verify_1_josh_jaewon_amadu/chips_positive\\fl_60cm_2019_26080_m_2608064_nw_17_060_20191120_000343.jpg\n",
      "fl_60cm_2019_26080_m_2608064_nw_17_060_20191120_000370 /n m_2608064_nw_17_060_20191120_15_09 //oit-nas-fe13dc.oit.duke.edu//data_commons-borsuk//verified/verified_state_year_image_name_formating/verify_1_josh_jaewon_amadu/chips_positive\\fl_60cm_2019_26080_m_2608064_nw_17_060_20191120_000370.jpg\n",
      "fl_60cm_2019_26080_m_2608064_nw_17_060_20191120_000372 /n m_2608064_nw_17_060_20191120_15_11 //oit-nas-fe13dc.oit.duke.edu//data_commons-borsuk//verified/verified_state_year_image_name_formating/verify_1_josh_jaewon_amadu/chips_positive\\fl_60cm_2019_26080_m_2608064_nw_17_060_20191120_000372.jpg\n",
      "fl_60cm_2019_26080_m_2608064_nw_17_060_20191120_000393 /n m_2608064_nw_17_060_20191120_16_08 //oit-nas-fe13dc.oit.duke.edu//data_commons-borsuk//verified/verified_state_year_image_name_formating/verify_1_josh_jaewon_amadu/chips_positive\\fl_60cm_2019_26080_m_2608064_nw_17_060_20191120_000393.jpg\n",
      "fl_60cm_2019_26080_m_2608064_nw_17_060_20191120_000394 /n m_2608064_nw_17_060_20191120_16_09 //oit-nas-fe13dc.oit.duke.edu//data_commons-borsuk//verified/verified_state_year_image_name_formating/verify_1_josh_jaewon_amadu/chips_positive\\fl_60cm_2019_26080_m_2608064_nw_17_060_20191120_000394.jpg\n",
      "fl_60cm_2019_26080_m_2608064_nw_17_060_20191120_000395 /n m_2608064_nw_17_060_20191120_16_10 //oit-nas-fe13dc.oit.duke.edu//data_commons-borsuk//verified/verified_state_year_image_name_formating/verify_1_josh_jaewon_amadu/chips_positive\\fl_60cm_2019_26080_m_2608064_nw_17_060_20191120_000395.jpg\n",
      "fl_60cm_2019_26080_m_2608064_nw_17_060_20191120_000396 /n m_2608064_nw_17_060_20191120_16_11 //oit-nas-fe13dc.oit.duke.edu//data_commons-borsuk//verified/verified_state_year_image_name_formating/verify_1_josh_jaewon_amadu/chips_positive\\fl_60cm_2019_26080_m_2608064_nw_17_060_20191120_000396.jpg\n",
      "fl_60cm_2019_26080_m_2608064_nw_17_060_20191120_000397 /n m_2608064_nw_17_060_20191120_16_12 //oit-nas-fe13dc.oit.duke.edu//data_commons-borsuk//verified/verified_state_year_image_name_formating/verify_1_josh_jaewon_amadu/chips_positive\\fl_60cm_2019_26080_m_2608064_nw_17_060_20191120_000397.jpg\n",
      "fl_60cm_2019_26080_m_2608064_nw_17_060_20191120_000411 /n m_2608064_nw_17_060_20191120_17_02 //oit-nas-fe13dc.oit.duke.edu//data_commons-borsuk//verified/verified_state_year_image_name_formating/verify_1_josh_jaewon_amadu/chips_positive\\fl_60cm_2019_26080_m_2608064_nw_17_060_20191120_000411.jpg\n",
      "fl_60cm_2019_26080_m_2608064_nw_17_060_20191120_000412 /n m_2608064_nw_17_060_20191120_17_03 //oit-nas-fe13dc.oit.duke.edu//data_commons-borsuk//verified/verified_state_year_image_name_formating/verify_1_josh_jaewon_amadu/chips_positive\\fl_60cm_2019_26080_m_2608064_nw_17_060_20191120_000412.jpg\n",
      "fl_60cm_2019_26080_m_2608064_nw_17_060_20191120_000417 /n m_2608064_nw_17_060_20191120_17_08 //oit-nas-fe13dc.oit.duke.edu//data_commons-borsuk//verified/verified_state_year_image_name_formating/verify_1_josh_jaewon_amadu/chips_positive\\fl_60cm_2019_26080_m_2608064_nw_17_060_20191120_000417.jpg\n",
      "fl_60cm_2019_26080_m_2608064_nw_17_060_20191120_000418 /n m_2608064_nw_17_060_20191120_17_09 //oit-nas-fe13dc.oit.duke.edu//data_commons-borsuk//verified/verified_state_year_image_name_formating/verify_1_josh_jaewon_amadu/chips_positive\\fl_60cm_2019_26080_m_2608064_nw_17_060_20191120_000418.jpg\n",
      "fl_60cm_2019_26080_m_2608064_nw_17_060_20191120_000419 /n m_2608064_nw_17_060_20191120_17_10 //oit-nas-fe13dc.oit.duke.edu//data_commons-borsuk//verified/verified_state_year_image_name_formating/verify_1_josh_jaewon_amadu/chips_positive\\fl_60cm_2019_26080_m_2608064_nw_17_060_20191120_000419.jpg\n",
      "fl_60cm_2019_26080_m_2608064_nw_17_060_20191120_000420 /n m_2608064_nw_17_060_20191120_17_11 //oit-nas-fe13dc.oit.duke.edu//data_commons-borsuk//verified/verified_state_year_image_name_formating/verify_1_josh_jaewon_amadu/chips_positive\\fl_60cm_2019_26080_m_2608064_nw_17_060_20191120_000420.jpg\n",
      "fl_60cm_2019_26080_m_2608064_nw_17_060_20191120_000421 /n m_2608064_nw_17_060_20191120_17_12 //oit-nas-fe13dc.oit.duke.edu//data_commons-borsuk//verified/verified_state_year_image_name_formating/verify_1_josh_jaewon_amadu/chips_positive\\fl_60cm_2019_26080_m_2608064_nw_17_060_20191120_000421.jpg\n",
      "fl_60cm_2019_26080_m_2608064_nw_17_060_20191120_000434 /n m_2608064_nw_17_060_20191120_18_01 //oit-nas-fe13dc.oit.duke.edu//data_commons-borsuk//verified/verified_state_year_image_name_formating/verify_1_josh_jaewon_amadu/chips_positive\\fl_60cm_2019_26080_m_2608064_nw_17_060_20191120_000434.jpg\n",
      "fl_60cm_2019_26080_m_2608064_nw_17_060_20191120_000435 /n m_2608064_nw_17_060_20191120_18_02 //oit-nas-fe13dc.oit.duke.edu//data_commons-borsuk//verified/verified_state_year_image_name_formating/verify_1_josh_jaewon_amadu/chips_positive\\fl_60cm_2019_26080_m_2608064_nw_17_060_20191120_000435.jpg\n",
      "fl_60cm_2019_26080_m_2608064_nw_17_060_20191120_000436 /n m_2608064_nw_17_060_20191120_18_03 //oit-nas-fe13dc.oit.duke.edu//data_commons-borsuk//verified/verified_state_year_image_name_formating/verify_1_josh_jaewon_amadu/chips_positive\\fl_60cm_2019_26080_m_2608064_nw_17_060_20191120_000436.jpg\n",
      "fl_60cm_2019_26080_m_2608064_nw_17_060_20191120_000437 /n m_2608064_nw_17_060_20191120_18_04 //oit-nas-fe13dc.oit.duke.edu//data_commons-borsuk//verified/verified_state_year_image_name_formating/verify_1_josh_jaewon_amadu/chips_positive\\fl_60cm_2019_26080_m_2608064_nw_17_060_20191120_000437.jpg\n",
      "fl_60cm_2019_26080_m_2608064_nw_17_060_20191120_000444 /n m_2608064_nw_17_060_20191120_18_11 //oit-nas-fe13dc.oit.duke.edu//data_commons-borsuk//verified/verified_state_year_image_name_formating/verify_1_josh_jaewon_amadu/chips_positive\\fl_60cm_2019_26080_m_2608064_nw_17_060_20191120_000444.jpg\n",
      "fl_60cm_2019_26080_m_2608064_nw_17_060_20191120_000445 /n m_2608064_nw_17_060_20191120_18_12 //oit-nas-fe13dc.oit.duke.edu//data_commons-borsuk//verified/verified_state_year_image_name_formating/verify_1_josh_jaewon_amadu/chips_positive\\fl_60cm_2019_26080_m_2608064_nw_17_060_20191120_000445.jpg\n",
      "fl_60cm_2019_26080_m_2608064_nw_17_060_20191120_000457 /n m_2608064_nw_17_060_20191120_19_00 //oit-nas-fe13dc.oit.duke.edu//data_commons-borsuk//verified/verified_state_year_image_name_formating/verify_1_josh_jaewon_amadu/chips_positive\\fl_60cm_2019_26080_m_2608064_nw_17_060_20191120_000457.jpg\n",
      "fl_60cm_2019_26080_m_2608064_nw_17_060_20191120_000458 /n m_2608064_nw_17_060_20191120_19_01 //oit-nas-fe13dc.oit.duke.edu//data_commons-borsuk//verified/verified_state_year_image_name_formating/verify_1_josh_jaewon_amadu/chips_positive\\fl_60cm_2019_26080_m_2608064_nw_17_060_20191120_000458.jpg\n",
      "fl_60cm_2019_26080_m_2608064_nw_17_060_20191120_000459 /n m_2608064_nw_17_060_20191120_19_02 //oit-nas-fe13dc.oit.duke.edu//data_commons-borsuk//verified/verified_state_year_image_name_formating/verify_1_josh_jaewon_amadu/chips_positive\\fl_60cm_2019_26080_m_2608064_nw_17_060_20191120_000459.jpg\n",
      "fl_60cm_2019_26080_m_2608064_nw_17_060_20191120_000460 /n m_2608064_nw_17_060_20191120_19_03 //oit-nas-fe13dc.oit.duke.edu//data_commons-borsuk//verified/verified_state_year_image_name_formating/verify_1_josh_jaewon_amadu/chips_positive\\fl_60cm_2019_26080_m_2608064_nw_17_060_20191120_000460.jpg\n",
      "fl_60cm_2019_26080_m_2608064_nw_17_060_20191120_000461 /n m_2608064_nw_17_060_20191120_19_04 //oit-nas-fe13dc.oit.duke.edu//data_commons-borsuk//verified/verified_state_year_image_name_formating/verify_1_josh_jaewon_amadu/chips_positive\\fl_60cm_2019_26080_m_2608064_nw_17_060_20191120_000461.jpg\n",
      "fl_60cm_2019_26080_m_2608064_nw_17_060_20191120_000462 /n m_2608064_nw_17_060_20191120_19_05 //oit-nas-fe13dc.oit.duke.edu//data_commons-borsuk//verified/verified_state_year_image_name_formating/verify_1_josh_jaewon_amadu/chips_positive\\fl_60cm_2019_26080_m_2608064_nw_17_060_20191120_000462.jpg\n",
      "fl_60cm_2019_26080_m_2608064_nw_17_060_20191120_000469 /n m_2608064_nw_17_060_20191120_19_12 //oit-nas-fe13dc.oit.duke.edu//data_commons-borsuk//verified/verified_state_year_image_name_formating/verify_1_josh_jaewon_amadu/chips_positive\\fl_60cm_2019_26080_m_2608064_nw_17_060_20191120_000469.jpg\n",
      "fl_60cm_2019_26080_m_2608064_nw_17_060_20191120_000481 /n m_2608064_nw_17_060_20191120_20_00 //oit-nas-fe13dc.oit.duke.edu//data_commons-borsuk//verified/verified_state_year_image_name_formating/verify_1_josh_jaewon_amadu/chips_positive\\fl_60cm_2019_26080_m_2608064_nw_17_060_20191120_000481.jpg\n",
      "fl_60cm_2019_26080_m_2608064_nw_17_060_20191120_000482 /n m_2608064_nw_17_060_20191120_20_01 //oit-nas-fe13dc.oit.duke.edu//data_commons-borsuk//verified/verified_state_year_image_name_formating/verify_1_josh_jaewon_amadu/chips_positive\\fl_60cm_2019_26080_m_2608064_nw_17_060_20191120_000482.jpg\n",
      "fl_60cm_2019_26080_m_2608064_nw_17_060_20191120_000483 /n m_2608064_nw_17_060_20191120_20_02 //oit-nas-fe13dc.oit.duke.edu//data_commons-borsuk//verified/verified_state_year_image_name_formating/verify_1_josh_jaewon_amadu/chips_positive\\fl_60cm_2019_26080_m_2608064_nw_17_060_20191120_000483.jpg\n",
      "fl_60cm_2019_26080_m_2608064_nw_17_060_20191120_000484 /n m_2608064_nw_17_060_20191120_20_03 //oit-nas-fe13dc.oit.duke.edu//data_commons-borsuk//verified/verified_state_year_image_name_formating/verify_1_josh_jaewon_amadu/chips_positive\\fl_60cm_2019_26080_m_2608064_nw_17_060_20191120_000484.jpg\n"
     ]
    },
    {
     "name": "stderr",
     "output_type": "stream",
     "text": [
      "  1%|          | 12/2153 [05:53<15:31:01, 26.09s/it]"
     ]
    },
    {
     "name": "stdout",
     "output_type": "stream",
     "text": [
      "fl_60cm_2019_26080_m_2608064_nw_17_060_20191120_000485 /n m_2608064_nw_17_060_20191120_20_04 //oit-nas-fe13dc.oit.duke.edu//data_commons-borsuk//verified/verified_state_year_image_name_formating/verify_1_josh_jaewon_amadu/chips_positive\\fl_60cm_2019_26080_m_2608064_nw_17_060_20191120_000485.jpg\n"
     ]
    },
    {
     "name": "stderr",
     "output_type": "stream",
     "text": [
      "  1%|          | 16/2153 [07:14<13:13:09, 22.27s/it]"
     ]
    },
    {
     "name": "stdout",
     "output_type": "stream",
     "text": [
      "tx_060cm_2018_26098_m_2609838_sw_14_060_20190105_000061 /n m_2609838_sw_14_060_20190105_02_12 //oit-nas-fe13dc.oit.duke.edu//data_commons-borsuk//verified/verified_state_year_image_name_formating/verify_Cleave_Niculescu_Sunny_4/chips_positive\\tx_060cm_2018_26098_m_2609838_sw_14_060_20190105_000077.jpg\n",
      "tx_060cm_2018_26098_m_2609838_sw_14_060_20190105_000067 /n m_2609838_sw_14_060_20190105_02_18 //oit-nas-fe13dc.oit.duke.edu//data_commons-borsuk//verified/verified_state_year_image_name_formating/verify_Cleave_Niculescu_Sunny_4/chips_positive\\tx_060cm_2018_26098_m_2609838_sw_14_060_20190105_000186.jpg\n",
      "tx_060cm_2018_26098_m_2609838_sw_14_060_20190105_000077 /n m_2609838_sw_14_060_20190105_03_04 //oit-nas-fe13dc.oit.duke.edu//data_commons-borsuk//verified/verified_state_year_image_name_formating/verify_Cleave_Niculescu_Sunny_4/chips_positive\\tx_060cm_2018_26098_m_2609838_sw_14_060_20190105_000210.jpg\n",
      "tx_060cm_2018_26098_m_2609838_sw_14_060_20190105_000186 /n m_2609838_sw_14_060_20190105_07_17 //oit-nas-fe13dc.oit.duke.edu//data_commons-borsuk//verified/verified_state_year_image_name_formating/verify_Cleave_Niculescu_Sunny_4/chips_positive\\tx_060cm_2018_26098_m_2609838_sw_14_060_20190105_000234.jpg\n",
      "tx_060cm_2018_26098_m_2609838_sw_14_060_20190105_000210 /n m_2609838_sw_14_060_20190105_08_17 //oit-nas-fe13dc.oit.duke.edu//data_commons-borsuk//verified/verified_state_year_image_name_formating/verify_Cleave_Niculescu_Sunny_4/chips_positive\\tx_060cm_2018_26098_m_2609838_sw_14_060_20190105_000352.jpg\n",
      "tx_060cm_2018_26098_m_2609838_sw_14_060_20190105_000234 /n m_2609838_sw_14_060_20190105_09_17 //oit-nas-fe13dc.oit.duke.edu//data_commons-borsuk//verified/verified_state_year_image_name_formating/verify_Cleave_Niculescu_Sunny_4/chips_positive\\tx_060cm_2018_26098_m_2609838_sw_14_060_20190105_000373.jpg\n",
      "tx_060cm_2018_26098_m_2609838_sw_14_060_20190105_000352 /n m_2609838_sw_14_060_20190105_14_15 //oit-nas-fe13dc.oit.duke.edu//data_commons-borsuk//verified/verified_state_year_image_name_formating/verify_Cleave_Niculescu_Sunny_4/chips_positive\\tx_060cm_2018_26098_m_2609838_sw_14_060_20190105_000399.jpg\n",
      "tx_060cm_2018_26098_m_2609838_sw_14_060_20190105_000373 /n m_2609838_sw_14_060_20190105_15_12 //oit-nas-fe13dc.oit.duke.edu//data_commons-borsuk//verified/verified_state_year_image_name_formating/verify_Niculescu_Cleave_Sunny_4/chips_positive\\tx_060cm_2018_26098_m_2609838_sw_14_060_20190105_000061.jpg\n",
      "tx_060cm_2018_26098_m_2609838_sw_14_060_20190105_000399 /n m_2609838_sw_14_060_20190105_16_14 //oit-nas-fe13dc.oit.duke.edu//data_commons-borsuk//verified/verified_state_year_image_name_formating/verify_Niculescu_Cleave_Sunny_4/chips_positive\\tx_060cm_2018_26098_m_2609838_sw_14_060_20190105_000067.jpg\n"
     ]
    },
    {
     "name": "stderr",
     "output_type": "stream",
     "text": [
      "  1%|          | 20/2153 [09:08<16:11:28, 27.33s/it]"
     ]
    },
    {
     "name": "stdout",
     "output_type": "stream",
     "text": [
      "fl_60cm_2019_27082_m_2708205_ne_17_060_20191129_000319 /n m_2708205_ne_17_060_20191129_12_18 //oit-nas-fe13dc.oit.duke.edu//data_commons-borsuk//verified/verified_state_year_image_name_formating/verify_1_josh_jaewon_amadu/chips_positive\\fl_60cm_2019_27082_m_2708205_ne_17_060_20191129_000319.jpg\n",
      "fl_60cm_2019_27082_m_2708205_ne_17_060_20191129_000339 /n m_2708205_ne_17_060_20191129_13_13 //oit-nas-fe13dc.oit.duke.edu//data_commons-borsuk//verified/verified_state_year_image_name_formating/verify_1_josh_jaewon_amadu/chips_positive\\fl_60cm_2019_27082_m_2708205_ne_17_060_20191129_000339.jpg\n",
      "fl_60cm_2019_27082_m_2708205_ne_17_060_20191129_000340 /n m_2708205_ne_17_060_20191129_13_14 //oit-nas-fe13dc.oit.duke.edu//data_commons-borsuk//verified/verified_state_year_image_name_formating/verify_1_josh_jaewon_amadu/chips_positive\\fl_60cm_2019_27082_m_2708205_ne_17_060_20191129_000340.jpg\n",
      "fl_60cm_2019_27082_m_2708205_ne_17_060_20191129_000342 /n m_2708205_ne_17_060_20191129_13_16 //oit-nas-fe13dc.oit.duke.edu//data_commons-borsuk//verified/verified_state_year_image_name_formating/verify_1_josh_jaewon_amadu/chips_positive\\fl_60cm_2019_27082_m_2708205_ne_17_060_20191129_000342.jpg\n",
      "fl_60cm_2019_27082_m_2708205_ne_17_060_20191129_000344 /n m_2708205_ne_17_060_20191129_13_18 //oit-nas-fe13dc.oit.duke.edu//data_commons-borsuk//verified/verified_state_year_image_name_formating/verify_1_josh_jaewon_amadu/chips_positive\\fl_60cm_2019_27082_m_2708205_ne_17_060_20191129_000344.jpg\n",
      "fl_60cm_2019_27082_m_2708205_ne_17_060_20191129_000345 /n m_2708205_ne_17_060_20191129_13_19 //oit-nas-fe13dc.oit.duke.edu//data_commons-borsuk//verified/verified_state_year_image_name_formating/verify_1_josh_jaewon_amadu/chips_positive\\fl_60cm_2019_27082_m_2708205_ne_17_060_20191129_000345.jpg\n",
      "fl_60cm_2019_27082_m_2708205_ne_17_060_20191129_000363 /n m_2708205_ne_17_060_20191129_14_12 //oit-nas-fe13dc.oit.duke.edu//data_commons-borsuk//verified/verified_state_year_image_name_formating/verify_1_josh_jaewon_amadu/chips_positive\\fl_60cm_2019_27082_m_2708205_ne_17_060_20191129_000363.jpg\n",
      "fl_60cm_2019_27082_m_2708205_ne_17_060_20191129_000365 /n m_2708205_ne_17_060_20191129_14_14 //oit-nas-fe13dc.oit.duke.edu//data_commons-borsuk//verified/verified_state_year_image_name_formating/verify_1_josh_jaewon_amadu/chips_positive\\fl_60cm_2019_27082_m_2708205_ne_17_060_20191129_000365.jpg\n",
      "fl_60cm_2019_27082_m_2708205_ne_17_060_20191129_000366 /n m_2708205_ne_17_060_20191129_14_15 //oit-nas-fe13dc.oit.duke.edu//data_commons-borsuk//verified/verified_state_year_image_name_formating/verify_1_josh_jaewon_amadu/chips_positive\\fl_60cm_2019_27082_m_2708205_ne_17_060_20191129_000366.jpg\n",
      "fl_60cm_2019_27082_m_2708205_ne_17_060_20191129_000367 /n m_2708205_ne_17_060_20191129_14_16 //oit-nas-fe13dc.oit.duke.edu//data_commons-borsuk//verified/verified_state_year_image_name_formating/verify_1_josh_jaewon_amadu/chips_positive\\fl_60cm_2019_27082_m_2708205_ne_17_060_20191129_000367.jpg\n",
      "fl_60cm_2019_27082_m_2708205_ne_17_060_20191129_000368 /n m_2708205_ne_17_060_20191129_14_17 //oit-nas-fe13dc.oit.duke.edu//data_commons-borsuk//verified/verified_state_year_image_name_formating/verify_1_josh_jaewon_amadu/chips_positive\\fl_60cm_2019_27082_m_2708205_ne_17_060_20191129_000368.jpg\n",
      "fl_60cm_2019_27082_m_2708205_ne_17_060_20191129_000369 /n m_2708205_ne_17_060_20191129_14_18 //oit-nas-fe13dc.oit.duke.edu//data_commons-borsuk//verified/verified_state_year_image_name_formating/verify_1_josh_jaewon_amadu/chips_positive\\fl_60cm_2019_27082_m_2708205_ne_17_060_20191129_000369.jpg\n",
      "fl_60cm_2019_27082_m_2708205_ne_17_060_20191129_000389 /n m_2708205_ne_17_060_20191129_15_13 //oit-nas-fe13dc.oit.duke.edu//data_commons-borsuk//verified/verified_state_year_image_name_formating/verify_1_josh_jaewon_amadu/chips_positive\\fl_60cm_2019_27082_m_2708205_ne_17_060_20191129_000389.jpg\n",
      "fl_60cm_2019_27082_m_2708205_ne_17_060_20191129_000390 /n m_2708205_ne_17_060_20191129_15_14 //oit-nas-fe13dc.oit.duke.edu//data_commons-borsuk//verified/verified_state_year_image_name_formating/verify_1_josh_jaewon_amadu/chips_positive\\fl_60cm_2019_27082_m_2708205_ne_17_060_20191129_000390.jpg\n",
      "fl_60cm_2019_27082_m_2708205_ne_17_060_20191129_000392 /n m_2708205_ne_17_060_20191129_15_16 //oit-nas-fe13dc.oit.duke.edu//data_commons-borsuk//verified/verified_state_year_image_name_formating/verify_1_josh_jaewon_amadu/chips_positive\\fl_60cm_2019_27082_m_2708205_ne_17_060_20191129_000392.jpg\n",
      "fl_60cm_2019_27082_m_2708205_ne_17_060_20191129_000393 /n m_2708205_ne_17_060_20191129_15_17 //oit-nas-fe13dc.oit.duke.edu//data_commons-borsuk//verified/verified_state_year_image_name_formating/verify_1_josh_jaewon_amadu/chips_positive\\fl_60cm_2019_27082_m_2708205_ne_17_060_20191129_000393.jpg\n",
      "fl_60cm_2019_27082_m_2708205_ne_17_060_20191129_000394 /n m_2708205_ne_17_060_20191129_15_18 //oit-nas-fe13dc.oit.duke.edu//data_commons-borsuk//verified/verified_state_year_image_name_formating/verify_1_josh_jaewon_amadu/chips_positive\\fl_60cm_2019_27082_m_2708205_ne_17_060_20191129_000394.jpg\n",
      "fl_60cm_2019_27082_m_2708205_ne_17_060_20191129_000413 /n m_2708205_ne_17_060_20191129_16_12 //oit-nas-fe13dc.oit.duke.edu//data_commons-borsuk//verified/verified_state_year_image_name_formating/verify_1_josh_jaewon_amadu/chips_positive\\fl_60cm_2019_27082_m_2708205_ne_17_060_20191129_000413.jpg\n",
      "fl_60cm_2019_27082_m_2708205_ne_17_060_20191129_000414 /n m_2708205_ne_17_060_20191129_16_13 //oit-nas-fe13dc.oit.duke.edu//data_commons-borsuk//verified/verified_state_year_image_name_formating/verify_1_josh_jaewon_amadu/chips_positive\\fl_60cm_2019_27082_m_2708205_ne_17_060_20191129_000414.jpg\n",
      "fl_60cm_2019_27082_m_2708205_ne_17_060_20191129_000415 /n m_2708205_ne_17_060_20191129_16_14 //oit-nas-fe13dc.oit.duke.edu//data_commons-borsuk//verified/verified_state_year_image_name_formating/verify_1_josh_jaewon_amadu/chips_positive\\fl_60cm_2019_27082_m_2708205_ne_17_060_20191129_000415.jpg\n",
      "fl_60cm_2019_27082_m_2708205_ne_17_060_20191129_000417 /n m_2708205_ne_17_060_20191129_16_16 //oit-nas-fe13dc.oit.duke.edu//data_commons-borsuk//verified/verified_state_year_image_name_formating/verify_1_josh_jaewon_amadu/chips_positive\\fl_60cm_2019_27082_m_2708205_ne_17_060_20191129_000417.jpg\n",
      "fl_60cm_2019_27082_m_2708205_ne_17_060_20191129_000418 /n m_2708205_ne_17_060_20191129_16_17 //oit-nas-fe13dc.oit.duke.edu//data_commons-borsuk//verified/verified_state_year_image_name_formating/verify_1_josh_jaewon_amadu/chips_positive\\fl_60cm_2019_27082_m_2708205_ne_17_060_20191129_000418.jpg\n",
      "fl_60cm_2019_27082_m_2708205_ne_17_060_20191129_000438 /n m_2708205_ne_17_060_20191129_17_12 //oit-nas-fe13dc.oit.duke.edu//data_commons-borsuk//verified/verified_state_year_image_name_formating/verify_1_josh_jaewon_amadu/chips_positive\\fl_60cm_2019_27082_m_2708205_ne_17_060_20191129_000438.jpg\n",
      "fl_60cm_2019_27082_m_2708205_ne_17_060_20191129_000442 /n m_2708205_ne_17_060_20191129_17_16 //oit-nas-fe13dc.oit.duke.edu//data_commons-borsuk//verified/verified_state_year_image_name_formating/verify_1_josh_jaewon_amadu/chips_positive\\fl_60cm_2019_27082_m_2708205_ne_17_060_20191129_000442.jpg\n",
      "fl_60cm_2019_27082_m_2708205_ne_17_060_20191129_000463 /n m_2708205_ne_17_060_20191129_18_12 //oit-nas-fe13dc.oit.duke.edu//data_commons-borsuk//verified/verified_state_year_image_name_formating/verify_1_josh_jaewon_amadu/chips_positive\\fl_60cm_2019_27082_m_2708205_ne_17_060_20191129_000463.jpg\n",
      "fl_60cm_2019_27082_m_2708205_ne_17_060_20191129_000464 /n m_2708205_ne_17_060_20191129_18_13 //oit-nas-fe13dc.oit.duke.edu//data_commons-borsuk//verified/verified_state_year_image_name_formating/verify_1_josh_jaewon_amadu/chips_positive\\fl_60cm_2019_27082_m_2708205_ne_17_060_20191129_000464.jpg\n",
      "fl_60cm_2019_27082_m_2708205_ne_17_060_20191129_000467 /n m_2708205_ne_17_060_20191129_18_16 //oit-nas-fe13dc.oit.duke.edu//data_commons-borsuk//verified/verified_state_year_image_name_formating/verify_1_josh_jaewon_amadu/chips_positive\\fl_60cm_2019_27082_m_2708205_ne_17_060_20191129_000467.jpg\n",
      "fl_60cm_2019_27082_m_2708205_ne_17_060_20191129_000468 /n m_2708205_ne_17_060_20191129_18_17 //oit-nas-fe13dc.oit.duke.edu//data_commons-borsuk//verified/verified_state_year_image_name_formating/verify_1_josh_jaewon_amadu/chips_positive\\fl_60cm_2019_27082_m_2708205_ne_17_060_20191129_000468.jpg\n",
      "fl_60cm_2019_27082_m_2708205_ne_17_060_20191129_000488 /n m_2708205_ne_17_060_20191129_19_12 //oit-nas-fe13dc.oit.duke.edu//data_commons-borsuk//verified/verified_state_year_image_name_formating/verify_1_josh_jaewon_amadu/chips_positive\\fl_60cm_2019_27082_m_2708205_ne_17_060_20191129_000488.jpg\n"
     ]
    },
    {
     "name": "stderr",
     "output_type": "stream",
     "text": [
      "  1%|          | 21/2153 [09:41<17:11:21, 29.03s/it]"
     ]
    },
    {
     "name": "stdout",
     "output_type": "stream",
     "text": [
      "fl_60cm_2019_27082_m_2708205_nw_17_060_20191129_000009 /n m_2708205_nw_17_060_20191129_00_08 //oit-nas-fe13dc.oit.duke.edu//data_commons-borsuk//verified/verified_state_year_image_name_formating/verify_1_josh_jaewon_amadu/chips_positive\\fl_60cm_2019_27082_m_2708205_nw_17_060_20191129_000009.jpg\n",
      "fl_60cm_2019_27082_m_2708205_nw_17_060_20191129_000032 /n m_2708205_nw_17_060_20191129_01_06 //oit-nas-fe13dc.oit.duke.edu//data_commons-borsuk//verified/verified_state_year_image_name_formating/verify_1_josh_jaewon_amadu/chips_positive\\fl_60cm_2019_27082_m_2708205_nw_17_060_20191129_000032.jpg\n",
      "fl_60cm_2019_27082_m_2708205_nw_17_060_20191129_000085 /n m_2708205_nw_17_060_20191129_03_09 //oit-nas-fe13dc.oit.duke.edu//data_commons-borsuk//verified/verified_state_year_image_name_formating/verify_1_josh_jaewon_amadu/chips_positive\\fl_60cm_2019_27082_m_2708205_nw_17_060_20191129_000085.jpg\n",
      "fl_60cm_2019_27082_m_2708205_nw_17_060_20191129_000086 /n m_2708205_nw_17_060_20191129_03_10 //oit-nas-fe13dc.oit.duke.edu//data_commons-borsuk//verified/verified_state_year_image_name_formating/verify_1_josh_jaewon_amadu/chips_positive\\fl_60cm_2019_27082_m_2708205_nw_17_060_20191129_000086.jpg\n",
      "fl_60cm_2019_27082_m_2708205_nw_17_060_20191129_000108 /n m_2708205_nw_17_060_20191129_04_07 //oit-nas-fe13dc.oit.duke.edu//data_commons-borsuk//verified/verified_state_year_image_name_formating/verify_1_josh_jaewon_amadu/chips_positive\\fl_60cm_2019_27082_m_2708205_nw_17_060_20191129_000108.jpg\n",
      "fl_60cm_2019_27082_m_2708205_nw_17_060_20191129_000109 /n m_2708205_nw_17_060_20191129_04_08 //oit-nas-fe13dc.oit.duke.edu//data_commons-borsuk//verified/verified_state_year_image_name_formating/verify_1_josh_jaewon_amadu/chips_positive\\fl_60cm_2019_27082_m_2708205_nw_17_060_20191129_000109.jpg\n",
      "fl_60cm_2019_27082_m_2708205_nw_17_060_20191129_000110 /n m_2708205_nw_17_060_20191129_04_09 //oit-nas-fe13dc.oit.duke.edu//data_commons-borsuk//verified/verified_state_year_image_name_formating/verify_1_josh_jaewon_amadu/chips_positive\\fl_60cm_2019_27082_m_2708205_nw_17_060_20191129_000110.jpg\n",
      "fl_60cm_2019_27082_m_2708205_nw_17_060_20191129_000154 /n m_2708205_nw_17_060_20191129_06_03 //oit-nas-fe13dc.oit.duke.edu//data_commons-borsuk//verified/verified_state_year_image_name_formating/verify_1_josh_jaewon_amadu/chips_positive\\fl_60cm_2019_27082_m_2708205_nw_17_060_20191129_000154.jpg\n",
      "fl_60cm_2019_27082_m_2708205_nw_17_060_20191129_000155 /n m_2708205_nw_17_060_20191129_06_04 //oit-nas-fe13dc.oit.duke.edu//data_commons-borsuk//verified/verified_state_year_image_name_formating/verify_1_josh_jaewon_amadu/chips_positive\\fl_60cm_2019_27082_m_2708205_nw_17_060_20191129_000155.jpg\n",
      "fl_60cm_2019_27082_m_2708205_nw_17_060_20191129_000158 /n m_2708205_nw_17_060_20191129_06_07 //oit-nas-fe13dc.oit.duke.edu//data_commons-borsuk//verified/verified_state_year_image_name_formating/verify_1_josh_jaewon_amadu/chips_positive\\fl_60cm_2019_27082_m_2708205_nw_17_060_20191129_000158.jpg\n",
      "fl_60cm_2019_27082_m_2708205_nw_17_060_20191129_000183 /n m_2708205_nw_17_060_20191129_07_07 //oit-nas-fe13dc.oit.duke.edu//data_commons-borsuk//verified/verified_state_year_image_name_formating/verify_1_josh_jaewon_amadu/chips_positive\\fl_60cm_2019_27082_m_2708205_nw_17_060_20191129_000183.jpg\n",
      "fl_60cm_2019_27082_m_2708205_nw_17_060_20191129_000184 /n m_2708205_nw_17_060_20191129_07_08 //oit-nas-fe13dc.oit.duke.edu//data_commons-borsuk//verified/verified_state_year_image_name_formating/verify_1_josh_jaewon_amadu/chips_positive\\fl_60cm_2019_27082_m_2708205_nw_17_060_20191129_000184.jpg\n",
      "fl_60cm_2019_27082_m_2708205_nw_17_060_20191129_000185 /n m_2708205_nw_17_060_20191129_07_09 //oit-nas-fe13dc.oit.duke.edu//data_commons-borsuk//verified/verified_state_year_image_name_formating/verify_1_josh_jaewon_amadu/chips_positive\\fl_60cm_2019_27082_m_2708205_nw_17_060_20191129_000185.jpg\n",
      "fl_60cm_2019_27082_m_2708205_nw_17_060_20191129_000209 /n m_2708205_nw_17_060_20191129_08_08 //oit-nas-fe13dc.oit.duke.edu//data_commons-borsuk//verified/verified_state_year_image_name_formating/verify_1_josh_jaewon_amadu/chips_positive\\fl_60cm_2019_27082_m_2708205_nw_17_060_20191129_000209.jpg\n",
      "fl_60cm_2019_27082_m_2708205_nw_17_060_20191129_000216 /n m_2708205_nw_17_060_20191129_08_15 //oit-nas-fe13dc.oit.duke.edu//data_commons-borsuk//verified/verified_state_year_image_name_formating/verify_1_josh_jaewon_amadu/chips_positive\\fl_60cm_2019_27082_m_2708205_nw_17_060_20191129_000216.jpg\n",
      "fl_60cm_2019_27082_m_2708205_nw_17_060_20191129_000234 /n m_2708205_nw_17_060_20191129_09_08 //oit-nas-fe13dc.oit.duke.edu//data_commons-borsuk//verified/verified_state_year_image_name_formating/verify_1_josh_jaewon_amadu/chips_positive\\fl_60cm_2019_27082_m_2708205_nw_17_060_20191129_000234.jpg\n",
      "fl_60cm_2019_27082_m_2708205_nw_17_060_20191129_000240 /n m_2708205_nw_17_060_20191129_09_14 //oit-nas-fe13dc.oit.duke.edu//data_commons-borsuk//verified/verified_state_year_image_name_formating/verify_1_josh_jaewon_amadu/chips_positive\\fl_60cm_2019_27082_m_2708205_nw_17_060_20191129_000240.jpg\n",
      "fl_60cm_2019_27082_m_2708205_nw_17_060_20191129_000255 /n m_2708205_nw_17_060_20191129_10_04 //oit-nas-fe13dc.oit.duke.edu//data_commons-borsuk//verified/verified_state_year_image_name_formating/verify_1_josh_jaewon_amadu/chips_positive\\fl_60cm_2019_27082_m_2708205_nw_17_060_20191129_000255.jpg\n",
      "fl_60cm_2019_27082_m_2708205_nw_17_060_20191129_000256 /n m_2708205_nw_17_060_20191129_10_05 //oit-nas-fe13dc.oit.duke.edu//data_commons-borsuk//verified/verified_state_year_image_name_formating/verify_1_josh_jaewon_amadu/chips_positive\\fl_60cm_2019_27082_m_2708205_nw_17_060_20191129_000256.jpg\n",
      "fl_60cm_2019_27082_m_2708205_nw_17_060_20191129_000280 /n m_2708205_nw_17_060_20191129_11_04 //oit-nas-fe13dc.oit.duke.edu//data_commons-borsuk//verified/verified_state_year_image_name_formating/verify_1_josh_jaewon_amadu/chips_positive\\fl_60cm_2019_27082_m_2708205_nw_17_060_20191129_000280.jpg\n",
      "fl_60cm_2019_27082_m_2708205_nw_17_060_20191129_000281 /n m_2708205_nw_17_060_20191129_11_05 //oit-nas-fe13dc.oit.duke.edu//data_commons-borsuk//verified/verified_state_year_image_name_formating/verify_1_josh_jaewon_amadu/chips_positive\\fl_60cm_2019_27082_m_2708205_nw_17_060_20191129_000281.jpg\n",
      "fl_60cm_2019_27082_m_2708205_nw_17_060_20191129_000305 /n m_2708205_nw_17_060_20191129_12_04 //oit-nas-fe13dc.oit.duke.edu//data_commons-borsuk//verified/verified_state_year_image_name_formating/verify_1_josh_jaewon_amadu/chips_positive\\fl_60cm_2019_27082_m_2708205_nw_17_060_20191129_000305.jpg\n",
      "fl_60cm_2019_27082_m_2708205_nw_17_060_20191129_000326 /n m_2708205_nw_17_060_20191129_13_00 //oit-nas-fe13dc.oit.duke.edu//data_commons-borsuk//verified/verified_state_year_image_name_formating/verify_1_josh_jaewon_amadu/chips_positive\\fl_60cm_2019_27082_m_2708205_nw_17_060_20191129_000326.jpg\n",
      "fl_60cm_2019_27082_m_2708205_nw_17_060_20191129_000327 /n m_2708205_nw_17_060_20191129_13_01 //oit-nas-fe13dc.oit.duke.edu//data_commons-borsuk//verified/verified_state_year_image_name_formating/verify_1_josh_jaewon_amadu/chips_positive\\fl_60cm_2019_27082_m_2708205_nw_17_060_20191129_000327.jpg\n",
      "fl_60cm_2019_27082_m_2708205_nw_17_060_20191129_000352 /n m_2708205_nw_17_060_20191129_14_01 //oit-nas-fe13dc.oit.duke.edu//data_commons-borsuk//verified/verified_state_year_image_name_formating/verify_1_josh_jaewon_amadu/chips_positive\\fl_60cm_2019_27082_m_2708205_nw_17_060_20191129_000352.jpg\n",
      "fl_60cm_2019_27082_m_2708205_nw_17_060_20191129_000353 /n m_2708205_nw_17_060_20191129_14_02 //oit-nas-fe13dc.oit.duke.edu//data_commons-borsuk//verified/verified_state_year_image_name_formating/verify_1_josh_jaewon_amadu/chips_positive\\fl_60cm_2019_27082_m_2708205_nw_17_060_20191129_000353.jpg\n",
      "fl_60cm_2019_27082_m_2708205_nw_17_060_20191129_000356 /n m_2708205_nw_17_060_20191129_14_05 //oit-nas-fe13dc.oit.duke.edu//data_commons-borsuk//verified/verified_state_year_image_name_formating/verify_1_josh_jaewon_amadu/chips_positive\\fl_60cm_2019_27082_m_2708205_nw_17_060_20191129_000356.jpg\n",
      "fl_60cm_2019_27082_m_2708205_nw_17_060_20191129_000357 /n m_2708205_nw_17_060_20191129_14_06 //oit-nas-fe13dc.oit.duke.edu//data_commons-borsuk//verified/verified_state_year_image_name_formating/verify_1_josh_jaewon_amadu/chips_positive\\fl_60cm_2019_27082_m_2708205_nw_17_060_20191129_000357.jpg\n",
      "fl_60cm_2019_27082_m_2708205_nw_17_060_20191129_000377 /n m_2708205_nw_17_060_20191129_15_01 //oit-nas-fe13dc.oit.duke.edu//data_commons-borsuk//verified/verified_state_year_image_name_formating/verify_1_josh_jaewon_amadu/chips_positive\\fl_60cm_2019_27082_m_2708205_nw_17_060_20191129_000377.jpg\n",
      "fl_60cm_2019_27082_m_2708205_nw_17_060_20191129_000380 /n m_2708205_nw_17_060_20191129_15_04 //oit-nas-fe13dc.oit.duke.edu//data_commons-borsuk//verified/verified_state_year_image_name_formating/verify_1_josh_jaewon_amadu/chips_positive\\fl_60cm_2019_27082_m_2708205_nw_17_060_20191129_000380.jpg\n",
      "fl_60cm_2019_27082_m_2708205_nw_17_060_20191129_000382 /n m_2708205_nw_17_060_20191129_15_06 //oit-nas-fe13dc.oit.duke.edu//data_commons-borsuk//verified/verified_state_year_image_name_formating/verify_1_josh_jaewon_amadu/chips_positive\\fl_60cm_2019_27082_m_2708205_nw_17_060_20191129_000382.jpg\n",
      "fl_60cm_2019_27082_m_2708205_nw_17_060_20191129_000383 /n m_2708205_nw_17_060_20191129_15_07 //oit-nas-fe13dc.oit.duke.edu//data_commons-borsuk//verified/verified_state_year_image_name_formating/verify_1_josh_jaewon_amadu/chips_positive\\fl_60cm_2019_27082_m_2708205_nw_17_060_20191129_000383.jpg\n",
      "fl_60cm_2019_27082_m_2708205_nw_17_060_20191129_000385 /n m_2708205_nw_17_060_20191129_15_09 //oit-nas-fe13dc.oit.duke.edu//data_commons-borsuk//verified/verified_state_year_image_name_formating/verify_1_josh_jaewon_amadu/chips_positive\\fl_60cm_2019_27082_m_2708205_nw_17_060_20191129_000385.jpg\n",
      "fl_60cm_2019_27082_m_2708205_nw_17_060_20191129_000407 /n m_2708205_nw_17_060_20191129_16_06 //oit-nas-fe13dc.oit.duke.edu//data_commons-borsuk//verified/verified_state_year_image_name_formating/verify_1_josh_jaewon_amadu/chips_positive\\fl_60cm_2019_27082_m_2708205_nw_17_060_20191129_000407.jpg\n",
      "fl_60cm_2019_27082_m_2708205_nw_17_060_20191129_000430 /n m_2708205_nw_17_060_20191129_17_04 //oit-nas-fe13dc.oit.duke.edu//data_commons-borsuk//verified/verified_state_year_image_name_formating/verify_1_josh_jaewon_amadu/chips_positive\\fl_60cm_2019_27082_m_2708205_nw_17_060_20191129_000430.jpg\n"
     ]
    },
    {
     "name": "stderr",
     "output_type": "stream",
     "text": [
      "  1%|          | 22/2153 [10:13<17:43:04, 29.93s/it]"
     ]
    },
    {
     "name": "stdout",
     "output_type": "stream",
     "text": [
      "fl_60cm_2019_27082_m_2708205_se_17_060_20191129_000038 /n m_2708205_se_17_060_20191129_01_12 //oit-nas-fe13dc.oit.duke.edu//data_commons-borsuk//verified/verified_state_year_image_name_formating/verify_1_josh_jaewon_amadu/chips_positive\\fl_60cm_2019_27082_m_2708205_se_17_060_20191129_000038.jpg\n",
      "fl_60cm_2019_27082_m_2708205_se_17_060_20191129_000062 /n m_2708205_se_17_060_20191129_02_11 //oit-nas-fe13dc.oit.duke.edu//data_commons-borsuk//verified/verified_state_year_image_name_formating/verify_1_josh_jaewon_amadu/chips_positive\\fl_60cm_2019_27082_m_2708205_se_17_060_20191129_000062.jpg\n",
      "fl_60cm_2019_27082_m_2708205_se_17_060_20191129_000063 /n m_2708205_se_17_060_20191129_02_12 //oit-nas-fe13dc.oit.duke.edu//data_commons-borsuk//verified/verified_state_year_image_name_formating/verify_1_josh_jaewon_amadu/chips_positive\\fl_60cm_2019_27082_m_2708205_se_17_060_20191129_000063.jpg\n",
      "fl_60cm_2019_27082_m_2708205_se_17_060_20191129_000064 /n m_2708205_se_17_060_20191129_02_13 //oit-nas-fe13dc.oit.duke.edu//data_commons-borsuk//verified/verified_state_year_image_name_formating/verify_1_josh_jaewon_amadu/chips_positive\\fl_60cm_2019_27082_m_2708205_se_17_060_20191129_000064.jpg\n",
      "fl_60cm_2019_27082_m_2708205_se_17_060_20191129_000089 /n m_2708205_se_17_060_20191129_03_13 //oit-nas-fe13dc.oit.duke.edu//data_commons-borsuk//verified/verified_state_year_image_name_formating/verify_1_josh_jaewon_amadu/chips_positive\\fl_60cm_2019_27082_m_2708205_se_17_060_20191129_000089.jpg\n",
      "fl_60cm_2019_27082_m_2708205_se_17_060_20191129_000090 /n m_2708205_se_17_060_20191129_03_14 //oit-nas-fe13dc.oit.duke.edu//data_commons-borsuk//verified/verified_state_year_image_name_formating/verify_1_josh_jaewon_amadu/chips_positive\\fl_60cm_2019_27082_m_2708205_se_17_060_20191129_000090.jpg\n",
      "fl_60cm_2019_27082_m_2708205_se_17_060_20191129_000113 /n m_2708205_se_17_060_20191129_04_12 //oit-nas-fe13dc.oit.duke.edu//data_commons-borsuk//verified/verified_state_year_image_name_formating/verify_1_josh_jaewon_amadu/chips_positive\\fl_60cm_2019_27082_m_2708205_se_17_060_20191129_000113.jpg\n",
      "fl_60cm_2019_27082_m_2708205_se_17_060_20191129_000116 /n m_2708205_se_17_060_20191129_04_15 //oit-nas-fe13dc.oit.duke.edu//data_commons-borsuk//verified/verified_state_year_image_name_formating/verify_1_josh_jaewon_amadu/chips_positive\\fl_60cm_2019_27082_m_2708205_se_17_060_20191129_000116.jpg\n",
      "fl_60cm_2019_27082_m_2708205_se_17_060_20191129_000166 /n m_2708205_se_17_060_20191129_06_15 //oit-nas-fe13dc.oit.duke.edu//data_commons-borsuk//verified/verified_state_year_image_name_formating/verify_1_josh_jaewon_amadu/chips_positive\\fl_60cm_2019_27082_m_2708205_se_17_060_20191129_000166.jpg\n",
      "fl_60cm_2019_27082_m_2708205_se_17_060_20191129_000191 /n m_2708205_se_17_060_20191129_07_15 //oit-nas-fe13dc.oit.duke.edu//data_commons-borsuk//verified/verified_state_year_image_name_formating/verify_1_josh_jaewon_amadu/chips_positive\\fl_60cm_2019_27082_m_2708205_se_17_060_20191129_000191.jpg\n",
      "fl_60cm_2019_27082_m_2708205_se_17_060_20191129_000192 /n m_2708205_se_17_060_20191129_07_16 //oit-nas-fe13dc.oit.duke.edu//data_commons-borsuk//verified/verified_state_year_image_name_formating/verify_1_josh_jaewon_amadu/chips_positive\\fl_60cm_2019_27082_m_2708205_se_17_060_20191129_000192.jpg\n",
      "fl_60cm_2019_27082_m_2708205_se_17_060_20191129_000193 /n m_2708205_se_17_060_20191129_07_17 //oit-nas-fe13dc.oit.duke.edu//data_commons-borsuk//verified/verified_state_year_image_name_formating/verify_1_josh_jaewon_amadu/chips_positive\\fl_60cm_2019_27082_m_2708205_se_17_060_20191129_000193.jpg\n",
      "fl_60cm_2019_27082_m_2708205_se_17_060_20191129_000216 /n m_2708205_se_17_060_20191129_08_15 //oit-nas-fe13dc.oit.duke.edu//data_commons-borsuk//verified/verified_state_year_image_name_formating/verify_1_josh_jaewon_amadu/chips_positive\\fl_60cm_2019_27082_m_2708205_se_17_060_20191129_000216.jpg\n",
      "fl_60cm_2019_27082_m_2708205_se_17_060_20191129_000217 /n m_2708205_se_17_060_20191129_08_16 //oit-nas-fe13dc.oit.duke.edu//data_commons-borsuk//verified/verified_state_year_image_name_formating/verify_1_josh_jaewon_amadu/chips_positive\\fl_60cm_2019_27082_m_2708205_se_17_060_20191129_000217.jpg\n",
      "fl_60cm_2019_27082_m_2708205_se_17_060_20191129_000218 /n m_2708205_se_17_060_20191129_08_17 //oit-nas-fe13dc.oit.duke.edu//data_commons-borsuk//verified/verified_state_year_image_name_formating/verify_1_josh_jaewon_amadu/chips_positive\\fl_60cm_2019_27082_m_2708205_se_17_060_20191129_000218.jpg\n",
      "fl_60cm_2019_27082_m_2708205_se_17_060_20191129_000236 /n m_2708205_se_17_060_20191129_09_10 //oit-nas-fe13dc.oit.duke.edu//data_commons-borsuk//verified/verified_state_year_image_name_formating/verify_1_josh_jaewon_amadu/chips_positive\\fl_60cm_2019_27082_m_2708205_se_17_060_20191129_000236.jpg\n",
      "fl_60cm_2019_27082_m_2708205_se_17_060_20191129_000238 /n m_2708205_se_17_060_20191129_09_12 //oit-nas-fe13dc.oit.duke.edu//data_commons-borsuk//verified/verified_state_year_image_name_formating/verify_1_josh_jaewon_amadu/chips_positive\\fl_60cm_2019_27082_m_2708205_se_17_060_20191129_000238.jpg\n",
      "fl_60cm_2019_27082_m_2708205_se_17_060_20191129_000241 /n m_2708205_se_17_060_20191129_09_15 //oit-nas-fe13dc.oit.duke.edu//data_commons-borsuk//verified/verified_state_year_image_name_formating/verify_1_josh_jaewon_amadu/chips_positive\\fl_60cm_2019_27082_m_2708205_se_17_060_20191129_000241.jpg\n",
      "fl_60cm_2019_27082_m_2708205_se_17_060_20191129_000242 /n m_2708205_se_17_060_20191129_09_16 //oit-nas-fe13dc.oit.duke.edu//data_commons-borsuk//verified/verified_state_year_image_name_formating/verify_1_josh_jaewon_amadu/chips_positive\\fl_60cm_2019_27082_m_2708205_se_17_060_20191129_000242.jpg\n",
      "fl_60cm_2019_27082_m_2708205_se_17_060_20191129_000243 /n m_2708205_se_17_060_20191129_09_17 //oit-nas-fe13dc.oit.duke.edu//data_commons-borsuk//verified/verified_state_year_image_name_formating/verify_1_josh_jaewon_amadu/chips_positive\\fl_60cm_2019_27082_m_2708205_se_17_060_20191129_000243.jpg\n",
      "fl_60cm_2019_27082_m_2708205_se_17_060_20191129_000260 /n m_2708205_se_17_060_20191129_10_09 //oit-nas-fe13dc.oit.duke.edu//data_commons-borsuk//verified/verified_state_year_image_name_formating/verify_1_josh_jaewon_amadu/chips_positive\\fl_60cm_2019_27082_m_2708205_se_17_060_20191129_000260.jpg\n",
      "fl_60cm_2019_27082_m_2708205_se_17_060_20191129_000261 /n m_2708205_se_17_060_20191129_10_10 //oit-nas-fe13dc.oit.duke.edu//data_commons-borsuk//verified/verified_state_year_image_name_formating/verify_1_josh_jaewon_amadu/chips_positive\\fl_60cm_2019_27082_m_2708205_se_17_060_20191129_000261.jpg\n",
      "fl_60cm_2019_27082_m_2708205_se_17_060_20191129_000263 /n m_2708205_se_17_060_20191129_10_12 //oit-nas-fe13dc.oit.duke.edu//data_commons-borsuk//verified/verified_state_year_image_name_formating/verify_1_josh_jaewon_amadu/chips_positive\\fl_60cm_2019_27082_m_2708205_se_17_060_20191129_000263.jpg\n",
      "fl_60cm_2019_27082_m_2708205_se_17_060_20191129_000264 /n m_2708205_se_17_060_20191129_10_13 //oit-nas-fe13dc.oit.duke.edu//data_commons-borsuk//verified/verified_state_year_image_name_formating/verify_1_josh_jaewon_amadu/chips_positive\\fl_60cm_2019_27082_m_2708205_se_17_060_20191129_000264.jpg\n",
      "fl_60cm_2019_27082_m_2708205_se_17_060_20191129_000266 /n m_2708205_se_17_060_20191129_10_15 //oit-nas-fe13dc.oit.duke.edu//data_commons-borsuk//verified/verified_state_year_image_name_formating/verify_1_josh_jaewon_amadu/chips_positive\\fl_60cm_2019_27082_m_2708205_se_17_060_20191129_000266.jpg\n",
      "fl_60cm_2019_27082_m_2708205_se_17_060_20191129_000267 /n m_2708205_se_17_060_20191129_10_16 //oit-nas-fe13dc.oit.duke.edu//data_commons-borsuk//verified/verified_state_year_image_name_formating/verify_1_josh_jaewon_amadu/chips_positive\\fl_60cm_2019_27082_m_2708205_se_17_060_20191129_000267.jpg\n",
      "fl_60cm_2019_27082_m_2708205_se_17_060_20191129_000285 /n m_2708205_se_17_060_20191129_11_09 //oit-nas-fe13dc.oit.duke.edu//data_commons-borsuk//verified/verified_state_year_image_name_formating/verify_1_josh_jaewon_amadu/chips_positive\\fl_60cm_2019_27082_m_2708205_se_17_060_20191129_000285.jpg\n",
      "fl_60cm_2019_27082_m_2708205_se_17_060_20191129_000286 /n m_2708205_se_17_060_20191129_11_10 //oit-nas-fe13dc.oit.duke.edu//data_commons-borsuk//verified/verified_state_year_image_name_formating/verify_1_josh_jaewon_amadu/chips_positive\\fl_60cm_2019_27082_m_2708205_se_17_060_20191129_000286.jpg\n",
      "fl_60cm_2019_27082_m_2708205_se_17_060_20191129_000288 /n m_2708205_se_17_060_20191129_11_12 //oit-nas-fe13dc.oit.duke.edu//data_commons-borsuk//verified/verified_state_year_image_name_formating/verify_1_josh_jaewon_amadu/chips_positive\\fl_60cm_2019_27082_m_2708205_se_17_060_20191129_000288.jpg\n",
      "fl_60cm_2019_27082_m_2708205_se_17_060_20191129_000289 /n m_2708205_se_17_060_20191129_11_13 //oit-nas-fe13dc.oit.duke.edu//data_commons-borsuk//verified/verified_state_year_image_name_formating/verify_1_josh_jaewon_amadu/chips_positive\\fl_60cm_2019_27082_m_2708205_se_17_060_20191129_000289.jpg\n",
      "fl_60cm_2019_27082_m_2708205_se_17_060_20191129_000291 /n m_2708205_se_17_060_20191129_11_15 //oit-nas-fe13dc.oit.duke.edu//data_commons-borsuk//verified/verified_state_year_image_name_formating/verify_1_josh_jaewon_amadu/chips_positive\\fl_60cm_2019_27082_m_2708205_se_17_060_20191129_000291.jpg\n",
      "fl_60cm_2019_27082_m_2708205_se_17_060_20191129_000292 /n m_2708205_se_17_060_20191129_11_16 //oit-nas-fe13dc.oit.duke.edu//data_commons-borsuk//verified/verified_state_year_image_name_formating/verify_1_josh_jaewon_amadu/chips_positive\\fl_60cm_2019_27082_m_2708205_se_17_060_20191129_000292.jpg\n",
      "fl_60cm_2019_27082_m_2708205_se_17_060_20191129_000311 /n m_2708205_se_17_060_20191129_12_10 //oit-nas-fe13dc.oit.duke.edu//data_commons-borsuk//verified/verified_state_year_image_name_formating/verify_1_josh_jaewon_amadu/chips_positive\\fl_60cm_2019_27082_m_2708205_se_17_060_20191129_000311.jpg\n",
      "fl_60cm_2019_27082_m_2708205_se_17_060_20191129_000312 /n m_2708205_se_17_060_20191129_12_11 //oit-nas-fe13dc.oit.duke.edu//data_commons-borsuk//verified/verified_state_year_image_name_formating/verify_1_josh_jaewon_amadu/chips_positive\\fl_60cm_2019_27082_m_2708205_se_17_060_20191129_000312.jpg\n",
      "fl_60cm_2019_27082_m_2708205_se_17_060_20191129_000313 /n m_2708205_se_17_060_20191129_12_12 //oit-nas-fe13dc.oit.duke.edu//data_commons-borsuk//verified/verified_state_year_image_name_formating/verify_1_josh_jaewon_amadu/chips_positive\\fl_60cm_2019_27082_m_2708205_se_17_060_20191129_000313.jpg\n",
      "fl_60cm_2019_27082_m_2708205_se_17_060_20191129_000314 /n m_2708205_se_17_060_20191129_12_13 //oit-nas-fe13dc.oit.duke.edu//data_commons-borsuk//verified/verified_state_year_image_name_formating/verify_1_josh_jaewon_amadu/chips_positive\\fl_60cm_2019_27082_m_2708205_se_17_060_20191129_000314.jpg\n",
      "fl_60cm_2019_27082_m_2708205_se_17_060_20191129_000316 /n m_2708205_se_17_060_20191129_12_15 //oit-nas-fe13dc.oit.duke.edu//data_commons-borsuk//verified/verified_state_year_image_name_formating/verify_1_josh_jaewon_amadu/chips_positive\\fl_60cm_2019_27082_m_2708205_se_17_060_20191129_000316.jpg\n",
      "fl_60cm_2019_27082_m_2708205_se_17_060_20191129_000338 /n m_2708205_se_17_060_20191129_13_12 //oit-nas-fe13dc.oit.duke.edu//data_commons-borsuk//verified/verified_state_year_image_name_formating/verify_1_josh_jaewon_amadu/chips_positive\\fl_60cm_2019_27082_m_2708205_se_17_060_20191129_000338.jpg\n",
      "fl_60cm_2019_27082_m_2708205_se_17_060_20191129_000339 /n m_2708205_se_17_060_20191129_13_13 //oit-nas-fe13dc.oit.duke.edu//data_commons-borsuk//verified/verified_state_year_image_name_formating/verify_1_josh_jaewon_amadu/chips_positive\\fl_60cm_2019_27082_m_2708205_se_17_060_20191129_000339.jpg\n",
      "fl_60cm_2019_27082_m_2708205_se_17_060_20191129_000340 /n m_2708205_se_17_060_20191129_13_14 //oit-nas-fe13dc.oit.duke.edu//data_commons-borsuk//verified/verified_state_year_image_name_formating/verify_1_josh_jaewon_amadu/chips_positive\\fl_60cm_2019_27082_m_2708205_se_17_060_20191129_000340.jpg\n",
      "fl_60cm_2019_27082_m_2708205_se_17_060_20191129_000359 /n m_2708205_se_17_060_20191129_14_08 //oit-nas-fe13dc.oit.duke.edu//data_commons-borsuk//verified/verified_state_year_image_name_formating/verify_1_josh_jaewon_amadu/chips_positive\\fl_60cm_2019_27082_m_2708205_se_17_060_20191129_000359.jpg\n",
      "fl_60cm_2019_27082_m_2708205_se_17_060_20191129_000360 /n m_2708205_se_17_060_20191129_14_09 //oit-nas-fe13dc.oit.duke.edu//data_commons-borsuk//verified/verified_state_year_image_name_formating/verify_1_josh_jaewon_amadu/chips_positive\\fl_60cm_2019_27082_m_2708205_se_17_060_20191129_000360.jpg\n",
      "fl_60cm_2019_27082_m_2708205_se_17_060_20191129_000362 /n m_2708205_se_17_060_20191129_14_11 //oit-nas-fe13dc.oit.duke.edu//data_commons-borsuk//verified/verified_state_year_image_name_formating/verify_1_josh_jaewon_amadu/chips_positive\\fl_60cm_2019_27082_m_2708205_se_17_060_20191129_000362.jpg\n",
      "fl_60cm_2019_27082_m_2708205_se_17_060_20191129_000364 /n m_2708205_se_17_060_20191129_14_13 //oit-nas-fe13dc.oit.duke.edu//data_commons-borsuk//verified/verified_state_year_image_name_formating/verify_1_josh_jaewon_amadu/chips_positive\\fl_60cm_2019_27082_m_2708205_se_17_060_20191129_000364.jpg\n",
      "fl_60cm_2019_27082_m_2708205_se_17_060_20191129_000383 /n m_2708205_se_17_060_20191129_15_07 //oit-nas-fe13dc.oit.duke.edu//data_commons-borsuk//verified/verified_state_year_image_name_formating/verify_1_josh_jaewon_amadu/chips_positive\\fl_60cm_2019_27082_m_2708205_se_17_060_20191129_000383.jpg\n",
      "fl_60cm_2019_27082_m_2708205_se_17_060_20191129_000384 /n m_2708205_se_17_060_20191129_15_08 //oit-nas-fe13dc.oit.duke.edu//data_commons-borsuk//verified/verified_state_year_image_name_formating/verify_1_josh_jaewon_amadu/chips_positive\\fl_60cm_2019_27082_m_2708205_se_17_060_20191129_000384.jpg\n",
      "fl_60cm_2019_27082_m_2708205_se_17_060_20191129_000385 /n m_2708205_se_17_060_20191129_15_09 //oit-nas-fe13dc.oit.duke.edu//data_commons-borsuk//verified/verified_state_year_image_name_formating/verify_1_josh_jaewon_amadu/chips_positive\\fl_60cm_2019_27082_m_2708205_se_17_060_20191129_000385.jpg\n",
      "fl_60cm_2019_27082_m_2708205_se_17_060_20191129_000388 /n m_2708205_se_17_060_20191129_15_12 //oit-nas-fe13dc.oit.duke.edu//data_commons-borsuk//verified/verified_state_year_image_name_formating/verify_1_josh_jaewon_amadu/chips_positive\\fl_60cm_2019_27082_m_2708205_se_17_060_20191129_000388.jpg\n",
      "fl_60cm_2019_27082_m_2708205_se_17_060_20191129_000389 /n m_2708205_se_17_060_20191129_15_13 //oit-nas-fe13dc.oit.duke.edu//data_commons-borsuk//verified/verified_state_year_image_name_formating/verify_1_josh_jaewon_amadu/chips_positive\\fl_60cm_2019_27082_m_2708205_se_17_060_20191129_000389.jpg\n",
      "fl_60cm_2019_27082_m_2708205_se_17_060_20191129_000390 /n m_2708205_se_17_060_20191129_15_14 //oit-nas-fe13dc.oit.duke.edu//data_commons-borsuk//verified/verified_state_year_image_name_formating/verify_1_josh_jaewon_amadu/chips_positive\\fl_60cm_2019_27082_m_2708205_se_17_060_20191129_000390.jpg\n",
      "fl_60cm_2019_27082_m_2708205_se_17_060_20191129_000409 /n m_2708205_se_17_060_20191129_16_08 //oit-nas-fe13dc.oit.duke.edu//data_commons-borsuk//verified/verified_state_year_image_name_formating/verify_1_josh_jaewon_amadu/chips_positive\\fl_60cm_2019_27082_m_2708205_se_17_060_20191129_000409.jpg\n",
      "fl_60cm_2019_27082_m_2708205_se_17_060_20191129_000410 /n m_2708205_se_17_060_20191129_16_09 //oit-nas-fe13dc.oit.duke.edu//data_commons-borsuk//verified/verified_state_year_image_name_formating/verify_1_josh_jaewon_amadu/chips_positive\\fl_60cm_2019_27082_m_2708205_se_17_060_20191129_000410.jpg\n",
      "fl_60cm_2019_27082_m_2708205_se_17_060_20191129_000415 /n m_2708205_se_17_060_20191129_16_14 //oit-nas-fe13dc.oit.duke.edu//data_commons-borsuk//verified/verified_state_year_image_name_formating/verify_1_josh_jaewon_amadu/chips_positive\\fl_60cm_2019_27082_m_2708205_se_17_060_20191129_000415.jpg\n",
      "fl_60cm_2019_27082_m_2708205_se_17_060_20191129_000418 /n m_2708205_se_17_060_20191129_16_17 //oit-nas-fe13dc.oit.duke.edu//data_commons-borsuk//verified/verified_state_year_image_name_formating/verify_1_josh_jaewon_amadu/chips_positive\\fl_60cm_2019_27082_m_2708205_se_17_060_20191129_000418.jpg\n",
      "fl_60cm_2019_27082_m_2708205_se_17_060_20191129_000444 /n m_2708205_se_17_060_20191129_17_18 //oit-nas-fe13dc.oit.duke.edu//data_commons-borsuk//verified/verified_state_year_image_name_formating/verify_1_josh_jaewon_amadu/chips_positive\\fl_60cm_2019_27082_m_2708205_se_17_060_20191129_000444.jpg\n",
      "fl_60cm_2019_27082_m_2708205_se_17_060_20191129_000459 /n m_2708205_se_17_060_20191129_18_08 //oit-nas-fe13dc.oit.duke.edu//data_commons-borsuk//verified/verified_state_year_image_name_formating/verify_1_josh_jaewon_amadu/chips_positive\\fl_60cm_2019_27082_m_2708205_se_17_060_20191129_000459.jpg\n"
     ]
    },
    {
     "name": "stderr",
     "output_type": "stream",
     "text": [
      "  1%|          | 23/2153 [11:01<20:50:46, 35.23s/it]"
     ]
    },
    {
     "name": "stdout",
     "output_type": "stream",
     "text": [
      "fl_60cm_2019_27082_m_2708205_sw_17_060_20191129_000147 /n m_2708205_sw_17_060_20191129_05_21 //oit-nas-fe13dc.oit.duke.edu//data_commons-borsuk//verified/verified_state_year_image_name_formating/verify_1_josh_jaewon_amadu/chips_positive\\fl_60cm_2019_27082_m_2708205_sw_17_060_20191129_000147.jpg\n",
      "fl_60cm_2019_27082_m_2708205_sw_17_060_20191129_000148 /n m_2708205_sw_17_060_20191129_05_22 //oit-nas-fe13dc.oit.duke.edu//data_commons-borsuk//verified/verified_state_year_image_name_formating/verify_1_josh_jaewon_amadu/chips_positive\\fl_60cm_2019_27082_m_2708205_sw_17_060_20191129_000148.jpg\n",
      "fl_60cm_2019_27082_m_2708205_sw_17_060_20191129_000172 /n m_2708205_sw_17_060_20191129_06_21 //oit-nas-fe13dc.oit.duke.edu//data_commons-borsuk//verified/verified_state_year_image_name_formating/verify_1_josh_jaewon_amadu/chips_positive\\fl_60cm_2019_27082_m_2708205_sw_17_060_20191129_000172.jpg\n",
      "fl_60cm_2019_27082_m_2708205_sw_17_060_20191129_000173 /n m_2708205_sw_17_060_20191129_06_22 //oit-nas-fe13dc.oit.duke.edu//data_commons-borsuk//verified/verified_state_year_image_name_formating/verify_1_josh_jaewon_amadu/chips_positive\\fl_60cm_2019_27082_m_2708205_sw_17_060_20191129_000173.jpg\n",
      "fl_60cm_2019_27082_m_2708205_sw_17_060_20191129_000197 /n m_2708205_sw_17_060_20191129_07_21 //oit-nas-fe13dc.oit.duke.edu//data_commons-borsuk//verified/verified_state_year_image_name_formating/verify_1_josh_jaewon_amadu/chips_positive\\fl_60cm_2019_27082_m_2708205_sw_17_060_20191129_000197.jpg\n",
      "fl_60cm_2019_27082_m_2708205_sw_17_060_20191129_000242 /n m_2708205_sw_17_060_20191129_09_16 //oit-nas-fe13dc.oit.duke.edu//data_commons-borsuk//verified/verified_state_year_image_name_formating/verify_1_josh_jaewon_amadu/chips_positive\\fl_60cm_2019_27082_m_2708205_sw_17_060_20191129_000242.jpg\n",
      "fl_60cm_2019_27082_m_2708205_sw_17_060_20191129_000243 /n m_2708205_sw_17_060_20191129_09_17 //oit-nas-fe13dc.oit.duke.edu//data_commons-borsuk//verified/verified_state_year_image_name_formating/verify_1_josh_jaewon_amadu/chips_positive\\fl_60cm_2019_27082_m_2708205_sw_17_060_20191129_000243.jpg\n",
      "fl_60cm_2019_27082_m_2708205_sw_17_060_20191129_000244 /n m_2708205_sw_17_060_20191129_09_18 //oit-nas-fe13dc.oit.duke.edu//data_commons-borsuk//verified/verified_state_year_image_name_formating/verify_1_josh_jaewon_amadu/chips_positive\\fl_60cm_2019_27082_m_2708205_sw_17_060_20191129_000244.jpg\n",
      "fl_60cm_2019_27082_m_2708205_sw_17_060_20191129_000267 /n m_2708205_sw_17_060_20191129_10_16 //oit-nas-fe13dc.oit.duke.edu//data_commons-borsuk//verified/verified_state_year_image_name_formating/verify_1_josh_jaewon_amadu/chips_positive\\fl_60cm_2019_27082_m_2708205_sw_17_060_20191129_000267.jpg\n",
      "fl_60cm_2019_27082_m_2708205_sw_17_060_20191129_000268 /n m_2708205_sw_17_060_20191129_10_17 //oit-nas-fe13dc.oit.duke.edu//data_commons-borsuk//verified/verified_state_year_image_name_formating/verify_1_josh_jaewon_amadu/chips_positive\\fl_60cm_2019_27082_m_2708205_sw_17_060_20191129_000268.jpg\n",
      "fl_60cm_2019_27082_m_2708205_sw_17_060_20191129_000270 /n m_2708205_sw_17_060_20191129_10_19 //oit-nas-fe13dc.oit.duke.edu//data_commons-borsuk//verified/verified_state_year_image_name_formating/verify_1_josh_jaewon_amadu/chips_positive\\fl_60cm_2019_27082_m_2708205_sw_17_060_20191129_000270.jpg\n",
      "fl_60cm_2019_27082_m_2708205_sw_17_060_20191129_000287 /n m_2708205_sw_17_060_20191129_11_11 //oit-nas-fe13dc.oit.duke.edu//data_commons-borsuk//verified/verified_state_year_image_name_formating/verify_1_josh_jaewon_amadu/chips_positive\\fl_60cm_2019_27082_m_2708205_sw_17_060_20191129_000287.jpg\n",
      "fl_60cm_2019_27082_m_2708205_sw_17_060_20191129_000288 /n m_2708205_sw_17_060_20191129_11_12 //oit-nas-fe13dc.oit.duke.edu//data_commons-borsuk//verified/verified_state_year_image_name_formating/verify_1_josh_jaewon_amadu/chips_positive\\fl_60cm_2019_27082_m_2708205_sw_17_060_20191129_000288.jpg\n",
      "fl_60cm_2019_27082_m_2708205_sw_17_060_20191129_000289 /n m_2708205_sw_17_060_20191129_11_13 //oit-nas-fe13dc.oit.duke.edu//data_commons-borsuk//verified/verified_state_year_image_name_formating/verify_1_josh_jaewon_amadu/chips_positive\\fl_60cm_2019_27082_m_2708205_sw_17_060_20191129_000289.jpg\n",
      "fl_60cm_2019_27082_m_2708205_sw_17_060_20191129_000292 /n m_2708205_sw_17_060_20191129_11_16 //oit-nas-fe13dc.oit.duke.edu//data_commons-borsuk//verified/verified_state_year_image_name_formating/verify_1_josh_jaewon_amadu/chips_positive\\fl_60cm_2019_27082_m_2708205_sw_17_060_20191129_000292.jpg\n",
      "fl_60cm_2019_27082_m_2708205_sw_17_060_20191129_000295 /n m_2708205_sw_17_060_20191129_11_19 //oit-nas-fe13dc.oit.duke.edu//data_commons-borsuk//verified/verified_state_year_image_name_formating/verify_1_josh_jaewon_amadu/chips_positive\\fl_60cm_2019_27082_m_2708205_sw_17_060_20191129_000295.jpg\n",
      "fl_60cm_2019_27082_m_2708205_sw_17_060_20191129_000312 /n m_2708205_sw_17_060_20191129_12_11 //oit-nas-fe13dc.oit.duke.edu//data_commons-borsuk//verified/verified_state_year_image_name_formating/verify_1_josh_jaewon_amadu/chips_positive\\fl_60cm_2019_27082_m_2708205_sw_17_060_20191129_000312.jpg\n",
      "fl_60cm_2019_27082_m_2708205_sw_17_060_20191129_000313 /n m_2708205_sw_17_060_20191129_12_12 //oit-nas-fe13dc.oit.duke.edu//data_commons-borsuk//verified/verified_state_year_image_name_formating/verify_1_josh_jaewon_amadu/chips_positive\\fl_60cm_2019_27082_m_2708205_sw_17_060_20191129_000313.jpg\n",
      "fl_60cm_2019_27082_m_2708205_sw_17_060_20191129_000333 /n m_2708205_sw_17_060_20191129_13_07 //oit-nas-fe13dc.oit.duke.edu//data_commons-borsuk//verified/verified_state_year_image_name_formating/verify_1_josh_jaewon_amadu/chips_positive\\fl_60cm_2019_27082_m_2708205_sw_17_060_20191129_000333.jpg\n",
      "fl_60cm_2019_27082_m_2708205_sw_17_060_20191129_000334 /n m_2708205_sw_17_060_20191129_13_08 //oit-nas-fe13dc.oit.duke.edu//data_commons-borsuk//verified/verified_state_year_image_name_formating/verify_1_josh_jaewon_amadu/chips_positive\\fl_60cm_2019_27082_m_2708205_sw_17_060_20191129_000334.jpg\n",
      "fl_60cm_2019_27082_m_2708205_sw_17_060_20191129_000340 /n m_2708205_sw_17_060_20191129_13_14 //oit-nas-fe13dc.oit.duke.edu//data_commons-borsuk//verified/verified_state_year_image_name_formating/verify_1_josh_jaewon_amadu/chips_positive\\fl_60cm_2019_27082_m_2708205_sw_17_060_20191129_000340.jpg\n",
      "fl_60cm_2019_27082_m_2708205_sw_17_060_20191129_000358 /n m_2708205_sw_17_060_20191129_14_07 //oit-nas-fe13dc.oit.duke.edu//data_commons-borsuk//verified/verified_state_year_image_name_formating/verify_1_josh_jaewon_amadu/chips_positive\\fl_60cm_2019_27082_m_2708205_sw_17_060_20191129_000358.jpg\n",
      "fl_60cm_2019_27082_m_2708205_sw_17_060_20191129_000359 /n m_2708205_sw_17_060_20191129_14_08 //oit-nas-fe13dc.oit.duke.edu//data_commons-borsuk//verified/verified_state_year_image_name_formating/verify_1_josh_jaewon_amadu/chips_positive\\fl_60cm_2019_27082_m_2708205_sw_17_060_20191129_000359.jpg\n",
      "fl_60cm_2019_27082_m_2708205_sw_17_060_20191129_000383 /n m_2708205_sw_17_060_20191129_15_07 //oit-nas-fe13dc.oit.duke.edu//data_commons-borsuk//verified/verified_state_year_image_name_formating/verify_1_josh_jaewon_amadu/chips_positive\\fl_60cm_2019_27082_m_2708205_sw_17_060_20191129_000383.jpg\n",
      "fl_60cm_2019_27082_m_2708205_sw_17_060_20191129_000386 /n m_2708205_sw_17_060_20191129_15_10 //oit-nas-fe13dc.oit.duke.edu//data_commons-borsuk//verified/verified_state_year_image_name_formating/verify_1_josh_jaewon_amadu/chips_positive\\fl_60cm_2019_27082_m_2708205_sw_17_060_20191129_000386.jpg\n"
     ]
    },
    {
     "name": "stderr",
     "output_type": "stream",
     "text": [
      "  1%|          | 24/2153 [11:36<20:53:41, 35.33s/it]"
     ]
    },
    {
     "name": "stdout",
     "output_type": "stream",
     "text": [
      "fl_60cm_2019_27082_m_2708212_ne_17_060_20191129_000133 /n m_2708212_ne_17_060_20191129_05_07 //oit-nas-fe13dc.oit.duke.edu//data_commons-borsuk//verified/verified_state_year_image_name_formating/verify_1_josh_jaewon_amadu/chips_positive\\fl_60cm_2019_27082_m_2708212_ne_17_060_20191129_000133.jpg\n",
      "fl_60cm_2019_27082_m_2708212_ne_17_060_20191129_000170 /n m_2708212_ne_17_060_20191129_06_19 //oit-nas-fe13dc.oit.duke.edu//data_commons-borsuk//verified/verified_state_year_image_name_formating/verify_1_josh_jaewon_amadu/chips_positive\\fl_60cm_2019_27082_m_2708212_ne_17_060_20191129_000170.jpg\n",
      "fl_60cm_2019_27082_m_2708212_ne_17_060_20191129_000212 /n m_2708212_ne_17_060_20191129_08_11 //oit-nas-fe13dc.oit.duke.edu//data_commons-borsuk//verified/verified_state_year_image_name_formating/verify_1_josh_jaewon_amadu/chips_positive\\fl_60cm_2019_27082_m_2708212_ne_17_060_20191129_000212.jpg\n",
      "fl_60cm_2019_27082_m_2708212_ne_17_060_20191129_000213 /n m_2708212_ne_17_060_20191129_08_12 //oit-nas-fe13dc.oit.duke.edu//data_commons-borsuk//verified/verified_state_year_image_name_formating/verify_1_josh_jaewon_amadu/chips_positive\\fl_60cm_2019_27082_m_2708212_ne_17_060_20191129_000213.jpg\n",
      "fl_60cm_2019_27082_m_2708212_ne_17_060_20191129_000236 /n m_2708212_ne_17_060_20191129_09_10 //oit-nas-fe13dc.oit.duke.edu//data_commons-borsuk//verified/verified_state_year_image_name_formating/verify_1_josh_jaewon_amadu/chips_positive\\fl_60cm_2019_27082_m_2708212_ne_17_060_20191129_000236.jpg\n",
      "fl_60cm_2019_27082_m_2708212_ne_17_060_20191129_000237 /n m_2708212_ne_17_060_20191129_09_11 //oit-nas-fe13dc.oit.duke.edu//data_commons-borsuk//verified/verified_state_year_image_name_formating/verify_1_josh_jaewon_amadu/chips_positive\\fl_60cm_2019_27082_m_2708212_ne_17_060_20191129_000237.jpg\n",
      "fl_60cm_2019_27082_m_2708212_ne_17_060_20191129_000261 /n m_2708212_ne_17_060_20191129_10_10 //oit-nas-fe13dc.oit.duke.edu//data_commons-borsuk//verified/verified_state_year_image_name_formating/verify_1_josh_jaewon_amadu/chips_positive\\fl_60cm_2019_27082_m_2708212_ne_17_060_20191129_000261.jpg\n",
      "fl_60cm_2019_27082_m_2708212_ne_17_060_20191129_000307 /n m_2708212_ne_17_060_20191129_12_06 //oit-nas-fe13dc.oit.duke.edu//data_commons-borsuk//verified/verified_state_year_image_name_formating/verify_1_josh_jaewon_amadu/chips_positive\\fl_60cm_2019_27082_m_2708212_ne_17_060_20191129_000307.jpg\n",
      "fl_60cm_2019_27082_m_2708212_ne_17_060_20191129_000308 /n m_2708212_ne_17_060_20191129_12_07 //oit-nas-fe13dc.oit.duke.edu//data_commons-borsuk//verified/verified_state_year_image_name_formating/verify_1_josh_jaewon_amadu/chips_positive\\fl_60cm_2019_27082_m_2708212_ne_17_060_20191129_000308.jpg\n",
      "fl_60cm_2019_27082_m_2708212_ne_17_060_20191129_000309 /n m_2708212_ne_17_060_20191129_12_08 //oit-nas-fe13dc.oit.duke.edu//data_commons-borsuk//verified/verified_state_year_image_name_formating/verify_1_josh_jaewon_amadu/chips_positive\\fl_60cm_2019_27082_m_2708212_ne_17_060_20191129_000309.jpg\n",
      "fl_60cm_2019_27082_m_2708212_ne_17_060_20191129_000356 /n m_2708212_ne_17_060_20191129_14_05 //oit-nas-fe13dc.oit.duke.edu//data_commons-borsuk//verified/verified_state_year_image_name_formating/verify_1_josh_jaewon_amadu/chips_positive\\fl_60cm_2019_27082_m_2708212_ne_17_060_20191129_000356.jpg\n",
      "fl_60cm_2019_27082_m_2708212_ne_17_060_20191129_000357 /n m_2708212_ne_17_060_20191129_14_06 //oit-nas-fe13dc.oit.duke.edu//data_commons-borsuk//verified/verified_state_year_image_name_formating/verify_1_josh_jaewon_amadu/chips_positive\\fl_60cm_2019_27082_m_2708212_ne_17_060_20191129_000357.jpg\n",
      "fl_60cm_2019_27082_m_2708212_ne_17_060_20191129_000380 /n m_2708212_ne_17_060_20191129_15_04 //oit-nas-fe13dc.oit.duke.edu//data_commons-borsuk//verified/verified_state_year_image_name_formating/verify_1_josh_jaewon_amadu/chips_positive\\fl_60cm_2019_27082_m_2708212_ne_17_060_20191129_000380.jpg\n",
      "fl_60cm_2019_27082_m_2708212_ne_17_060_20191129_000381 /n m_2708212_ne_17_060_20191129_15_05 //oit-nas-fe13dc.oit.duke.edu//data_commons-borsuk//verified/verified_state_year_image_name_formating/verify_1_josh_jaewon_amadu/chips_positive\\fl_60cm_2019_27082_m_2708212_ne_17_060_20191129_000381.jpg\n",
      "fl_60cm_2019_27082_m_2708212_ne_17_060_20191129_000475 /n m_2708212_ne_17_060_20191129_18_24 //oit-nas-fe13dc.oit.duke.edu//data_commons-borsuk//verified/verified_state_year_image_name_formating/verify_1_josh_jaewon_amadu/chips_positive\\fl_60cm_2019_27082_m_2708212_ne_17_060_20191129_000475.jpg\n",
      "fl_60cm_2019_27082_m_2708212_ne_17_060_20191129_000500 /n m_2708212_ne_17_060_20191129_19_24 //oit-nas-fe13dc.oit.duke.edu//data_commons-borsuk//verified/verified_state_year_image_name_formating/verify_1_josh_jaewon_amadu/chips_positive\\fl_60cm_2019_27082_m_2708212_ne_17_060_20191129_000500.jpg\n"
     ]
    },
    {
     "name": "stderr",
     "output_type": "stream",
     "text": [
      "  1%|▏         | 27/2153 [13:38<22:35:43, 38.26s/it]"
     ]
    },
    {
     "name": "stdout",
     "output_type": "stream",
     "text": [
      "tx_060cm_2018_27097_m_2709712_sw_14_060_20181210_000083 /n m_2709712_sw_14_060_20181210_03_10 //oit-nas-fe13dc.oit.duke.edu//data_commons-borsuk//verified/verified_state_year_image_name_formating/verify_2_cleave_tang_poonacha/chips_positive\\tx_060cm_2018_27097_m_2709712_sw_14_060_20181210_000083.jpg\n",
      "tx_060cm_2018_27097_m_2709712_sw_14_060_20181210_000084 /n m_2709712_sw_14_060_20181210_03_11 //oit-nas-fe13dc.oit.duke.edu//data_commons-borsuk//verified/verified_state_year_image_name_formating/verify_2_cleave_tang_poonacha/chips_positive\\tx_060cm_2018_27097_m_2709712_sw_14_060_20181210_000084.jpg\n",
      "tx_060cm_2018_27097_m_2709712_sw_14_060_20181210_000491 /n m_2709712_sw_14_060_20181210_20_10 //oit-nas-fe13dc.oit.duke.edu//data_commons-borsuk//verified/verified_state_year_image_name_formating/verify_2_cleave_tang_poonacha/chips_positive\\tx_060cm_2018_27097_m_2709712_sw_14_060_20181210_000491.jpg\n"
     ]
    },
    {
     "name": "stderr",
     "output_type": "stream",
     "text": [
      "  2%|▏         | 35/2153 [19:43<19:53:29, 33.81s/it]\n"
     ]
    },
    {
     "ename": "KeyboardInterrupt",
     "evalue": "",
     "output_type": "error",
     "traceback": [
      "\u001b[1;31m---------------------------------------------------------------------------\u001b[0m",
      "\u001b[1;31mKeyboardInterrupt\u001b[0m                         Traceback (most recent call last)",
      "\u001b[1;32mC:\\Users\\RAPIDU~1\\AppData\\Local\\Temp/ipykernel_13296/3412249004.py\u001b[0m in \u001b[0;36m<module>\u001b[1;34m\u001b[0m\n\u001b[0;32m      4\u001b[0m \u001b[1;32mfor\u001b[0m \u001b[0mtile_name\u001b[0m \u001b[1;32min\u001b[0m \u001b[0mtqdm\u001b[0m\u001b[1;33m.\u001b[0m\u001b[0mtqdm\u001b[0m\u001b[1;33m(\u001b[0m\u001b[0mtile_names\u001b[0m\u001b[1;33m)\u001b[0m\u001b[1;33m:\u001b[0m\u001b[1;33m\u001b[0m\u001b[1;33m\u001b[0m\u001b[0m\n\u001b[0;32m      5\u001b[0m     \u001b[0mcompile_tile_dir\u001b[0m \u001b[1;33m=\u001b[0m \u001b[0mmake_by_tile_dirs\u001b[0m\u001b[1;33m(\u001b[0m\u001b[0mcompiled_by_tile_dir\u001b[0m\u001b[1;33m,\u001b[0m \u001b[0mtile_name\u001b[0m\u001b[1;33m)\u001b[0m\u001b[1;33m\u001b[0m\u001b[1;33m\u001b[0m\u001b[0m\n\u001b[1;32m----> 6\u001b[1;33m     \u001b[0mtile\u001b[0m\u001b[1;33m,\u001b[0m \u001b[0mrow_index\u001b[0m\u001b[1;33m,\u001b[0m \u001b[0mcol_index\u001b[0m \u001b[1;33m=\u001b[0m \u001b[0mread_tile\u001b[0m\u001b[1;33m(\u001b[0m\u001b[0mos\u001b[0m\u001b[1;33m.\u001b[0m\u001b[0mpath\u001b[0m\u001b[1;33m.\u001b[0m\u001b[0mjoin\u001b[0m\u001b[1;33m(\u001b[0m\u001b[0mtile_dir_path\u001b[0m\u001b[1;33m,\u001b[0m \u001b[0mtile_name\u001b[0m \u001b[1;33m+\u001b[0m \u001b[1;34m\".tif\"\u001b[0m\u001b[1;33m)\u001b[0m\u001b[1;33m)\u001b[0m \u001b[1;31m#read in tile\u001b[0m\u001b[1;33m\u001b[0m\u001b[1;33m\u001b[0m\u001b[0m\n\u001b[0m\u001b[0;32m      7\u001b[0m \u001b[1;33m\u001b[0m\u001b[0m\n\u001b[0;32m      8\u001b[0m     \u001b[0mimg_in_tile_paths\u001b[0m \u001b[1;33m=\u001b[0m \u001b[1;33m[\u001b[0m\u001b[0mstring\u001b[0m \u001b[1;32mfor\u001b[0m \u001b[0mstring\u001b[0m \u001b[1;32min\u001b[0m \u001b[0mimg_paths\u001b[0m \u001b[1;32mif\u001b[0m \u001b[0mtile_name\u001b[0m \u001b[1;32min\u001b[0m \u001b[0mstring\u001b[0m\u001b[1;33m]\u001b[0m\u001b[1;33m\u001b[0m\u001b[1;33m\u001b[0m\u001b[0m\n",
      "\u001b[1;32mC:\\Users\\RAPIDU~1\\AppData\\Local\\Temp/ipykernel_13296/2752799180.py\u001b[0m in \u001b[0;36mread_tile\u001b[1;34m(tile_path, item_dim)\u001b[0m\n\u001b[0;32m     50\u001b[0m \u001b[1;33m\u001b[0m\u001b[0m\n\u001b[0;32m     51\u001b[0m \u001b[1;32mdef\u001b[0m \u001b[0mread_tile\u001b[0m\u001b[1;33m(\u001b[0m\u001b[0mtile_path\u001b[0m\u001b[1;33m,\u001b[0m \u001b[0mitem_dim\u001b[0m \u001b[1;33m=\u001b[0m \u001b[0mint\u001b[0m\u001b[1;33m(\u001b[0m\u001b[1;36m512\u001b[0m\u001b[1;33m)\u001b[0m\u001b[1;33m)\u001b[0m\u001b[1;33m:\u001b[0m\u001b[1;33m\u001b[0m\u001b[1;33m\u001b[0m\u001b[0m\n\u001b[1;32m---> 52\u001b[1;33m     \u001b[0mtile\u001b[0m \u001b[1;33m=\u001b[0m \u001b[0mcv2\u001b[0m\u001b[1;33m.\u001b[0m\u001b[0mimread\u001b[0m\u001b[1;33m(\u001b[0m\u001b[0mtile_path\u001b[0m\u001b[1;33m,\u001b[0m \u001b[0mcv2\u001b[0m\u001b[1;33m.\u001b[0m\u001b[0mIMREAD_UNCHANGED\u001b[0m\u001b[1;33m)\u001b[0m\u001b[1;33m\u001b[0m\u001b[1;33m\u001b[0m\u001b[0m\n\u001b[0m\u001b[0;32m     53\u001b[0m     \u001b[0mtile_height\u001b[0m\u001b[1;33m,\u001b[0m  \u001b[0mtile_width\u001b[0m\u001b[1;33m,\u001b[0m  \u001b[0mtile_channels\u001b[0m \u001b[1;33m=\u001b[0m \u001b[0mtile\u001b[0m\u001b[1;33m.\u001b[0m\u001b[0mshape\u001b[0m \u001b[1;31m#the size of the tile\u001b[0m\u001b[1;33m\u001b[0m\u001b[1;33m\u001b[0m\u001b[0m\n\u001b[0;32m     54\u001b[0m     \u001b[0mrow_index\u001b[0m \u001b[1;33m=\u001b[0m \u001b[0mmath\u001b[0m\u001b[1;33m.\u001b[0m\u001b[0mceil\u001b[0m\u001b[1;33m(\u001b[0m\u001b[0mtile_height\u001b[0m\u001b[1;33m/\u001b[0m\u001b[0mitem_dim\u001b[0m\u001b[1;33m)\u001b[0m \u001b[1;31m#y\u001b[0m\u001b[1;33m\u001b[0m\u001b[1;33m\u001b[0m\u001b[0m\n",
      "\u001b[1;31mKeyboardInterrupt\u001b[0m: "
     ]
    }
   ],
   "source": [
    "img_count_state_year = 0\n",
    "img_count_standard = 0\n",
    "\n",
    "for tile_name in tqdm.tqdm(tile_names):\n",
    "    compile_tile_dir = make_by_tile_dirs(compiled_by_tile_dir, tile_name)\n",
    "    tile, row_index, col_index = read_tile(os.path.join(tile_dir_path, tile_name + \".tif\")) #read in tile\n",
    "    \n",
    "    img_in_tile_paths = [string for string in img_paths if tile_name in string]\n",
    "    xml_in_tile_paths = [string for string in xml_paths if tile_name in string]\n",
    "    img_in_tile_names = [string for string in img_names if tile_name in string]\n",
    "    \n",
    "    assert len(img_in_tile_paths) == len(xml_in_tile_paths) == len(img_in_tile_names), \"The same number of images and xmls\"\n",
    "    count = 1\n",
    "    for y in range(0, row_index): #rows #use row_index to account for the previous errors in state/year naming conventions\n",
    "        for x in range(0, row_index): #cols   \n",
    "            standard_quad_img_name_wo_ext = tile_name + '_' + f\"{y:02}\"  + '_' + f\"{x:02}\" # row_col\n",
    "            img_name_wo_ext = tile_name + '_'+ str(count).zfill(6) #specify the chip names\n",
    "            t_2_chip = tile_to_chip_array(tile, x, y, int(512)) #get correct chip from tile\n",
    "            img_count_state_year = compare_move_imgs_state_year(x, y, tile_name, count, img_count_state_year,\n",
    "                                                                img_in_tile_paths, xml_in_tile_paths, img_in_tile_names, \n",
    "                                                                compile_tile_dir, images_do_not_match_names_dir)\n",
    "            \n",
    "            img_count_standard = compare_move_imgs_standard(x, y, tile_name, img_count_standard, img_in_tile_paths, xml_in_tile_paths, img_in_tile_names,\n",
    "                                                            compile_tile_dir, correctly_chipped_incorrect_dir)\n",
    "            count += 1  \n",
    "            \n",
    "print(img_count_state_year, img_count_standard)"
   ]
  },
  {
   "cell_type": "code",
   "execution_count": 59,
   "id": "ee026594-7621-4cad-a4c8-c31a0163313b",
   "metadata": {},
   "outputs": [
    {
     "data": {
      "text/plain": [
       "15549"
      ]
     },
     "execution_count": 59,
     "metadata": {},
     "output_type": "execute_result"
    }
   ],
   "source": [
    "x = sorted(glob(compiled_by_tile_dir + \"/**/*.jpg\", recursive = True))\n",
    "len(x)"
   ]
  },
  {
   "cell_type": "code",
   "execution_count": 57,
   "id": "d039dd27-a0bd-4427-98f3-8f1e03dcf081",
   "metadata": {},
   "outputs": [
    {
     "data": {
      "text/plain": [
       "'//oit-nas-fe13dc.oit.duke.edu//data_commons-borsuk//compiled_dataset/compile_by_tile\\\\m_2908910_nw_16_060_20190707'"
      ]
     },
     "execution_count": 57,
     "metadata": {},
     "output_type": "execute_result"
    }
   ],
   "source": [
    "compile_tile_dir"
   ]
  }
 ],
 "metadata": {
  "kernelspec": {
   "display_name": "Chip Allocate",
   "language": "python",
   "name": "chip_allocate"
  },
  "language_info": {
   "codemirror_mode": {
    "name": "ipython",
    "version": 3
   },
   "file_extension": ".py",
   "mimetype": "text/x-python",
   "name": "python",
   "nbconvert_exporter": "python",
   "pygments_lexer": "ipython3",
   "version": "3.9.7"
  }
 },
 "nbformat": 4,
 "nbformat_minor": 5
}
