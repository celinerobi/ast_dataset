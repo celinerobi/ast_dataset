{
 "cells": [
  {
   "cell_type": "markdown",
   "id": "00f9ac84-0bf3-43c4-b644-0f18fd77cab8",
   "metadata": {
    "tags": []
   },
   "source": [
    "# Read Packages"
   ]
  },
  {
   "cell_type": "code",
   "execution_count": 5,
   "id": "d618d5c6-7b88-48e8-a2be-30f3d8483752",
   "metadata": {
    "tags": []
   },
   "outputs": [],
   "source": [
    "#Python Packages\n",
    "import os\n",
    "import math\n",
    "import copy\n",
    "from glob import glob\n",
    "import shutil\n",
    "import xml.dom.minidom\n",
    "from xml.dom.minidom import parseString\n",
    "import xml.etree.ElementTree as et\n",
    "from xml.dom import minidom\n",
    "\n",
    "#standard install\n",
    "import cv2\n",
    "import tqdm\n",
    "import numpy as np\n",
    "import pandas as pd\n",
    "import matplotlib \n",
    "import matplotlib.pyplot as plt\n",
    "from matplotlib.patches import Rectangle\n",
    "from skimage.metrics import structural_similarity as compare_ssim\n",
    "#Parsing/Modifying XML\n",
    "from lxml.etree import Element,SubElement,tostring\n",
    "\n",
    "import data_eng.az_proc as ap\n",
    "import data_eng.form_calcs as fc\n",
    "import data_eng.compare as compare"
   ]
  },
  {
   "cell_type": "code",
   "execution_count": 6,
   "outputs": [],
   "source": [
    "def compare_images_test(t_2_chip, labeled_img, scores):\n",
    "    gray_t_2_chip = cv2.cvtColor(t_2_chip.astype(np.uint8), cv2.COLOR_BGR2GRAY) # make gray\n",
    "    gray_labeled_image = cv2.cvtColor(labeled_img.astype(np.uint8), cv2.COLOR_BGR2GRAY) #image that has been chipped from tile\n",
    "\n",
    "    score = compare_ssim(gray_t_2_chip, gray_labeled_image, win_size = 3) #set window size so that is works on the edge peices\n",
    "    scores.append(score)\n",
    "    return(scores)\n",
    "\n",
    "def copy_and_replace_images_xml(img_name, img_path, xml_path, copy_dir):\n",
    "    ####\n",
    "    new_img_path = os.path.join(copy_dir, \"chips_positive\", img_name + \".jpg\")\n",
    "    shutil.copy(img_path, new_img_path)\n",
    "\n",
    "    new_xml_path = os.path.join(copy_dir, \"chips_positive_xml\", img_name + \".xml\")\n",
    "    shutil.copy(xml_path, new_xml_path) #destination\n",
    "\n",
    "\n",
    "def specify_compare_threshold(row_dim, col_dim, verified_img_name, correct_img_name):\n",
    "    if min(row_dim, col_dim) <= 25: #compare function has a minimum window set to 3 pixels\n",
    "        return 0.925\n",
    "    else:\n",
    "        if verified_img_name == correct_img_name:\n",
    "            return 0.875\n",
    "        else:\n",
    "            return 0.9\n",
    "\n",
    "\n",
    "def img_path_to_std_img_name(img_path):\n",
    "    img_name = os.path.splitext(os.path.basename(img_path))[0]\n",
    "    if img_name.count(\"_\") > 9:\n",
    "        std_img_name = img_name.split(\"_\",4)[-1] # state included in image name\n",
    "        return std_img_name\n",
    "    else:\n",
    "        return img_name\n",
    "\n",
    "\n",
    "def compare_imgs_wo_blk_pxls_state_yr_std_from_6_digit_xy_idxs_test(correct_img_wo_black_sq, correct_img_wo_black_sq_path,\n",
    "                                                                            compile_dir, state_year_six_digit_idx_list,\n",
    "                                                                            state_year_img_paths, state_year_xml_paths,\n",
    "                                                                            yx_list, standard_img_paths, standard_xml_paths):\n",
    "    #process correct img (wo black sq) info\n",
    "    correct_img_name = os.path.splitext(os.path.basename(correct_img_wo_black_sq_path))[0] #get correct img name\n",
    "    row_dim = correct_img_wo_black_sq.shape[0] #get row dim\n",
    "    col_dim = correct_img_wo_black_sq.shape[1] #get col dim\n",
    "\n",
    "\n",
    "    if min(row_dim, col_dim) >= 3:#compare function has a minimum window set to 3 pixels\n",
    "        tile_name, y, x, six_digit_idx = correct_img_name.rsplit(\"-\",3) #identify tile name and indicies from correct img name\n",
    "        by_tile_dir = os.path.join(compile_dir, tile_name) #sub folder for correct directory\n",
    "\n",
    "        #get standard and state idxs that match the correct img\n",
    "        state_idxs, = np.where(np.array(state_year_six_digit_idx_list) == six_digit_idx)\n",
    "        standard_idxs, = np.where((yx_list == (y, x)).all(axis=1))\n",
    "        #turn the y/x into integers\n",
    "        y = int(y)\n",
    "        x = int(x)\n",
    "        state_year_img_name_wo_ext = tile_name + '_' + six_digit_idx # (row_col) get standard and state_year img_names\n",
    "        standard_quad_img_name_wo_ext = tile_name + '_' + f\"{y:02}\"  + '_' + f\"{x:02}\" # (row_col) get standard and state_year img_names\n",
    "        #identify imgs/xmls that match the chip position (state imgs)\n",
    "        scores = []\n",
    "        compare_threshold = []\n",
    "        img_paths = []\n",
    "        xml_paths = []\n",
    "        for idx in state_idxs:\n",
    "            #get verified img/xml path\n",
    "            img_path = state_year_img_paths[idx]\n",
    "            xml_path = state_year_xml_paths[idx]\n",
    "            img_name = compare.img_path_to_std_img_name(img_path)\n",
    "            img = cv2.imread(img_path)\n",
    "            img = img[0:row_dim, 0:col_dim]\n",
    "\n",
    "            if (np.sum(img) != 0):\n",
    "                img_paths.append(img_path)\n",
    "                xml_paths.append(xml_path)\n",
    "                scores = compare_images_test(correct_img_wo_black_sq, img, scores) #only move images if they are not all black and they match the correct image\n",
    "                compare_threshold.append(specify_compare_threshold(row_dim, col_dim, img_name, state_year_img_name_wo_ext))\n",
    "        #identify imgs/xmls that match the chip position (standard imgs)\n",
    "        for idx in standard_idxs:\n",
    "            img_path = standard_img_paths[idx]\n",
    "            xml_path = standard_xml_paths[idx]\n",
    "            img_name = compare.img_path_to_std_img_name(img_path)\n",
    "            img = cv2.imread(img_path)\n",
    "            img = img[0:row_dim, 0:col_dim]\n",
    "\n",
    "            if (np.sum(img) != 0):\n",
    "                img_paths.append(img_path)\n",
    "                xml_paths.append(xml_path)\n",
    "                scores = compare_images_test(correct_img_wo_black_sq, img, scores) #only move images if they are not all black and they match the correct image\n",
    "                compare_threshold.append(specify_compare_threshold(row_dim, col_dim, img_name, standard_quad_img_name_wo_ext))\n",
    "\n",
    "        matches = pd.DataFrame(data={'scores': scores, 'compare_threshold': compare_threshold,\n",
    "                                     'img_paths': img_paths,'xml_paths': xml_paths})\n",
    "        match = matches.loc[matches['scores'] == max(scores)].iloc[0]\n",
    "        print(correct_img_name, row_dim, col_dim)\n",
    "        print(match[\"scores\"], match[\"compare_threshold\"])\n",
    "        print(match[\"img_paths\"], match[\"xml_paths\"])\n",
    "        if match[\"scores\"] > match[\"compare_threshold\"]:\n",
    "            print(\"match\")\n",
    "            #copy_and_replace_images_xml(standard_quad_img_name_wo_ext, match[\"img_paths\"], match[\"xml_paths\"], by_tile_dir) #use standard name and copy to compiled directory"
   ],
   "metadata": {
    "collapsed": false
   }
  },
  {
   "cell_type": "code",
   "execution_count": 30,
   "outputs": [],
   "source": [],
   "metadata": {
    "collapsed": false
   }
  },
  {
   "cell_type": "markdown",
   "source": [
    "python get_verified_img_parameters.py --verified_state_year_subfolders_path \\\\oit-nas-fe13dc.oit.duke.edu\\\\data_commons-borsuk\\\\verified\\verified_state_year_image_name_formating --verified_standard_quad_subfolders_path \\\\oit-nas-fe13dc.oit.duke.edu\\\\data_commons-borsuk\\\\verified\\verified_standard_quad_image_name_format  --param_directory \\\\oit-nas-fe13dc.oit.duke.edu\\\\data_commons-borsuk\\\\params"
   ],
   "metadata": {
    "collapsed": false
   }
  },
  {
   "cell_type": "markdown",
   "source": [
    "python make_tile_dir_get_correct_imgs.py --tile_name m_4208431_sw_16_060_20180707 --compile_dir \\\\oit-nas-fe13dc.oit.duke.edu\\\\data_commons-borsuk\\\\compile_dir --tile_dir_path \\\\oit-nas-fe13dc.oit.duke.edu\\\\data_commons-borsuk\\\\complete_dataset_\\tiles"
   ],
   "metadata": {
    "collapsed": false
   }
  },
  {
   "cell_type": "markdown",
   "source": [
    "python compare_imgs_by_tile.py --by_tile_correct_chips_wo_black_sq_dir_path \\\\oit-nas-fe13dc.oit.duke.edu\\\\data_commons-borsuk\\\\compile_dir\\\\m_4007203_ne_18_060_20190811\\chips_wo_black --compile_dir \\\\oit-nas-fe13dc.oit.duke.edu\\\\data_commons-borsuk\\\\compile_dir --param_directory \\\\oit-nas-fe13dc.oit.duke.edu\\\\data_commons-borsuk\\\\params"
   ],
   "metadata": {
    "collapsed": false
   }
  },
  {
   "cell_type": "markdown",
   "source": [
    "python /hpc/home/csr33/AST_dataset/data_download_and_preprocessing/compare_imgs_by_tile_test.py --by_tile_correct_chips_wo_black_sq_dir /hpc/group/borsuklab/csr33/verifying_images_working_dir/compile_dir/m_4007203_ne_18_060_20190811/chips_wo_black --compile_dir /hpc/group/borsuklab/csr33/verifying_images_working_dir/compile_dir/ --param_directory /hpc/group/borsuklab/csr33/verifying_images_working_dir/param_dir\n",
    "\n"
   ],
   "metadata": {
    "collapsed": false
   }
  },
  {
   "cell_type": "markdown",
   "source": [
    "python compare_imgs_by_tile_test.py --by_tile_correct_chips_wo_black_sq_dir \\\\oit-nas-fe13dc.oit.duke.edu\\\\data_commons-borsuk\\\\compile_dir\\\\m_4208431_sw_16_060_20180707\\chips_wo_black --compile_dir \\\\oit-nas-fe13dc.oit.duke.edu\\\\data_commons-borsuk\\\\compile_dir --param_directory \\\\oit-nas-fe13dc.oit.duke.edu\\\\data_commons-borsuk\\\\params"
   ],
   "metadata": {
    "collapsed": false
   }
  },
  {
   "cell_type": "code",
   "execution_count": 28,
   "outputs": [
    {
     "name": "stdout",
     "output_type": "stream",
     "text": [
      "m_4108534_sw_16_060_20180708_000127\n",
      "m_2909515_se_15_060_20201130_07_04\n"
     ]
    }
   ],
   "source": [
    "s = \"\\\\oit-nas-fe13dc.oit.duke.edu\\\\data_commons-borsuk\\\\verified\\verified_state_year_image_name_formating/verify_2_Tang_Niculescu_Cleave/chips_positive\\in_060cm_2018_41085_m_4108534_sw_16_060_20180708_000127.jpg\"\n",
    "d=\"\\\\oit-nas-fe13dc.oit.duke.edu\\\\data_commons-borsuk\\\\verified\\verified_standard_quad_image_name_format\\verify_Cleave_Sunny_Niculescu_7\\chips_positive\\m_2909515_se_15_060_20201130_07_04.jpg\"\n",
    "s.rsplit(\"_\",3)\n",
    "os.path.basename(s).split(\"_\",4)\n",
    "\n",
    "\n",
    "img_path_to_std_img_name(s)\n",
    "img_path_to_std_img_name(d)"
   ],
   "metadata": {
    "collapsed": false
   }
  },
  {
   "cell_type": "markdown",
   "id": "194823cc-96cf-48c3-a670-5fc3dc51e427",
   "metadata": {
    "tags": []
   },
   "source": [
    "# Read in Files "
   ]
  },
  {
   "cell_type": "code",
   "execution_count": 7,
   "id": "3c71f28d-95cb-4b86-aed3-1f506e436c07",
   "metadata": {
    "collapsed": true,
    "jupyter": {
     "outputs_hidden": true
    },
    "tags": []
   },
   "outputs": [],
   "source": [
    "parent_directory = \"//oit-nas-fe13dc.oit.duke.edu//data_commons-borsuk//\"\n",
    "tile_dir = os.path.join(parent_directory,\"complete_dataset_\",\"tiles\")\n",
    "#https://stackoverflow.com/questions/5953373/how-to-split-image-into-multiple-pieces-in-python"
   ]
  },
  {
   "cell_type": "code",
   "execution_count": 8,
   "id": "f4d762ff-ab00-43ca-8e94-66b9ff1d8b94",
   "metadata": {},
   "outputs": [],
   "source": [
    "tile_name = \"m_4812237_ne_10_060_20190806\"\n",
    "# m_4007203_ne_18_060_20190811\n",
    "param_directory = \"//oit-nas-fe13dc.oit.duke.edu//data_commons-borsuk//params\"\n",
    "compile_dir = \"//oit-nas-fe13dc.oit.duke.edu//data_commons-borsuk//compile_dir\"\n",
    "by_tile_correct_chips_w_black_sq_dir = os.path.join(compile_dir, tile_name, \"chips\")\n",
    "by_tile_correct_chips_wo_black_sq_dir = os.path.join(compile_dir, tile_name, \"chips_wo_black\")\n",
    "os.makedirs(by_tile_correct_chips_w_black_sq_dir, exist_ok=True)\n",
    "os.makedirs(by_tile_correct_chips_wo_black_sq_dir, exist_ok=True)"
   ]
  },
  {
   "cell_type": "code",
   "execution_count": null,
   "outputs": [],
   "source": [
    "compare.make_tile_dir_and_get_correct_imgs_w_and_wo_black_sq(tile_name, compile_dir, tile_dir,\n",
    "                                                            by_tile_correct_chips_w_black_sq_dir,\n",
    "                                                            by_tile_correct_chips_wo_black_sq_dir)\n",
    "fc.remove_thumbs(by_tile_correct_chips_wo_black_sq_dir)"
   ],
   "metadata": {
    "collapsed": false,
    "pycharm": {
     "is_executing": true
    }
   }
  },
  {
   "cell_type": "code",
   "execution_count": 9,
   "id": "a6eaef2c-637f-42cb-85a2-722df6b5e1b1",
   "metadata": {},
   "outputs": [],
   "source": [
    "state_year_img_paths = fc.read_list(os.path.join(param_directory,\"state_year_img_paths.json\"))\n",
    "state_year_xml_paths = fc.read_list(os.path.join(param_directory,\"state_year_xml_paths.json\"))\n",
    "state_year_six_digit_idx_list = fc.read_list(os.path.join(param_directory,\"state_year_six_digit_idx_list.json\"))\n",
    "standard_img_paths = fc.read_list(os.path.join(param_directory,\"standard_img_paths.json\"))\n",
    "standard_xml_paths = fc.read_list(os.path.join(param_directory,\"standard_xml_paths.json\"))\n",
    "yx_array = np.load(os.path.join(param_directory,\"yx_array.npy\"))"
   ]
  },
  {
   "cell_type": "code",
   "execution_count": null,
   "id": "89d197bf-841a-4319-84fc-c7fdc75c66c9",
   "metadata": {
    "collapsed": true,
    "jupyter": {
     "outputs_hidden": true
    },
    "tags": [],
    "pycharm": {
     "is_executing": true
    }
   },
   "outputs": [
    {
     "name": "stdout",
     "output_type": "stream",
     "text": [
      "424\n",
      "m_4812237_ne_10_060_20190806-00-00-000001 512 512\n",
      "0.6153212067079634 0.9\n",
      "\\\\oit-nas-fe13dc.oit.duke.edu\\\\data_commons-borsuk\\\\verified\\verified_state_year_image_name_formating/verify_1_jaewon_james_poonacha/chips_positive\\ok_60cm_2019_35099_m_3509913_sw_14_060_20190627_000001.jpg \\\\oit-nas-fe13dc.oit.duke.edu\\\\data_commons-borsuk\\\\verified\\verified_state_year_image_name_formating/verify_1_jaewon_james_poonacha/chips_positive_xml\\ok_60cm_2019_35099_m_3509913_sw_14_060_20190627_000001.xml\n",
      "m_4812237_ne_10_060_20190806-00-01-000002 512 512\n",
      "0.8947678067560674 0.875\n",
      "\\\\oit-nas-fe13dc.oit.duke.edu\\\\data_commons-borsuk\\\\verified\\verified_state_year_image_name_formating/verify_1_jaewon_poonacha_cleave/chips_positive\\wa_60cm_2019_48122_m_4812237_ne_10_060_20190806_000002.jpg \\\\oit-nas-fe13dc.oit.duke.edu\\\\data_commons-borsuk\\\\verified\\verified_state_year_image_name_formating/verify_1_jaewon_poonacha_cleave/chips_positive_xml\\wa_60cm_2019_48122_m_4812237_ne_10_060_20190806_000002.xml\n",
      "match\n",
      "m_4812237_ne_10_060_20190806-00-02-000003 512 512\n",
      "0.559638026600085 0.9\n",
      "\\\\oit-nas-fe13dc.oit.duke.edu\\\\data_commons-borsuk\\\\verified\\verified_state_year_image_name_formating/verify_2_sunny_cleave_poonacha/chips_positive\\ne_060cm_2018_42097_m_4209761_ne_14_060_20180829_000003.jpg \\\\oit-nas-fe13dc.oit.duke.edu\\\\data_commons-borsuk\\\\verified\\verified_state_year_image_name_formating/verify_2_sunny_cleave_poonacha/chips_positive_xml\\ne_060cm_2018_42097_m_4209761_ne_14_060_20180829_000003.xml\n",
      "m_4812237_ne_10_060_20190806-00-03-000004 512 512\n",
      "0.38561419805307323 0.9\n",
      "\\\\oit-nas-fe13dc.oit.duke.edu\\\\data_commons-borsuk\\\\verified\\verified_state_year_image_name_formating/verify_1_josh_poonacha_sunny/chips_positive\\ok_60cm_2019_34097_m_3409710_se_14_060_20190628_000004.jpg \\\\oit-nas-fe13dc.oit.duke.edu\\\\data_commons-borsuk\\\\verified\\verified_state_year_image_name_formating/verify_1_josh_poonacha_sunny/chips_positive_xml\\ok_60cm_2019_34097_m_3409710_se_14_060_20190628_000004.xml\n",
      "m_4812237_ne_10_060_20190806-00-04-000005 512 512\n",
      "0.4440045941613804 0.9\n",
      "\\\\oit-nas-fe13dc.oit.duke.edu\\\\data_commons-borsuk\\\\verified\\verified_state_year_image_name_formating/verify_1_jaewon_james_poonacha/chips_positive\\ok_60cm_2019_35098_m_3509846_se_14_060_20190629_000005.jpg \\\\oit-nas-fe13dc.oit.duke.edu\\\\data_commons-borsuk\\\\verified\\verified_state_year_image_name_formating/verify_1_jaewon_james_poonacha/chips_positive_xml\\ok_60cm_2019_35098_m_3509846_se_14_060_20190629_000005.xml\n",
      "m_4812237_ne_10_060_20190806-00-05-000006 512 512\n",
      "0.3798332034706539 0.9\n",
      "\\\\oit-nas-fe13dc.oit.duke.edu\\\\data_commons-borsuk\\\\verified\\verified_state_year_image_name_formating/verify_1_jaewon_poonacha_cleave/chips_positive\\il_60cm_2019_39087_m_3908759_sw_16_060_20190805_000006.jpg \\\\oit-nas-fe13dc.oit.duke.edu\\\\data_commons-borsuk\\\\verified\\verified_state_year_image_name_formating/verify_1_jaewon_poonacha_cleave/chips_positive_xml\\il_60cm_2019_39087_m_3908759_sw_16_060_20190805_000006.xml\n",
      "m_4812237_ne_10_060_20190806-00-06-000007 512 512\n",
      "0.3802886044721013 0.9\n",
      "\\\\oit-nas-fe13dc.oit.duke.edu\\\\data_commons-borsuk\\\\verified\\verified_state_year_image_name_formating/verify_1_jaewon_james_poonacha/chips_positive\\ok_60cm_2019_35099_m_3509942_nw_14_060_20190626_000007.jpg \\\\oit-nas-fe13dc.oit.duke.edu\\\\data_commons-borsuk\\\\verified\\verified_state_year_image_name_formating/verify_1_jaewon_james_poonacha/chips_positive_xml\\ok_60cm_2019_35099_m_3509942_nw_14_060_20190626_000007.xml\n",
      "m_4812237_ne_10_060_20190806-00-07-000008 512 512\n",
      "0.48629937508186843 0.9\n",
      "\\\\oit-nas-fe13dc.oit.duke.edu\\\\data_commons-borsuk\\\\verified\\verified_state_year_image_name_formating/verify_1_josh_poonacha_sunny/chips_positive\\ks_60cm_2019_38098_m_3809818_se_14_060_20190713_000008.jpg \\\\oit-nas-fe13dc.oit.duke.edu\\\\data_commons-borsuk\\\\verified\\verified_state_year_image_name_formating/verify_1_josh_poonacha_sunny/chips_positive_xml\\ks_60cm_2019_38098_m_3809818_se_14_060_20190713_000008.xml\n",
      "m_4812237_ne_10_060_20190806-00-08-000009 512 512\n",
      "0.4795965744197943 0.9\n",
      "\\\\oit-nas-fe13dc.oit.duke.edu\\\\data_commons-borsuk\\\\verified\\verified_state_year_image_name_formating/verify_2_cleave_tang_poonacha/chips_positive\\tx_060cm_2018_33098_m_3309805_se_14_060_20181027_000009.jpg \\\\oit-nas-fe13dc.oit.duke.edu\\\\data_commons-borsuk\\\\verified\\verified_state_year_image_name_formating/verify_2_cleave_tang_poonacha/chips_positive_xml\\tx_060cm_2018_33098_m_3309805_se_14_060_20181027_000009.xml\n",
      "m_4812237_ne_10_060_20190806-00-09-000010 512 512\n",
      "0.5170189561590444 0.9\n",
      "\\\\oit-nas-fe13dc.oit.duke.edu\\\\data_commons-borsuk\\\\verified\\verified_state_year_image_name_formating/verify_1_josh_poonacha_sunny/chips_positive\\il_60cm_2019_38090_m_3809016_ne_15_060_20190923_000010.jpg \\\\oit-nas-fe13dc.oit.duke.edu\\\\data_commons-borsuk\\\\verified\\verified_state_year_image_name_formating/verify_1_josh_poonacha_sunny/chips_positive_xml\\il_60cm_2019_38090_m_3809016_ne_15_060_20190923_000010.xml\n"
     ]
    }
   ],
   "source": [
    "by_tile_correct_chips_wo_black_sq_dir_paths = sorted(glob(by_tile_correct_chips_wo_black_sq_dir + \"/*.jpg\", recursive = True))\n",
    "print(len(by_tile_correct_chips_wo_black_sq_dir_paths))\n",
    "\n",
    "for by_tile_correct_chips_wo_black_sq_dir_path in by_tile_correct_chips_wo_black_sq_dir_paths:\n",
    "    correct_img_wo_black_sq = cv2.imread(by_tile_correct_chips_wo_black_sq_dir_path)\n",
    "    if np.sum(correct_img_wo_black_sq) != 0:\n",
    "        compare_imgs_wo_blk_pxls_state_yr_std_from_6_digit_xy_idxs_test(correct_img_wo_black_sq, by_tile_correct_chips_wo_black_sq_dir_path,\n",
    "                                                                   compile_dir, state_year_six_digit_idx_list,\n",
    "                                                                      state_year_img_paths, state_year_xml_paths,\n",
    "                                                                      yx_array, standard_img_paths, standard_xml_paths)\n",
    "    else:\n",
    "        print(\"0x\")"
   ]
  },
  {
   "cell_type": "markdown",
   "id": "13445e93-da03-4fd1-9d96-e162569dac20",
   "metadata": {
    "tags": []
   },
   "source": [
    "# Functions"
   ]
  },
  {
   "cell_type": "markdown",
   "id": "115c886f-c62f-4ca5-bc79-4e3e56822226",
   "metadata": {
    "tags": []
   },
   "source": [
    "# "
   ]
  },
  {
   "cell_type": "code",
   "execution_count": 5,
   "id": "f7d4933e-b47e-4e80-b932-0de7d97167da",
   "metadata": {},
   "outputs": [
    {
     "name": "stderr",
     "output_type": "stream",
     "text": [
      "100%|██████████████████████████████████████████████████████████████████████████████████| 23/23 [00:06<00:00,  3.37it/s]\n",
      "100%|██████████████████████████████████████████████████████████████████████████████████| 16/16 [00:05<00:00,  2.78it/s]\n",
      "100%|████████████████████████████████████████████████████████████████████████████████████| 7/7 [00:01<00:00,  6.57it/s]\n"
     ]
    }
   ],
   "source": [
    "all_verified_paths = np.concatenate((all_verified_state_year_subfolders_path, all_verified_standard_quad_subfolders_path))\n",
    "all_img_paths, all_xml_paths = fc.get_img_xml_paths(all_verified_paths)\n",
    "all_tile_names, all_img_names = fc.get_tile_names(all_img_paths) #identify tiles in each folder\n",
    "all_tile_names = np.unique(all_tile_names)\n",
    "\n",
    "fc.write_list(all_img_paths, os.path.join(args.directory, \"all_img_paths.json\"))\n",
    "fc.write_list(all_xml_paths, os.path.join(args.directory, \"all_xml_paths.json\"))\n",
    "fc.write_list(all_img_names, os.path.join(args.directory, \"all_img_names.json\"))\n"
   ]
  },
  {
   "cell_type": "code",
   "execution_count": 14,
   "outputs": [],
   "source": [
    "compile_by_tile_dir = os.path.join(parent_directory,\"compile_dir\")\n",
    "tile_names = sorted(os.listdir(compile_by_tile_dir))\n",
    "rename_x_y_index_named_chips(compile_by_tile_dir, tile_names)"
   ],
   "metadata": {
    "collapsed": false
   }
  },
  {
   "cell_type": "code",
   "execution_count": null,
   "id": "e1acfe8b-f6fd-46d8-b3c9-f7a42be68c49",
   "metadata": {},
   "outputs": [],
   "source": [
    "os.path.join(parent_directory,\"compile_dir/m_4812237_ne_10_060_20190806/chips/m_4812237_ne_10_060_20190806_24_06.jpg\")"
   ]
  },
  {
   "cell_type": "code",
   "execution_count": 22,
   "id": "db136ccf-974e-4f4b-b6e0-530dcf51a00d",
   "metadata": {},
   "outputs": [],
   "source": [
    "(score, diff) = compare_ssim(cv2.cvtColor(cv2.imread(os.path.join(parent_directory,\n",
    "                                                     \"compile_dir/m_4812237_ne_10_060_20190806/chips_positive/m_4812237_ne_10_060_20190806_24_06.jpg\")), cv2.COLOR_BGR2GRAY),\n",
    "                             cv2.cvtColor(cv2.imread(os.path.join(parent_directory,\n",
    "                                                     \"compile_dir/m_4812237_ne_10_060_20190806/chips/m_4812237_ne_10_060_20190806_24_06.jpg\")), cv2.COLOR_BGR2GRAY),\n",
    "                             full=True)#,multichannel=True)"
   ]
  },
  {
   "cell_type": "markdown",
   "source": [],
   "metadata": {
    "collapsed": false
   }
  },
  {
   "cell_type": "code",
   "execution_count": 101,
   "id": "be56a9a8-60d7-48e0-abdd-a023e9c4286c",
   "metadata": {},
   "outputs": [
    {
     "data": {
      "text/plain": [
       "(22, 512)"
      ]
     },
     "execution_count": 101,
     "metadata": {},
     "output_type": "execute_result"
    },
    {
     "data": {
      "image/png": "[encoded data removed]",
      "text/plain": [
       "<Figure size 432x288 with 1 Axes>"
      ]
     },
     "metadata": {
      "needs_background": "light"
     },
     "output_type": "display_data"
    }
   ],
   "source": [
    "z= cv2.cvtColor(cv2.imread(os.path.join(parent_directory, \"compile_dir/m_4812237_ne_10_060_20190806/chips/m_4812237_ne_10_060_20190806_24_06.jpg\")),\n",
    "                cv2.COLOR_BGR2GRAY)#,multichannel=True)\n",
    "a = z[np.where((z != np.array(([0]*512)) ).all(axis=1))[0]]\n",
    "plt.imshow(a)\n",
    "a.shape"
   ]
  },
  {
   "cell_type": "code",
   "execution_count": null,
   "id": "05bbca77-5ee9-4811-9af8-39377379a082",
   "metadata": {},
   "outputs": [],
   "source": [
    "x= cv2.cvtColor(cv2.imread(os.path.join(parent_directory, \"compile_dir/m_4007203_ne_18_060_20190811/chips_positive/m_4007203_ne_18_060_20190811_01_19.jpg\")),\n",
    "                cv2.COLOR_BGR2GRAY)#,multichannel=True)plt.imshow(x[:23,:])\n",
    "plt.imshow(x)"
   ]
  },
  {
   "cell_type": "code",
   "execution_count": 107,
   "id": "9e876e53-07f1-413c-9fc5-41c90bcda37e",
   "metadata": {},
   "outputs": [
    {
     "ename": "ValueError",
     "evalue": "Input images must have the same dimensions.",
     "output_type": "error",
     "traceback": [
      "\u001B[1;31m---------------------------------------------------------------------------\u001B[0m",
      "\u001B[1;31mValueError\u001B[0m                                Traceback (most recent call last)",
      "\u001B[1;32mC:\\Users\\RAPIDU~1\\AppData\\Local\\Temp/ipykernel_9412/1576878749.py\u001B[0m in \u001B[0;36m<module>\u001B[1;34m\u001B[0m\n\u001B[1;32m----> 1\u001B[1;33m \u001B[1;33m(\u001B[0m\u001B[0mscore\u001B[0m\u001B[1;33m,\u001B[0m \u001B[0mdiff\u001B[0m\u001B[1;33m)\u001B[0m \u001B[1;33m=\u001B[0m \u001B[0mcompare_ssim\u001B[0m\u001B[1;33m(\u001B[0m\u001B[0my\u001B[0m\u001B[1;33m,\u001B[0m\u001B[0mx\u001B[0m\u001B[1;33m,\u001B[0m\u001B[0mfull\u001B[0m\u001B[1;33m=\u001B[0m\u001B[1;32mTrue\u001B[0m\u001B[1;33m)\u001B[0m\u001B[1;31m#,multichannel=True)\u001B[0m\u001B[1;33m\u001B[0m\u001B[1;33m\u001B[0m\u001B[0m\n\u001B[0m",
      "\u001B[1;32mC:\\ProgramData\\Anaconda3\\envs\\chip_allocate\\lib\\site-packages\\skimage\\metrics\\_structural_similarity.py\u001B[0m in \u001B[0;36mstructural_similarity\u001B[1;34m(im1, im2, win_size, gradient, data_range, multichannel, gaussian_weights, full, **kwargs)\u001B[0m\n\u001B[0;32m     87\u001B[0m \u001B[1;33m\u001B[0m\u001B[0m\n\u001B[0;32m     88\u001B[0m     \"\"\"\n\u001B[1;32m---> 89\u001B[1;33m     \u001B[0mcheck_shape_equality\u001B[0m\u001B[1;33m(\u001B[0m\u001B[0mim1\u001B[0m\u001B[1;33m,\u001B[0m \u001B[0mim2\u001B[0m\u001B[1;33m)\u001B[0m\u001B[1;33m\u001B[0m\u001B[1;33m\u001B[0m\u001B[0m\n\u001B[0m\u001B[0;32m     90\u001B[0m \u001B[1;33m\u001B[0m\u001B[0m\n\u001B[0;32m     91\u001B[0m     \u001B[1;32mif\u001B[0m \u001B[0mmultichannel\u001B[0m\u001B[1;33m:\u001B[0m\u001B[1;33m\u001B[0m\u001B[1;33m\u001B[0m\u001B[0m\n",
      "\u001B[1;32mC:\\ProgramData\\Anaconda3\\envs\\chip_allocate\\lib\\site-packages\\skimage\\_shared\\utils.py\u001B[0m in \u001B[0;36mcheck_shape_equality\u001B[1;34m(im1, im2)\u001B[0m\n\u001B[0;32m    155\u001B[0m     \u001B[1;34m\"\"\"Raise an error if the shape do not match.\"\"\"\u001B[0m\u001B[1;33m\u001B[0m\u001B[1;33m\u001B[0m\u001B[0m\n\u001B[0;32m    156\u001B[0m     \u001B[1;32mif\u001B[0m \u001B[1;32mnot\u001B[0m \u001B[0mim1\u001B[0m\u001B[1;33m.\u001B[0m\u001B[0mshape\u001B[0m \u001B[1;33m==\u001B[0m \u001B[0mim2\u001B[0m\u001B[1;33m.\u001B[0m\u001B[0mshape\u001B[0m\u001B[1;33m:\u001B[0m\u001B[1;33m\u001B[0m\u001B[1;33m\u001B[0m\u001B[0m\n\u001B[1;32m--> 157\u001B[1;33m         \u001B[1;32mraise\u001B[0m \u001B[0mValueError\u001B[0m\u001B[1;33m(\u001B[0m\u001B[1;34m'Input images must have the same dimensions.'\u001B[0m\u001B[1;33m)\u001B[0m\u001B[1;33m\u001B[0m\u001B[1;33m\u001B[0m\u001B[0m\n\u001B[0m\u001B[0;32m    158\u001B[0m     \u001B[1;32mreturn\u001B[0m\u001B[1;33m\u001B[0m\u001B[1;33m\u001B[0m\u001B[0m\n\u001B[0;32m    159\u001B[0m \u001B[1;33m\u001B[0m\u001B[0m\n",
      "\u001B[1;31mValueError\u001B[0m: Input images must have the same dimensions."
     ]
    }
   ],
   "source": [
    "(score, diff) = compare_ssim(y,x,full=True)#,multichannel=True)"
   ]
  },
  {
   "cell_type": "code",
   "execution_count": null,
   "id": "4e84a822-a919-4d57-bc5b-f226f74ed176",
   "metadata": {},
   "outputs": [],
   "source": [
    "make_tile_dir_and_get_correct_imgs(tile_name, compile_dir_path, tile_dir_path)"
   ]
  },
  {
   "cell_type": "code",
   "execution_count": 138,
   "id": "2b124225-169f-4b96-8025-96d16064f9ac",
   "metadata": {},
   "outputs": [
    {
     "data": {
      "text/plain": [
       "numpy.ndarray"
      ]
     },
     "execution_count": 138,
     "metadata": {},
     "output_type": "execute_result"
    }
   ],
   "source": [
    "- make array\n",
    "- save all scores,\n",
    "- where score is greatest, move value\n",
    "\n",
    "- if score is 1 move"
   ]
  },
  {
   "cell_type": "code",
   "execution_count": 166,
   "id": "9cc457aa-7558-412e-99f1-ae16e4bb856b",
   "metadata": {
    "tags": []
   },
   "outputs": [
    {
     "name": "stderr",
     "output_type": "stream",
     "text": [
      "  1%|█                                                                              | 11/803 [04:12<5:03:35, 23.00s/it]\n"
     ]
    },
    {
     "ename": "KeyboardInterrupt",
     "evalue": "",
     "output_type": "error",
     "traceback": [
      "\u001B[1;31m---------------------------------------------------------------------------\u001B[0m",
      "\u001B[1;31mKeyboardInterrupt\u001B[0m                         Traceback (most recent call last)",
      "\u001B[1;32mC:\\Users\\RAPIDU~1\\AppData\\Local\\Temp/ipykernel_9412/2110422648.py\u001B[0m in \u001B[0;36m<module>\u001B[1;34m\u001B[0m\n\u001B[0;32m      1\u001B[0m \u001B[1;32mfor\u001B[0m \u001B[0mtile_name\u001B[0m \u001B[1;32min\u001B[0m \u001B[0mtqdm\u001B[0m\u001B[1;33m.\u001B[0m\u001B[0mtqdm\u001B[0m\u001B[1;33m(\u001B[0m\u001B[0msorted\u001B[0m\u001B[1;33m(\u001B[0m\u001B[0mos\u001B[0m\u001B[1;33m.\u001B[0m\u001B[0mlistdir\u001B[0m\u001B[1;33m(\u001B[0m\u001B[0mtile_4_dir_path\u001B[0m\u001B[1;33m)\u001B[0m\u001B[1;33m)\u001B[0m\u001B[1;33m)\u001B[0m\u001B[1;33m:\u001B[0m\u001B[1;33m\u001B[0m\u001B[1;33m\u001B[0m\u001B[0m\n\u001B[0;32m      2\u001B[0m     \u001B[0mtile_name\u001B[0m \u001B[1;33m=\u001B[0m \u001B[0mos\u001B[0m\u001B[1;33m.\u001B[0m\u001B[0mpath\u001B[0m\u001B[1;33m.\u001B[0m\u001B[0msplitext\u001B[0m\u001B[1;33m(\u001B[0m\u001B[0mtile_name\u001B[0m\u001B[1;33m)\u001B[0m\u001B[1;33m[\u001B[0m\u001B[1;36m0\u001B[0m\u001B[1;33m]\u001B[0m\u001B[1;33m\u001B[0m\u001B[1;33m\u001B[0m\u001B[0m\n\u001B[1;32m----> 3\u001B[1;33m     \u001B[0mmake_tile_dir_and_get_correct_imgs_wo_black\u001B[0m\u001B[1;33m(\u001B[0m\u001B[0mtile_name\u001B[0m\u001B[1;33m,\u001B[0m \u001B[0mtake_2\u001B[0m\u001B[1;33m,\u001B[0m \u001B[0mtile_4_dir_path\u001B[0m\u001B[1;33m)\u001B[0m\u001B[1;33m\u001B[0m\u001B[1;33m\u001B[0m\u001B[0m\n\u001B[0m",
      "\u001B[1;32mC:\\Users\\RAPIDU~1\\AppData\\Local\\Temp/ipykernel_9412/3448748460.py\u001B[0m in \u001B[0;36mmake_tile_dir_and_get_correct_imgs_wo_black\u001B[1;34m(tile_name, compile_dir_path, tile_dir_path)\u001B[0m\n\u001B[0;32m      1\u001B[0m \u001B[1;32mdef\u001B[0m \u001B[0mmake_tile_dir_and_get_correct_imgs_wo_black\u001B[0m\u001B[1;33m(\u001B[0m\u001B[0mtile_name\u001B[0m\u001B[1;33m,\u001B[0m \u001B[0mcompile_dir_path\u001B[0m\u001B[1;33m,\u001B[0m \u001B[0mtile_dir_path\u001B[0m\u001B[1;33m)\u001B[0m\u001B[1;33m:\u001B[0m\u001B[1;33m\u001B[0m\u001B[1;33m\u001B[0m\u001B[0m\n\u001B[0;32m      2\u001B[0m     \u001B[0mcompile_tile_dir\u001B[0m \u001B[1;33m=\u001B[0m \u001B[0mfc\u001B[0m\u001B[1;33m.\u001B[0m\u001B[0mmake_by_tile_dirs\u001B[0m\u001B[1;33m(\u001B[0m\u001B[0mcompile_dir_path\u001B[0m\u001B[1;33m,\u001B[0m \u001B[0mtile_name\u001B[0m\u001B[1;33m)\u001B[0m \u001B[1;31m#make directory to store positive chips and xmls\u001B[0m\u001B[1;33m\u001B[0m\u001B[1;33m\u001B[0m\u001B[0m\n\u001B[1;32m----> 3\u001B[1;33m     \u001B[0mtile\u001B[0m\u001B[1;33m,\u001B[0m \u001B[0mrow_index\u001B[0m\u001B[1;33m,\u001B[0m \u001B[0mcol_index\u001B[0m \u001B[1;33m=\u001B[0m \u001B[0mfc\u001B[0m\u001B[1;33m.\u001B[0m\u001B[0mread_tile\u001B[0m\u001B[1;33m(\u001B[0m\u001B[0mos\u001B[0m\u001B[1;33m.\u001B[0m\u001B[0mpath\u001B[0m\u001B[1;33m.\u001B[0m\u001B[0mjoin\u001B[0m\u001B[1;33m(\u001B[0m\u001B[0mtile_dir_path\u001B[0m\u001B[1;33m,\u001B[0m \u001B[0mtile_name\u001B[0m \u001B[1;33m+\u001B[0m \u001B[1;34m\".tif\"\u001B[0m\u001B[1;33m)\u001B[0m\u001B[1;33m)\u001B[0m \u001B[1;31m#read in tile\u001B[0m\u001B[1;33m\u001B[0m\u001B[1;33m\u001B[0m\u001B[0m\n\u001B[0m\u001B[0;32m      4\u001B[0m \u001B[1;33m\u001B[0m\u001B[0m\n\u001B[0;32m      5\u001B[0m     \u001B[0mcorrect_chip_dir_path\u001B[0m \u001B[1;33m=\u001B[0m \u001B[0mos\u001B[0m\u001B[1;33m.\u001B[0m\u001B[0mpath\u001B[0m\u001B[1;33m.\u001B[0m\u001B[0mjoin\u001B[0m\u001B[1;33m(\u001B[0m\u001B[0mcompile_tile_dir\u001B[0m\u001B[1;33m,\u001B[0m \u001B[1;34m\"chips\"\u001B[0m\u001B[1;33m)\u001B[0m\u001B[1;33m\u001B[0m\u001B[1;33m\u001B[0m\u001B[0m\n",
      "\u001B[1;32m~\\cred\\AST_dataset\\data_download_and_preprocessing\\data_eng\\form_calcs.py\u001B[0m in \u001B[0;36mread_tile\u001B[1;34m(tile_path, item_dim)\u001B[0m\n\u001B[0;32m   1427\u001B[0m \u001B[1;33m\u001B[0m\u001B[0m\n\u001B[0;32m   1428\u001B[0m \u001B[1;32mdef\u001B[0m \u001B[0mread_tile\u001B[0m\u001B[1;33m(\u001B[0m\u001B[0mtile_path\u001B[0m\u001B[1;33m,\u001B[0m \u001B[0mitem_dim\u001B[0m \u001B[1;33m=\u001B[0m \u001B[0mint\u001B[0m\u001B[1;33m(\u001B[0m\u001B[1;36m512\u001B[0m\u001B[1;33m)\u001B[0m\u001B[1;33m)\u001B[0m\u001B[1;33m:\u001B[0m\u001B[1;33m\u001B[0m\u001B[1;33m\u001B[0m\u001B[0m\n\u001B[1;32m-> 1429\u001B[1;33m     \u001B[0mtile\u001B[0m \u001B[1;33m=\u001B[0m \u001B[0mcv2\u001B[0m\u001B[1;33m.\u001B[0m\u001B[0mimread\u001B[0m\u001B[1;33m(\u001B[0m\u001B[0mtile_path\u001B[0m\u001B[1;33m,\u001B[0m \u001B[0mcv2\u001B[0m\u001B[1;33m.\u001B[0m\u001B[0mIMREAD_UNCHANGED\u001B[0m\u001B[1;33m)\u001B[0m\u001B[1;33m\u001B[0m\u001B[1;33m\u001B[0m\u001B[0m\n\u001B[0m\u001B[0;32m   1430\u001B[0m     \u001B[0mtile_height\u001B[0m\u001B[1;33m,\u001B[0m  \u001B[0mtile_width\u001B[0m\u001B[1;33m,\u001B[0m  \u001B[0mtile_channels\u001B[0m \u001B[1;33m=\u001B[0m \u001B[0mtile\u001B[0m\u001B[1;33m.\u001B[0m\u001B[0mshape\u001B[0m \u001B[1;31m#the size of the tile\u001B[0m\u001B[1;33m\u001B[0m\u001B[1;33m\u001B[0m\u001B[0m\n\u001B[0;32m   1431\u001B[0m     \u001B[0mrow_index\u001B[0m \u001B[1;33m=\u001B[0m \u001B[0mmath\u001B[0m\u001B[1;33m.\u001B[0m\u001B[0mceil\u001B[0m\u001B[1;33m(\u001B[0m\u001B[0mtile_height\u001B[0m\u001B[1;33m/\u001B[0m\u001B[0mitem_dim\u001B[0m\u001B[1;33m)\u001B[0m \u001B[1;31m#y\u001B[0m\u001B[1;33m\u001B[0m\u001B[1;33m\u001B[0m\u001B[0m\n",
      "\u001B[1;31mKeyboardInterrupt\u001B[0m: "
     ]
    }
   ],
   "source": [
    "for tile_name in tqdm.tqdm(sorted(os.listdir(tile_4_dir_path))):\n",
    "    tile_name = os.path.splitext(tile_name)[0]\n",
    "    make_tile_dir_and_get_correct_imgs_wo_black(tile_name, take_2, tile_4_dir_path)            "
   ]
  },
  {
   "cell_type": "code",
   "execution_count": 198,
   "id": "1c38fbf4-314c-4c63-a85d-e1b9a434c3d6",
   "metadata": {},
   "outputs": [
    {
     "name": "stdout",
     "output_type": "stream",
     "text": [
      "a,c 0.9604125860471269\n",
      "a,b 0.9990886157404214\n",
      "a,c 0.03628798020566209\n"
     ]
    }
   ],
   "source": [
    "a = cv2.cvtColor(cv2.imread(os.path.join(parent_directory,\n",
    "                                         \"compile_dir/m_4007203_ne_18_060_20190811/chips/m_4007203_ne_18_060_20190811_01_19.jpg\")),\n",
    "                 cv2.COLOR_BGR2GRAY)\n",
    "b = cv2.cvtColor(cv2.imread(os.path.join(parent_directory,\n",
    "                                         \"images_without_black_spots/m_4007203_ne_18_060_20190811/chips/m_4007203_ne_18_060_20190811-01-19-000045.jpg\")),\n",
    "c = cv2.cvtColor(cv2.imread(os.path.join(parent_directory,\"compile_dir/m_4007203_ne_18_060_20190811/chips_positive/m_4007203_ne_18_060_20190811_01_19.jpg\")),\n",
    "                 cv2.COLOR_BGR2GRAY)\n",
    "\n",
    "(score, diff) = compare_ssim(a, c, full=True)#,multichannel=True)\n",
    "print(\"a,c\",score )\n",
    "row_dim = b.shape[0]\n",
    "col_dim = b.shape[1]\n",
    "a_temp = a[0:row_dim, 0:col_dim]\n",
    "(score, diff) = compare_ssim(a_temp, b, full=True)#,multichannel=True)\n",
    "print(\"a,b\",score )\n",
    "row_dim = b.shape[0]\n",
    "col_dim = b.shape[1]\n",
    "c_temp = c[0:row_dim, 0:col_dim]\n",
    "(score, diff) = compare_ssim(c_temp, b, full=True)#,multichannel=True)\n",
    "print(\"a,c\",score )"
   ]
  },
  {
   "cell_type": "code",
   "execution_count": 11,
   "id": "ddf756ac-d9f3-401e-927f-5a1c582993f8",
   "metadata": {},
   "outputs": [
    {
     "data": {
      "text/plain": [
       "(512, 22, 3)"
      ]
     },
     "execution_count": 12,
     "metadata": {},
     "output_type": "execute_result"
    }
   ],
   "source": [
    "\n",
    "b = cv2.imread(os.path.join(parent_directory,\n",
    "                                         \"images_without_black_spots/m_4007203_ne_18_060_20190811/chips/m_4007203_ne_18_060_20190811-01-19-000045.jpg\"))\n",
    "\n",
    "row, col = b.shape\n"
   ]
  },
  {
   "cell_type": "code",
   "execution_count": 186,
   "id": "e5e2d71e-0184-46ae-889e-9d92267c454f",
   "metadata": {
    "tags": []
   },
   "outputs": [
    {
     "data": {
      "image/png": "[encoded data removed]",
      "text/plain": [
       "<Figure size 864x432 with 3 Axes>"
      ]
     },
     "metadata": {
      "needs_background": "light"
     },
     "output_type": "display_data"
    }
   ],
   "source": [
    "fig, (ax0, ax1, ax2) = plt.subplots(nrows=1, ncols=3, sharex=True,\n",
    "                                    figsize=(12, 6))\n",
    "\n",
    "ax0.imshow(a)\n",
    "\n",
    "ax1.imshow(b)\n",
    "\n",
    "ax2.imshow(c)\n",
    "\n",
    "fig.suptitle('Errorbar subsampling')\n",
    "plt.show()"
   ]
  },
  {
   "cell_type": "code",
   "execution_count": null,
   "id": "d8797b1e-be84-421f-b7f6-2a11c29b4b11",
   "metadata": {},
   "outputs": [],
   "source": [
    "            gray_labeled_img = cv2.cvtColor(cv2.imread(img_path), cv2.COLOR_BGR2GRAY) #image that had been labeled\n",
    "            ## load correct image from tile             \n",
    "            y, x = img_name.split(\"_\")[-2:] #name of tif with the extension removed; y=row;x=col\n",
    "            t_2_chip = tile_to_chip_array(tile, int(x), int(y), int(512)) # load tile to chip\n",
    "            gray_t_2_chip = cv2.cvtColor(t_2_chip.astype(np.uint8), cv2.COLOR_BGR2GRAY) # make gray\n",
    "            \n",
    "            ## check if images are the same\n"
   ]
  },
  {
   "cell_type": "code",
   "execution_count": 23,
   "id": "44d4efca-9927-4b60-a674-baa665d2a65c",
   "metadata": {},
   "outputs": [
    {
     "data": {
      "text/plain": [
       "(512, 22, 3)"
      ]
     },
     "execution_count": 23,
     "metadata": {},
     "output_type": "execute_result"
    }
   ],
   "source": [
    "bool_request, contents_json = False, __\n",
    "contents_json"
   ]
  },
  {
   "cell_type": "code",
   "execution_count": 40,
   "id": "3074f5f4-f142-49ec-8ddb-6b387d1e8ea1",
   "metadata": {},
   "outputs": [
    {
     "data": {
      "text/plain": [
       "0.7575251596106021"
      ]
     },
     "execution_count": 40,
     "metadata": {},
     "output_type": "execute_result"
    }
   ],
   "source": [
    "x = cv2.cvtColor(cv2.imread(os.path.join(parent_directory,\"compile_dir/m_4407521_sw_18_060_20190804/chips/m_4407521_sw_18_060_20190804_24_09.jpg\")), cv2.COLOR_BGR2GRAY)[0:3]\n",
    "y = cv2.cvtColor(cv2.imread(os.path.join(parent_directory,\"compile_dir/m_4407521_sw_18_060_20190804/chips/m_4407521_sw_18_060_20190804_24_10.jpg\")), cv2.COLOR_BGR2GRAY)[0:3]\n",
    "compare_ssim(x, y, win_size = 3)# gaussian_weights = True, sigma = 1)\n",
    "\n",
    "#win_size=None, gradient=False, data_range=None, channel_axis=None, multichannel=False, gaussian_weights=False, full=False, **kwargs)1`"
   ]
  },
  {
   "cell_type": "code",
   "execution_count": 45,
   "id": "bcfb496f-9693-468b-af20-04050fed296d",
   "metadata": {},
   "outputs": [
    {
     "name": "stdout",
     "output_type": "stream",
     "text": [
      "3\n"
     ]
    }
   ],
   "source": [
    "row, col = x.shape\n",
    "if min(row,col) >= 3:\n",
    "    print(3)"
   ]
  },
  {
   "cell_type": "code",
   "execution_count": 18,
   "id": "23444ae8-a873-4e94-96bd-f40d71875bef",
   "metadata": {},
   "outputs": [
    {
     "name": "stdout",
     "output_type": "stream",
     "text": [
      "Test\n",
      "Test\n",
      "Test\n",
      "Test\n",
      "Test\n",
      "Test\n",
      "Test\n",
      "Test\n",
      "Test\n",
      "Test\n"
     ]
    }
   ],
   "source": [
    "File \"/hpc/home/csr33/cred/AST_dataset/data_download_and_preprocessing/compare_imgs_by_tile.py\", line 64, in <module>\n",
    "    main(args)\n",
    "  File \"/hpc/home/csr33/cred/AST_dataset/data_download_and_preprocessing/compare_imgs_by_tile.py\", line 60, in main\n",
    "    yx_list, standard_img_paths, standard_xml_paths)\n",
    "  File \"/hpc/home/csr33/cred/AST_dataset/data_download_and_preprocessing/data_eng/form_calcs.py\", line 1734, in compare_imgs_wo_blk_pxls_state_yr_std_from_6_digit_xy_idxs\n",
    "    if (np.sum(img) != 0) & (compare_images(correct_img_wo_black_sq, img)):\n",
    "  File \"/hpc/home/csr33/cred/AST_dataset/data_download_and_preprocessing/data_eng/form_calcs.py\", line 1454, in compare_images\n",
    "    (score, diff) = compare_ssim(gray_t_2_chip, gray_labeled_image, full=True)\n",
    "  File \"/hpc/home/csr33/.local/lib/python3.7/site-packages/skimage/_shared/utils.py\", line 348, in fixed_func\n",
    "    return func(*args, **kwargs)\n",
    "  File \"/hpc/home/csr33/.local/lib/python3.7/site-packages/skimage/metrics/_structural_similarity.py\", line 169, in structural_similarity\n",
    "    'win_size exceeds image extent. '\n",
    "ValueError: win_size exceeds image extent. Either ensure that your images are at least 7x7; or pass win_size explicitly in the function call, with an odd value less than or equal to the smaller side of your images. If your images are multichannel (with color channels), set channel_axis to the axis number corresponding to the channels.\n"
   ]
  }
 ],
 "metadata": {
  "kernelspec": {
   "name": "compare",
   "language": "python",
   "display_name": "compare kernel"
  },
  "language_info": {
   "codemirror_mode": {
    "name": "ipython",
    "version": 3
   },
   "file_extension": ".py",
   "mimetype": "text/x-python",
   "name": "python",
   "nbconvert_exporter": "python",
   "pygments_lexer": "ipython3",
   "version": "3.10.8"
  },
  "vscode": {
   "interpreter": {
    "hash": "88dfc35770b6bd12de2d8e5653398a04774c41cd12f77de641e1f619e2ea67da"
   }
  }
 },
 "nbformat": 4,
 "nbformat_minor": 5
}
