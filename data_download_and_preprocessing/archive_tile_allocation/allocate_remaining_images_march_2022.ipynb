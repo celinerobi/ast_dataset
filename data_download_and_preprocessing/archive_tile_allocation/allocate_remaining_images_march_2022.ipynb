{
 "cells": [
  {
   "cell_type": "markdown",
   "id": "aeda641c-2584-4dc9-9b30-64f5e9908fe1",
   "metadata": {
    "tags": []
   },
   "source": [
    "# Load Packages"
   ]
  },
  {
   "cell_type": "code",
   "execution_count": 1,
   "id": "35706aa1-2a29-4f12-a25e-6f56b5862a0e",
   "metadata": {
    "tags": []
   },
   "outputs": [],
   "source": [
    "import os\n",
    "import cv2\n",
    "import math\n",
    "import numpy as np\n",
    "import matplotlib \n",
    "import matplotlib.pyplot as plt\n",
    "from glob import glob\n",
    "import tqdm\n",
    "from skimage.metrics import structural_similarity as compare_ssim\n",
    "import shutil\n",
    "#Parsing/Modifying XML\n",
    "from lxml.etree import Element,SubElement,tostring\n",
    "import xml.dom.minidom\n",
    "from xml.dom.minidom import parseString\n",
    "import xml.etree.ElementTree as et\n",
    "from xml.dom import minidom\n",
    "\n",
    "import data_eng.az_proc as ap\n",
    "import data_eng.form_calcs as fc"
   ]
  },
  {
   "cell_type": "markdown",
   "id": "25dcd4d7-5bc6-47e0-9d43-0c1233c4698d",
   "metadata": {
    "tags": []
   },
   "source": [
    "# File Paths"
   ]
  },
  {
   "cell_type": "code",
   "execution_count": 55,
   "id": "eab303ba-a72b-46a0-ae65-07cf1c71a1e9",
   "metadata": {
    "tags": []
   },
   "outputs": [],
   "source": [
    "parent_directory = \"//oit-nas-fe13dc.oit.duke.edu//data_commons-borsuk//\"\n",
    "tiles_complete_dataset_path = os.path.join(parent_directory,\"complete_dataset\",\"tiles\")\n",
    "#https://stackoverflow.com/questions/5953373/how-to-split-image-into-multiple-pieces-in-python\n",
    "correct_directory = os.path.join(parent_directory,\"temp/rechip\")\n",
    "incorrectly_chipped_images_path = os.path.join(parent_directory,\"temp/incorrectly_chipped_images\")\n",
    "remaining_chips_path =  os.path.join(parent_directory,\"temp/remaining_chips\")\n",
    "remaining_sets_path =  os.path.join(parent_directory,\"temp/remaining_sets\")\n",
    "\n",
    "tile_names_tile_urls_complete_array = np.load(\"image_download_azure/tile_name_tile_url_complete_array.npy\")"
   ]
  },
  {
   "cell_type": "code",
   "execution_count": 59,
   "id": "b6278f5e-2b12-4061-95ac-6b2e6ad30776",
   "metadata": {},
   "outputs": [
    {
     "name": "stdout",
     "output_type": "stream",
     "text": [
      "number of remaining chips 193991\n"
     ]
    }
   ],
   "source": [
    "print(\"number of remaining chips\", len(os.listdir(remaining_chips_path)))"
   ]
  },
  {
   "cell_type": "code",
   "execution_count": 58,
   "id": "094b43e9-3dac-480a-afd4-864cc0df9502",
   "metadata": {},
   "outputs": [
    {
     "name": "stdout",
     "output_type": "stream",
     "text": [
      "number of remaining chips 72\n"
     ]
    },
    {
     "name": "stderr",
     "output_type": "stream",
     "text": [
      "  7%|▋         | 152/2136 [05:30<1:14:11,  2.24s/it]"
     ]
    },
    {
     "name": "stdout",
     "output_type": "stream",
     "text": [
      "1 8126 152\n"
     ]
    },
    {
     "name": "stderr",
     "output_type": "stream",
     "text": [
      " 13%|█▎        | 277/2136 [12:25<2:12:50,  4.29s/it]"
     ]
    },
    {
     "name": "stdout",
     "output_type": "stream",
     "text": [
      "2 8155 125\n"
     ]
    },
    {
     "name": "stderr",
     "output_type": "stream",
     "text": [
      " 18%|█▊        | 393/2136 [19:17<1:55:58,  3.99s/it]"
     ]
    },
    {
     "name": "stdout",
     "output_type": "stream",
     "text": [
      "3 8103 116\n"
     ]
    },
    {
     "name": "stderr",
     "output_type": "stream",
     "text": [
      " 24%|██▍       | 514/2136 [25:41<1:23:39,  3.09s/it]"
     ]
    },
    {
     "name": "stdout",
     "output_type": "stream",
     "text": [
      "4 8116 121\n"
     ]
    },
    {
     "name": "stderr",
     "output_type": "stream",
     "text": [
      " 29%|██▉       | 627/2136 [31:28<1:03:46,  2.54s/it]"
     ]
    },
    {
     "name": "stdout",
     "output_type": "stream",
     "text": [
      "5 8065 113\n"
     ]
    },
    {
     "name": "stderr",
     "output_type": "stream",
     "text": [
      " 34%|███▍      | 734/2136 [37:07<1:21:09,  3.47s/it]"
     ]
    },
    {
     "name": "stdout",
     "output_type": "stream",
     "text": [
      "6 8113 107\n"
     ]
    },
    {
     "name": "stderr",
     "output_type": "stream",
     "text": [
      " 39%|███▉      | 831/2136 [43:23<1:26:54,  4.00s/it]"
     ]
    },
    {
     "name": "stdout",
     "output_type": "stream",
     "text": [
      "7 8162 97\n"
     ]
    },
    {
     "name": "stderr",
     "output_type": "stream",
     "text": [
      " 43%|████▎     | 925/2136 [49:01<1:22:55,  4.11s/it]"
     ]
    },
    {
     "name": "stdout",
     "output_type": "stream",
     "text": [
      "8 8165 94\n"
     ]
    },
    {
     "name": "stderr",
     "output_type": "stream",
     "text": [
      " 48%|████▊     | 1015/2136 [54:56<1:11:40,  3.84s/it]"
     ]
    },
    {
     "name": "stdout",
     "output_type": "stream",
     "text": [
      "9 8175 90\n"
     ]
    },
    {
     "name": "stderr",
     "output_type": "stream",
     "text": [
      " 52%|█████▏    | 1102/2136 [1:01:09<1:14:03,  4.30s/it]"
     ]
    },
    {
     "name": "stdout",
     "output_type": "stream",
     "text": [
      "10 8146 87\n"
     ]
    },
    {
     "name": "stderr",
     "output_type": "stream",
     "text": [
      " 56%|█████▌    | 1188/2136 [1:06:52<1:08:47,  4.35s/it]"
     ]
    },
    {
     "name": "stdout",
     "output_type": "stream",
     "text": [
      "11 8169 86\n"
     ]
    },
    {
     "name": "stderr",
     "output_type": "stream",
     "text": [
      " 59%|█████▉    | 1269/2136 [1:13:01<1:17:12,  5.34s/it]"
     ]
    },
    {
     "name": "stdout",
     "output_type": "stream",
     "text": [
      "12 8116 81\n"
     ]
    },
    {
     "name": "stderr",
     "output_type": "stream",
     "text": [
      " 63%|██████▎   | 1350/2136 [1:19:24<1:16:35,  5.85s/it]"
     ]
    },
    {
     "name": "stdout",
     "output_type": "stream",
     "text": [
      "13 8208 81\n"
     ]
    },
    {
     "name": "stderr",
     "output_type": "stream",
     "text": [
      " 67%|██████▋   | 1428/2136 [1:25:56<1:04:07,  5.43s/it]"
     ]
    },
    {
     "name": "stdout",
     "output_type": "stream",
     "text": [
      "14 8160 78\n"
     ]
    },
    {
     "name": "stderr",
     "output_type": "stream",
     "text": [
      " 71%|███████   | 1509/2136 [1:32:18<41:05,  3.93s/it]  "
     ]
    },
    {
     "name": "stdout",
     "output_type": "stream",
     "text": [
      "15 8220 81\n"
     ]
    },
    {
     "name": "stderr",
     "output_type": "stream",
     "text": [
      " 74%|███████▍  | 1586/2136 [1:37:41<41:45,  4.56s/it]"
     ]
    },
    {
     "name": "stdout",
     "output_type": "stream",
     "text": [
      "16 8153 77\n"
     ]
    },
    {
     "name": "stderr",
     "output_type": "stream",
     "text": [
      " 78%|███████▊  | 1663/2136 [1:42:56<31:13,  3.96s/it]"
     ]
    },
    {
     "name": "stdout",
     "output_type": "stream",
     "text": [
      "17 8117 77\n"
     ]
    },
    {
     "name": "stderr",
     "output_type": "stream",
     "text": [
      " 82%|████████▏ | 1741/2136 [1:48:43<34:22,  5.22s/it]"
     ]
    },
    {
     "name": "stdout",
     "output_type": "stream",
     "text": [
      "18 8215 78\n"
     ]
    },
    {
     "name": "stderr",
     "output_type": "stream",
     "text": [
      " 85%|████████▍ | 1814/2136 [1:54:32<24:46,  4.62s/it]"
     ]
    },
    {
     "name": "stdout",
     "output_type": "stream",
     "text": [
      "19 8145 73\n"
     ]
    },
    {
     "name": "stderr",
     "output_type": "stream",
     "text": [
      " 88%|████████▊ | 1886/2136 [2:01:00<18:37,  4.47s/it]"
     ]
    },
    {
     "name": "stdout",
     "output_type": "stream",
     "text": [
      "20 8120 72\n"
     ]
    },
    {
     "name": "stderr",
     "output_type": "stream",
     "text": [
      " 92%|█████████▏| 1956/2136 [2:06:25<17:35,  5.87s/it]"
     ]
    },
    {
     "name": "stdout",
     "output_type": "stream",
     "text": [
      "21 8222 70\n"
     ]
    },
    {
     "name": "stderr",
     "output_type": "stream",
     "text": [
      " 95%|█████████▍| 2023/2136 [2:12:32<10:17,  5.47s/it]"
     ]
    },
    {
     "name": "stdout",
     "output_type": "stream",
     "text": [
      "22 8224 67\n"
     ]
    },
    {
     "name": "stderr",
     "output_type": "stream",
     "text": [
      " 98%|█████████▊| 2087/2136 [2:18:08<05:31,  6.77s/it]"
     ]
    },
    {
     "name": "stdout",
     "output_type": "stream",
     "text": [
      "23 8155 64\n"
     ]
    },
    {
     "name": "stderr",
     "output_type": "stream",
     "text": [
      "100%|██████████| 2136/2136 [2:23:11<00:00,  4.02s/it]"
     ]
    },
    {
     "name": "stdout",
     "output_type": "stream",
     "text": [
      "images allocated to sets 193991\n"
     ]
    },
    {
     "name": "stderr",
     "output_type": "stream",
     "text": [
      "\n"
     ]
    }
   ],
   "source": [
    "#get a numpy array of the tiles corresponding remaining chips lists\n",
    "tiles = []\n",
    "remaining_chips_list = os.listdir(remaining_chips_path) #get a list of the remaining chip names \n",
    "for image_name in os.listdir(remaining_chips_path):\n",
    "    tiles.append(os.path.splitext(image_name)[0].rsplit(\"_\",2)[0])\n",
    "tiles = np.unique(tiles) #get a list of the tile names corresponding to the remaining chips\n",
    "\n",
    "#create counters\n",
    "no_tiles_in_set = 0\n",
    "number_of_images = 0\n",
    "all_image_count = 0 \n",
    "#create set paths\n",
    "set_no = 1\n",
    "set_path = os.path.join(remaining_sets_path,\"set_\"+ str(set_no))\n",
    "os.makedirs(set_path, exist_ok = True)\n",
    "#state the number of images that need to be moved \n",
    "print(\"number of remaining chips\", len(os.listdir(remaining_chips_path)))\n",
    "\n",
    "for tile_name in tqdm.tqdm(tiles):\n",
    "    #get images corresponding to each tile\n",
    "    images_in_tile = [string for string in remaining_chips_list if tile_name in string]\n",
    "    \n",
    "    #move images for tile if there are less than 8,000 images in the current set\n",
    "    if len(os.listdir(set_path)) < 8000:\n",
    "        no_tiles_in_set += 1\n",
    "        number_of_images += len(images_in_tile)\n",
    "        #move images\n",
    "        for image in images_in_tile: #copy images\n",
    "            shutil.copyfile(os.path.join(remaining_chips_path, image),\n",
    "                            os.path.join(set_path, image)) \n",
    "            all_image_count += 1\n",
    "    \n",
    "    else: #if there are over 8,000 images, move the current images, and create next set \n",
    "        no_tiles_in_set += 1\n",
    "        number_of_images += len(images_in_tile)\n",
    "        for image in images_in_tile: #copy images\n",
    "            shutil.copyfile(os.path.join(remaining_chips_path, image),\n",
    "                            os.path.join(set_path, image))\n",
    "            all_image_count += 1\n",
    "            \n",
    "        print(set_no, number_of_images, no_tiles_in_set)\n",
    "        #reset counters\n",
    "        no_tiles_in_set = 0\n",
    "        number_of_images = 0\n",
    "        \n",
    "        #create next set directory\n",
    "        set_no += 1\n",
    "        set_path = os.path.join(remaining_sets_path,\"set_\"+ str(set_no))\n",
    "        os.makedirs(set_path, exist_ok = True)\n",
    "print(\"images allocated to sets\", all_image_count)"
   ]
  }
 ],
 "metadata": {
  "kernelspec": {
   "display_name": "Chip Allocate",
   "language": "python",
   "name": "chip_allocate"
  },
  "language_info": {
   "codemirror_mode": {
    "name": "ipython",
    "version": 3
   },
   "file_extension": ".py",
   "mimetype": "text/x-python",
   "name": "python",
   "nbconvert_exporter": "python",
   "pygments_lexer": "ipython3",
   "version": "3.9.7"
  }
 },
 "nbformat": 4,
 "nbformat_minor": 5
}
