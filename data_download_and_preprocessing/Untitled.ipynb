{
 "cells": [
  {
   "cell_type": "code",
   "execution_count": null,
   "id": "916c6db5-fa34-40dd-9a6c-648d75ab84e9",
   "metadata": {},
   "outputs": [],
   "source": []
  },
  {
   "cell_type": "markdown",
   "id": "66d16db2-53df-49e7-99c1-ba8c42e9735f",
   "metadata": {},
   "source": [
    "#Make into module, function specify annotator, directory as args\n",
    "#URG: updae tile_undone_npy\n",
    "\n",
    "#!/usr/bin/env python\n",
    "# coding: utf-8\n",
    "import numpy as np\n",
    "import pandas as pd\n",
    "import os\n",
    "import os.path\n",
    "import urllib.request\n",
    "import progressbar # pip install progressbar2, not progressbar\n",
    "\n",
    "import os\n",
    "import shutil\n",
    "\n",
    "import argparse\n",
    "\n",
    "import tempfile\n",
    "import urllib\n",
    "import shutil\n",
    "import os\n",
    "import os.path\n",
    "import sys\n",
    "\n",
    "import PIL\n",
    "from PIL import Image\n",
    "\n",
    "import math\n",
    "import numpy as np\n",
    "import pandas as pd\n",
    "import rtree\n",
    "import pickle\n",
    "\n",
    "import progressbar # pip install progressbar2, not progressbar\n",
    "\n",
    "from geopy.geocoders import Nominatim\n",
    "\n",
    "from contextlib import suppress\n",
    "\n",
    "import matplotlib\n",
    "import matplotlib.pyplot as plt\n",
    "from matplotlib.patches import ConnectionPatch\n",
    "\n",
    "import warnings\n",
    "from zipfile import ZipFile\n",
    "\n",
    "import data_eng.az_proc as ap\n",
    "import data_eng.form_calcs as fc"
   ]
  },
  {
   "cell_type": "code",
   "execution_count": 11,
   "id": "ae72aa4d-f885-4a06-bf49-70160e244871",
   "metadata": {},
   "outputs": [],
   "source": [
    "parent_directory = \"//oit-nas-fe13dc.oit.duke.edu//data_commons-borsuk//\"\n",
    "\n",
    "tile_names_tile_urls_complete_array = np.load(\"image_download_azure/tile_name_tile_url_complete_array.npy\")\n",
    "\n",
    "tiles_labeled = \"tile_name_tile_url_labeled.npy\"\n",
    "tiles_labeled_from_complete_set = np.load(tiles_labeled)\n",
    "\n",
    "tracker_file_path = 'outputs/tile_img_annotation_annotator.npy'\n",
    "tile_img_annotation = np.load(tracker_file_path)\n",
    "\n",
    "tiles_errors = 'tile_name_tile_url_error_downloading.npy'\n",
    "tiles_errors = np.load(tiles_errors)\n",
    "\n",
    "#create folder to hold tiles in completed dataset\n",
    "path_to_complete_dataset = \"verified/complete_dataset\"\n",
    "path_to_tiles_folder_complete_dataset = os.path.join(parent_directory, path_to_complete_dataset,\"tiles\")\n",
    "path_positive_images_complete_dataset = os.path.join(parent_directory, path_to_complete_dataset,\"chips_positive\")\n",
    "path_to_verified_sets = os.path.join(parent_directory, path_to_complete_dataset,\"verified//verified_sets\")"
   ]
  },
  {
   "cell_type": "code",
   "execution_count": 5,
   "id": "d2a9ea67-9888-43f4-b06e-07ab1985b189",
   "metadata": {},
   "outputs": [
    {
     "name": "stdout",
     "output_type": "stream",
     "text": [
      "Unlabeled Tiles (2, 2)\n",
      "0\n",
      "Bypassing download of already-downloaded file m_3208164_ne_17_060_20190829.tif\n",
      "1\n",
      "Bypassing download of already-downloaded file m_3208164_ne_17_060_20191109.tif\n",
      "['https_naipeuwest.blob.core.windows.net_naip_v002_ga_2019_ga_60cm_2019_32081_m_3208164_ne_17_060_20191109.tif', 'https_naipeuwest.blob.core.windows.net_naip_v002_sc_2019_sc_60cm_2019_32081_m_3208164_ne_17_060_20190829.tif']\n",
      "chip tiles\n",
      "ga_60cm_2019_32081_m_3208164_ne_17_060_20191109.tif\n",
      "505\n",
      "sc_60cm_2019_32081_m_3208164_ne_17_060_20190829.tif\n",
      "551\n"
     ]
    }
   ],
   "source": [
    "dist = ap.annotator(\"test\") #create the processing class\n",
    "dist.state_dcc_directory(\"C:\\chip_allocation\")\n",
    "\n",
    "dist.number_of_tiles(2)\n",
    "\n",
    "dist.get_tile_urls(\"temp_tile_name_tile_url.npy\")\n",
    "\n",
    "dist.make_subdirectories()\n",
    "dist.download_images()\n",
    "dist.tile_rename()\n",
    "dist.chip_tiles()\n"
   ]
  },
  {
   "cell_type": "code",
   "execution_count": 46,
   "id": "6d8823e3-7d26-4abd-a652-0737c3d0e59b",
   "metadata": {},
   "outputs": [
    {
     "name": "stdout",
     "output_type": "stream",
     "text": [
      "(23531, 2)\n"
     ]
    },
    {
     "data": {
      "text/plain": [
       "array([['al_60cm_2019_30088_m_3008808_sw_16_060_20191115_000126.jpg',\n",
       "        '//oit-nas-fe13dc.oit.duke.edu//data_commons-borsuk//complete_dataset\\\\chips_positive\\\\al_60cm_2019_30088_m_3008808_sw_16_060_20191115_000126.jpg'],\n",
       "       ['al_60cm_2019_30088_m_3008808_sw_16_060_20191115_000444.jpg',\n",
       "        '//oit-nas-fe13dc.oit.duke.edu//data_commons-borsuk//complete_dataset\\\\chips_positive\\\\al_60cm_2019_30088_m_3008808_sw_16_060_20191115_000444.jpg'],\n",
       "       ['al_60cm_2019_30088_m_3008816_se_16_060_20191115_000051.jpg',\n",
       "        '//oit-nas-fe13dc.oit.duke.edu//data_commons-borsuk//complete_dataset\\\\chips_positive\\\\al_60cm_2019_30088_m_3008816_se_16_060_20191115_000051.jpg'],\n",
       "       ...,\n",
       "       ['wy_60cm_2019_44107_m_4410749_se_13_060_20190828_000460.jpg',\n",
       "        '//oit-nas-fe13dc.oit.duke.edu//data_commons-borsuk//complete_dataset\\\\chips_positive\\\\wy_60cm_2019_44107_m_4410749_se_13_060_20190828_000460.jpg'],\n",
       "       ['wy_60cm_2019_44108_m_4410801_ne_12_060_20190821_000041.jpg',\n",
       "        '//oit-nas-fe13dc.oit.duke.edu//data_commons-borsuk//complete_dataset\\\\chips_positive\\\\wy_60cm_2019_44108_m_4410801_ne_12_060_20190821_000041.jpg'],\n",
       "       ['wy_60cm_2019_44108_m_4410801_ne_12_060_20190821_000066.jpg',\n",
       "        '//oit-nas-fe13dc.oit.duke.edu//data_commons-borsuk//complete_dataset\\\\chips_positive\\\\wy_60cm_2019_44108_m_4410801_ne_12_060_20190821_000066.jpg']],\n",
       "      dtype='<U260')"
      ]
     },
     "execution_count": 46,
     "metadata": {},
     "output_type": "execute_result"
    }
   ],
   "source": [
    "unique_positive_jpgs = fc.unique_positive_jpgs_from_parent_directory(parent_directory)\n",
    "unique_positive_jpgs"
   ]
  },
  {
   "cell_type": "code",
   "execution_count": 45,
   "id": "44308f63-f22a-413f-b3a8-2e4526f51ee6",
   "metadata": {},
   "outputs": [
    {
     "data": {
      "text/plain": [
       "0"
      ]
     },
     "execution_count": 45,
     "metadata": {},
     "output_type": "execute_result"
    }
   ],
   "source": [
    "u, c = np.unique(unique_positive_jpgs[:,1], return_counts=True)\n",
    "dup = u[c > 1]\n",
    "len(dup)\n",
    "#downloaded_tile"
   ]
  },
  {
   "cell_type": "code",
   "execution_count": 32,
   "id": "7c421eb9-8975-427c-b60e-78881706494d",
   "metadata": {},
   "outputs": [
    {
     "name": "stdout",
     "output_type": "stream",
     "text": [
      "23531\n",
      "2077\n"
     ]
    }
   ],
   "source": [
    "#Determine the corresponding tile names (formatted) for given paths of jpgs \n",
    "print(len(unique_positive_jpgs))\n",
    "tile_names_formatted_storage_space = np.unique(fc.jpg_path_to_tile_name_formatted(unique_positive_jpgs[:,1]))\n",
    "print(len(tile_names_formatted_storage_space))"
   ]
  },
  {
   "cell_type": "code",
   "execution_count": 33,
   "id": "01e2e0b0-3c40-4ad3-a81e-82956d9f0a1c",
   "metadata": {},
   "outputs": [],
   "source": [
    "#Deteremine the tile names (standard) for given paths of jpgs \n",
    "tile_names_standard_storage_space = []\n",
    "for tile_name_formatted_storage_space in tile_names_formatted_storage_space:\n",
    "    tile_names_standard_storage_space.append(tile_name_formatted_storage_space.split(\"_\",4)[4])\n",
    "    \n",
    "#Create a 2d array of the standard and formatted tile names of the jpgs given\n",
    "tile_names_in_storage_space_standard_formatted = np.hstack((np.array(tile_names_standard_storage_space)[:,None], tile_names_formatted_storage_space[:,None]))"
   ]
  },
  {
   "cell_type": "code",
   "execution_count": 55,
   "id": "87c997bb-ebf5-4957-9474-40d7cc711173",
   "metadata": {},
   "outputs": [
    {
     "data": {
      "text/plain": [
       "array(['m_3311822_ne_11_060_20180723', 'm_3708701_se_16_060_20180905',\n",
       "       'm_3708701_sw_16_060_20180905', 'm_3708704_nw_16_060_20180725',\n",
       "       'm_3708704_sw_16_060_20180725', 'm_3708711_ne_16_060_20180725',\n",
       "       'm_3708712_nw_16_060_20180725', 'm_3708716_sw_16_060_20180929',\n",
       "       'm_3712205_ne_10_060_20180723', 'm_3712205_se_10_060_20180723',\n",
       "       'm_3712206_sw_10_060_20180723', 'm_3807730_se_18_060_20181025',\n",
       "       'm_3808542_sw_16_060_20180727', 'm_3808543_ne_16_060_20180904',\n",
       "       'm_3808549_se_16_060_20180727', 'm_3808550_nw_16_060_20180727',\n",
       "       'm_3812262_se_10_060_20180723', 'm_3812263_sw_10_060_20180723',\n",
       "       'm_3812264_se_10_060_20180715', 'm_3812264_sw_10_060_20180715',\n",
       "       'm_4007423_se_18_060_20190830', 'm_4007423_sw_18_060_20190917',\n",
       "       'm_4007424_sw_18_060_20190830', 'm_4007430_se_18_060_20190830',\n",
       "       'm_4007431_nw_18_060_20190917', 'm_4007431_sw_18_060_20190917',\n",
       "       'm_4009129_ne_15_060_20190708', 'm_4107114_nw_19_060_20180827',\n",
       "       'm_4107114_sw_19_060_20180827', 'm_4107123_sw_19_060_20180827',\n",
       "       'm_4108614_se_16_060_20180708', 'm_4108615_sw_16_060_20180708',\n",
       "       'm_4108616_sw_16_060_20180707', 'm_4109029_sw_15_060_20190802',\n",
       "       'm_4109035_ne_15_060_20190801', 'm_4207260_se_18_060_20180823',\n",
       "       'm_4209027_se_15_060_20190801', 'm_4307222_sw_18_060_20190102',\n",
       "       'm_4410801_ne_12_060_20190821', 'm_4710432_ne_13_060_20190725'],\n",
       "      dtype='<U48')"
      ]
     },
     "execution_count": 55,
     "metadata": {},
     "output_type": "execute_result"
    }
   ],
   "source": [
    "u, c = np.unique(tile_names_in_storage_space_standard_formatted[:,0], return_counts=True)\n",
    "dup = u[c > 1]\n",
    "len(dup)\n",
    "#downloaded_tile\n",
    "\n",
    "np.sort(tile_names_in_storage_space_standard_formatted[np.isin(tile_names_in_storage_space_standard_formatted[:,0],dup)])"
   ]
  },
  {
   "cell_type": "code",
   "execution_count": 40,
   "id": "1e4ff90a-beae-4dfb-a089-d19ad82a22fb",
   "metadata": {},
   "outputs": [
    {
     "data": {
      "text/plain": [
       "0"
      ]
     },
     "execution_count": 40,
     "metadata": {},
     "output_type": "execute_result"
    }
   ],
   "source": [
    "u, c = np.unique(tile_names_in_storage_space_standard_formatted[:,1], return_counts=True)\n",
    "dup = u[c > 1]\n",
    "len(dup)"
   ]
  },
  {
   "cell_type": "code",
   "execution_count": 47,
   "id": "5912a7f9-12d1-4fda-a17f-44b3100f75e2",
   "metadata": {},
   "outputs": [
    {
     "data": {
      "text/plain": [
       "array(['al_60cm_2019_30088_m_3008808_sw_16_060_20191115',\n",
       "       'al_60cm_2019_30088_m_3008816_se_16_060_20191115',\n",
       "       'al_60cm_2019_30088_m_3008816_sw_16_060_20191115', ...,\n",
       "       'wy_60cm_2019_44106_m_4410617_se_13_060_20190829',\n",
       "       'wy_60cm_2019_44107_m_4410749_se_13_060_20190828',\n",
       "       'wy_60cm_2019_44108_m_4410801_ne_12_060_20190821'], dtype='<U48')"
      ]
     },
     "execution_count": 47,
     "metadata": {},
     "output_type": "execute_result"
    }
   ],
   "source": [
    "tile_names_in_storage_space_standard_formatted[:,1]"
   ]
  },
  {
   "cell_type": "code",
   "execution_count": null,
   "id": "01b15e8e-3708-4d3e-b3aa-3a50f878690d",
   "metadata": {},
   "outputs": [],
   "source": []
  },
  {
   "cell_type": "code",
   "execution_count": null,
   "id": "6cf5d825-5f5f-4be3-940a-b69f625ce201",
   "metadata": {},
   "outputs": [],
   "source": []
  },
  {
   "cell_type": "code",
   "execution_count": null,
   "id": "5acc0970-d192-447d-b365-116b3cbad2d7",
   "metadata": {},
   "outputs": [],
   "source": []
  },
  {
   "cell_type": "code",
   "execution_count": null,
   "id": "ac8a5078-2b59-407b-b930-b986cdbed40a",
   "metadata": {},
   "outputs": [],
   "source": []
  },
  {
   "cell_type": "code",
   "execution_count": null,
   "id": "6b9900e6-3877-46d3-99eb-d99a374ca32d",
   "metadata": {},
   "outputs": [],
   "source": [
    "chips_positive_path = \"C:/chip_allocation/complete_dataset/chips_positive\"\n",
    "unique_chips_positive_path = \"C:/chip_allocation/complete_dataset/unique_chips_positive\"\n",
    "dups_chips_positive_path = \"C:/chip_allocation/complete_dataset/dups_chips_positive\"\n",
    "\n",
    "images, imgsr, imgsg, imgsb = fc.positive_images_to_array(chips_positive_path)\n",
    "unique_imgsr, duplicate_imgsr =fc.unique_by_first_dimension(imgsr, images)\n",
    "unique_imgsg, duplicate_imgsg = fc.unique_by_first_dimension(imgsg, images)\n",
    "unique_imgsb, duplicate_imgsb = fc.unique_by_first_dimension(imgsb, images)\n",
    "unique_images = fc.intersection_of_sets(unique_imgsr, unique_imgsg, unique_imgsb)\n",
    "duplicate_images = fc.intersection_of_sets(duplicate_imgsr, duplicate_imgsg, duplicate_imgsb)   "
   ]
  },
  {
   "cell_type": "code",
   "execution_count": null,
   "id": "bb00fd51-0fb3-4797-99a9-7ab6a21adba4",
   "metadata": {},
   "outputs": [],
   "source": [
    "fc.directory_tile_names(os.path.join(parent_directory,\"unverified_images/student_reviewed_unverified_images_set1/Qianyu/chips_positive\"),\n",
    "                       'Qianyu 1 tile names')\n",
    "\n",
    "fc.directory_tile_names(\"C:/chip_allocation/complete_dataset/dups_chips_positive\",\n",
    "                        'dup tile names')\n",
    "\n",
    "fc.identify_all_paths_to_duplicate_images(parent_directory, duplicate_images)\n",
    "\n",
    "pd.DataFrame(fc.sorted_list_of_files(dups_chips_positive_path), columns = ['chip_names']).to_csv('dups_chips_positive_path.csv') "
   ]
  },
  {
   "cell_type": "code",
   "execution_count": null,
   "id": "89153ca3-8e7c-4d63-a508-3fea2816128a",
   "metadata": {},
   "outputs": [],
   "source": [
    "folders = [  \"//oit-nas-fe13dc.oit.duke.edu//data_commons-borsuk//unverified_images/student_reviewed_unverified_images_set1/complete_dataset/chips_positive\",\n",
    "             \"//oit-nas-fe13dc.oit.duke.edu//data_commons-borsuk//unverified_images/student_reviewed_unverified_images_set1/Qianyu/chips_negative\",\n",
    "             \"//oit-nas-fe13dc.oit.duke.edu//data_commons-borsuk//unverified_images/student_reviewed_unverified_images_set1/Qianyu/chips_positive\"]"
   ]
  },
  {
   "cell_type": "code",
   "execution_count": null,
   "id": "40b90ad7-0ce9-4599-a2a5-98359150bfad",
   "metadata": {},
   "outputs": [],
   "source": [
    "Copy these tiles \n",
    "\"la_60cm_2019_29093_m_2909310_sw_15_060_20190726\"\n",
    "From\n",
    "\"//oit-nas-fe13dc.oit.duke.edu//data_commons-borsuk//unverified_images/student_reviewed_unverified_images_set1/Alex/student_reviewed_images1/chips_negative\"\n",
    "To\n"
   ]
  },
  {
   "cell_type": "code",
   "execution_count": null,
   "id": "a7a61ff7-b4f2-43eb-94dd-9c7ff161994b",
   "metadata": {},
   "outputs": [],
   "source": [
    "\"//oit-nas-fe13dc.oit.duke.edu//data_commons-borsuk//verified/verified_sets/verify_josh_jaewon_amadu_1/chips_positive\""
   ]
  },
  {
   "cell_type": "code",
   "execution_count": null,
   "id": "290ccfa7-7669-4bea-8735-755cf018c906",
   "metadata": {},
   "outputs": [],
   "source": []
  },
  {
   "cell_type": "code",
   "execution_count": 70,
   "id": "a619d7ae-fcd3-45a7-b30b-3708862064f1",
   "metadata": {},
   "outputs": [],
   "source": [
    "for folder in folders:\n",
    "    fc.remove_thumbs(folder)\n",
    "    for jpg in os.listdir(folder):\n",
    "        temp_jpg = os.path.splitext(jpg)[0].rsplit(\"_\",1)[0]\n",
    "        chip_number = os.path.splitext(jpg)[0].rsplit(\"_\",1)[1]\n",
    "        if (temp_jpg == \"la_60cm_2019_29093_m_2909310_sw_15_060_20190726\") & (jpg in duplicate_images):\n",
    "            #pa_60cm_2019_39075_m_3907508_nw_18_060_20191015\n",
    "            old_tile_path = os.path.join(folder, jpg)\n",
    "            new_tile_path = os.path.join(folder, \"pa_60cm_2019_39075_m_3907508_nw_18_060_20191015_\" + chip_number+\".jpg\")\n",
    "            #la_60cm_2019_29093_m_2909310_sw_15_060_20190726\n",
    "            \n",
    "            if not os.path.exists(new_tile_path): \n",
    "                os.rename(old_tile_path, new_tile_path)\n",
    "            if os.path.exists(new_tile_path) and os.path.exists(old_tile_path): #If the new tile path already exists, delete the old tile path (if it still exists)\n",
    "                shutil.move(old_tile_path,\n",
    "                            \"//oit-nas-fe13dc.oit.duke.edu//data_commons-borsuk//duplicate_move/chips_positive/\"+\"pa_60cm_2019_39075_m_3907508_nw_18_060_20191015_\" + chip_number+\".jpg\")"
   ]
  },
  {
   "cell_type": "code",
   "execution_count": 5,
   "id": "c4bd8ce6-8a90-42c4-84ce-4448bb7ce277",
   "metadata": {},
   "outputs": [
    {
     "name": "stdout",
     "output_type": "stream",
     "text": [
      "co_60cm_2019_39104_m_3910410_se_13_060_20190912\n"
     ]
    },
    {
     "ename": "NameError",
     "evalue": "name 'duplicate_images' is not defined",
     "output_type": "error",
     "traceback": [
      "\u001b[1;31m---------------------------------------------------------------------------\u001b[0m",
      "\u001b[1;31mNameError\u001b[0m                                 Traceback (most recent call last)",
      "\u001b[1;32mC:\\Users\\RAPIDU~1\\AppData\\Local\\Temp/ipykernel_6940/1574502203.py\u001b[0m in \u001b[0;36m<module>\u001b[1;34m\u001b[0m\n\u001b[0;32m      6\u001b[0m         \u001b[0mprint\u001b[0m\u001b[1;33m(\u001b[0m\u001b[0mtemp_xml\u001b[0m\u001b[1;33m)\u001b[0m\u001b[1;33m\u001b[0m\u001b[1;33m\u001b[0m\u001b[0m\n\u001b[0;32m      7\u001b[0m         \u001b[0mchip_number\u001b[0m \u001b[1;33m=\u001b[0m \u001b[0mos\u001b[0m\u001b[1;33m.\u001b[0m\u001b[0mpath\u001b[0m\u001b[1;33m.\u001b[0m\u001b[0msplitext\u001b[0m\u001b[1;33m(\u001b[0m\u001b[0mxml\u001b[0m\u001b[1;33m)\u001b[0m\u001b[1;33m[\u001b[0m\u001b[1;36m0\u001b[0m\u001b[1;33m]\u001b[0m\u001b[1;33m.\u001b[0m\u001b[0mrsplit\u001b[0m\u001b[1;33m(\u001b[0m\u001b[1;34m\"_\"\u001b[0m\u001b[1;33m,\u001b[0m\u001b[1;36m1\u001b[0m\u001b[1;33m)\u001b[0m\u001b[1;33m[\u001b[0m\u001b[1;36m1\u001b[0m\u001b[1;33m]\u001b[0m\u001b[1;33m\u001b[0m\u001b[1;33m\u001b[0m\u001b[0m\n\u001b[1;32m----> 8\u001b[1;33m         \u001b[1;32mif\u001b[0m \u001b[1;33m(\u001b[0m\u001b[0mtemp_xml\u001b[0m \u001b[1;33m==\u001b[0m \u001b[1;34m\"la_60cm_2019_29093_m_2909310_sw_15_060_20190726\"\u001b[0m\u001b[1;33m)\u001b[0m \u001b[1;33m&\u001b[0m \u001b[1;33m(\u001b[0m\u001b[0mxml\u001b[0m \u001b[1;32min\u001b[0m \u001b[0mduplicate_images\u001b[0m\u001b[1;33m)\u001b[0m\u001b[1;33m:\u001b[0m\u001b[1;33m\u001b[0m\u001b[1;33m\u001b[0m\u001b[0m\n\u001b[0m\u001b[0;32m      9\u001b[0m             \u001b[1;31m#pa_60cm_2019_39075_m_3907508_nw_18_060_20191015\u001b[0m\u001b[1;33m\u001b[0m\u001b[1;33m\u001b[0m\u001b[0m\n\u001b[0;32m     10\u001b[0m             \u001b[0mold_tile_path\u001b[0m \u001b[1;33m=\u001b[0m \u001b[0mos\u001b[0m\u001b[1;33m.\u001b[0m\u001b[0mpath\u001b[0m\u001b[1;33m.\u001b[0m\u001b[0mjoin\u001b[0m\u001b[1;33m(\u001b[0m\u001b[0mfolder\u001b[0m\u001b[1;33m,\u001b[0m \u001b[0mxml\u001b[0m\u001b[1;33m)\u001b[0m\u001b[1;33m\u001b[0m\u001b[1;33m\u001b[0m\u001b[0m\n",
      "\u001b[1;31mNameError\u001b[0m: name 'duplicate_images' is not defined"
     ]
    }
   ],
   "source": [
    "folders = [  \"//oit-nas-fe13dc.oit.duke.edu//data_commons-borsuk//unverified_images/student_reviewed_unverified_images_set1/complete_dataset/chips_positive_xml\",\n",
    "             \"//oit-nas-fe13dc.oit.duke.edu//data_commons-borsuk//unverified_images/student_reviewed_unverified_images_set1/Qianyu/chips_positive_xml\"]\n",
    "for folder in folders:\n",
    "    for xml in os.listdir(folder):\n",
    "        temp_xml = os.path.splitext(xml)[0].rsplit(\"_\",1)[0]\n",
    "        print(temp_xml)\n",
    "        chip_number = os.path.splitext(xml)[0].rsplit(\"_\",1)[1]\n",
    "        if (temp_xml == \"la_60cm_2019_29093_m_2909310_sw_15_060_20190726\") & (xml in duplicate_images):\n",
    "            #pa_60cm_2019_39075_m_3907508_nw_18_060_20191015\n",
    "            old_tile_path = os.path.join(folder, xml)\n",
    "            new_tile_path = os.path.join(folder, \"pa_60cm_2019_39075_m_3907508_nw_18_060_20191015_\" + chip_number+\".xml\")\n",
    "            #la_60cm_2019_29093_m_2909310_sw_15_060_20190726\n",
    "            \n",
    "            #if not os.path.exists(new_tile_path): \n",
    "                #os.rename(old_tile_path, new_tile_path)\n",
    "            #if os.path.exists(new_tile_path) and os.path.exists(old_tile_path): #If the new tile path already exists, delete the old tile path (if it still exists)\n",
    "                #shutil.move(old_tile_path_xml,\n",
    "                #            \"//oit-nas-fe13dc.oit.duke.edu//data_commons-borsuk//duplicate_move/chips_positive_xml/\"+\"pa_60cm_2019_39075_m_3907508_nw_18_060_20191015_\" + chip_number+\".xml\")"
   ]
  },
  {
   "cell_type": "code",
   "execution_count": null,
   "id": "aa22f218-2274-42e4-92d5-f3cedbbf1139",
   "metadata": {},
   "outputs": [],
   "source": []
  },
  {
   "cell_type": "code",
   "execution_count": 5,
   "id": "03684518-8b5c-48ca-84e3-0a904b83280f",
   "metadata": {},
   "outputs": [
    {
     "name": "stderr",
     "output_type": "stream",
     "text": [
      "1it [00:02,  2.66s/it]"
     ]
    },
    {
     "name": "stdout",
     "output_type": "stream",
     "text": [
      "(19511, 2)\n"
     ]
    },
    {
     "name": "stderr",
     "output_type": "stream",
     "text": [
      "\n"
     ]
    }
   ],
   "source": [
    "verified_positive_jpgs = fc.unique_positive_jpgs_from_parent_directory(os.path.join(parent_directory,\"verified/complete_dataset/chips_positive\"))\n",
    "tiles_dir = tiles_complete_dataset_path"
   ]
  },
  {
   "cell_type": "code",
   "execution_count": null,
   "id": "ab1aff9f-689c-4ae0-b10a-f271d953d3a2",
   "metadata": {},
   "outputs": [
    {
     "ename": "SyntaxError",
     "evalue": "invalid syntax (Temp/ipykernel_10156/2107727356.py, line 3)",
     "output_type": "error",
     "traceback": [
      "\u001b[1;36m  File \u001b[1;32m\"C:\\Users\\RAPIDU~1\\AppData\\Local\\Temp/ipykernel_10156/2107727356.py\"\u001b[1;36m, line \u001b[1;32m3\u001b[0m\n\u001b[1;33m    positive_chips_lists = [[x:x+1000] for x in range(0, len(positive_chips), 1000)]\u001b[0m\n\u001b[1;37m    ^\u001b[0m\n\u001b[1;31mSyntaxError\u001b[0m\u001b[1;31m:\u001b[0m invalid syntax\n"
     ]
    }
   ],
   "source": [
    "verified_positive_jpgs "
   ]
  },
  {
   "cell_type": "code",
   "execution_count": 7,
   "id": "ab531d90-9b63-42a1-86a6-ef3d198bf86b",
   "metadata": {},
   "outputs": [
    {
     "name": "stdout",
     "output_type": "stream",
     "text": [
      "m_3008144_nw_17_060_20191119_000525.jpg\n",
      "m_3008824_ne_16_060_20191115_000532.jpg\n",
      "m_3008824_ne_16_060_20191115_000533.jpg\n",
      "m_3008824_ne_16_060_20191115_000557.jpg\n",
      "m_3008824_ne_16_060_20191115_000558.jpg\n",
      "m_3009147_se_15_060_20190906_000552.jpg\n",
      "m_3311814_se_11_060_20180723_000506.jpg\n",
      "m_3311814_se_11_060_20180723_000507.jpg\n",
      "m_3311814_se_11_060_20180723_000508.jpg\n",
      "m_3311814_se_11_060_20180723_000509.jpg\n",
      "m_3311814_se_11_060_20180723_000510.jpg\n",
      "m_3311814_se_11_060_20180723_000531.jpg\n",
      "m_3311814_se_11_060_20180723_000533.jpg\n",
      "m_3311814_se_11_060_20180723_000534.jpg\n",
      "m_3311814_se_11_060_20180723_000535.jpg\n",
      "m_3311814_sw_11_060_20180723_000510.jpg\n",
      "m_3311814_sw_11_060_20180723_000511.jpg\n",
      "m_3311814_sw_11_060_20180723_000515.jpg\n",
      "m_3311814_sw_11_060_20180723_000516.jpg\n",
      "m_3311814_sw_11_060_20180723_000517.jpg\n",
      "m_3311814_sw_11_060_20180723_000518.jpg\n",
      "m_3311814_sw_11_060_20180723_000536.jpg\n",
      "m_3311814_sw_11_060_20180723_000539.jpg\n",
      "m_3311814_sw_11_060_20180723_000540.jpg\n",
      "m_3311814_sw_11_060_20180723_000541.jpg\n",
      "m_3311814_sw_11_060_20180723_000542.jpg\n",
      "m_3311814_sw_11_060_20180723_000543.jpg\n",
      "m_3812263_sw_10_060_20180723_000494.jpg\n",
      "m_3812263_sw_10_060_20180723_000495.jpg\n",
      "m_3812263_sw_10_060_20180723_000496.jpg\n",
      "m_3812264_se_10_060_20180715_000501.jpg\n",
      "m_3812264_se_10_060_20180715_000502.jpg\n",
      "m_3812264_se_10_060_20180715_000503.jpg\n",
      "m_4009152_se_15_060_20190728_000508.jpg\n",
      "m_4009152_se_15_060_20190728_000509.jpg\n",
      "images included in the image characteristics csv  19476 images not included in the image characteristics csv \\ left to be verified 35\n"
     ]
    }
   ],
   "source": [
    "#image_characteristics.to_csv('image_characteristics.csv')\n",
    "counterin = 0\n",
    "counternot = 0 \n",
    "\n",
    "#Check to see how many images are not yet in the image characteristics folder (not verified)\n",
    "for unique_jpg in verified_positive_jpgs[:,0]:\n",
    "    if image_characteristics['chip_name'].isin([unique_jpg]).any():\n",
    "        counterin += 1\n",
    "    if not image_characteristics['chip_name'].isin([unique_jpg]).any():\n",
    "        counternot += 1\n",
    "        print(unique_jpg)\n",
    "print(\"images included in the image characteristics csv \",counterin, \\\n",
    "      \"images not included in the image characteristics csv \\ left to be verified\", counternot)"
   ]
  }
 ],
 "metadata": {
  "kernelspec": {
   "display_name": "Chip Allocate",
   "language": "python",
   "name": "chip_allocate"
  },
  "language_info": {
   "codemirror_mode": {
    "name": "ipython",
    "version": 3
   },
   "file_extension": ".py",
   "mimetype": "text/x-python",
   "name": "python",
   "nbconvert_exporter": "python",
   "pygments_lexer": "ipython3",
   "version": "3.9.7"
  }
 },
 "nbformat": 4,
 "nbformat_minor": 5
}
