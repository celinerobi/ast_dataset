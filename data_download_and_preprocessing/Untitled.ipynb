{
 "cells": [
  {
   "cell_type": "code",
   "execution_count": 6,
   "id": "af8a8683-46f2-42d2-abd6-6ea9fba485f0",
   "metadata": {},
   "outputs": [],
   "source": [
    "import shutil\n",
    "import xml.etree.ElementTree as et\n",
    "import argparse\n",
    "\n",
    "import os\n",
    "import sys\n",
    "from PIL import Image\n",
    "import numpy as np\n",
    "from glob import glob\n",
    "import data_eng.az_proc as ap\n",
    "import data_eng.form_calcs as fc\n",
    "import tqdm"
   ]
  },
  {
   "cell_type": "code",
   "execution_count": 3,
   "id": "d447feac-2ac1-4489-9c4b-ccae7ffd06c5",
   "metadata": {},
   "outputs": [],
   "source": [
    "#parent_directory = \"//oit-nas-fe13dc.oit.duke.edu//data_commons-borsuk//compile_dir/compile_dir\"\n",
    "compile_directory = \"//oit-nas-fe13dc.oit.duke.edu//data_commons-borsuk//compile_dir\"\n",
    "complete_dataset_dir = os.path.abspath(os.path.join(compile_directory, os.pardir))"
   ]
  },
  {
   "cell_type": "code",
   "execution_count": 9,
   "id": "ceacb237-1eab-47e1-97ea-cb183f8f268e",
   "metadata": {},
   "outputs": [],
   "source": [
    "sub_directories = list()\n",
    "for annotator_directory in ap.list_of_sub_directories(compile_directory):\n",
    "    for root,dirs,files in os.walk(annotator_directory):\n",
    "        if \"chips_positive\" in dirs:\n",
    "            sub_directories.append(root)"
   ]
  },
  {
   "cell_type": "code",
   "execution_count": 10,
   "id": "7e8b488c-13f3-4274-8985-528f1eceece9",
   "metadata": {},
   "outputs": [
    {
     "name": "stderr",
     "output_type": "stream",
     "text": [
      "100%|██████████████████████████████████████████████████████████████████████████████| 2154/2154 [44:58<00:00,  1.25s/it]"
     ]
    },
    {
     "name": "stdout",
     "output_type": "stream",
     "text": [
      "39493 39493\n"
     ]
    },
    {
     "name": "stderr",
     "output_type": "stream",
     "text": [
      "\n"
     ]
    }
   ],
   "source": [
    "counter_annotations = 0\n",
    "counter_images = 0\n",
    "\n",
    "for i in tqdm.tqdm(range(len(sub_directories))):\n",
    "    annotator = sub_directories[i].rsplit(\"/\",1)[1].split(\"\\\\\")[0] #get the annotator name\n",
    "    sub_directory = sub_directories[i].rsplit(\"/\",1)[1] #get the sub folders for each annotator \n",
    "    \n",
    "    #Functions to move the annotations + images into folders \n",
    "    dist = ap.annotator(sub_directory)\n",
    "    dist.state_dcc_directory(compile_directory)\n",
    "    dist.make_subdirectories()    \n",
    "    annotations, images = dist.move_images_annotations_to_complete_dataset(complete_dataset_dir, False, True)\n",
    "\n",
    "    counter_annotations += annotations # count the number of annotations \n",
    "    counter_images += images #count the number of images\n",
    "print(counter_annotations, counter_images) #print the counters"
   ]
  }
 ],
 "metadata": {
  "kernelspec": {
   "display_name": "Chip Allocate",
   "language": "python",
   "name": "chip_allocate"
  },
  "language_info": {
   "codemirror_mode": {
    "name": "ipython",
    "version": 3
   },
   "file_extension": ".py",
   "mimetype": "text/x-python",
   "name": "python",
   "nbconvert_exporter": "python",
   "pygments_lexer": "ipython3",
   "version": "3.9.7"
  }
 },
 "nbformat": 4,
 "nbformat_minor": 5
}
