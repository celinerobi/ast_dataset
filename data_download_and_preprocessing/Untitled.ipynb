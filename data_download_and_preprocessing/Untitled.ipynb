{
 "cells": [
  {
   "cell_type": "code",
   "execution_count": null,
   "id": "a4e4708a-db66-4b6c-a535-43ca4a9a10fc",
   "metadata": {},
   "outputs": [],
   "source": [
    "from joblib import Parallel, delayed\n",
    "import multiprocessing\n",
    "# what are your inputs, and what operation do you want to\n",
    "# perform on each input. For example...\n",
    "inputs = range(10)\n",
    "def processInput(i):\n",
    "    return i * i\n",
    "num_cores = multiprocessing.cpu_count()\n",
    "results = Parallel(n_jobs=num_cores)(delayed(processInput)(i) for i in inputs"
   ]
  },
  {
   "cell_type": "code",
   "execution_count": 4,
   "id": "ffbf56fd-3137-4cf1-9711-ac97311bb578",
   "metadata": {},
   "outputs": [],
   "source": [
    "inputs = range(10)\n",
    "def processInput(i):\n",
    "    return i * i\n"
   ]
  },
  {
   "cell_type": "code",
   "execution_count": 6,
   "id": "4d34266d-3c8c-4cd0-890c-62774e1be945",
   "metadata": {},
   "outputs": [],
   "source": [
    "num_cores = multiprocessing.cpu_count()\n",
    "results = Parallel(n_jobs=num_cores)(delayed(processInput)(i) for i in inputs)                  "
   ]
  },
  {
   "cell_type": "code",
   "execution_count": 1,
   "id": "a547dc5c-c5b8-4c86-9f94-fec2bd8aafcd",
   "metadata": {},
   "outputs": [],
   "source": [
    "from joblib import Parallel, delayed\n",
    "import multiprocessing"
   ]
  }
 ],
 "metadata": {
  "kernelspec": {
   "display_name": "Python 3 (ipykernel)",
   "language": "python",
   "name": "python3"
  },
  "language_info": {
   "codemirror_mode": {
    "name": "ipython",
    "version": 3
   },
   "file_extension": ".py",
   "mimetype": "text/x-python",
   "name": "python",
   "nbconvert_exporter": "python",
   "pygments_lexer": "ipython3",
   "version": "3.8.13"
  }
 },
 "nbformat": 4,
 "nbformat_minor": 5
}
