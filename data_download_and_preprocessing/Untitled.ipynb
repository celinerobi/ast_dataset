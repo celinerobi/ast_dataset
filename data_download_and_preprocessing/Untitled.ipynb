{
 "cells": [
  {
   "cell_type": "code",
   "execution_count": 1,
   "id": "cbd50c73-4b04-4aed-9d29-dbeab27a4b0c",
   "metadata": {},
   "outputs": [],
   "source": [
    "import data_eng.az_proc as ap\n",
    "from glob import glob\n",
    "import os\n",
    "import xml.etree.ElementTree as et\n",
    "import numpy as np\n",
    "import pandas as pd"
   ]
  },
  {
   "cell_type": "code",
   "execution_count": null,
   "id": "dfd79f57-83a3-43fb-b88b-4c0a92d32fd7",
   "metadata": {},
   "outputs": [],
   "source": [
    "set_number = '2'\n",
    "home_directory = \"//oit-nas-fe13dc.oit.duke.edu//data_commons-borsuk\"\n",
    "folder_names = [\"Niculescu_Sunny_Poonacha\"]                            \n",
    "annotator_allocation = ['Mia','Tang']\n",
    "tracker_file_path = 'outputs/tile_img_annotation_annotator.npy'"
   ]
  },
  {
   "cell_type": "code",
   "execution_count": 18,
   "id": "4f2207ab-a953-4712-88b1-9fd78a397675",
   "metadata": {},
   "outputs": [
    {
     "name": "stdout",
     "output_type": "stream",
     "text": [
      "mn_60cm_2019_47096_m_4709624_nw_14_060_20190723_000203.xml\n",
      "<xml.etree.ElementTree.ElementTree object at 0x0000013A0BF113A0>\n",
      "<Element 'annotation' at 0x0000013A0BF0CE00>\n",
      "\n",
      "\t\t\n",
      "narrow_closed_roof_tank\n",
      "\n",
      "\t\t\n",
      "narrow_closed_roof_tank\n",
      "\n",
      "\t\t\n",
      "narrow_closed_roof_tank\n",
      "\n",
      "\t\t\n",
      "narrow_closed_roof_tank\n",
      "\n",
      "\t\t\n",
      "narrow_closed_roof_tank\n",
      "\n",
      "\t\t\n",
      "narrow_closed_roof_tank\n",
      "\n",
      "\t\t\n",
      "undefined_object\n",
      "\n",
      "\t\t\n",
      "undefined_object\n",
      "\n",
      "\t\t\n",
      "undefined_object\n",
      "\n",
      "\t\t\n",
      "undefined_object\n",
      "\n",
      "\t\t\n",
      "undefined_object\n",
      "\n",
      "\t\t\n",
      "'\n"
     ]
    }
   ],
   "source": [
    "w = 15505\n",
    "\n",
    "print(dist.chips_positive_list[w])\n",
    "print(len(dist.chips_positive_list))\n",
    "print(dist.chips_xml_list[w])\n",
    "print(len(dist.chips_xml_list))\n",
    "\n",
    "xml_file = dist.chips_xml_list[w]\n",
    "print(xml_file)\n",
    "# use the parse() function to load and parse an XML file\n",
    "tree = et.parse(os.path.join(dist.chips_xml_dir, xml_file))\n",
    "print(tree)\n",
    "root = tree.getroot() \n",
    "print(root)\n",
    "for obj in root.iter('object'):\n",
    "    print(obj.text)\n",
    "    for name in obj.findall('name'):\n",
    "        print(name.text)"
   ]
  },
  {
   "cell_type": "code",
   "execution_count": null,
   "id": "e24dac31-1460-4167-9244-2c48941021e9",
   "metadata": {
    "tags": []
   },
   "outputs": [],
   "source": [
    "positive_xml = os.listdir(\"//oit-nas-fe13dc.oit.duke.edu/data_commons-borsuk/complete_dataset/chips_positive_xml\")\n",
    "for i in range(len(positive_xml)):\n",
    "    positive_xml[i] = positive_xml[i].split(\".\")[0]\n",
    "    \n",
    "positive = os.listdir(\"//oit-nas-fe13dc.oit.duke.edu/data_commons-borsuk/complete_dataset/chips_positive\")\n",
    "for i in range(len(positive)):\n",
    "    positive[i] = positive[i].split(\".\")[0]\n",
    "main_list = list(set(positive_xml) - set(positive))\n",
    "\n",
    "positive = os.listdir(\"//oit-nas-fe13dc.oit.duke.edu/data_commons-borsuk/complete_dataset/chips_positive\")\n",
    "positive_recorded = list(np.load(tracker_file_path)[:,1])\n",
    "main_list = list(set(positive_recorded) - set(positive))\n",
    "len(main_list)"
   ]
  },
  {
   "cell_type": "code",
   "execution_count": 2,
   "id": "18b35a3f-3402-4bac-95c6-fb4f9fc0b1f5",
   "metadata": {},
   "outputs": [],
   "source": [
    "complete_dataset_directory = \"//oit-nas-fe13dc.oit.duke.edu//data_commons-borsuk/complete_dataset\"\n",
    "annotation_directory = \"chips_positive_corrected_xml\"\n",
    "img_path = os.path.join(complete_dataset_directory, 'chips_positive')\n",
    "anno_path = os.path.join(complete_dataset_directory, annotation_directory)\n",
    "#ap.dataset_summary_assessment(np.hstack((img_path,anno_path)))  \n",
    "img_annotation_path = np.hstack((img_path,anno_path))"
   ]
  },
  {
   "cell_type": "code",
   "execution_count": 3,
   "id": "f5635de0-dc18-439a-beab-125f9d825bad",
   "metadata": {},
   "outputs": [],
   "source": [
    "summary_table = pd.DataFrame({\"categories\":[\"all_objects_count\",\"closed_roof_tank_count\", \"narrow_closed_roof_tank_count\", \n",
    "                                            \"external_floating_roof_tank_count\", \"spherical_tank_count\", \"sedimentation_tank_count\", \n",
    "                                            \"water_tower_count\", \"undefined_object\"],\n",
    "                                 \"values\": [0]*8})\n",
    "summary_table.set_index('categories', inplace = True)\n",
    "\n",
    "unknown_object = []\n",
    "number_of_images = 0\n",
    "img_annotation_path = np.hstack((img_path,anno_path))"
   ]
  },
  {
   "cell_type": "code",
   "execution_count": null,
   "id": "c9e51aba-0859-4f3c-be2c-45455a41ccd5",
   "metadata": {},
   "outputs": [],
   "source": [
    "#set3\n",
    "#folder_names_set3 = [\"anyone\",  ]       # Tang#2         Poonacha#2   Sunny#2                         \n",
    "#annotator_allocation_set3 = [['Josh','Jaewon',\"Shen\",'Katpally']]"
   ]
  }
 ],
 "metadata": {
  "kernelspec": {
   "display_name": "Chip Allocate",
   "language": "python",
   "name": "chip_allocate"
  },
  "language_info": {
   "codemirror_mode": {
    "name": "ipython",
    "version": 3
   },
   "file_extension": ".py",
   "mimetype": "text/x-python",
   "name": "python",
   "nbconvert_exporter": "python",
   "pygments_lexer": "ipython3",
   "version": "3.9.7"
  }
 },
 "nbformat": 4,
 "nbformat_minor": 5
}
