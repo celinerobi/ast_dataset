{
 "cells": [
  {
   "cell_type": "code",
   "execution_count": 27,
   "id": "f1d0d944-e84a-485d-8e95-ff07f157a2e5",
   "metadata": {},
   "outputs": [],
   "source": [
    "import numpy as np\n",
    "a1 = \"ssss\"\n",
    "a2 = \"see\"\n"
   ]
  },
  {
   "cell_type": "code",
   "execution_count": 36,
   "id": "42fd4e1f-8479-4eef-9688-adbe8f623b6c",
   "metadata": {},
   "outputs": [
    {
     "data": {
      "text/plain": [
       "array(['seek', 'seal', 'seem', 'seek', 'seem'], dtype='<U4')"
      ]
     },
     "execution_count": 36,
     "metadata": {},
     "output_type": "execute_result"
    }
   ],
   "source": [
    "np.concatenate((['seek', 'seal', 'seem'], ['seek', 'seem']))"
   ]
  },
  {
   "cell_type": "code",
   "execution_count": 26,
   "id": "0b16f509-ddbf-4681-ae01-37a22360f42c",
   "metadata": {},
   "outputs": [
    {
     "data": {
      "text/plain": [
       "(3,)"
      ]
     },
     "execution_count": 26,
     "metadata": {},
     "output_type": "execute_result"
    }
   ],
   "source": [
    "    u, c = np.unique(b, return_counts=True)\n",
    "    dup = u[c > 1]\n",
    "    duplicate_images = images[np.where(np.isin(b,dup))[0]]"
   ]
  }
 ],
 "metadata": {
  "kernelspec": {
   "display_name": "Chip Allocate",
   "language": "python",
   "name": "chip_allocate"
  },
  "language_info": {
   "codemirror_mode": {
    "name": "ipython",
    "version": 3
   },
   "file_extension": ".py",
   "mimetype": "text/x-python",
   "name": "python",
   "nbconvert_exporter": "python",
   "pygments_lexer": "ipython3",
   "version": "3.9.7"
  }
 },
 "nbformat": 4,
 "nbformat_minor": 5
}
