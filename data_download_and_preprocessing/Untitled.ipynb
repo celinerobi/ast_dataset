{
 "cells": [
  {
   "cell_type": "code",
   "execution_count": 2,
   "id": "487533fd-855e-4973-8471-7517978e4715",
   "metadata": {},
   "outputs": [],
   "source": [
    "import data_eng.az_proc as ap\n",
    "import data_eng.form_calcs as fc\n",
    "\n",
    "from glob import glob\n",
    "import os\n",
    "import xml.etree.ElementTree as et\n",
    "import numpy as np\n",
    "import pandas as pd\n",
    "import cv2\n",
    "import math"
   ]
  },
  {
   "cell_type": "code",
   "execution_count": 4,
   "id": "1e423b69-1c58-40f5-bcc4-72217dcef38a",
   "metadata": {},
   "outputs": [
    {
     "name": "stdout",
     "output_type": "stream",
     "text": [
      "Package              Version\n",
      "-------------------- -----------\n",
      "affine               2.3.0\n",
      "argon2-cffi          21.3.0\n",
      "argon2-cffi-bindings 21.2.0\n",
      "attrs                21.4.0\n",
      "backcall             0.2.0\n",
      "bleach               4.1.0\n",
      "Bottleneck           1.3.2\n",
      "certifi              2021.10.8\n",
      "cffi                 1.15.0\n",
      "click                8.0.3\n",
      "click-plugins        1.1.1\n",
      "cligj                0.7.2\n",
      "cloudpickle          2.0.0\n",
      "colorama             0.4.4\n",
      "cycler               0.11.0\n",
      "cytoolz              0.11.0\n",
      "dask                 2021.10.0\n",
      "debugpy              1.5.1\n",
      "decorator            5.1.0\n",
      "defusedxml           0.7.1\n",
      "entrypoints          0.3\n",
      "ffmpeg-python        0.2.0\n",
      "Fiona                1.8.20\n",
      "flit_core            3.6.0\n",
      "fonttools            4.28.5\n",
      "fsspec               2022.1.0\n",
      "future               0.18.2\n",
      "GDAL                 3.4.1\n",
      "geographiclib        1.52\n",
      "geopandas            0.10.2\n",
      "geopy                2.2.0\n",
      "imageio              2.9.0\n",
      "importlib-metadata   4.10.1\n",
      "importlib-resources  5.4.0\n",
      "imutils              0.5.4\n",
      "ipykernel            6.4.1\n",
      "ipython              7.29.0\n",
      "ipython-genutils     0.2.0\n",
      "ipywidgets           7.6.5\n",
      "jedi                 0.18.0\n",
      "Jinja2               3.0.3\n",
      "joblib               1.1.0\n",
      "jsonschema           4.4.0\n",
      "jupyter-client       7.0.6\n",
      "jupyter-core         4.9.1\n",
      "jupyterlab-pygments  0.1.2\n",
      "jupyterlab-widgets   1.0.2\n",
      "kiwisolver           1.3.2\n",
      "linear-tree          0.3.2\n",
      "locket               0.2.1\n",
      "lxml                 4.6.4\n",
      "MarkupSafe           2.0.1\n",
      "matplotlib           3.5.1\n",
      "matplotlib-inline    0.1.2\n",
      "mistune              0.8.4\n",
      "mkl-fft              1.3.1\n",
      "mkl-random           1.2.2\n",
      "mkl-service          2.4.0\n",
      "munch                2.5.0\n",
      "munkres              1.1.4\n",
      "nbclient             0.5.10\n",
      "nbconvert            6.4.0\n",
      "nbformat             5.1.3\n",
      "nest-asyncio         1.5.1\n",
      "networkx             2.6.3\n",
      "notebook             6.4.7\n",
      "numexpr              2.7.3\n",
      "numpy                1.21.2\n",
      "olefile              0.46\n",
      "opencv-python        4.5.3.56\n",
      "packaging            21.3\n",
      "pandas               1.3.3\n",
      "pandocfilters        1.5.0\n",
      "parso                0.8.2\n",
      "partd                1.2.0\n",
      "patsy                0.5.2\n",
      "pickleshare          0.7.5\n",
      "piecewise-regression 1.2.1\n",
      "Pillow               8.3.1\n",
      "pip                  21.2.4\n",
      "progressbar2         3.54.0\n",
      "prometheus-client    0.12.0\n",
      "prompt-toolkit       3.0.20\n",
      "psutil               5.9.0\n",
      "pwlf                 2.1.0\n",
      "pycparser            2.21\n",
      "PyCRS                1.0.2\n",
      "pyDOE                0.3.8\n",
      "Pygments             2.10.0\n",
      "pyparsing            3.0.6\n",
      "pyproj               3.3.0\n",
      "PyQt5                5.12.3\n",
      "PyQt5_sip            4.19.18\n",
      "PyQtChart            5.12\n",
      "PyQtWebEngine        5.12.1\n",
      "pyrsistent           0.18.1\n",
      "python-dateutil      2.8.2\n",
      "python-utils         2.5.6\n",
      "pytz                 2021.3\n",
      "PyWavelets           1.1.1\n",
      "pywin32              302\n",
      "pywinpty             0.5.7\n",
      "PyYAML               6.0\n",
      "pyzmq                22.3.0\n",
      "rasterio             1.2.10\n",
      "rioxarray            0.10.1\n",
      "Rtree                0.9.7\n",
      "scikit-image         0.16.2\n",
      "scikit-learn         1.0.2\n",
      "scipy                1.7.3\n",
      "Send2Trash           1.8.0\n",
      "setuptools           58.0.4\n",
      "Shapely              1.8.1.post1\n",
      "sip                  4.19.13\n",
      "six                  1.16.0\n",
      "snuggs               1.4.7\n",
      "statsmodels          0.13.2\n",
      "terminado            0.9.4\n",
      "testpath             0.5.0\n",
      "threadpoolctl        3.1.0\n",
      "toolz                0.11.2\n",
      "tornado              6.1\n",
      "tqdm                 4.62.2\n",
      "traitlets            5.1.1\n",
      "wcwidth              0.2.5\n",
      "webencodings         0.5.1\n",
      "wheel                0.37.0\n",
      "widgetsnbextension   3.5.2\n",
      "wincertstore         0.2\n",
      "xarray               0.21.1\n",
      "zipp                 3.7.0\n",
      "Note: you may need to restart the kernel to use updated packages.\n"
     ]
    },
    {
     "name": "stderr",
     "output_type": "stream",
     "text": [
      "WARNING: Ignoring invalid distribution -hapely (c:\\programdata\\anaconda3\\envs\\chip_allocate\\lib\\site-packages)\n",
      "WARNING: Ignoring invalid distribution - (c:\\programdata\\anaconda3\\envs\\chip_allocate\\lib\\site-packages)\n",
      "WARNING: Ignoring invalid distribution -hapely (c:\\programdata\\anaconda3\\envs\\chip_allocate\\lib\\site-packages)\n",
      "WARNING: Ignoring invalid distribution - (c:\\programdata\\anaconda3\\envs\\chip_allocate\\lib\\site-packages)\n",
      "WARNING: Ignoring invalid distribution -hapely (c:\\programdata\\anaconda3\\envs\\chip_allocate\\lib\\site-packages)\n",
      "WARNING: Ignoring invalid distribution - (c:\\programdata\\anaconda3\\envs\\chip_allocate\\lib\\site-packages)\n",
      "WARNING: Ignoring invalid distribution -hapely (c:\\programdata\\anaconda3\\envs\\chip_allocate\\lib\\site-packages)\n",
      "WARNING: Ignoring invalid distribution - (c:\\programdata\\anaconda3\\envs\\chip_allocate\\lib\\site-packages)\n"
     ]
    }
   ],
   "source": [
    "pip list"
   ]
  },
  {
   "cell_type": "code",
   "execution_count": 3,
   "id": "39ed8a50-608f-4a7c-a60f-d5ae70b34ef4",
   "metadata": {},
   "outputs": [],
   "source": [
    "fc.remove_thumbs(\"//oit-nas-fe13dc.oit.duke.edu//data_commons-borsuk//complete_dataset/chips_positive\")"
   ]
  },
  {
   "cell_type": "code",
   "execution_count": 14,
   "id": "1ec5d95b-e7fc-493a-b36e-d4651f3829c4",
   "metadata": {},
   "outputs": [],
   "source": [
    "def collected_quads_to_tile_name_tile_url(quads):\n",
    "    \"\"\"\n",
    "    Read in a excel sheet which includes the quadrangle \n",
    "    \"\"\"\n",
    "    \n",
    "    tile_name = []\n",
    "    tile_url = []\n",
    "    file_name_index = {'m': 0, 'qqname': 1, 'direction': 2,'YY': 3, 'resolution': 4,'capture_date': 5,'version_date': 5}\n",
    "    blob_root = 'https://naipeuwest.blob.core.windows.net/naip'\n",
    "    two_digit_state_resolution = [\"al\",\"ak\",\"az\",\"ar\",\"ca\", \"co\",\"ct\",\"de\",\"fl\",\"ga\",\n",
    "                                  \"hi\",\"id\",\"il\",\"in\",\"ia\", \"ks\",\"ky\",\"la\",\"me\",\"md\",\n",
    "                                  \"ma\",\"mi\",\"mn\",\"ms\",\"mo\", \"mt\",\"ne\",\"nv\",\"nh\",\"nj\",\n",
    "                                  \"nm\",\"ny\",\"nc\",\"nd\",\"oh\", \"ok\",\"or\",\"pa\",\"ri\",\"sc\",\n",
    "                                  \"sd\",\"tn\",\"tx\",\"ut\",\"vt\", \"va\", \"wa\",\"wv\",\"wi\",\"wy\"]\n",
    "\n",
    "    for i in range(len(quads)):\n",
    "        file_name = quads.iloc[i,0].split('_') #filename\n",
    "        state = quads.iloc[i,1].lower() #state\n",
    "        year = quads.iloc[i,2] # YYYY\n",
    "        if state in two_digit_state_resolution:\n",
    "            resolution = file_name[file_name_index[\"resolution\"]][1:3]+\"cm\"\n",
    "        else:\n",
    "            resolution = file_name[file_name_index[\"resolution\"]]+\"cm\"\n",
    "        quadrangle = file_name[file_name_index[\"qqname\"]][0:5] #qqname\n",
    "        \n",
    "        tile_name.append(quads.iloc[i,0] +'.tif')\n",
    "        tile_url.append(blob_root + '/v002/' + state + '/' + str(year)+ '/' + state + '_' + resolution \\\n",
    "                    + '_' + str(year) + '/' + str(quadrangle) + '/' + tile_name[i])\n",
    "        # Tiles are stored at: [blob root]/v002/[state]/[year]/[state]_[resolution]_[year]/[quadrangle]/filename\n",
    "    return (tile_name, tile_url)"
   ]
  },
  {
   "cell_type": "code",
   "execution_count": 11,
   "id": "fd909a2d-23aa-415d-95c4-b4b0acac2d87",
   "metadata": {},
   "outputs": [],
   "source": [
    "quads = pd.read_csv(\"image_download_azure/HSC.csv\")"
   ]
  },
  {
   "cell_type": "code",
   "execution_count": 25,
   "id": "70171907-d7f2-4d78-a7e0-f47f20455084",
   "metadata": {},
   "outputs": [],
   "source": [
    "tile_name, tile_url = collected_quads_to_tile_name_tile_url(quads)"
   ]
  },
  {
   "cell_type": "code",
   "execution_count": 30,
   "id": "28bfeeb5-a2d1-4346-8de1-1887922be455",
   "metadata": {},
   "outputs": [],
   "source": [
    "tile_name_tile_url = np.array((tile_name, tile_url)).T"
   ]
  },
  {
   "cell_type": "code",
   "execution_count": 17,
   "id": "fdc9de92-8df6-448f-abbe-4224350212c0",
   "metadata": {},
   "outputs": [],
   "source": [
    "parent_directory = \"//oit-nas-fe13dc.oit.duke.edu//data_commons-borsuk//\"\n",
    "\n",
    "#create folder to hold tiles in completed dataset\n",
    "#load tiles and tile xmls\n",
    "tiles_dir = os.path.join(parent_directory,\"complete_dataset\",\"tiles\")\n",
    "tiles = os.listdir(tiles_dir)"
   ]
  },
  {
   "cell_type": "code",
   "execution_count": 46,
   "id": "fc61bf69-91c6-4144-ac95-362246c31c28",
   "metadata": {},
   "outputs": [
    {
     "ename": "HTTPError",
     "evalue": "HTTP Error 404: The specified blob does not exist.",
     "output_type": "error",
     "traceback": [
      "\u001b[1;31m---------------------------------------------------------------------------\u001b[0m",
      "\u001b[1;31mHTTPError\u001b[0m                                 Traceback (most recent call last)",
      "\u001b[1;32mC:\\Users\\RAPIDU~1\\AppData\\Local\\Temp/ipykernel_6016/850362567.py\u001b[0m in \u001b[0;36m<module>\u001b[1;34m\u001b[0m\n\u001b[0;32m      4\u001b[0m     \u001b[0mtile_download\u001b[0m \u001b[1;33m=\u001b[0m \u001b[1;33m[\u001b[0m\u001b[0mstring\u001b[0m \u001b[1;32mfor\u001b[0m \u001b[0mstring\u001b[0m \u001b[1;32min\u001b[0m \u001b[0mtiles\u001b[0m \u001b[1;32mif\u001b[0m \u001b[0mquads\u001b[0m \u001b[1;32min\u001b[0m \u001b[0mstring\u001b[0m\u001b[1;33m]\u001b[0m\u001b[1;33m\u001b[0m\u001b[1;33m\u001b[0m\u001b[0m\n\u001b[0;32m      5\u001b[0m     \u001b[1;32mif\u001b[0m \u001b[0mlen\u001b[0m\u001b[1;33m(\u001b[0m\u001b[0mtile_download\u001b[0m\u001b[1;33m)\u001b[0m \u001b[1;33m<\u001b[0m \u001b[1;36m1\u001b[0m\u001b[1;33m:\u001b[0m\u001b[1;33m\u001b[0m\u001b[1;33m\u001b[0m\u001b[0m\n\u001b[1;32m----> 6\u001b[1;33m         file_names.append(ap.download_url(tile[1], tiles_dir,\n\u001b[0m\u001b[0;32m      7\u001b[0m                                           \u001b[0mdestination_filename\u001b[0m \u001b[1;33m=\u001b[0m \u001b[0mtile\u001b[0m\u001b[1;33m[\u001b[0m\u001b[1;36m0\u001b[0m\u001b[1;33m]\u001b[0m\u001b[1;33m,\u001b[0m\u001b[1;33m\u001b[0m\u001b[1;33m\u001b[0m\u001b[0m\n\u001b[0;32m      8\u001b[0m                                           progress_updater=ap.DownloadProgressBar()))\n",
      "\u001b[1;32m~\\cred\\AST_dataset\\data_download_and_preprocessing\\data_eng\\az_proc.py\u001b[0m in \u001b[0;36mdownload_url\u001b[1;34m(url, destination_folder, destination_filename, progress_updater, force_download)\u001b[0m\n\u001b[0;32m    176\u001b[0m         \u001b[1;32mreturn\u001b[0m \u001b[0mdestination_filename\u001b[0m\u001b[1;33m\u001b[0m\u001b[1;33m\u001b[0m\u001b[0m\n\u001b[0;32m    177\u001b[0m   \u001b[1;31m#  print('Downloading file {} to {}'.format(os.path.basename(url),destination_filename),end='')\u001b[0m\u001b[1;33m\u001b[0m\u001b[1;33m\u001b[0m\u001b[0m\n\u001b[1;32m--> 178\u001b[1;33m     \u001b[0murllib\u001b[0m\u001b[1;33m.\u001b[0m\u001b[0mrequest\u001b[0m\u001b[1;33m.\u001b[0m\u001b[0murlretrieve\u001b[0m\u001b[1;33m(\u001b[0m\u001b[0murl\u001b[0m\u001b[1;33m,\u001b[0m \u001b[0mdestination_filename\u001b[0m\u001b[1;33m,\u001b[0m \u001b[0mprogress_updater\u001b[0m\u001b[1;33m)\u001b[0m\u001b[1;33m\u001b[0m\u001b[1;33m\u001b[0m\u001b[0m\n\u001b[0m\u001b[0;32m    179\u001b[0m     \u001b[1;32massert\u001b[0m\u001b[1;33m(\u001b[0m\u001b[0mos\u001b[0m\u001b[1;33m.\u001b[0m\u001b[0mpath\u001b[0m\u001b[1;33m.\u001b[0m\u001b[0misfile\u001b[0m\u001b[1;33m(\u001b[0m\u001b[0mdestination_filename\u001b[0m\u001b[1;33m)\u001b[0m\u001b[1;33m)\u001b[0m\u001b[1;33m\u001b[0m\u001b[1;33m\u001b[0m\u001b[0m\n\u001b[0;32m    180\u001b[0m     \u001b[0mnBytes\u001b[0m \u001b[1;33m=\u001b[0m \u001b[0mos\u001b[0m\u001b[1;33m.\u001b[0m\u001b[0mpath\u001b[0m\u001b[1;33m.\u001b[0m\u001b[0mgetsize\u001b[0m\u001b[1;33m(\u001b[0m\u001b[0mdestination_filename\u001b[0m\u001b[1;33m)\u001b[0m\u001b[1;33m\u001b[0m\u001b[1;33m\u001b[0m\u001b[0m\n",
      "\u001b[1;32mC:\\ProgramData\\Anaconda3\\envs\\chip_allocate\\lib\\urllib\\request.py\u001b[0m in \u001b[0;36murlretrieve\u001b[1;34m(url, filename, reporthook, data)\u001b[0m\n\u001b[0;32m    237\u001b[0m     \u001b[0murl_type\u001b[0m\u001b[1;33m,\u001b[0m \u001b[0mpath\u001b[0m \u001b[1;33m=\u001b[0m \u001b[0m_splittype\u001b[0m\u001b[1;33m(\u001b[0m\u001b[0murl\u001b[0m\u001b[1;33m)\u001b[0m\u001b[1;33m\u001b[0m\u001b[1;33m\u001b[0m\u001b[0m\n\u001b[0;32m    238\u001b[0m \u001b[1;33m\u001b[0m\u001b[0m\n\u001b[1;32m--> 239\u001b[1;33m     \u001b[1;32mwith\u001b[0m \u001b[0mcontextlib\u001b[0m\u001b[1;33m.\u001b[0m\u001b[0mclosing\u001b[0m\u001b[1;33m(\u001b[0m\u001b[0murlopen\u001b[0m\u001b[1;33m(\u001b[0m\u001b[0murl\u001b[0m\u001b[1;33m,\u001b[0m \u001b[0mdata\u001b[0m\u001b[1;33m)\u001b[0m\u001b[1;33m)\u001b[0m \u001b[1;32mas\u001b[0m \u001b[0mfp\u001b[0m\u001b[1;33m:\u001b[0m\u001b[1;33m\u001b[0m\u001b[1;33m\u001b[0m\u001b[0m\n\u001b[0m\u001b[0;32m    240\u001b[0m         \u001b[0mheaders\u001b[0m \u001b[1;33m=\u001b[0m \u001b[0mfp\u001b[0m\u001b[1;33m.\u001b[0m\u001b[0minfo\u001b[0m\u001b[1;33m(\u001b[0m\u001b[1;33m)\u001b[0m\u001b[1;33m\u001b[0m\u001b[1;33m\u001b[0m\u001b[0m\n\u001b[0;32m    241\u001b[0m \u001b[1;33m\u001b[0m\u001b[0m\n",
      "\u001b[1;32mC:\\ProgramData\\Anaconda3\\envs\\chip_allocate\\lib\\urllib\\request.py\u001b[0m in \u001b[0;36murlopen\u001b[1;34m(url, data, timeout, cafile, capath, cadefault, context)\u001b[0m\n\u001b[0;32m    212\u001b[0m     \u001b[1;32melse\u001b[0m\u001b[1;33m:\u001b[0m\u001b[1;33m\u001b[0m\u001b[1;33m\u001b[0m\u001b[0m\n\u001b[0;32m    213\u001b[0m         \u001b[0mopener\u001b[0m \u001b[1;33m=\u001b[0m \u001b[0m_opener\u001b[0m\u001b[1;33m\u001b[0m\u001b[1;33m\u001b[0m\u001b[0m\n\u001b[1;32m--> 214\u001b[1;33m     \u001b[1;32mreturn\u001b[0m \u001b[0mopener\u001b[0m\u001b[1;33m.\u001b[0m\u001b[0mopen\u001b[0m\u001b[1;33m(\u001b[0m\u001b[0murl\u001b[0m\u001b[1;33m,\u001b[0m \u001b[0mdata\u001b[0m\u001b[1;33m,\u001b[0m \u001b[0mtimeout\u001b[0m\u001b[1;33m)\u001b[0m\u001b[1;33m\u001b[0m\u001b[1;33m\u001b[0m\u001b[0m\n\u001b[0m\u001b[0;32m    215\u001b[0m \u001b[1;33m\u001b[0m\u001b[0m\n\u001b[0;32m    216\u001b[0m \u001b[1;32mdef\u001b[0m \u001b[0minstall_opener\u001b[0m\u001b[1;33m(\u001b[0m\u001b[0mopener\u001b[0m\u001b[1;33m)\u001b[0m\u001b[1;33m:\u001b[0m\u001b[1;33m\u001b[0m\u001b[1;33m\u001b[0m\u001b[0m\n",
      "\u001b[1;32mC:\\ProgramData\\Anaconda3\\envs\\chip_allocate\\lib\\urllib\\request.py\u001b[0m in \u001b[0;36mopen\u001b[1;34m(self, fullurl, data, timeout)\u001b[0m\n\u001b[0;32m    521\u001b[0m         \u001b[1;32mfor\u001b[0m \u001b[0mprocessor\u001b[0m \u001b[1;32min\u001b[0m \u001b[0mself\u001b[0m\u001b[1;33m.\u001b[0m\u001b[0mprocess_response\u001b[0m\u001b[1;33m.\u001b[0m\u001b[0mget\u001b[0m\u001b[1;33m(\u001b[0m\u001b[0mprotocol\u001b[0m\u001b[1;33m,\u001b[0m \u001b[1;33m[\u001b[0m\u001b[1;33m]\u001b[0m\u001b[1;33m)\u001b[0m\u001b[1;33m:\u001b[0m\u001b[1;33m\u001b[0m\u001b[1;33m\u001b[0m\u001b[0m\n\u001b[0;32m    522\u001b[0m             \u001b[0mmeth\u001b[0m \u001b[1;33m=\u001b[0m \u001b[0mgetattr\u001b[0m\u001b[1;33m(\u001b[0m\u001b[0mprocessor\u001b[0m\u001b[1;33m,\u001b[0m \u001b[0mmeth_name\u001b[0m\u001b[1;33m)\u001b[0m\u001b[1;33m\u001b[0m\u001b[1;33m\u001b[0m\u001b[0m\n\u001b[1;32m--> 523\u001b[1;33m             \u001b[0mresponse\u001b[0m \u001b[1;33m=\u001b[0m \u001b[0mmeth\u001b[0m\u001b[1;33m(\u001b[0m\u001b[0mreq\u001b[0m\u001b[1;33m,\u001b[0m \u001b[0mresponse\u001b[0m\u001b[1;33m)\u001b[0m\u001b[1;33m\u001b[0m\u001b[1;33m\u001b[0m\u001b[0m\n\u001b[0m\u001b[0;32m    524\u001b[0m \u001b[1;33m\u001b[0m\u001b[0m\n\u001b[0;32m    525\u001b[0m         \u001b[1;32mreturn\u001b[0m \u001b[0mresponse\u001b[0m\u001b[1;33m\u001b[0m\u001b[1;33m\u001b[0m\u001b[0m\n",
      "\u001b[1;32mC:\\ProgramData\\Anaconda3\\envs\\chip_allocate\\lib\\urllib\\request.py\u001b[0m in \u001b[0;36mhttp_response\u001b[1;34m(self, request, response)\u001b[0m\n\u001b[0;32m    630\u001b[0m         \u001b[1;31m# request was successfully received, understood, and accepted.\u001b[0m\u001b[1;33m\u001b[0m\u001b[1;33m\u001b[0m\u001b[0m\n\u001b[0;32m    631\u001b[0m         \u001b[1;32mif\u001b[0m \u001b[1;32mnot\u001b[0m \u001b[1;33m(\u001b[0m\u001b[1;36m200\u001b[0m \u001b[1;33m<=\u001b[0m \u001b[0mcode\u001b[0m \u001b[1;33m<\u001b[0m \u001b[1;36m300\u001b[0m\u001b[1;33m)\u001b[0m\u001b[1;33m:\u001b[0m\u001b[1;33m\u001b[0m\u001b[1;33m\u001b[0m\u001b[0m\n\u001b[1;32m--> 632\u001b[1;33m             response = self.parent.error(\n\u001b[0m\u001b[0;32m    633\u001b[0m                 'http', request, response, code, msg, hdrs)\n\u001b[0;32m    634\u001b[0m \u001b[1;33m\u001b[0m\u001b[0m\n",
      "\u001b[1;32mC:\\ProgramData\\Anaconda3\\envs\\chip_allocate\\lib\\urllib\\request.py\u001b[0m in \u001b[0;36merror\u001b[1;34m(self, proto, *args)\u001b[0m\n\u001b[0;32m    559\u001b[0m         \u001b[1;32mif\u001b[0m \u001b[0mhttp_err\u001b[0m\u001b[1;33m:\u001b[0m\u001b[1;33m\u001b[0m\u001b[1;33m\u001b[0m\u001b[0m\n\u001b[0;32m    560\u001b[0m             \u001b[0margs\u001b[0m \u001b[1;33m=\u001b[0m \u001b[1;33m(\u001b[0m\u001b[0mdict\u001b[0m\u001b[1;33m,\u001b[0m \u001b[1;34m'default'\u001b[0m\u001b[1;33m,\u001b[0m \u001b[1;34m'http_error_default'\u001b[0m\u001b[1;33m)\u001b[0m \u001b[1;33m+\u001b[0m \u001b[0morig_args\u001b[0m\u001b[1;33m\u001b[0m\u001b[1;33m\u001b[0m\u001b[0m\n\u001b[1;32m--> 561\u001b[1;33m             \u001b[1;32mreturn\u001b[0m \u001b[0mself\u001b[0m\u001b[1;33m.\u001b[0m\u001b[0m_call_chain\u001b[0m\u001b[1;33m(\u001b[0m\u001b[1;33m*\u001b[0m\u001b[0margs\u001b[0m\u001b[1;33m)\u001b[0m\u001b[1;33m\u001b[0m\u001b[1;33m\u001b[0m\u001b[0m\n\u001b[0m\u001b[0;32m    562\u001b[0m \u001b[1;33m\u001b[0m\u001b[0m\n\u001b[0;32m    563\u001b[0m \u001b[1;31m# XXX probably also want an abstract factory that knows when it makes\u001b[0m\u001b[1;33m\u001b[0m\u001b[1;33m\u001b[0m\u001b[0m\n",
      "\u001b[1;32mC:\\ProgramData\\Anaconda3\\envs\\chip_allocate\\lib\\urllib\\request.py\u001b[0m in \u001b[0;36m_call_chain\u001b[1;34m(self, chain, kind, meth_name, *args)\u001b[0m\n\u001b[0;32m    492\u001b[0m         \u001b[1;32mfor\u001b[0m \u001b[0mhandler\u001b[0m \u001b[1;32min\u001b[0m \u001b[0mhandlers\u001b[0m\u001b[1;33m:\u001b[0m\u001b[1;33m\u001b[0m\u001b[1;33m\u001b[0m\u001b[0m\n\u001b[0;32m    493\u001b[0m             \u001b[0mfunc\u001b[0m \u001b[1;33m=\u001b[0m \u001b[0mgetattr\u001b[0m\u001b[1;33m(\u001b[0m\u001b[0mhandler\u001b[0m\u001b[1;33m,\u001b[0m \u001b[0mmeth_name\u001b[0m\u001b[1;33m)\u001b[0m\u001b[1;33m\u001b[0m\u001b[1;33m\u001b[0m\u001b[0m\n\u001b[1;32m--> 494\u001b[1;33m             \u001b[0mresult\u001b[0m \u001b[1;33m=\u001b[0m \u001b[0mfunc\u001b[0m\u001b[1;33m(\u001b[0m\u001b[1;33m*\u001b[0m\u001b[0margs\u001b[0m\u001b[1;33m)\u001b[0m\u001b[1;33m\u001b[0m\u001b[1;33m\u001b[0m\u001b[0m\n\u001b[0m\u001b[0;32m    495\u001b[0m             \u001b[1;32mif\u001b[0m \u001b[0mresult\u001b[0m \u001b[1;32mis\u001b[0m \u001b[1;32mnot\u001b[0m \u001b[1;32mNone\u001b[0m\u001b[1;33m:\u001b[0m\u001b[1;33m\u001b[0m\u001b[1;33m\u001b[0m\u001b[0m\n\u001b[0;32m    496\u001b[0m                 \u001b[1;32mreturn\u001b[0m \u001b[0mresult\u001b[0m\u001b[1;33m\u001b[0m\u001b[1;33m\u001b[0m\u001b[0m\n",
      "\u001b[1;32mC:\\ProgramData\\Anaconda3\\envs\\chip_allocate\\lib\\urllib\\request.py\u001b[0m in \u001b[0;36mhttp_error_default\u001b[1;34m(self, req, fp, code, msg, hdrs)\u001b[0m\n\u001b[0;32m    639\u001b[0m \u001b[1;32mclass\u001b[0m \u001b[0mHTTPDefaultErrorHandler\u001b[0m\u001b[1;33m(\u001b[0m\u001b[0mBaseHandler\u001b[0m\u001b[1;33m)\u001b[0m\u001b[1;33m:\u001b[0m\u001b[1;33m\u001b[0m\u001b[1;33m\u001b[0m\u001b[0m\n\u001b[0;32m    640\u001b[0m     \u001b[1;32mdef\u001b[0m \u001b[0mhttp_error_default\u001b[0m\u001b[1;33m(\u001b[0m\u001b[0mself\u001b[0m\u001b[1;33m,\u001b[0m \u001b[0mreq\u001b[0m\u001b[1;33m,\u001b[0m \u001b[0mfp\u001b[0m\u001b[1;33m,\u001b[0m \u001b[0mcode\u001b[0m\u001b[1;33m,\u001b[0m \u001b[0mmsg\u001b[0m\u001b[1;33m,\u001b[0m \u001b[0mhdrs\u001b[0m\u001b[1;33m)\u001b[0m\u001b[1;33m:\u001b[0m\u001b[1;33m\u001b[0m\u001b[1;33m\u001b[0m\u001b[0m\n\u001b[1;32m--> 641\u001b[1;33m         \u001b[1;32mraise\u001b[0m \u001b[0mHTTPError\u001b[0m\u001b[1;33m(\u001b[0m\u001b[0mreq\u001b[0m\u001b[1;33m.\u001b[0m\u001b[0mfull_url\u001b[0m\u001b[1;33m,\u001b[0m \u001b[0mcode\u001b[0m\u001b[1;33m,\u001b[0m \u001b[0mmsg\u001b[0m\u001b[1;33m,\u001b[0m \u001b[0mhdrs\u001b[0m\u001b[1;33m,\u001b[0m \u001b[0mfp\u001b[0m\u001b[1;33m)\u001b[0m\u001b[1;33m\u001b[0m\u001b[1;33m\u001b[0m\u001b[0m\n\u001b[0m\u001b[0;32m    642\u001b[0m \u001b[1;33m\u001b[0m\u001b[0m\n\u001b[0;32m    643\u001b[0m \u001b[1;32mclass\u001b[0m \u001b[0mHTTPRedirectHandler\u001b[0m\u001b[1;33m(\u001b[0m\u001b[0mBaseHandler\u001b[0m\u001b[1;33m)\u001b[0m\u001b[1;33m:\u001b[0m\u001b[1;33m\u001b[0m\u001b[1;33m\u001b[0m\u001b[0m\n",
      "\u001b[1;31mHTTPError\u001b[0m: HTTP Error 404: The specified blob does not exist."
     ]
    }
   ],
   "source": [
    "file_names = []\n",
    "for tile in tile_name_tile_url:\n",
    "    quads = tile[0].rsplit(\"_\",1)[0]\n",
    "    tile_download = [string for string in tiles if quads in string]  \n",
    "    if len(tile_download) < 1:\n",
    "        file_names.append(ap.download_url(tile[1], tiles_dir,\n",
    "                                          destination_filename = tile[0],       \n",
    "                                          progress_updater=ap.DownloadProgressBar()))"
   ]
  },
  {
   "cell_type": "code",
   "execution_count": 43,
   "id": "5fb90d84-73d3-4e7b-93d8-459c9d9eb864",
   "metadata": {},
   "outputs": [
    {
     "data": {
      "text/plain": [
       "array([['m_2909515_se_15_060_20201130.tif',\n",
       "        'https://naipeuwest.blob.core.windows.net/naip/v002/tx/2020/tx_60cm_2020/29095/m_2909515_se_15_060_20201130.tif'],\n",
       "       ['m_2909515_sw_15_060_20201130.tif',\n",
       "        'https://naipeuwest.blob.core.windows.net/naip/v002/tx/2020/tx_60cm_2020/29095/m_2909515_sw_15_060_20201130.tif'],\n",
       "       ['m_2909516_sw_15_060_20201118.tif',\n",
       "        'https://naipeuwest.blob.core.windows.net/naip/v002/tx/2020/tx_60cm_2020/29095/m_2909516_sw_15_060_20201118.tif'],\n",
       "       ['m_2909522_ne_15_060_20201130.tif',\n",
       "        'https://naipeuwest.blob.core.windows.net/naip/v002/tx/2020/tx_60cm_2020/29095/m_2909522_ne_15_060_20201130.tif'],\n",
       "       ['m_2909523_nw_15_060_20201130.tif',\n",
       "        'https://naipeuwest.blob.core.windows.net/naip/v002/tx/2020/tx_60cm_2020/29095/m_2909523_nw_15_060_20201130.tif'],\n",
       "       ['m_2909523_ne_15_060_20201130.tif',\n",
       "        'https://naipeuwest.blob.core.windows.net/naip/v002/tx/2020/tx_60cm_2020/29095/m_2909523_ne_15_060_20201130.tif'],\n",
       "       ['m_2909524_nw_15_060_20201118.tif',\n",
       "        'https://naipeuwest.blob.core.windows.net/naip/v002/tx/2020/tx_60cm_2020/29095/m_2909524_nw_15_060_20201118.tif'],\n",
       "       ['m_2909514_se_15_060_20201130.tif',\n",
       "        'https://naipeuwest.blob.core.windows.net/naip/v002/tx/2020/tx_60cm_2020/29095/m_2909514_se_15_060_20201130.tif']],\n",
       "      dtype='<U110')"
      ]
     },
     "execution_count": 43,
     "metadata": {},
     "output_type": "execute_result"
    }
   ],
   "source": [
    "Z:\\temp\\set1"
   ]
  },
  {
   "cell_type": "code",
   "execution_count": 55,
   "id": "37a4d33d-9f96-400d-afc9-b878963f563e",
   "metadata": {},
   "outputs": [],
   "source": [
    "chips_path = os.path.join(parent_directory, \"temp/set1/chips\")\n",
    "tiles_path = os.path.join(parent_directory, \"temp/set1/tiles\")\n",
    "\n",
    "for tile in os.listdir(tiles_path):\n",
    "    item_dim = int(512)\n",
    "    tile_name = os.path.splitext(tile)[0]\n",
    "\n",
    "    tile = cv2.imread(os.path.join(tiles_path, tile)) \n",
    "    tile_height,  tile_width,  tile_channels = tile.shape #the size of the tile \n",
    "    row_index = math.ceil(tile_height/512) \n",
    "    col_index = math.ceil(tile_width/512)\n",
    "    #print(row_index, col_index)\n",
    "\n",
    "    for y in range(0, row_index): #rows\n",
    "        for x in range(0, col_index): #cols\n",
    "            chip_img = fc.tile_to_chip_array(tile, x, y, item_dim)\n",
    "            #specify the chip names\n",
    "            chip_name_correct_chip_name = tile_name + '_' + f\"{y:02}\"  + '_' + f\"{x:02}\" + '.jpg' # The index is a six-digit number like '000023'.\n",
    "            if not os.path.exists(os.path.join(chips_path, chip_name_correct_chip_name)):\n",
    "                cv2.imwrite(os.path.join(chips_path, chip_name_correct_chip_name), chip_img) #save images  "
   ]
  },
  {
   "cell_type": "code",
   "execution_count": null,
   "id": "321d4eb5-3bda-44c5-a26a-83fc2d5a967c",
   "metadata": {},
   "outputs": [],
   "source": [
    "   \n",
    "    ### download the tiles if they are not in the tiles folder \n",
    "    #check if the tile name is contained in the string of complete arrays\n",
    "        "
   ]
  }
 ],
 "metadata": {
  "kernelspec": {
   "display_name": "Chip Allocate",
   "language": "python",
   "name": "chip_allocate"
  },
  "language_info": {
   "codemirror_mode": {
    "name": "ipython",
    "version": 3
   },
   "file_extension": ".py",
   "mimetype": "text/x-python",
   "name": "python",
   "nbconvert_exporter": "python",
   "pygments_lexer": "ipython3",
   "version": "3.9.7"
  }
 },
 "nbformat": 4,
 "nbformat_minor": 5
}
