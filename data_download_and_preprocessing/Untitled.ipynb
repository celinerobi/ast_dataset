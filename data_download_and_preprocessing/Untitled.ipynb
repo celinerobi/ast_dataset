{
 "cells": [
  {
   "cell_type": "code",
   "execution_count": null,
   "id": "916c6db5-fa34-40dd-9a6c-648d75ab84e9",
   "metadata": {},
   "outputs": [],
   "source": []
  },
  {
   "cell_type": "markdown",
   "id": "66d16db2-53df-49e7-99c1-ba8c42e9735f",
   "metadata": {},
   "source": [
    "#Make into module, function specify annotator, directory as args\n",
    "#URG: updae tile_undone_npy\n",
    "\n",
    "#!/usr/bin/env python\n",
    "# coding: utf-8\n",
    "import numpy as np\n",
    "import pandas as pd\n",
    "import os\n",
    "import os.path\n",
    "import urllib.request\n",
    "import progressbar # pip install progressbar2, not progressbar\n",
    "\n",
    "import os\n",
    "import shutil\n",
    "\n",
    "import argparse\n",
    "\n",
    "import tempfile\n",
    "import urllib\n",
    "import shutil\n",
    "import os\n",
    "import os.path\n",
    "import sys\n",
    "\n",
    "import PIL\n",
    "from PIL import Image\n",
    "\n",
    "import math\n",
    "import numpy as np\n",
    "import pandas as pd\n",
    "import rtree\n",
    "import pickle\n",
    "\n",
    "import progressbar # pip install progressbar2, not progressbar\n",
    "\n",
    "from geopy.geocoders import Nominatim\n",
    "\n",
    "from contextlib import suppress\n",
    "\n",
    "import matplotlib\n",
    "import matplotlib.pyplot as plt\n",
    "from matplotlib.patches import ConnectionPatch\n",
    "\n",
    "import warnings\n",
    "from zipfile import ZipFile\n",
    "\n",
    "import data_eng.az_proc as ap\n",
    "import data_eng.form_calcs as fc"
   ]
  },
  {
   "cell_type": "code",
   "execution_count": 11,
   "id": "ae72aa4d-f885-4a06-bf49-70160e244871",
   "metadata": {},
   "outputs": [],
   "source": [
    "parent_directory = \"//oit-nas-fe13dc.oit.duke.edu//data_commons-borsuk//\"\n",
    "\n",
    "tile_names_tile_urls_complete_array = np.load(\"image_download_azure/tile_name_tile_url_complete_array.npy\")\n",
    "\n",
    "tiles_labeled = \"tile_name_tile_url_labeled.npy\"\n",
    "tiles_labeled_from_complete_set = np.load(tiles_labeled)\n",
    "\n",
    "tracker_file_path = 'outputs/tile_img_annotation_annotator.npy'\n",
    "tile_img_annotation = np.load(tracker_file_path)\n",
    "\n",
    "tiles_errors = 'tile_name_tile_url_error_downloading.npy'\n",
    "tiles_errors = np.load(tiles_errors)\n",
    "\n",
    "#create folder to hold tiles in completed dataset\n",
    "path_to_complete_dataset = \"verified/complete_dataset\"\n",
    "path_to_tiles_folder_complete_dataset = os.path.join(parent_directory, path_to_complete_dataset,\"tiles\")\n",
    "path_positive_images_complete_dataset = os.path.join(parent_directory, path_to_complete_dataset,\"chips_positive\")\n",
    "path_to_verified_sets = os.path.join(parent_directory, path_to_complete_dataset,\"verified//verified_sets\")"
   ]
  },
  {
   "cell_type": "code",
   "execution_count": 5,
   "id": "d2a9ea67-9888-43f4-b06e-07ab1985b189",
   "metadata": {},
   "outputs": [
    {
     "name": "stdout",
     "output_type": "stream",
     "text": [
      "Unlabeled Tiles (2, 2)\n",
      "0\n",
      "Bypassing download of already-downloaded file m_3208164_ne_17_060_20190829.tif\n",
      "1\n",
      "Bypassing download of already-downloaded file m_3208164_ne_17_060_20191109.tif\n",
      "['https_naipeuwest.blob.core.windows.net_naip_v002_ga_2019_ga_60cm_2019_32081_m_3208164_ne_17_060_20191109.tif', 'https_naipeuwest.blob.core.windows.net_naip_v002_sc_2019_sc_60cm_2019_32081_m_3208164_ne_17_060_20190829.tif']\n",
      "chip tiles\n",
      "ga_60cm_2019_32081_m_3208164_ne_17_060_20191109.tif\n",
      "505\n",
      "sc_60cm_2019_32081_m_3208164_ne_17_060_20190829.tif\n",
      "551\n"
     ]
    }
   ],
   "source": [
    "dist = ap.annotator(\"test\") #create the processing class\n",
    "dist.state_dcc_directory(\"C:\\chip_allocation\")\n",
    "\n",
    "dist.number_of_tiles(2)\n",
    "\n",
    "dist.get_tile_urls(\"temp_tile_name_tile_url.npy\")\n",
    "\n",
    "dist.make_subdirectories()\n",
    "dist.download_images()\n",
    "dist.tile_rename()\n",
    "dist.chip_tiles()\n"
   ]
  },
  {
   "cell_type": "code",
   "execution_count": 46,
   "id": "6d8823e3-7d26-4abd-a652-0737c3d0e59b",
   "metadata": {},
   "outputs": [
    {
     "name": "stdout",
     "output_type": "stream",
     "text": [
      "(23531, 2)\n"
     ]
    },
    {
     "data": {
      "text/plain": [
       "array([['al_60cm_2019_30088_m_3008808_sw_16_060_20191115_000126.jpg',\n",
       "        '//oit-nas-fe13dc.oit.duke.edu//data_commons-borsuk//complete_dataset\\\\chips_positive\\\\al_60cm_2019_30088_m_3008808_sw_16_060_20191115_000126.jpg'],\n",
       "       ['al_60cm_2019_30088_m_3008808_sw_16_060_20191115_000444.jpg',\n",
       "        '//oit-nas-fe13dc.oit.duke.edu//data_commons-borsuk//complete_dataset\\\\chips_positive\\\\al_60cm_2019_30088_m_3008808_sw_16_060_20191115_000444.jpg'],\n",
       "       ['al_60cm_2019_30088_m_3008816_se_16_060_20191115_000051.jpg',\n",
       "        '//oit-nas-fe13dc.oit.duke.edu//data_commons-borsuk//complete_dataset\\\\chips_positive\\\\al_60cm_2019_30088_m_3008816_se_16_060_20191115_000051.jpg'],\n",
       "       ...,\n",
       "       ['wy_60cm_2019_44107_m_4410749_se_13_060_20190828_000460.jpg',\n",
       "        '//oit-nas-fe13dc.oit.duke.edu//data_commons-borsuk//complete_dataset\\\\chips_positive\\\\wy_60cm_2019_44107_m_4410749_se_13_060_20190828_000460.jpg'],\n",
       "       ['wy_60cm_2019_44108_m_4410801_ne_12_060_20190821_000041.jpg',\n",
       "        '//oit-nas-fe13dc.oit.duke.edu//data_commons-borsuk//complete_dataset\\\\chips_positive\\\\wy_60cm_2019_44108_m_4410801_ne_12_060_20190821_000041.jpg'],\n",
       "       ['wy_60cm_2019_44108_m_4410801_ne_12_060_20190821_000066.jpg',\n",
       "        '//oit-nas-fe13dc.oit.duke.edu//data_commons-borsuk//complete_dataset\\\\chips_positive\\\\wy_60cm_2019_44108_m_4410801_ne_12_060_20190821_000066.jpg']],\n",
       "      dtype='<U260')"
      ]
     },
     "execution_count": 46,
     "metadata": {},
     "output_type": "execute_result"
    }
   ],
   "source": [
    "unique_positive_jpgs = fc.unique_positive_jpgs_from_parent_directory(parent_directory)\n",
    "unique_positive_jpgs"
   ]
  },
  {
   "cell_type": "code",
   "execution_count": 45,
   "id": "44308f63-f22a-413f-b3a8-2e4526f51ee6",
   "metadata": {},
   "outputs": [
    {
     "data": {
      "text/plain": [
       "0"
      ]
     },
     "execution_count": 45,
     "metadata": {},
     "output_type": "execute_result"
    }
   ],
   "source": [
    "u, c = np.unique(unique_positive_jpgs[:,1], return_counts=True)\n",
    "dup = u[c > 1]\n",
    "len(dup)\n",
    "#downloaded_tile"
   ]
  },
  {
   "cell_type": "code",
   "execution_count": 32,
   "id": "7c421eb9-8975-427c-b60e-78881706494d",
   "metadata": {},
   "outputs": [
    {
     "name": "stdout",
     "output_type": "stream",
     "text": [
      "23531\n",
      "2077\n"
     ]
    }
   ],
   "source": [
    "#Determine the corresponding tile names (formatted) for given paths of jpgs \n",
    "print(len(unique_positive_jpgs))\n",
    "tile_names_formatted_storage_space = np.unique(fc.jpg_path_to_tile_name_formatted(unique_positive_jpgs[:,1]))\n",
    "print(len(tile_names_formatted_storage_space))"
   ]
  },
  {
   "cell_type": "code",
   "execution_count": 33,
   "id": "01e2e0b0-3c40-4ad3-a81e-82956d9f0a1c",
   "metadata": {},
   "outputs": [],
   "source": [
    "#Deteremine the tile names (standard) for given paths of jpgs \n",
    "tile_names_standard_storage_space = []\n",
    "for tile_name_formatted_storage_space in tile_names_formatted_storage_space:\n",
    "    tile_names_standard_storage_space.append(tile_name_formatted_storage_space.split(\"_\",4)[4])\n",
    "    \n",
    "#Create a 2d array of the standard and formatted tile names of the jpgs given\n",
    "tile_names_in_storage_space_standard_formatted = np.hstack((np.array(tile_names_standard_storage_space)[:,None], tile_names_formatted_storage_space[:,None]))"
   ]
  },
  {
   "cell_type": "code",
   "execution_count": 55,
   "id": "87c997bb-ebf5-4957-9474-40d7cc711173",
   "metadata": {},
   "outputs": [
    {
     "data": {
      "text/plain": [
       "array(['m_3311822_ne_11_060_20180723', 'm_3708701_se_16_060_20180905',\n",
       "       'm_3708701_sw_16_060_20180905', 'm_3708704_nw_16_060_20180725',\n",
       "       'm_3708704_sw_16_060_20180725', 'm_3708711_ne_16_060_20180725',\n",
       "       'm_3708712_nw_16_060_20180725', 'm_3708716_sw_16_060_20180929',\n",
       "       'm_3712205_ne_10_060_20180723', 'm_3712205_se_10_060_20180723',\n",
       "       'm_3712206_sw_10_060_20180723', 'm_3807730_se_18_060_20181025',\n",
       "       'm_3808542_sw_16_060_20180727', 'm_3808543_ne_16_060_20180904',\n",
       "       'm_3808549_se_16_060_20180727', 'm_3808550_nw_16_060_20180727',\n",
       "       'm_3812262_se_10_060_20180723', 'm_3812263_sw_10_060_20180723',\n",
       "       'm_3812264_se_10_060_20180715', 'm_3812264_sw_10_060_20180715',\n",
       "       'm_4007423_se_18_060_20190830', 'm_4007423_sw_18_060_20190917',\n",
       "       'm_4007424_sw_18_060_20190830', 'm_4007430_se_18_060_20190830',\n",
       "       'm_4007431_nw_18_060_20190917', 'm_4007431_sw_18_060_20190917',\n",
       "       'm_4009129_ne_15_060_20190708', 'm_4107114_nw_19_060_20180827',\n",
       "       'm_4107114_sw_19_060_20180827', 'm_4107123_sw_19_060_20180827',\n",
       "       'm_4108614_se_16_060_20180708', 'm_4108615_sw_16_060_20180708',\n",
       "       'm_4108616_sw_16_060_20180707', 'm_4109029_sw_15_060_20190802',\n",
       "       'm_4109035_ne_15_060_20190801', 'm_4207260_se_18_060_20180823',\n",
       "       'm_4209027_se_15_060_20190801', 'm_4307222_sw_18_060_20190102',\n",
       "       'm_4410801_ne_12_060_20190821', 'm_4710432_ne_13_060_20190725'],\n",
       "      dtype='<U48')"
      ]
     },
     "execution_count": 55,
     "metadata": {},
     "output_type": "execute_result"
    }
   ],
   "source": [
    "u, c = np.unique(tile_names_in_storage_space_standard_formatted[:,0], return_counts=True)\n",
    "dup = u[c > 1]\n",
    "len(dup)\n",
    "#downloaded_tile\n",
    "\n",
    "np.sort(tile_names_in_storage_space_standard_formatted[np.isin(tile_names_in_storage_space_standard_formatted[:,0],dup)])"
   ]
  },
  {
   "cell_type": "code",
   "execution_count": 40,
   "id": "1e4ff90a-beae-4dfb-a089-d19ad82a22fb",
   "metadata": {},
   "outputs": [
    {
     "data": {
      "text/plain": [
       "0"
      ]
     },
     "execution_count": 40,
     "metadata": {},
     "output_type": "execute_result"
    }
   ],
   "source": [
    "u, c = np.unique(tile_names_in_storage_space_standard_formatted[:,1], return_counts=True)\n",
    "dup = u[c > 1]\n",
    "len(dup)"
   ]
  },
  {
   "cell_type": "code",
   "execution_count": 47,
   "id": "5912a7f9-12d1-4fda-a17f-44b3100f75e2",
   "metadata": {},
   "outputs": [
    {
     "data": {
      "text/plain": [
       "array(['al_60cm_2019_30088_m_3008808_sw_16_060_20191115',\n",
       "       'al_60cm_2019_30088_m_3008816_se_16_060_20191115',\n",
       "       'al_60cm_2019_30088_m_3008816_sw_16_060_20191115', ...,\n",
       "       'wy_60cm_2019_44106_m_4410617_se_13_060_20190829',\n",
       "       'wy_60cm_2019_44107_m_4410749_se_13_060_20190828',\n",
       "       'wy_60cm_2019_44108_m_4410801_ne_12_060_20190821'], dtype='<U48')"
      ]
     },
     "execution_count": 47,
     "metadata": {},
     "output_type": "execute_result"
    }
   ],
   "source": [
    "tile_names_in_storage_space_standard_formatted[:,1]"
   ]
  }
 ],
 "metadata": {
  "kernelspec": {
   "display_name": "Chip Allocate",
   "language": "python",
   "name": "chip_allocate"
  },
  "language_info": {
   "codemirror_mode": {
    "name": "ipython",
    "version": 3
   },
   "file_extension": ".py",
   "mimetype": "text/x-python",
   "name": "python",
   "nbconvert_exporter": "python",
   "pygments_lexer": "ipython3",
   "version": "3.9.7"
  }
 },
 "nbformat": 4,
 "nbformat_minor": 5
}
