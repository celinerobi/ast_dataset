{
 "cells": [
  {
   "cell_type": "code",
   "execution_count": 1,
   "id": "e4b83600",
   "metadata": {
    "tags": []
   },
   "outputs": [],
   "source": [
    "import os \n",
    "\n",
    "import fiona #must be import before geopandas\n",
    "import geopandas as gpd\n",
    "import rasterio\n",
    "import rioxarray\n",
    "import re\n",
    "import rtree\n",
    "import shapely\n",
    "import pickle\n",
    "\n",
    "#from cartopy import crs\n",
    "import collections\n",
    "import cv2\n",
    "import math\n",
    "from glob import glob\n",
    "from tqdm.notebook import tqdm_notebook\n",
    "import tqdm\n",
    "# Standard packages\n",
    "import tempfile\n",
    "import warnings\n",
    "import urllib\n",
    "import shutil\n",
    "\n",
    "# Less standard, but still pip- or conda-installable\n",
    "import pandas as pd\n",
    "import numpy as np\n",
    "import matplotlib\n",
    "import matplotlib.pyplot as plt\n",
    "from matplotlib.patches import Rectangle\n",
    "\n",
    "from lxml.etree import Element,SubElement,tostring\n",
    "import xml.dom.minidom\n",
    "from xml.dom.minidom import parseString\n",
    "import xml.etree.ElementTree as et\n",
    "from xml.dom import minidom\n",
    "\n",
    "#import requests\n",
    "from PIL import Image\n",
    "from io import BytesIO\n",
    "import tqdm\n",
    "from skimage.metrics import structural_similarity as compare_ssim\n",
    "import imutils\n",
    "\n",
    "import psutil\n",
    "\n",
    "import data_eng.az_proc as ap\n",
    "import data_eng.form_calcs as fc"
   ]
  },
  {
   "cell_type": "markdown",
   "id": "93416ef4-0fb2-4a24-9205-a23103b489e9",
   "metadata": {},
   "source": [
    "## File Paths"
   ]
  },
  {
   "cell_type": "code",
   "execution_count": 2,
   "id": "96f05c4d-b275-4c4b-8a5f-6f01b37a583f",
   "metadata": {},
   "outputs": [],
   "source": [
    "parent_directory = \"//oit-nas-fe13dc.oit.duke.edu//data_commons-borsuk//\"\n",
    "\n",
    "tile_names_tile_urls_complete_array = np.load(\"image_download_azure/tile_name_tile_url_complete_array.npy\")\n",
    "\n",
    "tiles_labeled = \"tile_name_tile_url_labeled.npy\"\n",
    "tiles_labeled_from_complete_set = np.load(tiles_labeled)\n",
    "\n",
    "tracker_file_path = 'outputs/tile_img_annotation_annotator.npy'\n",
    "tile_img_annotation = np.load(tracker_file_path)\n",
    "tile_img_annotation_annotator = np.load(\"outputs/tile_img_annotation_annotator.npy\")\n",
    "\n",
    "tiles_errors = 'tile_name_tile_url_error_downloading.npy'\n",
    "tiles_errors = np.load(tiles_errors)\n",
    "\n",
    "#create folder to hold tiles in completed dataset\n",
    "\n",
    "tiles_complete_dataset_path = os.path.join(parent_directory,\"complete_dataset\",\"tiles\")\n",
    "tiles_xml_complete_dataset_path = os.path.join(parent_directory,\"complete_dataset\",\"tiles_xml\")\n",
    "os.makedirs(tiles_complete_dataset_path, exist_ok=True)\n",
    "tiles_xml_list = os.listdir(tiles_xml_complete_dataset_path)\n",
    "new_tiles_xml_complete_dataset_path = os.path.join(parent_directory,\"complete_dataset\",\"tiles_xml_merged\")\n",
    "\n",
    "tile_names_tile_urls_complete_array_unique_standard_tile_names = np.load(\"tile_names_tile_urls_complete_array_unique_standard_tile_names.npy\")\n",
    "image_characteristics = pd.read_csv(\"image_characteristics.csv\")\n",
    "tile_names_tile_urls_complete_array_unique_standard_tile_names = np.load(\"tile_names_tile_urls_complete_array_unique_standard_tile_names.npy\")\n",
    "\n",
    "#NAIP quad map\n",
    "quad_indicies_path = \"C:/Users/rapiduser/Box/EPA STAR 2019 (Community Resistance to Environmental Disasters)/Data/AST Datasets/MapIndices_National_GDB/MapIndices_National_GDB.gdb\"\n",
    "#fiona.listlayers(quad_indicies_path)\n",
    "rechipped_image_path = os.path.join(parent_directory,\"temp/rechip\")\n",
    "\n",
    "folders_of_images_xmls_by_tile = os.listdir(rechipped_image_path)\n",
    "images_and_xmls_by_tile_path = rechipped_image_path"
   ]
  },
  {
   "cell_type": "code",
   "execution_count": 3,
   "id": "ffdc83f9-75f0-4175-a801-7d8c0fe89a8e",
   "metadata": {},
   "outputs": [],
   "source": [
    "tiles_dir = tiles_complete_dataset_path\n",
    "tiles_xml_path = tiles_xml_complete_dataset_path\n",
    "item_dim = int(512)"
   ]
  },
  {
   "cell_type": "markdown",
   "id": "7187dbfb-e487-4726-b7db-64aef7c30ec6",
   "metadata": {},
   "source": [
    "# Add chips to rechip folder"
   ]
  },
  {
   "cell_type": "code",
   "execution_count": null,
   "id": "11f65a90-5a87-450a-bbd3-ec2a63fc7e93",
   "metadata": {},
   "outputs": [],
   "source": [
    "#for tile_name in tqdm.tqdm(folders_of_images_xmls_by_tile):\n",
    "#    add_chips_to_chip_folders(rechipped_image_path, tile_name)"
   ]
  },
  {
   "cell_type": "markdown",
   "id": "1d91e316-f689-4e11-868e-e6da7a29dc85",
   "metadata": {},
   "source": [
    "# Great Tables of characteristics for tiles/images"
   ]
  },
  {
   "cell_type": "code",
   "execution_count": 4,
   "id": "f4d3f111-dfc0-4ee4-b23c-a5cfe881f8b6",
   "metadata": {},
   "outputs": [
    {
     "name": "stderr",
     "output_type": "stream",
     "text": [
      "100%|██████████| 2139/2139 [6:52:33<00:00, 11.57s/it]  \n"
     ]
    }
   ],
   "source": [
    "#tile_characteristics, image_characteristics = fc.image_tile_characteristics(rechipped_image_path, tiles_complete_dataset_path)\n",
    "#tile_characteristics.to_csv(\"tile_characteristics.csv\")\n",
    "#image_characteristics.to_csv(\"image_characteristics.csv\")"
   ]
  },
  {
   "cell_type": "markdown",
   "id": "b37120bb-6d4e-4e7f-8ee4-49428b171dee",
   "metadata": {},
   "source": [
    "# Generate tile XMLs"
   ]
  },
  {
   "cell_type": "code",
   "execution_count": null,
   "id": "2fc174f5-4bec-433f-a18e-43a41ba1bbcb",
   "metadata": {},
   "outputs": [],
   "source": [
    "#make consistent labels \n",
    "#for tile_name in tqdm.tqdm(folders_of_images_xmls_by_tile):\n",
    "    #specify image/xml paths for each tile\n",
    "#    positive_xml_dir = os.path.join(images_and_xmls_by_tile_path, tile_name, \"chips_positive_xml\")\n",
    "#    fc.correct_inconsistent_labels_xml(positive_xml_dir)"
   ]
  },
  {
   "cell_type": "code",
   "execution_count": 8,
   "id": "919d4fb6-6513-4e3d-a7fd-6d70b3f8c706",
   "metadata": {},
   "outputs": [
    {
     "name": "stderr",
     "output_type": "stream",
     "text": [
      "100%|██████████| 2139/2139 [1:17:33<00:00,  2.18s/it]\n"
     ]
    }
   ],
   "source": [
    "fc.generate_tile_xmls(rechipped_image_path, tiles_complete_dataset_path, tiles_xml_complete_dataset_path, int(512))"
   ]
  },
  {
   "cell_type": "markdown",
   "id": "8214fa8d-63b1-495a-bc89-3786411bca06",
   "metadata": {},
   "source": [
    "## Combine neighbooring bounding boxes"
   ]
  },
  {
   "cell_type": "markdown",
   "id": "1cb7ed31-b227-4076-b244-2abf68a34cc7",
   "metadata": {},
   "source": [
    "https://answers.opencv.org/question/231263/merging-nearby-rectanglesedited/\n",
    "https://stackoverflow.com/questions/55593506/merge-the-bounding-boxes-near-by-into-one"
   ]
  },
  {
   "cell_type": "code",
   "execution_count": 7,
   "id": "a96cc073-ada0-4581-ae76-a6cd4bc73b9b",
   "metadata": {},
   "outputs": [
    {
     "name": "stderr",
     "output_type": "stream",
     "text": [
      "100%|██████████| 2120/2120 [09:54<00:00,  3.56it/s]\n"
     ]
    }
   ],
   "source": [
    "fc.merge_tile_annotations(tiles_xml_list,tiles_xml_complete_dataset_path,new_tiles_xml_complete_dataset_path,5)"
   ]
  },
  {
   "cell_type": "code",
   "execution_count": null,
   "id": "3a3035a0-b838-445b-9fe5-1a583fe961ff",
   "metadata": {},
   "outputs": [],
   "source": []
  },
  {
   "cell_type": "markdown",
   "id": "09f5c4a8-02a8-4825-bb22-226e834e5b7e",
   "metadata": {},
   "source": [
    "# Clip storm surge data"
   ]
  },
  {
   "cell_type": "code",
   "execution_count": null,
   "id": "91aad751-93ee-41b2-bfb2-de2fa09d7249",
   "metadata": {},
   "outputs": [],
   "source": [
    "tile.coords\n",
    "clip based on max min\n",
    "#https://automating-gis-processes.github.io/CSC18/lessons/L6/clipping-raster.html\n"
   ]
  },
  {
   "cell_type": "code",
   "execution_count": null,
   "id": "12d8f54d-6fd3-41f0-82e1-56dcb521ad43",
   "metadata": {},
   "outputs": [],
   "source": [
    "def getFeatures(gdf):\n",
    "    \"\"\"Function to parse features from GeoDataFrame in such a manner that rasterio wants them\"\"\"\n",
    "    import json\n",
    "    return [json.loads(gdf.to_json())['features'][0]['geometry']]"
   ]
  },
  {
   "cell_type": "code",
   "execution_count": null,
   "id": "2e4aadcb-c1a7-451d-a7c5-7af895034bb0",
   "metadata": {},
   "outputs": [],
   "source": [
    "bbox = box(minx, miny, maxx, maxy) #specify bounding box \n",
    "geo = gpd.GeoDataFrame({'geometry': bbox}, index=[0], crs=from_epsg(4326))\n",
    "geo = geo.to_crs(crs=data.crs.data)\n",
    "coords = getFeatures(geo)\n",
    "In [20]: out_img, out_transform = mask(raster=data, shapes=coords, crop=True)\n"
   ]
  },
  {
   "cell_type": "code",
   "execution_count": null,
   "id": "65fab162-542f-4c61-987f-f623c07be556",
   "metadata": {},
   "outputs": [],
   "source": [
    "- for each tank\n",
    "    - get se sw coordinates (by pixel) of each object with respect to tif\n",
    "        - (The function by image can be adapted:image_characteristics(tiles_dir, verified_positive_jpgs))\n",
    "    -determine whether the width or height of the object is less.\n",
    "        -if equal use the width. with(in pixels) *0.6(m) is the diameter.\n",
    "    - get the lat lon for each se sw coordinates for each tank \n",
    "- subset slosh data based on tank lat lon "
   ]
  },
  {
   "cell_type": "code",
   "execution_count": null,
   "id": "e245ed0e-ccd1-4c72-8dd3-e636874a7e7c",
   "metadata": {},
   "outputs": [],
   "source": [
    "In [13]: minx, miny = 24.60, 60.00\n",
    "\n",
    "In [14]: maxx, maxy = 25.22, 60.35\n",
    "\n",
    "In [15]: bbox = box(minx, miny, maxx, maxy)"
   ]
  },
  {
   "cell_type": "code",
   "execution_count": null,
   "id": "0a824e05-58bc-45f7-b0df-97f517dbd7bc",
   "metadata": {},
   "outputs": [],
   "source": [
    "fig, (ax1, ax2) = plt.subplots(1, 2)\n",
    "ax1.set_title('correct_image')\n",
    "ax1.imshow(gray_known_image)\n",
    "ax2.set_title('labeled_chip_array')\n",
    "ax2.imshow(gray_labeled_image)\n",
    "plt.show()"
   ]
  }
 ],
 "metadata": {
  "kernelspec": {
   "display_name": "Chip Allocate",
   "language": "python",
   "name": "chip_allocate"
  },
  "language_info": {
   "codemirror_mode": {
    "name": "ipython",
    "version": 3
   },
   "file_extension": ".py",
   "mimetype": "text/x-python",
   "name": "python",
   "nbconvert_exporter": "python",
   "pygments_lexer": "ipython3",
   "version": "3.9.7"
  }
 },
 "nbformat": 4,
 "nbformat_minor": 5
}
