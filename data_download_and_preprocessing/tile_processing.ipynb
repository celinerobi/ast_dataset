{
 "cells": [
  {
   "cell_type": "code",
   "execution_count": 2,
   "id": "29abde2c-fb9e-4cbb-b7bd-c4354a0662ef",
   "metadata": {
    "tags": []
   },
   "outputs": [],
   "source": [
    "import os \n",
    "\n",
    "import fiona #must be import before geopandas\n",
    "import geopandas as gpd\n",
    "import rasterio\n",
    "import xarray as xr\n",
    "import re\n",
    "import rtree\n",
    "import shapely\n",
    "import pickle\n",
    "\n",
    "#from cartopy import crs\n",
    "import collections\n",
    "import cv2\n",
    "import math\n",
    "from glob import glob\n",
    "from tqdm.notebook import tqdm_notebook\n",
    "\n",
    "# Standard packages\n",
    "import tempfile\n",
    "import warnings\n",
    "import urllib\n",
    "import shutil\n",
    "\n",
    "# Less standard, but still pip- or conda-installable\n",
    "import pandas as pd\n",
    "import numpy as np\n",
    "import matplotlib\n",
    "import matplotlib.pyplot as plt\n",
    "from matplotlib.patches import Rectangle\n",
    "\n",
    "import data_eng.az_proc as ap\n",
    "import data_eng.form_calcs as fc\n",
    "\n",
    "from lxml.etree import Element,SubElement,tostring\n",
    "import xml.dom.minidom\n",
    "from xml.dom.minidom import parseString\n",
    "import xml.etree.ElementTree as et\n",
    "from xml.dom import minidom\n",
    "\n",
    "#import requests\n",
    "from PIL import Image\n",
    "from io import BytesIO"
   ]
  },
  {
   "cell_type": "code",
   "execution_count": 4,
   "id": "2c74bbdf-8007-47bb-aef4-5d4bd6b57f22",
   "metadata": {},
   "outputs": [],
   "source": [
    "parent_directory = \"//oit-nas-fe13dc.oit.duke.edu//data_commons-borsuk//\"\n",
    "\n",
    "tile_names_tile_urls_complete_array = np.load(\"image_download_azure/tile_name_tile_url_complete_array.npy\")\n",
    "\n",
    "tiles_labeled = \"tile_name_tile_url_labeled.npy\"\n",
    "tiles_labeled_from_complete_set = np.load(tiles_labeled)\n",
    "\n",
    "tracker_file_path = 'outputs/tile_img_annotation_annotator.npy'\n",
    "tile_img_annotation = np.load(tracker_file_path)\n",
    "tile_img_annotation_annotator = np.load(\"outputs/tile_img_annotation_annotator.npy\")\n",
    "\n",
    "tiles_errors = 'tile_name_tile_url_error_downloading.npy'\n",
    "tiles_errors = np.load(tiles_errors)\n",
    "\n",
    "#create folder to hold tiles in completed dataset\n",
    "complete_dataset_path = \"verified/complete_dataset\"\n",
    "complete_dataset_path = os.path.join(parent_directory, complete_dataset_path)\n",
    "tiles_complete_dataset_path = os.path.join(complete_dataset_path,\"tiles\")\n",
    "tiles_xml_complete_dataset_path = os.path.join(complete_dataset_path,\"tiles_xml\")\n",
    "positive_images_complete_dataset_path = os.path.join(complete_dataset_path,\"chips_positive\")\n",
    "verified_sets_path = os.path.join(complete_dataset_path,\"verified//verified_sets\")\n",
    "\n",
    "os.makedirs(tiles_complete_dataset_path, exist_ok=True)\n",
    "\n",
    "tile_names_tile_urls_complete_array_unique_standard_tile_names = np.load(\"tile_names_tile_urls_complete_array_unique_standard_tile_names.npy\")\n",
    "image_characteristics = pd.read_csv(\"image_characteristics.csv\")\n",
    "tile_names_tile_urls_complete_array_unique_standard_tile_names = np.load(\"tile_names_tile_urls_complete_array_unique_standard_tile_names.npy\")\n",
    "\n",
    "#NAIP quad map\n",
    "quad_indicies_path = \"C:/Users/rapiduser/Box/EPA STAR 2019 (Community Resistance to Environmental Disasters)/Data/AST Datasets/MapIndices_National_GDB/MapIndices_National_GDB.gdb\"\n",
    "#fiona.listlayers(quad_indicies_path)"
   ]
  },
  {
   "cell_type": "code",
   "execution_count": null,
   "id": "6283f630-8e12-48a4-addb-fd0fd1b97e17",
   "metadata": {},
   "outputs": [],
   "source": [
    "## Tile names and urls for all tiles apart of the dataset (complete array)"
   ]
  },
  {
   "cell_type": "code",
   "execution_count": null,
   "id": "d90f6edc-95c5-4364-a66f-58321eaec6e4",
   "metadata": {},
   "outputs": [],
   "source": [
    "tile_names_tile_urls_complete_array = fc.add_formatted_and_standard_tile_names_to_tile_names_time_urls(tile_names_tile_urls_complete_array)\n",
    "print(tile_names_tile_urls_complete_array.shape)\n",
    "\n",
    "tile_names_tile_urls_complete_array_unique_standard_tile_names, tile_names_tile_urls_complete_array_unique_formatted_tile_names = fc.unique_formatted_standard_tile_names(tile_names_tile_urls_complete_array)\n",
    "#Save unique standard tile names\n",
    "np.save(\"tile_names_tile_urls_complete_array_unique_standard_tile_names.npy\", tile_names_tile_urls_complete_array_unique_standard_tile_names)\n",
    "#pd.DataFrame(np.load(\"image_download_azure/tile_name_tile_url_complete_array.npy\")).to_csv(\"image_download_azure/tile_name_tile_url_complete_array.csv\")"
   ]
  },
  {
   "cell_type": "code",
   "execution_count": 10,
   "id": "e11663a1-96c3-4a83-b97c-ac1435a43c2c",
   "metadata": {},
   "outputs": [],
   "source": [
    "def get_xml_path_from_root_jpg(df, i):\n",
    "    \"\"\"\n",
    "    \"\"\"\n",
    "    file_name = os.path.splitext(df.six_digit_chip_name[i])[0]\n",
    "    xml_path = os.path.join(df.root[i], \"chips_positive_xml\", file_name + \".xml\") #review how root path was formed \n",
    "    tree = et.parse(xml_path)\n",
    "    root = tree.getroot()\n",
    "    return(xml_path,root)\n",
    "\n",
    "def generate_xml(tile_name, tiles_path, tiles_xml_path, tile_bands, tile_height, tile_width):\n",
    "    \"\"\"\n",
    "    \"\"\"\n",
    "    #https://www.geeksforgeeks.org/create-xml-documents-using-python/\n",
    "    #root = et.Element(\"annotation\")\n",
    "      \n",
    "    #filename = et.Element(\"filename\")\n",
    "    #filename.text = tile_name + \".tif\" #tilename\n",
    "    #root.append(filename)\n",
    "    \"\"\"\n",
    "    path = et.Element(\"path\") \n",
    "    path.text = tiles_path   #path of database (tiles)\n",
    "    root.append(path)\n",
    "    \n",
    "    source = et.Element(\"source\")\n",
    "    root.append(source)\n",
    "    database = et.SubElement(source, \"database\")\n",
    "    database.text = \"AST Dataset - Complete Tile\" #name of database\n",
    "\n",
    "    \n",
    "\n",
    "    size = et.Element(\"size\")\n",
    "    root.append(size)\n",
    "    width = et.SubElement(size, \"width\")\n",
    "    width.text = tile_width #tile width\n",
    "    height = et.SubElement(size, \"height\")\n",
    "    height.text = tile_height #tile height\n",
    "    depth = et.SubElement(size, \"depth\")\n",
    "    depth.text = tile_bands #tile depth\n",
    "    \"\"\"   \n",
    "    #tree = et.ElementTree(root)\n",
    "    tile_xml_path = os.path.join(tiles_xml_path, tile_name + \".xml\")\n",
    "    print(tile_xml_path)\n",
    "    #with open (os.path(tiles_xml_complete_dataset_path, tile_name + \".xml\"), \"wb\") as files :\n",
    "    #    tree.write(files)"
   ]
  },
  {
   "cell_type": "code",
   "execution_count": null,
   "id": "d35b501f-6d7d-4fbe-97b8-57943c0f1ecf",
   "metadata": {},
   "outputs": [],
   "source": []
  },
  {
   "cell_type": "code",
   "execution_count": null,
   "id": "16004eca-7adb-4d42-a278-c999b30afbda",
   "metadata": {},
   "outputs": [],
   "source": [
    "tiles_complete_dataset_path"
   ]
  },
  {
   "cell_type": "code",
   "execution_count": 11,
   "id": "4e172bcf-ddea-48dc-ba49-b0e8db39d65c",
   "metadata": {},
   "outputs": [
    {
     "name": "stderr",
     "output_type": "stream",
     "text": [
      "1172it [11:47,  1.66it/s]\n"
     ]
    },
    {
     "name": "stdout",
     "output_type": "stream",
     "text": [
      "(24135, 2)\n"
     ]
    },
    {
     "name": "stderr",
     "output_type": "stream",
     "text": [
      "100%|██████████| 1922/1922 [3:53:45<00:00,  7.30s/it]  \n"
     ]
    }
   ],
   "source": [
    "unique_positive_jpgs = fc.unique_positive_jpgs_from_parent_directory(parent_directory)\n",
    "image_characteristics = fc.image_characteristics(tiles_complete_dataset_path, unique_positive_jpgs)"
   ]
  },
  {
   "cell_type": "code",
   "execution_count": 13,
   "id": "5f9520c2-1b8e-480a-ae0a-0eac1c38a2d5",
   "metadata": {},
   "outputs": [
    {
     "data": {
      "text/plain": [
       "array([['al_60cm_2019_30088_m_3008808_sw_16_060_20191115_000126.jpg',\n",
       "        '//oit-nas-fe13dc.oit.duke.edu//data_commons-borsuk//complete_dataset\\\\chips_positive\\\\al_60cm_2019_30088_m_3008808_sw_16_060_20191115_000126.jpg'],\n",
       "       ['al_60cm_2019_30088_m_3008808_sw_16_060_20191115_000444.jpg',\n",
       "        '//oit-nas-fe13dc.oit.duke.edu//data_commons-borsuk//complete_dataset\\\\chips_positive\\\\al_60cm_2019_30088_m_3008808_sw_16_060_20191115_000444.jpg'],\n",
       "       ['al_60cm_2019_30088_m_3008816_se_16_060_20191115_000051.jpg',\n",
       "        '//oit-nas-fe13dc.oit.duke.edu//data_commons-borsuk//complete_dataset\\\\chips_positive\\\\al_60cm_2019_30088_m_3008816_se_16_060_20191115_000051.jpg'],\n",
       "       ...,\n",
       "       ['wy_60cm_2019_44107_m_4410749_se_13_060_20190828_000460.jpg',\n",
       "        '//oit-nas-fe13dc.oit.duke.edu//data_commons-borsuk//complete_dataset\\\\chips_positive\\\\wy_60cm_2019_44107_m_4410749_se_13_060_20190828_000460.jpg'],\n",
       "       ['wy_60cm_2019_44108_m_4410801_ne_12_060_20190821_000041.jpg',\n",
       "        '//oit-nas-fe13dc.oit.duke.edu//data_commons-borsuk//complete_dataset\\\\chips_positive\\\\wy_60cm_2019_44108_m_4410801_ne_12_060_20190821_000041.jpg'],\n",
       "       ['wy_60cm_2019_44108_m_4410801_ne_12_060_20190821_000066.jpg',\n",
       "        '//oit-nas-fe13dc.oit.duke.edu//data_commons-borsuk//complete_dataset\\\\chips_positive\\\\wy_60cm_2019_44108_m_4410801_ne_12_060_20190821_000066.jpg']],\n",
       "      dtype='<U260')"
      ]
     },
     "execution_count": 13,
     "metadata": {},
     "output_type": "execute_result"
    }
   ],
   "source": [
    "unique_positive_jpgs\n",
    "T"
   ]
  },
  {
   "cell_type": "code",
   "execution_count": 12,
   "id": "9225e9a4-2555-4dda-9ff6-060c23eccbba",
   "metadata": {},
   "outputs": [
    {
     "data": {
      "text/html": [
       "<div>\n",
       "<style scoped>\n",
       "    .dataframe tbody tr th:only-of-type {\n",
       "        vertical-align: middle;\n",
       "    }\n",
       "\n",
       "    .dataframe tbody tr th {\n",
       "        vertical-align: top;\n",
       "    }\n",
       "\n",
       "    .dataframe thead th {\n",
       "        text-align: right;\n",
       "    }\n",
       "</style>\n",
       "<table border=\"1\" class=\"dataframe\">\n",
       "  <thead>\n",
       "    <tr style=\"text-align: right;\">\n",
       "      <th></th>\n",
       "      <th>root</th>\n",
       "      <th>state</th>\n",
       "      <th>resolution</th>\n",
       "      <th>year</th>\n",
       "      <th>capture_date</th>\n",
       "      <th>utm_zone</th>\n",
       "      <th>standard_tile_name</th>\n",
       "      <th>six_digit_chip_name</th>\n",
       "      <th>NW_pixel_coordinates</th>\n",
       "      <th>SE_pixel_coordinates</th>\n",
       "      <th>row_indicies</th>\n",
       "      <th>col_indicies</th>\n",
       "    </tr>\n",
       "  </thead>\n",
       "  <tbody>\n",
       "  </tbody>\n",
       "</table>\n",
       "</div>"
      ],
      "text/plain": [
       "Empty DataFrame\n",
       "Columns: [root, state, resolution, year, capture_date, utm_zone, standard_tile_name, six_digit_chip_name, NW_pixel_coordinates, SE_pixel_coordinates, row_indicies, col_indicies]\n",
       "Index: []"
      ]
     },
     "execution_count": 12,
     "metadata": {},
     "output_type": "execute_result"
    }
   ],
   "source": [
    "image_characteristics"
   ]
  },
  {
   "cell_type": "code",
   "execution_count": null,
   "id": "d14cfb42-ec3a-4512-b9de-cd5488a61d08",
   "metadata": {},
   "outputs": [],
   "source": [
    "#specify folder that holds tiles in completed dataset\n",
    "\n",
    "#unique positive jpgs (file names with the file extension)\n",
    "unique_positive_jpgs = fc.unique_positive_jpgs_from_parent_directory(args.parent_directory)\n",
    "\n",
    "image_characteristics = fc.image_characteristics(complete_dataset_tiles_folder_path, unique_positive_jpgs)\n",
    "\n",
    "image_characteristics.to_csv('image_characteristics.csv')\n",
    "counterin = 0\n",
    "counternot = 0 \n",
    "\n",
    "#Check to see how many images are not yet in the image characteristics folder (not verified)\n",
    "for unique_jpg in unique_positive_jpgs[:,0]:\n",
    "    if image_characteristics['six_digit_chip_name'].isin([unique_jpg]).any():\n",
    "        counterin += 1\n",
    "    if not image_characteristics['six_digit_chip_name'].isin([unique_jpg]).any():\n",
    "        counternot += 1\n",
    "print(\"images included in the image characteristics csv \",counterin, \\\n",
    "      \"images not included in the image characteristics csv \\ left to be verified\", counternot)"
   ]
  },
  {
   "cell_type": "code",
   "execution_count": 7,
   "id": "2d1978b3-b5c9-4486-b094-79eddcbfff98",
   "metadata": {},
   "outputs": [
    {
     "data": {
      "application/vnd.jupyter.widget-view+json": {
       "model_id": "9f6f4b3726d445399fc70031e67ac713",
       "version_major": 2,
       "version_minor": 0
      },
      "text/plain": [
       "0it [00:00, ?it/s]"
      ]
     },
     "metadata": {},
     "output_type": "display_data"
    }
   ],
   "source": [
    "#for unique_standard_tile_names in tile_names_tile_urls_complete_array_unique_standard_tile_names[:,2]:\n",
    "#    if unique\n",
    "tiles_with_no_images = []\n",
    "tiles_with_images = []\n",
    "for standard_tile_name in tqdm_notebook(image_characteristics.standard_tile_name.unique()): #Iterate over all the possible tiles that could be included in the dataset\n",
    "    print(standard_tile_name)\n",
    "    #get the image characteristics for the images corresponding to each tile\n",
    "    images_in_tile = image_characteristics.loc[image_characteristics.standard_tile_name == standard_tile_name] #get the annotated images corresponding to ech time\n",
    "    indicies = images_in_tile.index\n",
    "    \n",
    "    #get the characteristics for each time\n",
    "    da = xr.open_rasterio(os.path.join(tiles_complete_dataset_path, standard_tile_name +\".tif\"))\n",
    "    tile_band, tile_height, tile_width = da.shape[0], da.shape[1], da.shape[2]\n",
    "    #make the xml for each tile\n",
    "    generate_xml(standard_tile_name, tiles_complete_dataset_path, tiles_xml_complete_dataset_path, tile_band, tile_height, tile_width)\n",
    "    #add data from each image xml to the corresponding tile xml\n",
    "    #for i in indicies:\n",
    "    #    xml_path, root = get_xml_path_from_root_jpg(images_in_tile, i)\n",
    "    #if not images_in_tile.empty:"
   ]
  },
  {
   "cell_type": "code",
   "execution_count": 9,
   "id": "c50c739a-89a0-43bd-8a50-842491ca0d08",
   "metadata": {},
   "outputs": [
    {
     "data": {
      "text/html": [
       "<div>\n",
       "<style scoped>\n",
       "    .dataframe tbody tr th:only-of-type {\n",
       "        vertical-align: middle;\n",
       "    }\n",
       "\n",
       "    .dataframe tbody tr th {\n",
       "        vertical-align: top;\n",
       "    }\n",
       "\n",
       "    .dataframe thead th {\n",
       "        text-align: right;\n",
       "    }\n",
       "</style>\n",
       "<table border=\"1\" class=\"dataframe\">\n",
       "  <thead>\n",
       "    <tr style=\"text-align: right;\">\n",
       "      <th></th>\n",
       "      <th>Unnamed: 0</th>\n",
       "      <th>root</th>\n",
       "      <th>state</th>\n",
       "      <th>resolution</th>\n",
       "      <th>year</th>\n",
       "      <th>capture_date</th>\n",
       "      <th>utm_zone</th>\n",
       "      <th>standard_tile_name</th>\n",
       "      <th>six_digit_chip_name</th>\n",
       "      <th>NW_pixel_coordinates</th>\n",
       "      <th>SE_pixel_coordinates</th>\n",
       "      <th>row_indicies</th>\n",
       "      <th>col_indicies</th>\n",
       "    </tr>\n",
       "  </thead>\n",
       "  <tbody>\n",
       "  </tbody>\n",
       "</table>\n",
       "</div>"
      ],
      "text/plain": [
       "Empty DataFrame\n",
       "Columns: [Unnamed: 0, root, state, resolution, year, capture_date, utm_zone, standard_tile_name, six_digit_chip_name, NW_pixel_coordinates, SE_pixel_coordinates, row_indicies, col_indicies]\n",
       "Index: []"
      ]
     },
     "execution_count": 9,
     "metadata": {},
     "output_type": "execute_result"
    }
   ],
   "source": [
    "image_characteristics"
   ]
  },
  {
   "cell_type": "code",
   "execution_count": 3,
   "id": "17b537bd-1c6d-4d9d-85d3-2ccd8153c540",
   "metadata": {},
   "outputs": [
    {
     "data": {
      "text/plain": [
       "array([453672.        , 453672.50487684, 453673.00975368, ...,\n",
       "       459778.99024632, 459779.49512316, 459780.        ])"
      ]
     },
     "execution_count": 3,
     "metadata": {},
     "output_type": "execute_result"
    }
   ],
   "source": [
    "dataset = rasterio.open(os.path.join(tiles_complete_dataset_path, os.listdir(tiles_complete_dataset_path)[0]))\n",
    "left = dataset.bounds[0]\n",
    "right = dataset.bounds[2]\n",
    "bottom = dataset.bounds[1]\n",
    "top = dataset.bounds[3]\n",
    "x = dataset.shape[0] \n",
    "y = dataset.shape[1] \n",
    "np.linspace(left, right, num=x-1)# endpoint=True, retstep=False, dtype=None, axis=0)\n",
    "# Read the data\n",
    "## Get tile locations\n",
    "da = xr.open_rasterio(os.path.join(tiles_complete_dataset_path, os.listdir(tiles_complete_dataset_path)[0]))\n",
    "# Compute the lon/lat coordinates with rasterio.warp.transform\n",
    "ny, nx = len(da['y']), len(da['x'])\n",
    "x, y = np.meshgrid(da['x'], da['y'])\n",
    "da.crs"
   ]
  },
  {
   "cell_type": "markdown",
   "id": "ac75f95a-30a9-44e7-a7c1-cdc80be3cb81",
   "metadata": {},
   "source": [
    "## Combine tiles\n",
    "- For every tile\n",
    "- identify all annotated images (.xmls) corresponding to the tile\n",
    "    - identify the position of the image"
   ]
  },
  {
   "cell_type": "code",
   "execution_count": 17,
   "id": "af3d46a4-6ab2-4420-bcb0-fd8d7558a594",
   "metadata": {},
   "outputs": [
    {
     "data": {
      "text/plain": [
       "'ca_060cm_2018_34117_m_3411761_sw_11_060_20180822_000007'"
      ]
     },
     "execution_count": 17,
     "metadata": {},
     "output_type": "execute_result"
    }
   ],
   "source": [
    "#jpg = os.path.splitext(base)[0] #name of tif with the extension removed\n",
    "#tile_name_formated_name = jpg.rsplit(\"_\",1)[0] #name of tif with the extensio\n",
    "#https://stackoverflow.com/questions/17071871/how-do-i-select-rows-from-a-dataframe-based-on-column-values\n",
    "df.loc[df['column_name'].isin(some_values)]"
   ]
  },
  {
   "cell_type": "code",
   "execution_count": 54,
   "id": "9061e1b3-54d4-4037-adce-b7af826fd124",
   "metadata": {},
   "outputs": [
    {
     "ename": "AttributeError",
     "evalue": "'Element' object has no attribute 'text'",
     "output_type": "error",
     "traceback": [
      "\u001b[1;31m---------------------------------------------------------------------------\u001b[0m",
      "\u001b[1;31mAttributeError\u001b[0m                            Traceback (most recent call last)",
      "\u001b[1;32mC:\\Users\\RAPIDU~1\\AppData\\Local\\Temp/ipykernel_1476/2605222668.py\u001b[0m in \u001b[0;36m<module>\u001b[1;34m\u001b[0m\n\u001b[0;32m      4\u001b[0m \u001b[0mfilenamelist\u001b[0m \u001b[1;33m=\u001b[0m \u001b[0mannotation\u001b[0m\u001b[1;33m.\u001b[0m\u001b[0mgetElementsByTagName\u001b[0m\u001b[1;33m(\u001b[0m\u001b[1;34m'filename'\u001b[0m\u001b[1;33m)\u001b[0m \u001b[1;31m#[<DOM Element: filename at 0x381f788>]\u001b[0m\u001b[1;33m\u001b[0m\u001b[1;33m\u001b[0m\u001b[0m\n\u001b[0;32m      5\u001b[0m \u001b[0mfilename\u001b[0m \u001b[1;33m=\u001b[0m \u001b[0mfilenamelist\u001b[0m\u001b[1;33m[\u001b[0m\u001b[1;36m0\u001b[0m\u001b[1;33m]\u001b[0m\u001b[1;33m\u001b[0m\u001b[1;33m\u001b[0m\u001b[0m\n\u001b[1;32m----> 6\u001b[1;33m \u001b[0mfilename\u001b[0m\u001b[1;33m.\u001b[0m\u001b[0mtext\u001b[0m\u001b[1;33m(\u001b[0m\u001b[1;33m)\u001b[0m\u001b[1;33m\u001b[0m\u001b[1;33m\u001b[0m\u001b[0m\n\u001b[0m\u001b[0;32m      7\u001b[0m \u001b[1;31m#objectlist = annotation.getElementsByTagName('object')\u001b[0m\u001b[1;33m\u001b[0m\u001b[1;33m\u001b[0m\u001b[0m\n",
      "\u001b[1;31mAttributeError\u001b[0m: 'Element' object has no attribute 'text'"
     ]
    }
   ],
   "source": [
    "DomTree = xml.dom.minidom.parse(\"Catalog.xml\")\n",
    "annotation = DomTree.documentElement\n",
    "\n",
    "filenamelist = annotation.getElementsByTagName('filename') #[<DOM Element: filename at 0x381f788>]\n",
    "filename = filenamelist[0]\n",
    "filename.text()\n",
    "#objectlist = annotation.getElementsByTagName('object')\n",
    "\n",
    "\n",
    "\n",
    "\n",
    "def newRunRun(folder):\n",
    "    xml_files = glob.glob(folder+\"/*.xml\")\n",
    "    node = None\n",
    "    for xmlFile in xml_files:      \n",
    "        tree = ElementTree.parse(xmlFile)\n",
    "        root = tree.getroot()\n",
    "        if node is None:\n",
    "            node = root\n",
    "        else:\n",
    "            elements = root.find(\"./results\")           \n",
    "            for element in elements._children:\n",
    "                node[1].append(element)                \n",
    "    print ElementTree.tostring(node)\n",
    "    \n",
    "    \n",
    "        xml_file = self.chips_xml_list[i]\n",
    "    # use the parse() function to load and parse an XML file\n",
    "    tree = et.parse(os.path.join(self.chips_xml_dir, xml_file))\n",
    "    root = tree.getroot()         \n",
    "\n",
    "    for obj in root.iter('object'):\n",
    "        for name in obj.findall('name'):\n",
    "            if name.text not in correctly_formatted_object:\n",
    "                name.text = object_dict[name.text]\n",
    "\n",
    "        if int(obj.find('difficult').text) == 1:\n",
    "            obj.find('truncated').text = '1'\n",
    "            obj.find('difficult').text = '0'\n",
    "\n",
    "folder = \"resources\"\n",
    "newRunRun(folder) "
   ]
  },
  {
   "cell_type": "code",
   "execution_count": null,
   "id": "b964d738-f302-4c46-9cd1-35a2c580b1af",
   "metadata": {},
   "outputs": [],
   "source": [
    "\n",
    "# Replace <Subscription Key> with your valid subscription key.\n",
    "subscription_key = \"f244aa59ad4f4c05be907b4e78b7c6da\"\n",
    "assert subscription_key\n",
    "\n",
    "vision_base_url = \"https://westcentralus.api.cognitive.microsoft.com/vision/v2.0/\"\n",
    "\n",
    "ocr_url = vision_base_url + \"ocr\"\n",
    "\n",
    "# Set image_url to the URL of an image that you want to analyze.\n",
    "image_url = \"https://cdn-ayb.akinon.net/cms/2019/04/04/e494dce0-1e80-47eb-96c9-448960a71260.jpg\"\n",
    "\n",
    "headers = {'Ocp-Apim-Subscription-Key': subscription_key}\n",
    "params  = {'language': 'unk', 'detectOrientation': 'true'}\n",
    "data    = {'url': image_url}\n",
    "response = requests.post(ocr_url, headers=headers, params=params, json=data)\n",
    "response.raise_for_status()\n",
    "\n",
    "analysis = response.json()\n",
    "\n",
    "# Extract the word bounding boxes and text.\n",
    "line_infos = [region[\"lines\"] for region in analysis[\"regions\"]]\n",
    "word_infos = []\n",
    "for line in line_infos:\n",
    "    for word_metadata in line:\n",
    "        for word_info in word_metadata[\"words\"]:\n",
    "            word_infos.append(word_info)\n",
    "word_infos\n",
    "\n",
    "# Display the image and overlay it with the extracted text.\n",
    "plt.figure(figsize=(100, 20))\n",
    "image = Image.open(BytesIO(requests.get(image_url).content))\n",
    "ax = plt.imshow(image)\n",
    "texts_boxes = []\n",
    "texts = []\n",
    "for word in word_infos:\n",
    "    bbox = [int(num) for num in word[\"boundingBox\"].split(\",\")]\n",
    "    text = word[\"text\"]\n",
    "    origin = (bbox[0], bbox[1])\n",
    "    patch  = Rectangle(origin, bbox[2], bbox[3], fill=False, linewidth=3, color='r')\n",
    "    ax.axes.add_patch(patch)\n",
    "    plt.text(origin[0], origin[1], text, fontsize=2, weight=\"bold\", va=\"top\")\n",
    "#     print(bbox)\n",
    "    new_box = [bbox[1], bbox[0], bbox[1]+bbox[3], bbox[0]+bbox[2]]\n",
    "    texts_boxes.append(new_box)\n",
    "    texts.append(text)\n",
    "#     print(text)\n",
    "plt.axis(\"off\")\n",
    "texts_boxes = np.array(texts_boxes)\n",
    "texts_boxes"
   ]
  },
  {
   "cell_type": "code",
   "execution_count": 3,
   "id": "ed4b2d69-eea5-42a1-aa38-77142901052a",
   "metadata": {},
   "outputs": [],
   "source": [
    "fc.rename_formatted_chips_images_xmls(complete_dataset_path)"
   ]
  }
 ],
 "metadata": {
  "kernelspec": {
   "display_name": "Chip Allocate",
   "language": "python",
   "name": "chip_allocate"
  },
  "language_info": {
   "codemirror_mode": {
    "name": "ipython",
    "version": 3
   },
   "file_extension": ".py",
   "mimetype": "text/x-python",
   "name": "python",
   "nbconvert_exporter": "python",
   "pygments_lexer": "ipython3",
   "version": "3.9.7"
  }
 },
 "nbformat": 4,
 "nbformat_minor": 5
}
