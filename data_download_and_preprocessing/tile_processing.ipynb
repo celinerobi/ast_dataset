{
 "cells": [
  {
   "cell_type": "code",
   "execution_count": 3,
   "id": "e4b83600",
   "metadata": {
    "tags": []
   },
   "outputs": [
    {
     "name": "stdout",
     "output_type": "stream",
     "text": [
      "\n",
      "Please wait a moment while I gather a list of all available modules...\n",
      "\n"
     ]
    },
    {
     "name": "stderr",
     "output_type": "stream",
     "text": [
      "C:\\Program Files\\WindowsApps\\PythonSoftwareFoundation.Python.3.10_3.10.2544.0_x64__qbz5n2kfra8p0\\lib\\pkgutil.py:92: UserWarning: The numpy.array_api submodule is still experimental. See NEP 47.\n",
      "  __import__(info.name)\n",
      "C:\\Users\\cscro\\.virtualenvs\\AST_dataset\\lib\\site-packages\\_distutils_hack\\__init__.py:33: UserWarning: Setuptools is replacing distutils.\n",
      "  warnings.warn(\"Setuptools is replacing distutils.\")\n"
     ]
    },
    {
     "name": "stdout",
     "output_type": "stream",
     "text": [
      "IPython             cligj               multiprocessing     soupsieve\n",
      "PIL                 cmath               munch               sqlite3\n",
      "__future__          cmd                 nbclassic           sre_compile\n",
      "_abc                code                nbclient            sre_constants\n",
      "_aix_support        codecs              nbconvert           sre_parse\n",
      "_argon2_cffi_bindings codeop              nbformat            ssl\n",
      "_ast                collections         nest_asyncio        sspi\n",
      "_asyncio            colorama            netbios             sspicon\n",
      "_bisect             colorsys            netrc               stack_data\n",
      "_blake2             commctrl            networkx            stat\n",
      "_bootsubprocess     compare_imgs_by_tile nntplib             statistics\n",
      "_bz2                compileall          notebook            string\n",
      "_cffi_backend       concurrent          notebook_shim       stringprep\n",
      "_codecs             configparser        nt                  struct\n",
      "_codecs_cn          conftest            ntpath              subprocess\n",
      "_codecs_hk          contextlib          ntsecuritycon       sunau\n",
      "_codecs_iso2022     contextvars         nturl2path          symtable\n",
      "_codecs_jp          contourpy           numbers             sys\n",
      "_codecs_kr          copy                numpy               sysconfig\n",
      "_codecs_tw          copyreg             odbc                tabnanny\n",
      "_collections        correct_incon_labels opcode              tarfile\n",
      "_collections_abc    crypt               operator            telnetlib\n",
      "_compat_pickle      csv                 optparse            tempfile\n",
      "_compression        ctypes              os                  terminado\n",
      "_contextvars        curses              osgeo               textwrap\n",
      "_csv                cv2                 osgeo_utils         this\n",
      "_ctypes             cycler              packaging           threading\n",
      "_datetime           data_clean_descrip  pandas              tifffile\n",
      "_decimal            data_eng            pandocfilters       tile_level_annotation\n",
      "_distutils_hack     dataclasses         parso               time\n",
      "_elementtree        datetime            pathlib             timeit\n",
      "_functools          dateutil            pdb                 timer\n",
      "_hashlib            dbi                 perfmon             tinycss2\n",
      "_heapq              dbm                 pickle              tkinter\n",
      "_imp                dde                 pickleshare         token\n",
      "_io                 debugpy             pickletools         tokenize\n",
      "_json               decimal             pip                 tornado\n",
      "_locale             decorator           pipes               tqdm\n",
      "_lsprof             defusedxml          pkg_resources       trace\n",
      "_lzma               difflib             pkgutil             traceback\n",
      "_markupbase         dis                 platform            tracemalloc\n",
      "_md5                distutils           plistlib            track_annotator_draw\n",
      "_msi                doctest             poplib              traitlets\n",
      "_multibytecodec     download_distribution posixpath           tty\n",
      "_multiprocessing    email               pprint              turtle\n",
      "_opcode             encodings           profile             turtledemo\n",
      "_operator           ensurepip           progressbar         types\n",
      "_osx_support        entrypoints         prometheus_client   typing\n",
      "_overlapped         enum                prompt_toolkit      unicodedata\n",
      "_pickle             errno               pstats              unittest\n",
      "_py_abc             executing           psutil              urllib\n",
      "_pydecimal          fastjsonschema      pty                 uu\n",
      "_pydev_bundle       faulthandler        pure_eval           uuid\n",
      "_pydev_comm         filecmp             pvectorc            venv\n",
      "_pydev_imps         fileinput           py_compile          verification_and_tracking\n",
      "_pydev_runfiles     fiona               pyclbr              warnings\n",
      "_pydevd_bundle      fnmatch             pycompletionserver  wave\n",
      "_pydevd_frame_eval  fontTools           pycparser           wcwidth\n",
      "_pyio               fractions           pydev_app_engine_debug_startup weakref\n",
      "_pyrsistent_version ftplib              pydev_console       webbrowser\n",
      "_queue              functools           pydev_coverage      webencodings\n",
      "_random             gc                  pydev_ipython       websocket\n",
      "_sha1               genericpath         pydev_jupyter_plugin wheel\n",
      "_sha256             geographiclib       pydev_jupyter_utils widgetsnbextension\n",
      "_sha3               geopandas           pydev_jupyter_vars  win2kras\n",
      "_sha512             geopy               pydev_pysrc         win32api\n",
      "_signal             getopt              pydevconsole        win32clipboard\n",
      "_sitebuiltins       getpass             pydevd              win32com\n",
      "_socket             gettext             pydevd_concurrency_analyser win32con\n",
      "_sqlite3            glob                pydevd_file_utils   win32console\n",
      "_sre                graphlib            pydevd_plugins      win32cred\n",
      "_ssl                gzip                pydevd_pycharm      win32crypt\n",
      "_stat               hashlib             pydevd_tracing      win32cryptcon\n",
      "_statistics         heapq               pydoc               win32event\n",
      "_string             hmac                pydoc_data          win32evtlog\n",
      "_strptime           html                pyexpat             win32evtlogutil\n",
      "_struct             http                pygments            win32file\n",
      "_symtable           idlelib             pylab               win32gui\n",
      "_thread             idna                pyparsing           win32gui_struct\n",
      "_threading_local    imageio             pyproj              win32help\n",
      "_tkinter            imaplib             pyrsistent          win32inet\n",
      "_tracemalloc        imghdr              python_utils        win32inetcon\n",
      "_uuid               imp                 pythoncom           win32job\n",
      "_virtualenv         importlib           pytz                win32lz\n",
      "_warnings           inspect             pywin               win32net\n",
      "_weakref            interpreterInfo     pywin32_bootstrap   win32netcon\n",
      "_weakrefset         io                  pywin32_testutil    win32pdh\n",
      "_win32sysloader     ipaddress           pywintypes          win32pdhquery\n",
      "_winapi             ipykernel           pywt                win32pdhutil\n",
      "_winxptheme         ipykernel_launcher  qtconsole           win32pipe\n",
      "_xxsubinterpreters  ipython_genutils    qtpy                win32print\n",
      "_zoneinfo           ipywidgets          queue               win32process\n",
      "abc                 isapi               quopri              win32profile\n",
      "adodbapi            itertools           random              win32ras\n",
      "affine              jedi                rasterio            win32rcparser\n",
      "afxres              jinja2              rasutil             win32security\n",
      "aifc                json                re                  win32service\n",
      "antigravity         jsonschema          regcheck            win32serviceutil\n",
      "anyio               jupyter             regutil             win32timezone\n",
      "argon2              jupyter_client      reprlib             win32trace\n",
      "argparse            jupyter_console     rioxarray           win32traceutil\n",
      "array               jupyter_core        rlcompleter         win32transaction\n",
      "ast                 jupyter_server      rtree               win32ts\n",
      "asttokens           jupyterlab_pygments runfiles            win32ui\n",
      "asynchat            jupyterlab_widgets  runpy               win32uiole\n",
      "asyncio             keyword             sched               win32verstamp\n",
      "asyncore            kiwisolver          scipy               win32wnet\n",
      "atexit              lib2to3             secrets             winerror\n",
      "attr                linecache           select              winioctlcon\n",
      "attrs               locale              selectors           winnt\n",
      "audioop             logging             send2trash          winperf\n",
      "backcall            lxml                seperate_positive_negative_images winpty\n",
      "base64              lzma                servicemanager      winreg\n",
      "bdb                 mailbox             setup_cython        winsound\n",
      "binascii            mailcap             setuptools          winxpgui\n",
      "binhex              make_complete_dataset shapely             winxptheme\n",
      "bisect              markupsafe          shelve              wsgiref\n",
      "bleach              marshal             shlex               xarray\n",
      "bs4                 math                shutil              xdrlib\n",
      "builtins            matplotlib          signal              xml\n",
      "bz2                 matplotlib_inline   site                xmlrpc\n",
      "cProfile            mimetypes           six                 xxsubtype\n",
      "calendar            mistune             skimage             zipapp\n",
      "certifi             mmap                smtpd               zipfile\n",
      "cffi                mmapfile            smtplib             zipimport\n",
      "cgi                 mmsystem            sndhdr              zlib\n",
      "cgitb               modulefinder        sniffio             zmq\n",
      "chunk               move_download_tiles snuggs              zoneinfo\n",
      "click               msilib              socket              \n",
      "click_plugins       msvcrt              socketserver        \n",
      "\n",
      "Enter any module name to get more help.  Or, type \"modules spam\" to search\n",
      "for modules whose name or summary contain the string \"spam\".\n",
      "\n",
      "None\n"
     ]
    },
    {
     "name": "stderr",
     "output_type": "stream",
     "text": [
      "C:\\Program Files\\WindowsApps\\PythonSoftwareFoundation.Python.3.10_3.10.2544.0_x64__qbz5n2kfra8p0\\lib\\pkgutil.py:92: UserWarning: viewer requires Qt\n",
      "  __import__(info.name)\n",
      "C:\\Program Files\\WindowsApps\\PythonSoftwareFoundation.Python.3.10_3.10.2544.0_x64__qbz5n2kfra8p0\\lib\\pkgutil.py:107: VisibleDeprecationWarning: zmq.eventloop.minitornado is deprecated in pyzmq 14.0 and will be removed.\n",
      "    Install tornado itself to use zmq with the tornado IOLoop.\n",
      "    \n",
      "  yield from walk_packages(path, info.name+'.', onerror)\n"
     ]
    }
   ],
   "source": [
    "import os\n",
    "import argparse\n",
    "import cv2\n",
    "import math\n",
    "from glob import glob\n",
    "# Standard packages\n",
    "import tempfile\n",
    "import warnings\n",
    "import urllib\n",
    "import shutil\n",
    "#import requests\n",
    "from PIL import Image\n",
    "from io import BytesIO\n",
    "import tqdm\n",
    "from tqdm.notebook import tqdm_notebook\n",
    "from skimage.metrics import structural_similarity as compare_ssim\n",
    "#import imutils\n",
    "import random\n",
    "import numpy as np\n",
    "import psutil\n",
    "import fiona #must be import before geopandas\n",
    "import geopandas as gpd\n",
    "import rasterio\n",
    "import rioxarray\n",
    "import re\n",
    "import rtree\n",
    "import pickle\n",
    "import pyproj\n",
    "import shapely\n",
    "from shapely.geometry import Polygon, Point\n",
    "from shapely.ops import transform\n",
    "#from cartopy import crs\n",
    "import collections\n",
    "# Less standard, but still pip- or conda-installable\n",
    "import pandas as pd\n",
    "import numpy as np\n",
    "import matplotlib\n",
    "import matplotlib.pyplot as plt\n",
    "from matplotlib.patches import Rectangle\n",
    "#Parsing/Modifying XML\n",
    "from lxml.etree import Element,SubElement,tostring\n",
    "import xml.dom.minidom\n",
    "from xml.dom.minidom import parseString\n",
    "import xml.etree.ElementTree as et\n",
    "from xml.dom import minidom\n",
    "import data_eng.az_proc as ap\n",
    "import data_eng.form_calcs as fc"
   ]
  },
  {
   "cell_type": "code",
   "execution_count": 13,
   "outputs": [],
   "source": [
    "parent_dir = \"//oit-nas-fe13dc.oit.duke.edu//data_commons-borsuk//sample_compile_dir\"\n",
    "xml_folder_name = \"chips_positive_corrected_xml\"\n",
    "tile_dir = \"//oit-nas-fe13dc.oit.duke.edu//data_commons-borsuk//tiles\"\n",
    "tile_level_annotation_dir = \"//oit-nas-fe13dc.oit.duke.edu//data_commons-borsuk//tile_level_annotations\"\n",
    "tile_level_annotation_dataset_filename = \"tile_level_annotation\"\n",
    "item_dim = 512\n",
    "distance_limit=int(5)\n",
    "states_gpds_path = \"C:/Users/rapiduser/Box/EPA STAR 2019 (Community Resistance to Environmental Disasters)/Data/US Political Boundaries/US State Boundaries/cb_2018_us_state_500k/cb_2018_us_state_500k.shp\""
   ],
   "metadata": {
    "collapsed": false
   }
  },
  {
   "cell_type": "code",
   "execution_count": 11,
   "outputs": [
    {
     "name": "stderr",
     "output_type": "stream",
     "text": [
      "100%|██████████| 3/3 [00:14<00:00,  4.70s/it]\n"
     ]
    }
   ],
   "source": [
    "tile_characteristics, image_characteristics = fc.image_tile_characteristics(parent_dir, tile_dir, xml_folder_name)"
   ],
   "metadata": {
    "collapsed": false
   }
  },
  {
   "cell_type": "code",
   "execution_count": 14,
   "outputs": [
    {
     "name": "stderr",
     "output_type": "stream",
     "text": [
      "100%|██████████| 3/3 [00:43<00:00, 14.35s/it]\n"
     ]
    }
   ],
   "source": [
    "tiles_xml_dir = os.path.join(tile_level_annotation_dir, \"tiles_xml\")\n",
    "os.makedirs(tiles_xml_dir, exist_ok=True)\n",
    "fc.generate_tile_xmls(parent_dir, tile_dir, xml_folder_name, tiles_xml_dir, item_dim)"
   ],
   "metadata": {
    "collapsed": false
   }
  },
  {
   "cell_type": "code",
   "execution_count": 18,
   "outputs": [
    {
     "data": {
      "text/plain": "array([1025., 1026., 1027., 1028., 1029., 1030., 1031., 1032., 1033.,\n       1034., 1035., 1036., 1037., 1038., 1039., 1040., 1041., 1042.,\n       1043., 1044., 1045., 1046., 1047., 1048., 1049., 1050., 1051.,\n       1052., 1053., 1054., 1055., 1056., 1057., 1058., 1059., 1060.,\n       1061., 1062., 1063., 1064., 1065., 1066., 1067., 1068., 1069.,\n       1070., 1071., 1072., 1073., 1074., 1075., 1076., 1077., 1078.,\n       1079., 1080., 1081., 1082., 1083., 1084., 1085., 1086., 1087.,\n       1088., 1089., 1090., 1091., 1092., 1093., 1094., 1095., 1096.,\n       1097., 1098., 1099., 1100., 1101., 1102., 1103., 1104., 1105.,\n       1106., 1107., 1108., 1109., 1110., 1111., 1112., 1113., 1114.,\n       1115., 1116., 1117., 1118., 1119., 1120., 1121., 1122., 1123.,\n       1124., 1125., 1126., 1127., 1128., 1129., 1130., 1131., 1132.,\n       1133., 1134., 1135., 1136., 1137., 1138., 1139., 1140., 1141.,\n       1142., 1143., 1144., 1145., 1146., 1147., 1148., 1149., 1150.,\n       1151., 1152., 1153., 1154., 1155., 1156., 1157., 1158., 1159.,\n       1160., 1161., 1162., 1163., 1164., 1165., 1166., 1167., 1168.,\n       1169., 1170., 1171., 1172., 1173., 1174., 1175., 1176., 1177.,\n       1178., 1179., 1180., 1181., 1182., 1183., 1184., 1185., 1186.,\n       1187., 1188., 1189., 1190., 1191., 1192., 1193., 1194., 1195.,\n       1196., 1197., 1198., 1199., 1200., 1201., 1202., 1203., 1204.,\n       1205., 1206., 1207., 1208., 1209., 1210., 1211., 1212., 1213.,\n       1214., 1215., 1216., 1217., 1218., 1219., 1220., 1221., 1222.,\n       1223., 1224., 1225., 1226., 1227., 1228., 1229., 1230., 1231.,\n       1232., 1233., 1234., 1235., 1236., 1237., 1238., 1239., 1240.,\n       1241., 1242., 1243., 1244., 1245., 1246., 1247., 1248., 1249.,\n       1250., 1251., 1252., 1253., 1254., 1255., 1256., 1257., 1258.,\n       1259., 1260., 1261., 1262., 1263., 1264., 1265., 1266., 1267.,\n       1268., 1269., 1270., 1271., 1272., 1273., 1274., 1275., 1276.,\n       1277., 1278., 1279., 1280., 1281., 1282., 1283., 1284., 1285.,\n       1286., 1287., 1288., 1289., 1290., 1291., 1292., 1293., 1294.,\n       1295., 1296., 1297., 1298., 1299., 1300., 1301., 1302., 1303.,\n       1304., 1305., 1306., 1307., 1308., 1309., 1310., 1311., 1312.,\n       1313., 1314., 1315., 1316., 1317., 1318., 1319., 1320., 1321.,\n       1322., 1323., 1324., 1325., 1326., 1327., 1328., 1329., 1330.,\n       1331., 1332., 1333., 1334., 1335., 1336., 1337., 1338., 1339.,\n       1340., 1341., 1342., 1343., 1344., 1345., 1346., 1347., 1348.,\n       1349., 1350., 1351., 1352., 1353., 1354., 1355., 1356., 1357.,\n       1358., 1359., 1360., 1361., 1362., 1363., 1364., 1365., 1366.,\n       1367., 1368., 1369., 1370., 1371., 1372., 1373., 1374., 1375.,\n       1376., 1377., 1378., 1379., 1380., 1381., 1382., 1383., 1384.,\n       1385., 1386., 1387., 1388., 1389., 1390., 1391., 1392., 1393.,\n       1394., 1395., 1396., 1397., 1398., 1399., 1400., 1401., 1402.,\n       1403., 1404., 1405., 1406., 1407., 1408., 1409., 1410., 1411.,\n       1412., 1413., 1414., 1415., 1416., 1417., 1418., 1419., 1420.,\n       1421., 1422., 1423., 1424., 1425., 1426., 1427., 1428., 1429.,\n       1430., 1431., 1432., 1433., 1434., 1435., 1436., 1437., 1438.,\n       1439., 1440., 1441., 1442., 1443., 1444., 1445., 1446., 1447.,\n       1448., 1449., 1450., 1451., 1452., 1453., 1454., 1455., 1456.,\n       1457., 1458., 1459., 1460., 1461., 1462., 1463., 1464., 1465.,\n       1466., 1467., 1468., 1469., 1470., 1471., 1472., 1473., 1474.,\n       1475., 1476., 1477., 1478., 1479., 1480., 1481., 1482., 1483.,\n       1484., 1485., 1486., 1487., 1488., 1489., 1490., 1491., 1492.,\n       1493., 1494., 1495., 1496., 1497., 1498., 1499., 1500., 1501.,\n       1502., 1503., 1504., 1505., 1506., 1507., 1508., 1509., 1510.,\n       1511., 1512., 1513., 1514., 1515., 1516., 1517., 1518., 1519.,\n       1520., 1521., 1522., 1523., 1524., 1525., 1526., 1527., 1528.,\n       1529., 1530., 1531., 1532., 1533., 1534., 1535., 1536.])"
     },
     "execution_count": 18,
     "metadata": {},
     "output_type": "execute_result"
    }
   ],
   "source": [
    "np.linspace(1,512,512) #row - 0\n",
    "np.linspace(512+1,512*2,512) #row - 1\n",
    "np.linspace(512*2+1,512*3,512) #row - 3\n",
    "\n",
    "#a + value\n",
    "#512 + value\n",
    "# row(512) + value\n",
    "# row(512"
   ],
   "metadata": {
    "collapsed": false
   }
  },
  {
   "cell_type": "code",
   "execution_count": 4,
   "outputs": [],
   "source": [
    "#by_tile_folder = os.listdir(args.complete_dir)\n",
    "complete_dir = \"//oit-nas-fe13dc.oit.duke.edu//data_commons-borsuk//temp/rechip\""
   ],
   "metadata": {
    "collapsed": false
   }
  },
  {
   "cell_type": "markdown",
   "source": [],
   "metadata": {
    "collapsed": false
   }
  },
  {
   "cell_type": "code",
   "execution_count": 2,
   "outputs": [
    {
     "data": {
      "text/plain": "array([  1.,   2.,   3.,   4.,   5.,   6.,   7.,   8.,   9.,  10.,  11.,\n        12.,  13.,  14.,  15.,  16.,  17.,  18.,  19.,  20.,  21.,  22.,\n        23.,  24.,  25.,  26.,  27.,  28.,  29.,  30.,  31.,  32.,  33.,\n        34.,  35.,  36.,  37.,  38.,  39.,  40.,  41.,  42.,  43.,  44.,\n        45.,  46.,  47.,  48.,  49.,  50.,  51.,  52.,  53.,  54.,  55.,\n        56.,  57.,  58.,  59.,  60.,  61.,  62.,  63.,  64.,  65.,  66.,\n        67.,  68.,  69.,  70.,  71.,  72.,  73.,  74.,  75.,  76.,  77.,\n        78.,  79.,  80.,  81.,  82.,  83.,  84.,  85.,  86.,  87.,  88.,\n        89.,  90.,  91.,  92.,  93.,  94.,  95.,  96.,  97.,  98.,  99.,\n       100., 101., 102., 103., 104., 105., 106., 107., 108., 109., 110.,\n       111., 112., 113., 114., 115., 116., 117., 118., 119., 120., 121.,\n       122., 123., 124., 125., 126., 127., 128., 129., 130., 131., 132.,\n       133., 134., 135., 136., 137., 138., 139., 140., 141., 142., 143.,\n       144., 145., 146., 147., 148., 149., 150., 151., 152., 153., 154.,\n       155., 156., 157., 158., 159., 160., 161., 162., 163., 164., 165.,\n       166., 167., 168., 169., 170., 171., 172., 173., 174., 175., 176.,\n       177., 178., 179., 180., 181., 182., 183., 184., 185., 186., 187.,\n       188., 189., 190., 191., 192., 193., 194., 195., 196., 197., 198.,\n       199., 200., 201., 202., 203., 204., 205., 206., 207., 208., 209.,\n       210., 211., 212., 213., 214., 215., 216., 217., 218., 219., 220.,\n       221., 222., 223., 224., 225., 226., 227., 228., 229., 230., 231.,\n       232., 233., 234., 235., 236., 237., 238., 239., 240., 241., 242.,\n       243., 244., 245., 246., 247., 248., 249., 250., 251., 252., 253.,\n       254., 255., 256., 257., 258., 259., 260., 261., 262., 263., 264.,\n       265., 266., 267., 268., 269., 270., 271., 272., 273., 274., 275.,\n       276., 277., 278., 279., 280., 281., 282., 283., 284., 285., 286.,\n       287., 288., 289., 290., 291., 292., 293., 294., 295., 296., 297.,\n       298., 299., 300., 301., 302., 303., 304., 305., 306., 307., 308.,\n       309., 310., 311., 312., 313., 314., 315., 316., 317., 318., 319.,\n       320., 321., 322., 323., 324., 325., 326., 327., 328., 329., 330.,\n       331., 332., 333., 334., 335., 336., 337., 338., 339., 340., 341.,\n       342., 343., 344., 345., 346., 347., 348., 349., 350., 351., 352.,\n       353., 354., 355., 356., 357., 358., 359., 360., 361., 362., 363.,\n       364., 365., 366., 367., 368., 369., 370., 371., 372., 373., 374.,\n       375., 376., 377., 378., 379., 380., 381., 382., 383., 384., 385.,\n       386., 387., 388., 389., 390., 391., 392., 393., 394., 395., 396.,\n       397., 398., 399., 400., 401., 402., 403., 404., 405., 406., 407.,\n       408., 409., 410., 411., 412., 413., 414., 415., 416., 417., 418.,\n       419., 420., 421., 422., 423., 424., 425., 426., 427., 428., 429.,\n       430., 431., 432., 433., 434., 435., 436., 437., 438., 439., 440.,\n       441., 442., 443., 444., 445., 446., 447., 448., 449., 450., 451.,\n       452., 453., 454., 455., 456., 457., 458., 459., 460., 461., 462.,\n       463., 464., 465., 466., 467., 468., 469., 470., 471., 472., 473.,\n       474., 475., 476., 477., 478., 479., 480., 481., 482., 483., 484.,\n       485., 486., 487., 488., 489., 490., 491., 492., 493., 494., 495.,\n       496., 497., 498., 499., 500., 501., 502., 503., 504., 505., 506.,\n       507., 508., 509., 510., 511., 512., 513., 514., 515., 516., 517.,\n       518., 519., 520., 521., 522., 523., 524., 525., 526., 527., 528.,\n       529., 530., 531., 532., 533., 534., 535., 536., 537., 538., 539.,\n       540., 541., 542., 543., 544., 545., 546., 547., 548., 549., 550.,\n       551., 552., 553., 554., 555., 556., 557., 558., 559., 560., 561.,\n       562., 563., 564., 565., 566., 567., 568., 569., 570., 571., 572.,\n       573., 574., 575., 576., 577., 578., 579., 580., 581., 582., 583.,\n       584., 585., 586., 587., 588., 589., 590., 591., 592., 593., 594.,\n       595., 596., 597., 598., 599., 600., 601., 602., 603., 604., 605.,\n       606., 607., 608., 609., 610., 611., 612., 613., 614., 615., 616.,\n       617., 618., 619., 620., 621., 622., 623., 624., 625., 626., 627.,\n       628.])"
     },
     "execution_count": 2,
     "metadata": {},
     "output_type": "execute_result"
    }
   ],
   "source": [
    "import numpy as np\n",
    "np.linspace(1,628,628)"
   ],
   "metadata": {
    "collapsed": false
   }
  },
  {
   "cell_type": "code",
   "execution_count": 9,
   "id": "e8b30c1f-5bce-470c-9c0f-71a5719ab5d4",
   "metadata": {},
   "outputs": [],
   "source": [
    "xml_paths = glob(complete_dir + \"/**/*.xml\", recursive = True)\n",
    "\n",
    "for xml_path in xml_paths:\n",
    "    fc.reclassify_narrow_closed_roof_and_closed_roof_tanks(xml_path)"
   ]
  },
  {
   "cell_type": "code",
   "execution_count": 16,
   "id": "1840166c-8079-4a7e-83ff-4205748dd2ca",
   "metadata": {},
   "outputs": [
    {
     "data": {
      "text/plain": [
       "20"
      ]
     },
     "execution_count": 16,
     "metadata": {},
     "output_type": "execute_result"
    }
   ],
   "source": [
    "x =random.sample(range(100), 40)  \n",
    "y =random.sample(x, 20)  \n",
    "len(y)\n"
   ]
  },
  {
   "cell_type": "code",
   "execution_count": 20,
   "id": "e44b5b0f-c709-4ba4-95c9-ab1f4aae6a32",
   "metadata": {},
   "outputs": [],
   "source": [
    "np.random.seed(0)\n",
    "train_FileNames, val_FileNames, test_FileNames = np.split(np.array(list(range(100))),\n",
    "                                                          [int(len(list(range(100)))*0.7), int(len(list(range(100)))*0.)])"
   ]
  },
  {
   "cell_type": "code",
   "execution_count": 44,
   "id": "7f8ffe02-306e-45a5-ba57-597ec392efc5",
   "metadata": {},
   "outputs": [],
   "source": [
    "img_ids = os.listdir(os.path.join(\"//oit-nas-fe13dc.oit.duke.edu//data_commons-borsuk//complete_dataset_/chips_positive\"))\n",
    "num_imgs = len(img_ids)  \n",
    "num_train_imgs = math.ceil(num_imgs * 0.75)  \n",
    "num_val_imgs = math.ceil(num_train_imgs * 0.1)  \n",
    "num_test_imgs = num_imgs - num_train_imgs\n",
    "#randomly sample images to be in the train/val and test sets\n",
    "random.seed(1)\n",
    "train_img_ids = random.sample(img_ids, num_train_imgs)  \n",
    "val_img_ids = random.sample(train_img_ids, num_val_imgs)  \n",
    "test_img_ids = list(set(img_ids) - set(train_img_ids) - set(val_img_ids))"
   ]
  },
  {
   "cell_type": "code",
   "execution_count": 41,
   "id": "3ba364fc-c3c2-41a4-b966-1e59ed2c6834",
   "metadata": {},
   "outputs": [
    {
     "data": {
      "text/plain": [
       "17154"
      ]
     },
     "execution_count": 41,
     "metadata": {},
     "output_type": "execute_result"
    }
   ],
   "source": [
    "len(np.unique(train_img_ids))"
   ]
  },
  {
   "cell_type": "code",
   "execution_count": 42,
   "id": "5046bd2e-9eb9-4d7a-8e36-6f8404a5d3aa",
   "metadata": {},
   "outputs": [
    {
     "data": {
      "text/plain": [
       "1716"
      ]
     },
     "execution_count": 42,
     "metadata": {},
     "output_type": "execute_result"
    }
   ],
   "source": [
    "len(np.unique(val_img_ids))"
   ]
  },
  {
   "cell_type": "code",
   "execution_count": 45,
   "id": "ba657bba-63c9-43ae-a8d2-82e9ee484dc2",
   "metadata": {},
   "outputs": [
    {
     "data": {
      "text/plain": [
       "5718"
      ]
     },
     "execution_count": 45,
     "metadata": {},
     "output_type": "execute_result"
    }
   ],
   "source": [
    "len(np.unique(test_img_ids))"
   ]
  },
  {
   "cell_type": "markdown",
   "id": "93416ef4-0fb2-4a24-9205-a23103b489e9",
   "metadata": {
    "tags": []
   },
   "source": [
    "## File Paths"
   ]
  },
  {
   "cell_type": "code",
   "execution_count": 4,
   "id": "96f05c4d-b275-4c4b-8a5f-6f01b37a583f",
   "metadata": {},
   "outputs": [
    {
     "ename": "FileNotFoundError",
     "evalue": "[WinError 3] The system cannot find the path specified: '//oit-nas-fe13dc.oit.duke.edu//data_commons-borsuk//temp/rechip'",
     "output_type": "error",
     "traceback": [
      "\u001B[1;31m---------------------------------------------------------------------------\u001B[0m",
      "\u001B[1;31mFileNotFoundError\u001B[0m                         Traceback (most recent call last)",
      "Cell \u001B[1;32mIn [4], line 17\u001B[0m\n\u001B[0;32m     14\u001B[0m \u001B[38;5;66;03m#fiona.listlayers(quad_indicies_path)\u001B[39;00m\n\u001B[0;32m     15\u001B[0m rechipped_image_path \u001B[38;5;241m=\u001B[39m os\u001B[38;5;241m.\u001B[39mpath\u001B[38;5;241m.\u001B[39mjoin(parent_directory,\u001B[38;5;124m\"\u001B[39m\u001B[38;5;124mtemp/rechip\u001B[39m\u001B[38;5;124m\"\u001B[39m)\n\u001B[1;32m---> 17\u001B[0m folders_of_images_xmls_by_tile \u001B[38;5;241m=\u001B[39m \u001B[43mos\u001B[49m\u001B[38;5;241;43m.\u001B[39;49m\u001B[43mlistdir\u001B[49m\u001B[43m(\u001B[49m\u001B[43mrechipped_image_path\u001B[49m\u001B[43m)\u001B[49m\n\u001B[0;32m     18\u001B[0m images_and_xmls_by_tile_path \u001B[38;5;241m=\u001B[39m rechipped_image_path\n\u001B[0;32m     20\u001B[0m tile_name_tile_url_complete_array_path \u001B[38;5;241m=\u001B[39m \u001B[38;5;124m\"\u001B[39m\u001B[38;5;124mimage_download_azure/tile_name_tile_url_complete_array.csv\u001B[39m\u001B[38;5;124m\"\u001B[39m\n",
      "\u001B[1;31mFileNotFoundError\u001B[0m: [WinError 3] The system cannot find the path specified: '//oit-nas-fe13dc.oit.duke.edu//data_commons-borsuk//temp/rechip'"
     ]
    }
   ],
   "source": [
    "\n",
    "#create folder to hold tiles in completed dataset\n",
    "#load tiles and tile xmls\n",
    "tiles_dir = os.path.join(parent_directory,\"complete_dataset\",\"tiles\")\n",
    "os.makedirs(tiles_dir, exist_ok=True)\n",
    "\n",
    "tiles_xml_dir = os.path.join(parent_directory,\"complete_dataset\",\"tiles_xml\")\n",
    "os.makedirs(tiles_xml_dir, exist_ok=True)\n",
    "tiles_xml_list = os.listdir(tiles_xml_dir)\n",
    "\n",
    "#NAIP quad map\n",
    "quad_indicies_path = \"C:/Users/rapiduser/Box/EPA STAR 2019 (Community Resistance to Environmental Disasters)/Data/AST Datasets/MapIndices_National_GDB/MapIndices_National_GDB.gdb\"\n",
    "#fiona.listlayers(quad_indicies_path)\n",
    "rechipped_image_path = os.path.join(parent_directory,\"temp/rechip\")\n",
    "\n",
    "folders_of_images_xmls_by_tile = os.listdir(rechipped_image_path)\n",
    "images_and_xmls_by_tile_path = rechipped_image_path\n",
    "\n",
    "tile_name_tile_url_complete_array_path = \"image_download_azure/tile_name_tile_url_complete_array.csv\"\n",
    "tile_name_tile_url_complete_array = pd.read_csv(tile_name_tile_url_complete_array_path)\n",
    "tile_name_tile_url_complete_array = tile_name_tile_url_complete_array.to_numpy()\n",
    "tile_name_tile_url_complete_array = tile_name_tile_url_complete_array[:,(1,2)] #remove index"
   ]
  },
  {
   "cell_type": "code",
   "execution_count": null,
   "outputs": [],
   "source": [],
   "metadata": {
    "collapsed": false
   }
  },
  {
   "cell_type": "markdown",
   "id": "7187dbfb-e487-4726-b7db-64aef7c30ec6",
   "metadata": {
    "tags": []
   },
   "source": [
    "# Add chips to rechip folder\n",
    "Add all chips corresponding to a tile to the 'chips' folder for each tile"
   ]
  },
  {
   "cell_type": "code",
   "execution_count": 3,
   "id": "11f65a90-5a87-450a-bbd3-ec2a63fc7e93",
   "metadata": {},
   "outputs": [],
   "source": [
    "#for tile_name in tqdm.tqdm(folders_of_images_xmls_by_tile):\n",
    "#    add_chips_to_chip_folders(rechipped_image_path, tile_name)"
   ]
  },
  {
   "cell_type": "markdown",
   "id": "83fcd26d-0e1c-41ec-b3c9-cb49788b47c6",
   "metadata": {
    "jp-MarkdownHeadingCollapsed": true,
    "tags": []
   },
   "source": [
    "# Correct object labels"
   ]
  },
  {
   "cell_type": "markdown",
   "id": "6cc42aef-0688-480c-a447-67e9a8e0a3d5",
   "metadata": {
    "jp-MarkdownHeadingCollapsed": true,
    "tags": []
   },
   "source": [
    "## Fix inconsistent labels "
   ]
  },
  {
   "cell_type": "code",
   "execution_count": null,
   "id": "039c7125-6de0-4691-b861-58bf280af605",
   "metadata": {},
   "outputs": [],
   "source": [
    "for tile_name in tqdm.tqdm(folders_of_images_xmls_by_tile):\n",
    "    #specify image/xml paths for each tile\n",
    "    positive_xml_dir = os.path.join(images_and_xmls_by_tile_path, tile_name, \"chips_positive_xml\")\n",
    "    fc.correct_inconsistent_labels_xml(positive_xml_dir)"
   ]
  },
  {
   "cell_type": "markdown",
   "id": "da2b257b-06c5-4555-a302-e7bb1446e514",
   "metadata": {},
   "source": [
    "## Reclassify narrow closed roof tanks and closed roof tanks by size"
   ]
  },
  {
   "cell_type": "code",
   "execution_count": null,
   "id": "19b88576-6f05-4334-989c-9f0eeb2af6de",
   "metadata": {},
   "outputs": [],
   "source": [
    "for tile in tqdm.tqdm(folders_of_images_xmls_by_tile): #iterate over tile folders\n",
    "    tile_annotation_path = os.path.join(images_and_xmls_by_tile_path, tile, \"chips_positive_xml\")\n",
    "    for xml in os.listdir(tile_annotation_path):\n",
    "        xml_path = os.path.join(tile_annotation_path, xml)\n",
    "        fc.reclassify_narrow_closed_roof_and_closed_roof_tanks(xml_path)"
   ]
  },
  {
   "cell_type": "markdown",
   "id": "1d91e316-f689-4e11-868e-e6da7a29dc85",
   "metadata": {
    "tags": []
   },
   "source": [
    "# Generate table of characteristics for tiles/images"
   ]
  },
  {
   "cell_type": "code",
   "execution_count": 5,
   "id": "f4d3f111-dfc0-4ee4-b23c-a5cfe881f8b6",
   "metadata": {},
   "outputs": [
    {
     "name": "stderr",
     "output_type": "stream",
     "text": [
      "100%|██████████████████████████████████████████████████████████████████████████████| 2139/2139 [25:57<00:00,  1.37it/s]\n"
     ]
    }
   ],
   "source": [
    "#tile_characteristics, image_characteristics = fc.image_tile_characteristics(rechipped_image_path, tiles_dir)#, tile_name_tile_url_complete_array)"
   ]
  },
  {
   "cell_type": "code",
   "execution_count": null,
   "id": "dbcbeb98-8d9f-4de9-b05c-81b97d1c8573",
   "metadata": {},
   "outputs": [],
   "source": [
    "#tile_dimensions_and_utm_coords()"
   ]
  },
  {
   "cell_type": "code",
   "execution_count": 6,
   "id": "04e6361a-322f-4502-9c9e-a859abed8c0b",
   "metadata": {},
   "outputs": [],
   "source": [
    "image_characteristics = pd.read_csv(\"image_characteristics.csv\")\n",
    "tile_characteristics = pd.read_csv(\"tile_characteristics.csv\")"
   ]
  },
  {
   "cell_type": "markdown",
   "id": "b37120bb-6d4e-4e7f-8ee4-49428b171dee",
   "metadata": {
    "tags": []
   },
   "source": [
    "# Create tile level annotations"
   ]
  },
  {
   "cell_type": "markdown",
   "id": "897af759-cca7-4b42-ab38-f1bfeda3723d",
   "metadata": {
    "tags": []
   },
   "source": [
    "## Generate tile level XMLs"
   ]
  },
  {
   "cell_type": "markdown",
   "id": "8214fa8d-63b1-495a-bc89-3786411bca06",
   "metadata": {
    "tags": []
   },
   "source": [
    "## Merge neighboring bounding boxes within each tile\n",
    "References:\n",
    "https://answers.opencv.org/question/231263/merging-nearby-rectanglesedited/\n",
    "https://stackoverflow.com/questions/55593506/merge-the-bounding-boxes-near-by-into-one"
   ]
  },
  {
   "cell_type": "code",
   "execution_count": 7,
   "id": "a048e1d9-5768-4aae-881f-d5ffdc553705",
   "metadata": {},
   "outputs": [
    {
     "name": "stderr",
     "output_type": "stream",
     "text": [
      "100%|██████████████████████████████████████████████████████████████████████████████| 2120/2120 [54:39<00:00,  1.55s/it]\n"
     ]
    }
   ],
   "source": [
    "distance_limit = 5\n",
    "tile_database = fc.merge_tile_annotations(tile_characteristics, tiles_xml_dir, distance_limit = 5)\n",
    "#merged_tile_database =  tile_database[tile_database[\"merged_bbox\"] == True]"
   ]
  },
  {
   "cell_type": "markdown",
   "id": "a85c5d4b-757c-4c38-a830-033bbeae41f3",
   "metadata": {},
   "source": [
    "# Clip storm surge data and append to tile level annotation database"
   ]
  },
  {
   "cell_type": "markdown",
   "id": "2887b635-407e-4415-8763-996df670d8bd",
   "metadata": {},
   "source": [
    "#sc_slosh_inundation_map_path = \"C:/Users/rapiduser/Box/EPA STAR 2019 (Community Resistance to Environmental Disasters)/Data/Natural Hazards Data/NHC Potential Storm Surge Flood Map/SC_SLOSH_MOM_Inundation\"\n",
    "#tile_database = fc.identify_inundation_for_tanks(tile_database, sc_slosh_inundation_map_path)"
   ]
  },
  {
   "cell_type": "markdown",
   "id": "737fa88a-b289-440e-82e2-50df781ec476",
   "metadata": {},
   "source": [
    "# Add in state"
   ]
  },
  {
   "cell_type": "code",
   "execution_count": 8,
   "id": "6df8d84e-3d1d-4bc1-8a70-a93d9a53f957",
   "metadata": {},
   "outputs": [
    {
     "name": "stderr",
     "output_type": "stream",
     "text": [
      "98169it [03:08, 519.82it/s] \n"
     ]
    }
   ],
   "source": [
    "states_gpds_path = \"C:/Users/rapiduser/Box/EPA STAR 2019 (Community Resistance to Environmental Disasters)/Data/US Political Boundaries/US State Boundaries/cb_2018_us_state_500k/cb_2018_us_state_500k.shp\"\n",
    "tile_database = fc.identify_state_name_for_each_state(states_gpds_path, tile_database)\n",
    "#check issues in state list\n",
    "#state_list = state_list[state_list!=None]\n",
    "#np.unique(state_list)"
   ]
  },
  {
   "cell_type": "code",
   "execution_count": 16,
   "id": "970d7bbe-83ce-4007-9eeb-83afb6c2dcd3",
   "metadata": {},
   "outputs": [],
   "source": [
    "#https://localcoder.org/merge-the-bounding-boxes-near-by-into-one"
   ]
  },
  {
   "cell_type": "code",
   "execution_count": 12,
   "outputs": [
    {
     "data": {
      "text/plain": "'20191120'"
     },
     "execution_count": 12,
     "metadata": {},
     "output_type": "execute_result"
    }
   ],
   "source": [
    "x = \"Y:/rechip/m_2508015_se_17_060_20191120/chips_positive_xml/m_2508015_se_17_060_20191120_23_12.xml\"\n"
   ],
   "metadata": {
    "collapsed": false
   }
  },
  {
   "cell_type": "markdown",
   "id": "5a7e7fd5-9f27-42bc-abbf-074ca2ad16f0",
   "metadata": {},
   "source": [
    "# Save tile dabasebase"
   ]
  },
  {
   "cell_type": "code",
   "execution_count": 9,
   "id": "48f9e5b2-d558-4dea-b832-13d4a08870d2",
   "metadata": {},
   "outputs": [
    {
     "name": "stderr",
     "output_type": "stream",
     "text": [
      "C:\\Users\\rapiduser\\cred\\AST_dataset\\data_download_and_preprocessing\\data_eng\\form_calcs.py:1095: UserWarning: Column names longer than 10 characters will be truncated when saved to ESRI Shapefile.\n",
      "  gdf_shapefile.to_file(os.path.join(output_filepath,output_filename+\".shp\"))\n"
     ]
    }
   ],
   "source": [
    "output_filepath = os.path.join(parent_directory,\"complete_dataset\",\"tile_level_annotations\")\n",
    "output_filename = 'tile_level_annotations'\n",
    "fc.write_gdf(tile_database, output_filepath, output_filename)"
   ]
  },
  {
   "cell_type": "code",
   "execution_count": 4,
   "outputs": [],
   "source": [
    "#fc.generate_tile_xmls(rechipped_image_path, tiles_dir, tiles_xml_dir, int(512))"
   ],
   "metadata": {
    "collapsed": false
   }
  }
 ],
 "metadata": {
  "kernelspec": {
   "name": "ast_dataset",
   "language": "python",
   "display_name": "ast_dataset"
  },
  "language_info": {
   "codemirror_mode": {
    "name": "ipython",
    "version": 3
   },
   "file_extension": ".py",
   "mimetype": "text/x-python",
   "name": "python",
   "nbconvert_exporter": "python",
   "pygments_lexer": "ipython3",
   "version": "3.9.7"
  }
 },
 "nbformat": 4,
 "nbformat_minor": 5
}
