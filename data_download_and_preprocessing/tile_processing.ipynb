{
 "cells": [
  {
   "cell_type": "code",
   "execution_count": 17,
   "id": "e4b83600",
   "metadata": {
    "tags": []
   },
   "outputs": [],
   "source": [
    "import os \n",
    "\n",
    "import fiona #must be import before geopandas\n",
    "import geopandas as gpd\n",
    "import rasterio\n",
    "import rioxarray\n",
    "import re\n",
    "import rtree\n",
    "import shapely\n",
    "import pickle\n",
    "import pyproj\n",
    "\n",
    "from shapely.geometry import Polygon, Point\n",
    "from shapely.ops import transform\n",
    "#from cartopy import crs\n",
    "import collections\n",
    "import cv2\n",
    "import math\n",
    "from glob import glob\n",
    "from tqdm.notebook import tqdm_notebook\n",
    "import tqdm\n",
    "# Standard packages\n",
    "import tempfile\n",
    "import warnings\n",
    "import urllib\n",
    "import shutil\n",
    "\n",
    "# Less standard, but still pip- or conda-installable\n",
    "import pandas as pd\n",
    "import numpy as np\n",
    "import matplotlib\n",
    "import matplotlib.pyplot as plt\n",
    "from matplotlib.patches import Rectangle\n",
    "\n",
    "from lxml.etree import Element,SubElement,tostring\n",
    "import xml.dom.minidom\n",
    "from xml.dom.minidom import parseString\n",
    "import xml.etree.ElementTree as et\n",
    "from xml.dom import minidom\n",
    "\n",
    "#import requests\n",
    "from PIL import Image\n",
    "from io import BytesIO\n",
    "import tqdm\n",
    "from skimage.metrics import structural_similarity as compare_ssim\n",
    "import imutils\n",
    "\n",
    "import psutil\n",
    "\n",
    "import data_eng.az_proc as ap\n",
    "import data_eng.form_calcs as fc\n",
    "\n",
    "\n",
    "#Parsing/Modifying XML\n",
    "from lxml.etree import Element,SubElement,tostring\n",
    "import xml.dom.minidom\n",
    "from xml.dom.minidom import parseString\n",
    "import xml.etree.ElementTree as et\n",
    "from xml.dom import minidom"
   ]
  },
  {
   "cell_type": "markdown",
   "id": "93416ef4-0fb2-4a24-9205-a23103b489e9",
   "metadata": {
    "tags": []
   },
   "source": [
    "## File Paths"
   ]
  },
  {
   "cell_type": "code",
   "execution_count": 3,
   "id": "96f05c4d-b275-4c4b-8a5f-6f01b37a583f",
   "metadata": {},
   "outputs": [],
   "source": [
    "parent_directory = \"//oit-nas-fe13dc.oit.duke.edu//data_commons-borsuk//\"\n",
    "\n",
    "#create folder to hold tiles in completed dataset\n",
    "#load tiles and tile xmls\n",
    "tiles_dir = os.path.join(parent_directory,\"complete_dataset\",\"tiles\")\n",
    "os.makedirs(tiles_dir, exist_ok=True)\n",
    "\n",
    "tiles_xml_dir = os.path.join(parent_directory,\"complete_dataset\",\"tiles_xml\")\n",
    "os.makedirs(tiles_xml_dir, exist_ok=True)\n",
    "tiles_xml_list = os.listdir(tiles_xml_dir)\n",
    "\n",
    "#NAIP quad map\n",
    "quad_indicies_path = \"C:/Users/rapiduser/Box/EPA STAR 2019 (Community Resistance to Environmental Disasters)/Data/AST Datasets/MapIndices_National_GDB/MapIndices_National_GDB.gdb\"\n",
    "#fiona.listlayers(quad_indicies_path)\n",
    "rechipped_image_path = os.path.join(parent_directory,\"temp/rechip\")\n",
    "\n",
    "folders_of_images_xmls_by_tile = os.listdir(rechipped_image_path)\n",
    "images_and_xmls_by_tile_path = rechipped_image_path\n",
    "\n",
    "tile_name_tile_url_complete_array_path = \"image_download_azure/tile_name_tile_url_complete_array.csv\"\n",
    "tile_name_tile_url_complete_array = pd.read_csv(tile_name_tile_url_complete_array_path)\n",
    "tile_name_tile_url_complete_array = tile_name_tile_url_complete_array.to_numpy()\n",
    "tile_name_tile_url_complete_array = tile_name_tile_url_complete_array[:,(1,2)] #remove index"
   ]
  },
  {
   "cell_type": "markdown",
   "id": "7187dbfb-e487-4726-b7db-64aef7c30ec6",
   "metadata": {},
   "source": [
    "# Add chips to rechip folder"
   ]
  },
  {
   "cell_type": "code",
   "execution_count": 3,
   "id": "11f65a90-5a87-450a-bbd3-ec2a63fc7e93",
   "metadata": {},
   "outputs": [],
   "source": [
    "#for tile_name in tqdm.tqdm(folders_of_images_xmls_by_tile):\n",
    "#    add_chips_to_chip_folders(rechipped_image_path, tile_name)"
   ]
  },
  {
   "cell_type": "markdown",
   "id": "83fcd26d-0e1c-41ec-b3c9-cb49788b47c6",
   "metadata": {},
   "source": [
    "# Correct object labels"
   ]
  },
  {
   "cell_type": "markdown",
   "id": "6cc42aef-0688-480c-a447-67e9a8e0a3d5",
   "metadata": {},
   "source": [
    "## Fix inconsistent labels "
   ]
  },
  {
   "cell_type": "markdown",
   "id": "ac91212a-cd6a-4c75-b965-78c7b74c572a",
   "metadata": {},
   "source": [
    "for tile_name in tqdm.tqdm(folders_of_images_xmls_by_tile):\n",
    "    #specify image/xml paths for each tile\n",
    "    positive_xml_dir = os.path.join(images_and_xmls_by_tile_path, tile_name, \"chips_positive_xml\")\n",
    "    fc.correct_inconsistent_labels_xml(positive_xml_dir)"
   ]
  },
  {
   "cell_type": "markdown",
   "id": "da2b257b-06c5-4555-a302-e7bb1446e514",
   "metadata": {},
   "source": [
    "## Reclassify narrow closed roof tanks and closed roof tanks by size"
   ]
  },
  {
   "cell_type": "markdown",
   "id": "18de27cd-3d5f-49d7-8ef9-380009527559",
   "metadata": {},
   "source": [
    "for tile in tqdm.tqdm(os.listdir(rechipped_image_path)): #iterate over tile folders\n",
    "    tile_annotation_path = os.path.join(rechipped_image_path, tile, \"chips_positive_xml\")\n",
    "    for xml in os.listdir(tile_annotation_path):\n",
    "        xml_path = os.path.join(tile_annotation_path, xml)\n",
    "        fc.reclassify_narrow_closed_roof_and_closed_roof_tanks(xml_path)"
   ]
  },
  {
   "cell_type": "markdown",
   "id": "1d91e316-f689-4e11-868e-e6da7a29dc85",
   "metadata": {},
   "source": [
    "# Generate table of characteristics for tiles/images"
   ]
  },
  {
   "cell_type": "code",
   "execution_count": 5,
   "id": "f4d3f111-dfc0-4ee4-b23c-a5cfe881f8b6",
   "metadata": {},
   "outputs": [],
   "source": [
    "#tile_characteristics, image_characteristics = fc.image_tile_characteristics(rechipped_image_path, tiles_dir, tile_name_tile_url)"
   ]
  },
  {
   "cell_type": "code",
   "execution_count": 4,
   "id": "04e6361a-322f-4502-9c9e-a859abed8c0b",
   "metadata": {},
   "outputs": [],
   "source": [
    "image_characteristics = pd.read_csv(\"image_characteristics.csv\")\n",
    "tile_characteristics = pd.read_csv(\"tile_characteristics.csv\")"
   ]
  },
  {
   "cell_type": "markdown",
   "id": "b37120bb-6d4e-4e7f-8ee4-49428b171dee",
   "metadata": {},
   "source": [
    "# Generate tile XMLs"
   ]
  },
  {
   "cell_type": "code",
   "execution_count": 4,
   "id": "919d4fb6-6513-4e3d-a7fd-6d70b3f8c706",
   "metadata": {},
   "outputs": [],
   "source": [
    "#fc.generate_tile_xmls(rechipped_image_path, tiles_dir, tiles_xml_dir, int(512))"
   ]
  },
  {
   "cell_type": "markdown",
   "id": "8214fa8d-63b1-495a-bc89-3786411bca06",
   "metadata": {},
   "source": [
    "## Combine neighboring bounding boxes"
   ]
  },
  {
   "cell_type": "markdown",
   "id": "1cb7ed31-b227-4076-b244-2abf68a34cc7",
   "metadata": {},
   "source": [
    "https://answers.opencv.org/question/231263/merging-nearby-rectanglesedited/\n",
    "https://stackoverflow.com/questions/55593506/merge-the-bounding-boxes-near-by-into-one"
   ]
  },
  {
   "cell_type": "code",
   "execution_count": 4,
   "id": "a048e1d9-5768-4aae-881f-d5ffdc553705",
   "metadata": {},
   "outputs": [
    {
     "name": "stderr",
     "output_type": "stream",
     "text": [
      "100%|██████████| 2120/2120 [59:53<00:00,  1.69s/it]  \n"
     ]
    }
   ],
   "source": [
    "distance_limit = 5\n",
    "tile_database = fc.merge_tile_annotations(tile_characteristics, tiles_xml_dir, distance_limit = 5)\n",
    "#merged_tile_database =  tile_database[tile_database[\"merged_bbox\"] == True]"
   ]
  },
  {
   "cell_type": "markdown",
   "id": "9f3c1504-59ee-4c80-9cc6-e10f3c19939c",
   "metadata": {},
   "source": [
    "# Clip storm surge data and append to tile level annotation database"
   ]
  },
  {
   "cell_type": "code",
   "execution_count": 5,
   "id": "1d15c352-f499-4811-8532-9b13040ac353",
   "metadata": {},
   "outputs": [],
   "source": [
    "sc_slosh_inundation_map_path = \"C:/Users/rapiduser/Box/EPA STAR 2019 (Community Resistance to Environmental Disasters)/Data/Natural Hazards Data/NHC Potential Storm Surge Flood Map/SC_SLOSH_MOM_Inundation\"\n",
    "tile_database = fc.identify_inundation_for_tanks(tile_database, sc_slosh_inundation_map_path)"
   ]
  },
  {
   "cell_type": "markdown",
   "id": "737fa88a-b289-440e-82e2-50df781ec476",
   "metadata": {},
   "source": [
    "# Add in state"
   ]
  },
  {
   "cell_type": "code",
   "execution_count": 6,
   "id": "6df8d84e-3d1d-4bc1-8a70-a93d9a53f957",
   "metadata": {},
   "outputs": [
    {
     "name": "stderr",
     "output_type": "stream",
     "text": [
      "98169it [03:07, 522.35it/s] \n"
     ]
    }
   ],
   "source": [
    "states_gpds_path = \"C:/Users/rapiduser/Box/EPA STAR 2019 (Community Resistance to Environmental Disasters)/Data/US Political Boundaries/US State Boundaries/cb_2018_us_state_500k/cb_2018_us_state_500k.shp\"\n",
    "tile_database = fc.identify_state_name_for_each_state(states_gpds_path, tile_database)\n",
    "#check issues in state list\n",
    "#state_list = state_list[state_list!=None]\n",
    "#np.unique(state_list)"
   ]
  },
  {
   "cell_type": "code",
   "execution_count": 36,
   "id": "90e851d8-9a9e-4803-9dab-fb45dba03d4e",
   "metadata": {},
   "outputs": [
    {
     "data": {
      "text/plain": [
       "19.12698113207542"
      ]
     },
     "execution_count": 36,
     "metadata": {},
     "output_type": "execute_result"
    }
   ],
   "source": [
    "#df = gpd.read_file(output_filepath)\n",
    "df[df[\"object_cla\"] == \"water_tower\"][\"diameter (\"].mean()"
   ]
  },
  {
   "cell_type": "code",
   "execution_count": 37,
   "id": "1bf9f478-397b-40b3-9de0-896f7aef5f3a",
   "metadata": {},
   "outputs": [
    {
     "data": {
      "text/html": [
       "<div>\n",
       "<style scoped>\n",
       "    .dataframe tbody tr th:only-of-type {\n",
       "        vertical-align: middle;\n",
       "    }\n",
       "\n",
       "    .dataframe tbody tr th {\n",
       "        vertical-align: top;\n",
       "    }\n",
       "\n",
       "    .dataframe thead th {\n",
       "        text-align: right;\n",
       "    }\n",
       "</style>\n",
       "<table border=\"1\" class=\"dataframe\">\n",
       "  <thead>\n",
       "    <tr style=\"text-align: right;\">\n",
       "      <th></th>\n",
       "      <th>Unnamed: 0</th>\n",
       "      <th>chip_name</th>\n",
       "      <th>image_path</th>\n",
       "      <th>xml_path</th>\n",
       "      <th>tile_name</th>\n",
       "      <th>tile_path</th>\n",
       "      <th>row_indicies</th>\n",
       "      <th>col_indicies</th>\n",
       "      <th>minx_pixel</th>\n",
       "      <th>miny_pixel</th>\n",
       "      <th>maxx_pixel</th>\n",
       "      <th>maxy_pixel</th>\n",
       "      <th>min_lon_chip</th>\n",
       "      <th>min_lat_chip</th>\n",
       "      <th>max_lon_chip</th>\n",
       "      <th>max_lat_chip</th>\n",
       "    </tr>\n",
       "  </thead>\n",
       "  <tbody>\n",
       "    <tr>\n",
       "      <th>0</th>\n",
       "      <td>0</td>\n",
       "      <td>m_3608928_ne_16_060_20180920_05_13</td>\n",
       "      <td>//oit-nas-fe13dc.oit.duke.edu//data_commons-bo...</td>\n",
       "      <td>//oit-nas-fe13dc.oit.duke.edu//data_commons-bo...</td>\n",
       "      <td>m_3608928_ne_16_060_20180920</td>\n",
       "      <td>//oit-nas-fe13dc.oit.duke.edu//data_commons-bo...</td>\n",
       "      <td>5</td>\n",
       "      <td>13</td>\n",
       "      <td>6657</td>\n",
       "      <td>2561</td>\n",
       "      <td>7168</td>\n",
       "      <td>3072</td>\n",
       "      <td>-89.522931</td>\n",
       "      <td>36.614703</td>\n",
       "      <td>-89.519416</td>\n",
       "      <td>36.612015</td>\n",
       "    </tr>\n",
       "    <tr>\n",
       "      <th>1</th>\n",
       "      <td>1</td>\n",
       "      <td>m_3608928_ne_16_060_20180920_08_06</td>\n",
       "      <td>//oit-nas-fe13dc.oit.duke.edu//data_commons-bo...</td>\n",
       "      <td>//oit-nas-fe13dc.oit.duke.edu//data_commons-bo...</td>\n",
       "      <td>m_3608928_ne_16_060_20180920</td>\n",
       "      <td>//oit-nas-fe13dc.oit.duke.edu//data_commons-bo...</td>\n",
       "      <td>8</td>\n",
       "      <td>6</td>\n",
       "      <td>3073</td>\n",
       "      <td>4097</td>\n",
       "      <td>3584</td>\n",
       "      <td>4608</td>\n",
       "      <td>-89.546682</td>\n",
       "      <td>36.605892</td>\n",
       "      <td>-89.543166</td>\n",
       "      <td>36.603204</td>\n",
       "    </tr>\n",
       "    <tr>\n",
       "      <th>2</th>\n",
       "      <td>2</td>\n",
       "      <td>m_3608928_ne_16_060_20180920_08_07</td>\n",
       "      <td>//oit-nas-fe13dc.oit.duke.edu//data_commons-bo...</td>\n",
       "      <td>//oit-nas-fe13dc.oit.duke.edu//data_commons-bo...</td>\n",
       "      <td>m_3608928_ne_16_060_20180920</td>\n",
       "      <td>//oit-nas-fe13dc.oit.duke.edu//data_commons-bo...</td>\n",
       "      <td>8</td>\n",
       "      <td>7</td>\n",
       "      <td>3585</td>\n",
       "      <td>4097</td>\n",
       "      <td>4096</td>\n",
       "      <td>4608</td>\n",
       "      <td>-89.543250</td>\n",
       "      <td>36.605965</td>\n",
       "      <td>-89.539735</td>\n",
       "      <td>36.603277</td>\n",
       "    </tr>\n",
       "    <tr>\n",
       "      <th>3</th>\n",
       "      <td>3</td>\n",
       "      <td>m_3608928_ne_16_060_20180920_08_08</td>\n",
       "      <td>//oit-nas-fe13dc.oit.duke.edu//data_commons-bo...</td>\n",
       "      <td>//oit-nas-fe13dc.oit.duke.edu//data_commons-bo...</td>\n",
       "      <td>m_3608928_ne_16_060_20180920</td>\n",
       "      <td>//oit-nas-fe13dc.oit.duke.edu//data_commons-bo...</td>\n",
       "      <td>8</td>\n",
       "      <td>8</td>\n",
       "      <td>4097</td>\n",
       "      <td>4097</td>\n",
       "      <td>4608</td>\n",
       "      <td>4608</td>\n",
       "      <td>-89.539819</td>\n",
       "      <td>36.606039</td>\n",
       "      <td>-89.536304</td>\n",
       "      <td>36.603350</td>\n",
       "    </tr>\n",
       "    <tr>\n",
       "      <th>4</th>\n",
       "      <td>4</td>\n",
       "      <td>m_3608928_ne_16_060_20180920_08_09</td>\n",
       "      <td>//oit-nas-fe13dc.oit.duke.edu//data_commons-bo...</td>\n",
       "      <td>//oit-nas-fe13dc.oit.duke.edu//data_commons-bo...</td>\n",
       "      <td>m_3608928_ne_16_060_20180920</td>\n",
       "      <td>//oit-nas-fe13dc.oit.duke.edu//data_commons-bo...</td>\n",
       "      <td>8</td>\n",
       "      <td>9</td>\n",
       "      <td>4609</td>\n",
       "      <td>4097</td>\n",
       "      <td>5120</td>\n",
       "      <td>4608</td>\n",
       "      <td>-89.536387</td>\n",
       "      <td>36.606112</td>\n",
       "      <td>-89.532872</td>\n",
       "      <td>36.603423</td>\n",
       "    </tr>\n",
       "    <tr>\n",
       "      <th>...</th>\n",
       "      <td>...</td>\n",
       "      <td>...</td>\n",
       "      <td>...</td>\n",
       "      <td>...</td>\n",
       "      <td>...</td>\n",
       "      <td>...</td>\n",
       "      <td>...</td>\n",
       "      <td>...</td>\n",
       "      <td>...</td>\n",
       "      <td>...</td>\n",
       "      <td>...</td>\n",
       "      <td>...</td>\n",
       "      <td>...</td>\n",
       "      <td>...</td>\n",
       "      <td>...</td>\n",
       "      <td>...</td>\n",
       "    </tr>\n",
       "    <tr>\n",
       "      <th>22810</th>\n",
       "      <td>22810</td>\n",
       "      <td>m_3211723_ne_11_060_20190317_17_10</td>\n",
       "      <td>//oit-nas-fe13dc.oit.duke.edu//data_commons-bo...</td>\n",
       "      <td>//oit-nas-fe13dc.oit.duke.edu//data_commons-bo...</td>\n",
       "      <td>m_3211723_ne_11_060_20190317</td>\n",
       "      <td>//oit-nas-fe13dc.oit.duke.edu//data_commons-bo...</td>\n",
       "      <td>17</td>\n",
       "      <td>10</td>\n",
       "      <td>5121</td>\n",
       "      <td>8705</td>\n",
       "      <td>5632</td>\n",
       "      <td>9216</td>\n",
       "      <td>-117.156410</td>\n",
       "      <td>32.704319</td>\n",
       "      <td>-117.153134</td>\n",
       "      <td>32.701557</td>\n",
       "    </tr>\n",
       "    <tr>\n",
       "      <th>22811</th>\n",
       "      <td>22811</td>\n",
       "      <td>m_3211723_ne_11_060_20190317_19_11</td>\n",
       "      <td>//oit-nas-fe13dc.oit.duke.edu//data_commons-bo...</td>\n",
       "      <td>//oit-nas-fe13dc.oit.duke.edu//data_commons-bo...</td>\n",
       "      <td>m_3211723_ne_11_060_20190317</td>\n",
       "      <td>//oit-nas-fe13dc.oit.duke.edu//data_commons-bo...</td>\n",
       "      <td>19</td>\n",
       "      <td>11</td>\n",
       "      <td>5633</td>\n",
       "      <td>9729</td>\n",
       "      <td>6144</td>\n",
       "      <td>10240</td>\n",
       "      <td>-117.153123</td>\n",
       "      <td>32.698781</td>\n",
       "      <td>-117.149847</td>\n",
       "      <td>32.696019</td>\n",
       "    </tr>\n",
       "    <tr>\n",
       "      <th>22812</th>\n",
       "      <td>22812</td>\n",
       "      <td>m_3211723_ne_11_060_20190317_20_13</td>\n",
       "      <td>//oit-nas-fe13dc.oit.duke.edu//data_commons-bo...</td>\n",
       "      <td>//oit-nas-fe13dc.oit.duke.edu//data_commons-bo...</td>\n",
       "      <td>m_3211723_ne_11_060_20190317</td>\n",
       "      <td>//oit-nas-fe13dc.oit.duke.edu//data_commons-bo...</td>\n",
       "      <td>20</td>\n",
       "      <td>13</td>\n",
       "      <td>6657</td>\n",
       "      <td>10241</td>\n",
       "      <td>7168</td>\n",
       "      <td>10752</td>\n",
       "      <td>-117.146563</td>\n",
       "      <td>32.696017</td>\n",
       "      <td>-117.143288</td>\n",
       "      <td>32.693255</td>\n",
       "    </tr>\n",
       "    <tr>\n",
       "      <th>22813</th>\n",
       "      <td>22813</td>\n",
       "      <td>m_3211723_ne_11_060_20190317_20_14</td>\n",
       "      <td>//oit-nas-fe13dc.oit.duke.edu//data_commons-bo...</td>\n",
       "      <td>//oit-nas-fe13dc.oit.duke.edu//data_commons-bo...</td>\n",
       "      <td>m_3211723_ne_11_060_20190317</td>\n",
       "      <td>//oit-nas-fe13dc.oit.duke.edu//data_commons-bo...</td>\n",
       "      <td>20</td>\n",
       "      <td>14</td>\n",
       "      <td>7169</td>\n",
       "      <td>10241</td>\n",
       "      <td>7680</td>\n",
       "      <td>10752</td>\n",
       "      <td>-117.143286</td>\n",
       "      <td>32.696021</td>\n",
       "      <td>-117.140011</td>\n",
       "      <td>32.693259</td>\n",
       "    </tr>\n",
       "    <tr>\n",
       "      <th>22814</th>\n",
       "      <td>22814</td>\n",
       "      <td>m_3009146_nw_15_060_20190726_21_21</td>\n",
       "      <td>//oit-nas-fe13dc.oit.duke.edu//data_commons-bo...</td>\n",
       "      <td>//oit-nas-fe13dc.oit.duke.edu//data_commons-bo...</td>\n",
       "      <td>m_3009146_nw_15_060_20190726</td>\n",
       "      <td>//oit-nas-fe13dc.oit.duke.edu//data_commons-bo...</td>\n",
       "      <td>21</td>\n",
       "      <td>21</td>\n",
       "      <td>10753</td>\n",
       "      <td>10753</td>\n",
       "      <td>11261</td>\n",
       "      <td>11264</td>\n",
       "      <td>-91.311939</td>\n",
       "      <td>30.319494</td>\n",
       "      <td>-91.308818</td>\n",
       "      <td>30.316688</td>\n",
       "    </tr>\n",
       "  </tbody>\n",
       "</table>\n",
       "<p>22815 rows × 16 columns</p>\n",
       "</div>"
      ],
      "text/plain": [
       "       Unnamed: 0                           chip_name  \\\n",
       "0               0  m_3608928_ne_16_060_20180920_05_13   \n",
       "1               1  m_3608928_ne_16_060_20180920_08_06   \n",
       "2               2  m_3608928_ne_16_060_20180920_08_07   \n",
       "3               3  m_3608928_ne_16_060_20180920_08_08   \n",
       "4               4  m_3608928_ne_16_060_20180920_08_09   \n",
       "...           ...                                 ...   \n",
       "22810       22810  m_3211723_ne_11_060_20190317_17_10   \n",
       "22811       22811  m_3211723_ne_11_060_20190317_19_11   \n",
       "22812       22812  m_3211723_ne_11_060_20190317_20_13   \n",
       "22813       22813  m_3211723_ne_11_060_20190317_20_14   \n",
       "22814       22814  m_3009146_nw_15_060_20190726_21_21   \n",
       "\n",
       "                                              image_path  \\\n",
       "0      //oit-nas-fe13dc.oit.duke.edu//data_commons-bo...   \n",
       "1      //oit-nas-fe13dc.oit.duke.edu//data_commons-bo...   \n",
       "2      //oit-nas-fe13dc.oit.duke.edu//data_commons-bo...   \n",
       "3      //oit-nas-fe13dc.oit.duke.edu//data_commons-bo...   \n",
       "4      //oit-nas-fe13dc.oit.duke.edu//data_commons-bo...   \n",
       "...                                                  ...   \n",
       "22810  //oit-nas-fe13dc.oit.duke.edu//data_commons-bo...   \n",
       "22811  //oit-nas-fe13dc.oit.duke.edu//data_commons-bo...   \n",
       "22812  //oit-nas-fe13dc.oit.duke.edu//data_commons-bo...   \n",
       "22813  //oit-nas-fe13dc.oit.duke.edu//data_commons-bo...   \n",
       "22814  //oit-nas-fe13dc.oit.duke.edu//data_commons-bo...   \n",
       "\n",
       "                                                xml_path  \\\n",
       "0      //oit-nas-fe13dc.oit.duke.edu//data_commons-bo...   \n",
       "1      //oit-nas-fe13dc.oit.duke.edu//data_commons-bo...   \n",
       "2      //oit-nas-fe13dc.oit.duke.edu//data_commons-bo...   \n",
       "3      //oit-nas-fe13dc.oit.duke.edu//data_commons-bo...   \n",
       "4      //oit-nas-fe13dc.oit.duke.edu//data_commons-bo...   \n",
       "...                                                  ...   \n",
       "22810  //oit-nas-fe13dc.oit.duke.edu//data_commons-bo...   \n",
       "22811  //oit-nas-fe13dc.oit.duke.edu//data_commons-bo...   \n",
       "22812  //oit-nas-fe13dc.oit.duke.edu//data_commons-bo...   \n",
       "22813  //oit-nas-fe13dc.oit.duke.edu//data_commons-bo...   \n",
       "22814  //oit-nas-fe13dc.oit.duke.edu//data_commons-bo...   \n",
       "\n",
       "                          tile_name  \\\n",
       "0      m_3608928_ne_16_060_20180920   \n",
       "1      m_3608928_ne_16_060_20180920   \n",
       "2      m_3608928_ne_16_060_20180920   \n",
       "3      m_3608928_ne_16_060_20180920   \n",
       "4      m_3608928_ne_16_060_20180920   \n",
       "...                             ...   \n",
       "22810  m_3211723_ne_11_060_20190317   \n",
       "22811  m_3211723_ne_11_060_20190317   \n",
       "22812  m_3211723_ne_11_060_20190317   \n",
       "22813  m_3211723_ne_11_060_20190317   \n",
       "22814  m_3009146_nw_15_060_20190726   \n",
       "\n",
       "                                               tile_path  row_indicies  \\\n",
       "0      //oit-nas-fe13dc.oit.duke.edu//data_commons-bo...             5   \n",
       "1      //oit-nas-fe13dc.oit.duke.edu//data_commons-bo...             8   \n",
       "2      //oit-nas-fe13dc.oit.duke.edu//data_commons-bo...             8   \n",
       "3      //oit-nas-fe13dc.oit.duke.edu//data_commons-bo...             8   \n",
       "4      //oit-nas-fe13dc.oit.duke.edu//data_commons-bo...             8   \n",
       "...                                                  ...           ...   \n",
       "22810  //oit-nas-fe13dc.oit.duke.edu//data_commons-bo...            17   \n",
       "22811  //oit-nas-fe13dc.oit.duke.edu//data_commons-bo...            19   \n",
       "22812  //oit-nas-fe13dc.oit.duke.edu//data_commons-bo...            20   \n",
       "22813  //oit-nas-fe13dc.oit.duke.edu//data_commons-bo...            20   \n",
       "22814  //oit-nas-fe13dc.oit.duke.edu//data_commons-bo...            21   \n",
       "\n",
       "       col_indicies  minx_pixel  miny_pixel  maxx_pixel  maxy_pixel  \\\n",
       "0                13        6657        2561        7168        3072   \n",
       "1                 6        3073        4097        3584        4608   \n",
       "2                 7        3585        4097        4096        4608   \n",
       "3                 8        4097        4097        4608        4608   \n",
       "4                 9        4609        4097        5120        4608   \n",
       "...             ...         ...         ...         ...         ...   \n",
       "22810            10        5121        8705        5632        9216   \n",
       "22811            11        5633        9729        6144       10240   \n",
       "22812            13        6657       10241        7168       10752   \n",
       "22813            14        7169       10241        7680       10752   \n",
       "22814            21       10753       10753       11261       11264   \n",
       "\n",
       "       min_lon_chip  min_lat_chip  max_lon_chip  max_lat_chip  \n",
       "0        -89.522931     36.614703    -89.519416     36.612015  \n",
       "1        -89.546682     36.605892    -89.543166     36.603204  \n",
       "2        -89.543250     36.605965    -89.539735     36.603277  \n",
       "3        -89.539819     36.606039    -89.536304     36.603350  \n",
       "4        -89.536387     36.606112    -89.532872     36.603423  \n",
       "...             ...           ...           ...           ...  \n",
       "22810   -117.156410     32.704319   -117.153134     32.701557  \n",
       "22811   -117.153123     32.698781   -117.149847     32.696019  \n",
       "22812   -117.146563     32.696017   -117.143288     32.693255  \n",
       "22813   -117.143286     32.696021   -117.140011     32.693259  \n",
       "22814    -91.311939     30.319494    -91.308818     30.316688  \n",
       "\n",
       "[22815 rows x 16 columns]"
      ]
     },
     "execution_count": 37,
     "metadata": {},
     "output_type": "execute_result"
    }
   ],
   "source": [
    "image_characteristics"
   ]
  },
  {
   "cell_type": "code",
   "execution_count": 34,
   "id": "b2165abe-624a-4f62-92c1-9fb8f15fb392",
   "metadata": {},
   "outputs": [
    {
     "data": {
      "text/plain": [
       "array(['closed_roof_tank', 'external_floating_roof_tank',\n",
       "       'narrow_closed_roof_tank', 'sedimentation_tank', 'spherical_tank',\n",
       "       'undefined_object', 'water_tower'], dtype=object)"
      ]
     },
     "execution_count": 34,
     "metadata": {},
     "output_type": "execute_result"
    }
   ],
   "source": [
    "np.unique(df[\"object_cla\"])"
   ]
  },
  {
   "cell_type": "code",
   "execution_count": 38,
   "id": "e38631b1-acfe-4be3-a1e5-11d6c35813ca",
   "metadata": {},
   "outputs": [
    {
     "ename": "NameError",
     "evalue": "name 'tile_level_annotations' is not defined",
     "output_type": "error",
     "traceback": [
      "\u001b[1;31m---------------------------------------------------------------------------\u001b[0m",
      "\u001b[1;31mNameError\u001b[0m                                 Traceback (most recent call last)",
      "\u001b[1;32mC:\\Users\\RAPIDU~1\\AppData\\Local\\Temp/ipykernel_9908/2990610453.py\u001b[0m in \u001b[0;36m<module>\u001b[1;34m\u001b[0m\n\u001b[1;32m----> 1\u001b[1;33m \u001b[0mtile_level_annotations\u001b[0m\u001b[1;33m\u001b[0m\u001b[1;33m\u001b[0m\u001b[0m\n\u001b[0m",
      "\u001b[1;31mNameError\u001b[0m: name 'tile_level_annotations' is not defined"
     ]
    }
   ],
   "source": [
    "tile_level_annotations"
   ]
  },
  {
   "cell_type": "code",
   "execution_count": 16,
   "id": "970d7bbe-83ce-4007-9eeb-83afb6c2dcd3",
   "metadata": {},
   "outputs": [],
   "source": [
    "#https://localcoder.org/merge-the-bounding-boxes-near-by-into-one"
   ]
  },
  {
   "cell_type": "markdown",
   "id": "5a7e7fd5-9f27-42bc-abbf-074ca2ad16f0",
   "metadata": {},
   "source": [
    "# Save tile dabasebase"
   ]
  },
  {
   "cell_type": "code",
   "execution_count": 18,
   "id": "48f9e5b2-d558-4dea-b832-13d4a08870d2",
   "metadata": {},
   "outputs": [],
   "source": [
    "output_filepath = os.path.join(parent_directory,\"complete_dataset\",\"tile_level_annotations\")\n",
    "#output_filename = 'tile_level_annotations'\n",
    "#fc.write_gdf(tile_database, output_filepath, output_filename)"
   ]
  }
 ],
 "metadata": {
  "kernelspec": {
   "display_name": "Chip Allocate",
   "language": "python",
   "name": "chip_allocate"
  },
  "language_info": {
   "codemirror_mode": {
    "name": "ipython",
    "version": 3
   },
   "file_extension": ".py",
   "mimetype": "text/x-python",
   "name": "python",
   "nbconvert_exporter": "python",
   "pygments_lexer": "ipython3",
   "version": "3.9.7"
  }
 },
 "nbformat": 4,
 "nbformat_minor": 5
}
