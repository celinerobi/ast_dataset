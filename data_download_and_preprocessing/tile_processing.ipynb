{
 "cells": [
  {
   "cell_type": "code",
   "execution_count": 18,
   "id": "e4b83600",
   "metadata": {
    "tags": []
   },
   "outputs": [],
   "source": [
    "import os \n",
    "\n",
    "import fiona #must be import before geopandas\n",
    "import geopandas as gpd\n",
    "import rasterio\n",
    "#import rioxarray as xr\n",
    "import rioxarray\n",
    "\n",
    "import re\n",
    "import rtree\n",
    "import shapely\n",
    "import pickle\n",
    "\n",
    "#from cartopy import crs\n",
    "import collections\n",
    "import cv2\n",
    "import math\n",
    "from glob import glob\n",
    "from tqdm.notebook import tqdm_notebook\n",
    "\n",
    "# Standard packages\n",
    "import tempfile\n",
    "import warnings\n",
    "import urllib\n",
    "import shutil\n",
    "\n",
    "# Less standard, but still pip- or conda-installable\n",
    "import pandas as pd\n",
    "import numpy as np\n",
    "import matplotlib\n",
    "import matplotlib.pyplot as plt\n",
    "from matplotlib.patches import Rectangle\n",
    "\n",
    "import data_eng.az_proc as ap\n",
    "import data_eng.form_calcs as fc\n",
    "\n",
    "from lxml.etree import Element,SubElement,tostring\n",
    "import xml.dom.minidom\n",
    "from xml.dom.minidom import parseString\n",
    "import xml.etree.ElementTree as et\n",
    "from xml.dom import minidom\n",
    "\n",
    "#import requests\n",
    "from PIL import Image\n",
    "from io import BytesIO\n",
    "import tqdm\n",
    "from skimage.metrics import structural_similarity as compare_ssim\n",
    "import imutils\n",
    "\n",
    "import psutil"
   ]
  },
  {
   "cell_type": "markdown",
   "id": "93416ef4-0fb2-4a24-9205-a23103b489e9",
   "metadata": {},
   "source": [
    "## File Paths"
   ]
  },
  {
   "cell_type": "code",
   "execution_count": 4,
   "id": "96f05c4d-b275-4c4b-8a5f-6f01b37a583f",
   "metadata": {},
   "outputs": [],
   "source": [
    "parent_directory = \"//oit-nas-fe13dc.oit.duke.edu//data_commons-borsuk//\"\n",
    "\n",
    "tile_names_tile_urls_complete_array = np.load(\"image_download_azure/tile_name_tile_url_complete_array.npy\")\n",
    "\n",
    "tiles_labeled = \"tile_name_tile_url_labeled.npy\"\n",
    "tiles_labeled_from_complete_set = np.load(tiles_labeled)\n",
    "\n",
    "tracker_file_path = 'outputs/tile_img_annotation_annotator.npy'\n",
    "tile_img_annotation = np.load(tracker_file_path)\n",
    "tile_img_annotation_annotator = np.load(\"outputs/tile_img_annotation_annotator.npy\")\n",
    "\n",
    "tiles_errors = 'tile_name_tile_url_error_downloading.npy'\n",
    "tiles_errors = np.load(tiles_errors)\n",
    "\n",
    "#create folder to hold tiles in completed dataset\n",
    "\n",
    "tiles_complete_dataset_path = os.path.join(parent_directory,\"complete_dataset\",\"tiles\")\n",
    "tiles_xml_complete_dataset_path = os.path.join(parent_directory,\"complete_dataset\",\"tiles_xml\")\n",
    "os.makedirs(tiles_complete_dataset_path, exist_ok=True)\n",
    "\n",
    "tile_names_tile_urls_complete_array_unique_standard_tile_names = np.load(\"tile_names_tile_urls_complete_array_unique_standard_tile_names.npy\")\n",
    "image_characteristics = pd.read_csv(\"image_characteristics.csv\")\n",
    "tile_names_tile_urls_complete_array_unique_standard_tile_names = np.load(\"tile_names_tile_urls_complete_array_unique_standard_tile_names.npy\")\n",
    "\n",
    "#NAIP quad map\n",
    "quad_indicies_path = \"C:/Users/rapiduser/Box/EPA STAR 2019 (Community Resistance to Environmental Disasters)/Data/AST Datasets/MapIndices_National_GDB/MapIndices_National_GDB.gdb\"\n",
    "#fiona.listlayers(quad_indicies_path)"
   ]
  },
  {
   "cell_type": "markdown",
   "id": "9beb7c27-ba53-43a6-badf-4b2650a81775",
   "metadata": {},
   "source": [
    "## File Paths"
   ]
  },
  {
   "cell_type": "code",
   "execution_count": null,
   "id": "04b6f37f-bb8f-4eb0-a63c-efcef6a756cb",
   "metadata": {},
   "outputs": [],
   "source": [
    "###CONFIRM CHIP X AND Y INDEXES"
   ]
  },
  {
   "cell_type": "code",
   "execution_count": 7,
   "id": "fab719b4-668f-42d0-80e9-11fb2e443570",
   "metadata": {},
   "outputs": [],
   "source": [
    "tile_name = os.listdir(tiles_complete_dataset_path)[0]"
   ]
  },
  {
   "cell_type": "code",
   "execution_count": 33,
   "id": "b1936001-50ff-4b25-927a-0b9154370bc2",
   "metadata": {},
   "outputs": [
    {
     "data": {
      "text/plain": [
       "CRS.from_epsg(26914)"
      ]
     },
     "execution_count": 33,
     "metadata": {},
     "output_type": "execute_result"
    }
   ],
   "source": [
    "dataset = rasterio.open(os.path.join(tiles_complete_dataset_path, os.listdir(tiles_complete_dataset_path)[0]))\n",
    "dataset.crs\n",
    "\n",
    "\"\"\"\n",
    "#tile_height,  tile_width,  tile_channels = dataset.shape\n",
    "left = dataset.bounds[0]\n",
    "right = dataset.bounds[2]\n",
    "bottom = dataset.bounds[1]\n",
    "top = dataset.bounds[3]\n",
    "x = dataset.shape[0] \n",
    "y = dataset.shape[1] \n",
    "np.linspace(left, right, num=x-1)# endpoint=True, retstep=False, dtype=None, axis=0)\n",
    "\"\"\"\n",
    "\n"
   ]
  },
  {
   "cell_type": "code",
   "execution_count": 51,
   "id": "4f5ac95a-7f09-41d5-aacf-27646381c50f",
   "metadata": {},
   "outputs": [
    {
     "data": {
      "text/plain": [
       "array([[-99.25351586, -99.25350991, -99.25350396, ..., -99.25048646,\n",
       "        -99.25048051, -99.25047456],\n",
       "       [-99.25351586, -99.25350991, -99.25350396, ..., -99.25048646,\n",
       "        -99.25048051, -99.25047456],\n",
       "       [-99.25351586, -99.25350991, -99.25350396, ..., -99.25048646,\n",
       "        -99.25048051, -99.25047456],\n",
       "       ...,\n",
       "       [-99.25351586, -99.25350991, -99.25350396, ..., -99.25048646,\n",
       "        -99.25048051, -99.25047456],\n",
       "       [-99.25351586, -99.25350991, -99.25350396, ..., -99.25048646,\n",
       "        -99.25048051, -99.25047456],\n",
       "       [-99.25351586, -99.25350991, -99.25350396, ..., -99.25048646,\n",
       "        -99.25048051, -99.25047456]])"
      ]
     },
     "execution_count": 51,
     "metadata": {},
     "output_type": "execute_result"
    }
   ],
   "source": [
    "y0 = 0\n",
    "x0 = 0\n",
    "item_dim = 512\n",
    "\n",
    "x[y0*item_dim:y0*item_dim+item_dim, x0*(item_dim):x0*(item_dim)+item_dim]"
   ]
  },
  {
   "cell_type": "code",
   "execution_count": 14,
   "id": "91aad751-93ee-41b2-bfb2-de2fa09d7249",
   "metadata": {},
   "outputs": [
    {
     "ename": "AttributeError",
     "evalue": "'DatasetReader' object has no attribute 'coords'",
     "output_type": "error",
     "traceback": [
      "\u001b[1;31m---------------------------------------------------------------------------\u001b[0m",
      "\u001b[1;31mAttributeError\u001b[0m                            Traceback (most recent call last)",
      "\u001b[1;32mC:\\Users\\RAPIDU~1\\AppData\\Local\\Temp/ipykernel_8840/3938880310.py\u001b[0m in \u001b[0;36m<module>\u001b[1;34m\u001b[0m\n\u001b[1;32m----> 1\u001b[1;33m \u001b[0mtile\u001b[0m\u001b[1;33m.\u001b[0m\u001b[0mcoords\u001b[0m\u001b[1;33m\u001b[0m\u001b[1;33m\u001b[0m\u001b[0m\n\u001b[0m",
      "\u001b[1;31mAttributeError\u001b[0m: 'DatasetReader' object has no attribute 'coords'"
     ]
    }
   ],
   "source": [
    "tile.coords\n",
    "SE coordinates # min \n",
    "x*item_dim, y*item_dim\n",
    "NW coordinates #max\n",
    "clip based on max min\n",
    "#https://automating-gis-processes.github.io/CSC18/lessons/L6/clipping-raster.html"
   ]
  },
  {
   "cell_type": "code",
   "execution_count": null,
   "id": "d14cfb42-ec3a-4512-b9de-cd5488a61d08",
   "metadata": {},
   "outputs": [],
   "source": [
    "#specify folder that holds tiles in completed dataset\n",
    "\n",
    "#unique positive jpgs (file names with the file extension)\n",
    "unique_positive_jpgs = fc.unique_positive_jpgs_from_parent_directory(args.parent_directory)\n",
    "\n",
    "image_characteristics = fc.image_characteristics(complete_dataset_tiles_folder_path, unique_positive_jpgs)\n",
    "\n",
    "image_characteristics.to_csv('image_characteristics.csv')\n",
    "counterin = 0\n",
    "counternot = 0 \n",
    "\n",
    "#Check to see how many images are not yet in the image characteristics folder (not verified)\n",
    "for unique_jpg in unique_positive_jpgs[:,0]:\n",
    "    if image_characteristics['six_digit_chip_name'].isin([unique_jpg]).any():\n",
    "        counterin += 1\n",
    "    if not image_characteristics['six_digit_chip_name'].isin([unique_jpg]).any():\n",
    "        counternot += 1\n",
    "print(\"images included in the image characteristics csv \",counterin, \\\n",
    "      \"images not included in the image characteristics csv \\ left to be verified\", counternot)"
   ]
  },
  {
   "cell_type": "code",
   "execution_count": null,
   "id": "2d1978b3-b5c9-4486-b094-79eddcbfff98",
   "metadata": {},
   "outputs": [],
   "source": [
    "#for unique_standard_tile_names in tile_names_tile_urls_complete_array_unique_standard_tile_names[:,2]:\n",
    "#    if unique\n",
    "tiles_with_no_images = []\n",
    "tiles_with_images = []\n",
    "for standard_tile_name in tqdm_notebook(image_characteristics.standard_tile_name.unique()): #Iterate over all the possible tiles that could be included in the dataset\n",
    "    print(standard_tile_name)\n",
    "    #get the image characteristics for the images corresponding to each tile\n",
    "    images_in_tile = image_characteristics.loc[image_characteristics.standard_tile_name == standard_tile_name] #get the annotated images corresponding to ech time\n",
    "    indicies = images_in_tile.index\n",
    "    \n",
    "    #get the characteristics for each time\n",
    "    da = xr.open_rasterio(os.path.join(tiles_complete_dataset_path, standard_tile_name +\".tif\"))\n",
    "    tile_band, tile_height, tile_width = da.shape[0], da.shape[1], da.shape[2]\n",
    "    #make the xml for each tile\n",
    "    generate_xml(standard_tile_name, tiles_complete_dataset_path, tiles_xml_complete_dataset_path, tile_band, tile_height, tile_width)\n",
    "    #add data from each image xml to the corresponding tile xml\n",
    "    #for i in indicies:\n",
    "    #    xml_path, root = get_xml_path_from_root_jpg(images_in_tile, i)\n",
    "    #if not images_in_tile.empty:"
   ]
  },
  {
   "cell_type": "code",
   "execution_count": null,
   "id": "17b537bd-1c6d-4d9d-85d3-2ccd8153c540",
   "metadata": {},
   "outputs": [],
   "source": [
    "da.crs"
   ]
  }
 ],
 "metadata": {
  "kernelspec": {
   "display_name": "Chip Allocate",
   "language": "python",
   "name": "chip_allocate"
  },
  "language_info": {
   "codemirror_mode": {
    "name": "ipython",
    "version": 3
   },
   "file_extension": ".py",
   "mimetype": "text/x-python",
   "name": "python",
   "nbconvert_exporter": "python",
   "pygments_lexer": "ipython3",
   "version": "3.9.7"
  }
 },
 "nbformat": 4,
 "nbformat_minor": 5
}
