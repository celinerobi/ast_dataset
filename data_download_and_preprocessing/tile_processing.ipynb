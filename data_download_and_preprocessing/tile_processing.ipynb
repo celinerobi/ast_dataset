{
 "cells": [
  {
   "cell_type": "code",
   "execution_count": 1,
   "id": "e4b83600",
   "metadata": {
    "tags": []
   },
   "outputs": [],
   "source": [
    "import os \n",
    "\n",
    "import fiona #must be import before geopandas\n",
    "import geopandas as gpd\n",
    "import rasterio\n",
    "#import rioxarray as xr\n",
    "import rioxarray\n",
    "\n",
    "import re\n",
    "import rtree\n",
    "import shapely\n",
    "import pickle\n",
    "\n",
    "#from cartopy import crs\n",
    "import collections\n",
    "import cv2\n",
    "import math\n",
    "from glob import glob\n",
    "from tqdm.notebook import tqdm_notebook\n",
    "import tqdm\n",
    "# Standard packages\n",
    "import tempfile\n",
    "import warnings\n",
    "import urllib\n",
    "import shutil\n",
    "\n",
    "# Less standard, but still pip- or conda-installable\n",
    "import pandas as pd\n",
    "import numpy as np\n",
    "import matplotlib\n",
    "import matplotlib.pyplot as plt\n",
    "from matplotlib.patches import Rectangle\n",
    "\n",
    "import data_eng.az_proc as ap\n",
    "import data_eng.form_calcs as fc\n",
    "\n",
    "from lxml.etree import Element,SubElement,tostring\n",
    "import xml.dom.minidom\n",
    "from xml.dom.minidom import parseString\n",
    "import xml.etree.ElementTree as et\n",
    "from xml.dom import minidom\n",
    "\n",
    "#import requests\n",
    "from PIL import Image\n",
    "from io import BytesIO\n",
    "import tqdm\n",
    "from skimage.metrics import structural_similarity as compare_ssim\n",
    "import imutils\n",
    "\n",
    "import psutil"
   ]
  },
  {
   "cell_type": "markdown",
   "id": "93416ef4-0fb2-4a24-9205-a23103b489e9",
   "metadata": {},
   "source": [
    "## File Paths"
   ]
  },
  {
   "cell_type": "code",
   "execution_count": 2,
   "id": "96f05c4d-b275-4c4b-8a5f-6f01b37a583f",
   "metadata": {},
   "outputs": [],
   "source": [
    "parent_directory = \"//oit-nas-fe13dc.oit.duke.edu//data_commons-borsuk//\"\n",
    "\n",
    "tile_names_tile_urls_complete_array = np.load(\"image_download_azure/tile_name_tile_url_complete_array.npy\")\n",
    "\n",
    "tiles_labeled = \"tile_name_tile_url_labeled.npy\"\n",
    "tiles_labeled_from_complete_set = np.load(tiles_labeled)\n",
    "\n",
    "tracker_file_path = 'outputs/tile_img_annotation_annotator.npy'\n",
    "tile_img_annotation = np.load(tracker_file_path)\n",
    "tile_img_annotation_annotator = np.load(\"outputs/tile_img_annotation_annotator.npy\")\n",
    "\n",
    "tiles_errors = 'tile_name_tile_url_error_downloading.npy'\n",
    "tiles_errors = np.load(tiles_errors)\n",
    "\n",
    "#create folder to hold tiles in completed dataset\n",
    "\n",
    "tiles_complete_dataset_path = os.path.join(parent_directory,\"complete_dataset\",\"tiles\")\n",
    "tiles_xml_complete_dataset_path = os.path.join(parent_directory,\"complete_dataset\",\"tiles_xml\")\n",
    "os.makedirs(tiles_complete_dataset_path, exist_ok=True)\n",
    "\n",
    "tile_names_tile_urls_complete_array_unique_standard_tile_names = np.load(\"tile_names_tile_urls_complete_array_unique_standard_tile_names.npy\")\n",
    "image_characteristics = pd.read_csv(\"image_characteristics.csv\")\n",
    "tile_names_tile_urls_complete_array_unique_standard_tile_names = np.load(\"tile_names_tile_urls_complete_array_unique_standard_tile_names.npy\")\n",
    "\n",
    "#NAIP quad map\n",
    "quad_indicies_path = \"C:/Users/rapiduser/Box/EPA STAR 2019 (Community Resistance to Environmental Disasters)/Data/AST Datasets/MapIndices_National_GDB/MapIndices_National_GDB.gdb\"\n",
    "#fiona.listlayers(quad_indicies_path)"
   ]
  },
  {
   "cell_type": "markdown",
   "id": "9beb7c27-ba53-43a6-badf-4b2650a81775",
   "metadata": {},
   "source": [
    "## File Paths"
   ]
  },
  {
   "cell_type": "code",
   "execution_count": null,
   "id": "04b6f37f-bb8f-4eb0-a63c-efcef6a756cb",
   "metadata": {},
   "outputs": [],
   "source": [
    "###CONFIRM CHIP X AND Y INDEXES"
   ]
  },
  {
   "cell_type": "code",
   "execution_count": 3,
   "id": "f4d3f111-dfc0-4ee4-b23c-a5cfe881f8b6",
   "metadata": {},
   "outputs": [],
   "source": [
    "def determine_SE_NW_lat_lon(tile_path, tile_name):\n",
    "    ## Get tile locations\n",
    "    da = rioxarray.open_rasterio(os.path.join(tile_path, tile_name)) ## Read the data\n",
    "    # Compute the lon/lat coordinates with rasterio.warp.transform\n",
    "    da = da.rio.reproject(\"EPSG:4326\") #reproject\n",
    "    lons, lats = np.meshgrid(da['x'], da['y'])\n",
    "    return(lons, lats)"
   ]
  },
  {
   "cell_type": "code",
   "execution_count": 4,
   "id": "32b138bb-2dd2-4ed0-8eeb-c1fc2d78486f",
   "metadata": {},
   "outputs": [
    {
     "ename": "NameError",
     "evalue": "name 'tile_name' is not defined",
     "output_type": "error",
     "traceback": [
      "\u001b[1;31m---------------------------------------------------------------------------\u001b[0m",
      "\u001b[1;31mNameError\u001b[0m                                 Traceback (most recent call last)",
      "\u001b[1;32mC:\\Users\\RAPIDU~1\\AppData\\Local\\Temp/ipykernel_15864/1051242449.py\u001b[0m in \u001b[0;36m<module>\u001b[1;34m\u001b[0m\n\u001b[1;32m----> 1\u001b[1;33m \u001b[0mda\u001b[0m \u001b[1;33m=\u001b[0m \u001b[0mrioxarray\u001b[0m\u001b[1;33m.\u001b[0m\u001b[0mopen_rasterio\u001b[0m\u001b[1;33m(\u001b[0m\u001b[0mos\u001b[0m\u001b[1;33m.\u001b[0m\u001b[0mpath\u001b[0m\u001b[1;33m.\u001b[0m\u001b[0mjoin\u001b[0m\u001b[1;33m(\u001b[0m\u001b[0mtiles_complete_dataset_path\u001b[0m\u001b[1;33m,\u001b[0m \u001b[0mtile_name\u001b[0m\u001b[1;33m+\u001b[0m\u001b[1;34m\".tif\"\u001b[0m\u001b[1;33m)\u001b[0m\u001b[1;33m)\u001b[0m\u001b[1;33m.\u001b[0m\u001b[0mrio\u001b[0m\u001b[1;33m.\u001b[0m\u001b[0mreproject\u001b[0m\u001b[1;33m(\u001b[0m\u001b[1;34m\"EPSG:4326\"\u001b[0m\u001b[1;33m)\u001b[0m \u001b[1;31m## Read the data\u001b[0m\u001b[1;33m\u001b[0m\u001b[1;33m\u001b[0m\u001b[0m\n\u001b[0m\u001b[0;32m      2\u001b[0m     \u001b[1;31m# Compute the lon/lat coordinates with rasterio.warp.transform\u001b[0m\u001b[1;33m\u001b[0m\u001b[1;33m\u001b[0m\u001b[0m\n\u001b[0;32m      3\u001b[0m \u001b[0mda\u001b[0m \u001b[1;33m=\u001b[0m \u001b[0mda\u001b[0m\u001b[1;33m.\u001b[0m\u001b[0mrio\u001b[0m\u001b[1;33m.\u001b[0m\u001b[0mreproject\u001b[0m\u001b[1;33m(\u001b[0m\u001b[1;34m\"EPSG:4326\"\u001b[0m\u001b[1;33m)\u001b[0m \u001b[1;31m#reproject\u001b[0m\u001b[1;33m\u001b[0m\u001b[1;33m\u001b[0m\u001b[0m\n\u001b[0;32m      4\u001b[0m \u001b[1;31m#    lons, lats = np.meshgrid(da['x'], da['y'],dtype='uint8')\u001b[0m\u001b[1;33m\u001b[0m\u001b[1;33m\u001b[0m\u001b[0m\n\u001b[0;32m      5\u001b[0m \u001b[1;31m#    return(lons, lats)\u001b[0m\u001b[1;33m\u001b[0m\u001b[1;33m\u001b[0m\u001b[0m\n",
      "\u001b[1;31mNameError\u001b[0m: name 'tile_name' is not defined"
     ]
    }
   ],
   "source": [
    "da = rioxarray.open_rasterio(os.path.join(tiles_complete_dataset_path, tile_name+\".tif\")).rio.reproject(\"EPSG:4326\") ## Read the data\n",
    "    # Compute the lon/lat coordinates with rasterio.warp.transform\n",
    "da = da.rio.reproject(\"EPSG:4326\") #reproject\n",
    "#    lons, lats = np.meshgrid(da['x'], da['y'],dtype='uint8')\n",
    "#    return(lons, lats)"
   ]
  },
  {
   "cell_type": "code",
   "execution_count": 8,
   "id": "90fe5067-b8d6-4dee-8382-108f7d91e55c",
   "metadata": {},
   "outputs": [],
   "source": [
    "def image_characteristics(images_and_xmls_by_tile_path, tiles_dir):#, verified_positive_jpgs):\n",
    "    \"\"\"\n",
    "    Only characterisizes images for which the corresponding tile is downloaded\n",
    "    Args:\n",
    "    images_and_xmls_by_tile_path(str): path to directory containing folders (named by tiles); where each folder contains the images/xmls\n",
    "    tiles_dir(str): path to the directory containing tiles\n",
    "    \n",
    "    Returns:\n",
    "    image_characteristics(pandadataframe):containing image characterisitcs \n",
    "    \"\"\" \n",
    "    state = []\n",
    "    resolution = []\n",
    "    year = []\n",
    "    capture_date  = []\n",
    "    utm_zone  = []\n",
    "    standard_tile_names = []\n",
    "    chip_names = []\n",
    "    NW_coordinates_pixel = []\n",
    "    SE_coordinates_pixel = []\n",
    "    NW_coordinates_lonlat = []\n",
    "    SE_coordinates_lonlat = []\n",
    "    row_indicies = []\n",
    "    col_indicies = []\n",
    "    full_path  = []\n",
    "    root = []\n",
    "    \n",
    "    item_dim = int(512)\n",
    "    folders_of_images_xmls_by_tile = os.listdir(images_and_xmls_by_tile_path)\n",
    "    for tile_name in folders_of_images_xmls_by_tile:\n",
    "        #specify image/xml paths for each tile\n",
    "        positive_image_dir = os.path.join(images_and_xmls_by_tile_path, tile_name, \"chips_positive\")\n",
    "        positive_xml_dir = os.path.join(images_and_xmls_by_tile_path, tile_name, \"chips_positive_xml\")\n",
    "        #load a list of images/xmls for each tile\n",
    "        positive_images = os.listdir(positive_image_dir)\n",
    "        positive_xmls = os.listdir(positive_xml_dir)\n",
    "        \n",
    "        #read in tile\n",
    "        tile = cv2.imread(os.path.join(tiles_dir, tile_name + \".tif\"))\n",
    "        #determine the lat/lon for each tile \n",
    "        lons, lats = determine_SE_NW_lat_lon(tiles_dir, tile_name + \".tif\")\n",
    "\n",
    "        for positive_image in positive_images:\n",
    "            y, x = os.path.splitext(positive_image)[0].split(\"_\")[-2:] #name of tif with the extension removed; y=row;x=col\n",
    "            y = int(y)\n",
    "            x = int(x)\n",
    "            chip = fc.tile_to_chip_array(tile, x, y, item_dim)\n",
    "\n",
    "            #quick confirm the correct chip is selected\n",
    "            gray_labeled_image = cv2.cvtColor(cv2.imread(os.path.join(positive_image_dir, positive_image)), cv2.COLOR_BGR2GRAY) #image that had been labeled\n",
    "            gray_known_image = cv2.cvtColor(chip, cv2.COLOR_BGR2GRAY) #image that has been chipped from tile\n",
    "            (score, diff) = compare_ssim(gray_labeled_image, gray_known_image, full=True)\n",
    "            if score > 0.9: \n",
    "                chip_names.append(positive_image) # The index is a six-digit number like '000023'.\n",
    "                row_indicies.append(y)\n",
    "                col_indicies.append(x)\n",
    "                #get the pixel coordinates\n",
    "                minx = x*item_dim\n",
    "                miny = y*item_dim\n",
    "                maxx = x*item_dim + item_dim - 1\n",
    "                maxy = y*item_dim + item_dim - 1\n",
    "                NW_coordinates_pixel.append([minx, miny]) #NW (max: Top Left) # used for numpy crop\n",
    "                SE_coordinates_pixel.append([maxx, maxy]) #SE (min: Bottom right) \n",
    "                #determine the lat/lon\n",
    "                NW_coordinates_lonlat.append([lons[:, minx], lats[miny]]) #NW (max: Top Left) # used for numpy crop\n",
    "                SE_coordinates_lonlat.append([lons[:, maxx], lats[maxy]]) #SE (min: Bottom right) \n",
    "                #tile characteristics\n",
    "                standard_tile_names.append(tile_name)\n",
    "                #path\n",
    "                #full_path = verified_positive_jpgs[verified_positive_jpgs[:,0] == positive_image][0][1]\n",
    "                #root = full_path.split(\"\\\\\",2)[0]\n",
    "            else:\n",
    "                print(\"image unknown\")\n",
    "\n",
    "    #create pandas dataframe\n",
    "    image_characteristics = pd.DataFrame(data={ \"root\":root,\n",
    "                                                    'standard_tile_name': standard_tile_names,\n",
    "                                                    'chip_name': chip_names,\n",
    "                                                    'NW_pixel_coordinates_pixel': NW_coordinates_pixel,\n",
    "                                                    'SE_pixel_coordinates_pixel': SE_coordinates_pixel,\n",
    "                                                    'NW_pixel_coordinates_lonlat': NW_coordinates_lonlat,\n",
    "                                                    'SE_pixel_coordinates_lonlat': SE_coordinates_lonlat,\n",
    "                                                    'row_indicies': row_indicies,\n",
    "                                                    'col_indicies': col_indicies})\n",
    "    return(image_characteristics)"
   ]
  },
  {
   "cell_type": "code",
   "execution_count": 80,
   "id": "a4bf8e9e-ca8f-42d2-aa0b-fa143e3b14a7",
   "metadata": {},
   "outputs": [
    {
     "data": {
      "text/plain": [
       "'21'"
      ]
     },
     "execution_count": 80,
     "metadata": {},
     "output_type": "execute_result"
    }
   ],
   "source": [
    "\n",
    "        fig, (ax1, ax2) = plt.subplots(1, 2)\n",
    "        ax1.set_title('correct_image')\n",
    "        ax1.imshow(gray_known_image)\n",
    "        ax2.set_title('labeled_chip_array')\n",
    "        ax2.imshow(gray_labeled_image)\n",
    "        plt.show()    "
   ]
  },
  {
   "cell_type": "code",
   "execution_count": 7,
   "id": "0f4d879d-4bb0-49a7-92a9-f44abb565f63",
   "metadata": {},
   "outputs": [
    {
     "ename": "NameError",
     "evalue": "name 'verified_positive_jpgs' is not defined",
     "output_type": "error",
     "traceback": [
      "\u001b[1;31m---------------------------------------------------------------------------\u001b[0m",
      "\u001b[1;31mNameError\u001b[0m                                 Traceback (most recent call last)",
      "\u001b[1;32mC:\\Users\\RAPIDU~1\\AppData\\Local\\Temp/ipykernel_9532/3310260013.py\u001b[0m in \u001b[0;36m<module>\u001b[1;34m\u001b[0m\n\u001b[0;32m      1\u001b[0m \u001b[0mrechipped_image_path\u001b[0m \u001b[1;33m=\u001b[0m \u001b[0mos\u001b[0m\u001b[1;33m.\u001b[0m\u001b[0mpath\u001b[0m\u001b[1;33m.\u001b[0m\u001b[0mjoin\u001b[0m\u001b[1;33m(\u001b[0m\u001b[0mparent_directory\u001b[0m\u001b[1;33m,\u001b[0m\u001b[1;34m\"temp/rechip\"\u001b[0m\u001b[1;33m)\u001b[0m\u001b[1;33m\u001b[0m\u001b[1;33m\u001b[0m\u001b[0m\n\u001b[1;32m----> 2\u001b[1;33m \u001b[0mimage_characteristics\u001b[0m\u001b[1;33m(\u001b[0m\u001b[0mrechipped_image_path\u001b[0m\u001b[1;33m,\u001b[0m \u001b[0mtiles_complete_dataset_path\u001b[0m\u001b[1;33m,\u001b[0m \u001b[0mverified_positive_jpgs\u001b[0m\u001b[1;33m)\u001b[0m\u001b[1;33m\u001b[0m\u001b[1;33m\u001b[0m\u001b[0m\n\u001b[0m",
      "\u001b[1;31mNameError\u001b[0m: name 'verified_positive_jpgs' is not defined"
     ]
    }
   ],
   "source": [
    "rechipped_image_path = os.path.join(parent_directory,\"temp/rechip\")\n",
    "image_characteristics(rechipped_image_path, tiles_complete_dataset_path)#, verified_positive_jpgs)"
   ]
  },
  {
   "cell_type": "code",
   "execution_count": 7,
   "id": "fab719b4-668f-42d0-80e9-11fb2e443570",
   "metadata": {},
   "outputs": [],
   "source": []
  },
  {
   "cell_type": "code",
   "execution_count": 33,
   "id": "b1936001-50ff-4b25-927a-0b9154370bc2",
   "metadata": {},
   "outputs": [
    {
     "data": {
      "text/plain": [
       "CRS.from_epsg(26914)"
      ]
     },
     "execution_count": 33,
     "metadata": {},
     "output_type": "execute_result"
    }
   ],
   "source": [
    "dataset = rasterio.open(os.path.join(tiles_complete_dataset_path, os.listdir(tiles_complete_dataset_path)[0]))\n",
    "dataset.crs\n",
    "\n",
    "\"\"\"\n",
    "#tile_height,  tile_width,  tile_channels = dataset.shape\n",
    "left = dataset.bounds[0]\n",
    "right = dataset.bounds[2]\n",
    "bottom = dataset.bounds[1]\n",
    "top = dataset.bounds[3]\n",
    "x = dataset.shape[0] \n",
    "y = dataset.shape[1] \n",
    "np.linspace(left, right, num=x-1)# endpoint=True, retstep=False, dtype=None, axis=0)\n",
    "\"\"\"\n",
    "\n"
   ]
  },
  {
   "cell_type": "code",
   "execution_count": 51,
   "id": "4f5ac95a-7f09-41d5-aacf-27646381c50f",
   "metadata": {},
   "outputs": [
    {
     "data": {
      "text/plain": [
       "array([[-99.25351586, -99.25350991, -99.25350396, ..., -99.25048646,\n",
       "        -99.25048051, -99.25047456],\n",
       "       [-99.25351586, -99.25350991, -99.25350396, ..., -99.25048646,\n",
       "        -99.25048051, -99.25047456],\n",
       "       [-99.25351586, -99.25350991, -99.25350396, ..., -99.25048646,\n",
       "        -99.25048051, -99.25047456],\n",
       "       ...,\n",
       "       [-99.25351586, -99.25350991, -99.25350396, ..., -99.25048646,\n",
       "        -99.25048051, -99.25047456],\n",
       "       [-99.25351586, -99.25350991, -99.25350396, ..., -99.25048646,\n",
       "        -99.25048051, -99.25047456],\n",
       "       [-99.25351586, -99.25350991, -99.25350396, ..., -99.25048646,\n",
       "        -99.25048051, -99.25047456]])"
      ]
     },
     "execution_count": 51,
     "metadata": {},
     "output_type": "execute_result"
    }
   ],
   "source": [
    "y0 = 0\n",
    "x0 = 0\n",
    "item_dim = 512\n",
    "\n",
    "x[y0*item_dim:y0*item_dim+item_dim, x0*(item_dim):x0*(item_dim)+item_dim]"
   ]
  },
  {
   "cell_type": "code",
   "execution_count": 14,
   "id": "91aad751-93ee-41b2-bfb2-de2fa09d7249",
   "metadata": {},
   "outputs": [
    {
     "ename": "AttributeError",
     "evalue": "'DatasetReader' object has no attribute 'coords'",
     "output_type": "error",
     "traceback": [
      "\u001b[1;31m---------------------------------------------------------------------------\u001b[0m",
      "\u001b[1;31mAttributeError\u001b[0m                            Traceback (most recent call last)",
      "\u001b[1;32mC:\\Users\\RAPIDU~1\\AppData\\Local\\Temp/ipykernel_8840/3938880310.py\u001b[0m in \u001b[0;36m<module>\u001b[1;34m\u001b[0m\n\u001b[1;32m----> 1\u001b[1;33m \u001b[0mtile\u001b[0m\u001b[1;33m.\u001b[0m\u001b[0mcoords\u001b[0m\u001b[1;33m\u001b[0m\u001b[1;33m\u001b[0m\u001b[0m\n\u001b[0m",
      "\u001b[1;31mAttributeError\u001b[0m: 'DatasetReader' object has no attribute 'coords'"
     ]
    }
   ],
   "source": [
    "tile.coords\n",
    "SE coordinates # min \n",
    "x*item_dim, y*item_dim\n",
    "NW coordinates #max\n",
    "clip based on max min\n",
    "#https://automating-gis-processes.github.io/CSC18/lessons/L6/clipping-raster.html"
   ]
  },
  {
   "cell_type": "code",
   "execution_count": null,
   "id": "d14cfb42-ec3a-4512-b9de-cd5488a61d08",
   "metadata": {},
   "outputs": [],
   "source": [
    "#specify folder that holds tiles in completed dataset\n",
    "\n",
    "#unique positive jpgs (file names with the file extension)\n",
    "unique_positive_jpgs = fc.unique_positive_jpgs_from_parent_directory(args.parent_directory)\n",
    "\n",
    "image_characteristics = fc.image_characteristics(complete_dataset_tiles_folder_path, unique_positive_jpgs)\n",
    "\n",
    "image_characteristics.to_csv('image_characteristics.csv')\n",
    "counterin = 0\n",
    "counternot = 0 \n",
    "\n",
    "#Check to see how many images are not yet in the image characteristics folder (not verified)\n",
    "for unique_jpg in unique_positive_jpgs[:,0]:\n",
    "    if image_characteristics['six_digit_chip_name'].isin([unique_jpg]).any():\n",
    "        counterin += 1\n",
    "    if not image_characteristics['six_digit_chip_name'].isin([unique_jpg]).any():\n",
    "        counternot += 1\n",
    "print(\"images included in the image characteristics csv \",counterin, \\\n",
    "      \"images not included in the image characteristics csv \\ left to be verified\", counternot)"
   ]
  },
  {
   "cell_type": "code",
   "execution_count": null,
   "id": "2d1978b3-b5c9-4486-b094-79eddcbfff98",
   "metadata": {},
   "outputs": [],
   "source": [
    "#for unique_standard_tile_names in tile_names_tile_urls_complete_array_unique_standard_tile_names[:,2]:\n",
    "#    if unique\n",
    "tiles_with_no_images = []\n",
    "tiles_with_images = []\n",
    "for standard_tile_name in tqdm_notebook(image_characteristics.standard_tile_name.unique()): #Iterate over all the possible tiles that could be included in the dataset\n",
    "    print(standard_tile_name)\n",
    "    #get the image characteristics for the images corresponding to each tile\n",
    "    images_in_tile = image_characteristics.loc[image_characteristics.standard_tile_name == standard_tile_name] #get the annotated images corresponding to ech time\n",
    "    indicies = images_in_tile.index\n",
    "    \n",
    "    #get the characteristics for each time\n",
    "    da = xr.open_rasterio(os.path.join(tiles_complete_dataset_path, standard_tile_name +\".tif\"))\n",
    "    tile_band, tile_height, tile_width = da.shape[0], da.shape[1], da.shape[2]\n",
    "    #make the xml for each tile\n",
    "    generate_xml(standard_tile_name, tiles_complete_dataset_path, tiles_xml_complete_dataset_path, tile_band, tile_height, tile_width)\n",
    "    #add data from each image xml to the corresponding tile xml\n",
    "    #for i in indicies:\n",
    "    #    xml_path, root = get_xml_path_from_root_jpg(images_in_tile, i)\n",
    "    #if not images_in_tile.empty:"
   ]
  },
  {
   "cell_type": "code",
   "execution_count": null,
   "id": "17b537bd-1c6d-4d9d-85d3-2ccd8153c540",
   "metadata": {},
   "outputs": [],
   "source": [
    "da.crs"
   ]
  }
 ],
 "metadata": {
  "kernelspec": {
   "display_name": "Chip Allocate",
   "language": "python",
   "name": "chip_allocate"
  },
  "language_info": {
   "codemirror_mode": {
    "name": "ipython",
    "version": 3
   },
   "file_extension": ".py",
   "mimetype": "text/x-python",
   "name": "python",
   "nbconvert_exporter": "python",
   "pygments_lexer": "ipython3",
   "version": "3.9.7"
  }
 },
 "nbformat": 4,
 "nbformat_minor": 5
}
