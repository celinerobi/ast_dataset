{
 "cells": [
  {
   "cell_type": "code",
   "execution_count": 1,
   "id": "e4b83600",
   "metadata": {
    "tags": []
   },
   "outputs": [],
   "source": [
    "import os \n",
    "\n",
    "import fiona #must be import before geopandas\n",
    "import geopandas as gpd\n",
    "import rasterio\n",
    "import rioxarray\n",
    "import re\n",
    "import rtree\n",
    "import shapely\n",
    "import pickle\n",
    "import pyproj\n",
    "\n",
    "from shapely.geometry import Polygon, Point\n",
    "from shapely.ops import transform\n",
    "#from cartopy import crs\n",
    "import collections\n",
    "import cv2\n",
    "import math\n",
    "from glob import glob\n",
    "from tqdm.notebook import tqdm_notebook\n",
    "import tqdm\n",
    "# Standard packages\n",
    "import tempfile\n",
    "import warnings\n",
    "import urllib\n",
    "import shutil\n",
    "\n",
    "# Less standard, but still pip- or conda-installable\n",
    "import pandas as pd\n",
    "import numpy as np\n",
    "import matplotlib\n",
    "import matplotlib.pyplot as plt\n",
    "from matplotlib.patches import Rectangle\n",
    "\n",
    "from lxml.etree import Element,SubElement,tostring\n",
    "import xml.dom.minidom\n",
    "from xml.dom.minidom import parseString\n",
    "import xml.etree.ElementTree as et\n",
    "from xml.dom import minidom\n",
    "\n",
    "#import requests\n",
    "from PIL import Image\n",
    "from io import BytesIO\n",
    "import tqdm\n",
    "from skimage.metrics import structural_similarity as compare_ssim\n",
    "import imutils\n",
    "\n",
    "import psutil\n",
    "\n",
    "import data_eng.az_proc as ap\n",
    "import data_eng.form_calcs as fc\n",
    "\n",
    "\n",
    "#Parsing/Modifying XML\n",
    "from lxml.etree import Element,SubElement,tostring\n",
    "import xml.dom.minidom\n",
    "from xml.dom.minidom import parseString\n",
    "import xml.etree.ElementTree as et\n",
    "from xml.dom import minidom"
   ]
  },
  {
   "cell_type": "markdown",
   "id": "93416ef4-0fb2-4a24-9205-a23103b489e9",
   "metadata": {
    "tags": []
   },
   "source": [
    "## File Paths"
   ]
  },
  {
   "cell_type": "code",
   "execution_count": 10,
   "id": "96f05c4d-b275-4c4b-8a5f-6f01b37a583f",
   "metadata": {},
   "outputs": [],
   "source": [
    "parent_directory = \"//oit-nas-fe13dc.oit.duke.edu//data_commons-borsuk//\"\n",
    "\n",
    "#create folder to hold tiles in completed dataset\n",
    "#load tiles and tile xmls\n",
    "tiles_dir = os.path.join(parent_directory,\"complete_dataset\",\"tiles\")\n",
    "os.makedirs(tiles_dir, exist_ok=True)\n",
    "\n",
    "tiles_xml_dir = os.path.join(parent_directory,\"complete_dataset\",\"tiles_xml\")\n",
    "os.makedirs(tiles_xml_dir, exist_ok=True)\n",
    "tiles_xml_list = os.listdir(tiles_xml_dir)\n",
    "\n",
    "#NAIP quad map\n",
    "quad_indicies_path = \"C:/Users/rapiduser/Box/EPA STAR 2019 (Community Resistance to Environmental Disasters)/Data/AST Datasets/MapIndices_National_GDB/MapIndices_National_GDB.gdb\"\n",
    "#fiona.listlayers(quad_indicies_path)\n",
    "rechipped_image_path = os.path.join(parent_directory,\"temp/rechip\")\n",
    "\n",
    "folders_of_images_xmls_by_tile = os.listdir(rechipped_image_path)\n",
    "images_and_xmls_by_tile_path = rechipped_image_path\n",
    "\n",
    "tile_name_tile_url_complete_array_path = \"image_download_azure/tile_name_tile_url_complete_array.csv\"\n",
    "tile_name_tile_url_complete_array = pd.read_csv(tile_name_tile_url_complete_array_path)\n",
    "tile_name_tile_url_complete_array = tile_name_tile_url_complete_array.to_numpy()\n",
    "tile_name_tile_url_complete_array = tile_name_tile_url_complete_array[:,(1,2)] #remove index"
   ]
  },
  {
   "cell_type": "markdown",
   "id": "7187dbfb-e487-4726-b7db-64aef7c30ec6",
   "metadata": {
    "jp-MarkdownHeadingCollapsed": true,
    "tags": []
   },
   "source": [
    "# Add chips to rechip folder\n",
    "Add all chips corresponding to a tile to the 'chips' folder for each tile"
   ]
  },
  {
   "cell_type": "code",
   "execution_count": 3,
   "id": "11f65a90-5a87-450a-bbd3-ec2a63fc7e93",
   "metadata": {},
   "outputs": [],
   "source": [
    "#for tile_name in tqdm.tqdm(folders_of_images_xmls_by_tile):\n",
    "#    add_chips_to_chip_folders(rechipped_image_path, tile_name)"
   ]
  },
  {
   "cell_type": "markdown",
   "id": "83fcd26d-0e1c-41ec-b3c9-cb49788b47c6",
   "metadata": {
    "jp-MarkdownHeadingCollapsed": true,
    "tags": []
   },
   "source": [
    "# Correct object labels"
   ]
  },
  {
   "cell_type": "markdown",
   "id": "6cc42aef-0688-480c-a447-67e9a8e0a3d5",
   "metadata": {
    "jp-MarkdownHeadingCollapsed": true,
    "tags": []
   },
   "source": [
    "## Fix inconsistent labels "
   ]
  },
  {
   "cell_type": "code",
   "execution_count": null,
   "id": "039c7125-6de0-4691-b861-58bf280af605",
   "metadata": {},
   "outputs": [],
   "source": [
    "for tile_name in tqdm.tqdm(folders_of_images_xmls_by_tile):\n",
    "    #specify image/xml paths for each tile\n",
    "    positive_xml_dir = os.path.join(images_and_xmls_by_tile_path, tile_name, \"chips_positive_xml\")\n",
    "    fc.correct_inconsistent_labels_xml(positive_xml_dir)"
   ]
  },
  {
   "cell_type": "markdown",
   "id": "da2b257b-06c5-4555-a302-e7bb1446e514",
   "metadata": {},
   "source": [
    "## Reclassify narrow closed roof tanks and closed roof tanks by size"
   ]
  },
  {
   "cell_type": "code",
   "execution_count": null,
   "id": "19b88576-6f05-4334-989c-9f0eeb2af6de",
   "metadata": {},
   "outputs": [],
   "source": [
    "for tile in tqdm.tqdm(folders_of_images_xmls_by_tile): #iterate over tile folders\n",
    "    tile_annotation_path = os.path.join(images_and_xmls_by_tile_path, tile, \"chips_positive_xml\")\n",
    "    for xml in os.listdir(tile_annotation_path):\n",
    "        xml_path = os.path.join(tile_annotation_path, xml)\n",
    "        fc.reclassify_narrow_closed_roof_and_closed_roof_tanks(xml_path)"
   ]
  },
  {
   "cell_type": "markdown",
   "id": "1d91e316-f689-4e11-868e-e6da7a29dc85",
   "metadata": {
    "tags": []
   },
   "source": [
    "# Generate table of characteristics for tiles/images"
   ]
  },
  {
   "cell_type": "code",
   "execution_count": 5,
   "id": "f4d3f111-dfc0-4ee4-b23c-a5cfe881f8b6",
   "metadata": {},
   "outputs": [
    {
     "name": "stderr",
     "output_type": "stream",
     "text": [
      "100%|██████████████████████████████████████████████████████████████████████████████| 2139/2139 [25:57<00:00,  1.37it/s]\n"
     ]
    }
   ],
   "source": [
    "tile_characteristics, image_characteristics = fc.image_tile_characteristics(rechipped_image_path, tiles_dir)#, tile_name_tile_url_complete_array)"
   ]
  },
  {
   "cell_type": "code",
   "execution_count": null,
   "id": "dbcbeb98-8d9f-4de9-b05c-81b97d1c8573",
   "metadata": {},
   "outputs": [],
   "source": [
    "tile_dimensions_and_utm_coords()"
   ]
  },
  {
   "cell_type": "code",
   "execution_count": 39,
   "id": "04e6361a-322f-4502-9c9e-a859abed8c0b",
   "metadata": {},
   "outputs": [],
   "source": [
    "image_characteristics = pd.read_csv(\"image_characteristics.csv\")\n",
    "tile_characteristics = pd.read_csv(\"tile_characteristics.csv\")"
   ]
  },
  {
   "cell_type": "markdown",
   "id": "b37120bb-6d4e-4e7f-8ee4-49428b171dee",
   "metadata": {
    "tags": []
   },
   "source": [
    "# Create tile level annotations"
   ]
  },
  {
   "cell_type": "markdown",
   "id": "897af759-cca7-4b42-ab38-f1bfeda3723d",
   "metadata": {
    "jp-MarkdownHeadingCollapsed": true,
    "tags": []
   },
   "source": [
    "## Generate tile level XMLs"
   ]
  },
  {
   "cell_type": "code",
   "execution_count": 4,
   "id": "919d4fb6-6513-4e3d-a7fd-6d70b3f8c706",
   "metadata": {},
   "outputs": [],
   "source": [
    "#fc.generate_tile_xmls(rechipped_image_path, tiles_dir, tiles_xml_dir, int(512))"
   ]
  },
  {
   "cell_type": "markdown",
   "id": "8214fa8d-63b1-495a-bc89-3786411bca06",
   "metadata": {
    "tags": []
   },
   "source": [
    "## Merge neighboring bounding boxes within each tile\n",
    "References:\n",
    "https://answers.opencv.org/question/231263/merging-nearby-rectanglesedited/\n",
    "https://stackoverflow.com/questions/55593506/merge-the-bounding-boxes-near-by-into-one"
   ]
  },
  {
   "cell_type": "code",
   "execution_count": 51,
   "id": "a048e1d9-5768-4aae-881f-d5ffdc553705",
   "metadata": {},
   "outputs": [
    {
     "name": "stderr",
     "output_type": "stream",
     "text": [
      "100%|██████████████████████████████████████████████████████████████████████████████| 2120/2120 [58:26<00:00,  1.65s/it]\n"
     ]
    }
   ],
   "source": [
    "distance_limit = 5\n",
    "tile_database = fc.merge_tile_annotations(tile_characteristics, tiles_xml_dir, distance_limit = 5)\n",
    "#merged_tile_database =  tile_database[tile_database[\"merged_bbox\"] == True]"
   ]
  },
  {
   "cell_type": "markdown",
   "id": "a85c5d4b-757c-4c38-a830-033bbeae41f3",
   "metadata": {},
   "source": [
    "# Clip storm surge data and append to tile level annotation database"
   ]
  },
  {
   "cell_type": "markdown",
   "id": "2887b635-407e-4415-8763-996df670d8bd",
   "metadata": {},
   "source": [
    "#sc_slosh_inundation_map_path = \"C:/Users/rapiduser/Box/EPA STAR 2019 (Community Resistance to Environmental Disasters)/Data/Natural Hazards Data/NHC Potential Storm Surge Flood Map/SC_SLOSH_MOM_Inundation\"\n",
    "#tile_database = fc.identify_inundation_for_tanks(tile_database, sc_slosh_inundation_map_path)"
   ]
  },
  {
   "cell_type": "markdown",
   "id": "737fa88a-b289-440e-82e2-50df781ec476",
   "metadata": {},
   "source": [
    "# Add in state"
   ]
  },
  {
   "cell_type": "code",
   "execution_count": null,
   "id": "6df8d84e-3d1d-4bc1-8a70-a93d9a53f957",
   "metadata": {},
   "outputs": [],
   "source": [
    "states_gpds_path = \"C:/Users/rapiduser/Box/EPA STAR 2019 (Community Resistance to Environmental Disasters)/Data/US Political Boundaries/US State Boundaries/cb_2018_us_state_500k/cb_2018_us_state_500k.shp\"\n",
    "tile_database = fc.identify_state_name_for_each_state(states_gpds_path, tile_database)\n",
    "#check issues in state list\n",
    "#state_list = state_list[state_list!=None]\n",
    "#np.unique(state_list)"
   ]
  },
  {
   "cell_type": "code",
   "execution_count": 34,
   "id": "b2165abe-624a-4f62-92c1-9fb8f15fb392",
   "metadata": {},
   "outputs": [
    {
     "data": {
      "text/plain": [
       "array(['closed_roof_tank', 'external_floating_roof_tank',\n",
       "       'narrow_closed_roof_tank', 'sedimentation_tank', 'spherical_tank',\n",
       "       'undefined_object', 'water_tower'], dtype=object)"
      ]
     },
     "execution_count": 34,
     "metadata": {},
     "output_type": "execute_result"
    }
   ],
   "source": [
    "np.unique(df[\"object_cla\"])"
   ]
  },
  {
   "cell_type": "code",
   "execution_count": 38,
   "id": "e38631b1-acfe-4be3-a1e5-11d6c35813ca",
   "metadata": {},
   "outputs": [
    {
     "ename": "NameError",
     "evalue": "name 'tile_level_annotations' is not defined",
     "output_type": "error",
     "traceback": [
      "\u001b[1;31m---------------------------------------------------------------------------\u001b[0m",
      "\u001b[1;31mNameError\u001b[0m                                 Traceback (most recent call last)",
      "\u001b[1;32mC:\\Users\\RAPIDU~1\\AppData\\Local\\Temp/ipykernel_9908/2990610453.py\u001b[0m in \u001b[0;36m<module>\u001b[1;34m\u001b[0m\n\u001b[1;32m----> 1\u001b[1;33m \u001b[0mtile_level_annotations\u001b[0m\u001b[1;33m\u001b[0m\u001b[1;33m\u001b[0m\u001b[0m\n\u001b[0m",
      "\u001b[1;31mNameError\u001b[0m: name 'tile_level_annotations' is not defined"
     ]
    }
   ],
   "source": [
    "tile_level_annotations"
   ]
  },
  {
   "cell_type": "code",
   "execution_count": 16,
   "id": "970d7bbe-83ce-4007-9eeb-83afb6c2dcd3",
   "metadata": {},
   "outputs": [],
   "source": [
    "#https://localcoder.org/merge-the-bounding-boxes-near-by-into-one"
   ]
  },
  {
   "cell_type": "markdown",
   "id": "5a7e7fd5-9f27-42bc-abbf-074ca2ad16f0",
   "metadata": {},
   "source": [
    "# Save tile dabasebase"
   ]
  },
  {
   "cell_type": "code",
   "execution_count": 18,
   "id": "48f9e5b2-d558-4dea-b832-13d4a08870d2",
   "metadata": {},
   "outputs": [],
   "source": [
    "output_filepath = os.path.join(parent_directory,\"complete_dataset\",\"tile_level_annotations\")\n",
    "output_filename = 'tile_level_annotations'\n",
    "fc.write_gdf(tile_database, output_filepath, output_filename)"
   ]
  }
 ],
 "metadata": {
  "kernelspec": {
   "display_name": "Chip Allocate",
   "language": "python",
   "name": "chip_allocate"
  },
  "language_info": {
   "codemirror_mode": {
    "name": "ipython",
    "version": 3
   },
   "file_extension": ".py",
   "mimetype": "text/x-python",
   "name": "python",
   "nbconvert_exporter": "python",
   "pygments_lexer": "ipython3",
   "version": "3.9.7"
  }
 },
 "nbformat": 4,
 "nbformat_minor": 5
}
