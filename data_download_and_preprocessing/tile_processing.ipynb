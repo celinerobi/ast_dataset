{
 "cells": [
  {
   "cell_type": "code",
   "execution_count": 1,
   "id": "e4b83600",
   "metadata": {
    "tags": []
   },
   "outputs": [],
   "source": [
    "import os \n",
    "\n",
    "import fiona #must be import before geopandas\n",
    "import geopandas as gpd\n",
    "import rasterio\n",
    "import rioxarray\n",
    "import re\n",
    "import rtree\n",
    "import shapely\n",
    "import pickle\n",
    "\n",
    "#from cartopy import crs\n",
    "import collections\n",
    "import cv2\n",
    "import math\n",
    "from glob import glob\n",
    "from tqdm.notebook import tqdm_notebook\n",
    "import tqdm\n",
    "# Standard packages\n",
    "import tempfile\n",
    "import warnings\n",
    "import urllib\n",
    "import shutil\n",
    "\n",
    "# Less standard, but still pip- or conda-installable\n",
    "import pandas as pd\n",
    "import numpy as np\n",
    "import matplotlib\n",
    "import matplotlib.pyplot as plt\n",
    "from matplotlib.patches import Rectangle\n",
    "\n",
    "from lxml.etree import Element,SubElement,tostring\n",
    "import xml.dom.minidom\n",
    "from xml.dom.minidom import parseString\n",
    "import xml.etree.ElementTree as et\n",
    "from xml.dom import minidom\n",
    "\n",
    "#import requests\n",
    "from PIL import Image\n",
    "from io import BytesIO\n",
    "import tqdm\n",
    "from skimage.metrics import structural_similarity as compare_ssim\n",
    "import imutils\n",
    "\n",
    "import psutil\n",
    "\n",
    "import data_eng.az_proc as ap\n",
    "import data_eng.form_calcs as fc\n",
    "\n",
    "\n",
    "#Parsing/Modifying XML\n",
    "from lxml.etree import Element,SubElement,tostring\n",
    "import xml.dom.minidom\n",
    "from xml.dom.minidom import parseString\n",
    "import xml.etree.ElementTree as et\n",
    "from xml.dom import minidom"
   ]
  },
  {
   "cell_type": "markdown",
   "id": "93416ef4-0fb2-4a24-9205-a23103b489e9",
   "metadata": {
    "tags": []
   },
   "source": [
    "## File Paths"
   ]
  },
  {
   "cell_type": "code",
   "execution_count": 2,
   "id": "96f05c4d-b275-4c4b-8a5f-6f01b37a583f",
   "metadata": {},
   "outputs": [],
   "source": [
    "parent_directory = \"//oit-nas-fe13dc.oit.duke.edu//data_commons-borsuk//\"\n",
    "\n",
    "tile_names_tile_urls_complete_array = np.load(\"image_download_azure/tile_name_tile_url_complete_array.npy\")\n",
    "\n",
    "tiles_labeled = \"tile_name_tile_url_labeled.npy\"\n",
    "tiles_labeled_from_complete_set = np.load(tiles_labeled)\n",
    "\n",
    "tracker_file_path = 'outputs/tile_img_annotation_annotator.npy'\n",
    "tile_img_annotation = np.load(tracker_file_path)\n",
    "tile_img_annotation_annotator = np.load(\"outputs/tile_img_annotation_annotator.npy\")\n",
    "\n",
    "tiles_errors = 'tile_name_tile_url_error_downloading.npy'\n",
    "tiles_errors = np.load(tiles_errors)\n",
    "\n",
    "#create folder to hold tiles in completed dataset\n",
    "#load tiles and tile xmls\n",
    "tiles_complete_dataset_path = os.path.join(parent_directory,\"complete_dataset\",\"tiles\")\n",
    "os.makedirs(tiles_complete_dataset_path, exist_ok=True)\n",
    "tiles_dir = tiles_complete_dataset_path\n",
    "\n",
    "tiles_xml_complete_dataset_path = os.path.join(parent_directory,\"complete_dataset\",\"tiles_xml\")\n",
    "os.makedirs(tiles_xml_complete_dataset_path, exist_ok=True)\n",
    "tiles_xml_dir = tiles_xml_complete_dataset_path\n",
    "tiles_xml_list = os.listdir(tiles_xml_complete_dataset_path)\n",
    "\n",
    "\n",
    "tile_names_tile_urls_complete_array_unique_standard_tile_names = np.load(\"tile_names_tile_urls_complete_array_unique_standard_tile_names.npy\")\n",
    "\n",
    "#NAIP quad map\n",
    "quad_indicies_path = \"C:/Users/rapiduser/Box/EPA STAR 2019 (Community Resistance to Environmental Disasters)/Data/AST Datasets/MapIndices_National_GDB/MapIndices_National_GDB.gdb\"\n",
    "#fiona.listlayers(quad_indicies_path)\n",
    "rechipped_image_path = os.path.join(parent_directory,\"temp/rechip\")\n",
    "\n",
    "folders_of_images_xmls_by_tile = os.listdir(rechipped_image_path)\n",
    "images_and_xmls_by_tile_path = rechipped_image_path"
   ]
  },
  {
   "cell_type": "markdown",
   "id": "7187dbfb-e487-4726-b7db-64aef7c30ec6",
   "metadata": {},
   "source": [
    "# Add chips to rechip folder"
   ]
  },
  {
   "cell_type": "code",
   "execution_count": 3,
   "id": "11f65a90-5a87-450a-bbd3-ec2a63fc7e93",
   "metadata": {},
   "outputs": [],
   "source": [
    "#for tile_name in tqdm.tqdm(folders_of_images_xmls_by_tile):\n",
    "#    add_chips_to_chip_folders(rechipped_image_path, tile_name)"
   ]
  },
  {
   "cell_type": "markdown",
   "id": "83fcd26d-0e1c-41ec-b3c9-cb49788b47c6",
   "metadata": {},
   "source": [
    "# Reclassify narrow closed roof tanks and closed roof tanks by size"
   ]
  },
  {
   "cell_type": "code",
   "execution_count": 4,
   "id": "30667ae0-ddee-411e-a3cb-fe4947ab2a39",
   "metadata": {},
   "outputs": [
    {
     "name": "stderr",
     "output_type": "stream",
     "text": [
      "100%|██████████| 2139/2139 [12:32<00:00,  2.84it/s]\n"
     ]
    }
   ],
   "source": [
    "for tile in tqdm.tqdm(os.listdir(rechipped_image_path)):\n",
    "    tile_annotation_path = os.path.join(rechipped_image_path, tile, \"chips_positive_xml\")\n",
    "    for xml in os.listdir(tile_annotation_path):\n",
    "        xml_path = os.path.join(tile_annotation_path, xml)\n",
    "        fc.reclassify_narrow_closed_roof_and_closed_roof_tanks(xml_path)"
   ]
  },
  {
   "cell_type": "markdown",
   "id": "1d91e316-f689-4e11-868e-e6da7a29dc85",
   "metadata": {},
   "source": [
    "# Generate table of characteristics for tiles/images"
   ]
  },
  {
   "cell_type": "code",
   "execution_count": 5,
   "id": "f4d3f111-dfc0-4ee4-b23c-a5cfe881f8b6",
   "metadata": {},
   "outputs": [],
   "source": [
    "#tile_characteristics, image_characteristics = fc.image_tile_characteristics(rechipped_image_path, tiles_complete_dataset_path)\n",
    "#tile_characteristics.to_csv(\"tile_characteristics.csv\")\n",
    "#image_characteristics.to_csv(\"image_characteristics.csv\")\n",
    "image_characteristics = pd.read_csv(\"image_characteristics.csv\")\n",
    "tile_characteristics = pd.read_csv(\"tile_characteristics.csv\")"
   ]
  },
  {
   "cell_type": "markdown",
   "id": "ca76828a-3786-4d19-bc13-73a6fbd0c9c9",
   "metadata": {},
   "source": [
    "# Fix inconsistent labels "
   ]
  },
  {
   "cell_type": "code",
   "execution_count": 6,
   "id": "2fc174f5-4bec-433f-a18e-43a41ba1bbcb",
   "metadata": {},
   "outputs": [
    {
     "name": "stderr",
     "output_type": "stream",
     "text": [
      "100%|██████████| 2139/2139 [07:07<00:00,  5.00it/s]\n"
     ]
    }
   ],
   "source": [
    "#make consistent labels \n",
    "for tile_name in tqdm.tqdm(folders_of_images_xmls_by_tile):\n",
    "    #specify image/xml paths for each tile\n",
    "    positive_xml_dir = os.path.join(images_and_xmls_by_tile_path, tile_name, \"chips_positive_xml\")\n",
    "    fc.correct_inconsistent_labels_xml(positive_xml_dir)"
   ]
  },
  {
   "cell_type": "markdown",
   "id": "b37120bb-6d4e-4e7f-8ee4-49428b171dee",
   "metadata": {},
   "source": [
    "# Generate tile XMLs"
   ]
  },
  {
   "cell_type": "code",
   "execution_count": null,
   "id": "919d4fb6-6513-4e3d-a7fd-6d70b3f8c706",
   "metadata": {},
   "outputs": [
    {
     "name": "stderr",
     "output_type": "stream",
     "text": [
      " 50%|████▉     | 1063/2139 [30:40<11:50,  1.51it/s]  "
     ]
    }
   ],
   "source": [
    "fc.generate_tile_xmls(rechipped_image_path, tiles_complete_dataset_path, tiles_xml_complete_dataset_path, int(512))"
   ]
  },
  {
   "cell_type": "markdown",
   "id": "8214fa8d-63b1-495a-bc89-3786411bca06",
   "metadata": {},
   "source": [
    "## Combine neighboring bounding boxes"
   ]
  },
  {
   "cell_type": "markdown",
   "id": "1cb7ed31-b227-4076-b244-2abf68a34cc7",
   "metadata": {},
   "source": [
    "https://answers.opencv.org/question/231263/merging-nearby-rectanglesedited/\n",
    "https://stackoverflow.com/questions/55593506/merge-the-bounding-boxes-near-by-into-one"
   ]
  },
  {
   "cell_type": "code",
   "execution_count": null,
   "id": "a048e1d9-5768-4aae-881f-d5ffdc553705",
   "metadata": {},
   "outputs": [],
   "source": [
    "distance_limit = 5\n",
    "tile_database = fc.merge_tile_annotations(tile_characteristics, tiles_xml_dir, distance_limit = 5)\n",
    "#merged_tile_database =  tile_database[tile_database[\"merged_bbox\"] == True]"
   ]
  },
  {
   "cell_type": "markdown",
   "id": "9f3c1504-59ee-4c80-9cc6-e10f3c19939c",
   "metadata": {},
   "source": [
    "# Clip storm surge data and append to tile level annotation database"
   ]
  },
  {
   "cell_type": "code",
   "execution_count": null,
   "id": "1d15c352-f499-4811-8532-9b13040ac353",
   "metadata": {},
   "outputs": [],
   "source": [
    "sc_slosh_inundation_map_path = \"C:/Users/rapiduser/Box/EPA STAR 2019 (Community Resistance to Environmental Disasters)/Data/Natural Hazards Data/NHC Potential Storm Surge Flood Map/SC_SLOSH_MOM_Inundation\"\n",
    "tile_database = fc.identify_inundation_for_tanks(tile_database, sc_slosh_inundation_map_path)"
   ]
  },
  {
   "cell_type": "code",
   "execution_count": null,
   "id": "48f9e5b2-d558-4dea-b832-13d4a08870d2",
   "metadata": {},
   "outputs": [],
   "source": [
    "output_filepath = os.path.join(parent_directory,\"complete_dataset\",\"tile_level_annotations\")\n",
    "output_filename = 'tile_level_annotations'\n",
    "fc.write_gdf(tile_database, output_filepath, output_filename)"
   ]
  }
 ],
 "metadata": {
  "kernelspec": {
   "display_name": "Chip Allocate",
   "language": "python",
   "name": "chip_allocate"
  },
  "language_info": {
   "codemirror_mode": {
    "name": "ipython",
    "version": 3
   },
   "file_extension": ".py",
   "mimetype": "text/x-python",
   "name": "python",
   "nbconvert_exporter": "python",
   "pygments_lexer": "ipython3",
   "version": "3.9.7"
  }
 },
 "nbformat": 4,
 "nbformat_minor": 5
}
