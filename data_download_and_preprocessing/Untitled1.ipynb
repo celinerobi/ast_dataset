{
 "cells": [
  {
   "cell_type": "code",
   "execution_count": 1,
   "id": "c22d5a16-db09-4ae3-bb7a-36eebccdd3db",
   "metadata": {
    "tags": []
   },
   "outputs": [],
   "source": [
    "import os \n",
    "\n",
    "import fiona #must be import before geopandas\n",
    "import geopandas as gpd\n",
    "import rasterio\n",
    "import rioxarray\n",
    "import re\n",
    "import rtree\n",
    "import shapely\n",
    "import pickle\n",
    "\n",
    "#from cartopy import crs\n",
    "import collections\n",
    "import cv2\n",
    "import math\n",
    "from glob import glob\n",
    "from tqdm.notebook import tqdm_notebook\n",
    "import tqdm\n",
    "# Standard packages\n",
    "import tempfile\n",
    "import warnings\n",
    "import urllib\n",
    "import shutil\n",
    "# Less standard, but still pip- or conda-installable\n",
    "import pandas as pd\n",
    "import numpy as np\n",
    "import matplotlib\n",
    "import matplotlib.pyplot as plt\n",
    "from matplotlib.patches import Rectangle\n",
    "\n",
    "import data_eng.az_proc as ap\n",
    "import data_eng.form_calcs as fc\n",
    "\n",
    "from lxml.etree import Element,SubElement,tostring\n",
    "import xml.dom.minidom\n",
    "from xml.dom.minidom import parseString\n",
    "import xml.etree.ElementTree as et\n",
    "from xml.dom import minidom\n",
    "\n",
    "#import requests\n",
    "from PIL import Image\n",
    "from io import BytesIO\n",
    "import tqdm\n",
    "from skimage.metrics import structural_similarity as compare_ssim\n",
    "import imutils\n",
    "\n",
    "import psutil"
   ]
  },
  {
   "cell_type": "markdown",
   "id": "c10f8ac9-0ce2-458a-9a8e-b95ebcc69322",
   "metadata": {},
   "source": [
    "## File Paths"
   ]
  },
  {
   "cell_type": "code",
   "execution_count": 4,
   "id": "586b7a5d-4417-430a-a1cf-1a411498bc56",
   "metadata": {},
   "outputs": [],
   "source": []
  },
  {
   "cell_type": "code",
   "execution_count": 5,
   "id": "56167872-8cb6-4c95-a587-33acea6f8e85",
   "metadata": {},
   "outputs": [
    {
     "name": "stderr",
     "output_type": "stream",
     "text": [
      "  0%|          | 0/2120 [00:00<?, ?it/s]\n"
     ]
    },
    {
     "ename": "NameError",
     "evalue": "name 'new_tiles_xml_complete_dataset_path' is not defined",
     "output_type": "error",
     "traceback": [
      "\u001b[1;31m---------------------------------------------------------------------------\u001b[0m",
      "\u001b[1;31mNameError\u001b[0m                                 Traceback (most recent call last)",
      "\u001b[1;32mC:\\Users\\RAPIDU~1\\AppData\\Local\\Temp/ipykernel_11636/2032199776.py\u001b[0m in \u001b[0;36m<module>\u001b[1;34m\u001b[0m\n\u001b[1;32m----> 1\u001b[1;33m \u001b[0mfc\u001b[0m\u001b[1;33m.\u001b[0m\u001b[0mmerge_tile_annotations\u001b[0m\u001b[1;33m(\u001b[0m\u001b[0mtiles_xml_list\u001b[0m\u001b[1;33m,\u001b[0m\u001b[0mtiles_xml_complete_dataset_path\u001b[0m\u001b[1;33m,\u001b[0m\u001b[0mnew_tiles_xml_complete_dataset_path\u001b[0m\u001b[1;33m,\u001b[0m\u001b[1;36m5\u001b[0m\u001b[1;33m)\u001b[0m\u001b[1;33m\u001b[0m\u001b[1;33m\u001b[0m\u001b[0m\n\u001b[0m",
      "\u001b[1;32m~\\cred\\AST_dataset\\data_download_and_preprocessing\\data_eng\\form_calcs.py\u001b[0m in \u001b[0;36mmerge_tile_annotations\u001b[1;34m(tiles_xml_list, tiles_xml_dir, new_tiles_xml_dir, distance_limit)\u001b[0m\n\u001b[0;32m    689\u001b[0m \u001b[1;33m\u001b[0m\u001b[0m\n\u001b[0;32m    690\u001b[0m \u001b[1;32mdef\u001b[0m \u001b[0mincorrectly_chipped_image_and_correctly_chipped_names\u001b[0m\u001b[1;33m(\u001b[0m\u001b[0mincorrectly_chipped_images_path\u001b[0m\u001b[1;33m,\u001b[0m \u001b[0mremaining_chips_path\u001b[0m\u001b[1;33m,\u001b[0m \u001b[0mtiles_complete_dataset_path\u001b[0m\u001b[1;33m,\u001b[0m \u001b[0mtile_name\u001b[0m\u001b[1;33m)\u001b[0m\u001b[1;33m:\u001b[0m\u001b[1;33m\u001b[0m\u001b[1;33m\u001b[0m\u001b[0m\n\u001b[1;32m--> 691\u001b[1;33m     \"\"\" Load tile of interest; chip the tile using the mxm, chip dimensions where m > n; Gather the previous chip name format, and the new chip name format;\n\u001b[0m\u001b[0;32m    692\u001b[0m     \u001b[0msave\u001b[0m \u001b[0mall\u001b[0m \u001b[0mimages\u001b[0m\u001b[1;33m,\u001b[0m \u001b[0mrecord\u001b[0m \u001b[0mlabeled\u001b[0m \u001b[0mimages\u001b[0m \u001b[0mthat\u001b[0m \u001b[0mcontain\u001b[0m \u001b[0mrelevant\u001b[0m \u001b[0mdata\u001b[0m \u001b[1;33m(\u001b[0m\u001b[1;32mnot\u001b[0m \u001b[0mblack\u001b[0m \u001b[0mimages\u001b[0m\u001b[1;33m)\u001b[0m\u001b[1;33m;\u001b[0m \u001b[0msave\u001b[0m \u001b[0mimages\u001b[0m \u001b[0mthat\u001b[0m \u001b[0mwere\u001b[0m \u001b[1;32mnot\u001b[0m \u001b[0mlabeled\u001b[0m \u001b[0mimages\u001b[0m\u001b[1;33m;\u001b[0m\u001b[1;33m\u001b[0m\u001b[1;33m\u001b[0m\u001b[0m\n\u001b[0;32m    693\u001b[0m     \u001b[0mArgs\u001b[0m\u001b[1;33m:\u001b[0m\u001b[1;33m\u001b[0m\u001b[1;33m\u001b[0m\u001b[0m\n",
      "\u001b[1;31mNameError\u001b[0m: name 'new_tiles_xml_complete_dataset_path' is not defined"
     ]
    }
   ],
   "source": [
    "fc.merge_tile_annotations(tiles_xml_list,tiles_xml_complete_dataset_path,new_tiles_xml_complete_dataset_path,5)"
   ]
  },
  {
   "cell_type": "code",
   "execution_count": null,
   "id": "0e3c44d5-a195-44a1-9746-052654994038",
   "metadata": {},
   "outputs": [],
   "source": [
    "Polygon([(0,0), (0,4), (4,4), (4,0)])"
   ]
  }
 ],
 "metadata": {
  "kernelspec": {
   "display_name": "Chip Allocate",
   "language": "python",
   "name": "chip_allocate"
  },
  "language_info": {
   "codemirror_mode": {
    "name": "ipython",
    "version": 3
   },
   "file_extension": ".py",
   "mimetype": "text/x-python",
   "name": "python",
   "nbconvert_exporter": "python",
   "pygments_lexer": "ipython3",
   "version": "3.9.7"
  }
 },
 "nbformat": 4,
 "nbformat_minor": 5
}
