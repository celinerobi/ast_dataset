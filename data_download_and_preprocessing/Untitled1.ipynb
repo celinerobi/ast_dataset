{
 "cells": [
  {
   "cell_type": "code",
   "execution_count": 1,
   "id": "27c51cbd-3447-40ee-92c1-588f3fbe4a40",
   "metadata": {
    "tags": []
   },
   "outputs": [],
   "source": [
    "import os \n",
    "\n",
    "import fiona #must be import before geopandas\n",
    "import geopandas as gpd\n",
    "import rasterio\n",
    "import xarray as xr\n",
    "import re\n",
    "import rtree\n",
    "import shapely\n",
    "import pickle\n",
    "\n",
    "#from cartopy import crs\n",
    "import collections\n",
    "import cv2\n",
    "import math\n",
    "from glob import glob\n",
    "from tqdm.notebook import tqdm_notebook\n",
    "\n",
    "# Standard packages\n",
    "import tempfile\n",
    "import warnings\n",
    "import urllib\n",
    "import shutil\n",
    "\n",
    "# Less standard, but still pip- or conda-installable\n",
    "import pandas as pd\n",
    "import numpy as np\n",
    "import matplotlib\n",
    "import matplotlib.pyplot as plt\n",
    "from matplotlib.patches import Rectangle\n",
    "\n",
    "import data_eng.az_proc as ap\n",
    "import data_eng.form_calcs as fc\n",
    "\n",
    "from lxml.etree import Element,SubElement,tostring\n",
    "import xml.dom.minidom\n",
    "from xml.dom.minidom import parseString\n",
    "import xml.etree.ElementTree as et\n",
    "from xml.dom import minidom\n",
    "\n",
    "#import requests\n",
    "from PIL import Image\n",
    "from io import BytesIO\n",
    "import tqdm\n",
    "from skimage.metrics import structural_similarity as compare_ssim\n",
    "import imutils\n",
    "\n",
    "import psutil"
   ]
  },
  {
   "cell_type": "code",
   "execution_count": null,
   "id": "1ed2fafc-1e7e-458b-9a04-d7e6f129f0f9",
   "metadata": {},
   "outputs": [],
   "source": [
    "File Paths"
   ]
  },
  {
   "cell_type": "code",
   "execution_count": 2,
   "id": "c1b3d0b3-cff4-47b5-82ba-b998caee9a7f",
   "metadata": {},
   "outputs": [],
   "source": [
    "parent_directory = \"//oit-nas-fe13dc.oit.duke.edu//data_commons-borsuk//\"\n",
    "\n",
    "tile_names_tile_urls_complete_array = np.load(\"image_download_azure/tile_name_tile_url_complete_array.npy\")\n",
    "\n",
    "tiles_labeled = \"tile_name_tile_url_labeled.npy\"\n",
    "tiles_labeled_from_complete_set = np.load(tiles_labeled)\n",
    "\n",
    "tracker_file_path = 'outputs/tile_img_annotation_annotator.npy'\n",
    "tile_img_annotation = np.load(tracker_file_path)\n",
    "tile_img_annotation_annotator = np.load(\"outputs/tile_img_annotation_annotator.npy\")\n",
    "\n",
    "tiles_errors = 'tile_name_tile_url_error_downloading.npy'\n",
    "tiles_errors = np.load(tiles_errors)\n",
    "\n",
    "#create folder to hold tiles in completed dataset\n",
    "\n",
    "tiles_complete_dataset_path = os.path.join(parent_directory,\"complete_dataset\",\"tiles\")\n",
    "tiles_xml_complete_dataset_path = os.path.join(parent_directory,\"complete_dataset\",\"tiles_xml\")\n",
    "os.makedirs(tiles_complete_dataset_path, exist_ok=True)\n",
    "\n",
    "tile_names_tile_urls_complete_array_unique_standard_tile_names = np.load(\"tile_names_tile_urls_complete_array_unique_standard_tile_names.npy\")\n",
    "image_characteristics = pd.read_csv(\"image_characteristics.csv\")\n",
    "tile_names_tile_urls_complete_array_unique_standard_tile_names = np.load(\"tile_names_tile_urls_complete_array_unique_standard_tile_names.npy\")\n",
    "\n",
    "#NAIP quad map\n",
    "quad_indicies_path = \"C:/Users/rapiduser/Box/EPA STAR 2019 (Community Resistance to Environmental Disasters)/Data/AST Datasets/MapIndices_National_GDB/MapIndices_National_GDB.gdb\"\n",
    "#fiona.listlayers(quad_indicies_path)"
   ]
  },
  {
   "cell_type": "markdown",
   "id": "0fc2a0b8-e040-41c2-a13c-57a51f1139d7",
   "metadata": {},
   "source": [
    "Unverified Images and Annotations (Subfolders, Images, and XMLs)"
   ]
  },
  {
   "cell_type": "code",
   "execution_count": 3,
   "id": "30513751-f863-4aae-b4d9-f0685e47ae06",
   "metadata": {},
   "outputs": [
    {
     "name": "stderr",
     "output_type": "stream",
     "text": [
      "100%|██████████| 40/40 [00:03<00:00, 10.72it/s]\n"
     ]
    }
   ],
   "source": [
    "unverified_set1_subfolders_path = os.path.join(parent_directory,\"unverified_images\\student_reviewed_unverified_images_set1\")\n",
    "unverified_set1_subfolders_path = ap.img_path_anno_path(ap.list_of_sub_directories(unverified_set1_subfolders_path))\n",
    "\n",
    "unverified_set1_image_paths = []\n",
    "unverified_set1_xml_paths = []\n",
    "for directory in tqdm.tqdm(unverified_set1_subfolders_path):\n",
    "    #print(len(os.listdir(directory[0])),len(os.listdir(directory[1])))\n",
    "    fc.remove_thumbs(directory[0])\n",
    "    unverified_set1_image_paths += glob(directory[0] + \"/*.jpg\", recursive = True)\n",
    "    unverified_set1_xml_paths += glob(directory[1] + \"/*.xml\", recursive = True)"
   ]
  },
  {
   "cell_type": "markdown",
   "id": "927b6dbb-69fe-4458-acee-45c43d8a99f7",
   "metadata": {},
   "source": [
    "Verified Images and Annotations (Subfolders, Images, and XMLs)"
   ]
  },
  {
   "cell_type": "code",
   "execution_count": 4,
   "id": "9620ad2e-7061-4c52-b6fe-84d7825d8473",
   "metadata": {},
   "outputs": [
    {
     "name": "stderr",
     "output_type": "stream",
     "text": [
      "100%|██████████| 11/11 [00:04<00:00,  2.58it/s]\n"
     ]
    }
   ],
   "source": [
    "verified_sets_path = os.path.join(parent_directory, \"verified/verified_sets\")\n",
    "verified_sets_subfolders_path = ap.img_path_anno_path(ap.list_of_sub_directories(verified_sets_path))\n",
    "\n",
    "verified_set1_image_paths = []\n",
    "verified_set1_xml_paths = []\n",
    "verified_set1_subfolders_path = []\n",
    "\n",
    "for verified_set in tqdm.tqdm(verified_sets_subfolders_path):\n",
    "    fc.remove_thumbs(verified_set[0])\n",
    "    set_number = verified_set[0].split(\"/\")[-2].split(\"_\")[1]\n",
    "    \n",
    "    if set_number == str(1):\n",
    "        verified_set1_image_paths += glob(verified_set[0] + \"/*.jpg\", recursive = True)\n",
    "        verified_set1_xml_paths += glob(verified_set[1] + \"/*.xml\", recursive = True)\n",
    "        verified_set1_subfolders_path.append(verified_set)\n",
    "        \n",
    "verified_set1_subfolders_path = np.array(verified_set1_subfolders_path)"
   ]
  },
  {
   "cell_type": "markdown",
   "id": "79836c96-47aa-4919-9395-a2d4fbcb833b",
   "metadata": {},
   "source": [
    "Unverified and Verified Images and Annotations (Subfolders, Images, and XMLs)"
   ]
  },
  {
   "cell_type": "code",
   "execution_count": 5,
   "id": "aaf2e64f-0249-419f-bb83-6878c5a0325f",
   "metadata": {},
   "outputs": [],
   "source": [
    "#first folder in unverified\n",
    "#get directories that need to be check\n",
    "fc.remove_thumbs(tiles_complete_dataset_path)\n",
    "unverified_verified_set1_image_paths = np.array(unverified_set1_image_paths + verified_set1_image_paths)\n",
    "unverified_verified_set1_subfolders_paths = np.concatenate((unverified_set1_subfolders_path, verified_set1_subfolders_path))"
   ]
  },
  {
   "cell_type": "markdown",
   "id": "3930c12c-ce9c-43b9-8a3b-a4a8df3fd592",
   "metadata": {},
   "source": [
    "Identify labeled images where the images do not correspond correctly to the tile chip <br>\n",
    "(identified by subfolder)"
   ]
  },
  {
   "cell_type": "code",
   "execution_count": 7,
   "id": "13cb15f8-f262-482e-80d0-3dc69c6f1e33",
   "metadata": {},
   "outputs": [
    {
     "name": "stderr",
     "output_type": "stream",
     "text": [
      "100%|██████████| 44/44 [4:36:56<00:00, 377.65s/it]  \n"
     ]
    }
   ],
   "source": []
  },
  {
   "cell_type": "code",
   "execution_count": 13,
   "id": "a3fe2289-73e9-43b4-827e-fcff8cab374a",
   "metadata": {},
   "outputs": [
    {
     "data": {
      "text/plain": [
       "'//oit-nas-fe13dc.oit.duke.edu//data_commons-borsuk//unverified_images\\\\student_reviewed_unverified_images_set1/Jackson/student_reviewed_images1/chips_positive\\\\la_60cm_2019_30091_m_3009147_se_15_060_20190906_000195.jpg'"
      ]
     },
     "execution_count": 13,
     "metadata": {},
     "output_type": "execute_result"
    }
   ],
   "source": [
    "incorrect_labeled_chip_names_by_subfolder[\"incorrect_chip_paths\"][0]"
   ]
  }
 ],
 "metadata": {
  "kernelspec": {
   "display_name": "Chip Allocate",
   "language": "python",
   "name": "chip_allocate"
  },
  "language_info": {
   "codemirror_mode": {
    "name": "ipython",
    "version": 3
   },
   "file_extension": ".py",
   "mimetype": "text/x-python",
   "name": "python",
   "nbconvert_exporter": "python",
   "pygments_lexer": "ipython3",
   "version": "3.9.7"
  }
 },
 "nbformat": 4,
 "nbformat_minor": 5
}
