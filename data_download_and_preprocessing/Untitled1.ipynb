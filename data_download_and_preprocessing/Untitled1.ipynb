{
 "cells": [
  {
   "cell_type": "code",
   "execution_count": 1,
   "id": "d94cbb2d-155c-4424-ad11-8db7b7330365",
   "metadata": {
    "tags": []
   },
   "outputs": [
    {
     "name": "stdout",
     "output_type": "stream",
     "text": [
      "shapely version 1.8.1.post1 \n",
      " fiona version 1.8.20 \n",
      " geopandas version 0.10.2 \n",
      " rasterio version 1.2.10 \n",
      "\n"
     ]
    }
   ],
   "source": [
    "import os \n",
    "\n",
    "import fiona #must be import before geopandas\n",
    "import geopandas as gpd\n",
    "import rasterio\n",
    "import rioxarray\n",
    "import re\n",
    "import rtree\n",
    "import shapely\n",
    "from shapely.geometry import Polygon, Point, MultiPoint, MultiPolygon, MultiLineString\n",
    "import pickle\n",
    "\n",
    "#from cartopy import crs\n",
    "import collections\n",
    "import cv2\n",
    "import math\n",
    "from glob import glob\n",
    "from tqdm.notebook import tqdm_notebook\n",
    "import tqdm\n",
    "# Standard packages\n",
    "import tempfile\n",
    "import warnings\n",
    "import urllib\n",
    "import shutil\n",
    "\n",
    "# Less standard, but still pip- or conda-installable\n",
    "import json\n",
    "import pandas as pd\n",
    "import numpy as np\n",
    "import matplotlib\n",
    "import matplotlib.pyplot as plt\n",
    "from matplotlib.patches import Rectangle\n",
    "from matplotlib import colors as mcolors\n",
    "colors = dict(mcolors.BASE_COLORS, **mcolors.CSS4_COLORS)\n",
    "\n",
    "from lxml.etree import Element,SubElement,tostring\n",
    "import xml.dom.minidom\n",
    "from xml.dom.minidom import parseString\n",
    "import xml.etree.ElementTree as et\n",
    "from xml.dom import minidom\n",
    "\n",
    "#import requests\n",
    "from PIL import Image\n",
    "from io import BytesIO\n",
    "import tqdm\n",
    "from skimage.metrics import structural_similarity as compare_ssim\n",
    "import imutils\n",
    "\n",
    "import psutil\n",
    "\n",
    "import data_eng.az_proc as ap\n",
    "import data_eng.form_calcs as fc\n",
    "\n",
    "print(\"shapely version\", shapely.__version__, \"\\n\",\n",
    "      \"fiona version\", fiona.__version__, \"\\n\",\n",
    "      \"geopandas version\", gpd.__version__, \"\\n\",\n",
    "      \"rasterio version\", rasterio.__version__, \"\\n\")"
   ]
  },
  {
   "cell_type": "markdown",
   "id": "0705c401-62eb-4ad3-898e-8cb7cf8b5688",
   "metadata": {},
   "source": [
    "## File Paths"
   ]
  },
  {
   "cell_type": "code",
   "execution_count": 2,
   "id": "111c39b1-21b4-4e9b-b2be-ecb26f98ed88",
   "metadata": {},
   "outputs": [],
   "source": [
    "parent_directory = \"//oit-nas-fe13dc.oit.duke.edu//data_commons-borsuk//\"\n",
    "\n",
    "tile_names_tile_urls_complete_array = np.load(\"image_download_azure/tile_name_tile_url_complete_array.npy\")\n",
    "\n",
    "tiles_labeled = \"tile_name_tile_url_labeled.npy\"\n",
    "tiles_labeled_from_complete_set = np.load(tiles_labeled)\n",
    "\n",
    "tracker_file_path = 'outputs/tile_img_annotation_annotator.npy'\n",
    "tile_img_annotation = np.load(tracker_file_path)\n",
    "tile_img_annotation_annotator = np.load(\"outputs/tile_img_annotation_annotator.npy\")\n",
    "\n",
    "tiles_errors = 'tile_name_tile_url_error_downloading.npy'\n",
    "tiles_errors = np.load(tiles_errors)\n",
    "\n",
    "#load tiles and tile xmls\n",
    "tiles_complete_dataset_path = os.path.join(parent_directory,\"complete_dataset\",\"tiles\")\n",
    "os.makedirs(tiles_complete_dataset_path, exist_ok=True)\n",
    "tiles_dir = tiles_complete_dataset_path\n",
    "\n",
    "tiles_xml_complete_dataset_path = os.path.join(parent_directory,\"complete_dataset\",\"tiles_xml\")\n",
    "os.makedirs(tiles_xml_complete_dataset_path, exist_ok=True)\n",
    "tiles_xml_dir = tiles_xml_complete_dataset_path\n",
    "tiles_xml_list = os.listdir(tiles_xml_complete_dataset_path)\n",
    "\n",
    "tile_names_tile_urls_complete_array_unique_standard_tile_names = np.load(\"tile_names_tile_urls_complete_array_unique_standard_tile_names.npy\")\n",
    "item_dim = int(512)\n",
    "\n",
    "#NAIP quad map\n",
    "quad_indicies_path = \"C:/Users/rapiduser/Box/EPA STAR 2019 (Community Resistance to Environmental Disasters)/Data/AST Datasets/MapIndices_National_GDB/MapIndices_National_GDB.gdb\"\n",
    "#fiona.listlayers(quad_indicies_path)\n",
    "rechipped_image_path = os.path.join(parent_directory,\"temp/rechip\")\n",
    "\n",
    "folders_of_images_xmls_by_tile = os.listdir(rechipped_image_path)\n",
    "images_and_xmls_by_tile_path = rechipped_image_path"
   ]
  },
  {
   "cell_type": "markdown",
   "id": "5832c7ce-9b15-48a0-91d2-fea3fcb6ca81",
   "metadata": {},
   "source": [
    "tile_characteristics = pd.DataFrame(data={'tile_name': [\"m_3308752_nw_16_060_20191023\"], 'tile_path': [\"//oit-nas-fe13dc.oit.duke.edu//data_commons-bo\"], \n",
    "                                              'tile_heights': [11375],'tile_widths': [11527], 'tile_depths': [4],\n",
    "                                              'min_lon_tile': [-87.627585],'min_lat_tile': [33.18537],\n",
    "                                              'max_lon_tile': [-87.559923],'max_lat_tile': [33.25214]})\n",
    "                                              \n",
    "tile_name = 'm_3308752_nw_16_060_20191023'\n",
    "tiles_xml_list = [tile_name+\".xml\"]\n",
    "distance_limit = 5\n",
    "gdf = fc.merge_tile_annotations(tiles_xml_dir,tile_characteristics, distance_limit, tiles_xml_list)"
   ]
  }
 ],
 "metadata": {
  "kernelspec": {
   "display_name": "Chip Allocate",
   "language": "python",
   "name": "chip_allocate"
  },
  "language_info": {
   "codemirror_mode": {
    "name": "ipython",
    "version": 3
   },
   "file_extension": ".py",
   "mimetype": "text/x-python",
   "name": "python",
   "nbconvert_exporter": "python",
   "pygments_lexer": "ipython3",
   "version": "3.9.7"
  }
 },
 "nbformat": 4,
 "nbformat_minor": 5
}
