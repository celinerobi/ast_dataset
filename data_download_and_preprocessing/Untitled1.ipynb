{
 "cells": [
  {
   "cell_type": "code",
   "execution_count": 6,
   "id": "59424115-7617-4835-8892-09882cb78edf",
   "metadata": {
    "tags": []
   },
   "outputs": [],
   "source": [
    "import os \n",
    "\n",
    "import fiona #must be import before geopandas\n",
    "import geopandas as gpd\n",
    "import rasterio\n",
    "import rioxarray\n",
    "import re\n",
    "import rtree\n",
    "import shapely\n",
    "import pickle\n",
    "\n",
    "#from cartopy import crs\n",
    "import collections\n",
    "import cv2\n",
    "import math\n",
    "from glob import glob\n",
    "from tqdm.notebook import tqdm_notebook\n",
    "import tqdm\n",
    "# Standard packages\n",
    "import tempfile\n",
    "import warnings\n",
    "import urllib\n",
    "import shutil\n",
    "\n",
    "# Less standard, but still pip- or conda-installable\n",
    "import pandas as pd\n",
    "import numpy as np\n",
    "import matplotlib\n",
    "import matplotlib.pyplot as plt\n",
    "from matplotlib.patches import Rectangle\n",
    "\n",
    "from lxml.etree import Element,SubElement,tostring\n",
    "import xml.dom.minidom\n",
    "from xml.dom.minidom import parseString\n",
    "import xml.etree.ElementTree as et\n",
    "from xml.dom import minidom\n",
    "\n",
    "#import requests\n",
    "from PIL import Image\n",
    "from io import BytesIO\n",
    "import tqdm\n",
    "from skimage.metrics import structural_similarity as compare_ssim\n",
    "import imutils\n",
    "\n",
    "import psutil\n",
    "\n",
    "import data_eng.az_proc as ap\n",
    "import data_eng.form_calcs as fc"
   ]
  },
  {
   "cell_type": "code",
   "execution_count": 1,
   "id": "d94cbb2d-155c-4424-ad11-8db7b7330365",
   "metadata": {
    "tags": []
   },
   "outputs": [],
   "source": [
    "import os \n",
    "\n",
    "import fiona #must be import before geopandas\n",
    "import geopandas as gpd\n",
    "import rasterio\n",
    "import rioxarray\n",
    "import re\n",
    "import rtree\n",
    "import shapely\n",
    "import pickle\n",
    "\n",
    "#from cartopy import crs\n",
    "import collections\n",
    "import cv2\n",
    "import math\n",
    "from glob import glob\n",
    "from tqdm.notebook import tqdm_notebook\n",
    "import tqdm\n",
    "# Standard packages\n",
    "import tempfile\n",
    "import warnings\n",
    "import urllib\n",
    "import shutil\n",
    "\n",
    "# Less standard, but still pip- or conda-installable\n",
    "import pandas as pd\n",
    "import numpy as np\n",
    "import matplotlib\n",
    "import matplotlib.pyplot as plt\n",
    "from matplotlib.patches import Rectangle\n",
    "\n",
    "from lxml.etree import Element,SubElement,tostring\n",
    "import xml.dom.minidom\n",
    "from xml.dom.minidom import parseString\n",
    "import xml.etree.ElementTree as et\n",
    "from xml.dom import minidom\n",
    "\n",
    "#import requests\n",
    "from PIL import Image\n",
    "from io import BytesIO\n",
    "import tqdm\n",
    "from skimage.metrics import structural_similarity as compare_ssim\n",
    "import imutils\n",
    "\n",
    "import psutil\n",
    "\n",
    "import data_eng.az_proc as ap\n",
    "import data_eng.form_calcs as fc"
   ]
  },
  {
   "cell_type": "code",
   "execution_count": 2,
   "id": "343a3348-7888-4c3e-9892-544b4796d9cb",
   "metadata": {},
   "outputs": [],
   "source": [
    "import shapely\n",
    "from shapely.geometry import Polygon, Point, MultiPoint, MultiPolygon, MultiLineString\n",
    "from shapely.geometry.collection import GeometryCollection\n",
    "from shapely.ops import unary_union, polygonize"
   ]
  },
  {
   "cell_type": "markdown",
   "id": "0705c401-62eb-4ad3-898e-8cb7cf8b5688",
   "metadata": {},
   "source": [
    "## File Paths"
   ]
  },
  {
   "cell_type": "code",
   "execution_count": 3,
   "id": "111c39b1-21b4-4e9b-b2be-ecb26f98ed88",
   "metadata": {},
   "outputs": [],
   "source": [
    "parent_directory = \"//oit-nas-fe13dc.oit.duke.edu//data_commons-borsuk//\"\n",
    "\n",
    "tile_names_tile_urls_complete_array = np.load(\"image_download_azure/tile_name_tile_url_complete_array.npy\")\n",
    "\n",
    "tiles_labeled = \"tile_name_tile_url_labeled.npy\"\n",
    "tiles_labeled_from_complete_set = np.load(tiles_labeled)\n",
    "\n",
    "tracker_file_path = 'outputs/tile_img_annotation_annotator.npy'\n",
    "tile_img_annotation = np.load(tracker_file_path)\n",
    "tile_img_annotation_annotator = np.load(\"outputs/tile_img_annotation_annotator.npy\")\n",
    "\n",
    "tiles_errors = 'tile_name_tile_url_error_downloading.npy'\n",
    "tiles_errors = np.load(tiles_errors)\n",
    "\n",
    "#create folder to hold tiles in completed dataset\n",
    "\n",
    "tiles_complete_dataset_path = os.path.join(parent_directory,\"complete_dataset\",\"tiles\")\n",
    "os.makedirs(tiles_complete_dataset_path, exist_ok=True)\n",
    "tiles_dir = tiles_complete_dataset_path\n",
    "\n",
    "tiles_xml_complete_dataset_path = os.path.join(parent_directory,\"complete_dataset\",\"tiles_xml\")\n",
    "os.makedirs(tiles_xml_complete_dataset_path, exist_ok=True)\n",
    "tiles_xml_dir = tiles_xml_complete_dataset_path\n",
    "tiles_xml_list = os.listdir(tiles_xml_complete_dataset_path)\n",
    "\n",
    "new_tiles_xml_complete_dataset_path = os.path.join(parent_directory,\"complete_dataset\",\"tiles_xml_merged\")\n",
    "\n",
    "tile_names_tile_urls_complete_array_unique_standard_tile_names = np.load(\"tile_names_tile_urls_complete_array_unique_standard_tile_names.npy\")\n",
    "image_characteristics = pd.read_csv(\"image_characteristics.csv\")\n",
    "tile_names_tile_urls_complete_array_unique_standard_tile_names = np.load(\"tile_names_tile_urls_complete_array_unique_standard_tile_names.npy\")\n",
    "\n",
    "#NAIP quad map\n",
    "quad_indicies_path = \"C:/Users/rapiduser/Box/EPA STAR 2019 (Community Resistance to Environmental Disasters)/Data/AST Datasets/MapIndices_National_GDB/MapIndices_National_GDB.gdb\"\n",
    "#fiona.listlayers(quad_indicies_path)\n",
    "rechipped_image_path = os.path.join(parent_directory,\"temp/rechip\")\n",
    "\n",
    "folders_of_images_xmls_by_tile = os.listdir(rechipped_image_path)\n",
    "images_and_xmls_by_tile_path = rechipped_image_path"
   ]
  },
  {
   "cell_type": "code",
   "execution_count": 4,
   "id": "da8bf1f8-4f3a-40bb-a3ad-752bc397e8e8",
   "metadata": {},
   "outputs": [],
   "source": [
    "tile_characteristics = pd.DataFrame(data={'tile_name': [\"m_3308752_nw_16_060_20191023\"], 'tile_path': [\"//oit-nas-fe13dc.oit.duke.edu//data_commons-bo\"], \n",
    "                                              'tile_heights': [11375],'tile_widths': [11527], 'tile_depths': [4],\n",
    "                                              'min_lon_tile': [-87.627585],'min_lat_tile': [33.18537],\n",
    "                                              'max_lon_tile': [-87.559923],'max_lat_tile': [33.25214]})"
   ]
  },
  {
   "cell_type": "code",
   "execution_count": 5,
   "id": "d23a99d3-2000-4f26-94c1-57649f5d1fae",
   "metadata": {},
   "outputs": [
    {
     "data": {
      "text/html": [
       "<div>\n",
       "<style scoped>\n",
       "    .dataframe tbody tr th:only-of-type {\n",
       "        vertical-align: middle;\n",
       "    }\n",
       "\n",
       "    .dataframe tbody tr th {\n",
       "        vertical-align: top;\n",
       "    }\n",
       "\n",
       "    .dataframe thead th {\n",
       "        text-align: right;\n",
       "    }\n",
       "</style>\n",
       "<table border=\"1\" class=\"dataframe\">\n",
       "  <thead>\n",
       "    <tr style=\"text-align: right;\">\n",
       "      <th></th>\n",
       "      <th>tile_name</th>\n",
       "      <th>tile_path</th>\n",
       "      <th>tile_heights</th>\n",
       "      <th>tile_widths</th>\n",
       "      <th>tile_depths</th>\n",
       "      <th>min_lon_tile</th>\n",
       "      <th>min_lat_tile</th>\n",
       "      <th>max_lon_tile</th>\n",
       "      <th>max_lat_tile</th>\n",
       "    </tr>\n",
       "  </thead>\n",
       "  <tbody>\n",
       "    <tr>\n",
       "      <th>0</th>\n",
       "      <td>m_3308752_nw_16_060_20191023</td>\n",
       "      <td>//oit-nas-fe13dc.oit.duke.edu//data_commons-bo</td>\n",
       "      <td>11375</td>\n",
       "      <td>11527</td>\n",
       "      <td>4</td>\n",
       "      <td>-87.627585</td>\n",
       "      <td>33.18537</td>\n",
       "      <td>-87.559923</td>\n",
       "      <td>33.25214</td>\n",
       "    </tr>\n",
       "  </tbody>\n",
       "</table>\n",
       "</div>"
      ],
      "text/plain": [
       "                      tile_name  \\\n",
       "0  m_3308752_nw_16_060_20191023   \n",
       "\n",
       "                                        tile_path  tile_heights  tile_widths  \\\n",
       "0  //oit-nas-fe13dc.oit.duke.edu//data_commons-bo         11375        11527   \n",
       "\n",
       "   tile_depths  min_lon_tile  min_lat_tile  max_lon_tile  max_lat_tile  \n",
       "0            4    -87.627585      33.18537    -87.559923      33.25214  "
      ]
     },
     "execution_count": 5,
     "metadata": {},
     "output_type": "execute_result"
    }
   ],
   "source": [
    "tile_characteristics"
   ]
  },
  {
   "cell_type": "code",
   "execution_count": 19,
   "id": "9715257d-a511-43b9-8912-6c7682b1fc10",
   "metadata": {},
   "outputs": [],
   "source": [
    "def merge_tile_annotations(tiles_xml_dir, tile_characteristics, distance_limit, tiles_xml_list = None):\n",
    "    # https://stackoverflow.com/questions/55593506/merge-the-bounding-boxes-near-by-into-one\n",
    "    #specify tiles_xml_list\n",
    "    if type(tiles_xml_list) == None: #if tiles_xml_list not provided, specify the tiles xml list\n",
    "        tiles_xml_list = os.listdir(tiles_xml_dir)\n",
    "                                    \n",
    "    for tile_xml in tqdm.tqdm(tiles_xml_list):\n",
    "        #save bboxes and characteristics\n",
    "        trunc_diff_objs_bboxes = []\n",
    "        trunc_diff_objs_characteristics = []\n",
    "        remaining_objs_bboxes = []\n",
    "        remaining_objs_characteristics = []\n",
    "        #lists for geosons/geodatabase\n",
    "        polygon_id = []\n",
    "        tile_names = []\n",
    "        object_class = []\n",
    "        merged_bbox = []\n",
    "        geometry = []\n",
    "        #get tilename/tile xml path\n",
    "        tile_name = os.path.splitext(tile_xml)[0]\n",
    "        tile_xml_path = os.path.join(tiles_xml_dir, tile_xml)\n",
    "        #load tile characteristics \n",
    "        tile_characteristics_subset = tile_characteristics[tile_characteristics.loc[:,\"tile_name\"] == tile_name]\n",
    "        tile_lat_array = np.linspace(tile_characteristics_subset[\"min_lat_tile\"].values[0], \n",
    "                                     tile_characteristics_subset[\"max_lat_tile\"].values[0],\n",
    "                                     tile_characteristics_subset[\"tile_heights\"].values[0])\n",
    "\n",
    "        tile_lon_array = np.linspace(tile_characteristics_subset[\"min_lon_tile\"].values[0], \n",
    "                                     tile_characteristics_subset[\"max_lon_tile\"].values[0],\n",
    "                                     tile_characteristics_subset[\"tile_widths\"].values[0])\n",
    "        #load each xml\n",
    "        tree = et.parse(tile_xml_path)\n",
    "        root = tree.getroot()\n",
    "        #get the bboxes\n",
    "        for obj in root.iter('object'):\n",
    "            xmlbox = obj.find('bndbox')\n",
    "            obj_xmin = xmlbox.find('xmin').text\n",
    "            obj_ymin = xmlbox.find('ymin').text\n",
    "            obj_xmax = xmlbox.find('xmax').text\n",
    "            obj_ymax = xmlbox.find('ymax').text\n",
    "            #get truncated bboxes\n",
    "            if (int(obj.find('difficult').text) == 1) or (int(obj.find('truncated').text) == 1):\n",
    "                #get bboxes/characteristics\n",
    "                trunc_diff_objs_bboxes.append([obj_xmin, obj_ymin, obj_xmax, obj_ymax])\n",
    "                trunc_diff_objs_characteristics.append([obj.find('name').text, obj.find('pose').text, \n",
    "                                                        obj.find('truncated').text, obj.find('difficult').text])\n",
    "            else:        \n",
    "                remaining_objs_bboxes.append([obj_xmin, obj_ymin, obj_xmax, obj_ymax])\n",
    "                remaining_objs_characteristics.append([obj.find('name').text, obj.find('pose').text, \n",
    "                                                       obj.find('truncated').text, obj.find('difficult').text])\n",
    "        \n",
    "        #merge where possible\n",
    "        trunc_diff_objs_bboxes = np.array(trunc_diff_objs_bboxes).astype(np.int32)\n",
    "        trunc_diff_objs_bboxes = trunc_diff_objs_bboxes.tolist()\n",
    "        bool_, merged_characteristics, merged_bboxes =  fc.merge_algo(trunc_diff_objs_characteristics,\n",
    "                                                                      trunc_diff_objs_bboxes, distance_limit)\n",
    "        #merged_bboxes = np.array(merged_bboxes).astype(np.int32)\n",
    "        #merged_bboxes = merged_bboxes.tolist()\n",
    "        count = 0\n",
    "        #add merged bboxes\n",
    "        for j, (char, bbox) in enumerate(zip(merged_characteristics, merged_bboxes)):\n",
    "            polygon_id.append(tile_name + \"_\" + str(count).zfill(4)) # The index is a six-digit number like '000023'.\n",
    "            tile_names.append(tile_name)\n",
    "            object_class.append(char[0])\n",
    "            merged_bbox.append(True)\n",
    "            min_lon = tile_lon_array[bbox[0]]\n",
    "            max_lon = tile_lon_array[bbox[2]]\n",
    "            min_lat = tile_lat_array[bbox[1]]\n",
    "            max_lat = tile_lat_array[bbox[3]]\n",
    "            geometry.append(Polygon([(min_lon,min_lat),(min_lon,max_lat),\n",
    "                                     (max_lon,max_lat),(max_lon,min_lat)]))\n",
    "            count += 1\n",
    "\n",
    "        remaining_objs_bboxes = np.array(remaining_objs_bboxes).astype(np.int32)\n",
    "        remaining_objs_bboxes = remaining_objs_bboxes.tolist()\n",
    "        #add remaining bboxes\n",
    "        for j, (char, bbox) in enumerate(zip(remaining_objs_characteristics,remaining_objs_bboxes)):\n",
    "            polygon_id.append(tile_name + \"_\" + str(count).zfill(4)) # The index is a six-digit number like '000023'.\n",
    "            tile_names.append(tile_name)\n",
    "            object_class.append(char[0])\n",
    "            merged_bbox.append(False)\n",
    "            min_lon = tile_lon_array[bbox[0]]\n",
    "            max_lon = tile_lon_array[bbox[2]]\n",
    "            min_lat = tile_lat_array[bbox[1]]\n",
    "            max_lat = tile_lat_array[bbox[3]]\n",
    "            #print(min_lon,min_lat,max_lon,max_lat)\n",
    "            geometry.append(Polygon([(min_lon,min_lat),(min_lon,max_lat),(max_lon,max_lat),(max_lon,min_lat)]))\n",
    "            count += 1\n",
    "    d = {'polygon_id': polygon_id, 'tile_names': tile_names,'object_class': object_class, 'merged_bbox': merged_bbox,'geometry': geometry}\n",
    "        #d = {'polygon_id': polygon_id, 'tile_names': tile_names,'object_class': object_class, 'merged_bbox': merged_bbox,'geometry': geometry}\n",
    "    gdf = gpd.GeoDataFrame(d)\n",
    "    #gdf.crs = \"EPSG:4326\" #assign projection\n",
    "\n",
    "    #gdf.to_file(\"file.geojson\", driver=\"GeoJSON\")  \n",
    "    return(gdf)"
   ]
  },
  {
   "cell_type": "code",
   "execution_count": 20,
   "id": "a048e1d9-5768-4aae-881f-d5ffdc553705",
   "metadata": {},
   "outputs": [
    {
     "name": "stderr",
     "output_type": "stream",
     "text": [
      "100%|██████████| 1/1 [00:00<00:00, 55.56it/s]\n"
     ]
    }
   ],
   "source": [
    "item_dim = int(512)\n",
    "tile_name = 'm_3308752_nw_16_060_20191023'\n",
    "tiles_xml_list = [tile_name+\".xml\"]\n",
    "gdf = merge_tile_annotations(tiles_xml_dir,tile_characteristics, 5, tiles_xml_list)"
   ]
  },
  {
   "cell_type": "code",
   "execution_count": 21,
   "id": "e3587415-814a-4bf3-a922-511ea6084649",
   "metadata": {},
   "outputs": [
    {
     "data": {
      "text/plain": [
       "'{\"type\": \"FeatureCollection\", \"features\": [{\"id\": \"0\", \"type\": \"Feature\", \"properties\": {\"merged_bbox\": true, \"object_class\": \"closed_roof_tank\", \"polygon_id\": \"m_3308752_nw_16_060_20191023_0000\", \"tile_names\": \"m_3308752_nw_16_060_20191023\"}, \"geometry\": {\"type\": \"Polygon\", \"coordinates\": [[[-87.58987367881312, 33.19302500967118], [-87.58987367881312, 33.1931835106383], [-87.58959777095262, 33.1931835106383], [-87.58959777095262, 33.19302500967118], [-87.58987367881312, 33.19302500967118]]]}}, {\"id\": \"1\", \"type\": \"Feature\", \"properties\": {\"merged_bbox\": true, \"object_class\": \"external_floating_roof_tank\", \"polygon_id\": \"m_3308752_nw_16_060_20191023_0001\", \"tile_names\": \"m_3308752_nw_16_060_20191023\"}, \"geometry\": {\"type\": \"Polygon\", \"coordinates\": [[[-87.60983297084852, 33.23918401353965], [-87.60983297084852, 33.2394364410058], [-87.60955119260801, 33.2394364410058], [-87.60955119260801, 33.23918401353965], [-87.60983297084852, 33.23918401353965]]]}}, {\"id\": \"2\", \"type\": \"Feature\", \"properties\": {\"merged_bbox\": true, \"object_class\": \"closed_roof_tank\", \"polygon_id\": \"m_3308752_nw_16_060_20191023_0002\", \"tile_names\": \"m_3308752_nw_16_060_20191023\"}, \"geometry\": {\"type\": \"Polygon\", \"coordinates\": [[[-87.61091312077043, 33.239225106382975], [-87.61091312077043, 33.23957146034816], [-87.6105550275898, 33.23957146034816], [-87.6105550275898, 33.239225106382975], [-87.61091312077043, 33.239225106382975]]]}}, {\"id\": \"3\", \"type\": \"Feature\", \"properties\": {\"merged_bbox\": true, \"object_class\": \"closed_roof_tank\", \"polygon_id\": \"m_3308752_nw_16_060_20191023_0003\", \"tile_names\": \"m_3308752_nw_16_060_20191023\"}, \"geometry\": {\"type\": \"Polygon\", \"coordinates\": [[[-87.61131230661114, 33.239360125725334], [-87.61131230661114, 33.239471663442934], [-87.61093073191046, 33.239471663442934], [-87.61093073191046, 33.239360125725334], [-87.61131230661114, 33.239360125725334]]]}}, {\"id\": \"4\", \"type\": \"Feature\", \"properties\": {\"merged_bbox\": true, \"object_class\": \"external_floating_roof_tank\", \"polygon_id\": \"m_3308752_nw_16_060_20191023_0004\", \"tile_names\": \"m_3308752_nw_16_060_20191023\"}, \"geometry\": {\"type\": \"Polygon\", \"coordinates\": [[[-87.61255095679333, 33.23938947775628], [-87.61255095679333, 33.239471663442934], [-87.6123102712129, 33.239471663442934], [-87.6123102712129, 33.23938947775628], [-87.61255095679333, 33.23938947775628]]]}}, {\"id\": \"5\", \"type\": \"Feature\", \"properties\": {\"merged_bbox\": true, \"object_class\": \"external_floating_roof_tank\", \"polygon_id\": \"m_3308752_nw_16_060_20191023_0005\", \"tile_names\": \"m_3308752_nw_16_060_20191023\"}, \"geometry\": {\"type\": \"Polygon\", \"coordinates\": [[[-87.60839472774596, 33.23921923597678], [-87.60839472774596, 33.239471663442934], [-87.60781943050495, 33.239471663442934], [-87.60781943050495, 33.23921923597678], [-87.60839472774596, 33.23921923597678]]]}}, {\"id\": \"6\", \"type\": \"Feature\", \"properties\": {\"merged_bbox\": true, \"object_class\": \"closed_roof_tank\", \"polygon_id\": \"m_3308752_nw_16_060_20191023_0006\", \"tile_names\": \"m_3308752_nw_16_060_20191023\"}, \"geometry\": {\"type\": \"Polygon\", \"coordinates\": [[[-87.60727348516397, 33.23940708897485], [-87.60727348516397, 33.239471663442934], [-87.60706802186361, 33.239471663442934], [-87.60706802186361, 33.23940708897485], [-87.60727348516397, 33.23940708897485]]]}}, {\"id\": \"7\", \"type\": \"Feature\", \"properties\": {\"merged_bbox\": true, \"object_class\": \"closed_roof_tank\", \"polygon_id\": \"m_3308752_nw_16_060_20191023_0007\", \"tile_names\": \"m_3308752_nw_16_060_20191023\"}, \"geometry\": {\"type\": \"Polygon\", \"coordinates\": [[[-87.61131817699115, 33.239477533849126], [-87.61131817699115, 33.23974170212766], [-87.61092486153045, 33.23974170212766], [-87.61092486153045, 33.239477533849126], [-87.61131817699115, 33.239477533849126]]]}}, {\"id\": \"8\", \"type\": \"Feature\", \"properties\": {\"merged_bbox\": true, \"object_class\": \"external_floating_roof_tank\", \"polygon_id\": \"m_3308752_nw_16_060_20191023_0008\", \"tile_names\": \"m_3308752_nw_16_060_20191023\"}, \"geometry\": {\"type\": \"Polygon\", \"coordinates\": [[[-87.60960989640812, 33.23973583172147], [-87.60960989640812, 33.239894332688586], [-87.60955119260801, 33.239894332688586], [-87.60955119260801, 33.23973583172147], [-87.60960989640812, 33.23973583172147]]]}}, {\"id\": \"9\", \"type\": \"Feature\", \"properties\": {\"merged_bbox\": true, \"object_class\": \"external_floating_roof_tank\", \"polygon_id\": \"m_3308752_nw_16_060_20191023_0009\", \"tile_names\": \"m_3308752_nw_16_060_20191023\"}, \"geometry\": {\"type\": \"Polygon\", \"coordinates\": [[[-87.609545322228, 33.23970647969052], [-87.609545322228, 33.23991194390715], [-87.60939269234773, 33.23991194390715], [-87.60939269234773, 33.23970647969052], [-87.609545322228, 33.23970647969052]]]}}, {\"id\": \"10\", \"type\": \"Feature\", \"properties\": {\"merged_bbox\": true, \"object_class\": \"external_floating_roof_tank\", \"polygon_id\": \"m_3308752_nw_16_060_20191023_0010\", \"tile_names\": \"m_3308752_nw_16_060_20191023\"}, \"geometry\": {\"type\": \"Polygon\", \"coordinates\": [[[-87.608412338886, 33.239477533849126], [-87.608412338886, 33.2397710541586], [-87.60781943050495, 33.2397710541586], [-87.60781943050495, 33.239477533849126], [-87.608412338886, 33.239477533849126]]]}}, {\"id\": \"11\", \"type\": \"Feature\", \"properties\": {\"merged_bbox\": true, \"object_class\": \"closed_roof_tank\", \"polygon_id\": \"m_3308752_nw_16_060_20191023_0011\", \"tile_names\": \"m_3308752_nw_16_060_20191023\"}, \"geometry\": {\"type\": \"Polygon\", \"coordinates\": [[[-87.60726761478396, 33.239477533849126], [-87.60726761478396, 33.23959494197292], [-87.6070562811036, 33.23959494197292], [-87.6070562811036, 33.239477533849126], [-87.60726761478396, 33.239477533849126]]]}}, {\"id\": \"12\", \"type\": \"Feature\", \"properties\": {\"merged_bbox\": true, \"object_class\": \"closed_roof_tank\", \"polygon_id\": \"m_3308752_nw_16_060_20191023_0012\", \"tile_names\": \"m_3308752_nw_16_060_20191023\"}, \"geometry\": {\"type\": \"Polygon\", \"coordinates\": [[[-87.61573857313898, 33.24435584139265], [-87.61573857313898, 33.24456717601547], [-87.61556246173868, 33.24456717601547], [-87.61556246173868, 33.24435584139265], [-87.61573857313898, 33.24435584139265]]]}}, {\"id\": \"13\", \"type\": \"Feature\", \"properties\": {\"merged_bbox\": true, \"object_class\": \"external_floating_roof_tank\", \"polygon_id\": \"m_3308752_nw_16_060_20191023_0013\", \"tile_names\": \"m_3308752_nw_16_060_20191023\"}, \"geometry\": {\"type\": \"Polygon\", \"coordinates\": [[[-87.61555659135867, 33.2443851934236], [-87.61555659135867, 33.244549564796905], [-87.61550962831858, 33.244549564796905], [-87.61550962831858, 33.2443851934236], [-87.61555659135867, 33.2443851934236]]]}}, {\"id\": \"14\", \"type\": \"Feature\", \"properties\": {\"merged_bbox\": true, \"object_class\": \"closed_roof_tank\", \"polygon_id\": \"m_3308752_nw_16_060_20191023_0014\", \"tile_names\": \"m_3308752_nw_16_060_20191023\"}, \"geometry\": {\"type\": \"Polygon\", \"coordinates\": [[[-87.61255095679333, 33.24339309477756], [-87.61255095679333, 33.24353398452611], [-87.61245703071317, 33.24353398452611], [-87.61245703071317, 33.24339309477756], [-87.61255095679333, 33.24339309477756]]]}}, {\"id\": \"15\", \"type\": \"Feature\", \"properties\": {\"merged_bbox\": false, \"object_class\": \"closed_roof_tank\", \"polygon_id\": \"m_3308752_nw_16_060_20191023_0015\", \"tile_names\": \"m_3308752_nw_16_060_20191023\"}, \"geometry\": {\"type\": \"Polygon\", \"coordinates\": [[[-87.58990303071317, 33.19324808510638], [-87.58990303071317, 33.193477030947776], [-87.5896388636127, 33.193477030947776], [-87.5896388636127, 33.19324808510638], [-87.58990303071317, 33.19324808510638]]]}}, {\"id\": \"16\", \"type\": \"Feature\", \"properties\": {\"merged_bbox\": false, \"object_class\": \"sedimentation_tank\", \"polygon_id\": \"m_3308752_nw_16_060_20191023_0016\", \"tile_names\": \"m_3308752_nw_16_060_20191023\"}, \"geometry\": {\"type\": \"Polygon\", \"coordinates\": [[[-87.59319044351899, 33.22518896518375], [-87.59319044351899, 33.225623375241774], [-87.59275016501822, 33.225623375241774], [-87.59275016501822, 33.22518896518375], [-87.59319044351899, 33.22518896518375]]]}}, {\"id\": \"17\", \"type\": \"Feature\", \"properties\": {\"merged_bbox\": false, \"object_class\": \"sedimentation_tank\", \"polygon_id\": \"m_3308752_nw_16_060_20191023_0017\", \"tile_names\": \"m_3308752_nw_16_060_20191023\"}, \"geometry\": {\"type\": \"Polygon\", \"coordinates\": [[[-87.59266210931806, 33.22517135396518], [-87.59266210931806, 33.22560576402321], [-87.59222770119729, 33.22560576402321], [-87.59222770119729, 33.22517135396518], [-87.59266210931806, 33.22517135396518]]]}}, {\"id\": \"18\", \"type\": \"Feature\", \"properties\": {\"merged_bbox\": false, \"object_class\": \"sedimentation_tank\", \"polygon_id\": \"m_3308752_nw_16_060_20191023_0018\", \"tile_names\": \"m_3308752_nw_16_060_20191023\"}, \"geometry\": {\"type\": \"Polygon\", \"coordinates\": [[[-87.59300259135867, 33.225799487427466], [-87.59300259135867, 33.22606365570599], [-87.59272081311816, 33.22606365570599], [-87.59272081311816, 33.225799487427466], [-87.59300259135867, 33.225799487427466]]]}}, {\"id\": \"19\", \"type\": \"Feature\", \"properties\": {\"merged_bbox\": false, \"object_class\": \"sedimentation_tank\", \"polygon_id\": \"m_3308752_nw_16_060_20191023_0019\", \"tile_names\": \"m_3308752_nw_16_060_20191023\"}, \"geometry\": {\"type\": \"Polygon\", \"coordinates\": [[[-87.59266797969808, 33.22578774661508], [-87.59266797969808, 33.22605191489362], [-87.59238620145757, 33.22605191489362], [-87.59238620145757, 33.22578774661508], [-87.59266797969808, 33.22578774661508]]]}}, {\"id\": \"20\", \"type\": \"Feature\", \"properties\": {\"merged_bbox\": false, \"object_class\": \"external_floating_roof_tank\", \"polygon_id\": \"m_3308752_nw_16_060_20191023_0020\", \"tile_names\": \"m_3308752_nw_16_060_20191023\"}, \"geometry\": {\"type\": \"Polygon\", \"coordinates\": [[[-87.59298498021863, 33.22613997098646], [-87.59298498021863, 33.22624563829787], [-87.59286170223841, 33.22624563829787], [-87.59286170223841, 33.22613997098646], [-87.59298498021863, 33.22613997098646]]]}}, {\"id\": \"21\", \"type\": \"Feature\", \"properties\": {\"merged_bbox\": false, \"object_class\": \"sedimentation_tank\", \"polygon_id\": \"m_3308752_nw_16_060_20191023_0021\", \"tile_names\": \"m_3308752_nw_16_060_20191023\"}, \"geometry\": {\"type\": \"Polygon\", \"coordinates\": [[[-87.59092447683499, 33.22559402321083], [-87.59092447683499, 33.22584645067698], [-87.5906544393545, 33.22584645067698], [-87.5906544393545, 33.22559402321083], [-87.59092447683499, 33.22559402321083]]]}}, {\"id\": \"22\", \"type\": \"Feature\", \"properties\": {\"merged_bbox\": false, \"object_class\": \"undefined_object\", \"polygon_id\": \"m_3308752_nw_16_060_20191023_0022\", \"tile_names\": \"m_3308752_nw_16_060_20191023\"}, \"geometry\": {\"type\": \"Polygon\", \"coordinates\": [[[-87.58687978500781, 33.2265098065764], [-87.58687978500781, 33.22675049323017], [-87.5865921363873, 33.22675049323017], [-87.5865921363873, 33.2265098065764], [-87.58687978500781, 33.2265098065764]]]}}, {\"id\": \"23\", \"type\": \"Feature\", \"properties\": {\"merged_bbox\": false, \"object_class\": \"undefined_object\", \"polygon_id\": \"m_3308752_nw_16_060_20191023_0023\", \"tile_names\": \"m_3308752_nw_16_060_20191023\"}, \"geometry\": {\"type\": \"Polygon\", \"coordinates\": [[[-87.58663909942737, 33.22647458413926], [-87.58663909942737, 33.22667417794971], [-87.5863749323269, 33.22667417794971], [-87.5863749323269, 33.22647458413926], [-87.58663909942737, 33.22647458413926]]]}}, {\"id\": \"24\", \"type\": \"Feature\", \"properties\": {\"merged_bbox\": false, \"object_class\": \"undefined_object\", \"polygon_id\": \"m_3308752_nw_16_060_20191023_0024\", \"tile_names\": \"m_3308752_nw_16_060_20191023\"}, \"geometry\": {\"type\": \"Polygon\", \"coordinates\": [[[-87.58643363612701, 33.22641000967118], [-87.58643363612701, 33.22661547388781], [-87.58615185788652, 33.22661547388781], [-87.58615185788652, 33.22641000967118], [-87.58643363612701, 33.22641000967118]]]}}, {\"id\": \"25\", \"type\": \"Feature\", \"properties\": {\"merged_bbox\": false, \"object_class\": \"water_tower\", \"polygon_id\": \"m_3308752_nw_16_060_20191023_0025\", \"tile_names\": \"m_3308752_nw_16_060_20191023\"}, \"geometry\": {\"type\": \"Polygon\", \"coordinates\": [[[-87.58167275793858, 33.23222758220503], [-87.58167275793858, 33.232468268858796], [-87.58127357209786, 33.232468268858796], [-87.58127357209786, 33.23222758220503], [-87.58167275793858, 33.23222758220503]]]}}, {\"id\": \"26\", \"type\": \"Feature\", \"properties\": {\"merged_bbox\": false, \"object_class\": \"closed_roof_tank\", \"polygon_id\": \"m_3308752_nw_16_060_20191023_0026\", \"tile_names\": \"m_3308752_nw_16_060_20191023\"}, \"geometry\": {\"type\": \"Polygon\", \"coordinates\": [[[-87.58077458979697, 33.231916450676984], [-87.58077458979697, 33.232080822050285], [-87.58056912649661, 33.232080822050285], [-87.58056912649661, 33.231916450676984], [-87.58077458979697, 33.231916450676984]]]}}, {\"id\": \"27\", \"type\": \"Feature\", \"properties\": {\"merged_bbox\": false, \"object_class\": \"closed_roof_tank\", \"polygon_id\": \"m_3308752_nw_16_060_20191023_0027\", \"tile_names\": \"m_3308752_nw_16_060_20191023\"}, \"geometry\": {\"type\": \"Polygon\", \"coordinates\": [[[-87.58082155283707, 33.23179904255319], [-87.58082155283707, 33.2319047098646], [-87.58069827485684, 33.2319047098646], [-87.58069827485684, 33.23179904255319], [-87.58082155283707, 33.23179904255319]]]}}, {\"id\": \"28\", \"type\": \"Feature\", \"properties\": {\"merged_bbox\": false, \"object_class\": \"sedimentation_tank\", \"polygon_id\": \"m_3308752_nw_16_060_20191023_0028\", \"tile_names\": \"m_3308752_nw_16_060_20191023\"}, \"geometry\": {\"type\": \"Polygon\", \"coordinates\": [[[-87.61029086048933, 33.23849130560928], [-87.61029086048933, 33.23863806576402], [-87.61013236022904, 33.23863806576402], [-87.61013236022904, 33.23849130560928], [-87.61029086048933, 33.23849130560928]]]}}, {\"id\": \"29\", \"type\": \"Feature\", \"properties\": {\"merged_bbox\": false, \"object_class\": \"sedimentation_tank\", \"polygon_id\": \"m_3308752_nw_16_060_20191023_0029\", \"tile_names\": \"m_3308752_nw_16_060_20191023\"}, \"geometry\": {\"type\": \"Polygon\", \"coordinates\": [[[-87.60978013742842, 33.23827410058027], [-87.60978013742842, 33.23844434235976], [-87.60962163716813, 33.23844434235976], [-87.60962163716813, 33.23827410058027], [-87.60978013742842, 33.23827410058027]]]}}, {\"id\": \"30\", \"type\": \"Feature\", \"properties\": {\"merged_bbox\": false, \"object_class\": \"external_floating_roof_tank\", \"polygon_id\": \"m_3308752_nw_16_060_20191023_0030\", \"tile_names\": \"m_3308752_nw_16_060_20191023\"}, \"geometry\": {\"type\": \"Polygon\", \"coordinates\": [[[-87.6102204159292, 33.23863219535783], [-87.6102204159292, 33.23890223404255], [-87.60994450806871, 33.23890223404255], [-87.60994450806871, 33.23863219535783], [-87.6102204159292, 33.23863219535783]]]}}, {\"id\": \"31\", \"type\": \"Feature\", \"properties\": {\"merged_bbox\": false, \"object_class\": \"external_floating_roof_tank\", \"polygon_id\": \"m_3308752_nw_16_060_20191023_0031\", \"tile_names\": \"m_3308752_nw_16_060_20191023\"}, \"geometry\": {\"type\": \"Polygon\", \"coordinates\": [[[-87.60984471160853, 33.23844434235976], [-87.60984471160853, 33.238702640232106], [-87.60958641488807, 33.238702640232106], [-87.60958641488807, 33.23844434235976], [-87.60984471160853, 33.23844434235976]]]}}, {\"id\": \"32\", \"type\": \"Feature\", \"properties\": {\"merged_bbox\": false, \"object_class\": \"external_floating_roof_tank\", \"polygon_id\": \"m_3308752_nw_16_060_20191023_0032\", \"tile_names\": \"m_3308752_nw_16_060_20191023\"}, \"geometry\": {\"type\": \"Polygon\", \"coordinates\": [[[-87.60933985892764, 33.23846782398452], [-87.60933985892764, 33.23872025145067], [-87.6090933029672, 33.23872025145067], [-87.6090933029672, 33.23846782398452], [-87.60933985892764, 33.23846782398452]]]}}, {\"id\": \"33\", \"type\": \"Feature\", \"properties\": {\"merged_bbox\": false, \"object_class\": \"external_floating_roof_tank\", \"polygon_id\": \"m_3308752_nw_16_060_20191023_0033\", \"tile_names\": \"m_3308752_nw_16_060_20191023\"}, \"geometry\": {\"type\": \"Polygon\", \"coordinates\": [[[-87.60932811816762, 33.238978549323015], [-87.60932811816762, 33.23924271760154], [-87.60906395106714, 33.23924271760154], [-87.60906395106714, 33.238978549323015], [-87.60932811816762, 33.238978549323015]]]}}, {\"id\": \"34\", \"type\": \"Feature\", \"properties\": {\"merged_bbox\": false, \"object_class\": \"external_floating_roof_tank\", \"polygon_id\": \"m_3308752_nw_16_060_20191023_0034\", \"tile_names\": \"m_3308752_nw_16_060_20191023\"}, \"geometry\": {\"type\": \"Polygon\", \"coordinates\": [[[-87.60878804320666, 33.2387085106383], [-87.60878804320666, 33.239119439071565], [-87.60834776470588, 33.239119439071565], [-87.60834776470588, 33.2387085106383], [-87.60878804320666, 33.2387085106383]]]}}, {\"id\": \"35\", \"type\": \"Feature\", \"properties\": {\"merged_bbox\": false, \"object_class\": \"external_floating_roof_tank\", \"polygon_id\": \"m_3308752_nw_16_060_20191023_0035\", \"tile_names\": \"m_3308752_nw_16_060_20191023\"}, \"geometry\": {\"type\": \"Polygon\", \"coordinates\": [[[-87.6074554669443, 33.23894332688588], [-87.6074554669443, 33.239119439071565], [-87.60728522592399, 33.239119439071565], [-87.60728522592399, 33.23894332688588], [-87.6074554669443, 33.23894332688588]]]}}, {\"id\": \"36\", \"type\": \"Feature\", \"properties\": {\"merged_bbox\": false, \"object_class\": \"external_floating_roof_tank\", \"polygon_id\": \"m_3308752_nw_16_060_20191023_0036\", \"tile_names\": \"m_3308752_nw_16_060_20191023\"}, \"geometry\": {\"type\": \"Polygon\", \"coordinates\": [[[-87.60718542946381, 33.23891984526112], [-87.60718542946381, 33.23909595744681], [-87.6070093180635, 33.23909595744681], [-87.6070093180635, 33.23891984526112], [-87.60718542946381, 33.23891984526112]]]}}, {\"id\": \"37\", \"type\": \"Feature\", \"properties\": {\"merged_bbox\": false, \"object_class\": \"sedimentation_tank\", \"polygon_id\": \"m_3308752_nw_16_060_20191023_0037\", \"tile_names\": \"m_3308752_nw_16_060_20191023\"}, \"geometry\": {\"type\": \"Polygon\", \"coordinates\": [[[-87.60943378500781, 33.238180174081236], [-87.60943378500781, 33.238315193423595], [-87.60928702550754, 33.238315193423595], [-87.60928702550754, 33.238180174081236], [-87.60943378500781, 33.238180174081236]]]}}, {\"id\": \"38\", \"type\": \"Feature\", \"properties\": {\"merged_bbox\": false, \"object_class\": \"sedimentation_tank\", \"polygon_id\": \"m_3308752_nw_16_060_20191023_0038\", \"tile_names\": \"m_3308752_nw_16_060_20191023\"}, \"geometry\": {\"type\": \"Polygon\", \"coordinates\": [[[-87.60927528474753, 33.23825061895551], [-87.60927528474753, 33.23837976789168], [-87.6091520067673, 33.23837976789168], [-87.6091520067673, 33.23825061895551], [-87.60927528474753, 33.23825061895551]]]}}, {\"id\": \"39\", \"type\": \"Feature\", \"properties\": {\"merged_bbox\": false, \"object_class\": \"closed_roof_tank\", \"polygon_id\": \"m_3308752_nw_16_060_20191023_0039\", \"tile_names\": \"m_3308752_nw_16_060_20191023\"}, \"geometry\": {\"type\": \"Polygon\", \"coordinates\": [[[-87.60760809682456, 33.2374111508704], [-87.60760809682456, 33.23776337524178], [-87.6072323925039, 33.23776337524178], [-87.6072323925039, 33.2374111508704], [-87.60760809682456, 33.2374111508704]]]}}, {\"id\": \"40\", \"type\": \"Feature\", \"properties\": {\"merged_bbox\": false, \"object_class\": \"closed_roof_tank\", \"polygon_id\": \"m_3308752_nw_16_060_20191023_0040\", \"tile_names\": \"m_3308752_nw_16_060_20191023\"}, \"geometry\": {\"type\": \"Polygon\", \"coordinates\": [[[-87.6072323925039, 33.237287872340424], [-87.6072323925039, 33.23755791102514], [-87.60693887350338, 33.23755791102514], [-87.60693887350338, 33.237287872340424], [-87.6072323925039, 33.237287872340424]]]}}, {\"id\": \"41\", \"type\": \"Feature\", \"properties\": {\"merged_bbox\": false, \"object_class\": \"closed_roof_tank\", \"polygon_id\": \"m_3308752_nw_16_060_20191023_0041\", \"tile_names\": \"m_3308752_nw_16_060_20191023\"}, \"geometry\": {\"type\": \"Polygon\", \"coordinates\": [[[-87.60755526340448, 33.238009932301736], [-87.60755526340448, 33.238203655705995], [-87.60732631858407, 33.238203655705995], [-87.60732631858407, 33.238009932301736], [-87.60755526340448, 33.238009932301736]]]}}, {\"id\": \"42\", \"type\": \"Feature\", \"properties\": {\"merged_bbox\": false, \"object_class\": \"closed_roof_tank\", \"polygon_id\": \"m_3308752_nw_16_060_20191023_0042\", \"tile_names\": \"m_3308752_nw_16_060_20191023\"}, \"geometry\": {\"type\": \"Polygon\", \"coordinates\": [[[-87.60756113378449, 33.23825061895551], [-87.60756113378449, 33.23844434235976], [-87.60732631858407, 33.23844434235976], [-87.60732631858407, 33.23825061895551], [-87.60756113378449, 33.23825061895551]]]}}, {\"id\": \"43\", \"type\": \"Feature\", \"properties\": {\"merged_bbox\": false, \"object_class\": \"closed_roof_tank\", \"polygon_id\": \"m_3308752_nw_16_060_20191023_0043\", \"tile_names\": \"m_3308752_nw_16_060_20191023\"}, \"geometry\": {\"type\": \"Polygon\", \"coordinates\": [[[-87.60725000364393, 33.23810972920696], [-87.60725000364393, 33.238338675048354], [-87.60699170692348, 33.238338675048354], [-87.60699170692348, 33.23810972920696], [-87.60725000364393, 33.23810972920696]]]}}, {\"id\": \"44\", \"type\": \"Feature\", \"properties\": {\"merged_bbox\": false, \"object_class\": \"closed_roof_tank\", \"polygon_id\": \"m_3308752_nw_16_060_20191023_0044\", \"tile_names\": \"m_3308752_nw_16_060_20191023\"}, \"geometry\": {\"type\": \"Polygon\", \"coordinates\": [[[-87.6070562811036, 33.238315193423595], [-87.6070562811036, 33.23847369439071], [-87.60688604008328, 33.23847369439071], [-87.60688604008328, 33.238315193423595], [-87.6070562811036, 33.238315193423595]]]}}, {\"id\": \"45\", \"type\": \"Feature\", \"properties\": {\"merged_bbox\": false, \"object_class\": \"closed_roof_tank\", \"polygon_id\": \"m_3308752_nw_16_060_20191023_0045\", \"tile_names\": \"m_3308752_nw_16_060_20191023\"}, \"geometry\": {\"type\": \"Polygon\", \"coordinates\": [[[-87.60696235502343, 33.23811559961315], [-87.60696235502343, 33.23835041586073], [-87.60670405830297, 33.23835041586073], [-87.60670405830297, 33.23811559961315], [-87.60696235502343, 33.23811559961315]]]}}, {\"id\": \"46\", \"type\": \"Feature\", \"properties\": {\"merged_bbox\": false, \"object_class\": \"closed_roof_tank\", \"polygon_id\": \"m_3308752_nw_16_060_20191023_0046\", \"tile_names\": \"m_3308752_nw_16_060_20191023\"}, \"geometry\": {\"type\": \"Polygon\", \"coordinates\": [[[-87.60681559552316, 33.238338675048354], [-87.60681559552316, 33.23846782398452], [-87.6066629656429, 33.23846782398452], [-87.6066629656429, 33.238338675048354], [-87.60681559552316, 33.238338675048354]]]}}, {\"id\": \"47\", \"type\": \"Feature\", \"properties\": {\"merged_bbox\": false, \"object_class\": \"closed_roof_tank\", \"polygon_id\": \"m_3308752_nw_16_060_20191023_0047\", \"tile_names\": \"m_3308752_nw_16_060_20191023\"}, \"geometry\": {\"type\": \"Polygon\", \"coordinates\": [[[-87.60727935554398, 33.238591102514505], [-87.60727935554398, 33.23872025145067], [-87.60713846642373, 33.23872025145067], [-87.60713846642373, 33.238591102514505], [-87.60727935554398, 33.238591102514505]]]}}, {\"id\": \"48\", \"type\": \"Feature\", \"properties\": {\"merged_bbox\": false, \"object_class\": \"closed_roof_tank\", \"polygon_id\": \"m_3308752_nw_16_060_20191023_0048\", \"tile_names\": \"m_3308752_nw_16_060_20191023\"}, \"geometry\": {\"type\": \"Polygon\", \"coordinates\": [[[-87.60686842894326, 33.23863806576402], [-87.60686842894326, 33.23873786266925], [-87.60676863248308, 33.23873786266925], [-87.60676863248308, 33.23863806576402], [-87.60686842894326, 33.23863806576402]]]}}, {\"id\": \"49\", \"type\": \"Feature\", \"properties\": {\"merged_bbox\": false, \"object_class\": \"closed_roof_tank\", \"polygon_id\": \"m_3308752_nw_16_060_20191023_0049\", \"tile_names\": \"m_3308752_nw_16_060_20191023\"}, \"geometry\": {\"type\": \"Polygon\", \"coordinates\": [[[-87.60687429932327, 33.23873786266925], [-87.60687429932327, 33.238843529980656], [-87.60676863248308, 33.238843529980656], [-87.60676863248308, 33.23873786266925], [-87.60687429932327, 33.23873786266925]]]}}, {\"id\": \"50\", \"type\": \"Feature\", \"properties\": {\"merged_bbox\": false, \"object_class\": \"closed_roof_tank\", \"polygon_id\": \"m_3308752_nw_16_060_20191023_0050\", \"tile_names\": \"m_3308752_nw_16_060_20191023\"}, \"geometry\": {\"type\": \"Polygon\", \"coordinates\": [[[-87.60676276210307, 33.23873786266925], [-87.60676276210307, 33.23884940038685], [-87.6066629656429, 33.23884940038685], [-87.6066629656429, 33.23873786266925], [-87.60676276210307, 33.23873786266925]]]}}, {\"id\": \"51\", \"type\": \"Feature\", \"properties\": {\"merged_bbox\": false, \"object_class\": \"closed_roof_tank\", \"polygon_id\": \"m_3308752_nw_16_060_20191023_0051\", \"tile_names\": \"m_3308752_nw_16_060_20191023\"}, \"geometry\": {\"type\": \"Polygon\", \"coordinates\": [[[-87.60676863248308, 33.23863806576402], [-87.60676863248308, 33.23873786266925], [-87.6066688360229, 33.23873786266925], [-87.6066688360229, 33.23863806576402], [-87.60676863248308, 33.23863806576402]]]}}, {\"id\": \"52\", \"type\": \"Feature\", \"properties\": {\"merged_bbox\": false, \"object_class\": \"closed_roof_tank\", \"polygon_id\": \"m_3308752_nw_16_060_20191023_0052\", \"tile_names\": \"m_3308752_nw_16_060_20191023\"}, \"geometry\": {\"type\": \"Polygon\", \"coordinates\": [[[-87.60728522592399, 33.23918401353965], [-87.60728522592399, 33.23937186653772], [-87.60707976262363, 33.23937186653772], [-87.60707976262363, 33.23918401353965], [-87.60728522592399, 33.23918401353965]]]}}, {\"id\": \"53\", \"type\": \"Feature\", \"properties\": {\"merged_bbox\": false, \"object_class\": \"narrow_closed_roof_tank\", \"polygon_id\": \"m_3308752_nw_16_060_20191023_0053\", \"tile_names\": \"m_3308752_nw_16_060_20191023\"}, \"geometry\": {\"type\": \"Polygon\", \"coordinates\": [[[-87.60690365122332, 33.23890810444874], [-87.60690365122332, 33.238978549323015], [-87.60682733628319, 33.238978549323015], [-87.60682733628319, 33.23890810444874], [-87.60690365122332, 33.23890810444874]]]}}, {\"id\": \"54\", \"type\": \"Feature\", \"properties\": {\"merged_bbox\": false, \"object_class\": \"narrow_closed_roof_tank\", \"polygon_id\": \"m_3308752_nw_16_060_20191023_0054\", \"tile_names\": \"m_3308752_nw_16_060_20191023\"}, \"geometry\": {\"type\": \"Polygon\", \"coordinates\": [[[-87.60690952160333, 33.238978549323015], [-87.60690952160333, 33.23904899419729], [-87.6068332066632, 33.23904899419729], [-87.6068332066632, 33.238978549323015], [-87.60690952160333, 33.238978549323015]]]}}, {\"id\": \"55\", \"type\": \"Feature\", \"properties\": {\"merged_bbox\": false, \"object_class\": \"narrow_closed_roof_tank\", \"polygon_id\": \"m_3308752_nw_16_060_20191023_0055\", \"tile_names\": \"m_3308752_nw_16_060_20191023\"}, \"geometry\": {\"type\": \"Polygon\", \"coordinates\": [[[-87.60682733628319, 33.238984419729206], [-87.60682733628319, 33.23905486460348], [-87.60676276210307, 33.23905486460348], [-87.60676276210307, 33.238984419729206], [-87.60682733628319, 33.238984419729206]]]}}, {\"id\": \"56\", \"type\": \"Feature\", \"properties\": {\"merged_bbox\": false, \"object_class\": \"narrow_closed_roof_tank\", \"polygon_id\": \"m_3308752_nw_16_060_20191023_0056\", \"tile_names\": \"m_3308752_nw_16_060_20191023\"}, \"geometry\": {\"type\": \"Polygon\", \"coordinates\": [[[-87.60682733628319, 33.23890810444874], [-87.60682733628319, 33.238984419729206], [-87.60675689172305, 33.238984419729206], [-87.60675689172305, 33.23890810444874], [-87.60682733628319, 33.23890810444874]]]}}, {\"id\": \"57\", \"type\": \"Feature\", \"properties\": {\"merged_bbox\": false, \"object_class\": \"external_floating_roof_tank\", \"polygon_id\": \"m_3308752_nw_16_060_20191023_0057\", \"tile_names\": \"m_3308752_nw_16_060_20191023\"}, \"geometry\": {\"type\": \"Polygon\", \"coordinates\": [[[-87.60759635606455, 33.23857349129594], [-87.60759635606455, 33.23873786266925], [-87.60741437428422, 33.23873786266925], [-87.60741437428422, 33.23857349129594], [-87.60759635606455, 33.23857349129594]]]}}, {\"id\": \"58\", \"type\": \"Feature\", \"properties\": {\"merged_bbox\": false, \"object_class\": \"closed_roof_tank\", \"polygon_id\": \"m_3308752_nw_16_060_20191023_0058\", \"tile_names\": \"m_3308752_nw_16_060_20191023\"}, \"geometry\": {\"type\": \"Polygon\", \"coordinates\": [[[-87.60553585268089, 33.236900425531914], [-87.60553585268089, 33.237287872340424], [-87.60511905570016, 33.237287872340424], [-87.60511905570016, 33.236900425531914], [-87.60553585268089, 33.236900425531914]]]}}, {\"id\": \"59\", \"type\": \"Feature\", \"properties\": {\"merged_bbox\": false, \"object_class\": \"closed_roof_tank\", \"polygon_id\": \"m_3308752_nw_16_060_20191023_0059\", \"tile_names\": \"m_3308752_nw_16_060_20191023\"}, \"geometry\": {\"type\": \"Polygon\", \"coordinates\": [[[-87.60570022332118, 33.237645967117984], [-87.60570022332118, 33.237816208897485], [-87.60550063040083, 33.237816208897485], [-87.60550063040083, 33.237645967117984], [-87.60570022332118, 33.237645967117984]]]}}, {\"id\": \"60\", \"type\": \"Feature\", \"properties\": {\"merged_bbox\": false, \"object_class\": \"closed_roof_tank\", \"polygon_id\": \"m_3308752_nw_16_060_20191023_0060\", \"tile_names\": \"m_3308752_nw_16_060_20191023\"}, \"geometry\": {\"type\": \"Polygon\", \"coordinates\": [[[-87.6054771488808, 33.23764009671179], [-87.6054771488808, 33.23783382011605], [-87.60527168558042, 33.23783382011605], [-87.60527168558042, 33.23764009671179], [-87.6054771488808, 33.23764009671179]]]}}, {\"id\": \"61\", \"type\": \"Feature\", \"properties\": {\"merged_bbox\": false, \"object_class\": \"closed_roof_tank\", \"polygon_id\": \"m_3308752_nw_16_060_20191023_0061\", \"tile_names\": \"m_3308752_nw_16_060_20191023\"}, \"geometry\": {\"type\": \"Polygon\", \"coordinates\": [[[-87.60584111244144, 33.23793361702128], [-87.60584111244144, 33.238062765957444], [-87.60571196408121, 33.238062765957444], [-87.60571196408121, 33.23793361702128], [-87.60584111244144, 33.23793361702128]]]}}, {\"id\": \"62\", \"type\": \"Feature\", \"properties\": {\"merged_bbox\": false, \"object_class\": \"closed_roof_tank\", \"polygon_id\": \"m_3308752_nw_16_060_20191023_0062\", \"tile_names\": \"m_3308752_nw_16_060_20191023\"}, \"geometry\": {\"type\": \"Polygon\", \"coordinates\": [[[-87.60584111244144, 33.238068636363636], [-87.60584111244144, 33.238180174081236], [-87.60571196408121, 33.238180174081236], [-87.60571196408121, 33.238068636363636], [-87.60584111244144, 33.238068636363636]]]}}, {\"id\": \"63\", \"type\": \"Feature\", \"properties\": {\"merged_bbox\": false, \"object_class\": \"closed_roof_tank\", \"polygon_id\": \"m_3308752_nw_16_060_20191023_0063\", \"tile_names\": \"m_3308752_nw_16_060_20191023\"}, \"geometry\": {\"type\": \"Polygon\", \"coordinates\": [[[-87.60585285320145, 33.23818604448743], [-87.60585285320145, 33.23829758220503], [-87.60572370484122, 33.23829758220503], [-87.60572370484122, 33.23818604448743], [-87.60585285320145, 33.23818604448743]]]}}, {\"id\": \"64\", \"type\": \"Feature\", \"properties\": {\"merged_bbox\": false, \"object_class\": \"closed_roof_tank\", \"polygon_id\": \"m_3308752_nw_16_060_20191023_0064\", \"tile_names\": \"m_3308752_nw_16_060_20191023\"}, \"geometry\": {\"type\": \"Polygon\", \"coordinates\": [[[-87.60584698282145, 33.238285841392646], [-87.60584698282145, 33.23840911992263], [-87.60571196408121, 33.23840911992263], [-87.60571196408121, 33.238285841392646], [-87.60584698282145, 33.238285841392646]]]}}, {\"id\": \"65\", \"type\": \"Feature\", \"properties\": {\"merged_bbox\": false, \"object_class\": \"closed_roof_tank\", \"polygon_id\": \"m_3308752_nw_16_060_20191023_0065\", \"tile_names\": \"m_3308752_nw_16_060_20191023\"}, \"geometry\": {\"type\": \"Polygon\", \"coordinates\": [[[-87.60569435294117, 33.23830345261121], [-87.60569435294117, 33.23841499032882], [-87.60557694534097, 33.23841499032882], [-87.60557694534097, 33.23830345261121], [-87.60569435294117, 33.23830345261121]]]}}, {\"id\": \"66\", \"type\": \"Feature\", \"properties\": {\"merged_bbox\": false, \"object_class\": \"closed_roof_tank\", \"polygon_id\": \"m_3308752_nw_16_060_20191023_0066\", \"tile_names\": \"m_3308752_nw_16_060_20191023\"}, \"geometry\": {\"type\": \"Polygon\", \"coordinates\": [[[-87.6057060937012, 33.23818604448743], [-87.6057060937012, 33.23829758220503], [-87.60557694534097, 33.23829758220503], [-87.60557694534097, 33.23818604448743], [-87.6057060937012, 33.23818604448743]]]}}, {\"id\": \"67\", \"type\": \"Feature\", \"properties\": {\"merged_bbox\": false, \"object_class\": \"closed_roof_tank\", \"polygon_id\": \"m_3308752_nw_16_060_20191023_0067\", \"tile_names\": \"m_3308752_nw_16_060_20191023\"}, \"geometry\": {\"type\": \"Polygon\", \"coordinates\": [[[-87.60570022332118, 33.238062765957444], [-87.60570022332118, 33.238180174081236], [-87.60557694534097, 33.238180174081236], [-87.60557694534097, 33.238062765957444], [-87.60570022332118, 33.238062765957444]]]}}, {\"id\": \"68\", \"type\": \"Feature\", \"properties\": {\"merged_bbox\": false, \"object_class\": \"closed_roof_tank\", \"polygon_id\": \"m_3308752_nw_16_060_20191023_0068\", \"tile_names\": \"m_3308752_nw_16_060_20191023\"}, \"geometry\": {\"type\": \"Polygon\", \"coordinates\": [[[-87.60570022332118, 33.23794535783365], [-87.60570022332118, 33.238062765957444], [-87.60557694534097, 33.238062765957444], [-87.60557694534097, 33.23794535783365], [-87.60570022332118, 33.23794535783365]]]}}, {\"id\": \"69\", \"type\": \"Feature\", \"properties\": {\"merged_bbox\": false, \"object_class\": \"closed_roof_tank\", \"polygon_id\": \"m_3308752_nw_16_060_20191023_0069\", \"tile_names\": \"m_3308752_nw_16_060_20191023\"}, \"geometry\": {\"type\": \"Polygon\", \"coordinates\": [[[-87.60541257470068, 33.23805102514507], [-87.60541257470068, 33.23815669245648], [-87.60531864862051, 33.23815669245648], [-87.60531864862051, 33.23805102514507], [-87.60541257470068, 33.23805102514507]]]}}, {\"id\": \"70\", \"type\": \"Feature\", \"properties\": {\"merged_bbox\": false, \"object_class\": \"closed_roof_tank\", \"polygon_id\": \"m_3308752_nw_16_060_20191023_0070\", \"tile_names\": \"m_3308752_nw_16_060_20191023\"}, \"geometry\": {\"type\": \"Polygon\", \"coordinates\": [[[-87.60552411192087, 33.23804515473888], [-87.60552411192087, 33.238144951644095], [-87.6054243154607, 33.238144951644095], [-87.6054243154607, 33.23804515473888], [-87.60552411192087, 33.23804515473888]]]}}, {\"id\": \"71\", \"type\": \"Feature\", \"properties\": {\"merged_bbox\": false, \"object_class\": \"closed_roof_tank\", \"polygon_id\": \"m_3308752_nw_16_060_20191023_0071\", \"tile_names\": \"m_3308752_nw_16_060_20191023\"}, \"geometry\": {\"type\": \"Polygon\", \"coordinates\": [[[-87.60489011087975, 33.2382564893617], [-87.60489011087975, 33.23861458413926], [-87.60447918427901, 33.23861458413926], [-87.60447918427901, 33.2382564893617], [-87.60489011087975, 33.2382564893617]]]}}, {\"id\": \"72\", \"type\": \"Feature\", \"properties\": {\"merged_bbox\": false, \"object_class\": \"narrow_closed_roof_tank\", \"polygon_id\": \"m_3308752_nw_16_060_20191023_0072\", \"tile_names\": \"m_3308752_nw_16_060_20191023\"}, \"geometry\": {\"type\": \"Polygon\", \"coordinates\": [[[-87.60614050182197, 33.239090087040616], [-87.60614050182197, 33.2391546615087], [-87.60605831650182, 33.2391546615087], [-87.60605831650182, 33.239090087040616], [-87.60614050182197, 33.239090087040616]]]}}, {\"id\": \"73\", \"type\": \"Feature\", \"properties\": {\"merged_bbox\": false, \"object_class\": \"narrow_closed_roof_tank\", \"polygon_id\": \"m_3308752_nw_16_060_20191023_0073\", \"tile_names\": \"m_3308752_nw_16_060_20191023\"}, \"geometry\": {\"type\": \"Polygon\", \"coordinates\": [[[-87.60619333524205, 33.23916053191489], [-87.60619333524205, 33.23923684719536], [-87.60611114992192, 33.23923684719536], [-87.60611114992192, 33.23916053191489], [-87.60619333524205, 33.23916053191489]]]}}, {\"id\": \"74\", \"type\": \"Feature\", \"properties\": {\"merged_bbox\": false, \"object_class\": \"narrow_closed_roof_tank\", \"polygon_id\": \"m_3308752_nw_16_060_20191023_0074\", \"tile_names\": \"m_3308752_nw_16_060_20191023\"}, \"geometry\": {\"type\": \"Polygon\", \"coordinates\": [[[-87.60621094638209, 33.239283810444874], [-87.60621094638209, 33.23933077369439], [-87.60614637220198, 33.23933077369439], [-87.60614637220198, 33.239283810444874], [-87.60621094638209, 33.239283810444874]]]}}, {\"id\": \"75\", \"type\": \"Feature\", \"properties\": {\"merged_bbox\": false, \"object_class\": \"narrow_closed_roof_tank\", \"polygon_id\": \"m_3308752_nw_16_060_20191023_0075\", \"tile_names\": \"m_3308752_nw_16_060_20191023\"}, \"geometry\": {\"type\": \"Polygon\", \"coordinates\": [[[-87.6062168167621, 33.239225106382975], [-87.6062168167621, 33.23927206963249], [-87.60615224258198, 33.23927206963249], [-87.60615224258198, 33.239225106382975], [-87.6062168167621, 33.239225106382975]]]}}, {\"id\": \"76\", \"type\": \"Feature\", \"properties\": {\"merged_bbox\": false, \"object_class\": \"narrow_closed_roof_tank\", \"polygon_id\": \"m_3308752_nw_16_060_20191023_0076\", \"tile_names\": \"m_3308752_nw_16_060_20191023\"}, \"geometry\": {\"type\": \"Polygon\", \"coordinates\": [[[-87.60615224258198, 33.239230976789166], [-87.60615224258198, 33.23927794003868], [-87.60609940916189, 33.23927794003868], [-87.60609940916189, 33.239230976789166], [-87.60615224258198, 33.239230976789166]]]}}, {\"id\": \"77\", \"type\": \"Feature\", \"properties\": {\"merged_bbox\": false, \"object_class\": \"narrow_closed_roof_tank\", \"polygon_id\": \"m_3308752_nw_16_060_20191023_0077\", \"tile_names\": \"m_3308752_nw_16_060_20191023\"}, \"geometry\": {\"type\": \"Polygon\", \"coordinates\": [[[-87.60615811296199, 33.239260328820116], [-87.60615811296199, 33.2393249032882], [-87.60609353878188, 33.2393249032882], [-87.60609353878188, 33.239260328820116], [-87.60615811296199, 33.239260328820116]]]}}, {\"id\": \"78\", \"type\": \"Feature\", \"properties\": {\"merged_bbox\": false, \"object_class\": \"narrow_closed_roof_tank\", \"polygon_id\": \"m_3308752_nw_16_060_20191023_0078\", \"tile_names\": \"m_3308752_nw_16_060_20191023\"}, \"geometry\": {\"type\": \"Polygon\", \"coordinates\": [[[-87.60602309422175, 33.23912530947776], [-87.60602309422175, 33.239172272727274], [-87.60597026080167, 33.239172272727274], [-87.60597026080167, 33.23912530947776], [-87.60602309422175, 33.23912530947776]]]}}, {\"id\": \"79\", \"type\": \"Feature\", \"properties\": {\"merged_bbox\": false, \"object_class\": \"narrow_closed_roof_tank\", \"polygon_id\": \"m_3308752_nw_16_060_20191023_0079\", \"tile_names\": \"m_3308752_nw_16_060_20191023\"}, \"geometry\": {\"type\": \"Polygon\", \"coordinates\": [[[-87.60597026080167, 33.23912530947776], [-87.60597026080167, 33.23917814313346], [-87.60591155700156, 33.23917814313346], [-87.60591155700156, 33.23912530947776], [-87.60597026080167, 33.23912530947776]]]}}, {\"id\": \"80\", \"type\": \"Feature\", \"properties\": {\"merged_bbox\": false, \"object_class\": \"narrow_closed_roof_tank\", \"polygon_id\": \"m_3308752_nw_16_060_20191023_0080\", \"tile_names\": \"m_3308752_nw_16_060_20191023\"}, \"geometry\": {\"type\": \"Polygon\", \"coordinates\": [[[-87.60591742738157, 33.239113568665374], [-87.60591742738157, 33.239172272727274], [-87.60586459396147, 33.239172272727274], [-87.60586459396147, 33.239113568665374], [-87.60591742738157, 33.239113568665374]]]}}, {\"id\": \"81\", \"type\": \"Feature\", \"properties\": {\"merged_bbox\": false, \"object_class\": \"closed_roof_tank\", \"polygon_id\": \"m_3308752_nw_16_060_20191023_0081\", \"tile_names\": \"m_3308752_nw_16_060_20191023\"}, \"geometry\": {\"type\": \"Polygon\", \"coordinates\": [[[-87.60585872358146, 33.239090087040616], [-87.60585872358146, 33.23918988394584], [-87.6057706678813, 33.23918988394584], [-87.6057706678813, 33.239090087040616], [-87.60585872358146, 33.239090087040616]]]}}, {\"id\": \"82\", \"type\": \"Feature\", \"properties\": {\"merged_bbox\": false, \"object_class\": \"narrow_closed_roof_tank\", \"polygon_id\": \"m_3308752_nw_16_060_20191023_0082\", \"tile_names\": \"m_3308752_nw_16_060_20191023\"}, \"geometry\": {\"type\": \"Polygon\", \"coordinates\": [[[-87.60598200156169, 33.23924271760154], [-87.60598200156169, 33.23930729206963], [-87.60592329776158, 33.23930729206963], [-87.60592329776158, 33.23924271760154], [-87.60598200156169, 33.23924271760154]]]}}, {\"id\": \"83\", \"type\": \"Feature\", \"properties\": {\"merged_bbox\": false, \"object_class\": \"narrow_closed_roof_tank\", \"polygon_id\": \"m_3308752_nw_16_060_20191023_0083\", \"tile_names\": \"m_3308752_nw_16_060_20191023\"}, \"geometry\": {\"type\": \"Polygon\", \"coordinates\": [[[-87.60592329776158, 33.239172272727274], [-87.60592329776158, 33.23924271760154], [-87.60585285320145, 33.23924271760154], [-87.60585285320145, 33.239172272727274], [-87.60592329776158, 33.239172272727274]]]}}, {\"id\": \"84\", \"type\": \"Feature\", \"properties\": {\"merged_bbox\": false, \"object_class\": \"narrow_closed_roof_tank\", \"polygon_id\": \"m_3308752_nw_16_060_20191023_0084\", \"tile_names\": \"m_3308752_nw_16_060_20191023\"}, \"geometry\": {\"type\": \"Polygon\", \"coordinates\": [[[-87.60592916814159, 33.23923684719536], [-87.60592916814159, 33.23930142166344], [-87.60585285320145, 33.23930142166344], [-87.60585285320145, 33.23923684719536], [-87.60592916814159, 33.23923684719536]]]}}, {\"id\": \"85\", \"type\": \"Feature\", \"properties\": {\"merged_bbox\": false, \"object_class\": \"narrow_closed_roof_tank\", \"polygon_id\": \"m_3308752_nw_16_060_20191023_0085\", \"tile_names\": \"m_3308752_nw_16_060_20191023\"}, \"geometry\": {\"type\": \"Polygon\", \"coordinates\": [[[-87.60591742738157, 33.23930729206963], [-87.60591742738157, 33.239365996131525], [-87.60585285320145, 33.239365996131525], [-87.60585285320145, 33.23930729206963], [-87.60591742738157, 33.23930729206963]]]}}, {\"id\": \"86\", \"type\": \"Feature\", \"properties\": {\"merged_bbox\": false, \"object_class\": \"narrow_closed_roof_tank\", \"polygon_id\": \"m_3308752_nw_16_060_20191023_0086\", \"tile_names\": \"m_3308752_nw_16_060_20191023\"}, \"geometry\": {\"type\": \"Polygon\", \"coordinates\": [[[-87.60592916814159, 33.23934251450677], [-87.60592916814159, 33.239401218568666], [-87.60584698282145, 33.239401218568666], [-87.60584698282145, 33.23934251450677], [-87.60592916814159, 33.23934251450677]]]}}, {\"id\": \"87\", \"type\": \"Feature\", \"properties\": {\"merged_bbox\": false, \"object_class\": \"narrow_closed_roof_tank\", \"polygon_id\": \"m_3308752_nw_16_060_20191023_0087\", \"tile_names\": \"m_3308752_nw_16_060_20191023\"}, \"geometry\": {\"type\": \"Polygon\", \"coordinates\": [[[-87.60594677928162, 33.239395348162475], [-87.60594677928162, 33.23945992263056], [-87.60585285320145, 33.23945992263056], [-87.60585285320145, 33.239395348162475], [-87.60594677928162, 33.239395348162475]]]}}, {\"id\": \"88\", \"type\": \"Feature\", \"properties\": {\"merged_bbox\": false, \"object_class\": \"closed_roof_tank\", \"polygon_id\": \"m_3308752_nw_16_060_20191023_0088\", \"tile_names\": \"m_3308752_nw_16_060_20191023\"}, \"geometry\": {\"type\": \"Polygon\", \"coordinates\": [[[-87.61746446486205, 33.24175525145068], [-87.61746446486205, 33.24226010638298], [-87.61694787142113, 33.24226010638298], [-87.61694787142113, 33.24175525145068], [-87.61746446486205, 33.24175525145068]]]}}, {\"id\": \"89\", \"type\": \"Feature\", \"properties\": {\"merged_bbox\": false, \"object_class\": \"external_floating_roof_tank\", \"polygon_id\": \"m_3308752_nw_16_060_20191023_0089\", \"tile_names\": \"m_3308752_nw_16_060_20191023\"}, \"geometry\": {\"type\": \"Polygon\", \"coordinates\": [[[-87.61610840707964, 33.24127974854932], [-87.61610840707964, 33.24180221470019], [-87.61559768401874, 33.24180221470019], [-87.61559768401874, 33.24127974854932], [-87.61610840707964, 33.24127974854932]]]}}, {\"id\": \"90\", \"type\": \"Feature\", \"properties\": {\"merged_bbox\": false, \"object_class\": \"external_floating_roof_tank\", \"polygon_id\": \"m_3308752_nw_16_060_20191023_0090\", \"tile_names\": \"m_3308752_nw_16_060_20191023\"}, \"geometry\": {\"type\": \"Polygon\", \"coordinates\": [[[-87.61464081207704, 33.240751411992264], [-87.61464081207704, 33.241056673114116], [-87.61430033003644, 33.241056673114116], [-87.61430033003644, 33.240751411992264], [-87.61464081207704, 33.240751411992264]]]}}, {\"id\": \"91\", \"type\": \"Feature\", \"properties\": {\"merged_bbox\": false, \"object_class\": \"external_floating_roof_tank\", \"polygon_id\": \"m_3308752_nw_16_060_20191023_0091\", \"tile_names\": \"m_3308752_nw_16_060_20191023\"}, \"geometry\": {\"type\": \"Polygon\", \"coordinates\": [[[-87.61430620041645, 33.241637843326885], [-87.61430620041645, 33.24211921663443], [-87.61380721811557, 33.24211921663443], [-87.61380721811557, 33.241637843326885], [-87.61430620041645, 33.241637843326885]]]}}, {\"id\": \"92\", \"type\": \"Feature\", \"properties\": {\"merged_bbox\": false, \"object_class\": \"closed_roof_tank\", \"polygon_id\": \"m_3308752_nw_16_060_20191023_0092\", \"tile_names\": \"m_3308752_nw_16_060_20191023\"}, \"geometry\": {\"type\": \"Polygon\", \"coordinates\": [[[-87.61393636647578, 33.24120930367505], [-87.61393636647578, 33.24142063829787], [-87.6137132920354, 33.24142063829787], [-87.6137132920354, 33.24120930367505], [-87.61393636647578, 33.24120930367505]]]}}, {\"id\": \"93\", \"type\": \"Feature\", \"properties\": {\"merged_bbox\": false, \"object_class\": \"external_floating_roof_tank\", \"polygon_id\": \"m_3308752_nw_16_060_20191023_0093\", \"tile_names\": \"m_3308752_nw_16_060_20191023\"}, \"geometry\": {\"type\": \"Polygon\", \"coordinates\": [[[-87.61104813951067, 33.240587040618955], [-87.61104813951067, 33.24090991295938], [-87.61070178709005, 33.24090991295938], [-87.61070178709005, 33.240587040618955], [-87.61104813951067, 33.240587040618955]]]}}, {\"id\": \"94\", \"type\": \"Feature\", \"properties\": {\"merged_bbox\": false, \"object_class\": \"sedimentation_tank\", \"polygon_id\": \"m_3308752_nw_16_060_20191023_0094\", \"tile_names\": \"m_3308752_nw_16_060_20191023\"}, \"geometry\": {\"type\": \"Polygon\", \"coordinates\": [[[-87.61175258511192, 33.23990020309478], [-87.61175258511192, 33.23998825918762], [-87.61166452941175, 33.23998825918762], [-87.61166452941175, 33.23990020309478], [-87.61175258511192, 33.23990020309478]]]}}, {\"id\": \"95\", \"type\": \"Feature\", \"properties\": {\"merged_bbox\": false, \"object_class\": \"closed_roof_tank\", \"polygon_id\": \"m_3308752_nw_16_060_20191023_0095\", \"tile_names\": \"m_3308752_nw_16_060_20191023\"}, \"geometry\": {\"type\": \"Polygon\", \"coordinates\": [[[-87.6103906569495, 33.24021720502901], [-87.6103906569495, 33.24059291102514], [-87.6099973414888, 33.24059291102514], [-87.6099973414888, 33.24021720502901], [-87.6103906569495, 33.24021720502901]]]}}, {\"id\": \"96\", \"type\": \"Feature\", \"properties\": {\"merged_bbox\": false, \"object_class\": \"closed_roof_tank\", \"polygon_id\": \"m_3308752_nw_16_060_20191023_0096\", \"tile_names\": \"m_3308752_nw_16_060_20191023\"}, \"geometry\": {\"type\": \"Polygon\", \"coordinates\": [[[-87.61079571317022, 33.241332582205025], [-87.61079571317022, 33.2416848065764], [-87.61042000884956, 33.2416848065764], [-87.61042000884956, 33.241332582205025], [-87.61079571317022, 33.241332582205025]]]}}, {\"id\": \"97\", \"type\": \"Feature\", \"properties\": {\"merged_bbox\": false, \"object_class\": \"closed_roof_tank\", \"polygon_id\": \"m_3308752_nw_16_060_20191023_0097\", \"tile_names\": \"m_3308752_nw_16_060_20191023\"}, \"geometry\": {\"type\": \"Polygon\", \"coordinates\": [[[-87.61009126756898, 33.24096274661508], [-87.61009126756898, 33.241332582205025], [-87.6097155632483, 33.241332582205025], [-87.6097155632483, 33.24096274661508], [-87.61009126756898, 33.24096274661508]]]}}, {\"id\": \"98\", \"type\": \"Feature\", \"properties\": {\"merged_bbox\": false, \"object_class\": \"closed_roof_tank\", \"polygon_id\": \"m_3308752_nw_16_060_20191023_0098\", \"tile_names\": \"m_3308752_nw_16_060_20191023\"}, \"geometry\": {\"type\": \"Polygon\", \"coordinates\": [[[-87.61068417595003, 33.24079837524177], [-87.61068417595003, 33.24096274661508], [-87.61051393492973, 33.24096274661508], [-87.61051393492973, 33.24079837524177], [-87.61068417595003, 33.24079837524177]]]}}, {\"id\": \"99\", \"type\": \"Feature\", \"properties\": {\"merged_bbox\": false, \"object_class\": \"closed_roof_tank\", \"polygon_id\": \"m_3308752_nw_16_060_20191023_0099\", \"tile_names\": \"m_3308752_nw_16_060_20191023\"}, \"geometry\": {\"type\": \"Polygon\", \"coordinates\": [[[-87.6110070468506, 33.241050802707925], [-87.6110070468506, 33.241138858800774], [-87.61091312077043, 33.241138858800774], [-87.61091312077043, 33.241050802707925], [-87.6110070468506, 33.241050802707925]]]}}, {\"id\": \"100\", \"type\": \"Feature\", \"properties\": {\"merged_bbox\": false, \"object_class\": \"closed_roof_tank\", \"polygon_id\": \"m_3308752_nw_16_060_20191023_0100\", \"tile_names\": \"m_3308752_nw_16_060_20191023\"}, \"geometry\": {\"type\": \"Polygon\", \"coordinates\": [[[-87.6113475288912, 33.240199593810445], [-87.6113475288912, 33.24037570599613], [-87.61116554711087, 33.24037570599613], [-87.61116554711087, 33.240199593810445], [-87.6113475288912, 33.240199593810445]]]}}, {\"id\": \"101\", \"type\": \"Feature\", \"properties\": {\"merged_bbox\": false, \"object_class\": \"closed_roof_tank\", \"polygon_id\": \"m_3308752_nw_16_060_20191023_0101\", \"tile_names\": \"m_3308752_nw_16_060_20191023\"}, \"geometry\": {\"type\": \"Polygon\", \"coordinates\": [[[-87.61110684331078, 33.24008218568665], [-87.61110684331078, 33.24026416827853], [-87.61092486153045, 33.24026416827853], [-87.61092486153045, 33.24008218568665], [-87.61110684331078, 33.24008218568665]]]}}, {\"id\": \"102\", \"type\": \"Feature\", \"properties\": {\"merged_bbox\": false, \"object_class\": \"closed_roof_tank\", \"polygon_id\": \"m_3308752_nw_16_060_20191023_0102\", \"tile_names\": \"m_3308752_nw_16_060_20191023\"}, \"geometry\": {\"type\": \"Polygon\", \"coordinates\": [[[-87.6105550275898, 33.23962429400387], [-87.6105550275898, 33.239999999999995], [-87.61014410098906, 33.239999999999995], [-87.61014410098906, 33.23962429400387], [-87.6105550275898, 33.23962429400387]]]}}, {\"id\": \"103\", \"type\": \"Feature\", \"properties\": {\"merged_bbox\": false, \"object_class\": \"closed_roof_tank\", \"polygon_id\": \"m_3308752_nw_16_060_20191023_0103\", \"tile_names\": \"m_3308752_nw_16_060_20191023\"}, \"geometry\": {\"type\": \"Polygon\", \"coordinates\": [[[-87.61172323321186, 33.239559719535784], [-87.61172323321186, 33.2399412959381], [-87.61132404737116, 33.2399412959381], [-87.61132404737116, 33.239559719535784], [-87.61172323321186, 33.239559719535784]]]}}, {\"id\": \"104\", \"type\": \"Feature\", \"properties\": {\"merged_bbox\": false, \"object_class\": \"external_floating_roof_tank\", \"polygon_id\": \"m_3308752_nw_16_060_20191023_0104\", \"tile_names\": \"m_3308752_nw_16_060_20191023\"}, \"geometry\": {\"type\": \"Polygon\", \"coordinates\": [[[-87.60924006246746, 33.24070444874275], [-87.60924006246746, 33.24090991295938], [-87.60901698802707, 33.24090991295938], [-87.60901698802707, 33.24070444874275], [-87.60924006246746, 33.24070444874275]]]}}, {\"id\": \"105\", \"type\": \"Feature\", \"properties\": {\"merged_bbox\": false, \"object_class\": \"external_floating_roof_tank\", \"polygon_id\": \"m_3308752_nw_16_060_20191023_0105\", \"tile_names\": \"m_3308752_nw_16_060_20191023\"}, \"geometry\": {\"type\": \"Polygon\", \"coordinates\": [[[-87.6087528209266, 33.24051659574468], [-87.6087528209266, 33.240751411992264], [-87.60850626496617, 33.240751411992264], [-87.60850626496617, 33.24051659574468], [-87.6087528209266, 33.24051659574468]]]}}, {\"id\": \"106\", \"type\": \"Feature\", \"properties\": {\"merged_bbox\": false, \"object_class\": \"external_floating_roof_tank\", \"polygon_id\": \"m_3308752_nw_16_060_20191023_0106\", \"tile_names\": \"m_3308752_nw_16_060_20191023\"}, \"geometry\": {\"type\": \"Polygon\", \"coordinates\": [[[-87.60894067308693, 33.24001174081238], [-87.60894067308693, 33.24024068665377], [-87.6086999875065, 33.24024068665377], [-87.6086999875065, 33.24001174081238], [-87.60894067308693, 33.24001174081238]]]}}, {\"id\": \"107\", \"type\": \"Feature\", \"properties\": {\"merged_bbox\": false, \"object_class\": \"external_floating_roof_tank\", \"polygon_id\": \"m_3308752_nw_16_060_20191023_0107\", \"tile_names\": \"m_3308752_nw_16_060_20191023\"}, \"geometry\": {\"type\": \"Polygon\", \"coordinates\": [[[-87.60943378500781, 33.24020546421663], [-87.60943378500781, 33.240416798839455], [-87.6092048401874, 33.240416798839455], [-87.6092048401874, 33.24020546421663], [-87.60943378500781, 33.24020546421663]]]}}, {\"id\": \"108\", \"type\": \"Feature\", \"properties\": {\"merged_bbox\": false, \"object_class\": \"external_floating_roof_tank\", \"polygon_id\": \"m_3308752_nw_16_060_20191023_0108\", \"tile_names\": \"m_3308752_nw_16_060_20191023\"}, \"geometry\": {\"type\": \"Polygon\", \"coordinates\": [[[-87.60911091410723, 33.23951862669245], [-87.60911091410723, 33.2397182205029], [-87.60888196928683, 33.2397182205029], [-87.60888196928683, 33.23951862669245], [-87.60911091410723, 33.23951862669245]]]}}, {\"id\": \"109\", \"type\": \"Feature\", \"properties\": {\"merged_bbox\": false, \"object_class\": \"closed_roof_tank\", \"polygon_id\": \"m_3308752_nw_16_060_20191023_0109\", \"tile_names\": \"m_3308752_nw_16_060_20191023\"}, \"geometry\": {\"type\": \"Polygon\", \"coordinates\": [[[-87.61674240812077, 33.24315240812379], [-87.61674240812077, 33.24351637330754], [-87.6163725741801, 33.24351637330754], [-87.6163725741801, 33.24315240812379], [-87.61674240812077, 33.24315240812379]]]}}, {\"id\": \"110\", \"type\": \"Feature\", \"properties\": {\"merged_bbox\": false, \"object_class\": \"closed_roof_tank\", \"polygon_id\": \"m_3308752_nw_16_060_20191023_0110\", \"tile_names\": \"m_3308752_nw_16_060_20191023\"}, \"geometry\": {\"type\": \"Polygon\", \"coordinates\": [[[-87.61619059239979, 33.24403296905222], [-87.61619059239979, 33.24419147001934], [-87.6160262217595, 33.24419147001934], [-87.6160262217595, 33.24403296905222], [-87.61619059239979, 33.24403296905222]]]}}, {\"id\": \"111\", \"type\": \"Feature\", \"properties\": {\"merged_bbox\": false, \"object_class\": \"closed_roof_tank\", \"polygon_id\": \"m_3308752_nw_16_060_20191023_0111\", \"tile_names\": \"m_3308752_nw_16_060_20191023\"}, \"geometry\": {\"type\": \"Polygon\", \"coordinates\": [[[-87.61587359187922, 33.24394491295938], [-87.61587359187922, 33.24411515473888], [-87.61571509161894, 33.24411515473888], [-87.61571509161894, 33.24394491295938], [-87.61587359187922, 33.24394491295938]]]}}, {\"id\": \"112\", \"type\": \"Feature\", \"properties\": {\"merged_bbox\": false, \"object_class\": \"narrow_closed_roof_tank\", \"polygon_id\": \"m_3308752_nw_16_060_20191023_0112\", \"tile_names\": \"m_3308752_nw_16_060_20191023\"}, \"geometry\": {\"type\": \"Polygon\", \"coordinates\": [[[-87.6163667038001, 33.244273655705996], [-87.6163667038001, 33.24432061895551], [-87.61629625923997, 33.24432061895551], [-87.61629625923997, 33.244273655705996], [-87.6163667038001, 33.244273655705996]]]}}, {\"id\": \"113\", \"type\": \"Feature\", \"properties\": {\"merged_bbox\": false, \"object_class\": \"external_floating_roof_tank\", \"polygon_id\": \"m_3308752_nw_16_060_20191023_0113\", \"tile_names\": \"m_3308752_nw_16_060_20191023\"}, \"geometry\": {\"type\": \"Polygon\", \"coordinates\": [[[-87.61390701457574, 33.24264755319149], [-87.61390701457574, 33.24312892649903], [-87.61340803227485, 33.24312892649903], [-87.61340803227485, 33.24264755319149], [-87.61390701457574, 33.24264755319149]]]}}, {\"id\": \"114\", \"type\": \"Feature\", \"properties\": {\"merged_bbox\": false, \"object_class\": \"external_floating_roof_tank\", \"polygon_id\": \"m_3308752_nw_16_060_20191023_0114\", \"tile_names\": \"m_3308752_nw_16_060_20191023\"}, \"geometry\": {\"type\": \"Polygon\", \"coordinates\": [[[-87.61525133159812, 33.24372183752418], [-87.61525133159812, 33.243997746615086], [-87.61496955335762, 33.243997746615086], [-87.61496955335762, 33.24372183752418], [-87.61525133159812, 33.24372183752418]]]}}, {\"id\": \"115\", \"type\": \"Feature\", \"properties\": {\"merged_bbox\": false, \"object_class\": \"external_floating_roof_tank\", \"polygon_id\": \"m_3308752_nw_16_060_20191023_0115\", \"tile_names\": \"m_3308752_nw_16_060_20191023\"}, \"geometry\": {\"type\": \"Polygon\", \"coordinates\": [[[-87.61513392399792, 33.244209081237905], [-87.61513392399792, 33.24450260154739], [-87.61481692347735, 33.24450260154739], [-87.61481692347735, 33.244209081237905], [-87.61513392399792, 33.244209081237905]]]}}, {\"id\": \"116\", \"type\": \"Feature\", \"properties\": {\"merged_bbox\": false, \"object_class\": \"closed_roof_tank\", \"polygon_id\": \"m_3308752_nw_16_060_20191023_0116\", \"tile_names\": \"m_3308752_nw_16_060_20191023\"}, \"geometry\": {\"type\": \"Polygon\", \"coordinates\": [[[-87.61189934461218, 33.24306435203094], [-87.61189934461218, 33.24319350096712], [-87.61176432587195, 33.24319350096712], [-87.61176432587195, 33.24306435203094], [-87.61189934461218, 33.24306435203094]]]}}, {\"id\": \"117\", \"type\": \"Feature\", \"properties\": {\"merged_bbox\": false, \"object_class\": \"closed_roof_tank\", \"polygon_id\": \"m_3308752_nw_16_060_20191023_0117\", \"tile_names\": \"m_3308752_nw_16_060_20191023\"}, \"geometry\": {\"type\": \"Polygon\", \"coordinates\": [[[-87.61203436335242, 33.24311718568665], [-87.61203436335242, 33.24324046421663], [-87.61188760385215, 33.24324046421663], [-87.61188760385215, 33.24311718568665], [-87.61203436335242, 33.24311718568665]]]}}, {\"id\": \"118\", \"type\": \"Feature\", \"properties\": {\"merged_bbox\": false, \"object_class\": \"closed_roof_tank\", \"polygon_id\": \"m_3308752_nw_16_060_20191023_0118\", \"tile_names\": \"m_3308752_nw_16_060_20191023\"}, \"geometry\": {\"type\": \"Polygon\", \"coordinates\": [[[-87.6124218084331, 33.24340483558994], [-87.6124218084331, 33.243492891682784], [-87.61233375273295, 33.243492891682784], [-87.61233375273295, 33.24340483558994], [-87.6124218084331, 33.24340483558994]]]}}, {\"id\": \"119\", \"type\": \"Feature\", \"properties\": {\"merged_bbox\": false, \"object_class\": \"narrow_closed_roof_tank\", \"polygon_id\": \"m_3308752_nw_16_060_20191023_0119\", \"tile_names\": \"m_3308752_nw_16_060_20191023\"}, \"geometry\": {\"type\": \"Polygon\", \"coordinates\": [[[-87.61229266007288, 33.243381353965184], [-87.61229266007288, 33.243440058027076], [-87.61222808589277, 33.243440058027076], [-87.61222808589277, 33.243381353965184], [-87.61229266007288, 33.243381353965184]]]}}]}'"
      ]
     },
     "execution_count": 21,
     "metadata": {},
     "output_type": "execute_result"
    }
   ],
   "source": [
    "gdf.to_json()  "
   ]
  },
  {
   "cell_type": "code",
   "execution_count": 6,
   "id": "90529166-bab7-4b59-95c9-77311c305354",
   "metadata": {},
   "outputs": [
    {
     "data": {
      "image/png": "[encoded data removed]",
      "text/plain": [
       "<Figure size 576x576 with 1 Axes>"
      ]
     },
     "metadata": {
      "needs_background": "light"
     },
     "output_type": "display_data"
    }
   ],
   "source": [
    "fig,  axs = plt.subplots(figsize = (8,8),sharex= True,sharey= True)\n",
    "poly = Polygon([(2.2, 4.2), (7.2, -25.1), (9.26, -2.456)])\n",
    "\n",
    "#polygon = Polygon([(min_lon,min_lat),(min_lon,max_lat),(max_lon,max_lat),(max_lon,min_lat)])\n",
    "p = gpd.GeoSeries(poly)\n",
    "p.plot(ax=axs, alpha=0.1,color =\"blue\")\n",
    "\n",
    "plt.gca().invert_yaxis() #https://stackoverflow.com/questions/1349230/matplotlib-coord-sys-origin-to-top-left\n",
    "plt.show()"
   ]
  },
  {
   "cell_type": "code",
   "execution_count": 134,
   "id": "d06ee1c4-0fcd-4444-b6bb-025f6396c455",
   "metadata": {},
   "outputs": [],
   "source": [
    "s = []\n",
    "for i in range(5):\n",
    "    s.append(False)"
   ]
  },
  {
   "cell_type": "code",
   "execution_count": 75,
   "id": "62a70555-e659-45eb-a662-4e7836654824",
   "metadata": {},
   "outputs": [
    {
     "data": {
      "image/png": "[encoded data removed]",
      "text/plain": [
       "<Figure size 1440x576 with 1 Axes>"
      ]
     },
     "metadata": {
      "needs_background": "light"
     },
     "output_type": "display_data"
    }
   ],
   "source": [
    "fig,  axs = plt.subplots(figsize = (20,8),sharex= True,sharey= True)\n",
    "for polygon in geometry:\n",
    "    p = gpd.GeoSeries(polygon)\n",
    "    p.plot(ax=axs, alpha=0.1,color =\"blue\")\n",
    "for polygon in merged_geometry:\n",
    "    p = gpd.GeoSeries(polygon)\n",
    "    p.plot(ax=axs, alpha=0.1,color=\"red\")\n",
    "plt.xlim(2000,4000)\n",
    "plt.ylim(8700,10000)\n",
    "plt.gca().invert_yaxis() #https://stackoverflow.com/questions/1349230/matplotlib-coord-sys-origin-to-top-left\n",
    "plt.show()"
   ]
  },
  {
   "cell_type": "code",
   "execution_count": 7,
   "id": "1236f9c1-eec8-4ad8-9617-6ee932c0784a",
   "metadata": {},
   "outputs": [
    {
     "data": {
      "image/png": "[encoded data removed]",
      "text/plain": [
       "<Figure size 432x288 with 1 Axes>"
      ]
     },
     "metadata": {
      "needs_background": "light"
     },
     "output_type": "display_data"
    }
   ],
   "source": [
    "\n",
    "plt.show()"
   ]
  }
 ],
 "metadata": {
  "kernelspec": {
   "display_name": "Chip Allocate",
   "language": "python",
   "name": "chip_allocate"
  },
  "language_info": {
   "codemirror_mode": {
    "name": "ipython",
    "version": 3
   },
   "file_extension": ".py",
   "mimetype": "text/x-python",
   "name": "python",
   "nbconvert_exporter": "python",
   "pygments_lexer": "ipython3",
   "version": "3.9.7"
  }
 },
 "nbformat": 4,
 "nbformat_minor": 5
}
