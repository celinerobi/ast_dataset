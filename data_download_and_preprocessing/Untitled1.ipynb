{
 "cells": [
  {
   "cell_type": "code",
   "execution_count": 6,
   "id": "59424115-7617-4835-8892-09882cb78edf",
   "metadata": {
    "tags": []
   },
   "outputs": [],
   "source": [
    "import os \n",
    "\n",
    "import fiona #must be import before geopandas\n",
    "import geopandas as gpd\n",
    "import rasterio\n",
    "import rioxarray\n",
    "import re\n",
    "import rtree\n",
    "import shapely\n",
    "import pickle\n",
    "\n",
    "#from cartopy import crs\n",
    "import collections\n",
    "import cv2\n",
    "import math\n",
    "from glob import glob\n",
    "from tqdm.notebook import tqdm_notebook\n",
    "import tqdm\n",
    "# Standard packages\n",
    "import tempfile\n",
    "import warnings\n",
    "import urllib\n",
    "import shutil\n",
    "\n",
    "# Less standard, but still pip- or conda-installable\n",
    "import pandas as pd\n",
    "import numpy as np\n",
    "import matplotlib\n",
    "import matplotlib.pyplot as plt\n",
    "from matplotlib.patches import Rectangle\n",
    "\n",
    "from lxml.etree import Element,SubElement,tostring\n",
    "import xml.dom.minidom\n",
    "from xml.dom.minidom import parseString\n",
    "import xml.etree.ElementTree as et\n",
    "from xml.dom import minidom\n",
    "\n",
    "#import requests\n",
    "from PIL import Image\n",
    "from io import BytesIO\n",
    "import tqdm\n",
    "from skimage.metrics import structural_similarity as compare_ssim\n",
    "import imutils\n",
    "\n",
    "import psutil\n",
    "\n",
    "import data_eng.az_proc as ap\n",
    "import data_eng.form_calcs as fc"
   ]
  },
  {
   "cell_type": "code",
   "execution_count": 7,
   "id": "d94cbb2d-155c-4424-ad11-8db7b7330365",
   "metadata": {
    "tags": []
   },
   "outputs": [],
   "source": [
    "import os \n",
    "\n",
    "import fiona #must be import before geopandas\n",
    "import geopandas as gpd\n",
    "import rasterio\n",
    "import rioxarray\n",
    "import re\n",
    "import rtree\n",
    "import shapely\n",
    "import pickle\n",
    "\n",
    "#from cartopy import crs\n",
    "import collections\n",
    "import cv2\n",
    "import math\n",
    "from glob import glob\n",
    "from tqdm.notebook import tqdm_notebook\n",
    "import tqdm\n",
    "# Standard packages\n",
    "import tempfile\n",
    "import warnings\n",
    "import urllib\n",
    "import shutil\n",
    "\n",
    "# Less standard, but still pip- or conda-installable\n",
    "import pandas as pd\n",
    "import numpy as np\n",
    "import matplotlib\n",
    "import matplotlib.pyplot as plt\n",
    "from matplotlib.patches import Rectangle\n",
    "\n",
    "from lxml.etree import Element,SubElement,tostring\n",
    "import xml.dom.minidom\n",
    "from xml.dom.minidom import parseString\n",
    "import xml.etree.ElementTree as et\n",
    "from xml.dom import minidom\n",
    "\n",
    "#import requests\n",
    "from PIL import Image\n",
    "from io import BytesIO\n",
    "import tqdm\n",
    "from skimage.metrics import structural_similarity as compare_ssim\n",
    "import imutils\n",
    "\n",
    "import psutil\n",
    "\n",
    "import data_eng.az_proc as ap\n",
    "import data_eng.form_calcs as fc"
   ]
  },
  {
   "cell_type": "code",
   "execution_count": 8,
   "id": "343a3348-7888-4c3e-9892-544b4796d9cb",
   "metadata": {},
   "outputs": [],
   "source": [
    "import shapely\n",
    "from shapely.geometry import Polygon, Point, MultiPoint, MultiPolygon, MultiLineString\n",
    "from shapely.geometry.collection import GeometryCollection\n",
    "from shapely.ops import unary_union, polygonize"
   ]
  },
  {
   "cell_type": "markdown",
   "id": "0705c401-62eb-4ad3-898e-8cb7cf8b5688",
   "metadata": {},
   "source": [
    "## File Paths"
   ]
  },
  {
   "cell_type": "code",
   "execution_count": 9,
   "id": "111c39b1-21b4-4e9b-b2be-ecb26f98ed88",
   "metadata": {},
   "outputs": [],
   "source": [
    "parent_directory = \"//oit-nas-fe13dc.oit.duke.edu//data_commons-borsuk//\"\n",
    "\n",
    "tile_names_tile_urls_complete_array = np.load(\"image_download_azure/tile_name_tile_url_complete_array.npy\")\n",
    "\n",
    "tiles_labeled = \"tile_name_tile_url_labeled.npy\"\n",
    "tiles_labeled_from_complete_set = np.load(tiles_labeled)\n",
    "\n",
    "tracker_file_path = 'outputs/tile_img_annotation_annotator.npy'\n",
    "tile_img_annotation = np.load(tracker_file_path)\n",
    "tile_img_annotation_annotator = np.load(\"outputs/tile_img_annotation_annotator.npy\")\n",
    "\n",
    "tiles_errors = 'tile_name_tile_url_error_downloading.npy'\n",
    "tiles_errors = np.load(tiles_errors)\n",
    "\n",
    "#create folder to hold tiles in completed dataset\n",
    "\n",
    "tiles_complete_dataset_path = os.path.join(parent_directory,\"complete_dataset\",\"tiles\")\n",
    "tiles_xml_complete_dataset_path = os.path.join(parent_directory,\"complete_dataset\",\"tiles_xml\")\n",
    "os.makedirs(tiles_complete_dataset_path, exist_ok=True)\n",
    "tiles_xml_list = os.listdir(tiles_xml_complete_dataset_path)\n",
    "new_tiles_xml_complete_dataset_path = os.path.join(parent_directory,\"complete_dataset\",\"tiles_xml_merged\")\n",
    "\n",
    "tile_names_tile_urls_complete_array_unique_standard_tile_names = np.load(\"tile_names_tile_urls_complete_array_unique_standard_tile_names.npy\")\n",
    "image_characteristics = pd.read_csv(\"image_characteristics.csv\")\n",
    "tile_names_tile_urls_complete_array_unique_standard_tile_names = np.load(\"tile_names_tile_urls_complete_array_unique_standard_tile_names.npy\")\n",
    "\n",
    "#NAIP quad map\n",
    "quad_indicies_path = \"C:/Users/rapiduser/Box/EPA STAR 2019 (Community Resistance to Environmental Disasters)/Data/AST Datasets/MapIndices_National_GDB/MapIndices_National_GDB.gdb\"\n",
    "#fiona.listlayers(quad_indicies_path)\n",
    "rechipped_image_path = os.path.join(parent_directory,\"temp/rechip\")\n",
    "\n",
    "folders_of_images_xmls_by_tile = os.listdir(rechipped_image_path)\n",
    "images_and_xmls_by_tile_path = rechipped_image_path"
   ]
  },
  {
   "cell_type": "code",
   "execution_count": 65,
   "id": "c008a035-fa06-442e-a102-f1bfadf3a4d2",
   "metadata": {},
   "outputs": [],
   "source": [
    "tiles_dir = tiles_complete_dataset_path\n",
    "tiles_xml_path = tiles_xml_complete_dataset_path\n",
    "item_dim = int(512)"
   ]
  },
  {
   "cell_type": "code",
   "execution_count": 70,
   "id": "086d3ede-b406-4f61-8c24-ee5c6c38cb24",
   "metadata": {},
   "outputs": [],
   "source": [
    "tile_names_by_tile = []\n",
    "tile_paths_by_tile = []\n",
    "tile_heights = []\n",
    "tile_widths = []\n",
    "tile_depths = []\n",
    "\n",
    "min_lon_tile = [] #NW_coordinates\n",
    "min_lat_tile = []  #NW_coordinates\n",
    "max_lon_tile = [] #SE_coordinates\n",
    "max_lat_tile = [] #SE_coordinates\n",
    "\n",
    "chip_names = []\n",
    "tile_names_by_chip = []\n",
    "tile_paths_by_chip = []\n",
    "NW_coordinates_pixel = []\n",
    "SE_coordinates_pixel = []\n",
    "NW_coordinates_lonlat = []\n",
    "SE_coordinates_lonlat = []\n",
    "row_indicies = []\n",
    "col_indicies = []\n",
    "image_paths  = []\n",
    "xml_paths = []\n",
    "\n",
    "item_dim = int(512)\n"
   ]
  },
  {
   "cell_type": "code",
   "execution_count": null,
   "id": "9715257d-a511-43b9-8912-6c7682b1fc10",
   "metadata": {},
   "outputs": [],
   "source": [
    "def merge_tile_annotations(tiles_xml_list, tiles_xml_dir, new_tiles_xml_dir, distance_limit):\n",
    "    # https://stackoverflow.com/questions/55593506/merge-the-bounding-boxes-near-by-into-one\n",
    "    for tile_xml in tqdm.tqdm(tiles_xml_list):\n",
    "        #save bboxes and characteristics\n",
    "        trunc_diff_objs_bbox = []\n",
    "        trunc_diff_objs_characteristics = []\n",
    "        remaining_objs_bbox = []\n",
    "        remaining_objs_characteristics = []\n",
    "        #lists for geosons/geodatabase\n",
    "        polygon_id = []\n",
    "        tile_names = []\n",
    "        object_class = []\n",
    "        merged_bbox = []\n",
    "        geometry = []\n",
    "        #get tilename/tile xml path\n",
    "        tile_name = os.path.splitext(tile_xml)[0]\n",
    "        tile_xml_path = os.path.join(tiles_xml_dir, tile_xml)\n",
    "        #load tile characteristics \n",
    "        tile_characteristics_subset = tile_characteristics[tile_characteristics.loc[:,\"tile_name\"] == tile_name]\n",
    "        tile_lat_array = np.linspace(tile_characteristics_subset[\"min_lat_tile\"].values[0], \n",
    "                                     tile_characteristics_subset[\"max_lat_tile\"].values[0],\n",
    "                                     tile_characteristics_subset[\"tile_heights\"].values[0])\n",
    "\n",
    "        tile_lon_array = np.linspace(tile_characteristics_subset[\"min_lon_tile\"].values[0], \n",
    "                                     tile_characteristics_subset[\"max_lon_tile\"].values[0],\n",
    "                                     tile_characteristics_subset[\"tile_widths\"].values[0])\n",
    "        #load each xml\n",
    "        tree = et.parse(tile_xml_path)\n",
    "        root = tree.getroot()\n",
    "        #get the bboxes\n",
    "        for obj in root.iter('object'):\n",
    "            xmlbox = obj.find('bndbox')\n",
    "            obj_xmin = xmlbox.find('xmin').text\n",
    "            obj_ymin = xmlbox.find('ymin').text\n",
    "            obj_xmax = xmlbox.find('xmax').text\n",
    "            obj_ymax = xmlbox.find('ymax').text\n",
    "            #get truncated bboxes\n",
    "            if (int(obj.find('difficult').text) == 1) or (int(obj.find('truncated').text) == 1):\n",
    "                #get bboxes/characteristics\n",
    "                trunc_diff_objs_bbox.append([obj_xmin, obj_ymin, obj_xmax, obj_ymax])\n",
    "                trunc_diff_objs_characteristics.append([obj.find('name').text, obj.find('pose').text, \n",
    "                                                        obj.find('truncated').text, obj.find('difficult').text])\n",
    "            else:        \n",
    "                remaining_objs_bbox.append([obj_xmin, obj_ymin, obj_xmax, obj_ymax])\n",
    "                remaining_objs_characteristics.append([obj.find('name').text, obj.find('pose').text, \n",
    "                                                       obj.find('truncated').text, obj.find('difficult').text])\n",
    "        #merge where possible\n",
    "        trunc_diff_objs_bbox = np.array(trunc_diff_objs_bbox).astype(np.int32)\n",
    "        trunc_diff_objs_bbox = trunc_diff_objs_bbox.tolist()\n",
    "        bool_, merged_characteristics, merged_bboxes =  merge_algo(trunc_diff_objs_characteristics,trunc_diff_objs_bbox,distance_limit)\n",
    "        \n",
    "        count = 0\n",
    "        #add merged bboxes\n",
    "        for j, (char, bbox) in enumerate(zip(merged_characteristics, merged_bboxes)):\n",
    "            polygon_id.append(tile_name + \"_\" + str(count).zfill(4)) # The index is a six-digit number like '000023'.\n",
    "            tile_names.append(tile_name)\n",
    "            object_class.append(char[0])\n",
    "            merged_bbox.append(True)\n",
    "            min_lon = tile_lon_array[bbox[0]]\n",
    "            max_lon = tile_lon_array[bbox[2]]\n",
    "            min_lat = tile_lat_array[bbox[1]]\n",
    "            max_lat = tile_lat_array[bbox[3]]\n",
    "            geometry.append(Polygon([(min_lon,min_lat),(min_lon,max_lat),(max_lon,max_lat),(max_lon,min_lat)]))\n",
    "            count += 1\n",
    "\n",
    "        #add remaining bboxes\n",
    "        for j, (char, bbox) in enumerate(zip(remaining_objs_bbox, remaining_objs_characteristics)):\n",
    "            polygon_id.append(tile_name + \"_\" + str(count).zfill(4)) # The index is a six-digit number like '000023'.\n",
    "            tile_names.append(tile_name)\n",
    "            object_class.append(char[0])\n",
    "            merged_bbox.append(False)\n",
    "            min_lon = tile_lon_array[bbox[0]]\n",
    "            max_lon = tile_lon_array[bbox[2]]\n",
    "            min_lat = tile_lat_array[bbox[1]]\n",
    "            max_lat = tile_lat_array[bbox[3]]\n",
    "            geometry.append(Polygon([(min_lon,min_lat),(min_lon,max_lat),(max_lon,max_lat),(max_lon,min_lat)]))\n",
    "            count += 1\n",
    "    return(polygon_id, tile_names, object_class, \n",
    "           merged_bbox, geometry)"
   ]
  },
  {
   "cell_type": "code",
   "execution_count": null,
   "id": "e3e490c4-8256-4577-ab91-78c6cf736746",
   "metadata": {},
   "outputs": [],
   "source": [
    "#add merged bboxes\n",
    "geometry = []\n",
    "for i, (char, bbox) in enumerate(zip(objs_characteristics, objs_bbox)):\n",
    "    geometry.append(Polygon([(bbox[0],bbox[1]),(bbox[0],bbox[3]),(bbox[2],bbox[3]),(bbox[2],bbox[1])]))"
   ]
  },
  {
   "cell_type": "code",
   "execution_count": 75,
   "id": "62a70555-e659-45eb-a662-4e7836654824",
   "metadata": {},
   "outputs": [
    {
     "data": {
      "image/png": "[encoded data removed]",
      "text/plain": [
       "<Figure size 1440x576 with 1 Axes>"
      ]
     },
     "metadata": {
      "needs_background": "light"
     },
     "output_type": "display_data"
    }
   ],
   "source": [
    "fig,  axs = plt.subplots(figsize = (20,8),sharex= True,sharey= True)\n",
    "for polygon in geometry:\n",
    "    p = gpd.GeoSeries(polygon)\n",
    "    p.plot(ax=axs, alpha=0.1,color =\"blue\")\n",
    "for polygon in merged_geometry:\n",
    "    p = gpd.GeoSeries(polygon)\n",
    "    p.plot(ax=axs, alpha=0.1,color=\"red\")\n",
    "plt.xlim(2000,4000)\n",
    "plt.ylim(8700,10000)\n",
    "plt.gca().invert_yaxis() #https://stackoverflow.com/questions/1349230/matplotlib-coord-sys-origin-to-top-left\n",
    "plt.show()"
   ]
  },
  {
   "cell_type": "code",
   "execution_count": 7,
   "id": "1236f9c1-eec8-4ad8-9617-6ee932c0784a",
   "metadata": {},
   "outputs": [
    {
     "data": {
      "image/png": "[encoded data removed]",
      "text/plain": [
       "<Figure size 432x288 with 1 Axes>"
      ]
     },
     "metadata": {
      "needs_background": "light"
     },
     "output_type": "display_data"
    }
   ],
   "source": [
    "\n",
    "plt.show()"
   ]
  }
 ],
 "metadata": {
  "kernelspec": {
   "display_name": "Chip Allocate",
   "language": "python",
   "name": "chip_allocate"
  },
  "language_info": {
   "codemirror_mode": {
    "name": "ipython",
    "version": 3
   },
   "file_extension": ".py",
   "mimetype": "text/x-python",
   "name": "python",
   "nbconvert_exporter": "python",
   "pygments_lexer": "ipython3",
   "version": "3.9.7"
  }
 },
 "nbformat": 4,
 "nbformat_minor": 5
}
