{
 "cells": [
  {
   "cell_type": "code",
   "execution_count": 2,
   "id": "76ee52ac-35df-4910-bf05-1d744dae3e01",
   "metadata": {
    "tags": []
   },
   "outputs": [],
   "source": [
    "import os \n",
    "\n",
    "import fiona #must be import before geopandas\n",
    "import geopandas as gpd\n",
    "import rasterio\n",
    "import xarray as xr\n",
    "import re\n",
    "import rtree\n",
    "import shapely\n",
    "import pickle\n",
    "\n",
    "#from cartopy import crs\n",
    "import collections\n",
    "import cv2\n",
    "import math\n",
    "from glob import glob\n",
    "from tqdm.notebook import tqdm_notebook\n",
    "\n",
    "# Standard packages\n",
    "import tempfile\n",
    "import warnings\n",
    "import urllib\n",
    "import shutil\n",
    "\n",
    "# Less standard, but still pip- or conda-installable\n",
    "import pandas as pd\n",
    "import numpy as np\n",
    "import matplotlib\n",
    "import matplotlib.pyplot as plt\n",
    "from matplotlib.patches import Rectangle\n",
    "\n",
    "import data_eng.az_proc as ap\n",
    "import data_eng.form_calcs as fc\n",
    "\n",
    "from lxml.etree import Element,SubElement,tostring\n",
    "import xml.dom.minidom\n",
    "from xml.dom.minidom import parseString\n",
    "import xml.etree.ElementTree as et\n",
    "from xml.dom import minidom\n",
    "\n",
    "#import requests\n",
    "from PIL import Image\n",
    "from io import BytesIO\n",
    "import tqdm\n",
    "from skimage.metrics import structural_similarity as compare_ssim\n",
    "import imutils\n",
    "\n",
    "import psutil"
   ]
  },
  {
   "cell_type": "markdown",
   "id": "3021c937-8ef1-4c19-a7d2-b956fac2b0c4",
   "metadata": {},
   "source": [
    "## File Paths"
   ]
  },
  {
   "cell_type": "code",
   "execution_count": 3,
   "id": "f478df6f-f95a-4b90-88f0-ac75962e195b",
   "metadata": {},
   "outputs": [],
   "source": [
    "parent_directory = \"//oit-nas-fe13dc.oit.duke.edu//data_commons-borsuk//\"\n",
    "\n",
    "tile_names_tile_urls_complete_array = np.load(\"image_download_azure/tile_name_tile_url_complete_array.npy\")\n",
    "\n",
    "tiles_labeled = \"tile_name_tile_url_labeled.npy\"\n",
    "tiles_labeled_from_complete_set = np.load(tiles_labeled)\n",
    "\n",
    "tracker_file_path = 'outputs/tile_img_annotation_annotator.npy'\n",
    "tile_img_annotation = np.load(tracker_file_path)\n",
    "tile_img_annotation_annotator = np.load(\"outputs/tile_img_annotation_annotator.npy\")\n",
    "\n",
    "tiles_errors = 'tile_name_tile_url_error_downloading.npy'\n",
    "tiles_errors = np.load(tiles_errors)\n",
    "\n",
    "#create folder to hold tiles in completed dataset\n",
    "\n",
    "tiles_complete_dataset_path = os.path.join(parent_directory,\"complete_dataset\",\"tiles\")\n",
    "tiles_xml_complete_dataset_path = os.path.join(parent_directory,\"complete_dataset\",\"tiles_xml\")\n",
    "os.makedirs(tiles_complete_dataset_path, exist_ok=True)\n",
    "\n",
    "tile_names_tile_urls_complete_array_unique_standard_tile_names = np.load(\"tile_names_tile_urls_complete_array_unique_standard_tile_names.npy\")\n",
    "image_characteristics = pd.read_csv(\"image_characteristics.csv\")\n",
    "tile_names_tile_urls_complete_array_unique_standard_tile_names = np.load(\"tile_names_tile_urls_complete_array_unique_standard_tile_names.npy\")\n",
    "\n",
    "#NAIP quad map\n",
    "quad_indicies_path = \"C:/Users/rapiduser/Box/EPA STAR 2019 (Community Resistance to Environmental Disasters)/Data/AST Datasets/MapIndices_National_GDB/MapIndices_National_GDB.gdb\"\n",
    "#fiona.listlayers(quad_indicies_path)"
   ]
  },
  {
   "cell_type": "markdown",
   "id": "f2ffeafb-f213-438e-90c7-23ed28f863b8",
   "metadata": {},
   "source": [
    "## Unverified Images and Annotations (Subfolders, Images, and XMLs)"
   ]
  },
  {
   "cell_type": "code",
   "execution_count": 4,
   "id": "8cf7dce8-cc55-40fd-a756-d65fa0e21338",
   "metadata": {},
   "outputs": [
    {
     "name": "stderr",
     "output_type": "stream",
     "text": [
      "100%|██████████| 40/40 [00:20<00:00,  1.98it/s]\n"
     ]
    }
   ],
   "source": [
    "unverified_set1_subfolders_path = os.path.join(parent_directory,\"unverified_images\\student_reviewed_unverified_images_set1\")\n",
    "unverified_set1_subfolders_path = ap.img_path_anno_path(ap.list_of_sub_directories(unverified_set1_subfolders_path))\n",
    "\n",
    "unverified_set1_image_paths = []\n",
    "unverified_set1_xml_paths = []\n",
    "for directory in tqdm.tqdm(unverified_set1_subfolders_path):\n",
    "    #print(len(os.listdir(directory[0])),len(os.listdir(directory[1])))\n",
    "    fc.remove_thumbs(directory[0])\n",
    "    unverified_set1_image_paths += glob(directory[0] + \"/*.jpg\", recursive = True)\n",
    "    unverified_set1_xml_paths += glob(directory[1] + \"/*.xml\", recursive = True)"
   ]
  },
  {
   "cell_type": "markdown",
   "id": "bd5f463e-4a11-4274-9646-41842d0ef768",
   "metadata": {},
   "source": [
    "## Verified Images and Annotations (Subfolders, Images, and XMLs)"
   ]
  },
  {
   "cell_type": "code",
   "execution_count": 5,
   "id": "cee2ff1e-f657-460f-a991-e83c4f943751",
   "metadata": {},
   "outputs": [
    {
     "name": "stderr",
     "output_type": "stream",
     "text": [
      "100%|██████████| 11/11 [00:24<00:00,  2.25s/it]\n"
     ]
    }
   ],
   "source": [
    "verified_sets_path = os.path.join(parent_directory, \"verified/verified_sets\")\n",
    "verified_sets_subfolders_path = ap.img_path_anno_path(ap.list_of_sub_directories(verified_sets_path))\n",
    "\n",
    "verified_set1_image_paths = []\n",
    "verified_set1_xml_paths = []\n",
    "verified_set1_subfolders_path = []\n",
    "\n",
    "for verified_set in tqdm.tqdm(verified_sets_subfolders_path):\n",
    "    fc.remove_thumbs(verified_set[0])\n",
    "    set_number = verified_set[0].split(\"/\")[-2].split(\"_\")[1]\n",
    "    \n",
    "    if set_number == str(1):\n",
    "        verified_set1_image_paths += glob(verified_set[0] + \"/*.jpg\", recursive = True)\n",
    "        verified_set1_xml_paths += glob(verified_set[1] + \"/*.xml\", recursive = True)\n",
    "        verified_set1_subfolders_path.append(verified_set)\n",
    "        \n",
    "verified_set1_subfolders_path = np.array(verified_set1_subfolders_path)"
   ]
  },
  {
   "cell_type": "markdown",
   "id": "bf74e5f8-721d-4032-a1de-9a1bd442acb9",
   "metadata": {},
   "source": [
    "## Unverified and Verified Images and Annotations (Subfolders, Images, and XMLs)"
   ]
  },
  {
   "cell_type": "code",
   "execution_count": 6,
   "id": "e4d3735d-4fbc-433b-a4ad-f90510fcd821",
   "metadata": {},
   "outputs": [],
   "source": [
    "#first folder in unverified\n",
    "#get directories that need to be check\n",
    "fc.remove_thumbs(tiles_complete_dataset_path)\n",
    "unverified_verified_set1_image_paths = np.array(unverified_set1_image_paths + verified_set1_image_paths)\n",
    "unverified_verified_set1_subfolders_paths = np.concatenate((unverified_set1_subfolders_path, verified_set1_subfolders_path))"
   ]
  },
  {
   "cell_type": "markdown",
   "id": "7cb1fe3c-715b-4f0c-be6c-2e5428619115",
   "metadata": {},
   "source": [
    "## Identify labeled images where the images do not correspond correctly to the tile chip <br>\n",
    "(identified by subfolder)"
   ]
  },
  {
   "cell_type": "code",
   "execution_count": null,
   "id": "46fe02df-8977-40c9-9173-a3d63f41409d",
   "metadata": {},
   "outputs": [],
   "source": [
    "#positive_images = np.zeros((0, 512, 512, 3))\n",
    "tile_names = []\n",
    "incorrect_chip_names =[]\n",
    "incorrect_chip_paths = []\n",
    "xs = []\n",
    "ys = []\n",
    "\n",
    "for directory in tqdm.tqdm(unverified_verified_set1_subfolders_paths):\n",
    "    #identify tiles that have corresponding images in directory\n",
    "    tiles_in_directory = fc.get_tile_names_from_chip_names(directory[0])\n",
    "    images_in_directory, images_in_directory_array, image_directory = fc.positive_images_to_array(directory[0])\n",
    "    tile_names_temp, xs_temp, ys_temp, incorrect_chip_names_temp, incorrect_chip_paths_temp = fc.identify_incorrect_images(tiles_complete_dataset_path, tiles_in_directory, \n",
    "                                                                                                                           images_in_directory, images_in_directory_array,\n",
    "                                                                                                                           image_directory)\n",
    "    tile_names += tile_names_temp\n",
    "    xs += xs_temp \n",
    "    ys += ys_temp \n",
    "    incorrect_chip_paths += incorrect_chip_paths_temp \n",
    "    incorrect_chip_names += incorrect_chip_names_temp\n",
    "\n",
    "d = {'tile_names': tile_names,\n",
    "     'xs': xs,\n",
    "     'ys': ys,\n",
    "     'incorrect_chip_paths': incorrect_chip_paths,\n",
    "     'incorrect_chip_names': incorrect_chip_names}\n",
    "\n",
    "incorrect_labeled_chip_names_by_subfolder = pd.DataFrame(data = d)\n",
    "incorrect_labeled_chip_names_by_subfolder.to_csv('incorrect_labeled_chip_names_by_subfolder.csv')"
   ]
  },
  {
   "cell_type": "markdown",
   "id": "4d93c851-fa0c-462b-a34e-2fa2167c167b",
   "metadata": {},
   "source": [
    "## Identify labeled images where the images do not correspond correctly to the tile chip <br>\n",
    "(identified by tile)"
   ]
  },
  {
   "cell_type": "code",
   "execution_count": 11,
   "id": "36bf0704-8ebb-444f-a41d-9ca73aae5cfa",
   "metadata": {},
   "outputs": [
    {
     "name": "stderr",
     "output_type": "stream",
     "text": [
      "100%|██████████| 44/44 [00:03<00:00, 12.92it/s]\n",
      "100%|██████████| 932/932 [5:12:45<00:00, 20.13s/it]  \n"
     ]
    }
   ],
   "source": [
    "\"\"\"\n",
    "fc.remove_thumbs(tiles_complete_dataset_path)\n",
    "\n",
    "tiles_in_set1 = np.zeros((0))\n",
    "for subfolders in tqdm.tqdm(unverified_verified_set1_subfolders_paths):\n",
    "    tiles_in_set1 = np.concatenate((tiles_in_set1, fc.get_tile_names_from_chip_names(subfolders[0])))\n",
    "tiles_in_set1 = np.unique(tiles_in_set1)\n",
    "\n",
    "tile_names, xs, ys, incorrect_chip_paths = fc.identify_incorrect_images_simultaneous(tiles_complete_dataset_path, tiles_in_set1, unverified_verified_set1_image_paths)\n",
    "\n",
    "d = {'tile_names': tile_names,\n",
    "     'xs': xs,\n",
    "     'ys': ys,\n",
    "     'incorrect_chip_paths': incorrect_chip_paths}\n",
    "\n",
    "incorrect_labeled_chip_names_by_tile = pd.DataFrame(data = d)\n",
    "incorrect_labeled_chip_names_by_tile.to_csv('incorrect_labeled_chip_names_by_tile.csv')\n",
    "\"\"\""
   ]
  }
 ],
 "metadata": {
  "kernelspec": {
   "display_name": "Chip Allocate",
   "language": "python",
   "name": "chip_allocate"
  },
  "language_info": {
   "codemirror_mode": {
    "name": "ipython",
    "version": 3
   },
   "file_extension": ".py",
   "mimetype": "text/x-python",
   "name": "python",
   "nbconvert_exporter": "python",
   "pygments_lexer": "ipython3",
   "version": "3.9.7"
  }
 },
 "nbformat": 4,
 "nbformat_minor": 5
}
