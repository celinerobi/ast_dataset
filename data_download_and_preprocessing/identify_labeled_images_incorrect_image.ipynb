{
 "cells": [
  {
   "cell_type": "markdown",
   "id": "8bf2820e-4be6-405b-b9e2-e162c68e9580",
   "metadata": {
    "tags": []
   },
   "source": [
    "# Load Images"
   ]
  },
  {
   "cell_type": "code",
   "execution_count": 2,
   "id": "76ee52ac-35df-4910-bf05-1d744dae3e01",
   "metadata": {
    "tags": []
   },
   "outputs": [],
   "source": [
    "import os \n",
    "\n",
    "import fiona #must be import before geopandas\n",
    "import geopandas as gpd\n",
    "import rasterio\n",
    "import xarray as xr\n",
    "import re\n",
    "import rtree\n",
    "import shapely\n",
    "import pickle\n",
    "\n",
    "#from cartopy import crs\n",
    "import collections\n",
    "import cv2\n",
    "import math\n",
    "from glob import glob\n",
    "from tqdm.notebook import tqdm_notebook\n",
    "\n",
    "# Standard packages\n",
    "import tempfile\n",
    "import warnings\n",
    "import urllib\n",
    "import shutil\n",
    "\n",
    "# Less standard, but still pip- or conda-installable\n",
    "import pandas as pd\n",
    "import numpy as np\n",
    "import matplotlib\n",
    "import matplotlib.pyplot as plt\n",
    "from matplotlib.patches import Rectangle\n",
    "\n",
    "import data_eng.az_proc as ap\n",
    "import data_eng.form_calcs as fc\n",
    "\n",
    "from lxml.etree import Element,SubElement,tostring\n",
    "import xml.dom.minidom\n",
    "from xml.dom.minidom import parseString\n",
    "import xml.etree.ElementTree as et\n",
    "from xml.dom import minidom\n",
    "\n",
    "#import requests\n",
    "from PIL import Image\n",
    "from io import BytesIO\n",
    "import tqdm\n",
    "from skimage.metrics import structural_similarity as compare_ssim\n",
    "import imutils\n",
    "\n",
    "import psutil"
   ]
  },
  {
   "cell_type": "markdown",
   "id": "3021c937-8ef1-4c19-a7d2-b956fac2b0c4",
   "metadata": {
    "tags": []
   },
   "source": [
    "# File Paths"
   ]
  },
  {
   "cell_type": "code",
   "execution_count": 3,
   "id": "f478df6f-f95a-4b90-88f0-ac75962e195b",
   "metadata": {},
   "outputs": [],
   "source": [
    "parent_directory = \"//oit-nas-fe13dc.oit.duke.edu//data_commons-borsuk//\"\n",
    "\n",
    "tile_names_tile_urls_complete_array = np.load(\"image_download_azure/tile_name_tile_url_complete_array.npy\")\n",
    "\n",
    "tiles_labeled = \"tile_name_tile_url_labeled.npy\"\n",
    "tiles_labeled_from_complete_set = np.load(tiles_labeled)\n",
    "\n",
    "tracker_file_path = 'outputs/tile_img_annotation_annotator.npy'\n",
    "tile_img_annotation = np.load(tracker_file_path)\n",
    "tile_img_annotation_annotator = np.load(\"outputs/tile_img_annotation_annotator.npy\")\n",
    "\n",
    "tiles_errors = 'tile_name_tile_url_error_downloading.npy'\n",
    "tiles_errors = np.load(tiles_errors)\n",
    "\n",
    "#create folder to hold tiles in completed dataset\n",
    "\n",
    "tiles_complete_dataset_path = os.path.join(parent_directory,\"complete_dataset\",\"tiles\")\n",
    "tiles_xml_complete_dataset_path = os.path.join(parent_directory,\"complete_dataset\",\"tiles_xml\")\n",
    "os.makedirs(tiles_complete_dataset_path, exist_ok=True)\n",
    "\n",
    "tile_names_tile_urls_complete_array_unique_standard_tile_names = np.load(\"tile_names_tile_urls_complete_array_unique_standard_tile_names.npy\")\n",
    "image_characteristics = pd.read_csv(\"image_characteristics.csv\")\n",
    "tile_names_tile_urls_complete_array_unique_standard_tile_names = np.load(\"tile_names_tile_urls_complete_array_unique_standard_tile_names.npy\")\n",
    "\n",
    "#NAIP quad map\n",
    "quad_indicies_path = \"C:/Users/rapiduser/Box/EPA STAR 2019 (Community Resistance to Environmental Disasters)/Data/AST Datasets/MapIndices_National_GDB/MapIndices_National_GDB.gdb\"\n",
    "#fiona.listlayers(quad_indicies_path)"
   ]
  },
  {
   "cell_type": "markdown",
   "id": "e59d5b5f-83b0-4f37-89ee-efb57ebe3129",
   "metadata": {
    "tags": []
   },
   "source": [
    "# Obtain filepaths of Images and Annotations in Directories of Interest"
   ]
  },
  {
   "cell_type": "markdown",
   "id": "6500ed1a-62ac-4474-a3a7-78409ee53590",
   "metadata": {},
   "source": [
    "## Unverified Images and Annotations (Subfolders, Images, and XMLs)"
   ]
  },
  {
   "cell_type": "code",
   "execution_count": 5,
   "id": "5a70ab41-4816-43dd-90fb-436429ee8022",
   "metadata": {
    "tags": []
   },
   "outputs": [
    {
     "name": "stderr",
     "output_type": "stream",
     "text": [
      "100%|██████████| 40/40 [00:24<00:00,  1.61it/s]\n"
     ]
    }
   ],
   "source": [
    "unverified_set1_subfolders_path = os.path.join(parent_directory,\"unverified_images\\student_reviewed_unverified_images_set1\")\n",
    "unverified_set1_subfolders_path = ap.img_path_anno_path(ap.list_of_sub_directories(unverified_set1_subfolders_path))\n",
    "\n",
    "unverified_set1_image_paths = []\n",
    "unverified_set1_xml_paths = []\n",
    "for directory in tqdm.tqdm(unverified_set1_subfolders_path):\n",
    "    #print(len(os.listdir(directory[0])),len(os.listdir(directory[1])))\n",
    "    fc.remove_thumbs(directory[0])\n",
    "    unverified_set1_image_paths += glob(directory[0] + \"/*.jpg\", recursive = True)\n",
    "    unverified_set1_xml_paths += glob(directory[1] + \"/*.xml\", recursive = True)"
   ]
  },
  {
   "cell_type": "markdown",
   "id": "3bf04c68-3f4c-496b-9918-5a602e556368",
   "metadata": {},
   "source": [
    "## Verified Images and Annotations (Subfolders, Images, and XMLs)"
   ]
  },
  {
   "cell_type": "code",
   "execution_count": 6,
   "id": "bb25a0d9-ee96-406c-be2e-efbab8f0fd07",
   "metadata": {},
   "outputs": [
    {
     "name": "stderr",
     "output_type": "stream",
     "text": [
      "100%|██████████| 11/11 [00:31<00:00,  2.83s/it]\n"
     ]
    }
   ],
   "source": [
    "verified_sets_path = os.path.join(parent_directory, \"verified/verified_sets\")\n",
    "verified_sets_subfolders_path = ap.img_path_anno_path(ap.list_of_sub_directories(verified_sets_path))\n",
    "\n",
    "verified_set1_image_paths = []\n",
    "verified_set1_xml_paths = []\n",
    "verified_set1_subfolders_path = []\n",
    "\n",
    "for verified_set in tqdm.tqdm(verified_sets_subfolders_path):\n",
    "    fc.remove_thumbs(verified_set[0])\n",
    "    set_number = verified_set[0].split(\"/\")[-2].split(\"_\")[1]\n",
    "    \n",
    "    if set_number == str(1):\n",
    "        verified_set1_image_paths += glob(verified_set[0] + \"/*.jpg\", recursive = True)\n",
    "        verified_set1_xml_paths += glob(verified_set[1] + \"/*.xml\", recursive = True)\n",
    "        verified_set1_subfolders_path.append(verified_set)\n",
    "        \n",
    "verified_set1_subfolders_path = np.array(verified_set1_subfolders_path)"
   ]
  },
  {
   "cell_type": "markdown",
   "id": "2aa32de0-8d88-4350-bb61-eb80ed21fc1b",
   "metadata": {},
   "source": [
    "## Unverified and Verified Images and Annotations (Subfolders, Images, and XMLs)"
   ]
  },
  {
   "cell_type": "code",
   "execution_count": 7,
   "id": "d1ed4021-d0cb-4482-a321-02b48bce1168",
   "metadata": {
    "tags": []
   },
   "outputs": [],
   "source": [
    "#first folder in unverified\n",
    "#get directories that need to be check\n",
    "fc.remove_thumbs(tiles_complete_dataset_path)\n",
    "unverified_verified_set1_image_paths = np.array(unverified_set1_image_paths + verified_set1_image_paths)\n",
    "unverified_verified_set1_subfolders_paths = np.concatenate((unverified_set1_subfolders_path, verified_set1_subfolders_path))"
   ]
  },
  {
   "cell_type": "markdown",
   "id": "7cb1fe3c-715b-4f0c-be6c-2e5428619115",
   "metadata": {
    "tags": []
   },
   "source": [
    "# Identify Images with Incorrect Information\n",
    "Identify labeled images where the images do not correspond correctly to the tile chip <br>\n",
    "(identified by subfolder)"
   ]
  },
  {
   "cell_type": "code",
   "execution_count": null,
   "id": "46fe02df-8977-40c9-9173-a3d63f41409d",
   "metadata": {},
   "outputs": [],
   "source": [
    "#positive_images = np.zeros((0, 512, 512, 3))\n",
    "tile_names = []\n",
    "incorrect_chip_names =[]\n",
    "incorrect_chip_paths = []\n",
    "xs = []\n",
    "ys = []\n",
    "\n",
    "for directory in tqdm.tqdm(unverified_verified_set1_subfolders_paths):\n",
    "    #identify tiles that have corresponding images in directory\n",
    "    tiles_in_directory = fc.get_tile_names_from_chip_names(directory[0])\n",
    "    images_in_directory, images_in_directory_array, image_directory = fc.positive_images_to_array(directory[0])\n",
    "    tile_names_temp, xs_temp, ys_temp, incorrect_chip_names_temp, incorrect_chip_paths_temp = fc.identify_incorrect_images(tiles_complete_dataset_path, tiles_in_directory, \n",
    "                                                                                                                           images_in_directory, images_in_directory_array,\n",
    "                                                                                                                           image_directory)\n",
    "    tile_names += tile_names_temp\n",
    "    xs += xs_temp \n",
    "    ys += ys_temp \n",
    "    incorrect_chip_paths += incorrect_chip_paths_temp \n",
    "    incorrect_chip_names += incorrect_chip_names_temp\n",
    "\n",
    "d = {'tile_names': tile_names,\n",
    "     'xs': xs,\n",
    "     'ys': ys,\n",
    "     'incorrect_chip_paths': incorrect_chip_paths,\n",
    "     'incorrect_chip_names': incorrect_chip_names}\n",
    "\n",
    "incorrect_labeled_chip_names_by_subfolder = pd.DataFrame(data = d)\n",
    "incorrect_labeled_chip_names_by_subfolder.to_csv('incorrect_labeled_chip_names_by_subfolder.csv')"
   ]
  },
  {
   "cell_type": "markdown",
   "id": "4d93c851-fa0c-462b-a34e-2fa2167c167b",
   "metadata": {},
   "source": [
    "## Identify labeled images where the images do not correspond correctly to the tile chip <br>\n",
    "(identified by tile)"
   ]
  },
  {
   "cell_type": "code",
   "execution_count": 11,
   "id": "36bf0704-8ebb-444f-a41d-9ca73aae5cfa",
   "metadata": {},
   "outputs": [
    {
     "name": "stderr",
     "output_type": "stream",
     "text": [
      "100%|██████████| 44/44 [00:03<00:00, 12.92it/s]\n",
      "100%|██████████| 932/932 [5:12:45<00:00, 20.13s/it]  \n"
     ]
    }
   ],
   "source": [
    "\"\"\"\n",
    "fc.remove_thumbs(tiles_complete_dataset_path)\n",
    "\n",
    "tiles_in_set1 = np.zeros((0))\n",
    "for subfolders in tqdm.tqdm(unverified_verified_set1_subfolders_paths):\n",
    "    tiles_in_set1 = np.concatenate((tiles_in_set1, fc.get_tile_names_from_chip_names(subfolders[0])))\n",
    "tiles_in_set1 = np.unique(tiles_in_set1)\n",
    "\n",
    "tile_names, xs, ys, incorrect_chip_paths = fc.identify_incorrect_images_simultaneous(tiles_complete_dataset_path, tiles_in_set1, unverified_verified_set1_image_paths)\n",
    "\n",
    "d = {'tile_names': tile_names,\n",
    "     'xs': xs,\n",
    "     'ys': ys,\n",
    "     'incorrect_chip_paths': incorrect_chip_paths}\n",
    "\n",
    "incorrect_labeled_chip_names_by_tile = pd.DataFrame(data = d)\n",
    "incorrect_labeled_chip_names_by_tile.to_csv('incorrect_labeled_chip_names_by_tile.csv')\n",
    "\"\"\""
   ]
  },
  {
   "cell_type": "markdown",
   "id": "494e9ed8-50fb-4a20-b894-4f94c22fc2ba",
   "metadata": {
    "tags": []
   },
   "source": [
    "# Find Correct Images\n",
    "(images that have been assessed to be correct that are in chips_positive directories "
   ]
  },
  {
   "cell_type": "markdown",
   "id": "8cde4736-0538-42ad-ade9-c56fd57c80e4",
   "metadata": {},
   "source": [
    "## Read in Incorrectly labeled images"
   ]
  },
  {
   "cell_type": "code",
   "execution_count": 8,
   "id": "1926870b-c395-47ab-b2f7-713acc3c7664",
   "metadata": {},
   "outputs": [
    {
     "name": "stderr",
     "output_type": "stream",
     "text": [
      "100%|██████████| 2690/2690 [01:25<00:00, 31.56it/s]\n"
     ]
    }
   ],
   "source": [
    "###read in images\n",
    "incorrect_labeled_chip_names_by_subfolder = pd.read_csv(\"incorrect_labeled_chip_names_by_subfolder.csv\")\n",
    "incorrect_labeled_chip_image_array = np.zeros((len(incorrect_labeled_chip_names_by_subfolder),512,512, 3), dtype='uint8')\n",
    "for num in tqdm.tqdm(range(len(incorrect_labeled_chip_names_by_subfolder))):    \n",
    "    labeled_chip_array = cv2.imread(incorrect_labeled_chip_names_by_subfolder[\"incorrect_chip_paths\"][num])  #open image\n",
    "    incorrect_labeled_chip_image_array[num,:,:,:] = labeled_chip_array\n",
    "\n",
    "\n",
    "### convert to incorrect_labeled_chip_image_array to gray scale\n",
    "gray_incorrect_labeled_chip_image_array = np.empty((len(incorrect_labeled_chip_image_array), 512, 512),dtype='uint8')\n",
    "\n",
    "for num in range(len(incorrect_labeled_chip_image_array)):\n",
    "    gray_incorrect_labeled_chip_image_array[num,:,:]  = cv2.cvtColor(incorrect_labeled_chip_image_array[num,:,:,:],\n",
    "                                                                     cv2.COLOR_BGR2GRAY)\n",
    "    ##https://pyimagesearch.com/2017/06/19/image-difference-with-opencv-and-python/\n",
    "    #https://pyimagesearch.com/2014/09/15/python-compare-two-images/\n",
    "    \n",
    "## identify gray scale\n",
    "gray_incorrect_labeled_chip_image_unique_array, gray_incorrect_labeled_chip_image_unique_indices = np.unique(gray_incorrect_labeled_chip_image_array, axis = 0, return_index=True)"
   ]
  },
  {
   "cell_type": "markdown",
   "id": "c4206129-ffbf-45a5-b1ef-92382f606077",
   "metadata": {},
   "source": [
    "## Identify correct paths based on images with correct data in chips_positive folder in subdirectory"
   ]
  },
  {
   "cell_type": "code",
   "execution_count": 10,
   "id": "db3099a5-73a2-497c-8080-2d0544d5d4a2",
   "metadata": {
    "tags": []
   },
   "outputs": [
    {
     "name": "stderr",
     "output_type": "stream",
     "text": [
      "100%|██████████| 44/44 [1:31:07<00:00, 124.25s/it]\n"
     ]
    }
   ],
   "source": [
    "incorrect_image_paths = []\n",
    "correct_image_paths = [] \n",
    "correct_identified_image_indicies = []\n",
    "incorrect_image_indicies = []\n",
    "\n",
    "temp_gray_incorrect_labeled_chip_image_unique_indices = gray_incorrect_labeled_chip_image_unique_indices.tolist() #use for for loop\n",
    "\n",
    "for directory in tqdm.tqdm(unverified_verified_set1_subfolders_paths):\n",
    "    #identify tiles that have corresponding images in directory\n",
    "    correctly_labeled_images_in_directory, correctly_labeled_images_in_directory_array, correctly_labeled_image_directory = fc.positive_images_to_array_correctly_labeled(directory[0],incorrect_labeled_chip_names_by_subfolder)\n",
    "    \n",
    "    gray_correctly_labeled_images_in_directory_array = np.empty((len(correctly_labeled_images_in_directory_array), 512, 512),dtype='uint8')\n",
    "    for num in range(len(correctly_labeled_images_in_directory_array)):\n",
    "        gray_correctly_labeled_images_in_directory_array[num,:,:] = cv2.cvtColor(correctly_labeled_images_in_directory_array[num,:,:,:],\n",
    "                                                                         cv2.COLOR_BGR2GRAY) \n",
    "    gray_correctly_labeled_images_in_directory_unique_array, gray_correctly_labeled_images_unique_indices = np.unique(gray_correctly_labeled_images_in_directory_array, axis = 0, return_index=True)\n",
    "\n",
    "    \n",
    "    for incorrect_labeled_unique_index in temp_gray_incorrect_labeled_chip_image_unique_indices:\n",
    "        for correctly_labeled_unique_index in gray_correctly_labeled_images_unique_indices:\n",
    "\n",
    "            if np.array_equal(gray_incorrect_labeled_chip_image_array[incorrect_labeled_unique_index],\n",
    "                              gray_correctly_labeled_images_in_directory_array[correctly_labeled_unique_index]):\n",
    "\n",
    "                incorrect_image_paths.append(incorrect_labeled_chip_names_by_subfolder[\"incorrect_chip_paths\"][incorrect_labeled_unique_index])\n",
    "                correct_image_paths.append(os.path.join(correctly_labeled_image_directory[correctly_labeled_unique_index],\n",
    "                                                        correctly_labeled_images_in_directory[correctly_labeled_unique_index]))\n",
    "                correct_identified_image_indicies.append(incorrect_labeled_unique_index)\n",
    "                incorrect_image_indicies.append(correctly_labeled_unique_index)\n",
    "                                             \n",
    "                #remove identified incorect image from list\n",
    "                temp_gray_incorrect_labeled_chip_image_unique_indices.remove(incorrect_labeled_unique_index)\n",
    "                break"
   ]
  },
  {
   "cell_type": "code",
   "execution_count": null,
   "id": "6e36cd8a-3b79-4778-89fe-81c583501a96",
   "metadata": {},
   "outputs": [],
   "source": [
    "#Save information of correlated correct images"
   ]
  },
  {
   "cell_type": "code",
   "execution_count": 14,
   "id": "fc96133e-fde1-4834-9fff-1de1a1b7302b",
   "metadata": {},
   "outputs": [],
   "source": [
    "d = {'incorrect_image_paths': incorrect_image_paths,\n",
    "     'correct_image_paths': correct_image_paths,\n",
    "     'correct_identified_image_indicies': correct_identified_image_indicies,\n",
    "     'incorrect_image_indicies': incorrect_image_indicies}\n",
    "\n",
    "correct_images_for_incorrect_labeled_chip_names_identified_from_confirmed_correct_positive_chips = pd.DataFrame(data = d)\n",
    "correct_images_for_incorrect_labeled_chip_names_identified_from_confirmed_correct_positive_chips.to_csv('correct_images_for_incorrect_labeled_chip_names_identified_from_confirmed_correct_positive_chips.csv')"
   ]
  },
  {
   "cell_type": "code",
   "execution_count": null,
   "id": "816b448a-cef9-4e58-9f13-f7610f41c534",
   "metadata": {},
   "outputs": [],
   "source": [
    "#Save indicies for image incorrect images left "
   ]
  },
  {
   "cell_type": "code",
   "execution_count": 13,
   "id": "8e47b418-fb40-4a6d-8fd3-f1ca68dde0c1",
   "metadata": {},
   "outputs": [],
   "source": [
    "d = {'indicies_of_incorrect_labeled_chip_image_remaining': temp_gray_incorrect_labeled_chip_image_unique_indices}\n",
    "\n",
    "indicies_of_incorrect_labeled_chip_image_remaining = pd.DataFrame(data = d)\n",
    "indicies_of_incorrect_labeled_chip_image_remaining.to_csv('indicies_of_incorrect_labeled_chip_image_remaining.csv')"
   ]
  },
  {
   "cell_type": "code",
   "execution_count": 2,
   "id": "95b81055-1cc9-492b-a063-351409c3f164",
   "metadata": {},
   "outputs": [
    {
     "ename": "NameError",
     "evalue": "name 'gray_correctly_labeled_images_unique_indices' is not defined",
     "output_type": "error",
     "traceback": [
      "\u001b[1;31m---------------------------------------------------------------------------\u001b[0m",
      "\u001b[1;31mNameError\u001b[0m                                 Traceback (most recent call last)",
      "\u001b[1;32mC:\\Users\\RAPIDU~1\\AppData\\Local\\Temp/ipykernel_2780/2854005778.py\u001b[0m in \u001b[0;36m<module>\u001b[1;34m\u001b[0m\n\u001b[1;32m----> 1\u001b[1;33m \u001b[0mgray_correctly_labeled_images_unique_indices\u001b[0m\u001b[1;33m\u001b[0m\u001b[1;33m\u001b[0m\u001b[0m\n\u001b[0m",
      "\u001b[1;31mNameError\u001b[0m: name 'gray_correctly_labeled_images_unique_indices' is not defined"
     ]
    }
   ],
   "source": [
    "gray_correctly_labeled_images_unique_indices"
   ]
  },
  {
   "cell_type": "code",
   "execution_count": null,
   "id": "ff136da0-c7c6-4f12-b7d1-d7af5f181287",
   "metadata": {},
   "outputs": [],
   "source": [
    "# "
   ]
  },
  {
   "cell_type": "code",
   "execution_count": 3,
   "id": "09fe9bdc-522d-4b08-8d93-c496d3f0ce88",
   "metadata": {},
   "outputs": [],
   "source": [
    "incorrect_labeled_chip_names_by_subfolder = pd.read_csv(\"incorrect_labeled_chip_names_by_subfolder.csv\")\n",
    "indicies_of_incorrect_labeled_chip_image_remaining  = pd.read_csv(\"indicies_of_incorrect_labeled_chip_image_remaining.csv\")\n",
    "indicies_of_incorrect_labeled_chip_image_remaining = indicies_of_incorrect_labeled_chip_image_remaining[\"indicies_of_incorrect_labeled_chip_image_remaining\"].tolist()"
   ]
  },
  {
   "cell_type": "code",
   "execution_count": 4,
   "id": "199ff5ec-4370-4b1f-88d5-da373d4db3a3",
   "metadata": {},
   "outputs": [
    {
     "data": {
      "text/plain": [
       "549"
      ]
     },
     "execution_count": 4,
     "metadata": {},
     "output_type": "execute_result"
    }
   ],
   "source": [
    "incorrect_image_path = []\n",
    "incorrect_image_formatted_tile_names_wo_ext = []\n",
    "counter = 0\n",
    "for correct_image_path in correct_images_for_incorrect_labeled_chip_names_identified_from_confirmed_correct_positive_chips[\"incorrect_image_paths\"]:\n",
    "    incorrect_image_formatted_tile_names_wo_ext.append(os.path.basename(correct_image_path).rsplit(\"_\",1)[0])\n",
    "    incorrect_image_path.append(os.path.dirname(correct_image_path ))\n",
    "    counter += 1\n",
    "incorrect_image_formatted_tile_names_wo_ext = np.unique(incorrect_image_formatted_tile_names_wo_ext)\n",
    "counter"
   ]
  },
  {
   "cell_type": "code",
   "execution_count": 5,
   "id": "88729c23-e129-4f1b-ab9d-c73d92a6c3db",
   "metadata": {},
   "outputs": [],
   "source": [
    "#if formatted_image_names_wo_ext\n",
    "count = 1\n",
    "correct_image_paths = []\n",
    "correct_image_tile_names = []\n",
    "\n",
    "for incorrect_image_formatted_name_wo_ext in incorrect_image_formatted_tile_names_wo_ext:\n",
    "    indicies = [ind for ind, string in enumerate(correct_images_for_incorrect_labeled_chip_names_identified_from_confirmed_correct_positive_chips[\"incorrect_image_paths\"]) if incorrect_image_formatted_name_wo_ext in string]\n",
    "    #pathes = correct_images_for_incorrect_labeled_chip_names_identified_from_confirmed_correct_positive_chips[\"correct_image_paths\"][indicies]\n",
    "    correct_image_fullpath = correct_images_for_incorrect_labeled_chip_names_identified_from_confirmed_correct_positive_chips[\"correct_image_paths\"][indicies].tolist()[0]\n",
    "    correct_image_paths.append( os.path.dirname(correct_image_fullpath))\n",
    "    correct_image_tile_names.append( os.path.basename(correct_image_fullpath).rsplit(\"_\",1)[0] )#+\".tif\"\n",
    "    #print(correct_image_path, correct_image_tile_name)"
   ]
  },
  {
   "cell_type": "code",
   "execution_count": 31,
   "id": "6a243f16-f9ba-436a-937e-94c2332dd2bb",
   "metadata": {},
   "outputs": [
    {
     "name": "stderr",
     "output_type": "stream",
     "text": [
      "  8%|▊         | 3/36 [00:14<02:54,  5.28s/it]"
     ]
    },
    {
     "name": "stdout",
     "output_type": "stream",
     "text": [
      "//oit-nas-fe13dc.oit.duke.edu//data_commons-borsuk//unverified_images\\student_reviewed_unverified_images_set1/Qianyu/chips_positive\\la_60cm_2019_29090_m_2909006_nw_15_060_20190707_000465.jpg ['la_60cm_2019_29090_m_2909006_nw_15_060_20190707'] ['//oit-nas-fe13dc.oit.duke.edu//data_commons-borsuk//unverified_images\\\\student_reviewed_unverified_images_set1/group_unreviewed_unverfied_images\\\\chips_positive\\\\la_60cm_2019_29090_m_2909006_nw_15_060_20190707_000465.jpg']\n",
      "//oit-nas-fe13dc.oit.duke.edu//data_commons-borsuk//unverified_images\\student_reviewed_unverified_images_set1/Qianyu/chips_positive\\la_60cm_2019_29090_m_2909006_nw_15_060_20190707_000440.jpg ['la_60cm_2019_29090_m_2909006_nw_15_060_20190707'] ['//oit-nas-fe13dc.oit.duke.edu//data_commons-borsuk//unverified_images\\\\student_reviewed_unverified_images_set1/group_unreviewed_unverfied_images\\\\chips_negative\\\\la_60cm_2019_29090_m_2909006_nw_15_060_20190707_000440.jpg']\n",
      "//oit-nas-fe13dc.oit.duke.edu//data_commons-borsuk//unverified_images\\student_reviewed_unverified_images_set1/Qianyu/chips_positive\\la_60cm_2019_29090_m_2909006_nw_15_060_20190707_000491.jpg ['la_60cm_2019_29090_m_2909006_nw_15_060_20190707'] ['//oit-nas-fe13dc.oit.duke.edu//data_commons-borsuk//unverified_images\\\\student_reviewed_unverified_images_set1/group_unreviewed_unverfied_images\\\\chips_positive\\\\la_60cm_2019_29090_m_2909006_nw_15_060_20190707_000491.jpg']\n",
      "//oit-nas-fe13dc.oit.duke.edu//data_commons-borsuk//unverified_images\\student_reviewed_unverified_images_set1/Qianyu/chips_positive\\la_60cm_2019_29090_m_2909006_nw_15_060_20190707_000441.jpg ['la_60cm_2019_29090_m_2909006_nw_15_060_20190707'] ['//oit-nas-fe13dc.oit.duke.edu//data_commons-borsuk//unverified_images\\\\student_reviewed_unverified_images_set1/group_unreviewed_unverfied_images\\\\chips_negative\\\\la_60cm_2019_29090_m_2909006_nw_15_060_20190707_000441.jpg']\n",
      "//oit-nas-fe13dc.oit.duke.edu//data_commons-borsuk//unverified_images\\student_reviewed_unverified_images_set1/Qianyu/chips_positive\\la_60cm_2019_29090_m_2909006_nw_15_060_20190707_000466.jpg ['la_60cm_2019_29090_m_2909006_nw_15_060_20190707'] ['//oit-nas-fe13dc.oit.duke.edu//data_commons-borsuk//unverified_images\\\\student_reviewed_unverified_images_set1/group_unreviewed_unverfied_images\\\\chips_positive\\\\la_60cm_2019_29090_m_2909006_nw_15_060_20190707_000466.jpg']\n",
      "//oit-nas-fe13dc.oit.duke.edu//data_commons-borsuk//unverified_images\\student_reviewed_unverified_images_set1/Qianyu/chips_positive\\la_60cm_2019_29090_m_2909006_nw_15_060_20190707_000490.jpg ['la_60cm_2019_29090_m_2909006_nw_15_060_20190707'] ['//oit-nas-fe13dc.oit.duke.edu//data_commons-borsuk//unverified_images\\\\student_reviewed_unverified_images_set1/group_unreviewed_unverfied_images\\\\chips_positive\\\\la_60cm_2019_29090_m_2909006_nw_15_060_20190707_000490.jpg']\n"
     ]
    },
    {
     "name": "stderr",
     "output_type": "stream",
     "text": [
      " 14%|█▍        | 5/36 [00:20<01:58,  3.83s/it]"
     ]
    },
    {
     "name": "stdout",
     "output_type": "stream",
     "text": [
      "//oit-nas-fe13dc.oit.duke.edu//data_commons-borsuk//unverified_images\\student_reviewed_unverified_images_set1/Qianyu/chips_positive\\fl_60cm_2019_27082_m_2708205_sw_17_060_20191129_000148.jpg ['fl_60cm_2019_27082_m_2708205_sw_17_060_20191129'] ['//oit-nas-fe13dc.oit.duke.edu//data_commons-borsuk//unverified_images\\\\student_reviewed_unverified_images_set1/group_unreviewed_unverfied_images\\\\chips_negative\\\\fl_60cm_2019_27082_m_2708205_sw_17_060_20191129_000148.jpg']\n",
      "//oit-nas-fe13dc.oit.duke.edu//data_commons-borsuk//unverified_images\\student_reviewed_unverified_images_set1/Qianyu/chips_positive\\fl_60cm_2019_27082_m_2708205_sw_17_060_20191129_000171.jpg ['fl_60cm_2019_27082_m_2708205_sw_17_060_20191129'] ['//oit-nas-fe13dc.oit.duke.edu//data_commons-borsuk//unverified_images\\\\student_reviewed_unverified_images_set1/group_unreviewed_unverfied_images\\\\chips_positive\\\\fl_60cm_2019_27082_m_2708205_sw_17_060_20191129_000171.jpg']\n",
      "//oit-nas-fe13dc.oit.duke.edu//data_commons-borsuk//unverified_images\\student_reviewed_unverified_images_set1/Qianyu/chips_positive\\fl_60cm_2019_27082_m_2708205_sw_17_060_20191129_000242.jpg ['fl_60cm_2019_27082_m_2708205_sw_17_060_20191129'] ['//oit-nas-fe13dc.oit.duke.edu//data_commons-borsuk//unverified_images\\\\student_reviewed_unverified_images_set1/group_unreviewed_unverfied_images\\\\chips_negative\\\\fl_60cm_2019_27082_m_2708205_sw_17_060_20191129_000242.jpg']\n",
      "//oit-nas-fe13dc.oit.duke.edu//data_commons-borsuk//unverified_images\\student_reviewed_unverified_images_set1/Qianyu/chips_positive\\fl_60cm_2019_27082_m_2708205_sw_17_060_20191129_000243.jpg ['fl_60cm_2019_27082_m_2708205_sw_17_060_20191129'] ['//oit-nas-fe13dc.oit.duke.edu//data_commons-borsuk//unverified_images\\\\student_reviewed_unverified_images_set1/group_unreviewed_unverfied_images\\\\chips_negative\\\\fl_60cm_2019_27082_m_2708205_sw_17_060_20191129_000243.jpg']\n",
      "//oit-nas-fe13dc.oit.duke.edu//data_commons-borsuk//unverified_images\\student_reviewed_unverified_images_set1/Qianyu/chips_positive\\fl_60cm_2019_27082_m_2708205_sw_17_060_20191129_000173.jpg ['fl_60cm_2019_27082_m_2708205_sw_17_060_20191129'] ['//oit-nas-fe13dc.oit.duke.edu//data_commons-borsuk//unverified_images\\\\student_reviewed_unverified_images_set1/group_unreviewed_unverfied_images\\\\chips_negative\\\\fl_60cm_2019_27082_m_2708205_sw_17_060_20191129_000173.jpg']\n"
     ]
    },
    {
     "name": "stderr",
     "output_type": "stream",
     "text": [
      " 17%|█▋        | 6/36 [00:22<01:44,  3.49s/it]"
     ]
    },
    {
     "name": "stdout",
     "output_type": "stream",
     "text": [
      "//oit-nas-fe13dc.oit.duke.edu//data_commons-borsuk//unverified_images\\student_reviewed_unverified_images_set1/Qianyu/chips_positive\\fl_60cm_2019_27082_m_2708205_sw_17_060_20191129_000197.jpg ['fl_60cm_2019_27082_m_2708205_sw_17_060_20191129'] ['//oit-nas-fe13dc.oit.duke.edu//data_commons-borsuk//unverified_images\\\\student_reviewed_unverified_images_set1/group_unreviewed_unverfied_images\\\\chips_negative\\\\fl_60cm_2019_27082_m_2708205_sw_17_060_20191129_000197.jpg']\n"
     ]
    },
    {
     "name": "stderr",
     "output_type": "stream",
     "text": [
      " 31%|███       | 11/36 [00:40<01:26,  3.46s/it]"
     ]
    },
    {
     "name": "stdout",
     "output_type": "stream",
     "text": [
      "//oit-nas-fe13dc.oit.duke.edu//data_commons-borsuk//unverified_images\\student_reviewed_unverified_images_set1/Qianyu/chips_positive\\la_60cm_2019_29090_m_2909008_sw_15_060_20190707_000120.jpg ['la_60cm_2019_29090_m_2909008_sw_15_060_20190707'] ['//oit-nas-fe13dc.oit.duke.edu//data_commons-borsuk//unverified_images\\\\student_reviewed_unverified_images_set1/Alex/student_reviewed_images1\\\\chips_negative\\\\la_60cm_2019_29090_m_2909008_sw_15_060_20190707_000120.jpg']\n"
     ]
    },
    {
     "name": "stderr",
     "output_type": "stream",
     "text": [
      " 58%|█████▊    | 21/36 [01:21<01:00,  4.02s/it]"
     ]
    },
    {
     "name": "stdout",
     "output_type": "stream",
     "text": [
      "//oit-nas-fe13dc.oit.duke.edu//data_commons-borsuk//unverified_images\\student_reviewed_unverified_images_set1/Qianyu/chips_positive\\la_60cm_2019_29090_m_2909007_se_15_060_20190707_000412.jpg ['la_60cm_2019_29090_m_2909007_se_15_060_20190707'] ['//oit-nas-fe13dc.oit.duke.edu//data_commons-borsuk//unverified_images\\\\student_reviewed_unverified_images_set1/Alex/student_reviewed_images1\\\\chips_negative\\\\la_60cm_2019_29090_m_2909007_se_15_060_20190707_000412.jpg']\n",
      "//oit-nas-fe13dc.oit.duke.edu//data_commons-borsuk//unverified_images\\student_reviewed_unverified_images_set1/Qianyu/chips_positive\\la_60cm_2019_29090_m_2909007_se_15_060_20190707_000266.jpg ['la_60cm_2019_29090_m_2909007_se_15_060_20190707'] ['//oit-nas-fe13dc.oit.duke.edu//data_commons-borsuk//unverified_images\\\\student_reviewed_unverified_images_set1/Alex/student_reviewed_images1\\\\chips_negative\\\\la_60cm_2019_29090_m_2909007_se_15_060_20190707_000266.jpg']\n",
      "//oit-nas-fe13dc.oit.duke.edu//data_commons-borsuk//unverified_images\\student_reviewed_unverified_images_set1/Qianyu/chips_positive\\la_60cm_2019_29090_m_2909007_se_15_060_20190707_000341.jpg ['la_60cm_2019_29090_m_2909007_se_15_060_20190707'] ['//oit-nas-fe13dc.oit.duke.edu//data_commons-borsuk//unverified_images\\\\student_reviewed_unverified_images_set1/Alex/student_reviewed_images1\\\\chips_negative\\\\la_60cm_2019_29090_m_2909007_se_15_060_20190707_000341.jpg']\n",
      "//oit-nas-fe13dc.oit.duke.edu//data_commons-borsuk//unverified_images\\student_reviewed_unverified_images_set1/Qianyu/chips_positive\\la_60cm_2019_29090_m_2909007_se_15_060_20190707_000265.jpg ['la_60cm_2019_29090_m_2909007_se_15_060_20190707'] ['//oit-nas-fe13dc.oit.duke.edu//data_commons-borsuk//unverified_images\\\\student_reviewed_unverified_images_set1/Alex/student_reviewed_images1\\\\chips_negative\\\\la_60cm_2019_29090_m_2909007_se_15_060_20190707_000265.jpg']\n",
      "//oit-nas-fe13dc.oit.duke.edu//data_commons-borsuk//unverified_images\\student_reviewed_unverified_images_set1/Qianyu/chips_positive\\la_60cm_2019_29090_m_2909007_se_15_060_20190707_000083.jpg ['la_60cm_2019_29090_m_2909007_se_15_060_20190707'] ['//oit-nas-fe13dc.oit.duke.edu//data_commons-borsuk//unverified_images\\\\student_reviewed_unverified_images_set1/Alex/student_reviewed_images1\\\\chips_negative\\\\la_60cm_2019_29090_m_2909007_se_15_060_20190707_000083.jpg']\n"
     ]
    },
    {
     "name": "stderr",
     "output_type": "stream",
     "text": [
      " 61%|██████    | 22/36 [01:25<00:54,  3.87s/it]"
     ]
    },
    {
     "name": "stdout",
     "output_type": "stream",
     "text": [
      "//oit-nas-fe13dc.oit.duke.edu//data_commons-borsuk//unverified_images\\student_reviewed_unverified_images_set1/Qianyu/chips_positive\\la_60cm_2019_29090_m_2909007_sw_15_060_20190707_000195.jpg ['la_60cm_2019_29090_m_2909007_sw_15_060_20190707'] ['//oit-nas-fe13dc.oit.duke.edu//data_commons-borsuk//unverified_images\\\\student_reviewed_unverified_images_set1/Alex/student_reviewed_images1\\\\chips_negative\\\\la_60cm_2019_29090_m_2909007_sw_15_060_20190707_000195.jpg']\n"
     ]
    },
    {
     "name": "stderr",
     "output_type": "stream",
     "text": [
      " 64%|██████▍   | 23/36 [01:29<00:50,  3.88s/it]"
     ]
    },
    {
     "name": "stdout",
     "output_type": "stream",
     "text": [
      "//oit-nas-fe13dc.oit.duke.edu//data_commons-borsuk//unverified_images\\student_reviewed_unverified_images_set1/Qianyu/chips_positive\\fl_60cm_2019_30081_m_3008136_sw_17_060_20191119_000316.jpg ['fl_60cm_2019_30081_m_3008136_sw_17_060_20191119'] ['//oit-nas-fe13dc.oit.duke.edu//data_commons-borsuk//unverified_images\\\\student_reviewed_unverified_images_set1/Alex/student_reviewed_images1\\\\chips_negative\\\\fl_60cm_2019_30081_m_3008136_sw_17_060_20191119_000316.jpg']\n"
     ]
    },
    {
     "name": "stderr",
     "output_type": "stream",
     "text": [
      " 67%|██████▋   | 24/36 [01:32<00:44,  3.75s/it]"
     ]
    },
    {
     "name": "stdout",
     "output_type": "stream",
     "text": [
      "//oit-nas-fe13dc.oit.duke.edu//data_commons-borsuk//unverified_images\\student_reviewed_unverified_images_set1/Qianyu/chips_positive\\la_60cm_2019_29089_m_2908901_sw_16_060_20190707_000508.jpg ['la_60cm_2019_29089_m_2908901_sw_16_060_20190707'] ['//oit-nas-fe13dc.oit.duke.edu//data_commons-borsuk//unverified_images\\\\student_reviewed_unverified_images_set1/group_unreviewed_unverfied_images\\\\chips_negative\\\\la_60cm_2019_29089_m_2908901_sw_16_060_20190707_000508.jpg']\n",
      "//oit-nas-fe13dc.oit.duke.edu//data_commons-borsuk//unverified_images\\student_reviewed_unverified_images_set1/Qianyu/chips_positive\\la_60cm_2019_29089_m_2908901_sw_16_060_20190707_000481.jpg ['la_60cm_2019_29089_m_2908901_sw_16_060_20190707'] ['//oit-nas-fe13dc.oit.duke.edu//data_commons-borsuk//unverified_images\\\\student_reviewed_unverified_images_set1/group_unreviewed_unverfied_images\\\\chips_negative\\\\la_60cm_2019_29089_m_2908901_sw_16_060_20190707_000481.jpg']\n",
      "//oit-nas-fe13dc.oit.duke.edu//data_commons-borsuk//unverified_images\\student_reviewed_unverified_images_set1/Qianyu/chips_positive\\la_60cm_2019_29089_m_2908901_sw_16_060_20190707_000482.jpg ['la_60cm_2019_29089_m_2908901_sw_16_060_20190707'] ['//oit-nas-fe13dc.oit.duke.edu//data_commons-borsuk//unverified_images\\\\student_reviewed_unverified_images_set1/group_unreviewed_unverfied_images\\\\chips_negative\\\\la_60cm_2019_29089_m_2908901_sw_16_060_20190707_000482.jpg']\n"
     ]
    },
    {
     "name": "stderr",
     "output_type": "stream",
     "text": [
      " 69%|██████▉   | 25/36 [01:35<00:38,  3.46s/it]"
     ]
    },
    {
     "name": "stdout",
     "output_type": "stream",
     "text": [
      "//oit-nas-fe13dc.oit.duke.edu//data_commons-borsuk//unverified_images\\student_reviewed_unverified_images_set1/Qianyu/chips_positive\\la_60cm_2019_29089_m_2908901_sw_16_060_20190707_000507.jpg ['la_60cm_2019_29089_m_2908901_sw_16_060_20190707'] ['//oit-nas-fe13dc.oit.duke.edu//data_commons-borsuk//unverified_images\\\\student_reviewed_unverified_images_set1/group_unreviewed_unverfied_images\\\\chips_negative\\\\la_60cm_2019_29089_m_2908901_sw_16_060_20190707_000507.jpg']\n"
     ]
    },
    {
     "name": "stderr",
     "output_type": "stream",
     "text": [
      " 75%|███████▌  | 27/36 [01:44<00:37,  4.21s/it]"
     ]
    },
    {
     "name": "stdout",
     "output_type": "stream",
     "text": [
      "//oit-nas-fe13dc.oit.duke.edu//data_commons-borsuk//unverified_images\\student_reviewed_unverified_images_set1/Qianyu/chips_positive\\fl_60cm_2019_30081_m_3008143_ne_17_060_20191119_000106.jpg ['fl_60cm_2019_30081_m_3008143_ne_17_060_20191119'] ['//oit-nas-fe13dc.oit.duke.edu//data_commons-borsuk//unverified_images\\\\student_reviewed_unverified_images_set1/Alex/student_reviewed_images1\\\\chips_negative\\\\fl_60cm_2019_30081_m_3008143_ne_17_060_20191119_000106.jpg']\n"
     ]
    },
    {
     "name": "stderr",
     "output_type": "stream",
     "text": [
      "100%|██████████| 36/36 [02:12<00:00,  3.69s/it]"
     ]
    },
    {
     "name": "stdout",
     "output_type": "stream",
     "text": [
      "//oit-nas-fe13dc.oit.duke.edu//data_commons-borsuk//unverified_images\\student_reviewed_unverified_images_set1/Qianyu/chips_positive\\pa_60cm_2019_39075_m_3907508_nw_18_060_20191015_000201.jpg ['pa_60cm_2019_39075_m_3907508_nw_18_060_20191015'] ['//oit-nas-fe13dc.oit.duke.edu//data_commons-borsuk//unverified_images\\\\student_reviewed_unverified_images_set1/Jackson/student_reviewed_images3\\\\chips_negative\\\\pa_60cm_2019_39075_m_3907508_nw_18_060_20191015_000201.jpg']\n",
      "//oit-nas-fe13dc.oit.duke.edu//data_commons-borsuk//unverified_images\\student_reviewed_unverified_images_set1/Qianyu/chips_positive\\pa_60cm_2019_39075_m_3907508_nw_18_060_20191015_000202.jpg ['pa_60cm_2019_39075_m_3907508_nw_18_060_20191015'] ['//oit-nas-fe13dc.oit.duke.edu//data_commons-borsuk//unverified_images\\\\student_reviewed_unverified_images_set1/Jackson/student_reviewed_images3\\\\chips_negative\\\\pa_60cm_2019_39075_m_3907508_nw_18_060_20191015_000202.jpg']\n"
     ]
    },
    {
     "name": "stderr",
     "output_type": "stream",
     "text": [
      "\n"
     ]
    },
    {
     "data": {
      "text/plain": [
       "0"
      ]
     },
     "execution_count": 31,
     "metadata": {},
     "output_type": "execute_result"
    }
   ],
   "source": [
    "counter = 0\n",
    "for i in tqdm.tqdm(range(len(correct_image_paths))): #get all of the correct image paths for a given tile \n",
    "    #print(num)\n",
    "    #print(correct_image_paths[num])\n",
    "    #print(correct_image_tile_names[num])\n",
    "    all_image_paths = glob(os.path.dirname(correct_image_paths[i])+ \"/*/*.jpg\", recursive = True)\n",
    "    #correct_image_paths = []\n",
    "    #for all_image_path in all_image_paths:\n",
    "    #    if correct_image_tile_names[num] in all_image_path:\n",
    "    #        correct_image_paths.append(all_image_path)\n",
    "    #print(correct_image_paths)\n",
    "    set_correct_image_paths = [string for string in all_image_paths if correct_image_tile_names[i] in string]\n",
    "    \n",
    "    for ii in indicies_of_incorrect_labeled_chip_image_remaining:\n",
    "        formatted_incorrect_image_name_wo_ext_wo_chip_no = incorrect_labeled_chip_names_by_subfolder[\"incorrect_chip_names\"][ii].rsplit(\"_\",1)[0]\n",
    "        formatted_incorrect_image_name_chip_no_w_ext = incorrect_labeled_chip_names_by_subfolder[\"incorrect_chip_names\"][ii].rsplit(\"_\",1)[1]\n",
    "        remaining_incorrect_image_to_test = [string for string in incorrect_image_formatted_tile_names_wo_ext if formatted_incorrect_image_name_wo_ext_wo_chip_no in string] #find correct tile name \n",
    "        #print(formatted_image_name_wo_ext_wo_chip_no,formatted_image_name_chip_no_w_ext)\n",
    "        #print(remaining_incorrect_image_to_test, len(remaining_incorrect_image_to_test))\n",
    "        #print(temp)\n",
    "        if len(remaining_incorrect_image_to_test) > 0:\n",
    "            x =  [string for string in set_correct_image_paths if incorrect_labeled_chip_names_by_subfolder[\"incorrect_chip_names\"][ii] in string]\n",
    "            if len(x) > 0:\n",
    "                print(incorrect_labeled_chip_names_by_subfolder[\"incorrect_chip_paths\"][ii], remaining_incorrect_image_to_test, x)\n",
    "        #    index, = np.where(np.array(set_correct_image_paths) == incorrect_labeled_chip_names_by_subfolder[\"incorrect_chip_names\"][ii])\n",
    "        #   print(incorrect_labeled_chip_names_by_subfolder[\"incorrect_chip_names\"][ii])\n",
    "        #    print(index)\n",
    "        #    counter += 1\n",
    "        #    print(index[0])\n",
    "        #    all_image_paths = glob(os.path.dirname(correct_image_paths[index[0]])+ \"/*/*.jpg\", recursive = True)\n",
    "counter "
   ]
  },
  {
   "cell_type": "code",
   "execution_count": 585,
   "id": "2bda4a54-3e2f-447c-a247-011605231e14",
   "metadata": {},
   "outputs": [
    {
     "name": "stderr",
     "output_type": "stream",
     "text": [
      "  0%|          | 0/801 [00:00<?, ?it/s]"
     ]
    },
    {
     "name": "stdout",
     "output_type": "stream",
     "text": [
      "0\n"
     ]
    },
    {
     "name": "stderr",
     "output_type": "stream",
     "text": [
      "\n"
     ]
    },
    {
     "ename": "IndexError",
     "evalue": "list index out of range",
     "output_type": "error",
     "traceback": [
      "\u001b[1;31m---------------------------------------------------------------------------\u001b[0m",
      "\u001b[1;31mIndexError\u001b[0m                                Traceback (most recent call last)",
      "\u001b[1;32mC:\\Users\\RAPIDU~1\\AppData\\Local\\Temp/ipykernel_9240/3429950840.py\u001b[0m in \u001b[0;36m<module>\u001b[1;34m\u001b[0m\n\u001b[0;32m     11\u001b[0m         \u001b[0mindex\u001b[0m\u001b[1;33m,\u001b[0m \u001b[1;33m=\u001b[0m \u001b[0mnp\u001b[0m\u001b[1;33m.\u001b[0m\u001b[0mwhere\u001b[0m\u001b[1;33m(\u001b[0m\u001b[0mincorrect_image_formatted_names_wo_ext\u001b[0m \u001b[1;33m==\u001b[0m \u001b[0mformatted_image_name_wo_ext_wo_chip_no\u001b[0m\u001b[1;33m)\u001b[0m\u001b[1;33m\u001b[0m\u001b[1;33m\u001b[0m\u001b[0m\n\u001b[0;32m     12\u001b[0m         \u001b[0mprint\u001b[0m\u001b[1;33m(\u001b[0m\u001b[0mindex\u001b[0m\u001b[1;33m[\u001b[0m\u001b[1;36m0\u001b[0m\u001b[1;33m]\u001b[0m\u001b[1;33m)\u001b[0m\u001b[1;33m\u001b[0m\u001b[1;33m\u001b[0m\u001b[0m\n\u001b[1;32m---> 13\u001b[1;33m         \u001b[0mall_image_paths\u001b[0m \u001b[1;33m=\u001b[0m \u001b[0mglob\u001b[0m\u001b[1;33m(\u001b[0m\u001b[0mos\u001b[0m\u001b[1;33m.\u001b[0m\u001b[0mpath\u001b[0m\u001b[1;33m.\u001b[0m\u001b[0mdirname\u001b[0m\u001b[1;33m(\u001b[0m\u001b[0mcorrect_image_paths\u001b[0m\u001b[1;33m[\u001b[0m\u001b[0mindex\u001b[0m\u001b[1;33m[\u001b[0m\u001b[1;36m0\u001b[0m\u001b[1;33m]\u001b[0m\u001b[1;33m]\u001b[0m\u001b[1;33m)\u001b[0m\u001b[1;33m+\u001b[0m \u001b[1;34m\"/*/*.jpg\"\u001b[0m\u001b[1;33m,\u001b[0m \u001b[0mrecursive\u001b[0m \u001b[1;33m=\u001b[0m \u001b[1;32mTrue\u001b[0m\u001b[1;33m)\u001b[0m\u001b[1;33m\u001b[0m\u001b[1;33m\u001b[0m\u001b[0m\n\u001b[0m\u001b[0;32m     14\u001b[0m         \u001b[1;31m#correct_image_paths = [string for string in all_image_paths if correct_image_tile_names[index[0]] in string]\u001b[0m\u001b[1;33m\u001b[0m\u001b[1;33m\u001b[0m\u001b[0m\n\u001b[0;32m     15\u001b[0m \u001b[1;33m\u001b[0m\u001b[0m\n",
      "\u001b[1;31mIndexError\u001b[0m: list index out of range"
     ]
    }
   ],
   "source": [
    "#if formatted_image_names_wo_ext\n",
    "count = 0\n",
    "image_2_review_incorrect = []\n",
    "image_2_review_correct = []\n",
    "\n",
    "for num in tqdm.tqdm(indicies_of_incorrect_labeled_chip_image_remaining):\n",
    "    formatted_image_name_wo_ext_wo_chip_no = incorrect_labeled_chip_names_by_subfolder[\"incorrect_chip_names\"][num].rsplit(\"_\",1)[0]\n",
    "    formatted_image_name_chip_no_w_ext = incorrect_labeled_chip_names_by_subfolder[\"incorrect_chip_names\"][num].rsplit(\"_\",1)[1]\n",
    "    temp = [string for string in incorrect_image_formatted_tile_names_wo_ext if formatted_image_name_wo_ext_wo_chip_no in string]\n",
    "    if len(temp) > 0:\n",
    "        index, = np.where(incorrect_image_formatted_tile_names_wo_ext == formatted_image_name_wo_ext_wo_chip_no)\n",
    "        print(index[0])\n",
    "        all_image_paths = glob(os.path.dirname(correct_image_paths[index[0]])+ \"/*/*.jpg\", recursive = True)\n",
    "        #correct_image_paths = [string for string in all_image_paths if correct_image_tile_names[index[0]] in string]\n",
    "\n",
    "        #print(index[0])\n",
    "        #image_2_review_incorrect.append(incorrect_labeled_chip_names_by_subfolder[\"incorrect_chip_names\"][num])\n",
    "        #image_2_review_correct.append(incorrect_labeled_chip_names_by_subfolder[\"correct_chip_names\"][num])\n",
    "\n",
    "        count +=1\n",
    "count"
   ]
  }
 ],
 "metadata": {
  "kernelspec": {
   "display_name": "Chip Allocate",
   "language": "python",
   "name": "chip_allocate"
  },
  "language_info": {
   "codemirror_mode": {
    "name": "ipython",
    "version": 3
   },
   "file_extension": ".py",
   "mimetype": "text/x-python",
   "name": "python",
   "nbconvert_exporter": "python",
   "pygments_lexer": "ipython3",
   "version": "3.9.7"
  }
 },
 "nbformat": 4,
 "nbformat_minor": 5
}
