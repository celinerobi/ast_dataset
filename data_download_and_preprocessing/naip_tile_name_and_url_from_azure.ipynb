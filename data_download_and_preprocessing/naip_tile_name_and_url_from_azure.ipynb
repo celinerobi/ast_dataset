{
 "cells": [
  {
   "cell_type": "markdown",
   "metadata": {},
   "source": [
    "## Load Packages"
   ]
  },
  {
   "cell_type": "code",
   "execution_count": 1,
   "metadata": {},
   "outputs": [],
   "source": [
    "# Standard packages\n",
    "import tempfile\n",
    "import warnings\n",
    "import urllib\n",
    "import shutil\n",
    "import os\n",
    "\n",
    "# Less standard, but still pip- or conda-installable\n",
    "import pandas as pd\n",
    "import numpy as np\n",
    "import matplotlib.pyplot as plt\n",
    "import matplotlib\n",
    "import re\n",
    "import rtree\n",
    "import pickle\n",
    "import progressbar # pip install progressbar2, not progressbar\n",
    "from tqdm import tqdm\n",
    "\n",
    "#Install using Christoph Golke Wheel; https://www.lfd.uci.edu/~gohlke/pythonlibs/#shapely\n",
    "import shapely\n",
    "import rasterio\n",
    "from geopy.geocoders import Nominatim\n",
    "from rasterio.windows import Window \n",
    "\n",
    "#Import module with functions\n",
    "import data_eng.az_proc as ap"
   ]
  },
  {
   "cell_type": "markdown",
   "metadata": {},
   "source": [
    "## Define Microsoft Azure Blob Root"
   ]
  },
  {
   "cell_type": "code",
   "execution_count": 2,
   "metadata": {},
   "outputs": [],
   "source": [
    "# The(preferred) copy of NAIP in the West Europe Azure region\n",
    "\n",
    "warnings.filterwarnings(\"ignore\")\n",
    "%matplotlib inline"
   ]
  },
  {
   "cell_type": "markdown",
   "metadata": {},
   "source": [
    "## Load the spatial index of NAIP tiles"
   ]
  },
  {
   "cell_type": "code",
   "execution_count": 3,
   "metadata": {},
   "outputs": [
    {
     "name": "stdout",
     "output_type": "stream",
     "text": [
      "Bypassing download of already-downloaded file tile_index.dat\n",
      "Bypassing download of already-downloaded file tile_index.idx\n",
      "Bypassing download of already-downloaded file tiles.p\n"
     ]
    }
   ],
   "source": [
    "# Spatial index that maps lat/lon to NAIP tiles; we'll load this when we first \n",
    "# need to access it.\n",
    "index = None\n",
    "\n",
    "if index is None:\n",
    "    index = ap.NAIPTileIndex()"
   ]
  },
  {
   "cell_type": "markdown",
   "metadata": {},
   "source": [
    "## EIA and HIFLD Petroleum Data Sources"
   ]
  },
  {
   "cell_type": "markdown",
   "metadata": {},
   "source": [
    "# EIA and HIFLD "
   ]
  },
  {
   "cell_type": "markdown",
   "metadata": {},
   "source": [
    "### Load Data"
   ]
  },
  {
   "cell_type": "markdown",
   "metadata": {},
   "source": [
    "Homeland Infrastructure Foundation-Level Data (HIFLD) - Petroleum Terminals\n",
    "\n",
    "https://hifld-geoplatform.opendata.arcgis.com/datasets/7841aba67178425cbf33995fc914e2fe_0/data"
   ]
  },
  {
   "cell_type": "code",
   "execution_count": 4,
   "metadata": {},
   "outputs": [],
   "source": [
    "hifld_petroleum_terminals = pd.read_csv(\"image_download_azure/Petroleum_Terminals_HIFLD.csv\") #read in sheet of quadrangles\n",
    "hifld_lons = hifld_petroleum_terminals[\"X\"].tolist()\n",
    "hifld_lats = hifld_petroleum_terminals[\"Y\"].tolist()"
   ]
  },
  {
   "cell_type": "markdown",
   "metadata": {},
   "source": [
    "EIA - Strategic Petroleum Reserves\n",
    "\n",
    "https://atlas.eia.gov/datasets/strategic-petroleum-reserves?geometry=-159.521%2C0.792%2C-28.212%2C52.750"
   ]
  },
  {
   "cell_type": "code",
   "execution_count": 5,
   "metadata": {},
   "outputs": [],
   "source": [
    "eia_strategic_petroleum_reserves = pd.read_csv(\"image_download_azure/Strategic_Petroleum_Reserves.csv\") #read in sheet of quadrangles\n",
    "eia_spr_lons = eia_strategic_petroleum_reserves[\"X\"].tolist()\n",
    "eia_spr_lats = eia_strategic_petroleum_reserves[\"Y\"].tolist()"
   ]
  },
  {
   "cell_type": "markdown",
   "metadata": {},
   "source": [
    "EIA - Petroleum Product Terminals\n",
    "\n",
    "https://atlas.eia.gov/datasets/petroleum-product-terminals "
   ]
  },
  {
   "cell_type": "code",
   "execution_count": 6,
   "metadata": {},
   "outputs": [],
   "source": [
    "eia_petroleum_product_terminals = pd.read_csv(\"image_download_azure/Petroleum_Product_Terminals.csv\") #read in sheet of quadrangles\n",
    "eia_ppt_lons = eia_petroleum_product_terminals[\"X\"].tolist()\n",
    "eia_ppt_lats = eia_petroleum_product_terminals[\"Y\"].tolist()"
   ]
  },
  {
   "cell_type": "markdown",
   "metadata": {},
   "source": [
    "EIA - Northeast Petroleum Reserves\n",
    "\n",
    "https://atlas.eia.gov/datasets/northeast-petroleum-reserves "
   ]
  },
  {
   "cell_type": "code",
   "execution_count": 7,
   "metadata": {},
   "outputs": [],
   "source": [
    "eia_northeast_petroleum_reserves = pd.read_csv(\"image_download_azure/Northeast_Petroleum_Reserves.csv\") #read in sheet of quadrangles\n",
    "eia_npr_lons = eia_northeast_petroleum_reserves[\"X\"].tolist()\n",
    "eia_npr_lats = eia_northeast_petroleum_reserves[\"Y\"].tolist()"
   ]
  },
  {
   "cell_type": "markdown",
   "metadata": {},
   "source": [
    "EIA - Petroleum Refineries\n",
    "\n",
    "https://atlas.eia.gov/datasets/petroleum-refineries?geometry=-13.914%2C-56.555%2C151.320%2C84.803"
   ]
  },
  {
   "cell_type": "code",
   "execution_count": 8,
   "metadata": {},
   "outputs": [],
   "source": [
    "eia_petroleum_refineries = pd.read_csv(\"image_download_azure/Petroleum_Refineries.csv\") #read in sheet of quadrangles\n",
    "eia_pr_lons = eia_petroleum_refineries[\"X\"].tolist()\n",
    "eia_pr_lats = eia_petroleum_refineries[\"Y\"].tolist()"
   ]
  },
  {
   "cell_type": "markdown",
   "metadata": {},
   "source": [
    "EIA - Natural Gas Processing Plants\n",
    "\n",
    "https://atlas.eia.gov/datasets/natural-gas-processing-plants"
   ]
  },
  {
   "cell_type": "code",
   "execution_count": 9,
   "metadata": {},
   "outputs": [],
   "source": [
    "eia_natural_gas_processing_plants = pd.read_csv(\"image_download_azure/Natural_Gas_Processing_Plants.csv\") #read in sheet of quadrangles\n",
    "eia_ngpp_lons = eia_natural_gas_processing_plants[\"X\"].tolist()\n",
    "eia_ngpp_lats = eia_natural_gas_processing_plants[\"Y\"].tolist()"
   ]
  },
  {
   "cell_type": "markdown",
   "metadata": {},
   "source": [
    "### Get the Filepathways, tile name, tile URL for EIA, HIFLD Data"
   ]
  },
  {
   "cell_type": "code",
   "execution_count": 10,
   "metadata": {
    "tags": []
   },
   "outputs": [
    {
     "name": "stderr",
     "output_type": "stream",
     "text": [
      " 12%|█▏        | 290/2338 [00:00<00:01, 1152.09it/s]"
     ]
    },
    {
     "name": "stdout",
     "output_type": "stream",
     "text": [
      "No tile intersections\n",
      "No tile intersections\n",
      "No tile intersections\n",
      "No tile intersections\n",
      "No tile intersections\n",
      "No tile intersections\n",
      "No tile intersections\n",
      "No tile intersections\n",
      "No tile intersections\n",
      "No tile intersections\n",
      "No tile intersections\n",
      "No tile intersections\n",
      "No tile intersections\n",
      "No tile intersections\n",
      "No tile intersections\n",
      "No tile intersections\n",
      "No tile intersections\n",
      "No tile intersections\n",
      "No tile intersections\n",
      "No tile intersections\n",
      "No tile intersections\n",
      "No tile intersections\n",
      "No tile intersections\n",
      "No tile intersections\n",
      "No tile intersections\n",
      "No tile intersections\n",
      "No tile intersections\n",
      "No tile intersections\n",
      "No tile intersections\n",
      "No tile intersections\n",
      "No tile intersections\n",
      "No tile intersections\n",
      "No tile intersections\n",
      "No tile intersections\n",
      "No tile intersections\n",
      "No tile intersections\n",
      "No tile intersections\n",
      "No tile intersections\n",
      "No tile intersections\n",
      "No tile intersections\n",
      "No tile intersections\n",
      "No tile intersections\n",
      "No tile intersections\n",
      "No tile intersections\n",
      "No tile intersections\n",
      "No tile intersections\n",
      "No tile intersections\n",
      "No tile intersections\n",
      "No tile intersections\n",
      "No tile intersections\n",
      "No tile intersections\n",
      "No tile intersections\n",
      "No tile intersections\n",
      "No tile intersections\n",
      "No tile intersections\n",
      "No tile intersections\n",
      "No tile intersections\n",
      "No tile intersections\n",
      "No tile intersections\n",
      "No tile intersections\n",
      "No tile intersections\n",
      "No tile intersections\n",
      "No tile intersections\n",
      "No tile intersections\n",
      "No tile intersections\n",
      "No tile intersections\n",
      "No tile intersections\n",
      "No tile intersections\n",
      "No tile intersections\n",
      "No tile intersections\n",
      "No tile intersections\n",
      "No tile intersections\n",
      "No tile intersections\n",
      "No tile intersections\n",
      "No tile intersections\n"
     ]
    },
    {
     "name": "stderr",
     "output_type": "stream",
     "text": [
      " 26%|██▌       | 609/2338 [00:00<00:02, 846.25it/s] "
     ]
    },
    {
     "name": "stdout",
     "output_type": "stream",
     "text": [
      "No tile intersections\n",
      "No tile intersections\n",
      "No tile intersections\n",
      "No tile intersections\n",
      "No tile intersections\n",
      "No tile intersections\n",
      "No tile intersections\n",
      "No tile intersections\n",
      "No tile intersections\n",
      "No tile intersections\n",
      "No tile intersections\n",
      "No tile intersections\n",
      "No tile intersections\n",
      "No tile intersections\n",
      "No tile intersections\n",
      "No tile intersections\n",
      "No tile intersections\n",
      "No tile intersections\n",
      "No tile intersections\n",
      "No tile intersections\n",
      "No tile intersections\n",
      "No tile intersections\n",
      "No tile intersections\n",
      "No tile intersections\n",
      "No tile intersections\n",
      "No tile intersections\n",
      "No tile intersections\n",
      "No tile intersections\n",
      "No tile intersections\n",
      "No tile intersections\n"
     ]
    },
    {
     "name": "stderr",
     "output_type": "stream",
     "text": [
      "100%|██████████| 2338/2338 [00:05<00:00, 430.41it/s]\n"
     ]
    },
    {
     "name": "stdout",
     "output_type": "stream",
     "text": [
      "No tile intersections\n",
      "No tile intersections\n",
      "No tile intersections\n",
      "No tile intersections\n",
      "No tile intersections\n",
      "No tile intersections\n",
      "No tile intersections\n"
     ]
    },
    {
     "name": "stderr",
     "output_type": "stream",
     "text": [
      "100%|██████████| 4/4 [00:00<00:00, 1333.64it/s]\n",
      "  8%|▊         | 114/1476 [00:00<00:01, 1139.93it/s]"
     ]
    },
    {
     "name": "stdout",
     "output_type": "stream",
     "text": [
      "No tile intersections\n",
      "No tile intersections\n",
      "No tile intersections\n"
     ]
    },
    {
     "name": "stderr",
     "output_type": "stream",
     "text": [
      " 15%|█▌        | 228/1476 [00:00<00:01, 936.14it/s] "
     ]
    },
    {
     "name": "stdout",
     "output_type": "stream",
     "text": [
      "No tile intersections\n",
      "No tile intersections\n",
      "No tile intersections\n",
      "No tile intersections\n",
      "No tile intersections\n",
      "No tile intersections\n",
      "No tile intersections\n",
      "No tile intersections\n",
      "No tile intersections\n"
     ]
    },
    {
     "name": "stderr",
     "output_type": "stream",
     "text": [
      " 35%|███▌      | 518/1476 [00:00<00:01, 925.24it/s]"
     ]
    },
    {
     "name": "stdout",
     "output_type": "stream",
     "text": [
      "No tile intersections\n",
      "No tile intersections\n",
      "No tile intersections\n",
      "No tile intersections\n",
      "No tile intersections\n",
      "No tile intersections\n",
      "No tile intersections\n",
      "No tile intersections\n",
      "No tile intersections\n",
      "No tile intersections\n",
      "No tile intersections\n",
      "No tile intersections\n",
      "No tile intersections\n",
      "No tile intersections\n",
      "No tile intersections\n",
      "No tile intersections\n"
     ]
    },
    {
     "name": "stderr",
     "output_type": "stream",
     "text": [
      " 41%|████▏     | 612/1476 [00:00<00:01, 835.85it/s]"
     ]
    },
    {
     "name": "stdout",
     "output_type": "stream",
     "text": [
      "No tile intersections\n",
      "No tile intersections\n",
      "No tile intersections\n"
     ]
    },
    {
     "name": "stderr",
     "output_type": "stream",
     "text": [
      " 53%|█████▎    | 780/1476 [00:00<00:00, 771.35it/s]"
     ]
    },
    {
     "name": "stdout",
     "output_type": "stream",
     "text": [
      "No tile intersections\n",
      "No tile intersections\n",
      "No tile intersections\n",
      "No tile intersections\n",
      "No tile intersections\n",
      "No tile intersections\n",
      "No tile intersections\n",
      "No tile intersections\n",
      "No tile intersections\n",
      "No tile intersections\n",
      "No tile intersections\n",
      "No tile intersections\n",
      "No tile intersections\n",
      "No tile intersections\n",
      "No tile intersections\n",
      "No tile intersections\n",
      "No tile intersections\n",
      "No tile intersections\n"
     ]
    },
    {
     "name": "stderr",
     "output_type": "stream",
     "text": [
      " 63%|██████▎   | 932/1476 [00:01<00:00, 675.24it/s]"
     ]
    },
    {
     "name": "stdout",
     "output_type": "stream",
     "text": [
      "No tile intersections\n",
      "No tile intersections\n",
      "No tile intersections\n",
      "No tile intersections\n",
      "No tile intersections\n",
      "No tile intersections\n",
      "No tile intersections\n"
     ]
    },
    {
     "name": "stderr",
     "output_type": "stream",
     "text": [
      " 76%|███████▌  | 1116/1476 [00:01<00:00, 514.97it/s]"
     ]
    },
    {
     "name": "stdout",
     "output_type": "stream",
     "text": [
      "No tile intersections\n",
      "No tile intersections\n",
      "No tile intersections\n",
      "No tile intersections\n",
      "No tile intersections\n"
     ]
    },
    {
     "name": "stderr",
     "output_type": "stream",
     "text": [
      " 83%|████████▎ | 1227/1476 [00:01<00:00, 517.10it/s]"
     ]
    },
    {
     "name": "stdout",
     "output_type": "stream",
     "text": [
      "No tile intersections\n",
      "No tile intersections\n",
      "No tile intersections\n",
      "No tile intersections\n",
      "No tile intersections\n",
      "No tile intersections\n",
      "No tile intersections\n",
      "No tile intersections\n",
      "No tile intersections\n"
     ]
    },
    {
     "name": "stderr",
     "output_type": "stream",
     "text": [
      " 91%|█████████ | 1339/1476 [00:02<00:00, 518.80it/s]"
     ]
    },
    {
     "name": "stdout",
     "output_type": "stream",
     "text": [
      "No tile intersections\n",
      "No tile intersections\n",
      "No tile intersections\n",
      "No tile intersections\n",
      "No tile intersections\n",
      "No tile intersections\n",
      "No tile intersections\n",
      "No tile intersections\n",
      "No tile intersections\n",
      "No tile intersections\n"
     ]
    },
    {
     "name": "stderr",
     "output_type": "stream",
     "text": [
      "100%|██████████| 1476/1476 [00:02<00:00, 633.69it/s]\n"
     ]
    },
    {
     "name": "stdout",
     "output_type": "stream",
     "text": [
      "No tile intersections\n"
     ]
    },
    {
     "name": "stderr",
     "output_type": "stream",
     "text": [
      "100%|██████████| 6/6 [00:00<00:00, 999.44it/s]\n",
      "100%|██████████| 135/135 [00:00<00:00, 1153.74it/s]\n"
     ]
    },
    {
     "name": "stdout",
     "output_type": "stream",
     "text": [
      "No tile intersections\n",
      "No tile intersections\n",
      "No tile intersections\n",
      "No tile intersections\n",
      "No tile intersections\n",
      "No tile intersections\n"
     ]
    },
    {
     "name": "stderr",
     "output_type": "stream",
     "text": [
      "100%|██████████| 478/478 [00:00<00:00, 1191.91it/s]\n"
     ]
    }
   ],
   "source": [
    "hifld_file_pathways = ap.lons_lat_to_filepaths(hifld_lons, hifld_lats, index)\n",
    "eia_spr_file_pathways = ap.lons_lat_to_filepaths(eia_spr_lons, eia_spr_lats, index)\n",
    "eia_ppt_file_pathways = ap.lons_lat_to_filepaths(eia_ppt_lons, eia_ppt_lats, index)\n",
    "eia_npr_file_pathways = ap.lons_lat_to_filepaths(eia_npr_lons, eia_npr_lats, index)\n",
    "eia_pr_file_pathways = ap.lons_lat_to_filepaths(eia_pr_lons, eia_pr_lats, index)\n",
    "eia_ngpp_file_pathways = ap.lons_lat_to_filepaths(eia_ngpp_lons, eia_ngpp_lats, index)\n",
    "\n",
    "#filepathways \n",
    "petrol_file_pathways = np.vstack((hifld_file_pathways, eia_spr_file_pathways, eia_ppt_file_pathways, eia_npr_file_pathways,\n",
    "                                  eia_pr_file_pathways, eia_ngpp_file_pathways)) #combine filepaths from multiple sources\n",
    "\n",
    "petrol_file_pathways = np.unique(petrol_file_pathways, axis=0) #remove duplicates"
   ]
  },
  {
   "cell_type": "code",
   "execution_count": 11,
   "metadata": {},
   "outputs": [],
   "source": [
    "#tile names and urls \n",
    "tile_name_eia_hifld, tile_url_eia_hifld = ap.filepaths_to_tile_name_tile_url(petrol_file_pathways)\n",
    "tile_name_tile_url_eia_hifld = np.column_stack((tile_name_eia_hifld, tile_url_eia_hifld))"
   ]
  },
  {
   "cell_type": "code",
   "execution_count": 12,
   "metadata": {},
   "outputs": [
    {
     "data": {
      "text/plain": [
       "(2452, 2)"
      ]
     },
     "execution_count": 12,
     "metadata": {},
     "output_type": "execute_result"
    }
   ],
   "source": [
    "tile_name_tile_url_eia_hifld.shape"
   ]
  },
  {
   "cell_type": "markdown",
   "metadata": {},
   "source": [
    "# Group Identified ASTs"
   ]
  },
  {
   "cell_type": "code",
   "execution_count": 22,
   "metadata": {},
   "outputs": [
    {
     "name": "stdout",
     "output_type": "stream",
     "text": [
      "91\n"
     ]
    },
    {
     "name": "stderr",
     "output_type": "stream",
     "text": [
      "100%|██████████| 91/91 [00:00<00:00, 1123.40it/s]\n"
     ]
    },
    {
     "name": "stdout",
     "output_type": "stream",
     "text": [
      "No tile intersections\n",
      "No tile intersections\n",
      "No tile intersections\n",
      "No tile intersections\n",
      "No tile intersections\n"
     ]
    },
    {
     "name": "stderr",
     "output_type": "stream",
     "text": [
      "100%|██████████| 91/91 [00:00<00:00, 1358.06it/s]"
     ]
    },
    {
     "name": "stdout",
     "output_type": "stream",
     "text": [
      "No tile intersections\n",
      "No tile intersections\n",
      "No tile intersections\n",
      "No tile intersections\n",
      "No tile intersections\n"
     ]
    },
    {
     "name": "stderr",
     "output_type": "stream",
     "text": [
      "\n"
     ]
    },
    {
     "data": {
      "text/plain": [
       "(68, 2)"
      ]
     },
     "execution_count": 22,
     "metadata": {},
     "output_type": "execute_result"
    }
   ],
   "source": [
    "group_identified_sites = pd.read_csv(\"image_download_azure/identified_sites.csv\") #read in sheet of quadrangles\n",
    "group_identified_sites_lat = group_identified_sites[\"Lat\"].tolist()\n",
    "group_identified_sites_lon = group_identified_sites[\"Lon\"].tolist()\n",
    "assert len(group_identified_sites_lat) == len(group_identified_sites_lat)\n",
    "print(len(group_identified_sites_lat))\n",
    "len(ap.lons_lat_to_filepaths(group_identified_sites_lon, group_identified_sites_lat, index))\n",
    "\n",
    "group_identified_sites_file_pathways = ap.lons_lat_to_filepaths(group_identified_sites_lon, group_identified_sites_lat, index)\n",
    "tile_name_tile_url_group_identified_sites = ap.filepaths_to_tile_name_tile_url(group_identified_sites_file_pathways)\n",
    "tile_name_tile_url_group_identified_sites = np.array((tile_name_tile_url_group_identified_sites)).T\n",
    "tile_name_tile_url_group_identified_sites.shape"
   ]
  },
  {
   "cell_type": "markdown",
   "metadata": {},
   "source": [
    "### Thirty Ports"
   ]
  },
  {
   "cell_type": "code",
   "execution_count": 23,
   "metadata": {},
   "outputs": [
    {
     "data": {
      "text/plain": [
       "(148, 2)"
      ]
     },
     "execution_count": 23,
     "metadata": {},
     "output_type": "execute_result"
    }
   ],
   "source": [
    "thirty_port_quads = pd.read_csv(\"image_download_azure/Quadrangles_of_interest.csv\") #read in sheet of quadrangles\n",
    "\n",
    "tile_name_thirty_ports, tile_url_thirty_ports = ap.collected_quads_to_tile_name_tile_url(thirty_port_quads) # identify filespaths/urls for quads of interest\n",
    "\n",
    "tile_name_tile_url_thirty_ports = np.column_stack((tile_name_thirty_ports, tile_url_thirty_ports))\n",
    "tile_name_tile_url_thirty_ports.shape"
   ]
  },
  {
   "cell_type": "markdown",
   "metadata": {},
   "source": [
    "### Combine Filepaths from group identified sources "
   ]
  },
  {
   "cell_type": "code",
   "execution_count": 24,
   "metadata": {},
   "outputs": [
    {
     "name": "stdout",
     "output_type": "stream",
     "text": [
      "(216, 2)\n",
      "(216, 2)\n"
     ]
    }
   ],
   "source": [
    "all_group_identified_sites = np.vstack((tile_name_tile_url_group_identified_sites, tile_name_tile_url_thirty_ports))\n",
    "print(all_group_identified_sites.shape)\n",
    "\n",
    "all_group_identified_sites = np.unique(all_group_identified_sites, axis=0) #remove duplicates\n",
    "print(all_group_identified_sites.shape)"
   ]
  },
  {
   "cell_type": "markdown",
   "metadata": {},
   "source": [
    "# Combine tile names and urls from all identified sources "
   ]
  },
  {
   "cell_type": "code",
   "execution_count": 25,
   "metadata": {},
   "outputs": [
    {
     "name": "stdout",
     "output_type": "stream",
     "text": [
      "(2668, 2)\n",
      "(2610, 2)\n"
     ]
    }
   ],
   "source": [
    "tile_name_tile_url_eia_hifld_group_identified_sites = np.vstack((tile_name_tile_url_eia_hifld, all_group_identified_sites))\n",
    "print(tile_name_tile_url_eia_hifld_group_identified_sites.shape)\n",
    "tile_name_tile_url_eia_hifld_group_identified_sites = np.unique(tile_name_tile_url_eia_hifld_group_identified_sites, axis=0) #remove duplicates\n",
    "print(tile_name_tile_url_eia_hifld_group_identified_sites.shape)"
   ]
  },
  {
   "cell_type": "markdown",
   "metadata": {},
   "source": [
    "# Save tile name and url"
   ]
  },
  {
   "cell_type": "code",
   "execution_count": 26,
   "metadata": {},
   "outputs": [],
   "source": [
    "# save array Get array of the data (all tile names and urls)\n",
    "np.save(\"image_download_azure/tile_name_tile_url_complete_array\", tile_name_tile_url_eia_hifld_group_identified_sites)"
   ]
  },
  {
   "cell_type": "code",
   "execution_count": 49,
   "metadata": {},
   "outputs": [
    {
     "name": "stdout",
     "output_type": "stream",
     "text": [
      "(2488, 2)\n",
      "(2610, 2)\n",
      "(2529, 2)\n"
     ]
    }
   ],
   "source": [
    "#Determine the additional tiles\n",
    "tile_name_tile_url_current_set = np.load('tile_name_tile_url_labeled.npy')\n",
    "print(tile_name_tile_url_current_set.shape)\n",
    "print(tile_name_tile_url_eia_hifld_group_identified_sites.shape)\n",
    "dif = np.array(list(set(map(tuple, tile_name_tile_url_eia_hifld_group_identified_sites)) - set(map(tuple, tile_name_tile_url_current_set))))\n",
    "print(dif.shape)\n",
    "\n",
    "#save only the tiles that were not originally included in the assessment set\n",
    "#np.save(\"image_download_azure/tile_name_tile_url_expanded_only\", dif)"
   ]
  },
  {
   "cell_type": "code",
   "execution_count": 34,
   "metadata": {},
   "outputs": [
    {
     "name": "stdout",
     "output_type": "stream",
     "text": [
      "(2514, 2)\n",
      "(2610, 2)\n",
      "(0, 2)\n"
     ]
    }
   ],
   "source": [
    "labeled = np.load(\"tile_name_tile_url_labeled.npy\")\n",
    "print(labeled.shape)\n",
    "#current_set_full = np.load(\"image_download_azure/tile_name_tile_url_eia_hifld_thirty_ports.npy\")\n",
    "#print(current_set_full.shape)\n",
    "#current_remaining = np.load(\"tile_name_tile_url_remaining_expanded.npy\")\n",
    "#print(current_remaining.shape)"
   ]
  },
  {
   "cell_type": "code",
   "execution_count": 40,
   "metadata": {},
   "outputs": [
    {
     "data": {
      "text/plain": [
       "2581"
      ]
     },
     "execution_count": 40,
     "metadata": {},
     "output_type": "execute_result"
    }
   ],
   "source": [
    "2514 + 67 \n",
    "#np.load(\"tile_name_tile_url_error_downloading.npy\")"
   ]
  },
  {
   "cell_type": "code",
   "execution_count": 52,
   "metadata": {},
   "outputs": [],
   "source": [
    "#get the indicies for the remaining tiles that need to be annotated\n",
    "\n",
    "#create a set of indicies for the expanded full dataset\n",
    "index_expanded_full = list(range(len(expanded_full)-1))\n",
    "index_expanded_full = set(index_expanded_full)\n",
    "\n",
    "#determine the indicies of the tiles that have already been labeled in the expanded_full array\n",
    "index_labeled = []\n",
    "for i in range(len(labeled)):\n",
    "    ismember = [row==labeled[i] for row in expanded_full.tolist()]\n",
    "    index_labeled = index_labeled + np.where(ismember)[0].tolist()\n",
    "index_labeled = set(index_labeled)\n",
    "\n",
    "#determine the indices for the remaining tiles,(i.e., the difference between the expanded and labeled arrays)\n",
    "remaining = index_expanded_full.difference(index) #(A - B)\n",
    "remaining = list(remaining)\n",
    "#len(remaining)"
   ]
  },
  {
   "cell_type": "code",
   "execution_count": 57,
   "metadata": {},
   "outputs": [],
   "source": [
    "#update the remaining array \n",
    "#current_remaining = np.concatenate((current_remaining, expanded_full[remaining]), axis=0)\n",
    "#np.save(\"tile_name_tile_url_remaining_expanded.npy\", current_remaining)\n",
    "\n",
    "current_remaining = np.load(\"tile_name_tile_url_remaining_expanded.npy\")\n",
    "print(current_remaining.shape)"
   ]
  },
  {
   "cell_type": "code",
   "execution_count": 58,
   "metadata": {},
   "outputs": [
    {
     "name": "stdout",
     "output_type": "stream",
     "text": [
      "(25, 2)\n"
     ]
    }
   ],
   "source": [
    "print(current_remaining.shape)"
   ]
  },
  {
   "cell_type": "code",
   "execution_count": 60,
   "metadata": {},
   "outputs": [
    {
     "data": {
      "text/plain": [
       "47"
      ]
     },
     "execution_count": 60,
     "metadata": {},
     "output_type": "execute_result"
    }
   ],
   "source": [
    "states = []\n",
    "for tile in expanded_full[:,1]:\n",
    "    states.append(tile.split(\"/\")[5])\n",
    "len(np.unique(np.array(states)))"
   ]
  }
 ],
 "metadata": {
  "kernelspec": {
   "display_name": "Chip Allocate",
   "language": "python",
   "name": "chip_allocate"
  },
  "language_info": {
   "codemirror_mode": {
    "name": "ipython",
    "version": 3
   },
   "file_extension": ".py",
   "mimetype": "text/x-python",
   "name": "python",
   "nbconvert_exporter": "python",
   "pygments_lexer": "ipython3",
   "version": "3.9.7"
  }
 },
 "nbformat": 4,
 "nbformat_minor": 4
}
